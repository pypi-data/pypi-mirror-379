{
 "cells": [
  {
   "cell_type": "code",
   "execution_count": 1,
   "id": "161942a1",
   "metadata": {
    "ExecuteTime": {
     "end_time": "2023-03-21T00:44:41.713618Z",
     "start_time": "2023-03-21T00:44:41.684289Z"
    }
   },
   "outputs": [],
   "source": [
    "%load_ext autoreload\n",
    "%autoreload 2"
   ]
  },
  {
   "cell_type": "markdown",
   "id": "b27c9f26",
   "metadata": {},
   "source": [
    "# For Stack\n",
    "\n",
    "Generate mock responses"
   ]
  },
  {
   "cell_type": "code",
   "execution_count": 2,
   "id": "a3e5e565",
   "metadata": {
    "ExecuteTime": {
     "end_time": "2023-03-21T00:44:43.650749Z",
     "start_time": "2023-03-21T00:44:41.716448Z"
    }
   },
   "outputs": [],
   "source": [
    "from s1_frame_enumerator import S1Frame, query_slc_metadata_over_frame, format_results_for_sent1_stack, frames2gdf\n",
    "import json\n",
    "import matplotlib.pyplot as plt\n",
    "import geopandas as gpd"
   ]
  },
  {
   "cell_type": "code",
   "execution_count": 3,
   "id": "435e792a",
   "metadata": {
    "ExecuteTime": {
     "end_time": "2023-03-21T00:44:43.687820Z",
     "start_time": "2023-03-21T00:44:43.652578Z"
    }
   },
   "outputs": [],
   "source": [
    "def generate_mock_data(frame_id):\n",
    "    frame = S1Frame(frame_id)\n",
    "    result = query_slc_metadata_over_frame(frame)\n",
    "    out_path = f'frame_{frame_id}_asf_results.json'\n",
    "    json.dump(result, open(out_path, 'w'))\n",
    "    return out_path"
   ]
  },
  {
   "cell_type": "code",
   "execution_count": 26,
   "id": "7c40cf74",
   "metadata": {
    "ExecuteTime": {
     "end_time": "2023-03-21T00:44:43.725538Z",
     "start_time": "2023-03-21T00:44:43.690704Z"
    }
   },
   "outputs": [
    {
     "data": {
      "text/plain": [
       "'frame_9848_asf_results.json'"
      ]
     },
     "execution_count": 26,
     "metadata": {},
     "output_type": "execute_result"
    }
   ],
   "source": [
    "# generate_mock_data(13403)\n",
    "# generate_mock_data(13404)\n",
    "# generate_mock_data(9847)\n",
    "# generate_mock_data(9848)"
   ]
  },
  {
   "cell_type": "markdown",
   "id": "c468b701",
   "metadata": {},
   "source": [
    "## Coverage Tests"
   ]
  },
  {
   "cell_type": "code",
   "execution_count": 5,
   "id": "1240894b",
   "metadata": {
    "ExecuteTime": {
     "end_time": "2023-03-21T00:45:24.614713Z",
     "start_time": "2023-03-21T00:44:43.727537Z"
    }
   },
   "outputs": [],
   "source": [
    "frame_0 = S1Frame(9847)\n",
    "frame_1 = S1Frame(9848)\n",
    "frame_2 = S1Frame(9849)\n",
    "\n",
    "frames = [frame_0, frame_1, frame_2]"
   ]
  },
  {
   "cell_type": "code",
   "execution_count": 6,
   "id": "5ebbbe98",
   "metadata": {
    "ExecuteTime": {
     "end_time": "2023-03-21T00:45:24.658556Z",
     "start_time": "2023-03-21T00:45:24.616586Z"
    }
   },
   "outputs": [],
   "source": [
    "df_frames = frames2gdf(frames)\n",
    "df_frames_extents = frames2gdf(frames, use_footprint_geometry=True)"
   ]
  },
  {
   "cell_type": "markdown",
   "id": "6e44a33d",
   "metadata": {},
   "source": [
    "### NOTE: We are only using a response from 2 of the 3 Frames for illustration"
   ]
  },
  {
   "cell_type": "code",
   "execution_count": 7,
   "id": "e3972513",
   "metadata": {
    "ExecuteTime": {
     "end_time": "2023-03-21T00:45:28.684589Z",
     "start_time": "2023-03-21T00:45:24.660416Z"
    }
   },
   "outputs": [],
   "source": [
    "resp_test_0 = query_slc_metadata_over_frame(frame_0, start_time='2021-09-14', stop_time='2021-09-16')\n",
    "resp_test_1 = query_slc_metadata_over_frame(frame_1, start_time='2021-09-14', stop_time='2021-09-16')\n",
    "resp = resp_test_0 + resp_test_1"
   ]
  },
  {
   "cell_type": "code",
   "execution_count": 8,
   "id": "65d46a7b",
   "metadata": {
    "ExecuteTime": {
     "end_time": "2023-03-21T00:45:28.723380Z",
     "start_time": "2023-03-21T00:45:28.686433Z"
    }
   },
   "outputs": [],
   "source": [
    "out_path = 'CA-subset_2021-09-14_asf_results.json'\n",
    "json.dump(resp, open(out_path, 'w'))"
   ]
  },
  {
   "cell_type": "code",
   "execution_count": 9,
   "id": "4bc3c76a",
   "metadata": {
    "ExecuteTime": {
     "end_time": "2023-03-21T00:45:28.792335Z",
     "start_time": "2023-03-21T00:45:28.724595Z"
    }
   },
   "outputs": [
    {
     "data": {
      "text/html": [
       "<div>\n",
       "<style scoped>\n",
       "    .dataframe tbody tr th:only-of-type {\n",
       "        vertical-align: middle;\n",
       "    }\n",
       "\n",
       "    .dataframe tbody tr th {\n",
       "        vertical-align: top;\n",
       "    }\n",
       "\n",
       "    .dataframe thead th {\n",
       "        text-align: right;\n",
       "    }\n",
       "</style>\n",
       "<table border=\"1\" class=\"dataframe\">\n",
       "  <thead>\n",
       "    <tr style=\"text-align: right;\">\n",
       "      <th></th>\n",
       "      <th>slc_id</th>\n",
       "      <th>start_time</th>\n",
       "      <th>stop_time</th>\n",
       "      <th>url</th>\n",
       "      <th>track_number</th>\n",
       "      <th>polarization</th>\n",
       "      <th>orbit</th>\n",
       "      <th>beam_mode</th>\n",
       "      <th>size_gb</th>\n",
       "      <th>flight_direction</th>\n",
       "      <th>stack_repeat_pass_id</th>\n",
       "      <th>repeat_pass_timestamp</th>\n",
       "      <th>geometry</th>\n",
       "    </tr>\n",
       "  </thead>\n",
       "  <tbody>\n",
       "    <tr>\n",
       "      <th>0</th>\n",
       "      <td>S1A_IW_SLC__1SDV_20210915T015012_20210915T0150...</td>\n",
       "      <td>2021-09-15 01:50:12.165000+00:00</td>\n",
       "      <td>2021-09-15 01:50:41.995000+00:00</td>\n",
       "      <td>https://datapool.asf.alaska.edu/SLC/SA/S1A_IW_...</td>\n",
       "      <td>64</td>\n",
       "      <td>VV+VH</td>\n",
       "      <td>39686</td>\n",
       "      <td>IW</td>\n",
       "      <td>4.664399</td>\n",
       "      <td>ASCENDING</td>\n",
       "      <td>0</td>\n",
       "      <td>2021-09-15 00:00:00+00:00</td>\n",
       "      <td>POLYGON ((-118.83274 33.98350, -118.41847 32.1...</td>\n",
       "    </tr>\n",
       "    <tr>\n",
       "      <th>1</th>\n",
       "      <td>S1A_IW_SLC__1SDV_20210915T015039_20210915T0151...</td>\n",
       "      <td>2021-09-15 01:50:39.756000+00:00</td>\n",
       "      <td>2021-09-15 01:51:07.648000+00:00</td>\n",
       "      <td>https://datapool.asf.alaska.edu/SLC/SA/S1A_IW_...</td>\n",
       "      <td>64</td>\n",
       "      <td>VV+VH</td>\n",
       "      <td>39686</td>\n",
       "      <td>IW</td>\n",
       "      <td>4.418194</td>\n",
       "      <td>ASCENDING</td>\n",
       "      <td>0</td>\n",
       "      <td>2021-09-15 00:00:00+00:00</td>\n",
       "      <td>POLYGON ((-119.19943 35.52710, -118.80479 33.8...</td>\n",
       "    </tr>\n",
       "  </tbody>\n",
       "</table>\n",
       "</div>"
      ],
      "text/plain": [
       "                                              slc_id  \\\n",
       "0  S1A_IW_SLC__1SDV_20210915T015012_20210915T0150...   \n",
       "1  S1A_IW_SLC__1SDV_20210915T015039_20210915T0151...   \n",
       "\n",
       "                        start_time                        stop_time  \\\n",
       "0 2021-09-15 01:50:12.165000+00:00 2021-09-15 01:50:41.995000+00:00   \n",
       "1 2021-09-15 01:50:39.756000+00:00 2021-09-15 01:51:07.648000+00:00   \n",
       "\n",
       "                                                 url  track_number  \\\n",
       "0  https://datapool.asf.alaska.edu/SLC/SA/S1A_IW_...            64   \n",
       "1  https://datapool.asf.alaska.edu/SLC/SA/S1A_IW_...            64   \n",
       "\n",
       "  polarization  orbit beam_mode   size_gb flight_direction  \\\n",
       "0        VV+VH  39686        IW  4.664399        ASCENDING   \n",
       "1        VV+VH  39686        IW  4.418194        ASCENDING   \n",
       "\n",
       "   stack_repeat_pass_id     repeat_pass_timestamp  \\\n",
       "0                     0 2021-09-15 00:00:00+00:00   \n",
       "1                     0 2021-09-15 00:00:00+00:00   \n",
       "\n",
       "                                            geometry  \n",
       "0  POLYGON ((-118.83274 33.98350, -118.41847 32.1...  \n",
       "1  POLYGON ((-119.19943 35.52710, -118.80479 33.8...  "
      ]
     },
     "execution_count": 9,
     "metadata": {},
     "output_type": "execute_result"
    }
   ],
   "source": [
    "df_resp = format_results_for_sent1_stack(resp)\n",
    "df_resp.head()"
   ]
  },
  {
   "cell_type": "code",
   "execution_count": 10,
   "id": "1727a4ad",
   "metadata": {
    "ExecuteTime": {
     "end_time": "2023-03-21T00:45:29.143425Z",
     "start_time": "2023-03-21T00:45:28.795742Z"
    }
   },
   "outputs": [
    {
     "name": "stderr",
     "output_type": "stream",
     "text": [
      "/var/folders/0p/d5x2m4tx5kg1246bplsvyfyh0000gq/T/ipykernel_51571/1224061627.py:2: FutureWarning: The geopandas.dataset module is deprecated and will be removed in GeoPandas 1.0. You can get the original 'naturalearth_lowres' data from https://www.naturalearthdata.com/downloads/110m-cultural-vectors/.\n",
      "  df_world = gpd.read_file(gpd.datasets.get_path('naturalearth_lowres'))\n"
     ]
    },
    {
     "data": {
      "text/plain": [
       "(31.21359933194077, 36.70334208606267)"
      ]
     },
     "execution_count": 10,
     "metadata": {},
     "output_type": "execute_result"
    },
    {
     "data": {
      "image/png": "[encoded data removed]",
      "text/plain": [
       "<Figure size 640x480 with 1 Axes>"
      ]
     },
     "metadata": {},
     "output_type": "display_data"
    }
   ],
   "source": [
    "fig, ax = plt.subplots()\n",
    "df_world = gpd.read_file(gpd.datasets.get_path('naturalearth_lowres'))\n",
    "df_world.boundary.plot(ax=ax)\n",
    "df_resp.boundary.plot(ax=ax)\n",
    "#df_frames.boundary.plot(ax=ax, alpha=.25)\n",
    "df_frames_extents.boundary.plot(ax=ax, alpha=.5, color='black')\n",
    "\n",
    "xmin, ymin, xmax, ymax = df_frames.total_bounds\n",
    "ax.set_xlim(xmin - 1, xmax + 1)\n",
    "ax.set_ylim(ymin - 1, ymax + 1)"
   ]
  },
  {
   "cell_type": "code",
   "execution_count": 11,
   "id": "70605261",
   "metadata": {
    "ExecuteTime": {
     "end_time": "2023-03-21T00:45:29.183260Z",
     "start_time": "2023-03-21T00:45:29.145210Z"
    }
   },
   "outputs": [],
   "source": [
    "from s1_frame_enumerator.s1_stack import filter_s1_stack_by_geometric_coverage_per_frame, filter_s1_stack_by_geometric_coverage_per_pass"
   ]
  },
  {
   "cell_type": "code",
   "execution_count": 12,
   "id": "a0f2d0f1",
   "metadata": {
    "ExecuteTime": {
     "end_time": "2023-03-21T00:45:29.240606Z",
     "start_time": "2023-03-21T00:45:29.185106Z"
    }
   },
   "outputs": [
    {
     "data": {
      "text/html": [
       "<div>\n",
       "<style scoped>\n",
       "    .dataframe tbody tr th:only-of-type {\n",
       "        vertical-align: middle;\n",
       "    }\n",
       "\n",
       "    .dataframe tbody tr th {\n",
       "        vertical-align: top;\n",
       "    }\n",
       "\n",
       "    .dataframe thead th {\n",
       "        text-align: right;\n",
       "    }\n",
       "</style>\n",
       "<table border=\"1\" class=\"dataframe\">\n",
       "  <thead>\n",
       "    <tr style=\"text-align: right;\">\n",
       "      <th></th>\n",
       "      <th>slc_id</th>\n",
       "      <th>start_time</th>\n",
       "      <th>stop_time</th>\n",
       "      <th>url</th>\n",
       "      <th>track_number</th>\n",
       "      <th>polarization</th>\n",
       "      <th>orbit</th>\n",
       "      <th>beam_mode</th>\n",
       "      <th>size_gb</th>\n",
       "      <th>flight_direction</th>\n",
       "      <th>stack_repeat_pass_id</th>\n",
       "      <th>repeat_pass_timestamp</th>\n",
       "      <th>geometry</th>\n",
       "    </tr>\n",
       "  </thead>\n",
       "  <tbody>\n",
       "    <tr>\n",
       "      <th>0</th>\n",
       "      <td>S1A_IW_SLC__1SDV_20210915T015012_20210915T0150...</td>\n",
       "      <td>2021-09-15 01:50:12.165000+00:00</td>\n",
       "      <td>2021-09-15 01:50:41.995000+00:00</td>\n",
       "      <td>https://datapool.asf.alaska.edu/SLC/SA/S1A_IW_...</td>\n",
       "      <td>64</td>\n",
       "      <td>VV+VH</td>\n",
       "      <td>39686</td>\n",
       "      <td>IW</td>\n",
       "      <td>4.664399</td>\n",
       "      <td>ASCENDING</td>\n",
       "      <td>0</td>\n",
       "      <td>2021-09-15 00:00:00+00:00</td>\n",
       "      <td>POLYGON ((-118.83274 33.98350, -118.41847 32.1...</td>\n",
       "    </tr>\n",
       "    <tr>\n",
       "      <th>1</th>\n",
       "      <td>S1A_IW_SLC__1SDV_20210915T015039_20210915T0151...</td>\n",
       "      <td>2021-09-15 01:50:39.756000+00:00</td>\n",
       "      <td>2021-09-15 01:51:07.648000+00:00</td>\n",
       "      <td>https://datapool.asf.alaska.edu/SLC/SA/S1A_IW_...</td>\n",
       "      <td>64</td>\n",
       "      <td>VV+VH</td>\n",
       "      <td>39686</td>\n",
       "      <td>IW</td>\n",
       "      <td>4.418194</td>\n",
       "      <td>ASCENDING</td>\n",
       "      <td>0</td>\n",
       "      <td>2021-09-15 00:00:00+00:00</td>\n",
       "      <td>POLYGON ((-119.19943 35.52710, -118.80479 33.8...</td>\n",
       "    </tr>\n",
       "  </tbody>\n",
       "</table>\n",
       "</div>"
      ],
      "text/plain": [
       "                                              slc_id  \\\n",
       "0  S1A_IW_SLC__1SDV_20210915T015012_20210915T0150...   \n",
       "1  S1A_IW_SLC__1SDV_20210915T015039_20210915T0151...   \n",
       "\n",
       "                        start_time                        stop_time  \\\n",
       "0 2021-09-15 01:50:12.165000+00:00 2021-09-15 01:50:41.995000+00:00   \n",
       "1 2021-09-15 01:50:39.756000+00:00 2021-09-15 01:51:07.648000+00:00   \n",
       "\n",
       "                                                 url  track_number  \\\n",
       "0  https://datapool.asf.alaska.edu/SLC/SA/S1A_IW_...            64   \n",
       "1  https://datapool.asf.alaska.edu/SLC/SA/S1A_IW_...            64   \n",
       "\n",
       "  polarization  orbit beam_mode   size_gb flight_direction  \\\n",
       "0        VV+VH  39686        IW  4.664399        ASCENDING   \n",
       "1        VV+VH  39686        IW  4.418194        ASCENDING   \n",
       "\n",
       "   stack_repeat_pass_id     repeat_pass_timestamp  \\\n",
       "0                     0 2021-09-15 00:00:00+00:00   \n",
       "1                     0 2021-09-15 00:00:00+00:00   \n",
       "\n",
       "                                            geometry  \n",
       "0  POLYGON ((-118.83274 33.98350, -118.41847 32.1...  \n",
       "1  POLYGON ((-119.19943 35.52710, -118.80479 33.8...  "
      ]
     },
     "execution_count": 12,
     "metadata": {},
     "output_type": "execute_result"
    }
   ],
   "source": [
    "filter_s1_stack_by_geometric_coverage_per_frame(df_resp, frames, minimum_coverage_ratio_per_frame=.7)"
   ]
  },
  {
   "cell_type": "code",
   "execution_count": 13,
   "id": "6e0038ae",
   "metadata": {
    "ExecuteTime": {
     "end_time": "2023-03-21T00:45:29.487726Z",
     "start_time": "2023-03-21T00:45:29.242273Z"
    }
   },
   "outputs": [
    {
     "data": {
      "text/html": [
       "<div>\n",
       "<style scoped>\n",
       "    .dataframe tbody tr th:only-of-type {\n",
       "        vertical-align: middle;\n",
       "    }\n",
       "\n",
       "    .dataframe tbody tr th {\n",
       "        vertical-align: top;\n",
       "    }\n",
       "\n",
       "    .dataframe thead th {\n",
       "        text-align: right;\n",
       "    }\n",
       "</style>\n",
       "<table border=\"1\" class=\"dataframe\">\n",
       "  <thead>\n",
       "    <tr style=\"text-align: right;\">\n",
       "      <th></th>\n",
       "      <th>slc_id</th>\n",
       "      <th>start_time</th>\n",
       "      <th>stop_time</th>\n",
       "      <th>url</th>\n",
       "      <th>track_number</th>\n",
       "      <th>polarization</th>\n",
       "      <th>orbit</th>\n",
       "      <th>beam_mode</th>\n",
       "      <th>size_gb</th>\n",
       "      <th>flight_direction</th>\n",
       "      <th>stack_repeat_pass_id</th>\n",
       "      <th>repeat_pass_timestamp</th>\n",
       "      <th>geometry</th>\n",
       "    </tr>\n",
       "  </thead>\n",
       "  <tbody>\n",
       "    <tr>\n",
       "      <th>0</th>\n",
       "      <td>S1A_IW_SLC__1SDV_20210915T015012_20210915T0150...</td>\n",
       "      <td>2021-09-15 01:50:12.165000+00:00</td>\n",
       "      <td>2021-09-15 01:50:41.995000+00:00</td>\n",
       "      <td>https://datapool.asf.alaska.edu/SLC/SA/S1A_IW_...</td>\n",
       "      <td>64</td>\n",
       "      <td>VV+VH</td>\n",
       "      <td>39686</td>\n",
       "      <td>IW</td>\n",
       "      <td>4.664399</td>\n",
       "      <td>ASCENDING</td>\n",
       "      <td>0</td>\n",
       "      <td>2021-09-15 00:00:00+00:00</td>\n",
       "      <td>POLYGON ((-118.83274 33.98350, -118.41847 32.1...</td>\n",
       "    </tr>\n",
       "    <tr>\n",
       "      <th>1</th>\n",
       "      <td>S1A_IW_SLC__1SDV_20210915T015039_20210915T0151...</td>\n",
       "      <td>2021-09-15 01:50:39.756000+00:00</td>\n",
       "      <td>2021-09-15 01:51:07.648000+00:00</td>\n",
       "      <td>https://datapool.asf.alaska.edu/SLC/SA/S1A_IW_...</td>\n",
       "      <td>64</td>\n",
       "      <td>VV+VH</td>\n",
       "      <td>39686</td>\n",
       "      <td>IW</td>\n",
       "      <td>4.418194</td>\n",
       "      <td>ASCENDING</td>\n",
       "      <td>0</td>\n",
       "      <td>2021-09-15 00:00:00+00:00</td>\n",
       "      <td>POLYGON ((-119.19943 35.52710, -118.80479 33.8...</td>\n",
       "    </tr>\n",
       "  </tbody>\n",
       "</table>\n",
       "</div>"
      ],
      "text/plain": [
       "                                              slc_id  \\\n",
       "0  S1A_IW_SLC__1SDV_20210915T015012_20210915T0150...   \n",
       "1  S1A_IW_SLC__1SDV_20210915T015039_20210915T0151...   \n",
       "\n",
       "                        start_time                        stop_time  \\\n",
       "0 2021-09-15 01:50:12.165000+00:00 2021-09-15 01:50:41.995000+00:00   \n",
       "1 2021-09-15 01:50:39.756000+00:00 2021-09-15 01:51:07.648000+00:00   \n",
       "\n",
       "                                                 url  track_number  \\\n",
       "0  https://datapool.asf.alaska.edu/SLC/SA/S1A_IW_...            64   \n",
       "1  https://datapool.asf.alaska.edu/SLC/SA/S1A_IW_...            64   \n",
       "\n",
       "  polarization  orbit beam_mode   size_gb flight_direction  \\\n",
       "0        VV+VH  39686        IW  4.664399        ASCENDING   \n",
       "1        VV+VH  39686        IW  4.418194        ASCENDING   \n",
       "\n",
       "   stack_repeat_pass_id     repeat_pass_timestamp  \\\n",
       "0                     0 2021-09-15 00:00:00+00:00   \n",
       "1                     0 2021-09-15 00:00:00+00:00   \n",
       "\n",
       "                                            geometry  \n",
       "0  POLYGON ((-118.83274 33.98350, -118.41847 32.1...  \n",
       "1  POLYGON ((-119.19943 35.52710, -118.80479 33.8...  "
      ]
     },
     "execution_count": 13,
     "metadata": {},
     "output_type": "execute_result"
    }
   ],
   "source": [
    "filter_s1_stack_by_geometric_coverage_per_pass(df_resp, frames, minimum_coverage_per_pass_ratio=.8)"
   ]
  },
  {
   "cell_type": "code",
   "execution_count": 14,
   "id": "b3668b70",
   "metadata": {
    "ExecuteTime": {
     "end_time": "2023-03-21T00:45:29.568265Z",
     "start_time": "2023-03-21T00:45:29.530682Z"
    }
   },
   "outputs": [
    {
     "data": {
      "text/plain": [
       "[0.7539624108151928, 0.9953821190274593, 0.9042819450896814]"
      ]
     },
     "execution_count": 14,
     "metadata": {},
     "output_type": "execute_result"
    }
   ],
   "source": [
    "pass_geometry = df_resp.geometry.unary_union\n",
    "ratio_frame_int = [pass_geometry.intersection(f.footprint_geometry).area / f.footprint_geometry.area for f in frames]\n",
    "ratio_frame_int"
   ]
  },
  {
   "cell_type": "code",
   "execution_count": 15,
   "id": "c4e22b7b",
   "metadata": {
    "ExecuteTime": {
     "end_time": "2023-03-21T00:45:29.607422Z",
     "start_time": "2023-03-21T00:45:29.570026Z"
    }
   },
   "outputs": [
    {
     "data": {
      "text/plain": [
       "0.9357051337271376"
      ]
     },
     "execution_count": 15,
     "metadata": {},
     "output_type": "execute_result"
    }
   ],
   "source": [
    "frame_union = df_frames.geometry.unary_union\n",
    "int_geo = (frame_union).intersection(df_resp.geometry.unary_union)\n",
    "pass_ratio = int_geo.area / frame_union.area\n",
    "pass_ratio"
   ]
  },
  {
   "cell_type": "markdown",
   "id": "14477ebf",
   "metadata": {},
   "source": [
    "# For Enumeration\n",
    "\n",
    "Generate Small Stack"
   ]
  },
  {
   "cell_type": "code",
   "execution_count": 16,
   "id": "45ba602d",
   "metadata": {
    "ExecuteTime": {
     "end_time": "2023-03-21T00:45:29.648392Z",
     "start_time": "2023-03-21T00:45:29.609092Z"
    }
   },
   "outputs": [],
   "source": [
    "from shapely.geometry import Point\n",
    "import geopandas as gpd\n",
    "from rasterio.crs import CRS\n",
    "from s1_frame_enumerator import get_overlapping_s1_frames, get_s1_stack\n",
    "import pandas as pd\n",
    "\n",
    "aoi_geo = Point(-120, 35).buffer(.5)\n",
    "df_aoi = gpd.GeoDataFrame(geometry=[aoi_geo], crs=CRS.from_epsg(4326))"
   ]
  },
  {
   "cell_type": "code",
   "execution_count": 17,
   "id": "5b8c830c",
   "metadata": {
    "ExecuteTime": {
     "end_time": "2023-03-21T00:45:29.704800Z",
     "start_time": "2023-03-21T00:45:29.650104Z"
    }
   },
   "outputs": [
    {
     "data": {
      "text/plain": [
       "2"
      ]
     },
     "execution_count": 17,
     "metadata": {},
     "output_type": "execute_result"
    }
   ],
   "source": [
    "frames = get_overlapping_s1_frames(aoi_geo, track_numbers=[137])\n",
    "len(frames)"
   ]
  },
  {
   "cell_type": "code",
   "execution_count": 18,
   "id": "6469dc29",
   "metadata": {
    "ExecuteTime": {
     "end_time": "2023-03-21T00:45:29.743262Z",
     "start_time": "2023-03-21T00:45:29.706501Z"
    }
   },
   "outputs": [
    {
     "name": "stdout",
     "output_type": "stream",
     "text": [
      "21248\n",
      "21249\n"
     ]
    }
   ],
   "source": [
    "for frame in frames:\n",
    "    print(frame.frame_id)"
   ]
  },
  {
   "cell_type": "code",
   "execution_count": 19,
   "id": "554be35c",
   "metadata": {
    "ExecuteTime": {
     "end_time": "2023-03-21T00:45:57.956909Z",
     "start_time": "2023-03-21T00:45:29.745194Z"
    }
   },
   "outputs": [
    {
     "name": "stderr",
     "output_type": "stream",
     "text": [
      "Downloading stack from 2 frame geometries: 100%|█| 2\n"
     ]
    },
    {
     "data": {
      "text/html": [
       "<div>\n",
       "<style scoped>\n",
       "    .dataframe tbody tr th:only-of-type {\n",
       "        vertical-align: middle;\n",
       "    }\n",
       "\n",
       "    .dataframe tbody tr th {\n",
       "        vertical-align: top;\n",
       "    }\n",
       "\n",
       "    .dataframe thead th {\n",
       "        text-align: right;\n",
       "    }\n",
       "</style>\n",
       "<table border=\"1\" class=\"dataframe\">\n",
       "  <thead>\n",
       "    <tr style=\"text-align: right;\">\n",
       "      <th></th>\n",
       "      <th>slc_id</th>\n",
       "      <th>start_time</th>\n",
       "      <th>stop_time</th>\n",
       "      <th>url</th>\n",
       "      <th>track_number</th>\n",
       "      <th>polarization</th>\n",
       "      <th>orbit</th>\n",
       "      <th>beam_mode</th>\n",
       "      <th>size_gb</th>\n",
       "      <th>flight_direction</th>\n",
       "      <th>stack_repeat_pass_id</th>\n",
       "      <th>repeat_pass_timestamp</th>\n",
       "      <th>geometry</th>\n",
       "    </tr>\n",
       "  </thead>\n",
       "  <tbody>\n",
       "    <tr>\n",
       "      <th>0</th>\n",
       "      <td>S1A_IW_SLC__1SSV_20150507T015751_20150507T0158...</td>\n",
       "      <td>2015-05-07 01:57:51+00:00</td>\n",
       "      <td>2015-05-07 01:58:21+00:00</td>\n",
       "      <td>https://datapool.asf.alaska.edu/SLC/SA/S1A_IW_...</td>\n",
       "      <td>137</td>\n",
       "      <td>VV</td>\n",
       "      <td>5809</td>\n",
       "      <td>IW</td>\n",
       "      <td>2.652423</td>\n",
       "      <td>ASCENDING</td>\n",
       "      <td>5</td>\n",
       "      <td>2015-05-07 00:00:00+00:00</td>\n",
       "      <td>POLYGON ((-121.02775 34.52478, -120.61049 32.7...</td>\n",
       "    </tr>\n",
       "    <tr>\n",
       "      <th>1</th>\n",
       "      <td>S1A_IW_SLC__1SSV_20150507T015818_20150507T0158...</td>\n",
       "      <td>2015-05-07 01:58:18+00:00</td>\n",
       "      <td>2015-05-07 01:58:45+00:00</td>\n",
       "      <td>https://datapool.asf.alaska.edu/SLC/SA/S1A_IW_...</td>\n",
       "      <td>137</td>\n",
       "      <td>VV</td>\n",
       "      <td>5809</td>\n",
       "      <td>IW</td>\n",
       "      <td>2.437214</td>\n",
       "      <td>ASCENDING</td>\n",
       "      <td>5</td>\n",
       "      <td>2015-05-07 00:00:00+00:00</td>\n",
       "      <td>POLYGON ((-121.37492 36.01932, -120.98943 34.3...</td>\n",
       "    </tr>\n",
       "    <tr>\n",
       "      <th>2</th>\n",
       "      <td>S1A_IW_SLC__1SSV_20150507T015843_20150507T0159...</td>\n",
       "      <td>2015-05-07 01:58:43+00:00</td>\n",
       "      <td>2015-05-07 01:59:11+00:00</td>\n",
       "      <td>https://datapool.asf.alaska.edu/SLC/SA/S1A_IW_...</td>\n",
       "      <td>137</td>\n",
       "      <td>VV</td>\n",
       "      <td>5809</td>\n",
       "      <td>IW</td>\n",
       "      <td>2.568650</td>\n",
       "      <td>ASCENDING</td>\n",
       "      <td>5</td>\n",
       "      <td>2015-05-07 00:00:00+00:00</td>\n",
       "      <td>POLYGON ((-121.74913 37.56177, -121.34393 35.8...</td>\n",
       "    </tr>\n",
       "    <tr>\n",
       "      <th>3</th>\n",
       "      <td>S1A_IW_SLC__1SSV_20150531T015747_20150531T0158...</td>\n",
       "      <td>2015-05-31 01:57:47+00:00</td>\n",
       "      <td>2015-05-31 01:58:15+00:00</td>\n",
       "      <td>https://datapool.asf.alaska.edu/SLC/SA/S1A_IW_...</td>\n",
       "      <td>137</td>\n",
       "      <td>VV</td>\n",
       "      <td>6159</td>\n",
       "      <td>IW</td>\n",
       "      <td>2.202462</td>\n",
       "      <td>ASCENDING</td>\n",
       "      <td>6</td>\n",
       "      <td>2015-05-31 00:00:00+00:00</td>\n",
       "      <td>POLYGON ((-120.92996 34.07332, -120.54167 32.3...</td>\n",
       "    </tr>\n",
       "    <tr>\n",
       "      <th>4</th>\n",
       "      <td>S1A_IW_SLC__1SSV_20150531T015813_20150531T0158...</td>\n",
       "      <td>2015-05-31 01:58:13+00:00</td>\n",
       "      <td>2015-05-31 01:58:40+00:00</td>\n",
       "      <td>https://datapool.asf.alaska.edu/SLC/SA/S1A_IW_...</td>\n",
       "      <td>137</td>\n",
       "      <td>VV</td>\n",
       "      <td>6159</td>\n",
       "      <td>IW</td>\n",
       "      <td>2.374284</td>\n",
       "      <td>ASCENDING</td>\n",
       "      <td>6</td>\n",
       "      <td>2015-05-31 00:00:00+00:00</td>\n",
       "      <td>POLYGON ((-121.27898 35.56881, -120.89700 33.9...</td>\n",
       "    </tr>\n",
       "  </tbody>\n",
       "</table>\n",
       "</div>"
      ],
      "text/plain": [
       "                                              slc_id  \\\n",
       "0  S1A_IW_SLC__1SSV_20150507T015751_20150507T0158...   \n",
       "1  S1A_IW_SLC__1SSV_20150507T015818_20150507T0158...   \n",
       "2  S1A_IW_SLC__1SSV_20150507T015843_20150507T0159...   \n",
       "3  S1A_IW_SLC__1SSV_20150531T015747_20150531T0158...   \n",
       "4  S1A_IW_SLC__1SSV_20150531T015813_20150531T0158...   \n",
       "\n",
       "                 start_time                 stop_time  \\\n",
       "0 2015-05-07 01:57:51+00:00 2015-05-07 01:58:21+00:00   \n",
       "1 2015-05-07 01:58:18+00:00 2015-05-07 01:58:45+00:00   \n",
       "2 2015-05-07 01:58:43+00:00 2015-05-07 01:59:11+00:00   \n",
       "3 2015-05-31 01:57:47+00:00 2015-05-31 01:58:15+00:00   \n",
       "4 2015-05-31 01:58:13+00:00 2015-05-31 01:58:40+00:00   \n",
       "\n",
       "                                                 url  track_number  \\\n",
       "0  https://datapool.asf.alaska.edu/SLC/SA/S1A_IW_...           137   \n",
       "1  https://datapool.asf.alaska.edu/SLC/SA/S1A_IW_...           137   \n",
       "2  https://datapool.asf.alaska.edu/SLC/SA/S1A_IW_...           137   \n",
       "3  https://datapool.asf.alaska.edu/SLC/SA/S1A_IW_...           137   \n",
       "4  https://datapool.asf.alaska.edu/SLC/SA/S1A_IW_...           137   \n",
       "\n",
       "  polarization  orbit beam_mode   size_gb flight_direction  \\\n",
       "0           VV   5809        IW  2.652423        ASCENDING   \n",
       "1           VV   5809        IW  2.437214        ASCENDING   \n",
       "2           VV   5809        IW  2.568650        ASCENDING   \n",
       "3           VV   6159        IW  2.202462        ASCENDING   \n",
       "4           VV   6159        IW  2.374284        ASCENDING   \n",
       "\n",
       "   stack_repeat_pass_id     repeat_pass_timestamp  \\\n",
       "0                     5 2015-05-07 00:00:00+00:00   \n",
       "1                     5 2015-05-07 00:00:00+00:00   \n",
       "2                     5 2015-05-07 00:00:00+00:00   \n",
       "3                     6 2015-05-31 00:00:00+00:00   \n",
       "4                     6 2015-05-31 00:00:00+00:00   \n",
       "\n",
       "                                            geometry  \n",
       "0  POLYGON ((-121.02775 34.52478, -120.61049 32.7...  \n",
       "1  POLYGON ((-121.37492 36.01932, -120.98943 34.3...  \n",
       "2  POLYGON ((-121.74913 37.56177, -121.34393 35.8...  \n",
       "3  POLYGON ((-120.92996 34.07332, -120.54167 32.3...  \n",
       "4  POLYGON ((-121.27898 35.56881, -120.89700 33.9...  "
      ]
     },
     "execution_count": 19,
     "metadata": {},
     "output_type": "execute_result"
    }
   ],
   "source": [
    "df_stack = get_s1_stack(frames)\n",
    "df_stack.head()"
   ]
  },
  {
   "cell_type": "code",
   "execution_count": 20,
   "id": "8d2d3fa3",
   "metadata": {
    "ExecuteTime": {
     "end_time": "2023-03-21T00:45:58.002814Z",
     "start_time": "2023-03-21T00:45:57.958789Z"
    }
   },
   "outputs": [
    {
     "data": {
      "text/plain": [
       "datetime.timezone.utc"
      ]
     },
     "execution_count": 20,
     "metadata": {},
     "output_type": "execute_result"
    }
   ],
   "source": [
    "df_stack.repeat_pass_timestamp[0].tz"
   ]
  },
  {
   "cell_type": "code",
   "execution_count": 34,
   "id": "83caacb4-5f19-43b9-b1ba-1f5a2e9232b9",
   "metadata": {},
   "outputs": [
    {
     "data": {
      "text/html": [
       "<div>\n",
       "<style scoped>\n",
       "    .dataframe tbody tr th:only-of-type {\n",
       "        vertical-align: middle;\n",
       "    }\n",
       "\n",
       "    .dataframe tbody tr th {\n",
       "        vertical-align: top;\n",
       "    }\n",
       "\n",
       "    .dataframe thead th {\n",
       "        text-align: right;\n",
       "    }\n",
       "</style>\n",
       "<table border=\"1\" class=\"dataframe\">\n",
       "  <thead>\n",
       "    <tr style=\"text-align: right;\">\n",
       "      <th></th>\n",
       "      <th>slc_id</th>\n",
       "      <th>start_time</th>\n",
       "      <th>stop_time</th>\n",
       "      <th>url</th>\n",
       "      <th>track_number</th>\n",
       "      <th>polarization</th>\n",
       "      <th>orbit</th>\n",
       "      <th>beam_mode</th>\n",
       "      <th>size_gb</th>\n",
       "      <th>flight_direction</th>\n",
       "      <th>stack_repeat_pass_id</th>\n",
       "      <th>repeat_pass_timestamp</th>\n",
       "      <th>geometry</th>\n",
       "    </tr>\n",
       "  </thead>\n",
       "  <tbody>\n",
       "    <tr>\n",
       "      <th>0</th>\n",
       "      <td>S1A_IW_SLC__1SSV_20150507T015751_20150507T0158...</td>\n",
       "      <td>2015-05-07 01:57:51+00:00</td>\n",
       "      <td>2015-05-07 01:58:21+00:00</td>\n",
       "      <td>https://datapool.asf.alaska.edu/SLC/SA/S1A_IW_...</td>\n",
       "      <td>137</td>\n",
       "      <td>VV</td>\n",
       "      <td>5809</td>\n",
       "      <td>IW</td>\n",
       "      <td>2.652423</td>\n",
       "      <td>ASCENDING</td>\n",
       "      <td>5</td>\n",
       "      <td>2015-05-07 00:00:00+00:00</td>\n",
       "      <td>POLYGON ((-121.02775 34.52478, -120.61049 32.7...</td>\n",
       "    </tr>\n",
       "    <tr>\n",
       "      <th>1</th>\n",
       "      <td>S1A_IW_SLC__1SSV_20150507T015818_20150507T0158...</td>\n",
       "      <td>2015-05-07 01:58:18+00:00</td>\n",
       "      <td>2015-05-07 01:58:45+00:00</td>\n",
       "      <td>https://datapool.asf.alaska.edu/SLC/SA/S1A_IW_...</td>\n",
       "      <td>137</td>\n",
       "      <td>VV</td>\n",
       "      <td>5809</td>\n",
       "      <td>IW</td>\n",
       "      <td>2.437214</td>\n",
       "      <td>ASCENDING</td>\n",
       "      <td>5</td>\n",
       "      <td>2015-05-07 00:00:00+00:00</td>\n",
       "      <td>POLYGON ((-121.37492 36.01932, -120.98943 34.3...</td>\n",
       "    </tr>\n",
       "    <tr>\n",
       "      <th>2</th>\n",
       "      <td>S1A_IW_SLC__1SSV_20150507T015843_20150507T0159...</td>\n",
       "      <td>2015-05-07 01:58:43+00:00</td>\n",
       "      <td>2015-05-07 01:59:11+00:00</td>\n",
       "      <td>https://datapool.asf.alaska.edu/SLC/SA/S1A_IW_...</td>\n",
       "      <td>137</td>\n",
       "      <td>VV</td>\n",
       "      <td>5809</td>\n",
       "      <td>IW</td>\n",
       "      <td>2.568650</td>\n",
       "      <td>ASCENDING</td>\n",
       "      <td>5</td>\n",
       "      <td>2015-05-07 00:00:00+00:00</td>\n",
       "      <td>POLYGON ((-121.74913 37.56177, -121.34393 35.8...</td>\n",
       "    </tr>\n",
       "    <tr>\n",
       "      <th>3</th>\n",
       "      <td>S1A_IW_SLC__1SSV_20150531T015747_20150531T0158...</td>\n",
       "      <td>2015-05-31 01:57:47+00:00</td>\n",
       "      <td>2015-05-31 01:58:15+00:00</td>\n",
       "      <td>https://datapool.asf.alaska.edu/SLC/SA/S1A_IW_...</td>\n",
       "      <td>137</td>\n",
       "      <td>VV</td>\n",
       "      <td>6159</td>\n",
       "      <td>IW</td>\n",
       "      <td>2.202462</td>\n",
       "      <td>ASCENDING</td>\n",
       "      <td>6</td>\n",
       "      <td>2015-05-31 00:00:00+00:00</td>\n",
       "      <td>POLYGON ((-120.92996 34.07332, -120.54167 32.3...</td>\n",
       "    </tr>\n",
       "    <tr>\n",
       "      <th>4</th>\n",
       "      <td>S1A_IW_SLC__1SSV_20150531T015813_20150531T0158...</td>\n",
       "      <td>2015-05-31 01:58:13+00:00</td>\n",
       "      <td>2015-05-31 01:58:40+00:00</td>\n",
       "      <td>https://datapool.asf.alaska.edu/SLC/SA/S1A_IW_...</td>\n",
       "      <td>137</td>\n",
       "      <td>VV</td>\n",
       "      <td>6159</td>\n",
       "      <td>IW</td>\n",
       "      <td>2.374284</td>\n",
       "      <td>ASCENDING</td>\n",
       "      <td>6</td>\n",
       "      <td>2015-05-31 00:00:00+00:00</td>\n",
       "      <td>POLYGON ((-121.27898 35.56881, -120.89700 33.9...</td>\n",
       "    </tr>\n",
       "    <tr>\n",
       "      <th>...</th>\n",
       "      <td>...</td>\n",
       "      <td>...</td>\n",
       "      <td>...</td>\n",
       "      <td>...</td>\n",
       "      <td>...</td>\n",
       "      <td>...</td>\n",
       "      <td>...</td>\n",
       "      <td>...</td>\n",
       "      <td>...</td>\n",
       "      <td>...</td>\n",
       "      <td>...</td>\n",
       "      <td>...</td>\n",
       "      <td>...</td>\n",
       "    </tr>\n",
       "    <tr>\n",
       "      <th>997</th>\n",
       "      <td>S1A_IW_SLC__1SDV_20240401T015854_20240401T0159...</td>\n",
       "      <td>2024-04-01 01:58:54.233000+00:00</td>\n",
       "      <td>2024-04-01 01:59:22.141000+00:00</td>\n",
       "      <td>https://datapool.asf.alaska.edu/SLC/SA/S1A_IW_...</td>\n",
       "      <td>137</td>\n",
       "      <td>VV+VH</td>\n",
       "      <td>53234</td>\n",
       "      <td>IW</td>\n",
       "      <td>8.434430</td>\n",
       "      <td>ASCENDING</td>\n",
       "      <td>410</td>\n",
       "      <td>2024-04-01 00:00:00+00:00</td>\n",
       "      <td>POLYGON ((-121.14350 35.07445, -120.75091 33.3...</td>\n",
       "    </tr>\n",
       "    <tr>\n",
       "      <th>998</th>\n",
       "      <td>S1A_IW_SLC__1SDV_20240401T015920_20240401T0159...</td>\n",
       "      <td>2024-04-01 01:59:20.003000+00:00</td>\n",
       "      <td>2024-04-01 01:59:46.972000+00:00</td>\n",
       "      <td>https://datapool.asf.alaska.edu/SLC/SA/S1A_IW_...</td>\n",
       "      <td>137</td>\n",
       "      <td>VV+VH</td>\n",
       "      <td>53234</td>\n",
       "      <td>IW</td>\n",
       "      <td>8.160678</td>\n",
       "      <td>ASCENDING</td>\n",
       "      <td>410</td>\n",
       "      <td>2024-04-01 00:00:00+00:00</td>\n",
       "      <td>POLYGON ((-121.50642 36.56752, -121.11974 34.9...</td>\n",
       "    </tr>\n",
       "    <tr>\n",
       "      <th>999</th>\n",
       "      <td>S1A_IW_SLC__1SDV_20240413T015825_20240413T0158...</td>\n",
       "      <td>2024-04-13 01:58:25.273000+00:00</td>\n",
       "      <td>2024-04-13 01:58:55.126000+00:00</td>\n",
       "      <td>https://datapool.asf.alaska.edu/SLC/SA/S1A_IW_...</td>\n",
       "      <td>137</td>\n",
       "      <td>VV+VH</td>\n",
       "      <td>53409</td>\n",
       "      <td>IW</td>\n",
       "      <td>9.064767</td>\n",
       "      <td>ASCENDING</td>\n",
       "      <td>411</td>\n",
       "      <td>2024-04-13 00:00:00+00:00</td>\n",
       "      <td>POLYGON ((-120.79239 33.52797, -120.37955 31.7...</td>\n",
       "    </tr>\n",
       "    <tr>\n",
       "      <th>1000</th>\n",
       "      <td>S1A_IW_SLC__1SDV_20240413T015852_20240413T0159...</td>\n",
       "      <td>2024-04-13 01:58:52.867000+00:00</td>\n",
       "      <td>2024-04-13 01:59:20.769000+00:00</td>\n",
       "      <td>https://datapool.asf.alaska.edu/SLC/SA/S1A_IW_...</td>\n",
       "      <td>137</td>\n",
       "      <td>VV+VH</td>\n",
       "      <td>53409</td>\n",
       "      <td>IW</td>\n",
       "      <td>8.434273</td>\n",
       "      <td>ASCENDING</td>\n",
       "      <td>411</td>\n",
       "      <td>2024-04-13 00:00:00+00:00</td>\n",
       "      <td>POLYGON ((-121.13586 35.07453, -120.74338 33.3...</td>\n",
       "    </tr>\n",
       "    <tr>\n",
       "      <th>1001</th>\n",
       "      <td>S1A_IW_SLC__1SDV_20240413T015918_20240413T0159...</td>\n",
       "      <td>2024-04-13 01:59:18.629000+00:00</td>\n",
       "      <td>2024-04-13 01:59:45.598000+00:00</td>\n",
       "      <td>https://datapool.asf.alaska.edu/SLC/SA/S1A_IW_...</td>\n",
       "      <td>137</td>\n",
       "      <td>VV+VH</td>\n",
       "      <td>53409</td>\n",
       "      <td>IW</td>\n",
       "      <td>8.160450</td>\n",
       "      <td>ASCENDING</td>\n",
       "      <td>411</td>\n",
       "      <td>2024-04-13 00:00:00+00:00</td>\n",
       "      <td>POLYGON ((-121.49873 36.56748, -121.11209 34.9...</td>\n",
       "    </tr>\n",
       "  </tbody>\n",
       "</table>\n",
       "<p>1002 rows × 13 columns</p>\n",
       "</div>"
      ],
      "text/plain": [
       "                                                 slc_id  \\\n",
       "0     S1A_IW_SLC__1SSV_20150507T015751_20150507T0158...   \n",
       "1     S1A_IW_SLC__1SSV_20150507T015818_20150507T0158...   \n",
       "2     S1A_IW_SLC__1SSV_20150507T015843_20150507T0159...   \n",
       "3     S1A_IW_SLC__1SSV_20150531T015747_20150531T0158...   \n",
       "4     S1A_IW_SLC__1SSV_20150531T015813_20150531T0158...   \n",
       "...                                                 ...   \n",
       "997   S1A_IW_SLC__1SDV_20240401T015854_20240401T0159...   \n",
       "998   S1A_IW_SLC__1SDV_20240401T015920_20240401T0159...   \n",
       "999   S1A_IW_SLC__1SDV_20240413T015825_20240413T0158...   \n",
       "1000  S1A_IW_SLC__1SDV_20240413T015852_20240413T0159...   \n",
       "1001  S1A_IW_SLC__1SDV_20240413T015918_20240413T0159...   \n",
       "\n",
       "                           start_time                        stop_time  \\\n",
       "0           2015-05-07 01:57:51+00:00        2015-05-07 01:58:21+00:00   \n",
       "1           2015-05-07 01:58:18+00:00        2015-05-07 01:58:45+00:00   \n",
       "2           2015-05-07 01:58:43+00:00        2015-05-07 01:59:11+00:00   \n",
       "3           2015-05-31 01:57:47+00:00        2015-05-31 01:58:15+00:00   \n",
       "4           2015-05-31 01:58:13+00:00        2015-05-31 01:58:40+00:00   \n",
       "...                               ...                              ...   \n",
       "997  2024-04-01 01:58:54.233000+00:00 2024-04-01 01:59:22.141000+00:00   \n",
       "998  2024-04-01 01:59:20.003000+00:00 2024-04-01 01:59:46.972000+00:00   \n",
       "999  2024-04-13 01:58:25.273000+00:00 2024-04-13 01:58:55.126000+00:00   \n",
       "1000 2024-04-13 01:58:52.867000+00:00 2024-04-13 01:59:20.769000+00:00   \n",
       "1001 2024-04-13 01:59:18.629000+00:00 2024-04-13 01:59:45.598000+00:00   \n",
       "\n",
       "                                                    url  track_number  \\\n",
       "0     https://datapool.asf.alaska.edu/SLC/SA/S1A_IW_...           137   \n",
       "1     https://datapool.asf.alaska.edu/SLC/SA/S1A_IW_...           137   \n",
       "2     https://datapool.asf.alaska.edu/SLC/SA/S1A_IW_...           137   \n",
       "3     https://datapool.asf.alaska.edu/SLC/SA/S1A_IW_...           137   \n",
       "4     https://datapool.asf.alaska.edu/SLC/SA/S1A_IW_...           137   \n",
       "...                                                 ...           ...   \n",
       "997   https://datapool.asf.alaska.edu/SLC/SA/S1A_IW_...           137   \n",
       "998   https://datapool.asf.alaska.edu/SLC/SA/S1A_IW_...           137   \n",
       "999   https://datapool.asf.alaska.edu/SLC/SA/S1A_IW_...           137   \n",
       "1000  https://datapool.asf.alaska.edu/SLC/SA/S1A_IW_...           137   \n",
       "1001  https://datapool.asf.alaska.edu/SLC/SA/S1A_IW_...           137   \n",
       "\n",
       "     polarization  orbit beam_mode   size_gb flight_direction  \\\n",
       "0              VV   5809        IW  2.652423        ASCENDING   \n",
       "1              VV   5809        IW  2.437214        ASCENDING   \n",
       "2              VV   5809        IW  2.568650        ASCENDING   \n",
       "3              VV   6159        IW  2.202462        ASCENDING   \n",
       "4              VV   6159        IW  2.374284        ASCENDING   \n",
       "...           ...    ...       ...       ...              ...   \n",
       "997         VV+VH  53234        IW  8.434430        ASCENDING   \n",
       "998         VV+VH  53234        IW  8.160678        ASCENDING   \n",
       "999         VV+VH  53409        IW  9.064767        ASCENDING   \n",
       "1000        VV+VH  53409        IW  8.434273        ASCENDING   \n",
       "1001        VV+VH  53409        IW  8.160450        ASCENDING   \n",
       "\n",
       "      stack_repeat_pass_id     repeat_pass_timestamp  \\\n",
       "0                        5 2015-05-07 00:00:00+00:00   \n",
       "1                        5 2015-05-07 00:00:00+00:00   \n",
       "2                        5 2015-05-07 00:00:00+00:00   \n",
       "3                        6 2015-05-31 00:00:00+00:00   \n",
       "4                        6 2015-05-31 00:00:00+00:00   \n",
       "...                    ...                       ...   \n",
       "997                    410 2024-04-01 00:00:00+00:00   \n",
       "998                    410 2024-04-01 00:00:00+00:00   \n",
       "999                    411 2024-04-13 00:00:00+00:00   \n",
       "1000                   411 2024-04-13 00:00:00+00:00   \n",
       "1001                   411 2024-04-13 00:00:00+00:00   \n",
       "\n",
       "                                               geometry  \n",
       "0     POLYGON ((-121.02775 34.52478, -120.61049 32.7...  \n",
       "1     POLYGON ((-121.37492 36.01932, -120.98943 34.3...  \n",
       "2     POLYGON ((-121.74913 37.56177, -121.34393 35.8...  \n",
       "3     POLYGON ((-120.92996 34.07332, -120.54167 32.3...  \n",
       "4     POLYGON ((-121.27898 35.56881, -120.89700 33.9...  \n",
       "...                                                 ...  \n",
       "997   POLYGON ((-121.14350 35.07445, -120.75091 33.3...  \n",
       "998   POLYGON ((-121.50642 36.56752, -121.11974 34.9...  \n",
       "999   POLYGON ((-120.79239 33.52797, -120.37955 31.7...  \n",
       "1000  POLYGON ((-121.13586 35.07453, -120.74338 33.3...  \n",
       "1001  POLYGON ((-121.49873 36.56748, -121.11209 34.9...  \n",
       "\n",
       "[1002 rows x 13 columns]"
      ]
     },
     "execution_count": 34,
     "metadata": {},
     "output_type": "execute_result"
    }
   ],
   "source": [
    "df_stack"
   ]
  },
  {
   "cell_type": "code",
   "execution_count": 39,
   "id": "0d9b47e1-11fb-45eb-b608-12827c914656",
   "metadata": {},
   "outputs": [
    {
     "data": {
      "text/plain": [
       "(1002, 13)"
      ]
     },
     "execution_count": 39,
     "metadata": {},
     "output_type": "execute_result"
    }
   ],
   "source": [
    "df_stack.shape"
   ]
  },
  {
   "cell_type": "code",
   "execution_count": 43,
   "id": "91f1b764-81b0-40c9-b593-edd48674cd54",
   "metadata": {},
   "outputs": [
    {
     "data": {
      "text/plain": [
       "(353, 3)"
      ]
     },
     "execution_count": 43,
     "metadata": {},
     "output_type": "execute_result"
    }
   ],
   "source": [
    "df_stack_one_pass = df_stack.dissolve(by='stack_repeat_pass_id', aggfunc={'start_time': 'min'}, as_index=False)\n",
    "df_stack_one_pass\n",
    "df_stack_one_pass.explode(index_parts=False).shape"
   ]
  },
  {
   "cell_type": "code",
   "execution_count": 21,
   "id": "f3d03a84",
   "metadata": {
    "ExecuteTime": {
     "end_time": "2023-03-21T00:45:58.048018Z",
     "start_time": "2023-03-21T00:45:58.004584Z"
    }
   },
   "outputs": [
    {
     "data": {
      "text/plain": [
       "(30, 13)"
      ]
     },
     "execution_count": 21,
     "metadata": {},
     "output_type": "execute_result"
    }
   ],
   "source": [
    "import datetime\n",
    "\n",
    "x = pd.to_datetime(df_stack.repeat_pass_timestamp)\n",
    "cond_0 = x > pd.Timestamp('2022-9-1', tz='UTC')\n",
    "cond_1 = x < pd.Timestamp('2023-1-1', tz='UTC')\n",
    "\n",
    "df_stack_subset = df_stack[cond_0 & cond_1].reset_index(drop=True)\n",
    "df_stack_subset.shape"
   ]
  },
  {
   "cell_type": "code",
   "execution_count": 22,
   "id": "232ed2cd",
   "metadata": {
    "ExecuteTime": {
     "end_time": "2023-03-21T00:45:58.128448Z",
     "start_time": "2023-03-21T00:45:58.049705Z"
    }
   },
   "outputs": [],
   "source": [
    "df_stack_subset.to_file('sample_stack_137.geojson', driver='GeoJSON')"
   ]
  },
  {
   "cell_type": "code",
   "execution_count": 23,
   "id": "23820e9d",
   "metadata": {
    "ExecuteTime": {
     "end_time": "2023-03-21T00:45:58.171082Z",
     "start_time": "2023-03-21T00:45:58.130089Z"
    }
   },
   "outputs": [
    {
     "data": {
      "text/plain": [
       "[Timestamp('2022-09-03 00:00:00+0000', tz='UTC'),\n",
       " Timestamp('2022-09-15 00:00:00+0000', tz='UTC'),\n",
       " Timestamp('2022-09-27 00:00:00+0000', tz='UTC'),\n",
       " Timestamp('2022-10-09 00:00:00+0000', tz='UTC'),\n",
       " Timestamp('2022-10-21 00:00:00+0000', tz='UTC'),\n",
       " Timestamp('2022-11-02 00:00:00+0000', tz='UTC'),\n",
       " Timestamp('2022-11-14 00:00:00+0000', tz='UTC'),\n",
       " Timestamp('2022-11-26 00:00:00+0000', tz='UTC'),\n",
       " Timestamp('2022-12-08 00:00:00+0000', tz='UTC'),\n",
       " Timestamp('2022-12-20 00:00:00+0000', tz='UTC')]"
      ]
     },
     "execution_count": 23,
     "metadata": {},
     "output_type": "execute_result"
    }
   ],
   "source": [
    "dates = df_stack_subset.repeat_pass_timestamp.unique().tolist()\n",
    "dates"
   ]
  },
  {
   "cell_type": "code",
   "execution_count": 24,
   "id": "e107177b",
   "metadata": {
    "ExecuteTime": {
     "end_time": "2023-03-21T00:45:58.221638Z",
     "start_time": "2023-03-21T00:45:58.172675Z"
    }
   },
   "outputs": [
    {
     "data": {
      "text/plain": [
       "{'reference': ['S1A_IW_SLC__1SDV_20221220T015822_20221220T015852_046409_058F3D_D201',\n",
       "  'S1A_IW_SLC__1SDV_20221220T015850_20221220T015918_046409_058F3D_2768',\n",
       "  'S1A_IW_SLC__1SDV_20221220T015916_20221220T015943_046409_058F3D_8C7E'],\n",
       " 'secondary': ['S1A_IW_SLC__1SDV_20221208T015823_20221208T015853_046234_058941_FEE4',\n",
       "  'S1A_IW_SLC__1SDV_20221208T015851_20221208T015919_046234_058941_A19D',\n",
       "  'S1A_IW_SLC__1SDV_20221208T015917_20221208T015944_046234_058941_52CD'],\n",
       " 'reference_date': Timestamp('2022-12-20 00:00:00+0000', tz='UTC'),\n",
       " 'secondary_date': Timestamp('2022-12-08 00:00:00+0000', tz='UTC'),\n",
       " 'frame_id': None,\n",
       " 'geometry': <POLYGON ((-120.798 33.527, -120.782 33.53, -120.782 33.53, -120.781 33.53, ...>}"
      ]
     },
     "execution_count": 24,
     "metadata": {},
     "output_type": "execute_result"
    }
   ],
   "source": [
    "from s1_frame_enumerator.ifg_enum import select_ifg_pair_from_stack\n",
    "frames = [S1Frame(21248), S1Frame(21249)]\n",
    "\n",
    "ref_date = pd.Timestamp('2022-12-20', tz='UTC')\n",
    "sec_date = pd.Timestamp('2022-12-8', tz='UTC')\n",
    "\n",
    "select_ifg_pair_from_stack(ref_date, sec_date, df_stack_subset, None)"
   ]
  },
  {
   "cell_type": "code",
   "execution_count": 25,
   "id": "9e88f233",
   "metadata": {
    "ExecuteTime": {
     "end_time": "2023-03-21T00:45:58.369319Z",
     "start_time": "2023-03-21T00:45:58.223412Z"
    }
   },
   "outputs": [
    {
     "ename": "AttributeError",
     "evalue": "'list' object has no attribute 'frame_geometry'",
     "output_type": "error",
     "traceback": [
      "\u001b[0;31m---------------------------------------------------------------------------\u001b[0m",
      "\u001b[0;31mAttributeError\u001b[0m                            Traceback (most recent call last)",
      "Cell \u001b[0;32mIn[25], line 7\u001b[0m\n\u001b[1;32m      4\u001b[0m ref_date \u001b[38;5;241m=\u001b[39m pd\u001b[38;5;241m.\u001b[39mTimestamp(\u001b[38;5;124m'\u001b[39m\u001b[38;5;124m2022-12-20\u001b[39m\u001b[38;5;124m'\u001b[39m, tz\u001b[38;5;241m=\u001b[39m\u001b[38;5;124m'\u001b[39m\u001b[38;5;124mUTC\u001b[39m\u001b[38;5;124m'\u001b[39m)\n\u001b[1;32m      5\u001b[0m sec_date \u001b[38;5;241m=\u001b[39m pd\u001b[38;5;241m.\u001b[39mTimestamp(\u001b[38;5;124m'\u001b[39m\u001b[38;5;124m2022-12-8\u001b[39m\u001b[38;5;124m'\u001b[39m, tz\u001b[38;5;241m=\u001b[39m\u001b[38;5;124m'\u001b[39m\u001b[38;5;124mUTC\u001b[39m\u001b[38;5;124m'\u001b[39m)\n\u001b[0;32m----> 7\u001b[0m \u001b[43mselect_ifg_pair_from_stack\u001b[49m\u001b[43m(\u001b[49m\u001b[43mref_date\u001b[49m\u001b[43m,\u001b[49m\u001b[43m \u001b[49m\u001b[43msec_date\u001b[49m\u001b[43m,\u001b[49m\u001b[43m \u001b[49m\u001b[43mdf_stack_subset\u001b[49m\u001b[43m,\u001b[49m\u001b[43m \u001b[49m\u001b[43mframes\u001b[49m\u001b[43m)\u001b[49m\n",
      "File \u001b[0;32m~/bekaert-team/s1-frame-enumerator/src/s1_frame_enumerator/ifg_enum.py:90\u001b[0m, in \u001b[0;36mselect_ifg_pair_from_stack\u001b[0;34m(ref_date, sec_date, df_stack, frame)\u001b[0m\n\u001b[1;32m     88\u001b[0m \u001b[38;5;28;01mif\u001b[39;00m frame \u001b[38;5;129;01mis\u001b[39;00m \u001b[38;5;129;01mnot\u001b[39;00m \u001b[38;5;28;01mNone\u001b[39;00m:\n\u001b[1;32m     89\u001b[0m     tree \u001b[38;5;241m=\u001b[39m STRtree(df_stack\u001b[38;5;241m.\u001b[39mgeometry)\n\u001b[0;32m---> 90\u001b[0m     ind_frame \u001b[38;5;241m=\u001b[39m tree\u001b[38;5;241m.\u001b[39mquery(\u001b[43mframe\u001b[49m\u001b[38;5;241;43m.\u001b[39;49m\u001b[43mframe_geometry\u001b[49m, predicate\u001b[38;5;241m=\u001b[39m\u001b[38;5;124m'\u001b[39m\u001b[38;5;124mintersects\u001b[39m\u001b[38;5;124m'\u001b[39m)\n\u001b[1;32m     91\u001b[0m     df_stack_frame_temp \u001b[38;5;241m=\u001b[39m df_stack\u001b[38;5;241m.\u001b[39miloc[ind_frame]\u001b[38;5;241m.\u001b[39msort_values(by\u001b[38;5;241m=\u001b[39m\u001b[38;5;124m'\u001b[39m\u001b[38;5;124mslc_id\u001b[39m\u001b[38;5;124m'\u001b[39m)\n\u001b[1;32m     92\u001b[0m     intersection_geo \u001b[38;5;241m=\u001b[39m df_stack_frame_temp\u001b[38;5;241m.\u001b[39mintersection(frame\u001b[38;5;241m.\u001b[39mframe_geometry)\n",
      "\u001b[0;31mAttributeError\u001b[0m: 'list' object has no attribute 'frame_geometry'"
     ]
    }
   ],
   "source": [
    "from s1_frame_enumerator.ifg_enum import select_ifg_pair_from_stack\n",
    "frames = [S1Frame(21248), S1Frame(21249)]\n",
    "\n",
    "ref_date = pd.Timestamp('2022-12-20', tz='UTC')\n",
    "sec_date = pd.Timestamp('2022-12-8', tz='UTC')\n",
    "\n",
    "select_ifg_pair_from_stack(ref_date, sec_date, df_stack_subset, frames)"
   ]
  },
  {
   "cell_type": "code",
   "execution_count": null,
   "id": "3bcf044c-ee2b-4a7a-8891-36c713018d1b",
   "metadata": {},
   "outputs": [],
   "source": []
  }
 ],
 "metadata": {
  "kernelspec": {
   "display_name": "s1-frame-enumerator",
   "language": "python",
   "name": "s1-frame-enumerator"
  },
  "language_info": {
   "codemirror_mode": {
    "name": "ipython",
    "version": 3
   },
   "file_extension": ".py",
   "mimetype": "text/x-python",
   "name": "python",
   "nbconvert_exporter": "python",
   "pygments_lexer": "ipython3",
   "version": "3.12.1"
  }
 },
 "nbformat": 4,
 "nbformat_minor": 5
}
