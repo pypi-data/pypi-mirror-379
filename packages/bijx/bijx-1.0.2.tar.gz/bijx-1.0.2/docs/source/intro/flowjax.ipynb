{
 "cells": [
  {
   "cell_type": "markdown",
   "id": "949df1ed",
   "metadata": {},
   "source": [
    "# Bridge with FlowJax\n",
    "\n",
    "```{eval-rst}\n",
    ".. currentmodule:: bijx.flowjax\n",
    "```\n",
    "\n",
    "As mentioned in the introduction, the goal of bijx is not necessarily to reimplement all common normalizing flow constructions, in particular since there are other libraries that do that well.\n",
    "Happily, a benefit of the great flexibility of JAX is that it allows a straightfoward construction of \"bridges\" between different libraries, making the ecosystem very modular.\n",
    "As an example, {func}`from_flowjax` and {func}`to_flowjax` of the {mod}`bijx.flowjax` submodule (which has to be explicitly imported, since flowjax is not an explicit dependency of bijx) translate between bijax and [flowjax](https://github.com/danielward27/flowjax).\n",
    "Constructions with either library can be used in the other.\n",
    "This kind of translation can likely be extended to other jax-based libraries."
   ]
  },
  {
   "cell_type": "code",
   "execution_count": null,
   "id": "16355308",
   "metadata": {},
   "outputs": [],
   "source": [
    "import bijx\n",
    "import jax.numpy as jnp\n",
    "import jax.random as jr\n",
    "from flax import nnx\n",
    "\n",
    "bijx.utils.load_shapes_magic()\n",
    "\n",
    "# import flowjax\n",
    "import flowjax\n",
    "import flowjax.bijections\n",
    "from flowjax.flows import block_neural_autoregressive_flow\n",
    "from flowjax.distributions import Normal"
   ]
  },
  {
   "cell_type": "code",
   "execution_count": null,
   "id": "6d1f1cff",
   "metadata": {},
   "outputs": [],
   "source": [
    "# has to be imported explicitly & flowjax has to be installed by the user\n",
    "import bijx.flowjax as bridge"
   ]
  },
  {
   "cell_type": "markdown",
   "id": "1b372eb7",
   "metadata": {},
   "source": [
    "## Flowjax → bijx"
   ]
  },
  {
   "cell_type": "code",
   "execution_count": null,
   "id": "0fa3e296",
   "metadata": {},
   "outputs": [],
   "source": [
    "# example from flowjax documentation\n",
    "data_key, flow_key, train_key, sample_key = jr.split(jr.key(0), 4)\n",
    "\n",
    "x = jr.uniform(data_key, (100, 2))  # Toy data\n",
    "\n",
    "dist_flowjax = block_neural_autoregressive_flow(\n",
    "    key=flow_key,\n",
    "    base_dist=Normal(jnp.zeros(x.shape[1])),\n",
    ")"
   ]
  },
  {
   "cell_type": "code",
   "execution_count": null,
   "id": "6abd2222",
   "metadata": {},
   "outputs": [
    {
     "name": "stdout",
     "output_type": "stream",
     "text": [
      "(100, 2)\n"
     ]
    }
   ],
   "source": [
    "# generate samples with flowjax model\n",
    "%shapes dist_flowjax.sample(sample_key, (100,))"
   ]
  },
  {
   "cell_type": "code",
   "execution_count": null,
   "id": "e758bea7",
   "metadata": {},
   "outputs": [],
   "source": [
    "dist_bijx = bridge.from_flowjax(dist_flowjax)"
   ]
  },
  {
   "cell_type": "code",
   "execution_count": null,
   "id": "5054d342",
   "metadata": {},
   "outputs": [
    {
     "name": "stdout",
     "output_type": "stream",
     "text": [
      "((100, 2), (100,))\n"
     ]
    }
   ],
   "source": [
    "# also returns log-density, like flowjax's sample_and_log_prob\n",
    "%shapes dist_bijx.sample((100,), rng=sample_key)"
   ]
  },
  {
   "cell_type": "markdown",
   "id": "ff357981",
   "metadata": {},
   "source": [
    "## Bijx → flowjax"
   ]
  },
  {
   "cell_type": "code",
   "execution_count": null,
   "id": "355e14dc",
   "metadata": {},
   "outputs": [],
   "source": [
    "flow_bijx = bijx.MonotoneRQSpline(10, (), rngs=nnx.Rngs(params=0))\n",
    "\n",
    "dist_bijx = bijx.Transformed(bijx.IndependentUniform(()), flow_bijx)"
   ]
  },
  {
   "cell_type": "code",
   "execution_count": null,
   "id": "daa7f527",
   "metadata": {},
   "outputs": [],
   "source": [
    "# need to specify additional information in this direction\n",
    "# because flowjax has safer shape constraints\n",
    "flow_flowjax = bridge.to_flowjax(flow_bijx, shape=())"
   ]
  },
  {
   "cell_type": "code",
   "execution_count": null,
   "id": "77a37d74",
   "metadata": {},
   "outputs": [],
   "source": [
    "# same for distribution\n",
    "dist_flowjax = bridge.to_flowjax(dist_bijx, shape=())"
   ]
  },
  {
   "cell_type": "code",
   "execution_count": null,
   "id": "3f109ac0",
   "metadata": {},
   "outputs": [
    {
     "name": "stdout",
     "output_type": "stream",
     "text": [
      "(100,)\n"
     ]
    }
   ],
   "source": [
    "%shapes dist_flowjax.sample(sample_key, (100,))"
   ]
  }
 ],
 "metadata": {
  "kernelspec": {
   "display_name": "env",
   "language": "python",
   "name": "python3"
  },
  "language_info": {
   "codemirror_mode": {
    "name": "ipython",
    "version": 3
   },
   "file_extension": ".py",
   "mimetype": "text/x-python",
   "name": "python",
   "nbconvert_exporter": "python",
   "pygments_lexer": "ipython3"
  }
 },
 "nbformat": 4,
 "nbformat_minor": 5
}
