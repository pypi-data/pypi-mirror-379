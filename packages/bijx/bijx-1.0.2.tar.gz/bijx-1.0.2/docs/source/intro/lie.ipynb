{
 "cells": [
  {
   "cell_type": "markdown",
   "id": "1adac83d",
   "metadata": {},
   "source": [
    "# Matrix Lie Group Operations"
   ]
  },
  {
   "cell_type": "markdown",
   "id": "bba10b5e",
   "metadata": {},
   "source": [
    "The {mod}`bijx.lie` module provides tools for numerical operations on Lie groups, with a particular focus on automatic differentiation. \n",
    "These are useful in physics applications where parameters or variables are elements of a Lie group, such as SU(N) or SO(N). \n",
    "\n",
    "This document outlines the core functionalities, including handling Lie algebra elements, sampling from the Haar measure, and computing gradients of scalar functions defined on Lie groups.\n",
    "\n",
    "```{eval-rst}\n",
    ".. currentmodule:: bijx\n",
    "```"
   ]
  },
  {
   "cell_type": "code",
   "execution_count": null,
   "id": "dff68639",
   "metadata": {},
   "outputs": [],
   "source": [
    "# setup\n",
    "import jax\n",
    "import jax.numpy as jnp\n",
    "import numpy as np\n",
    "import bijx\n",
    "from bijx import lie\n",
    "from flax import nnx\n",
    "\n",
    "# Set up a JAX random key for reproducibility\n",
    "rngs = nnx.Rngs(42)\n",
    "\n",
    "bijx.utils.load_shapes_magic()"
   ]
  },
  {
   "cell_type": "markdown",
   "id": "a6cc1af4",
   "metadata": {},
   "source": [
    "## Lie Algebra Generators\n",
    "\n",
    "The module provides some standard generators for common Lie groups for convenience, providing the basis of the tangent space at the identity.\n",
    "\n",
    "- `lie.U1_GEN`: Generators for U(1). For compatibility, array with entry $2i$ of shape `(1, 1, 1) = (basis, n, n)`.\n",
    "- `lie.SU2_GEN`: Pauli matrices (multiplied by $i$) for SU(2).\n",
    "- `lie.SU3_GEN`: Gell-Mann matrices (multiplied by $i$) for SU(3).\n"
   ]
  },
  {
   "cell_type": "code",
   "execution_count": null,
   "id": "504a1bea",
   "metadata": {},
   "outputs": [
    {
     "name": "stdout",
     "output_type": "stream",
     "text": [
      "U(1):  lie.U1_GEN.shape=(1, 1, 1), lie.U1_GEN.dtype=dtype('complex64')\n",
      "SU(2): lie.SU2_GEN.shape=(3, 2, 2), lie.SU2_GEN.dtype=dtype('complex64')\n",
      "SU(3): lie.SU3_GEN.shape=(8, 3, 3), lie.SU3_GEN.dtype=dtype('complex64')\n"
     ]
    }
   ],
   "source": [
    "print(f\"U(1):  {lie.U1_GEN.shape=}, {lie.U1_GEN.dtype=}\")\n",
    "print(f\"SU(2): {lie.SU2_GEN.shape=}, {lie.SU2_GEN.dtype=}\")\n",
    "print(f\"SU(3): {lie.SU3_GEN.shape=}, {lie.SU3_GEN.dtype=}\")"
   ]
  },
  {
   "cell_type": "markdown",
   "id": "98ee5859",
   "metadata": {},
   "source": [
    "## Basic Operations\n",
    "\n",
    "- {func}`lie.adjoint`: Computes the conjugate transpose of a matrix.\n",
    "- {func}`lie.scalar_prod`: implements the scalar product as $\\mathrm{tr}(A^\\dagger B)/2$.\n",
    "- {func}`lie.contract`: A generalized matrix product for a chain of matrices."
   ]
  },
  {
   "cell_type": "code",
   "execution_count": null,
   "id": "6d20e271",
   "metadata": {},
   "outputs": [
    {
     "name": "stdout",
     "output_type": "stream",
     "text": [
      "Scalar product of first two SU(2) generators: 0.00+0.00j\n",
      "Scalar product of a generator with itself: 1.00+0.00j\n"
     ]
    }
   ],
   "source": [
    "# Example of scalar product between two SU(2) generators\n",
    "g1 = lie.SU2_GEN[0]\n",
    "g2 = lie.SU2_GEN[1]\n",
    "\n",
    "sp = lie.scalar_prod(g1, g2)\n",
    "print(f\"Scalar product of first two SU(2) generators: {sp:.2f}\")\n",
    "\n",
    "# The basis is orthonormal\n",
    "sp_self = lie.scalar_prod(g1, g1)\n",
    "print(f\"Scalar product of a generator with itself: {sp_self:.2f}\")"
   ]
  },
  {
   "cell_type": "markdown",
   "id": "506685a7",
   "metadata": {},
   "source": [
    "## Sampling from the Haar Measure\n",
    "\n",
    "\n",
    "Uniform sampling over a compact Lie group gives a prior distribution for sampling, respecting all symmetries of the group.\n",
    "\n",
    "An explicit sampling function {func}`lie.sample_haar` as well as a general {class}`lie.HaarDistribution` are implemented."
   ]
  },
  {
   "cell_type": "code",
   "execution_count": null,
   "id": "b5aa261a",
   "metadata": {},
   "outputs": [
    {
     "name": "stdout",
     "output_type": "stream",
     "text": [
      "((7, 5, 5, 2, 2), (7,))\n"
     ]
    }
   ],
   "source": [
    "# a 5 x 5 grid of SU(2) matrices\n",
    "dist = lie.HaarDistribution(n=2, base_shape=(5, 5))\n",
    "\n",
    "%shapes dist.sample(batch_shape=(7,), rng=rngs())"
   ]
  },
  {
   "cell_type": "markdown",
   "id": "a744fab1",
   "metadata": {},
   "source": [
    "For convenience, another \"lattice\" construction is provided that leads to `(*lat_shape, len(lat_shape))` as \"base\" shape because we can associate to each vertex len(lat_shape) elements; one for each direction of the lattice."
   ]
  },
  {
   "cell_type": "code",
   "execution_count": null,
   "id": "96537595",
   "metadata": {},
   "outputs": [
    {
     "name": "stdout",
     "output_type": "stream",
     "text": [
      "((7, 5, 5, 2, 3, 3), (7,))\n"
     ]
    }
   ],
   "source": [
    "# example of SU(3) so the dim=2 cannot be confused with the n=3 of SU(n)\n",
    "dist = lie.HaarDistribution.periodic_gauge_lattice(n=3, lat_shape=(5, 5))\n",
    "\n",
    "# Shape is (*batch_shape, *lattice_shape, lattice_dim, n, n)\n",
    "%shapes dist.sample(batch_shape=(7,), rng=rngs())"
   ]
  },
  {
   "cell_type": "code",
   "execution_count": null,
   "id": "79df8285",
   "metadata": {},
   "outputs": [
    {
     "name": "stdout",
     "output_type": "stream",
     "text": [
      "Determinant: 1.0-0.0j\n",
      "U†U:\n",
      "[[ 1.+0.j -0.+0.j]\n",
      " [-0.-0.j  1.+0.j]]\n"
     ]
    }
   ],
   "source": [
    "# We can verify that the matrix is indeed in SU(2)\n",
    "su2_matrix = lie.sample_haar(rngs(), n=2)\n",
    "\n",
    "determinant = jnp.linalg.det(su2_matrix)\n",
    "# adjoint implements A^† also for batched arrays\n",
    "identity = lie.adjoint(su2_matrix) @ su2_matrix\n",
    "\n",
    "print(f\"Determinant: {determinant:.1f}\")\n",
    "print(f\"U†U:\\n{identity.round(2)}\")"
   ]
  },
  {
   "cell_type": "markdown",
   "id": "fa1e81db",
   "metadata": {},
   "source": [
    "## Automatic Differentiation\n",
    "\n",
    "Another purpose of the module is to enable automatic differentiation of functions whose inputs are Lie group elements.\n",
    "The gradient of a scalar function $f: G \\to \\mathbb{R}$ at a point $U \\in G$ is an element of the tangent space $T_U(G)$, which can be identified with the Lie algebra $\\mathfrak{g}$."
   ]
  },
  {
   "cell_type": "markdown",
   "id": "eba1856a",
   "metadata": {},
   "source": [
    "The primary function is {func}`lie.grad`. It computes the gradient of a function with respect to a Lie group element. The gradient is returned as an element of the Lie algebra itself.\n",
    "\n",
    "There are in principle two ways to specify the basis:\n",
    "- As an array, explicitly listing the basis elements.\n",
    "- As a projection, taking a gradient in the ambient complex space and projecting it onto the tangent space of the group. (**Default**, projecting to Lie algebra of SU(N))"
   ]
  },
  {
   "cell_type": "code",
   "execution_count": null,
   "id": "13f7ec9d",
   "metadata": {},
   "outputs": [
    {
     "name": "stdout",
     "output_type": "stream",
     "text": [
      "(2, 2)\n",
      "\n",
      "Trace of gradient: 0.00+0.00j\n",
      "Adjoint plus self:\n",
      "[[0.+0.j 0.+0.j]\n",
      " [0.+0.j 0.+0.j]]\n"
     ]
    }
   ],
   "source": [
    "# Define a simple scalar function on SU(2)\n",
    "def loss_fn(U):\n",
    "  # Returns the real part of the trace\n",
    "  return jnp.trace(U).real\n",
    "\n",
    "u = lie.sample_haar(rngs(), n=2)\n",
    "\n",
    "# The 'algebra' argument specifies the Lie algebra basis.\n",
    "grad_fn = lie.grad(loss_fn, algebra=lie.SU2_GEN)\n",
    "grad_u = grad_fn(u)\n",
    "%shapes grad_u\n",
    "\n",
    "# The gradient is a Lie algebra element (skew-hermitian and traceless)\n",
    "print(f\"\\nTrace of gradient: {jnp.trace(grad_u):.2f}\")\n",
    "print(f\"Adjoint plus self:\\n{(lie.adjoint(grad_u) + grad_u).round(2)}\")"
   ]
  },
  {
   "cell_type": "markdown",
   "id": "d3526340",
   "metadata": {},
   "source": [
    "### Directional Derivative\n",
    "\n",
    "One can also compute a directional derivative along a specific direction in the tangent space using {func}`liegrad.curve_grad`. This computes \n",
    "\n",
    "$$\n",
    "\\left.\\frac{d}{dt}\\right|_{t=0} f(e^{t V} U) \\,,\n",
    "$$\n",
    "\n",
    "where $V$ is a direction in the tangent space (element of the Lie algebra).\n",
    "Note that here, a convention of left vs right multiplication was chosen.\n",
    "That is, to transport $V$ from the Lie algebra to the tangent space at $U$, we use $V U$.\n",
    "Conversion to the opposite convention can be done by conjugating with $U$."
   ]
  },
  {
   "cell_type": "code",
   "execution_count": null,
   "id": "9e19f4f4",
   "metadata": {},
   "outputs": [
    {
     "name": "stdout",
     "output_type": "stream",
     "text": [
      "Directional derivative from curve_grad: -0.9601\n",
      "Scalar product of full grad and direction: -0.9601+0.0000j\n"
     ]
    }
   ],
   "source": [
    "# choose some direction (could be any superposition of generators)\n",
    "direction = lie.SU2_GEN[0] * 0.5\n",
    "\n",
    "# Compute directional derivative of loss_fn\n",
    "dir_grad_fn = lie.curve_grad(loss_fn, direction=direction)\n",
    "dir_grad_val = dir_grad_fn(u)\n",
    "\n",
    "# This should be equal to the scalar product of the full gradient and the direction\n",
    "manual_dir_grad = lie.scalar_prod(direction, grad_u)\n",
    "\n",
    "print(f\"Directional derivative from curve_grad: {dir_grad_val:.4f}\")\n",
    "print(f\"Scalar product of full grad and direction: {manual_dir_grad:.4f}\")"
   ]
  },
  {
   "cell_type": "markdown",
   "id": "10edc6c0",
   "metadata": {},
   "source": [
    "The function {func}`lie.path_grad2` works similarly but computs both the first and the second path derivative.\n",
    "Finally, {func}`lie.path_div` computes the divergence of a function using path derivatives given a full basis of generators, and assumes the function returns a vector of components with respect to the same basis."
   ]
  },
  {
   "cell_type": "markdown",
   "id": "667da785",
   "metadata": {},
   "source": [
    "### Value, Gradient, and Divergence\n",
    "\n",
    "For some applications, especially in the context of flows, one needs not only the gradient but also the divergence of the gradient (the Laplacian). The function {func}`liegrad.value_grad_divergence` computes the value, gradient, and Laplacian of a scalar function in a single call, using two backward differentiation passes.\n"
   ]
  },
  {
   "cell_type": "code",
   "execution_count": null,
   "id": "6355ca35",
   "metadata": {},
   "outputs": [
    {
     "name": "stdout",
     "output_type": "stream",
     "text": [
      "((), (2, 2), ())\n"
     ]
    }
   ],
   "source": [
    "val, grad, div = lie.value_grad_divergence(loss_fn, u, lie.SU2_GEN)\n",
    "%shapes val, grad, div"
   ]
  },
  {
   "cell_type": "markdown",
   "id": "ec26764e",
   "metadata": {},
   "source": [
    "## Lattice Operations\n",
    "\n",
    "\n",
    "The {mod}`lattice` submodule provides utilities for manipulating gauge fields on a (periodic) lattice.\n",
    "\n",
    "- {func}`lattice.gauge.roll_lattice`: Shifts the entire lattice along some axis.\n",
    "- {func}`lattice.gauge.apply_gauge_sym`: Applies a gauge transformation to a lattice gauge configuration.\n",
    "- {func}`lattice.gauge.rotate_lat`: Spacially otates the lattice.\n",
    "- {func}`lattice.gauge.flip_axis`: Spacially flips the lattice along some axis.\n",
    "\n",
    "{func}`lattice.gauge.wilson_action` computes the Wilson action for a lattice gauge configuration, and {func}`lattice.gauge.wilson_log_prob` computes the log probability (minus the action)."
   ]
  },
  {
   "cell_type": "code",
   "execution_count": null,
   "id": "8effa93c",
   "metadata": {},
   "outputs": [],
   "source": [
    "dist = lie.HaarDistribution.periodic_gauge_lattice(n=3, lat_shape=(5, 5))\n",
    "lat, _ = dist.sample((), rng=rngs())"
   ]
  },
  {
   "cell_type": "code",
   "execution_count": null,
   "id": "f93eea3c",
   "metadata": {},
   "outputs": [
    {
     "data": {
      "text/plain": [
       "Array(3.8373678, dtype=float32)"
      ]
     },
     "execution_count": null,
     "metadata": {},
     "output_type": "execute_result"
    }
   ],
   "source": [
    "import bijx.lattice.gauge as glat\n",
    "\n",
    "glat.wilson_action(lat, 3.0)"
   ]
  },
  {
   "cell_type": "code",
   "execution_count": null,
   "id": "499e64d5",
   "metadata": {},
   "outputs": [
    {
     "name": "stdout",
     "output_type": "stream",
     "text": [
      "(1,)\n",
      "(2,)\n"
     ]
    }
   ],
   "source": [
    "# also supports batched inputs\n",
    "%shapes glat.wilson_action(lat[None], 3.0)\n",
    "# multiple couplings\n",
    "%shapes glat.wilson_action(lat, jnp.array([3.0, 4.0]))"
   ]
  },
  {
   "cell_type": "code",
   "execution_count": null,
   "id": "466fc9f7",
   "metadata": {},
   "outputs": [],
   "source": [
    "act = glat.wilson_action(lat, 3.0)\n",
    "\n",
    "# translation is a symmetry of Wilson action\n",
    "lat_tr = glat.roll_lattice(lat, (1, 2))\n",
    "assert jnp.allclose(act, glat.wilson_action(lat_tr, 3.0))\n",
    "# obviously lat_tr shouldn't be the same as lat (translation is not the identity)\n",
    "assert not jnp.allclose(lat, lat_tr)\n",
    "\n",
    "# so is rotation (specify axes of plane to rotate)\n",
    "lat_rot = glat.rotate_lat(lat, 0, 1)\n",
    "assert jnp.allclose(act, glat.wilson_action(lat_rot, 3.0))\n",
    "\n",
    "# so is flip\n",
    "lat_flip = glat.flip_axis(lat, 0)\n",
    "assert jnp.allclose(act, glat.wilson_action(lat_flip, 3.0))\n",
    "\n",
    "# so is swap\n",
    "lat_swap = glat.swap_axes(lat, 0, 1)\n",
    "assert jnp.allclose(act, glat.wilson_action(lat_swap, 3.0))"
   ]
  }
 ],
 "metadata": {
  "kernelspec": {
   "display_name": "env",
   "language": "python",
   "name": "python3"
  },
  "language_info": {
   "codemirror_mode": {
    "name": "ipython",
    "version": 3
   },
   "file_extension": ".py",
   "mimetype": "text/x-python",
   "name": "python",
   "nbconvert_exporter": "python",
   "pygments_lexer": "ipython3"
  }
 },
 "nbformat": 4,
 "nbformat_minor": 5
}
