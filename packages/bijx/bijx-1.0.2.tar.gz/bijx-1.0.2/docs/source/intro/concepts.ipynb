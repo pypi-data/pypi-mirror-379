{
 "cells": [
  {
   "cell_type": "markdown",
   "id": "9d4a7a31",
   "metadata": {},
   "source": [
    "# Bijections and Distributions\n",
    "\n",
    "This page provides an overview of the core components of bijx, namely **distributions** and **bijections**.\n",
    "\n",
    "Both are implemented by subclasses of {class}`nnx.Module`, so they may contain parameters that can be flexibly optimized using gradient descent for any desired loss function."
   ]
  },
  {
   "cell_type": "markdown",
   "id": "4ad0ec64",
   "metadata": {},
   "source": [
    "\n",
    "## Distributions: density and exact sampling\n",
    "\n",
    "```{eval-rst}\n",
    ".. currentmodule:: bijx\n",
    "\n",
    "A :class:`Distribution` captures two aspects of probability distributions:\n",
    "```\n",
    "- Evaluating the (log) probability density $p(x)$ at a given point $x$.\n",
    "- A method to (pseudo-) random samples $x \\sim p(x)$.\n",
    "\n",
    "This is captured in this (simplified) class definition:\n",
    "```python\n",
    "class Distribution(nnx.Module):\n",
    "    def sample(self, batch_shape=(), rng=None, **kwargs):\n",
    "        return samples, log_density\n",
    "\n",
    "    def log_density(self, x, **kwargs):\n",
    "        return log_density\n",
    "```\n",
    "\n",
    "The interface is agnostic to the underlying data type.\n",
    "The *event* $x$ can be any jax-compatible pytree, while a single array is most common.\n",
    "The `log_density` should always be a single array (fundamentally scalar, although generically with batch dimensions).\n",
    "\n",
    "**Shapes**:\n",
    "\n",
    "To make shape handling manageable, several assumptions are made throughout bijx:\n",
    "- All events $x$ (or its leaves, if a pytree) have a shape that splits into a batch and an *event shape*: `x.shape == batch_shape + event_shape`.\n",
    "- In many contexts (e.g. CNNs) we split `event_shape == space_shape + channel_shape`.\n",
    "- The *dimension* or *rank* refers to the number of axes. E.g. `event_dim == len(event_shape)`.\n",
    "- The log-density is *always* passed explicitly.\n",
    "\n",
    "Many convenient methods for shape inference can be found in {class}`ShapeInfo`.\n",
    "\n",
    "For many fundamental bijections (see below), the methods assume that the log-density has the same batch dimensions as the event $x$: `log_density.shape == batch_shape`.\n",
    "For bijections, this means we can directly infer the batch and event dimensions if both arguments are provided.\n",
    "Since {attr}`Distribution.log_density` only takes one argument, the concrete distribution classes internally need to know about the event shape.\n",
    "This can be implemented in whatever way is most convenient.\n",
    "\n",
    "However, to support transforming distributions with bijections (see below), we need to be able to allocate an array of zeros for the log-density which are then transformed.\n",
    "Thus, all distributions must also implement {attr}`Distribution.get_batch_shape` which should map $x$ to a tuple of integers.\n",
    "For convenience, {class}`ArrayDistribution` implements this by taking a the event shape as argument in its constructor.\n",
    "Various methods for processing shapes are implemented in {class}`ShapeInfo`.\n",
    "\n",
    "Several concrete distributions are implemented, including normal, uniform, and Gaussian mixture models."
   ]
  },
  {
   "cell_type": "code",
   "execution_count": null,
   "id": "d0011d76",
   "metadata": {},
   "outputs": [
    {
     "name": "stdout",
     "output_type": "stream",
     "text": [
      "x.shape=(10,), lp.shape=(10,)\n"
     ]
    }
   ],
   "source": [
    "import bijx\n",
    "from flax import nnx\n",
    "\n",
    "# example: a simple uniform distribution on the interval [0, 1].\n",
    "prior = bijx.IndependentUniform(\n",
    "    event_shape=(),           # here a scalar\n",
    "    rngs=nnx.Rngs(sample=0),  # random number generator for sampling\n",
    ")\n",
    "\n",
    "# Drawing from a distribution always gives a tuple of `state`, `log_prob`.\n",
    "x, lp = prior.sample(batch_shape=(10,))\n",
    "print(f'{x.shape=}, {lp.shape=}')"
   ]
  },
  {
   "cell_type": "markdown",
   "id": "6e8f7a81",
   "metadata": {},
   "source": [
    "```{eval-rst}\n",
    "**API Reference**:\n",
    "\n",
    ".. currentmodule:: bijx\n",
    "\n",
    ".. autosummary::\n",
    "\n",
    "   Distribution\n",
    "   ArrayDistribution\n",
    "   IndependentNormal\n",
    "   IndependentUniform\n",
    "   MultivariateNormal\n",
    "   DiagonalNormal\n",
    "   MixtureStack\n",
    "   GaussianMixture\n",
    "```"
   ]
  },
  {
   "cell_type": "markdown",
   "id": "3627aed8",
   "metadata": {},
   "source": [
    "## Bijections: change of variables\n",
    "\n",
    "A **bijection** in bijx represents an invertible variable transformation $f: X \\to Y$, enhanced to also track how it affects probability densities. The latter is given by\n",
    "\n",
    "$$\n",
    "\\log p_Y(y) = \\log p_X(x) - \\log \\left| \\det J_f(x) \\right|\n",
    "$$\n",
    "\n",
    "where $y = f(x)$ and $J_f(x) = \\nabla f (x)$ is the Jacobian.\n",
    "In terms of array components of $x$ and $y = f(x)$ indexed by $i$ and $j$ this can be written as\n",
    "\n",
    "$$\n",
    "[J_f(x)]_{ij} =  \\left. \\frac{\\partial f_i}{\\partial x_j} \\right|_{x} \\,.\n",
    "$$\n",
    "\n",
    "Thus the enhanced versions of $f$ and $f^{-1}$, respectively, are implemented as\n",
    "\n",
    "$$\n",
    "\\text{forward}: X \\times \\mathbb{R} \\to Y \\times \\mathbb{R} \\quad \\text{and} \\quad \\text{reverse}: Y \\times \\mathbb{R} \\to X \\times \\mathbb{R} \\,.\n",
    "$$\n",
    "\n",
    "\n",
    "```python\n",
    "class Bijection(nnx.Module):\n",
    "    def forward(self, x, log_density, **kwargs):\n",
    "        return y, updated_log_density  # log_density - log |det J_f(x)|\n",
    "\n",
    "    def reverse(self, y, log_density, **kwargs):\n",
    "        return x, updated_log_density  # log_density + log |det J_f(x)|\n",
    "```\n",
    "\n",
    "Any bijection can be inverted with {meth}`Bijection.invert`, yielding an instance of {class}`Inverse`, and bijections can be composed with {class}`Chain`.\n",
    "A variant of the inverse class, {class}`CondInverse` is available that takes an additional boolean argument that controls whether the inverse is used.\n",
    "{class}`ScanChain` is similar to {class}`Chain` except that applies `jax.lax.scan` over the parameters of the bijection. This is useful if the same kind of bijection with different parameters is applied sequentially.\n",
    "\n",
    "See later sections for:\n",
    "\n",
    "- [Scalar Bijections](basic) that transform single real numbers.\n",
    "- [Meta Bijections](basic) that do not change density and only transform the representation, such as shapes.\n",
    "- [Coupling Layers](coupling) for bijections that are conditional on some data, and can be used to build up complex multi-dimensional bijections from scalar or lower-dimensional ones.\n",
    "- [Continuous Flows](continuous) for bijections that arise from solving ordinary differential equations (ODEs)."
   ]
  },
  {
   "cell_type": "code",
   "execution_count": null,
   "id": "acb3a185",
   "metadata": {},
   "outputs": [
    {
     "name": "stdout",
     "output_type": "stream",
     "text": [
      "value changed: True\n"
     ]
    }
   ],
   "source": [
    "# Example (see next page for simple transformations)\n",
    "\n",
    "import jax.numpy as jnp\n",
    "\n",
    "rngs = nnx.Rngs(0)\n",
    "\n",
    "bijection = bijx.Chain(\n",
    "    # here specifying initial values explicitly, see next page\n",
    "    bijx.Scaling(jnp.array(2.0)),\n",
    "    bijx.Shift(jnp.array(-1.0)),\n",
    "    # here use random initialization\n",
    "    bijx.Scaling((), rngs=rngs),\n",
    ")\n",
    "\n",
    "y, lp = bijection.forward(x, lp)\n",
    "print('value changed:', jnp.all(x != y))"
   ]
  },
  {
   "cell_type": "markdown",
   "id": "3fde6245",
   "metadata": {},
   "source": [
    "## Transformed\n",
    "\n",
    "The idea of normalizing flows as a generative models is to define a parametrized model distribution $p(y)$ as the change of variable of a simple base distribution $q(x)$, or \"prior\", under a bijection $f$ that is to be optimized.\n",
    "Representing $q$ as a {class}`Distribution` and $f$ as a {class}`Bijection`, we can chain the methods above to define a new kind of {class}`Distribution`.\n",
    "This is implemented by {class}`Transformed`, which takes a distribution (prior) and a bijection (flow) as arguments.\n",
    "\n",
    "A simple example:\n",
    "\n",
    "```python\n",
    "prior = bijx.IndependentNormal((2,), rngs=rngs)\n",
    "\n",
    "bijection = bijx.Chain(\n",
    "    bijx.Scaling(jnp.array([2.0, 1.0])),\n",
    "    some_coupling_layer\n",
    ")\n",
    "nf = bijx.Transformed(prior, bijection)  # New distribution\n",
    "\n",
    "samples, log_densities = nf.sample(batch_shape=(100,))\n",
    "```\n",
    "\n",
    "Note that in the final line no `rng` is passed. This is because, for convenience, the distribution class (here `prior`, and inherited by the transformed distribution) can hold an instance of {class}`nnx.Rngs` which is used by default.\n",
    "Alternatively an explicit argument `rng` can be passed to `sample()`."
   ]
  },
  {
   "cell_type": "code",
   "execution_count": null,
   "id": "108946e9",
   "metadata": {},
   "outputs": [
    {
     "name": "stdout",
     "output_type": "stream",
     "text": [
      "x.shape=(7,), lp.shape=(7,)\n"
     ]
    }
   ],
   "source": [
    "# combine into a 'sampler' (which is again a distribution)\n",
    "sampler = bijx.Transformed(prior, bijection)\n",
    "\n",
    "# sample from the sampler\n",
    "x, lp = sampler.sample(batch_shape=(7,))\n",
    "print(f'{x.shape=}, {lp.shape=}')"
   ]
  },
  {
   "cell_type": "code",
   "execution_count": null,
   "id": "0acdfddc",
   "metadata": {},
   "outputs": [
    {
     "data": {
      "image/png": "[encoded data removed]",
      "text/plain": [
       "<Figure size 640x480 with 1 Axes>"
      ]
     },
     "metadata": {},
     "output_type": "display_data"
    }
   ],
   "source": [
    "import matplotlib.pyplot as plt\n",
    "\n",
    "# all priors including samplers implement `log_prob`\n",
    "x = jnp.linspace(-2, 2, 100)\n",
    "plt.plot(x, jnp.exp(prior.log_density(x)))\n",
    "plt.plot(x, jnp.exp(sampler.log_density(x)))\n",
    "plt.show()"
   ]
  },
  {
   "cell_type": "markdown",
   "id": "33a7c574",
   "metadata": {},
   "source": [
    "## Markov Chains\n",
    "\n",
    "It may be desirable to generate asymptotically unbiased samples for a *true* distribution $p_{true}(x)$ that the sample approximates, $p_\\theta(x) \\approx p_{true}(x)$.\n",
    "The simplest way to achieve this is using the independent [Metropolis-Hastings](https://en.wikipedia.org/wiki/Metropolis–Hastings_algorithm) (IMH) algorithm.\n",
    "\n",
    "An interface similar to [blackjax](https://blackjax-devs.github.io/blackjax/index.html)'s `blackjax.irmh` is provided in {class}`IMH`.\n",
    "The main difference to blackjax is that here, the proposal probabilities are computed at the same time as the samples.\n",
    "\n",
    "Markov chains inherently generate one sample at a time, while normalizing flows can naturally generate batches of samples.\n",
    "One option is of course to run multiple chains in parallel.\n",
    "Besides that, {class}`BufferedSampler` wraps around a distribution and internally draws from a buffer when individual samples are requested, that is redrawn when the buffer is exhausted."
   ]
  },
  {
   "cell_type": "markdown",
   "id": "5b879338",
   "metadata": {},
   "source": [
    "## Parameter manipulation & freezing\n",
    "\n",
    "Both distributions and bijections are `nnx.Module`s and contain variables.\n",
    "\n",
    "In order to indicate constant arrays that are not to be updated in gradient descent,\n",
    "the {class}`Const` class, which is a subclass of `nnx.Variable`, can be used.\n",
    "\n",
    "It may also be useful to freeze some parameters of a bijection or distributions that have been trained before, but should now be considered \"fixed\". One way to achieve this is demonstrated below."
   ]
  },
  {
   "cell_type": "code",
   "execution_count": null,
   "id": "ddcead7e",
   "metadata": {},
   "outputs": [
    {
     "name": "stdout",
     "output_type": "stream",
     "text": [
      "const=State({\n",
      "  'scale': {\n",
      "    'param': Const(\n",
      "      value=2.0\n",
      "    )\n",
      "  }\n",
      "})\n",
      "params=State({})\n"
     ]
    }
   ],
   "source": [
    "fixed = bijx.Scaling(bijx.Const(2.0))\n",
    "\n",
    "# split into graph, constants, and parameters\n",
    "graph, const, params = nnx.split(fixed, bijx.FrozenFilter, nnx.Param)\n",
    "print(f'{const=}\\n{params=}')"
   ]
  },
  {
   "cell_type": "code",
   "execution_count": null,
   "id": "5bc48623",
   "metadata": {},
   "outputs": [
    {
     "name": "stdout",
     "output_type": "stream",
     "text": [
      "const=State({})\n",
      "params=State({\n",
      "  'scale': {\n",
      "    'param': Param( # 1 (4 B)\n",
      "      value=Array(1., dtype=float32)\n",
      "    )\n",
      "  }\n",
      "})\n"
     ]
    }
   ],
   "source": [
    "# by default, initialized as trainable parameter\n",
    "trainable = bijx.Scaling((), rngs=nnx.Rngs(params=0))\n",
    "\n",
    "graph, const, params = nnx.split(trainable, bijx.FrozenFilter, nnx.Param)\n",
    "print(f'{const=}\\n{params=}')"
   ]
  },
  {
   "cell_type": "markdown",
   "id": "a6720bec",
   "metadata": {},
   "source": [
    "Now for convenience, we can wrap bijections in the {class}`bijx.Frozen` class, marking all sub-parameters as constant."
   ]
  },
  {
   "cell_type": "code",
   "execution_count": null,
   "id": "873a3b7f",
   "metadata": {},
   "outputs": [
    {
     "name": "stdout",
     "output_type": "stream",
     "text": [
      "const=State({\n",
      "  'frozen': {\n",
      "    'scale': {\n",
      "      'param': Param( # 1 (4 B)\n",
      "        value=Array(1., dtype=float32)\n",
      "      )\n",
      "    }\n",
      "  }\n",
      "})\n",
      "params=State({})\n"
     ]
    }
   ],
   "source": [
    "frozen = bijx.Frozen(trainable)\n",
    "graph, const, params = nnx.split(frozen, bijx.FrozenFilter, nnx.Param)\n",
    "print(f'{const=}\\n{params=}')"
   ]
  }
 ],
 "metadata": {
  "kernelspec": {
   "display_name": "env",
   "language": "python",
   "name": "python3"
  },
  "language_info": {
   "codemirror_mode": {
    "name": "ipython",
    "version": 3
   },
   "file_extension": ".py",
   "mimetype": "text/x-python",
   "name": "python",
   "nbconvert_exporter": "python",
   "pygments_lexer": "ipython3"
  }
 },
 "nbformat": 4,
 "nbformat_minor": 5
}
