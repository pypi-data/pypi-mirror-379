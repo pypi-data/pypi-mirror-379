{
 "cells": [
  {
   "cell_type": "markdown",
   "id": "1aa2029f",
   "metadata": {},
   "source": [
    "# Crouch-Grossmann Integration\n",
    "\n",
    "The `bijx.cg` module provides a JAX-native implementation of Crouch-Grossmann (CG) integrators to solve ordinary differential equations (ODEs) on matrix manifolds.\n",
    "The method is extended to any product space, for example $G \\times \\mathbb{R}^d$ where $G$ is a matrix Lie group and $\\mathbb{R}^d$ represents Euclidean degrees of freedom, by applying Runge-Kutta steps with the same butcher tableau on the real degrees of freedom.\n",
    "\n",
    "Unlike standard Runge-Kutta methods that can cause numerical drift away from the manifold, CG integrators preserve the Lie group structure exactly during integration by applying the exponential map to Lie algebra elements, identified with the tangent space at the identity.\n",
    "\n",
    "The implementation is fully differentiable via the adjoint sensitivity method, enabling end-to-end optimization in models involving ODE solutions, such as continuous normalizing flows and neural ODEs on manifolds.\n",
    "\n",
    "```{eval-rst}\n",
    ".. currentmodule:: bijx\n",
    "```\n"
   ]
  },
  {
   "cell_type": "markdown",
   "id": "51984bbd",
   "metadata": {},
   "source": [
    "## The Crouch-Grossmann Method\n",
    "\n",
    "In the final method, any pytree of either matrix group or real degrees of freedom is supported as integration state.\n",
    "As an example, consider ODEs on the product space $G \\times \\mathbb{R}^d$, where we simultaneously evolve both Euclidean degrees of freedom $x \\in \\mathbb{R}^d$ and matrix Lie group elements $Y \\in G$:\n",
    "\n",
    "$$\\frac{dx}{dt} = f(t, x, Y), \\quad \\frac{dY}{dt} = Z(t, x, Y) \\cdot Y$$\n",
    "\n",
    "where $f: \\mathbb{R} \\times \\mathbb{R}^d \\times G \\to \\mathbb{R}^d$ is the vector field for the Euclidean components, and $Z: \\mathbb{R} \\times \\mathbb{R}^d \\times G \\to \\mathfrak{g}$ is a Lie algebra-valued vector field that defines the infinitesimal generator of the group evolution.\n",
    "\n",
    "The CG method applies a standard Runge-Kutta scheme to the Euclidean components while using exponential maps for the Lie group components to ensure they remain on the manifold.\n",
    "\n",
    "For a given Butcher tableau with coefficients $a_{i,j}$, $b_i$, and $c_i$, the method computes internal stages and updates as follows:\n",
    "\n",
    "**Internal Stages:**\n",
    "For stages $i = 1, \\ldots, s$:\n",
    "$$x_i^{(n)} = x_n + h \\sum_{j=1}^{i-1} a_{i,j} f(x_j^{(n)}, Y_j^{(n)})$$\n",
    "$$Y_i^{(n)} = \\exp(h a_{i,i-1} Z_{i-1}^{(n)}) \\cdots \\exp(h a_{i,1} Z_1^{(n)}) Y_n$$\n",
    "\n",
    "where $Z_i^{(n)} = Z(t_n + c_i h, x_i^{(n)}, Y_i^{(n)}) \\in \\mathfrak{g}$ and $t_i^{(n)} = t_n + c_i h$.\n",
    "\n",
    "**Final Update:**\n",
    "$$x_{n+1} = x_n + h \\sum_{i=1}^s b_i f(x_i^{(n)}, Y_i^{(n)})$$\n",
    "$$Y_{n+1} = \\exp(h b_s Z_s^{(n)}) \\cdots \\exp(h b_1 Z_1^{(n)}) Y_n$$\n",
    "\n",
    "The key insight is that the Lie group component evolves through a product of matrix exponentials, ensuring that if $Y_n \\in G$, then $Y_{n+1} \\in G$ exactly.\n"
   ]
  },
  {
   "cell_type": "markdown",
   "id": "bbcd4e59",
   "metadata": {},
   "source": [
    "## Butcher Tableaux\n",
    "\n",
    "The behavior of a Crouch-Grossmann integrator is completely determined by its Butcher tableau, characterized by the coefficient matrix $(a_{i,j})$, weight vector $(b_i)$, and node vector $(c_i)$.\n",
    "The tableau coefficients satisfy the consistency conditions:\n",
    "\n",
    "$$c_i = \\sum_{j=1}^{i-1} a_{i,j}, \\quad \\sum_{i=1}^s b_i = 1$$\n",
    "\n",
    "The {class}`cg.ButcherTableau` class stores these coefficients.\n",
    "For explicit methods, we have $a_{i,j} = 0$ for $j \\geq i$, ensuring computational efficiency.\n",
    "\n",
    "The module provides several predefined explicit tableaux:\n",
    "\n",
    "- {const}`cg.EULER`: First-order method ($s=1$, order 1)\n",
    "- {const}`cg.CG2`: Second-order method ($s=2$, order 2)\n",
    "- {const}`cg.CG3`: Third-order method ($s=3$, order 3)\n",
    "\n",
    "Higher-order methods provide better accuracy but require more function evaluations per step:"
   ]
  },
  {
   "cell_type": "code",
   "execution_count": null,
   "id": "31b3ae41",
   "metadata": {},
   "outputs": [],
   "source": [
    "import jax\n",
    "import jax.numpy as jnp\n",
    "import bijx\n",
    "from bijx import cg\n",
    "bijx.utils.load_shapes_magic()\n"
   ]
  },
  {
   "cell_type": "code",
   "execution_count": null,
   "id": "0f3efece",
   "metadata": {},
   "outputs": [
    {
     "name": "stdout",
     "output_type": "stream",
     "text": [
      "Euler Tableau (CG1):\n",
      " ButcherTableau(stages=1, a=((0,),), b=(1,), c=(0,))\n",
      "\n",
      "CG2 Tableau:\n",
      " ButcherTableau(stages=2, a=((0, 0), (0.5, 0)), b=(0, 1), c=(0, 0.5))\n"
     ]
    }
   ],
   "source": [
    "# example fo first and second order methods\n",
    "print(\"Euler Tableau (CG1):\\n\", cg.EULER)\n",
    "print(\"\\nCG2 Tableau:\\n\", cg.CG2)"
   ]
  },
  {
   "cell_type": "markdown",
   "id": "bd8893a3",
   "metadata": {},
   "source": [
    "## Defining a Vector Field\n",
    "\n",
    "The solver expects a vector field function with signature `vector_field(t, y, args)`.\n",
    "This function encodes the dynamics $\\frac{dy}{dt} = F(t, y)$ where the interpretation of $F$ depends on the geometry of the state space.\n",
    "\n",
    "**Function Arguments:**\n",
    "- `t`: Current time (scalar)\n",
    "- `y`: State PyTree (can contain both Euclidean arrays and Lie group matrices)\n",
    "- `args`: PyTree of parameters for the vector field\n",
    "\n",
    "**Return Value:**\n",
    "The function must return a PyTree with the same structure as `y` but representing tangents of appropriate type.\n",
    "\n",
    "- For **Euclidean components** ($y_i \\in \\mathbb{R}^{d_i}$): Return $f_i(t, y) \\in \\mathbb{R}^{d_i}$\n",
    "- For **Lie group components** ($Y_j \\in G_j$): Return $Z_j(t, y) \\in \\mathfrak{g}_j$ (Lie algebra element)\n"
   ]
  },
  {
   "cell_type": "markdown",
   "id": "25a3c0df",
   "metadata": {},
   "source": [
    "The primary function for solving ODEs is {func}`cg.crouch_grossmann`:\n",
    "\n",
    "```python\n",
    "crouch_grossmann(vector_field, y0, args, t0, t1, step_size, is_lie, tableau=cg.EULER)\n",
    "```\n",
    "\n",
    "Here, `is_lie` is a Boolean PyTree indicating geometry of each component. It should match the structure of `y0`, except all leaves must be `True` or `False` (note: not arrays of booleans!)."
   ]
  },
  {
   "cell_type": "markdown",
   "id": "bd3b94a8",
   "metadata": {},
   "source": [
    "### Example Mixed System on $G \\times \\mathbb{R}^d$\n",
    " \n",
    "Consider a system where $x \\in \\mathbb{R}^3$ represents position and $R \\in SO(3)$ represents orientation:\n",
    "\n",
    "$$\\frac{dx}{dt} = v(x, R), \\quad \\frac{dR}{dt} = \\hat\\omega(x, R) R$$\n",
    "\n",
    "where $\\hat \\omega: \\mathbb{R}^3 \\times SO(3) \\to \\mathfrak{so}(3)$ returns skew-symmetric matrices."
   ]
  },
  {
   "cell_type": "code",
   "execution_count": null,
   "id": "820c6fd5",
   "metadata": {},
   "outputs": [],
   "source": [
    "def mixed_vf(t, state, args):\n",
    "    x, R = state['position'], state['rotation']\n",
    "\n",
    "    # Velocity depends on both position and orientation\n",
    "    v = -args['damping'] * x + args['coupling'] * (R @ jnp.array([1.0, 0.0, 0.0]))\n",
    "\n",
    "    # Angular velocity (in so(3), represented as skew-symmetric matrix)\n",
    "    omega_vec = args['spin_rate'] * jnp.array([0.0, 0.0, 1.0]) + 0.1 * x[0] * jnp.array([1.0, 0.0, 0.0])\n",
    "    omega_skew = jnp.array(\n",
    "        [[0, -omega_vec[2], omega_vec[1]],\n",
    "         [omega_vec[2], 0, -omega_vec[0]],\n",
    "         [-omega_vec[1], omega_vec[0], 0]])\n",
    "\n",
    "    return {'position': v, 'rotation': omega_skew}"
   ]
  },
  {
   "cell_type": "code",
   "execution_count": null,
   "id": "7bb079e5",
   "metadata": {},
   "outputs": [],
   "source": [
    "# Initial conditions\n",
    "x0 = jnp.array([1.0, 0.5, 0.2])\n",
    "R0 = jnp.eye(3)  # Identity rotation\n",
    "state0 = {'position': x0, 'rotation': R0}\n",
    "\n",
    "# Specify which components are Lie groups\n",
    "is_lie = {'position': False, 'rotation': True}\n",
    "\n",
    "args_mixed = {\n",
    "    'damping': 0.1,\n",
    "    'coupling': 0.5,\n",
    "    'spin_rate': 2.0\n",
    "}"
   ]
  },
  {
   "cell_type": "code",
   "execution_count": null,
   "id": "5927c7eb",
   "metadata": {},
   "outputs": [
    {
     "name": "stdout",
     "output_type": "stream",
     "text": [
      "{'position': (3,), 'rotation': (3, 3)}\n"
     ]
    }
   ],
   "source": [
    "# Solve the coupled system\n",
    "state_final = cg.crouch_grossmann(\n",
    "    mixed_vf, state0, args_mixed, 0.0, 1.0, 0.05, is_lie, tableau=cg.CG3\n",
    ")\n",
    "%shapes state_final"
   ]
  },
  {
   "cell_type": "code",
   "execution_count": null,
   "id": "d1e325b6",
   "metadata": {},
   "outputs": [
    {
     "name": "stdout",
     "output_type": "stream",
     "text": [
      "Final position: [1.115      0.79300004 0.19600001]\n",
      "Final rotation determinant: 1.000002\n",
      "Final rotation orthogonality check (R^T R):\n",
      "[[ 1.  0. -0.]\n",
      " [ 0.  1. -0.]\n",
      " [-0. -0.  1.]]\n"
     ]
    }
   ],
   "source": [
    "print(\"Final position:\", state_final['position'].round(3))\n",
    "\n",
    "# verify manifold preservation\n",
    "print(\"Final rotation determinant:\", jnp.linalg.det(state_final['rotation']).round(6))\n",
    "print(\"Final rotation orthogonality check (R^T R):\")\n",
    "print((state_final['rotation'].T @ state_final['rotation']).round(4))"
   ]
  },
  {
   "cell_type": "markdown",
   "id": "251f05b5",
   "metadata": {},
   "source": [
    "### Example of gradient computation on SU(2)"
   ]
  },
  {
   "cell_type": "code",
   "execution_count": null,
   "id": "5ad629b7",
   "metadata": {},
   "outputs": [],
   "source": [
    "# Vector field for dY/dt = V Y\n",
    "def su2_vf(t, Y, args):\n",
    "  # Return a constant Lie algebra element (generator_0)\n",
    "  v = bijx.lie.SU2_GEN[0] * args['speed']\n",
    "  # We can make it time dependent\n",
    "  v = v * jnp.cos(t)\n",
    "  return v"
   ]
  },
  {
   "cell_type": "code",
   "execution_count": null,
   "id": "611f071a",
   "metadata": {},
   "outputs": [],
   "source": [
    "Y0 = jnp.eye(2, dtype=complex) # Start at the identity\n",
    "is_lie = True  # just a single boolean (only one array)\n",
    "# argumetns (we'll take gradients w.r.t. this)\n",
    "args_su2 = {'speed': 0.5}\n",
    "\n",
    "t0, t1 = 0.0, 1.0\n",
    "step_size = 0.1"
   ]
  },
  {
   "cell_type": "code",
   "execution_count": null,
   "id": "6c19dd20",
   "metadata": {},
   "outputs": [
    {
     "data": {
      "text/plain": [
       "{'speed': Array(-0.6873728, dtype=float32)}"
      ]
     },
     "execution_count": null,
     "metadata": {},
     "output_type": "execute_result"
    }
   ],
   "source": [
    "def loss_fn(args_su2):\n",
    "    Y_final = cg.crouch_grossmann(su2_vf, Y0, args_su2, t0, t1, step_size, is_lie, tableau=cg.CG3)\n",
    "    # example loss based on final state\n",
    "    return jnp.trace(Y_final).real\n",
    "\n",
    "grad_fn = jax.grad(loss_fn)\n",
    "grad_fn(args_su2)"
   ]
  },
  {
   "cell_type": "markdown",
   "id": "2ad9cee0",
   "metadata": {},
   "source": [
    "## CG Continuous Flows\n",
    "\n",
    "A wrapper class {class}`ContFlowCG` of the above integration method is available to define continuous flows, followign the same interface as {class}`ContFlowDiffrax` for non-Lie group flows."
   ]
  }
 ],
 "metadata": {
  "kernelspec": {
   "display_name": "env",
   "language": "python",
   "name": "python3"
  },
  "language_info": {
   "codemirror_mode": {
    "name": "ipython",
    "version": 3
   },
   "file_extension": ".py",
   "mimetype": "text/x-python",
   "name": "python",
   "nbconvert_exporter": "python",
   "pygments_lexer": "ipython3"
  }
 },
 "nbformat": 4,
 "nbformat_minor": 5
}
