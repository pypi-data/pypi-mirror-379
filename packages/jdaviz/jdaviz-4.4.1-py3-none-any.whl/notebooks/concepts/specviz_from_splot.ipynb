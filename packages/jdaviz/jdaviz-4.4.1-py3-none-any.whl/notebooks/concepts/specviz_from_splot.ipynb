{
 "cells": [
  {
   "cell_type": "markdown",
   "metadata": {},
   "source": [
    "This notebook's goal is to present a concept notebook of specviz, using workflows from the [IRAF splot tool](https://iraf.net/irafhelp.php?val=splot&help=Help+Page).  The feature/workflow list for splot came from a [trello board](https://trello.com/b/glMEUlE3/iraf-splot-feature-list), but the features are copied here to frame this notebook. Note also there is discussion of some of this notebook's features in the corresponding Github Pull Request: https://github.com/spacetelescope/jdaviz/pull/133"
   ]
  },
  {
   "cell_type": "markdown",
   "metadata": {},
   "source": [
    "This notebook is organized around broad themes of planned `specviz` features, and how they address specific SPLOT functionality.  All SPLOT functionality is listed here, although at the end several features are listed as \"not to be implemented\".\n",
    "\n",
    "Also note that most features in this notebook are divided into sections: \n",
    "1. A specification of how this can/should be accomplished \"in the notebook\".  It is important to recognize that \"in the notebook\" assumes there is an active specviz session somewhere in the notebook that is used as the \"hub\" for operations, even when the operations are all Python functions that do not directly require interactivity. \n",
    "2. The desktop interface - this is more focused on \"quick look\" type behavior.\n",
    "3. The MAST interface - this is only highlighted where distinct points need to be made from 1 or 2 (which otherwise overlap a lot)."
   ]
  },
  {
   "cell_type": "markdown",
   "metadata": {},
   "source": [
    "# Loading data/creating specviz:"
   ]
  },
  {
   "cell_type": "markdown",
   "metadata": {},
   "source": [
    "Spectra to be loaded in specviz should be compatible with `Spectrum1D`, which should be viewed as the prime \"input\" to `specviz`.  \n",
    "\n",
    "1.  This means that in the notebook, `Spectrum1D` loaders can be used directly:"
   ]
  },
  {
   "cell_type": "code",
   "execution_count": null,
   "metadata": {},
   "outputs": [],
   "source": [
    "import specutils\n",
    "\n",
    "spec_url = 'https://dr14.sdss.org/optical/spectrum/view/data/format=fits/spec=lite?plateid=1323&mjd=52797&fiberid=12'\n",
    "spec = specutils.Spectrum1D.read(spec_url)"
   ]
  },
  {
   "cell_type": "markdown",
   "metadata": {},
   "source": [
    "This spectrum should then be natively read by the specviz helper object (for more on the \"helper\" concept, see [jdaviz#104](https://github.com/spacetelescope/jdaviz/issues/104#issuecomment-624740003)) using a relevant method:"
   ]
  },
  {
   "cell_type": "code",
   "execution_count": null,
   "metadata": {},
   "outputs": [],
   "source": [
    "import jdaviz\n",
    "\n",
    "specviz = jdaviz.Specviz()\n",
    "specviz.load_data(spec)\n",
    "\n",
    "specviz  # <- could also be specviz.show(), but in the end it's just a wrapper in `Specviz._repr_html_`"
   ]
  },
  {
   "cell_type": "markdown",
   "metadata": {},
   "source": [
    "    Note that this should automatically select the `.flux` part of the spectrum in the viewer at the time `load_data` is called, *not* require the user to do something to load that spectrum. The resulting spectrum should be a plot of the `flux` in \"bin\" form, since for JWST the \"flux in bins\" interpretation of spectra is preferred.  (There should eventually be an option to show it as a connected line, but that's not mandatory initially.)\n",
    "    \n",
    "    To show what *should* pop up in the above cell, below I create a glue viewer that resembles what the expected specviz main window should show. The actual application will have additional features like the plugin tray and data loading via the UI, but this shows the primary science-focused interaction space (the spectrum itself):"
   ]
  },
  {
   "cell_type": "code",
   "execution_count": null,
   "metadata": {},
   "outputs": [],
   "source": [
    "# THIS CELL IS FOR ILLUSTRATION OF WHAT THE UI LOOKS LIKE FOR EXPLAINING THE CONCEPTS, NOT INTENDED AS AN ACTUAL NOTEBOOK API FOR USERS.  IT PROBABLY NEEDS TO BE EXECUTED TO ACTUALLY SHOW ANYTHING THOUGH\n",
    "import glue_jupyter\n",
    "print('FYI: glupyter version:', glue_jupyter.__version__)\n",
    "from glue_jupyter import jglue\n",
    "from astropy.io import fits\n",
    "\n",
    "app = jglue()\n",
    "data = app.add_data(spectrum=spec)\n",
    "viewer = app.profile1d(data='spectrum')\n",
    "viewer"
   ]
  },
  {
   "cell_type": "markdown",
   "metadata": {},
   "source": [
    "    There also needs to be some way to load from a file path. This should use the exact same mechanism but use a file path or URL:"
   ]
  },
  {
   "cell_type": "code",
   "execution_count": null,
   "metadata": {},
   "outputs": [],
   "source": [
    "specviz.load_data(spec_url)  #<- auto-downloads from the internet\n",
    "\n",
    "# download to a local file and load it by name\n",
    "!wget --content-disposition $spec_url\n",
    "specviz.load_data('spec-1323-52797-0012.fits') "
   ]
  },
  {
   "cell_type": "markdown",
   "metadata": {},
   "source": [
    "    Internally this should do the same as loading the `Spectrum1D` - i.e. first convert it to `Spectrum1D` using `read` and then load it into glue/jdaviz. That way the user can know exactly what is happening when they do it with a GUI button or at the command line."
   ]
  },
  {
   "cell_type": "markdown",
   "metadata": {},
   "source": [
    "2. In the UI, the above should be possible using the \"open\" or \"import data\" button - the intention would be for it to all behave just as described above, but via a file browser (or command-line file path) instead of via a notebook method call. Note that this means for the *first* spectrum imported (either from the command-line or the \"import\" button) will automatically appear a la `load_data`, but see below for the behavior for additional spectra."
   ]
  },
  {
   "cell_type": "markdown",
   "metadata": {},
   "source": [
    "### Multiple spectra in one `specviz` "
   ]
  },
  {
   "cell_type": "markdown",
   "metadata": {},
   "source": [
    "Because glupyter/glue support multiple data being loaded at the same time, it should also be possible to load data even if it's not all getting displayed initially.\n",
    "\n",
    "1.  In the notebook this is just a different method that otherwise behaves the same as `load_data`, just doesn't replace what's being shown - E.g.,"
   ]
  },
  {
   "cell_type": "code",
   "execution_count": null,
   "metadata": {},
   "outputs": [],
   "source": [
    "specviz.add_data('some_other_spectrum.fits') #<- this would do exactly the same as `load_data` but just not show it\n",
    "# OR \n",
    "specviz.add_data('some_other_spectrum.fits', show=True)  #<- this would automatically add the flux as a new layer in the UI"
   ]
  },
  {
   "cell_type": "markdown",
   "metadata": {},
   "source": [
    "The inputs to `add_data` could also be a list/iterable, which then just does the above operation over every element of the list."
   ]
  },
  {
   "cell_type": "markdown",
   "metadata": {},
   "source": [
    "2. In the UI, if the user does \"import data\" a second time (meaning \"any time there is already some other data loaded\"), the equivalent of `add_data` happens, but this should pop up a notification for the user that says something like \"load successful. mark checkbox to see in viewer\"."
   ]
  },
  {
   "cell_type": "markdown",
   "metadata": {},
   "source": [
    "## Uncertainties/mask"
   ]
  },
  {
   "cell_type": "markdown",
   "metadata": {},
   "source": [
    "If the `Spectrum1D` object loaded contains an uncertainty and/or mask attribute, these should be loaded into glue when `load_data` is called.  However, by default only the spectrum itself should be *shown* at that time. The user can show it later using standard `jdaviz` interactions if desired. We *may* wish some syntactic convenience for the notebook as well - e.g.:"
   ]
  },
  {
   "cell_type": "code",
   "execution_count": null,
   "metadata": {},
   "outputs": [],
   "source": [
    "specviz.show_uncertainty()\n",
    "specviz.show_mask()"
   ]
  },
  {
   "cell_type": "markdown",
   "metadata": {},
   "source": [
    "There are different possible ways to show these components of the spectrum.  As a starting point, uncertainties may be best shown as a partially-transparent 1-$\\sigma$ shaded band surrounding the spectrum.  An alternative (which might be preferred, or used as an option based on user testing) is to use (stem-less?) error bars, but the shaded band should be implemented initially.\n",
    "\n",
    "The starting point for showing a spectrum's mask is to have masked data points not be part of the spectrum itself (i.e. the spectrum \"bins\" should skip over them) but have a colored \"X\" for where the masked point would have been if it were not masked.  An alternative (to be implemented or not following user testing) is to use a shaded red vertical band.\n",
    "\n",
    "(For both the color should be the same color as the spectrum itself.)"
   ]
  },
  {
   "cell_type": "markdown",
   "metadata": {},
   "source": [
    "## Accessing the spectrum\n",
    "\n",
    "(only relevant for notebook/developer usage) - When a single spectrum is loaded using `load_data`, it should be easy to get that spectrum back again.  E.g.,"
   ]
  },
  {
   "cell_type": "code",
   "execution_count": null,
   "metadata": {},
   "outputs": [],
   "source": [
    "spec = specviz.visible_spectrum  #<- a Spectrum1D object\n",
    "spec.flux, spec.uncertainty, ..."
   ]
  },
  {
   "cell_type": "markdown",
   "metadata": {},
   "source": [
    "However, this is ambiguous if multiple spectra are loaded (see the `add_data` discussion above). Addressing this ambiguity would be possible using the glue-level names associated with these data:"
   ]
  },
  {
   "cell_type": "code",
   "execution_count": null,
   "metadata": {},
   "outputs": [],
   "source": [
    "spec = specviz.app.get_viewer_data('spectrum-with-some-name')  #<- this is a single spectrum because it was requested *by name* following the glue convention"
   ]
  },
  {
   "cell_type": "markdown",
   "metadata": {},
   "source": [
    "To make this easier for users who don't know/care about the glue internals, the helper can have an accessor to just get all the spectrum that currently appear:"
   ]
  },
  {
   "cell_type": "code",
   "execution_count": null,
   "metadata": {},
   "outputs": [],
   "source": [
    "specs = specviz.get_viewer_data()\n",
    "spec = specs[0]  #<- this is a Spectrum1D"
   ]
  },
  {
   "cell_type": "markdown",
   "metadata": {},
   "source": [
    "The `visible_spectrum` above would then be basically a shortcut for `specviz.get_viewer_data()[0]`, although it *might* also raise an exception if more than one spectrum is showing as a way for the user to be cued into the idea that they need to account for the possibility of multiple spectrum being shown.\n",
    "\n",
    "So then in the below, `specviz.visible_spectrum` is used for simplicity, but it should all work the same if `specviz.get_viewer_data()[0]` is substituted."
   ]
  },
  {
   "cell_type": "markdown",
   "metadata": {},
   "source": [
    " ## SPLOT commands addressed by data loading operations "
   ]
  },
  {
   "cell_type": "markdown",
   "metadata": {},
   "source": [
    "### Options: images\n",
    "\n",
    "*Description*:\n",
    "\n",
    "The actual spectrum file that gets loaded when splot starts.\n",
    "\n",
    "*Note* \"images\" here is a term SPLOT uses which seems to imply 2d spectra or cubes, but in this context means roughly \"a fits file with spectra in it\"."
   ]
  },
  {
   "cell_type": "markdown",
   "metadata": {},
   "source": [
    "### g -- get another spectrum\n",
    "\n",
    "*Description*:\n",
    "\n",
    "The current spectrum is replaced by the\n",
    "        new  spectrum.   The  aperture/line  and  band  are  queried  is \n",
    "        necessary.\n"
   ]
  },
  {
   "cell_type": "markdown",
   "metadata": {},
   "source": [
    "### Query: next_image\n",
    "\n",
    "*Description*:\n",
    "\n"
   ]
  },
  {
   "cell_type": "markdown",
   "metadata": {},
   "source": [
    "# Zoom/Pan\n",
    "\n",
    "The UI should support standard plot interaction options, including:\n",
    "\n",
    "* Zooming *vertically* (without zooming horizontally)\n",
    "* Zooming *horizontally* (without zooming vertically)\n",
    "* A \"reset to initial view\" option - i.e., show the whole spectrum.\n",
    "* Box-select zooming (implicitly also panning)\n",
    "* Standard \"hand\"/touch-style panning\n",
    "* Center view on click/keystroke (optional/lower priority)"
   ]
  },
  {
   "cell_type": "markdown",
   "metadata": {},
   "source": [
    "### Explicitly specifying limits\n",
    "\n",
    "There should also be a way to manually set the plot limits:\n",
    "\n",
    "1. In the notebook - e.g.:"
   ]
  },
  {
   "cell_type": "code",
   "execution_count": null,
   "metadata": {},
   "outputs": [],
   "source": [
    "specviz.y_limits = (0, 1000) # <- uses whatever the current units are\n",
    "\n",
    "# note this is already available as part of the glue viewer, so this should be syntactic sugar for something like:\n",
    "specviz.spectrum_viewer.state.y_min = 0\n",
    "specviz.spectrum_viewer.state.y_max = 1000"
   ]
  },
  {
   "cell_type": "markdown",
   "metadata": {},
   "source": [
    "    The notebook interface should also understand units.  That is, this should set the view to 5000 - 7000 angstroms regardless of what units the spectrum itself is in:"
   ]
  },
  {
   "cell_type": "code",
   "execution_count": null,
   "metadata": {},
   "outputs": [],
   "source": [
    "from astropy import units as u\n",
    "\n",
    "specviz.x_limits = (5000*u.angstrom, 7000*u.angstrom)\n",
    "\n",
    "# if possible this should *also* defer to glue for unit-handling, but if that is non-trivial it could be part of the helper class"
   ]
  },
  {
   "cell_type": "markdown",
   "metadata": {},
   "source": [
    "    The above should *also* support `SpectralRegion`s as a convenience.  E.g., the above should be the same as:"
   ]
  },
  {
   "cell_type": "code",
   "execution_count": null,
   "metadata": {},
   "outputs": [],
   "source": [
    "region = specutils.SpectralRegion(5000*u.angstrom, 7000*u.angstrom)\n",
    "specviz.x_limits = region"
   ]
  },
  {
   "cell_type": "markdown",
   "metadata": {},
   "source": [
    "    Closely related, it should be possible to \"flip\" the x-axis.  With manual specification this should be as simple as:"
   ]
  },
  {
   "cell_type": "code",
   "execution_count": null,
   "metadata": {},
   "outputs": [],
   "source": [
    "specviz.x_limits = (7000*u.angstrom, 5000*u.angstrom)"
   ]
  },
  {
   "cell_type": "markdown",
   "metadata": {},
   "source": [
    "    But it might also be useful to have a convenience:"
   ]
  },
  {
   "cell_type": "code",
   "execution_count": null,
   "metadata": {},
   "outputs": [],
   "source": [
    "specviz.flip_x()"
   ]
  },
  {
   "cell_type": "markdown",
   "metadata": {},
   "source": [
    "Note that an option to flip the x-axis is [ALREADY IMPLEMENTED] in glupyter, but the above may be convenient syntactic sugar"
   ]
  },
  {
   "cell_type": "markdown",
   "metadata": {},
   "source": [
    "2. In the UI, in general the above should use glue/bqplot's native controls for this, and this functionality should be added where it does not exist (although unit-specification support might be complex enough to treat as a stretch goal for the UI)."
   ]
  },
  {
   "cell_type": "markdown",
   "metadata": {},
   "source": [
    "#### Autoscaling:"
   ]
  },
  {
   "cell_type": "markdown",
   "metadata": {},
   "source": [
    "There should also be autoscale options which means \"go from the beginning to end\".  \n",
    "\n",
    "1. In the notebook, this might be as simple as:"
   ]
  },
  {
   "cell_type": "code",
   "execution_count": null,
   "metadata": {},
   "outputs": [],
   "source": [
    "specviz.reset_view()\n",
    "\n",
    "#which should be equivalent to:\n",
    "\n",
    "specviz.x_limits = 'auto'\n",
    "specviz.y_limits = 'auto'\n",
    "\n",
    "# or similar"
   ]
  },
  {
   "cell_type": "markdown",
   "metadata": {},
   "source": [
    "    Additionally, to address the SPLOT `b` command use case, it should be possible to do:"
   ]
  },
  {
   "cell_type": "code",
   "execution_count": null,
   "metadata": {},
   "outputs": [],
   "source": [
    "specviz.y_limits = (0, 'auto')"
   ]
  },
  {
   "cell_type": "markdown",
   "metadata": {},
   "source": [
    "    Which would mean \"go from 0 to wherever the highest y value is in the spectrum\""
   ]
  },
  {
   "cell_type": "markdown",
   "metadata": {},
   "source": [
    "    Additionally, autoscaling might be better done as a method, because we may want more complicated ways of doing autoscaling:"
   ]
  },
  {
   "cell_type": "code",
   "execution_count": null,
   "metadata": {},
   "outputs": [],
   "source": [
    "specviz.autoscale_y()  #<- same as above\n",
    "specivz.autoscale_y(sigma_clipping=True)  #<- y-scale using sigma-clipping to get the range to view - useful when a spectrum has a few artifact outliers  "
   ]
  },
  {
   "cell_type": "markdown",
   "metadata": {},
   "source": [
    "2. These notebook commands should eventually be exposed in the UI, probably via a plugin, although those using the glue machinery will already be available via glue itself."
   ]
  },
  {
   "cell_type": "markdown",
   "metadata": {},
   "source": [
    "## SPLOT commands addressed by pan/zoom:"
   ]
  },
  {
   "cell_type": "markdown",
   "metadata": {},
   "source": [
    "### a -- Expand and autoscale to the data range between two cursor positions\n",
    "\n",
    "*Description*:\n",
    "\n"
   ]
  },
  {
   "cell_type": "markdown",
   "metadata": {},
   "source": [
    "### b -- Set the plot base level to zero rather than autoscaling\n",
    "\n",
    "*Description*:\n",
    "\n"
   ]
  },
  {
   "cell_type": "markdown",
   "metadata": {},
   "source": [
    "### c -- clear all windowing and redraw the current full spectrum.\n",
    "\n",
    "*Description*:\n",
    "\n",
    "Clear  all windowing and redraw the full current spectrum.  This\n",
    "        redraws the spectrum and cancels any effects of  the  'a',  'z',\n",
    "        and  'w'  keys.  The 'r' key is used to redraw the spectrum with\n",
    "        the current windowing.\n",
    "    \n"
   ]
  },
  {
   "cell_type": "markdown",
   "metadata": {},
   "source": [
    "### r -- Redraw  the  spectrum with the current windowing.\n",
    "\n",
    "*Description*:\n",
    "\n",
    "Redraw  the  spectrum with the current windowing.  To redraw the\n",
    "        full spectrum and cancel any windowing use the 'c' key."
   ]
  },
  {
   "cell_type": "markdown",
   "metadata": {},
   "source": [
    "### w -- window the graph\n",
    "\n",
    "*Description*:\n",
    "\n",
    "Window the graph.  For further help type '?'  to  the  \"window:\"\n",
    "        prompt  or  see  help under \u000egtools\u000f.  To cancel the windowing use\n",
    "        'a'."
   ]
  },
  {
   "cell_type": "markdown",
   "metadata": {},
   "source": [
    "### z -- Zoom the graph by a factor of 2 in x.\n",
    "\n",
    "*Description*:\n",
    "\n"
   ]
  },
  {
   "cell_type": "markdown",
   "metadata": {},
   "source": [
    "### , -- Shift the graph window to the left.\n",
    "\n",
    "*Description*:\n",
    "\n"
   ]
  },
  {
   "cell_type": "markdown",
   "metadata": {},
   "source": [
    "### . -- Shift the graph window to the right.\n",
    "\n",
    "*Description*:\n",
    "\n"
   ]
  },
  {
   "cell_type": "markdown",
   "metadata": {},
   "source": [
    "### Options: wcreset\n",
    "\n",
    "*Description*:\n",
    "\n",
    "Option \n",
    "        \"wreset\"  resets  the  graph  limits  to  those specified by the\n",
    "        \u000exmin\u000f, \u000exmax\u000f, \u000eymin\u000f, \u000eymax\u000f parameters whenever  a  new  spectrum  is\n",
    "        plotted.  "
   ]
  },
  {
   "cell_type": "markdown",
   "metadata": {},
   "source": [
    "### Options: flip\n",
    "\n",
    "*Description*:\n",
    "\n",
    "The  \"flip\" option selects that initially the spectra\n",
    "        be plotted with decreasing  wavelengths. "
   ]
  },
  {
   "cell_type": "markdown",
   "metadata": {},
   "source": [
    "### Options: auto\n",
    "\n",
    "*Description*:\n",
    "\n",
    "Option  \"auto\"\n",
    "        automatically  replots  the  graph  whenever  changes  are made.\n",
    "        Otherwise the graph is replotted with  keystrokes  'c'  or  'r'."
   ]
  },
  {
   "cell_type": "markdown",
   "metadata": {},
   "source": [
    "### Options: zero\n",
    "\n",
    "*Description*:\n",
    "\n",
    "Option  \"zero\"  makes  the initial minimum y of the graphs occur\n",
    "        at zero.  Otherwise the limits are set  automatically  from  the\n",
    "        range  of  the  data  or  the  \u000eymin\u000f  parameter. "
   ]
  },
  {
   "cell_type": "markdown",
   "metadata": {},
   "source": [
    "### Initial limits of graph (xmim,xmax,ymin,ymax)\n",
    "\n",
    "*Description*:\n",
    "\n",
    " The  default  limits  for  the initial graph.  If INDEF then the\n",
    "        limit is determined from the range of  the  data  (autoscaling).\n",
    "        These  values  can  be changed interactively with 'w' window key\n",
    "        options or the cursor commands \":/xwindow\" and \":/ywindow\"  (see\n",
    "        \u000egtools\u000f).\n"
   ]
  },
  {
   "cell_type": "markdown",
   "metadata": {},
   "source": [
    "# Measurements over interactively-specified spectral regions"
   ]
  },
  {
   "cell_type": "markdown",
   "metadata": {},
   "source": [
    "Many science use cases depend on measurements of parts of a spectrum like spectral lines, which are most easily specified interactively in \"quick look\" situations.  Specviz should support this use case by:\n",
    "\n",
    "1. For notebooks, providing an easy way to extract SpectralRegion objects from selections made in the specviz UI. This would most straightforwardly be accomplished by making a subset selection, and then providing a way to convert that into a SpectralRegion.  E.g., if the user uses the horizontal-selection to create a subset,  they can do:"
   ]
  },
  {
   "cell_type": "code",
   "execution_count": null,
   "metadata": {},
   "outputs": [],
   "source": [
    "reg = specviz.get_selected_spectral_region()  #<- uses the \"most recent\" selection\n",
    "reg2 = specviz.get_selected_spectral_region('Subset 2')  #<- uses glue's name for the subset\n",
    "\n",
    "all_regs = specviz.get_selected_spectral_region(all=True)  #<- this would be *all* the subsets combined together into a single SpectralRegion object, which is [ALREADY IMPLEMENTED] by SpectralRegion (but not specviz).  \n",
    "# See the \"fractional_pixel_extraction\" jdaviz notebook for an example of the above"
   ]
  },
  {
   "cell_type": "markdown",
   "metadata": {},
   "source": [
    "    Note that it is critical for some use cases that the above should yield spectral regions that are correct *even to the sub-pixel*.  That is, if the user does a region selection that ends between two pixels, that should be reflected in the SpectralRegion - this means using subset *states* in glue instead of the subset itself.\n",
    "\n",
    "    These selections can now be used with standard specutils analysis functions in a notebook setting (these are [ALREADY IMPLEMENTED]):"
   ]
  },
  {
   "cell_type": "code",
   "execution_count": null,
   "metadata": {},
   "outputs": [],
   "source": [
    "specutils.analysis.line_flux(specviz.visible_spectrum, specviz.get_selected_spectral_region())\n",
    "\n",
    "specutils.analysis.equivalent_width(specviz.visible_spectrum, regions=specviz.get_selected_spectral_region())\n",
    "\n",
    "specutils.analysis.gaussian_fwhm(specviz.visible_spectrum, specviz.get_selected_spectral_region())\n",
    "\n",
    "specutils.analysis.snr(specviz.visible_spectrum, specviz.get_selected_spectral_region())"
   ]
  },
  {
   "cell_type": "markdown",
   "metadata": {},
   "source": [
    "    In addition to region selection, there is value in having a way to extract a specific point in the displayed spectrum into the notebook. (Some examples are shown below) - while there are many potential solutions to this, the simplest is a stateful/blocking \"get location\" method.  E.g.,"
   ]
  },
  {
   "cell_type": "code",
   "execution_count": null,
   "metadata": {},
   "outputs": [],
   "source": [
    "spectral_coordinate, flux_coordinate = specviz.get_marked_location()"
   ]
  },
  {
   "cell_type": "markdown",
   "metadata": {},
   "source": [
    "    This method would use a marked location that the user would mark using a special singleton marking tool. (and raise an exception if no mark is present).  This is the default thing to try first. \n",
    "    \n",
    "    An alternative (to be tried if the above does not meet user testing or is harder to implement) is to have this not be stateful but rather report on the last clicked location in the specviz plot.  Another alternative is to have a special single-pixel selection mode. Or it could be a \"blocking\" tool that locks up the kernel until the user clicks on a point (a la SPLOT)."
   ]
  },
  {
   "cell_type": "markdown",
   "metadata": {},
   "source": [
    "2. In the Desktop interface, relevant analysis functions like the above should be exposed as information plugins - when run this plugin would simply show the result of these functions as run in the latest `get_spectral_region` subset exactly as shown above but auto-update when the user creates a new/updates the current subset.\n",
    "\n",
    "    One additional related piece of functionality that should be added to the above plugins: provide a way to replicate the `e` key feature below.  That is, provide a quick way for the user to not just specify the spectral region, but also mark two points to do automatic continuum-specification.  This defines a simple linear continuum, which the plugin could subtract from and divide from the spectrum before doing the calculation desired.  How exactly the user specifies the two points is TBD, but perhaps could be a glue box-selection, or a special two-click stateful operation particular to the plugin.  \n",
    "    \n",
    "    Note that in *addition* to this there should eventually be a way to do more thorough model + continuum fitting options as outlined further below, but the emphasis here is on a quick-and-easy version like the `e` key of splot that doesn't require full understanding of continuum fitting. \n",
    "    \n",
    "3. Note that in the MAST interface, a lot of the same functionality is needed, although probably more simplified versions - to see a bit more detail see https://innerspace.stsci.edu/display/ASB/Rank+list+of+features, Functional Features - Visualization, Spectral Manipulation, and Spectral Analysis."
   ]
  },
  {
   "cell_type": "markdown",
   "metadata": {},
   "source": [
    "## SPLOT commands related to region-based measurements addressed above"
   ]
  },
  {
   "cell_type": "markdown",
   "metadata": {},
   "source": [
    "## e -- Measure equivalent width\n",
    "\n",
    "*Description*:\n",
    "\n",
    "Measure equivalent width by marking two continuum points  around\n",
    "        the  line  to  be  measured.  The linear continuum is subtracted\n",
    "        and the flux is determined by simply  summing  the  pixels  with\n",
    "        partial  pixels  at  the  ends.   Returned  values  are the line\n",
    "        center, continuum at the region center, flux above or below  the\n",
    "        continuum, and the equivalent width."
   ]
  },
  {
   "cell_type": "markdown",
   "metadata": {},
   "source": [
    "### h -- Measure  equivalent  widths assuming a gaussian profile with the         width measured at a specified point.\n",
    "\n",
    "*Description*:\n",
    "\n",
    "Measure  equivalent  widths assuming a gaussian profile with the\n",
    "        width measured at a specified point.  Note that this  is  not  a\n",
    "        gaussian  fit (see 'k' to fit a gaussian)!  The gaussian profile\n",
    "        determined here may be subtracted with the '-'  key.   A  second\n",
    "        cursor key is requested with one of the following values:\n",
    "\n",
    "        a   Mark  the  continuum  level  at  the line center and use the\n",
    "            LEFT half width at the half flux point.\n",
    "        \n",
    "        b   Mark the continuum level at the  line  center  and  use  the\n",
    "            RIGHT half width at the half flux point.\n",
    "        \n",
    "        c   Mark  the  continuum  level  at  the line center and use the\n",
    "            FULL width at the half flux point.\n",
    "        \n",
    "        l   Mark  a  flux  level  at  the  line  center  relative  to  a \n",
    "            normalized  continuum  and  use  the LEFT width at that flux\n",
    "            point.\n",
    "        \n",
    "        r   Mark  a  flux  level  at  the  line  center  relative  to  a \n",
    "            normalized  continuum  and  use the RIGHT width at that flux\n",
    "            point.\n",
    "        \n",
    "        k   Mark  a  flux  level  at  the  line  center  relative  to  a \n",
    "            normalized  continuum  and  use  the FULL width at that flux\n",
    "            point."
   ]
  },
  {
   "cell_type": "markdown",
   "metadata": {},
   "source": [
    "### m -- Compute the mean, RMS, and signal-to-noise over a region  marked         with two x cursor positions.\n",
    "\n",
    "*Description*:\n",
    "\n"
   ]
  },
  {
   "cell_type": "markdown",
   "metadata": {},
   "source": [
    "## SPACE -- prints  the  cursor  position  and value of the nearest pixel.\n",
    "\n",
    "*Description*:\n",
    "\n"
   ]
  },
  {
   "cell_type": "markdown",
   "metadata": {},
   "source": [
    "This could be exposed in the UI but in that case `jdaviz` is more consistent with a continuously-updated value instead of a \"only when a keystroke fires\" implementation.  \n",
    "\n",
    "TBD question: should it be a plugin, or (optional) part of the main UI/viewer?"
   ]
  },
  {
   "cell_type": "markdown",
   "metadata": {},
   "source": [
    "# Fitting-related functionality \n",
    "\n",
    "The below discussion includes both fitting in the sense of fitting individual spectral lines *and* continuum fitting.  Both use the same machinery, but with different appropriate models.\n",
    "\n",
    "1. For a notebook, most of the fitting-related functionality is best implemented via specutils and Astropy's model-fitting machinery applied to the specviz spectrum. All but the specviz-accessing parts are [ALREADY IMPLEMENTED]. E.g., to fit a order-12 legendre polynomial to a continuum while excluding the H$\\alpha$ region, and then using it to subtract the continuum from the existing specviz spectrum, one could do:"
   ]
  },
  {
   "cell_type": "code",
   "execution_count": null,
   "metadata": {},
   "outputs": [],
   "source": [
    "continuum = specutils.fitting.fit_continuum(specviz.visible_spectrum, \n",
    "                                            model=astropy.modeling.models.Legendre1D(12),\n",
    "                                            exclude_regions=[specutils.SpectralRegion.from_center(6563*u.angstrom, 30*u.angstrom)])\n",
    "\n",
    "continuum_subtracted_spectrum = specviz.visible_spectrum - continuum(specviz.visible_spectrum.spectral_axis)\n",
    "\n",
    "specviz.load_data(continuum_subtracted_spectrum)"
   ]
  },
  {
   "cell_type": "markdown",
   "metadata": {},
   "source": [
    "    An almost-identical interface can be used to fit spectral lines.  For example, to fit a voigt profile to the most-recently selected subset:"
   ]
  },
  {
   "cell_type": "code",
   "execution_count": null,
   "metadata": {},
   "outputs": [],
   "source": [
    "specutils.fitting.fit_lines(specviz.visible_spectrum,\n",
    "                            astropy.modeling.models.Voigt1D(),\n",
    "                            window=specviz.get_selected_region())"
   ]
  },
  {
   "cell_type": "markdown",
   "metadata": {},
   "source": [
    "2. for the desktop interface, A fitting UI is necessary for the above steps, which is currently in-progress for cubeviz.  The same model-fitting UI should be adopted for specviz.  Missing pieces that are needed to replicate SPLOT functionality include:\n",
    "\n",
    "    * A way to generate a new spectrum in specviz that comes from subtracting a fitted continuum from the current spectrum (overlaps with the arithmetic discussion below)\n",
    "    * A way to generate a new spectrum in specviz that comes from dividing by a fitted continuum from the current spectrum (overlaps with the arithmetic discussion below)\n",
    "    * Functionality to allow sigma-clipping as part of the fitting process (bonus/stretch goal to actually *show* the clipped points)\n",
    "    * Functionality to allow manual rejection of specific points to be excluded in the fit.\n",
    "    \n",
    "    Note that the first two are available trivially from the notebook interface.  The latter two area also possible from a notebook but not necessarily easy."
   ]
  },
  {
   "cell_type": "markdown",
   "metadata": {},
   "source": [
    "## SPLOT commands around fitting addressed above"
   ]
  },
  {
   "cell_type": "markdown",
   "metadata": {},
   "source": [
    "### t -- fit a function to the spectrum.\n",
    "\n",
    "*Description*:\n",
    "\n",
    "\n",
    "Fit a function to the spectrum using the ICFIT mode.   Typically interactive  rejection is used to exclude spectra lines from the fit in order to fit a  smooth  continuum.   A  second  keystroke selects what to do with the fit.\n",
    "        \n",
    "        /   Normalize  by  the  fit.   When  fitting  the continuum this\n",
    "            continuum normalizes the spectrum.\n",
    "        \n",
    "        -  Subtract the fit.  When fitting the continuum this  continuum\n",
    "           subtracts the spectrum.\n",
    "        \n",
    "        f   Replace the spectrum by the fit.\n",
    "        \n",
    "        c   Clean  the  spectrum by replacing any rejected points by the\n",
    "            fit.\n",
    "  \n",
    "        n   Do the fitting but leave the spectrum unchanged  (a  NOP  on\n",
    "            the  spectrum).   This  is  useful to play with the spectrum\n",
    "            using the capabilities of ICFIT.\n",
    "        \n",
    "        q   Quit  and  don't  do  any  fitting.   The  spectrum  is  not \n",
    "            modified.\n"
   ]
  },
  {
   "cell_type": "markdown",
   "metadata": {},
   "source": [
    "### d -- Mark two  continuum  points  and  fit  (deblend)  multiple  line         profiles.\n",
    "\n",
    "*Description*:\n",
    "\n",
    "Detailed description in the splot help file...\n"
   ]
  },
  {
   "cell_type": "markdown",
   "metadata": {},
   "source": [
    "### k -- Mark two continuum points and fit a single  line  profile.\n",
    "\n",
    "*Description*:\n",
    "\n",
    "Mark two continuum points and fit a single  line  profile.   The\n",
    "        second  key  selects  the type of profile: g for gaussian, l for\n",
    "        lorentzian, and v for voigt.  Any other second key  defaults  to\n",
    "        gaussian.   The center, continuum at the center, core intensity,\n",
    "        integrated flux, equivalent width, and  FWHMs  are  printed  and\n",
    "        saved  in  the  log file.  See 'd' for fitting multiple profile\n",
    "        and '-' to subtract the fit."
   ]
  },
  {
   "cell_type": "markdown",
   "metadata": {},
   "source": [
    "### - -- Subtract the fit\n",
    "\n",
    "*Description*:\n",
    "\n",
    "Subtract the fits generated by the 'd'  (deblend),  'k'  (single\n",
    "        profile  fit),  and  'h'  (gaussian  of  specified  width).  The\n",
    "        region to be subtracted is marked with two cursor positions."
   ]
  },
  {
   "cell_type": "markdown",
   "metadata": {},
   "source": [
    "### Fitting: function\n",
    "\n",
    "*Description*:\n",
    "\n",
    "Function   to   be  fit  to  the  spectra.   The  functions  are \n",
    "        \"legendre\"   (legendre   polynomial),   \"chebyshev\"   (chebyshev  \n",
    "        polynomial),  \"spline1\"  (linear  spline),  and \"spline3\" (cubic\n",
    "        spline).  The functions may be abbreviated.\n"
   ]
  },
  {
   "cell_type": "markdown",
   "metadata": {},
   "source": [
    "### Fitting: order\n",
    "\n",
    "*Description*:\n",
    "\n",
    "**order**\n",
    "        The order of the polynomials or the number of spline pieces."
   ]
  },
  {
   "cell_type": "markdown",
   "metadata": {},
   "source": [
    "### Fitting: low_reject, high_reject\n",
    "\n",
    "*Description*:\n",
    "\n",
    "Rejection limits below  and  above  the  fit  in  units  of  the\n",
    "        residual  sigma.   Unequal  limits  are  used to reject spectral\n",
    "        lines on one side of the continuum during continuum fitting.\n"
   ]
  },
  {
   "cell_type": "markdown",
   "metadata": {},
   "source": [
    "### Fitting: niterate\n",
    "\n",
    "*Description*:\n",
    "\n",
    "Number of rejection iterations."
   ]
  },
  {
   "cell_type": "markdown",
   "metadata": {},
   "source": [
    "### Fitting: grow\n",
    "\n",
    "*Description*:\n",
    "\n",
    "When a pixel is rejected, pixels within  this  distance  of  the\n",
    "        rejected pixel are also rejected.\n"
   ]
  },
  {
   "cell_type": "markdown",
   "metadata": {},
   "source": [
    "### Fitting: markrej\n",
    "\n",
    "*Description*:\n",
    "\n",
    "Mark  rejected  points?   If  there  are many rejected points it\n",
    "        might be desired to not mark rejected points."
   ]
  },
  {
   "cell_type": "markdown",
   "metadata": {},
   "source": [
    "# Arithmetic-related operations "
   ]
  },
  {
   "cell_type": "markdown",
   "metadata": {},
   "source": [
    "This section deals with arithmetic between multiple spectra.\n",
    "\n",
    "1. In the notebook, this is trivial, as `Spectrum1D` objects support arithmetic.  E.g., subtracting a smoothed version of a spectrum from the spectrum and showing it can be done as:"
   ]
  },
  {
   "cell_type": "code",
   "execution_count": null,
   "metadata": {},
   "outputs": [],
   "source": [
    "specviz.load_data(specviz.visible_spectrum - box_smooth(specviz.visible_spectrum, 10))"
   ]
  },
  {
   "cell_type": "markdown",
   "metadata": {},
   "source": [
    "2. In the UI, this is potentially much more complicated, as a plugin to support arithmetic would be necessary. Such a plugin is possible, but not necessarily desirable, as part experience suggests the feature requests for this quickly spiral, suggesting simply saying \"use the notebook\" is a better answer.\n",
    "\n",
    "    Note, though: two piece of arithmetic are critical: a way to subtract a fitted continuum and a way to divide by it.  These could be implemented as part of the *fitting* plugin, however, to avoid having to write a separate arithmetic plugin for this purpose. So the baseline specviz should include options for subtracting/dividing by continuum in the fitting UI, and a more general arithmetic plugin (which *must* use the same underlying `specutils` machinery to not confuse users) is an option to consider later."
   ]
  },
  {
   "cell_type": "markdown",
   "metadata": {},
   "source": [
    "## SPLOT commands related to arithmetic addressed above"
   ]
  },
  {
   "cell_type": "markdown",
   "metadata": {},
   "source": [
    "### Query: Spec2\n",
    "\n",
    "*Description*:\n",
    "\n"
   ]
  },
  {
   "cell_type": "markdown",
   "metadata": {},
   "source": [
    "### Query: constant\n",
    "\n",
    "*Description*:\n",
    "\n"
   ]
  },
  {
   "cell_type": "markdown",
   "metadata": {},
   "source": [
    "### f -- Arithmetic function mode\n",
    "\n",
    "*Description*:\n",
    "\n",
    "\n",
    "Enter  arithmetic  function  mode.  This  mode allows arithmetic\n",
    "        functions to be applied to the spectrum. The  pixel  values  are\n",
    "        modified  according  to the function request and may be saved as\n",
    "        a new spectrum with the 'i' command.  Operations with  a  second\n",
    "        spectrum  are  done  in wavelength space and the second spectrum\n",
    "        is automatically resampled if necessary.   If  one  spectrum  is\n",
    "        longer  than  the  other,  only the smaller number of pixels are\n",
    "        affected.  To exit this mode type 'q'.\n",
    "        \n",
    "The keystrokes listed in the checklist are available  in  the  function  mode.\n",
    "        Binary  operations  with a constant or a second spectrum produce\n",
    "        a query for the constant value or spectrum name.\n",
    "        "
   ]
  },
  {
   "cell_type": "markdown",
   "metadata": {},
   "source": [
    "# Unit-related operations"
   ]
  },
  {
   "cell_type": "markdown",
   "metadata": {},
   "source": [
    "Because `Spectrum1D` objects carry their units and spectral axes, many of the unit operations in SPLOT are implicit by virtue of having units associated with a spectrum. Additionally `glue` natively understands the concept of world coordinates (i.e., the spectral coordinate) and corresponding pixel coordinates.  Hence SPLOT-related functionality of setting wavelengths units or scales is most straightforwardly addressed in a notebook setting:\n",
    "\n",
    "1. For example, if a user starts with a spectrum that has only pixels but wants to specify a linear wavelength axis, they can simply create one in a new Spectrum1D:"
   ]
  },
  {
   "cell_type": "code",
   "execution_count": null,
   "metadata": {},
   "outputs": [],
   "source": [
    "new_spec = specutils.Spectrum1D(flux=specviz.visible_spectrum.flux,\n",
    "                     spectral_axis=np.linspace(4000*u.angstrom,7000*u.angstrom, specviz.visible_spectrum.flux.size))\n",
    "specviz.load_data(new_spec)"
   ]
  },
  {
   "cell_type": "markdown",
   "metadata": {},
   "source": [
    "And an even simpler operation to convert the flux units:"
   ]
  },
  {
   "cell_type": "code",
   "execution_count": null,
   "metadata": {},
   "outputs": [],
   "source": [
    "specviz.load_data(specviz.visible_spectrum.new_flux_unit(u.Jy))"
   ]
  },
  {
   "cell_type": "markdown",
   "metadata": {},
   "source": [
    "To change the *display* of the spectrum using specviz is less trivial, but should be possible - while a glue-style approach is feasible:"
   ]
  },
  {
   "cell_type": "code",
   "execution_count": null,
   "metadata": {},
   "outputs": [],
   "source": [
    "specviz.app.get_viewer().state.x_att = specviz.app.data_collection.data[0].components[0]"
   ]
  },
  {
   "cell_type": "markdown",
   "metadata": {},
   "source": [
    "A simple method that reproduces the above might be better:"
   ]
  },
  {
   "cell_type": "code",
   "execution_count": null,
   "metadata": {},
   "outputs": [],
   "source": [
    "specviz.use_pixel_axis()\n",
    "specviz.use_spectral_axis()"
   ]
  },
  {
   "cell_type": "markdown",
   "metadata": {},
   "source": [
    "2. Units should be *displayed* where available. Unit conversion in both the spectral_axis and the flux axis (including f_nu to f_lambda) should also be possible - ideally this is either the user types a unit in (using astropy units parsing), or a dropdown of common spectral units, or better yet: both (i.e. a dropdown with common units that can also be free-hand editable text - although this may or may not be an already existing vue/ipy widget?).  Note that it is a mandatory requirement that f_nu/f_lambda conversions *not* change the x-axis units unless specifically required, and therefore that this plugin support the y-axis unit conversions and x-axis conversions independently."
   ]
  },
  {
   "cell_type": "markdown",
   "metadata": {},
   "source": [
    "## SPLOT commands related to unit operations addressed above"
   ]
  },
  {
   "cell_type": "markdown",
   "metadata": {},
   "source": [
    "### $ -- Switch    between   physical   pixel   coordinates   and   world           (dispersion) coordinates.\n",
    "\n",
    "*Description*:\n",
    "\n"
   ]
  },
  {
   "cell_type": "markdown",
   "metadata": {},
   "source": [
    "### p -- define a linear wavelength scale\n",
    "\n",
    "*Description*:\n",
    "\n",
    "Define  a  linear  wavelength  scale.  The user is queried for a\n",
    "        starting  wavelength  and  an  ending  wavelength.   If   either \n",
    "        (though  not  both)  are  specified  as  INDEF  a  dispersion is\n",
    "        queried for and used  to  compute  an  endpoint.   A  wavelength\n",
    "        scale  set this way will be used for other spectra which are not\n",
    "        dispersion corrected.\n",
    "    "
   ]
  },
  {
   "cell_type": "markdown",
   "metadata": {},
   "source": [
    "### :units -- Change the coordinate units in the plot.\n",
    "\n",
    "*Description*:\n",
    "\n"
   ]
  },
  {
   "cell_type": "markdown",
   "metadata": {},
   "source": [
    "### Options: units\n",
    "\n",
    "*Description*:\n",
    "\n",
    "\n",
    "        Dispersion coordinate units for the plot.  If the  spectra  have\n",
    "        known  units,  currently  this is generally Angstroms, the units\n",
    "        may be converted to other units for  plotting  as  specified  by\n",
    "        this  task  parameter.  If this parameter is the null string and\n",
    "        the  world  coordinate  system  attribute   \"units_display\"   is \n",
    "        defined  then  that  will be used.  If both this task parameters\n",
    "        and \"units_display\" are not given then the  spectrum  dispersion\n",
    "        units   will   be   used.    The   units  may  also  be  changed \n",
    "        interactively.  See the units section of the \u000epackage\u000f help for  a\n",
    "        further description and available units.\n"
   ]
  },
  {
   "cell_type": "markdown",
   "metadata": {},
   "source": [
    "### l -- convert to f-lambda\n",
    "\n",
    "*Description*:\n",
    "\n",
    "Convert to flux per unit wavelength (f-lambda). The spectrum  is\n",
    "        assumed  to  be  flux  calibrated  in  flux  per  unit frequency\n",
    "        (f-nu).  See also 'n'."
   ]
  },
  {
   "cell_type": "markdown",
   "metadata": {},
   "source": [
    "### n -- convert to fnu\n",
    "\n",
    "*Description*:\n",
    "\n"
   ]
  },
  {
   "cell_type": "markdown",
   "metadata": {},
   "source": [
    "# Redshifting, line lists, and related spectral coordinate shifts "
   ]
  },
  {
   "cell_type": "markdown",
   "metadata": {},
   "source": [
    "There should be a redshift slider (optional?) somewhere in the specviz UI.  This slider should update the redshift/radial_velocity recorded in the spectrum's `.spectral_axis.redshift`/.spectral_axis.radial_velocity` attributes.\n",
    "\n",
    "1. In the notebook these can be accessed directly as informational items:"
   ]
  },
  {
   "cell_type": "code",
   "execution_count": null,
   "metadata": {},
   "outputs": [],
   "source": [
    "specviz.visible_spectrum.redshift, specviz.visible_spectrum.radial_velocity"
   ]
  },
  {
   "cell_type": "markdown",
   "metadata": {},
   "source": [
    "    Similarly, the functionality of the `u` and `v` keys are also available in the notebook as long as the pixel location under the cursor is available - e.g., to do the shift that corresponds to `u` followed by `z` and `6563` as the rest wavelength:"
   ]
  },
  {
   "cell_type": "code",
   "execution_count": null,
   "metadata": {},
   "outputs": [],
   "source": [
    "obs_wl = specviz.get_marked_location()[0]  #<- blocks until the user clicks a line\n",
    "specviz.visible_spectrum.redshift = obs_wl/6563-1"
   ]
  },
  {
   "cell_type": "markdown",
   "metadata": {},
   "source": [
    "Similar operations on `specviz.visible_spectrum.spectral_axis` allow `v` or other more complex workflows."
   ]
  },
  {
   "cell_type": "markdown",
   "metadata": {},
   "source": [
    "2. A plugin could be written to handle workflows like `u` and `v` below and have them set the redshift appropriately.  It is not clear these are common enough to need to be in a plugin as opposed to directing users to the notebook as stated above, however."
   ]
  },
  {
   "cell_type": "markdown",
   "metadata": {},
   "source": [
    "### Line lists "
   ]
  },
  {
   "cell_type": "markdown",
   "metadata": {},
   "source": [
    "While the redshift is useful contextual information, it is most important when used to identify spectral lines.  For this purpose the user needs to be able to input line lists appropriate for their science case. The below describe how to specify such line lists, but regardless the intent is for the user to then see those lines displayed in `specviz`, redshifted to wherever they should be given the value of the `.redshift`/`.radial_velocity` attribute.\n",
    "\n",
    "1. In the notebook line lists should be loadable straightforwardly as astropy tables with spectrally-appropriate units.  The most straightforward option is to consume any table that has 'linename' and 'rest' columns:"
   ]
  },
  {
   "cell_type": "code",
   "execution_count": null,
   "metadata": {},
   "outputs": [],
   "source": [
    "linelist_table = astropy.table.Table()\n",
    "linelist_table['linename'] = ['Halpha', 'Hbeta']\n",
    "linelist_table['rest'] = [6563, 4862]*u.angstrom\n",
    "linelist_table['more information'] = ...\n",
    "\n",
    "specviz.load_linelist(linelist_table)"
   ]
  },
  {
   "cell_type": "markdown",
   "metadata": {},
   "source": [
    "2. In the UI, either a plugin or a pane specifically dedicated to this (perhaps associated with the \"redshift\" slider?) should present a few options: a \"galaxies\" linelist, a \"stars\" linelist, and a \"load file...\" option.  The first two would be curated lists (ideally in `specutils` but could be in `jdaviz`), while \"load file...\" would prompt the user for a file, which would then be read as `astropy.table.Table.read('/path/to/file')`.  This ensures the same line list tables can be used in the notebook and the UI setting."
   ]
  },
  {
   "cell_type": "markdown",
   "metadata": {},
   "source": [
    "Regardless of the above, in the end vertical lines should appear at the locations specified in `'rest'`, and the UI should have at least a few styling options exposed (although that may be a lower-priority stretch goal in detail)."
   ]
  },
  {
   "cell_type": "markdown",
   "metadata": {},
   "source": [
    "### Marking lines\n",
    "\n",
    "Relatedly, there should be a way to quickly and easily mark a specific point in a spectrum and say \"find the line near here\".\n",
    "\n",
    "1. In the notebook this should be a method that follows the some workflow as the `get_marked_location` mentioned above, but combined with the `find_lines` and `centroid` functions in `specutils`.  E.g., the user would do something like:"
   ]
  },
  {
   "cell_type": "code",
   "execution_count": null,
   "metadata": {},
   "outputs": [],
   "source": [
    "line_center = specviz.mark_line(name='Halpha', line_finding_window=50*u.angstrom, ...other options for `find_lines` or `centroid`)"
   ]
  },
  {
   "cell_type": "markdown",
   "metadata": {},
   "source": [
    "    Which would then use find_lines to get a first guess and `centroid` to identify the center.  This would then get registered in specviz as one of the lines in this spectrum, which would allow something like:"
   ]
  },
  {
   "cell_type": "code",
   "execution_count": null,
   "metadata": {},
   "outputs": [],
   "source": [
    "z = specviz.guess_redshift_from_lines()\n",
    "spec.redshift = z"
   ]
  },
  {
   "cell_type": "markdown",
   "metadata": {},
   "source": [
    "    Which would find which marked lines match the linelist and use that to produce an estimate of the redshift. Note that this should all be \"syntactic sugar\" and clearly indicate in the docstring how the user might reproduce this workflow on their own if they want to e.g. use their own `centroid` function that works best for their specific data."
   ]
  },
  {
   "cell_type": "markdown",
   "metadata": {},
   "source": [
    "2. The above workflow should be available in a plugin for redshifting, which might *also* have options for x-corr redshifting (details of that TBD, but it is logically closely connected)."
   ]
  },
  {
   "cell_type": "markdown",
   "metadata": {},
   "source": [
    "### Rest/observed conversions\n",
    "\n",
    "Another important use case after the above are addressed is the ability to show a \"rest-frame\" x-axis.\n",
    "\n",
    "1. In the notebook, `specutils.spectral_axis` is now a `SpectralCoord` object that [already understands rest/observed conversions](https://docs.astropy.org/en/latest/coordinates/spectralcoord.html#reference-frame-transformations). For operations that require the rest x-axis, this should just require:"
   ]
  },
  {
   "cell_type": "code",
   "execution_count": null,
   "metadata": {},
   "outputs": [],
   "source": [
    "rest_axis = spec.spectral_axis.to_rest()\n",
    "... do something with rest_axis ..."
   ]
  },
  {
   "cell_type": "markdown",
   "metadata": {},
   "source": [
    "2. In the UI there should should be a toggle box somewhere to toggle between rest and observed.  This would use the `SpectralCoord` machinery exactly as shown above, updated as the redshift slider is moved.  A better alternative is to show *both* the rest and observed on the top and bottom, but that is not mandatory if it is technically difficult. Either way, the toggle of the UI state should also be accessible via a convenient helper along the lines of:"
   ]
  },
  {
   "cell_type": "code",
   "execution_count": null,
   "metadata": {},
   "outputs": [],
   "source": [
    "specviz.show_rest_spectral_axis()\n",
    "specviz.show_observed_spectral_axis()"
   ]
  },
  {
   "cell_type": "markdown",
   "metadata": {},
   "source": [
    "(And the vertical lines for any loaded line list then should appear at their appropriate *rest* locations)"
   ]
  },
  {
   "cell_type": "markdown",
   "metadata": {},
   "source": [
    "## SPLOT commands related to redshifting operations addressed above"
   ]
  },
  {
   "cell_type": "markdown",
   "metadata": {},
   "source": [
    "### u -- Adjust  the user coordinate scale.\n",
    "\n",
    "*Description*:\n",
    "\n",
    "Adjust  the user coordinate scale.  There are three options, 'd' mark a position with the  cursor  and  doppler  shift  it  to  a specified  value,  'z'  mark  a  position  with  the  cursor and zeropoint shift it  to  a  specified  value,  or  'l'  mark  two positions   and   enter   two  values  to  define  a  linear  (in  wavelength) dispersion scale.  The  units  used  for  input  are those  currently  displayed.   A  wavelength  scale set this way will  be  used  for  other  spectra  which  are  not  dispersion  corrected."
   ]
  },
  {
   "cell_type": "markdown",
   "metadata": {},
   "source": [
    "### v -- Toggle  to  a velocity scale using the position of the cursor as         the velocity origin and back.\n",
    "\n",
    "*Description*:\n",
    "\n"
   ]
  },
  {
   "cell_type": "markdown",
   "metadata": {},
   "source": [
    "# Functionality for multidimensional spectra\n",
    "\n",
    "SPLOT includes functionality (partly from broader IRAF) for doing spectral operations on multidimensional arrays like \"2d\" spectra or data cubes.  This is intentionally not a target for `specviz` so it is not a priority of the UI. Instead, `mosviz` and `cubeviz` target such datasets.  \n",
    "\n",
    "That said, much of the multidimensional SPLOT workflows can be addressed from the notebook by slicing spectrum objects (this does not address 2d or cube views, but SPLOT does not either):"
   ]
  },
  {
   "cell_type": "code",
   "execution_count": null,
   "metadata": {},
   "outputs": [],
   "source": [
    "import numpy as np\n",
    "spectrum2d = np.random.randn(50, 1024) # A fake \"2d spectrum\" to approximate a 50-pixel slit with 1024 spectral pixels along columns\n",
    "\n",
    "spec = specutils.Spectrum1D(spectral_axis=np.arange(1024)*u.pixel,\n",
    "                            flux=spectrum2d[25]*u.adu)\n",
    "specviz.load_data(spec)"
   ]
  },
  {
   "cell_type": "markdown",
   "metadata": {},
   "source": [
    "Or alternatively, if a data cube or other construct can be loaded as a `SpectrumCollection`, it could simply be loaded as:"
   ]
  },
  {
   "cell_type": "code",
   "execution_count": null,
   "metadata": {},
   "outputs": [],
   "source": [
    "speccoll = specutils.SpectrumCollection.read('...') # assume this is a 50x50xn_spec data cube\n",
    "\n",
    "specviz.load_data(speccoll[20, 30])  # shows the 20, 30th spaxel"
   ]
  },
  {
   "cell_type": "markdown",
   "metadata": {},
   "source": [
    "The above could potentially be exposed as part of a custom file-loading UI for the desktop tool, but it is not clear that this is a priority so should probably be considered a \"nice to have\" or \"stretch goal\"."
   ]
  },
  {
   "cell_type": "markdown",
   "metadata": {},
   "source": [
    "## SPLOT commands addressed by multidimensional loading or mosviz"
   ]
  },
  {
   "cell_type": "markdown",
   "metadata": {},
   "source": [
    "### Options: line and band: \n",
    "\n",
    "*Description*:\n",
    "\n",
    "One  may  use  an         image  section to select a desired column, line, or band\n",
    "\n",
    "**line, band**\n",
    "        The  image  line/aperture  and  band  to  plot  in  two or three\n",
    "        dimensional images.   For  multiaperture  spectra  the  aperture\n",
    "        specified  by  the  line  parameter  is  first sought and if not\n",
    "        found the specified image  line  is  selected.   For  other  two\n",
    "        dimensional   images,  such  as  long  slit  spectra,  the  line \n",
    "        parameter specifies a line or column.  Note  that  if  the  line\n",
    "        and  band  parameters  are specified on the command line it will\n",
    "        not be possible to change them interactively.\n"
   ]
  },
  {
   "cell_type": "markdown",
   "metadata": {},
   "source": [
    "### ( -- In multiaperture spectra go to the  spectrum  in  the  preceding         image  line.\n",
    "\n",
    "*Description*:\n",
    "\n",
    "In multiaperture spectra go to the  spectrum  in  the  preceding\n",
    "        image  line.   If  there  is only one line go to the spectrum in\n",
    "        the preceding band."
   ]
  },
  {
   "cell_type": "markdown",
   "metadata": {},
   "source": [
    "### ) -- In multiaperture spectra go to the  spectrum  in  the  following         image  line.\n",
    "\n",
    "*Description*:\n",
    "\n",
    "In multiaperture spectra go to the  spectrum  in  the  following\n",
    "        image  line.   If  there  is only one line go to the spectrum in\n",
    "        the following band."
   ]
  },
  {
   "cell_type": "markdown",
   "metadata": {},
   "source": [
    "### q -- quit and go to the next input spectrum\n",
    "\n",
    "*Description*:\n",
    "\n",
    "Quit and go on to next input spectrum.  After the last  spectrum\n",
    "        exit."
   ]
  },
  {
   "cell_type": "markdown",
   "metadata": {},
   "source": [
    "### # -- Get  a  different  line  in   multiaperture   spectra   or   two          dimensional images.\n",
    "\n",
    "*Description*:\n",
    "\n",
    "Get  a  different  line  in   multiaperture   spectra   or   two \n",
    "        dimensional images.  The aperture/line/column is queried."
   ]
  },
  {
   "cell_type": "markdown",
   "metadata": {},
   "source": [
    "### % -- Get a different band in a three dimensional image.\n",
    "\n",
    "*Description*:\n",
    "\n"
   ]
  },
  {
   "cell_type": "markdown",
   "metadata": {},
   "source": [
    "### :dispaxis <val> -- Show or change dispersion axis for 2D images.\n",
    "\n",
    "*Description*:\n",
    "\n"
   ]
  },
  {
   "cell_type": "markdown",
   "metadata": {},
   "source": [
    "### :sum -- Show or change summing for 2D images.\n",
    "\n",
    "*Description*:\n",
    "\n"
   ]
  },
  {
   "cell_type": "markdown",
   "metadata": {},
   "source": [
    "# Other implemented/to-implement SPLOT functionality"
   ]
  },
  {
   "cell_type": "markdown",
   "metadata": {},
   "source": [
    "## Options: histogram\n",
    "\n",
    "*Description*:\n",
    "\n",
    "Option \"histogram\"  plots  the  spectra  in  a  histogram  style\n",
    "        rather  than  connecting  the  pixel  centers. "
   ]
  },
  {
   "cell_type": "markdown",
   "metadata": {},
   "source": [
    "### Specviz Solution\n",
    "\n",
    "`specviz` should default to histogram style (although there's some disagreement about this), and it's a \"nice to have\" option to be able to toggle between that and line-connected style.  But either way this is non-critical."
   ]
  },
  {
   "cell_type": "markdown",
   "metadata": {},
   "source": [
    "## : log, nolog -- Enable/Disable  logging  of  measurements  to  the file specified by the parameter save_file.\n",
    "\n",
    "*Description*:\n",
    "\n"
   ]
  },
  {
   "cell_type": "markdown",
   "metadata": {},
   "source": [
    "### Options: save_file\n",
    "\n",
    "*Description*:\n",
    "\n",
    "save_file\n",
    "        The  file  to  contain  any  results generated by the equivalent\n",
    "        width or deblending functions.  Results are added to  this  file\n",
    "        until  the  file is deleted.  If the filename is null (\"\"), then\n",
    "        no results are saved.\n"
   ]
  },
  {
   "cell_type": "markdown",
   "metadata": {},
   "source": [
    "#### :# -- Add comment to logfile\n",
    "\n",
    "*Description*:\n",
    "\n"
   ]
  },
  {
   "cell_type": "markdown",
   "metadata": {},
   "source": [
    "#### :show -- Page the full output of  the  previous  deblend  and  equivalent         width measurements.\n",
    "\n",
    "*Description*:\n",
    "\n"
   ]
  },
  {
   "cell_type": "markdown",
   "metadata": {},
   "source": [
    "### Specviz Solution\n",
    "\n",
    "\n",
    "`specviz` will meet the logging need in two ways:\n",
    "\n",
    "1. For notebook-oriented workflows, the notebook itself can the \"save file\" - e.g., computing the equivalent width using a `SpectrumRegion` that's explicitly specified already records the result for reproducibility. [ALREADY IMPLEMENTED]\n",
    "2. For desktop tool workflows (or notebook workflows in part using plugins), a log should be available to track operations. This could/should use the standard Python logging functionality, but to reproduce the specific needs of SPLOT, plugins should have a way to explicitly say \"log my results\". This log file should be accessible in the UI which would then have a \"save\" option for the user to record this if they want to. Note it is not clearly exactly what workflows require this so it's somewhat \"nice-to-have\", and probably also needs a start/stop option (or at least a way to clear and then save only what came after clearing)."
   ]
  },
  {
   "cell_type": "markdown",
   "metadata": {},
   "source": [
    "## Labels: various forms of labeling\n",
    "\n",
    "*Description*:\n",
    "\n",
    "    Labels:\n",
    "\n",
    "        :label <label> <format>\n",
    "            Add a label at the cursor position.\n",
    "        \n",
    "        :mabove <label> <format>\n",
    "            Add  a  tick mark and label above the spectrum at the cursor\n",
    "            position.\n",
    "        \n",
    "        :mbelow <label> <format>\n",
    "            Add a tick mark and label below the spectrum at  the  cursor\n",
    "            position.\n",
    "        \n",
    "        The  label  must  be  quoted  if  it  contains  blanks.  A label\n",
    "        beginning with % (i.e. %.2f) is treated as a format  for  the  x\n",
    "        cursor  position.   The  optional  format is a gtext string (see\n",
    "        help on \"cursors\").   The  labels  are  not  remembered  between\n",
    "        redraws."
   ]
  },
  {
   "cell_type": "markdown",
   "metadata": {},
   "source": [
    "### Specviz Solution\n",
    "\n",
    "\n",
    "`bqplot` and `glue`/`glupyter` have mechanisms for setting labels.  It might be a bonus to add convenient accessors to make setting such labels easier along the lines of the cell below (but not this is not critical functionality):"
   ]
  },
  {
   "cell_type": "code",
   "execution_count": null,
   "metadata": {},
   "outputs": [],
   "source": [
    "specviz.set_flux_label('My Nobel Prize-winning spectrum', include_unit=False, ... other plotting options passed on to glue...)\n",
    "specviz.set_spec_label('My special name for the spectral axis', include_unit=True, ... other plotting options passed on to glue...)"
   ]
  },
  {
   "cell_type": "markdown",
   "metadata": {},
   "source": [
    "## i --  Write the current spectrum out to a new or existing image.\n",
    "\n",
    "*Description*:\n",
    "\n"
   ]
  },
  {
   "cell_type": "markdown",
   "metadata": {},
   "source": [
    "#### Query: new_image (for saving results of spectrum arithmetic)\n",
    "\n",
    "*Description*:\n",
    "\n",
    " In response to  'i'  (write  current  spectrum)  this  parameter\n",
    "        specifies  the  name  of a new image to create or existing image\n",
    "        to overwrite.\n",
    "\n",
    "Modifications  to  the spectra being analyzed may be saved using the\n",
    "    'i' key in a new, the current, or other  existing  spectra.   A  new\n",
    "    image  is  created  as  a new copy of the current spectrum and so if\n",
    "    the  current  spectrum  is  part  of  a  multiple   spectrum   image \n",
    "    (including  a  long slit spectrum) the other spectra are copied.  If\n",
    "    other spectra in the same image are then modified and saved use  the\n",
    "    overwrite  option  to  replace then in the new output image.  If the\n",
    "    output spectrum already exists then the \u000eoverwrite\u000f flag must  be  set\n",
    "    to  allow  modifying  the  data.   This  includes  the case when the\n",
    "    output spectrum is the same as the input  spectrum.   The  only  odd\n",
    "    case  here  is  when  the  input spectrum is one dimensional and the\n",
    "    output spectrum is two  dimensional.   In  this  case  the  user  is\n",
    "    queried for the line to be written.\n"
   ]
  },
  {
   "cell_type": "markdown",
   "metadata": {},
   "source": [
    "#### Query: overwrite\n",
    "\n",
    "*Description*:\n",
    "\n"
   ]
  },
  {
   "cell_type": "markdown",
   "metadata": {},
   "source": [
    "### Specviz Solution\n",
    "\n",
    "\n",
    "The above three can be addressed by:\n",
    "\n",
    "1. In the notebook, `Spectrum1D.write` is the best way to write out a spectrum in a standard way.\n",
    "2. In the desktop interface, a plugin to do `Spectrum1D.write` on a loaded spectrum is an option.  *However* it is not clear that this meets any needs if the arithmetic operations are not exposed in the UI (see the above discussion), so this should only be implemented if this is done and/or there is some other identified need. However, the outputs of *analysis* operations (as opposed to the modified spectrum itself) are important to be saveable, which should be done on a plugin-by-plugin basis."
   ]
  },
  {
   "cell_type": "markdown",
   "metadata": {},
   "source": [
    "### j -- Set  the  value  of  the  nearest pixel to the x cursor to the y         cursor position.\n",
    "\n",
    "*Description*:\n",
    "\n"
   ]
  },
  {
   "cell_type": "code",
   "execution_count": null,
   "metadata": {},
   "outputs": [],
   "source": [
    "specviz.visible_spectrum.flux[pixel_shown] = desired_value"
   ]
  },
  {
   "cell_type": "markdown",
   "metadata": {},
   "source": [
    "In principle this is [ALREADY IMPLEMENTED] *but* it is not clear to me if the current implementation allows in-place setting - that should be checked.\n",
    "\n",
    "2. In the UI this could be implemented as a plugin or a special selection mode, although it is not at all clear that this is that useful for any known \"desktop-specific\" use case if the notebook option above is supported and documented."
   ]
  },
  {
   "cell_type": "markdown",
   "metadata": {},
   "source": [
    "## s -- smooth via boxcar.\n",
    "\n",
    "*Description*:\n",
    "\n",
    "Smooth via a boxcar.  The user is prompted for the box size."
   ]
  },
  {
   "cell_type": "markdown",
   "metadata": {},
   "source": [
    "### Specviz Solution\n",
    "\n",
    "\n",
    "1. In a notebook, this is done via `specutils` smoothing functionality, which then would be given as an updated spectrum:"
   ]
  },
  {
   "cell_type": "code",
   "execution_count": null,
   "metadata": {},
   "outputs": [],
   "source": [
    "smoothed_spec = specutils.manipulation.box_smooth(specviz.visible_spectrum, width)\n",
    "specviz.add_data(smoothed_spec, show=True)  # <- to overplot\n",
    "specviz.load_data(smoothed_spec)  #<- to replace the current spectrum"
   ]
  },
  {
   "cell_type": "markdown",
   "metadata": {},
   "source": [
    "2. In the UI this can be implemented via a smoothing plugin that does the above [ALREADY IMPLEMENTED]"
   ]
  },
  {
   "cell_type": "markdown",
   "metadata": {},
   "source": [
    "# Specviz functionality in mosviz or cubeviz"
   ]
  },
  {
   "cell_type": "markdown",
   "metadata": {},
   "source": [
    "Note that some of the functionality here is also desirable in cubeviz or mosviz since both have a \"specviz view\". While the plugin architecture means plugins built for specviz can also work in other `jdaviz` configurations (as long as the viewers are named appropriately), the same does not hold for the notebook interactions outlined above.  For those, however, the below idiom should be used:"
   ]
  },
  {
   "cell_type": "code",
   "execution_count": null,
   "metadata": {},
   "outputs": [],
   "source": [
    "cubeviz = jdaviz.Cubeviz(...)\n",
    "... do whatever is necessary to load the relevant cubeviz data ...\n",
    "\n",
    "specviz = jdaviz.Specviz(app=cubeviz.app)\n",
    "specviz.autoscale_y() #<- assuming the viewer in cubeviz is the same name, this should work transparently"
   ]
  },
  {
   "cell_type": "markdown",
   "metadata": {},
   "source": [
    "# Won't-implement SPLOT features/options"
   ]
  },
  {
   "cell_type": "markdown",
   "metadata": {},
   "source": [
    "### x -- \"Etch-a-sketch\"  mode.  Straight   lines   are   drawn   between          successive  positions  of the cursor.\n",
    "\n",
    "*Description*:\n",
    "\n",
    "\"Etch-a-sketch\"  mode.  Straight   lines   are   drawn   between \n",
    "        successive  positions  of the cursor. Requires 2 cursor settings\n",
    "        in x.  The nearest pixels are used as the endpoints.  To draw  a\n",
    "        line  between  arbitrary  y  values  first use 'j' to adjust the\n",
    "        endpoints or set the \"xydraw\" option.\n",
    "        \n",
    "**NOTES** It's not clear any science use case really needs this, and if desired it is better to be done using plotting machinery directly."
   ]
  },
  {
   "cell_type": "markdown",
   "metadata": {},
   "source": [
    "### Options: xydraw\n",
    "\n",
    "*Description*:\n",
    "\n",
    "Option \"xydraw\"\n",
    "        changes the 'x' draw key to use both x and y cursor  values  for\n",
    "        drawing  rather  than  the  nearest pixel value for the y value.\n",
    "        \n",
    "**NOTES** (see `x` above)"
   ]
  },
  {
   "cell_type": "markdown",
   "metadata": {},
   "source": [
    "# Not-relevant-for-jdaviz SPLOT features/options "
   ]
  },
  {
   "cell_type": "markdown",
   "metadata": {},
   "source": [
    "### I -- Force a fatal error interrupt to leave the graph.\n",
    "\n",
    "*Description*:\n",
    "\n",
    "Force a fatal error interrupt to leave the graph.  This  is  used\n",
    "        because  the  normal  interrupt  character is ignored in graphics\n",
    "        mode.\n",
    "        \n",
    "**NOTES** There is no stateful \"graph\" in either the desktop tool or a notebook, so there is no need to have a special way to trigger an interrupt."
   ]
  },
  {
   "cell_type": "markdown",
   "metadata": {},
   "source": [
    "### Options: nosysid\n",
    "\n",
    "*Description*:\n",
    "\n",
    "Option \"nosysid\"\n",
    "        excludes  the  system  banner  from  the  graph  title.\n",
    "        \n",
    "**NOTES**: No relevant \"system banner\" in jdaviz"
   ]
  },
  {
   "cell_type": "markdown",
   "metadata": {},
   "source": [
    "### o -- set overplot flag / Options: overplot\n",
    "\n",
    "*Description*:\n",
    "\n",
    "Set  overplot  flag.   The  next  plot will overplot the current\n",
    "        plot.  Normally this key is immediately followed by one of  'g',\n",
    "        '#',  '%',  '(',  or  ')'.   The  \":overplot\"  colon command and\n",
    "        overplot parameter option may be used to set overplotting to  be\n",
    "        permanently on.\n",
    "        \n",
    "The  \"overplot\"  options \n",
    "        overplots all graphs and a screen erase  only  occurs  with  the\n",
    "        redraw key.\n",
    "\n",
    "**NOTES**: Natively supported by glue, but follows a different idiom (\"layers\"), so this way of thinking does not apply.  Instead multiple plotting layers can be turned on and off in the glupyter interface (UI or programmatically)."
   ]
  },
  {
   "cell_type": "markdown",
   "metadata": {},
   "source": [
    "### Options: nerrsample (number of samples for error calculation)\n",
    "\n",
    "*Description*:\n",
    "\n",
    "nerrsample = 0\n",
    "        Number of samples for the error computation.  A value less  than\n",
    "        10  turns  off  the  error  computation.   A value of ~10 does a\n",
    "        rough error analysis, a value of ~50  does  a  reasonable  error\n",
    "        analysis,  and a value >100 does a detailed error analysis.  The\n",
    "        larger this value the longer the analysis takes.\n",
    "        \n",
    "        \n",
    "**NOTES** Not relevant for specviz because uncertainty handling is part of the fitting/etc process not a global property of the viz tool"
   ]
  },
  {
   "cell_type": "markdown",
   "metadata": {},
   "source": [
    "### Options: sigma0 (used for calculating uncertainties)\n",
    "\n",
    "*Description*:\n",
    "\n",
    "** sigma0 = INDEF, invgain = INDEF **\n",
    "The pixel sigmas are modeled by the formula:\n",
    "        \n",
    "            sigma**2 = sigma0**2 + invgain * I\n",
    "        \n",
    "where I is the pixel value and \"**2\" means  the  square  of  the\n",
    "        quantity.   If  either parameter is specified as INDEF or with a\n",
    "        value less than zero then no sigma estimates are made and so  no\n",
    "        error estimates for the measured parameters are made.\n",
    "        \n",
    "**NOTES** Not relevant for specviz because uncertainty handling is part of the fitting/etc process not a global property of the viz tool"
   ]
  },
  {
   "cell_type": "markdown",
   "metadata": {},
   "source": [
    "### ? -- Page help information\n",
    "\n",
    "*Description*:\n",
    "\n",
    "**NOTES** IRAF-style help is not relevant for jdaviz - the documentation, docstrings, or tooltips, etc should be used"
   ]
  },
  {
   "cell_type": "markdown",
   "metadata": {},
   "source": [
    "### / -- Cycle through short status line help\n",
    "\n",
    "*Description*:\n",
    "\n",
    "\n",
    "**NOTES** IRAF-style help is not relevant for jdaviz - the documentation, docstrings, or tooltips, etc should be used\n"
   ]
  },
  {
   "cell_type": "markdown",
   "metadata": {},
   "source": [
    "### :/help -- get help on GTOOLS options\n",
    "\n",
    "*Description*:\n",
    "\n",
    "\n",
    "**NOTES** IRAF-style help is not relevant for jdaviz - the documentation, docstrings, or tooltips, etc should be used\n"
   ]
  },
  {
   "cell_type": "markdown",
   "metadata": {},
   "source": [
    "### :.help -- get help on standard cursor mode options\n",
    "\n",
    "*Description*:\n",
    "\n",
    "\n",
    "**NOTES** IRAF-style help is not relevant for jdaviz - the documentation, docstrings, or tooltips, etc should be used\n"
   ]
  },
  {
   "cell_type": "markdown",
   "metadata": {},
   "source": [
    "### Calibration: star_name\n",
    "\n",
    "*Description*:\n",
    "\n",
    "**NOTES** Calibration functionality is out-of-scope for specviz, as it should be in pipelines or part of custom (typically notebook) workflows."
   ]
  },
  {
   "cell_type": "markdown",
   "metadata": {},
   "source": [
    "### Calibration: mag\n",
    "\n",
    "*Description*:\n",
    "\n",
    "**NOTES** Calibration functionality is out-of-scope for specviz, as it should be in pipelines or part of custom (typically notebook) workflows."
   ]
  },
  {
   "cell_type": "markdown",
   "metadata": {},
   "source": [
    "### Calibration: magband\n",
    "\n",
    "*Description*:\n",
    "\n",
    "**NOTES** Calibration functionality is out-of-scope for specviz, as it should be in pipelines or part of custom (typically notebook) workflows."
   ]
  },
  {
   "cell_type": "markdown",
   "metadata": {},
   "source": [
    "### Calibration: teff\n",
    "\n",
    "*Description*:\n",
    "\n",
    "**NOTES** Calibration functionality is out-of-scope for specviz, as it should be in pipelines or part of custom (typically notebook) workflows."
   ]
  },
  {
   "cell_type": "markdown",
   "metadata": {},
   "source": [
    "### Calibration: caldir\n",
    "\n",
    "*Description*:\n",
    "\n",
    "**NOTES** Calibration functionality is out-of-scope for specviz, as it should be in pipelines or part of custom (typically notebook) workflows."
   ]
  },
  {
   "cell_type": "markdown",
   "metadata": {},
   "source": [
    "### Calibration: fnuzero\n",
    "\n",
    "*Description*:\n",
    "\n",
    "**NOTES** Calibration functionality is out-of-scope for specviz, as it should be in pipelines or part of custom (typically notebook) workflows."
   ]
  },
  {
   "cell_type": "markdown",
   "metadata": {},
   "source": [
    "### y -- Overplot standard star values from a calibration file.\n",
    "\n",
    "*Description*:\n",
    "\n",
    "**NOTES** Calibration functionality is out-of-scope for specviz, as it should be in pipelines or part of custom (typically notebook) workflows."
   ]
  },
  {
   "cell_type": "markdown",
   "metadata": {},
   "source": [
    "### Query: wavelength\n",
    "\n",
    "*Description*:\n",
    "\n",
    "**NOTES** Not relevant because anything that it is used for in IRAF would get a custom plugin input or a notebook keyword parameter."
   ]
  },
  {
   "cell_type": "markdown",
   "metadata": {},
   "source": [
    "### Query: linelist\n",
    "\n",
    "*Description*:\n",
    "\n",
    "\n",
    "**NOTES** Not relevant because anything that it is used for in IRAF would get a custom plugin input or a notebook keyword parameter."
   ]
  },
  {
   "cell_type": "markdown",
   "metadata": {},
   "source": [
    "### Query: wstart, wend, dw\n",
    "\n",
    "*Description*:\n",
    "\n",
    "\n",
    "**NOTES** Not relevant because anything that it is used for in IRAF would get a custom plugin input or a notebook keyword parameter."
   ]
  },
  {
   "cell_type": "markdown",
   "metadata": {},
   "source": [
    "### Query: boxsize (for smoothing)\n",
    "\n",
    "*Description*:\n",
    "\n",
    "**NOTES** Not relevant because anything that it is used for in IRAF would get a custom plugin input or a notebook keyword parameter."
   ]
  },
  {
   "cell_type": "markdown",
   "metadata": {},
   "source": [
    "# Temporary space "
   ]
  },
  {
   "cell_type": "code",
   "execution_count": null,
   "metadata": {},
   "outputs": [],
   "source": [
    "ss = app.data_collection.subset_groups[0].subsets[0].subset_state\n",
    "ss.lo, ss.hi"
   ]
  },
  {
   "cell_type": "markdown",
   "metadata": {},
   "source": [
    "### Code to import notebook content from Trello"
   ]
  },
  {
   "cell_type": "code",
   "execution_count": null,
   "metadata": {},
   "outputs": [],
   "source": [
    "import requests\n",
    "\n",
    "j = requests.get('https://trello.com/b/glMEUlE3.json').json()"
   ]
  },
  {
   "cell_type": "code",
   "execution_count": null,
   "metadata": {},
   "outputs": [],
   "source": [
    "import nbformat as nbf\n",
    "\n",
    "nb = nbf.read('Specviz from splot concept notebook.ipynb', nbf.NO_CONVERT)\n",
    "nbfapi = getattr(nbf, 'v'+str(nb['nbformat']))"
   ]
  },
  {
   "cell_type": "code",
   "execution_count": null,
   "metadata": {},
   "outputs": [],
   "source": [
    "for card in j['cards']:\n",
    "    if card['name'] == 'IRAF Splot help text':\n",
    "        continue\n",
    "    markdown_text = '### '+ card['name'] + '\\n\\n*Description*:\\n\\n' + card['desc']\n",
    "    nb['cells'].append(nbfapi.new_markdown_cell(markdown_text))\n",
    "nbf.write(nb, 'output.ipynb')\n",
    "# now manually move that to overwrite this file"
   ]
  },
  {
   "cell_type": "code",
   "execution_count": null,
   "metadata": {
    "scrolled": true
   },
   "outputs": [],
   "source": [
    "splot_help_file = requests.get(j['cards'][0]['attachments'][0]['url'])\n",
    "print(splot_help_file.text)"
   ]
  }
 ],
 "metadata": {
  "kernelspec": {
   "display_name": "Python 3 (ipykernel)",
   "language": "python",
   "name": "python3"
  },
  "language_info": {
   "codemirror_mode": {
    "name": "ipython",
    "version": 3
   },
   "file_extension": ".py",
   "mimetype": "text/x-python",
   "name": "python",
   "nbconvert_exporter": "python",
   "pygments_lexer": "ipython3",
   "version": "3.9.7"
  }
 },
 "nbformat": 4,
 "nbformat_minor": 4
}
