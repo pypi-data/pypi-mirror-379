{
 "cells": [
  {
   "cell_type": "markdown",
   "id": "2f38f4ba",
   "metadata": {},
   "source": [
    "# Add your own colormap to image viewer\n",
    "\n",
    "This should work with any image viewer that supports Glue colormaps. Imviz is just an example."
   ]
  },
  {
   "cell_type": "code",
   "execution_count": null,
   "id": "120961eb",
   "metadata": {},
   "outputs": [],
   "source": [
    "from glue.config import colormaps\n",
    "import matplotlib.cm as cm\n",
    "import numpy as np\n",
    "from photutils.utils import make_random_cmap\n",
    "\n",
    "from jdaviz import Imviz"
   ]
  },
  {
   "cell_type": "markdown",
   "id": "814eebc0",
   "metadata": {},
   "source": [
    "## Jet colormap from matplotlib"
   ]
  },
  {
   "cell_type": "code",
   "execution_count": null,
   "id": "3a577328",
   "metadata": {},
   "outputs": [],
   "source": [
    "desired_name = 'Jet'\n",
    "desired_cmap = cm.jet"
   ]
  },
  {
   "cell_type": "raw",
   "id": "75106b2f",
   "metadata": {},
   "source": [
    "# Another colormap\n",
    "desired_name = 'Reverse: Jet'\n",
    "desired_cmap = cm.jet_r"
   ]
  },
  {
   "cell_type": "raw",
   "id": "462dd3ed",
   "metadata": {},
   "source": [
    "# This will error if it is not there.\n",
    "colormaps.name_from_cmap(desired_cmap)"
   ]
  },
  {
   "cell_type": "code",
   "execution_count": null,
   "id": "d5d2991c",
   "metadata": {},
   "outputs": [],
   "source": [
    "colormaps.name_from_cmap(cm.gray)  # 'Gray' is pre-loaded already"
   ]
  },
  {
   "cell_type": "code",
   "execution_count": null,
   "id": "0cb12183",
   "metadata": {},
   "outputs": [],
   "source": [
    "# Add your colormap. Glue does not check for duplicates.\n",
    "colormaps.add(desired_name, desired_cmap)"
   ]
  },
  {
   "cell_type": "markdown",
   "id": "3766b63f",
   "metadata": {},
   "source": [
    "## Custom colormap from photutils"
   ]
  },
  {
   "cell_type": "code",
   "execution_count": null,
   "id": "6ba1e410",
   "metadata": {},
   "outputs": [],
   "source": [
    "randcmap = make_random_cmap(ncolors=256)\n",
    "randcmap.colors[0] = 0.  # To make your background black"
   ]
  },
  {
   "cell_type": "code",
   "execution_count": null,
   "id": "0b73339e",
   "metadata": {},
   "outputs": [],
   "source": [
    "colormaps.add('photutils_cmap', randcmap)"
   ]
  },
  {
   "cell_type": "markdown",
   "id": "dff49c83",
   "metadata": {},
   "source": [
    "## Display data and use the new colormaps\n",
    "\n",
    "Imviz started *after* the colormap is added will contain it under Plot Options. If you add another new colormap, you need to restart Imviz."
   ]
  },
  {
   "cell_type": "code",
   "execution_count": null,
   "id": "5f1ca5c8",
   "metadata": {},
   "outputs": [],
   "source": [
    "# Some data for Imviz.\n",
    "arr = np.arange(100).reshape((10, 10))"
   ]
  },
  {
   "cell_type": "code",
   "execution_count": null,
   "id": "678d4328",
   "metadata": {},
   "outputs": [],
   "source": [
    "imviz = Imviz()\n",
    "imviz.load_data(arr, data_label='array')\n",
    "imviz.show()"
   ]
  },
  {
   "cell_type": "markdown",
   "id": "02aaccb3",
   "metadata": {},
   "source": [
    "## Set a new colormap by API"
   ]
  },
  {
   "cell_type": "code",
   "execution_count": null,
   "id": "838c4bcd",
   "metadata": {},
   "outputs": [],
   "source": [
    "# View all possible options.\n",
    "imviz.default_viewer.colormap_options"
   ]
  },
  {
   "cell_type": "code",
   "execution_count": null,
   "id": "cc38a396",
   "metadata": {},
   "outputs": [],
   "source": [
    "# Set to a desired colormap name. Pick from options above.\n",
    "imviz.default_viewer.set_colormap('photutils_cmap')"
   ]
  },
  {
   "cell_type": "code",
   "execution_count": null,
   "id": "18788d6a",
   "metadata": {},
   "outputs": [],
   "source": []
  }
 ],
 "metadata": {
  "kernelspec": {
   "display_name": "Python 3 (ipykernel)",
   "language": "python",
   "name": "python3"
  },
  "language_info": {
   "codemirror_mode": {
    "name": "ipython",
    "version": 3
   },
   "file_extension": ".py",
   "mimetype": "text/x-python",
   "name": "python",
   "nbconvert_exporter": "python",
   "pygments_lexer": "ipython3",
   "version": "3.9.7"
  }
 },
 "nbformat": 4,
 "nbformat_minor": 5
}
