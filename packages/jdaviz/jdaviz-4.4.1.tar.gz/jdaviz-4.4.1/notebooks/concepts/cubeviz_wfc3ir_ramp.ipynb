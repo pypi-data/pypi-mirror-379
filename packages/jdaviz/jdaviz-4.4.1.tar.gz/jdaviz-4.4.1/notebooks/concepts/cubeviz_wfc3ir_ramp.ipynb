{
 "cells": [
  {
   "cell_type": "markdown",
   "id": "f9b661ba",
   "metadata": {},
   "source": [
    "# Cubeviz with WFC3/IR ramp"
   ]
  },
  {
   "cell_type": "markdown",
   "id": "17fb8a91",
   "metadata": {},
   "source": [
    "This concept notebook shows Cubeviz loading HST WFC3/IR ramp FITS file by collating the extensions and casting them as 3D Spectrum1D objects."
   ]
  },
  {
   "cell_type": "code",
   "execution_count": null,
   "id": "bc6b5f26",
   "metadata": {},
   "outputs": [],
   "source": [
    "import numpy as np\n",
    "from astropy import units as u\n",
    "from astropy.io import fits\n",
    "from astropy.nddata import StdDevUncertainty\n",
    "from astropy.utils.data import download_file\n",
    "from specutils import Spectrum1D\n",
    "\n",
    "from jdaviz import Cubeviz"
   ]
  },
  {
   "cell_type": "code",
   "execution_count": null,
   "id": "b3f97cd6",
   "metadata": {},
   "outputs": [],
   "source": [
    "wfc3ir_file = download_file('https://mast.stsci.edu/api/v0.1/Download/file?uri=mast:HST/product/icgk01a8q_ima.fits', cache=True)\n",
    "fits.info(wfc3ir_file)"
   ]
  },
  {
   "cell_type": "code",
   "execution_count": null,
   "id": "27bd1fd8",
   "metadata": {},
   "outputs": [],
   "source": [
    "sci_unit = u.electron / u.s  # From BUNIT but its value is invalid for astropy.units\n",
    "err_unit = sci_unit  # Assume the same\n",
    "\n",
    "with fits.open(wfc3ir_file) as pf:\n",
    "    primary_header = pf[0].header\n",
    "    sci_cube = np.stack([hdu.data for hdu in pf if hdu.name == 'SCI'], axis=2) * sci_unit\n",
    "    err_cube = np.stack([hdu.data for hdu in pf if hdu.name == 'ERR'], axis=2) * err_unit\n",
    "    dq_cube = np.stack([hdu.data for hdu in pf if hdu.name == 'DQ'], axis=2) * u.dimensionless_unscaled\n",
    "    \n",
    "uncertainty = StdDevUncertainty()\n",
    "uncertainty.array = err_cube\n",
    "\n",
    "sci_cube.shape"
   ]
  },
  {
   "cell_type": "code",
   "execution_count": null,
   "id": "889d8520",
   "metadata": {},
   "outputs": [],
   "source": [
    "sc = Spectrum1D(flux=sci_cube, uncertainty=uncertainty, mask=dq_cube, meta=primary_header)"
   ]
  },
  {
   "cell_type": "code",
   "execution_count": null,
   "id": "83612ebd",
   "metadata": {},
   "outputs": [],
   "source": [
    "cubeviz = Cubeviz()"
   ]
  },
  {
   "cell_type": "code",
   "execution_count": null,
   "id": "0ed4370c",
   "metadata": {},
   "outputs": [],
   "source": [
    "cubeviz.load_data(sc, data_label='icgk01a8q_ima')"
   ]
  },
  {
   "cell_type": "code",
   "execution_count": null,
   "id": "ee8379cd",
   "metadata": {},
   "outputs": [],
   "source": [
    "cubeviz.show()"
   ]
  },
  {
   "cell_type": "markdown",
   "id": "63b65d8e",
   "metadata": {},
   "source": [
    "For sanity check, we display first slice of `SCI` in Matplotlib. Both displays should look the same."
   ]
  },
  {
   "cell_type": "code",
   "execution_count": null,
   "id": "6e1b927c",
   "metadata": {},
   "outputs": [],
   "source": [
    "import matplotlib.pyplot as plt\n",
    "\n",
    "%matplotlib inline"
   ]
  },
  {
   "cell_type": "code",
   "execution_count": null,
   "id": "e5340f32",
   "metadata": {},
   "outputs": [],
   "source": [
    "arr = fits.getdata(wfc3ir_file, ext=1)\n",
    "arr.shape"
   ]
  },
  {
   "cell_type": "code",
   "execution_count": null,
   "id": "a76a5270",
   "metadata": {},
   "outputs": [],
   "source": [
    "plt.imshow(arr, origin='lower', vmin=0, vmax=1000)"
   ]
  },
  {
   "cell_type": "code",
   "execution_count": null,
   "id": "f47f3073",
   "metadata": {},
   "outputs": [],
   "source": []
  }
 ],
 "metadata": {
  "kernelspec": {
   "display_name": "Python 3 (ipykernel)",
   "language": "python",
   "name": "python3"
  },
  "language_info": {
   "codemirror_mode": {
    "name": "ipython",
    "version": 3
   },
   "file_extension": ".py",
   "mimetype": "text/x-python",
   "name": "python",
   "nbconvert_exporter": "python",
   "pygments_lexer": "ipython3",
   "version": "3.10.4"
  }
 },
 "nbformat": 4,
 "nbformat_minor": 5
}
