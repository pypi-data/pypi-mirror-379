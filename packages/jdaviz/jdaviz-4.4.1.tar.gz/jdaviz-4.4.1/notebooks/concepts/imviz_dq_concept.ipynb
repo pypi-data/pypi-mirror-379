{
 "cells": [
  {
   "cell_type": "markdown",
   "id": "67e77fe2-df29-4224-9989-685aa9755e0a",
   "metadata": {},
   "source": [
    "# DQ plugin concept"
   ]
  },
  {
   "cell_type": "code",
   "execution_count": null,
   "id": "82dca7aa-fc11-4c6e-987b-2ad1df1c9dc7",
   "metadata": {},
   "outputs": [],
   "source": [
    "import warnings\n",
    "from astroquery.mast import Observations\n",
    "import matplotlib.pyplot as plt\n",
    "from jdaviz import Imviz"
   ]
  },
  {
   "cell_type": "code",
   "execution_count": null,
   "id": "dd42275f-ee86-47c0-bf7e-c87ec82c72c3",
   "metadata": {},
   "outputs": [],
   "source": [
    "import warnings\n",
    "from astroquery.mast import Observations\n",
    "from jdaviz import Imviz\n",
    "\n",
    "imviz = Imviz()\n",
    "\n",
    "data_dir = \"../example_files\"\n",
    "\n",
    "uris = [\n",
    "    'mast:JWST/product/jw01895001004_07101_00001_nrca3_cal.fits',\n",
    "\n",
    "    # # Bonus: try with a second science data+DQ pair:\n",
    "    # 'mast:JWST/product/jw01895001004_04101_00001_nrca3_cal.fits'\n",
    "]\n",
    "\n",
    "for uri in uris:\n",
    "    fn = uri.split('/')[-1]\n",
    "    path = f'{data_dir}/{fn}'\n",
    "    result = Observations.download_file(uri, local_path=path)\n",
    "    with warnings.catch_warnings():\n",
    "        warnings.simplefilter('ignore')\n",
    "        imviz.load_data(path, ext=('SCI', 'DQ'))\n",
    "\n",
    "        ## Must also support:\n",
    "        # imviz.load_data(path, ext=\"*\")\n",
    "\n",
    "imviz.load_data(path, data_label='Roman L2', ext=('data', 'dq'))\n",
    "\n",
    "imviz.show(height=900)\n",
    "\n",
    "dq_plugin = imviz.plugins['Data Quality']._obj\n",
    "\n",
    "dq_plugin.open_in_tray()"
   ]
  },
  {
   "cell_type": "markdown",
   "id": "2cb12a5c-f6b8-4496-87c0-e61416fb2be5",
   "metadata": {},
   "source": [
    "Download Roman example data:"
   ]
  },
  {
   "cell_type": "code",
   "execution_count": null,
   "id": "cf968192-2bd5-4b6c-a905-5e4cc74d5b9a",
   "metadata": {},
   "outputs": [],
   "source": [
    "from astropy.utils.data import download_file\n",
    "\n",
    "# With the following optional dependencies, load a Roman L2 file:\n",
    "# roman_datamodels==0.18 rad==0.18\n",
    "roman_l2_url = 'https://stsci.box.com/shared/static/ktpt4li627kq4mipi3er5yd4qw6hq7ll.asdf'\n",
    "path = download_file(roman_l2_url, cache=True)"
   ]
  },
  {
   "cell_type": "markdown",
   "id": "e03209fa-b14e-444a-a631-0e5b64809cbb",
   "metadata": {},
   "source": [
    "Load into Imviz:"
   ]
  },
  {
   "cell_type": "code",
   "execution_count": null,
   "id": "b52bac5c-eceb-4f0c-b30a-44b711681e7c",
   "metadata": {},
   "outputs": [],
   "source": [
    "imviz.load_data(path, data_label='Roman L2', ext=('data', 'dq'))\n",
    "\n",
    "# Select the science data layer in the DQ plugin:\n",
    "dq_plugin.science_layer.selected = 'Roman L2[DATA]'"
   ]
  }
 ],
 "metadata": {
  "kernelspec": {
   "display_name": "Python 3 (ipykernel)",
   "language": "python",
   "name": "python3"
  },
  "language_info": {
   "codemirror_mode": {
    "name": "ipython",
    "version": 3
   },
   "file_extension": ".py",
   "mimetype": "text/x-python",
   "name": "python",
   "nbconvert_exporter": "python",
   "pygments_lexer": "ipython3",
   "version": "3.11.5"
  }
 },
 "nbformat": 4,
 "nbformat_minor": 5
}
