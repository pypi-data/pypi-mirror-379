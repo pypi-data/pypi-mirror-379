{
 "cells": [
  {
   "cell_type": "markdown",
   "id": "58adb96d",
   "metadata": {},
   "source": [
    "# Example of Total Internal Reflection on the Glass / Air interface\n",
    "\n",
    "Author: O. Castany, M.Müller"
   ]
  },
  {
   "cell_type": "code",
   "execution_count": 1,
   "id": "1af63167",
   "metadata": {
    "lines_to_next_cell": 2
   },
   "outputs": [],
   "source": [
    "import elli\n",
    "import matplotlib.pyplot as plt\n",
    "import numpy as np"
   ]
  },
  {
   "cell_type": "markdown",
   "id": "dea325fe",
   "metadata": {},
   "source": [
    "## Structure definition"
   ]
  },
  {
   "cell_type": "code",
   "execution_count": 2,
   "id": "58b82a07",
   "metadata": {
    "lines_to_next_cell": 2
   },
   "outputs": [],
   "source": [
    "# Refractive indices\n",
    "n_glass = 1.5\n",
    "n_air = 1.0\n",
    "\n",
    "# Materials:\n",
    "glass = elli.IsotropicMaterial(elli.ConstantRefractiveIndex(n_glass))\n",
    "air = elli.IsotropicMaterial(elli.ConstantRefractiveIndex(n_air))\n",
    "\n",
    "# Structure:\n",
    "s = elli.Structure(glass, [], air)\n",
    "\n",
    "# Wavelength\n",
    "lbda = 1000  # nm\n",
    "\n",
    "# Variation of incidence angle\n",
    "Phi_list = np.linspace(0, 89, 90)"
   ]
  },
  {
   "cell_type": "markdown",
   "id": "2f3b9632",
   "metadata": {},
   "source": [
    "## Calculation"
   ]
  },
  {
   "cell_type": "code",
   "execution_count": 3,
   "id": "4907ea29",
   "metadata": {
    "lines_to_next_cell": 2
   },
   "outputs": [],
   "source": [
    "data = elli.ResultList([s.evaluate(lbda, Phi_i) for Phi_i in Phi_list])"
   ]
  },
  {
   "cell_type": "markdown",
   "id": "7497a521",
   "metadata": {},
   "source": [
    "## Plotting"
   ]
  },
  {
   "cell_type": "code",
   "execution_count": 4,
   "id": "b127e651",
   "metadata": {
    "lines_to_next_cell": 2,
    "scrolled": true
   },
   "outputs": [
    {
     "data": {
      "image/png": "[encoded data removed]",
      "text/plain": [
       "<Figure size 432x288 with 1 Axes>"
      ]
     },
     "metadata": {
      "needs_background": "light"
     },
     "output_type": "display_data"
    }
   ],
   "source": [
    "plt.figure()\n",
    "plt.plot(Phi_list, data.R_pp, label=\"R_pp\")\n",
    "plt.plot(Phi_list, data.R_ss, label=\"R_ss\")\n",
    "plt.title(\"FTIR: Glass / Air\")\n",
    "plt.xlabel(\"Angle of incidence (°)\")\n",
    "plt.ylabel(r\"Reflexion coefficients $R$\")\n",
    "plt.legend()\n",
    "plt.show()"
   ]
  },
  {
   "cell_type": "code",
   "execution_count": null,
   "id": "39256411",
   "metadata": {},
   "outputs": [],
   "source": []
  }
 ],
 "metadata": {
  "jupytext": {
   "cell_metadata_filter": "-all",
   "encoding": "# encoding: utf-8",
   "executable": "/usr/bin/python",
   "formats": "auto:hydrogen,ipynb",
   "main_language": "python",
   "notebook_metadata_filter": "-all"
  },
  "kernelspec": {
   "display_name": "Python 3 (ipykernel)",
   "language": "python",
   "name": "python3"
  },
  "language_info": {
   "codemirror_mode": {
    "name": "ipython",
    "version": 3
   },
   "file_extension": ".py",
   "mimetype": "text/x-python",
   "name": "python",
   "nbconvert_exporter": "python",
   "pygments_lexer": "ipython3",
   "version": "3.11.1"
  },
  "widgets": {
   "application/vnd.jupyter.widget-state+json": {
    "state": {},
    "version_major": 2,
    "version_minor": 0
   }
  }
 },
 "nbformat": 4,
 "nbformat_minor": 5
}
