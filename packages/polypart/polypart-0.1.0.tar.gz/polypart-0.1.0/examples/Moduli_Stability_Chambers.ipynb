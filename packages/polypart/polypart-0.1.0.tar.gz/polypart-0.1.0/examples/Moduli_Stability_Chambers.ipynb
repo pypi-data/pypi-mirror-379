{
 "cells": [
  {
   "cell_type": "markdown",
   "id": "1476ccb0",
   "metadata": {},
   "source": [
    "# Counting Stability Chambers of Moduli Spaces\n",
    "\n",
    "This notebook shows how this partitioning algorithm is useful in **multiple areas of interest**.\n",
    "In particular, it has been used in **state-of-the-art research on moduli spaces of parabolic vector bundles**,\n",
    "where we used it to **count the number of stability chambers** for moduli spaces with parameters $n$ (number of stability points) and $r$ (rank of vector bundles).\n",
    "\n",
    "It has been applied across a **wide range of $(n, r)$**, leading to **different shapes and dimensionalities** (up to **7**), and **numbers of hyperplanes** (up to **~130**).\n",
    "\n",
    "For background see:  \n",
    "> [*A computational analysis of isomorphism classes of moduli spaces of parabolic vector bundles*](https://repositorio.comillas.edu/xmlui/handle/11531/89959)\n"
   ]
  },
  {
   "cell_type": "markdown",
   "id": "bf2b64f9",
   "metadata": {},
   "source": [
    "## Step 1. Imports and Setup"
   ]
  },
  {
   "cell_type": "code",
   "execution_count": 7,
   "id": "4ae3c695",
   "metadata": {},
   "outputs": [],
   "source": [
    "import numpy as np\n",
    "import itertools\n",
    "import math\n",
    "from fractions import Fraction\n",
    "from time import perf_counter\n",
    "\n",
    "from polypart.geometry import Polytope, Hyperplane\n",
    "from polypart.ppart import build_partition_tree\n",
    "from polypart.ftyping import as_fraction_vector\n",
    "from polypart.io import save_tree\n"
   ]
  },
  {
   "cell_type": "markdown",
   "id": "c7415cf7",
   "metadata": {},
   "source": [
    "\n",
    "## Step 2. Helper Functions\n",
    "\n",
    "We define functions to:\n",
    "- Construct the inequalities describing our initial polytope (product of simplices),\n",
    "- Generate the candidate hyperplanes (stability walls) that divide the space into chambers.\n"
   ]
  },
  {
   "cell_type": "code",
   "execution_count": 2,
   "id": "6f76f31b",
   "metadata": {},
   "outputs": [],
   "source": [
    "def generate_admissible_matrices_fixed_r_prime(n: int, r: int, r_prime: int, remove_even_symetry: bool = False):\n",
    "    combs = itertools.combinations(range(r), r_prime)\n",
    "    variations = itertools.product(combs, repeat=n)\n",
    "    N = math.comb(r, r_prime) ** n\n",
    "    for i, variation in enumerate(variations):\n",
    "        if remove_even_symetry and r == 2 * r_prime and i >= N // 2:\n",
    "            return\n",
    "        n_ = np.zeros((n, r), dtype=int)\n",
    "        for ii in range(n):\n",
    "            for jj in variation[ii]:\n",
    "                n_[ii, jj] = 1\n",
    "        yield n_\n",
    "\n",
    "def get_plane_intercept_bounds(w: np.ndarray):\n",
    "    w = w[:, ::-1]\n",
    "    cumsums = np.cumsum(w, axis=1)\n",
    "    cumsums = np.hstack((np.zeros_like(cumsums[:, :1]), cumsums))\n",
    "    lower_bound = cumsums.min(axis=1).sum()\n",
    "    upper_bound = cumsums.max(axis=1).sum()\n",
    "    return lower_bound, upper_bound\n",
    "\n",
    "def get_planes(n: int, r: int, d: int, use_epsilons=False):\n",
    "    planes = []\n",
    "    for r_prime in range(1, r // 2 + 1):\n",
    "        new_planes = []\n",
    "        for n_ in generate_admissible_matrices_fixed_r_prime(n, r, r_prime, True):\n",
    "            if use_epsilons:\n",
    "                n_ = n_[:, 1:]\n",
    "            v = r_prime - r * n_.flatten()\n",
    "            lower, upper = get_plane_intercept_bounds(r_prime - r * n_)\n",
    "            ks2 = [kp for kp in range(lower + 1, upper) if (kp + r_prime * d) % r == 0]\n",
    "            if len(ks2) > 0:\n",
    "                new_planes.append((v, ks2))\n",
    "        planes += new_planes\n",
    "    return planes\n",
    "\n",
    "def get_simplex_inequalities(n: int, r: int):\n",
    "    A = np.zeros((n * (r + 1), n * r), dtype=int)\n",
    "    b = np.zeros(n * (r + 1), dtype=int)\n",
    "    for i in range(n):\n",
    "        for j in range(r):\n",
    "            A[i * (r + 1) + j, i * r + j] = -1\n",
    "            A[i * (r + 1) + j + 1, i * r + j] = 1\n",
    "    for i in range(n):\n",
    "        b[i * (r + 1) : (i + 1) * (r + 1)] = 0\n",
    "        b[i * (r + 1) + r] = 1\n",
    "    return A, b\n"
   ]
  },
  {
   "cell_type": "markdown",
   "id": "a11ae6ec",
   "metadata": {},
   "source": [
    "\n",
    "## Step 3. Build the Polytope\n",
    "\n",
    "For given $n$ and $r$, we define the inequalities of the simplex (or product of simplices).  \n",
    "This forms the initial polytope for the partitioning algorithm.\n"
   ]
  },
  {
   "cell_type": "code",
   "execution_count": 3,
   "id": "c44e7276",
   "metadata": {},
   "outputs": [
    {
     "data": {
      "text/plain": [
       "Polytope(dim=6, n_ineq=7, n_vertices=unknown)"
      ]
     },
     "execution_count": 3,
     "metadata": {},
     "output_type": "execute_result"
    }
   ],
   "source": [
    "n = 1\n",
    "r = 7\n",
    "A, b = get_simplex_inequalities(n, r - 1)\n",
    "simplex = Polytope(A, b)\n",
    "simplex\n"
   ]
  },
  {
   "cell_type": "markdown",
   "id": "44f1c106",
   "metadata": {},
   "source": [
    "## Step 4. Generate Candidate Hyperplanes\n",
    "These hyperplanes represent boundaries of stability chambers.\n"
   ]
  },
  {
   "cell_type": "code",
   "execution_count": 4,
   "id": "d3134feb",
   "metadata": {},
   "outputs": [
    {
     "data": {
      "text/plain": [
       "65"
      ]
     },
     "execution_count": 4,
     "metadata": {},
     "output_type": "execute_result"
    }
   ],
   "source": [
    "stability_walls = get_planes(n, r, 0, use_epsilons=True)\n",
    "candidate_hyperplanes = [\n",
    "    Hyperplane(as_fraction_vector(v), Fraction(k))\n",
    "    for (v, ks) in stability_walls\n",
    "    for k in ks\n",
    "]\n",
    "len(candidate_hyperplanes)\n"
   ]
  },
  {
   "cell_type": "markdown",
   "id": "a0c7c75e",
   "metadata": {},
   "source": [
    "\n",
    "## Step 5. Build the Partition Tree\n",
    "\n",
    "We now apply the partitioning algorithm to the polytope and the set of candidate hyperplanes.  \n",
    "The algorithm outputs the total number of chambers and the decision tree representing the partition.\n"
   ]
  },
  {
   "cell_type": "code",
   "execution_count": 5,
   "id": "ff872de8",
   "metadata": {},
   "outputs": [
    {
     "name": "stdout",
     "output_type": "stream",
     "text": [
      "Found 1000 chambers...\n",
      "Found 1296 chambers in 6.46 s\n"
     ]
    }
   ],
   "source": [
    "start = perf_counter()\n",
    "tree, n_chambers = build_partition_tree(simplex, candidate_hyperplanes)\n",
    "elapsed = perf_counter() - start\n",
    "print(f\"Found {n_chambers} chambers in {elapsed:.2f} s\")\n"
   ]
  },
  {
   "cell_type": "markdown",
   "id": "1bffb6fa",
   "metadata": {},
   "source": [
    "## Step 6. Saving the Tree (Optional)\n",
    "\n",
    "The decision tree is highly useful in research, for example in identifying **isomorphisms** between stability chambers.  \n",
    "It can be saved to disk for later analysis.\n"
   ]
  },
  {
   "cell_type": "code",
   "execution_count": 6,
   "id": "a9517ba3",
   "metadata": {},
   "outputs": [],
   "source": [
    "# save_tree(tree, f\"moduli_n{n}_r{r}.json\")\n"
   ]
  }
 ],
 "metadata": {
  "kernelspec": {
   "display_name": "Python 3",
   "language": "python",
   "name": "python3"
  },
  "language_info": {
   "codemirror_mode": {
    "name": "ipython",
    "version": 3
   },
   "file_extension": ".py",
   "mimetype": "text/x-python",
   "name": "python",
   "nbconvert_exporter": "python",
   "pygments_lexer": "ipython3",
   "version": "3.10.6"
  }
 },
 "nbformat": 4,
 "nbformat_minor": 5
}
