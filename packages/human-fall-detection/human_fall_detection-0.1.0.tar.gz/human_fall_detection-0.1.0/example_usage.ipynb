{
 "cells": [
  {
   "cell_type": "markdown",
   "metadata": {},
   "source": [
    "# Human Fall Detection Example\n",
    "\n",
    "YOLOv8-based fall detection system demonstration"
   ]
  },
  {
   "cell_type": "markdown",
   "metadata": {},
   "source": [
    "## 1. Detect Image"
   ]
  },
  {
   "cell_type": "code",
   "execution_count": null,
   "metadata": {},
   "outputs": [],
   "source": [
    "import fall_detection\n",
    "from IPython.display import Image, display\n",
    "\n",
    "# Detect single image\n",
    "result = fall_detection.process_image(\n",
    "    \"test_src/test.jpg\",\n",
    "    \"results/output.jpg\",\n",
    "    confidence=0.36,\n",
    ")\n",
    "\n",
    "# Show results\n",
    "print(f\"Fall detected: {result['fall_detected']}\")\n",
    "print(f\"Fall count: {result['fall_count']}\")\n",
    "print(f\"Normal count: {result['normal_count']}\")\n",
    "\n",
    "# Display image\n",
    "if result['image_saved']:\n",
    "    display(Image(filename=result['image_saved']))"
   ]
  },
  {
   "cell_type": "markdown",
   "metadata": {},
   "source": [
    "## 2. Detect Video"
   ]
  },
  {
   "cell_type": "code",
   "execution_count": null,
   "metadata": {},
   "outputs": [],
   "source": [
    "import fall_detection\n",
    "\n",
    "# Process video\n",
    "result = fall_detection.process_video(\n",
    "    \"test_src/test.mp4\",\n",
    "    \"results/fall_detection/output.mp4\",\n",
    "    confidence=0.36\n",
    ")\n",
    "\n",
    "print(f\"Total frames: {result['total_frames']}\")\n",
    "print(f\"Fall frames: {result['fall_frames']}\")\n",
    "print(f\"Total fall detections: {result['statistics']['fall_count']}\")\n",
    "print(f\"Total normal detections: {result['statistics']['normal_count']}\")"
   ]
  },
  {
   "cell_type": "markdown",
   "metadata": {},
   "source": [
    "## 3. Using Detector Class"
   ]
  },
  {
   "cell_type": "code",
   "execution_count": null,
   "metadata": {},
   "outputs": [],
   "source": [
    "from fall_detection import FallDetector\n",
    "import cv2\n",
    "from IPython.display import Image, display\n",
    "\n",
    "# Create detector\n",
    "detector = FallDetector(confidence=0.6)\n",
    "\n",
    "# Read image\n",
    "img = cv2.imread(\"test_src/test.jpg\")\n",
    "\n",
    "# Detect\n",
    "result = detector.detect_image(img)\n",
    "\n",
    "# Save result\n",
    "cv2.imwrite(\"results/output.jpg\", result['annotated_image'])\n",
    "\n",
    "print(f\"Detection complete!\")\n",
    "print(f\"Falls: {result['fall_count']}\")\n",
    "print(f\"Normal: {result['normal_count']}\")\n",
    "\n",
    "# Display result\n",
    "display(Image(filename=\"results/output.jpg\"))"
   ]
  },
  {
   "cell_type": "markdown",
   "metadata": {},
   "source": [
    "## 4. Real-time Camera Detection"
   ]
  },
  {
   "cell_type": "code",
   "execution_count": null,
   "metadata": {},
   "outputs": [],
   "source": [
    "from fall_detection import FallDetector\n",
    "import cv2\n",
    "\n",
    "# Create detector\n",
    "detector = FallDetector(confidence=0.5)\n",
    "\n",
    "# Open camera\n",
    "cap = cv2.VideoCapture(0)\n",
    "\n",
    "print(\"Press 'q' to quit\")\n",
    "\n",
    "while True:\n",
    "    ret, frame = cap.read()\n",
    "    if not ret:\n",
    "        break\n",
    "    \n",
    "    # Detect\n",
    "    result = detector.detect_image(frame)\n",
    "    \n",
    "    # Show\n",
    "    cv2.imshow('Fall Detection', result['annotated_image'])\n",
    "    \n",
    "    if cv2.waitKey(1) & 0xFF == ord('q'):\n",
    "        break\n",
    "\n",
    "cap.release()\n",
    "cv2.destroyAllWindows()\n",
    "print(\"Camera closed\")"
   ]
  }
 ],
 "metadata": {
  "kernelspec": {
   "display_name": "human-fall-detection",
   "language": "python",
   "name": "python3"
  },
  "language_info": {
   "codemirror_mode": {
    "name": "ipython",
    "version": 3
   },
   "file_extension": ".py",
   "mimetype": "text/x-python",
   "name": "python",
   "nbconvert_exporter": "python",
   "pygments_lexer": "ipython3",
   "version": "3.11.9"
  }
 },
 "nbformat": 4,
 "nbformat_minor": 4
}
