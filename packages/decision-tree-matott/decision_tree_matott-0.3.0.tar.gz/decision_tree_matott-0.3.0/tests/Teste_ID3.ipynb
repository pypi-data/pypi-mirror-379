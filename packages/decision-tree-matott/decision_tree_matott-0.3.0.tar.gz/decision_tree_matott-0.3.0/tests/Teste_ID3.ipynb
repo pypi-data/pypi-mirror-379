{
 "cells": [
  {
   "cell_type": "markdown",
   "id": "20e39cf3",
   "metadata": {},
   "source": [
    "# Imports e dependências"
   ]
  },
  {
   "cell_type": "code",
   "execution_count": null,
   "id": "734c9400",
   "metadata": {},
   "outputs": [],
   "source": [
    "import pandas as pd\n",
    "\n",
    "from decision_tree_matott import tree as decision_tree"
   ]
  },
  {
   "cell_type": "markdown",
   "id": "15361b7d",
   "metadata": {},
   "source": [
    "# Carregamento de dados"
   ]
  },
  {
   "cell_type": "code",
   "execution_count": 2,
   "id": "676a96dd",
   "metadata": {},
   "outputs": [],
   "source": [
    "\n",
    "# Abrir dados\n",
    "dados = pd.read_csv('restaurante.csv', sep=';')\n",
    "# Separar em dados e resultados\n",
    "classe = 'Conclusao'\n",
    "#\n",
    "data = dados.drop(columns=classe)\n",
    "df = pd.DataFrame(data)\n",
    "#results = dados\n",
    "results = dados[classe]"
   ]
  },
  {
   "cell_type": "code",
   "execution_count": 3,
   "id": "f1d33531",
   "metadata": {},
   "outputs": [
    {
     "data": {
      "text/html": [
       "<div>\n",
       "<style scoped>\n",
       "    .dataframe tbody tr th:only-of-type {\n",
       "        vertical-align: middle;\n",
       "    }\n",
       "\n",
       "    .dataframe tbody tr th {\n",
       "        vertical-align: top;\n",
       "    }\n",
       "\n",
       "    .dataframe thead th {\n",
       "        text-align: right;\n",
       "    }\n",
       "</style>\n",
       "<table border=\"1\" class=\"dataframe\">\n",
       "  <thead>\n",
       "    <tr style=\"text-align: right;\">\n",
       "      <th></th>\n",
       "      <th>Alternativo</th>\n",
       "      <th>Bar</th>\n",
       "      <th>SexSab</th>\n",
       "      <th>fome</th>\n",
       "      <th>Cliente</th>\n",
       "      <th>Preco</th>\n",
       "      <th>Chuva</th>\n",
       "      <th>Res</th>\n",
       "      <th>Tipo</th>\n",
       "      <th>Tempo</th>\n",
       "    </tr>\n",
       "  </thead>\n",
       "  <tbody>\n",
       "    <tr>\n",
       "      <th>0</th>\n",
       "      <td>Sim</td>\n",
       "      <td>Nao</td>\n",
       "      <td>Nao</td>\n",
       "      <td>Sim</td>\n",
       "      <td>Alguns</td>\n",
       "      <td>RRR</td>\n",
       "      <td>Nao</td>\n",
       "      <td>Sim</td>\n",
       "      <td>Frances</td>\n",
       "      <td>0-10</td>\n",
       "    </tr>\n",
       "    <tr>\n",
       "      <th>1</th>\n",
       "      <td>Sim</td>\n",
       "      <td>Nao</td>\n",
       "      <td>Nao</td>\n",
       "      <td>Sim</td>\n",
       "      <td>Cheio</td>\n",
       "      <td>R</td>\n",
       "      <td>Nao</td>\n",
       "      <td>Nao</td>\n",
       "      <td>Tailandes</td>\n",
       "      <td>30-60</td>\n",
       "    </tr>\n",
       "    <tr>\n",
       "      <th>2</th>\n",
       "      <td>Nao</td>\n",
       "      <td>Sim</td>\n",
       "      <td>Nao</td>\n",
       "      <td>Nao</td>\n",
       "      <td>Alguns</td>\n",
       "      <td>R</td>\n",
       "      <td>Nao</td>\n",
       "      <td>Nao</td>\n",
       "      <td>Hamburger</td>\n",
       "      <td>0-10</td>\n",
       "    </tr>\n",
       "    <tr>\n",
       "      <th>3</th>\n",
       "      <td>Sim</td>\n",
       "      <td>Nao</td>\n",
       "      <td>Sim</td>\n",
       "      <td>Sim</td>\n",
       "      <td>Cheio</td>\n",
       "      <td>R</td>\n",
       "      <td>Sim</td>\n",
       "      <td>Nao</td>\n",
       "      <td>Tailandes</td>\n",
       "      <td>10-30</td>\n",
       "    </tr>\n",
       "    <tr>\n",
       "      <th>4</th>\n",
       "      <td>Sim</td>\n",
       "      <td>Nao</td>\n",
       "      <td>Sim</td>\n",
       "      <td>Nao</td>\n",
       "      <td>Cheio</td>\n",
       "      <td>RRR</td>\n",
       "      <td>Nao</td>\n",
       "      <td>Sim</td>\n",
       "      <td>Frances</td>\n",
       "      <td>&gt;60</td>\n",
       "    </tr>\n",
       "    <tr>\n",
       "      <th>5</th>\n",
       "      <td>Nao</td>\n",
       "      <td>Sim</td>\n",
       "      <td>Nao</td>\n",
       "      <td>Sim</td>\n",
       "      <td>Alguns</td>\n",
       "      <td>RR</td>\n",
       "      <td>Sim</td>\n",
       "      <td>Sim</td>\n",
       "      <td>Italiano</td>\n",
       "      <td>0-10</td>\n",
       "    </tr>\n",
       "    <tr>\n",
       "      <th>6</th>\n",
       "      <td>Nao</td>\n",
       "      <td>Sim</td>\n",
       "      <td>Nao</td>\n",
       "      <td>Nao</td>\n",
       "      <td>Nenhum</td>\n",
       "      <td>R</td>\n",
       "      <td>Sim</td>\n",
       "      <td>Nao</td>\n",
       "      <td>Hamburger</td>\n",
       "      <td>0-10</td>\n",
       "    </tr>\n",
       "    <tr>\n",
       "      <th>7</th>\n",
       "      <td>Nao</td>\n",
       "      <td>Nao</td>\n",
       "      <td>Nao</td>\n",
       "      <td>Sim</td>\n",
       "      <td>Alguns</td>\n",
       "      <td>RR</td>\n",
       "      <td>Sim</td>\n",
       "      <td>Sim</td>\n",
       "      <td>Tailandes</td>\n",
       "      <td>0-10</td>\n",
       "    </tr>\n",
       "    <tr>\n",
       "      <th>8</th>\n",
       "      <td>Nao</td>\n",
       "      <td>Sim</td>\n",
       "      <td>Sim</td>\n",
       "      <td>Nao</td>\n",
       "      <td>Cheio</td>\n",
       "      <td>R</td>\n",
       "      <td>Sim</td>\n",
       "      <td>Nao</td>\n",
       "      <td>Hamburger</td>\n",
       "      <td>&gt;60</td>\n",
       "    </tr>\n",
       "    <tr>\n",
       "      <th>9</th>\n",
       "      <td>Sim</td>\n",
       "      <td>Sim</td>\n",
       "      <td>Sim</td>\n",
       "      <td>Sim</td>\n",
       "      <td>Cheio</td>\n",
       "      <td>RRR</td>\n",
       "      <td>Nao</td>\n",
       "      <td>Sim</td>\n",
       "      <td>Italiano</td>\n",
       "      <td>10-30</td>\n",
       "    </tr>\n",
       "    <tr>\n",
       "      <th>10</th>\n",
       "      <td>Nao</td>\n",
       "      <td>Nao</td>\n",
       "      <td>Nao</td>\n",
       "      <td>Nao</td>\n",
       "      <td>Nenhum</td>\n",
       "      <td>R</td>\n",
       "      <td>Nao</td>\n",
       "      <td>Nao</td>\n",
       "      <td>Tailandes</td>\n",
       "      <td>0-10</td>\n",
       "    </tr>\n",
       "    <tr>\n",
       "      <th>11</th>\n",
       "      <td>Sim</td>\n",
       "      <td>Sim</td>\n",
       "      <td>Sim</td>\n",
       "      <td>Sim</td>\n",
       "      <td>Cheio</td>\n",
       "      <td>R</td>\n",
       "      <td>Nao</td>\n",
       "      <td>Nao</td>\n",
       "      <td>Hamburger</td>\n",
       "      <td>30-60</td>\n",
       "    </tr>\n",
       "  </tbody>\n",
       "</table>\n",
       "</div>"
      ],
      "text/plain": [
       "   Alternativo  Bar SexSab fome Cliente Preco Chuva  Res       Tipo  Tempo\n",
       "0          Sim  Nao    Nao  Sim  Alguns   RRR   Nao  Sim    Frances   0-10\n",
       "1          Sim  Nao    Nao  Sim   Cheio     R   Nao  Nao  Tailandes  30-60\n",
       "2          Nao  Sim    Nao  Nao  Alguns     R   Nao  Nao  Hamburger   0-10\n",
       "3          Sim  Nao    Sim  Sim   Cheio     R   Sim  Nao  Tailandes  10-30\n",
       "4          Sim  Nao    Sim  Nao   Cheio   RRR   Nao  Sim    Frances    >60\n",
       "5          Nao  Sim    Nao  Sim  Alguns    RR   Sim  Sim   Italiano   0-10\n",
       "6          Nao  Sim    Nao  Nao  Nenhum     R   Sim  Nao  Hamburger   0-10\n",
       "7          Nao  Nao    Nao  Sim  Alguns    RR   Sim  Sim  Tailandes   0-10\n",
       "8          Nao  Sim    Sim  Nao   Cheio     R   Sim  Nao  Hamburger    >60\n",
       "9          Sim  Sim    Sim  Sim   Cheio   RRR   Nao  Sim   Italiano  10-30\n",
       "10         Nao  Nao    Nao  Nao  Nenhum     R   Nao  Nao  Tailandes   0-10\n",
       "11         Sim  Sim    Sim  Sim   Cheio     R   Nao  Nao  Hamburger  30-60"
      ]
     },
     "execution_count": 3,
     "metadata": {},
     "output_type": "execute_result"
    }
   ],
   "source": [
    "df"
   ]
  },
  {
   "cell_type": "code",
   "execution_count": 4,
   "id": "b7cd441b",
   "metadata": {},
   "outputs": [
    {
     "name": "stdout",
     "output_type": "stream",
     "text": [
      "Frances\n",
      "Tailandes\n",
      "Hamburger\n",
      "Tailandes\n",
      "Frances\n",
      "Italiano\n",
      "Hamburger\n",
      "Tailandes\n",
      "Hamburger\n",
      "Italiano\n",
      "Tailandes\n",
      "Hamburger\n"
     ]
    }
   ],
   "source": [
    "for instancia in df['Tipo']:\n",
    "    print(instancia)"
   ]
  },
  {
   "cell_type": "code",
   "execution_count": 5,
   "id": "1fba73f5",
   "metadata": {},
   "outputs": [
    {
     "data": {
      "text/plain": [
       "0     Sim\n",
       "1     Nao\n",
       "2     Sim\n",
       "3     Sim\n",
       "4     Nao\n",
       "5     Sim\n",
       "6     Nao\n",
       "7     Sim\n",
       "8     Nao\n",
       "9     Nao\n",
       "10    Nao\n",
       "11    Sim\n",
       "Name: Conclusao, dtype: object"
      ]
     },
     "execution_count": 5,
     "metadata": {},
     "output_type": "execute_result"
    }
   ],
   "source": [
    "results"
   ]
  },
  {
   "cell_type": "markdown",
   "id": "4ec9d5d0",
   "metadata": {},
   "source": [
    "# Criar árvore"
   ]
  },
  {
   "cell_type": "code",
   "execution_count": 6,
   "id": "5a022e8c",
   "metadata": {},
   "outputs": [],
   "source": [
    "# Criar árvore e definir critérios\n",
    "arvore = id3.ID3(-1, 0, data, results, 'Conclusao')"
   ]
  },
  {
   "cell_type": "code",
   "execution_count": 7,
   "id": "6fb724c6",
   "metadata": {},
   "outputs": [],
   "source": [
    "# Gerar árvore\n",
    "arvore.create_tree(data, results)"
   ]
  },
  {
   "cell_type": "markdown",
   "id": "fcf33f38",
   "metadata": {},
   "source": [
    "# Testar modelo"
   ]
  },
  {
   "cell_type": "markdown",
   "id": "f93e7651",
   "metadata": {},
   "source": [
    "### Testar árvore"
   ]
  },
  {
   "cell_type": "markdown",
   "id": "a2180222",
   "metadata": {},
   "source": [
    "### Obter acurácia do teste"
   ]
  },
  {
   "cell_type": "markdown",
   "id": "f706214d",
   "metadata": {},
   "source": [
    "### Matriz de confusão"
   ]
  },
  {
   "cell_type": "code",
   "execution_count": 10,
   "id": "606b98a6",
   "metadata": {},
   "outputs": [],
   "source": [
    "conjunto = ['Nao', 'Sim']\n",
    "n_conjunto = len(conjunto)"
   ]
  },
  {
   "cell_type": "code",
   "execution_count": null,
   "id": "80c520bb",
   "metadata": {},
   "outputs": [],
   "source": [
    "dataframe = pd.DataFrame(index=conjunto, columns=conjunto)"
   ]
  },
  {
   "cell_type": "code",
   "execution_count": null,
   "id": "ba26af2d",
   "metadata": {},
   "outputs": [
    {
     "data": {
      "text/html": [
       "<div>\n",
       "<style scoped>\n",
       "    .dataframe tbody tr th:only-of-type {\n",
       "        vertical-align: middle;\n",
       "    }\n",
       "\n",
       "    .dataframe tbody tr th {\n",
       "        vertical-align: top;\n",
       "    }\n",
       "\n",
       "    .dataframe thead th {\n",
       "        text-align: right;\n",
       "    }\n",
       "</style>\n",
       "<table border=\"1\" class=\"dataframe\">\n",
       "  <thead>\n",
       "    <tr style=\"text-align: right;\">\n",
       "      <th></th>\n",
       "      <th>Nao</th>\n",
       "      <th>Sim</th>\n",
       "    </tr>\n",
       "  </thead>\n",
       "  <tbody>\n",
       "    <tr>\n",
       "      <th>Nao</th>\n",
       "      <td>NaN</td>\n",
       "      <td>NaN</td>\n",
       "    </tr>\n",
       "    <tr>\n",
       "      <th>Sim</th>\n",
       "      <td>NaN</td>\n",
       "      <td>NaN</td>\n",
       "    </tr>\n",
       "  </tbody>\n",
       "</table>\n",
       "</div>"
      ],
      "text/plain": [
       "     Nao  Sim\n",
       "Nao  NaN  NaN\n",
       "Sim  NaN  NaN"
      ]
     },
     "execution_count": 15,
     "metadata": {},
     "output_type": "execute_result"
    }
   ],
   "source": [
    "dataframe"
   ]
  },
  {
   "cell_type": "markdown",
   "id": "f6b2df02",
   "metadata": {},
   "source": [
    "# Resultado"
   ]
  },
  {
   "cell_type": "code",
   "execution_count": 8,
   "id": "a66d6923",
   "metadata": {},
   "outputs": [
    {
     "name": "stdout",
     "output_type": "stream",
     "text": [
      "0 - Sim (/Sim 6//Nao 6/) | Informacao: 0.5408520829727552 | Regra derivada: Cliente\n"
     ]
    }
   ],
   "source": [
    "print(arvore.root)"
   ]
  },
  {
   "cell_type": "code",
   "execution_count": 9,
   "id": "cfbe0c3f",
   "metadata": {},
   "outputs": [
    {
     "name": "stdout",
     "output_type": "stream",
     "text": [
      "{}  0 - Sim (/Sim 6//Nao 6/) | Informacao: 0.5408520829727552 | Regra derivada: Cliente\n",
      "\t{Alguns}  1 - Sim (/Sim 4/) | Informacao: 1.0 | Regra derivada: (Nó final)\n",
      "\t{Cheio}  1 - Nao (/Sim 2//Nao 4/) | Informacao: 0.2516291673878229 | Regra derivada: fome\n",
      "\t\t{Sim}  2 - Sim (/Sim 2//Nao 2/) | Informacao: 0.5 | Regra derivada: Tipo\n",
      "\t\t\t{Italiano}  3 - Nao (/Nao 1/) | Informacao: 1.0 | Regra derivada: (Nó final)\n",
      "\t\t\t{Hamburger}  3 - Sim (/Sim 1/) | Informacao: 1.0 | Regra derivada: (Nó final)\n",
      "\t\t\t{Tailandes}  3 - Sim (/Sim 1//Nao 1/) | Informacao: 1.0 | Regra derivada: SexSab\n",
      "\t\t\t\t{Sim}  4 - Sim (/Sim 1/) | Informacao: 1.0 | Regra derivada: (Nó final)\n",
      "\t\t\t\t{Nao}  4 - Nao (/Nao 1/) | Informacao: 1.0 | Regra derivada: (Nó final)\n",
      "\t\t{Nao}  2 - Nao (/Nao 2/) | Informacao: 1.0 | Regra derivada: (Nó final)\n",
      "\t{Nenhum}  1 - Nao (/Nao 2/) | Informacao: 1.0 | Regra derivada: (Nó final)\n"
     ]
    }
   ],
   "source": [
    "print(arvore.__str__())"
   ]
  }
 ],
 "metadata": {
  "kernelspec": {
   "display_name": "Python 3",
   "language": "python",
   "name": "python3"
  },
  "language_info": {
   "codemirror_mode": {
    "name": "ipython",
    "version": 3
   },
   "file_extension": ".py",
   "mimetype": "text/x-python",
   "name": "python",
   "nbconvert_exporter": "python",
   "pygments_lexer": "ipython3",
   "version": "3.13.2"
  }
 },
 "nbformat": 4,
 "nbformat_minor": 5
}
