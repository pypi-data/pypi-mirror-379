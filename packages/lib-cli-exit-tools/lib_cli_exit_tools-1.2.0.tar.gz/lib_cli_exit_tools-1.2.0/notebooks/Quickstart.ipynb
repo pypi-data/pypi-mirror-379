{
 "cells": [
  {
   "cell_type": "markdown",
   "id": "intro",
   "metadata": {},
   "source": [
    "# lib_cli_exit_tools Quickstart\n",
    "\n",
    "Install the package (from PyPI or GitHub), then try the CLI and API examples below."
   ]
  },
  {
   "cell_type": "markdown",
   "id": "github-title",
   "metadata": {},
   "source": [
    "## 1) Install latest from GitHub (default)"
   ]
  },
  {
   "cell_type": "code",
   "execution_count": null,
   "id": "github-install",
   "metadata": {},
   "outputs": [],
   "source": [
    "# update pip and setuptools\n",
    "import sys\n",
    "\n",
    "!{sys.executable} -m pip install --upgrade pip\n",
    "!{sys.executable} -m pip install --upgrade setuptools\n",
    "\n",
    "# install lib_cli_exit_tools from GitHub (default)\n",
    "!{sys.executable} -m pip install --upgrade git+https://github.com/bitranox/lib_cli_exit_tools.git"
   ]
  },
  {
   "cell_type": "markdown",
   "id": "pypi-title",
   "metadata": {},
   "source": [
    "## Or: Install from PyPI (alternative)\n",
    "Uncomment and run the cell below if you prefer the PyPI release."
   ]
  },
  {
   "cell_type": "code",
   "execution_count": null,
   "id": "pypi-install",
   "metadata": {},
   "outputs": [],
   "source": [
    "# !{sys.executable} -m pip install --upgrade lib_cli_exit_tools\n"
   ]
  },
  {
   "cell_type": "markdown",
   "id": "cli-title",
   "metadata": {},
   "source": [
    "## 2) CLI: version and help"
   ]
  },
  {
   "cell_type": "code",
   "execution_count": null,
   "id": "cli-code",
   "metadata": {},
   "outputs": [],
   "source": [
    "!lib_cli_exit_tools --version\n",
    "!lib_cli_exit_tools --help\n",
    "!lib_cli_exit_tools info"
   ]
  },
  {
   "cell_type": "markdown",
   "id": "lib-title",
   "metadata": {},
   "source": [
    "## 3) Library usage: map exceptions to exit codes"
   ]
  },
  {
   "cell_type": "code",
   "execution_count": null,
   "id": "lib-code",
   "metadata": {},
   "outputs": [],
   "source": [
    "import lib_cli_exit_tools\n",
    "\n",
    "# show short messages\n",
    "lib_cli_exit_tools.config.traceback = False\n",
    "try:\n",
    "    raise FileNotFoundError(\"missing.txt\")\n",
    "except Exception as e:\n",
    "    code = lib_cli_exit_tools.get_system_exit_code(e)  # 2 on POSIX\n",
    "    lib_cli_exit_tools.print_exception_message()  # prints: FileNotFoundError: missing.txt\n",
    "    # In a real CLI you might exit with the code.\n",
    "    # raise SystemExit(code)\n",
    "    # In this notebook we just display it to keep execution green.\n",
    "    print(f\"Exit code would be: {code}\")"
   ]
  }
 ],
 "metadata": {
  "kernelspec": {
   "display_name": "Python 3",
   "language": "python",
   "name": "python3"
  },
  "language_info": {
   "name": "python",
   "version": "3"
  }
 },
 "nbformat": 4,
 "nbformat_minor": 5
}
