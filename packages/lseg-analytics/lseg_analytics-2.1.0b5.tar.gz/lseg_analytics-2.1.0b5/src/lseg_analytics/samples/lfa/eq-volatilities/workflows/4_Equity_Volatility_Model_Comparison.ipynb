{
 "cells": [
  {
   "cell_type": "markdown",
   "id": "1a108871",
   "metadata": {},
   "source": [
    "# Equity Volatility Model Comparison"
   ]
  },
  {
   "cell_type": "markdown",
   "id": "3a4cef20",
   "metadata": {},
   "source": [
    "This notebook demonstrates how to **compare different volatility models** using the **LSEG Analytics SDK**. \n",
    "\n",
    "By calculating multiple volatility surfaces with different model configurations, you can analyze how different mathematical approaches affect the resulting implied volatility structure. This is essential for model validation, risk analysis, and choosing appropriate models for specific use cases.\n",
    "\n",
    "**What you'll learn:**\n",
    "- How to calculate multiple volatility surfaces in a single request\n",
    "- Comparing different volatility models (SVI vs SSVI)\n",
    "- Visualizing differences between model outputs\n",
    "- Batch processing multiple surface configurations\n"
   ]
  },
  {
   "cell_type": "markdown",
   "id": "7cd0ad84",
   "metadata": {},
   "source": [
    "## Imports"
   ]
  },
  {
   "cell_type": "markdown",
   "id": "37a963b7",
   "metadata": {},
   "source": [
    "Import the following necessary modules:\n",
    "\n",
    "- `lseg_analytics.market_data.eq_volatility` - Main ETI volatility surfaces SDK\n"
   ]
  },
  {
   "cell_type": "code",
   "execution_count": 1,
   "id": "fb2218f1",
   "metadata": {
    "execution": {
     "iopub.execute_input": "2025-09-18T09:07:03.407377Z",
     "iopub.status.busy": "2025-09-18T09:07:03.407082Z",
     "iopub.status.idle": "2025-09-18T09:07:04.162480Z",
     "shell.execute_reply": "2025-09-18T09:07:04.161950Z"
    }
   },
   "outputs": [],
   "source": [
    "from lseg_analytics.market_data import eq_volatility as ev\n",
    "\n",
    "import plotly.graph_objects as go\n",
    "import pandas as pd\n",
    "import datetime as dt\n",
    "import copy\n"
   ]
  },
  {
   "cell_type": "markdown",
   "id": "b9c3dd46",
   "metadata": {},
   "source": [
    "## Data Preparation"
   ]
  },
  {
   "cell_type": "markdown",
   "id": "7c735a8f",
   "metadata": {},
   "source": [
    "For detailed explanation of fundamental steps to calculate volatility surfaces refer to **1_ETI_Volatility_Surfaces_Fundamentals** notebook."
   ]
  },
  {
   "cell_type": "markdown",
   "id": "72df26d2",
   "metadata": {},
   "source": [
    "### STEP 1: Create Surface Definition and Surface Parameters"
   ]
  },
  {
   "cell_type": "code",
   "execution_count": 2,
   "id": "bf4cacb1",
   "metadata": {
    "execution": {
     "iopub.execute_input": "2025-09-18T09:07:04.166478Z",
     "iopub.status.busy": "2025-09-18T09:07:04.164831Z",
     "iopub.status.idle": "2025-09-18T09:07:04.173436Z",
     "shell.execute_reply": "2025-09-18T09:07:04.172946Z"
    }
   },
   "outputs": [
    {
     "name": "stdout",
     "output_type": "stream",
     "text": [
      "Step 1: Creating Surface Definition...\n",
      "   ✓ Instrument: NVDA.O@RIC\n",
      "Step 2: Configuring Surface Parameters...\n"
     ]
    }
   ],
   "source": [
    "print(\"Step 1: Creating Surface Definition...\")\n",
    "\n",
    "ric = \"NVDA.O@RIC\"\n",
    "\n",
    "# Create surface definition object to specify the underlying instrument\n",
    "surface_definition = ev.EtiSurfaceDefinition(\n",
    "        instrument_code = ric\n",
    "        )\n",
    "\n",
    "print(f\"   ✓ Instrument: {surface_definition.instrument_code}\")\n",
    "\n",
    "print(\"Step 2: Configuring Surface Parameters...\")\n",
    "\n",
    "# Create surface parameters object to define how the surface is calculated\n",
    "surface_parameters = ev.EtiSurfaceParameters(\n",
    "    # ------------- core surface params\n",
    "    calculation_date = dt.datetime.strptime(\"2025-07-15\", \"%Y-%m-%d\"),\n",
    "    time_stamp = ev.CurvesAndSurfacesTimeStampEnum.DEFAULT,  # Options: CLOSE, OPEN, SETTLE, DEFAULT\n",
    "    input_volatility_type = ev.InputVolatilityTypeEnum.IMPLIED,  # Options: IMPLIED, QUOTED\n",
    "    volatility_model = ev.CurvesAndSurfacesVolatilityModelEnum.SSVI, # Options: SVI, SSVI\n",
    "\n",
    "    # ----------------- SURFACE LAYOUT CONFIGURATION -------------------\n",
    "    # Surface axis configuration for output layout\n",
    "    x_axis = ev.XAxisEnum.STRIKE,  # Options: DATE, DELTA, MONEYNESS, STRIKE, TENOR\n",
    "    y_axis = ev.YAxisEnum.DATE  # Options: same as X-axis\n",
    ")"
   ]
  },
  {
   "cell_type": "code",
   "execution_count": 3,
   "id": "8fe0ed68",
   "metadata": {
    "execution": {
     "iopub.execute_input": "2025-09-18T09:07:04.175520Z",
     "iopub.status.busy": "2025-09-18T09:07:04.175068Z",
     "iopub.status.idle": "2025-09-18T09:07:04.178707Z",
     "shell.execute_reply": "2025-09-18T09:07:04.178243Z"
    }
   },
   "outputs": [
    {
     "name": "stdout",
     "output_type": "stream",
     "text": [
      "Model Comparison Configuration:\n",
      "   ✓ Model 1: SSVI\n",
      "   ✓ Model 2: SVI\n"
     ]
    }
   ],
   "source": [
    "# ============= MODEL COMPARISON SETUP =============\n",
    "\n",
    "# Create a copy of the surface parameters for comparison\n",
    "surface_parameters_compare = copy.deepcopy(surface_parameters)\n",
    "\n",
    "# Change the volatility model for comparison\n",
    "surface_parameters_compare.volatility_model = ev.CurvesAndSurfacesVolatilityModelEnum.SVI  # SVI model vs SSVI\n",
    "\n",
    "print(\"Model Comparison Configuration:\")\n",
    "print(f\"   ✓ Model 1: {surface_parameters.volatility_model.value}\")\n",
    "print(f\"   ✓ Model 2: {surface_parameters_compare.volatility_model.value}\")"
   ]
  },
  {
   "cell_type": "markdown",
   "id": "b6a67544",
   "metadata": {},
   "source": [
    "### STEP 2: Create Request Item and Layout"
   ]
  },
  {
   "cell_type": "code",
   "execution_count": 4,
   "id": "0da96082",
   "metadata": {
    "execution": {
     "iopub.execute_input": "2025-09-18T09:07:04.180733Z",
     "iopub.status.busy": "2025-09-18T09:07:04.180456Z",
     "iopub.status.idle": "2025-09-18T09:07:04.185339Z",
     "shell.execute_reply": "2025-09-18T09:07:04.184893Z"
    }
   },
   "outputs": [
    {
     "name": "stdout",
     "output_type": "stream",
     "text": [
      "\n",
      " Step 3: Creating Request Item...\n",
      "   ✓ Request Item: {'surfaceTag': 'NVDA_Volsurface_SSVI', 'underlyingDefinition': {'instrumentCode': 'NVDA.O@RIC'}, 'surfaceParameters': {'calculationDate': '2025-07-15T00:00:00Z', 'timeStamp': 'Default', 'inputVolatilityType': 'Implied', 'volatilityModel': 'SSVI', 'xAxis': 'Strike', 'yAxis': 'Date'}, 'underlyingType': 'Eti'}\n",
      "   ✓ Request Item Compare: {'surfaceTag': 'NVDA_Volsurface_SVI', 'underlyingDefinition': {'instrumentCode': 'NVDA.O@RIC'}, 'surfaceParameters': {'calculationDate': '2025-07-15T00:00:00Z', 'timeStamp': 'Default', 'inputVolatilityType': 'Implied', 'volatilityModel': 'SVI', 'xAxis': 'Strike', 'yAxis': 'Date'}, 'underlyingType': 'Eti'}\n"
     ]
    }
   ],
   "source": [
    "print(\"\\n Step 3: Creating Request Item...\")\n",
    "\n",
    "# Create the main request object that combines all configuration\n",
    "request_item = ev.EtiVolatilitySurfaceRequestItem(\n",
    "    surface_tag = 'NVDA_Volsurface_SSVI',\n",
    "    underlying_definition = surface_definition,\n",
    "    surface_parameters = surface_parameters,\n",
    "    underlying_type = ev.CurvesAndSurfacesUnderlyingTypeEnum.ETI\n",
    ")\n",
    "\n",
    "request_item_compare = copy.deepcopy(request_item)\n",
    "request_item_compare.surface_tag = 'NVDA_Volsurface_SVI'\n",
    "request_item_compare.surface_parameters = surface_parameters_compare\n",
    "\n",
    "print(f\"   ✓ Request Item: {request_item}\")\n",
    "print(f\"   ✓ Request Item Compare: {request_item_compare}\")"
   ]
  },
  {
   "cell_type": "markdown",
   "id": "b147a529",
   "metadata": {},
   "source": [
    "## Request Execution"
   ]
  },
  {
   "cell_type": "code",
   "execution_count": 5,
   "id": "b806d22a",
   "metadata": {
    "execution": {
     "iopub.execute_input": "2025-09-18T09:07:04.187229Z",
     "iopub.status.busy": "2025-09-18T09:07:04.186937Z",
     "iopub.status.idle": "2025-09-18T09:07:06.382436Z",
     "shell.execute_reply": "2025-09-18T09:07:06.381846Z"
    }
   },
   "outputs": [
    {
     "name": "stdout",
     "output_type": "stream",
     "text": [
      "   Calculation successful!\n",
      "   Surface data points available: 20\n"
     ]
    }
   ],
   "source": [
    "# Execute the calculation using the calculate function\n",
    "# The 'universe' parameter accepts a list of request items for batch processing\n",
    "try:\n",
    "    response = ev.calculate(universe=[request_item, request_item_compare])\n",
    "\n",
    "    # Display response structure information\n",
    "    surface_data = response['data'][0]\n",
    "    if 'surface' in surface_data:\n",
    "        print(f\"   Calculation successful!\")\n",
    "        print(f\"   Surface data points available: {len(surface_data['surface'])}\")\n",
    "    else:\n",
    "        print(\"   No surface data found in response\")\n",
    "    \n",
    "except Exception as e:\n",
    "    print(f\"   Calculation failed: {str(e)}\")\n",
    "    raise"
   ]
  },
  {
   "cell_type": "markdown",
   "id": "fb88acc5",
   "metadata": {},
   "source": [
    "## Results Display"
   ]
  },
  {
   "cell_type": "code",
   "execution_count": 6,
   "id": "98678af7",
   "metadata": {
    "execution": {
     "iopub.execute_input": "2025-09-18T09:07:06.384906Z",
     "iopub.status.busy": "2025-09-18T09:07:06.384538Z",
     "iopub.status.idle": "2025-09-18T09:07:06.398293Z",
     "shell.execute_reply": "2025-09-18T09:07:06.397551Z"
    }
   },
   "outputs": [],
   "source": [
    "# Plotting utils\n",
    "\n",
    "def get_vol_surface_df(response, index=0):\n",
    "    \"\"\"\n",
    "    Extract and format volatility surface data from API response into a DataFrame.\n",
    "    \n",
    "    This function processes the raw volatility surface data from an API response,\n",
    "    handles various error conditions, and returns a properly formatted DataFrame\n",
    "    suitable for visualization functions.\n",
    "\n",
    "    \"\"\"\n",
    "    try:\n",
    "        vol_surface = response['data'][index]['surface']\n",
    "    except KeyError:\n",
    "        print(\"No surface data available in response.\")\n",
    "        return None\n",
    "    except TypeError:\n",
    "        print(\"No surface data available in response.\")\n",
    "        return None\n",
    "\n",
    "    expiries = vol_surface[0][1:]\n",
    "    strikes = []\n",
    "    values = []\n",
    "\n",
    "    for row in vol_surface[1:]:\n",
    "        strikes.append(row[0])\n",
    "        values.append(row[1:])\n",
    "\n",
    "    strikes = [round(float(s), 2) if isinstance(s, (int, float)) else s for s in strikes]\n",
    "\n",
    "    surface_df = pd.DataFrame(values, index=strikes, columns=expiries).T\n",
    "    surface_df = surface_df.astype(float).round(2)\n",
    "\n",
    "    return surface_df\n",
    "\n",
    "def plot_volatility_surface_plot(surf_table, x_axis, y_axis, colorscale=\"Turbo\"):\n",
    "    \"\"\"\n",
    "    Create an interactive 3D surface plot of the volatility surface with contour lines.\n",
    "    \n",
    "    This function generates a three-dimensional visualization where the x-axis represents\n",
    "    moneyness/strikes, y-axis represents expiries, and z-axis represents volatility values.\n",
    "    Contour lines are added for better depth perception.\n",
    "\n",
    "    Parameters\n",
    "    ----------\n",
    "    surf_table : pd.DataFrame\n",
    "        A DataFrame representing the volatility surface with expiries as index\n",
    "        and strike prices/moneyness as columns. Values should be volatility levels.\n",
    "    colorscale : str or list, optional\n",
    "        Plotly colorscale name (e.g., 'Viridis', 'Turbo', 'Plasma') or custom colorscale list.\n",
    "        Default is \"Turbo\".\n",
    "\n",
    "    Returns\n",
    "    -------\n",
    "    plotly.graph_objects.Figure\n",
    "  \n",
    "    \"\"\"\n",
    "    if len(surf_table) < 2:\n",
    "        fig = go.Figure()\n",
    "        fig.add_annotation(\n",
    "            text=\"Not enough data to display 3D surface\",\n",
    "            xref=\"paper\", yref=\"paper\",\n",
    "            x=0.5, y=0.5,\n",
    "            showarrow=False,\n",
    "            font=dict(size=18),\n",
    "            align=\"center\"\n",
    "        )\n",
    "        fig.update_layout(\n",
    "            title=dict(\n",
    "                text=\"3D Surface Plot of Volatility Surface\",\n",
    "                x=0.5,\n",
    "                xanchor=\"center\",\n",
    "                yanchor=\"top\",\n",
    "                y=0.95,\n",
    "                font=dict(size=16)\n",
    "            ),\n",
    "            autosize=True,\n",
    "            height=450,\n",
    "            margin={\"l\": 0, \"r\": 0, \"b\": 0, \"t\": 50},\n",
    "            dragmode=False,\n",
    "        )\n",
    "        return fig\n",
    "\n",
    "    x = surf_table.columns\n",
    "    y = surf_table.index\n",
    "    z = surf_table.values\n",
    "\n",
    "    fig = go.Figure(data=[go.Surface(\n",
    "        z=z, \n",
    "        x=x, \n",
    "        y=y, \n",
    "        colorscale=colorscale,\n",
    "        showscale=False,\n",
    "        contours={\n",
    "            \"y\": {\n",
    "                \"show\": True,\n",
    "                \"color\": \"black\",\n",
    "                \"highlightcolor\": \"black\",\n",
    "                \"size\": 0.05\n",
    "            },\n",
    "            \"z\": {\n",
    "                \"show\": True,\n",
    "                \"color\": \"black\",\n",
    "                \"highlightcolor\": \"black\",\n",
    "                \"size\": 0.05\n",
    "            }\n",
    "        }\n",
    "    )])\n",
    "\n",
    "    fig.update_layout(\n",
    "        title=dict(\n",
    "            text=\"3D Surface Plot of Volatility Surface\",\n",
    "            x=0.5,\n",
    "            xanchor=\"center\",\n",
    "            yanchor=\"top\",\n",
    "            y=0.95,\n",
    "            font=dict(size=16)\n",
    "        ),\n",
    "        scene={\n",
    "            \"xaxis_title\": x_axis,\n",
    "            \"yaxis_title\": y_axis,\n",
    "            \"zaxis_title\": \"Volatility\",\n",
    "            \"xaxis\": {\"showgrid\": True},\n",
    "            \"yaxis\": {\"showgrid\": True},\n",
    "            \"zaxis\": {\"showgrid\": True},\n",
    "            \"camera\": {\n",
    "                \"eye\": {\"x\": 0.96, \"y\": -1.53, \"z\": 0.39},\n",
    "                \"center\": {\"x\": 0.02, \"y\": -0.07, \"z\": -0.21},\n",
    "                \"up\": {\"x\": -0.18, \"y\": 0.27, \"z\": 0.95},\n",
    "                \"projection\": {\"type\": \"perspective\"}\n",
    "            }\n",
    "        },\n",
    "        dragmode=False,\n",
    "        autosize=True,\n",
    "        height=450,\n",
    "        width=800,\n",
    "    )\n",
    "\n",
    "    return fig\n",
    "\n",
    "def plot_surface_smile_by_expiry(surf_table, x_axis, y_axis):\n",
    "    \"\"\"\n",
    "    Create a 2D line plot showing volatility smiles for different expiry dates.\n",
    "    \n",
    "    This function plots multiple volatility smile curves, with each curve representing\n",
    "    a different expiry date. The x-axis shows moneyness/strikes and the y-axis shows\n",
    "    volatility levels.\n",
    "\n",
    "    Parameters\n",
    "    ----------\n",
    "    surf_table : pd.DataFrame\n",
    "        A DataFrame with expiries as index and strike prices/moneyness as columns.\n",
    "        Values should be volatility levels for each expiry-strike combination.\n",
    "\n",
    "    Returns\n",
    "    -------\n",
    "    plotly.graph_objects.Figure\n",
    "        Interactive line plot with each expiry represented as a separate trace.\n",
    "        \n",
    "    \"\"\"\n",
    "    fig = go.Figure()\n",
    "\n",
    "    for expiry in surf_table.index:\n",
    "        fig.add_trace(go.Scatter(\n",
    "            x=surf_table.columns.astype(float),\n",
    "            y=surf_table.loc[expiry],\n",
    "            mode='lines+markers',\n",
    "            name=expiry\n",
    "        ))\n",
    "\n",
    "    fig.update_layout(\n",
    "        title=dict(\n",
    "            text='Surface Smile by Expiry',\n",
    "            x=0.5,\n",
    "            xanchor=\"center\",\n",
    "            yanchor=\"top\",\n",
    "            y=0.95,\n",
    "            font=dict(size=16)\n",
    "        ),\n",
    "        xaxis_title=x_axis,\n",
    "        yaxis_title='Volatility',\n",
    "        legend_title=y_axis,\n",
    "        template='plotly_white',\n",
    "        dragmode=False,\n",
    "        autosize=True,\n",
    "        height=450,\n",
    "        width=800,\n",
    "    )\n",
    "\n",
    "    return fig"
   ]
  },
  {
   "cell_type": "code",
   "execution_count": 7,
   "id": "c4f60bb0",
   "metadata": {
    "execution": {
     "iopub.execute_input": "2025-09-18T09:07:06.400836Z",
     "iopub.status.busy": "2025-09-18T09:07:06.400368Z",
     "iopub.status.idle": "2025-09-18T09:07:06.406564Z",
     "shell.execute_reply": "2025-09-18T09:07:06.406052Z"
    }
   },
   "outputs": [
    {
     "name": "stdout",
     "output_type": "stream",
     "text": [
      "Surface Comparison Info:\n",
      "   ✓ SSVI Surface: (15, 19) (rows × columns)\n",
      "   ✓ SVI Surface: (13, 19) (rows × columns)\n",
      "   ✓ x_axis: STRIKE\n",
      "   ✓ y_axis: DATE\n"
     ]
    }
   ],
   "source": [
    "# Convert API response to pandas DataFrame for easier manipulation \n",
    "surface_df = get_vol_surface_df(response, index=0)           # SSVI model surface\n",
    "surface_compare_df = get_vol_surface_df(response, index=1)   # SVI model surface\n",
    "\n",
    "# Extract axis names for labeling plots\n",
    "x_axis = surface_parameters.x_axis.name\n",
    "y_axis = surface_parameters.y_axis.name\n",
    "\n",
    "print(\"Surface Comparison Info:\") \n",
    "print(f\"   ✓ SSVI Surface: {surface_df.shape} (rows × columns)\")\n",
    "print(f\"   ✓ SVI Surface: {surface_compare_df.shape} (rows × columns)\") \n",
    "print(f\"   ✓ x_axis: {x_axis}\") \n",
    "print(f\"   ✓ y_axis: {y_axis}\") "
   ]
  },
  {
   "cell_type": "code",
   "execution_count": 8,
   "id": "dde60411",
   "metadata": {
    "execution": {
     "iopub.execute_input": "2025-09-18T09:07:06.408576Z",
     "iopub.status.busy": "2025-09-18T09:07:06.408321Z",
     "iopub.status.idle": "2025-09-18T09:07:06.727068Z",
     "shell.execute_reply": "2025-09-18T09:07:06.726434Z"
    }
   },
   "outputs": [
    {
     "name": "stdout",
     "output_type": "stream",
     "text": [
      "SSVI Model Surface:\n"
     ]
    },
    {
     "data": {
      "application/vnd.plotly.v1+json": {
       "config": {
        "plotlyServerURL": "https://plot.ly"
       },
       "data": [
        {
         "colorscale": [
          [
           0.0,
           "#30123b"
          ],
          [
           0.07142857142857142,
           "#4145ab"
          ],
          [
           0.14285714285714285,
           "#4675ed"
          ],
          [
           0.21428571428571427,
           "#39a2fc"
          ],
          [
           0.2857142857142857,
           "#1bcfd4"
          ],
          [
           0.35714285714285715,
           "#24eca6"
          ],
          [
           0.42857142857142855,
           "#61fc6c"
          ],
          [
           0.5,
           "#a4fc3b"
          ],
          [
           0.5714285714285714,
           "#d1e834"
          ],
          [
           0.6428571428571429,
           "#f3c63a"
          ],
          [
           0.7142857142857143,
           "#fe9b2d"
          ],
          [
           0.7857142857142857,
           "#f36315"
          ],
          [
           0.8571428571428571,
           "#d93806"
          ],
          [
           0.9285714285714286,
           "#b11901"
          ],
          [
           1.0,
           "#7a0402"
          ]
         ],
         "contours": {
          "y": {
           "color": "black",
           "highlightcolor": "black",
           "show": true,
           "size": 0.05
          },
          "z": {
           "color": "black",
           "highlightcolor": "black",
           "show": true,
           "size": 0.05
          }
         },
         "showscale": false,
         "type": "surface",
         "x": [
          "85.35",
          "102.42",
          "119.49",
          "128.025",
          "136.56",
          "145.095",
          "153.63",
          "162.165",
          "166.4325",
          "170.7",
          "174.9675",
          "179.235",
          "187.77",
          "196.305",
          "204.84",
          "213.375",
          "221.91",
          "238.98",
          "256.05"
         ],
         "y": [
          "2025-08-15",
          "2025-09-19",
          "2025-10-17",
          "2025-11-21",
          "2025-12-19",
          "2026-01-16",
          "2026-02-20",
          "2026-03-20",
          "2026-05-15",
          "2026-06-18",
          "2026-09-18",
          "2026-12-18",
          "2027-01-15",
          "2027-06-17",
          "2027-12-17"
         ],
         "z": {
          "bdata": "AAAAAACQVUCkcD0K1/NRQOxRuB6Fi01AKVyPwvXISkAAAAAAAGBIQMP1KFyPYkZAuB6F61HYRECkcD0K18NDQKRwPQrXY0NAH4XrUbgeQ0BxPQrXo/BCQLgehetR2EJAAAAAAADgQkDhehSuRyFDQK5H4XoUjkNA16NwPQoXREBSuB6F67FEQGZmZmZmBkZApHA9CtdjR0D2KFyPwqVRQLgehetRWE5AH4XrUbg+SkAK16NwPYpIQBSuR+F6FEdAH4XrUbjeRUBI4XoUrudEQOxRuB6FK0RAw/UoXI/iQ0BmZmZmZqZDQNejcD0Kd0NAUrgehetRQ0CF61G4HiVDQHsUrkfhGkNAzczMzMwsQ0AzMzMzM1NDQArXo3A9ikNAexSuR+EaREBmZmZmZsZEQD0K16NwPVBAj8L1KFxvTEDNzMzMzCxJQNejcD0K10dAMzMzMzOzRkAfhetRuL5FQLgehetR+ERAPQrXo3BdREAfhetRuB5EQEjhehSu50NAexSuR+G6Q0D2KFyPwpVDQAAAAAAAYENApHA9CtdDQ0A9CtejcD1DQEjhehSuR0NAAAAAAABgQ0CPwvUoXK9DQHsUrkfhGkRAH4XrUbheTkDsUbgehQtLQOxRuB6Fa0hAexSuR+FaR0BxPQrXo3BGQM3MzMzMrEVACtejcD0KRUBI4XoUrodEQHE9CtejUERA4XoUrkchREDXo3A9CvdDQDMzMzMz00NAexSuR+GaQ0DXo3A9CndDQMP1KFyPYkNAexSuR+FaQ0AfhetRuF5DQMP1KFyPgkNAAAAAAADAQ0AfhetRuD5NQFK4HoXrUUpAKVyPwvUISEBcj8L1KBxHQHE9CtejUEZAhetRuB6lRUD2KFyPwhVFQAAAAAAAoERArkfhehRuREDhehSuR0FEQHsUrkfhGkRAuB6F61H4Q0DhehSuR8FDQJqZmZmZmUNAH4XrUbh+Q0BxPQrXo3BDQOxRuB6Fa0NAexSuR+F6Q0DhehSuR6FDQGZmZmZmZkxASOF6FK7HSUAAAAAAAMBHQK5H4XoU7kZAmpmZmZk5RkAAAAAAAKBFQB+F61G4HkVAMzMzMzOzRECF61G4HoVEQFyPwvUoXERA16NwPQo3RED2KFyPwhVEQAAAAAAA4ENA16NwPQq3Q0CamZmZmZlDQGZmZmZmhkNAXI/C9Sh8Q0Bcj8L1KHxDQDMzMzMzk0NAuB6F61GYS0BmZmZmZkZJQFyPwvUofEdApHA9CtfDRkCkcD0K1yNGQHsUrkfhmkVAZmZmZmYmRUBmZmZmZsZEQFyPwvUonERA9ihcj8J1REAzMzMzM1NEQDMzMzMzM0RAH4XrUbj+Q0D2KFyPwtVDQPYoXI/CtUNAAAAAAACgQ0BxPQrXo5BDQIXrUbgehUNArkfhehSOQ0DXo3A9ChdLQPYoXI/C9UhAUrgehetRR0ApXI/C9ahGQPYoXI/CFUZA16NwPQqXRUDNzMzMzCxFQFK4HoXr0URACtejcD2qRECF61G4HoVEQKRwPQrXY0RAZmZmZmZGREAzMzMzMxNEQArXo3A96kNACtejcD3KQ0BSuB6F67FDQAAAAAAAoENArkfhehSOQ0CPwvUoXI9DQHE9CtejUEpAmpmZmZl5SEBxPQrXoxBHQB+F61G4fkZAAAAAAAAARkBSuB6F65FFQDMzMzMzM0VAw/UoXI/iREAfhetRuL5EQD0K16NwnURAAAAAAACARECkcD0K12NEQDMzMzMzM0RA7FG4HoULREAK16NwPepDQHE9Ctej0ENAXI/C9Si8Q0DhehSuR6FDQNejcD0Kl0NAMzMzMzPzSUAAAAAAAEBIQFK4HoXr8UZACtejcD1qRkAUrkfhevRFQK5H4XoUjkVA9ihcj8I1RUAK16NwPepEQEjhehSux0RAKVyPwvWoREDsUbgehYtEQHE9CtejcERAw/UoXI9CREB7FK5H4RpEQHsUrkfh+kNAAAAAAADgQ0AK16NwPcpDQM3MzMzMrENAH4XrUbieQ0D2KFyPwjVJQClcj8L1yEdAUrgeheuxRkAAAAAAAEBGQFyPwvUo3EVAhetRuB6FRUCamZmZmTlFQNejcD0K90RAmpmZmZnZREA9CtejcL1EQKRwPQrXo0RA7FG4HoWLREAAAAAAAGBEQHsUrkfhOkRAXI/C9SgcREDhehSuRwFEQArXo3A96kNASOF6FK7HQ0BSuB6F67FDQFK4HoXrsUhA9ihcj8J1R0CF61G4HoVGQOF6FK5HIUZACtejcD3KRUA9CtejcH1FQJqZmZmZOUVAH4XrUbj+RECkcD0K1+NEQArXo3A9ykRAMzMzMzOzREBcj8L1KJxEQBSuR+F6dERAUrgehetRREAzMzMzMzNEQLgehetRGERA4XoUrkcBREA9CtejcN1DQKRwPQrXw0NAcT0K16OQSEDhehSuR2FHQLgehetReEZAmpmZmZkZRkCF61G4HsVFQHsUrkfhekVAmpmZmZk5RUAAAAAAAABFQGZmZmZm5kRArkfhehTOREDXo3A9CrdEQOF6FK5HoURAmpmZmZl5REDXo3A9CldEQJqZmZmZOURAH4XrUbgeREBI4XoUrgdEQKRwPQrX40NAKVyPwvXIQ0CkcD0K1wNIQEjhehSuB0dAZmZmZmZGRkD2KFyPwvVFQI/C9Shcr0VAj8L1KFxvRUC4HoXrUThFQGZmZmZmBkVAj8L1KFzvRECamZmZmdlEQIXrUbgexURAUrgeheuxRECuR+F6FI5EQI/C9Shcb0RAMzMzMzNTRECamZmZmTlEQKRwPQrXI0RAH4XrUbj+Q0DhehSuR+FDQBSuR+F6lEdA4XoUrkfBRkA9CtejcB1GQJqZmZmZ2UVAXI/C9SicRUBmZmZmZmZFQPYoXI/CNUVACtejcD0KRUD2KFyPwvVEQMP1KFyP4kRAcT0K16PQREAAAAAAAMBEQAAAAAAAoERApHA9CteDREAK16NwPWpEQFK4HoXrUURAPQrXo3A9RECamZmZmRlEQFyPwvUo/ENA",
          "dtype": "f8",
          "shape": "15, 19"
         }
        }
       ],
       "layout": {
        "autosize": true,
        "dragmode": false,
        "height": 450,
        "scene": {
         "camera": {
          "center": {
           "x": 0.02,
           "y": -0.07,
           "z": -0.21
          },
          "eye": {
           "x": 0.96,
           "y": -1.53,
           "z": 0.39
          },
          "projection": {
           "type": "perspective"
          },
          "up": {
           "x": -0.18,
           "y": 0.27,
           "z": 0.95
          }
         },
         "xaxis": {
          "showgrid": true,
          "title": {
           "text": "STRIKE"
          }
         },
         "yaxis": {
          "showgrid": true,
          "title": {
           "text": "DATE"
          }
         },
         "zaxis": {
          "showgrid": true,
          "title": {
           "text": "Volatility"
          }
         }
        },
        "template": {
         "data": {
          "bar": [
           {
            "error_x": {
             "color": "#2a3f5f"
            },
            "error_y": {
             "color": "#2a3f5f"
            },
            "marker": {
             "line": {
              "color": "#E5ECF6",
              "width": 0.5
             },
             "pattern": {
              "fillmode": "overlay",
              "size": 10,
              "solidity": 0.2
             }
            },
            "type": "bar"
           }
          ],
          "barpolar": [
           {
            "marker": {
             "line": {
              "color": "#E5ECF6",
              "width": 0.5
             },
             "pattern": {
              "fillmode": "overlay",
              "size": 10,
              "solidity": 0.2
             }
            },
            "type": "barpolar"
           }
          ],
          "carpet": [
           {
            "aaxis": {
             "endlinecolor": "#2a3f5f",
             "gridcolor": "white",
             "linecolor": "white",
             "minorgridcolor": "white",
             "startlinecolor": "#2a3f5f"
            },
            "baxis": {
             "endlinecolor": "#2a3f5f",
             "gridcolor": "white",
             "linecolor": "white",
             "minorgridcolor": "white",
             "startlinecolor": "#2a3f5f"
            },
            "type": "carpet"
           }
          ],
          "choropleth": [
           {
            "colorbar": {
             "outlinewidth": 0,
             "ticks": ""
            },
            "type": "choropleth"
           }
          ],
          "contour": [
           {
            "colorbar": {
             "outlinewidth": 0,
             "ticks": ""
            },
            "colorscale": [
             [
              0.0,
              "#0d0887"
             ],
             [
              0.1111111111111111,
              "#46039f"
             ],
             [
              0.2222222222222222,
              "#7201a8"
             ],
             [
              0.3333333333333333,
              "#9c179e"
             ],
             [
              0.4444444444444444,
              "#bd3786"
             ],
             [
              0.5555555555555556,
              "#d8576b"
             ],
             [
              0.6666666666666666,
              "#ed7953"
             ],
             [
              0.7777777777777778,
              "#fb9f3a"
             ],
             [
              0.8888888888888888,
              "#fdca26"
             ],
             [
              1.0,
              "#f0f921"
             ]
            ],
            "type": "contour"
           }
          ],
          "contourcarpet": [
           {
            "colorbar": {
             "outlinewidth": 0,
             "ticks": ""
            },
            "type": "contourcarpet"
           }
          ],
          "heatmap": [
           {
            "colorbar": {
             "outlinewidth": 0,
             "ticks": ""
            },
            "colorscale": [
             [
              0.0,
              "#0d0887"
             ],
             [
              0.1111111111111111,
              "#46039f"
             ],
             [
              0.2222222222222222,
              "#7201a8"
             ],
             [
              0.3333333333333333,
              "#9c179e"
             ],
             [
              0.4444444444444444,
              "#bd3786"
             ],
             [
              0.5555555555555556,
              "#d8576b"
             ],
             [
              0.6666666666666666,
              "#ed7953"
             ],
             [
              0.7777777777777778,
              "#fb9f3a"
             ],
             [
              0.8888888888888888,
              "#fdca26"
             ],
             [
              1.0,
              "#f0f921"
             ]
            ],
            "type": "heatmap"
           }
          ],
          "histogram": [
           {
            "marker": {
             "pattern": {
              "fillmode": "overlay",
              "size": 10,
              "solidity": 0.2
             }
            },
            "type": "histogram"
           }
          ],
          "histogram2d": [
           {
            "colorbar": {
             "outlinewidth": 0,
             "ticks": ""
            },
            "colorscale": [
             [
              0.0,
              "#0d0887"
             ],
             [
              0.1111111111111111,
              "#46039f"
             ],
             [
              0.2222222222222222,
              "#7201a8"
             ],
             [
              0.3333333333333333,
              "#9c179e"
             ],
             [
              0.4444444444444444,
              "#bd3786"
             ],
             [
              0.5555555555555556,
              "#d8576b"
             ],
             [
              0.6666666666666666,
              "#ed7953"
             ],
             [
              0.7777777777777778,
              "#fb9f3a"
             ],
             [
              0.8888888888888888,
              "#fdca26"
             ],
             [
              1.0,
              "#f0f921"
             ]
            ],
            "type": "histogram2d"
           }
          ],
          "histogram2dcontour": [
           {
            "colorbar": {
             "outlinewidth": 0,
             "ticks": ""
            },
            "colorscale": [
             [
              0.0,
              "#0d0887"
             ],
             [
              0.1111111111111111,
              "#46039f"
             ],
             [
              0.2222222222222222,
              "#7201a8"
             ],
             [
              0.3333333333333333,
              "#9c179e"
             ],
             [
              0.4444444444444444,
              "#bd3786"
             ],
             [
              0.5555555555555556,
              "#d8576b"
             ],
             [
              0.6666666666666666,
              "#ed7953"
             ],
             [
              0.7777777777777778,
              "#fb9f3a"
             ],
             [
              0.8888888888888888,
              "#fdca26"
             ],
             [
              1.0,
              "#f0f921"
             ]
            ],
            "type": "histogram2dcontour"
           }
          ],
          "mesh3d": [
           {
            "colorbar": {
             "outlinewidth": 0,
             "ticks": ""
            },
            "type": "mesh3d"
           }
          ],
          "parcoords": [
           {
            "line": {
             "colorbar": {
              "outlinewidth": 0,
              "ticks": ""
             }
            },
            "type": "parcoords"
           }
          ],
          "pie": [
           {
            "automargin": true,
            "type": "pie"
           }
          ],
          "scatter": [
           {
            "fillpattern": {
             "fillmode": "overlay",
             "size": 10,
             "solidity": 0.2
            },
            "type": "scatter"
           }
          ],
          "scatter3d": [
           {
            "line": {
             "colorbar": {
              "outlinewidth": 0,
              "ticks": ""
             }
            },
            "marker": {
             "colorbar": {
              "outlinewidth": 0,
              "ticks": ""
             }
            },
            "type": "scatter3d"
           }
          ],
          "scattercarpet": [
           {
            "marker": {
             "colorbar": {
              "outlinewidth": 0,
              "ticks": ""
             }
            },
            "type": "scattercarpet"
           }
          ],
          "scattergeo": [
           {
            "marker": {
             "colorbar": {
              "outlinewidth": 0,
              "ticks": ""
             }
            },
            "type": "scattergeo"
           }
          ],
          "scattergl": [
           {
            "marker": {
             "colorbar": {
              "outlinewidth": 0,
              "ticks": ""
             }
            },
            "type": "scattergl"
           }
          ],
          "scattermap": [
           {
            "marker": {
             "colorbar": {
              "outlinewidth": 0,
              "ticks": ""
             }
            },
            "type": "scattermap"
           }
          ],
          "scattermapbox": [
           {
            "marker": {
             "colorbar": {
              "outlinewidth": 0,
              "ticks": ""
             }
            },
            "type": "scattermapbox"
           }
          ],
          "scatterpolar": [
           {
            "marker": {
             "colorbar": {
              "outlinewidth": 0,
              "ticks": ""
             }
            },
            "type": "scatterpolar"
           }
          ],
          "scatterpolargl": [
           {
            "marker": {
             "colorbar": {
              "outlinewidth": 0,
              "ticks": ""
             }
            },
            "type": "scatterpolargl"
           }
          ],
          "scatterternary": [
           {
            "marker": {
             "colorbar": {
              "outlinewidth": 0,
              "ticks": ""
             }
            },
            "type": "scatterternary"
           }
          ],
          "surface": [
           {
            "colorbar": {
             "outlinewidth": 0,
             "ticks": ""
            },
            "colorscale": [
             [
              0.0,
              "#0d0887"
             ],
             [
              0.1111111111111111,
              "#46039f"
             ],
             [
              0.2222222222222222,
              "#7201a8"
             ],
             [
              0.3333333333333333,
              "#9c179e"
             ],
             [
              0.4444444444444444,
              "#bd3786"
             ],
             [
              0.5555555555555556,
              "#d8576b"
             ],
             [
              0.6666666666666666,
              "#ed7953"
             ],
             [
              0.7777777777777778,
              "#fb9f3a"
             ],
             [
              0.8888888888888888,
              "#fdca26"
             ],
             [
              1.0,
              "#f0f921"
             ]
            ],
            "type": "surface"
           }
          ],
          "table": [
           {
            "cells": {
             "fill": {
              "color": "#EBF0F8"
             },
             "line": {
              "color": "white"
             }
            },
            "header": {
             "fill": {
              "color": "#C8D4E3"
             },
             "line": {
              "color": "white"
             }
            },
            "type": "table"
           }
          ]
         },
         "layout": {
          "annotationdefaults": {
           "arrowcolor": "#2a3f5f",
           "arrowhead": 0,
           "arrowwidth": 1
          },
          "autotypenumbers": "strict",
          "coloraxis": {
           "colorbar": {
            "outlinewidth": 0,
            "ticks": ""
           }
          },
          "colorscale": {
           "diverging": [
            [
             0,
             "#8e0152"
            ],
            [
             0.1,
             "#c51b7d"
            ],
            [
             0.2,
             "#de77ae"
            ],
            [
             0.3,
             "#f1b6da"
            ],
            [
             0.4,
             "#fde0ef"
            ],
            [
             0.5,
             "#f7f7f7"
            ],
            [
             0.6,
             "#e6f5d0"
            ],
            [
             0.7,
             "#b8e186"
            ],
            [
             0.8,
             "#7fbc41"
            ],
            [
             0.9,
             "#4d9221"
            ],
            [
             1,
             "#276419"
            ]
           ],
           "sequential": [
            [
             0.0,
             "#0d0887"
            ],
            [
             0.1111111111111111,
             "#46039f"
            ],
            [
             0.2222222222222222,
             "#7201a8"
            ],
            [
             0.3333333333333333,
             "#9c179e"
            ],
            [
             0.4444444444444444,
             "#bd3786"
            ],
            [
             0.5555555555555556,
             "#d8576b"
            ],
            [
             0.6666666666666666,
             "#ed7953"
            ],
            [
             0.7777777777777778,
             "#fb9f3a"
            ],
            [
             0.8888888888888888,
             "#fdca26"
            ],
            [
             1.0,
             "#f0f921"
            ]
           ],
           "sequentialminus": [
            [
             0.0,
             "#0d0887"
            ],
            [
             0.1111111111111111,
             "#46039f"
            ],
            [
             0.2222222222222222,
             "#7201a8"
            ],
            [
             0.3333333333333333,
             "#9c179e"
            ],
            [
             0.4444444444444444,
             "#bd3786"
            ],
            [
             0.5555555555555556,
             "#d8576b"
            ],
            [
             0.6666666666666666,
             "#ed7953"
            ],
            [
             0.7777777777777778,
             "#fb9f3a"
            ],
            [
             0.8888888888888888,
             "#fdca26"
            ],
            [
             1.0,
             "#f0f921"
            ]
           ]
          },
          "colorway": [
           "#636efa",
           "#EF553B",
           "#00cc96",
           "#ab63fa",
           "#FFA15A",
           "#19d3f3",
           "#FF6692",
           "#B6E880",
           "#FF97FF",
           "#FECB52"
          ],
          "font": {
           "color": "#2a3f5f"
          },
          "geo": {
           "bgcolor": "white",
           "lakecolor": "white",
           "landcolor": "#E5ECF6",
           "showlakes": true,
           "showland": true,
           "subunitcolor": "white"
          },
          "hoverlabel": {
           "align": "left"
          },
          "hovermode": "closest",
          "mapbox": {
           "style": "light"
          },
          "paper_bgcolor": "white",
          "plot_bgcolor": "#E5ECF6",
          "polar": {
           "angularaxis": {
            "gridcolor": "white",
            "linecolor": "white",
            "ticks": ""
           },
           "bgcolor": "#E5ECF6",
           "radialaxis": {
            "gridcolor": "white",
            "linecolor": "white",
            "ticks": ""
           }
          },
          "scene": {
           "xaxis": {
            "backgroundcolor": "#E5ECF6",
            "gridcolor": "white",
            "gridwidth": 2,
            "linecolor": "white",
            "showbackground": true,
            "ticks": "",
            "zerolinecolor": "white"
           },
           "yaxis": {
            "backgroundcolor": "#E5ECF6",
            "gridcolor": "white",
            "gridwidth": 2,
            "linecolor": "white",
            "showbackground": true,
            "ticks": "",
            "zerolinecolor": "white"
           },
           "zaxis": {
            "backgroundcolor": "#E5ECF6",
            "gridcolor": "white",
            "gridwidth": 2,
            "linecolor": "white",
            "showbackground": true,
            "ticks": "",
            "zerolinecolor": "white"
           }
          },
          "shapedefaults": {
           "line": {
            "color": "#2a3f5f"
           }
          },
          "ternary": {
           "aaxis": {
            "gridcolor": "white",
            "linecolor": "white",
            "ticks": ""
           },
           "baxis": {
            "gridcolor": "white",
            "linecolor": "white",
            "ticks": ""
           },
           "bgcolor": "#E5ECF6",
           "caxis": {
            "gridcolor": "white",
            "linecolor": "white",
            "ticks": ""
           }
          },
          "title": {
           "x": 0.05
          },
          "xaxis": {
           "automargin": true,
           "gridcolor": "white",
           "linecolor": "white",
           "ticks": "",
           "title": {
            "standoff": 15
           },
           "zerolinecolor": "white",
           "zerolinewidth": 2
          },
          "yaxis": {
           "automargin": true,
           "gridcolor": "white",
           "linecolor": "white",
           "ticks": "",
           "title": {
            "standoff": 15
           },
           "zerolinecolor": "white",
           "zerolinewidth": 2
          }
         }
        },
        "title": {
         "font": {
          "size": 16
         },
         "text": "3D Surface Plot of Volatility Surface",
         "x": 0.5,
         "xanchor": "center",
         "y": 0.95,
         "yanchor": "top"
        },
        "width": 800
       }
      }
     },
     "metadata": {},
     "output_type": "display_data"
    }
   ],
   "source": [
    "# Individual Surface Plots\n",
    "print(\"SSVI Model Surface:\")\n",
    "plot_volatility_surface_plot(surface_df, x_axis, y_axis)"
   ]
  },
  {
   "cell_type": "code",
   "execution_count": 9,
   "id": "460193d5",
   "metadata": {
    "execution": {
     "iopub.execute_input": "2025-09-18T09:07:06.729184Z",
     "iopub.status.busy": "2025-09-18T09:07:06.729008Z",
     "iopub.status.idle": "2025-09-18T09:07:06.756052Z",
     "shell.execute_reply": "2025-09-18T09:07:06.755360Z"
    }
   },
   "outputs": [
    {
     "name": "stdout",
     "output_type": "stream",
     "text": [
      "SVI Model Surface:\n"
     ]
    },
    {
     "data": {
      "application/vnd.plotly.v1+json": {
       "config": {
        "plotlyServerURL": "https://plot.ly"
       },
       "data": [
        {
         "colorscale": [
          [
           0.0,
           "#30123b"
          ],
          [
           0.07142857142857142,
           "#4145ab"
          ],
          [
           0.14285714285714285,
           "#4675ed"
          ],
          [
           0.21428571428571427,
           "#39a2fc"
          ],
          [
           0.2857142857142857,
           "#1bcfd4"
          ],
          [
           0.35714285714285715,
           "#24eca6"
          ],
          [
           0.42857142857142855,
           "#61fc6c"
          ],
          [
           0.5,
           "#a4fc3b"
          ],
          [
           0.5714285714285714,
           "#d1e834"
          ],
          [
           0.6428571428571429,
           "#f3c63a"
          ],
          [
           0.7142857142857143,
           "#fe9b2d"
          ],
          [
           0.7857142857142857,
           "#f36315"
          ],
          [
           0.8571428571428571,
           "#d93806"
          ],
          [
           0.9285714285714286,
           "#b11901"
          ],
          [
           1.0,
           "#7a0402"
          ]
         ],
         "contours": {
          "y": {
           "color": "black",
           "highlightcolor": "black",
           "show": true,
           "size": 0.05
          },
          "z": {
           "color": "black",
           "highlightcolor": "black",
           "show": true,
           "size": 0.05
          }
         },
         "showscale": false,
         "type": "surface",
         "x": [
          "85.35",
          "102.42",
          "119.49",
          "128.025",
          "136.56",
          "145.095",
          "153.63",
          "162.165",
          "166.4325",
          "170.7",
          "174.9675",
          "179.235",
          "187.77",
          "196.305",
          "204.84",
          "213.375",
          "221.91",
          "238.98",
          "256.05"
         ],
         "y": [
          "2025-08-15",
          "2025-09-19",
          "2025-10-17",
          "2025-11-21",
          "2025-12-19",
          "2026-01-16",
          "2026-03-20",
          "2026-06-18",
          "2026-09-18",
          "2026-12-18",
          "2027-01-15",
          "2027-06-17",
          "2027-12-17"
         ],
         "z": {
          "bdata": "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",
          "dtype": "f8",
          "shape": "13, 19"
         }
        }
       ],
       "layout": {
        "autosize": true,
        "dragmode": false,
        "height": 450,
        "scene": {
         "camera": {
          "center": {
           "x": 0.02,
           "y": -0.07,
           "z": -0.21
          },
          "eye": {
           "x": 0.96,
           "y": -1.53,
           "z": 0.39
          },
          "projection": {
           "type": "perspective"
          },
          "up": {
           "x": -0.18,
           "y": 0.27,
           "z": 0.95
          }
         },
         "xaxis": {
          "showgrid": true,
          "title": {
           "text": "STRIKE"
          }
         },
         "yaxis": {
          "showgrid": true,
          "title": {
           "text": "DATE"
          }
         },
         "zaxis": {
          "showgrid": true,
          "title": {
           "text": "Volatility"
          }
         }
        },
        "template": {
         "data": {
          "bar": [
           {
            "error_x": {
             "color": "#2a3f5f"
            },
            "error_y": {
             "color": "#2a3f5f"
            },
            "marker": {
             "line": {
              "color": "#E5ECF6",
              "width": 0.5
             },
             "pattern": {
              "fillmode": "overlay",
              "size": 10,
              "solidity": 0.2
             }
            },
            "type": "bar"
           }
          ],
          "barpolar": [
           {
            "marker": {
             "line": {
              "color": "#E5ECF6",
              "width": 0.5
             },
             "pattern": {
              "fillmode": "overlay",
              "size": 10,
              "solidity": 0.2
             }
            },
            "type": "barpolar"
           }
          ],
          "carpet": [
           {
            "aaxis": {
             "endlinecolor": "#2a3f5f",
             "gridcolor": "white",
             "linecolor": "white",
             "minorgridcolor": "white",
             "startlinecolor": "#2a3f5f"
            },
            "baxis": {
             "endlinecolor": "#2a3f5f",
             "gridcolor": "white",
             "linecolor": "white",
             "minorgridcolor": "white",
             "startlinecolor": "#2a3f5f"
            },
            "type": "carpet"
           }
          ],
          "choropleth": [
           {
            "colorbar": {
             "outlinewidth": 0,
             "ticks": ""
            },
            "type": "choropleth"
           }
          ],
          "contour": [
           {
            "colorbar": {
             "outlinewidth": 0,
             "ticks": ""
            },
            "colorscale": [
             [
              0.0,
              "#0d0887"
             ],
             [
              0.1111111111111111,
              "#46039f"
             ],
             [
              0.2222222222222222,
              "#7201a8"
             ],
             [
              0.3333333333333333,
              "#9c179e"
             ],
             [
              0.4444444444444444,
              "#bd3786"
             ],
             [
              0.5555555555555556,
              "#d8576b"
             ],
             [
              0.6666666666666666,
              "#ed7953"
             ],
             [
              0.7777777777777778,
              "#fb9f3a"
             ],
             [
              0.8888888888888888,
              "#fdca26"
             ],
             [
              1.0,
              "#f0f921"
             ]
            ],
            "type": "contour"
           }
          ],
          "contourcarpet": [
           {
            "colorbar": {
             "outlinewidth": 0,
             "ticks": ""
            },
            "type": "contourcarpet"
           }
          ],
          "heatmap": [
           {
            "colorbar": {
             "outlinewidth": 0,
             "ticks": ""
            },
            "colorscale": [
             [
              0.0,
              "#0d0887"
             ],
             [
              0.1111111111111111,
              "#46039f"
             ],
             [
              0.2222222222222222,
              "#7201a8"
             ],
             [
              0.3333333333333333,
              "#9c179e"
             ],
             [
              0.4444444444444444,
              "#bd3786"
             ],
             [
              0.5555555555555556,
              "#d8576b"
             ],
             [
              0.6666666666666666,
              "#ed7953"
             ],
             [
              0.7777777777777778,
              "#fb9f3a"
             ],
             [
              0.8888888888888888,
              "#fdca26"
             ],
             [
              1.0,
              "#f0f921"
             ]
            ],
            "type": "heatmap"
           }
          ],
          "histogram": [
           {
            "marker": {
             "pattern": {
              "fillmode": "overlay",
              "size": 10,
              "solidity": 0.2
             }
            },
            "type": "histogram"
           }
          ],
          "histogram2d": [
           {
            "colorbar": {
             "outlinewidth": 0,
             "ticks": ""
            },
            "colorscale": [
             [
              0.0,
              "#0d0887"
             ],
             [
              0.1111111111111111,
              "#46039f"
             ],
             [
              0.2222222222222222,
              "#7201a8"
             ],
             [
              0.3333333333333333,
              "#9c179e"
             ],
             [
              0.4444444444444444,
              "#bd3786"
             ],
             [
              0.5555555555555556,
              "#d8576b"
             ],
             [
              0.6666666666666666,
              "#ed7953"
             ],
             [
              0.7777777777777778,
              "#fb9f3a"
             ],
             [
              0.8888888888888888,
              "#fdca26"
             ],
             [
              1.0,
              "#f0f921"
             ]
            ],
            "type": "histogram2d"
           }
          ],
          "histogram2dcontour": [
           {
            "colorbar": {
             "outlinewidth": 0,
             "ticks": ""
            },
            "colorscale": [
             [
              0.0,
              "#0d0887"
             ],
             [
              0.1111111111111111,
              "#46039f"
             ],
             [
              0.2222222222222222,
              "#7201a8"
             ],
             [
              0.3333333333333333,
              "#9c179e"
             ],
             [
              0.4444444444444444,
              "#bd3786"
             ],
             [
              0.5555555555555556,
              "#d8576b"
             ],
             [
              0.6666666666666666,
              "#ed7953"
             ],
             [
              0.7777777777777778,
              "#fb9f3a"
             ],
             [
              0.8888888888888888,
              "#fdca26"
             ],
             [
              1.0,
              "#f0f921"
             ]
            ],
            "type": "histogram2dcontour"
           }
          ],
          "mesh3d": [
           {
            "colorbar": {
             "outlinewidth": 0,
             "ticks": ""
            },
            "type": "mesh3d"
           }
          ],
          "parcoords": [
           {
            "line": {
             "colorbar": {
              "outlinewidth": 0,
              "ticks": ""
             }
            },
            "type": "parcoords"
           }
          ],
          "pie": [
           {
            "automargin": true,
            "type": "pie"
           }
          ],
          "scatter": [
           {
            "fillpattern": {
             "fillmode": "overlay",
             "size": 10,
             "solidity": 0.2
            },
            "type": "scatter"
           }
          ],
          "scatter3d": [
           {
            "line": {
             "colorbar": {
              "outlinewidth": 0,
              "ticks": ""
             }
            },
            "marker": {
             "colorbar": {
              "outlinewidth": 0,
              "ticks": ""
             }
            },
            "type": "scatter3d"
           }
          ],
          "scattercarpet": [
           {
            "marker": {
             "colorbar": {
              "outlinewidth": 0,
              "ticks": ""
             }
            },
            "type": "scattercarpet"
           }
          ],
          "scattergeo": [
           {
            "marker": {
             "colorbar": {
              "outlinewidth": 0,
              "ticks": ""
             }
            },
            "type": "scattergeo"
           }
          ],
          "scattergl": [
           {
            "marker": {
             "colorbar": {
              "outlinewidth": 0,
              "ticks": ""
             }
            },
            "type": "scattergl"
           }
          ],
          "scattermap": [
           {
            "marker": {
             "colorbar": {
              "outlinewidth": 0,
              "ticks": ""
             }
            },
            "type": "scattermap"
           }
          ],
          "scattermapbox": [
           {
            "marker": {
             "colorbar": {
              "outlinewidth": 0,
              "ticks": ""
             }
            },
            "type": "scattermapbox"
           }
          ],
          "scatterpolar": [
           {
            "marker": {
             "colorbar": {
              "outlinewidth": 0,
              "ticks": ""
             }
            },
            "type": "scatterpolar"
           }
          ],
          "scatterpolargl": [
           {
            "marker": {
             "colorbar": {
              "outlinewidth": 0,
              "ticks": ""
             }
            },
            "type": "scatterpolargl"
           }
          ],
          "scatterternary": [
           {
            "marker": {
             "colorbar": {
              "outlinewidth": 0,
              "ticks": ""
             }
            },
            "type": "scatterternary"
           }
          ],
          "surface": [
           {
            "colorbar": {
             "outlinewidth": 0,
             "ticks": ""
            },
            "colorscale": [
             [
              0.0,
              "#0d0887"
             ],
             [
              0.1111111111111111,
              "#46039f"
             ],
             [
              0.2222222222222222,
              "#7201a8"
             ],
             [
              0.3333333333333333,
              "#9c179e"
             ],
             [
              0.4444444444444444,
              "#bd3786"
             ],
             [
              0.5555555555555556,
              "#d8576b"
             ],
             [
              0.6666666666666666,
              "#ed7953"
             ],
             [
              0.7777777777777778,
              "#fb9f3a"
             ],
             [
              0.8888888888888888,
              "#fdca26"
             ],
             [
              1.0,
              "#f0f921"
             ]
            ],
            "type": "surface"
           }
          ],
          "table": [
           {
            "cells": {
             "fill": {
              "color": "#EBF0F8"
             },
             "line": {
              "color": "white"
             }
            },
            "header": {
             "fill": {
              "color": "#C8D4E3"
             },
             "line": {
              "color": "white"
             }
            },
            "type": "table"
           }
          ]
         },
         "layout": {
          "annotationdefaults": {
           "arrowcolor": "#2a3f5f",
           "arrowhead": 0,
           "arrowwidth": 1
          },
          "autotypenumbers": "strict",
          "coloraxis": {
           "colorbar": {
            "outlinewidth": 0,
            "ticks": ""
           }
          },
          "colorscale": {
           "diverging": [
            [
             0,
             "#8e0152"
            ],
            [
             0.1,
             "#c51b7d"
            ],
            [
             0.2,
             "#de77ae"
            ],
            [
             0.3,
             "#f1b6da"
            ],
            [
             0.4,
             "#fde0ef"
            ],
            [
             0.5,
             "#f7f7f7"
            ],
            [
             0.6,
             "#e6f5d0"
            ],
            [
             0.7,
             "#b8e186"
            ],
            [
             0.8,
             "#7fbc41"
            ],
            [
             0.9,
             "#4d9221"
            ],
            [
             1,
             "#276419"
            ]
           ],
           "sequential": [
            [
             0.0,
             "#0d0887"
            ],
            [
             0.1111111111111111,
             "#46039f"
            ],
            [
             0.2222222222222222,
             "#7201a8"
            ],
            [
             0.3333333333333333,
             "#9c179e"
            ],
            [
             0.4444444444444444,
             "#bd3786"
            ],
            [
             0.5555555555555556,
             "#d8576b"
            ],
            [
             0.6666666666666666,
             "#ed7953"
            ],
            [
             0.7777777777777778,
             "#fb9f3a"
            ],
            [
             0.8888888888888888,
             "#fdca26"
            ],
            [
             1.0,
             "#f0f921"
            ]
           ],
           "sequentialminus": [
            [
             0.0,
             "#0d0887"
            ],
            [
             0.1111111111111111,
             "#46039f"
            ],
            [
             0.2222222222222222,
             "#7201a8"
            ],
            [
             0.3333333333333333,
             "#9c179e"
            ],
            [
             0.4444444444444444,
             "#bd3786"
            ],
            [
             0.5555555555555556,
             "#d8576b"
            ],
            [
             0.6666666666666666,
             "#ed7953"
            ],
            [
             0.7777777777777778,
             "#fb9f3a"
            ],
            [
             0.8888888888888888,
             "#fdca26"
            ],
            [
             1.0,
             "#f0f921"
            ]
           ]
          },
          "colorway": [
           "#636efa",
           "#EF553B",
           "#00cc96",
           "#ab63fa",
           "#FFA15A",
           "#19d3f3",
           "#FF6692",
           "#B6E880",
           "#FF97FF",
           "#FECB52"
          ],
          "font": {
           "color": "#2a3f5f"
          },
          "geo": {
           "bgcolor": "white",
           "lakecolor": "white",
           "landcolor": "#E5ECF6",
           "showlakes": true,
           "showland": true,
           "subunitcolor": "white"
          },
          "hoverlabel": {
           "align": "left"
          },
          "hovermode": "closest",
          "mapbox": {
           "style": "light"
          },
          "paper_bgcolor": "white",
          "plot_bgcolor": "#E5ECF6",
          "polar": {
           "angularaxis": {
            "gridcolor": "white",
            "linecolor": "white",
            "ticks": ""
           },
           "bgcolor": "#E5ECF6",
           "radialaxis": {
            "gridcolor": "white",
            "linecolor": "white",
            "ticks": ""
           }
          },
          "scene": {
           "xaxis": {
            "backgroundcolor": "#E5ECF6",
            "gridcolor": "white",
            "gridwidth": 2,
            "linecolor": "white",
            "showbackground": true,
            "ticks": "",
            "zerolinecolor": "white"
           },
           "yaxis": {
            "backgroundcolor": "#E5ECF6",
            "gridcolor": "white",
            "gridwidth": 2,
            "linecolor": "white",
            "showbackground": true,
            "ticks": "",
            "zerolinecolor": "white"
           },
           "zaxis": {
            "backgroundcolor": "#E5ECF6",
            "gridcolor": "white",
            "gridwidth": 2,
            "linecolor": "white",
            "showbackground": true,
            "ticks": "",
            "zerolinecolor": "white"
           }
          },
          "shapedefaults": {
           "line": {
            "color": "#2a3f5f"
           }
          },
          "ternary": {
           "aaxis": {
            "gridcolor": "white",
            "linecolor": "white",
            "ticks": ""
           },
           "baxis": {
            "gridcolor": "white",
            "linecolor": "white",
            "ticks": ""
           },
           "bgcolor": "#E5ECF6",
           "caxis": {
            "gridcolor": "white",
            "linecolor": "white",
            "ticks": ""
           }
          },
          "title": {
           "x": 0.05
          },
          "xaxis": {
           "automargin": true,
           "gridcolor": "white",
           "linecolor": "white",
           "ticks": "",
           "title": {
            "standoff": 15
           },
           "zerolinecolor": "white",
           "zerolinewidth": 2
          },
          "yaxis": {
           "automargin": true,
           "gridcolor": "white",
           "linecolor": "white",
           "ticks": "",
           "title": {
            "standoff": 15
           },
           "zerolinecolor": "white",
           "zerolinewidth": 2
          }
         }
        },
        "title": {
         "font": {
          "size": 16
         },
         "text": "3D Surface Plot of Volatility Surface",
         "x": 0.5,
         "xanchor": "center",
         "y": 0.95,
         "yanchor": "top"
        },
        "width": 800
       }
      }
     },
     "metadata": {},
     "output_type": "display_data"
    }
   ],
   "source": [
    "print(\"SVI Model Surface:\")\n",
    "plot_volatility_surface_plot(surface_compare_df, x_axis, y_axis)"
   ]
  },
  {
   "cell_type": "code",
   "execution_count": 10,
   "id": "7d0cce38",
   "metadata": {
    "execution": {
     "iopub.execute_input": "2025-09-18T09:07:06.759000Z",
     "iopub.status.busy": "2025-09-18T09:07:06.758530Z",
     "iopub.status.idle": "2025-09-18T09:07:06.799397Z",
     "shell.execute_reply": "2025-09-18T09:07:06.798671Z"
    }
   },
   "outputs": [
    {
     "name": "stdout",
     "output_type": "stream",
     "text": [
      "Model Difference (SSVI - SVI):\n"
     ]
    },
    {
     "data": {
      "text/html": [
       "<div>\n",
       "<style scoped>\n",
       "    .dataframe tbody tr th:only-of-type {\n",
       "        vertical-align: middle;\n",
       "    }\n",
       "\n",
       "    .dataframe tbody tr th {\n",
       "        vertical-align: top;\n",
       "    }\n",
       "\n",
       "    .dataframe thead th {\n",
       "        text-align: right;\n",
       "    }\n",
       "</style>\n",
       "<table border=\"1\" class=\"dataframe\">\n",
       "  <thead>\n",
       "    <tr style=\"text-align: right;\">\n",
       "      <th></th>\n",
       "      <th>85.35</th>\n",
       "      <th>102.42</th>\n",
       "      <th>119.49</th>\n",
       "      <th>128.025</th>\n",
       "      <th>136.56</th>\n",
       "      <th>145.095</th>\n",
       "      <th>153.63</th>\n",
       "      <th>162.165</th>\n",
       "      <th>166.4325</th>\n",
       "      <th>170.7</th>\n",
       "      <th>174.9675</th>\n",
       "      <th>179.235</th>\n",
       "      <th>187.77</th>\n",
       "      <th>196.305</th>\n",
       "      <th>204.84</th>\n",
       "      <th>213.375</th>\n",
       "      <th>221.91</th>\n",
       "      <th>238.98</th>\n",
       "      <th>256.05</th>\n",
       "    </tr>\n",
       "  </thead>\n",
       "  <tbody>\n",
       "    <tr>\n",
       "      <th>2025-08-15</th>\n",
       "      <td>8.77</td>\n",
       "      <td>4.46</td>\n",
       "      <td>1.42</td>\n",
       "      <td>0.62</td>\n",
       "      <td>0.43</td>\n",
       "      <td>0.90</td>\n",
       "      <td>1.89</td>\n",
       "      <td>3.04</td>\n",
       "      <td>3.52</td>\n",
       "      <td>3.85</td>\n",
       "      <td>4.00</td>\n",
       "      <td>3.95</td>\n",
       "      <td>3.43</td>\n",
       "      <td>2.59</td>\n",
       "      <td>1.71</td>\n",
       "      <td>0.91</td>\n",
       "      <td>0.23</td>\n",
       "      <td>-0.74</td>\n",
       "      <td>-1.33</td>\n",
       "    </tr>\n",
       "    <tr>\n",
       "      <th>2025-09-19</th>\n",
       "      <td>0.47</td>\n",
       "      <td>-1.03</td>\n",
       "      <td>-1.63</td>\n",
       "      <td>-1.60</td>\n",
       "      <td>-1.39</td>\n",
       "      <td>-1.11</td>\n",
       "      <td>-0.85</td>\n",
       "      <td>-0.72</td>\n",
       "      <td>-0.71</td>\n",
       "      <td>-0.72</td>\n",
       "      <td>-0.76</td>\n",
       "      <td>-0.82</td>\n",
       "      <td>-0.98</td>\n",
       "      <td>-1.13</td>\n",
       "      <td>-1.24</td>\n",
       "      <td>-1.31</td>\n",
       "      <td>-1.32</td>\n",
       "      <td>-1.20</td>\n",
       "      <td>-0.93</td>\n",
       "    </tr>\n",
       "    <tr>\n",
       "      <th>2025-10-17</th>\n",
       "      <td>-1.78</td>\n",
       "      <td>-1.93</td>\n",
       "      <td>-1.32</td>\n",
       "      <td>-0.79</td>\n",
       "      <td>-0.22</td>\n",
       "      <td>0.28</td>\n",
       "      <td>0.62</td>\n",
       "      <td>0.77</td>\n",
       "      <td>0.78</td>\n",
       "      <td>0.74</td>\n",
       "      <td>0.68</td>\n",
       "      <td>0.61</td>\n",
       "      <td>0.43</td>\n",
       "      <td>0.26</td>\n",
       "      <td>0.14</td>\n",
       "      <td>0.05</td>\n",
       "      <td>0.02</td>\n",
       "      <td>0.10</td>\n",
       "      <td>0.33</td>\n",
       "    </tr>\n",
       "    <tr>\n",
       "      <th>2025-11-21</th>\n",
       "      <td>-1.33</td>\n",
       "      <td>-1.31</td>\n",
       "      <td>-0.96</td>\n",
       "      <td>-0.75</td>\n",
       "      <td>-0.61</td>\n",
       "      <td>-0.53</td>\n",
       "      <td>-0.53</td>\n",
       "      <td>-0.57</td>\n",
       "      <td>-0.61</td>\n",
       "      <td>-0.64</td>\n",
       "      <td>-0.67</td>\n",
       "      <td>-0.69</td>\n",
       "      <td>-0.72</td>\n",
       "      <td>-0.70</td>\n",
       "      <td>-0.64</td>\n",
       "      <td>-0.54</td>\n",
       "      <td>-0.40</td>\n",
       "      <td>0.01</td>\n",
       "      <td>0.52</td>\n",
       "    </tr>\n",
       "    <tr>\n",
       "      <th>2025-12-19</th>\n",
       "      <td>-0.77</td>\n",
       "      <td>-0.68</td>\n",
       "      <td>-0.44</td>\n",
       "      <td>-0.34</td>\n",
       "      <td>-0.29</td>\n",
       "      <td>-0.29</td>\n",
       "      <td>-0.32</td>\n",
       "      <td>-0.36</td>\n",
       "      <td>-0.38</td>\n",
       "      <td>-0.40</td>\n",
       "      <td>-0.40</td>\n",
       "      <td>-0.41</td>\n",
       "      <td>-0.38</td>\n",
       "      <td>-0.32</td>\n",
       "      <td>-0.23</td>\n",
       "      <td>-0.08</td>\n",
       "      <td>0.09</td>\n",
       "      <td>0.54</td>\n",
       "      <td>1.07</td>\n",
       "    </tr>\n",
       "    <tr>\n",
       "      <th>2026-01-16</th>\n",
       "      <td>-0.30</td>\n",
       "      <td>0.00</td>\n",
       "      <td>0.34</td>\n",
       "      <td>0.45</td>\n",
       "      <td>0.50</td>\n",
       "      <td>0.49</td>\n",
       "      <td>0.45</td>\n",
       "      <td>0.40</td>\n",
       "      <td>0.38</td>\n",
       "      <td>0.36</td>\n",
       "      <td>0.34</td>\n",
       "      <td>0.33</td>\n",
       "      <td>0.35</td>\n",
       "      <td>0.39</td>\n",
       "      <td>0.47</td>\n",
       "      <td>0.58</td>\n",
       "      <td>0.73</td>\n",
       "      <td>1.09</td>\n",
       "      <td>1.56</td>\n",
       "    </tr>\n",
       "    <tr>\n",
       "      <th>2026-02-20</th>\n",
       "      <td>NaN</td>\n",
       "      <td>NaN</td>\n",
       "      <td>NaN</td>\n",
       "      <td>NaN</td>\n",
       "      <td>NaN</td>\n",
       "      <td>NaN</td>\n",
       "      <td>NaN</td>\n",
       "      <td>NaN</td>\n",
       "      <td>NaN</td>\n",
       "      <td>NaN</td>\n",
       "      <td>NaN</td>\n",
       "      <td>NaN</td>\n",
       "      <td>NaN</td>\n",
       "      <td>NaN</td>\n",
       "      <td>NaN</td>\n",
       "      <td>NaN</td>\n",
       "      <td>NaN</td>\n",
       "      <td>NaN</td>\n",
       "      <td>NaN</td>\n",
       "    </tr>\n",
       "    <tr>\n",
       "      <th>2026-03-20</th>\n",
       "      <td>-0.40</td>\n",
       "      <td>-0.19</td>\n",
       "      <td>-0.06</td>\n",
       "      <td>-0.03</td>\n",
       "      <td>-0.05</td>\n",
       "      <td>-0.11</td>\n",
       "      <td>-0.16</td>\n",
       "      <td>-0.22</td>\n",
       "      <td>-0.26</td>\n",
       "      <td>-0.29</td>\n",
       "      <td>-0.32</td>\n",
       "      <td>-0.34</td>\n",
       "      <td>-0.37</td>\n",
       "      <td>-0.38</td>\n",
       "      <td>-0.37</td>\n",
       "      <td>-0.34</td>\n",
       "      <td>-0.29</td>\n",
       "      <td>-0.13</td>\n",
       "      <td>0.10</td>\n",
       "    </tr>\n",
       "    <tr>\n",
       "      <th>2026-05-15</th>\n",
       "      <td>NaN</td>\n",
       "      <td>NaN</td>\n",
       "      <td>NaN</td>\n",
       "      <td>NaN</td>\n",
       "      <td>NaN</td>\n",
       "      <td>NaN</td>\n",
       "      <td>NaN</td>\n",
       "      <td>NaN</td>\n",
       "      <td>NaN</td>\n",
       "      <td>NaN</td>\n",
       "      <td>NaN</td>\n",
       "      <td>NaN</td>\n",
       "      <td>NaN</td>\n",
       "      <td>NaN</td>\n",
       "      <td>NaN</td>\n",
       "      <td>NaN</td>\n",
       "      <td>NaN</td>\n",
       "      <td>NaN</td>\n",
       "      <td>NaN</td>\n",
       "    </tr>\n",
       "    <tr>\n",
       "      <th>2026-06-18</th>\n",
       "      <td>-0.54</td>\n",
       "      <td>-0.33</td>\n",
       "      <td>-0.15</td>\n",
       "      <td>-0.09</td>\n",
       "      <td>-0.05</td>\n",
       "      <td>-0.04</td>\n",
       "      <td>-0.05</td>\n",
       "      <td>-0.07</td>\n",
       "      <td>-0.10</td>\n",
       "      <td>-0.12</td>\n",
       "      <td>-0.15</td>\n",
       "      <td>-0.18</td>\n",
       "      <td>-0.23</td>\n",
       "      <td>-0.30</td>\n",
       "      <td>-0.36</td>\n",
       "      <td>-0.43</td>\n",
       "      <td>-0.49</td>\n",
       "      <td>-0.61</td>\n",
       "      <td>-0.69</td>\n",
       "    </tr>\n",
       "    <tr>\n",
       "      <th>2026-09-18</th>\n",
       "      <td>-0.49</td>\n",
       "      <td>-0.18</td>\n",
       "      <td>0.03</td>\n",
       "      <td>0.08</td>\n",
       "      <td>0.11</td>\n",
       "      <td>0.11</td>\n",
       "      <td>0.09</td>\n",
       "      <td>0.04</td>\n",
       "      <td>0.02</td>\n",
       "      <td>-0.01</td>\n",
       "      <td>-0.05</td>\n",
       "      <td>-0.08</td>\n",
       "      <td>-0.16</td>\n",
       "      <td>-0.24</td>\n",
       "      <td>-0.31</td>\n",
       "      <td>-0.39</td>\n",
       "      <td>-0.47</td>\n",
       "      <td>-0.62</td>\n",
       "      <td>-0.74</td>\n",
       "    </tr>\n",
       "    <tr>\n",
       "      <th>2026-12-18</th>\n",
       "      <td>-0.64</td>\n",
       "      <td>-0.24</td>\n",
       "      <td>0.00</td>\n",
       "      <td>0.06</td>\n",
       "      <td>0.08</td>\n",
       "      <td>0.08</td>\n",
       "      <td>0.04</td>\n",
       "      <td>-0.01</td>\n",
       "      <td>-0.04</td>\n",
       "      <td>-0.08</td>\n",
       "      <td>-0.11</td>\n",
       "      <td>-0.16</td>\n",
       "      <td>-0.24</td>\n",
       "      <td>-0.33</td>\n",
       "      <td>-0.42</td>\n",
       "      <td>-0.51</td>\n",
       "      <td>-0.61</td>\n",
       "      <td>-0.78</td>\n",
       "      <td>-0.93</td>\n",
       "    </tr>\n",
       "    <tr>\n",
       "      <th>2027-01-15</th>\n",
       "      <td>-0.44</td>\n",
       "      <td>-0.02</td>\n",
       "      <td>0.22</td>\n",
       "      <td>0.28</td>\n",
       "      <td>0.30</td>\n",
       "      <td>0.29</td>\n",
       "      <td>0.26</td>\n",
       "      <td>0.21</td>\n",
       "      <td>0.19</td>\n",
       "      <td>0.15</td>\n",
       "      <td>0.12</td>\n",
       "      <td>0.08</td>\n",
       "      <td>-0.01</td>\n",
       "      <td>-0.10</td>\n",
       "      <td>-0.18</td>\n",
       "      <td>-0.27</td>\n",
       "      <td>-0.36</td>\n",
       "      <td>-0.51</td>\n",
       "      <td>-0.66</td>\n",
       "    </tr>\n",
       "    <tr>\n",
       "      <th>2027-06-17</th>\n",
       "      <td>-0.05</td>\n",
       "      <td>0.37</td>\n",
       "      <td>0.57</td>\n",
       "      <td>0.59</td>\n",
       "      <td>0.58</td>\n",
       "      <td>0.52</td>\n",
       "      <td>0.46</td>\n",
       "      <td>0.37</td>\n",
       "      <td>0.31</td>\n",
       "      <td>0.26</td>\n",
       "      <td>0.20</td>\n",
       "      <td>0.14</td>\n",
       "      <td>0.01</td>\n",
       "      <td>-0.11</td>\n",
       "      <td>-0.25</td>\n",
       "      <td>-0.38</td>\n",
       "      <td>-0.51</td>\n",
       "      <td>-0.76</td>\n",
       "      <td>-1.00</td>\n",
       "    </tr>\n",
       "    <tr>\n",
       "      <th>2027-12-17</th>\n",
       "      <td>0.62</td>\n",
       "      <td>0.95</td>\n",
       "      <td>1.08</td>\n",
       "      <td>1.08</td>\n",
       "      <td>1.04</td>\n",
       "      <td>0.99</td>\n",
       "      <td>0.91</td>\n",
       "      <td>0.82</td>\n",
       "      <td>0.77</td>\n",
       "      <td>0.72</td>\n",
       "      <td>0.67</td>\n",
       "      <td>0.61</td>\n",
       "      <td>0.50</td>\n",
       "      <td>0.39</td>\n",
       "      <td>0.28</td>\n",
       "      <td>0.16</td>\n",
       "      <td>0.05</td>\n",
       "      <td>-0.17</td>\n",
       "      <td>-0.37</td>\n",
       "    </tr>\n",
       "  </tbody>\n",
       "</table>\n",
       "</div>"
      ],
      "text/plain": [
       "            85.35  102.42  119.49  128.025  136.56  145.095  153.63  162.165  \\\n",
       "2025-08-15   8.77    4.46    1.42     0.62    0.43     0.90    1.89     3.04   \n",
       "2025-09-19   0.47   -1.03   -1.63    -1.60   -1.39    -1.11   -0.85    -0.72   \n",
       "2025-10-17  -1.78   -1.93   -1.32    -0.79   -0.22     0.28    0.62     0.77   \n",
       "2025-11-21  -1.33   -1.31   -0.96    -0.75   -0.61    -0.53   -0.53    -0.57   \n",
       "2025-12-19  -0.77   -0.68   -0.44    -0.34   -0.29    -0.29   -0.32    -0.36   \n",
       "2026-01-16  -0.30    0.00    0.34     0.45    0.50     0.49    0.45     0.40   \n",
       "2026-02-20    NaN     NaN     NaN      NaN     NaN      NaN     NaN      NaN   \n",
       "2026-03-20  -0.40   -0.19   -0.06    -0.03   -0.05    -0.11   -0.16    -0.22   \n",
       "2026-05-15    NaN     NaN     NaN      NaN     NaN      NaN     NaN      NaN   \n",
       "2026-06-18  -0.54   -0.33   -0.15    -0.09   -0.05    -0.04   -0.05    -0.07   \n",
       "2026-09-18  -0.49   -0.18    0.03     0.08    0.11     0.11    0.09     0.04   \n",
       "2026-12-18  -0.64   -0.24    0.00     0.06    0.08     0.08    0.04    -0.01   \n",
       "2027-01-15  -0.44   -0.02    0.22     0.28    0.30     0.29    0.26     0.21   \n",
       "2027-06-17  -0.05    0.37    0.57     0.59    0.58     0.52    0.46     0.37   \n",
       "2027-12-17   0.62    0.95    1.08     1.08    1.04     0.99    0.91     0.82   \n",
       "\n",
       "            166.4325  170.7  174.9675  179.235  187.77  196.305  204.84  \\\n",
       "2025-08-15      3.52   3.85      4.00     3.95    3.43     2.59    1.71   \n",
       "2025-09-19     -0.71  -0.72     -0.76    -0.82   -0.98    -1.13   -1.24   \n",
       "2025-10-17      0.78   0.74      0.68     0.61    0.43     0.26    0.14   \n",
       "2025-11-21     -0.61  -0.64     -0.67    -0.69   -0.72    -0.70   -0.64   \n",
       "2025-12-19     -0.38  -0.40     -0.40    -0.41   -0.38    -0.32   -0.23   \n",
       "2026-01-16      0.38   0.36      0.34     0.33    0.35     0.39    0.47   \n",
       "2026-02-20       NaN    NaN       NaN      NaN     NaN      NaN     NaN   \n",
       "2026-03-20     -0.26  -0.29     -0.32    -0.34   -0.37    -0.38   -0.37   \n",
       "2026-05-15       NaN    NaN       NaN      NaN     NaN      NaN     NaN   \n",
       "2026-06-18     -0.10  -0.12     -0.15    -0.18   -0.23    -0.30   -0.36   \n",
       "2026-09-18      0.02  -0.01     -0.05    -0.08   -0.16    -0.24   -0.31   \n",
       "2026-12-18     -0.04  -0.08     -0.11    -0.16   -0.24    -0.33   -0.42   \n",
       "2027-01-15      0.19   0.15      0.12     0.08   -0.01    -0.10   -0.18   \n",
       "2027-06-17      0.31   0.26      0.20     0.14    0.01    -0.11   -0.25   \n",
       "2027-12-17      0.77   0.72      0.67     0.61    0.50     0.39    0.28   \n",
       "\n",
       "            213.375  221.91  238.98  256.05  \n",
       "2025-08-15     0.91    0.23   -0.74   -1.33  \n",
       "2025-09-19    -1.31   -1.32   -1.20   -0.93  \n",
       "2025-10-17     0.05    0.02    0.10    0.33  \n",
       "2025-11-21    -0.54   -0.40    0.01    0.52  \n",
       "2025-12-19    -0.08    0.09    0.54    1.07  \n",
       "2026-01-16     0.58    0.73    1.09    1.56  \n",
       "2026-02-20      NaN     NaN     NaN     NaN  \n",
       "2026-03-20    -0.34   -0.29   -0.13    0.10  \n",
       "2026-05-15      NaN     NaN     NaN     NaN  \n",
       "2026-06-18    -0.43   -0.49   -0.61   -0.69  \n",
       "2026-09-18    -0.39   -0.47   -0.62   -0.74  \n",
       "2026-12-18    -0.51   -0.61   -0.78   -0.93  \n",
       "2027-01-15    -0.27   -0.36   -0.51   -0.66  \n",
       "2027-06-17    -0.38   -0.51   -0.76   -1.00  \n",
       "2027-12-17     0.16    0.05   -0.17   -0.37  "
      ]
     },
     "metadata": {},
     "output_type": "display_data"
    }
   ],
   "source": [
    "from IPython.display import display\n",
    "\n",
    "# Difference Analysis\n",
    "print(\"Model Difference (SSVI - SVI):\")\n",
    "diff_df = surface_df - surface_compare_df\n",
    "display(diff_df)"
   ]
  },
  {
   "cell_type": "code",
   "execution_count": null,
   "id": "a91ab3a2",
   "metadata": {},
   "outputs": [],
   "source": []
  }
 ],
 "metadata": {
  "kernelspec": {
   "display_name": "jupyterlab-ext",
   "language": "python",
   "name": "python3"
  },
  "language_info": {
   "codemirror_mode": {
    "name": "ipython",
    "version": 3
   },
   "file_extension": ".py",
   "mimetype": "text/x-python",
   "name": "python",
   "nbconvert_exporter": "python",
   "pygments_lexer": "ipython3",
   "version": "3.11.6"
  }
 },
 "nbformat": 4,
 "nbformat_minor": 5
}
