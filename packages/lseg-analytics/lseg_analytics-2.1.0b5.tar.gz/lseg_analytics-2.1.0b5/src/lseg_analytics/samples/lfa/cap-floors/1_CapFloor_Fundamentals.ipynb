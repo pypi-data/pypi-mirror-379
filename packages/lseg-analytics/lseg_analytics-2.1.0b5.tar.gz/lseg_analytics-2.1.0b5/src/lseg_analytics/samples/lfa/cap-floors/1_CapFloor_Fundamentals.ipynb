{
 "cells": [
  {
   "cell_type": "markdown",
   "id": "1a108871",
   "metadata": {},
   "source": [
    "# CapFloor Fundamentals"
   ]
  },
  {
   "cell_type": "markdown",
   "id": "3a4cef20",
   "metadata": {},
   "source": [
    "This notebook demonstrates how to access and use the **Cap & Floor** functionalities within the **LSEG Financial Analytics SDK**. \n",
    "\n",
    "Cap and Floor instruments are interest rate derivatives that provide protection against adverse interest rate movements. Caps protect against rising rates while floors protect against falling rates, making them essential tools for risk management and structured products in fixed income markets.\n",
    "\n",
    "**You will be able to:**\n",
    "- Define Cap/Floor instruments with basic parameters\n",
    "- Configure pricing parameters\n",
    "- Evaluate Cap/Floor Analytics"
   ]
  },
  {
   "cell_type": "markdown",
   "id": "c545bed5",
   "metadata": {},
   "source": [
    "## Imports"
   ]
  },
  {
   "cell_type": "markdown",
   "id": "5a2157a4-64d5-4b2e-93dc-aaeae57e199a",
   "metadata": {},
   "source": [
    "Import the following necessary modules:\n",
    "\n",
    "- `lseg_analytics.instruments.cap_floor` - for CapFloor instruments definitions and analytics"
   ]
  },
  {
   "cell_type": "code",
   "execution_count": 1,
   "id": "4d002713",
   "metadata": {
    "execution": {
     "iopub.execute_input": "2025-09-18T08:59:09.950447Z",
     "iopub.status.busy": "2025-09-18T08:59:09.950083Z",
     "iopub.status.idle": "2025-09-18T08:59:10.748356Z",
     "shell.execute_reply": "2025-09-18T08:59:10.747828Z"
    }
   },
   "outputs": [],
   "source": [
    "from lseg_analytics.instruments import cap_floor as cf\n",
    "\n",
    "import pandas as pd\n",
    "import json\n",
    "import datetime as dt\n",
    "from IPython.display import display"
   ]
  },
  {
   "cell_type": "markdown",
   "id": "9b0cc193",
   "metadata": {},
   "source": [
    "## Data Preparation\n",
    "\n",
    "To define a Cap/Floor instrument you need to follow a structured 3-step process:\n",
    "\n",
    "1. **CapFloor Definition** - Specify basic cap/floor parameters (strike, dates, notional, index)\n",
    "2. **CapFloor Instrument Definition** - Create the instrument object\n",
    "3. **Pricing Preferences** - Configure pricing parameters, optional\n"
   ]
  },
  {
   "cell_type": "markdown",
   "id": "759ec01d-3e08-46da-861d-778dce37af7c",
   "metadata": {},
   "source": [
    "## "
   ]
  },
  {
   "cell_type": "code",
   "execution_count": 2,
   "id": "a6e29ab7",
   "metadata": {
    "execution": {
     "iopub.execute_input": "2025-09-18T08:59:10.752609Z",
     "iopub.status.busy": "2025-09-18T08:59:10.750785Z",
     "iopub.status.idle": "2025-09-18T08:59:10.763231Z",
     "shell.execute_reply": "2025-09-18T08:59:10.762686Z"
    },
    "tags": [
     "price.static"
    ]
   },
   "outputs": [
    {
     "name": "stdout",
     "output_type": "stream",
     "text": [
      "Instrument definition created\n",
      "Pricing parameters configured\n"
     ]
    }
   ],
   "source": [
    "# 1. Define the cap instrument\n",
    "cap_definition = cf.IPACapFloorDefinition(\n",
    "    buy_sell = cf.IPABuySellEnum.BUY.value,                                      # Buy cap protection\n",
    "    cap_strike_percent = 2.0,                                                 # 2% strike rate\n",
    "    start_date = dt.datetime.strptime(\"2025-01-01\", \"%Y-%m-%d\"),              # Start date\n",
    "    end_date = dt.datetime.strptime(\"2030-01-01\", \"%Y-%m-%d\"),                # Maturity date\n",
    "    notional_amount = 1_000_000,                                              # $1M notional\n",
    "    notional_ccy = \"USD\",                                                     # USD currency\n",
    "    index_name = \"SOFR\",                                                      # SOFR index\n",
    "    index_tenor = \"ON\",\n",
    "    interest_payment_frequency = cf.IndexResetFrequencyEnum.QUARTERLY.value,     # Quarterly payments\n",
    ")\n",
    "\n",
    "cap_instrument = cf.IPACapFloorDefinitionInstrument(definition = cap_definition)\n",
    "print(\"Instrument definition created\")\n",
    "\n",
    "# 2. Configure pricing parameters\n",
    "pricing_params = cf.CapFloorPricingParameters(\n",
    "    valuation_date = dt.datetime.strptime(\"2025-07-18\", \"%Y-%m-%d\"),                \n",
    ")\n",
    "print(\"Pricing parameters configured\")"
   ]
  },
  {
   "cell_type": "markdown",
   "id": "59493901",
   "metadata": {},
   "source": [
    "## Request Execution"
   ]
  },
  {
   "cell_type": "code",
   "execution_count": 3,
   "id": "0eedc926",
   "metadata": {
    "execution": {
     "iopub.execute_input": "2025-09-18T08:59:10.765412Z",
     "iopub.status.busy": "2025-09-18T08:59:10.765129Z",
     "iopub.status.idle": "2025-09-18T08:59:12.741320Z",
     "shell.execute_reply": "2025-09-18T08:59:12.740613Z"
    },
    "tags": [
     "price.static"
    ]
   },
   "outputs": [
    {
     "name": "stdout",
     "output_type": "stream",
     "text": [
      "Pricing execution completed\n"
     ]
    }
   ],
   "source": [
    "#  Execute the calculation using the price() function\n",
    "# The 'definitions' parameter accepts a list of instruments definitions for batch processing\n",
    "\n",
    "response = cf.price(\n",
    "    definitions = [cap_instrument],\n",
    "    pricing_preferences = pricing_params,\n",
    "    fields = \"MarketValueInDealCcy, marketValueInReportCcy, premiumPercent, premiumBp\"  # optional\n",
    ")\n",
    "\n",
    "print(\"Pricing execution completed\")\n"
   ]
  },
  {
   "cell_type": "markdown",
   "id": "b58ed807",
   "metadata": {},
   "source": [
    "## Results Display"
   ]
  },
  {
   "cell_type": "markdown",
   "id": "8fbfaa6c",
   "metadata": {},
   "source": [
    "#### Key Sections in the `response` JSON\n",
    "\n",
    " - **definitions**: Instrument setup (e.g., strike, dates, notional, index), it's IPACapFloorDefinition that we used. \n",
    "\n",
    " - **pricingPreferences**: Valuation date, price side, currency, skip first caplet.\n",
    "\n",
    " - **analytics**:\n",
    "   - **tabularData**: `data`, `headers`, `statuses`\n",
    "   - **description**: Instrument summary IPACapFloorDefinition and also the default fields not specified in the IPACapFloorDefinition, but used by default in the calculation\n",
    "   - **valuation**: customizable list of analytics (`marketValueInDealCcy`, `premiumPercent`, `premiumBp`)\n",
    "   - **error**: root cause of the issue, if any\n"
   ]
  },
  {
   "cell_type": "code",
   "execution_count": 4,
   "id": "143fda8e",
   "metadata": {
    "execution": {
     "iopub.execute_input": "2025-09-18T08:59:12.744068Z",
     "iopub.status.busy": "2025-09-18T08:59:12.743821Z",
     "iopub.status.idle": "2025-09-18T08:59:12.747431Z",
     "shell.execute_reply": "2025-09-18T08:59:12.746884Z"
    }
   },
   "outputs": [
    {
     "name": "stdout",
     "output_type": "stream",
     "text": [
      "{\n",
      "    \"marketValueInDealCcy\": 70192.0568261817,\n",
      "    \"premiumPercent\": 7.01920568261817,\n",
      "    \"premiumBp\": 701.920568261817\n",
      "}\n"
     ]
    }
   ],
   "source": [
    "# Access the valuation object\n",
    "valuation = response.data.analytics[0].valuation\n",
    "print(json.dumps(valuation.as_dict(), indent = 4))"
   ]
  },
  {
   "cell_type": "code",
   "execution_count": 5,
   "id": "a7632a13",
   "metadata": {
    "execution": {
     "iopub.execute_input": "2025-09-18T08:59:12.749652Z",
     "iopub.status.busy": "2025-09-18T08:59:12.749238Z",
     "iopub.status.idle": "2025-09-18T08:59:12.760840Z",
     "shell.execute_reply": "2025-09-18T08:59:12.759955Z"
    }
   },
   "outputs": [
    {
     "data": {
      "text/html": [
       "<div>\n",
       "<style scoped>\n",
       "    .dataframe tbody tr th:only-of-type {\n",
       "        vertical-align: middle;\n",
       "    }\n",
       "\n",
       "    .dataframe tbody tr th {\n",
       "        vertical-align: top;\n",
       "    }\n",
       "\n",
       "    .dataframe thead th {\n",
       "        text-align: right;\n",
       "    }\n",
       "</style>\n",
       "<table border=\"1\" class=\"dataframe\">\n",
       "  <thead>\n",
       "    <tr style=\"text-align: right;\">\n",
       "      <th></th>\n",
       "      <th>Fields</th>\n",
       "      <th>Value</th>\n",
       "    </tr>\n",
       "  </thead>\n",
       "  <tbody>\n",
       "    <tr>\n",
       "      <th>0</th>\n",
       "      <td>marketValueInDealCcy</td>\n",
       "      <td>70192.056826</td>\n",
       "    </tr>\n",
       "    <tr>\n",
       "      <th>1</th>\n",
       "      <td>premiumPercent</td>\n",
       "      <td>7.019206</td>\n",
       "    </tr>\n",
       "    <tr>\n",
       "      <th>2</th>\n",
       "      <td>premiumBp</td>\n",
       "      <td>701.920568</td>\n",
       "    </tr>\n",
       "  </tbody>\n",
       "</table>\n",
       "</div>"
      ],
      "text/plain": [
       "                 Fields         Value\n",
       "0  marketValueInDealCcy  70192.056826\n",
       "1        premiumPercent      7.019206\n",
       "2             premiumBp    701.920568"
      ]
     },
     "metadata": {},
     "output_type": "display_data"
    }
   ],
   "source": [
    "# Convert to DataFrame\n",
    "df_valuation = pd.DataFrame(list(valuation.items()), columns=[\"Fields\", \"Value\"])\n",
    "# Display the DataFrame\n",
    "display(df_valuation)\n"
   ]
  },
  {
   "cell_type": "markdown",
   "id": "bff9a3e4",
   "metadata": {},
   "source": [
    "## Appendix: Complete Functions Reference"
   ]
  },
  {
   "cell_type": "markdown",
   "id": "b0ae45e5",
   "metadata": {},
   "source": [
    "The following is a complete list of all classes, enums, and functions available after importing from `lseg_analytics.instruments.cap_floor`:\n",
    "\n",
    "**Core Classes:**\n",
    "- `IPACapFloorDefinition` - Define cap/floor instrument specifications\n",
    "- `IPACapFloorDefinitionInstrument` - Instrument container for pricing operations\n",
    "- `CapFloorPricingParameters` - Configure pricing parameters and market data settings\n",
    "\n",
    "**Response Classes:**\n",
    "- `CapFloorPricingResponse` - Main response container\n",
    "- `CapFloorValuation` - Individual instrument valuation results\n",
    "- `CapFloorAnalytics` - Detailed analytics and calculations\n",
    "\n",
    "**Configuration Enums:**\n",
    "- `IPABuySellEnum` - Buy/Sell direction (BUY, SELL)\n",
    "- `InterestCalculationMethodEnum` - Interest calculation methods (DCB_ACTUAL_360, etc.)\n",
    "- `IndexResetFrequencyEnum` - Reset frequencies (QUARTERLY, MONTHLY, etc.)\n",
    "- `PaymentBusinessDayConventionEnum` - Business day conventions (MODIFIED_FOLLOWING, etc.)\n",
    "- `PaymentRollConventionEnum` - Roll conventions (LAST, EOM, etc.)\n",
    "- `PriceSideEnum` - Market price sides (BID, ASK, MID)\n",
    "\n",
    "**Market Data Classes:**\n",
    "- `InterestRateCurve` - Interest rate curve definitions\n",
    "- `VolatilitySurface` - Volatility surface configurations\n",
    "- `MarketDataSet` - Complete market data specifications\n",
    "\n",
    "**Main Functions:**\n",
    "- `price()` - Execute cap/floor pricing calculations\n",
    "- `calculate_greeks()` - Calculate sensitivity measures\n",
    "- `generate_cashflows()` - Generate detailed cashflow schedules"
   ]
  }
 ],
 "metadata": {
  "kernelspec": {
   "display_name": "base",
   "language": "python",
   "name": "python3"
  },
  "language_info": {
   "codemirror_mode": {
    "name": "ipython",
    "version": 3
   },
   "file_extension": ".py",
   "mimetype": "text/x-python",
   "name": "python",
   "nbconvert_exporter": "python",
   "pygments_lexer": "ipython3",
   "version": "3.11.6"
  }
 },
 "nbformat": 4,
 "nbformat_minor": 5
}
