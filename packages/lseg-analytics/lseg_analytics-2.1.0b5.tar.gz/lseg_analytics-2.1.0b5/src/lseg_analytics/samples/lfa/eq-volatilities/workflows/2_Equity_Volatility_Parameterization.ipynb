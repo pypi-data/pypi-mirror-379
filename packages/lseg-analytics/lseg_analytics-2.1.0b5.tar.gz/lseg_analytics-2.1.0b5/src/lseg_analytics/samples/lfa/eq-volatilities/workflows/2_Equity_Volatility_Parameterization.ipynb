{
 "cells": [
  {
   "cell_type": "markdown",
   "id": "1a108871",
   "metadata": {},
   "source": [
    "# Equity Volatility Parameterization"
   ]
  },
  {
   "cell_type": "markdown",
   "id": "3a4cef20",
   "metadata": {},
   "source": [
    "This notebook demonstrates how to access and use the **ETI Volatility Surfaces** functionality within the **LSEG Analytics SDK**. \n",
    "\n",
    "ETI (Exchange Traded Instruments) volatility surfaces provide implied volatility data across different strikes and maturities for equity options. This enables quantitative analysis, risk management, and derivatives pricing for equity markets.\n",
    "\n",
    "**What you'll learn:**\n",
    "- Surface parameter configuration\n",
    "- Constituent weights adjustment\n",
    "- Filtering settings for data quality optimization \n"
   ]
  },
  {
   "cell_type": "markdown",
   "id": "7cd0ad84",
   "metadata": {},
   "source": [
    "## Imports"
   ]
  },
  {
   "cell_type": "markdown",
   "id": "37a963b7",
   "metadata": {},
   "source": [
    "Import the following necessary modules:\n",
    "\n",
    "- `lseg_analytics.market_data.eq_volatility` - for ETI volatility surfaces definition"
   ]
  },
  {
   "cell_type": "code",
   "execution_count": 1,
   "id": "fb2218f1",
   "metadata": {
    "execution": {
     "iopub.execute_input": "2025-09-18T09:06:53.474885Z",
     "iopub.status.busy": "2025-09-18T09:06:53.474569Z",
     "iopub.status.idle": "2025-09-18T09:06:54.280331Z",
     "shell.execute_reply": "2025-09-18T09:06:54.279687Z"
    }
   },
   "outputs": [],
   "source": [
    "from lseg_analytics.market_data import eq_volatility as ev\n",
    "\n",
    "import plotly.graph_objects as go\n",
    "import pandas as pd\n",
    "import datetime as dt\n",
    "import json\n"
   ]
  },
  {
   "cell_type": "markdown",
   "id": "b9c3dd46",
   "metadata": {},
   "source": [
    "## Data Preparation"
   ]
  },
  {
   "cell_type": "markdown",
   "id": "c6f52e0f",
   "metadata": {},
   "source": [
    "For detailed explanation of fundamental steps to calculate volatility surfaces refer to **1_ETI_Volatility_Surfaces_Fundamentals** notebook."
   ]
  },
  {
   "cell_type": "markdown",
   "id": "72df26d2",
   "metadata": {},
   "source": [
    "### STEP 1: Create Surface Definition"
   ]
  },
  {
   "cell_type": "code",
   "execution_count": 2,
   "id": "bf4cacb1",
   "metadata": {
    "execution": {
     "iopub.execute_input": "2025-09-18T09:06:54.284657Z",
     "iopub.status.busy": "2025-09-18T09:06:54.282749Z",
     "iopub.status.idle": "2025-09-18T09:06:54.287894Z",
     "shell.execute_reply": "2025-09-18T09:06:54.287407Z"
    }
   },
   "outputs": [
    {
     "name": "stdout",
     "output_type": "stream",
     "text": [
      "Step 1: Creating Surface Definition...\n",
      "   ✓ Instrument: AAPL.O@RIC\n"
     ]
    }
   ],
   "source": [
    "print(\"Step 1: Creating Surface Definition...\")\n",
    "\n",
    "ric = \"AAPL.O@RIC\"\n",
    "\n",
    "# Create surface definition object\n",
    "surface_definition = ev.EtiSurfaceDefinition(\n",
    "        instrument_code = ric\n",
    "        )\n",
    "print(f\"   ✓ Instrument: {surface_definition.instrument_code}\")"
   ]
  },
  {
   "cell_type": "markdown",
   "id": "cc0b95a1",
   "metadata": {},
   "source": [
    "### STEP 2: Configure Surface Parameters"
   ]
  },
  {
   "cell_type": "markdown",
   "id": "bbe44c6f",
   "metadata": {},
   "source": [
    "**Parameterization Options:**\n",
    "- **Basic Settings** - general surface parameterization focused on core setup\n",
    "- **Constituents Weights** - constituents selection fine tuning\n",
    "- **Advanced Filters** - advanced methodology to deeply finetune constituent filtering"
   ]
  },
  {
   "cell_type": "markdown",
   "id": "828bd55c",
   "metadata": {},
   "source": [
    "#### STEP 2.1: Basic Settings"
   ]
  },
  {
   "cell_type": "code",
   "execution_count": 3,
   "id": "8fe0ed68",
   "metadata": {
    "execution": {
     "iopub.execute_input": "2025-09-18T09:06:54.289930Z",
     "iopub.status.busy": "2025-09-18T09:06:54.289695Z",
     "iopub.status.idle": "2025-09-18T09:06:54.296312Z",
     "shell.execute_reply": "2025-09-18T09:06:54.295852Z"
    }
   },
   "outputs": [
    {
     "name": "stdout",
     "output_type": "stream",
     "text": [
      "Step 2: Configuring Surface Parameters...\n",
      "   ✓ Surface Parameters - Core: {'calculationDate': '2025-06-18T00:00:00Z', 'timeStamp': 'Default', 'inputVolatilityType': 'Implied', 'volatilityModel': 'SVI', 'xAxis': 'Strike', 'yAxis': 'Date', 'moneynessType': 'Spot', 'priceSide': 'Mid', 'smileBySmileArbitrageCheck': True, 'sviAlphaExtrapolation': True}\n"
     ]
    }
   ],
   "source": [
    "print(\"Step 2: Configuring Surface Parameters...\")\n",
    "\n",
    "# Create surface parameters object to define how the surface is calculated\n",
    "surface_parameters = ev.EtiSurfaceParameters(\n",
    "    \n",
    "    # ------------- core surface params\n",
    "    calculation_date=dt.datetime.strptime(\"2025-06-18\", \"%Y-%m-%d\"),\n",
    "    time_stamp=ev.CurvesAndSurfacesTimeStampEnum.DEFAULT,  # Options: CLOSE, OPEN, SETTLE, DEFAULT\n",
    "    input_volatility_type=ev.InputVolatilityTypeEnum.IMPLIED,  # Options: IMPLIED, QUOTED\n",
    "    volatility_model=ev.CurvesAndSurfacesVolatilityModelEnum.SVI, # Options: SVI, SSVI\n",
    "\n",
    "    # Surface axis configuration for output layout\n",
    "    x_axis=ev.XAxisEnum.STRIKE,  # Options: DATE, DELTA, MONEYNESS, STRIKE, TENOR\n",
    "    y_axis=ev.YAxisEnum.DATE,  # Options: same as X-axis\n",
    "\n",
    "    # ------------- extended general params\n",
    "    moneyness_type=ev.MoneynessTypeEnum.SPOT, #['DELTA', 'FUTURE', 'STRIKE', 'SPOT']\n",
    "    price_side=ev.CurvesAndSurfacesPriceSideEnum.MID, #['BID', 'ASK', 'MID']\n",
    "    smile_by_smile_arbitrage_check=True,  # Enable arbitrage check for each smile\n",
    "    svi_alpha_extrapolation=True  # Enable SVI alpha extrapolation\n",
    ")\n",
    "\n",
    "print(f\"   ✓ Surface Parameters - Core: {surface_parameters}\")"
   ]
  },
  {
   "cell_type": "markdown",
   "id": "ea2a6dd7",
   "metadata": {},
   "source": [
    "#### STEP 2.2: Constituent Weights"
   ]
  },
  {
   "cell_type": "code",
   "execution_count": 4,
   "id": "abbaaf75",
   "metadata": {
    "execution": {
     "iopub.execute_input": "2025-09-18T09:06:54.298217Z",
     "iopub.status.busy": "2025-09-18T09:06:54.297959Z",
     "iopub.status.idle": "2025-09-18T09:06:54.301861Z",
     "shell.execute_reply": "2025-09-18T09:06:54.301331Z"
    }
   },
   "outputs": [
    {
     "name": "stdout",
     "output_type": "stream",
     "text": [
      "   ✓ Surface Parameters - Weights: [{'minMoneyness': 0.95, 'maxMoneyness': 1.05, 'weight': 3.0}, {'minMoneyness': 0.8, 'maxMoneyness': 1.2, 'weight': 1.0}, {'minMoneyness': 0.5, 'maxMoneyness': 1.5, 'weight': 0.5}]\n"
     ]
    }
   ],
   "source": [
    "# ============= CONSTITUENT WEIGHTS =============\n",
    "\n",
    "#  Higher weight for ATM options\n",
    "atm_weight = ev.MoneynessWeight(\n",
    "    min_moneyness=0.95,\n",
    "    max_moneyness=1.05,\n",
    "    weight=3.0  # Triple weight for near-ATM\n",
    ")\n",
    "\n",
    "# Standard weight for moderately OTM options\n",
    "moderate_otm_weight = ev.MoneynessWeight(\n",
    "    min_moneyness=0.8,\n",
    "    max_moneyness=1.2,\n",
    "    weight=1.0  # Normal weight\n",
    ")\n",
    "\n",
    "# Lower weight for far OTM options\n",
    "far_otm_weight = ev.MoneynessWeight(\n",
    "    min_moneyness=0.5,\n",
    "    max_moneyness=1.5,\n",
    "    weight=0.5  # Half weight for far OTM\n",
    ")\n",
    "\n",
    "# Assign the weights to the surface parameters\n",
    "surface_parameters.weights = [atm_weight, moderate_otm_weight, far_otm_weight]\n",
    "\n",
    "print(f\"   ✓ Surface Parameters - Weights: {surface_parameters.weights}\")"
   ]
  },
  {
   "cell_type": "markdown",
   "id": "e4a307dd",
   "metadata": {},
   "source": [
    "#### STEP 2.3: Advanced Filters"
   ]
  },
  {
   "cell_type": "code",
   "execution_count": 5,
   "id": "72df975f",
   "metadata": {
    "execution": {
     "iopub.execute_input": "2025-09-18T09:06:54.304382Z",
     "iopub.status.busy": "2025-09-18T09:06:54.304000Z",
     "iopub.status.idle": "2025-09-18T09:06:54.310637Z",
     "shell.execute_reply": "2025-09-18T09:06:54.310090Z"
    }
   },
   "outputs": [
    {
     "name": "stdout",
     "output_type": "stream",
     "text": [
      "{'maxStalenessDays': 1, 'ensurePricesMonotonicity': True, 'includeMinTickPrices': True, 'maxOfMedianBidAskSpread': 0.05, 'atmToleranceIntervalPercent': 10.0, 'useWeeklyOptions': True, 'maturityFilterRange': {'maxMaturity': '6M', 'minMaturity': '7D', 'minOfMedianNbOfStrikesPercent': 5}}\n"
     ]
    }
   ],
   "source": [
    "# ============= DATA QUALITY FILTERS =============\n",
    "\n",
    "data_quality_filters = ev.SurfaceFilters(\n",
    "    max_staleness_days=3,                    # Only use data from last 3 days\n",
    "    ensure_prices_monotonicity=True,         # Ensure call prices decrease with strike\n",
    "    include_min_tick_prices=True,            # Include minimum tick size considerations\n",
    "    max_of_median_bid_ask_spread=0.05        # Filter out options with >5% bid-ask spread\n",
    ")\n",
    "\n",
    "# ============= OPTION TYPE FILTERS =============\n",
    "\n",
    "# Use weekly options\n",
    "weekly_options_filters = ev.SurfaceFilters(\n",
    "    use_weekly_options=True                  # Include weekly options\n",
    ")\n",
    "\n",
    "# Calls-only filtering for volatility skew analysis\n",
    "calls_only_filters = ev.SurfaceFilters(\n",
    "    use_only_calls=True,                     # Only call options\n",
    "    use_only_puts=False                      # Explicitly exclude puts\n",
    ")\n",
    "\n",
    "# Puts-only filtering\n",
    "puts_only_filters = ev.SurfaceFilters(\n",
    "    use_only_calls=False,                    # Exclude call options\n",
    "    use_only_puts=True                       # Only put options\n",
    ")\n",
    "\n",
    "# ============= STRIKE & MONEYNESS FILTERS =============\n",
    "\n",
    "# ATM tolerance filtering\n",
    "atm_filters = ev.SurfaceFilters(\n",
    "    atm_tolerance_interval_percent=10.0      # 10% tolerance around ATM for ATM identification\n",
    ")\n",
    "\n",
    "# Strike range filtering with implied volatility bounds\n",
    "strike_filter = ev.StrikeFilter(\n",
    "    max_of_median_implied_vol=150.0,         # Maximum implied volatility threshold\n",
    "    min_of_median_implied_vol=5.0            # Minimum implied volatility threshold\n",
    ")\n",
    "strike_range_filters = ev.SurfaceFilters(\n",
    "    strike_range_percent=strike_filter\n",
    ")\n",
    "\n",
    "# ============= MATURITY FILTERS =============\n",
    "\n",
    "# Maturity range filtering\n",
    "maturity_filter = ev.MaturityFilter(\n",
    "    max_maturity='6M',                       # Maximum 6 months to expiry\n",
    "    min_maturity='7D',                       # Minimum 7 days to expiry\n",
    "    min_of_median_nb_of_strikes_percent=5    # Minimum strikes percent\n",
    ")\n",
    "maturity_range_filters = ev.SurfaceFilters(\n",
    "    maturity_filter_range=maturity_filter\n",
    ")\n",
    "\n",
    "# ============= COMBINED FILTER STRATEGIES =============\n",
    "\n",
    "# Conservative high-quality surface\n",
    "combined_filters = ev.SurfaceFilters(\n",
    "    max_staleness_days=1,\n",
    "    ensure_prices_monotonicity=True,\n",
    "    include_min_tick_prices=True,\n",
    "    max_of_median_bid_ask_spread=0.05,\n",
    "    atm_tolerance_interval_percent=10.0,\n",
    "    use_weekly_options=True,\n",
    "    maturity_filter_range=maturity_filter\n",
    ")\n",
    "\n",
    "\n",
    "# ============= APPLY FILTER STRATEGY =============\n",
    "\n",
    "surface_parameters.filters = combined_filters  # Use your chosen filter configuration\n",
    "print( surface_parameters.filters)\n"
   ]
  },
  {
   "cell_type": "markdown",
   "id": "b6a67544",
   "metadata": {},
   "source": [
    "### STEP 3: Create Request Item"
   ]
  },
  {
   "cell_type": "code",
   "execution_count": 6,
   "id": "0da96082",
   "metadata": {
    "execution": {
     "iopub.execute_input": "2025-09-18T09:06:54.312618Z",
     "iopub.status.busy": "2025-09-18T09:06:54.312307Z",
     "iopub.status.idle": "2025-09-18T09:06:54.316524Z",
     "shell.execute_reply": "2025-09-18T09:06:54.316069Z"
    }
   },
   "outputs": [
    {
     "name": "stdout",
     "output_type": "stream",
     "text": [
      "\n",
      " Step 3: Creating Request Item...\n",
      "   ✓ Request Item: {'surfaceTag': 'TSLA_Volsurface', 'underlyingDefinition': {'instrumentCode': 'AAPL.O@RIC'}, 'surfaceParameters': {'calculationDate': '2025-06-18T00:00:00Z', 'timeStamp': 'Default', 'inputVolatilityType': 'Implied', 'volatilityModel': 'SVI', 'xAxis': 'Strike', 'yAxis': 'Date', 'moneynessType': 'Spot', 'priceSide': 'Mid', 'smileBySmileArbitrageCheck': True, 'sviAlphaExtrapolation': True, 'weights': [{'minMoneyness': 0.95, 'maxMoneyness': 1.05, 'weight': 3.0}, {'minMoneyness': 0.8, 'maxMoneyness': 1.2, 'weight': 1.0}, {'minMoneyness': 0.5, 'maxMoneyness': 1.5, 'weight': 0.5}], 'filters': {'maxStalenessDays': 1, 'ensurePricesMonotonicity': True, 'includeMinTickPrices': True, 'maxOfMedianBidAskSpread': 0.05, 'atmToleranceIntervalPercent': 10.0, 'useWeeklyOptions': True, 'maturityFilterRange': {'maxMaturity': '6M', 'minMaturity': '7D', 'minOfMedianNbOfStrikesPercent': 5}}}, 'underlyingType': 'Eti'}\n"
     ]
    }
   ],
   "source": [
    "print(\"\\n Step 3: Creating Request Item...\")\n",
    "\n",
    "# Create the main request object that combines all configuration\n",
    "request_item = ev.EtiVolatilitySurfaceRequestItem(\n",
    "    surface_tag='TSLA_Volsurface',\n",
    "    underlying_definition=surface_definition,\n",
    "    surface_parameters=surface_parameters,\n",
    "    underlying_type=ev.CurvesAndSurfacesUnderlyingTypeEnum.ETI\n",
    ")\n",
    "\n",
    "print(f\"   ✓ Request Item: {request_item}\")"
   ]
  },
  {
   "cell_type": "markdown",
   "id": "b147a529",
   "metadata": {},
   "source": [
    "## Request Execution"
   ]
  },
  {
   "cell_type": "code",
   "execution_count": 7,
   "id": "b806d22a",
   "metadata": {
    "execution": {
     "iopub.execute_input": "2025-09-18T09:06:54.318317Z",
     "iopub.status.busy": "2025-09-18T09:06:54.318008Z",
     "iopub.status.idle": "2025-09-18T09:06:55.941434Z",
     "shell.execute_reply": "2025-09-18T09:06:55.940925Z"
    }
   },
   "outputs": [
    {
     "name": "stdout",
     "output_type": "stream",
     "text": [
      "   Calculation successful!\n",
      "   Surface data points available: 20\n"
     ]
    }
   ],
   "source": [
    "# Execute the calculation using the calculate function\n",
    "# The 'universe' parameter accepts a list of request items for batch processing\n",
    "try:\n",
    "    response = ev.calculate(universe=[request_item])\n",
    "\n",
    "    # Display response structure information\n",
    "    surface_data = response['data'][0]\n",
    "    if 'surface' in surface_data:\n",
    "        print(f\"   Calculation successful!\")\n",
    "        print(f\"   Surface data points available: {len(surface_data['surface'])}\")\n",
    "    else:\n",
    "        print(\"   No surface data found in response\")\n",
    "    \n",
    "except Exception as e:\n",
    "    print(f\"   Calculation failed: {str(e)}\")\n",
    "    raise"
   ]
  },
  {
   "cell_type": "markdown",
   "id": "36c4886d",
   "metadata": {},
   "source": [
    "## Results Display"
   ]
  },
  {
   "cell_type": "markdown",
   "id": "77bfda46",
   "metadata": {},
   "source": [
    "Once the volatility surface calculation is complete, we can visualize the results using multiple chart types to gain different insights:\n",
    "\n",
    "**Visualization Options:**\n",
    "\n",
    "- **3D Surface Plot** - Interactive 3D visualization of the complete volatility surface\n",
    "- **Volatility Smiles** - Traditional 2D plots showing volatility curves by expiration\n",
    "\n",
    "The plotting functions automatically convert the API response into pandas DataFrames and generate interactive Plotly visualizations."
   ]
  },
  {
   "cell_type": "code",
   "execution_count": 8,
   "id": "6859e13d",
   "metadata": {
    "execution": {
     "iopub.execute_input": "2025-09-18T09:06:55.943678Z",
     "iopub.status.busy": "2025-09-18T09:06:55.943356Z",
     "iopub.status.idle": "2025-09-18T09:06:55.953753Z",
     "shell.execute_reply": "2025-09-18T09:06:55.953280Z"
    }
   },
   "outputs": [],
   "source": [
    "# Plotting utils\n",
    "\n",
    "def get_vol_surface_df(response, index=0):\n",
    "    \"\"\"\n",
    "    Extract and format volatility surface data from API response into a DataFrame.\n",
    "    \n",
    "    This function processes the raw volatility surface data from an API response,\n",
    "    handles various error conditions, and returns a properly formatted DataFrame\n",
    "    suitable for visualization functions.\n",
    "\n",
    "    \"\"\"\n",
    "    try:\n",
    "        vol_surface = response['data'][index]['surface']\n",
    "    except KeyError:\n",
    "        print(\"No surface data available in response.\")\n",
    "        return None\n",
    "    except TypeError:\n",
    "        print(\"No surface data available in response.\")\n",
    "        return None\n",
    "\n",
    "    expiries = vol_surface[0][1:]\n",
    "    strikes = []\n",
    "    values = []\n",
    "\n",
    "    for row in vol_surface[1:]:\n",
    "        strikes.append(row[0])\n",
    "        values.append(row[1:])\n",
    "\n",
    "    strikes = [round(float(s), 2) if isinstance(s, (int, float)) else s for s in strikes]\n",
    "\n",
    "    surface_df = pd.DataFrame(values, index=strikes, columns=expiries).T\n",
    "    surface_df = surface_df.astype(float).round(2)\n",
    "\n",
    "    return surface_df\n",
    "\n",
    "def plot_volatility_surface_plot(surf_table, x_axis, y_axis, colorscale=\"Turbo\"):\n",
    "    \"\"\"\n",
    "    Create an interactive 3D surface plot of the volatility surface with contour lines.\n",
    "    \n",
    "    This function generates a three-dimensional visualization where the x-axis represents\n",
    "    moneyness/strikes, y-axis represents expiries, and z-axis represents volatility values.\n",
    "    Contour lines are added for better depth perception.\n",
    "\n",
    "    Parameters\n",
    "    ----------\n",
    "    surf_table : pd.DataFrame\n",
    "        A DataFrame representing the volatility surface with expiries as index\n",
    "        and strike prices/moneyness as columns. Values should be volatility levels.\n",
    "    colorscale : str or list, optional\n",
    "        Plotly colorscale name (e.g., 'Viridis', 'Turbo', 'Plasma') or custom colorscale list.\n",
    "        Default is \"Turbo\".\n",
    "\n",
    "    Returns\n",
    "    -------\n",
    "    plotly.graph_objects.Figure\n",
    "  \n",
    "    \"\"\"\n",
    "    if len(surf_table) < 2:\n",
    "        fig = go.Figure()\n",
    "        fig.add_annotation(\n",
    "            text=\"Not enough data to display 3D surface\",\n",
    "            xref=\"paper\", yref=\"paper\",\n",
    "            x=0.5, y=0.5,\n",
    "            showarrow=False,\n",
    "            font=dict(size=18),\n",
    "            align=\"center\"\n",
    "        )\n",
    "        fig.update_layout(\n",
    "            title=dict(\n",
    "                text=\"3D Surface Plot of Volatility Surface\",\n",
    "                x=0.5,\n",
    "                xanchor=\"center\",\n",
    "                yanchor=\"top\",\n",
    "                y=0.95,\n",
    "                font=dict(size=16)\n",
    "            ),\n",
    "            autosize=True,\n",
    "            height=450,\n",
    "            margin={\"l\": 0, \"r\": 0, \"b\": 0, \"t\": 50},\n",
    "            dragmode=False,\n",
    "        )\n",
    "        return fig\n",
    "\n",
    "    x = surf_table.columns\n",
    "    y = surf_table.index\n",
    "    z = surf_table.values\n",
    "\n",
    "    fig = go.Figure(data=[go.Surface(\n",
    "        z=z, \n",
    "        x=x, \n",
    "        y=y, \n",
    "        colorscale=colorscale,\n",
    "        showscale=False,\n",
    "        contours={\n",
    "            \"y\": {\n",
    "                \"show\": True,\n",
    "                \"color\": \"black\",\n",
    "                \"highlightcolor\": \"black\",\n",
    "                \"size\": 0.05\n",
    "            },\n",
    "            \"z\": {\n",
    "                \"show\": True,\n",
    "                \"color\": \"black\",\n",
    "                \"highlightcolor\": \"black\",\n",
    "                \"size\": 0.05\n",
    "            }\n",
    "        }\n",
    "    )])\n",
    "\n",
    "    fig.update_layout(\n",
    "        title=dict(\n",
    "            text=\"3D Surface Plot of Volatility Surface\",\n",
    "            x=0.5,\n",
    "            xanchor=\"center\",\n",
    "            yanchor=\"top\",\n",
    "            y=0.95,\n",
    "            font=dict(size=16)\n",
    "        ),\n",
    "        scene={\n",
    "            \"xaxis_title\": x_axis,\n",
    "            \"yaxis_title\": y_axis,\n",
    "            \"zaxis_title\": \"Volatility\",\n",
    "            \"xaxis\": {\"showgrid\": True},\n",
    "            \"yaxis\": {\"showgrid\": True},\n",
    "            \"zaxis\": {\"showgrid\": True},\n",
    "            \"camera\": {\n",
    "                \"eye\": {\"x\": 0.96, \"y\": -1.53, \"z\": 0.39},\n",
    "                \"center\": {\"x\": 0.02, \"y\": -0.07, \"z\": -0.21},\n",
    "                \"up\": {\"x\": -0.18, \"y\": 0.27, \"z\": 0.95},\n",
    "                \"projection\": {\"type\": \"perspective\"}\n",
    "            }\n",
    "        },\n",
    "        dragmode=False,\n",
    "        autosize=True,\n",
    "        height=450,\n",
    "        width=800,\n",
    "    )\n",
    "\n",
    "    return fig\n",
    "\n",
    "def plot_surface_smile_by_expiry(surf_table, x_axis, y_axis):\n",
    "    \"\"\"\n",
    "    Create a 2D line plot showing volatility smiles for different expiry dates.\n",
    "    \n",
    "    This function plots multiple volatility smile curves, with each curve representing\n",
    "    a different expiry date. The x-axis shows moneyness/strikes and the y-axis shows\n",
    "    volatility levels.\n",
    "\n",
    "    Parameters\n",
    "    ----------\n",
    "    surf_table : pd.DataFrame\n",
    "        A DataFrame with expiries as index and strike prices/moneyness as columns.\n",
    "        Values should be volatility levels for each expiry-strike combination.\n",
    "\n",
    "    Returns\n",
    "    -------\n",
    "    plotly.graph_objects.Figure\n",
    "        Interactive line plot with each expiry represented as a separate trace.\n",
    "        \n",
    "    \"\"\"\n",
    "    fig = go.Figure()\n",
    "\n",
    "    for expiry in surf_table.index:\n",
    "        fig.add_trace(go.Scatter(\n",
    "            x=surf_table.columns.astype(float),\n",
    "            y=surf_table.loc[expiry],\n",
    "            mode='lines+markers',\n",
    "            name=expiry\n",
    "        ))\n",
    "\n",
    "    fig.update_layout(\n",
    "        title=dict(\n",
    "            text='Surface Smile by Expiry',\n",
    "            x=0.5,\n",
    "            xanchor=\"center\",\n",
    "            yanchor=\"top\",\n",
    "            y=0.95,\n",
    "            font=dict(size=16)\n",
    "        ),\n",
    "        xaxis_title=x_axis,\n",
    "        yaxis_title='Volatility',\n",
    "        legend_title=y_axis,\n",
    "        template='plotly_white',\n",
    "        dragmode=False,\n",
    "        autosize=True,\n",
    "        height=450,\n",
    "        width=800,\n",
    "    )\n",
    "\n",
    "    return fig"
   ]
  },
  {
   "cell_type": "code",
   "execution_count": 9,
   "id": "982740d7",
   "metadata": {
    "execution": {
     "iopub.execute_input": "2025-09-18T09:06:55.956499Z",
     "iopub.status.busy": "2025-09-18T09:06:55.955686Z",
     "iopub.status.idle": "2025-09-18T09:06:55.961126Z",
     "shell.execute_reply": "2025-09-18T09:06:55.960650Z"
    }
   },
   "outputs": [
    {
     "name": "stdout",
     "output_type": "stream",
     "text": [
      "Surface DataFrame Info:\n",
      "   ✓ Shape: (6, 19) (rows × columns)\n",
      "   ✓ x_axis: STRIKE\n",
      "   ✓ y_axis: DATE\n"
     ]
    }
   ],
   "source": [
    "# Convert API response to pandas DataFrame for easier manipulation \n",
    "# This function extracts volatility data points and organizes them by strike/expiry \n",
    "surface_df = get_vol_surface_df(response)\n",
    "\n",
    "# Extract axis names for labeling plots\n",
    "x_axis = surface_parameters.x_axis.name\n",
    "y_axis = surface_parameters.y_axis.name\n",
    "\n",
    "print(\"Surface DataFrame Info:\") \n",
    "print(f\"   ✓ Shape: {surface_df.shape} (rows × columns)\") \n",
    "print(f\"   ✓ x_axis: {x_axis}\") \n",
    "print(f\"   ✓ y_axis: {y_axis}\") "
   ]
  },
  {
   "cell_type": "markdown",
   "id": "4ff8a4f1",
   "metadata": {},
   "source": [
    "### 3D Surface Plot\n",
    "\n",
    "An interactive 3D visualization allows you to explore the volatility surface from different angles and understand the relationship between strikes, expiries, and volatility levels."
   ]
  },
  {
   "cell_type": "code",
   "execution_count": 10,
   "id": "59a0fe79",
   "metadata": {
    "execution": {
     "iopub.execute_input": "2025-09-18T09:06:55.962973Z",
     "iopub.status.busy": "2025-09-18T09:06:55.962783Z",
     "iopub.status.idle": "2025-09-18T09:06:56.227940Z",
     "shell.execute_reply": "2025-09-18T09:06:56.227486Z"
    }
   },
   "outputs": [
    {
     "data": {
      "application/vnd.plotly.v1+json": {
       "config": {
        "plotlyServerURL": "https://plot.ly"
       },
       "data": [
        {
         "colorscale": [
          [
           0.0,
           "#30123b"
          ],
          [
           0.07142857142857142,
           "#4145ab"
          ],
          [
           0.14285714285714285,
           "#4675ed"
          ],
          [
           0.21428571428571427,
           "#39a2fc"
          ],
          [
           0.2857142857142857,
           "#1bcfd4"
          ],
          [
           0.35714285714285715,
           "#24eca6"
          ],
          [
           0.42857142857142855,
           "#61fc6c"
          ],
          [
           0.5,
           "#a4fc3b"
          ],
          [
           0.5714285714285714,
           "#d1e834"
          ],
          [
           0.6428571428571429,
           "#f3c63a"
          ],
          [
           0.7142857142857143,
           "#fe9b2d"
          ],
          [
           0.7857142857142857,
           "#f36315"
          ],
          [
           0.8571428571428571,
           "#d93806"
          ],
          [
           0.9285714285714286,
           "#b11901"
          ],
          [
           1.0,
           "#7a0402"
          ]
         ],
         "contours": {
          "y": {
           "color": "black",
           "highlightcolor": "black",
           "show": true,
           "size": 0.05
          },
          "z": {
           "color": "black",
           "highlightcolor": "black",
           "show": true,
           "size": 0.05
          }
         },
         "showscale": false,
         "type": "surface",
         "x": [
          "98.29",
          "117.948",
          "137.606",
          "147.435",
          "157.264",
          "167.093",
          "176.922",
          "186.751",
          "191.6655",
          "196.58",
          "201.4945",
          "206.409",
          "216.238",
          "226.067",
          "235.896",
          "245.725",
          "255.554",
          "275.212",
          "294.87"
         ],
         "y": [
          "2025-06-27",
          "2025-07-03",
          "2025-07-18",
          "2025-08-15",
          "2025-09-19",
          "2025-10-17"
         ],
         "z": {
          "bdata": "KVyPwvV4W0BmZmZmZqZXQJqZmZmZ2VNApHA9CtfjUUDNzMzMzKxPQIXrUbgeRUtA9ihcj8JVRkDD9Shcj2JAQIXrUbgeRTlA9ihcj8J1MEBSuB6F65EyQOxRuB6F6zdA9ihcj8IVQEAAAAAAAEBDQD0K16Nw3UVAexSuR+EaSEAUrkfhehRKQBSuR+F6dE1ApHA9CtcjUEDsUbgehVtVQMP1KFyPYlJAXI/C9SjcTkBxPQrXo9BLQOF6FK5HoUhAFK5H4Xo0RUAfhetRuF5BQMP1KFyPgjlAuB6F61G4M0D2KFyPwvUqQHsUrkfhujBA9ihcj8J1NUD2KFyPwrU8QKRwPQrXI0FAcT0K16NwQ0AK16NwPWpFQEjhehSuJ0dA4XoUrkchSkAAAAAAAKBMQGZmZmZmJlVAAAAAAABAUkDhehSuR8FOQK5H4XoUzktAmpmZmZm5SEBxPQrXo3BFQOxRuB6Fy0FAuB6F61H4OkD2KFyPwrU1QHsUrkfh+i5AAAAAAACALUDNzMzMzEwyQOF6FK5HIThA7FG4HoWrPEC4HoXrUThAQLgehetR2EFAZmZmZmZGQ0CamZmZmblFQClcj8L1yEdA7FG4HoVrT0BSuB6F61FLQArXo3A9SkdAH4XrUbg+RUDD9ShcjyJDQClcj8L16EBAhetRuB4FPUBcj8L1KJw3QEjhehSuhzRAj8L1KFwPMUBmZmZmZmYrQArXo3A9Ci5APQrXo3B9M0BSuB6F6xE3QM3MzMzMDDpA4XoUrkehPEBmZmZmZuY+QIXrUbgeZUFASOF6FK4HQ0B7FK5H4ZpNQI/C9Shcr0lAuB6F61HYRUBI4XoUrudDQK5H4XoU7kFACtejcD3KP0AfhetRuJ47QNejcD0KlzdAH4XrUbjeNUAfhetRuJ40QD0K16Nw/TNAexSuR+H6M0AK16NwPQo1QClcj8L1qDZA16NwPQpXOED2KFyPwvU5QHsUrkfhejtA9ihcj8I1PkDNzMzMzExAQHsUrkfhOlFAH4XrUbhuUED2KFyPwnVPQHE9Ctej0E5AFK5H4Xo0TkAAAAAAAKBNQHE9CtejEE1AKVyPwvWITEBmZmZmZkZMQGZmZmZmBkxAZmZmZmbGS0ApXI/C9YhLQHE9CtejEEtAXI/C9SicSkDNzMzMzCxKQOF6FK5HwUlAexSuR+FaSUC4HoXrUZhIQGZmZmZm5kdA",
          "dtype": "f8",
          "shape": "6, 19"
         }
        }
       ],
       "layout": {
        "autosize": true,
        "dragmode": false,
        "height": 450,
        "scene": {
         "camera": {
          "center": {
           "x": 0.02,
           "y": -0.07,
           "z": -0.21
          },
          "eye": {
           "x": 0.96,
           "y": -1.53,
           "z": 0.39
          },
          "projection": {
           "type": "perspective"
          },
          "up": {
           "x": -0.18,
           "y": 0.27,
           "z": 0.95
          }
         },
         "xaxis": {
          "showgrid": true,
          "title": {
           "text": "STRIKE"
          }
         },
         "yaxis": {
          "showgrid": true,
          "title": {
           "text": "DATE"
          }
         },
         "zaxis": {
          "showgrid": true,
          "title": {
           "text": "Volatility"
          }
         }
        },
        "template": {
         "data": {
          "bar": [
           {
            "error_x": {
             "color": "#2a3f5f"
            },
            "error_y": {
             "color": "#2a3f5f"
            },
            "marker": {
             "line": {
              "color": "#E5ECF6",
              "width": 0.5
             },
             "pattern": {
              "fillmode": "overlay",
              "size": 10,
              "solidity": 0.2
             }
            },
            "type": "bar"
           }
          ],
          "barpolar": [
           {
            "marker": {
             "line": {
              "color": "#E5ECF6",
              "width": 0.5
             },
             "pattern": {
              "fillmode": "overlay",
              "size": 10,
              "solidity": 0.2
             }
            },
            "type": "barpolar"
           }
          ],
          "carpet": [
           {
            "aaxis": {
             "endlinecolor": "#2a3f5f",
             "gridcolor": "white",
             "linecolor": "white",
             "minorgridcolor": "white",
             "startlinecolor": "#2a3f5f"
            },
            "baxis": {
             "endlinecolor": "#2a3f5f",
             "gridcolor": "white",
             "linecolor": "white",
             "minorgridcolor": "white",
             "startlinecolor": "#2a3f5f"
            },
            "type": "carpet"
           }
          ],
          "choropleth": [
           {
            "colorbar": {
             "outlinewidth": 0,
             "ticks": ""
            },
            "type": "choropleth"
           }
          ],
          "contour": [
           {
            "colorbar": {
             "outlinewidth": 0,
             "ticks": ""
            },
            "colorscale": [
             [
              0.0,
              "#0d0887"
             ],
             [
              0.1111111111111111,
              "#46039f"
             ],
             [
              0.2222222222222222,
              "#7201a8"
             ],
             [
              0.3333333333333333,
              "#9c179e"
             ],
             [
              0.4444444444444444,
              "#bd3786"
             ],
             [
              0.5555555555555556,
              "#d8576b"
             ],
             [
              0.6666666666666666,
              "#ed7953"
             ],
             [
              0.7777777777777778,
              "#fb9f3a"
             ],
             [
              0.8888888888888888,
              "#fdca26"
             ],
             [
              1.0,
              "#f0f921"
             ]
            ],
            "type": "contour"
           }
          ],
          "contourcarpet": [
           {
            "colorbar": {
             "outlinewidth": 0,
             "ticks": ""
            },
            "type": "contourcarpet"
           }
          ],
          "heatmap": [
           {
            "colorbar": {
             "outlinewidth": 0,
             "ticks": ""
            },
            "colorscale": [
             [
              0.0,
              "#0d0887"
             ],
             [
              0.1111111111111111,
              "#46039f"
             ],
             [
              0.2222222222222222,
              "#7201a8"
             ],
             [
              0.3333333333333333,
              "#9c179e"
             ],
             [
              0.4444444444444444,
              "#bd3786"
             ],
             [
              0.5555555555555556,
              "#d8576b"
             ],
             [
              0.6666666666666666,
              "#ed7953"
             ],
             [
              0.7777777777777778,
              "#fb9f3a"
             ],
             [
              0.8888888888888888,
              "#fdca26"
             ],
             [
              1.0,
              "#f0f921"
             ]
            ],
            "type": "heatmap"
           }
          ],
          "histogram": [
           {
            "marker": {
             "pattern": {
              "fillmode": "overlay",
              "size": 10,
              "solidity": 0.2
             }
            },
            "type": "histogram"
           }
          ],
          "histogram2d": [
           {
            "colorbar": {
             "outlinewidth": 0,
             "ticks": ""
            },
            "colorscale": [
             [
              0.0,
              "#0d0887"
             ],
             [
              0.1111111111111111,
              "#46039f"
             ],
             [
              0.2222222222222222,
              "#7201a8"
             ],
             [
              0.3333333333333333,
              "#9c179e"
             ],
             [
              0.4444444444444444,
              "#bd3786"
             ],
             [
              0.5555555555555556,
              "#d8576b"
             ],
             [
              0.6666666666666666,
              "#ed7953"
             ],
             [
              0.7777777777777778,
              "#fb9f3a"
             ],
             [
              0.8888888888888888,
              "#fdca26"
             ],
             [
              1.0,
              "#f0f921"
             ]
            ],
            "type": "histogram2d"
           }
          ],
          "histogram2dcontour": [
           {
            "colorbar": {
             "outlinewidth": 0,
             "ticks": ""
            },
            "colorscale": [
             [
              0.0,
              "#0d0887"
             ],
             [
              0.1111111111111111,
              "#46039f"
             ],
             [
              0.2222222222222222,
              "#7201a8"
             ],
             [
              0.3333333333333333,
              "#9c179e"
             ],
             [
              0.4444444444444444,
              "#bd3786"
             ],
             [
              0.5555555555555556,
              "#d8576b"
             ],
             [
              0.6666666666666666,
              "#ed7953"
             ],
             [
              0.7777777777777778,
              "#fb9f3a"
             ],
             [
              0.8888888888888888,
              "#fdca26"
             ],
             [
              1.0,
              "#f0f921"
             ]
            ],
            "type": "histogram2dcontour"
           }
          ],
          "mesh3d": [
           {
            "colorbar": {
             "outlinewidth": 0,
             "ticks": ""
            },
            "type": "mesh3d"
           }
          ],
          "parcoords": [
           {
            "line": {
             "colorbar": {
              "outlinewidth": 0,
              "ticks": ""
             }
            },
            "type": "parcoords"
           }
          ],
          "pie": [
           {
            "automargin": true,
            "type": "pie"
           }
          ],
          "scatter": [
           {
            "fillpattern": {
             "fillmode": "overlay",
             "size": 10,
             "solidity": 0.2
            },
            "type": "scatter"
           }
          ],
          "scatter3d": [
           {
            "line": {
             "colorbar": {
              "outlinewidth": 0,
              "ticks": ""
             }
            },
            "marker": {
             "colorbar": {
              "outlinewidth": 0,
              "ticks": ""
             }
            },
            "type": "scatter3d"
           }
          ],
          "scattercarpet": [
           {
            "marker": {
             "colorbar": {
              "outlinewidth": 0,
              "ticks": ""
             }
            },
            "type": "scattercarpet"
           }
          ],
          "scattergeo": [
           {
            "marker": {
             "colorbar": {
              "outlinewidth": 0,
              "ticks": ""
             }
            },
            "type": "scattergeo"
           }
          ],
          "scattergl": [
           {
            "marker": {
             "colorbar": {
              "outlinewidth": 0,
              "ticks": ""
             }
            },
            "type": "scattergl"
           }
          ],
          "scattermap": [
           {
            "marker": {
             "colorbar": {
              "outlinewidth": 0,
              "ticks": ""
             }
            },
            "type": "scattermap"
           }
          ],
          "scattermapbox": [
           {
            "marker": {
             "colorbar": {
              "outlinewidth": 0,
              "ticks": ""
             }
            },
            "type": "scattermapbox"
           }
          ],
          "scatterpolar": [
           {
            "marker": {
             "colorbar": {
              "outlinewidth": 0,
              "ticks": ""
             }
            },
            "type": "scatterpolar"
           }
          ],
          "scatterpolargl": [
           {
            "marker": {
             "colorbar": {
              "outlinewidth": 0,
              "ticks": ""
             }
            },
            "type": "scatterpolargl"
           }
          ],
          "scatterternary": [
           {
            "marker": {
             "colorbar": {
              "outlinewidth": 0,
              "ticks": ""
             }
            },
            "type": "scatterternary"
           }
          ],
          "surface": [
           {
            "colorbar": {
             "outlinewidth": 0,
             "ticks": ""
            },
            "colorscale": [
             [
              0.0,
              "#0d0887"
             ],
             [
              0.1111111111111111,
              "#46039f"
             ],
             [
              0.2222222222222222,
              "#7201a8"
             ],
             [
              0.3333333333333333,
              "#9c179e"
             ],
             [
              0.4444444444444444,
              "#bd3786"
             ],
             [
              0.5555555555555556,
              "#d8576b"
             ],
             [
              0.6666666666666666,
              "#ed7953"
             ],
             [
              0.7777777777777778,
              "#fb9f3a"
             ],
             [
              0.8888888888888888,
              "#fdca26"
             ],
             [
              1.0,
              "#f0f921"
             ]
            ],
            "type": "surface"
           }
          ],
          "table": [
           {
            "cells": {
             "fill": {
              "color": "#EBF0F8"
             },
             "line": {
              "color": "white"
             }
            },
            "header": {
             "fill": {
              "color": "#C8D4E3"
             },
             "line": {
              "color": "white"
             }
            },
            "type": "table"
           }
          ]
         },
         "layout": {
          "annotationdefaults": {
           "arrowcolor": "#2a3f5f",
           "arrowhead": 0,
           "arrowwidth": 1
          },
          "autotypenumbers": "strict",
          "coloraxis": {
           "colorbar": {
            "outlinewidth": 0,
            "ticks": ""
           }
          },
          "colorscale": {
           "diverging": [
            [
             0,
             "#8e0152"
            ],
            [
             0.1,
             "#c51b7d"
            ],
            [
             0.2,
             "#de77ae"
            ],
            [
             0.3,
             "#f1b6da"
            ],
            [
             0.4,
             "#fde0ef"
            ],
            [
             0.5,
             "#f7f7f7"
            ],
            [
             0.6,
             "#e6f5d0"
            ],
            [
             0.7,
             "#b8e186"
            ],
            [
             0.8,
             "#7fbc41"
            ],
            [
             0.9,
             "#4d9221"
            ],
            [
             1,
             "#276419"
            ]
           ],
           "sequential": [
            [
             0.0,
             "#0d0887"
            ],
            [
             0.1111111111111111,
             "#46039f"
            ],
            [
             0.2222222222222222,
             "#7201a8"
            ],
            [
             0.3333333333333333,
             "#9c179e"
            ],
            [
             0.4444444444444444,
             "#bd3786"
            ],
            [
             0.5555555555555556,
             "#d8576b"
            ],
            [
             0.6666666666666666,
             "#ed7953"
            ],
            [
             0.7777777777777778,
             "#fb9f3a"
            ],
            [
             0.8888888888888888,
             "#fdca26"
            ],
            [
             1.0,
             "#f0f921"
            ]
           ],
           "sequentialminus": [
            [
             0.0,
             "#0d0887"
            ],
            [
             0.1111111111111111,
             "#46039f"
            ],
            [
             0.2222222222222222,
             "#7201a8"
            ],
            [
             0.3333333333333333,
             "#9c179e"
            ],
            [
             0.4444444444444444,
             "#bd3786"
            ],
            [
             0.5555555555555556,
             "#d8576b"
            ],
            [
             0.6666666666666666,
             "#ed7953"
            ],
            [
             0.7777777777777778,
             "#fb9f3a"
            ],
            [
             0.8888888888888888,
             "#fdca26"
            ],
            [
             1.0,
             "#f0f921"
            ]
           ]
          },
          "colorway": [
           "#636efa",
           "#EF553B",
           "#00cc96",
           "#ab63fa",
           "#FFA15A",
           "#19d3f3",
           "#FF6692",
           "#B6E880",
           "#FF97FF",
           "#FECB52"
          ],
          "font": {
           "color": "#2a3f5f"
          },
          "geo": {
           "bgcolor": "white",
           "lakecolor": "white",
           "landcolor": "#E5ECF6",
           "showlakes": true,
           "showland": true,
           "subunitcolor": "white"
          },
          "hoverlabel": {
           "align": "left"
          },
          "hovermode": "closest",
          "mapbox": {
           "style": "light"
          },
          "paper_bgcolor": "white",
          "plot_bgcolor": "#E5ECF6",
          "polar": {
           "angularaxis": {
            "gridcolor": "white",
            "linecolor": "white",
            "ticks": ""
           },
           "bgcolor": "#E5ECF6",
           "radialaxis": {
            "gridcolor": "white",
            "linecolor": "white",
            "ticks": ""
           }
          },
          "scene": {
           "xaxis": {
            "backgroundcolor": "#E5ECF6",
            "gridcolor": "white",
            "gridwidth": 2,
            "linecolor": "white",
            "showbackground": true,
            "ticks": "",
            "zerolinecolor": "white"
           },
           "yaxis": {
            "backgroundcolor": "#E5ECF6",
            "gridcolor": "white",
            "gridwidth": 2,
            "linecolor": "white",
            "showbackground": true,
            "ticks": "",
            "zerolinecolor": "white"
           },
           "zaxis": {
            "backgroundcolor": "#E5ECF6",
            "gridcolor": "white",
            "gridwidth": 2,
            "linecolor": "white",
            "showbackground": true,
            "ticks": "",
            "zerolinecolor": "white"
           }
          },
          "shapedefaults": {
           "line": {
            "color": "#2a3f5f"
           }
          },
          "ternary": {
           "aaxis": {
            "gridcolor": "white",
            "linecolor": "white",
            "ticks": ""
           },
           "baxis": {
            "gridcolor": "white",
            "linecolor": "white",
            "ticks": ""
           },
           "bgcolor": "#E5ECF6",
           "caxis": {
            "gridcolor": "white",
            "linecolor": "white",
            "ticks": ""
           }
          },
          "title": {
           "x": 0.05
          },
          "xaxis": {
           "automargin": true,
           "gridcolor": "white",
           "linecolor": "white",
           "ticks": "",
           "title": {
            "standoff": 15
           },
           "zerolinecolor": "white",
           "zerolinewidth": 2
          },
          "yaxis": {
           "automargin": true,
           "gridcolor": "white",
           "linecolor": "white",
           "ticks": "",
           "title": {
            "standoff": 15
           },
           "zerolinecolor": "white",
           "zerolinewidth": 2
          }
         }
        },
        "title": {
         "font": {
          "size": 16
         },
         "text": "3D Surface Plot of Volatility Surface",
         "x": 0.5,
         "xanchor": "center",
         "y": 0.95,
         "yanchor": "top"
        },
        "width": 800
       }
      }
     },
     "metadata": {},
     "output_type": "display_data"
    }
   ],
   "source": [
    "# Create interactive 3D surface plot using the same DataFrame\n",
    "# The plot allows rotation, zoom, and hover to explore volatility patterns\n",
    "plot_volatility_surface_plot(surface_df, x_axis, y_axis)"
   ]
  },
  {
   "cell_type": "markdown",
   "id": "79bec5d7",
   "metadata": {},
   "source": [
    "### Volatility Smiles by Expiry\n",
    "\n",
    "Traditional volatility smile charts show how implied volatility varies across strike prices for different expiration dates. This view is essential for understanding skew and term structure patterns."
   ]
  },
  {
   "cell_type": "code",
   "execution_count": 11,
   "id": "c92a01e7",
   "metadata": {
    "execution": {
     "iopub.execute_input": "2025-09-18T09:06:56.230103Z",
     "iopub.status.busy": "2025-09-18T09:06:56.229770Z",
     "iopub.status.idle": "2025-09-18T09:06:56.316843Z",
     "shell.execute_reply": "2025-09-18T09:06:56.316137Z"
    }
   },
   "outputs": [
    {
     "data": {
      "application/vnd.plotly.v1+json": {
       "config": {
        "plotlyServerURL": "https://plot.ly"
       },
       "data": [
        {
         "mode": "lines+markers",
         "name": "2025-06-27",
         "type": "scatter",
         "x": {
          "bdata": "w/UoXI+SWEDpJjEIrHxdQAisHFpkM2FAUrgehettYkCcxCCwcqhjQOXQItv54mRAL90kBoEdZkB56SYxCFhnQJ7vp8ZL9WdAw/UoXI+SaEDn+6nx0i9pQAwCK4cWzWlAVg4tsp0Ha0CgGi/dJEJsQOkmMQisfG1AMzMzMzO3bkB9PzVeuvFvQAisHFpkM3FAUrgehettckA=",
          "dtype": "f8"
         },
         "y": {
          "bdata": "KVyPwvV4W0BmZmZmZqZXQJqZmZmZ2VNApHA9CtfjUUDNzMzMzKxPQIXrUbgeRUtA9ihcj8JVRkDD9Shcj2JAQIXrUbgeRTlA9ihcj8J1MEBSuB6F65EyQOxRuB6F6zdA9ihcj8IVQEAAAAAAAEBDQD0K16Nw3UVAexSuR+EaSEAUrkfhehRKQBSuR+F6dE1ApHA9CtcjUEA=",
          "dtype": "f8"
         }
        },
        {
         "mode": "lines+markers",
         "name": "2025-07-03",
         "type": "scatter",
         "x": {
          "bdata": "w/UoXI+SWEDpJjEIrHxdQAisHFpkM2FAUrgehettYkCcxCCwcqhjQOXQItv54mRAL90kBoEdZkB56SYxCFhnQJ7vp8ZL9WdAw/UoXI+SaEDn+6nx0i9pQAwCK4cWzWlAVg4tsp0Ha0CgGi/dJEJsQOkmMQisfG1AMzMzMzO3bkB9PzVeuvFvQAisHFpkM3FAUrgehettckA=",
          "dtype": "f8"
         },
         "y": {
          "bdata": "7FG4HoVbVUDD9Shcj2JSQFyPwvUo3E5AcT0K16PQS0DhehSuR6FIQBSuR+F6NEVAH4XrUbheQUDD9Shcj4I5QLgehetRuDNA9ihcj8L1KkB7FK5H4bowQPYoXI/CdTVA9ihcj8K1PECkcD0K1yNBQHE9CtejcENACtejcD1qRUBI4XoUridHQOF6FK5HIUpAAAAAAACgTEA=",
          "dtype": "f8"
         }
        },
        {
         "mode": "lines+markers",
         "name": "2025-07-18",
         "type": "scatter",
         "x": {
          "bdata": "w/UoXI+SWEDpJjEIrHxdQAisHFpkM2FAUrgehettYkCcxCCwcqhjQOXQItv54mRAL90kBoEdZkB56SYxCFhnQJ7vp8ZL9WdAw/UoXI+SaEDn+6nx0i9pQAwCK4cWzWlAVg4tsp0Ha0CgGi/dJEJsQOkmMQisfG1AMzMzMzO3bkB9PzVeuvFvQAisHFpkM3FAUrgehettckA=",
          "dtype": "f8"
         },
         "y": {
          "bdata": "ZmZmZmYmVUAAAAAAAEBSQOF6FK5HwU5ArkfhehTOS0CamZmZmblIQHE9CtejcEVA7FG4HoXLQUC4HoXrUfg6QPYoXI/CtTVAexSuR+H6LkAAAAAAAIAtQM3MzMzMTDJA4XoUrkchOEDsUbgehas8QLgehetROEBAuB6F61HYQUBmZmZmZkZDQJqZmZmZuUVAKVyPwvXIR0A=",
          "dtype": "f8"
         }
        },
        {
         "mode": "lines+markers",
         "name": "2025-08-15",
         "type": "scatter",
         "x": {
          "bdata": "w/UoXI+SWEDpJjEIrHxdQAisHFpkM2FAUrgehettYkCcxCCwcqhjQOXQItv54mRAL90kBoEdZkB56SYxCFhnQJ7vp8ZL9WdAw/UoXI+SaEDn+6nx0i9pQAwCK4cWzWlAVg4tsp0Ha0CgGi/dJEJsQOkmMQisfG1AMzMzMzO3bkB9PzVeuvFvQAisHFpkM3FAUrgehettckA=",
          "dtype": "f8"
         },
         "y": {
          "bdata": "7FG4HoVrT0BSuB6F61FLQArXo3A9SkdAH4XrUbg+RUDD9ShcjyJDQClcj8L16EBAhetRuB4FPUBcj8L1KJw3QEjhehSuhzRAj8L1KFwPMUBmZmZmZmYrQArXo3A9Ci5APQrXo3B9M0BSuB6F6xE3QM3MzMzMDDpA4XoUrkehPEBmZmZmZuY+QIXrUbgeZUFASOF6FK4HQ0A=",
          "dtype": "f8"
         }
        },
        {
         "mode": "lines+markers",
         "name": "2025-09-19",
         "type": "scatter",
         "x": {
          "bdata": "w/UoXI+SWEDpJjEIrHxdQAisHFpkM2FAUrgehettYkCcxCCwcqhjQOXQItv54mRAL90kBoEdZkB56SYxCFhnQJ7vp8ZL9WdAw/UoXI+SaEDn+6nx0i9pQAwCK4cWzWlAVg4tsp0Ha0CgGi/dJEJsQOkmMQisfG1AMzMzMzO3bkB9PzVeuvFvQAisHFpkM3FAUrgehettckA=",
          "dtype": "f8"
         },
         "y": {
          "bdata": "exSuR+GaTUCPwvUoXK9JQLgehetR2EVASOF6FK7nQ0CuR+F6FO5BQArXo3A9yj9AH4XrUbieO0DXo3A9Cpc3QB+F61G43jVAH4XrUbieNEA9CtejcP0zQHsUrkfh+jNACtejcD0KNUApXI/C9ag2QNejcD0KVzhA9ihcj8L1OUB7FK5H4Xo7QPYoXI/CNT5AzczMzMxMQEA=",
          "dtype": "f8"
         }
        },
        {
         "mode": "lines+markers",
         "name": "2025-10-17",
         "type": "scatter",
         "x": {
          "bdata": "w/UoXI+SWEDpJjEIrHxdQAisHFpkM2FAUrgehettYkCcxCCwcqhjQOXQItv54mRAL90kBoEdZkB56SYxCFhnQJ7vp8ZL9WdAw/UoXI+SaEDn+6nx0i9pQAwCK4cWzWlAVg4tsp0Ha0CgGi/dJEJsQOkmMQisfG1AMzMzMzO3bkB9PzVeuvFvQAisHFpkM3FAUrgehettckA=",
          "dtype": "f8"
         },
         "y": {
          "bdata": "exSuR+E6UUAfhetRuG5QQPYoXI/CdU9AcT0K16PQTkAUrkfhejROQAAAAAAAoE1AcT0K16MQTUApXI/C9YhMQGZmZmZmRkxAZmZmZmYGTEBmZmZmZsZLQClcj8L1iEtAcT0K16MQS0Bcj8L1KJxKQM3MzMzMLEpA4XoUrkfBSUB7FK5H4VpJQLgehetRmEhAZmZmZmbmR0A=",
          "dtype": "f8"
         }
        }
       ],
       "layout": {
        "autosize": true,
        "dragmode": false,
        "height": 450,
        "legend": {
         "title": {
          "text": "DATE"
         }
        },
        "template": {
         "data": {
          "bar": [
           {
            "error_x": {
             "color": "#2a3f5f"
            },
            "error_y": {
             "color": "#2a3f5f"
            },
            "marker": {
             "line": {
              "color": "white",
              "width": 0.5
             },
             "pattern": {
              "fillmode": "overlay",
              "size": 10,
              "solidity": 0.2
             }
            },
            "type": "bar"
           }
          ],
          "barpolar": [
           {
            "marker": {
             "line": {
              "color": "white",
              "width": 0.5
             },
             "pattern": {
              "fillmode": "overlay",
              "size": 10,
              "solidity": 0.2
             }
            },
            "type": "barpolar"
           }
          ],
          "carpet": [
           {
            "aaxis": {
             "endlinecolor": "#2a3f5f",
             "gridcolor": "#C8D4E3",
             "linecolor": "#C8D4E3",
             "minorgridcolor": "#C8D4E3",
             "startlinecolor": "#2a3f5f"
            },
            "baxis": {
             "endlinecolor": "#2a3f5f",
             "gridcolor": "#C8D4E3",
             "linecolor": "#C8D4E3",
             "minorgridcolor": "#C8D4E3",
             "startlinecolor": "#2a3f5f"
            },
            "type": "carpet"
           }
          ],
          "choropleth": [
           {
            "colorbar": {
             "outlinewidth": 0,
             "ticks": ""
            },
            "type": "choropleth"
           }
          ],
          "contour": [
           {
            "colorbar": {
             "outlinewidth": 0,
             "ticks": ""
            },
            "colorscale": [
             [
              0.0,
              "#0d0887"
             ],
             [
              0.1111111111111111,
              "#46039f"
             ],
             [
              0.2222222222222222,
              "#7201a8"
             ],
             [
              0.3333333333333333,
              "#9c179e"
             ],
             [
              0.4444444444444444,
              "#bd3786"
             ],
             [
              0.5555555555555556,
              "#d8576b"
             ],
             [
              0.6666666666666666,
              "#ed7953"
             ],
             [
              0.7777777777777778,
              "#fb9f3a"
             ],
             [
              0.8888888888888888,
              "#fdca26"
             ],
             [
              1.0,
              "#f0f921"
             ]
            ],
            "type": "contour"
           }
          ],
          "contourcarpet": [
           {
            "colorbar": {
             "outlinewidth": 0,
             "ticks": ""
            },
            "type": "contourcarpet"
           }
          ],
          "heatmap": [
           {
            "colorbar": {
             "outlinewidth": 0,
             "ticks": ""
            },
            "colorscale": [
             [
              0.0,
              "#0d0887"
             ],
             [
              0.1111111111111111,
              "#46039f"
             ],
             [
              0.2222222222222222,
              "#7201a8"
             ],
             [
              0.3333333333333333,
              "#9c179e"
             ],
             [
              0.4444444444444444,
              "#bd3786"
             ],
             [
              0.5555555555555556,
              "#d8576b"
             ],
             [
              0.6666666666666666,
              "#ed7953"
             ],
             [
              0.7777777777777778,
              "#fb9f3a"
             ],
             [
              0.8888888888888888,
              "#fdca26"
             ],
             [
              1.0,
              "#f0f921"
             ]
            ],
            "type": "heatmap"
           }
          ],
          "histogram": [
           {
            "marker": {
             "pattern": {
              "fillmode": "overlay",
              "size": 10,
              "solidity": 0.2
             }
            },
            "type": "histogram"
           }
          ],
          "histogram2d": [
           {
            "colorbar": {
             "outlinewidth": 0,
             "ticks": ""
            },
            "colorscale": [
             [
              0.0,
              "#0d0887"
             ],
             [
              0.1111111111111111,
              "#46039f"
             ],
             [
              0.2222222222222222,
              "#7201a8"
             ],
             [
              0.3333333333333333,
              "#9c179e"
             ],
             [
              0.4444444444444444,
              "#bd3786"
             ],
             [
              0.5555555555555556,
              "#d8576b"
             ],
             [
              0.6666666666666666,
              "#ed7953"
             ],
             [
              0.7777777777777778,
              "#fb9f3a"
             ],
             [
              0.8888888888888888,
              "#fdca26"
             ],
             [
              1.0,
              "#f0f921"
             ]
            ],
            "type": "histogram2d"
           }
          ],
          "histogram2dcontour": [
           {
            "colorbar": {
             "outlinewidth": 0,
             "ticks": ""
            },
            "colorscale": [
             [
              0.0,
              "#0d0887"
             ],
             [
              0.1111111111111111,
              "#46039f"
             ],
             [
              0.2222222222222222,
              "#7201a8"
             ],
             [
              0.3333333333333333,
              "#9c179e"
             ],
             [
              0.4444444444444444,
              "#bd3786"
             ],
             [
              0.5555555555555556,
              "#d8576b"
             ],
             [
              0.6666666666666666,
              "#ed7953"
             ],
             [
              0.7777777777777778,
              "#fb9f3a"
             ],
             [
              0.8888888888888888,
              "#fdca26"
             ],
             [
              1.0,
              "#f0f921"
             ]
            ],
            "type": "histogram2dcontour"
           }
          ],
          "mesh3d": [
           {
            "colorbar": {
             "outlinewidth": 0,
             "ticks": ""
            },
            "type": "mesh3d"
           }
          ],
          "parcoords": [
           {
            "line": {
             "colorbar": {
              "outlinewidth": 0,
              "ticks": ""
             }
            },
            "type": "parcoords"
           }
          ],
          "pie": [
           {
            "automargin": true,
            "type": "pie"
           }
          ],
          "scatter": [
           {
            "fillpattern": {
             "fillmode": "overlay",
             "size": 10,
             "solidity": 0.2
            },
            "type": "scatter"
           }
          ],
          "scatter3d": [
           {
            "line": {
             "colorbar": {
              "outlinewidth": 0,
              "ticks": ""
             }
            },
            "marker": {
             "colorbar": {
              "outlinewidth": 0,
              "ticks": ""
             }
            },
            "type": "scatter3d"
           }
          ],
          "scattercarpet": [
           {
            "marker": {
             "colorbar": {
              "outlinewidth": 0,
              "ticks": ""
             }
            },
            "type": "scattercarpet"
           }
          ],
          "scattergeo": [
           {
            "marker": {
             "colorbar": {
              "outlinewidth": 0,
              "ticks": ""
             }
            },
            "type": "scattergeo"
           }
          ],
          "scattergl": [
           {
            "marker": {
             "colorbar": {
              "outlinewidth": 0,
              "ticks": ""
             }
            },
            "type": "scattergl"
           }
          ],
          "scattermap": [
           {
            "marker": {
             "colorbar": {
              "outlinewidth": 0,
              "ticks": ""
             }
            },
            "type": "scattermap"
           }
          ],
          "scattermapbox": [
           {
            "marker": {
             "colorbar": {
              "outlinewidth": 0,
              "ticks": ""
             }
            },
            "type": "scattermapbox"
           }
          ],
          "scatterpolar": [
           {
            "marker": {
             "colorbar": {
              "outlinewidth": 0,
              "ticks": ""
             }
            },
            "type": "scatterpolar"
           }
          ],
          "scatterpolargl": [
           {
            "marker": {
             "colorbar": {
              "outlinewidth": 0,
              "ticks": ""
             }
            },
            "type": "scatterpolargl"
           }
          ],
          "scatterternary": [
           {
            "marker": {
             "colorbar": {
              "outlinewidth": 0,
              "ticks": ""
             }
            },
            "type": "scatterternary"
           }
          ],
          "surface": [
           {
            "colorbar": {
             "outlinewidth": 0,
             "ticks": ""
            },
            "colorscale": [
             [
              0.0,
              "#0d0887"
             ],
             [
              0.1111111111111111,
              "#46039f"
             ],
             [
              0.2222222222222222,
              "#7201a8"
             ],
             [
              0.3333333333333333,
              "#9c179e"
             ],
             [
              0.4444444444444444,
              "#bd3786"
             ],
             [
              0.5555555555555556,
              "#d8576b"
             ],
             [
              0.6666666666666666,
              "#ed7953"
             ],
             [
              0.7777777777777778,
              "#fb9f3a"
             ],
             [
              0.8888888888888888,
              "#fdca26"
             ],
             [
              1.0,
              "#f0f921"
             ]
            ],
            "type": "surface"
           }
          ],
          "table": [
           {
            "cells": {
             "fill": {
              "color": "#EBF0F8"
             },
             "line": {
              "color": "white"
             }
            },
            "header": {
             "fill": {
              "color": "#C8D4E3"
             },
             "line": {
              "color": "white"
             }
            },
            "type": "table"
           }
          ]
         },
         "layout": {
          "annotationdefaults": {
           "arrowcolor": "#2a3f5f",
           "arrowhead": 0,
           "arrowwidth": 1
          },
          "autotypenumbers": "strict",
          "coloraxis": {
           "colorbar": {
            "outlinewidth": 0,
            "ticks": ""
           }
          },
          "colorscale": {
           "diverging": [
            [
             0,
             "#8e0152"
            ],
            [
             0.1,
             "#c51b7d"
            ],
            [
             0.2,
             "#de77ae"
            ],
            [
             0.3,
             "#f1b6da"
            ],
            [
             0.4,
             "#fde0ef"
            ],
            [
             0.5,
             "#f7f7f7"
            ],
            [
             0.6,
             "#e6f5d0"
            ],
            [
             0.7,
             "#b8e186"
            ],
            [
             0.8,
             "#7fbc41"
            ],
            [
             0.9,
             "#4d9221"
            ],
            [
             1,
             "#276419"
            ]
           ],
           "sequential": [
            [
             0.0,
             "#0d0887"
            ],
            [
             0.1111111111111111,
             "#46039f"
            ],
            [
             0.2222222222222222,
             "#7201a8"
            ],
            [
             0.3333333333333333,
             "#9c179e"
            ],
            [
             0.4444444444444444,
             "#bd3786"
            ],
            [
             0.5555555555555556,
             "#d8576b"
            ],
            [
             0.6666666666666666,
             "#ed7953"
            ],
            [
             0.7777777777777778,
             "#fb9f3a"
            ],
            [
             0.8888888888888888,
             "#fdca26"
            ],
            [
             1.0,
             "#f0f921"
            ]
           ],
           "sequentialminus": [
            [
             0.0,
             "#0d0887"
            ],
            [
             0.1111111111111111,
             "#46039f"
            ],
            [
             0.2222222222222222,
             "#7201a8"
            ],
            [
             0.3333333333333333,
             "#9c179e"
            ],
            [
             0.4444444444444444,
             "#bd3786"
            ],
            [
             0.5555555555555556,
             "#d8576b"
            ],
            [
             0.6666666666666666,
             "#ed7953"
            ],
            [
             0.7777777777777778,
             "#fb9f3a"
            ],
            [
             0.8888888888888888,
             "#fdca26"
            ],
            [
             1.0,
             "#f0f921"
            ]
           ]
          },
          "colorway": [
           "#636efa",
           "#EF553B",
           "#00cc96",
           "#ab63fa",
           "#FFA15A",
           "#19d3f3",
           "#FF6692",
           "#B6E880",
           "#FF97FF",
           "#FECB52"
          ],
          "font": {
           "color": "#2a3f5f"
          },
          "geo": {
           "bgcolor": "white",
           "lakecolor": "white",
           "landcolor": "white",
           "showlakes": true,
           "showland": true,
           "subunitcolor": "#C8D4E3"
          },
          "hoverlabel": {
           "align": "left"
          },
          "hovermode": "closest",
          "mapbox": {
           "style": "light"
          },
          "paper_bgcolor": "white",
          "plot_bgcolor": "white",
          "polar": {
           "angularaxis": {
            "gridcolor": "#EBF0F8",
            "linecolor": "#EBF0F8",
            "ticks": ""
           },
           "bgcolor": "white",
           "radialaxis": {
            "gridcolor": "#EBF0F8",
            "linecolor": "#EBF0F8",
            "ticks": ""
           }
          },
          "scene": {
           "xaxis": {
            "backgroundcolor": "white",
            "gridcolor": "#DFE8F3",
            "gridwidth": 2,
            "linecolor": "#EBF0F8",
            "showbackground": true,
            "ticks": "",
            "zerolinecolor": "#EBF0F8"
           },
           "yaxis": {
            "backgroundcolor": "white",
            "gridcolor": "#DFE8F3",
            "gridwidth": 2,
            "linecolor": "#EBF0F8",
            "showbackground": true,
            "ticks": "",
            "zerolinecolor": "#EBF0F8"
           },
           "zaxis": {
            "backgroundcolor": "white",
            "gridcolor": "#DFE8F3",
            "gridwidth": 2,
            "linecolor": "#EBF0F8",
            "showbackground": true,
            "ticks": "",
            "zerolinecolor": "#EBF0F8"
           }
          },
          "shapedefaults": {
           "line": {
            "color": "#2a3f5f"
           }
          },
          "ternary": {
           "aaxis": {
            "gridcolor": "#DFE8F3",
            "linecolor": "#A2B1C6",
            "ticks": ""
           },
           "baxis": {
            "gridcolor": "#DFE8F3",
            "linecolor": "#A2B1C6",
            "ticks": ""
           },
           "bgcolor": "white",
           "caxis": {
            "gridcolor": "#DFE8F3",
            "linecolor": "#A2B1C6",
            "ticks": ""
           }
          },
          "title": {
           "x": 0.05
          },
          "xaxis": {
           "automargin": true,
           "gridcolor": "#EBF0F8",
           "linecolor": "#EBF0F8",
           "ticks": "",
           "title": {
            "standoff": 15
           },
           "zerolinecolor": "#EBF0F8",
           "zerolinewidth": 2
          },
          "yaxis": {
           "automargin": true,
           "gridcolor": "#EBF0F8",
           "linecolor": "#EBF0F8",
           "ticks": "",
           "title": {
            "standoff": 15
           },
           "zerolinecolor": "#EBF0F8",
           "zerolinewidth": 2
          }
         }
        },
        "title": {
         "font": {
          "size": 16
         },
         "text": "Surface Smile by Expiry",
         "x": 0.5,
         "xanchor": "center",
         "y": 0.95,
         "yanchor": "top"
        },
        "width": 800,
        "xaxis": {
         "title": {
          "text": "STRIKE"
         }
        },
        "yaxis": {
         "title": {
          "text": "Volatility"
         }
        }
       }
      }
     },
     "metadata": {},
     "output_type": "display_data"
    }
   ],
   "source": [
    "# Plot individual volatility smiles for each expiration date\n",
    "# Each line represents one expiry, showing how volatility changes with strike\n",
    "# Useful for analyzing:\n",
    "# - Volatility skew (asymmetry around ATM)  \n",
    "# - Term structure (how smiles change over time)\n",
    "# - ATM volatility levels across expiries\n",
    "\n",
    "plot_surface_smile_by_expiry(surface_df, x_axis, y_axis)"
   ]
  },
  {
   "cell_type": "markdown",
   "id": "7da5a28b",
   "metadata": {},
   "source": [
    "## Save and Export"
   ]
  },
  {
   "cell_type": "markdown",
   "id": "d2e1e554",
   "metadata": {},
   "source": [
    "After generating volatility surface data and visualizations, you can export the results for further analysis, reporting, or integration with other systems:\n",
    "\n",
    "**Export Options:**\n",
    "- **Excel Format** - Save the structured DataFrame for spreadsheet analysis and sharing\n",
    "- **JSON Format** - Export the complete API response for integration with other applications"
   ]
  },
  {
   "cell_type": "code",
   "execution_count": 12,
   "id": "e85a8da3",
   "metadata": {
    "execution": {
     "iopub.execute_input": "2025-09-18T09:06:56.319140Z",
     "iopub.status.busy": "2025-09-18T09:06:56.318901Z",
     "iopub.status.idle": "2025-09-18T09:06:56.433079Z",
     "shell.execute_reply": "2025-09-18T09:06:56.432520Z"
    }
   },
   "outputs": [
    {
     "name": "stdout",
     "output_type": "stream",
     "text": [
      "Files saved: volatility_surface_20250918_090656.xlsx, response_20250918_090656.json\n"
     ]
    }
   ],
   "source": [
    "# Create filenames with timestamp\n",
    "timestamp = dt.datetime.now().strftime(\"%Y%m%d_%H%M%S\")\n",
    "excel_filename = f\"volatility_surface_{timestamp}.xlsx\"\n",
    "json_filename = f\"response_{timestamp}.json\"\n",
    "\n",
    "# Save DataFrame to Excel\n",
    "surface_df.to_excel(excel_filename, index=False)\n",
    "\n",
    "# Save response to JSON\n",
    "with open(json_filename, 'w') as f:\n",
    "    json.dump(dict(response), f, indent=2, default=str)\n",
    "\n",
    "print(f\"Files saved: {excel_filename}, {json_filename}\")"
   ]
  }
 ],
 "metadata": {
  "kernelspec": {
   "display_name": "jupyterlab-ext",
   "language": "python",
   "name": "python3"
  },
  "language_info": {
   "codemirror_mode": {
    "name": "ipython",
    "version": 3
   },
   "file_extension": ".py",
   "mimetype": "text/x-python",
   "name": "python",
   "nbconvert_exporter": "python",
   "pygments_lexer": "ipython3",
   "version": "3.11.6"
  }
 },
 "nbformat": 4,
 "nbformat_minor": 5
}
