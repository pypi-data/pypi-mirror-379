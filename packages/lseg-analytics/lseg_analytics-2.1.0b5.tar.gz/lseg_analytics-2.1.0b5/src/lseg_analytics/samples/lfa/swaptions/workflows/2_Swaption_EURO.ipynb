{
 "cells": [
  {
   "cell_type": "markdown",
   "id": "1a108871",
   "metadata": {},
   "source": [
    "# Swaption European swaption pricing and sensitivities "
   ]
  },
  {
   "cell_type": "markdown",
   "id": "3a4cef20",
   "metadata": {},
   "source": [
    "This notebook demonstrates how to access and use the **Swaption** functionalities within the **LSEG Financial Analytics SDK**. \n",
    "\n",
    "Swaption instruments are interest rate derivatives that provide protection against adverse interest rate movements. The following swaption types are supported:\n",
    "- Payer Swaption: Right to enter a swap as the fixed-rate payer (protection against rising rates)\n",
    "- Receiver Swaption: Right to enter a swap as the fixed-rate receiver (protection against falling rates)\n",
    "\n",
    "With following exercise styles:\n",
    "- European Style: Exercisable at expiration date\n",
    "- American Style: Exercisable at any date before expiration\n",
    "- Bermudan Style: Exercisable on multiple specified dates\n",
    "\n",
    "**You will be able to:**\n",
    "- Define European Swaption instruments with advanced parameters\n",
    "- Retrieve and evaluate sensitives, implied volatility and valuation characteristics"
   ]
  },
  {
   "cell_type": "markdown",
   "id": "c545bed5",
   "metadata": {},
   "source": [
    "## Imports"
   ]
  },
  {
   "cell_type": "markdown",
   "id": "5a2157a4-64d5-4b2e-93dc-aaeae57e199a",
   "metadata": {},
   "source": [
    "Import the following necessary modules:\n",
    "\n",
    "- `lseg_analytics.instruments.swaption` - for Swaption instruments definitions and analytics"
   ]
  },
  {
   "cell_type": "code",
   "execution_count": 1,
   "id": "4d002713",
   "metadata": {
    "execution": {
     "iopub.execute_input": "2025-09-18T09:13:10.209894Z",
     "iopub.status.busy": "2025-09-18T09:13:10.209281Z",
     "iopub.status.idle": "2025-09-18T09:13:11.214978Z",
     "shell.execute_reply": "2025-09-18T09:13:11.214265Z"
    }
   },
   "outputs": [],
   "source": [
    "from lseg_analytics.instruments import swaption  as sw\n",
    "\n",
    "import pandas as pd\n",
    "import json\n",
    "import datetime as dt\n",
    "from IPython.display import display"
   ]
  },
  {
   "cell_type": "markdown",
   "id": "9b0cc193",
   "metadata": {},
   "source": [
    "## Data Preparation\n",
    "\n",
    "To define a Swaption instrument you need to follow a structured 3-step process:\n",
    "\n",
    "1. **Swaption Definition** - Specify basic swaption parameters (strike, expiry, underlying swap details)\n",
    "2. **Swaption Instrument Definition** - Create the instrument object for pricing\n",
    "3. **Pricing Preferences** - Configure pricing parameters and market data settings, optional\n",
    "\n",
    "We give in this notebook three European Swaption Examples:\n",
    "\n",
    " - **Example 1: 6M x 5Y USD Payer** - Corporate hedging strategy using physical settlement and SOFR underlying swap\n",
    "\n",
    " - **Example 2: 1Y x 10Y GBP Receiver** - Portfolio protection with cash settlement and SONIA underlying swap  \n",
    "\n",
    " - **Example 3: 3M x 2Y EUR Payer (SELL)** - Premium income strategy with customed ESTR swap leg definitions\n",
    "\n",
    "Each example demonstrates different European exercise characteristics, settlement methods, and underlying swap configurations."
   ]
  },
  {
   "cell_type": "markdown",
   "id": "b39793f1",
   "metadata": {},
   "source": [
    "### Swaption Definition"
   ]
  },
  {
   "cell_type": "markdown",
   "id": "9cfaf976",
   "metadata": {},
   "source": [
    "#### Example 1: 6-Month Into 5-Year USD Payer Swaption"
   ]
  },
  {
   "cell_type": "code",
   "execution_count": 2,
   "id": "585bfe02",
   "metadata": {
    "execution": {
     "iopub.execute_input": "2025-09-18T09:13:11.220796Z",
     "iopub.status.busy": "2025-09-18T09:13:11.217981Z",
     "iopub.status.idle": "2025-09-18T09:13:11.238425Z",
     "shell.execute_reply": "2025-09-18T09:13:11.237569Z"
    }
   },
   "outputs": [
    {
     "name": "stdout",
     "output_type": "stream",
     "text": [
      "Example 1: 6M x 5Y USD Payer European Swaption\n",
      "--------------------------------------------------\n",
      "✓ European Payer Swaption Created:\n",
      "  Swaption Type: SwaptionTypeEnum.PAYER (Right to pay fixed)\n",
      "  Exercise Style: IPAExerciseStyleEnum.EURO (Only one exercise opportunity at expiration date)\n",
      "  Position: IPABuySellEnum.BUY (buy protection against rising rates)\n",
      "  Option Period: 2025-01-20 to 2025-07-21 (6M)\n",
      "  Underlying: 182 days into 5Y swap\n",
      "  Strike Rate: 4.25% (fixed rate to pay if exercised)\n",
      "  Settlement: SettlementTypeEnum.PHYSICAL\n",
      "  ATM Spread: 0.0bp (At-the-money)\n",
      "  Premium Settlement: PremiumSettlementTypeEnum.SPOT\n"
     ]
    }
   ],
   "source": [
    "\n",
    "print(\"Example 1: 6M x 5Y USD Payer European Swaption\")\n",
    "print(\"-\" * 50)\n",
    "\n",
    "# Step 1: European Payer Swaption Definition\n",
    "euro_payer_definition = sw.SwaptionDefinition(\n",
    "    # European Exercise - Key differentiator\n",
    "    exercise_style=sw.IPAExerciseStyleEnum.EURO,               # European: exercise ONLY at expiration. Options: EURO, AMER, BERM\n",
    "    \n",
    "    # Core Swaption Parameters\n",
    "    buy_sell=sw.IPABuySellEnum.BUY,                            # Buy protection against rising rates. Options: BUY, SELL\n",
    "    swaption_type=sw.SwaptionTypeEnum.PAYER,                   # Payer: right to PAY fixed in underlying swap. Options: PAYER, RECEIVER\n",
    "    \n",
    "    # Option Timing - 6M into 5Y\n",
    "    start_date=dt.datetime(2025, 1, 20),                       # Option effective date (T+2 from trade)\n",
    "    end_date=dt.datetime(2025, 7, 21),                         # Option expiry (ONLY exercise date for European)\n",
    "    \n",
    "    # Financial Terms\n",
    "    notional_amount=50_000_000,                                # $50M notional for corporate hedge\n",
    "    strike_percent=4.25,                                       # 4.25% strike (fixed rate in underlying swap)\n",
    "    \n",
    "    # Settlement Configuration  \n",
    "    settlement_type=sw.SettlementTypeEnum.PHYSICAL,           # Physical: actually enter swap if exercised. Options: PHYSICAL, CASH, CCP\n",
    "    premium_settlement_type=sw.PremiumSettlementTypeEnum.SPOT, # Premium paid at trade date. Options: SPOT, FORWARD, SCHEDULE\n",
    "    delivery_date=dt.datetime(2025, 7, 23),                   # Underlying swap start date (T+2 from expiry)\n",
    "    \n",
    "    # European Swaption Specific Parameters\n",
    "    instrument_tag=\"EURO_6Mx5Y_PAYER_USD\",                    # Tag for identification\n",
    "    spread_vs_atm_in_bp=0.0,                                  # At-the-money strike (0bp spread from ATM)\n",
    "    \n",
    "    # Underlying 5-Year USD SOFR Swap\n",
    "    underlying_definition=sw.SwapDefinition(\n",
    "        template=\"OIS_SOFR\",                                   # Standard USD SOFR overnight index swap\n",
    "        start_date=dt.datetime(2025, 7, 23),                   # Swap effective date (delivery_date)\n",
    "        end_date=dt.datetime(2030, 7, 23),                     # 5Y maturity from swap start in date format\n",
    "        instrument_tag=\"5Y_SOFR_Underlying_Swap\"\n",
    "    )\n",
    ")\n",
    "\n",
    "print(f\"✓ European Payer Swaption Created:\")\n",
    "print(f\"  Swaption Type: {euro_payer_definition.swaption_type} (Right to pay fixed)\")\n",
    "print(f\"  Exercise Style: {euro_payer_definition.exercise_style} (Only one exercise opportunity at expiration date)\")\n",
    "print(f\"  Position: {euro_payer_definition.buy_sell} (buy protection against rising rates)\")\n",
    "print(f\"  Option Period: {euro_payer_definition.start_date.strftime('%Y-%m-%d')} to {euro_payer_definition.end_date.strftime('%Y-%m-%d')} (6M)\")\n",
    "print(f\"  Underlying: {(euro_payer_definition.end_date - euro_payer_definition.start_date).days} days into 5Y swap\")\n",
    "print(f\"  Strike Rate: {euro_payer_definition.strike_percent}% (fixed rate to pay if exercised)\")\n",
    "print(f\"  Settlement: {euro_payer_definition.settlement_type}\")\n",
    "print(f\"  ATM Spread: {euro_payer_definition.spread_vs_atm_in_bp}bp (At-the-money)\")\n",
    "print(f\"  Premium Settlement: {euro_payer_definition.premium_settlement_type}\")"
   ]
  },
  {
   "cell_type": "markdown",
   "id": "dae31c16",
   "metadata": {},
   "source": [
    "### Example 2: 1-Year Into 10-Year GBP Receiver Swaption"
   ]
  },
  {
   "cell_type": "code",
   "execution_count": 3,
   "id": "a4502895",
   "metadata": {
    "execution": {
     "iopub.execute_input": "2025-09-18T09:13:11.241512Z",
     "iopub.status.busy": "2025-09-18T09:13:11.241233Z",
     "iopub.status.idle": "2025-09-18T09:13:11.250372Z",
     "shell.execute_reply": "2025-09-18T09:13:11.249576Z"
    }
   },
   "outputs": [
    {
     "name": "stdout",
     "output_type": "stream",
     "text": [
      "Example 2: 1Y x 10Y GBP Receiver European Swaption\n",
      "--------------------------------------------------\n",
      "✓ European Receiver Swaption Created:\n",
      "  Swaption Type: SwaptionTypeEnum.RECEIVER (Right to receive fixed)\n",
      "  Exercise Style: IPAExerciseStyleEnum.EURO (Only one exercise opportunity at expiration date)\n",
      "  Position: IPABuySellEnum.BUY (buy protection against falling rates)\n",
      "  Option Period: 2025-01-20 to 2026-01-20 (1Y)\n",
      "  Underlying: 10Y SONIA swap\n",
      "  Strike rate: 3.75% (fixed rate to receive if exercised)\n",
      "  Settlement: SettlementTypeEnum.CASH (no physical swap delivery)\n",
      "  ATM Spread: -25.0bp (Out-of-the-money)\n",
      "  Premium Settlement: PremiumSettlementTypeEnum.SPOT\n"
     ]
    }
   ],
   "source": [
    "print(\"Example 2: 1Y x 10Y GBP Receiver European Swaption\")\n",
    "print(\"-\" * 50)\n",
    "\n",
    "# Step 2: European Receiver Swaption Definition  \n",
    "euro_receiver_definition = sw.SwaptionDefinition(\n",
    "    # European Exercise Style\n",
    "    exercise_style=sw.IPAExerciseStyleEnum.EURO,               # European style - single exercise date\n",
    "    \n",
    "    # Receiver Swaption Parameters\n",
    "    buy_sell=sw.IPABuySellEnum.BUY,                            # Buy protection against falling rates\n",
    "    swaption_type=sw.SwaptionTypeEnum.RECEIVER,                # Receiver: right to RECEIVE fixed in underlying swap\n",
    "    \n",
    "    # Extended Option Period\n",
    "    start_date=dt.datetime(2025, 1, 20),                       # Option start\n",
    "    end_date=dt.datetime(2026, 1, 20),                         # 1-year option expiry in date format\n",
    "    \n",
    "    # Larger Notional\n",
    "    notional_amount=100_000_000,                               # £100M notional\n",
    "    strike_percent=3.75,                                       # 3.75% receiver strike\n",
    "    \n",
    "    # Cash Settlement Configuration\n",
    "    settlement_type=sw.SettlementTypeEnum.CASH,               # Cash settlement: receive PnL without entering swap\n",
    "    premium_settlement_type=sw.PremiumSettlementTypeEnum.SPOT, # Upfront premium payment\n",
    "    delivery_date=dt.datetime(2026, 1, 22),                   # Cash settlement calculation date\n",
    "    \n",
    "    # European Swaption Specific Parameters\n",
    "    instrument_tag=\"EURO_1Yx10Y_RECEIVER_GBP\",\n",
    "    spread_vs_atm_in_bp=-25.0,                                # 25bp below ATM (out-of-the-money receiver)\n",
    "\n",
    "    # Underlying 10-Year GBP SONIA Swap\n",
    "    underlying_definition=sw.SwapDefinition(\n",
    "        template=\"OIS_SONIA\", \n",
    "        start_date=dt.datetime(2026, 1, 22),                   # 10Y swap starts at option expiry\n",
    "        end_date=dt.datetime(2036, 1, 22),                     # 10Y tenor in date format\n",
    "        instrument_tag=\"10Y_SONIA_Underlying_Swap\"\n",
    "    )\n",
    ")\n",
    "\n",
    "print(f\"✓ European Receiver Swaption Created:\")\n",
    "print(f\"  Swaption Type: {euro_receiver_definition.swaption_type} (Right to receive fixed)\")\n",
    "print(f\"  Exercise Style: {euro_receiver_definition.exercise_style} (Only one exercise opportunity at expiration date)\")\n",
    "print(f\"  Position: {euro_receiver_definition.buy_sell} (buy protection against falling rates)\")\n",
    "print(f\"  Option Period: {euro_receiver_definition.start_date.strftime('%Y-%m-%d')} to {euro_receiver_definition.end_date.strftime('%Y-%m-%d')} (1Y)\")\n",
    "print(f\"  Underlying: 10Y SONIA swap\")\n",
    "print(f\"  Strike rate: {euro_receiver_definition.strike_percent}% (fixed rate to receive if exercised)\")\n",
    "print(f\"  Settlement: {euro_receiver_definition.settlement_type} (no physical swap delivery)\")\n",
    "print(f\"  ATM Spread: {euro_receiver_definition.spread_vs_atm_in_bp}bp (Out-of-the-money)\")\n",
    "print(f\"  Premium Settlement: {euro_receiver_definition.premium_settlement_type}\")"
   ]
  },
  {
   "cell_type": "markdown",
   "id": "3d2b6d5a",
   "metadata": {},
   "source": [
    "#### Example 3: Short Dated European Swaption with Custom Underlying Definition"
   ]
  },
  {
   "cell_type": "code",
   "execution_count": 4,
   "id": "d7c6b0c9",
   "metadata": {
    "execution": {
     "iopub.execute_input": "2025-09-18T09:13:11.253277Z",
     "iopub.status.busy": "2025-09-18T09:13:11.252753Z",
     "iopub.status.idle": "2025-09-18T09:13:11.268136Z",
     "shell.execute_reply": "2025-09-18T09:13:11.267596Z"
    }
   },
   "outputs": [
    {
     "name": "stdout",
     "output_type": "stream",
     "text": [
      "Example 3: 3M x 2Y EUR Payer European Swaption\n",
      "--------------------------------------------------\n",
      "✓ Short European Swaption with Full Swap Definition Created:\n",
      "  Swaption Type: SwaptionTypeEnum.PAYER (Right to pay fixed)\n",
      "  Exercise Style: IPAExerciseStyleEnum.EURO (Only one exercise opportunity at expiration date)\n",
      "  Position: IPABuySellEnum.SELL (premium received)\n",
      "  Option Period: 2025-01-20 to 2025-04-21 (3M)\n",
      "  Underlying: customed 2Y ESTR Swap (see details below)\n",
      "  Settlement: SettlementTypeEnum.CASH\n",
      "  ATM Spread: 15.0bp (In-the-money)\n",
      "  Premium Settlement: PremiumSettlementTypeEnum.FORWARD\n",
      "\n",
      "  Underlying Swap Details:\n",
      "    Fixed Leg: PAY 3.0% annually\n",
      "    Floating Leg: RECEIVE ESTR compounded annually\n",
      "    Day Count: Fixed=30/360, Floating=ACT/360\n",
      "    Payment Frequency: InterestPaymentFrequencyEnum.ANNUAL\n",
      "    Business Day Convention: PaymentBusinessDayConventionEnum.MODIFIED_FOLLOWING\n"
     ]
    }
   ],
   "source": [
    "print(\"Example 3: 3M x 2Y EUR Payer European Swaption\")\n",
    "print(\"-\" * 50)\n",
    "\n",
    "# Step 3: Short-dated European Swaption (Different Currency)\n",
    "euro_short_definition = sw.SwaptionDefinition(\n",
    "    exercise_style=sw.IPAExerciseStyleEnum.EURO,               # European exercise\n",
    "    buy_sell=sw.IPABuySellEnum.SELL,                           # Sell swaption (receive premium)\n",
    "    swaption_type=sw.SwaptionTypeEnum.PAYER,                   # Payer swaption: right to pay fixed in underlying swap for buyer.\n",
    "    \n",
    "    # Short Option Period\n",
    "    start_date=dt.datetime(2025, 1, 20),\n",
    "    end_date=dt.datetime(2025, 4, 21),                         # 3-month option in date format\n",
    "    \n",
    "    # EUR Denominated\n",
    "    notional_amount=25_000_000,                                # €25M notional\n",
    "    strike_percent=3.00,                                       # 3.00% EUR strike\n",
    "\n",
    "    # Cash Settlement Configuration\n",
    "    settlement_type=sw.SettlementTypeEnum.CASH,                # Cash settlement\n",
    "    premium_settlement_type=sw.PremiumSettlementTypeEnum.FORWARD, # Forward premium settlement\n",
    "    delivery_date=dt.datetime(2025, 4, 23),\n",
    "    \n",
    "    # Short-dated Strategy\n",
    "    instrument_tag=\"EURO_3Mx2Y_PAYER_EUR_SELL\",\n",
    "    spread_vs_atm_in_bp=15.0,                                 # 15bp above ATM (in-the-money payer)\n",
    "    \n",
    "    # EUR 2Y ESTR Swap - Custom Definition \n",
    "    underlying_definition=sw.SwapDefinition(\n",
    "        start_date=dt.datetime(2025, 4, 23),                   # Swap effective date\n",
    "        end_date=dt.datetime(2027, 4, 23),                     # 2Y swap maturity in date format\n",
    "        instrument_tag=\"2Y_ESTR_Full_Custom_Swap\",\n",
    "        \n",
    "        legs=[\n",
    "            # Fixed Rate Leg (Payer Leg) - What swaption holder pays if exercised\n",
    "            sw.SwapLegDefinition(\n",
    "                direction=sw.IPADirectionEnum.PAID,                     \n",
    "                notional_amount=25_000_000,                            # €25M notional\n",
    "                notional_ccy=\"EUR\",                                   \n",
    "                interest_type=sw.InterestTypeEnum.FIXED,               \n",
    "                fixed_rate_percent=3.00,                               # 3.00% fixed rate (matches strike)\n",
    "                interest_payment_frequency=sw.InterestPaymentFrequencyEnum.ANNUAL,  # Annual payments\n",
    "                interest_calculation_method=sw.InterestCalculationMethodEnum.DCB_30_360,  # 30/360 day count\n",
    "                payment_business_day_convention=sw.PaymentBusinessDayConventionEnum.MODIFIED_FOLLOWING, # Modified following payment business day convention \n",
    "\n",
    "                leg_tag=\"FixedLeg\",                                 \n",
    " \n",
    "            ),\n",
    "            \n",
    "            # Floating Rate Leg (Receiver Leg) - What swaption holder receives if exercised\n",
    "            sw.SwapLegDefinition(\n",
    "                direction=sw.IPADirectionEnum.RECEIVED,               \n",
    "                notional_amount=25_000_000,                            # €25M notional (same as fixed leg)\n",
    "                notional_ccy=\"EUR\",                                  \n",
    "                interest_type=sw.InterestTypeEnum.FLOAT,             \n",
    "                \n",
    "                # ESTR (Euro Short Term Rate) Index Configuration\n",
    "                index_name=\"ESTR\",                                     # European Short Term Rate\n",
    "                index_tenor=\"1D\",                                      # Daily rate (overnight)\n",
    "                interest_payment_frequency=sw.InterestPaymentFrequencyEnum.ANNUAL,  # Annual payments\n",
    "                index_reset_frequency=sw.IndexResetFrequencyEnum.EVERY_WORKING_DAY, \n",
    "                \n",
    "                # EUR Market Conventions\n",
    "                interest_calculation_method=sw.InterestCalculationMethodEnum.DCB_ACTUAL_360,  # ACT/360 for ESTR\n",
    "                payment_business_day_convention=sw.PaymentBusinessDayConventionEnum.MODIFIED_FOLLOWING, # Modified following payment business day convention \n",
    "                \n",
    "                # Date Settings  \n",
    "                leg_tag=\"FloatingLeg\",                                \n",
    "\n",
    "            )\n",
    "        ]\n",
    "    )\n",
    ")\n",
    "\n",
    "\n",
    "print(f\"✓ Short European Swaption with Full Swap Definition Created:\")\n",
    "print(f\"  Swaption Type: {euro_short_definition.swaption_type} (Right to pay fixed)\")\n",
    "print(f\"  Exercise Style: {euro_short_definition.exercise_style} (Only one exercise opportunity at expiration date)\")\n",
    "print(f\"  Position: {euro_short_definition.buy_sell} (premium received)\")\n",
    "print(f\"  Option Period: {euro_short_definition.start_date.strftime('%Y-%m-%d')} to {euro_short_definition.end_date.strftime('%Y-%m-%d')} (3M)\")\n",
    "print(f\"  Underlying: customed 2Y ESTR Swap (see details below)\")\n",
    "print(f\"  Settlement: {euro_short_definition.settlement_type}\")\n",
    "print(f\"  ATM Spread: {euro_short_definition.spread_vs_atm_in_bp}bp (In-the-money)\")\n",
    "print(f\"  Premium Settlement: {euro_short_definition.premium_settlement_type}\")\n",
    "print()\n",
    "print(f\"  Underlying Swap Details:\")\n",
    "print(f\"    Fixed Leg: PAY {euro_short_definition.underlying_definition.legs[0].fixed_rate_percent}% annually\")\n",
    "print(f\"    Floating Leg: RECEIVE ESTR compounded annually\")\n",
    "print(f\"    Day Count: Fixed=30/360, Floating=ACT/360\")\n",
    "print(f\"    Payment Frequency: {euro_short_definition.underlying_definition.legs[0].interest_payment_frequency}\")\n",
    "print(f\"    Business Day Convention: {euro_short_definition.underlying_definition.legs[0].payment_business_day_convention}\")"
   ]
  },
  {
   "cell_type": "markdown",
   "id": "ef6959d4",
   "metadata": {},
   "source": [
    "### Swaption Instrument Definition\n",
    "\n",
    "We create for the each of the three examples a swaption instrument to be priced in one batch."
   ]
  },
  {
   "cell_type": "code",
   "execution_count": 5,
   "id": "a731e6af",
   "metadata": {
    "execution": {
     "iopub.execute_input": "2025-09-18T09:13:11.271004Z",
     "iopub.status.busy": "2025-09-18T09:13:11.270572Z",
     "iopub.status.idle": "2025-09-18T09:13:11.275203Z",
     "shell.execute_reply": "2025-09-18T09:13:11.274722Z"
    }
   },
   "outputs": [
    {
     "name": "stdout",
     "output_type": "stream",
     "text": [
      "Creating Instrument Objects for Batch Pricing...\n",
      "--------------------------------------------------\n",
      "✓ Created 3 European swaption instruments\n",
      "  - 6M x 5Y USD Payer (Physical settlement)\n",
      "  - 1Y x 10Y GBP Receiver (Cash settlement)\n",
      "  - 3M x 2Y EUR Payer Sold (Cash settlement)\n",
      "\n"
     ]
    }
   ],
   "source": [
    "print(\"Creating Instrument Objects for Batch Pricing...\")\n",
    "print(\"-\" * 50)\n",
    "\n",
    "# Create instrument containers\n",
    "euro_payer_instrument = sw.SwaptionDefinitionInstrument(definition=euro_payer_definition)\n",
    "euro_receiver_instrument = sw.SwaptionDefinitionInstrument(definition=euro_receiver_definition) \n",
    "euro_short_instrument = sw.SwaptionDefinitionInstrument(definition=euro_short_definition)\n",
    "\n",
    "# Batch instrument list for simultaneous pricing\n",
    "european_swaptions_batch = [euro_payer_instrument, euro_receiver_instrument, euro_short_instrument]\n",
    "\n",
    "print(f\"✓ Created {len(european_swaptions_batch)} European swaption instruments\")\n",
    "print(\"  - 6M x 5Y USD Payer (Physical settlement)\")\n",
    "print(\"  - 1Y x 10Y GBP Receiver (Cash settlement)\")\n",
    "print(\"  - 3M x 2Y EUR Payer Sold (Cash settlement)\")\n",
    "print()"
   ]
  },
  {
   "cell_type": "markdown",
   "id": "9409155e",
   "metadata": {},
   "source": [
    "### Pricing Preferences\n",
    "\n",
    "#### Setup pricing parameters"
   ]
  },
  {
   "cell_type": "code",
   "execution_count": 6,
   "id": "21e5f96f",
   "metadata": {
    "execution": {
     "iopub.execute_input": "2025-09-18T09:13:11.277968Z",
     "iopub.status.busy": "2025-09-18T09:13:11.277548Z",
     "iopub.status.idle": "2025-09-18T09:13:11.282702Z",
     "shell.execute_reply": "2025-09-18T09:13:11.282052Z"
    }
   },
   "outputs": [
    {
     "name": "stdout",
     "output_type": "stream",
     "text": [
      "Configuring European Swaption Pricing Parameters...\n",
      "--------------------------------------------------\n",
      "✓ European Swaption Pricing Configuration:\n",
      "  Valuation Date: 2025-01-18\n",
      "  Price Side: PriceSideEnum.MID\n",
      "  Report Currency: USD\n",
      "\n"
     ]
    }
   ],
   "source": [
    "print(\"Configuring European Swaption Pricing Parameters...\")\n",
    "print(\"-\" * 50)\n",
    "\n",
    "# Pricing parameters optimized for European swaption analytics\n",
    "euro_pricing_params = sw.SwaptionPricingParameters(\n",
    "    valuation_date=dt.datetime(2025, 1, 18),                   # Current valuation date\n",
    "    price_side=sw.PriceSideEnum.MID,                           # Mid-market pricing for fair value\n",
    "    report_ccy=\"USD\"                                           # Optional: force USD reporting\n",
    ")\n",
    "\n",
    "print(f\"✓ European Swaption Pricing Configuration:\")\n",
    "print(f\"  Valuation Date: {euro_pricing_params.valuation_date.strftime('%Y-%m-%d')}\")\n",
    "print(f\"  Price Side: {euro_pricing_params.price_side}\")\n",
    "print(f\"  Report Currency: {euro_pricing_params.report_ccy}\")\n",
    "print()"
   ]
  },
  {
   "cell_type": "markdown",
   "id": "0190ada3",
   "metadata": {},
   "source": [
    "#### European Swaption Fields Setup\n",
    "\n",
    "We select the below the following fields that are interesting for European Swaption pricing:\n",
    "\n",
    "- **InstrumentTag**: Tag for identification\n",
    "- **Notional currency**: Currency of the swaption\n",
    "- **Market Value**: Pure option value without early exercise premium\n",
    "- **Report currency**: Currency of swaption valuation and metrics\n",
    "- **Premium**: Market value divided by notional. Lower than American equivalents due to single exercise date.\n",
    "- **Implied volatility**: Equivalent Black-Scholes (resp. Bachelier) implied volatility if expressed in percentage (resp. in bps) \n",
    "- **Delta (Δ)**:  Change in the swaption market value caused by 1bp change in the swap rate\n",
    "- **Gamma (Γ)**: Change in the swaption delta caused by 1bp change in the swap rate\n",
    "- **Vega (ν)**: Change in the swaption market value per 1bp change in the normal volatility (if market data has only log normal volatility surface, it is 1% change in the lognormal volatility) \n",
    "- **Theta (Θ)**: Change in the swaption market value per one-day decrease in its time to expiration\n",
    "- **Hedge Notional**: The notional amount of the underlying swap that allows to hedge the swaption."
   ]
  },
  {
   "cell_type": "code",
   "execution_count": 7,
   "id": "4bfb418d",
   "metadata": {
    "execution": {
     "iopub.execute_input": "2025-09-18T09:13:11.285322Z",
     "iopub.status.busy": "2025-09-18T09:13:11.285143Z",
     "iopub.status.idle": "2025-09-18T09:13:11.288465Z",
     "shell.execute_reply": "2025-09-18T09:13:11.287848Z"
    }
   },
   "outputs": [],
   "source": [
    "basic_fields=\"InstrumentTag, NotionalCcy, MarketValueInDealCcy, ReportCcy, MarketValueInReportCcy, premiumPercent, premiumBp, ImpliedVolatilityPercent, ImpliedVolatilityBp\"\n",
    "sensitivity_fields_percent=\"deltaPercent, gammaPercent, vegaPercent, thetaPercent\"\n",
    "sensitivity_fields_absolute=\"DeltaAmountInReportCcy, GammaAmountInReportCcy, VegaAmountInReportCcy, ThetaAmountInReportCcy, HedgeNotionalAmountInReportCcy\"\n",
    "\n",
    "# combine basic and sensitivity fields\n",
    "fields=basic_fields + \",\" + sensitivity_fields_percent + \",\" + sensitivity_fields_absolute"
   ]
  },
  {
   "cell_type": "markdown",
   "id": "59493901",
   "metadata": {},
   "source": [
    "## Request Execution"
   ]
  },
  {
   "cell_type": "code",
   "execution_count": 8,
   "id": "0eedc926",
   "metadata": {
    "execution": {
     "iopub.execute_input": "2025-09-18T09:13:11.291838Z",
     "iopub.status.busy": "2025-09-18T09:13:11.291569Z",
     "iopub.status.idle": "2025-09-18T09:13:15.118508Z",
     "shell.execute_reply": "2025-09-18T09:13:15.117516Z"
    }
   },
   "outputs": [
    {
     "name": "stdout",
     "output_type": "stream",
     "text": [
      "Calculation successful!\n"
     ]
    }
   ],
   "source": [
    "# Execute the calculation using the price() function\n",
    "# The 'definitions' parameter accepts a list of instrument definitions for batch processing\n",
    "\n",
    "try:\n",
    "    response = sw.price(\n",
    "        definitions=european_swaptions_batch,\n",
    "        pricing_preferences=euro_pricing_params,\n",
    "        fields=fields\n",
    "    )\n",
    "    \n",
    "    all_calculations_ok = True\n",
    "    for item in response['data']['analytics']:\n",
    "        analytics_data = item\n",
    "        if analytics_data['error'] == {}:\n",
    "            valuation_data = analytics_data.get('valuation', {})\n",
    "        else:\n",
    "            all_calculations_ok = False\n",
    "            print(\"   - InstrumentTag:\", analytics_data['tabularData']['data'][0])\n",
    "            print(f\"   Pricing error: {analytics_data['error']}\")\n",
    "    if all_calculations_ok:\n",
    "        print(\"Calculation successful!\")\n",
    "except Exception as e:\n",
    "    print(f\"   Calculation failed: {str(e)}\")\n",
    "    raise\n"
   ]
  },
  {
   "cell_type": "markdown",
   "id": "b58ed807",
   "metadata": {},
   "source": [
    "## Results Display"
   ]
  },
  {
   "cell_type": "markdown",
   "id": "8fbfaa6c",
   "metadata": {},
   "source": [
    "#### Key Sections in the European Swaption `response` JSON\n",
    "\n",
    " - **definitions**: Instrument setup (e.g., strike rate, expiry dates, notional, underlying swap structure), using the SwaptionDefinition that we created.\n",
    "\n",
    " - **pricingPreferences**: Valuation date, price side (BID/ASK/MID/LAST), currency settings.\n",
    "\n",
    " - **analytics**:\n",
    "   - **tabularData**: Customizable list of analytics given in `fields` argument of price() function (`data`, `headers`, `statuses`)\n",
    "   - **description**: Instrument summary SwaptionDefinition and default fields used in the calculation\n",
    "   - **greeks**: Main risk metrics calculated on swaption instrument (`deltaPercent`, `deltaAmountInReportCcy`, `gammaPercent`, `gammaAmountInReportCcy`, `vegaPercent`, `vegaAmountInReportCcy`, `thetaPercent`, `thetaAmountInReportCcy`)\n",
    "   - **pricingAnalysis**: Further information on pricing with the below fields:\n",
    "      - `ImpliedVolatilityPercent`: Black-Scholes market-implied volatility for European exercise\n",
    "      - `ImpliedVolatilityBps`: Bachelier market-implied volatility for European exercise\n",
    "   - **valuation**: Detailed valuation of the swaption instrument with the below fields:\n",
    "      - `MarketValueInDealCcy`: Present value of the swaption in deal currency\n",
    "      - `MarketValueInReportCcy`: Present value of the swaption in report currency\n",
    "      - `PremiumPercent`: Swaption premium as percentage of notional\n",
    "      - `PremiumBp`: Swaption premium in basis points\n",
    "   - **error**: Root cause of any issues, if encountered\n",
    "\n",
    "We give below for the first deal the valuation and greeks details, as well as for the three deals the tabular data details, that include information on valuation, implied volatility and greeks .\n"
   ]
  },
  {
   "cell_type": "code",
   "execution_count": 9,
   "id": "143fda8e",
   "metadata": {
    "execution": {
     "iopub.execute_input": "2025-09-18T09:13:15.122968Z",
     "iopub.status.busy": "2025-09-18T09:13:15.122500Z",
     "iopub.status.idle": "2025-09-18T09:13:15.131174Z",
     "shell.execute_reply": "2025-09-18T09:13:15.130410Z"
    }
   },
   "outputs": [
    {
     "name": "stdout",
     "output_type": "stream",
     "text": [
      "Swaption Valuation Results:\n",
      "{\n",
      "    \"marketValueInDealCcy\": 515536.72614804,\n",
      "    \"marketValueInReportCcy\": 515536.72614804,\n",
      "    \"premiumPercent\": 1.03107345229608,\n",
      "    \"premiumBp\": 103.107345229608\n",
      "}\n",
      "Swaption Greeks Results:\n",
      "{\n",
      "    \"deltaAmountInReportCcy\": 9390.29425312561,\n",
      "    \"deltaPercent\": 1.87805885062512,\n",
      "    \"gammaAmountInReportCcy\": 115.412031413081,\n",
      "    \"gammaPercent\": 230.824062826161,\n",
      "    \"thetaAmountInReportCcy\": -1694.3053497096,\n",
      "    \"thetaPercent\": -3.38861069941919e-05,\n",
      "    \"vegaAmountInReportCcy\": 6123.76079716225,\n",
      "    \"vegaPercent\": 1.22475215943245\n",
      "}\n"
     ]
    }
   ],
   "source": [
    "# Access the valuation object for #1 deal\n",
    "valuation = response.data.analytics[0].valuation\n",
    "print(\"Swaption Valuation Results:\")\n",
    "print(json.dumps(valuation.as_dict(), indent=4))\n",
    "\n",
    "# Access the greeks object for #1 deal\n",
    "print(\"Swaption Greeks Results:\")\n",
    "print(json.dumps(response.data.analytics[0].greeks.as_dict(), indent=4))"
   ]
  },
  {
   "cell_type": "code",
   "execution_count": 10,
   "id": "d5c9c75d",
   "metadata": {
    "execution": {
     "iopub.execute_input": "2025-09-18T09:13:15.133916Z",
     "iopub.status.busy": "2025-09-18T09:13:15.133329Z",
     "iopub.status.idle": "2025-09-18T09:13:15.156861Z",
     "shell.execute_reply": "2025-09-18T09:13:15.155888Z"
    }
   },
   "outputs": [
    {
     "name": "stdout",
     "output_type": "stream",
     "text": [
      "Swaption Analytics Summary:\n"
     ]
    },
    {
     "data": {
      "text/html": [
       "<div>\n",
       "<style scoped>\n",
       "    .dataframe tbody tr th:only-of-type {\n",
       "        vertical-align: middle;\n",
       "    }\n",
       "\n",
       "    .dataframe tbody tr th {\n",
       "        vertical-align: top;\n",
       "    }\n",
       "\n",
       "    .dataframe thead th {\n",
       "        text-align: right;\n",
       "    }\n",
       "</style>\n",
       "<table border=\"1\" class=\"dataframe\">\n",
       "  <thead>\n",
       "    <tr style=\"text-align: right;\">\n",
       "      <th>InstrumentTag</th>\n",
       "      <th>EURO_6Mx5Y_PAYER_USD</th>\n",
       "      <th>EURO_1Yx10Y_RECEIVER_GBP</th>\n",
       "      <th>EURO_3Mx2Y_PAYER_EUR_SELL</th>\n",
       "    </tr>\n",
       "  </thead>\n",
       "  <tbody>\n",
       "    <tr>\n",
       "      <th>NotionalCcy</th>\n",
       "      <td>USD</td>\n",
       "      <td>GBP</td>\n",
       "      <td>EUR</td>\n",
       "    </tr>\n",
       "    <tr>\n",
       "      <th>MarketValueInDealCcy</th>\n",
       "      <td>515536.73</td>\n",
       "      <td>1811261.97</td>\n",
       "      <td>-2376.59</td>\n",
       "    </tr>\n",
       "    <tr>\n",
       "      <th>ReportCcy</th>\n",
       "      <td>USD</td>\n",
       "      <td>USD</td>\n",
       "      <td>USD</td>\n",
       "    </tr>\n",
       "    <tr>\n",
       "      <th>MarketValueInReportCcy</th>\n",
       "      <td>515536.73</td>\n",
       "      <td>2203762.43</td>\n",
       "      <td>-2441.11</td>\n",
       "    </tr>\n",
       "    <tr>\n",
       "      <th>PremiumPercent</th>\n",
       "      <td>1.03</td>\n",
       "      <td>1.81</td>\n",
       "      <td>-0.01</td>\n",
       "    </tr>\n",
       "    <tr>\n",
       "      <th>PremiumBp</th>\n",
       "      <td>103.11</td>\n",
       "      <td>181.13</td>\n",
       "      <td>-0.95</td>\n",
       "    </tr>\n",
       "    <tr>\n",
       "      <th>ImpliedVolatilityPercent</th>\n",
       "      <td>25.21</td>\n",
       "      <td>25.21</td>\n",
       "      <td>37.84</td>\n",
       "    </tr>\n",
       "    <tr>\n",
       "      <th>ImpliedVolatilityBp</th>\n",
       "      <td>105.25</td>\n",
       "      <td>99.02</td>\n",
       "      <td>94.86</td>\n",
       "    </tr>\n",
       "    <tr>\n",
       "      <th>DeltaPercent</th>\n",
       "      <td>1.88</td>\n",
       "      <td>-2.71</td>\n",
       "      <td>-0.05</td>\n",
       "    </tr>\n",
       "    <tr>\n",
       "      <th>GammaPercent</th>\n",
       "      <td>230.82</td>\n",
       "      <td>288.96</td>\n",
       "      <td>-25.07</td>\n",
       "    </tr>\n",
       "    <tr>\n",
       "      <th>VegaPercent</th>\n",
       "      <td>1.22</td>\n",
       "      <td>2.88</td>\n",
       "      <td>-0.06</td>\n",
       "    </tr>\n",
       "    <tr>\n",
       "      <th>ThetaPercent</th>\n",
       "      <td>-0.0</td>\n",
       "      <td>-0.0</td>\n",
       "      <td>0.0</td>\n",
       "    </tr>\n",
       "    <tr>\n",
       "      <th>DeltaAmountInReportCcy</th>\n",
       "      <td>9390.29</td>\n",
       "      <td>-32982.82</td>\n",
       "      <td>-133.55</td>\n",
       "    </tr>\n",
       "    <tr>\n",
       "      <th>GammaAmountInReportCcy</th>\n",
       "      <td>115.41</td>\n",
       "      <td>351.58</td>\n",
       "      <td>-6.44</td>\n",
       "    </tr>\n",
       "    <tr>\n",
       "      <th>VegaAmountInReportCcy</th>\n",
       "      <td>6123.76</td>\n",
       "      <td>35004.5</td>\n",
       "      <td>-155.63</td>\n",
       "    </tr>\n",
       "    <tr>\n",
       "      <th>ThetaAmountInReportCcy</th>\n",
       "      <td>-1694.31</td>\n",
       "      <td>-4478.7</td>\n",
       "      <td>79.22</td>\n",
       "    </tr>\n",
       "    <tr>\n",
       "      <th>HedgeNotionalAmountInReportCcy</th>\n",
       "      <td>-21569847.68</td>\n",
       "      <td>-43764477.66</td>\n",
       "      <td>682560.14</td>\n",
       "    </tr>\n",
       "    <tr>\n",
       "      <th>ErrorCode</th>\n",
       "      <td></td>\n",
       "      <td></td>\n",
       "      <td></td>\n",
       "    </tr>\n",
       "    <tr>\n",
       "      <th>ErrorMessage</th>\n",
       "      <td></td>\n",
       "      <td></td>\n",
       "      <td></td>\n",
       "    </tr>\n",
       "  </tbody>\n",
       "</table>\n",
       "</div>"
      ],
      "text/plain": [
       "InstrumentTag                  EURO_6Mx5Y_PAYER_USD EURO_1Yx10Y_RECEIVER_GBP  \\\n",
       "NotionalCcy                                     USD                      GBP   \n",
       "MarketValueInDealCcy                      515536.73               1811261.97   \n",
       "ReportCcy                                       USD                      USD   \n",
       "MarketValueInReportCcy                    515536.73               2203762.43   \n",
       "PremiumPercent                                 1.03                     1.81   \n",
       "PremiumBp                                    103.11                   181.13   \n",
       "ImpliedVolatilityPercent                      25.21                    25.21   \n",
       "ImpliedVolatilityBp                          105.25                    99.02   \n",
       "DeltaPercent                                   1.88                    -2.71   \n",
       "GammaPercent                                 230.82                   288.96   \n",
       "VegaPercent                                    1.22                     2.88   \n",
       "ThetaPercent                                   -0.0                     -0.0   \n",
       "DeltaAmountInReportCcy                      9390.29                -32982.82   \n",
       "GammaAmountInReportCcy                       115.41                   351.58   \n",
       "VegaAmountInReportCcy                       6123.76                  35004.5   \n",
       "ThetaAmountInReportCcy                     -1694.31                  -4478.7   \n",
       "HedgeNotionalAmountInReportCcy         -21569847.68             -43764477.66   \n",
       "ErrorCode                                                                      \n",
       "ErrorMessage                                                                   \n",
       "\n",
       "InstrumentTag                  EURO_3Mx2Y_PAYER_EUR_SELL  \n",
       "NotionalCcy                                          EUR  \n",
       "MarketValueInDealCcy                            -2376.59  \n",
       "ReportCcy                                            USD  \n",
       "MarketValueInReportCcy                          -2441.11  \n",
       "PremiumPercent                                     -0.01  \n",
       "PremiumBp                                          -0.95  \n",
       "ImpliedVolatilityPercent                           37.84  \n",
       "ImpliedVolatilityBp                                94.86  \n",
       "DeltaPercent                                       -0.05  \n",
       "GammaPercent                                      -25.07  \n",
       "VegaPercent                                        -0.06  \n",
       "ThetaPercent                                         0.0  \n",
       "DeltaAmountInReportCcy                           -133.55  \n",
       "GammaAmountInReportCcy                             -6.44  \n",
       "VegaAmountInReportCcy                            -155.63  \n",
       "ThetaAmountInReportCcy                             79.22  \n",
       "HedgeNotionalAmountInReportCcy                 682560.14  \n",
       "ErrorCode                                                 \n",
       "ErrorMessage                                              "
      ]
     },
     "metadata": {},
     "output_type": "display_data"
    }
   ],
   "source": [
    "# Convert swaption analytics to DataFrame for better visualization\n",
    "print(\"Swaption Analytics Summary:\")\n",
    "columns = [item['name'] for item in response['data']['analytics'][0]['tabularData']['headers']]\n",
    "response_data = [item['tabularData']['data'] for item in response['data']['analytics']]\n",
    "\n",
    "response_df = pd.DataFrame(response_data, columns=columns)\n",
    "\n",
    "# Set InstrumentTag as index for better readability\n",
    "response_df.set_index('InstrumentTag', inplace=True)\n",
    "\n",
    "# Round numerical values to 2 decimal places while keeping strings unchanged\n",
    "response_df_rounded = response_df.copy()\n",
    "for col in response_df_rounded.columns:\n",
    "    if response_df_rounded[col].dtype in ['float64', 'int64']:\n",
    "        response_df_rounded[col] = response_df_rounded[col].round(2)\n",
    "\n",
    "display(response_df_rounded.T)"
   ]
  }
 ],
 "metadata": {
  "kernelspec": {
   "display_name": "jupyterlab-ext",
   "language": "python",
   "name": "python3"
  },
  "language_info": {
   "codemirror_mode": {
    "name": "ipython",
    "version": 3
   },
   "file_extension": ".py",
   "mimetype": "text/x-python",
   "name": "python",
   "nbconvert_exporter": "python",
   "pygments_lexer": "ipython3",
   "version": "3.11.6"
  }
 },
 "nbformat": 4,
 "nbformat_minor": 5
}
