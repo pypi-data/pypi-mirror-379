{
 "cells": [
  {
   "cell_type": "markdown",
   "id": "1a108871",
   "metadata": {},
   "source": [
    "# Inflation Curves Override CPIs & Parameterization"
   ]
  },
  {
   "cell_type": "markdown",
   "id": "bcc5de50",
   "metadata": {},
   "source": [
    "This notebook demonstrates how to access and use the functionalities of **Inflation Curves** within the **LSEG Financial Analytics SDK**. \n",
    "\n",
    "Inflation curves provide forward Consumer Price Index data used for pricing inflation indexed instruments.\n",
    "\n",
    "**You will be able to:**\n",
    "- Override CPIs for inflation curve data\n",
    "- configure curve parameters (interpolation, look back month etc.)"
   ]
  },
  {
   "cell_type": "markdown",
   "id": "7cd0ad84",
   "metadata": {},
   "source": [
    "## Imports"
   ]
  },
  {
   "cell_type": "markdown",
   "id": "37a963b7",
   "metadata": {},
   "source": [
    "Import the following necessary modules:\n",
    "\n",
    "- `lseg_analytics.market_data.inflation_curves` - To access inflation curves data"
   ]
  },
  {
   "cell_type": "code",
   "execution_count": 1,
   "id": "197542e7",
   "metadata": {
    "execution": {
     "iopub.execute_input": "2025-09-18T09:09:08.454849Z",
     "iopub.status.busy": "2025-09-18T09:09:08.454463Z",
     "iopub.status.idle": "2025-09-18T09:09:09.833256Z",
     "shell.execute_reply": "2025-09-18T09:09:09.832321Z"
    }
   },
   "outputs": [],
   "source": [
    "from lseg_analytics.market_data import inflation_curves as infc\n",
    "import json\n",
    "import datetime as dt\n",
    "import pandas as pd\n",
    "import matplotlib.pyplot as plt\n",
    "from matplotlib.ticker import MaxNLocator"
   ]
  },
  {
   "cell_type": "markdown",
   "id": "37110b5b",
   "metadata": {},
   "source": [
    "## 1. Override CPIs in the curve data response\n",
    "\n",
    "We first build an inflation curve where some curve points are overriddent. It is built according to the 3-step logic definition/parameters/request where **consumer price indices (CPI) are overridden in parameters**. In the results, the CPIs for January 2025 and February 2025 are overriden\n",
    "\n",
    "### Data Preparation"
   ]
  },
  {
   "cell_type": "code",
   "execution_count": 2,
   "id": "b300e131",
   "metadata": {
    "execution": {
     "iopub.execute_input": "2025-09-18T09:09:09.838435Z",
     "iopub.status.busy": "2025-09-18T09:09:09.836123Z",
     "iopub.status.idle": "2025-09-18T09:09:09.851899Z",
     "shell.execute_reply": "2025-09-18T09:09:09.851302Z"
    }
   },
   "outputs": [
    {
     "name": "stdout",
     "output_type": "stream",
     "text": [
      "Step 1: Creating Curve Definition...\n",
      "   ✓ Instrument: {'code': 'AGBRPI'}\n",
      "Step 2: Configuring Curve Parameters...\n",
      "   ✓ Curve Parameters: {'valuationDateTime': '2025-01-18T00:00:00Z', 'consumerPriceIndexes': [{'indexValue': 315, 'month': 'January', 'year': 2025}, {'indexValue': 315, 'month': 'February', 'year': 2025}]}\n",
      "Step 3: Create request item...\n",
      "   ✓ Request Item: {\n",
      "    \"curveTag\": \"AGBRPI_InflationCurve\",\n",
      "    \"curveDefinition\": {\n",
      "        \"inflationIndex\": {\n",
      "            \"code\": \"AGBRPI\"\n",
      "        }\n",
      "    },\n",
      "    \"curveParameters\": {\n",
      "        \"valuationDateTime\": \"2025-01-18T00:00:00Z\",\n",
      "        \"consumerPriceIndexes\": [\n",
      "            {\n",
      "                \"indexValue\": 315,\n",
      "                \"month\": \"January\",\n",
      "                \"year\": 2025\n",
      "            },\n",
      "            {\n",
      "                \"indexValue\": 315,\n",
      "                \"month\": \"February\",\n",
      "                \"year\": 2025\n",
      "            }\n",
      "        ]\n",
      "    }\n",
      "}\n"
     ]
    }
   ],
   "source": [
    "print(\"Step 1: Creating Curve Definition...\")\n",
    "# Select an Inflation Index\n",
    "inflation_index = 'AGBRPI'\n",
    "\n",
    "# Create curve definition object\n",
    "curve_definition = infc.InflationCurveDefinitionItem(\n",
    "        inflation_index = infc.InflationIndex(code=inflation_index),\n",
    "        )\n",
    "print(f\"   ✓ Instrument: {curve_definition.inflation_index}\")\n",
    "\n",
    "print(\"Step 2: Configuring Curve Parameters...\")\n",
    "# Create CPIs for the wanted month and year to be overriden\n",
    "cpi_jan_2025 = infc.ConsumerPriceIndex(index_value=315, month=infc.MonthEnum.JANUARY, year=2025)\n",
    "cpi_feb_2025 = infc.ConsumerPriceIndex(index_value=315, month=infc.MonthEnum.FEBRUARY, year=2025)\n",
    "\n",
    "curve_parameters = infc.InflationCurveParameters(\n",
    "        valuation_date_time = dt.datetime.strptime(\"2025-01-18\", \"%Y-%m-%d\"),\n",
    "        consumer_price_indexes = [cpi_jan_2025, cpi_feb_2025]\n",
    "    )\n",
    "print(f\"   ✓ Curve Parameters: {curve_parameters}\")\n",
    "\n",
    "print(\"Step 3: Create request item...\")\n",
    "# Create the main request object  with basic configuration\n",
    "request_item = infc.InflationCurvesRequestItem(\n",
    "        curve_tag = f\"{inflation_index}_InflationCurve\",\n",
    "        curve_definition = curve_definition,\n",
    "        curve_parameters = curve_parameters,\n",
    "    )\n",
    "print(f\"   ✓ Request Item: {json.dumps(request_item.as_dict(), indent=4)}\")"
   ]
  },
  {
   "cell_type": "markdown",
   "id": "ece19e26",
   "metadata": {},
   "source": [
    "### Request Execution"
   ]
  },
  {
   "cell_type": "code",
   "execution_count": 3,
   "id": "4d4bc59a",
   "metadata": {
    "execution": {
     "iopub.execute_input": "2025-09-18T09:09:09.854771Z",
     "iopub.status.busy": "2025-09-18T09:09:09.854334Z",
     "iopub.status.idle": "2025-09-18T09:09:11.025611Z",
     "shell.execute_reply": "2025-09-18T09:09:11.024905Z"
    }
   },
   "outputs": [],
   "source": [
    "# Execute the calculation using the calculate function\n",
    "# The 'universe' parameter accepts a list of request items for batch processing\n",
    "response = infc.calculate(universe=[request_item])\n",
    "curve_data = response['data'][0]"
   ]
  },
  {
   "cell_type": "markdown",
   "id": "a700ef84",
   "metadata": {},
   "source": [
    "### Results Display"
   ]
  },
  {
   "cell_type": "code",
   "execution_count": 4,
   "id": "e8b596e2",
   "metadata": {
    "execution": {
     "iopub.execute_input": "2025-09-18T09:09:11.028369Z",
     "iopub.status.busy": "2025-09-18T09:09:11.028085Z",
     "iopub.status.idle": "2025-09-18T09:09:11.040956Z",
     "shell.execute_reply": "2025-09-18T09:09:11.040426Z"
    }
   },
   "outputs": [
    {
     "data": {
      "text/html": [
       "<div>\n",
       "<style scoped>\n",
       "    .dataframe tbody tr th:only-of-type {\n",
       "        vertical-align: middle;\n",
       "    }\n",
       "\n",
       "    .dataframe tbody tr th {\n",
       "        vertical-align: top;\n",
       "    }\n",
       "\n",
       "    .dataframe thead th {\n",
       "        text-align: right;\n",
       "    }\n",
       "</style>\n",
       "<table border=\"1\" class=\"dataframe\">\n",
       "  <thead>\n",
       "    <tr style=\"text-align: right;\">\n",
       "      <th></th>\n",
       "      <th>indexValue</th>\n",
       "      <th>isOverridden</th>\n",
       "    </tr>\n",
       "    <tr>\n",
       "      <th>Month/Year</th>\n",
       "      <th></th>\n",
       "      <th></th>\n",
       "    </tr>\n",
       "  </thead>\n",
       "  <tbody>\n",
       "    <tr>\n",
       "      <th>November 2024</th>\n",
       "      <td>390.900000</td>\n",
       "      <td>NaN</td>\n",
       "    </tr>\n",
       "    <tr>\n",
       "      <th>December 2024</th>\n",
       "      <td>392.100000</td>\n",
       "      <td>NaN</td>\n",
       "    </tr>\n",
       "    <tr>\n",
       "      <th>January 2025</th>\n",
       "      <td>315.000000</td>\n",
       "      <td>True</td>\n",
       "    </tr>\n",
       "    <tr>\n",
       "      <th>February 2025</th>\n",
       "      <td>315.000000</td>\n",
       "      <td>True</td>\n",
       "    </tr>\n",
       "    <tr>\n",
       "      <th>March 2025</th>\n",
       "      <td>324.460248</td>\n",
       "      <td>NaN</td>\n",
       "    </tr>\n",
       "  </tbody>\n",
       "</table>\n",
       "</div>"
      ],
      "text/plain": [
       "               indexValue isOverridden\n",
       "Month/Year                            \n",
       "November 2024  390.900000          NaN\n",
       "December 2024  392.100000          NaN\n",
       "January 2025   315.000000         True\n",
       "February 2025  315.000000         True\n",
       "March 2025     324.460248          NaN"
      ]
     },
     "execution_count": 4,
     "metadata": {},
     "output_type": "execute_result"
    }
   ],
   "source": [
    "cpis = curve_data['curves']['consumerPriceIndexCurvePoints']\n",
    "cpis_df = pd.DataFrame(cpis)\n",
    "cpis_df[\"Month/Year\"] = cpis_df['month'] + ' ' + cpis_df['year'].astype(str)\n",
    "del cpis_df['month'],cpis_df['year']\n",
    "cpis_df.set_index(\"Month/Year\", inplace = True)\n",
    "cpis_df.head(5) # remove .head(5) to get the entire dataframe"
   ]
  },
  {
   "cell_type": "markdown",
   "id": "154fc525",
   "metadata": {},
   "source": [
    "## 2. Configure more parameters\n",
    "\n",
    "Here, starting from the previous curve we configure more parameters for the inflation curve. In the results, one can see that the curves starts from December 2024 instead of October 2024, which is the result of setting look back month at 1 instead of the default one for AGBRPI which is 3\n",
    "\n",
    "### Data Preparation"
   ]
  },
  {
   "cell_type": "code",
   "execution_count": 5,
   "id": "f228220b",
   "metadata": {
    "execution": {
     "iopub.execute_input": "2025-09-18T09:09:11.043451Z",
     "iopub.status.busy": "2025-09-18T09:09:11.043023Z",
     "iopub.status.idle": "2025-09-18T09:09:11.046551Z",
     "shell.execute_reply": "2025-09-18T09:09:11.045776Z"
    }
   },
   "outputs": [],
   "source": [
    "curve_parameters.interpolation_mode = \"Step\" # Possible values: Step or Linear\n",
    "curve_parameters.look_back_month = 1 # Number of months to go back in historical CPIs\n",
    "curve_parameters.price_side = infc.CurvesAndSurfacesPriceSideEnum.BID # Bid, Ask or Mid"
   ]
  },
  {
   "cell_type": "markdown",
   "id": "e6784dc8",
   "metadata": {},
   "source": [
    "### Request Execution"
   ]
  },
  {
   "cell_type": "code",
   "execution_count": 6,
   "id": "5d89b703",
   "metadata": {
    "execution": {
     "iopub.execute_input": "2025-09-18T09:09:11.048446Z",
     "iopub.status.busy": "2025-09-18T09:09:11.048200Z",
     "iopub.status.idle": "2025-09-18T09:09:11.833577Z",
     "shell.execute_reply": "2025-09-18T09:09:11.832926Z"
    }
   },
   "outputs": [],
   "source": [
    "response = infc.calculate(universe=[request_item])\n",
    "curve_data = response['data'][0]"
   ]
  },
  {
   "cell_type": "markdown",
   "id": "c24056e4",
   "metadata": {},
   "source": [
    "### Results Display"
   ]
  },
  {
   "cell_type": "code",
   "execution_count": 7,
   "id": "b201ea39",
   "metadata": {
    "execution": {
     "iopub.execute_input": "2025-09-18T09:09:11.836382Z",
     "iopub.status.busy": "2025-09-18T09:09:11.835970Z",
     "iopub.status.idle": "2025-09-18T09:09:11.846559Z",
     "shell.execute_reply": "2025-09-18T09:09:11.846033Z"
    }
   },
   "outputs": [
    {
     "data": {
      "text/html": [
       "<div>\n",
       "<style scoped>\n",
       "    .dataframe tbody tr th:only-of-type {\n",
       "        vertical-align: middle;\n",
       "    }\n",
       "\n",
       "    .dataframe tbody tr th {\n",
       "        vertical-align: top;\n",
       "    }\n",
       "\n",
       "    .dataframe thead th {\n",
       "        text-align: right;\n",
       "    }\n",
       "</style>\n",
       "<table border=\"1\" class=\"dataframe\">\n",
       "  <thead>\n",
       "    <tr style=\"text-align: right;\">\n",
       "      <th></th>\n",
       "      <th>indexValue</th>\n",
       "      <th>isOverridden</th>\n",
       "    </tr>\n",
       "    <tr>\n",
       "      <th>Month/Year</th>\n",
       "      <th></th>\n",
       "      <th></th>\n",
       "    </tr>\n",
       "  </thead>\n",
       "  <tbody>\n",
       "    <tr>\n",
       "      <th>December 2024</th>\n",
       "      <td>392.100000</td>\n",
       "      <td>NaN</td>\n",
       "    </tr>\n",
       "    <tr>\n",
       "      <th>January 2025</th>\n",
       "      <td>315.000000</td>\n",
       "      <td>True</td>\n",
       "    </tr>\n",
       "    <tr>\n",
       "      <th>February 2025</th>\n",
       "      <td>315.000000</td>\n",
       "      <td>True</td>\n",
       "    </tr>\n",
       "    <tr>\n",
       "      <th>March 2025</th>\n",
       "      <td>323.583535</td>\n",
       "      <td>NaN</td>\n",
       "    </tr>\n",
       "    <tr>\n",
       "      <th>April 2025</th>\n",
       "      <td>335.096198</td>\n",
       "      <td>NaN</td>\n",
       "    </tr>\n",
       "  </tbody>\n",
       "</table>\n",
       "</div>"
      ],
      "text/plain": [
       "               indexValue isOverridden\n",
       "Month/Year                            \n",
       "December 2024  392.100000          NaN\n",
       "January 2025   315.000000         True\n",
       "February 2025  315.000000         True\n",
       "March 2025     323.583535          NaN\n",
       "April 2025     335.096198          NaN"
      ]
     },
     "execution_count": 7,
     "metadata": {},
     "output_type": "execute_result"
    }
   ],
   "source": [
    "cpis = curve_data['curves']['consumerPriceIndexCurvePoints']\n",
    "cpis_df = pd.DataFrame(cpis)\n",
    "cpis_df[\"Month/Year\"] = cpis_df['month'] + ' ' + cpis_df['year'].astype(str)\n",
    "del cpis_df['month'],cpis_df['year']\n",
    "cpis_df.set_index(\"Month/Year\", inplace = True)\n",
    "cpis_df.head(5) # remove .head(5) to get the entire dataframe"
   ]
  },
  {
   "cell_type": "code",
   "execution_count": null,
   "id": "31fa6b08",
   "metadata": {},
   "outputs": [],
   "source": []
  }
 ],
 "metadata": {
  "kernelspec": {
   "display_name": "base",
   "language": "python",
   "name": "python3"
  },
  "language_info": {
   "codemirror_mode": {
    "name": "ipython",
    "version": 3
   },
   "file_extension": ".py",
   "mimetype": "text/x-python",
   "name": "python",
   "nbconvert_exporter": "python",
   "pygments_lexer": "ipython3",
   "version": "3.11.6"
  }
 },
 "nbformat": 4,
 "nbformat_minor": 5
}
