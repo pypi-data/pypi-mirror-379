{
 "cells": [
  {
   "cell_type": "markdown",
   "id": "1a108871",
   "metadata": {
    "tags": []
   },
   "source": [
    "# Swaption Volatility Parametrisation"
   ]
  },
  {
   "cell_type": "markdown",
   "id": "3a4cef20",
   "metadata": {},
   "source": [
    "This notebook demonstrates how to access and use the functionalities of **Swaption Volatility Surfaces** within the **LSEG Financial Analytics SDK**. \n",
    "\n",
    "Swaption volatility surfaces provide implied volatility data across different strikes, maturities and expiries for Swaptions. This enables quantitative analysis, risk management, and derivatives pricing for interest rate markets.\n",
    "\n",
    "**You will be able to:**\n",
    "- Use advanced parametrisation of volatility models and cube structures\n"
   ]
  },
  {
   "cell_type": "markdown",
   "id": "7cd0ad84",
   "metadata": {},
   "source": [
    "## Imports"
   ]
  },
  {
   "cell_type": "markdown",
   "id": "37a963b7",
   "metadata": {
    "tags": []
   },
   "source": [
    "Import the following necessary modules:\n",
    "\n",
    "- `lseg_analytics.market_data.irswaption_volatility` - for Swaption volatility cube construction"
   ]
  },
  {
   "cell_type": "code",
   "execution_count": 1,
   "id": "fb2218f1",
   "metadata": {
    "execution": {
     "iopub.execute_input": "2025-09-18T09:10:55.343635Z",
     "iopub.status.busy": "2025-09-18T09:10:55.343267Z",
     "iopub.status.idle": "2025-09-18T09:10:56.231298Z",
     "shell.execute_reply": "2025-09-18T09:10:56.230733Z"
    },
    "tags": []
   },
   "outputs": [],
   "source": [
    "from lseg_analytics.market_data import irswaption_volatility  as sv\n",
    "\n",
    "import plotly.graph_objects as go\n",
    "import pandas as pd\n",
    "import datetime as dt\n",
    "import json\n",
    "from IPython.display import display"
   ]
  },
  {
   "cell_type": "markdown",
   "id": "b9c3dd46",
   "metadata": {
    "tags": []
   },
   "source": [
    "## Data Preparation"
   ]
  },
  {
   "cell_type": "markdown",
   "id": "99cc4078",
   "metadata": {},
   "source": [
    "Volatility cube preparation follows a structured 3-step process:\n",
    "\n",
    "**Prerequisites:** \n",
    "- Valid LSEG credentials and market data entitlements\n",
    "- Interest rate must have active swaption market with sufficient data\n",
    "\n",
    "**Process Overview:**\n",
    "1. **Cube Definition** - Specify the underlying currency, index name and index tenor\n",
    "2. **Cube Parameters** - Configure volatility model and calculation settings - optional\n",
    "3. **Request Creation** - Combine definition and parameters into a request object  \n",
    "\n",
    "Each step builds upon the previous, creating a complete request specification for the volatility cube engine. Note that we use here advanced parameters like the use of SABR model or volatility configuration."
   ]
  },
  {
   "cell_type": "code",
   "execution_count": 2,
   "id": "ec4cb539",
   "metadata": {
    "execution": {
     "iopub.execute_input": "2025-09-18T09:10:56.235566Z",
     "iopub.status.busy": "2025-09-18T09:10:56.233805Z",
     "iopub.status.idle": "2025-09-18T09:10:56.239569Z",
     "shell.execute_reply": "2025-09-18T09:10:56.239112Z"
    }
   },
   "outputs": [
    {
     "name": "stdout",
     "output_type": "stream",
     "text": [
      "Step 1: Creating Cube Definition...\n",
      "   Instrument: None\n"
     ]
    }
   ],
   "source": [
    "print(\"Step 1: Creating Cube Definition...\")\n",
    "# Select currency and reference rate for caplets\n",
    "currency = \"USD\"\n",
    "index_name = \"SOFR\"\n",
    "\n",
    "# Create surface definition object\n",
    "cube_definition = sv.VolatilityCubeDefinition(\n",
    "        instrument_code = currency,\n",
    "        index_name = index_name,\n",
    "        index_tenor  = \"ON\",\n",
    "  \n",
    "        # discounting_type = sv.DiscountingTypeEnum.OisDiscounting  # Options: LiborDiscounting, OisDiscounting\n",
    "        )\n",
    "print(f\"   Instrument: {cube_definition.underlying_swap_structure}\")"
   ]
  },
  {
   "cell_type": "code",
   "execution_count": 3,
   "id": "334ef4e9",
   "metadata": {
    "execution": {
     "iopub.execute_input": "2025-09-18T09:10:56.241703Z",
     "iopub.status.busy": "2025-09-18T09:10:56.241386Z",
     "iopub.status.idle": "2025-09-18T09:10:56.248874Z",
     "shell.execute_reply": "2025-09-18T09:10:56.248259Z"
    }
   },
   "outputs": [
    {
     "name": "stdout",
     "output_type": "stream",
     "text": [
      "Step 2: Advanced Cube Parameters Configuration...\n",
      "   Cube Parameters: {\n",
      "    \"calculationDate\": \"2025-01-18T00:00:00Z\",\n",
      "    \"beta\": 0.45,\n",
      "    \"inputVolatilityType\": \"NormalVolatility\",\n",
      "    \"outputVolatilityType\": \"NormalVolatility\",\n",
      "    \"includeCapletsVolatility\": true,\n",
      "    \"shiftPercent\": 1.0,\n",
      "    \"strippingShiftPercent\": 0.5,\n",
      "    \"source\": \"ICAP\",\n",
      "    \"xAxis\": \"Strike\",\n",
      "    \"yAxis\": \"Tenor\",\n",
      "    \"zAxis\": \"Expiry\"\n",
      "}\n"
     ]
    }
   ],
   "source": [
    "print(\"Step 2: Advanced Cube Parameters Configuration...\")\n",
    "\n",
    "# This section demonstrates how cube parameters can be configured for different market conditions\n",
    "\n",
    "cube_parameters = sv.VolatilityCubeSurfaceParameters(\n",
    "    calculation_date=dt.datetime(2025, 1, 18),\n",
    "    \n",
    "    # SABR Model Parameters\n",
    "    beta=0.45,                                    # SABR beta parameter (0-1, default 0.45), Controls volatility smile shape\n",
    "    \n",
    "    # Volatility Configuration\n",
    "    input_volatility_type=sv.InputVolatilityTypeEnum.NORMAL_VOLATILITY, #Options: LOG_NORMAL_VOLATILITY, NORMAL_VOLATILITY\n",
    "    output_volatility_type=sv.OutputVolatilityTypeEnum.NORMAL_VOLATILITY, #Options: same as above\n",
    "\n",
    "    # Volatility Sources\n",
    "    include_caplets_volatility=True,              # Use both swaptions and caplets\n",
    "    \n",
    "    # Negative Rates Handling\n",
    "    shift_percent=1.0,                            # 1% shift for negative rates support\n",
    "    stripping_shift_percent=0.5,                 # Additional shift for caplet stripping\n",
    "\n",
    "    # Market Data Sources\n",
    "    source=\"ICAP\",                           # Specific volatility source\n",
    "    \n",
    "    # Surface Layout\n",
    "    x_axis=sv.XAxisEnum.STRIKE,\n",
    "    y_axis=sv.YAxisEnum.TENOR, \n",
    "    z_axis=sv.ZAxisEnum.EXPIRY\n",
    ")\n",
    "print(f\"   Cube Parameters: {json.dumps(cube_parameters.as_dict(), indent=4)}\")"
   ]
  },
  {
   "cell_type": "code",
   "execution_count": 4,
   "id": "d522c22b",
   "metadata": {
    "execution": {
     "iopub.execute_input": "2025-09-18T09:10:56.250912Z",
     "iopub.status.busy": "2025-09-18T09:10:56.250594Z",
     "iopub.status.idle": "2025-09-18T09:10:56.255921Z",
     "shell.execute_reply": "2025-09-18T09:10:56.255413Z"
    }
   },
   "outputs": [
    {
     "name": "stdout",
     "output_type": "stream",
     "text": [
      "Step 3: Create request item...\n",
      "   Request Item: {\n",
      "    \"surfaceTag\": \"USD_SOFR_Swaption_volatility_cube\",\n",
      "    \"underlyingDefinition\": {\n",
      "        \"instrumentCode\": \"USD\",\n",
      "        \"indexName\": \"SOFR\",\n",
      "        \"indexTenor\": \"ON\"\n",
      "    },\n",
      "    \"underlyingType\": \"Swaption\",\n",
      "    \"surfaceParameters\": {\n",
      "        \"calculationDate\": \"2025-01-18T00:00:00Z\",\n",
      "        \"beta\": 0.45,\n",
      "        \"inputVolatilityType\": \"NormalVolatility\",\n",
      "        \"outputVolatilityType\": \"NormalVolatility\",\n",
      "        \"includeCapletsVolatility\": true,\n",
      "        \"shiftPercent\": 1.0,\n",
      "        \"strippingShiftPercent\": 0.5,\n",
      "        \"source\": \"ICAP\",\n",
      "        \"xAxis\": \"Strike\",\n",
      "        \"yAxis\": \"Tenor\",\n",
      "        \"zAxis\": \"Expiry\"\n",
      "    },\n",
      "    \"surfaceLayout\": {\n",
      "        \"format\": \"List\"\n",
      "    }\n",
      "}\n"
     ]
    }
   ],
   "source": [
    "print(\"Step 3: Create request item...\")\n",
    "# Create the main request object with basic configuration\n",
    "request_item = sv.VolatilityCubeSurfaceRequestItem(\n",
    "        surface_tag = f\"{currency}_{index_name}_Swaption_volatility_cube\",\n",
    "        underlying_definition = cube_definition,\n",
    "        underlying_type = sv.CurvesAndSurfacesUnderlyingTypeEnum.Swaption,\n",
    "        surface_parameters=cube_parameters,\n",
    "        surface_layout = sv.SurfaceOutput(\n",
    "            format = sv.FormatEnum.LIST,  # Options: LIST, MATRIX, NDIMENSIONAL_ARRAY\n",
    "        )\n",
    "    )\n",
    "print(f\"   Request Item: {json.dumps(request_item.as_dict(), indent=4)}\")"
   ]
  },
  {
   "cell_type": "markdown",
   "id": "b147a529",
   "metadata": {},
   "source": [
    "## Request Execution"
   ]
  },
  {
   "cell_type": "code",
   "execution_count": 5,
   "id": "b806d22a",
   "metadata": {
    "execution": {
     "iopub.execute_input": "2025-09-18T09:10:56.258412Z",
     "iopub.status.busy": "2025-09-18T09:10:56.257993Z",
     "iopub.status.idle": "2025-09-18T09:10:58.109956Z",
     "shell.execute_reply": "2025-09-18T09:10:58.109366Z"
    },
    "tags": []
   },
   "outputs": [
    {
     "name": "stdout",
     "output_type": "stream",
     "text": [
      "   Calculation successful!\n",
      "   Cube data points available: 2464\n"
     ]
    }
   ],
   "source": [
    "# Execute the calculation using the calculate function\n",
    "# The 'universe' parameter accepts a list of request items for batch processing\n",
    "try:\n",
    "    response = sv.calculate(universe=[request_item])\n",
    "\n",
    "    # Display response structure information\n",
    "    surface_data = response['data'][0]\n",
    "    if 'surface' in surface_data:\n",
    "        print(f\"   Calculation successful!\")\n",
    "        print(f\"   Cube data points available: {len(surface_data['surface'])}\")\n",
    "    else:\n",
    "        print(\"   No cube data found in response\")\n",
    "    \n",
    "except Exception as e:\n",
    "    print(f\"   Calculation failed: {str(e)}\")\n",
    "    raise"
   ]
  },
  {
   "cell_type": "markdown",
   "id": "36c4886d",
   "metadata": {},
   "source": [
    "## Results Display"
   ]
  },
  {
   "cell_type": "markdown",
   "id": "77bfda46",
   "metadata": {},
   "source": [
    "Once the volatility cube calculation is complete, we can visualize the results using multiple chart types to gain different insights:\n",
    "\n",
    "**Visualization Options:**\n",
    "\n",
    "- **3D Surface Plot** - Interactive 3D visualization of the complete volatility surface on a swap tenor slice\n",
    "- **Volatility Smiles** - Traditional 2D plots showing volatility curves by expiration\n",
    "\n",
    "The plotting functions automatically convert the API response into pandas DataFrames and generate interactive Plotly visualizations."
   ]
  },
  {
   "cell_type": "code",
   "execution_count": 6,
   "id": "099c5916",
   "metadata": {
    "execution": {
     "iopub.execute_input": "2025-09-18T09:10:58.112388Z",
     "iopub.status.busy": "2025-09-18T09:10:58.112019Z",
     "iopub.status.idle": "2025-09-18T09:10:58.123425Z",
     "shell.execute_reply": "2025-09-18T09:10:58.122847Z"
    }
   },
   "outputs": [],
   "source": [
    "# Plotting utils\n",
    "\n",
    "def prepare_volatility_surface_from_list(surface_data, slice_by = 'Expiry', slice_target = '1M', x_axis = 'Relative Strike (%)', y_axis = 'SwapTenor', point_value = 'Normal Vol (bp)'):\n",
    "    \"\"\"\n",
    "    Prepare the volatility surface DataFrame from the provided surface data.\n",
    "    \"\"\"\n",
    "\n",
    "    def sort_tenor_index(tenor_list):\n",
    "        \"\"\"Sort tenors in proper chronological order (months first, then years)\"\"\"\n",
    "        def tenor_to_months(tenor):\n",
    "            if 'M' in tenor:\n",
    "                return int(tenor.replace('M', ''))\n",
    "            elif 'Y' in tenor:\n",
    "                return int(tenor.replace('Y', '')) * 12\n",
    "            else:\n",
    "                return float('inf')  # Put unknown formats at the end\n",
    "        \n",
    "        return sorted(tenor_list, key=tenor_to_months)\n",
    "\n",
    "\n",
    "    vol_cube_points_df = pd.DataFrame(surface_data['surface'], columns = surface_data['headers'])\n",
    "\n",
    "    surface_slice_df = vol_cube_points_df[vol_cube_points_df[slice_by] == slice_target]\n",
    "\n",
    "    # Convert the filtered slice into a pivot table with the desired structure\n",
    "    surface_slice_df = surface_slice_df.pivot(index=y_axis, columns=x_axis, values=point_value)\n",
    "\n",
    "    # Sort columns first (x_axis values) - convert to float and sort ascending\n",
    "    surface_slice_df.columns = surface_slice_df.columns.astype(float)\n",
    "    surface_slice_df = surface_slice_df.sort_index(axis=1)  # Sort columns\n",
    "\n",
    "    # Then sort the index (y_axis values) properly using tenor sorting logic\n",
    "    sorted_index = sort_tenor_index(surface_slice_df.index.tolist())\n",
    "    surface_slice_df = surface_slice_df.reindex(sorted_index)\n",
    "\n",
    "    # Convert point values to float and round to 2 decimal places\n",
    "    surface_slice_df = surface_slice_df.astype(float).round(2)\n",
    "\n",
    "    surface_slice_df.index.name = f'{slice_by} = {slice_target}'\n",
    "\n",
    "    return surface_slice_df\n",
    "\n",
    "\n",
    "def plot_volatility_surface_plot(surf_table, x_axis, y_axis, colorscale=\"Turbo\"):\n",
    "    \"\"\"\n",
    "    Create an interactive 3D surface plot of the volatility surface with contour lines.\n",
    "    \n",
    "    This function generates a three-dimensional visualization where the x-axis represents\n",
    "    moneyness/strikes, y-axis represents expiries, and z-axis represents volatility values.\n",
    "    Contour lines are added for better depth perception.\n",
    "\n",
    "    Parameters\n",
    "    ----------\n",
    "    surf_table : pd.DataFrame\n",
    "        A DataFrame representing the volatility surface with expiries as index\n",
    "        and strike prices/moneyness as columns. Values should be volatility levels.\n",
    "    colorscale : str or list, optional\n",
    "        Plotly colorscale name (e.g., 'Viridis', 'Turbo', 'Plasma') or custom colorscale list.\n",
    "        Default is \"Turbo\".\n",
    "\n",
    "    Returns\n",
    "    -------\n",
    "    plotly.graph_objects.Figure\n",
    "  \n",
    "    \"\"\"\n",
    "    if len(surf_table) < 2:\n",
    "        fig = go.Figure()\n",
    "        fig.add_annotation(\n",
    "            text=\"Not enough data to display 3D surface\",\n",
    "            xref=\"paper\", yref=\"paper\",\n",
    "            x=0.5, y=0.5,\n",
    "            showarrow=False,\n",
    "            font=dict(size=18),\n",
    "            align=\"center\"\n",
    "        )\n",
    "        fig.update_layout(\n",
    "            title=dict(\n",
    "                text=\"3D Surface Plot of Volatility Surface\",\n",
    "                x=0.5,\n",
    "                xanchor=\"center\",\n",
    "                yanchor=\"top\",\n",
    "                y=0.95,\n",
    "                font=dict(size=16)\n",
    "            ),\n",
    "            autosize=True,\n",
    "            height=450,\n",
    "            margin={\"l\": 0, \"r\": 0, \"b\": 0, \"t\": 50},\n",
    "            dragmode=False,\n",
    "        )\n",
    "        return fig\n",
    "\n",
    "    x = surf_table.columns\n",
    "    y = surf_table.index\n",
    "    z = surf_table.values\n",
    "\n",
    "    fig = go.Figure(data=[go.Surface(\n",
    "        z=z, \n",
    "        x=x, \n",
    "        y=y, \n",
    "        colorscale=colorscale,\n",
    "        showscale=False,\n",
    "        contours={\n",
    "            \"y\": {\n",
    "                \"show\": True,\n",
    "                \"color\": \"black\",\n",
    "                \"highlightcolor\": \"black\",\n",
    "                \"size\": 0.05\n",
    "            },\n",
    "            \"z\": {\n",
    "                \"show\": True,\n",
    "                \"color\": \"black\",\n",
    "                \"highlightcolor\": \"black\",\n",
    "                \"size\": 0.05\n",
    "            }\n",
    "        }\n",
    "    )])\n",
    "\n",
    "    fig.update_layout(\n",
    "        title=dict(\n",
    "            text=\"3D Surface Plot of Volatility Surface\",\n",
    "            x=0.5,\n",
    "            xanchor=\"center\",\n",
    "            yanchor=\"top\",\n",
    "            y=0.95,\n",
    "            font=dict(size=16)\n",
    "        ),\n",
    "        scene={\n",
    "            \"xaxis_title\": x_axis,\n",
    "            \"yaxis_title\": y_axis,\n",
    "            \"zaxis_title\": \"Volatility\",\n",
    "            \"xaxis\": {\"showgrid\": True},\n",
    "            \"yaxis\": {\"showgrid\": True},\n",
    "            \"zaxis\": {\"showgrid\": True},\n",
    "            \"camera\": {\n",
    "                \"eye\": {\"x\": 0.96, \"y\": -1.53, \"z\": 0.39},\n",
    "                \"center\": {\"x\": 0.02, \"y\": -0.07, \"z\": -0.21},\n",
    "                \"up\": {\"x\": -0.18, \"y\": 0.27, \"z\": 0.95},\n",
    "                \"projection\": {\"type\": \"perspective\"}\n",
    "            }\n",
    "        },\n",
    "        dragmode=False,\n",
    "        autosize=True,\n",
    "        height=450,\n",
    "        width=800,\n",
    "    )\n",
    "\n",
    "    return fig\n",
    "\n",
    "def plot_surface_smile_by_expiry(surf_table, x_axis, y_axis):\n",
    "    \"\"\"\n",
    "    Create a 2D line plot showing volatility smiles for different expiry dates.\n",
    "    \n",
    "    This function plots multiple volatility smile curves, with each curve representing\n",
    "    a different expiry date. The x-axis shows moneyness/strikes and the y-axis shows\n",
    "    volatility levels.\n",
    "\n",
    "    Parameters\n",
    "    ----------\n",
    "    surf_table : pd.DataFrame\n",
    "        A DataFrame with expiries as index and strike prices/moneyness as columns.\n",
    "        Values should be volatility levels for each expiry-strike combination.\n",
    "\n",
    "    Returns\n",
    "    -------\n",
    "    plotly.graph_objects.Figure\n",
    "        Interactive line plot with each expiry represented as a separate trace.\n",
    "        \n",
    "    \"\"\"\n",
    "    fig = go.Figure()\n",
    "\n",
    "    for expiry in surf_table.index:\n",
    "        fig.add_trace(go.Scatter(\n",
    "            x=surf_table.columns.astype(float),\n",
    "            y=surf_table.loc[expiry],\n",
    "            mode='lines+markers',\n",
    "            name=expiry\n",
    "        ))\n",
    "\n",
    "    fig.update_layout(\n",
    "        title=dict(\n",
    "            text='Surface Smile by Expiry',\n",
    "            x=0.5,\n",
    "            xanchor=\"center\",\n",
    "            yanchor=\"top\",\n",
    "            y=0.95,\n",
    "            font=dict(size=16)\n",
    "        ),\n",
    "        xaxis_title=x_axis,\n",
    "        yaxis_title='Volatility',\n",
    "        legend_title=y_axis,\n",
    "        template='plotly_white',\n",
    "        dragmode=False,\n",
    "        autosize=True,\n",
    "        height=450,\n",
    "        width=800,\n",
    "    )\n",
    "\n",
    "    return fig"
   ]
  },
  {
   "cell_type": "markdown",
   "id": "4ff8a4f1",
   "metadata": {},
   "source": [
    "### 3D Surface Plot\n",
    "\n",
    "An interactive 3D visualization allows you to explore the volatility surface from different angles and understand the relationship between strikes, expiries, and volatility levels."
   ]
  },
  {
   "cell_type": "code",
   "execution_count": 7,
   "id": "5a26ff23",
   "metadata": {
    "execution": {
     "iopub.execute_input": "2025-09-18T09:10:58.125527Z",
     "iopub.status.busy": "2025-09-18T09:10:58.125275Z",
     "iopub.status.idle": "2025-09-18T09:10:58.132393Z",
     "shell.execute_reply": "2025-09-18T09:10:58.131813Z"
    }
   },
   "outputs": [
    {
     "data": {
      "text/plain": [
       "array(['1Y', '2Y', '3Y', '4Y', '5Y', '6Y', '7Y', '8Y', '9Y', '10Y', '15Y',\n",
       "       '20Y', '25Y', '30Y'], dtype=object)"
      ]
     },
     "metadata": {},
     "output_type": "display_data"
    }
   ],
   "source": [
    "# In this plotting example, we will demonstrate how Swaption Volatility Cube can be visualized slice by slice.\n",
    "\n",
    "# Setup input parameters for slicing the Volatility Cube\n",
    "slice_by = 'SwapTenor'\n",
    "point_value = 'Normal Vol (bp)'\n",
    "x_axis = 'Relative Strike (%)'\n",
    "y_axis = 'Expiry'\n",
    "\n",
    "vol_cube_points_df = pd.DataFrame(surface_data['surface'], columns = surface_data['headers'])\n",
    "display(vol_cube_points_df[slice_by].unique())"
   ]
  },
  {
   "cell_type": "code",
   "execution_count": 8,
   "id": "6af2cf29",
   "metadata": {
    "execution": {
     "iopub.execute_input": "2025-09-18T09:10:58.134487Z",
     "iopub.status.busy": "2025-09-18T09:10:58.134170Z",
     "iopub.status.idle": "2025-09-18T09:10:58.141910Z",
     "shell.execute_reply": "2025-09-18T09:10:58.141387Z"
    }
   },
   "outputs": [],
   "source": [
    "slice_target = '2Y' #get surface for 2Y swap\n",
    "\n",
    "surface_df = prepare_volatility_surface_from_list(surface_data, slice_by = slice_by, slice_target = slice_target, x_axis=x_axis, y_axis=y_axis, point_value=point_value)"
   ]
  },
  {
   "cell_type": "code",
   "execution_count": 9,
   "id": "9c5bb2e0",
   "metadata": {
    "execution": {
     "iopub.execute_input": "2025-09-18T09:10:58.144496Z",
     "iopub.status.busy": "2025-09-18T09:10:58.144112Z",
     "iopub.status.idle": "2025-09-18T09:10:58.460897Z",
     "shell.execute_reply": "2025-09-18T09:10:58.460289Z"
    }
   },
   "outputs": [
    {
     "data": {
      "application/vnd.plotly.v1+json": {
       "config": {
        "plotlyServerURL": "https://plot.ly"
       },
       "data": [
        {
         "colorscale": [
          [
           0.0,
           "#30123b"
          ],
          [
           0.07142857142857142,
           "#4145ab"
          ],
          [
           0.14285714285714285,
           "#4675ed"
          ],
          [
           0.21428571428571427,
           "#39a2fc"
          ],
          [
           0.2857142857142857,
           "#1bcfd4"
          ],
          [
           0.35714285714285715,
           "#24eca6"
          ],
          [
           0.42857142857142855,
           "#61fc6c"
          ],
          [
           0.5,
           "#a4fc3b"
          ],
          [
           0.5714285714285714,
           "#d1e834"
          ],
          [
           0.6428571428571429,
           "#f3c63a"
          ],
          [
           0.7142857142857143,
           "#fe9b2d"
          ],
          [
           0.7857142857142857,
           "#f36315"
          ],
          [
           0.8571428571428571,
           "#d93806"
          ],
          [
           0.9285714285714286,
           "#b11901"
          ],
          [
           1.0,
           "#7a0402"
          ]
         ],
         "contours": {
          "y": {
           "color": "black",
           "highlightcolor": "black",
           "show": true,
           "size": 0.05
          },
          "z": {
           "color": "black",
           "highlightcolor": "black",
           "show": true,
           "size": 0.05
          }
         },
         "showscale": false,
         "type": "surface",
         "x": {
          "bdata": "AAAAAAAAAMAAAAAAAAD4vwAAAAAAAPC/AAAAAAAA4L8AAAAAAADQvwAAAAAAAAAAAAAAAAAA0D8AAAAAAADgPwAAAAAAAPA/AAAAAAAA+D8AAAAAAAAAQA==",
          "dtype": "f8"
         },
         "y": [
          "1M",
          "3M",
          "6M",
          "9M",
          "1Y",
          "18M",
          "2Y",
          "3Y",
          "4Y",
          "5Y",
          "7Y",
          "10Y",
          "15Y",
          "20Y",
          "25Y",
          "30Y"
         ],
         "z": {
          "bdata": "ZmZmZmZWY0D2KFyPwk1hQArXo3A9al5AhetRuB5lWkApXI/C9bhYQJqZmZmZmVdAUrgehetRV0AUrkfhevRXQPYoXI/CBVtAcT0K16MQX0D2KFyPwq1hQOF6FK5HwWRAw/UoXI+aYkBSuB6F62FgQEjhehSud1xApHA9CtejWkCamZmZmVlZQEjhehSu51hACtejcD1qWUA9CtejcG1cQLgehetRSGBAKVyPwvWAYkCF61G4Hs1lQB+F61G4lmNAMzMzMzNLYUAK16NwPRpeQBSuR+F6JFxAzczMzMysWkBSuB6F6wFaQD0K16NwTVpArkfhehQOXUD2KFyPwo1gQD0K16NwxWJAKVyPwvU4ZkAAAAAAABBkQHsUrkfh0mFAhetRuB5FX0BI4XoUrlddQJqZmZmZ2VtAcT0K16MQW0ApXI/C9ShbQAAAAAAAgF1Aw/UoXI+iYEApXI/C9cBiQLgehetRAGRAZmZmZmZeYkAAAAAAALhgQFyPwvUoXF5AUrgehesRXUCamZmZmRlcQDMzMzMzk1tAFK5H4XqUW0C4HoXrUQhdQPYoXI/CtV9ASOF6FK53YUAzMzMzM/NeQNejcD0KB15Aj8L1KFwvXUDD9Shcj4JcQBSuR+F6RFxAmpmZmZkZXED2KFyPwgVcQJqZmZmZCVxArkfhehReXEDD9ShcjxJdQGZmZmZmFl5AFK5H4XqEW0D2KFyPwnVbQPYoXI/CdVtACtejcD2KW0CuR+F6FJ5bQJqZmZmZuVtAXI/C9SjcW0DXo3A9CgdcQBSuR+F6dFxA4XoUrkcBXUAK16NwPapdQGZmZmZmVl1ACtejcD0qXEDD9Shcj0JbQMP1KFyP0lpAuB6F61HYWkDNzMzMzAxbQAAAAAAAcFtAj8L1KFz/W0DsUbgehYtdQAAAAAAAgF9AmpmZmZnZYEBmZmZmZjZZQK5H4XoUTllApHA9CteDWUCuR+F6FN5ZQJqZmZmZGVpAAAAAAABgWkAAAAAAALBaQJqZmZmZCVtASOF6FK7XW0CF61G4HsVcQOxRuB6Fy11AuB6F61E4WUCuR+F6FO5YQHsUrkfh2lhAcT0K16MQWUB7FK5H4UpZQJqZmZmZmVlAzczMzMz8WUAzMzMzM3NaQFK4HoXrkVtAhetRuB7lXEA9CtejcF1eQK5H4XoUfldASOF6FK53V0AAAAAAAKBXQI/C9Shc/1dAhetRuB5FWECamZmZmZlYQFyPwvUo/FhAXI/C9ShsWUA9CtejcG1aQBSuR+F6lFtASOF6FK7XXEBSuB6F66FVQPYoXI/C1VVA7FG4HoUrVkBmZmZmZqZWQFK4HoXr8VZAZmZmZmZGV0CkcD0K16NXQClcj8L1CFhAmpmZmZnpWEBSuB6F6+FZQM3MzMzM7FpAuB6F61HYU0BI4XoUrvdTQLgehetROFRAj8L1KFyfVEDhehSuR+FUQM3MzMzMLFVA4XoUrkeBVUAfhetRuN5VQAAAAAAAsFZAmpmZmZmZV0DXo3A9CpdYQB+F61G4TlJAcT0K16NAUkDNzMzMzFxSQK5H4XoUrlJAzczMzMzsUkCamZmZmTlTQBSuR+F6lFNA7FG4HoX7U0CamZmZmelUQLgehetR+FVAH4XrUbgeV0A9CtejcH1SQGZmZmZmZlJAuB6F61FoUkBSuB6F65FSQClcj8L1uFJAzczMzMzsUkA9CtejcC1TQHsUrkfhelNASOF6FK43VEB7FK5H4RpVQHsUrkfhGlZAXI/C9ShcUkBxPQrXo0BSQK5H4XoULlJAuB6F61E4UkDNzMzMzExSQM3MzMzMbFJAmpmZmZmZUkCkcD0K19NSQD0K16NwbVNApHA9CtczVEBcj8L1KBxVQA==",
          "dtype": "f8",
          "shape": "16, 11"
         }
        }
       ],
       "layout": {
        "autosize": true,
        "dragmode": false,
        "height": 450,
        "scene": {
         "camera": {
          "center": {
           "x": 0.02,
           "y": -0.07,
           "z": -0.21
          },
          "eye": {
           "x": 0.96,
           "y": -1.53,
           "z": 0.39
          },
          "projection": {
           "type": "perspective"
          },
          "up": {
           "x": -0.18,
           "y": 0.27,
           "z": 0.95
          }
         },
         "xaxis": {
          "showgrid": true,
          "title": {
           "text": "Relative Strike (%)"
          }
         },
         "yaxis": {
          "showgrid": true,
          "title": {
           "text": "Expiry"
          }
         },
         "zaxis": {
          "showgrid": true,
          "title": {
           "text": "Volatility"
          }
         }
        },
        "template": {
         "data": {
          "bar": [
           {
            "error_x": {
             "color": "#2a3f5f"
            },
            "error_y": {
             "color": "#2a3f5f"
            },
            "marker": {
             "line": {
              "color": "#E5ECF6",
              "width": 0.5
             },
             "pattern": {
              "fillmode": "overlay",
              "size": 10,
              "solidity": 0.2
             }
            },
            "type": "bar"
           }
          ],
          "barpolar": [
           {
            "marker": {
             "line": {
              "color": "#E5ECF6",
              "width": 0.5
             },
             "pattern": {
              "fillmode": "overlay",
              "size": 10,
              "solidity": 0.2
             }
            },
            "type": "barpolar"
           }
          ],
          "carpet": [
           {
            "aaxis": {
             "endlinecolor": "#2a3f5f",
             "gridcolor": "white",
             "linecolor": "white",
             "minorgridcolor": "white",
             "startlinecolor": "#2a3f5f"
            },
            "baxis": {
             "endlinecolor": "#2a3f5f",
             "gridcolor": "white",
             "linecolor": "white",
             "minorgridcolor": "white",
             "startlinecolor": "#2a3f5f"
            },
            "type": "carpet"
           }
          ],
          "choropleth": [
           {
            "colorbar": {
             "outlinewidth": 0,
             "ticks": ""
            },
            "type": "choropleth"
           }
          ],
          "contour": [
           {
            "colorbar": {
             "outlinewidth": 0,
             "ticks": ""
            },
            "colorscale": [
             [
              0.0,
              "#0d0887"
             ],
             [
              0.1111111111111111,
              "#46039f"
             ],
             [
              0.2222222222222222,
              "#7201a8"
             ],
             [
              0.3333333333333333,
              "#9c179e"
             ],
             [
              0.4444444444444444,
              "#bd3786"
             ],
             [
              0.5555555555555556,
              "#d8576b"
             ],
             [
              0.6666666666666666,
              "#ed7953"
             ],
             [
              0.7777777777777778,
              "#fb9f3a"
             ],
             [
              0.8888888888888888,
              "#fdca26"
             ],
             [
              1.0,
              "#f0f921"
             ]
            ],
            "type": "contour"
           }
          ],
          "contourcarpet": [
           {
            "colorbar": {
             "outlinewidth": 0,
             "ticks": ""
            },
            "type": "contourcarpet"
           }
          ],
          "heatmap": [
           {
            "colorbar": {
             "outlinewidth": 0,
             "ticks": ""
            },
            "colorscale": [
             [
              0.0,
              "#0d0887"
             ],
             [
              0.1111111111111111,
              "#46039f"
             ],
             [
              0.2222222222222222,
              "#7201a8"
             ],
             [
              0.3333333333333333,
              "#9c179e"
             ],
             [
              0.4444444444444444,
              "#bd3786"
             ],
             [
              0.5555555555555556,
              "#d8576b"
             ],
             [
              0.6666666666666666,
              "#ed7953"
             ],
             [
              0.7777777777777778,
              "#fb9f3a"
             ],
             [
              0.8888888888888888,
              "#fdca26"
             ],
             [
              1.0,
              "#f0f921"
             ]
            ],
            "type": "heatmap"
           }
          ],
          "histogram": [
           {
            "marker": {
             "pattern": {
              "fillmode": "overlay",
              "size": 10,
              "solidity": 0.2
             }
            },
            "type": "histogram"
           }
          ],
          "histogram2d": [
           {
            "colorbar": {
             "outlinewidth": 0,
             "ticks": ""
            },
            "colorscale": [
             [
              0.0,
              "#0d0887"
             ],
             [
              0.1111111111111111,
              "#46039f"
             ],
             [
              0.2222222222222222,
              "#7201a8"
             ],
             [
              0.3333333333333333,
              "#9c179e"
             ],
             [
              0.4444444444444444,
              "#bd3786"
             ],
             [
              0.5555555555555556,
              "#d8576b"
             ],
             [
              0.6666666666666666,
              "#ed7953"
             ],
             [
              0.7777777777777778,
              "#fb9f3a"
             ],
             [
              0.8888888888888888,
              "#fdca26"
             ],
             [
              1.0,
              "#f0f921"
             ]
            ],
            "type": "histogram2d"
           }
          ],
          "histogram2dcontour": [
           {
            "colorbar": {
             "outlinewidth": 0,
             "ticks": ""
            },
            "colorscale": [
             [
              0.0,
              "#0d0887"
             ],
             [
              0.1111111111111111,
              "#46039f"
             ],
             [
              0.2222222222222222,
              "#7201a8"
             ],
             [
              0.3333333333333333,
              "#9c179e"
             ],
             [
              0.4444444444444444,
              "#bd3786"
             ],
             [
              0.5555555555555556,
              "#d8576b"
             ],
             [
              0.6666666666666666,
              "#ed7953"
             ],
             [
              0.7777777777777778,
              "#fb9f3a"
             ],
             [
              0.8888888888888888,
              "#fdca26"
             ],
             [
              1.0,
              "#f0f921"
             ]
            ],
            "type": "histogram2dcontour"
           }
          ],
          "mesh3d": [
           {
            "colorbar": {
             "outlinewidth": 0,
             "ticks": ""
            },
            "type": "mesh3d"
           }
          ],
          "parcoords": [
           {
            "line": {
             "colorbar": {
              "outlinewidth": 0,
              "ticks": ""
             }
            },
            "type": "parcoords"
           }
          ],
          "pie": [
           {
            "automargin": true,
            "type": "pie"
           }
          ],
          "scatter": [
           {
            "fillpattern": {
             "fillmode": "overlay",
             "size": 10,
             "solidity": 0.2
            },
            "type": "scatter"
           }
          ],
          "scatter3d": [
           {
            "line": {
             "colorbar": {
              "outlinewidth": 0,
              "ticks": ""
             }
            },
            "marker": {
             "colorbar": {
              "outlinewidth": 0,
              "ticks": ""
             }
            },
            "type": "scatter3d"
           }
          ],
          "scattercarpet": [
           {
            "marker": {
             "colorbar": {
              "outlinewidth": 0,
              "ticks": ""
             }
            },
            "type": "scattercarpet"
           }
          ],
          "scattergeo": [
           {
            "marker": {
             "colorbar": {
              "outlinewidth": 0,
              "ticks": ""
             }
            },
            "type": "scattergeo"
           }
          ],
          "scattergl": [
           {
            "marker": {
             "colorbar": {
              "outlinewidth": 0,
              "ticks": ""
             }
            },
            "type": "scattergl"
           }
          ],
          "scattermap": [
           {
            "marker": {
             "colorbar": {
              "outlinewidth": 0,
              "ticks": ""
             }
            },
            "type": "scattermap"
           }
          ],
          "scattermapbox": [
           {
            "marker": {
             "colorbar": {
              "outlinewidth": 0,
              "ticks": ""
             }
            },
            "type": "scattermapbox"
           }
          ],
          "scatterpolar": [
           {
            "marker": {
             "colorbar": {
              "outlinewidth": 0,
              "ticks": ""
             }
            },
            "type": "scatterpolar"
           }
          ],
          "scatterpolargl": [
           {
            "marker": {
             "colorbar": {
              "outlinewidth": 0,
              "ticks": ""
             }
            },
            "type": "scatterpolargl"
           }
          ],
          "scatterternary": [
           {
            "marker": {
             "colorbar": {
              "outlinewidth": 0,
              "ticks": ""
             }
            },
            "type": "scatterternary"
           }
          ],
          "surface": [
           {
            "colorbar": {
             "outlinewidth": 0,
             "ticks": ""
            },
            "colorscale": [
             [
              0.0,
              "#0d0887"
             ],
             [
              0.1111111111111111,
              "#46039f"
             ],
             [
              0.2222222222222222,
              "#7201a8"
             ],
             [
              0.3333333333333333,
              "#9c179e"
             ],
             [
              0.4444444444444444,
              "#bd3786"
             ],
             [
              0.5555555555555556,
              "#d8576b"
             ],
             [
              0.6666666666666666,
              "#ed7953"
             ],
             [
              0.7777777777777778,
              "#fb9f3a"
             ],
             [
              0.8888888888888888,
              "#fdca26"
             ],
             [
              1.0,
              "#f0f921"
             ]
            ],
            "type": "surface"
           }
          ],
          "table": [
           {
            "cells": {
             "fill": {
              "color": "#EBF0F8"
             },
             "line": {
              "color": "white"
             }
            },
            "header": {
             "fill": {
              "color": "#C8D4E3"
             },
             "line": {
              "color": "white"
             }
            },
            "type": "table"
           }
          ]
         },
         "layout": {
          "annotationdefaults": {
           "arrowcolor": "#2a3f5f",
           "arrowhead": 0,
           "arrowwidth": 1
          },
          "autotypenumbers": "strict",
          "coloraxis": {
           "colorbar": {
            "outlinewidth": 0,
            "ticks": ""
           }
          },
          "colorscale": {
           "diverging": [
            [
             0,
             "#8e0152"
            ],
            [
             0.1,
             "#c51b7d"
            ],
            [
             0.2,
             "#de77ae"
            ],
            [
             0.3,
             "#f1b6da"
            ],
            [
             0.4,
             "#fde0ef"
            ],
            [
             0.5,
             "#f7f7f7"
            ],
            [
             0.6,
             "#e6f5d0"
            ],
            [
             0.7,
             "#b8e186"
            ],
            [
             0.8,
             "#7fbc41"
            ],
            [
             0.9,
             "#4d9221"
            ],
            [
             1,
             "#276419"
            ]
           ],
           "sequential": [
            [
             0.0,
             "#0d0887"
            ],
            [
             0.1111111111111111,
             "#46039f"
            ],
            [
             0.2222222222222222,
             "#7201a8"
            ],
            [
             0.3333333333333333,
             "#9c179e"
            ],
            [
             0.4444444444444444,
             "#bd3786"
            ],
            [
             0.5555555555555556,
             "#d8576b"
            ],
            [
             0.6666666666666666,
             "#ed7953"
            ],
            [
             0.7777777777777778,
             "#fb9f3a"
            ],
            [
             0.8888888888888888,
             "#fdca26"
            ],
            [
             1.0,
             "#f0f921"
            ]
           ],
           "sequentialminus": [
            [
             0.0,
             "#0d0887"
            ],
            [
             0.1111111111111111,
             "#46039f"
            ],
            [
             0.2222222222222222,
             "#7201a8"
            ],
            [
             0.3333333333333333,
             "#9c179e"
            ],
            [
             0.4444444444444444,
             "#bd3786"
            ],
            [
             0.5555555555555556,
             "#d8576b"
            ],
            [
             0.6666666666666666,
             "#ed7953"
            ],
            [
             0.7777777777777778,
             "#fb9f3a"
            ],
            [
             0.8888888888888888,
             "#fdca26"
            ],
            [
             1.0,
             "#f0f921"
            ]
           ]
          },
          "colorway": [
           "#636efa",
           "#EF553B",
           "#00cc96",
           "#ab63fa",
           "#FFA15A",
           "#19d3f3",
           "#FF6692",
           "#B6E880",
           "#FF97FF",
           "#FECB52"
          ],
          "font": {
           "color": "#2a3f5f"
          },
          "geo": {
           "bgcolor": "white",
           "lakecolor": "white",
           "landcolor": "#E5ECF6",
           "showlakes": true,
           "showland": true,
           "subunitcolor": "white"
          },
          "hoverlabel": {
           "align": "left"
          },
          "hovermode": "closest",
          "mapbox": {
           "style": "light"
          },
          "paper_bgcolor": "white",
          "plot_bgcolor": "#E5ECF6",
          "polar": {
           "angularaxis": {
            "gridcolor": "white",
            "linecolor": "white",
            "ticks": ""
           },
           "bgcolor": "#E5ECF6",
           "radialaxis": {
            "gridcolor": "white",
            "linecolor": "white",
            "ticks": ""
           }
          },
          "scene": {
           "xaxis": {
            "backgroundcolor": "#E5ECF6",
            "gridcolor": "white",
            "gridwidth": 2,
            "linecolor": "white",
            "showbackground": true,
            "ticks": "",
            "zerolinecolor": "white"
           },
           "yaxis": {
            "backgroundcolor": "#E5ECF6",
            "gridcolor": "white",
            "gridwidth": 2,
            "linecolor": "white",
            "showbackground": true,
            "ticks": "",
            "zerolinecolor": "white"
           },
           "zaxis": {
            "backgroundcolor": "#E5ECF6",
            "gridcolor": "white",
            "gridwidth": 2,
            "linecolor": "white",
            "showbackground": true,
            "ticks": "",
            "zerolinecolor": "white"
           }
          },
          "shapedefaults": {
           "line": {
            "color": "#2a3f5f"
           }
          },
          "ternary": {
           "aaxis": {
            "gridcolor": "white",
            "linecolor": "white",
            "ticks": ""
           },
           "baxis": {
            "gridcolor": "white",
            "linecolor": "white",
            "ticks": ""
           },
           "bgcolor": "#E5ECF6",
           "caxis": {
            "gridcolor": "white",
            "linecolor": "white",
            "ticks": ""
           }
          },
          "title": {
           "x": 0.05
          },
          "xaxis": {
           "automargin": true,
           "gridcolor": "white",
           "linecolor": "white",
           "ticks": "",
           "title": {
            "standoff": 15
           },
           "zerolinecolor": "white",
           "zerolinewidth": 2
          },
          "yaxis": {
           "automargin": true,
           "gridcolor": "white",
           "linecolor": "white",
           "ticks": "",
           "title": {
            "standoff": 15
           },
           "zerolinecolor": "white",
           "zerolinewidth": 2
          }
         }
        },
        "title": {
         "font": {
          "size": 16
         },
         "text": "3D Surface Plot of Volatility Surface",
         "x": 0.5,
         "xanchor": "center",
         "y": 0.95,
         "yanchor": "top"
        },
        "width": 800
       }
      }
     },
     "metadata": {},
     "output_type": "display_data"
    }
   ],
   "source": [
    "# Create interactive 3D surface plot using the same DataFrame\n",
    "# The plot allows rotation, zoom, and hover to explore volatility patterns\n",
    "plot_volatility_surface_plot(surface_df, x_axis, y_axis)"
   ]
  },
  {
   "cell_type": "markdown",
   "id": "7356b913",
   "metadata": {},
   "source": [
    "### Volatility smiles\n",
    "Below is the plot of individual volatility smiles for each expiration date. Each line represents one expiry, showing how volatility changes with strike. The useful key points for analyzing are:\n",
    "- Volatility skew (asymmetry around ATM)  \n",
    "- Term structure (how smiles change over time)\n",
    "- ATM volatility levels across expiries"
   ]
  },
  {
   "cell_type": "code",
   "execution_count": 10,
   "id": "c92a01e7",
   "metadata": {
    "execution": {
     "iopub.execute_input": "2025-09-18T09:10:58.463206Z",
     "iopub.status.busy": "2025-09-18T09:10:58.462859Z",
     "iopub.status.idle": "2025-09-18T09:10:58.563769Z",
     "shell.execute_reply": "2025-09-18T09:10:58.563128Z"
    },
    "tags": []
   },
   "outputs": [
    {
     "data": {
      "application/vnd.plotly.v1+json": {
       "config": {
        "plotlyServerURL": "https://plot.ly"
       },
       "data": [
        {
         "mode": "lines+markers",
         "name": "1M",
         "type": "scatter",
         "x": {
          "bdata": "AAAAAAAAAMAAAAAAAAD4vwAAAAAAAPC/AAAAAAAA4L8AAAAAAADQvwAAAAAAAAAAAAAAAAAA0D8AAAAAAADgPwAAAAAAAPA/AAAAAAAA+D8AAAAAAAAAQA==",
          "dtype": "f8"
         },
         "y": {
          "bdata": "ZmZmZmZWY0D2KFyPwk1hQArXo3A9al5AhetRuB5lWkApXI/C9bhYQJqZmZmZmVdAUrgehetRV0AUrkfhevRXQPYoXI/CBVtAcT0K16MQX0D2KFyPwq1hQA==",
          "dtype": "f8"
         }
        },
        {
         "mode": "lines+markers",
         "name": "3M",
         "type": "scatter",
         "x": {
          "bdata": "AAAAAAAAAMAAAAAAAAD4vwAAAAAAAPC/AAAAAAAA4L8AAAAAAADQvwAAAAAAAAAAAAAAAAAA0D8AAAAAAADgPwAAAAAAAPA/AAAAAAAA+D8AAAAAAAAAQA==",
          "dtype": "f8"
         },
         "y": {
          "bdata": "4XoUrkfBZEDD9Shcj5piQFK4HoXrYWBASOF6FK53XECkcD0K16NaQJqZmZmZWVlASOF6FK7nWEAK16NwPWpZQD0K16NwbVxAuB6F61FIYEApXI/C9YBiQA==",
          "dtype": "f8"
         }
        },
        {
         "mode": "lines+markers",
         "name": "6M",
         "type": "scatter",
         "x": {
          "bdata": "AAAAAAAAAMAAAAAAAAD4vwAAAAAAAPC/AAAAAAAA4L8AAAAAAADQvwAAAAAAAAAAAAAAAAAA0D8AAAAAAADgPwAAAAAAAPA/AAAAAAAA+D8AAAAAAAAAQA==",
          "dtype": "f8"
         },
         "y": {
          "bdata": "hetRuB7NZUAfhetRuJZjQDMzMzMzS2FACtejcD0aXkAUrkfheiRcQM3MzMzMrFpAUrgehesBWkA9CtejcE1aQK5H4XoUDl1A9ihcj8KNYEA9CtejcMViQA==",
          "dtype": "f8"
         }
        },
        {
         "mode": "lines+markers",
         "name": "9M",
         "type": "scatter",
         "x": {
          "bdata": "AAAAAAAAAMAAAAAAAAD4vwAAAAAAAPC/AAAAAAAA4L8AAAAAAADQvwAAAAAAAAAAAAAAAAAA0D8AAAAAAADgPwAAAAAAAPA/AAAAAAAA+D8AAAAAAAAAQA==",
          "dtype": "f8"
         },
         "y": {
          "bdata": "KVyPwvU4ZkAAAAAAABBkQHsUrkfh0mFAhetRuB5FX0BI4XoUrlddQJqZmZmZ2VtAcT0K16MQW0ApXI/C9ShbQAAAAAAAgF1Aw/UoXI+iYEApXI/C9cBiQA==",
          "dtype": "f8"
         }
        },
        {
         "mode": "lines+markers",
         "name": "1Y",
         "type": "scatter",
         "x": {
          "bdata": "AAAAAAAAAMAAAAAAAAD4vwAAAAAAAPC/AAAAAAAA4L8AAAAAAADQvwAAAAAAAAAAAAAAAAAA0D8AAAAAAADgPwAAAAAAAPA/AAAAAAAA+D8AAAAAAAAAQA==",
          "dtype": "f8"
         },
         "y": {
          "bdata": "uB6F61EAZEBmZmZmZl5iQAAAAAAAuGBAXI/C9ShcXkBSuB6F6xFdQJqZmZmZGVxAMzMzMzOTW0AUrkfhepRbQLgehetRCF1A9ihcj8K1X0BI4XoUrndhQA==",
          "dtype": "f8"
         }
        },
        {
         "mode": "lines+markers",
         "name": "18M",
         "type": "scatter",
         "x": {
          "bdata": "AAAAAAAAAMAAAAAAAAD4vwAAAAAAAPC/AAAAAAAA4L8AAAAAAADQvwAAAAAAAAAAAAAAAAAA0D8AAAAAAADgPwAAAAAAAPA/AAAAAAAA+D8AAAAAAAAAQA==",
          "dtype": "f8"
         },
         "y": {
          "bdata": "MzMzMzPzXkDXo3A9CgdeQI/C9ShcL11Aw/UoXI+CXEAUrkfhekRcQJqZmZmZGVxA9ihcj8IFXECamZmZmQlcQK5H4XoUXlxAw/UoXI8SXUBmZmZmZhZeQA==",
          "dtype": "f8"
         }
        },
        {
         "mode": "lines+markers",
         "name": "2Y",
         "type": "scatter",
         "x": {
          "bdata": "AAAAAAAAAMAAAAAAAAD4vwAAAAAAAPC/AAAAAAAA4L8AAAAAAADQvwAAAAAAAAAAAAAAAAAA0D8AAAAAAADgPwAAAAAAAPA/AAAAAAAA+D8AAAAAAAAAQA==",
          "dtype": "f8"
         },
         "y": {
          "bdata": "FK5H4XqEW0D2KFyPwnVbQPYoXI/CdVtACtejcD2KW0CuR+F6FJ5bQJqZmZmZuVtAXI/C9SjcW0DXo3A9CgdcQBSuR+F6dFxA4XoUrkcBXUAK16NwPapdQA==",
          "dtype": "f8"
         }
        },
        {
         "mode": "lines+markers",
         "name": "3Y",
         "type": "scatter",
         "x": {
          "bdata": "AAAAAAAAAMAAAAAAAAD4vwAAAAAAAPC/AAAAAAAA4L8AAAAAAADQvwAAAAAAAAAAAAAAAAAA0D8AAAAAAADgPwAAAAAAAPA/AAAAAAAA+D8AAAAAAAAAQA==",
          "dtype": "f8"
         },
         "y": {
          "bdata": "ZmZmZmZWXUAK16NwPSpcQMP1KFyPQltAw/UoXI/SWkC4HoXrUdhaQM3MzMzMDFtAAAAAAABwW0CPwvUoXP9bQOxRuB6Fi11AAAAAAACAX0CamZmZmdlgQA==",
          "dtype": "f8"
         }
        },
        {
         "mode": "lines+markers",
         "name": "4Y",
         "type": "scatter",
         "x": {
          "bdata": "AAAAAAAAAMAAAAAAAAD4vwAAAAAAAPC/AAAAAAAA4L8AAAAAAADQvwAAAAAAAAAAAAAAAAAA0D8AAAAAAADgPwAAAAAAAPA/AAAAAAAA+D8AAAAAAAAAQA==",
          "dtype": "f8"
         },
         "y": {
          "bdata": "ZmZmZmY2WUCuR+F6FE5ZQKRwPQrXg1lArkfhehTeWUCamZmZmRlaQAAAAAAAYFpAAAAAAACwWkCamZmZmQlbQEjhehSu11tAhetRuB7FXEDsUbgehctdQA==",
          "dtype": "f8"
         }
        },
        {
         "mode": "lines+markers",
         "name": "5Y",
         "type": "scatter",
         "x": {
          "bdata": "AAAAAAAAAMAAAAAAAAD4vwAAAAAAAPC/AAAAAAAA4L8AAAAAAADQvwAAAAAAAAAAAAAAAAAA0D8AAAAAAADgPwAAAAAAAPA/AAAAAAAA+D8AAAAAAAAAQA==",
          "dtype": "f8"
         },
         "y": {
          "bdata": "uB6F61E4WUCuR+F6FO5YQHsUrkfh2lhAcT0K16MQWUB7FK5H4UpZQJqZmZmZmVlAzczMzMz8WUAzMzMzM3NaQFK4HoXrkVtAhetRuB7lXEA9CtejcF1eQA==",
          "dtype": "f8"
         }
        },
        {
         "mode": "lines+markers",
         "name": "7Y",
         "type": "scatter",
         "x": {
          "bdata": "AAAAAAAAAMAAAAAAAAD4vwAAAAAAAPC/AAAAAAAA4L8AAAAAAADQvwAAAAAAAAAAAAAAAAAA0D8AAAAAAADgPwAAAAAAAPA/AAAAAAAA+D8AAAAAAAAAQA==",
          "dtype": "f8"
         },
         "y": {
          "bdata": "rkfhehR+V0BI4XoUrndXQAAAAAAAoFdAj8L1KFz/V0CF61G4HkVYQJqZmZmZmVhAXI/C9Sj8WEBcj8L1KGxZQD0K16NwbVpAFK5H4XqUW0BI4XoUrtdcQA==",
          "dtype": "f8"
         }
        },
        {
         "mode": "lines+markers",
         "name": "10Y",
         "type": "scatter",
         "x": {
          "bdata": "AAAAAAAAAMAAAAAAAAD4vwAAAAAAAPC/AAAAAAAA4L8AAAAAAADQvwAAAAAAAAAAAAAAAAAA0D8AAAAAAADgPwAAAAAAAPA/AAAAAAAA+D8AAAAAAAAAQA==",
          "dtype": "f8"
         },
         "y": {
          "bdata": "UrgeheuhVUD2KFyPwtVVQOxRuB6FK1ZAZmZmZmamVkBSuB6F6/FWQGZmZmZmRldApHA9CtejV0ApXI/C9QhYQJqZmZmZ6VhAUrgehevhWUDNzMzMzOxaQA==",
          "dtype": "f8"
         }
        },
        {
         "mode": "lines+markers",
         "name": "15Y",
         "type": "scatter",
         "x": {
          "bdata": "AAAAAAAAAMAAAAAAAAD4vwAAAAAAAPC/AAAAAAAA4L8AAAAAAADQvwAAAAAAAAAAAAAAAAAA0D8AAAAAAADgPwAAAAAAAPA/AAAAAAAA+D8AAAAAAAAAQA==",
          "dtype": "f8"
         },
         "y": {
          "bdata": "uB6F61HYU0BI4XoUrvdTQLgehetROFRAj8L1KFyfVEDhehSuR+FUQM3MzMzMLFVA4XoUrkeBVUAfhetRuN5VQAAAAAAAsFZAmpmZmZmZV0DXo3A9CpdYQA==",
          "dtype": "f8"
         }
        },
        {
         "mode": "lines+markers",
         "name": "20Y",
         "type": "scatter",
         "x": {
          "bdata": "AAAAAAAAAMAAAAAAAAD4vwAAAAAAAPC/AAAAAAAA4L8AAAAAAADQvwAAAAAAAAAAAAAAAAAA0D8AAAAAAADgPwAAAAAAAPA/AAAAAAAA+D8AAAAAAAAAQA==",
          "dtype": "f8"
         },
         "y": {
          "bdata": "H4XrUbhOUkBxPQrXo0BSQM3MzMzMXFJArkfhehSuUkDNzMzMzOxSQJqZmZmZOVNAFK5H4XqUU0DsUbgehftTQJqZmZmZ6VRAuB6F61H4VUAfhetRuB5XQA==",
          "dtype": "f8"
         }
        },
        {
         "mode": "lines+markers",
         "name": "25Y",
         "type": "scatter",
         "x": {
          "bdata": "AAAAAAAAAMAAAAAAAAD4vwAAAAAAAPC/AAAAAAAA4L8AAAAAAADQvwAAAAAAAAAAAAAAAAAA0D8AAAAAAADgPwAAAAAAAPA/AAAAAAAA+D8AAAAAAAAAQA==",
          "dtype": "f8"
         },
         "y": {
          "bdata": "PQrXo3B9UkBmZmZmZmZSQLgehetRaFJAUrgeheuRUkApXI/C9bhSQM3MzMzM7FJAPQrXo3AtU0B7FK5H4XpTQEjhehSuN1RAexSuR+EaVUB7FK5H4RpWQA==",
          "dtype": "f8"
         }
        },
        {
         "mode": "lines+markers",
         "name": "30Y",
         "type": "scatter",
         "x": {
          "bdata": "AAAAAAAAAMAAAAAAAAD4vwAAAAAAAPC/AAAAAAAA4L8AAAAAAADQvwAAAAAAAAAAAAAAAAAA0D8AAAAAAADgPwAAAAAAAPA/AAAAAAAA+D8AAAAAAAAAQA==",
          "dtype": "f8"
         },
         "y": {
          "bdata": "XI/C9ShcUkBxPQrXo0BSQK5H4XoULlJAuB6F61E4UkDNzMzMzExSQM3MzMzMbFJAmpmZmZmZUkCkcD0K19NSQD0K16NwbVNApHA9CtczVEBcj8L1KBxVQA==",
          "dtype": "f8"
         }
        }
       ],
       "layout": {
        "autosize": true,
        "dragmode": false,
        "height": 450,
        "legend": {
         "title": {
          "text": "Expiry"
         }
        },
        "template": {
         "data": {
          "bar": [
           {
            "error_x": {
             "color": "#2a3f5f"
            },
            "error_y": {
             "color": "#2a3f5f"
            },
            "marker": {
             "line": {
              "color": "white",
              "width": 0.5
             },
             "pattern": {
              "fillmode": "overlay",
              "size": 10,
              "solidity": 0.2
             }
            },
            "type": "bar"
           }
          ],
          "barpolar": [
           {
            "marker": {
             "line": {
              "color": "white",
              "width": 0.5
             },
             "pattern": {
              "fillmode": "overlay",
              "size": 10,
              "solidity": 0.2
             }
            },
            "type": "barpolar"
           }
          ],
          "carpet": [
           {
            "aaxis": {
             "endlinecolor": "#2a3f5f",
             "gridcolor": "#C8D4E3",
             "linecolor": "#C8D4E3",
             "minorgridcolor": "#C8D4E3",
             "startlinecolor": "#2a3f5f"
            },
            "baxis": {
             "endlinecolor": "#2a3f5f",
             "gridcolor": "#C8D4E3",
             "linecolor": "#C8D4E3",
             "minorgridcolor": "#C8D4E3",
             "startlinecolor": "#2a3f5f"
            },
            "type": "carpet"
           }
          ],
          "choropleth": [
           {
            "colorbar": {
             "outlinewidth": 0,
             "ticks": ""
            },
            "type": "choropleth"
           }
          ],
          "contour": [
           {
            "colorbar": {
             "outlinewidth": 0,
             "ticks": ""
            },
            "colorscale": [
             [
              0.0,
              "#0d0887"
             ],
             [
              0.1111111111111111,
              "#46039f"
             ],
             [
              0.2222222222222222,
              "#7201a8"
             ],
             [
              0.3333333333333333,
              "#9c179e"
             ],
             [
              0.4444444444444444,
              "#bd3786"
             ],
             [
              0.5555555555555556,
              "#d8576b"
             ],
             [
              0.6666666666666666,
              "#ed7953"
             ],
             [
              0.7777777777777778,
              "#fb9f3a"
             ],
             [
              0.8888888888888888,
              "#fdca26"
             ],
             [
              1.0,
              "#f0f921"
             ]
            ],
            "type": "contour"
           }
          ],
          "contourcarpet": [
           {
            "colorbar": {
             "outlinewidth": 0,
             "ticks": ""
            },
            "type": "contourcarpet"
           }
          ],
          "heatmap": [
           {
            "colorbar": {
             "outlinewidth": 0,
             "ticks": ""
            },
            "colorscale": [
             [
              0.0,
              "#0d0887"
             ],
             [
              0.1111111111111111,
              "#46039f"
             ],
             [
              0.2222222222222222,
              "#7201a8"
             ],
             [
              0.3333333333333333,
              "#9c179e"
             ],
             [
              0.4444444444444444,
              "#bd3786"
             ],
             [
              0.5555555555555556,
              "#d8576b"
             ],
             [
              0.6666666666666666,
              "#ed7953"
             ],
             [
              0.7777777777777778,
              "#fb9f3a"
             ],
             [
              0.8888888888888888,
              "#fdca26"
             ],
             [
              1.0,
              "#f0f921"
             ]
            ],
            "type": "heatmap"
           }
          ],
          "histogram": [
           {
            "marker": {
             "pattern": {
              "fillmode": "overlay",
              "size": 10,
              "solidity": 0.2
             }
            },
            "type": "histogram"
           }
          ],
          "histogram2d": [
           {
            "colorbar": {
             "outlinewidth": 0,
             "ticks": ""
            },
            "colorscale": [
             [
              0.0,
              "#0d0887"
             ],
             [
              0.1111111111111111,
              "#46039f"
             ],
             [
              0.2222222222222222,
              "#7201a8"
             ],
             [
              0.3333333333333333,
              "#9c179e"
             ],
             [
              0.4444444444444444,
              "#bd3786"
             ],
             [
              0.5555555555555556,
              "#d8576b"
             ],
             [
              0.6666666666666666,
              "#ed7953"
             ],
             [
              0.7777777777777778,
              "#fb9f3a"
             ],
             [
              0.8888888888888888,
              "#fdca26"
             ],
             [
              1.0,
              "#f0f921"
             ]
            ],
            "type": "histogram2d"
           }
          ],
          "histogram2dcontour": [
           {
            "colorbar": {
             "outlinewidth": 0,
             "ticks": ""
            },
            "colorscale": [
             [
              0.0,
              "#0d0887"
             ],
             [
              0.1111111111111111,
              "#46039f"
             ],
             [
              0.2222222222222222,
              "#7201a8"
             ],
             [
              0.3333333333333333,
              "#9c179e"
             ],
             [
              0.4444444444444444,
              "#bd3786"
             ],
             [
              0.5555555555555556,
              "#d8576b"
             ],
             [
              0.6666666666666666,
              "#ed7953"
             ],
             [
              0.7777777777777778,
              "#fb9f3a"
             ],
             [
              0.8888888888888888,
              "#fdca26"
             ],
             [
              1.0,
              "#f0f921"
             ]
            ],
            "type": "histogram2dcontour"
           }
          ],
          "mesh3d": [
           {
            "colorbar": {
             "outlinewidth": 0,
             "ticks": ""
            },
            "type": "mesh3d"
           }
          ],
          "parcoords": [
           {
            "line": {
             "colorbar": {
              "outlinewidth": 0,
              "ticks": ""
             }
            },
            "type": "parcoords"
           }
          ],
          "pie": [
           {
            "automargin": true,
            "type": "pie"
           }
          ],
          "scatter": [
           {
            "fillpattern": {
             "fillmode": "overlay",
             "size": 10,
             "solidity": 0.2
            },
            "type": "scatter"
           }
          ],
          "scatter3d": [
           {
            "line": {
             "colorbar": {
              "outlinewidth": 0,
              "ticks": ""
             }
            },
            "marker": {
             "colorbar": {
              "outlinewidth": 0,
              "ticks": ""
             }
            },
            "type": "scatter3d"
           }
          ],
          "scattercarpet": [
           {
            "marker": {
             "colorbar": {
              "outlinewidth": 0,
              "ticks": ""
             }
            },
            "type": "scattercarpet"
           }
          ],
          "scattergeo": [
           {
            "marker": {
             "colorbar": {
              "outlinewidth": 0,
              "ticks": ""
             }
            },
            "type": "scattergeo"
           }
          ],
          "scattergl": [
           {
            "marker": {
             "colorbar": {
              "outlinewidth": 0,
              "ticks": ""
             }
            },
            "type": "scattergl"
           }
          ],
          "scattermap": [
           {
            "marker": {
             "colorbar": {
              "outlinewidth": 0,
              "ticks": ""
             }
            },
            "type": "scattermap"
           }
          ],
          "scattermapbox": [
           {
            "marker": {
             "colorbar": {
              "outlinewidth": 0,
              "ticks": ""
             }
            },
            "type": "scattermapbox"
           }
          ],
          "scatterpolar": [
           {
            "marker": {
             "colorbar": {
              "outlinewidth": 0,
              "ticks": ""
             }
            },
            "type": "scatterpolar"
           }
          ],
          "scatterpolargl": [
           {
            "marker": {
             "colorbar": {
              "outlinewidth": 0,
              "ticks": ""
             }
            },
            "type": "scatterpolargl"
           }
          ],
          "scatterternary": [
           {
            "marker": {
             "colorbar": {
              "outlinewidth": 0,
              "ticks": ""
             }
            },
            "type": "scatterternary"
           }
          ],
          "surface": [
           {
            "colorbar": {
             "outlinewidth": 0,
             "ticks": ""
            },
            "colorscale": [
             [
              0.0,
              "#0d0887"
             ],
             [
              0.1111111111111111,
              "#46039f"
             ],
             [
              0.2222222222222222,
              "#7201a8"
             ],
             [
              0.3333333333333333,
              "#9c179e"
             ],
             [
              0.4444444444444444,
              "#bd3786"
             ],
             [
              0.5555555555555556,
              "#d8576b"
             ],
             [
              0.6666666666666666,
              "#ed7953"
             ],
             [
              0.7777777777777778,
              "#fb9f3a"
             ],
             [
              0.8888888888888888,
              "#fdca26"
             ],
             [
              1.0,
              "#f0f921"
             ]
            ],
            "type": "surface"
           }
          ],
          "table": [
           {
            "cells": {
             "fill": {
              "color": "#EBF0F8"
             },
             "line": {
              "color": "white"
             }
            },
            "header": {
             "fill": {
              "color": "#C8D4E3"
             },
             "line": {
              "color": "white"
             }
            },
            "type": "table"
           }
          ]
         },
         "layout": {
          "annotationdefaults": {
           "arrowcolor": "#2a3f5f",
           "arrowhead": 0,
           "arrowwidth": 1
          },
          "autotypenumbers": "strict",
          "coloraxis": {
           "colorbar": {
            "outlinewidth": 0,
            "ticks": ""
           }
          },
          "colorscale": {
           "diverging": [
            [
             0,
             "#8e0152"
            ],
            [
             0.1,
             "#c51b7d"
            ],
            [
             0.2,
             "#de77ae"
            ],
            [
             0.3,
             "#f1b6da"
            ],
            [
             0.4,
             "#fde0ef"
            ],
            [
             0.5,
             "#f7f7f7"
            ],
            [
             0.6,
             "#e6f5d0"
            ],
            [
             0.7,
             "#b8e186"
            ],
            [
             0.8,
             "#7fbc41"
            ],
            [
             0.9,
             "#4d9221"
            ],
            [
             1,
             "#276419"
            ]
           ],
           "sequential": [
            [
             0.0,
             "#0d0887"
            ],
            [
             0.1111111111111111,
             "#46039f"
            ],
            [
             0.2222222222222222,
             "#7201a8"
            ],
            [
             0.3333333333333333,
             "#9c179e"
            ],
            [
             0.4444444444444444,
             "#bd3786"
            ],
            [
             0.5555555555555556,
             "#d8576b"
            ],
            [
             0.6666666666666666,
             "#ed7953"
            ],
            [
             0.7777777777777778,
             "#fb9f3a"
            ],
            [
             0.8888888888888888,
             "#fdca26"
            ],
            [
             1.0,
             "#f0f921"
            ]
           ],
           "sequentialminus": [
            [
             0.0,
             "#0d0887"
            ],
            [
             0.1111111111111111,
             "#46039f"
            ],
            [
             0.2222222222222222,
             "#7201a8"
            ],
            [
             0.3333333333333333,
             "#9c179e"
            ],
            [
             0.4444444444444444,
             "#bd3786"
            ],
            [
             0.5555555555555556,
             "#d8576b"
            ],
            [
             0.6666666666666666,
             "#ed7953"
            ],
            [
             0.7777777777777778,
             "#fb9f3a"
            ],
            [
             0.8888888888888888,
             "#fdca26"
            ],
            [
             1.0,
             "#f0f921"
            ]
           ]
          },
          "colorway": [
           "#636efa",
           "#EF553B",
           "#00cc96",
           "#ab63fa",
           "#FFA15A",
           "#19d3f3",
           "#FF6692",
           "#B6E880",
           "#FF97FF",
           "#FECB52"
          ],
          "font": {
           "color": "#2a3f5f"
          },
          "geo": {
           "bgcolor": "white",
           "lakecolor": "white",
           "landcolor": "white",
           "showlakes": true,
           "showland": true,
           "subunitcolor": "#C8D4E3"
          },
          "hoverlabel": {
           "align": "left"
          },
          "hovermode": "closest",
          "mapbox": {
           "style": "light"
          },
          "paper_bgcolor": "white",
          "plot_bgcolor": "white",
          "polar": {
           "angularaxis": {
            "gridcolor": "#EBF0F8",
            "linecolor": "#EBF0F8",
            "ticks": ""
           },
           "bgcolor": "white",
           "radialaxis": {
            "gridcolor": "#EBF0F8",
            "linecolor": "#EBF0F8",
            "ticks": ""
           }
          },
          "scene": {
           "xaxis": {
            "backgroundcolor": "white",
            "gridcolor": "#DFE8F3",
            "gridwidth": 2,
            "linecolor": "#EBF0F8",
            "showbackground": true,
            "ticks": "",
            "zerolinecolor": "#EBF0F8"
           },
           "yaxis": {
            "backgroundcolor": "white",
            "gridcolor": "#DFE8F3",
            "gridwidth": 2,
            "linecolor": "#EBF0F8",
            "showbackground": true,
            "ticks": "",
            "zerolinecolor": "#EBF0F8"
           },
           "zaxis": {
            "backgroundcolor": "white",
            "gridcolor": "#DFE8F3",
            "gridwidth": 2,
            "linecolor": "#EBF0F8",
            "showbackground": true,
            "ticks": "",
            "zerolinecolor": "#EBF0F8"
           }
          },
          "shapedefaults": {
           "line": {
            "color": "#2a3f5f"
           }
          },
          "ternary": {
           "aaxis": {
            "gridcolor": "#DFE8F3",
            "linecolor": "#A2B1C6",
            "ticks": ""
           },
           "baxis": {
            "gridcolor": "#DFE8F3",
            "linecolor": "#A2B1C6",
            "ticks": ""
           },
           "bgcolor": "white",
           "caxis": {
            "gridcolor": "#DFE8F3",
            "linecolor": "#A2B1C6",
            "ticks": ""
           }
          },
          "title": {
           "x": 0.05
          },
          "xaxis": {
           "automargin": true,
           "gridcolor": "#EBF0F8",
           "linecolor": "#EBF0F8",
           "ticks": "",
           "title": {
            "standoff": 15
           },
           "zerolinecolor": "#EBF0F8",
           "zerolinewidth": 2
          },
          "yaxis": {
           "automargin": true,
           "gridcolor": "#EBF0F8",
           "linecolor": "#EBF0F8",
           "ticks": "",
           "title": {
            "standoff": 15
           },
           "zerolinecolor": "#EBF0F8",
           "zerolinewidth": 2
          }
         }
        },
        "title": {
         "font": {
          "size": 16
         },
         "text": "Surface Smile by Expiry",
         "x": 0.5,
         "xanchor": "center",
         "y": 0.95,
         "yanchor": "top"
        },
        "width": 800,
        "xaxis": {
         "title": {
          "text": "Relative Strike (%)"
         }
        },
        "yaxis": {
         "title": {
          "text": "Volatility"
         }
        }
       }
      }
     },
     "metadata": {},
     "output_type": "display_data"
    }
   ],
   "source": [
    "plot_surface_smile_by_expiry(surface_df, x_axis, y_axis)"
   ]
  },
  {
   "cell_type": "markdown",
   "id": "7da5a28b",
   "metadata": {},
   "source": [
    "## Save and Export"
   ]
  },
  {
   "cell_type": "markdown",
   "id": "d2e1e554",
   "metadata": {},
   "source": [
    "After generating volatility surface data and visualizations, you can export the results for further analysis, reporting, or integration with other systems:\n",
    "\n",
    "**Export Options:**\n",
    "- **Excel Format** - Save the structured DataFrame for spreadsheet analysis and sharing\n",
    "- **JSON Format** - Export the complete API response for integration with other applications"
   ]
  },
  {
   "cell_type": "code",
   "execution_count": 11,
   "id": "e85a8da3",
   "metadata": {
    "execution": {
     "iopub.execute_input": "2025-09-18T09:10:58.566072Z",
     "iopub.status.busy": "2025-09-18T09:10:58.565783Z",
     "iopub.status.idle": "2025-09-18T09:10:58.682331Z",
     "shell.execute_reply": "2025-09-18T09:10:58.681771Z"
    },
    "tags": []
   },
   "outputs": [
    {
     "name": "stdout",
     "output_type": "stream",
     "text": [
      "Files saved: volatility_surface_20250918_091058.xlsx, response_20250918_091058.json\n"
     ]
    }
   ],
   "source": [
    "# Create filenames with timestamp\n",
    "timestamp = dt.datetime.now().strftime(\"%Y%m%d_%H%M%S\")\n",
    "excel_filename = f\"volatility_surface_{timestamp}.xlsx\"\n",
    "json_filename = f\"response_{timestamp}.json\"\n",
    "\n",
    "# Save DataFrame to Excel\n",
    "surface_df.to_excel(excel_filename, index=False)\n",
    "\n",
    "# Save response to JSON\n",
    "with open(json_filename, 'w') as f:\n",
    "    json.dump(dict(response), f, indent=2, default=str)\n",
    "\n",
    "print(f\"Files saved: {excel_filename}, {json_filename}\")"
   ]
  }
 ],
 "metadata": {
  "kernelspec": {
   "display_name": "jupyterlab-ext",
   "language": "python",
   "name": "python3"
  },
  "language_info": {
   "codemirror_mode": {
    "name": "ipython",
    "version": 3
   },
   "file_extension": ".py",
   "mimetype": "text/x-python",
   "name": "python",
   "nbconvert_exporter": "python",
   "pygments_lexer": "ipython3",
   "version": "3.11.6"
  }
 },
 "nbformat": 4,
 "nbformat_minor": 5
}
