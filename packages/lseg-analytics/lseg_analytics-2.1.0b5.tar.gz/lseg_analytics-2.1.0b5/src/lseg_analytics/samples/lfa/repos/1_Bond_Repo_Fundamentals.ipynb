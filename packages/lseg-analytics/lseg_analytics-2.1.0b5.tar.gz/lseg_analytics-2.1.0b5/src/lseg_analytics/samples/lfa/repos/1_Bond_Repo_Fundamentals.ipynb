{
 "cells": [
  {
   "cell_type": "markdown",
   "id": "1a108871",
   "metadata": {},
   "source": [
    "# Bond Repo Fundamentals"
   ]
  },
  {
   "cell_type": "markdown",
   "id": "1ae7da03",
   "metadata": {},
   "source": [
    "This notebook demonstrates how to access and use the **Bond Repo** functionalities within the **LSEG Financial Analytics SDK**. \n",
    "\n",
    "In a Bond Repo, at the start of the transaction (the Purchase Date), one party (the Seller) sells a **Bond** to another party (the Buyer) at one price (the Purchase Price) and commits to repurchase assets which are equivalent to those sold at a future date or on demand (the Repurchase Date) at an agreed or calculable but different price (the Repurchase Price).\n",
    "\n",
    "**You will be able to:**\n",
    "- Define Bond Repo with basic parameters\n",
    "- Configure pricing parameters\n",
    "- Evaluate Bond Repo Analytics"
   ]
  },
  {
   "cell_type": "markdown",
   "id": "9aa5f76b",
   "metadata": {},
   "source": [
    "## Imports\n"
   ]
  },
  {
   "cell_type": "markdown",
   "id": "569d770e",
   "metadata": {},
   "source": [
    "Import the following necessary modules:\n",
    "\n",
    "- `lseg_analytics.instruments.repo` - for Bond Repo instruments definitions and analytics"
   ]
  },
  {
   "cell_type": "code",
   "execution_count": 1,
   "id": "a6cd17c8",
   "metadata": {
    "execution": {
     "iopub.execute_input": "2025-09-18T09:03:45.153272Z",
     "iopub.status.busy": "2025-09-18T09:03:45.152907Z",
     "iopub.status.idle": "2025-09-18T09:03:45.998247Z",
     "shell.execute_reply": "2025-09-18T09:03:45.997605Z"
    }
   },
   "outputs": [],
   "source": [
    "from lseg_analytics.instruments import repo as rp\n",
    "\n",
    "import pandas as pd\n",
    "import json\n",
    "import datetime as dt\n",
    "from IPython.display import display"
   ]
  },
  {
   "cell_type": "markdown",
   "id": "9b0cc193",
   "metadata": {},
   "source": [
    "## Data Preparation\n",
    "\n",
    "To define a Bond Repo instrument you need to follow a structured 4-step process:\n",
    "\n",
    "1. **Bond Definition** - Specify the underlying Bond parameters \n",
    "2. **Repo Definition** - Specify the Repo parameters\n",
    "3. **Repo Definition Instrument** - Create the instrument object using the Repo Definition\n",
    "3. **Pricing Preferences** - Configure pricing parameters, optional\n"
   ]
  },
  {
   "cell_type": "code",
   "execution_count": 2,
   "id": "054d51ab",
   "metadata": {
    "execution": {
     "iopub.execute_input": "2025-09-18T09:03:46.003333Z",
     "iopub.status.busy": "2025-09-18T09:03:46.000912Z",
     "iopub.status.idle": "2025-09-18T09:03:46.021372Z",
     "shell.execute_reply": "2025-09-18T09:03:46.020792Z"
    },
    "tags": [
     "price.static"
    ]
   },
   "outputs": [
    {
     "name": "stdout",
     "output_type": "stream",
     "text": [
      "Underlying Bond definition created\n",
      "Repo Instrument definition created\n",
      "Pricing parameters configured\n"
     ]
    }
   ],
   "source": [
    "# 1.Define an underlying Bond instrument\n",
    "fixed_bond_definition = rp.BondDefinition(\n",
    "    notional_ccy = \"USD\",\n",
    "    issue_date = dt.datetime.strptime(\"2025-01-01\", \"%Y-%m-%d\"),\n",
    "    end_date = dt.datetime.strptime(\"2030-01-01\", \"%Y-%m-%d\"),\n",
    "    fixed_rate_percent = 2,\n",
    "    interest_payment_frequency = rp.InterestPaymentFrequencyEnum.QUARTERLY,\n",
    "    interest_calculation_method = rp.InterestCalculationMethodEnum.DCB_ACTUAL_ACTUAL\n",
    "\n",
    ")\n",
    "\n",
    "underlying_bond = rp.RepoUnderlyingContract(\n",
    "        instrument_definition = fixed_bond_definition,\n",
    "        instrument_type = \"Bond\"\n",
    ")\n",
    "print(\"Underlying Bond definition created\")\n",
    "\n",
    "# 2.Define Repo instrument\n",
    "repo_definition = rp.RepoDefinition(\n",
    "    buy_sell = rp.IPABuySellEnum.BUY,\n",
    "    start_date = dt.datetime.strptime(\"2025-01-01\", \"%Y-%m-%d\"),\n",
    "    tenor = \"1Y\",\n",
    "    underlying_instruments = [underlying_bond]\n",
    ")\n",
    "\n",
    "# 3.Create the Repo Instrument from the defintion\n",
    "repo_instrument = rp.RepoDefinitionInstrument (definition = repo_definition)\n",
    "print(\"Repo Instrument definition created\")\n",
    "\n",
    "# 4. Configure pricing parameters, optional\n",
    "pricing_params = rp.RepoPricingParameters(\n",
    "    valuation_date = dt.datetime.strptime(\"2025-07-18\", \"%Y-%m-%d\"),                \n",
    ")\n",
    "print(\"Pricing parameters configured\")"
   ]
  },
  {
   "cell_type": "markdown",
   "id": "f4f8db96",
   "metadata": {},
   "source": [
    "## Request Execution"
   ]
  },
  {
   "cell_type": "code",
   "execution_count": 3,
   "id": "3f084843",
   "metadata": {
    "execution": {
     "iopub.execute_input": "2025-09-18T09:03:46.023626Z",
     "iopub.status.busy": "2025-09-18T09:03:46.023355Z",
     "iopub.status.idle": "2025-09-18T09:03:46.866553Z",
     "shell.execute_reply": "2025-09-18T09:03:46.865987Z"
    },
    "tags": [
     "price.static"
    ]
   },
   "outputs": [
    {
     "name": "stdout",
     "output_type": "stream",
     "text": [
      "Pricing Execution Successful!\n"
     ]
    }
   ],
   "source": [
    "# Execute the calculation using the price function\n",
    "try:\n",
    "    # The 'definitions' parameter accepts a list of request items for batch processing\n",
    "    response = rp.price(\n",
    "    definitions = [repo_instrument],\n",
    "    pricing_preferences = pricing_params\n",
    ")\n",
    "    errors = [a.error for a in response.data.analytics if a.error]\n",
    "    if errors:\n",
    "        raise Exception(errors[0].message)\n",
    "    print(\"Pricing Execution Successful!\")\n",
    "except Exception as e:\n",
    "    print(f\"Price Calculation failed: {str(e)}\")\n",
    "    raise"
   ]
  },
  {
   "cell_type": "markdown",
   "id": "e4138163",
   "metadata": {},
   "source": [
    "## Results Display"
   ]
  },
  {
   "cell_type": "markdown",
   "id": "15000b7d",
   "metadata": {},
   "source": [
    "#### Key Sections in the `response` JSON\n",
    "\n",
    " - **definitions**: Instrument and Underlying Bond definitions set above. \n",
    "\n",
    " - **pricingPreferences**: pricing parameters set above (e.g valuation date)\n",
    "\n",
    " - **analytics**:\n",
    "   - **tabularData**: `data`, `headers`, `statuses`\n",
    "   - **cashFlows**: gives details on the different cashflows of the Bond Repo\n",
    "   - **description**: Instrument summary and also fields not specified with the default values used in the pricing.\n",
    "   - **pricingAnalysis**: different information on Bond Repo valuation: `haircutRatePercent`, `marketDataDate`, `valuationDatee`, `purchasePrice`, `repurchasePrice`, `underlyingAtStartObject`, `underlyingAtEndObject`\n",
    "   - **valuation**: `repoInterestAmountInDealCcy`, `reinvestmentIncomeInDealCcy`, `marketValueInDealCcy`\n",
    "   - **error**: root cause of the issue if any\n"
   ]
  },
  {
   "cell_type": "code",
   "execution_count": 4,
   "id": "3ed4a727",
   "metadata": {
    "execution": {
     "iopub.execute_input": "2025-09-18T09:03:46.868978Z",
     "iopub.status.busy": "2025-09-18T09:03:46.868708Z",
     "iopub.status.idle": "2025-09-18T09:03:46.872328Z",
     "shell.execute_reply": "2025-09-18T09:03:46.871862Z"
    }
   },
   "outputs": [
    {
     "name": "stdout",
     "output_type": "stream",
     "text": [
      "{\n",
      "    \"instrumentDescription\": \"Repo 1000000 'USD' 4.37% 2026-01-02 Haircut: 0% / Initial Margin: 1.0000\",\n",
      "    \"dealCcy\": \"USD\",\n",
      "    \"startDate\": \"2025-01-01T00:00:00Z\",\n",
      "    \"endDate\": \"2026-01-02T00:00:00Z\",\n",
      "    \"initialMarginPercent\": 100.0,\n",
      "    \"nominalPledgeQuantity\": 1000000.0,\n",
      "    \"numberOfCoupons\": 4,\n",
      "    \"dayCountBasis\": \"Dcb_Actual_360\",\n",
      "    \"repoCurveId\": \"YIELD_CURVE_USD_RepoCurve_2025-07-18 00:00:00\",\n",
      "    \"discountCurveId\": \"IRCurve_USD-OISSOFR_2025-07-18T00:00:00\",\n",
      "    \"settlementConvention\": \"0WD\",\n",
      "    \"repoRatePercent\": 4.37113664794044\n",
      "}\n"
     ]
    }
   ],
   "source": [
    "# Access the description object\n",
    "description = response.data.analytics[0].description\n",
    "print(json.dumps(description.as_dict(), indent=4))"
   ]
  },
  {
   "cell_type": "code",
   "execution_count": 5,
   "id": "aaaf0a85",
   "metadata": {
    "execution": {
     "iopub.execute_input": "2025-09-18T09:03:46.874664Z",
     "iopub.status.busy": "2025-09-18T09:03:46.874319Z",
     "iopub.status.idle": "2025-09-18T09:03:46.883795Z",
     "shell.execute_reply": "2025-09-18T09:03:46.883283Z"
    }
   },
   "outputs": [
    {
     "data": {
      "text/html": [
       "<div>\n",
       "<style scoped>\n",
       "    .dataframe tbody tr th:only-of-type {\n",
       "        vertical-align: middle;\n",
       "    }\n",
       "\n",
       "    .dataframe tbody tr th {\n",
       "        vertical-align: top;\n",
       "    }\n",
       "\n",
       "    .dataframe thead th {\n",
       "        text-align: right;\n",
       "    }\n",
       "</style>\n",
       "<table border=\"1\" class=\"dataframe\">\n",
       "  <thead>\n",
       "    <tr style=\"text-align: right;\">\n",
       "      <th></th>\n",
       "      <th>Fields</th>\n",
       "      <th>Value</th>\n",
       "    </tr>\n",
       "  </thead>\n",
       "  <tbody>\n",
       "    <tr>\n",
       "      <th>0</th>\n",
       "      <td>haircutRatePercent</td>\n",
       "      <td>0.0</td>\n",
       "    </tr>\n",
       "    <tr>\n",
       "      <th>1</th>\n",
       "      <td>marketDataDate</td>\n",
       "      <td>2025-07-18T00:00:00Z</td>\n",
       "    </tr>\n",
       "    <tr>\n",
       "      <th>2</th>\n",
       "      <td>valuationDate</td>\n",
       "      <td>2025-07-18T00:00:00Z</td>\n",
       "    </tr>\n",
       "    <tr>\n",
       "      <th>3</th>\n",
       "      <td>purchasePrice</td>\n",
       "      <td>1043778.653199</td>\n",
       "    </tr>\n",
       "    <tr>\n",
       "      <th>4</th>\n",
       "      <td>repurchasePrice</td>\n",
       "      <td>1069349.750231</td>\n",
       "    </tr>\n",
       "  </tbody>\n",
       "</table>\n",
       "</div>"
      ],
      "text/plain": [
       "               Fields                 Value\n",
       "0  haircutRatePercent                   0.0\n",
       "1      marketDataDate  2025-07-18T00:00:00Z\n",
       "2       valuationDate  2025-07-18T00:00:00Z\n",
       "3       purchasePrice        1043778.653199\n",
       "4     repurchasePrice        1069349.750231"
      ]
     },
     "metadata": {},
     "output_type": "display_data"
    }
   ],
   "source": [
    "# Access the pricing analysis object\n",
    "pricing_analysis = response.data.analytics[0][\"pricingAnalysis\"]\n",
    "# Convert to DataFrame\n",
    "df_pricing_analysis = pd.DataFrame(list(pricing_analysis.items()), columns=[\"Fields\", \"Value\"])\n",
    "# Display the DataFrame\n",
    "display(df_pricing_analysis.head(5))"
   ]
  },
  {
   "cell_type": "code",
   "execution_count": 6,
   "id": "d6f54d2f",
   "metadata": {
    "execution": {
     "iopub.execute_input": "2025-09-18T09:03:46.886092Z",
     "iopub.status.busy": "2025-09-18T09:03:46.885689Z",
     "iopub.status.idle": "2025-09-18T09:03:46.892845Z",
     "shell.execute_reply": "2025-09-18T09:03:46.892175Z"
    }
   },
   "outputs": [
    {
     "data": {
      "text/html": [
       "<div>\n",
       "<style scoped>\n",
       "    .dataframe tbody tr th:only-of-type {\n",
       "        vertical-align: middle;\n",
       "    }\n",
       "\n",
       "    .dataframe tbody tr th {\n",
       "        vertical-align: top;\n",
       "    }\n",
       "\n",
       "    .dataframe thead th {\n",
       "        text-align: right;\n",
       "    }\n",
       "</style>\n",
       "<table border=\"1\" class=\"dataframe\">\n",
       "  <thead>\n",
       "    <tr style=\"text-align: right;\">\n",
       "      <th></th>\n",
       "      <th>Fields</th>\n",
       "      <th>Value</th>\n",
       "    </tr>\n",
       "  </thead>\n",
       "  <tbody>\n",
       "    <tr>\n",
       "      <th>0</th>\n",
       "      <td>repoInterestAmountInDealCcy</td>\n",
       "      <td>4.575727e+04</td>\n",
       "    </tr>\n",
       "    <tr>\n",
       "      <th>1</th>\n",
       "      <td>reinvestmentIncomeInDealCcy</td>\n",
       "      <td>3.344438e+02</td>\n",
       "    </tr>\n",
       "    <tr>\n",
       "      <th>2</th>\n",
       "      <td>marketValueInDealCcy</td>\n",
       "      <td>1.053540e+06</td>\n",
       "    </tr>\n",
       "  </tbody>\n",
       "</table>\n",
       "</div>"
      ],
      "text/plain": [
       "                        Fields         Value\n",
       "0  repoInterestAmountInDealCcy  4.575727e+04\n",
       "1  reinvestmentIncomeInDealCcy  3.344438e+02\n",
       "2         marketValueInDealCcy  1.053540e+06"
      ]
     },
     "metadata": {},
     "output_type": "display_data"
    }
   ],
   "source": [
    "# Convert to DataFrame\n",
    "valuation = response.data.analytics[0].valuation\n",
    "df_valuation = pd.DataFrame(list(valuation.items()), columns=[\"Fields\", \"Value\"])\n",
    "# Display the DataFrame\n",
    "display(df_valuation)"
   ]
  },
  {
   "cell_type": "markdown",
   "id": "86781d18",
   "metadata": {},
   "source": [
    "## Appendix: Main Functions Reference"
   ]
  },
  {
   "cell_type": "markdown",
   "id": "c0ad5ada",
   "metadata": {},
   "source": [
    "The following is a list of main classes, enums, and functions available after importing from `lseg_analytics.instruments.repo`:\n",
    "\n",
    "**Core Classes:**\n",
    "- `RepoDefinition` - Define repo instrument specifications\n",
    "- `BondDefinition` - Define underlying bond instrument specifications\n",
    "- `RepoUnderlyingContract` - Define the Repo underlying instrument\n",
    "- `RepoDefinitionInstrument` - Create repo instrument from RepoDefinition\n",
    "- `RepoPricingParameters` - Configure pricing parameters and market data settings \n",
    "- `BondPricingParameters` - Configure pricing parameters and market data settings for the underlying bond\n",
    "- `RepoUnderlyingPricingParameters` - Configure pricing parameters and market data settings for the underlying instrument\n",
    "\n",
    "**Response Classes:**\n",
    "- `RepoCalculationResponse` - Main response container\n",
    "- `RepoParameters` - Pricing paramenters showed in the pricing response\n",
    "- `RepoCashflows` - Detailed cash-flows of the Repo\n",
    "- `RepoDescription` - Instrument summary\n",
    "- `RepoValuation` - Individual instrument valuation results\n",
    "- `RepoPricingAnalysis` - Detailed analytics and calculations\n",
    "\n",
    "**Configuration Enums:**\n",
    "- `IPABuySellEnum` - Buy/Sell direction (BUY, SELL)\n",
    "- `RepoRateTypeEnum` - The rate type used to compute repo interest amount (MONEY_MARKET, DISCOUNT, etc.)\n",
    "- `RepoCurveTypeEnum` - Curve type used to compute repo interest amount (REPO_CURVE (default value), DEPOSIT_CURVE, LIBOR_FIXING)\n",
    "- `RepoRateFrequencyEnum` - Repo payment frequency  (ANNUAL, SEMI_ANNUAL, QUARTERLY, MONTHLY)\n",
    "- `DayCountBasisEnum` - The day count basis convention: (DCB_ACTUAL_360 (default value), DCB_30_360, etc.)\n",
    "- `PriceSideEnum` - Market price sides (BID, ASK, MID)\n",
    "\n",
    "**Main Functions:**\n",
    "- `price()` - Execute cap/floor pricing calculation"
   ]
  }
 ],
 "metadata": {
  "kernelspec": {
   "display_name": "jupyterlab-ext",
   "language": "python",
   "name": "python3"
  },
  "language_info": {
   "codemirror_mode": {
    "name": "ipython",
    "version": 3
   },
   "file_extension": ".py",
   "mimetype": "text/x-python",
   "name": "python",
   "nbconvert_exporter": "python",
   "pygments_lexer": "ipython3",
   "version": "3.11.6"
  }
 },
 "nbformat": 4,
 "nbformat_minor": 5
}
