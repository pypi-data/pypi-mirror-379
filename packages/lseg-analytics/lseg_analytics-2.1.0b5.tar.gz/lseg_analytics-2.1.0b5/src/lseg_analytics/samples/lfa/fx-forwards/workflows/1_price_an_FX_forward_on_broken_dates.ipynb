{
 "cells": [
  {
   "cell_type": "markdown",
   "metadata": {},
   "source": [
    "# Price an FX Forward on broken dates or non standard tenors\n",
    "\n",
    "This notebook explains how to price an FX Forward on broken dates or non standard tenors."
   ]
  },
  {
   "cell_type": "markdown",
   "metadata": {},
   "source": [
    "## Start by importing the required libraries"
   ]
  },
  {
   "cell_type": "code",
   "execution_count": 1,
   "metadata": {
    "execution": {
     "iopub.execute_input": "2025-09-18T09:07:27.933652Z",
     "iopub.status.busy": "2025-09-18T09:07:27.933232Z",
     "iopub.status.idle": "2025-09-18T09:07:28.873315Z",
     "shell.execute_reply": "2025-09-18T09:07:28.872652Z"
    }
   },
   "outputs": [],
   "source": [
    "from lseg_analytics.instruments import fx_forwards\n",
    "from lseg_analytics_basic_client.models import RelativeAdjustableDate, AdjustableDate, ReferenceDate\n",
    "import pandas as pd\n",
    "from IPython.display import display"
   ]
  },
  {
   "cell_type": "markdown",
   "metadata": {},
   "source": [
    "## Create FX forwards using different tenors and dates\n",
    "To define the FX forward start date and end dates, it is possible to either define them using a broken date, or to use a non standard tenor.\n",
    "Here is a list of tenors:\n",
    "- Combination of Days (D), Weeks (W), Months (M) and Years (Y).  Examples: \"5D\",\"22W\",\"30Y\",\"2M\",\"1Y5M2D\",....\n",
    "- Overnight tenor. Example: \"ON\". \n",
    "- Tomorrow next tenor. Example: \"TN\"\n",
    "- Spot next tenor. Example: \"SN\"\n",
    "- Spot week tenor. Example: \"SW\"\n",
    "- IMM tenors. Examples: \"IMM1\",\"IMM2\",\"IMM3\",\"IMM4\"\n",
    "- Beginning of month tenor. Examples: \"JANB\",\"FEBB,\"\"MARB\",\"APRB\",\"MAYB\",\"JUNB\",\"JULB\",\"AUGB\",\"SEPB\",\"OCTB\",\"NOVB\",\"DECB\"\n",
    "- End of month tenors. Examples: \"JANM\",\"FEBM,\"\"MARM\",\"APRM\",\"MAYM\",\"JUNM\",\"JULM\",\"AUGM\",\"SEPM\",\"OCTM\",\"NOVM\",\"DECM\"\n",
    "- Central bank meeting dates tenors (Period whose end date is a central bank meeting date). Examples: \"FED1\",\"FED2\",\"FED3\", \"BOE1\", \"ECB1\""
   ]
  },
  {
   "cell_type": "code",
   "execution_count": 2,
   "metadata": {
    "execution": {
     "iopub.execute_input": "2025-09-18T09:07:28.878249Z",
     "iopub.status.busy": "2025-09-18T09:07:28.875948Z",
     "iopub.status.idle": "2025-09-18T09:07:28.891155Z",
     "shell.execute_reply": "2025-09-18T09:07:28.890409Z"
    }
   },
   "outputs": [],
   "source": [
    "fx_forwards_map = {\n",
    "    # Create an FX Forward whose start date is spot date, and end date is 3M after the start date.\n",
    "    \"SPOT/3M\": fx_forwards.FxForward(\n",
    "        definition=fx_forwards.FxForwardDefinition(\n",
    "            quoted_currency=\"USD\",\n",
    "            base_currency=\"EUR\",\n",
    "            end_date=RelativeAdjustableDate(\n",
    "                tenor=\"3M\", reference_date=ReferenceDate.START_DATE\n",
    "            ),\n",
    "            payer=\"Party1\",\n",
    "            receiver=\"Party2\",\n",
    "        )\n",
    "    ),\n",
    "    # Create an FX Forward whose start date is spot date, and end date is the last open day of september after the start date.\n",
    "    \"SPOT/SEPM\": fx_forwards.FxForward(\n",
    "        definition=fx_forwards.FxForwardDefinition(\n",
    "            quoted_currency=\"USD\",\n",
    "            base_currency=\"EUR\",\n",
    "            end_date=RelativeAdjustableDate(\n",
    "                tenor=\"SEPM\", reference_date=ReferenceDate.START_DATE\n",
    "            ),\n",
    "            payer=\"Party1\",\n",
    "            receiver=\"Party2\",\n",
    "        )\n",
    "    ),\n",
    "    # Create an FX Forward whose start date is spot date, and end date is the first open day of october after the start date.\n",
    "    \"SPOT/OCTM\": fx_forwards.FxForward(\n",
    "        definition=fx_forwards.FxForwardDefinition(\n",
    "            quoted_currency=\"USD\",\n",
    "            base_currency=\"EUR\",\n",
    "            end_date=RelativeAdjustableDate(\n",
    "                tenor=\"OCTB\", reference_date=ReferenceDate.START_DATE\n",
    "            ),\n",
    "            payer=\"Party1\",\n",
    "            receiver=\"Party2\",\n",
    "        )\n",
    "    ),\n",
    "    # Create an FX Forward whose start date is spot date, and end date is the third Europen Central Bank meeting date after the start date.\n",
    "    \"SPOT/ECB3\": fx_forwards.FxForward(\n",
    "        definition=fx_forwards.FxForwardDefinition(\n",
    "            quoted_currency=\"USD\",\n",
    "            base_currency=\"EUR\",\n",
    "            end_date=RelativeAdjustableDate(\n",
    "                tenor=\"ECB3\", reference_date=ReferenceDate.START_DATE\n",
    "            ),\n",
    "            payer=\"Party1\",\n",
    "            receiver=\"Party2\",\n",
    "        )\n",
    "    ),\n",
    "    # Create an FX Forward whose start date is spot date, and end date is one month and 15 days after the start date.\n",
    "    \"SPOT/1M15D\": fx_forwards.FxForward(\n",
    "        definition=fx_forwards.FxForwardDefinition(\n",
    "            quoted_currency=\"USD\",\n",
    "            base_currency=\"EUR\",\n",
    "            end_date=RelativeAdjustableDate(\n",
    "                tenor=\"1M15D\", reference_date=ReferenceDate.START_DATE\n",
    "            ),\n",
    "            payer=\"Party1\",\n",
    "            receiver=\"Party2\",\n",
    "        )\n",
    "    ),\n",
    "    # Create an FX Forward Forward instrument whose start date is 3 months after spot date, and end date is 6 months after the start date\n",
    "    \"3M/6M\": fx_forwards.FxForward(\n",
    "        definition=fx_forwards.FxForwardDefinition(\n",
    "            quoted_currency=\"USD\",\n",
    "            base_currency=\"EUR\",\n",
    "            start_date=RelativeAdjustableDate(\n",
    "                tenor=\"3M\", reference_date=ReferenceDate.SPOT_DATE\n",
    "            ),\n",
    "            end_date=RelativeAdjustableDate(\n",
    "                tenor=\"6M\", reference_date=ReferenceDate.START_DATE\n",
    "            ),\n",
    "            payer=\"Party1\",\n",
    "            receiver=\"Party2\",\n",
    "        )\n",
    "    ),\n",
    "    # Create an FX Forward Forward instrument whose start date is the January 1rst 2026 (adjusted from holiday), and end date June 1rst 2026 (adjusted from holiday)\n",
    "    \"01JAN2026/06JAN2026\": fx_forwards.FxForward(\n",
    "        definition=fx_forwards.FxForwardDefinition(\n",
    "            quoted_currency=\"USD\",\n",
    "            base_currency=\"EUR\",\n",
    "            start_date=AdjustableDate(date=\"2026-01-01\"),\n",
    "            end_date=AdjustableDate(date=\"2026-01-06\"),\n",
    "            payer=\"Party1\",\n",
    "            receiver=\"Party2\",\n",
    "        )\n",
    "    ),\n",
    "}"
   ]
  },
  {
   "cell_type": "markdown",
   "metadata": {},
   "source": [
    "## Compute dates for each FX forward\n",
    "Below we price each FxForward to check which start dates and end dates are used in the calculation."
   ]
  },
  {
   "cell_type": "code",
   "execution_count": 3,
   "metadata": {
    "execution": {
     "iopub.execute_input": "2025-09-18T09:07:28.894944Z",
     "iopub.status.busy": "2025-09-18T09:07:28.894297Z",
     "iopub.status.idle": "2025-09-18T09:08:36.813949Z",
     "shell.execute_reply": "2025-09-18T09:08:36.813373Z"
    }
   },
   "outputs": [],
   "source": [
    "# Define the valuation date\n",
    "valuation_date = \"2024-02-11\"\n",
    "\n",
    "# Loop through each FX Forward in the map and price it\n",
    "pricing_results = {}\n",
    "for key, fx_forward in fx_forwards_map.items():\n",
    "    fx_forward.save(name=\"temp_forward\", space=\"HOME\")\n",
    "    pricing_results[key] = fx_forward.price(\n",
    "        pricing_preferences=fx_forwards.FxPricingParameters(\n",
    "            valuation_date=valuation_date\n",
    "        )\n",
    "    )\n",
    "    fx_forwards.delete(name=\"temp_forward\", space=\"HOME\")"
   ]
  },
  {
   "cell_type": "markdown",
   "metadata": {},
   "source": [
    "## Display the response values\n",
    "Print the description of the response to see the start date, end date, and swap point bid/ask for each Fx Forward"
   ]
  },
  {
   "cell_type": "code",
   "execution_count": 4,
   "metadata": {
    "execution": {
     "iopub.execute_input": "2025-09-18T09:08:36.816609Z",
     "iopub.status.busy": "2025-09-18T09:08:36.816298Z",
     "iopub.status.idle": "2025-09-18T09:08:36.833772Z",
     "shell.execute_reply": "2025-09-18T09:08:36.833171Z"
    }
   },
   "outputs": [
    {
     "data": {
      "text/html": [
       "<div>\n",
       "<style scoped>\n",
       "    .dataframe tbody tr th:only-of-type {\n",
       "        vertical-align: middle;\n",
       "    }\n",
       "\n",
       "    .dataframe tbody tr th {\n",
       "        vertical-align: top;\n",
       "    }\n",
       "\n",
       "    .dataframe thead th {\n",
       "        text-align: right;\n",
       "    }\n",
       "</style>\n",
       "<table border=\"1\" class=\"dataframe\">\n",
       "  <thead>\n",
       "    <tr style=\"text-align: right;\">\n",
       "      <th></th>\n",
       "      <th>Case</th>\n",
       "      <th>StartDate</th>\n",
       "      <th>EndDate</th>\n",
       "      <th>Swap points (Bid)</th>\n",
       "      <th>Swap points (Ask)</th>\n",
       "    </tr>\n",
       "  </thead>\n",
       "  <tbody>\n",
       "    <tr>\n",
       "      <th>0</th>\n",
       "      <td>SPOT/3M</td>\n",
       "      <td>2024-02-13</td>\n",
       "      <td>2024-05-13</td>\n",
       "      <td>39.770000</td>\n",
       "      <td>40.170000</td>\n",
       "    </tr>\n",
       "    <tr>\n",
       "      <th>1</th>\n",
       "      <td>SPOT/SEPM</td>\n",
       "      <td>2024-02-13</td>\n",
       "      <td>2024-09-30</td>\n",
       "      <td>101.616562</td>\n",
       "      <td>104.175625</td>\n",
       "    </tr>\n",
       "    <tr>\n",
       "      <th>2</th>\n",
       "      <td>SPOT/OCTM</td>\n",
       "      <td>2024-02-13</td>\n",
       "      <td>2024-10-01</td>\n",
       "      <td>102.088125</td>\n",
       "      <td>104.621250</td>\n",
       "    </tr>\n",
       "    <tr>\n",
       "      <th>3</th>\n",
       "      <td>SPOT/ECB3</td>\n",
       "      <td>2024-02-13</td>\n",
       "      <td>2024-06-12</td>\n",
       "      <td>51.799032</td>\n",
       "      <td>53.747419</td>\n",
       "    </tr>\n",
       "    <tr>\n",
       "      <th>4</th>\n",
       "      <td>SPOT/1M15D</td>\n",
       "      <td>2024-02-13</td>\n",
       "      <td>2024-03-28</td>\n",
       "      <td>19.156364</td>\n",
       "      <td>19.354545</td>\n",
       "    </tr>\n",
       "    <tr>\n",
       "      <th>5</th>\n",
       "      <td>3M/6M</td>\n",
       "      <td>2024-05-13</td>\n",
       "      <td>2024-11-13</td>\n",
       "      <td>81.580000</td>\n",
       "      <td>87.080000</td>\n",
       "    </tr>\n",
       "    <tr>\n",
       "      <th>6</th>\n",
       "      <td>01JAN2026/06JAN2026</td>\n",
       "      <td>2026-01-02</td>\n",
       "      <td>2026-01-06</td>\n",
       "      <td>-7.294130</td>\n",
       "      <td>11.149348</td>\n",
       "    </tr>\n",
       "  </tbody>\n",
       "</table>\n",
       "</div>"
      ],
      "text/plain": [
       "                  Case   StartDate     EndDate  Swap points (Bid)  \\\n",
       "0              SPOT/3M  2024-02-13  2024-05-13          39.770000   \n",
       "1            SPOT/SEPM  2024-02-13  2024-09-30         101.616562   \n",
       "2            SPOT/OCTM  2024-02-13  2024-10-01         102.088125   \n",
       "3            SPOT/ECB3  2024-02-13  2024-06-12          51.799032   \n",
       "4           SPOT/1M15D  2024-02-13  2024-03-28          19.156364   \n",
       "5                3M/6M  2024-05-13  2024-11-13          81.580000   \n",
       "6  01JAN2026/06JAN2026  2026-01-02  2026-01-06          -7.294130   \n",
       "\n",
       "   Swap points (Ask)  \n",
       "0          40.170000  \n",
       "1         104.175625  \n",
       "2         104.621250  \n",
       "3          53.747419  \n",
       "4          19.354545  \n",
       "5          87.080000  \n",
       "6          11.149348  "
      ]
     },
     "metadata": {},
     "output_type": "display_data"
    }
   ],
   "source": [
    "results = [\n",
    "    {\n",
    "        \"Case\": key,\n",
    "        \"StartDate\": result.analytics.description.start_date.adjusted,\n",
    "        \"EndDate\": result.analytics.description.end_date.adjusted,\n",
    "        \"Swap points (Bid)\": result.analytics.pricing_analysis.fx_swaps_ccy1_ccy2.bid,\n",
    "        \"Swap points (Ask)\": result.analytics.pricing_analysis.fx_swaps_ccy1_ccy2.ask,\n",
    "    }\n",
    "    for key, result in pricing_results.items()\n",
    "]\n",
    "\n",
    "df = pd.DataFrame(results)\n",
    "display(df)"
   ]
  }
 ],
 "metadata": {
  "kernelspec": {
   "display_name": ".venv",
   "language": "python",
   "name": "python3"
  },
  "language_info": {
   "codemirror_mode": {
    "name": "ipython",
    "version": 3
   },
   "file_extension": ".py",
   "mimetype": "text/x-python",
   "name": "python",
   "nbconvert_exporter": "python",
   "pygments_lexer": "ipython3",
   "version": "3.11.6"
  }
 },
 "nbformat": 4,
 "nbformat_minor": 2
}
