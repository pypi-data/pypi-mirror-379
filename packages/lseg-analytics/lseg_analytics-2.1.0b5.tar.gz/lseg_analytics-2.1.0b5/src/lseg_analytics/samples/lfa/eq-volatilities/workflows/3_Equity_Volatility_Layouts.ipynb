{
 "cells": [
  {
   "cell_type": "markdown",
   "id": "1a108871",
   "metadata": {},
   "source": [
    "# Equity Volatility Layouts"
   ]
  },
  {
   "cell_type": "markdown",
   "id": "3a4cef20",
   "metadata": {},
   "source": [
    "This notebook demonstrates how to access and use the **ETI Volatility Surfaces** functionality within the **LSEG Analytics SDK**. \n",
    "\n",
    "ETI (Exchange Traded Instruments) volatility surfaces provide implied volatility data across different strikes and maturities for equity options. This enables quantitative analysis, risk management, and derivatives pricing for equity markets.\n",
    "\n",
    "**What you'll learn:**\n",
    "- How to setup different layout styles\n"
   ]
  },
  {
   "cell_type": "markdown",
   "id": "7cd0ad84",
   "metadata": {},
   "source": [
    "## Imports"
   ]
  },
  {
   "cell_type": "markdown",
   "id": "37a963b7",
   "metadata": {},
   "source": [
    "Import the following necessary modules:\n",
    "\n",
    "- `lseg_analytics.market_data.eq_volatility` - Main ETI volatility surfaces SDK"
   ]
  },
  {
   "cell_type": "code",
   "execution_count": 1,
   "id": "fb2218f1",
   "metadata": {
    "execution": {
     "iopub.execute_input": "2025-09-18T09:06:58.101488Z",
     "iopub.status.busy": "2025-09-18T09:06:58.100965Z",
     "iopub.status.idle": "2025-09-18T09:06:58.937161Z",
     "shell.execute_reply": "2025-09-18T09:06:58.936565Z"
    }
   },
   "outputs": [],
   "source": [
    "from lseg_analytics.market_data import eq_volatility as ev\n",
    "\n",
    "import plotly.graph_objects as go\n",
    "import pandas as pd\n",
    "import datetime as dt\n",
    "import json\n"
   ]
  },
  {
   "cell_type": "markdown",
   "id": "b9c3dd46",
   "metadata": {},
   "source": [
    "## Data Preparation"
   ]
  },
  {
   "cell_type": "markdown",
   "id": "9f33890b",
   "metadata": {},
   "source": [
    "For detailed explanation of fundamental steps to calculate volatility surfaces refer to **1_ETI_Volatility_Surfaces_Fundamentals** notebook."
   ]
  },
  {
   "cell_type": "markdown",
   "id": "72df26d2",
   "metadata": {},
   "source": [
    "### STEP 1: Create Surface Definition and Surface Parameters"
   ]
  },
  {
   "cell_type": "code",
   "execution_count": 2,
   "id": "bf4cacb1",
   "metadata": {
    "execution": {
     "iopub.execute_input": "2025-09-18T09:06:58.941399Z",
     "iopub.status.busy": "2025-09-18T09:06:58.939543Z",
     "iopub.status.idle": "2025-09-18T09:06:58.948467Z",
     "shell.execute_reply": "2025-09-18T09:06:58.947932Z"
    }
   },
   "outputs": [
    {
     "name": "stdout",
     "output_type": "stream",
     "text": [
      "Step 1: Creating Surface Definition...\n",
      "   ✓ Instrument: NVDA.O@RIC\n",
      "Step 2: Configuring Surface Parameters...\n"
     ]
    }
   ],
   "source": [
    "print(\"Step 1: Creating Surface Definition...\")\n",
    "\n",
    "# Create surface definition object to specify the underlying instrument\n",
    "surface_definition = ev.EtiSurfaceDefinition(\n",
    "    instrument_code=\"NVDA.O@RIC\"\n",
    ")\n",
    "\n",
    "print(f\"   ✓ Instrument: {surface_definition.instrument_code}\")\n",
    "\n",
    "print(\"Step 2: Configuring Surface Parameters...\")\n",
    "\n",
    "# Create surface parameters object to define how the surface is calculated\n",
    "surface_parameters = ev.EtiSurfaceParameters(\n",
    "    calculation_date=dt.datetime.strptime(\"2025-07-15\", \"%Y-%m-%d\"),\n",
    "    time_stamp=ev.CurvesAndSurfacesTimeStampEnum.DEFAULT,  # Options: CLOSE, OPEN, SETTLE, DEFAULT\n",
    "    input_volatility_type=ev.InputVolatilityTypeEnum.IMPLIED,  # Options: IMPLIED, QUOTED\n",
    "    volatility_model=ev.CurvesAndSurfacesVolatilityModelEnum.SSVI, # Options: SVI, SSVI\n",
    "    moneyness_type=ev.MoneynessTypeEnum.SPOT, \n",
    "    price_side=ev.CurvesAndSurfacesPriceSideEnum.MID, # Options: BID, MID, ASK\n",
    "    x_axis=ev.XAxisEnum.DELTA,  # Options: DATE, DELTA, MONEYNESS, STRIKE, TENOR\n",
    "    y_axis=ev.YAxisEnum.TENOR   # Options: same as X-axis\n",
    ")\n"
   ]
  },
  {
   "cell_type": "markdown",
   "id": "b6a67544",
   "metadata": {},
   "source": [
    "### STEP 2: Create Request Item and Layout"
   ]
  },
  {
   "cell_type": "code",
   "execution_count": 3,
   "id": "0da96082",
   "metadata": {
    "execution": {
     "iopub.execute_input": "2025-09-18T09:06:58.950522Z",
     "iopub.status.busy": "2025-09-18T09:06:58.950312Z",
     "iopub.status.idle": "2025-09-18T09:06:58.954800Z",
     "shell.execute_reply": "2025-09-18T09:06:58.954315Z"
    }
   },
   "outputs": [
    {
     "name": "stdout",
     "output_type": "stream",
     "text": [
      "\n",
      " Step 3: Creating Request Item...\n",
      "   ✓ Request Item: {'surfaceTag': 'NVDA_Volsurface', 'underlyingDefinition': {'instrumentCode': 'NVDA.O@RIC'}, 'surfaceParameters': {'calculationDate': '2025-07-15T00:00:00Z', 'timeStamp': 'Default', 'inputVolatilityType': 'Implied', 'volatilityModel': 'SSVI', 'moneynessType': 'Spot', 'priceSide': 'Mid', 'xAxis': 'Delta', 'yAxis': 'Tenor'}, 'underlyingType': 'Eti'}\n"
     ]
    }
   ],
   "source": [
    "print(\"\\n Step 3: Creating Request Item...\")\n",
    "\n",
    "# Create the main request object that combines all configuration\n",
    "request_item = ev.EtiVolatilitySurfaceRequestItem(\n",
    "    surface_tag='NVDA_Volsurface',\n",
    "    underlying_definition=surface_definition,\n",
    "    surface_parameters=surface_parameters,\n",
    "    underlying_type=ev.CurvesAndSurfacesUnderlyingTypeEnum.ETI\n",
    ")\n",
    "\n",
    "print(f\"   ✓ Request Item: {request_item}\")"
   ]
  },
  {
   "cell_type": "markdown",
   "id": "c2c09db5",
   "metadata": {},
   "source": [
    "#### STEP 2.1: Layout Configuration Options\n",
    "\n",
    "The `SurfaceOutput` class provides flexible control over how volatility surface data is structured and returned. Different layout configurations serve different use cases:\n",
    "\n",
    "**Format Types:**\n",
    "- **MATRIX** - 2D grid structure ideal for visualization and analysis\n",
    "- **LIST** - Flat array structure optimal for data processing and integration\n",
    "\n",
    "**Grid Specification Methods:**\n",
    "- **Specific Points** - Define exact coordinates using `VolatilitySurfacePoint` objects\n",
    "- **Grid Counts** - Specify number of points along each axis (`x_point_count`, `y_point_count`)\n",
    "- **Explicit Values** - Define exact axis values using `x_values` and `y_values` arrays and `VolatilitySurfacePoint` for point by point\n",
    "\n",
    "**IMPORTANT NOTE:**\n",
    "- **MATRIX** format supports only: `x_point_count`, `y_point_count`, `x_values` and `y_values` layout definition\n",
    "- **LIST** format supports only: `VolatilitySurfacePoint` layout definition"
   ]
  },
  {
   "cell_type": "code",
   "execution_count": 4,
   "id": "07e05a1a",
   "metadata": {
    "execution": {
     "iopub.execute_input": "2025-09-18T09:06:58.956803Z",
     "iopub.status.busy": "2025-09-18T09:06:58.956524Z",
     "iopub.status.idle": "2025-09-18T09:06:58.961540Z",
     "shell.execute_reply": "2025-09-18T09:06:58.961119Z"
    }
   },
   "outputs": [],
   "source": [
    "# ============= RESPONSE LAYOUT CONFIGURATION EXAMPLES =============\n",
    "\n",
    "# Example 1: Matrix format with grid point counts\n",
    "matrix_grid_layout = ev.SurfaceOutput(\n",
    "    format = ev.FormatEnum.MATRIX,\n",
    "    x_point_count = 10,                         # Generate 10 points along x-axis\n",
    "    y_point_count = 8                           # Generate 8 points along y-axis\n",
    ")\n",
    "\n",
    "# Example 2: Matrix format with explicit axis values\n",
    "matrix_specific_layout = ev.SurfaceOutput(\n",
    "    format = ev.FormatEnum.MATRIX,\n",
    "    x_values = ['0.1', '0.25', '0.5', '0.75', '0.9'],    # Specific delta values\n",
    "    y_values = ['1W', '1M', '3M', '6M', '1Y']            # Specific tenor values\n",
    ")\n",
    "\n",
    "# Example 3: List layout with specific points\n",
    "point_1 = ev.VolatilitySurfacePoint(x='0.25', y='1W')            # 25 delta, 1 week\n",
    "point_2 = ev.VolatilitySurfacePoint(x='0.5', y='1M')             # 50 delta, 1 month  \n",
    "point_3 = ev.VolatilitySurfacePoint(x='0.75', y='3M')            # 75 delta, 3 months\n",
    "point_4 = ev.VolatilitySurfacePoint(x='0.9', y='6M')             # 90 delta, 6 months\n",
    "\n",
    "list_specific_layout = ev.SurfaceOutput(\n",
    "    format=ev.FormatEnum.LIST,  # Structured 2D grid format\n",
    "    data_points = [point_1, point_2, point_3, point_4]\n",
    ")\n",
    "\n",
    "# ============= APPLY LAYOUT =============\n",
    "request_item.surface_layout = matrix_specific_layout"
   ]
  },
  {
   "cell_type": "markdown",
   "id": "b147a529",
   "metadata": {},
   "source": [
    "## Request Execution"
   ]
  },
  {
   "cell_type": "code",
   "execution_count": 5,
   "id": "b806d22a",
   "metadata": {
    "execution": {
     "iopub.execute_input": "2025-09-18T09:06:58.963592Z",
     "iopub.status.busy": "2025-09-18T09:06:58.963291Z",
     "iopub.status.idle": "2025-09-18T09:07:01.192061Z",
     "shell.execute_reply": "2025-09-18T09:07:01.191127Z"
    }
   },
   "outputs": [
    {
     "name": "stdout",
     "output_type": "stream",
     "text": [
      "   Calculation successful!\n",
      "   Surface data points available: 6\n"
     ]
    }
   ],
   "source": [
    "# Execute the calculation using the calculate function\n",
    "# The 'universe' parameter accepts a list of request items for batch processing\n",
    "try:\n",
    "    response = ev.calculate(universe=[request_item])\n",
    "\n",
    "    # Display response structure information\n",
    "    surface_data = response['data'][0]\n",
    "    if 'surface' in surface_data:\n",
    "        print(f\"   Calculation successful!\")\n",
    "        print(f\"   Surface data points available: {len(surface_data['surface'])}\")\n",
    "    else:\n",
    "        print(\"   No surface data found in response\")\n",
    "    \n",
    "except Exception as e:\n",
    "    print(f\"   Calculation failed: {str(e)}\")\n",
    "    raise"
   ]
  },
  {
   "cell_type": "markdown",
   "id": "fb88acc5",
   "metadata": {},
   "source": [
    "## Results Display"
   ]
  },
  {
   "cell_type": "code",
   "execution_count": 6,
   "id": "193ec382",
   "metadata": {
    "execution": {
     "iopub.execute_input": "2025-09-18T09:07:01.196152Z",
     "iopub.status.busy": "2025-09-18T09:07:01.195556Z",
     "iopub.status.idle": "2025-09-18T09:07:01.207554Z",
     "shell.execute_reply": "2025-09-18T09:07:01.206954Z"
    }
   },
   "outputs": [],
   "source": [
    "# Plotting utils\n",
    "\n",
    "def get_vol_surface_df(response, index=0):\n",
    "    \"\"\"\n",
    "    Extract and format volatility surface data from API response into a DataFrame.\n",
    "    \n",
    "    This function processes the raw volatility surface data from an API response,\n",
    "    handles various error conditions, and returns a properly formatted DataFrame\n",
    "    suitable for visualization functions.\n",
    "\n",
    "    \"\"\"\n",
    "    try:\n",
    "        vol_surface = response['data'][index]['surface']\n",
    "    except KeyError:\n",
    "        print(\"No surface data available in response.\")\n",
    "        return None\n",
    "    except TypeError:\n",
    "        print(\"No surface data available in response.\")\n",
    "        return None\n",
    "\n",
    "    expiries = vol_surface[0][1:]\n",
    "    strikes = []\n",
    "    values = []\n",
    "\n",
    "    for row in vol_surface[1:]:\n",
    "        strikes.append(row[0])\n",
    "        values.append(row[1:])\n",
    "\n",
    "    strikes = [round(float(s), 2) if isinstance(s, (int, float)) else s for s in strikes]\n",
    "\n",
    "    surface_df = pd.DataFrame(values, index=strikes, columns=expiries).T\n",
    "    surface_df = surface_df.astype(float).round(2)\n",
    "\n",
    "    return surface_df\n",
    "\n",
    "def plot_volatility_surface_plot(surf_table, x_axis, y_axis, colorscale=\"Turbo\"):\n",
    "    \"\"\"\n",
    "    Create an interactive 3D surface plot of the volatility surface with contour lines.\n",
    "    \n",
    "    This function generates a three-dimensional visualization where the x-axis represents\n",
    "    moneyness/strikes, y-axis represents expiries, and z-axis represents volatility values.\n",
    "    Contour lines are added for better depth perception.\n",
    "\n",
    "    Parameters\n",
    "    ----------\n",
    "    surf_table : pd.DataFrame\n",
    "        A DataFrame representing the volatility surface with expiries as index\n",
    "        and strike prices/moneyness as columns. Values should be volatility levels.\n",
    "    colorscale : str or list, optional\n",
    "        Plotly colorscale name (e.g., 'Viridis', 'Turbo', 'Plasma') or custom colorscale list.\n",
    "        Default is \"Turbo\".\n",
    "\n",
    "    Returns\n",
    "    -------\n",
    "    plotly.graph_objects.Figure\n",
    "  \n",
    "    \"\"\"\n",
    "    if len(surf_table) < 2:\n",
    "        fig = go.Figure()\n",
    "        fig.add_annotation(\n",
    "            text=\"Not enough data to display 3D surface\",\n",
    "            xref=\"paper\", yref=\"paper\",\n",
    "            x=0.5, y=0.5,\n",
    "            showarrow=False,\n",
    "            font=dict(size=18),\n",
    "            align=\"center\"\n",
    "        )\n",
    "        fig.update_layout(\n",
    "            title=dict(\n",
    "                text=\"3D Surface Plot of Volatility Surface\",\n",
    "                x=0.5,\n",
    "                xanchor=\"center\",\n",
    "                yanchor=\"top\",\n",
    "                y=0.95,\n",
    "                font=dict(size=16)\n",
    "            ),\n",
    "            autosize=True,\n",
    "            height=450,\n",
    "            margin={\"l\": 0, \"r\": 0, \"b\": 0, \"t\": 50},\n",
    "            dragmode=False,\n",
    "        )\n",
    "        return fig\n",
    "\n",
    "    x = surf_table.columns\n",
    "    y = surf_table.index\n",
    "    z = surf_table.values\n",
    "\n",
    "    fig = go.Figure(data=[go.Surface(\n",
    "        z=z, \n",
    "        x=x, \n",
    "        y=y, \n",
    "        colorscale=colorscale,\n",
    "        showscale=False,\n",
    "        contours={\n",
    "            \"y\": {\n",
    "                \"show\": True,\n",
    "                \"color\": \"black\",\n",
    "                \"highlightcolor\": \"black\",\n",
    "                \"size\": 0.05\n",
    "            },\n",
    "            \"z\": {\n",
    "                \"show\": True,\n",
    "                \"color\": \"black\",\n",
    "                \"highlightcolor\": \"black\",\n",
    "                \"size\": 0.05\n",
    "            }\n",
    "        }\n",
    "    )])\n",
    "\n",
    "    fig.update_layout(\n",
    "        title=dict(\n",
    "            text=\"3D Surface Plot of Volatility Surface\",\n",
    "            x=0.5,\n",
    "            xanchor=\"center\",\n",
    "            yanchor=\"top\",\n",
    "            y=0.95,\n",
    "            font=dict(size=16)\n",
    "        ),\n",
    "        scene={\n",
    "            \"xaxis_title\": x_axis,\n",
    "            \"yaxis_title\": y_axis,\n",
    "            \"zaxis_title\": \"Volatility\",\n",
    "            \"xaxis\": {\"showgrid\": True},\n",
    "            \"yaxis\": {\"showgrid\": True},\n",
    "            \"zaxis\": {\"showgrid\": True},\n",
    "            \"camera\": {\n",
    "                \"eye\": {\"x\": 0.96, \"y\": -1.53, \"z\": 0.39},\n",
    "                \"center\": {\"x\": 0.02, \"y\": -0.07, \"z\": -0.21},\n",
    "                \"up\": {\"x\": -0.18, \"y\": 0.27, \"z\": 0.95},\n",
    "                \"projection\": {\"type\": \"perspective\"}\n",
    "            }\n",
    "        },\n",
    "        dragmode=False,\n",
    "        autosize=True,\n",
    "        height=450,\n",
    "        width=800,\n",
    "    )\n",
    "\n",
    "    return fig\n",
    "\n",
    "def plot_surface_smile_by_expiry(surf_table, x_axis, y_axis):\n",
    "    \"\"\"\n",
    "    Create a 2D line plot showing volatility smiles for different expiry dates.\n",
    "    \n",
    "    This function plots multiple volatility smile curves, with each curve representing\n",
    "    a different expiry date. The x-axis shows moneyness/strikes and the y-axis shows\n",
    "    volatility levels.\n",
    "\n",
    "    Parameters\n",
    "    ----------\n",
    "    surf_table : pd.DataFrame\n",
    "        A DataFrame with expiries as index and strike prices/moneyness as columns.\n",
    "        Values should be volatility levels for each expiry-strike combination.\n",
    "\n",
    "    Returns\n",
    "    -------\n",
    "    plotly.graph_objects.Figure\n",
    "        Interactive line plot with each expiry represented as a separate trace.\n",
    "        \n",
    "    \"\"\"\n",
    "    fig = go.Figure()\n",
    "\n",
    "    for expiry in surf_table.index:\n",
    "        fig.add_trace(go.Scatter(\n",
    "            x=surf_table.columns.astype(float),\n",
    "            y=surf_table.loc[expiry],\n",
    "            mode='lines+markers',\n",
    "            name=expiry\n",
    "        ))\n",
    "\n",
    "    fig.update_layout(\n",
    "        title=dict(\n",
    "            text='Surface Smile by Expiry',\n",
    "            x=0.5,\n",
    "            xanchor=\"center\",\n",
    "            yanchor=\"top\",\n",
    "            y=0.95,\n",
    "            font=dict(size=16)\n",
    "        ),\n",
    "        xaxis_title=x_axis,\n",
    "        yaxis_title='Volatility',\n",
    "        legend_title=y_axis,\n",
    "        template='plotly_white',\n",
    "        dragmode=False,\n",
    "        autosize=True,\n",
    "        height=450,\n",
    "        width=800,\n",
    "    )\n",
    "\n",
    "    return fig"
   ]
  },
  {
   "cell_type": "code",
   "execution_count": 7,
   "id": "c4f60bb0",
   "metadata": {
    "execution": {
     "iopub.execute_input": "2025-09-18T09:07:01.209650Z",
     "iopub.status.busy": "2025-09-18T09:07:01.209362Z",
     "iopub.status.idle": "2025-09-18T09:07:01.214263Z",
     "shell.execute_reply": "2025-09-18T09:07:01.213730Z"
    }
   },
   "outputs": [
    {
     "name": "stdout",
     "output_type": "stream",
     "text": [
      "Surface DataFrame Info:\n",
      "   ✓ Shape: (5, 5) (rows × columns)\n",
      "   ✓ x_axis: DELTA\n",
      "   ✓ y_axis: TENOR\n"
     ]
    }
   ],
   "source": [
    "# Convert API response to pandas DataFrame for easier manipulation \n",
    "# This function extracts volatility data points and organizes them by strike/expiry \n",
    "surface_df = get_vol_surface_df(response)\n",
    "\n",
    "# Extract axis names for labeling plots\n",
    "x_axis = surface_parameters.x_axis.name\n",
    "y_axis = surface_parameters.y_axis.name\n",
    "\n",
    "print(\"Surface DataFrame Info:\") \n",
    "print(f\"   ✓ Shape: {surface_df.shape} (rows × columns)\") \n",
    "print(f\"   ✓ x_axis: {x_axis}\") \n",
    "print(f\"   ✓ y_axis: {y_axis}\") "
   ]
  },
  {
   "cell_type": "code",
   "execution_count": 8,
   "id": "9a9b2bfb",
   "metadata": {
    "execution": {
     "iopub.execute_input": "2025-09-18T09:07:01.216055Z",
     "iopub.status.busy": "2025-09-18T09:07:01.215816Z",
     "iopub.status.idle": "2025-09-18T09:07:01.513407Z",
     "shell.execute_reply": "2025-09-18T09:07:01.512951Z"
    }
   },
   "outputs": [
    {
     "data": {
      "application/vnd.plotly.v1+json": {
       "config": {
        "plotlyServerURL": "https://plot.ly"
       },
       "data": [
        {
         "colorscale": [
          [
           0.0,
           "#30123b"
          ],
          [
           0.07142857142857142,
           "#4145ab"
          ],
          [
           0.14285714285714285,
           "#4675ed"
          ],
          [
           0.21428571428571427,
           "#39a2fc"
          ],
          [
           0.2857142857142857,
           "#1bcfd4"
          ],
          [
           0.35714285714285715,
           "#24eca6"
          ],
          [
           0.42857142857142855,
           "#61fc6c"
          ],
          [
           0.5,
           "#a4fc3b"
          ],
          [
           0.5714285714285714,
           "#d1e834"
          ],
          [
           0.6428571428571429,
           "#f3c63a"
          ],
          [
           0.7142857142857143,
           "#fe9b2d"
          ],
          [
           0.7857142857142857,
           "#f36315"
          ],
          [
           0.8571428571428571,
           "#d93806"
          ],
          [
           0.9285714285714286,
           "#b11901"
          ],
          [
           1.0,
           "#7a0402"
          ]
         ],
         "contours": {
          "y": {
           "color": "black",
           "highlightcolor": "black",
           "show": true,
           "size": 0.05
          },
          "z": {
           "color": "black",
           "highlightcolor": "black",
           "show": true,
           "size": 0.05
          }
         },
         "showscale": false,
         "type": "surface",
         "x": [
          "0.1",
          "0.25",
          "0.5",
          "0.75",
          "0.9"
         ],
         "y": [
          "1W",
          "1M",
          "3M",
          "6M",
          "1Y"
         ],
         "z": {
          "bdata": "KVyPwvVIQ0AzMzMzM5NCQHE9CtejUEJAw/UoXI+iQkAzMzMzM5NDQOF6FK5HQUNA16NwPQrXQkApXI/C9QhDQHE9CtejEERAexSuR+EaRkBxPQrXo3BDQFyPwvUoPENAzczMzMysQ0CkcD0K1wNFQArXo3A9akdAmpmZmZmZQ0AfhetRuH5DQIXrUbgeBURAhetRuB5lRUCamZmZmblHQI/C9Shcr0NAKVyPwvWoQ0D2KFyPwjVEQIXrUbgehUVA4XoUrkehR0A=",
          "dtype": "f8",
          "shape": "5, 5"
         }
        }
       ],
       "layout": {
        "autosize": true,
        "dragmode": false,
        "height": 450,
        "scene": {
         "camera": {
          "center": {
           "x": 0.02,
           "y": -0.07,
           "z": -0.21
          },
          "eye": {
           "x": 0.96,
           "y": -1.53,
           "z": 0.39
          },
          "projection": {
           "type": "perspective"
          },
          "up": {
           "x": -0.18,
           "y": 0.27,
           "z": 0.95
          }
         },
         "xaxis": {
          "showgrid": true,
          "title": {
           "text": "DELTA"
          }
         },
         "yaxis": {
          "showgrid": true,
          "title": {
           "text": "TENOR"
          }
         },
         "zaxis": {
          "showgrid": true,
          "title": {
           "text": "Volatility"
          }
         }
        },
        "template": {
         "data": {
          "bar": [
           {
            "error_x": {
             "color": "#2a3f5f"
            },
            "error_y": {
             "color": "#2a3f5f"
            },
            "marker": {
             "line": {
              "color": "#E5ECF6",
              "width": 0.5
             },
             "pattern": {
              "fillmode": "overlay",
              "size": 10,
              "solidity": 0.2
             }
            },
            "type": "bar"
           }
          ],
          "barpolar": [
           {
            "marker": {
             "line": {
              "color": "#E5ECF6",
              "width": 0.5
             },
             "pattern": {
              "fillmode": "overlay",
              "size": 10,
              "solidity": 0.2
             }
            },
            "type": "barpolar"
           }
          ],
          "carpet": [
           {
            "aaxis": {
             "endlinecolor": "#2a3f5f",
             "gridcolor": "white",
             "linecolor": "white",
             "minorgridcolor": "white",
             "startlinecolor": "#2a3f5f"
            },
            "baxis": {
             "endlinecolor": "#2a3f5f",
             "gridcolor": "white",
             "linecolor": "white",
             "minorgridcolor": "white",
             "startlinecolor": "#2a3f5f"
            },
            "type": "carpet"
           }
          ],
          "choropleth": [
           {
            "colorbar": {
             "outlinewidth": 0,
             "ticks": ""
            },
            "type": "choropleth"
           }
          ],
          "contour": [
           {
            "colorbar": {
             "outlinewidth": 0,
             "ticks": ""
            },
            "colorscale": [
             [
              0.0,
              "#0d0887"
             ],
             [
              0.1111111111111111,
              "#46039f"
             ],
             [
              0.2222222222222222,
              "#7201a8"
             ],
             [
              0.3333333333333333,
              "#9c179e"
             ],
             [
              0.4444444444444444,
              "#bd3786"
             ],
             [
              0.5555555555555556,
              "#d8576b"
             ],
             [
              0.6666666666666666,
              "#ed7953"
             ],
             [
              0.7777777777777778,
              "#fb9f3a"
             ],
             [
              0.8888888888888888,
              "#fdca26"
             ],
             [
              1.0,
              "#f0f921"
             ]
            ],
            "type": "contour"
           }
          ],
          "contourcarpet": [
           {
            "colorbar": {
             "outlinewidth": 0,
             "ticks": ""
            },
            "type": "contourcarpet"
           }
          ],
          "heatmap": [
           {
            "colorbar": {
             "outlinewidth": 0,
             "ticks": ""
            },
            "colorscale": [
             [
              0.0,
              "#0d0887"
             ],
             [
              0.1111111111111111,
              "#46039f"
             ],
             [
              0.2222222222222222,
              "#7201a8"
             ],
             [
              0.3333333333333333,
              "#9c179e"
             ],
             [
              0.4444444444444444,
              "#bd3786"
             ],
             [
              0.5555555555555556,
              "#d8576b"
             ],
             [
              0.6666666666666666,
              "#ed7953"
             ],
             [
              0.7777777777777778,
              "#fb9f3a"
             ],
             [
              0.8888888888888888,
              "#fdca26"
             ],
             [
              1.0,
              "#f0f921"
             ]
            ],
            "type": "heatmap"
           }
          ],
          "histogram": [
           {
            "marker": {
             "pattern": {
              "fillmode": "overlay",
              "size": 10,
              "solidity": 0.2
             }
            },
            "type": "histogram"
           }
          ],
          "histogram2d": [
           {
            "colorbar": {
             "outlinewidth": 0,
             "ticks": ""
            },
            "colorscale": [
             [
              0.0,
              "#0d0887"
             ],
             [
              0.1111111111111111,
              "#46039f"
             ],
             [
              0.2222222222222222,
              "#7201a8"
             ],
             [
              0.3333333333333333,
              "#9c179e"
             ],
             [
              0.4444444444444444,
              "#bd3786"
             ],
             [
              0.5555555555555556,
              "#d8576b"
             ],
             [
              0.6666666666666666,
              "#ed7953"
             ],
             [
              0.7777777777777778,
              "#fb9f3a"
             ],
             [
              0.8888888888888888,
              "#fdca26"
             ],
             [
              1.0,
              "#f0f921"
             ]
            ],
            "type": "histogram2d"
           }
          ],
          "histogram2dcontour": [
           {
            "colorbar": {
             "outlinewidth": 0,
             "ticks": ""
            },
            "colorscale": [
             [
              0.0,
              "#0d0887"
             ],
             [
              0.1111111111111111,
              "#46039f"
             ],
             [
              0.2222222222222222,
              "#7201a8"
             ],
             [
              0.3333333333333333,
              "#9c179e"
             ],
             [
              0.4444444444444444,
              "#bd3786"
             ],
             [
              0.5555555555555556,
              "#d8576b"
             ],
             [
              0.6666666666666666,
              "#ed7953"
             ],
             [
              0.7777777777777778,
              "#fb9f3a"
             ],
             [
              0.8888888888888888,
              "#fdca26"
             ],
             [
              1.0,
              "#f0f921"
             ]
            ],
            "type": "histogram2dcontour"
           }
          ],
          "mesh3d": [
           {
            "colorbar": {
             "outlinewidth": 0,
             "ticks": ""
            },
            "type": "mesh3d"
           }
          ],
          "parcoords": [
           {
            "line": {
             "colorbar": {
              "outlinewidth": 0,
              "ticks": ""
             }
            },
            "type": "parcoords"
           }
          ],
          "pie": [
           {
            "automargin": true,
            "type": "pie"
           }
          ],
          "scatter": [
           {
            "fillpattern": {
             "fillmode": "overlay",
             "size": 10,
             "solidity": 0.2
            },
            "type": "scatter"
           }
          ],
          "scatter3d": [
           {
            "line": {
             "colorbar": {
              "outlinewidth": 0,
              "ticks": ""
             }
            },
            "marker": {
             "colorbar": {
              "outlinewidth": 0,
              "ticks": ""
             }
            },
            "type": "scatter3d"
           }
          ],
          "scattercarpet": [
           {
            "marker": {
             "colorbar": {
              "outlinewidth": 0,
              "ticks": ""
             }
            },
            "type": "scattercarpet"
           }
          ],
          "scattergeo": [
           {
            "marker": {
             "colorbar": {
              "outlinewidth": 0,
              "ticks": ""
             }
            },
            "type": "scattergeo"
           }
          ],
          "scattergl": [
           {
            "marker": {
             "colorbar": {
              "outlinewidth": 0,
              "ticks": ""
             }
            },
            "type": "scattergl"
           }
          ],
          "scattermap": [
           {
            "marker": {
             "colorbar": {
              "outlinewidth": 0,
              "ticks": ""
             }
            },
            "type": "scattermap"
           }
          ],
          "scattermapbox": [
           {
            "marker": {
             "colorbar": {
              "outlinewidth": 0,
              "ticks": ""
             }
            },
            "type": "scattermapbox"
           }
          ],
          "scatterpolar": [
           {
            "marker": {
             "colorbar": {
              "outlinewidth": 0,
              "ticks": ""
             }
            },
            "type": "scatterpolar"
           }
          ],
          "scatterpolargl": [
           {
            "marker": {
             "colorbar": {
              "outlinewidth": 0,
              "ticks": ""
             }
            },
            "type": "scatterpolargl"
           }
          ],
          "scatterternary": [
           {
            "marker": {
             "colorbar": {
              "outlinewidth": 0,
              "ticks": ""
             }
            },
            "type": "scatterternary"
           }
          ],
          "surface": [
           {
            "colorbar": {
             "outlinewidth": 0,
             "ticks": ""
            },
            "colorscale": [
             [
              0.0,
              "#0d0887"
             ],
             [
              0.1111111111111111,
              "#46039f"
             ],
             [
              0.2222222222222222,
              "#7201a8"
             ],
             [
              0.3333333333333333,
              "#9c179e"
             ],
             [
              0.4444444444444444,
              "#bd3786"
             ],
             [
              0.5555555555555556,
              "#d8576b"
             ],
             [
              0.6666666666666666,
              "#ed7953"
             ],
             [
              0.7777777777777778,
              "#fb9f3a"
             ],
             [
              0.8888888888888888,
              "#fdca26"
             ],
             [
              1.0,
              "#f0f921"
             ]
            ],
            "type": "surface"
           }
          ],
          "table": [
           {
            "cells": {
             "fill": {
              "color": "#EBF0F8"
             },
             "line": {
              "color": "white"
             }
            },
            "header": {
             "fill": {
              "color": "#C8D4E3"
             },
             "line": {
              "color": "white"
             }
            },
            "type": "table"
           }
          ]
         },
         "layout": {
          "annotationdefaults": {
           "arrowcolor": "#2a3f5f",
           "arrowhead": 0,
           "arrowwidth": 1
          },
          "autotypenumbers": "strict",
          "coloraxis": {
           "colorbar": {
            "outlinewidth": 0,
            "ticks": ""
           }
          },
          "colorscale": {
           "diverging": [
            [
             0,
             "#8e0152"
            ],
            [
             0.1,
             "#c51b7d"
            ],
            [
             0.2,
             "#de77ae"
            ],
            [
             0.3,
             "#f1b6da"
            ],
            [
             0.4,
             "#fde0ef"
            ],
            [
             0.5,
             "#f7f7f7"
            ],
            [
             0.6,
             "#e6f5d0"
            ],
            [
             0.7,
             "#b8e186"
            ],
            [
             0.8,
             "#7fbc41"
            ],
            [
             0.9,
             "#4d9221"
            ],
            [
             1,
             "#276419"
            ]
           ],
           "sequential": [
            [
             0.0,
             "#0d0887"
            ],
            [
             0.1111111111111111,
             "#46039f"
            ],
            [
             0.2222222222222222,
             "#7201a8"
            ],
            [
             0.3333333333333333,
             "#9c179e"
            ],
            [
             0.4444444444444444,
             "#bd3786"
            ],
            [
             0.5555555555555556,
             "#d8576b"
            ],
            [
             0.6666666666666666,
             "#ed7953"
            ],
            [
             0.7777777777777778,
             "#fb9f3a"
            ],
            [
             0.8888888888888888,
             "#fdca26"
            ],
            [
             1.0,
             "#f0f921"
            ]
           ],
           "sequentialminus": [
            [
             0.0,
             "#0d0887"
            ],
            [
             0.1111111111111111,
             "#46039f"
            ],
            [
             0.2222222222222222,
             "#7201a8"
            ],
            [
             0.3333333333333333,
             "#9c179e"
            ],
            [
             0.4444444444444444,
             "#bd3786"
            ],
            [
             0.5555555555555556,
             "#d8576b"
            ],
            [
             0.6666666666666666,
             "#ed7953"
            ],
            [
             0.7777777777777778,
             "#fb9f3a"
            ],
            [
             0.8888888888888888,
             "#fdca26"
            ],
            [
             1.0,
             "#f0f921"
            ]
           ]
          },
          "colorway": [
           "#636efa",
           "#EF553B",
           "#00cc96",
           "#ab63fa",
           "#FFA15A",
           "#19d3f3",
           "#FF6692",
           "#B6E880",
           "#FF97FF",
           "#FECB52"
          ],
          "font": {
           "color": "#2a3f5f"
          },
          "geo": {
           "bgcolor": "white",
           "lakecolor": "white",
           "landcolor": "#E5ECF6",
           "showlakes": true,
           "showland": true,
           "subunitcolor": "white"
          },
          "hoverlabel": {
           "align": "left"
          },
          "hovermode": "closest",
          "mapbox": {
           "style": "light"
          },
          "paper_bgcolor": "white",
          "plot_bgcolor": "#E5ECF6",
          "polar": {
           "angularaxis": {
            "gridcolor": "white",
            "linecolor": "white",
            "ticks": ""
           },
           "bgcolor": "#E5ECF6",
           "radialaxis": {
            "gridcolor": "white",
            "linecolor": "white",
            "ticks": ""
           }
          },
          "scene": {
           "xaxis": {
            "backgroundcolor": "#E5ECF6",
            "gridcolor": "white",
            "gridwidth": 2,
            "linecolor": "white",
            "showbackground": true,
            "ticks": "",
            "zerolinecolor": "white"
           },
           "yaxis": {
            "backgroundcolor": "#E5ECF6",
            "gridcolor": "white",
            "gridwidth": 2,
            "linecolor": "white",
            "showbackground": true,
            "ticks": "",
            "zerolinecolor": "white"
           },
           "zaxis": {
            "backgroundcolor": "#E5ECF6",
            "gridcolor": "white",
            "gridwidth": 2,
            "linecolor": "white",
            "showbackground": true,
            "ticks": "",
            "zerolinecolor": "white"
           }
          },
          "shapedefaults": {
           "line": {
            "color": "#2a3f5f"
           }
          },
          "ternary": {
           "aaxis": {
            "gridcolor": "white",
            "linecolor": "white",
            "ticks": ""
           },
           "baxis": {
            "gridcolor": "white",
            "linecolor": "white",
            "ticks": ""
           },
           "bgcolor": "#E5ECF6",
           "caxis": {
            "gridcolor": "white",
            "linecolor": "white",
            "ticks": ""
           }
          },
          "title": {
           "x": 0.05
          },
          "xaxis": {
           "automargin": true,
           "gridcolor": "white",
           "linecolor": "white",
           "ticks": "",
           "title": {
            "standoff": 15
           },
           "zerolinecolor": "white",
           "zerolinewidth": 2
          },
          "yaxis": {
           "automargin": true,
           "gridcolor": "white",
           "linecolor": "white",
           "ticks": "",
           "title": {
            "standoff": 15
           },
           "zerolinecolor": "white",
           "zerolinewidth": 2
          }
         }
        },
        "title": {
         "font": {
          "size": 16
         },
         "text": "3D Surface Plot of Volatility Surface",
         "x": 0.5,
         "xanchor": "center",
         "y": 0.95,
         "yanchor": "top"
        },
        "width": 800
       }
      }
     },
     "metadata": {},
     "output_type": "display_data"
    }
   ],
   "source": [
    "plot_volatility_surface_plot(surface_df, x_axis, y_axis)"
   ]
  },
  {
   "cell_type": "code",
   "execution_count": 9,
   "id": "a7920eb1",
   "metadata": {
    "execution": {
     "iopub.execute_input": "2025-09-18T09:07:01.515588Z",
     "iopub.status.busy": "2025-09-18T09:07:01.515265Z",
     "iopub.status.idle": "2025-09-18T09:07:01.604129Z",
     "shell.execute_reply": "2025-09-18T09:07:01.603527Z"
    }
   },
   "outputs": [
    {
     "data": {
      "application/vnd.plotly.v1+json": {
       "config": {
        "plotlyServerURL": "https://plot.ly"
       },
       "data": [
        {
         "mode": "lines+markers",
         "name": "1W",
         "type": "scatter",
         "x": {
          "bdata": "mpmZmZmZuT8AAAAAAADQPwAAAAAAAOA/AAAAAAAA6D/NzMzMzMzsPw==",
          "dtype": "f8"
         },
         "y": {
          "bdata": "KVyPwvVIQ0AzMzMzM5NCQHE9CtejUEJAw/UoXI+iQkAzMzMzM5NDQA==",
          "dtype": "f8"
         }
        },
        {
         "mode": "lines+markers",
         "name": "1M",
         "type": "scatter",
         "x": {
          "bdata": "mpmZmZmZuT8AAAAAAADQPwAAAAAAAOA/AAAAAAAA6D/NzMzMzMzsPw==",
          "dtype": "f8"
         },
         "y": {
          "bdata": "4XoUrkdBQ0DXo3A9CtdCQClcj8L1CENAcT0K16MQREB7FK5H4RpGQA==",
          "dtype": "f8"
         }
        },
        {
         "mode": "lines+markers",
         "name": "3M",
         "type": "scatter",
         "x": {
          "bdata": "mpmZmZmZuT8AAAAAAADQPwAAAAAAAOA/AAAAAAAA6D/NzMzMzMzsPw==",
          "dtype": "f8"
         },
         "y": {
          "bdata": "cT0K16NwQ0Bcj8L1KDxDQM3MzMzMrENApHA9CtcDRUAK16NwPWpHQA==",
          "dtype": "f8"
         }
        },
        {
         "mode": "lines+markers",
         "name": "6M",
         "type": "scatter",
         "x": {
          "bdata": "mpmZmZmZuT8AAAAAAADQPwAAAAAAAOA/AAAAAAAA6D/NzMzMzMzsPw==",
          "dtype": "f8"
         },
         "y": {
          "bdata": "mpmZmZmZQ0AfhetRuH5DQIXrUbgeBURAhetRuB5lRUCamZmZmblHQA==",
          "dtype": "f8"
         }
        },
        {
         "mode": "lines+markers",
         "name": "1Y",
         "type": "scatter",
         "x": {
          "bdata": "mpmZmZmZuT8AAAAAAADQPwAAAAAAAOA/AAAAAAAA6D/NzMzMzMzsPw==",
          "dtype": "f8"
         },
         "y": {
          "bdata": "j8L1KFyvQ0ApXI/C9ahDQPYoXI/CNURAhetRuB6FRUDhehSuR6FHQA==",
          "dtype": "f8"
         }
        }
       ],
       "layout": {
        "autosize": true,
        "dragmode": false,
        "height": 450,
        "legend": {
         "title": {
          "text": "TENOR"
         }
        },
        "template": {
         "data": {
          "bar": [
           {
            "error_x": {
             "color": "#2a3f5f"
            },
            "error_y": {
             "color": "#2a3f5f"
            },
            "marker": {
             "line": {
              "color": "white",
              "width": 0.5
             },
             "pattern": {
              "fillmode": "overlay",
              "size": 10,
              "solidity": 0.2
             }
            },
            "type": "bar"
           }
          ],
          "barpolar": [
           {
            "marker": {
             "line": {
              "color": "white",
              "width": 0.5
             },
             "pattern": {
              "fillmode": "overlay",
              "size": 10,
              "solidity": 0.2
             }
            },
            "type": "barpolar"
           }
          ],
          "carpet": [
           {
            "aaxis": {
             "endlinecolor": "#2a3f5f",
             "gridcolor": "#C8D4E3",
             "linecolor": "#C8D4E3",
             "minorgridcolor": "#C8D4E3",
             "startlinecolor": "#2a3f5f"
            },
            "baxis": {
             "endlinecolor": "#2a3f5f",
             "gridcolor": "#C8D4E3",
             "linecolor": "#C8D4E3",
             "minorgridcolor": "#C8D4E3",
             "startlinecolor": "#2a3f5f"
            },
            "type": "carpet"
           }
          ],
          "choropleth": [
           {
            "colorbar": {
             "outlinewidth": 0,
             "ticks": ""
            },
            "type": "choropleth"
           }
          ],
          "contour": [
           {
            "colorbar": {
             "outlinewidth": 0,
             "ticks": ""
            },
            "colorscale": [
             [
              0.0,
              "#0d0887"
             ],
             [
              0.1111111111111111,
              "#46039f"
             ],
             [
              0.2222222222222222,
              "#7201a8"
             ],
             [
              0.3333333333333333,
              "#9c179e"
             ],
             [
              0.4444444444444444,
              "#bd3786"
             ],
             [
              0.5555555555555556,
              "#d8576b"
             ],
             [
              0.6666666666666666,
              "#ed7953"
             ],
             [
              0.7777777777777778,
              "#fb9f3a"
             ],
             [
              0.8888888888888888,
              "#fdca26"
             ],
             [
              1.0,
              "#f0f921"
             ]
            ],
            "type": "contour"
           }
          ],
          "contourcarpet": [
           {
            "colorbar": {
             "outlinewidth": 0,
             "ticks": ""
            },
            "type": "contourcarpet"
           }
          ],
          "heatmap": [
           {
            "colorbar": {
             "outlinewidth": 0,
             "ticks": ""
            },
            "colorscale": [
             [
              0.0,
              "#0d0887"
             ],
             [
              0.1111111111111111,
              "#46039f"
             ],
             [
              0.2222222222222222,
              "#7201a8"
             ],
             [
              0.3333333333333333,
              "#9c179e"
             ],
             [
              0.4444444444444444,
              "#bd3786"
             ],
             [
              0.5555555555555556,
              "#d8576b"
             ],
             [
              0.6666666666666666,
              "#ed7953"
             ],
             [
              0.7777777777777778,
              "#fb9f3a"
             ],
             [
              0.8888888888888888,
              "#fdca26"
             ],
             [
              1.0,
              "#f0f921"
             ]
            ],
            "type": "heatmap"
           }
          ],
          "histogram": [
           {
            "marker": {
             "pattern": {
              "fillmode": "overlay",
              "size": 10,
              "solidity": 0.2
             }
            },
            "type": "histogram"
           }
          ],
          "histogram2d": [
           {
            "colorbar": {
             "outlinewidth": 0,
             "ticks": ""
            },
            "colorscale": [
             [
              0.0,
              "#0d0887"
             ],
             [
              0.1111111111111111,
              "#46039f"
             ],
             [
              0.2222222222222222,
              "#7201a8"
             ],
             [
              0.3333333333333333,
              "#9c179e"
             ],
             [
              0.4444444444444444,
              "#bd3786"
             ],
             [
              0.5555555555555556,
              "#d8576b"
             ],
             [
              0.6666666666666666,
              "#ed7953"
             ],
             [
              0.7777777777777778,
              "#fb9f3a"
             ],
             [
              0.8888888888888888,
              "#fdca26"
             ],
             [
              1.0,
              "#f0f921"
             ]
            ],
            "type": "histogram2d"
           }
          ],
          "histogram2dcontour": [
           {
            "colorbar": {
             "outlinewidth": 0,
             "ticks": ""
            },
            "colorscale": [
             [
              0.0,
              "#0d0887"
             ],
             [
              0.1111111111111111,
              "#46039f"
             ],
             [
              0.2222222222222222,
              "#7201a8"
             ],
             [
              0.3333333333333333,
              "#9c179e"
             ],
             [
              0.4444444444444444,
              "#bd3786"
             ],
             [
              0.5555555555555556,
              "#d8576b"
             ],
             [
              0.6666666666666666,
              "#ed7953"
             ],
             [
              0.7777777777777778,
              "#fb9f3a"
             ],
             [
              0.8888888888888888,
              "#fdca26"
             ],
             [
              1.0,
              "#f0f921"
             ]
            ],
            "type": "histogram2dcontour"
           }
          ],
          "mesh3d": [
           {
            "colorbar": {
             "outlinewidth": 0,
             "ticks": ""
            },
            "type": "mesh3d"
           }
          ],
          "parcoords": [
           {
            "line": {
             "colorbar": {
              "outlinewidth": 0,
              "ticks": ""
             }
            },
            "type": "parcoords"
           }
          ],
          "pie": [
           {
            "automargin": true,
            "type": "pie"
           }
          ],
          "scatter": [
           {
            "fillpattern": {
             "fillmode": "overlay",
             "size": 10,
             "solidity": 0.2
            },
            "type": "scatter"
           }
          ],
          "scatter3d": [
           {
            "line": {
             "colorbar": {
              "outlinewidth": 0,
              "ticks": ""
             }
            },
            "marker": {
             "colorbar": {
              "outlinewidth": 0,
              "ticks": ""
             }
            },
            "type": "scatter3d"
           }
          ],
          "scattercarpet": [
           {
            "marker": {
             "colorbar": {
              "outlinewidth": 0,
              "ticks": ""
             }
            },
            "type": "scattercarpet"
           }
          ],
          "scattergeo": [
           {
            "marker": {
             "colorbar": {
              "outlinewidth": 0,
              "ticks": ""
             }
            },
            "type": "scattergeo"
           }
          ],
          "scattergl": [
           {
            "marker": {
             "colorbar": {
              "outlinewidth": 0,
              "ticks": ""
             }
            },
            "type": "scattergl"
           }
          ],
          "scattermap": [
           {
            "marker": {
             "colorbar": {
              "outlinewidth": 0,
              "ticks": ""
             }
            },
            "type": "scattermap"
           }
          ],
          "scattermapbox": [
           {
            "marker": {
             "colorbar": {
              "outlinewidth": 0,
              "ticks": ""
             }
            },
            "type": "scattermapbox"
           }
          ],
          "scatterpolar": [
           {
            "marker": {
             "colorbar": {
              "outlinewidth": 0,
              "ticks": ""
             }
            },
            "type": "scatterpolar"
           }
          ],
          "scatterpolargl": [
           {
            "marker": {
             "colorbar": {
              "outlinewidth": 0,
              "ticks": ""
             }
            },
            "type": "scatterpolargl"
           }
          ],
          "scatterternary": [
           {
            "marker": {
             "colorbar": {
              "outlinewidth": 0,
              "ticks": ""
             }
            },
            "type": "scatterternary"
           }
          ],
          "surface": [
           {
            "colorbar": {
             "outlinewidth": 0,
             "ticks": ""
            },
            "colorscale": [
             [
              0.0,
              "#0d0887"
             ],
             [
              0.1111111111111111,
              "#46039f"
             ],
             [
              0.2222222222222222,
              "#7201a8"
             ],
             [
              0.3333333333333333,
              "#9c179e"
             ],
             [
              0.4444444444444444,
              "#bd3786"
             ],
             [
              0.5555555555555556,
              "#d8576b"
             ],
             [
              0.6666666666666666,
              "#ed7953"
             ],
             [
              0.7777777777777778,
              "#fb9f3a"
             ],
             [
              0.8888888888888888,
              "#fdca26"
             ],
             [
              1.0,
              "#f0f921"
             ]
            ],
            "type": "surface"
           }
          ],
          "table": [
           {
            "cells": {
             "fill": {
              "color": "#EBF0F8"
             },
             "line": {
              "color": "white"
             }
            },
            "header": {
             "fill": {
              "color": "#C8D4E3"
             },
             "line": {
              "color": "white"
             }
            },
            "type": "table"
           }
          ]
         },
         "layout": {
          "annotationdefaults": {
           "arrowcolor": "#2a3f5f",
           "arrowhead": 0,
           "arrowwidth": 1
          },
          "autotypenumbers": "strict",
          "coloraxis": {
           "colorbar": {
            "outlinewidth": 0,
            "ticks": ""
           }
          },
          "colorscale": {
           "diverging": [
            [
             0,
             "#8e0152"
            ],
            [
             0.1,
             "#c51b7d"
            ],
            [
             0.2,
             "#de77ae"
            ],
            [
             0.3,
             "#f1b6da"
            ],
            [
             0.4,
             "#fde0ef"
            ],
            [
             0.5,
             "#f7f7f7"
            ],
            [
             0.6,
             "#e6f5d0"
            ],
            [
             0.7,
             "#b8e186"
            ],
            [
             0.8,
             "#7fbc41"
            ],
            [
             0.9,
             "#4d9221"
            ],
            [
             1,
             "#276419"
            ]
           ],
           "sequential": [
            [
             0.0,
             "#0d0887"
            ],
            [
             0.1111111111111111,
             "#46039f"
            ],
            [
             0.2222222222222222,
             "#7201a8"
            ],
            [
             0.3333333333333333,
             "#9c179e"
            ],
            [
             0.4444444444444444,
             "#bd3786"
            ],
            [
             0.5555555555555556,
             "#d8576b"
            ],
            [
             0.6666666666666666,
             "#ed7953"
            ],
            [
             0.7777777777777778,
             "#fb9f3a"
            ],
            [
             0.8888888888888888,
             "#fdca26"
            ],
            [
             1.0,
             "#f0f921"
            ]
           ],
           "sequentialminus": [
            [
             0.0,
             "#0d0887"
            ],
            [
             0.1111111111111111,
             "#46039f"
            ],
            [
             0.2222222222222222,
             "#7201a8"
            ],
            [
             0.3333333333333333,
             "#9c179e"
            ],
            [
             0.4444444444444444,
             "#bd3786"
            ],
            [
             0.5555555555555556,
             "#d8576b"
            ],
            [
             0.6666666666666666,
             "#ed7953"
            ],
            [
             0.7777777777777778,
             "#fb9f3a"
            ],
            [
             0.8888888888888888,
             "#fdca26"
            ],
            [
             1.0,
             "#f0f921"
            ]
           ]
          },
          "colorway": [
           "#636efa",
           "#EF553B",
           "#00cc96",
           "#ab63fa",
           "#FFA15A",
           "#19d3f3",
           "#FF6692",
           "#B6E880",
           "#FF97FF",
           "#FECB52"
          ],
          "font": {
           "color": "#2a3f5f"
          },
          "geo": {
           "bgcolor": "white",
           "lakecolor": "white",
           "landcolor": "white",
           "showlakes": true,
           "showland": true,
           "subunitcolor": "#C8D4E3"
          },
          "hoverlabel": {
           "align": "left"
          },
          "hovermode": "closest",
          "mapbox": {
           "style": "light"
          },
          "paper_bgcolor": "white",
          "plot_bgcolor": "white",
          "polar": {
           "angularaxis": {
            "gridcolor": "#EBF0F8",
            "linecolor": "#EBF0F8",
            "ticks": ""
           },
           "bgcolor": "white",
           "radialaxis": {
            "gridcolor": "#EBF0F8",
            "linecolor": "#EBF0F8",
            "ticks": ""
           }
          },
          "scene": {
           "xaxis": {
            "backgroundcolor": "white",
            "gridcolor": "#DFE8F3",
            "gridwidth": 2,
            "linecolor": "#EBF0F8",
            "showbackground": true,
            "ticks": "",
            "zerolinecolor": "#EBF0F8"
           },
           "yaxis": {
            "backgroundcolor": "white",
            "gridcolor": "#DFE8F3",
            "gridwidth": 2,
            "linecolor": "#EBF0F8",
            "showbackground": true,
            "ticks": "",
            "zerolinecolor": "#EBF0F8"
           },
           "zaxis": {
            "backgroundcolor": "white",
            "gridcolor": "#DFE8F3",
            "gridwidth": 2,
            "linecolor": "#EBF0F8",
            "showbackground": true,
            "ticks": "",
            "zerolinecolor": "#EBF0F8"
           }
          },
          "shapedefaults": {
           "line": {
            "color": "#2a3f5f"
           }
          },
          "ternary": {
           "aaxis": {
            "gridcolor": "#DFE8F3",
            "linecolor": "#A2B1C6",
            "ticks": ""
           },
           "baxis": {
            "gridcolor": "#DFE8F3",
            "linecolor": "#A2B1C6",
            "ticks": ""
           },
           "bgcolor": "white",
           "caxis": {
            "gridcolor": "#DFE8F3",
            "linecolor": "#A2B1C6",
            "ticks": ""
           }
          },
          "title": {
           "x": 0.05
          },
          "xaxis": {
           "automargin": true,
           "gridcolor": "#EBF0F8",
           "linecolor": "#EBF0F8",
           "ticks": "",
           "title": {
            "standoff": 15
           },
           "zerolinecolor": "#EBF0F8",
           "zerolinewidth": 2
          },
          "yaxis": {
           "automargin": true,
           "gridcolor": "#EBF0F8",
           "linecolor": "#EBF0F8",
           "ticks": "",
           "title": {
            "standoff": 15
           },
           "zerolinecolor": "#EBF0F8",
           "zerolinewidth": 2
          }
         }
        },
        "title": {
         "font": {
          "size": 16
         },
         "text": "Surface Smile by Expiry",
         "x": 0.5,
         "xanchor": "center",
         "y": 0.95,
         "yanchor": "top"
        },
        "width": 800,
        "xaxis": {
         "title": {
          "text": "DELTA"
         }
        },
        "yaxis": {
         "title": {
          "text": "Volatility"
         }
        }
       }
      }
     },
     "metadata": {},
     "output_type": "display_data"
    }
   ],
   "source": [
    "plot_surface_smile_by_expiry(surface_df, x_axis, y_axis)"
   ]
  },
  {
   "cell_type": "markdown",
   "id": "7da5a28b",
   "metadata": {},
   "source": [
    "## Save and Export"
   ]
  },
  {
   "cell_type": "markdown",
   "id": "d2e1e554",
   "metadata": {},
   "source": [
    "After generating volatility surface data and visualizations, you can export the results for further analysis, reporting, or integration with other systems:\n",
    "\n",
    "**Export Options:**\n",
    "- **Excel Format** - Save the structured DataFrame for spreadsheet analysis and sharing\n",
    "- **JSON Format** - Export the complete API response for integration with other applications"
   ]
  },
  {
   "cell_type": "code",
   "execution_count": 10,
   "id": "e85a8da3",
   "metadata": {
    "execution": {
     "iopub.execute_input": "2025-09-18T09:07:01.606601Z",
     "iopub.status.busy": "2025-09-18T09:07:01.606184Z",
     "iopub.status.idle": "2025-09-18T09:07:01.723506Z",
     "shell.execute_reply": "2025-09-18T09:07:01.722956Z"
    }
   },
   "outputs": [
    {
     "name": "stdout",
     "output_type": "stream",
     "text": [
      "Files saved: volatility_surface_20250918_090701.xlsx, response_20250918_090701.json\n"
     ]
    }
   ],
   "source": [
    "# Create filenames with timestamp\n",
    "timestamp = dt.datetime.now().strftime(\"%Y%m%d_%H%M%S\")\n",
    "excel_filename = f\"volatility_surface_{timestamp}.xlsx\"\n",
    "json_filename = f\"response_{timestamp}.json\"\n",
    "\n",
    "# Save DataFrame to Excel\n",
    "surface_df.to_excel(excel_filename, index=False)\n",
    "\n",
    "# Save response to JSON\n",
    "with open(json_filename, 'w') as f:\n",
    "    json.dump(dict(response), f, indent=2, default=str)\n",
    "\n",
    "print(f\"Files saved: {excel_filename}, {json_filename}\")"
   ]
  }
 ],
 "metadata": {
  "kernelspec": {
   "display_name": "jupyterlab-ext",
   "language": "python",
   "name": "python3"
  },
  "language_info": {
   "codemirror_mode": {
    "name": "ipython",
    "version": 3
   },
   "file_extension": ".py",
   "mimetype": "text/x-python",
   "name": "python",
   "nbconvert_exporter": "python",
   "pygments_lexer": "ipython3",
   "version": "3.11.6"
  }
 },
 "nbformat": 4,
 "nbformat_minor": 5
}
