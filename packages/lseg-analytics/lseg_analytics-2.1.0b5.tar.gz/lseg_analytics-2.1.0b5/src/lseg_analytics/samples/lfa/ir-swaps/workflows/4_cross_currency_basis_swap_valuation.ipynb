{
 "cells": [
  {
   "cell_type": "markdown",
   "metadata": {},
   "source": [
    "# Valuing Cross Currency Basis Swaps"
   ]
  },
  {
   "cell_type": "markdown",
   "metadata": {},
   "source": [
    "This notebook demonstrates how to perform cross currency basis swap pricing within LSEG Financial Analytics SDK."
   ]
  },
  {
   "cell_type": "markdown",
   "metadata": {},
   "source": [
    "## Imports"
   ]
  },
  {
   "cell_type": "markdown",
   "metadata": {},
   "source": [
    "The following modules will be required in this notebook:"
   ]
  },
  {
   "cell_type": "code",
   "execution_count": 1,
   "metadata": {
    "execution": {
     "iopub.execute_input": "2025-09-18T09:09:28.695772Z",
     "iopub.status.busy": "2025-09-18T09:09:28.695441Z",
     "iopub.status.idle": "2025-09-18T09:09:29.555588Z",
     "shell.execute_reply": "2025-09-18T09:09:29.554517Z"
    }
   },
   "outputs": [],
   "source": [
    "import pandas as pd\n",
    "import json\n",
    "from lseg_analytics.templates.instrument_templates import search, load \n",
    "from lseg_analytics.instruments.ir_swaps import load\n",
    "from lseg_analytics.instruments.ir_swaps import value, IrPricingParameters, IrSwapDefinitionInstrument\n",
    "from lseg_analytics.instruments.ir_swaps import solve, IrPricingParameters, IrSwapSolvingParameters, IrSwapSolvingTarget, IrSwapSolvingVariable, IrMeasure, IrSwapDefinitionInstrument\n",
    "from lseg_analytics.instruments.ir_swaps import create_from_cbs_template, CurencyBasisSwapOverride\n",
    "from lseg_analytics_basic_client.models import PaidLegEnum, ReferenceDate, RelativeAdjustableDate, Rate, UnitEnum\n",
    "from datetime import date\n",
    "from IPython.display import display"
   ]
  },
  {
   "cell_type": "markdown",
   "metadata": {},
   "source": [
    "## Utility methods"
   ]
  },
  {
   "cell_type": "markdown",
   "metadata": {},
   "source": [
    "These methods are used throughout the notebook to display results."
   ]
  },
  {
   "cell_type": "code",
   "execution_count": 2,
   "metadata": {
    "execution": {
     "iopub.execute_input": "2025-09-18T09:09:29.560271Z",
     "iopub.status.busy": "2025-09-18T09:09:29.558427Z",
     "iopub.status.idle": "2025-09-18T09:09:29.568500Z",
     "shell.execute_reply": "2025-09-18T09:09:29.567840Z"
    }
   },
   "outputs": [],
   "source": [
    "def extract_tag_key(tag):\n",
    "    return tag.split(\":\")[0] if \":\" in tag else tag\n",
    "\n",
    "def list_unique_tags(all_swaps):\n",
    "    unique_tags = set()\n",
    "    for item in all_swaps:\n",
    "        tags = item.get(\"description\", {}).get(\"tags\", [])\n",
    "        for tag in tags:\n",
    "            key = extract_tag_key(tag)\n",
    "            unique_tags.add(key)\n",
    "    return unique_tags\n",
    "\n",
    "def display_templates(templates):\n",
    "    unique_tag_keys = list(list_unique_tags(templates))\n",
    "\n",
    "    rows = []\n",
    "    for item in templates:\n",
    "        row = {\n",
    "            \"Space\": item.get(\"location\", {}).get(\"space\", \"\"),\n",
    "            \"Id\": item.get(\"id\", \"\"),\n",
    "            \"Name\": item.get(\"location\", {}).get(\"name\", \"\"),\n",
    "            \"Summary\": item.get(\"description\", {}).get(\"summary\", \"\"),\n",
    "        }\n",
    "        tags = item.get(\"description\", {}).get(\"tags\", [])\n",
    "        tag_dict = {extract_tag_key(tag): tag for tag in tags}\n",
    "        for key in unique_tag_keys:\n",
    "            tag_val = tag_dict.get(key, None)\n",
    "            if tag_val is not None and \":\" in tag_val:\n",
    "                row[key] = tag_val.split(\":\", 1)[1]\n",
    "            else:\n",
    "                row[key] = tag_val\n",
    "        rows.append(row)\n",
    "\n",
    "    display(pd.DataFrame(rows))\n",
    "\n",
    "def build_legs_comparison_df(first_leg, second_leg):\n",
    "    \"\"\"Builds a DataFrame comparing key fields of first_leg and second_leg.\"\"\"\n",
    "    def get_nested_attr(obj, attrs, default=None):\n",
    "        for attr in attrs:\n",
    "            obj = getattr(obj, attr, None)\n",
    "            if obj is None:\n",
    "                return default\n",
    "        return obj\n",
    "\n",
    "    rows = [\n",
    "        {\n",
    "            \"Field\": \"description\",\n",
    "            \"First Leg\": get_nested_attr(first_leg, [\"description\", \"leg_description\"]),\n",
    "            \"Second Leg\": get_nested_attr(second_leg, [\"description\", \"leg_description\"]),\n",
    "        },\n",
    "        {\n",
    "            \"Field\": \"market value\",\n",
    "            \"First Leg\": get_nested_attr(first_leg, [\"valuation\", \"market_value\", \"deal_currency\", \"value\"]),\n",
    "            \"Second Leg\": get_nested_attr(second_leg, [\"valuation\", \"market_value\", \"deal_currency\", \"value\"]),\n",
    "        },\n",
    "        {\n",
    "            \"Field\": \"DV01\",\n",
    "            \"First Leg\": get_nested_attr(first_leg, [\"risk\", \"dv01\", \"value\"]),\n",
    "            \"Second Leg\": get_nested_attr(second_leg, [\"risk\", \"dv01\", \"value\"]),\n",
    "        },\n",
    "    ]\n",
    "\n",
    "    display(pd.DataFrame(rows))\n"
   ]
  },
  {
   "cell_type": "markdown",
   "metadata": {},
   "source": [
    "## Template-based setup for swap valuation"
   ]
  },
  {
   "cell_type": "markdown",
   "metadata": {},
   "source": [
    "Using an existing swap template to build a swap, user can adjust it with his own settings.\n",
    "- Swap conventions provide a standardized set of market-accepted terms, such as leg frequencies and interest calculation methods.\n",
    "- By referencing a swap convention, you ensure alignment with market standards while streamlining the setup process."
   ]
  },
  {
   "cell_type": "code",
   "execution_count": 3,
   "metadata": {
    "execution": {
     "iopub.execute_input": "2025-09-18T09:09:29.571203Z",
     "iopub.status.busy": "2025-09-18T09:09:29.570761Z",
     "iopub.status.idle": "2025-09-18T09:09:30.006935Z",
     "shell.execute_reply": "2025-09-18T09:09:30.006323Z"
    }
   },
   "outputs": [
    {
     "data": {
      "text/html": [
       "<div>\n",
       "<style scoped>\n",
       "    .dataframe tbody tr th:only-of-type {\n",
       "        vertical-align: middle;\n",
       "    }\n",
       "\n",
       "    .dataframe tbody tr th {\n",
       "        vertical-align: top;\n",
       "    }\n",
       "\n",
       "    .dataframe thead th {\n",
       "        text-align: right;\n",
       "    }\n",
       "</style>\n",
       "<table border=\"1\" class=\"dataframe\">\n",
       "  <thead>\n",
       "    <tr style=\"text-align: right;\">\n",
       "      <th></th>\n",
       "      <th>Space</th>\n",
       "      <th>Id</th>\n",
       "      <th>Name</th>\n",
       "      <th>Summary</th>\n",
       "      <th>index</th>\n",
       "      <th>instrumentType</th>\n",
       "      <th>currency</th>\n",
       "    </tr>\n",
       "  </thead>\n",
       "  <tbody>\n",
       "    <tr>\n",
       "      <th>0</th>\n",
       "      <td>LSEG</td>\n",
       "      <td>6e0d96a0-8039-4d7b-83ce-9634c88a9ab3</td>\n",
       "      <td>GBUSSOSRBS</td>\n",
       "      <td>Sterling Sonia vs US Dollar OIS SOFR Basis Swap</td>\n",
       "      <td>USD_SOFR_ON</td>\n",
       "      <td>CurrencyBasisSwap</td>\n",
       "      <td>USD</td>\n",
       "    </tr>\n",
       "  </tbody>\n",
       "</table>\n",
       "</div>"
      ],
      "text/plain": [
       "  Space                                    Id        Name  \\\n",
       "0  LSEG  6e0d96a0-8039-4d7b-83ce-9634c88a9ab3  GBUSSOSRBS   \n",
       "\n",
       "                                           Summary        index  \\\n",
       "0  Sterling Sonia vs US Dollar OIS SOFR Basis Swap  USD_SOFR_ON   \n",
       "\n",
       "      instrumentType currency  \n",
       "0  CurrencyBasisSwap      USD  "
      ]
     },
     "metadata": {},
     "output_type": "display_data"
    }
   ],
   "source": [
    "#search function to find a USD GBP currency basis swap (CBS) template referenced on SOFR index, in LSEG space\n",
    "usd_gbp_cbs = search(\n",
    "    item_per_page= 1,\n",
    "    tags=[\"instrumentType:CurrencyBasisSwap\", \"currency:USD\", \"currency:GBP\", \"index:USD_SOFR_ON\"],\n",
    "    spaces=[\"LSEG\"])\n",
    "\n",
    "display_templates(usd_gbp_cbs)\n"
   ]
  },
  {
   "cell_type": "markdown",
   "metadata": {},
   "source": [
    "## Editing the swap template to fit our requirements"
   ]
  },
  {
   "cell_type": "markdown",
   "metadata": {},
   "source": [
    "- When pricing a specific swap, user often needs to tailor certain parameters—like start date, end date, or fixed rate to suit requirements.\n",
    "- The framework allows user to override only the necessary terms, combining efficiency with full customization for transaction."
   ]
  },
  {
   "cell_type": "code",
   "execution_count": 4,
   "metadata": {
    "execution": {
     "iopub.execute_input": "2025-09-18T09:09:30.009465Z",
     "iopub.status.busy": "2025-09-18T09:09:30.009140Z",
     "iopub.status.idle": "2025-09-18T09:09:30.250570Z",
     "shell.execute_reply": "2025-09-18T09:09:30.249892Z"
    }
   },
   "outputs": [],
   "source": [
    "# define a 1 year forward start date for our swap\n",
    "start_date = RelativeAdjustableDate(tenor = \"1Y\", reference_date= ReferenceDate.VALUATION_DATE)\n",
    "\n",
    "# setup a 2Y swap maturity from the start date\n",
    "end_date = RelativeAdjustableDate(tenor = \"2Y\", reference_date= ReferenceDate.START_DATE)\n",
    "\n",
    "# override the CBS with a 1M USD, notional, the previous start_date and end_date, and a 10bp spread on the float leg\n",
    "par_overrides = CurencyBasisSwapOverride(\n",
    "    start_date = start_date,\n",
    "    end_date=end_date,\n",
    "    amount=1000000,\n",
    "    second_spread = Rate(value=10.0, unit = UnitEnum.BASIS_POINT),\n",
    "    paid_leg= PaidLegEnum.FIRST_LEG)\n",
    "\n",
    "# build the swap from 'LSEG/GBUSSOSRBS' template and previously defined overrides\n",
    "fwd_start_cbs = create_from_cbs_template(template_reference = \"LSEG/GBUSSOSRBS\", overrides = par_overrides)\n",
    "\n",
    "fwd_start_cbs_def = IrSwapDefinitionInstrument(definition = fwd_start_cbs.definition)"
   ]
  },
  {
   "cell_type": "markdown",
   "metadata": {},
   "source": [
    "## Solving for a forward CBS spread"
   ]
  },
  {
   "cell_type": "markdown",
   "metadata": {},
   "source": [
    "Find the par swap rate for prepared forward starting OIS."
   ]
  },
  {
   "cell_type": "code",
   "execution_count": 5,
   "metadata": {
    "execution": {
     "iopub.execute_input": "2025-09-18T09:09:30.254608Z",
     "iopub.status.busy": "2025-09-18T09:09:30.254094Z",
     "iopub.status.idle": "2025-09-18T09:09:32.091188Z",
     "shell.execute_reply": "2025-09-18T09:09:32.090553Z"
    }
   },
   "outputs": [
    {
     "name": "stdout",
     "output_type": "stream",
     "text": [
      "\t Solved spread, in basis points (bp): -86.84291499687065\n"
     ]
    },
    {
     "data": {
      "text/html": [
       "<div>\n",
       "<style scoped>\n",
       "    .dataframe tbody tr th:only-of-type {\n",
       "        vertical-align: middle;\n",
       "    }\n",
       "\n",
       "    .dataframe tbody tr th {\n",
       "        vertical-align: top;\n",
       "    }\n",
       "\n",
       "    .dataframe thead th {\n",
       "        text-align: right;\n",
       "    }\n",
       "</style>\n",
       "<table border=\"1\" class=\"dataframe\">\n",
       "  <thead>\n",
       "    <tr style=\"text-align: right;\">\n",
       "      <th></th>\n",
       "      <th>Field</th>\n",
       "      <th>First Leg</th>\n",
       "      <th>Second Leg</th>\n",
       "    </tr>\n",
       "  </thead>\n",
       "  <tbody>\n",
       "    <tr>\n",
       "      <th>0</th>\n",
       "      <td>description</td>\n",
       "      <td>Pay GBP Quarterly -86.84bp SONIA</td>\n",
       "      <td>Receive USD Quarterly +10bp SOFR</td>\n",
       "    </tr>\n",
       "    <tr>\n",
       "      <th>1</th>\n",
       "      <td>market value</td>\n",
       "      <td>48784.055559</td>\n",
       "      <td>48784.055559</td>\n",
       "    </tr>\n",
       "    <tr>\n",
       "      <th>2</th>\n",
       "      <td>DV01</td>\n",
       "      <td>90.348442</td>\n",
       "      <td>70.501111</td>\n",
       "    </tr>\n",
       "  </tbody>\n",
       "</table>\n",
       "</div>"
      ],
      "text/plain": [
       "          Field                         First Leg  \\\n",
       "0   description  Pay GBP Quarterly -86.84bp SONIA   \n",
       "1  market value                      48784.055559   \n",
       "2          DV01                         90.348442   \n",
       "\n",
       "                         Second Leg  \n",
       "0  Receive USD Quarterly +10bp SOFR  \n",
       "1                      48784.055559  \n",
       "2                         70.501111  "
      ]
     },
     "metadata": {},
     "output_type": "display_data"
    }
   ],
   "source": [
    "# define solving parameters in order to compute the par spread\n",
    "solving_params = IrSwapSolvingParameters(\n",
    "    target=IrSwapSolvingTarget(market_value=IrMeasure(value=0.0)),\n",
    "    variable= IrSwapSolvingVariable(leg = \"FirstLeg\", name = \"Spread\"))\n",
    "\n",
    "# define a solving date\n",
    "solving_date = date(2025, 5, 10)\n",
    "\n",
    "# solve the swap par spread\n",
    "valuation_response = solve(\n",
    "    definitions=[fwd_start_cbs_def],\n",
    "    pricing_preferences= IrPricingParameters(\n",
    "        solving_parameters = solving_params,\n",
    "        valuation_date=solving_date\n",
    "    )\n",
    ")\n",
    "\n",
    "# print the solved spread\n",
    "solved_rate = valuation_response.analytics[0].solving.result\n",
    "\n",
    "print(\n",
    "    \"\\t Solved spread, in basis points (bp):\", solved_rate,\n",
    ")\n",
    "\n",
    "build_legs_comparison_df(valuation_response.analytics[0].first_leg, valuation_response.analytics[0].second_leg)\n"
   ]
  },
  {
   "cell_type": "markdown",
   "metadata": {},
   "source": [
    "## Saving the solved swap"
   ]
  },
  {
   "cell_type": "code",
   "execution_count": 6,
   "metadata": {
    "execution": {
     "iopub.execute_input": "2025-09-18T09:09:32.094934Z",
     "iopub.status.busy": "2025-09-18T09:09:32.094643Z",
     "iopub.status.idle": "2025-09-18T09:09:32.577862Z",
     "shell.execute_reply": "2025-09-18T09:09:32.577191Z"
    }
   },
   "outputs": [
    {
     "name": "stdout",
     "output_type": "stream",
     "text": [
      "[ERROR]\t[2025-09-18 09:09:32,387]\t[MainThread]\t[lseg_analytics.instruments.ir_swaps]\t[_functions.py:346]\t IrSwap SOFR_SONIA_OIS_1Y2Y not found in space='HOME'\n",
      "Instrument SOFR_SONIA_OIS_1Y2Y saved in HOME space.\n"
     ]
    }
   ],
   "source": [
    "instrument_id = \"SOFR_SONIA_OIS_1Y2Y\"\n",
    "\n",
    "# create a 'booked_trade' updated with the solved fixed rate\n",
    "trade_overrides = CurencyBasisSwapOverride(\n",
    "    start_date = start_date,\n",
    "    end_date=end_date,\n",
    "    amount=1000000,\n",
    "    first_spread=Rate(value=solved_rate, unit = UnitEnum.BASIS_POINT),\n",
    "    second_spread = Rate(value=10.0, unit = UnitEnum.BASIS_POINT),\n",
    "    paid_leg= PaidLegEnum.FIRST_LEG)\n",
    "\n",
    "# Create the swap using the ESTR template\n",
    "booked_trade = create_from_cbs_template(template_reference = \"LSEG/GBUSSOSRBS\", overrides = trade_overrides)\n",
    "\n",
    "try:\n",
    "    # Check if the instrument already exists in HOME space\n",
    "    booked_trade = load(name=instrument_id, space=\"HOME\")\n",
    "    print(f\"Instrument {instrument_id} already exists in HOME space.\")\n",
    "except:\n",
    "    # If the instrument does not exist in HOME space, we can save it\n",
    "    booked_trade.save(name=instrument_id, space=\"HOME\")\n",
    "    print(f\"Instrument {instrument_id} saved in HOME space.\")"
   ]
  },
  {
   "cell_type": "markdown",
   "metadata": {},
   "source": [
    "# Revalue trade post booking"
   ]
  },
  {
   "cell_type": "code",
   "execution_count": 7,
   "metadata": {
    "execution": {
     "iopub.execute_input": "2025-09-18T09:09:32.580213Z",
     "iopub.status.busy": "2025-09-18T09:09:32.579859Z",
     "iopub.status.idle": "2025-09-18T09:09:34.180050Z",
     "shell.execute_reply": "2025-09-18T09:09:34.179546Z"
    }
   },
   "outputs": [
    {
     "name": "stdout",
     "output_type": "stream",
     "text": [
      "\t MtM in USD: 23433.3714747824\n"
     ]
    },
    {
     "data": {
      "text/html": [
       "<div>\n",
       "<style scoped>\n",
       "    .dataframe tbody tr th:only-of-type {\n",
       "        vertical-align: middle;\n",
       "    }\n",
       "\n",
       "    .dataframe tbody tr th {\n",
       "        vertical-align: top;\n",
       "    }\n",
       "\n",
       "    .dataframe thead th {\n",
       "        text-align: right;\n",
       "    }\n",
       "</style>\n",
       "<table border=\"1\" class=\"dataframe\">\n",
       "  <thead>\n",
       "    <tr style=\"text-align: right;\">\n",
       "      <th></th>\n",
       "      <th>Field</th>\n",
       "      <th>First Leg</th>\n",
       "      <th>Second Leg</th>\n",
       "    </tr>\n",
       "  </thead>\n",
       "  <tbody>\n",
       "    <tr>\n",
       "      <th>0</th>\n",
       "      <td>description</td>\n",
       "      <td>Pay GBP Quarterly -86.84bp SONIA</td>\n",
       "      <td>Receive USD Quarterly +10bp SOFR</td>\n",
       "    </tr>\n",
       "    <tr>\n",
       "      <th>1</th>\n",
       "      <td>market value</td>\n",
       "      <td>-16248.437056</td>\n",
       "      <td>1369.314597</td>\n",
       "    </tr>\n",
       "    <tr>\n",
       "      <th>2</th>\n",
       "      <td>DV01</td>\n",
       "      <td>89.492194</td>\n",
       "      <td>69.920462</td>\n",
       "    </tr>\n",
       "  </tbody>\n",
       "</table>\n",
       "</div>"
      ],
      "text/plain": [
       "          Field                         First Leg  \\\n",
       "0   description  Pay GBP Quarterly -86.84bp SONIA   \n",
       "1  market value                     -16248.437056   \n",
       "2          DV01                         89.492194   \n",
       "\n",
       "                         Second Leg  \n",
       "0  Receive USD Quarterly +10bp SOFR  \n",
       "1                       1369.314597  \n",
       "2                         69.920462  "
      ]
     },
     "metadata": {},
     "output_type": "display_data"
    }
   ],
   "source": [
    "definition = IrSwapDefinitionInstrument(definition = booked_trade.definition)\n",
    "\n",
    "# define a mark to market date as of 2025-05-15\n",
    "mtm_date = date(2025, 5, 15)\n",
    "\n",
    "# value the booked swap\n",
    "valuation_response = value(\n",
    "    definitions=[definition],\n",
    "    pricing_preferences= IrPricingParameters(valuation_date=mtm_date, report_currency=\"USD\")\n",
    ")\n",
    "\n",
    "# print mark to market results\n",
    "print(\n",
    "    \"\\t MtM in USD:\", valuation_response.analytics[0].valuation.market_value.report_currency.value,\n",
    ")\n",
    "\n",
    "build_legs_comparison_df(valuation_response.analytics[0].first_leg, valuation_response.analytics[0].second_leg)\n"
   ]
  },
  {
   "cell_type": "markdown",
   "metadata": {},
   "source": [
    "## Deleting the saved instrument"
   ]
  },
  {
   "cell_type": "code",
   "execution_count": 8,
   "metadata": {
    "execution": {
     "iopub.execute_input": "2025-09-18T09:09:34.182365Z",
     "iopub.status.busy": "2025-09-18T09:09:34.181961Z",
     "iopub.status.idle": "2025-09-18T09:09:34.483649Z",
     "shell.execute_reply": "2025-09-18T09:09:34.483186Z"
    }
   },
   "outputs": [
    {
     "data": {
      "text/plain": [
       "True"
      ]
     },
     "execution_count": 8,
     "metadata": {},
     "output_type": "execute_result"
    }
   ],
   "source": [
    "# Delete the instrument we created in HOME space\n",
    "from lseg_analytics.instruments.ir_swaps import delete\n",
    "\n",
    "delete(name=instrument_id, space=\"HOME\")"
   ]
  }
 ],
 "metadata": {
  "kernelspec": {
   "display_name": ".venv",
   "language": "python",
   "name": "python3"
  },
  "language_info": {
   "codemirror_mode": {
    "name": "ipython",
    "version": 3
   },
   "file_extension": ".py",
   "mimetype": "text/x-python",
   "name": "python",
   "nbconvert_exporter": "python",
   "pygments_lexer": "ipython3",
   "version": "3.11.6"
  }
 },
 "nbformat": 4,
 "nbformat_minor": 2
}
