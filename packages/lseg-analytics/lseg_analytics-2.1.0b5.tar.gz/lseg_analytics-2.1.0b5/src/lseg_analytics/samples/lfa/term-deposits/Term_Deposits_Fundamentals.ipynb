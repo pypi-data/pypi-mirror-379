{
 "cells": [
  {
   "cell_type": "markdown",
   "id": "1eb11b22",
   "metadata": {},
   "source": [
    "# Term Deposits Fundamentals"
   ]
  },
  {
   "cell_type": "markdown",
   "id": "60b54d9b",
   "metadata": {},
   "source": [
    "This notebook demonstrates how to access and use the main functionalities of **Term Deposits** within **LSEG Financial Analytics SDK**. \n",
    "\n",
    "**You will be able to:**\n",
    "- Define term deposits instruments from a market instrument\n",
    "- Configure pricing parameters\n",
    "- Calculate Term Deposits analytics"
   ]
  },
  {
   "cell_type": "markdown",
   "id": "10fa1979",
   "metadata": {},
   "source": [
    "## Imports"
   ]
  },
  {
   "cell_type": "markdown",
   "id": "4b33245f",
   "metadata": {},
   "source": [
    "Import the following necessary modules:\n",
    "\n",
    "- `lseg_analytics.instruments.term_deposit` - for Term Deposit instruments definitions and analytics"
   ]
  },
  {
   "cell_type": "code",
   "execution_count": 1,
   "id": "7df1f746",
   "metadata": {
    "execution": {
     "iopub.execute_input": "2025-09-18T09:05:02.088364Z",
     "iopub.status.busy": "2025-09-18T09:05:02.088112Z",
     "iopub.status.idle": "2025-09-18T09:05:02.911598Z",
     "shell.execute_reply": "2025-09-18T09:05:02.910897Z"
    },
    "tags": []
   },
   "outputs": [],
   "source": [
    "from lseg_analytics.instruments import term_deposit as td\n",
    "\n",
    "import datetime as dt\n",
    "import json\n",
    "import pandas as pd"
   ]
  },
  {
   "cell_type": "markdown",
   "id": "2c6a6a86-26fb-44a6-bd3c-3940aad67220",
   "metadata": {},
   "source": [
    "## Data Preparation\n",
    "\n",
    "To define a Term Deposit instrument you need to follow a structured 3-step process:\n",
    "1. **Term Deposit Definition** - Specify the term deposit instrument code (RIC)\n",
    "2. **Term Deposit Instrument Definition** - Create the instrument object\n",
    "3. **Pricing Preferences** - Configure pricing parameters, optional\n"
   ]
  },
  {
   "cell_type": "code",
   "execution_count": 2,
   "id": "bd910fd7",
   "metadata": {
    "execution": {
     "iopub.execute_input": "2025-09-18T09:05:02.916292Z",
     "iopub.status.busy": "2025-09-18T09:05:02.914277Z",
     "iopub.status.idle": "2025-09-18T09:05:02.923221Z",
     "shell.execute_reply": "2025-09-18T09:05:02.922647Z"
    },
    "tags": [
     "price.static"
    ]
   },
   "outputs": [],
   "source": [
    "# Create term deposit defintion object\n",
    "term_deposit_definition = td.TermDepositDefinition(\n",
    "    instrument_code = \"EUR3MD=\",\n",
    "    notional_amount = 1000000\n",
    ")\n",
    "\n",
    "# Create term deposit instrument defintion object\n",
    "term_deposit_instrument = td.TermDepositDefinitionInstrument(\n",
    "    definition = term_deposit_definition\n",
    ")\n",
    "\n",
    "# Create term deposit pricing parameters object - optional\n",
    "term_deposit_parameters = td.TermDepositPricingParameters(\n",
    "    valuation_date  = dt.datetime.strptime(\"2025-07-21\", \"%Y-%m-%d\"),\n",
    ")\n"
   ]
  },
  {
   "cell_type": "markdown",
   "id": "7030cce7",
   "metadata": {},
   "source": [
    "## Request Execution\n"
   ]
  },
  {
   "cell_type": "code",
   "execution_count": 3,
   "id": "16044ae3",
   "metadata": {
    "execution": {
     "iopub.execute_input": "2025-09-18T09:05:02.925579Z",
     "iopub.status.busy": "2025-09-18T09:05:02.925303Z",
     "iopub.status.idle": "2025-09-18T09:06:03.898636Z",
     "shell.execute_reply": "2025-09-18T09:06:03.898098Z"
    },
    "tags": [
     "price.static"
    ]
   },
   "outputs": [],
   "source": [
    "#  Execute the calculation using the price() function\n",
    "# The 'definitions' parameter accepts a list of instruments definitions for batch processing\n",
    "\n",
    "term_deposit_response = td.price(\n",
    "    definitions = [term_deposit_instrument], \n",
    "    pricing_preferences = term_deposit_parameters\n",
    ")"
   ]
  },
  {
   "cell_type": "markdown",
   "id": "03030948",
   "metadata": {},
   "source": [
    "## Results Display\n"
   ]
  },
  {
   "cell_type": "markdown",
   "id": "a4ac750f-e2bb-44a6-9b1b-e8f6e9765288",
   "metadata": {},
   "source": [
    "#### Key Sections in the `response` JSON\n",
    "\n",
    " - **definitions**: Instrument setup (e.g., instrument code, fixed rate percent, start/end dates/tenors, notional, notional currency), it's TermDepositDefinition that we used. \n",
    "\n",
    " - **pricingPreferences**: Valuation date, price side, reporting currency, market data date.\n",
    "\n",
    " - **analytics**:\n",
    "   - **tabularData**: `data`, `headers`, `statuses`\n",
    "   - **cashFlows**: gives details on the different cashflows of the term deposit product\n",
    "   - **description**: Instrument summary TermDepositDefinition and also the default fields not specified in the TermDepositDefinition, but used by default in the calculation\n",
    "   - **nominalMeasures**: different metrics on the term deposit product: average life, duration, modified duration, convexity, DV01\n",
    "   - **pricingAnalysis**: `fixedRatePercent`, `valuationDate`, `marketDataDate`\n",
    "   - **valuation**: `accruedDays`, `accruedAmountInDealCcy`, `marketValueInDealCcy`, `cleanMarketValueInDealCcy`\n",
    "   - **error**: provides the root cause of the issue, if any"
   ]
  },
  {
   "cell_type": "code",
   "execution_count": 4,
   "id": "055c9d37-06a8-460c-906f-8e1f7197d6e8",
   "metadata": {
    "execution": {
     "iopub.execute_input": "2025-09-18T09:06:03.901305Z",
     "iopub.status.busy": "2025-09-18T09:06:03.901094Z",
     "iopub.status.idle": "2025-09-18T09:06:03.904300Z",
     "shell.execute_reply": "2025-09-18T09:06:03.903875Z"
    },
    "tags": []
   },
   "outputs": [
    {
     "name": "stdout",
     "output_type": "stream",
     "text": [
      "{\n",
      "    \"accruedDays\": 0,\n",
      "    \"accruedAmountInDealCcy\": 0.0,\n",
      "    \"marketValueInDealCcy\": 41.6889705392443,\n",
      "    \"cleanMarketValueInDealCcy\": 41.6889705392443\n",
      "}\n"
     ]
    }
   ],
   "source": [
    "# Access the valuation object\n",
    "valuation = term_deposit_response.data.analytics[0].valuation\n",
    "print(json.dumps(valuation.as_dict(), indent=4))"
   ]
  },
  {
   "cell_type": "code",
   "execution_count": 5,
   "id": "3ff9b059",
   "metadata": {
    "execution": {
     "iopub.execute_input": "2025-09-18T09:06:03.906099Z",
     "iopub.status.busy": "2025-09-18T09:06:03.905801Z",
     "iopub.status.idle": "2025-09-18T09:06:03.914137Z",
     "shell.execute_reply": "2025-09-18T09:06:03.913735Z"
    },
    "tags": []
   },
   "outputs": [
    {
     "data": {
      "text/html": [
       "<div>\n",
       "<style scoped>\n",
       "    .dataframe tbody tr th:only-of-type {\n",
       "        vertical-align: middle;\n",
       "    }\n",
       "\n",
       "    .dataframe tbody tr th {\n",
       "        vertical-align: top;\n",
       "    }\n",
       "\n",
       "    .dataframe thead th {\n",
       "        text-align: right;\n",
       "    }\n",
       "</style>\n",
       "<table border=\"1\" class=\"dataframe\">\n",
       "  <thead>\n",
       "    <tr style=\"text-align: right;\">\n",
       "      <th></th>\n",
       "      <th>Fields</th>\n",
       "      <th>Value</th>\n",
       "    </tr>\n",
       "  </thead>\n",
       "  <tbody>\n",
       "    <tr>\n",
       "      <th>0</th>\n",
       "      <td>accruedDays</td>\n",
       "      <td>0.000000</td>\n",
       "    </tr>\n",
       "    <tr>\n",
       "      <th>1</th>\n",
       "      <td>accruedAmountInDealCcy</td>\n",
       "      <td>0.000000</td>\n",
       "    </tr>\n",
       "    <tr>\n",
       "      <th>2</th>\n",
       "      <td>marketValueInDealCcy</td>\n",
       "      <td>41.688971</td>\n",
       "    </tr>\n",
       "    <tr>\n",
       "      <th>3</th>\n",
       "      <td>cleanMarketValueInDealCcy</td>\n",
       "      <td>41.688971</td>\n",
       "    </tr>\n",
       "  </tbody>\n",
       "</table>\n",
       "</div>"
      ],
      "text/plain": [
       "                      Fields      Value\n",
       "0                accruedDays   0.000000\n",
       "1     accruedAmountInDealCcy   0.000000\n",
       "2       marketValueInDealCcy  41.688971\n",
       "3  cleanMarketValueInDealCcy  41.688971"
      ]
     },
     "metadata": {},
     "output_type": "display_data"
    }
   ],
   "source": [
    "# Convert to DataFrame\n",
    "df_valuation = pd.DataFrame(list(valuation.items()), columns=[\"Fields\", \"Value\"])\n",
    "# Display the DataFrame\n",
    "display(df_valuation)"
   ]
  },
  {
   "cell_type": "markdown",
   "id": "fe56c4eb-bf65-41ae-a52f-c612a0d84f2c",
   "metadata": {},
   "source": [
    "## Appendix: Complete Function Reference"
   ]
  },
  {
   "cell_type": "markdown",
   "id": "97e898fc-8a0a-4e51-8256-eb413504de15",
   "metadata": {},
   "source": [
    "### Available Classes and Functions in term_deposit Module\n",
    "\n",
    "The following is a complete list of all classes, enums, and functions available after importing from `lseg_analytics.instruments.term_deposit`:\n",
    "\n",
    "**Core Classes:**\n",
    "- `TermDepositDefinition` - Define term deposit instrument specifications and parameters\n",
    "- `TermDepositDefinitionInstrument` - Instrument container wrapper for pricing operations\n",
    "- `TermDepositPricingParameters` - Configure pricing settings and market data preferences\n",
    "\n",
    "**Response Classes:**\n",
    "- `TermDepositCalculationResponse` - Main response container\n",
    "- `TermDepositAnalyticsResponseData` - Detailed analytics and calculations\n",
    "- `TermDepositAnalyticsResponseWithError` - Response with error\n",
    "\n",
    "**Specific Term Deposit Classes within response:**\n",
    "- `TermDepositDescription` - Gives the main characteristics of the instrument\n",
    "- `TermDepositValuation` - Individual instrument valuation results\n",
    "- `TermDepositPricingAnalysis` - Some information on pricing\n",
    "- `TermDepositCashflows` - Detailed term deposit cash-flows\n",
    "- `TermDepositNominalMeasures` - Different metrics on term deposit instrument\n",
    "\n",
    "**Configuration Enums:**\n",
    "- `InterestCalculationMethodEnum` - Day count conventions (DCB_ACTUAL_360, DCB_ACTUAL_365, etc.)\n",
    "- `InterestPaymentFrequencyEnum` - Frequency of payments (ANNUAL, SEMI_ANNUAL, QUARTERLY, MONTHLY, etc.)\n",
    "- `PaymentBusinessDayConventionEnum` - Business day conventions (NEXT_BUSINESS_DAY, MODIFIED_FOLLOWING, etc.)\n",
    "- `PaymentRollConventionEnum` - Payment roll conventions (SAME, SAME28, LAST, LAST28, etc.)\n",
    "- `PriceSideEnum` - Market price sides (BID, ASK, MID, LAST)\n",
    "\n",
    "**Main Functions:**\n",
    "- `price()` - Execute term deposit pricing calculations"
   ]
  }
 ],
 "metadata": {
  "kernelspec": {
   "display_name": "jupyterlab-ext",
   "language": "python",
   "name": "python3"
  },
  "language_info": {
   "codemirror_mode": {
    "name": "ipython",
    "version": 3
   },
   "file_extension": ".py",
   "mimetype": "text/x-python",
   "name": "python",
   "nbconvert_exporter": "python",
   "pygments_lexer": "ipython3",
   "version": "3.11.6"
  }
 },
 "nbformat": 4,
 "nbformat_minor": 5
}
