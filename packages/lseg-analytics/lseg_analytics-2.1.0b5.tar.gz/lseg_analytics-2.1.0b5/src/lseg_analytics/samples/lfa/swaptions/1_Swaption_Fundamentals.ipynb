{
 "cells": [
  {
   "cell_type": "markdown",
   "id": "1a108871",
   "metadata": {},
   "source": [
    "# Swaption Fundamentals"
   ]
  },
  {
   "cell_type": "markdown",
   "id": "3a4cef20",
   "metadata": {},
   "source": [
    "This notebook demonstrates how to access and use the **Swaption** functionalities within the **LSEG Financial Analytics SDK**. \n",
    "\n",
    "Swaption instruments are interest rate derivatives that provide protection against adverse interest rate movements. The following swaption types are supported:\n",
    "- Payer Swaption: Right to enter a swap as the fixed-rate payer (protection against rising rates)\n",
    "- Receiver Swaption: Right to enter a swap as the fixed-rate receiver (protection against falling rates)\n",
    "\n",
    "With following exercise styles:\n",
    "- European Style: Exercisable at expiration date\n",
    "- American Style: Exercisable at any date before expiration\n",
    "- Bermudan Style: Exercisable on multiple specified dates\n",
    "\n",
    "**You will be able to:**\n",
    "- Define Swaption instruments with basic parameters\n",
    "- Configure pricing parameters\n",
    "- Evaluate Swaption Analytics"
   ]
  },
  {
   "cell_type": "markdown",
   "id": "c545bed5",
   "metadata": {},
   "source": [
    "## Imports"
   ]
  },
  {
   "cell_type": "markdown",
   "id": "5a2157a4-64d5-4b2e-93dc-aaeae57e199a",
   "metadata": {},
   "source": [
    "Import the following necessary modules:\n",
    "\n",
    "- `lseg_analytics.instruments.swaption` - for Swaption instruments definitions and analytics"
   ]
  },
  {
   "cell_type": "code",
   "execution_count": 1,
   "id": "4d002713",
   "metadata": {
    "execution": {
     "iopub.execute_input": "2025-09-18T09:04:57.598787Z",
     "iopub.status.busy": "2025-09-18T09:04:57.598391Z",
     "iopub.status.idle": "2025-09-18T09:04:58.517240Z",
     "shell.execute_reply": "2025-09-18T09:04:58.516432Z"
    }
   },
   "outputs": [],
   "source": [
    "from lseg_analytics.instruments import swaption  as sw\n",
    "\n",
    "import pandas as pd\n",
    "import json\n",
    "import datetime as dt\n",
    "from IPython.display import display"
   ]
  },
  {
   "cell_type": "markdown",
   "id": "9b0cc193",
   "metadata": {},
   "source": [
    "## Data Preparation\n",
    "\n",
    "To define a Swaption instrument you need to follow a structured 3-step process:\n",
    "\n",
    "1. **Swaption Definition** - Specify basic swaption parameters (strike, expiry, underlying swap details)\n",
    "2. **Swaption Instrument Definition** - Create the instrument object for pricing\n",
    "3. **Pricing Preferences** - Configure pricing parameters and market data settings, optional\n",
    "\n"
   ]
  },
  {
   "cell_type": "markdown",
   "id": "759ec01d-3e08-46da-861d-778dce37af7c",
   "metadata": {},
   "source": [
    "## "
   ]
  },
  {
   "cell_type": "code",
   "execution_count": 2,
   "id": "27fbb5db",
   "metadata": {
    "execution": {
     "iopub.execute_input": "2025-09-18T09:04:58.522861Z",
     "iopub.status.busy": "2025-09-18T09:04:58.520076Z",
     "iopub.status.idle": "2025-09-18T09:04:58.540042Z",
     "shell.execute_reply": "2025-09-18T09:04:58.539508Z"
    },
    "tags": [
     "price.static"
    ]
   },
   "outputs": [
    {
     "name": "stdout",
     "output_type": "stream",
     "text": [
      "Step 1: Creating Swaption Definition...\n",
      "   Swaption Type: SwaptionTypeEnum.PAYER\n",
      "   Exercise Style: IPAExerciseStyleEnum.EURO\n",
      "   Buy/Sell: IPABuySellEnum.BUY\n",
      "   Notional Amount: $10,000,000\n",
      "   Strike Rate: 3.5%\n",
      "   Option Start: 2025-07-18\n",
      "   Option Expiry: 2026-01-15\n",
      "   Settlement Type: SettlementTypeEnum.PHYSICAL\n",
      "   Premium Settlement: PremiumSettlementTypeEnum.SPOT\n",
      "   Underlying Template: OIS_SOFR\n",
      "   Instrument Tag: USD_5Y_PAYER_SWAPTION\n",
      "\n",
      "Step 2: Creating Instrument Object...\n",
      "   Instrument container created for pricing\n",
      "\n",
      "Step 3: Configuring Pricing Parameters...\n",
      "   Valuation Date: 2025-07-18\n",
      "   Price Side: PriceSideEnum.MID\n"
     ]
    }
   ],
   "source": [
    "print(\"Step 1: Creating Swaption Definition...\")\n",
    "\n",
    "# Define a European payer swaption (protection against rising rates)\n",
    "swaption_definition = sw.SwaptionDefinition(\n",
    "    # Core Swaption Parameters\n",
    "    buy_sell=sw.IPABuySellEnum.BUY,                            # Buy swaption protection. Options: BUY, SELL\n",
    "    swaption_type=sw.SwaptionTypeEnum.PAYER,                   # Payer swaption (pay fixed, receive floating). Options: PAYER, RECEIVER\n",
    "    exercise_style=sw.IPAExerciseStyleEnum.EURO,               # European exercise style. Options: EURO, AMER, BERM\n",
    "    \n",
    "    # Option Timing\n",
    "    start_date=dt.datetime(2025, 7, 18),                       # Option start date (defaults to valuation_date)\n",
    "    end_date=dt.datetime(2026, 1, 15),                         # Option expiry date\n",
    "    # Alternative: tenor=\"6M\",                                 # Or use tenor instead of end_date\n",
    "    \n",
    "    # Financial Terms\n",
    "    notional_amount=10_000_000,                                # $10M notional (default: 1,000,000)\n",
    "    strike_percent=3.50,                                       # 3.50% strike rate (fixed rate of underlying swap)\n",
    "    \n",
    "    # Settlement Configuration\n",
    "    settlement_type=sw.SettlementTypeEnum.PHYSICAL,           # Physical settlement. Options: PHYSICAL, CASH, CCP\n",
    "    premium_settlement_type=sw.PremiumSettlementTypeEnum.SPOT, # Premium settlement timing. Options: SPOT, FORWARD, SCHEDULE\n",
    "    delivery_date=dt.datetime(2026, 1, 17),                   # Settlement date (optional, defaults to end_date)\n",
    "    \n",
    "    # Optional Parameters\n",
    "    instrument_tag=\"USD_5Y_PAYER_SWAPTION\",                   # User-defined identifier (max 40 chars)\n",
    "    spread_vs_atm_in_bp=0.0,                                  # Spread vs ATM in basis points (for pre-trade scenarios)\n",
    "    \n",
    "    # Underlying swap details (using SwapDefinition). Detailed swap definition setups are covered in IR Swap SDK\n",
    "    underlying_definition=sw.SwapDefinition(\n",
    "        template=\"OIS_SOFR\",                                   # Standard USD SOFR swap template\n",
    "        start_date=dt.datetime(2026, 1, 17),                   # Swap start (T+2 from option expiry)\n",
    "        end_date=dt.datetime(2031, 1, 17),                     # 5Y swap tenor in date format\n",
    "        instrument_tag=\"USD_5Y_SOFR_Underlying_Swap\"           # Tag for underlying swap\n",
    "    ),\n",
    "    \n",
    ")\n",
    "\n",
    "# Display comprehensive information about the created swaption\n",
    "print(f\"   Swaption Type: {swaption_definition.swaption_type}\")\n",
    "print(f\"   Exercise Style: {swaption_definition.exercise_style}\")\n",
    "print(f\"   Buy/Sell: {swaption_definition.buy_sell}\")\n",
    "print(f\"   Notional Amount: ${swaption_definition.notional_amount:,.0f}\")\n",
    "print(f\"   Strike Rate: {swaption_definition.strike_percent}%\")\n",
    "print(f\"   Option Start: {swaption_definition.start_date.strftime('%Y-%m-%d')}\")\n",
    "print(f\"   Option Expiry: {swaption_definition.end_date.strftime('%Y-%m-%d')}\")\n",
    "print(f\"   Settlement Type: {swaption_definition.settlement_type}\")\n",
    "print(f\"   Premium Settlement: {swaption_definition.premium_settlement_type}\")\n",
    "print(f\"   Underlying Template: {swaption_definition.underlying_definition.template}\")\n",
    "print(f\"   Instrument Tag: {swaption_definition.instrument_tag}\")\n",
    "print()\n",
    "\n",
    "print(\"Step 2: Creating Instrument Object...\")\n",
    "swaption_instrument = sw.SwaptionDefinitionInstrument(definition=swaption_definition)\n",
    "print(\"   Instrument container created for pricing\")\n",
    "print()\n",
    "\n",
    "print(\"Step 3: Configuring Pricing Parameters...\")\n",
    "pricing_params = sw.SwaptionPricingParameters(\n",
    "    valuation_date=dt.datetime(2025, 7, 18),                   # Pricing date\n",
    "    price_side=sw.PriceSideEnum.MID                            # Use mid-market prices. Options: BID, ASK, MID, LAST\n",
    ")\n",
    "print(f\"   Valuation Date: {pricing_params.valuation_date.strftime('%Y-%m-%d')}\")\n",
    "print(f\"   Price Side: {pricing_params.price_side}\")"
   ]
  },
  {
   "cell_type": "markdown",
   "id": "59493901",
   "metadata": {},
   "source": [
    "## Request Execution"
   ]
  },
  {
   "cell_type": "code",
   "execution_count": 3,
   "id": "0eedc926",
   "metadata": {
    "execution": {
     "iopub.execute_input": "2025-09-18T09:04:58.542463Z",
     "iopub.status.busy": "2025-09-18T09:04:58.542125Z",
     "iopub.status.idle": "2025-09-18T09:05:00.522543Z",
     "shell.execute_reply": "2025-09-18T09:05:00.521825Z"
    },
    "tags": [
     "price.static"
    ]
   },
   "outputs": [
    {
     "name": "stdout",
     "output_type": "stream",
     "text": [
      "   Calculation successful!\n"
     ]
    }
   ],
   "source": [
    "# Execute the calculation using the price() function\n",
    "# The 'definitions' parameter accepts a list of instrument definitions for batch processing\n",
    "\n",
    "try:\n",
    "    response = sw.price(\n",
    "        definitions=[swaption_instrument],\n",
    "        pricing_preferences=pricing_params,\n",
    "        fields=\"MarketValueInDealCcy, premiumPercent, premiumBp, deltaPercent, gammaPercent, vegaPercent, thetaPercent\" # optional, used to build the tabular data explained below\n",
    "    )\n",
    "\n",
    "    # Display response structure information\n",
    "    analytics_data = response['data']['analytics'][0]\n",
    "    if analytics_data['error'] == {}:\n",
    "        print(\"   Calculation successful!\")\n",
    "        valuation_data = analytics_data.get('valuation', {})\n",
    "    else:\n",
    "        print(f\"   Pricing error: {analytics_data['error']}\")\n",
    "        \n",
    "except Exception as e:\n",
    "    print(f\"   Calculation failed: {str(e)}\")\n",
    "    raise\n"
   ]
  },
  {
   "cell_type": "markdown",
   "id": "b58ed807",
   "metadata": {},
   "source": [
    "## Results Display"
   ]
  },
  {
   "cell_type": "markdown",
   "id": "8fbfaa6c",
   "metadata": {},
   "source": [
    "#### Key Sections in the `response` JSON\n",
    "\n",
    " - **definitions**: Instrument setup (e.g., strike rate, expiry dates, notional, underlying swap structure), using the SwaptionDefinition that we created.\n",
    "\n",
    " - **pricingPreferences**: Valuation date, price side (BID/ASK/MID/LAST), currency settings.\n",
    "\n",
    " - **analytics**:\n",
    "   - **tabularData**: Customizable list of analytics given in `fields` argument of price() function (`data`, `headers`, `statuses`)\n",
    "   - **description**: Instrument summary SwaptionDefinition and default fields used in the calculation\n",
    "   - **greeks**: Main risk metrics calculated on swaption instrument (`deltaPercent`, `gammaPercent`, `vegaPercent`, `thetaPercent`)\n",
    "   - **valuation**: Detailed valuation of the swaption instrument with the below fields:\n",
    "      - `MarketValueInDealCcy`: Present value of the swaption in deal currency\n",
    "      - `PremiumPercent`: Swaption premium as percentage of notional\n",
    "      - `PremiumBp`: Swaption premium in basis points\n",
    "   - **error**: Root cause of any issues, if encountered\n",
    "\n",
    "We give below the valuation details, as well as the tabular data details, that include information on both valuation and greeks ."
   ]
  },
  {
   "cell_type": "code",
   "execution_count": 4,
   "id": "143fda8e",
   "metadata": {
    "execution": {
     "iopub.execute_input": "2025-09-18T09:05:00.525840Z",
     "iopub.status.busy": "2025-09-18T09:05:00.525392Z",
     "iopub.status.idle": "2025-09-18T09:05:00.529509Z",
     "shell.execute_reply": "2025-09-18T09:05:00.528803Z"
    }
   },
   "outputs": [
    {
     "name": "stdout",
     "output_type": "stream",
     "text": [
      "Swaption Valuation Results:\n",
      "{\n",
      "    \"marketValueInDealCcy\": 123946.424798278,\n",
      "    \"premiumPercent\": 1.23946424798278,\n",
      "    \"premiumBp\": 123.946424798278\n",
      "}\n"
     ]
    }
   ],
   "source": [
    "# Access the valuation object\n",
    "print(\"Swaption Valuation Results:\")\n",
    "print(json.dumps(valuation_data.as_dict(), indent=4))"
   ]
  },
  {
   "cell_type": "code",
   "execution_count": 5,
   "id": "d5c9c75d",
   "metadata": {
    "execution": {
     "iopub.execute_input": "2025-09-18T09:05:00.532429Z",
     "iopub.status.busy": "2025-09-18T09:05:00.532197Z",
     "iopub.status.idle": "2025-09-18T09:05:00.546695Z",
     "shell.execute_reply": "2025-09-18T09:05:00.545871Z"
    }
   },
   "outputs": [
    {
     "name": "stdout",
     "output_type": "stream",
     "text": [
      "Swaption Analytics Summary:\n"
     ]
    },
    {
     "data": {
      "text/html": [
       "<div>\n",
       "<style scoped>\n",
       "    .dataframe tbody tr th:only-of-type {\n",
       "        vertical-align: middle;\n",
       "    }\n",
       "\n",
       "    .dataframe tbody tr th {\n",
       "        vertical-align: top;\n",
       "    }\n",
       "\n",
       "    .dataframe thead th {\n",
       "        text-align: right;\n",
       "    }\n",
       "</style>\n",
       "<table border=\"1\" class=\"dataframe\">\n",
       "  <thead>\n",
       "    <tr style=\"text-align: right;\">\n",
       "      <th></th>\n",
       "      <th>Value</th>\n",
       "    </tr>\n",
       "  </thead>\n",
       "  <tbody>\n",
       "    <tr>\n",
       "      <th>MarketValueInDealCcy</th>\n",
       "      <td>123946.42</td>\n",
       "    </tr>\n",
       "    <tr>\n",
       "      <th>PremiumPercent</th>\n",
       "      <td>1.24</td>\n",
       "    </tr>\n",
       "    <tr>\n",
       "      <th>PremiumBp</th>\n",
       "      <td>123.95</td>\n",
       "    </tr>\n",
       "    <tr>\n",
       "      <th>DeltaPercent</th>\n",
       "      <td>2.33</td>\n",
       "    </tr>\n",
       "    <tr>\n",
       "      <th>GammaPercent</th>\n",
       "      <td>274.00</td>\n",
       "    </tr>\n",
       "    <tr>\n",
       "      <th>VegaPercent</th>\n",
       "      <td>1.26</td>\n",
       "    </tr>\n",
       "    <tr>\n",
       "      <th>ThetaPercent</th>\n",
       "      <td>-0.00</td>\n",
       "    </tr>\n",
       "    <tr>\n",
       "      <th>ErrorCode</th>\n",
       "      <td>NaN</td>\n",
       "    </tr>\n",
       "    <tr>\n",
       "      <th>ErrorMessage</th>\n",
       "      <td>NaN</td>\n",
       "    </tr>\n",
       "  </tbody>\n",
       "</table>\n",
       "</div>"
      ],
      "text/plain": [
       "                          Value\n",
       "MarketValueInDealCcy  123946.42\n",
       "PremiumPercent             1.24\n",
       "PremiumBp                123.95\n",
       "DeltaPercent               2.33\n",
       "GammaPercent             274.00\n",
       "VegaPercent                1.26\n",
       "ThetaPercent              -0.00\n",
       "ErrorCode                   NaN\n",
       "ErrorMessage                NaN"
      ]
     },
     "metadata": {},
     "output_type": "display_data"
    }
   ],
   "source": [
    "# Convert swaption analytics in tabular data to DataFrame for better visualization\n",
    "print(\"Swaption Analytics Summary:\")\n",
    "\n",
    "columns = [item.name for item in analytics_data.tabular_data.headers]\n",
    "response_data = analytics_data.tabular_data.data\n",
    "\n",
    "response_df = pd.DataFrame([response_data], columns=columns).T\n",
    "response_df[0] = pd.to_numeric(response_df[0], errors='coerce').round(2)\n",
    "response_df.columns = ['Value']  # Add meaningful column name\n",
    "\n",
    "display(response_df)"
   ]
  },
  {
   "cell_type": "markdown",
   "id": "b0ae45e5",
   "metadata": {},
   "source": [
    "## Appendix: Main Functions Reference\n",
    "\n",
    "The following is a list of main classes, enums, and functions available after importing from  `lseg_analytics.instruments.swaption`:\n",
    "\n",
    "**Core Classes:**\n",
    "- `SwaptionDefinition` - Define swaption instrument specifications (strike, expiry, underlying swap)\n",
    "- `SwaptionDefinitionInstrument` - Instrument container for pricing operations\n",
    "- `BermudanSwaptionDefinition` - Bermudan-style swaption with multiple exercise dates\n",
    "- `CancellableDefinition` - Cancellable swap (*i.e.* an interest rate swap + a receiver/payer swaption) definition\n",
    "- `SwapDefinition` - Underlying swap structure definition\n",
    "- `SwapLegDefinition` - Individual swap leg specifications (fixed/floating)\n",
    "- `SwaptionPricingParameters` - Configure pricing parameters and market data settings\n",
    "\n",
    "**Response Classes:**\n",
    "- `SwaptionCalculationResponse` - Main response container\n",
    "- `SwaptionAnalyticsResponseData` - Detailed analytics and calculations\n",
    "- `SwaptionAnalyticsResponseWithError` - Analytics response with error\n",
    "- `SwaptionValuation` - Individual instrument valuation results\n",
    "- `SwaptionDescription` - Instrument description\n",
    "- `SwaptionPricingAnalysis` - Swaption pricing analysis\n",
    "- `SwaptionGreeks` - Risk sensitivities (delta, gamma, vega, theta)\n",
    "- `SwaptionCashflows` - Detailed cashflow schedules\n",
    "\n",
    "**Swaption Configuration Enums:**\n",
    "- `SwaptionTypeEnum` - Swaption type: PAYER, RECEIVER\n",
    "- `IPAExerciseStyleEnum` - Exercise style: EURO, AMER, BERM\n",
    "- `OptionOwnerEnum` - Option ownership direction: COUNTERPARTY, SELF_ENTITY\n",
    "- `SettlementTypeEnum` - Settlement method: PHYSICAL, CASH, CCP\n",
    "- `PremiumSettlementTypeEnum` - Premium payment timing: SPOT, FORWARD, SCHEDULE\n",
    "- `ExerciseScheduleTypeEnum` - Source of the exercise dates of Bermudan options: FIXED_LEG, FLOAT_LEG, USER_DEFINED\n",
    "\n",
    "**Swap Configuration Enums:**\n",
    "- `IPADirectionEnum` - Leg direction: PAID, RECEIVED\n",
    "- `InterestPaymentFrequencyEnum` - Payment frequencies: ANNUAL, SEMI_ANNUAL, QUARTERLY, MONTHLY, etc.\n",
    "- `IndexResetFrequencyEnum` - Reset frequencies: EVERYDAY, MONTHLY, QUARTERLY, etc.\n",
    "- `InterestCalculationMethodEnum` - Day count conventions: DCB_ACTUAL_360, DCB_30_360, etc.\n",
    "- `PaymentBusinessDayConventionEnum` - Business day adjustment rules: MODIFIED_FOLLOWING, NEXT_BUSINESS_DAY, etc.\n",
    "\n",
    "**Market Data Enums:**\n",
    "- `PriceSideEnum` - Market price sides: BID, ASK, MID, LAST\n",
    "- `IndexPriceSideEnum` - Index price side selection: BID, ASK, MID, LAST\n",
    "- `IPAIndexObservationMethodEnum` - Index observation methods: LOOKBACK, MIXED, PERIOD_SHIFT\n",
    "\n",
    "**Trading Enums:**\n",
    "- `IPABuySellEnum` - Buy/Sell direction: BUY, SELL\n",
    "- `TypeEnum` - General type classifications\n",
    "\n",
    "**Main Functions:**\n",
    "- `price()` - Execute swaption pricing calculations\n",
    "- `functions_all()` - List all available functions in the module"
   ]
  }
 ],
 "metadata": {
  "kernelspec": {
   "display_name": "jupyterlab-ext",
   "language": "python",
   "name": "python3"
  },
  "language_info": {
   "codemirror_mode": {
    "name": "ipython",
    "version": 3
   },
   "file_extension": ".py",
   "mimetype": "text/x-python",
   "name": "python",
   "nbconvert_exporter": "python",
   "pygments_lexer": "ipython3",
   "version": "3.11.6"
  }
 },
 "nbformat": 4,
 "nbformat_minor": 5
}
