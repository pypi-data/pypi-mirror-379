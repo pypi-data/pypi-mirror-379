{
 "cells": [
  {
   "cell_type": "markdown",
   "metadata": {},
   "source": [
    "# Calculate an FX Forward curve defined by LSEG\n",
    "\n",
    "This notebook explains how to calculate the curve points on an FX Forward curve defined by LSEG."
   ]
  },
  {
   "cell_type": "markdown",
   "metadata": {},
   "source": [
    "## Start by importing the required libraries\n",
    "The workflow requires market data from LSEG, specifically the fx_forward_curves library.\n",
    "LSEG helper functions and the pandas library are required to visualise the result. \n",
    "You'll need to have the pandas library installed. If you don't have it already, you can install it using 'pip install pandas' in the terminal."
   ]
  },
  {
   "cell_type": "code",
   "execution_count": 1,
   "metadata": {
    "execution": {
     "iopub.execute_input": "2025-09-18T09:07:14.527246Z",
     "iopub.status.busy": "2025-09-18T09:07:14.526872Z",
     "iopub.status.idle": "2025-09-18T09:07:15.577102Z",
     "shell.execute_reply": "2025-09-18T09:07:15.576372Z"
    }
   },
   "outputs": [],
   "source": [
    "from lseg_analytics.market_data import fx_forward_curves\n",
    "from lseg_analytics.helpers import to_rows\n",
    "from lseg_analytics.market_data.fx_forward_curves import (\n",
    "    FxForwardCurveCalculationParameters,\n",
    ")\n",
    "from IPython.display import display\n",
    "import pandas as pd"
   ]
  },
  {
   "cell_type": "markdown",
   "metadata": {},
   "source": [
    "## Load the curve from the LSEG storage space\n",
    "To load the curve, you need to provide the space where to load the curve from and the name of the curve. The space can either be 'HOME' or 'LSEG'. This example loads an LSEG-defined curve, so it loads the curve from the 'LSEG' space. \n",
    "\n",
    "To see the possible curve names, place your cursor after the equals sign and trigger the autocompletion using the _Trigger Suggest_ command (`Ctrl`/`Cmd` + `i`)."
   ]
  },
  {
   "cell_type": "code",
   "execution_count": 2,
   "metadata": {
    "execution": {
     "iopub.execute_input": "2025-09-18T09:07:15.582603Z",
     "iopub.status.busy": "2025-09-18T09:07:15.580156Z",
     "iopub.status.idle": "2025-09-18T09:07:16.275467Z",
     "shell.execute_reply": "2025-09-18T09:07:16.274844Z"
    }
   },
   "outputs": [],
   "source": [
    "# Load the AUD/CHF FX Forward curve\n",
    "audchf_curve = fx_forward_curves.load(space=\"LSEG\", name=\"AUD_CHF_FxForward\")"
   ]
  },
  {
   "cell_type": "markdown",
   "metadata": {},
   "source": [
    "## Calculate the curve points\n",
    "Select the valuation date of the calculation in the format YYYY-MM-DD. The response will be in the format of 'FxForwardCurveDataOnResourceResponseData'. From the property 'analytics' of the output, get the 'outright_curve' property which is in the format of 'FxOutrightCurveDescription' and contains the constituent values, the curve points and any underlying curves. \n",
    "Note that if the valuation is done  on the latest market data, the 'valuation_date' can be removed."
   ]
  },
  {
   "cell_type": "code",
   "execution_count": 3,
   "metadata": {
    "execution": {
     "iopub.execute_input": "2025-09-18T09:07:16.278647Z",
     "iopub.status.busy": "2025-09-18T09:07:16.278062Z",
     "iopub.status.idle": "2025-09-18T09:07:16.804602Z",
     "shell.execute_reply": "2025-09-18T09:07:16.803894Z"
    }
   },
   "outputs": [],
   "source": [
    "response = audchf_curve.calculate(\n",
    "    pricing_preferences=FxForwardCurveCalculationParameters(valuation_date=\"2024-02-07\")\n",
    ")\n",
    "curve_data = response.analytics.outright_curve"
   ]
  },
  {
   "cell_type": "markdown",
   "metadata": {},
   "source": [
    "## Display the response values\n",
    "For each curve point you can print the tenor and quote values, including the start and end date. \n",
    "\n",
    "To view the results in a dataframe, first use the to_rows help method then display the dataframe."
   ]
  },
  {
   "cell_type": "code",
   "execution_count": 4,
   "metadata": {
    "execution": {
     "iopub.execute_input": "2025-09-18T09:07:16.807375Z",
     "iopub.status.busy": "2025-09-18T09:07:16.807034Z",
     "iopub.status.idle": "2025-09-18T09:07:16.821889Z",
     "shell.execute_reply": "2025-09-18T09:07:16.821238Z"
    }
   },
   "outputs": [
    {
     "data": {
      "text/html": [
       "<div>\n",
       "<style scoped>\n",
       "    .dataframe tbody tr th:only-of-type {\n",
       "        vertical-align: middle;\n",
       "    }\n",
       "\n",
       "    .dataframe tbody tr th {\n",
       "        vertical-align: top;\n",
       "    }\n",
       "\n",
       "    .dataframe thead th {\n",
       "        text-align: right;\n",
       "    }\n",
       "</style>\n",
       "<table border=\"1\" class=\"dataframe\">\n",
       "  <thead>\n",
       "    <tr style=\"text-align: right;\">\n",
       "      <th></th>\n",
       "      <th>tenor</th>\n",
       "      <th>start_date</th>\n",
       "      <th>end_date</th>\n",
       "      <th>outright.bid</th>\n",
       "      <th>outright.ask</th>\n",
       "      <th>outright.mid</th>\n",
       "    </tr>\n",
       "  </thead>\n",
       "  <tbody>\n",
       "    <tr>\n",
       "      <th>0</th>\n",
       "      <td>ON</td>\n",
       "      <td>2024-02-07</td>\n",
       "      <td>2024-02-08</td>\n",
       "      <td>0.570180</td>\n",
       "      <td>0.570498</td>\n",
       "      <td>0.570339</td>\n",
       "    </tr>\n",
       "    <tr>\n",
       "      <th>1</th>\n",
       "      <td>SPOT</td>\n",
       "      <td>2024-02-09</td>\n",
       "      <td>2024-02-09</td>\n",
       "      <td>0.570100</td>\n",
       "      <td>0.570400</td>\n",
       "      <td>0.570250</td>\n",
       "    </tr>\n",
       "    <tr>\n",
       "      <th>2</th>\n",
       "      <td>SN</td>\n",
       "      <td>2024-02-09</td>\n",
       "      <td>2024-02-12</td>\n",
       "      <td>0.569969</td>\n",
       "      <td>0.570277</td>\n",
       "      <td>0.570123</td>\n",
       "    </tr>\n",
       "    <tr>\n",
       "      <th>3</th>\n",
       "      <td>SW</td>\n",
       "      <td>2024-02-09</td>\n",
       "      <td>2024-02-16</td>\n",
       "      <td>0.569802</td>\n",
       "      <td>0.570112</td>\n",
       "      <td>0.569957</td>\n",
       "    </tr>\n",
       "    <tr>\n",
       "      <th>4</th>\n",
       "      <td>2W</td>\n",
       "      <td>2024-02-09</td>\n",
       "      <td>2024-02-23</td>\n",
       "      <td>0.569498</td>\n",
       "      <td>0.569833</td>\n",
       "      <td>0.569666</td>\n",
       "    </tr>\n",
       "    <tr>\n",
       "      <th>5</th>\n",
       "      <td>3W</td>\n",
       "      <td>2024-02-09</td>\n",
       "      <td>2024-03-01</td>\n",
       "      <td>0.569204</td>\n",
       "      <td>0.569533</td>\n",
       "      <td>0.569369</td>\n",
       "    </tr>\n",
       "    <tr>\n",
       "      <th>6</th>\n",
       "      <td>1M</td>\n",
       "      <td>2024-02-09</td>\n",
       "      <td>2024-03-11</td>\n",
       "      <td>0.568774</td>\n",
       "      <td>0.569118</td>\n",
       "      <td>0.568946</td>\n",
       "    </tr>\n",
       "    <tr>\n",
       "      <th>7</th>\n",
       "      <td>2M</td>\n",
       "      <td>2024-02-09</td>\n",
       "      <td>2024-04-09</td>\n",
       "      <td>0.567497</td>\n",
       "      <td>0.567854</td>\n",
       "      <td>0.567675</td>\n",
       "    </tr>\n",
       "    <tr>\n",
       "      <th>8</th>\n",
       "      <td>3M</td>\n",
       "      <td>2024-02-09</td>\n",
       "      <td>2024-05-10</td>\n",
       "      <td>0.566141</td>\n",
       "      <td>0.566513</td>\n",
       "      <td>0.566327</td>\n",
       "    </tr>\n",
       "    <tr>\n",
       "      <th>9</th>\n",
       "      <td>4M</td>\n",
       "      <td>2024-02-09</td>\n",
       "      <td>2024-06-11</td>\n",
       "      <td>0.564747</td>\n",
       "      <td>0.565142</td>\n",
       "      <td>0.564944</td>\n",
       "    </tr>\n",
       "    <tr>\n",
       "      <th>10</th>\n",
       "      <td>5M</td>\n",
       "      <td>2024-02-09</td>\n",
       "      <td>2024-07-09</td>\n",
       "      <td>0.563474</td>\n",
       "      <td>0.563883</td>\n",
       "      <td>0.563678</td>\n",
       "    </tr>\n",
       "    <tr>\n",
       "      <th>11</th>\n",
       "      <td>6M</td>\n",
       "      <td>2024-02-09</td>\n",
       "      <td>2024-08-09</td>\n",
       "      <td>0.562017</td>\n",
       "      <td>0.562425</td>\n",
       "      <td>0.562221</td>\n",
       "    </tr>\n",
       "    <tr>\n",
       "      <th>12</th>\n",
       "      <td>7M</td>\n",
       "      <td>2024-02-09</td>\n",
       "      <td>2024-09-09</td>\n",
       "      <td>0.560451</td>\n",
       "      <td>0.561168</td>\n",
       "      <td>0.560809</td>\n",
       "    </tr>\n",
       "    <tr>\n",
       "      <th>13</th>\n",
       "      <td>8M</td>\n",
       "      <td>2024-02-09</td>\n",
       "      <td>2024-10-09</td>\n",
       "      <td>0.559016</td>\n",
       "      <td>0.559838</td>\n",
       "      <td>0.559427</td>\n",
       "    </tr>\n",
       "    <tr>\n",
       "      <th>14</th>\n",
       "      <td>9M</td>\n",
       "      <td>2024-02-09</td>\n",
       "      <td>2024-11-12</td>\n",
       "      <td>0.557472</td>\n",
       "      <td>0.558090</td>\n",
       "      <td>0.557781</td>\n",
       "    </tr>\n",
       "    <tr>\n",
       "      <th>15</th>\n",
       "      <td>10M</td>\n",
       "      <td>2024-02-09</td>\n",
       "      <td>2024-12-09</td>\n",
       "      <td>0.555924</td>\n",
       "      <td>0.557316</td>\n",
       "      <td>0.556620</td>\n",
       "    </tr>\n",
       "    <tr>\n",
       "      <th>16</th>\n",
       "      <td>11M</td>\n",
       "      <td>2024-02-09</td>\n",
       "      <td>2025-01-09</td>\n",
       "      <td>0.554308</td>\n",
       "      <td>0.555640</td>\n",
       "      <td>0.554974</td>\n",
       "    </tr>\n",
       "    <tr>\n",
       "      <th>17</th>\n",
       "      <td>1Y</td>\n",
       "      <td>2024-02-09</td>\n",
       "      <td>2025-02-10</td>\n",
       "      <td>0.553162</td>\n",
       "      <td>0.553890</td>\n",
       "      <td>0.553526</td>\n",
       "    </tr>\n",
       "    <tr>\n",
       "      <th>18</th>\n",
       "      <td>15M</td>\n",
       "      <td>2024-02-09</td>\n",
       "      <td>2025-05-09</td>\n",
       "      <td>0.548593</td>\n",
       "      <td>0.550881</td>\n",
       "      <td>0.549737</td>\n",
       "    </tr>\n",
       "    <tr>\n",
       "      <th>19</th>\n",
       "      <td>18M</td>\n",
       "      <td>2024-02-09</td>\n",
       "      <td>2025-08-11</td>\n",
       "      <td>0.544075</td>\n",
       "      <td>0.546768</td>\n",
       "      <td>0.545422</td>\n",
       "    </tr>\n",
       "    <tr>\n",
       "      <th>20</th>\n",
       "      <td>2Y</td>\n",
       "      <td>2024-02-09</td>\n",
       "      <td>2026-02-09</td>\n",
       "      <td>0.536065</td>\n",
       "      <td>0.537845</td>\n",
       "      <td>0.536955</td>\n",
       "    </tr>\n",
       "    <tr>\n",
       "      <th>21</th>\n",
       "      <td>3Y</td>\n",
       "      <td>2024-02-09</td>\n",
       "      <td>2027-02-09</td>\n",
       "      <td>0.520022</td>\n",
       "      <td>0.522502</td>\n",
       "      <td>0.521262</td>\n",
       "    </tr>\n",
       "    <tr>\n",
       "      <th>22</th>\n",
       "      <td>4Y</td>\n",
       "      <td>2024-02-09</td>\n",
       "      <td>2028-02-09</td>\n",
       "      <td>0.503021</td>\n",
       "      <td>0.506156</td>\n",
       "      <td>0.504589</td>\n",
       "    </tr>\n",
       "    <tr>\n",
       "      <th>23</th>\n",
       "      <td>5Y</td>\n",
       "      <td>2024-02-09</td>\n",
       "      <td>2029-02-09</td>\n",
       "      <td>0.485144</td>\n",
       "      <td>0.488889</td>\n",
       "      <td>0.487017</td>\n",
       "    </tr>\n",
       "    <tr>\n",
       "      <th>24</th>\n",
       "      <td>6Y</td>\n",
       "      <td>2024-02-09</td>\n",
       "      <td>2030-02-11</td>\n",
       "      <td>0.466350</td>\n",
       "      <td>0.470655</td>\n",
       "      <td>0.468503</td>\n",
       "    </tr>\n",
       "    <tr>\n",
       "      <th>25</th>\n",
       "      <td>7Y</td>\n",
       "      <td>2024-02-09</td>\n",
       "      <td>2031-02-10</td>\n",
       "      <td>0.447377</td>\n",
       "      <td>0.452187</td>\n",
       "      <td>0.449782</td>\n",
       "    </tr>\n",
       "    <tr>\n",
       "      <th>26</th>\n",
       "      <td>8Y</td>\n",
       "      <td>2024-02-09</td>\n",
       "      <td>2032-02-09</td>\n",
       "      <td>0.428625</td>\n",
       "      <td>0.433891</td>\n",
       "      <td>0.431258</td>\n",
       "    </tr>\n",
       "    <tr>\n",
       "      <th>27</th>\n",
       "      <td>9Y</td>\n",
       "      <td>2024-02-09</td>\n",
       "      <td>2033-02-09</td>\n",
       "      <td>0.410021</td>\n",
       "      <td>0.415701</td>\n",
       "      <td>0.412861</td>\n",
       "    </tr>\n",
       "    <tr>\n",
       "      <th>28</th>\n",
       "      <td>10Y</td>\n",
       "      <td>2024-02-09</td>\n",
       "      <td>2034-02-09</td>\n",
       "      <td>0.392262</td>\n",
       "      <td>0.398515</td>\n",
       "      <td>0.395389</td>\n",
       "    </tr>\n",
       "    <tr>\n",
       "      <th>29</th>\n",
       "      <td>12Y</td>\n",
       "      <td>2024-02-09</td>\n",
       "      <td>2036-02-11</td>\n",
       "      <td>0.359984</td>\n",
       "      <td>0.367275</td>\n",
       "      <td>0.363630</td>\n",
       "    </tr>\n",
       "    <tr>\n",
       "      <th>30</th>\n",
       "      <td>15Y</td>\n",
       "      <td>2024-02-09</td>\n",
       "      <td>2039-02-09</td>\n",
       "      <td>0.313683</td>\n",
       "      <td>0.322283</td>\n",
       "      <td>0.317983</td>\n",
       "    </tr>\n",
       "  </tbody>\n",
       "</table>\n",
       "</div>"
      ],
      "text/plain": [
       "   tenor  start_date    end_date  outright.bid  outright.ask  outright.mid\n",
       "0     ON  2024-02-07  2024-02-08      0.570180      0.570498      0.570339\n",
       "1   SPOT  2024-02-09  2024-02-09      0.570100      0.570400      0.570250\n",
       "2     SN  2024-02-09  2024-02-12      0.569969      0.570277      0.570123\n",
       "3     SW  2024-02-09  2024-02-16      0.569802      0.570112      0.569957\n",
       "4     2W  2024-02-09  2024-02-23      0.569498      0.569833      0.569666\n",
       "5     3W  2024-02-09  2024-03-01      0.569204      0.569533      0.569369\n",
       "6     1M  2024-02-09  2024-03-11      0.568774      0.569118      0.568946\n",
       "7     2M  2024-02-09  2024-04-09      0.567497      0.567854      0.567675\n",
       "8     3M  2024-02-09  2024-05-10      0.566141      0.566513      0.566327\n",
       "9     4M  2024-02-09  2024-06-11      0.564747      0.565142      0.564944\n",
       "10    5M  2024-02-09  2024-07-09      0.563474      0.563883      0.563678\n",
       "11    6M  2024-02-09  2024-08-09      0.562017      0.562425      0.562221\n",
       "12    7M  2024-02-09  2024-09-09      0.560451      0.561168      0.560809\n",
       "13    8M  2024-02-09  2024-10-09      0.559016      0.559838      0.559427\n",
       "14    9M  2024-02-09  2024-11-12      0.557472      0.558090      0.557781\n",
       "15   10M  2024-02-09  2024-12-09      0.555924      0.557316      0.556620\n",
       "16   11M  2024-02-09  2025-01-09      0.554308      0.555640      0.554974\n",
       "17    1Y  2024-02-09  2025-02-10      0.553162      0.553890      0.553526\n",
       "18   15M  2024-02-09  2025-05-09      0.548593      0.550881      0.549737\n",
       "19   18M  2024-02-09  2025-08-11      0.544075      0.546768      0.545422\n",
       "20    2Y  2024-02-09  2026-02-09      0.536065      0.537845      0.536955\n",
       "21    3Y  2024-02-09  2027-02-09      0.520022      0.522502      0.521262\n",
       "22    4Y  2024-02-09  2028-02-09      0.503021      0.506156      0.504589\n",
       "23    5Y  2024-02-09  2029-02-09      0.485144      0.488889      0.487017\n",
       "24    6Y  2024-02-09  2030-02-11      0.466350      0.470655      0.468503\n",
       "25    7Y  2024-02-09  2031-02-10      0.447377      0.452187      0.449782\n",
       "26    8Y  2024-02-09  2032-02-09      0.428625      0.433891      0.431258\n",
       "27    9Y  2024-02-09  2033-02-09      0.410021      0.415701      0.412861\n",
       "28   10Y  2024-02-09  2034-02-09      0.392262      0.398515      0.395389\n",
       "29   12Y  2024-02-09  2036-02-11      0.359984      0.367275      0.363630\n",
       "30   15Y  2024-02-09  2039-02-09      0.313683      0.322283      0.317983"
      ]
     },
     "metadata": {},
     "output_type": "display_data"
    }
   ],
   "source": [
    "# Convert the curve points to DataFrame and display them\n",
    "df = pd.DataFrame(to_rows(response.analytics.outright_curve.points))\n",
    "display(df)"
   ]
  },
  {
   "cell_type": "markdown",
   "metadata": {},
   "source": [
    "## Clone the curve to your home space\n",
    "You may want to save the curve to your own space. To do this, create a clone of the curve first, then save it with a new name in the space 'HOME'."
   ]
  },
  {
   "cell_type": "code",
   "execution_count": 5,
   "metadata": {
    "execution": {
     "iopub.execute_input": "2025-09-18T09:07:16.824588Z",
     "iopub.status.busy": "2025-09-18T09:07:16.823995Z",
     "iopub.status.idle": "2025-09-18T09:07:17.035237Z",
     "shell.execute_reply": "2025-09-18T09:07:17.034739Z"
    }
   },
   "outputs": [
    {
     "data": {
      "text/plain": [
       "True"
      ]
     },
     "execution_count": 5,
     "metadata": {},
     "output_type": "execute_result"
    }
   ],
   "source": [
    "# Clone the curve\n",
    "cloned_fx_forward = audchf_curve.clone()\n",
    "  \n",
    "# Save a newly cloned curve\n",
    "cloned_fx_forward.save(name=\"clone_audchf_curve\", space=\"HOME\")"
   ]
  },
  {
   "cell_type": "markdown",
   "metadata": {},
   "source": [
    "## Delete the curve\n",
    "If you want to clean up your space and delete the curve you can using the 'delete' method. Note: you cannot delete curves from the 'LSEG' space. "
   ]
  },
  {
   "cell_type": "code",
   "execution_count": 6,
   "metadata": {
    "execution": {
     "iopub.execute_input": "2025-09-18T09:07:17.037413Z",
     "iopub.status.busy": "2025-09-18T09:07:17.037054Z",
     "iopub.status.idle": "2025-09-18T09:07:17.312369Z",
     "shell.execute_reply": "2025-09-18T09:07:17.311822Z"
    }
   },
   "outputs": [
    {
     "data": {
      "text/plain": [
       "True"
      ]
     },
     "execution_count": 6,
     "metadata": {},
     "output_type": "execute_result"
    }
   ],
   "source": [
    "# Delete a curve by providing its name\n",
    "fx_forward_curves.delete(name=\"clone_audchf_curve\")"
   ]
  }
 ],
 "metadata": {
  "kernelspec": {
   "display_name": ".venv",
   "language": "python",
   "name": "python3"
  },
  "language_info": {
   "codemirror_mode": {
    "name": "ipython",
    "version": 3
   },
   "file_extension": ".py",
   "mimetype": "text/x-python",
   "name": "python",
   "nbconvert_exporter": "python",
   "pygments_lexer": "ipython3",
   "version": "3.11.6"
  }
 },
 "nbformat": 4,
 "nbformat_minor": 2
}
