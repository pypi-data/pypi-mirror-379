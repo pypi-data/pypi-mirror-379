{
 "cells": [
  {
   "cell_type": "markdown",
   "id": "1a108871",
   "metadata": {},
   "source": [
    "# Credit Default Swaps (CDS) Fundamentals"
   ]
  },
  {
   "cell_type": "markdown",
   "id": "3a4cef20",
   "metadata": {},
   "source": [
    "This notebook demonstrates how to access and use the **Credit Default Swap (CDS)** functionalities within the **LSEG Financial Analytics SDK**. \n",
    "\n",
    "**Credit Default Swaps** are financial derivatives that allow investors to transfer or hedge credit risk. They provide protection against default events of reference entities (corporations, governments, etc.), making them essential tools for credit risk management and structured credit products.\n",
    "\n",
    "**You will be able to:**\n",
    "- Define **Single Name CDS** instruments with **instrument code (RIC)**\n",
    "- Configure pricing parameters\n",
    "- Evaluate CDS valuation analytics"
   ]
  },
  {
   "cell_type": "markdown",
   "id": "c545bed5",
   "metadata": {},
   "source": [
    "## Imports"
   ]
  },
  {
   "cell_type": "markdown",
   "id": "5a2157a4-64d5-4b2e-93dc-aaeae57e199a",
   "metadata": {},
   "source": [
    "Import the following necessary modules:\n",
    "\n",
    "- `lseg_analytics.instruments.cds` - for CDS instruments definitions and analytics"
   ]
  },
  {
   "cell_type": "code",
   "execution_count": 1,
   "id": "c54dd812",
   "metadata": {
    "execution": {
     "iopub.execute_input": "2025-09-18T08:59:14.402651Z",
     "iopub.status.busy": "2025-09-18T08:59:14.402335Z",
     "iopub.status.idle": "2025-09-18T08:59:15.190424Z",
     "shell.execute_reply": "2025-09-18T08:59:15.189896Z"
    }
   },
   "outputs": [],
   "source": [
    "from lseg_analytics.instruments import cds\n",
    "\n",
    "import pandas as pd\n",
    "import json\n",
    "import datetime as dt\n",
    "from IPython.display import display"
   ]
  },
  {
   "cell_type": "markdown",
   "id": "9b0cc193",
   "metadata": {},
   "source": [
    "## Data Preparation\n",
    "\n",
    "To define a CDS instrument you need to follow a structured 3-step process:\n",
    "\n",
    "1. **CDS Definition** - Specify basic CDS with instrument code (RIC)\n",
    "2. **CDS Instrument Definition** - Create the instrument object\n",
    "3. **Pricing Preferences** - Configure pricing parameters, optional"
   ]
  },
  {
   "cell_type": "code",
   "execution_count": 2,
   "id": "a6e29ab7",
   "metadata": {
    "execution": {
     "iopub.execute_input": "2025-09-18T08:59:15.194735Z",
     "iopub.status.busy": "2025-09-18T08:59:15.193037Z",
     "iopub.status.idle": "2025-09-18T08:59:15.200738Z",
     "shell.execute_reply": "2025-09-18T08:59:15.200152Z"
    },
    "tags": [
     "price.static"
    ]
   },
   "outputs": [
    {
     "name": "stdout",
     "output_type": "stream",
     "text": [
      "CDS instrument created from RIC\n",
      "Pricing parameters configured\n"
     ]
    }
   ],
   "source": [
    "# Create CDS definition with instrument code (RIC)\n",
    "cds_definition = cds.CdsDefinition(\n",
    "    instrument_code=\"BNPP5YEUAM=R\"                                          # BNP Paribas 5Y EUR CDS RIC\n",
    ")\n",
    "\n",
    "# Create CDS instrument from definition\n",
    "cds_instrument = cds.CdsDefinitionInstrument(\n",
    "    definition=cds_definition\n",
    ")\n",
    "\n",
    "print(\"CDS instrument created from RIC\")\n",
    "\n",
    "# Configure pricing parameters, optional\n",
    "pricing_params = cds.CdsPricingParameters(\n",
    "    valuation_date = dt.datetime.strptime(\"2023-03-01\", \"%Y-%m-%d\"),          # Valuation date\n",
    ")\n",
    "print(\"Pricing parameters configured\")"
   ]
  },
  {
   "cell_type": "markdown",
   "id": "59493901",
   "metadata": {},
   "source": [
    "## Request Execution"
   ]
  },
  {
   "cell_type": "code",
   "execution_count": 3,
   "id": "0eedc926",
   "metadata": {
    "execution": {
     "iopub.execute_input": "2025-09-18T08:59:15.202724Z",
     "iopub.status.busy": "2025-09-18T08:59:15.202450Z",
     "iopub.status.idle": "2025-09-18T08:59:16.537290Z",
     "shell.execute_reply": "2025-09-18T08:59:16.536638Z"
    },
    "tags": [
     "price.static"
    ]
   },
   "outputs": [
    {
     "name": "stdout",
     "output_type": "stream",
     "text": [
      "CDS pricing execution completed\n"
     ]
    }
   ],
   "source": [
    "# Execute the calculation using the price() function with error handling\n",
    "try:\n",
    "    # The 'definitions' parameter accepts a list of request items for batch processing\n",
    "    response = cds.price(\n",
    "        definitions=[cds_instrument],\n",
    "        pricing_preferences=pricing_params,\n",
    "        fields=\"accruedAmountInDealCcy, upfrontAmountInDealCcy, MarketValueInDealCcy, cleanMarketValueInDealCcy\"  # optional\n",
    "    )\n",
    "    errors = [a.error for a in response.data.analytics if a.error]\n",
    "    if errors:\n",
    "        raise Exception(errors[0].message)\n",
    "    print(\"CDS pricing execution completed\")\n",
    "except Exception as e:\n",
    "    print(f\"Price Calculation failed: {str(e)}\")\n",
    "    raise"
   ]
  },
  {
   "cell_type": "markdown",
   "id": "b58ed807",
   "metadata": {},
   "source": [
    "## Results Display"
   ]
  },
  {
   "cell_type": "markdown",
   "id": "8fbfaa6c",
   "metadata": {},
   "source": [
    "#### Key Sections in the `response` JSON\n",
    "\n",
    " - **definitions**: Instrument setup (e.g. instrument code, reference entity, dates, notional, spread), it's CdsDefinition that we used. \n",
    "\n",
    " - **pricingPreferences**: Valuation date, price side, currency settings.\n",
    "\n",
    " - **analytics**:\n",
    "   - **tabularData**: `data`, `headers`, `statuses`\n",
    "   - **description**: Instrument summary CdsDefinition and also the default fields not specified in the CdsDefinition, but used by default in the calculation\n",
    "   - **valuation**: customizable list of analytics (`marketValueInDealCcy`, `spreadBp`, `upfrontAmount`)\n",
    "   - **error**: root cause of the issue, if any"
   ]
  },
  {
   "cell_type": "code",
   "execution_count": 4,
   "id": "51fd041e",
   "metadata": {
    "execution": {
     "iopub.execute_input": "2025-09-18T08:59:16.539695Z",
     "iopub.status.busy": "2025-09-18T08:59:16.539349Z",
     "iopub.status.idle": "2025-09-18T08:59:16.542776Z",
     "shell.execute_reply": "2025-09-18T08:59:16.542258Z"
    }
   },
   "outputs": [
    {
     "name": "stdout",
     "output_type": "stream",
     "text": [
      "{\n",
      "    \"accruedAmountInDealCcy\": -2000.0,\n",
      "    \"upfrontAmountInDealCcy\": -22251.8900987992,\n",
      "    \"marketValueInDealCcy\": -24243.8352187997,\n",
      "    \"cleanMarketValueInDealCcy\": -22244.4994870251\n",
      "}\n"
     ]
    }
   ],
   "source": [
    " # Access the valuation object\n",
    "valuation = response.data.analytics[0].valuation\n",
    "print(json.dumps(valuation.as_dict(), indent = 4))"
   ]
  },
  {
   "cell_type": "code",
   "execution_count": 5,
   "id": "c10d59c1",
   "metadata": {
    "execution": {
     "iopub.execute_input": "2025-09-18T08:59:16.544815Z",
     "iopub.status.busy": "2025-09-18T08:59:16.544436Z",
     "iopub.status.idle": "2025-09-18T08:59:16.553635Z",
     "shell.execute_reply": "2025-09-18T08:59:16.553112Z"
    }
   },
   "outputs": [
    {
     "data": {
      "text/html": [
       "<div>\n",
       "<style scoped>\n",
       "    .dataframe tbody tr th:only-of-type {\n",
       "        vertical-align: middle;\n",
       "    }\n",
       "\n",
       "    .dataframe tbody tr th {\n",
       "        vertical-align: top;\n",
       "    }\n",
       "\n",
       "    .dataframe thead th {\n",
       "        text-align: right;\n",
       "    }\n",
       "</style>\n",
       "<table border=\"1\" class=\"dataframe\">\n",
       "  <thead>\n",
       "    <tr style=\"text-align: right;\">\n",
       "      <th></th>\n",
       "      <th>Fields</th>\n",
       "      <th>Value</th>\n",
       "    </tr>\n",
       "  </thead>\n",
       "  <tbody>\n",
       "    <tr>\n",
       "      <th>0</th>\n",
       "      <td>accruedAmountInDealCcy</td>\n",
       "      <td>-2000.000000</td>\n",
       "    </tr>\n",
       "    <tr>\n",
       "      <th>1</th>\n",
       "      <td>upfrontAmountInDealCcy</td>\n",
       "      <td>-22251.890099</td>\n",
       "    </tr>\n",
       "    <tr>\n",
       "      <th>2</th>\n",
       "      <td>marketValueInDealCcy</td>\n",
       "      <td>-24243.835219</td>\n",
       "    </tr>\n",
       "    <tr>\n",
       "      <th>3</th>\n",
       "      <td>cleanMarketValueInDealCcy</td>\n",
       "      <td>-22244.499487</td>\n",
       "    </tr>\n",
       "  </tbody>\n",
       "</table>\n",
       "</div>"
      ],
      "text/plain": [
       "                      Fields         Value\n",
       "0     accruedAmountInDealCcy  -2000.000000\n",
       "1     upfrontAmountInDealCcy -22251.890099\n",
       "2       marketValueInDealCcy -24243.835219\n",
       "3  cleanMarketValueInDealCcy -22244.499487"
      ]
     },
     "metadata": {},
     "output_type": "display_data"
    }
   ],
   "source": [
    "# Convert to DataFrame\n",
    "df_valuation = pd.DataFrame(list(valuation.items()), columns=[\"Fields\", \"Value\"])\n",
    "# Display the DataFrame\n",
    "display(df_valuation)"
   ]
  },
  {
   "cell_type": "markdown",
   "id": "bff9a3e4",
   "metadata": {},
   "source": [
    "## Appendix: Complete Functions Reference"
   ]
  },
  {
   "cell_type": "markdown",
   "id": "b0ae45e5",
   "metadata": {},
   "source": [
    "The following is a complete list of all classes, enums, and functions available after importing from `lseg_analytics.instruments.cds`:\n",
    "\n",
    "**Core Classes:**\n",
    "- `CdsDefinition` - Define CDS instrument specifications\n",
    "- `CdsDefinitionInstrument` - Instrument container for pricing operations\n",
    "- `CdsPricingParameters` - Configure pricing parameters and market data settings\n",
    "- `PremiumLegDefinition` - Premium leg configuration\n",
    "- `ProtectionLegDefinition` - Protection leg configuration\n",
    "\n",
    "**Response Classes:**\n",
    "- `CdsCalculationResponse` - Main response container\n",
    "- `CdsAnalyticsResponseWithError` - Response with error\n",
    "- `CdsDescription` - Description of the instrument\n",
    "- `CdsValuation` - Individual instrument valuation results\n",
    "- `CdsAnalyticsResponseData` - Detailed analytics and calculations\n",
    "- `CdsCashflows` - Cashflow information\n",
    "- `CdsNominalMeasures` - Nominal risk measures\n",
    "- `CdsSpreadMeasures` - Spread-based measures\n",
    "- `CdsPricingAnalysis` - Pricing analysis\n",
    "\n",
    "**Configuration Enums:**\n",
    "- `IPADirectionEnum` - Buy/Sell protection direction (PAID, RECEIVED)\n",
    "- `CdsConventionEnum` - CDS conventions (ISDA, USER_DEFINED)\n",
    "- `InterestPaymentFrequencyEnum` - Payment frequencies (QUARTERLY, SEMIANNUALLY, etc.)\n",
    "- `InterestCalculationMethodEnum` - Interest calculation method (DCB_30_360, DCB_ACTUAL_360, etc.)\n",
    "- `SeniorityEnum` - Debt seniority levels (SENIOR_UNSECURED, SUBORDINATED, etc.)\n",
    "- `DocClauseEnum` - Documentation clauses (MODIFIED_RESTRUCT03, CUM_RESTRUCT14, etc.)\n",
    "- `AccruedCalculationMethodEnum` - Accrued interest calculation methods (DCB_30_360, DCB_ACTUAL_360, etc.)\n",
    "- `PaymentBusinessDayConventionEnum`, `StartDateMovingConventionEnum` and `EndDateMovingConventionEnum` - Payment dates/start date/end date business day conventions (MODIFIED_FOLLOWING, NEXT_BUSINESS_DAY, etc.)\n",
    "- `FinancialContractStubRuleEnum` - Defines whether coupon roll dates are calculated backwards from maturity or forward from the start date (ISSUE, LONG_FIRST_FULL, MATURITY, etc.)\n",
    "\n",
    "**Market Data Classes:**\n",
    "- `MarketDataQps` - Market data configurations\n",
    "\n",
    "**Main Functions:**\n",
    "- `price()` - Execute CDS pricing calculations"
   ]
  }
 ],
 "metadata": {
  "kernelspec": {
   "display_name": "jupyterlab-ext",
   "language": "python",
   "name": "python3"
  },
  "language_info": {
   "codemirror_mode": {
    "name": "ipython",
    "version": 3
   },
   "file_extension": ".py",
   "mimetype": "text/x-python",
   "name": "python",
   "nbconvert_exporter": "python",
   "pygments_lexer": "ipython3",
   "version": "3.11.6"
  }
 },
 "nbformat": 4,
 "nbformat_minor": 5
}
