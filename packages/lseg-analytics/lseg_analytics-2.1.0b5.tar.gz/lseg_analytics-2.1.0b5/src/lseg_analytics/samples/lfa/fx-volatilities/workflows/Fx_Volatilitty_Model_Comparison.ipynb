{
 "cells": [
  {
   "cell_type": "markdown",
   "id": "c96c4023",
   "metadata": {},
   "source": [
    "# FX Volatility Model Comparison"
   ]
  },
  {
   "cell_type": "markdown",
   "id": "0c5a1553",
   "metadata": {},
   "source": [
    "This notebook demonstrates how to access and use the functionalities of **FX Volatility Surfaces** within the **LSEG Financial Analytics SDK**. \n",
    "\n",
    "**You will be able to:**\n",
    "- Calculate multiple volatility surfaces in a single request\n",
    "- Compare different volatility models (SVI vs SABR)\n",
    "- Visualize differences between model outputs"
   ]
  },
  {
   "cell_type": "markdown",
   "id": "3a33858d",
   "metadata": {},
   "source": [
    "## Imports"
   ]
  },
  {
   "cell_type": "markdown",
   "id": "c07252c1",
   "metadata": {},
   "source": [
    "Import the following necessary modules:\n",
    "- `lseg_analytics.market_data.fx_volatility` - for FX volatility surfaces construction"
   ]
  },
  {
   "cell_type": "code",
   "execution_count": 1,
   "id": "0ed41e82",
   "metadata": {
    "execution": {
     "iopub.execute_input": "2025-09-18T09:08:52.737566Z",
     "iopub.status.busy": "2025-09-18T09:08:52.737366Z",
     "iopub.status.idle": "2025-09-18T09:08:53.862513Z",
     "shell.execute_reply": "2025-09-18T09:08:53.861951Z"
    }
   },
   "outputs": [],
   "source": [
    "from lseg_analytics.market_data import fx_volatility as fxv\n",
    "\n",
    "import datetime as dt\n",
    "import pandas as pd\n",
    "import matplotlib.pyplot as plt\n",
    "import copy\n",
    "from IPython.display import display"
   ]
  },
  {
   "cell_type": "markdown",
   "id": "b4a1ebdc",
   "metadata": {},
   "source": [
    "## Data Preparation"
   ]
  },
  {
   "cell_type": "markdown",
   "id": "2186b3f4",
   "metadata": {},
   "source": [
    "Volatility surface preparation follows a structured 3-step process:\n",
    "\n",
    "**Prerequisites:** \n",
    "- Valid LSEG credentials and market data entitlements\n",
    "\n",
    "**Process Overview:**\n",
    "1. **Surface Definition** - Specify the underlying instrument (fx pair)\n",
    "2. **Surface Parameters** - Configure volatility model and calculation settings\n",
    "3. **Request Creation** - Combine definition and parameters into a request object  \n",
    "\n",
    "Each step builds upon the previous, creating a complete request specification for the volatility surface engine."
   ]
  },
  {
   "cell_type": "markdown",
   "id": "b23be0bd",
   "metadata": {},
   "source": [
    "### FX Surface Parameters with SVI"
   ]
  },
  {
   "cell_type": "code",
   "execution_count": 2,
   "id": "56ebd0fa",
   "metadata": {
    "execution": {
     "iopub.execute_input": "2025-09-18T09:08:53.867140Z",
     "iopub.status.busy": "2025-09-18T09:08:53.865001Z",
     "iopub.status.idle": "2025-09-18T09:08:53.879080Z",
     "shell.execute_reply": "2025-09-18T09:08:53.878541Z"
    }
   },
   "outputs": [
    {
     "name": "stdout",
     "output_type": "stream",
     "text": [
      "Step 1: Creating Surface Definition...\n",
      "   ✓ Instrument: EURUSD\n",
      "Step 2: Configuring Surface Parameters...\n",
      "   ✓ Surface Parameters: {'calculationDate': '2025-01-18T00:00:00Z', 'volatilityModel': 'SVI', 'xAxis': 'Delta', 'yAxis': 'Tenor'}\n",
      "Step 3: Create request item...\n",
      "   ✓ Request Item: {'surfaceTag': 'EURUSD_SVI_Volsurface', 'underlyingDefinition': {'instrumentCode': 'EURUSD'}, 'surfaceParameters': {'calculationDate': '2025-01-18T00:00:00Z', 'volatilityModel': 'SVI', 'xAxis': 'Delta', 'yAxis': 'Tenor'}, 'underlyingType': 'Fx', 'surfaceLayout': {'format': 'Matrix'}}\n"
     ]
    }
   ],
   "source": [
    "print(\"Step 1: Creating Surface Definition...\")\n",
    "\n",
    "currencyPair = \"EURUSD\"\n",
    "\n",
    "# Create surface definition object\n",
    "surface_definition = fxv.FxVolatilitySurfaceDefinition(\n",
    "        instrument_code = currencyPair\n",
    "        )\n",
    "print(f\"   ✓ Instrument: {surface_definition.instrument_code}\")\n",
    "\n",
    "print(\"Step 2: Configuring Surface Parameters...\")\n",
    "surface_parameters_svi = fxv.FxVolatilityPricingParameters(\n",
    "        calculation_date = dt.datetime.strptime(\"2025-01-18\", \"%Y-%m-%d\"),\n",
    "        volatility_model = fxv.CurvesAndSurfacesVolatilityModelEnum.SVI,  # Options: SVI, SABR, TWIN_LOGNORMAL\n",
    "        x_axis = fxv.XAxisEnum.DELTA,                                     # Options: DATE, DELTA, MONEYNESS, STRIKE, TENOR\n",
    "        y_axis = fxv.YAxisEnum.TENOR                                      # Options: same as X-axis\n",
    "    )\n",
    "print(f\"   ✓ Surface Parameters: {surface_parameters_svi}\")\n",
    "\n",
    "\n",
    "print(\"Step 3: Create request item...\")\n",
    "# Create the main request object  with basic configuration\n",
    "request_item_svi = fxv.FxVolatilitySurfaceRequestItem(\n",
    "        surface_tag = f\"{currencyPair}_SVI_Volsurface\",\n",
    "        underlying_definition = surface_definition,\n",
    "        surface_parameters = surface_parameters_svi,\n",
    "        underlying_type = fxv.CurvesAndSurfacesUnderlyingTypeEnum.FX,\n",
    "        surface_layout = fxv.SurfaceOutput(\n",
    "            format = fxv.FormatEnum.MATRIX,  # Options: LIST, MATRIX\n",
    "        )\n",
    "    )\n",
    "print(f\"   ✓ Request Item: {request_item_svi}\")"
   ]
  },
  {
   "cell_type": "markdown",
   "id": "e2e4e82b",
   "metadata": {},
   "source": [
    "### FX Surface Parameters with SABR\n"
   ]
  },
  {
   "cell_type": "code",
   "execution_count": 3,
   "id": "6f935169",
   "metadata": {
    "execution": {
     "iopub.execute_input": "2025-09-18T09:08:53.881623Z",
     "iopub.status.busy": "2025-09-18T09:08:53.881168Z",
     "iopub.status.idle": "2025-09-18T09:08:53.885163Z",
     "shell.execute_reply": "2025-09-18T09:08:53.884620Z"
    }
   },
   "outputs": [
    {
     "name": "stdout",
     "output_type": "stream",
     "text": [
      "   ✓ Request Item: {'surfaceTag': 'EURUSD_SABR_Volsurface', 'underlyingDefinition': {'instrumentCode': 'EURUSD'}, 'surfaceParameters': {'calculationDate': '2025-01-18T00:00:00Z', 'volatilityModel': 'SABR', 'xAxis': 'Delta', 'yAxis': 'Tenor'}, 'underlyingType': 'Fx', 'surfaceLayout': {'format': 'Matrix'}}\n"
     ]
    }
   ],
   "source": [
    "# Changing the model and keeping the same other parameters\n",
    "surface_parameters_sabr = copy.deepcopy(surface_parameters_svi)\n",
    "surface_parameters_sabr.volatility_model = fxv.CurvesAndSurfacesVolatilityModelEnum.SABR\n",
    "\n",
    "# Create another request Item for SABR\n",
    "request_item_sabr = copy.deepcopy(request_item_svi)\n",
    "request_item_sabr.surface_tag = f\"{currencyPair}_SABR_Volsurface\"\n",
    "request_item_sabr.surface_parameters = surface_parameters_sabr\n",
    "print(f\"   ✓ Request Item: {request_item_sabr}\")"
   ]
  },
  {
   "cell_type": "code",
   "execution_count": 4,
   "id": "29e8c384",
   "metadata": {
    "execution": {
     "iopub.execute_input": "2025-09-18T09:08:53.887062Z",
     "iopub.status.busy": "2025-09-18T09:08:53.886801Z",
     "iopub.status.idle": "2025-09-18T09:08:54.949838Z",
     "shell.execute_reply": "2025-09-18T09:08:54.949242Z"
    }
   },
   "outputs": [
    {
     "name": "stdout",
     "output_type": "stream",
     "text": [
      "   Calculation successful!\n",
      "   Surface data points available: 18\n"
     ]
    }
   ],
   "source": [
    "# Execute the calculation using the calculate function\n",
    "# The 'universe' parameter accepts a list of request items for batch processing\n",
    "try:\n",
    "    response = fxv.calculate(universe=[request_item_svi, request_item_sabr])\n",
    "\n",
    "    # Display response structure information\n",
    "    surface_data = response['data'][0]\n",
    "    if 'surface' in surface_data:\n",
    "        print(f\"   Calculation successful!\")\n",
    "        print(f\"   Surface data points available: {len(surface_data['surface'])}\")\n",
    "    else:\n",
    "        print(\"   No surface data found in response\")\n",
    "    \n",
    "except Exception as e:\n",
    "    print(f\"   Calculation failed: {str(e)}\")\n",
    "    raise"
   ]
  },
  {
   "cell_type": "markdown",
   "id": "9037d8f2",
   "metadata": {},
   "source": [
    "## Results Display"
   ]
  },
  {
   "cell_type": "code",
   "execution_count": 5,
   "id": "69ee1e4f",
   "metadata": {
    "execution": {
     "iopub.execute_input": "2025-09-18T09:08:54.952602Z",
     "iopub.status.busy": "2025-09-18T09:08:54.952214Z",
     "iopub.status.idle": "2025-09-18T09:08:54.955830Z",
     "shell.execute_reply": "2025-09-18T09:08:54.955228Z"
    }
   },
   "outputs": [
    {
     "name": "stdout",
     "output_type": "stream",
     "text": [
      "EURUSD_SVI_Volsurface\n",
      "EURUSD_SABR_Volsurface\n"
     ]
    }
   ],
   "source": [
    "# Display the raw surface data\n",
    "print(response['data'][0]['surfaceTag'])\n",
    "print(response['data'][1]['surfaceTag'])"
   ]
  },
  {
   "cell_type": "code",
   "execution_count": 6,
   "id": "3ac45208",
   "metadata": {
    "execution": {
     "iopub.execute_input": "2025-09-18T09:08:54.958220Z",
     "iopub.status.busy": "2025-09-18T09:08:54.957889Z",
     "iopub.status.idle": "2025-09-18T09:08:55.003724Z",
     "shell.execute_reply": "2025-09-18T09:08:55.002786Z"
    }
   },
   "outputs": [
    {
     "data": {
      "text/html": [
       "<div>\n",
       "<style scoped>\n",
       "    .dataframe tbody tr th:only-of-type {\n",
       "        vertical-align: middle;\n",
       "    }\n",
       "\n",
       "    .dataframe tbody tr th {\n",
       "        vertical-align: top;\n",
       "    }\n",
       "\n",
       "    .dataframe thead th {\n",
       "        text-align: right;\n",
       "    }\n",
       "</style>\n",
       "<table border=\"1\" class=\"dataframe\">\n",
       "  <thead>\n",
       "    <tr style=\"text-align: right;\">\n",
       "      <th></th>\n",
       "      <th>-0.1</th>\n",
       "      <th>-0.15</th>\n",
       "      <th>-0.2</th>\n",
       "      <th>-0.25</th>\n",
       "      <th>-0.3</th>\n",
       "      <th>-0.35</th>\n",
       "      <th>-0.4</th>\n",
       "      <th>-0.45</th>\n",
       "      <th>ATM</th>\n",
       "      <th>0.45</th>\n",
       "      <th>0.4</th>\n",
       "      <th>0.35</th>\n",
       "      <th>0.3</th>\n",
       "      <th>0.25</th>\n",
       "      <th>0.2</th>\n",
       "      <th>0.15</th>\n",
       "      <th>0.1</th>\n",
       "    </tr>\n",
       "  </thead>\n",
       "  <tbody>\n",
       "    <tr>\n",
       "      <th>ON</th>\n",
       "      <td>-0.05</td>\n",
       "      <td>0.01</td>\n",
       "      <td>0.03</td>\n",
       "      <td>0.04</td>\n",
       "      <td>0.04</td>\n",
       "      <td>0.03</td>\n",
       "      <td>0.01</td>\n",
       "      <td>0.00</td>\n",
       "      <td>-0.0</td>\n",
       "      <td>0.01</td>\n",
       "      <td>0.02</td>\n",
       "      <td>0.03</td>\n",
       "      <td>0.04</td>\n",
       "      <td>0.04</td>\n",
       "      <td>0.03</td>\n",
       "      <td>0.00</td>\n",
       "      <td>-0.06</td>\n",
       "    </tr>\n",
       "    <tr>\n",
       "      <th>SW</th>\n",
       "      <td>-0.02</td>\n",
       "      <td>0.02</td>\n",
       "      <td>0.02</td>\n",
       "      <td>0.02</td>\n",
       "      <td>0.02</td>\n",
       "      <td>0.01</td>\n",
       "      <td>0.00</td>\n",
       "      <td>-0.00</td>\n",
       "      <td>-0.0</td>\n",
       "      <td>0.00</td>\n",
       "      <td>0.01</td>\n",
       "      <td>0.02</td>\n",
       "      <td>0.02</td>\n",
       "      <td>0.03</td>\n",
       "      <td>0.03</td>\n",
       "      <td>0.01</td>\n",
       "      <td>-0.04</td>\n",
       "    </tr>\n",
       "    <tr>\n",
       "      <th>2W</th>\n",
       "      <td>0.02</td>\n",
       "      <td>0.01</td>\n",
       "      <td>0.00</td>\n",
       "      <td>-0.00</td>\n",
       "      <td>-0.00</td>\n",
       "      <td>-0.00</td>\n",
       "      <td>-0.00</td>\n",
       "      <td>-0.00</td>\n",
       "      <td>0.0</td>\n",
       "      <td>0.00</td>\n",
       "      <td>0.01</td>\n",
       "      <td>0.01</td>\n",
       "      <td>0.01</td>\n",
       "      <td>0.01</td>\n",
       "      <td>0.01</td>\n",
       "      <td>0.00</td>\n",
       "      <td>-0.02</td>\n",
       "    </tr>\n",
       "    <tr>\n",
       "      <th>1M</th>\n",
       "      <td>-0.01</td>\n",
       "      <td>0.01</td>\n",
       "      <td>0.01</td>\n",
       "      <td>0.01</td>\n",
       "      <td>0.01</td>\n",
       "      <td>0.00</td>\n",
       "      <td>0.00</td>\n",
       "      <td>-0.00</td>\n",
       "      <td>-0.0</td>\n",
       "      <td>0.00</td>\n",
       "      <td>0.01</td>\n",
       "      <td>0.01</td>\n",
       "      <td>0.01</td>\n",
       "      <td>0.02</td>\n",
       "      <td>0.02</td>\n",
       "      <td>0.01</td>\n",
       "      <td>-0.02</td>\n",
       "    </tr>\n",
       "    <tr>\n",
       "      <th>2M</th>\n",
       "      <td>-0.02</td>\n",
       "      <td>0.02</td>\n",
       "      <td>0.03</td>\n",
       "      <td>0.02</td>\n",
       "      <td>0.02</td>\n",
       "      <td>0.01</td>\n",
       "      <td>0.00</td>\n",
       "      <td>-0.00</td>\n",
       "      <td>-0.0</td>\n",
       "      <td>0.00</td>\n",
       "      <td>0.01</td>\n",
       "      <td>0.02</td>\n",
       "      <td>0.02</td>\n",
       "      <td>0.03</td>\n",
       "      <td>0.03</td>\n",
       "      <td>0.01</td>\n",
       "      <td>-0.04</td>\n",
       "    </tr>\n",
       "    <tr>\n",
       "      <th>3M</th>\n",
       "      <td>-0.10</td>\n",
       "      <td>-0.01</td>\n",
       "      <td>0.03</td>\n",
       "      <td>0.05</td>\n",
       "      <td>0.05</td>\n",
       "      <td>0.04</td>\n",
       "      <td>0.03</td>\n",
       "      <td>0.01</td>\n",
       "      <td>-0.0</td>\n",
       "      <td>-0.01</td>\n",
       "      <td>-0.01</td>\n",
       "      <td>-0.01</td>\n",
       "      <td>0.01</td>\n",
       "      <td>0.02</td>\n",
       "      <td>0.03</td>\n",
       "      <td>0.03</td>\n",
       "      <td>-0.01</td>\n",
       "    </tr>\n",
       "    <tr>\n",
       "      <th>6M</th>\n",
       "      <td>-0.11</td>\n",
       "      <td>-0.01</td>\n",
       "      <td>0.04</td>\n",
       "      <td>0.05</td>\n",
       "      <td>0.05</td>\n",
       "      <td>0.04</td>\n",
       "      <td>0.03</td>\n",
       "      <td>0.01</td>\n",
       "      <td>-0.0</td>\n",
       "      <td>-0.01</td>\n",
       "      <td>-0.01</td>\n",
       "      <td>-0.01</td>\n",
       "      <td>0.00</td>\n",
       "      <td>0.02</td>\n",
       "      <td>0.03</td>\n",
       "      <td>0.02</td>\n",
       "      <td>-0.02</td>\n",
       "    </tr>\n",
       "    <tr>\n",
       "      <th>9M</th>\n",
       "      <td>-0.04</td>\n",
       "      <td>0.04</td>\n",
       "      <td>0.07</td>\n",
       "      <td>0.06</td>\n",
       "      <td>0.05</td>\n",
       "      <td>0.03</td>\n",
       "      <td>0.02</td>\n",
       "      <td>0.01</td>\n",
       "      <td>-0.0</td>\n",
       "      <td>-0.00</td>\n",
       "      <td>0.00</td>\n",
       "      <td>0.01</td>\n",
       "      <td>0.02</td>\n",
       "      <td>0.03</td>\n",
       "      <td>0.03</td>\n",
       "      <td>0.00</td>\n",
       "      <td>-0.07</td>\n",
       "    </tr>\n",
       "    <tr>\n",
       "      <th>1Y</th>\n",
       "      <td>-0.05</td>\n",
       "      <td>0.03</td>\n",
       "      <td>0.05</td>\n",
       "      <td>0.05</td>\n",
       "      <td>0.04</td>\n",
       "      <td>0.03</td>\n",
       "      <td>0.02</td>\n",
       "      <td>0.01</td>\n",
       "      <td>0.0</td>\n",
       "      <td>-0.00</td>\n",
       "      <td>-0.00</td>\n",
       "      <td>0.00</td>\n",
       "      <td>0.01</td>\n",
       "      <td>0.01</td>\n",
       "      <td>0.02</td>\n",
       "      <td>0.00</td>\n",
       "      <td>-0.04</td>\n",
       "    </tr>\n",
       "    <tr>\n",
       "      <th>2Y</th>\n",
       "      <td>0.02</td>\n",
       "      <td>0.05</td>\n",
       "      <td>0.05</td>\n",
       "      <td>0.04</td>\n",
       "      <td>0.02</td>\n",
       "      <td>0.01</td>\n",
       "      <td>0.00</td>\n",
       "      <td>-0.00</td>\n",
       "      <td>0.0</td>\n",
       "      <td>0.00</td>\n",
       "      <td>0.01</td>\n",
       "      <td>0.02</td>\n",
       "      <td>0.02</td>\n",
       "      <td>0.03</td>\n",
       "      <td>0.02</td>\n",
       "      <td>-0.00</td>\n",
       "      <td>-0.07</td>\n",
       "    </tr>\n",
       "    <tr>\n",
       "      <th>3Y</th>\n",
       "      <td>0.03</td>\n",
       "      <td>0.05</td>\n",
       "      <td>0.05</td>\n",
       "      <td>0.03</td>\n",
       "      <td>0.02</td>\n",
       "      <td>0.01</td>\n",
       "      <td>0.00</td>\n",
       "      <td>-0.00</td>\n",
       "      <td>0.0</td>\n",
       "      <td>0.00</td>\n",
       "      <td>0.01</td>\n",
       "      <td>0.02</td>\n",
       "      <td>0.02</td>\n",
       "      <td>0.03</td>\n",
       "      <td>0.02</td>\n",
       "      <td>-0.00</td>\n",
       "      <td>-0.07</td>\n",
       "    </tr>\n",
       "    <tr>\n",
       "      <th>5Y</th>\n",
       "      <td>0.04</td>\n",
       "      <td>0.05</td>\n",
       "      <td>0.04</td>\n",
       "      <td>0.03</td>\n",
       "      <td>0.02</td>\n",
       "      <td>0.01</td>\n",
       "      <td>-0.00</td>\n",
       "      <td>-0.00</td>\n",
       "      <td>-0.0</td>\n",
       "      <td>0.00</td>\n",
       "      <td>0.01</td>\n",
       "      <td>0.02</td>\n",
       "      <td>0.03</td>\n",
       "      <td>0.03</td>\n",
       "      <td>0.02</td>\n",
       "      <td>-0.01</td>\n",
       "      <td>-0.08</td>\n",
       "    </tr>\n",
       "    <tr>\n",
       "      <th>7Y</th>\n",
       "      <td>-0.04</td>\n",
       "      <td>0.13</td>\n",
       "      <td>0.18</td>\n",
       "      <td>0.18</td>\n",
       "      <td>0.14</td>\n",
       "      <td>0.08</td>\n",
       "      <td>0.02</td>\n",
       "      <td>-0.04</td>\n",
       "      <td>0.0</td>\n",
       "      <td>0.06</td>\n",
       "      <td>-0.01</td>\n",
       "      <td>-0.05</td>\n",
       "      <td>-0.05</td>\n",
       "      <td>-0.01</td>\n",
       "      <td>0.03</td>\n",
       "      <td>0.04</td>\n",
       "      <td>-0.03</td>\n",
       "    </tr>\n",
       "    <tr>\n",
       "      <th>10Y</th>\n",
       "      <td>2.34</td>\n",
       "      <td>1.79</td>\n",
       "      <td>1.38</td>\n",
       "      <td>1.05</td>\n",
       "      <td>0.78</td>\n",
       "      <td>0.54</td>\n",
       "      <td>0.34</td>\n",
       "      <td>0.16</td>\n",
       "      <td>-inf</td>\n",
       "      <td>-0.13</td>\n",
       "      <td>-0.24</td>\n",
       "      <td>-0.33</td>\n",
       "      <td>-0.39</td>\n",
       "      <td>-0.43</td>\n",
       "      <td>-0.43</td>\n",
       "      <td>-0.39</td>\n",
       "      <td>-0.30</td>\n",
       "    </tr>\n",
       "  </tbody>\n",
       "</table>\n",
       "</div>"
      ],
      "text/plain": [
       "     -0.1  -0.15  -0.2  -0.25  -0.3  -0.35  -0.4  -0.45  ATM  0.45   0.4  \\\n",
       "ON  -0.05   0.01  0.03   0.04  0.04   0.03  0.01   0.00 -0.0  0.01  0.02   \n",
       "SW  -0.02   0.02  0.02   0.02  0.02   0.01  0.00  -0.00 -0.0  0.00  0.01   \n",
       "2W   0.02   0.01  0.00  -0.00 -0.00  -0.00 -0.00  -0.00  0.0  0.00  0.01   \n",
       "1M  -0.01   0.01  0.01   0.01  0.01   0.00  0.00  -0.00 -0.0  0.00  0.01   \n",
       "2M  -0.02   0.02  0.03   0.02  0.02   0.01  0.00  -0.00 -0.0  0.00  0.01   \n",
       "3M  -0.10  -0.01  0.03   0.05  0.05   0.04  0.03   0.01 -0.0 -0.01 -0.01   \n",
       "6M  -0.11  -0.01  0.04   0.05  0.05   0.04  0.03   0.01 -0.0 -0.01 -0.01   \n",
       "9M  -0.04   0.04  0.07   0.06  0.05   0.03  0.02   0.01 -0.0 -0.00  0.00   \n",
       "1Y  -0.05   0.03  0.05   0.05  0.04   0.03  0.02   0.01  0.0 -0.00 -0.00   \n",
       "2Y   0.02   0.05  0.05   0.04  0.02   0.01  0.00  -0.00  0.0  0.00  0.01   \n",
       "3Y   0.03   0.05  0.05   0.03  0.02   0.01  0.00  -0.00  0.0  0.00  0.01   \n",
       "5Y   0.04   0.05  0.04   0.03  0.02   0.01 -0.00  -0.00 -0.0  0.00  0.01   \n",
       "7Y  -0.04   0.13  0.18   0.18  0.14   0.08  0.02  -0.04  0.0  0.06 -0.01   \n",
       "10Y  2.34   1.79  1.38   1.05  0.78   0.54  0.34   0.16 -inf -0.13 -0.24   \n",
       "\n",
       "     0.35   0.3  0.25   0.2  0.15   0.1  \n",
       "ON   0.03  0.04  0.04  0.03  0.00 -0.06  \n",
       "SW   0.02  0.02  0.03  0.03  0.01 -0.04  \n",
       "2W   0.01  0.01  0.01  0.01  0.00 -0.02  \n",
       "1M   0.01  0.01  0.02  0.02  0.01 -0.02  \n",
       "2M   0.02  0.02  0.03  0.03  0.01 -0.04  \n",
       "3M  -0.01  0.01  0.02  0.03  0.03 -0.01  \n",
       "6M  -0.01  0.00  0.02  0.03  0.02 -0.02  \n",
       "9M   0.01  0.02  0.03  0.03  0.00 -0.07  \n",
       "1Y   0.00  0.01  0.01  0.02  0.00 -0.04  \n",
       "2Y   0.02  0.02  0.03  0.02 -0.00 -0.07  \n",
       "3Y   0.02  0.02  0.03  0.02 -0.00 -0.07  \n",
       "5Y   0.02  0.03  0.03  0.02 -0.01 -0.08  \n",
       "7Y  -0.05 -0.05 -0.01  0.03  0.04 -0.03  \n",
       "10Y -0.33 -0.39 -0.43 -0.43 -0.39 -0.30  "
      ]
     },
     "metadata": {},
     "output_type": "display_data"
    }
   ],
   "source": [
    "# Create DataFrame for SVI surface\n",
    "vol_surface_svi = response['data'][0]['surface']\n",
    "expiries = vol_surface_svi[0][1:]\n",
    "deltas = []\n",
    "values = []\n",
    "for row in vol_surface_svi[1:]:\n",
    "    deltas.append(row[0])\n",
    "    values.append(row[1:])\n",
    "\n",
    "surface_df_svi = pd.DataFrame(values, index=deltas, columns=expiries).T.astype(float)\n",
    "\n",
    "# Create DataFrame for SABR surface\n",
    "vol_surface_sabr = response['data'][1]['surface']\n",
    "values = []\n",
    "for row in vol_surface_sabr[1:]:\n",
    "    values.append(row[1:])\n",
    "\n",
    "surface_df_sabr = pd.DataFrame(values, index=deltas, columns=expiries).T.astype(float)\n",
    "\n",
    "# DataFrame of Differences\n",
    "differences_df = surface_df_svi - surface_df_sabr\n",
    "display(differences_df.round(2))"
   ]
  },
  {
   "cell_type": "markdown",
   "id": "24285d74",
   "metadata": {},
   "source": [
    "### Plotting Volatility Smile for \"2Y\" Expiry"
   ]
  },
  {
   "cell_type": "code",
   "execution_count": 7,
   "id": "1831f161",
   "metadata": {
    "execution": {
     "iopub.execute_input": "2025-09-18T09:08:55.006875Z",
     "iopub.status.busy": "2025-09-18T09:08:55.006450Z",
     "iopub.status.idle": "2025-09-18T09:08:55.415023Z",
     "shell.execute_reply": "2025-09-18T09:08:55.414292Z"
    }
   },
   "outputs": [
    {
     "data": {
      "text/plain": [
       "Text(0, 0.5, 'Volatility')"
      ]
     },
     "execution_count": 7,
     "metadata": {},
     "output_type": "execute_result"
    },
    {
     "data": {
      "text/plain": [
       "<Figure size 640x480 with 0 Axes>"
      ]
     },
     "metadata": {},
     "output_type": "display_data"
    },
    {
     "data": {
      "image/png": "[encoded data removed]",
      "text/plain": [
       "<Figure size 1500x750 with 1 Axes>"
      ]
     },
     "metadata": {},
     "output_type": "display_data"
    }
   ],
   "source": [
    "plt.figure()\n",
    "plt.figure(figsize=(10, 5), dpi=150)\n",
    "plt.plot(surface_df_svi.columns.map(str), surface_df_svi.T[\"2Y\"], label = \"SVI\")\n",
    "plt.plot(surface_df_sabr.columns.map(str), surface_df_sabr.T[\"2Y\"], label = \"SABR\")\n",
    "plt.title(f\"{currencyPair} Volatility Smiles SVI vs SABR\", fontdict={'fontweight':'bold','fontsize':15})\n",
    "plt.legend(loc='upper right')\n",
    "plt.xlabel('Delta')\n",
    "plt.ylabel('Volatility')"
   ]
  },
  {
   "cell_type": "code",
   "execution_count": null,
   "id": "f02cf882",
   "metadata": {},
   "outputs": [],
   "source": []
  }
 ],
 "metadata": {
  "kernelspec": {
   "display_name": "base",
   "language": "python",
   "name": "python3"
  },
  "language_info": {
   "codemirror_mode": {
    "name": "ipython",
    "version": 3
   },
   "file_extension": ".py",
   "mimetype": "text/x-python",
   "name": "python",
   "nbconvert_exporter": "python",
   "pygments_lexer": "ipython3",
   "version": "3.11.6"
  }
 },
 "nbformat": 4,
 "nbformat_minor": 5
}
