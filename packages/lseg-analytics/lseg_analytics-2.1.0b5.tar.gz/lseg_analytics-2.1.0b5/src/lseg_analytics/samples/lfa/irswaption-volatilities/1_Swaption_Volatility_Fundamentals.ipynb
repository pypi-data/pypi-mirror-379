{
 "cells": [
  {
   "cell_type": "markdown",
   "id": "1a108871",
   "metadata": {
    "tags": []
   },
   "source": [
    "# Swaption Volatility Fundamentals"
   ]
  },
  {
   "cell_type": "markdown",
   "id": "3a4cef20",
   "metadata": {},
   "source": [
    "This notebook demonstrates how to access and use the functionalities of **Swaption Volatility Surfaces** within the **LSEG Financial Analytics SDK**. \n",
    "\n",
    "Swaption volatility surfaces provide implied volatility data across different strikes, maturities and expiries for Swaptions. This enables quantitative analysis, risk management, and derivatives pricing for interest rate markets.\n",
    "\n",
    "**You will be able to:**\n",
    "- Configure and request swaption volatility cube data\n",
    "- Parametrize volatility models and cube structures\n",
    "- Visualize volatility surfaces with interactive plots\n",
    "- Export results for further analysis\n",
    "\n",
    "Note, this notebook requires nbformat>=4.2.0 to be installed."
   ]
  },
  {
   "cell_type": "markdown",
   "id": "7cd0ad84",
   "metadata": {},
   "source": [
    "## Imports"
   ]
  },
  {
   "cell_type": "markdown",
   "id": "37a963b7",
   "metadata": {
    "tags": []
   },
   "source": [
    "Import the following necessary modules:\n",
    "\n",
    "- `lseg_analytics.market_data.irswaption_volatility` - for Swaption volatility cube construction"
   ]
  },
  {
   "cell_type": "code",
   "execution_count": 1,
   "id": "fb2218f1",
   "metadata": {
    "execution": {
     "iopub.execute_input": "2025-09-18T09:01:23.511291Z",
     "iopub.status.busy": "2025-09-18T09:01:23.510927Z",
     "iopub.status.idle": "2025-09-18T09:01:24.303397Z",
     "shell.execute_reply": "2025-09-18T09:01:24.302826Z"
    },
    "tags": []
   },
   "outputs": [],
   "source": [
    "from lseg_analytics.market_data import irswaption_volatility  as sv\n",
    "\n",
    "import plotly.graph_objects as go\n",
    "import pandas as pd\n",
    "import datetime as dt\n",
    "import json\n",
    "from IPython.display import display"
   ]
  },
  {
   "cell_type": "markdown",
   "id": "b9c3dd46",
   "metadata": {
    "tags": []
   },
   "source": [
    "## Data Preparation"
   ]
  },
  {
   "cell_type": "markdown",
   "id": "99cc4078",
   "metadata": {},
   "source": [
    "Volatility cube preparation follows a structured 3-step process:\n",
    "\n",
    "**Prerequisites:** \n",
    "- Valid LSEG credentials and market data entitlements\n",
    "- Interest rate must have active swaption market with sufficient data\n",
    "\n",
    "**Process Overview:**\n",
    "1. **Cube Definition** - Specify the underlying currency, index name and index tenor\n",
    "2. **Cube Parameters** - Configure volatility model and calculation settings - optional\n",
    "3. **Request Creation** - Combine definition and parameters into a request object  \n",
    "\n",
    "Each step builds upon the previous, creating a complete request specification for the volatility cube engine."
   ]
  },
  {
   "cell_type": "code",
   "execution_count": 2,
   "id": "ec4cb539",
   "metadata": {
    "execution": {
     "iopub.execute_input": "2025-09-18T09:01:24.307634Z",
     "iopub.status.busy": "2025-09-18T09:01:24.305933Z",
     "iopub.status.idle": "2025-09-18T09:01:24.318126Z",
     "shell.execute_reply": "2025-09-18T09:01:24.317594Z"
    },
    "tags": [
     "calculate.static"
    ]
   },
   "outputs": [
    {
     "name": "stdout",
     "output_type": "stream",
     "text": [
      "Step 1: Creating Cube Definition...\n",
      "   Instrument: USD\n",
      "Step 2: Configuring Cube Parameters...\n",
      "   Surface Parameters: {'calculationDate': '2025-01-18T00:00:00Z', 'xAxis': 'Strike', 'yAxis': 'Tenor', 'zAxis': 'Expiry'}\n",
      "Step 3: Create request item...\n",
      "   Request Item: {\n",
      "    \"surfaceTag\": \"USD_SOFR_Swaption_volatility_cube\",\n",
      "    \"underlyingDefinition\": {\n",
      "        \"instrumentCode\": \"USD\",\n",
      "        \"indexName\": \"SOFR\",\n",
      "        \"indexTenor\": \"ON\"\n",
      "    },\n",
      "    \"surfaceParameters\": {\n",
      "        \"calculationDate\": \"2025-01-18T00:00:00Z\",\n",
      "        \"xAxis\": \"Strike\",\n",
      "        \"yAxis\": \"Tenor\",\n",
      "        \"zAxis\": \"Expiry\"\n",
      "    },\n",
      "    \"underlyingType\": \"Swaption\",\n",
      "    \"surfaceLayout\": {\n",
      "        \"format\": \"List\"\n",
      "    }\n",
      "}\n"
     ]
    }
   ],
   "source": [
    "print(\"Step 1: Creating Cube Definition...\")\n",
    "# Select currency and reference rate for caplets\n",
    "currency = \"USD\"\n",
    "index_name = \"SOFR\"\n",
    "\n",
    "# Create surface definition object\n",
    "cube_definition = sv.VolatilityCubeDefinition(\n",
    "        instrument_code = currency,\n",
    "        index_name = index_name,\n",
    "        index_tenor  = \"ON\",\n",
    "        # discounting_type = sv.DiscountingTypeEnum.OisDiscounting  # Options: LiborDiscounting, OisDiscounting\n",
    "        )\n",
    "print(f\"   Instrument: {cube_definition.instrument_code}\")\n",
    "\n",
    "# Create the surface parameters - optional\n",
    "print(\"Step 2: Configuring Cube Parameters...\")\n",
    "cube_parameters = sv.VolatilityCubeSurfaceParameters(\n",
    "        calculation_date = dt.datetime.strptime(\"2025-01-18\", \"%Y-%m-%d\"),\n",
    "        x_axis = sv.XAxisEnum.STRIKE,                                     # Options: DATE, DELTA, EXPIRY, MONEYNESS, STRIKE, TENOR\n",
    "        y_axis = sv.YAxisEnum.TENOR,                                      # Options: same as X-axis\n",
    "        z_axis = sv.YAxisEnum.EXPIRY                                      # Options: same as X-axis\n",
    "    )\n",
    "print(f\"   Surface Parameters: {cube_parameters}\")\n",
    "\n",
    "# Create the main request object with basic configuration\n",
    "print(\"Step 3: Create request item...\")\n",
    "request_item = sv.VolatilityCubeSurfaceRequestItem(\n",
    "        surface_tag = f\"{currency}_{index_name}_Swaption_volatility_cube\",\n",
    "        underlying_definition = cube_definition,\n",
    "        surface_parameters = cube_parameters,\n",
    "        underlying_type = sv.CurvesAndSurfacesUnderlyingTypeEnum.Swaption,\n",
    "        surface_layout = sv.SurfaceOutput(\n",
    "            format = sv.FormatEnum.LIST,  # Options: LIST, MATRIX, NDIMENSIONAL_ARRAY\n",
    "        )\n",
    "    )\n",
    "print(f\"   Request Item: {json.dumps(request_item.as_dict(), indent=4)}\")"
   ]
  },
  {
   "cell_type": "markdown",
   "id": "b147a529",
   "metadata": {},
   "source": [
    "## Request Execution"
   ]
  },
  {
   "cell_type": "code",
   "execution_count": 3,
   "id": "b806d22a",
   "metadata": {
    "execution": {
     "iopub.execute_input": "2025-09-18T09:01:24.320115Z",
     "iopub.status.busy": "2025-09-18T09:01:24.319944Z",
     "iopub.status.idle": "2025-09-18T09:01:30.069249Z",
     "shell.execute_reply": "2025-09-18T09:01:30.068599Z"
    },
    "tags": [
     "calculate.static"
    ]
   },
   "outputs": [
    {
     "name": "stdout",
     "output_type": "stream",
     "text": [
      "   Calculation successful!\n",
      "   Cube data points available: 9315\n"
     ]
    }
   ],
   "source": [
    "# Execute the calculation using the calculate function\n",
    "# The 'universe' parameter accepts a list of request items for batch processing\n",
    "try:\n",
    "    response = sv.calculate(universe=[request_item])\n",
    "\n",
    "    # Display response structure information\n",
    "    surface_data = response['data'][0]\n",
    "    if 'surface' in surface_data:\n",
    "        print(f\"   Calculation successful!\")\n",
    "        print(f\"   Cube data points available: {len(surface_data['surface'])}\")\n",
    "    else:\n",
    "        print(\"   No cube data found in response\")\n",
    "    \n",
    "except Exception as e:\n",
    "    print(f\"   Calculation failed: {str(e)}\")\n",
    "    raise"
   ]
  },
  {
   "cell_type": "markdown",
   "id": "36c4886d",
   "metadata": {},
   "source": [
    "## Results Display"
   ]
  },
  {
   "cell_type": "markdown",
   "id": "77bfda46",
   "metadata": {},
   "source": [
    "Once the volatility cube calculation is complete, we can visualize the results using multiple chart types to gain different insights:\n",
    "\n",
    "**Visualization Options:**\n",
    "\n",
    "- **3D Surface Plot** - Interactive 3D visualization of the complete volatility surface on a swap tenor slice\n",
    "- **Volatility Smiles** - Traditional 2D plots showing volatility curves by expiration\n",
    "\n",
    "The plotting functions automatically convert the API response into pandas DataFrames and generate interactive Plotly visualizations."
   ]
  },
  {
   "cell_type": "code",
   "execution_count": 4,
   "id": "099c5916",
   "metadata": {
    "execution": {
     "iopub.execute_input": "2025-09-18T09:01:30.072348Z",
     "iopub.status.busy": "2025-09-18T09:01:30.071913Z",
     "iopub.status.idle": "2025-09-18T09:01:30.084710Z",
     "shell.execute_reply": "2025-09-18T09:01:30.083951Z"
    }
   },
   "outputs": [],
   "source": [
    "# Plotting utils\n",
    "\n",
    "def prepare_volatility_surface_from_list(surface_data, slice_by = 'Expiry', slice_target = '1M', x_axis = 'Relative Strike (%)', y_axis = 'SwapTenor', point_value = 'Normal Vol (bp)'):\n",
    "    \"\"\"\n",
    "    Prepare the volatility surface DataFrame from the provided surface data.\n",
    "    \"\"\"\n",
    "\n",
    "    def sort_tenor_index(tenor_list):\n",
    "        \"\"\"Sort tenors in proper chronological order (months first, then years)\"\"\"\n",
    "        def tenor_to_months(tenor):\n",
    "            if 'M' in tenor:\n",
    "                return int(tenor.replace('M', ''))\n",
    "            elif 'Y' in tenor:\n",
    "                return int(tenor.replace('Y', '')) * 12\n",
    "            else:\n",
    "                return float('inf')  # Put unknown formats at the end\n",
    "        \n",
    "        return sorted(tenor_list, key=tenor_to_months)\n",
    "\n",
    "\n",
    "    vol_cube_points_df = pd.DataFrame(surface_data['surface'], columns = surface_data['headers'])\n",
    "\n",
    "    surface_slice_df = vol_cube_points_df[vol_cube_points_df[slice_by] == slice_target]\n",
    "\n",
    "    # Convert the filtered slice into a pivot table with the desired structure\n",
    "    surface_slice_df = surface_slice_df.pivot(index=y_axis, columns=x_axis, values=point_value)\n",
    "\n",
    "    # Sort columns first (x_axis values) - convert to float and sort ascending\n",
    "    surface_slice_df.columns = surface_slice_df.columns.astype(float)\n",
    "    surface_slice_df = surface_slice_df.sort_index(axis=1)  # Sort columns\n",
    "\n",
    "    # Then sort the index (y_axis values) properly using tenor sorting logic\n",
    "    sorted_index = sort_tenor_index(surface_slice_df.index.tolist())\n",
    "    surface_slice_df = surface_slice_df.reindex(sorted_index)\n",
    "\n",
    "    # Convert point values to float and round to 2 decimal places\n",
    "    surface_slice_df = surface_slice_df.astype(float).round(2)\n",
    "\n",
    "    surface_slice_df.index.name = f'{slice_by} = {slice_target}'\n",
    "\n",
    "    return surface_slice_df\n",
    "\n",
    "\n",
    "def plot_volatility_surface_plot(surf_table, x_axis, y_axis, colorscale=\"Turbo\"):\n",
    "    \"\"\"\n",
    "    Create an interactive 3D surface plot of the volatility surface with contour lines.\n",
    "    \n",
    "    This function generates a three-dimensional visualization where the x-axis represents\n",
    "    moneyness/strikes, y-axis represents expiries, and z-axis represents volatility values.\n",
    "    Contour lines are added for better depth perception.\n",
    "\n",
    "    Parameters\n",
    "    ----------\n",
    "    surf_table : pd.DataFrame\n",
    "        A DataFrame representing the volatility surface with expiries as index\n",
    "        and strike prices/moneyness as columns. Values should be volatility levels.\n",
    "    colorscale : str or list, optional\n",
    "        Plotly colorscale name (e.g., 'Viridis', 'Turbo', 'Plasma') or custom colorscale list.\n",
    "        Default is \"Turbo\".\n",
    "\n",
    "    Returns\n",
    "    -------\n",
    "    plotly.graph_objects.Figure\n",
    "  \n",
    "    \"\"\"\n",
    "    if len(surf_table) < 2:\n",
    "        fig = go.Figure()\n",
    "        fig.add_annotation(\n",
    "            text=\"Not enough data to display 3D surface\",\n",
    "            xref=\"paper\", yref=\"paper\",\n",
    "            x=0.5, y=0.5,\n",
    "            showarrow=False,\n",
    "            font=dict(size=18),\n",
    "            align=\"center\"\n",
    "        )\n",
    "        fig.update_layout(\n",
    "            title=dict(\n",
    "                text=\"3D Surface Plot of Volatility Surface\",\n",
    "                x=0.5,\n",
    "                xanchor=\"center\",\n",
    "                yanchor=\"top\",\n",
    "                y=0.95,\n",
    "                font=dict(size=16)\n",
    "            ),\n",
    "            autosize=True,\n",
    "            height=450,\n",
    "            margin={\"l\": 0, \"r\": 0, \"b\": 0, \"t\": 50},\n",
    "            dragmode=False,\n",
    "        )\n",
    "        return fig\n",
    "\n",
    "    x = surf_table.columns\n",
    "    y = surf_table.index\n",
    "    z = surf_table.values\n",
    "\n",
    "    fig = go.Figure(data=[go.Surface(\n",
    "        z=z, \n",
    "        x=x, \n",
    "        y=y, \n",
    "        colorscale=colorscale,\n",
    "        showscale=False,\n",
    "        contours={\n",
    "            \"y\": {\n",
    "                \"show\": True,\n",
    "                \"color\": \"black\",\n",
    "                \"highlightcolor\": \"black\",\n",
    "                \"size\": 0.05\n",
    "            },\n",
    "            \"z\": {\n",
    "                \"show\": True,\n",
    "                \"color\": \"black\",\n",
    "                \"highlightcolor\": \"black\",\n",
    "                \"size\": 0.05\n",
    "            }\n",
    "        }\n",
    "    )])\n",
    "\n",
    "    fig.update_layout(\n",
    "        title=dict(\n",
    "            text=\"3D Surface Plot of Volatility Surface\",\n",
    "            x=0.5,\n",
    "            xanchor=\"center\",\n",
    "            yanchor=\"top\",\n",
    "            y=0.95,\n",
    "            font=dict(size=16)\n",
    "        ),\n",
    "        scene={\n",
    "            \"xaxis_title\": x_axis,\n",
    "            \"yaxis_title\": y_axis,\n",
    "            \"zaxis_title\": \"Volatility\",\n",
    "            \"xaxis\": {\"showgrid\": True},\n",
    "            \"yaxis\": {\"showgrid\": True},\n",
    "            \"zaxis\": {\"showgrid\": True},\n",
    "            \"camera\": {\n",
    "                \"eye\": {\"x\": 0.96, \"y\": -1.53, \"z\": 0.39},\n",
    "                \"center\": {\"x\": 0.02, \"y\": -0.07, \"z\": -0.21},\n",
    "                \"up\": {\"x\": -0.18, \"y\": 0.27, \"z\": 0.95},\n",
    "                \"projection\": {\"type\": \"perspective\"}\n",
    "            }\n",
    "        },\n",
    "        dragmode=False,\n",
    "        autosize=True,\n",
    "        height=450,\n",
    "        width=800,\n",
    "    )\n",
    "\n",
    "    return fig\n",
    "\n",
    "def plot_surface_smile_by_expiry(surf_table, x_axis, y_axis):\n",
    "    \"\"\"\n",
    "    Create a 2D line plot showing volatility smiles for different expiry dates.\n",
    "    \n",
    "    This function plots multiple volatility smile curves, with each curve representing\n",
    "    a different expiry date. The x-axis shows moneyness/strikes and the y-axis shows\n",
    "    volatility levels.\n",
    "\n",
    "    Parameters\n",
    "    ----------\n",
    "    surf_table : pd.DataFrame\n",
    "        A DataFrame with expiries as index and strike prices/moneyness as columns.\n",
    "        Values should be volatility levels for each expiry-strike combination.\n",
    "\n",
    "    Returns\n",
    "    -------\n",
    "    plotly.graph_objects.Figure\n",
    "        Interactive line plot with each expiry represented as a separate trace.\n",
    "        \n",
    "    \"\"\"\n",
    "    fig = go.Figure()\n",
    "\n",
    "    for expiry in surf_table.index:\n",
    "        fig.add_trace(go.Scatter(\n",
    "            x=surf_table.columns.astype(float),\n",
    "            y=surf_table.loc[expiry],\n",
    "            mode='lines+markers',\n",
    "            name=expiry\n",
    "        ))\n",
    "\n",
    "    fig.update_layout(\n",
    "        title=dict(\n",
    "            text='Surface Smile by Expiry',\n",
    "            x=0.5,\n",
    "            xanchor=\"center\",\n",
    "            yanchor=\"top\",\n",
    "            y=0.95,\n",
    "            font=dict(size=16)\n",
    "        ),\n",
    "        xaxis_title=x_axis,\n",
    "        yaxis_title='Volatility',\n",
    "        legend_title=y_axis,\n",
    "        template='plotly_white',\n",
    "        dragmode=False,\n",
    "        autosize=True,\n",
    "        height=450,\n",
    "        width=800,\n",
    "    )\n",
    "\n",
    "    return fig"
   ]
  },
  {
   "cell_type": "markdown",
   "id": "4ff8a4f1",
   "metadata": {},
   "source": [
    "### 3D Surface Plot\n",
    "\n",
    "An interactive 3D visualization allows you to explore the volatility surface from different angles and understand the relationship between strikes, expiries, and volatility levels."
   ]
  },
  {
   "cell_type": "code",
   "execution_count": 5,
   "id": "5a26ff23",
   "metadata": {
    "execution": {
     "iopub.execute_input": "2025-09-18T09:01:30.087580Z",
     "iopub.status.busy": "2025-09-18T09:01:30.087047Z",
     "iopub.status.idle": "2025-09-18T09:01:30.097862Z",
     "shell.execute_reply": "2025-09-18T09:01:30.097205Z"
    }
   },
   "outputs": [
    {
     "data": {
      "text/plain": [
       "array(['1Y', '2Y', '3Y', '4Y', '5Y', '6Y', '7Y', '8Y', '9Y', '10Y', '12Y',\n",
       "       '15Y', '20Y', '25Y', '30Y'], dtype=object)"
      ]
     },
     "metadata": {},
     "output_type": "display_data"
    }
   ],
   "source": [
    "# In this plotting example, we will demonstrate how Swaption Volatility Cube can be visualized slice by slice.\n",
    "\n",
    "# Setup input parameters for slicing the Volatility Cube\n",
    "slice_by = 'SwapTenor'\n",
    "point_value = 'Normal Vol (bp)'\n",
    "x_axis = 'Relative Strike (%)'\n",
    "y_axis = 'Expiry'\n",
    "\n",
    "vol_cube_points_df = pd.DataFrame(surface_data['surface'], columns = surface_data['headers'])\n",
    "display(vol_cube_points_df[slice_by].unique())"
   ]
  },
  {
   "cell_type": "code",
   "execution_count": 6,
   "id": "6af2cf29",
   "metadata": {
    "execution": {
     "iopub.execute_input": "2025-09-18T09:01:30.100843Z",
     "iopub.status.busy": "2025-09-18T09:01:30.100329Z",
     "iopub.status.idle": "2025-09-18T09:01:30.112144Z",
     "shell.execute_reply": "2025-09-18T09:01:30.111465Z"
    }
   },
   "outputs": [],
   "source": [
    "slice_target = '2Y' #get surface for 2Y swap\n",
    "\n",
    "surface_df = prepare_volatility_surface_from_list(surface_data, slice_by = slice_by, slice_target = slice_target, x_axis=x_axis, y_axis=y_axis, point_value=point_value)"
   ]
  },
  {
   "cell_type": "code",
   "execution_count": 7,
   "id": "9c5bb2e0",
   "metadata": {
    "execution": {
     "iopub.execute_input": "2025-09-18T09:01:30.115089Z",
     "iopub.status.busy": "2025-09-18T09:01:30.114584Z",
     "iopub.status.idle": "2025-09-18T09:01:30.426355Z",
     "shell.execute_reply": "2025-09-18T09:01:30.425746Z"
    }
   },
   "outputs": [
    {
     "data": {
      "application/vnd.plotly.v1+json": {
       "config": {
        "plotlyServerURL": "https://plot.ly"
       },
       "data": [
        {
         "colorscale": [
          [
           0.0,
           "#30123b"
          ],
          [
           0.07142857142857142,
           "#4145ab"
          ],
          [
           0.14285714285714285,
           "#4675ed"
          ],
          [
           0.21428571428571427,
           "#39a2fc"
          ],
          [
           0.2857142857142857,
           "#1bcfd4"
          ],
          [
           0.35714285714285715,
           "#24eca6"
          ],
          [
           0.42857142857142855,
           "#61fc6c"
          ],
          [
           0.5,
           "#a4fc3b"
          ],
          [
           0.5714285714285714,
           "#d1e834"
          ],
          [
           0.6428571428571429,
           "#f3c63a"
          ],
          [
           0.7142857142857143,
           "#fe9b2d"
          ],
          [
           0.7857142857142857,
           "#f36315"
          ],
          [
           0.8571428571428571,
           "#d93806"
          ],
          [
           0.9285714285714286,
           "#b11901"
          ],
          [
           1.0,
           "#7a0402"
          ]
         ],
         "contours": {
          "y": {
           "color": "black",
           "highlightcolor": "black",
           "show": true,
           "size": 0.05
          },
          "z": {
           "color": "black",
           "highlightcolor": "black",
           "show": true,
           "size": 0.05
          }
         },
         "showscale": false,
         "type": "surface",
         "x": {
          "bdata": "AAAAAAAACMAAAAAAAAAEwAAAAAAAAADAAAAAAAAA+L8AAAAAAAD0vwAAAAAAAPC/AAAAAAAA6L8AAAAAAADgvwAAAAAAANC/mpmZmZmZyb+4HoXrUbi+v5qZmZmZmbm/mpmZmZmZqb8AAAAAAAAAAJqZmZmZmak/mpmZmZmZuT+4HoXrUbi+P5qZmZmZmck/AAAAAAAA0D8AAAAAAADgPwAAAAAAAOg/AAAAAAAA8D8AAAAAAAD0PwAAAAAAAPg/AAAAAAAAAEAAAAAAAAAEQAAAAAAAAAhA",
          "dtype": "f8"
         },
         "y": [
          "1M",
          "2M",
          "3M",
          "6M",
          "9M",
          "1Y",
          "18M",
          "2Y",
          "3Y",
          "4Y",
          "5Y",
          "6Y",
          "7Y",
          "8Y",
          "9Y",
          "10Y",
          "12Y",
          "15Y",
          "20Y",
          "25Y",
          "30Y",
          "40Y",
          "50Y"
         ],
         "z": {
          "bdata": "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",
          "dtype": "f8",
          "shape": "23, 27"
         }
        }
       ],
       "layout": {
        "autosize": true,
        "dragmode": false,
        "height": 450,
        "scene": {
         "camera": {
          "center": {
           "x": 0.02,
           "y": -0.07,
           "z": -0.21
          },
          "eye": {
           "x": 0.96,
           "y": -1.53,
           "z": 0.39
          },
          "projection": {
           "type": "perspective"
          },
          "up": {
           "x": -0.18,
           "y": 0.27,
           "z": 0.95
          }
         },
         "xaxis": {
          "showgrid": true,
          "title": {
           "text": "Relative Strike (%)"
          }
         },
         "yaxis": {
          "showgrid": true,
          "title": {
           "text": "Expiry"
          }
         },
         "zaxis": {
          "showgrid": true,
          "title": {
           "text": "Volatility"
          }
         }
        },
        "template": {
         "data": {
          "bar": [
           {
            "error_x": {
             "color": "#2a3f5f"
            },
            "error_y": {
             "color": "#2a3f5f"
            },
            "marker": {
             "line": {
              "color": "#E5ECF6",
              "width": 0.5
             },
             "pattern": {
              "fillmode": "overlay",
              "size": 10,
              "solidity": 0.2
             }
            },
            "type": "bar"
           }
          ],
          "barpolar": [
           {
            "marker": {
             "line": {
              "color": "#E5ECF6",
              "width": 0.5
             },
             "pattern": {
              "fillmode": "overlay",
              "size": 10,
              "solidity": 0.2
             }
            },
            "type": "barpolar"
           }
          ],
          "carpet": [
           {
            "aaxis": {
             "endlinecolor": "#2a3f5f",
             "gridcolor": "white",
             "linecolor": "white",
             "minorgridcolor": "white",
             "startlinecolor": "#2a3f5f"
            },
            "baxis": {
             "endlinecolor": "#2a3f5f",
             "gridcolor": "white",
             "linecolor": "white",
             "minorgridcolor": "white",
             "startlinecolor": "#2a3f5f"
            },
            "type": "carpet"
           }
          ],
          "choropleth": [
           {
            "colorbar": {
             "outlinewidth": 0,
             "ticks": ""
            },
            "type": "choropleth"
           }
          ],
          "contour": [
           {
            "colorbar": {
             "outlinewidth": 0,
             "ticks": ""
            },
            "colorscale": [
             [
              0.0,
              "#0d0887"
             ],
             [
              0.1111111111111111,
              "#46039f"
             ],
             [
              0.2222222222222222,
              "#7201a8"
             ],
             [
              0.3333333333333333,
              "#9c179e"
             ],
             [
              0.4444444444444444,
              "#bd3786"
             ],
             [
              0.5555555555555556,
              "#d8576b"
             ],
             [
              0.6666666666666666,
              "#ed7953"
             ],
             [
              0.7777777777777778,
              "#fb9f3a"
             ],
             [
              0.8888888888888888,
              "#fdca26"
             ],
             [
              1.0,
              "#f0f921"
             ]
            ],
            "type": "contour"
           }
          ],
          "contourcarpet": [
           {
            "colorbar": {
             "outlinewidth": 0,
             "ticks": ""
            },
            "type": "contourcarpet"
           }
          ],
          "heatmap": [
           {
            "colorbar": {
             "outlinewidth": 0,
             "ticks": ""
            },
            "colorscale": [
             [
              0.0,
              "#0d0887"
             ],
             [
              0.1111111111111111,
              "#46039f"
             ],
             [
              0.2222222222222222,
              "#7201a8"
             ],
             [
              0.3333333333333333,
              "#9c179e"
             ],
             [
              0.4444444444444444,
              "#bd3786"
             ],
             [
              0.5555555555555556,
              "#d8576b"
             ],
             [
              0.6666666666666666,
              "#ed7953"
             ],
             [
              0.7777777777777778,
              "#fb9f3a"
             ],
             [
              0.8888888888888888,
              "#fdca26"
             ],
             [
              1.0,
              "#f0f921"
             ]
            ],
            "type": "heatmap"
           }
          ],
          "histogram": [
           {
            "marker": {
             "pattern": {
              "fillmode": "overlay",
              "size": 10,
              "solidity": 0.2
             }
            },
            "type": "histogram"
           }
          ],
          "histogram2d": [
           {
            "colorbar": {
             "outlinewidth": 0,
             "ticks": ""
            },
            "colorscale": [
             [
              0.0,
              "#0d0887"
             ],
             [
              0.1111111111111111,
              "#46039f"
             ],
             [
              0.2222222222222222,
              "#7201a8"
             ],
             [
              0.3333333333333333,
              "#9c179e"
             ],
             [
              0.4444444444444444,
              "#bd3786"
             ],
             [
              0.5555555555555556,
              "#d8576b"
             ],
             [
              0.6666666666666666,
              "#ed7953"
             ],
             [
              0.7777777777777778,
              "#fb9f3a"
             ],
             [
              0.8888888888888888,
              "#fdca26"
             ],
             [
              1.0,
              "#f0f921"
             ]
            ],
            "type": "histogram2d"
           }
          ],
          "histogram2dcontour": [
           {
            "colorbar": {
             "outlinewidth": 0,
             "ticks": ""
            },
            "colorscale": [
             [
              0.0,
              "#0d0887"
             ],
             [
              0.1111111111111111,
              "#46039f"
             ],
             [
              0.2222222222222222,
              "#7201a8"
             ],
             [
              0.3333333333333333,
              "#9c179e"
             ],
             [
              0.4444444444444444,
              "#bd3786"
             ],
             [
              0.5555555555555556,
              "#d8576b"
             ],
             [
              0.6666666666666666,
              "#ed7953"
             ],
             [
              0.7777777777777778,
              "#fb9f3a"
             ],
             [
              0.8888888888888888,
              "#fdca26"
             ],
             [
              1.0,
              "#f0f921"
             ]
            ],
            "type": "histogram2dcontour"
           }
          ],
          "mesh3d": [
           {
            "colorbar": {
             "outlinewidth": 0,
             "ticks": ""
            },
            "type": "mesh3d"
           }
          ],
          "parcoords": [
           {
            "line": {
             "colorbar": {
              "outlinewidth": 0,
              "ticks": ""
             }
            },
            "type": "parcoords"
           }
          ],
          "pie": [
           {
            "automargin": true,
            "type": "pie"
           }
          ],
          "scatter": [
           {
            "fillpattern": {
             "fillmode": "overlay",
             "size": 10,
             "solidity": 0.2
            },
            "type": "scatter"
           }
          ],
          "scatter3d": [
           {
            "line": {
             "colorbar": {
              "outlinewidth": 0,
              "ticks": ""
             }
            },
            "marker": {
             "colorbar": {
              "outlinewidth": 0,
              "ticks": ""
             }
            },
            "type": "scatter3d"
           }
          ],
          "scattercarpet": [
           {
            "marker": {
             "colorbar": {
              "outlinewidth": 0,
              "ticks": ""
             }
            },
            "type": "scattercarpet"
           }
          ],
          "scattergeo": [
           {
            "marker": {
             "colorbar": {
              "outlinewidth": 0,
              "ticks": ""
             }
            },
            "type": "scattergeo"
           }
          ],
          "scattergl": [
           {
            "marker": {
             "colorbar": {
              "outlinewidth": 0,
              "ticks": ""
             }
            },
            "type": "scattergl"
           }
          ],
          "scattermap": [
           {
            "marker": {
             "colorbar": {
              "outlinewidth": 0,
              "ticks": ""
             }
            },
            "type": "scattermap"
           }
          ],
          "scattermapbox": [
           {
            "marker": {
             "colorbar": {
              "outlinewidth": 0,
              "ticks": ""
             }
            },
            "type": "scattermapbox"
           }
          ],
          "scatterpolar": [
           {
            "marker": {
             "colorbar": {
              "outlinewidth": 0,
              "ticks": ""
             }
            },
            "type": "scatterpolar"
           }
          ],
          "scatterpolargl": [
           {
            "marker": {
             "colorbar": {
              "outlinewidth": 0,
              "ticks": ""
             }
            },
            "type": "scatterpolargl"
           }
          ],
          "scatterternary": [
           {
            "marker": {
             "colorbar": {
              "outlinewidth": 0,
              "ticks": ""
             }
            },
            "type": "scatterternary"
           }
          ],
          "surface": [
           {
            "colorbar": {
             "outlinewidth": 0,
             "ticks": ""
            },
            "colorscale": [
             [
              0.0,
              "#0d0887"
             ],
             [
              0.1111111111111111,
              "#46039f"
             ],
             [
              0.2222222222222222,
              "#7201a8"
             ],
             [
              0.3333333333333333,
              "#9c179e"
             ],
             [
              0.4444444444444444,
              "#bd3786"
             ],
             [
              0.5555555555555556,
              "#d8576b"
             ],
             [
              0.6666666666666666,
              "#ed7953"
             ],
             [
              0.7777777777777778,
              "#fb9f3a"
             ],
             [
              0.8888888888888888,
              "#fdca26"
             ],
             [
              1.0,
              "#f0f921"
             ]
            ],
            "type": "surface"
           }
          ],
          "table": [
           {
            "cells": {
             "fill": {
              "color": "#EBF0F8"
             },
             "line": {
              "color": "white"
             }
            },
            "header": {
             "fill": {
              "color": "#C8D4E3"
             },
             "line": {
              "color": "white"
             }
            },
            "type": "table"
           }
          ]
         },
         "layout": {
          "annotationdefaults": {
           "arrowcolor": "#2a3f5f",
           "arrowhead": 0,
           "arrowwidth": 1
          },
          "autotypenumbers": "strict",
          "coloraxis": {
           "colorbar": {
            "outlinewidth": 0,
            "ticks": ""
           }
          },
          "colorscale": {
           "diverging": [
            [
             0,
             "#8e0152"
            ],
            [
             0.1,
             "#c51b7d"
            ],
            [
             0.2,
             "#de77ae"
            ],
            [
             0.3,
             "#f1b6da"
            ],
            [
             0.4,
             "#fde0ef"
            ],
            [
             0.5,
             "#f7f7f7"
            ],
            [
             0.6,
             "#e6f5d0"
            ],
            [
             0.7,
             "#b8e186"
            ],
            [
             0.8,
             "#7fbc41"
            ],
            [
             0.9,
             "#4d9221"
            ],
            [
             1,
             "#276419"
            ]
           ],
           "sequential": [
            [
             0.0,
             "#0d0887"
            ],
            [
             0.1111111111111111,
             "#46039f"
            ],
            [
             0.2222222222222222,
             "#7201a8"
            ],
            [
             0.3333333333333333,
             "#9c179e"
            ],
            [
             0.4444444444444444,
             "#bd3786"
            ],
            [
             0.5555555555555556,
             "#d8576b"
            ],
            [
             0.6666666666666666,
             "#ed7953"
            ],
            [
             0.7777777777777778,
             "#fb9f3a"
            ],
            [
             0.8888888888888888,
             "#fdca26"
            ],
            [
             1.0,
             "#f0f921"
            ]
           ],
           "sequentialminus": [
            [
             0.0,
             "#0d0887"
            ],
            [
             0.1111111111111111,
             "#46039f"
            ],
            [
             0.2222222222222222,
             "#7201a8"
            ],
            [
             0.3333333333333333,
             "#9c179e"
            ],
            [
             0.4444444444444444,
             "#bd3786"
            ],
            [
             0.5555555555555556,
             "#d8576b"
            ],
            [
             0.6666666666666666,
             "#ed7953"
            ],
            [
             0.7777777777777778,
             "#fb9f3a"
            ],
            [
             0.8888888888888888,
             "#fdca26"
            ],
            [
             1.0,
             "#f0f921"
            ]
           ]
          },
          "colorway": [
           "#636efa",
           "#EF553B",
           "#00cc96",
           "#ab63fa",
           "#FFA15A",
           "#19d3f3",
           "#FF6692",
           "#B6E880",
           "#FF97FF",
           "#FECB52"
          ],
          "font": {
           "color": "#2a3f5f"
          },
          "geo": {
           "bgcolor": "white",
           "lakecolor": "white",
           "landcolor": "#E5ECF6",
           "showlakes": true,
           "showland": true,
           "subunitcolor": "white"
          },
          "hoverlabel": {
           "align": "left"
          },
          "hovermode": "closest",
          "mapbox": {
           "style": "light"
          },
          "paper_bgcolor": "white",
          "plot_bgcolor": "#E5ECF6",
          "polar": {
           "angularaxis": {
            "gridcolor": "white",
            "linecolor": "white",
            "ticks": ""
           },
           "bgcolor": "#E5ECF6",
           "radialaxis": {
            "gridcolor": "white",
            "linecolor": "white",
            "ticks": ""
           }
          },
          "scene": {
           "xaxis": {
            "backgroundcolor": "#E5ECF6",
            "gridcolor": "white",
            "gridwidth": 2,
            "linecolor": "white",
            "showbackground": true,
            "ticks": "",
            "zerolinecolor": "white"
           },
           "yaxis": {
            "backgroundcolor": "#E5ECF6",
            "gridcolor": "white",
            "gridwidth": 2,
            "linecolor": "white",
            "showbackground": true,
            "ticks": "",
            "zerolinecolor": "white"
           },
           "zaxis": {
            "backgroundcolor": "#E5ECF6",
            "gridcolor": "white",
            "gridwidth": 2,
            "linecolor": "white",
            "showbackground": true,
            "ticks": "",
            "zerolinecolor": "white"
           }
          },
          "shapedefaults": {
           "line": {
            "color": "#2a3f5f"
           }
          },
          "ternary": {
           "aaxis": {
            "gridcolor": "white",
            "linecolor": "white",
            "ticks": ""
           },
           "baxis": {
            "gridcolor": "white",
            "linecolor": "white",
            "ticks": ""
           },
           "bgcolor": "#E5ECF6",
           "caxis": {
            "gridcolor": "white",
            "linecolor": "white",
            "ticks": ""
           }
          },
          "title": {
           "x": 0.05
          },
          "xaxis": {
           "automargin": true,
           "gridcolor": "white",
           "linecolor": "white",
           "ticks": "",
           "title": {
            "standoff": 15
           },
           "zerolinecolor": "white",
           "zerolinewidth": 2
          },
          "yaxis": {
           "automargin": true,
           "gridcolor": "white",
           "linecolor": "white",
           "ticks": "",
           "title": {
            "standoff": 15
           },
           "zerolinecolor": "white",
           "zerolinewidth": 2
          }
         }
        },
        "title": {
         "font": {
          "size": 16
         },
         "text": "3D Surface Plot of Volatility Surface",
         "x": 0.5,
         "xanchor": "center",
         "y": 0.95,
         "yanchor": "top"
        },
        "width": 800
       }
      }
     },
     "metadata": {},
     "output_type": "display_data"
    }
   ],
   "source": [
    "# Create interactive 3D surface plot using the same DataFrame\n",
    "# The plot allows rotation, zoom, and hover to explore volatility patterns\n",
    "plot_volatility_surface_plot(surface_df, x_axis, y_axis)"
   ]
  },
  {
   "cell_type": "markdown",
   "id": "a52c6fc4",
   "metadata": {},
   "source": [
    "### Volatility smiles\n",
    "Below is the plot of individual volatility smiles for different expiration dates. Each line represents one expiry, showing how volatility changes with strike. The useful key points for analyzing are:\n",
    "- Volatility skew (asymmetry around ATM)  \n",
    "- Term structure (how smiles change over time)\n",
    "- ATM volatility levels across expiries"
   ]
  },
  {
   "cell_type": "code",
   "execution_count": 8,
   "id": "c92a01e7",
   "metadata": {
    "execution": {
     "iopub.execute_input": "2025-09-18T09:01:30.428898Z",
     "iopub.status.busy": "2025-09-18T09:01:30.428566Z",
     "iopub.status.idle": "2025-09-18T09:01:30.560996Z",
     "shell.execute_reply": "2025-09-18T09:01:30.560260Z"
    },
    "tags": []
   },
   "outputs": [
    {
     "data": {
      "application/vnd.plotly.v1+json": {
       "config": {
        "plotlyServerURL": "https://plot.ly"
       },
       "data": [
        {
         "mode": "lines+markers",
         "name": "1M",
         "type": "scatter",
         "x": {
          "bdata": "AAAAAAAACMAAAAAAAAAEwAAAAAAAAADAAAAAAAAA+L8AAAAAAAD0vwAAAAAAAPC/AAAAAAAA6L8AAAAAAADgvwAAAAAAANC/mpmZmZmZyb+4HoXrUbi+v5qZmZmZmbm/mpmZmZmZqb8AAAAAAAAAAJqZmZmZmak/mpmZmZmZuT+4HoXrUbi+P5qZmZmZmck/AAAAAAAA0D8AAAAAAADgPwAAAAAAAOg/AAAAAAAA8D8AAAAAAAD0PwAAAAAAAPg/AAAAAAAAAEAAAAAAAAAEQAAAAAAAAAhA",
          "dtype": "f8"
         },
         "y": {
          "bdata": "cT0K16PQa0ApXI/C9XBpQLgehetR8GZAMzMzMzNLZEBSuB6F6+liQB+F61G4fmFACtejcD0KYECPwvUoXB9dQFK4HoXrMVpAcT0K16OgWUBcj8L1KMxYQNejcD0Kh1hAcT0K16MAWEAAAAAAAIBXQGZmZmZmBldAhetRuB6VVkAAAAAAAGBWQFK4HoXr0VVAMzMzMzODVUBmZmZmZtZUQI/C9Shcf1VA9ihcj8L1VkCuR+F6FM5YQMP1KFyP0lpA7FG4HoULX0ApXI/C9ahhQAAAAAAAyGNA",
          "dtype": "f8"
         }
        },
        {
         "mode": "lines+markers",
         "name": "2M",
         "type": "scatter",
         "x": {
          "bdata": "AAAAAAAACMAAAAAAAAAEwAAAAAAAAADAAAAAAAAA+L8AAAAAAAD0vwAAAAAAAPC/AAAAAAAA6L8AAAAAAADgvwAAAAAAANC/mpmZmZmZyb+4HoXrUbi+v5qZmZmZmbm/mpmZmZmZqb8AAAAAAAAAAJqZmZmZmak/mpmZmZmZuT+4HoXrUbi+P5qZmZmZmck/AAAAAAAA0D8AAAAAAADgPwAAAAAAAOg/AAAAAAAA8D8AAAAAAAD0PwAAAAAAAPg/AAAAAAAAAEAAAAAAAAAEQAAAAAAAAAhA",
          "dtype": "f8"
         },
         "y": {
          "bdata": "4XoUrkfpakApXI/C9bhoQArXo3A9amZA7FG4HoX7Y0BI4XoUrrdiQKRwPQrXa2FAKVyPwvUYYEBmZmZmZoZdQNejcD0K51pAhetRuB5lWkBI4XoUrqdZQJqZmZmZaVlAUrgehevxWECuR+F6FH5YQAAAAAAAEFhAuB6F61GoV0BI4XoUrndXQOF6FK5H8VZApHA9CtejVkAK16NwPcpVQFK4HoXrEVZASOF6FK4nV0AfhetRuK5YQI/C9Shcb1pAKVyPwvU4XkC4HoXrURBhQIXrUbgeBWNA",
          "dtype": "f8"
         }
        },
        {
         "mode": "lines+markers",
         "name": "3M",
         "type": "scatter",
         "x": {
          "bdata": "AAAAAAAACMAAAAAAAAAEwAAAAAAAAADAAAAAAAAA+L8AAAAAAAD0vwAAAAAAAPC/AAAAAAAA6L8AAAAAAADgvwAAAAAAANC/mpmZmZmZyb+4HoXrUbi+v5qZmZmZmbm/mpmZmZmZqb8AAAAAAAAAAJqZmZmZmak/mpmZmZmZuT+4HoXrUbi+P5qZmZmZmck/AAAAAAAA0D8AAAAAAADgPwAAAAAAAOg/AAAAAAAA8D8AAAAAAAD0PwAAAAAAAPg/AAAAAAAAAEAAAAAAAAAEQAAAAAAAAAhA",
          "dtype": "f8"
         },
         "y": {
          "bdata": "FK5H4Xp0aUBI4XoUrn9nQLgehetRcGVA9ihcj8JFY0AfhetRuCZiQJqZmZmZAWFAAAAAAACwX0DsUbgehVtdQGZmZmZmFltA9ihcj8KlWkBSuB6F6wFaQM3MzMzMzFlAFK5H4XpkWUAAAAAAAABZQI/C9Shcn1hAFK5H4XpEWEC4HoXrURhYQB+F61G4nldA9ihcj8JVV0DXo3A9CmdWQArXo3A9WlZAmpmZmZkJV0DD9ShcjzJYQAAAAAAAoFlAzczMzMzcXECuR+F6FCZgQKRwPQrX42FA",
          "dtype": "f8"
         }
        },
        {
         "mode": "lines+markers",
         "name": "6M",
         "type": "scatter",
         "x": {
          "bdata": "AAAAAAAACMAAAAAAAAAEwAAAAAAAAADAAAAAAAAA+L8AAAAAAAD0vwAAAAAAAPC/AAAAAAAA6L8AAAAAAADgvwAAAAAAANC/mpmZmZmZyb+4HoXrUbi+v5qZmZmZmbm/mpmZmZmZqb8AAAAAAAAAAJqZmZmZmak/mpmZmZmZuT+4HoXrUbi+P5qZmZmZmck/AAAAAAAA0D8AAAAAAADgPwAAAAAAAOg/AAAAAAAA8D8AAAAAAAD0PwAAAAAAAPg/AAAAAAAAAEAAAAAAAAAEQAAAAAAAAAhA",
          "dtype": "f8"
         },
         "y": {
          "bdata": "zczMzMw0ZEAUrkfhevxiQFK4HoXruWFAUrgehetxYEA9CtejcJ1fQM3MzMzMXF5A16NwPQonXUD2KFyPwgVcQKRwPQrXA1tAhetRuB7VWkAzMzMzM5NaQK5H4XoUflpA9ihcj8JVWkAAAAAAADBaQM3MzMzMDFpAXI/C9SjsWUDNzMzMzNxZQDMzMzMzs1lAexSuR+GaWUDD9Shcj1JZQOxRuB6FW1lAUrgeheuxWUApXI/C9UhaQMP1KFyPEltAXI/C9SgMXUAzMzMzM1NfQAAAAAAA4GBA",
          "dtype": "f8"
         }
        },
        {
         "mode": "lines+markers",
         "name": "9M",
         "type": "scatter",
         "x": {
          "bdata": "AAAAAAAACMAAAAAAAAAEwAAAAAAAAADAAAAAAAAA+L8AAAAAAAD0vwAAAAAAAPC/AAAAAAAA6L8AAAAAAADgvwAAAAAAANC/mpmZmZmZyb+4HoXrUbi+v5qZmZmZmbm/mpmZmZmZqb8AAAAAAAAAAJqZmZmZmak/mpmZmZmZuT+4HoXrUbi+P5qZmZmZmck/AAAAAAAA0D8AAAAAAADgPwAAAAAAAOg/AAAAAAAA8D8AAAAAAAD0PwAAAAAAAPg/AAAAAAAAAEAAAAAAAAAEQAAAAAAAAAhA",
          "dtype": "f8"
         },
         "y": {
          "bdata": "rkfhehQ2Y0AfhetRuC5iQKRwPQrXI2FApHA9CtcbYECamZmZmTlfQEjhehSuR15ASOF6FK5nXUBSuB6F66FcQI/C9Shc/1tApHA9CtfjW0AfhetRuL5bQDMzMzMzs1tAPQrXo3CdW0AK16NwPYpbQClcj8L1eFtACtejcD1qW0AzMzMzM2NbQDMzMzMzU1tAexSuR+FKW0DXo3A9CkdbQI/C9Shcf1tArkfhehTuW0Bcj8L1KIxcQHE9CtejUF1A7FG4HoUrX0A9CtejcKVgQAAAAAAAyGFA",
          "dtype": "f8"
         }
        },
        {
         "mode": "lines+markers",
         "name": "1Y",
         "type": "scatter",
         "x": {
          "bdata": "AAAAAAAACMAAAAAAAAAEwAAAAAAAAADAAAAAAAAA+L8AAAAAAAD0vwAAAAAAAPC/AAAAAAAA6L8AAAAAAADgvwAAAAAAANC/mpmZmZmZyb+4HoXrUbi+v5qZmZmZmbm/mpmZmZmZqb8AAAAAAAAAAJqZmZmZmak/mpmZmZmZuT+4HoXrUbi+P5qZmZmZmck/AAAAAAAA0D8AAAAAAADgPwAAAAAAAOg/AAAAAAAA8D8AAAAAAAD0PwAAAAAAAPg/AAAAAAAAAEAAAAAAAAAEQAAAAAAAAAhA",
          "dtype": "f8"
         },
         "y": {
          "bdata": "pHA9CtezYUAK16NwPeJgQOxRuB6FE2BAcT0K16OgXkCuR+F6FO5dQFyPwvUoTF1AcT0K16PAXEDhehSuR1FcQBSuR+F6BFxAmpmZmZn5W0DNzMzMzOxbQJqZmZmZ6VtApHA9CtfjW0AAAAAAAOBbQK5H4XoU3ltAPQrXo3DdW0CuR+F6FN5bQFK4HoXr4VtA16NwPQrnW0B7FK5H4RpcQClcj8L1eFxArkfhehT+XECkcD0K16NdQIXrUbgeZV5ACtejcD0SYEA9CtejcA1hQClcj8L1GGJA",
          "dtype": "f8"
         }
        },
        {
         "mode": "lines+markers",
         "name": "18M",
         "type": "scatter",
         "x": {
          "bdata": "AAAAAAAACMAAAAAAAAAEwAAAAAAAAADAAAAAAAAA+L8AAAAAAAD0vwAAAAAAAPC/AAAAAAAA6L8AAAAAAADgvwAAAAAAANC/mpmZmZmZyb+4HoXrUbi+v5qZmZmZmbm/mpmZmZmZqb8AAAAAAAAAAJqZmZmZmak/mpmZmZmZuT+4HoXrUbi+P5qZmZmZmck/AAAAAAAA0D8AAAAAAADgPwAAAAAAAOg/AAAAAAAA8D8AAAAAAAD0PwAAAAAAAPg/AAAAAAAAAEAAAAAAAAAEQAAAAAAAAAhA",
          "dtype": "f8"
         },
         "y": {
          "bdata": "CtejcD0qYEBSuB6F6xFfQDMzMzMz411A7FG4HoXbXEAfhetRuG5cQGZmZmZmFlxASOF6FK7XW0BmZmZmZrZbQIXrUbgetVtAKVyPwvW4W0BSuB6F68FbQIXrUbgexVtAPQrXo3DNW0DXo3A9CtdbQFK4HoXr4VtAH4XrUbjuW0CF61G4HvVbQOxRuB6FC1xAXI/C9SgcXEDD9Shcj4JcQEjhehSuB11AuB6F61GoXUCPwvUoXF9eQClcj8L1KF9ApHA9CtdzYEAfhetRuGZhQPYoXI/CZWJA",
          "dtype": "f8"
         }
        },
        {
         "mode": "lines+markers",
         "name": "2Y",
         "type": "scatter",
         "x": {
          "bdata": "AAAAAAAACMAAAAAAAAAEwAAAAAAAAADAAAAAAAAA+L8AAAAAAAD0vwAAAAAAAPC/AAAAAAAA6L8AAAAAAADgvwAAAAAAANC/mpmZmZmZyb+4HoXrUbi+v5qZmZmZmbm/mpmZmZmZqb8AAAAAAAAAAJqZmZmZmak/mpmZmZmZuT+4HoXrUbi+P5qZmZmZmck/AAAAAAAA0D8AAAAAAADgPwAAAAAAAOg/AAAAAAAA8D8AAAAAAAD0PwAAAAAAAPg/AAAAAAAAAEAAAAAAAAAEQAAAAAAAAAhA",
          "dtype": "f8"
         },
         "y": {
          "bdata": "cT0K16PwXEDD9ShcjyJcQGZmZmZmdltAH4XrUbj+WkCuR+F6FN5aQMP1KFyP0lpAj8L1KFzfWkD2KFyPwgVbQPYoXI/CRVtA9ihcj8JVW0AAAAAAAHBbQClcj8L1eFtAXI/C9SiMW0AAAAAAAKBbQIXrUbgetVtAexSuR+HKW0BmZmZmZtZbQJqZmZmZ+VtAw/UoXI8SXEB7FK5H4ZpcQEjhehSuN11AhetRuB7lXUBxPQrXo6BeQLgehetRaF9A4XoUrkeJYEDsUbgehWthQD0K16NwVWJA",
          "dtype": "f8"
         }
        },
        {
         "mode": "lines+markers",
         "name": "3Y",
         "type": "scatter",
         "x": {
          "bdata": "AAAAAAAACMAAAAAAAAAEwAAAAAAAAADAAAAAAAAA+L8AAAAAAAD0vwAAAAAAAPC/AAAAAAAA6L8AAAAAAADgvwAAAAAAANC/mpmZmZmZyb+4HoXrUbi+v5qZmZmZmbm/mpmZmZmZqb8AAAAAAAAAAJqZmZmZmak/mpmZmZmZuT+4HoXrUbi+P5qZmZmZmck/AAAAAAAA0D8AAAAAAADgPwAAAAAAAOg/AAAAAAAA8D8AAAAAAAD0PwAAAAAAAPg/AAAAAAAAAEAAAAAAAAAEQAAAAAAAAAhA",
          "dtype": "f8"
         },
         "y": {
          "bdata": "j8L1KFw/XEBI4XoUrndbQAAAAAAA0FpAXI/C9ShcWkBcj8L1KDxaQOF6FK5HMVpAPQrXo3A9WkBSuB6F62FaQHE9CtejoFpAAAAAAACwWkApXI/C9chaQFK4HoXr0VpAFK5H4XrkWkBI4XoUrvdaQFyPwvUoDFtA4XoUrkchW0Bcj8L1KCxbQB+F61G4TltAZmZmZmZmW0B7FK5H4epbQMP1KFyPglxAexSuR+EqXUDhehSuR+FdQMP1KFyPol5AuB6F61EgYECkcD0K1/tgQI/C9Shc32FA",
          "dtype": "f8"
         }
        },
        {
         "mode": "lines+markers",
         "name": "4Y",
         "type": "scatter",
         "x": {
          "bdata": "AAAAAAAACMAAAAAAAAAEwAAAAAAAAADAAAAAAAAA+L8AAAAAAAD0vwAAAAAAAPC/AAAAAAAA6L8AAAAAAADgvwAAAAAAANC/mpmZmZmZyb+4HoXrUbi+v5qZmZmZmbm/mpmZmZmZqb8AAAAAAAAAAJqZmZmZmak/mpmZmZmZuT+4HoXrUbi+P5qZmZmZmck/AAAAAAAA0D8AAAAAAADgPwAAAAAAAOg/AAAAAAAA8D8AAAAAAAD0PwAAAAAAAPg/AAAAAAAAAEAAAAAAAAAEQAAAAAAAAAhA",
          "dtype": "f8"
         },
         "y": {
          "bdata": "9ihcj8KFW0CkcD0K18NaQFK4HoXrIVpAUrgeheuxWUAzMzMzM5NZQLgehetRiFlAFK5H4XqUWUC4HoXrUbhZQIXrUbge9VlApHA9CtcDWkBcj8L1KBxaQIXrUbgeJVpA16NwPQo3WkCamZmZmUlaQD0K16NwXVpAUrgehetxWkDNzMzMzHxaQK5H4XoUnlpAhetRuB61WkD2KFyPwjVbQLgehetRyFtA7FG4HoVrXEBcj8L1KBxdQEjhehSu111AmpmZmZlpX0BSuB6F64lgQGZmZmZmZmFA",
          "dtype": "f8"
         }
        },
        {
         "mode": "lines+markers",
         "name": "5Y",
         "type": "scatter",
         "x": {
          "bdata": "AAAAAAAACMAAAAAAAAAEwAAAAAAAAADAAAAAAAAA+L8AAAAAAAD0vwAAAAAAAPC/AAAAAAAA6L8AAAAAAADgvwAAAAAAANC/mpmZmZmZyb+4HoXrUbi+v5qZmZmZmbm/mpmZmZmZqb8AAAAAAAAAAJqZmZmZmak/mpmZmZmZuT+4HoXrUbi+P5qZmZmZmck/AAAAAAAA0D8AAAAAAADgPwAAAAAAAOg/AAAAAAAA8D8AAAAAAAD0PwAAAAAAAPg/AAAAAAAAAEAAAAAAAAAEQAAAAAAAAAhA",
          "dtype": "f8"
         },
         "y": {
          "bdata": "CtejcD3KWkAAAAAAABBaQBSuR+F6dFlAmpmZmZkJWUBcj8L1KOxYQDMzMzMz41hAj8L1KFzvWEDD9ShcjxJZQD0K16NwTVlAXI/C9ShcWUAzMzMzM3NZQOxRuB6Fe1lAPQrXo3CNWUCPwvUoXJ9ZQMP1KFyPsllAZmZmZmbGWUBxPQrXo9BZQOF6FK5H8VlASOF6FK4HWkCkcD0K14NaQFK4HoXrEVtAj8L1KFyvW0AK16NwPVpcQAAAAAAAEF1AFK5H4XqUXkC4HoXrURhgQPYoXI/C7WBA",
          "dtype": "f8"
         }
        },
        {
         "mode": "lines+markers",
         "name": "6Y",
         "type": "scatter",
         "x": {
          "bdata": "AAAAAAAACMAAAAAAAAAEwAAAAAAAAADAAAAAAAAA+L8AAAAAAAD0vwAAAAAAAPC/AAAAAAAA6L8AAAAAAADgvwAAAAAAANC/mpmZmZmZyb+4HoXrUbi+v5qZmZmZmbm/mpmZmZmZqb8AAAAAAAAAAJqZmZmZmak/mpmZmZmZuT+4HoXrUbi+P5qZmZmZmck/AAAAAAAA0D8AAAAAAADgPwAAAAAAAOg/AAAAAAAA8D8AAAAAAAD0PwAAAAAAAPg/AAAAAAAAAEAAAAAAAAAEQAAAAAAAAAhA",
          "dtype": "f8"
         },
         "y": {
          "bdata": "MzMzMzOTWkC4HoXrUchZQArXo3A9GllA7FG4HoWbWECkcD0K13NYQAAAAAAAYFhAw/UoXI9iWEA9CtejcH1YQHE9CtejsFhAPQrXo3C9WEAzMzMzM9NYQHsUrkfh2lhAexSuR+HqWEBcj8L1KPxYQK5H4XoUDllA4XoUrkchWUB7FK5H4SpZQJqZmZmZSVlAj8L1KFxfWUC4HoXrUdhZQKRwPQrXY1pAcT0K16MAW0B7FK5H4apbQHE9CtejYFxAZmZmZmbmXUAUrkfheoRfQClcj8L1mGBA",
          "dtype": "f8"
         }
        },
        {
         "mode": "lines+markers",
         "name": "7Y",
         "type": "scatter",
         "x": {
          "bdata": "AAAAAAAACMAAAAAAAAAEwAAAAAAAAADAAAAAAAAA+L8AAAAAAAD0vwAAAAAAAPC/AAAAAAAA6L8AAAAAAADgvwAAAAAAANC/mpmZmZmZyb+4HoXrUbi+v5qZmZmZmbm/mpmZmZmZqb8AAAAAAAAAAJqZmZmZmak/mpmZmZmZuT+4HoXrUbi+P5qZmZmZmck/AAAAAAAA0D8AAAAAAADgPwAAAAAAAOg/AAAAAAAA8D8AAAAAAAD0PwAAAAAAAPg/AAAAAAAAAEAAAAAAAAAEQAAAAAAAAAhA",
          "dtype": "f8"
         },
         "y": {
          "bdata": "MzMzMzOTWkAK16NwPbpZQFyPwvUo/FhA7FG4HoVrWEB7FK5H4TpYQK5H4XoUHlhAuB6F61EYWEAK16NwPSpYQGZmZmZmVlhAw/UoXI9iWEBmZmZmZnZYQD0K16NwfVhAXI/C9SiMWEBcj8L1KJxYQD0K16NwrVhAj8L1KFy/WEC4HoXrUchYQPYoXI/C5VhAexSuR+H6WEAAAAAAAHBZQJqZmZmZ+VlAFK5H4XqUWkCuR+F6FD5bQKRwPQrX81tAexSuR+F6XUDsUbgehRtfQPYoXI/CZWBA",
          "dtype": "f8"
         }
        },
        {
         "mode": "lines+markers",
         "name": "8Y",
         "type": "scatter",
         "x": {
          "bdata": "AAAAAAAACMAAAAAAAAAEwAAAAAAAAADAAAAAAAAA+L8AAAAAAAD0vwAAAAAAAPC/AAAAAAAA6L8AAAAAAADgvwAAAAAAANC/mpmZmZmZyb+4HoXrUbi+v5qZmZmZmbm/mpmZmZmZqb8AAAAAAAAAAJqZmZmZmak/mpmZmZmZuT+4HoXrUbi+P5qZmZmZmck/AAAAAAAA0D8AAAAAAADgPwAAAAAAAOg/AAAAAAAA8D8AAAAAAAD0PwAAAAAAAPg/AAAAAAAAAEAAAAAAAAAEQAAAAAAAAAhA",
          "dtype": "f8"
         },
         "y": {
          "bdata": "mpmZmZmJWkAzMzMzM6NZQPYoXI/C1VhApHA9CtczWECamZmZmflXQKRwPQrX01dAFK5H4XrEV0AfhetRuM5XQDMzMzMz81dAPQrXo3D9V0CPwvUoXA9YQPYoXI/CFVhApHA9CtcjWEDD9ShcjzJYQMP1KFyPQlhAMzMzMzNTWEBcj8L1KFxYQLgehetReFhAXI/C9SiMWEA9CtejcP1YQBSuR+F6hFlArkfhehQeWkDXo3A9CsdaQM3MzMzMfFtAFK5H4XoEXUDXo3A9CqdeQM3MzMzMLGBA",
          "dtype": "f8"
         }
        },
        {
         "mode": "lines+markers",
         "name": "9Y",
         "type": "scatter",
         "x": {
          "bdata": "AAAAAAAACMAAAAAAAAAEwAAAAAAAAADAAAAAAAAA+L8AAAAAAAD0vwAAAAAAAPC/AAAAAAAA6L8AAAAAAADgvwAAAAAAANC/mpmZmZmZyb+4HoXrUbi+v5qZmZmZmbm/mpmZmZmZqb8AAAAAAAAAAJqZmZmZmak/mpmZmZmZuT+4HoXrUbi+P5qZmZmZmck/AAAAAAAA0D8AAAAAAADgPwAAAAAAAOg/AAAAAAAA8D8AAAAAAAD0PwAAAAAAAPg/AAAAAAAAAEAAAAAAAAAEQAAAAAAAAAhA",
          "dtype": "f8"
         },
         "y": {
          "bdata": "cT0K16OgWkCuR+F6FK5ZQFK4HoXr0VhAAAAAAAAgWECuR+F6FN5XQI/C9Shcr1dASOF6FK6XV0CamZmZmZlXQNejcD0Kt1dAcT0K16PAV0BxPQrXo9BXQGZmZmZm1ldAMzMzMzPjV0BxPQrXo/BXQI/C9Shc/1dAj8L1KFwPWEBI4XoUrhdYQFK4HoXrMVhAhetRuB5FWEAzMzMzM7NYQEjhehSuN1lAj8L1KFzPWUDXo3A9CndaQM3MzMzMLFtA9ihcj8K1XECamZmZmVleQI/C9ShcB2BA",
          "dtype": "f8"
         }
        },
        {
         "mode": "lines+markers",
         "name": "10Y",
         "type": "scatter",
         "x": {
          "bdata": "AAAAAAAACMAAAAAAAAAEwAAAAAAAAADAAAAAAAAA+L8AAAAAAAD0vwAAAAAAAPC/AAAAAAAA6L8AAAAAAADgvwAAAAAAANC/mpmZmZmZyb+4HoXrUbi+v5qZmZmZmbm/mpmZmZmZqb8AAAAAAAAAAJqZmZmZmak/mpmZmZmZuT+4HoXrUbi+P5qZmZmZmck/AAAAAAAA0D8AAAAAAADgPwAAAAAAAOg/AAAAAAAA8D8AAAAAAAD0PwAAAAAAAPg/AAAAAAAAAEAAAAAAAAAEQAAAAAAAAAhA",
          "dtype": "f8"
         },
         "y": {
          "bdata": "H4XrUbieWkAfhetRuJ5ZQKRwPQrXs1hAcT0K16PwV0D2KFyPwqVXQK5H4XoUbldAPQrXo3BNV0DXo3A9CkdXQFyPwvUoXFdAFK5H4XpkV0DD9Shcj3JXQEjhehSud1dAw/UoXI+CV0CPwvUoXI9XQM3MzMzMnFdA7FG4HoWrV0CkcD0K17NXQM3MzMzMzFdAH4XrUbjeV0ApXI/C9UhYQHsUrkfhylhA4XoUrkdhWUApXI/C9QhaQB+F61G4vlpAKVyPwvVIXECPwvUoXO9dQGZmZmZmpl9A",
          "dtype": "f8"
         }
        },
        {
         "mode": "lines+markers",
         "name": "12Y",
         "type": "scatter",
         "x": {
          "bdata": "AAAAAAAACMAAAAAAAAAEwAAAAAAAAADAAAAAAAAA+L8AAAAAAAD0vwAAAAAAAPC/AAAAAAAA6L8AAAAAAADgvwAAAAAAANC/mpmZmZmZyb+4HoXrUbi+v5qZmZmZmbm/mpmZmZmZqb8AAAAAAAAAAJqZmZmZmak/mpmZmZmZuT+4HoXrUbi+P5qZmZmZmck/AAAAAAAA0D8AAAAAAADgPwAAAAAAAOg/AAAAAAAA8D8AAAAAAAD0PwAAAAAAAPg/AAAAAAAAAEAAAAAAAAAEQAAAAAAAAAhA",
          "dtype": "f8"
         },
         "y": {
          "bdata": "pHA9CtdDWUBSuB6F62FYQIXrUbgelVdAPQrXo3DtVkCuR+F6FK5WQHE9CtejgFZA16NwPQpnVkAUrkfhemRWQArXo3A9elZAUrgeheuBVkAfhetRuI5WQKRwPQrXk1ZArkfhehSeVkCamZmZmalWQPYoXI/CtVZAMzMzMzPDVkB7FK5H4cpWQOF6FK5H4VZAUrgehevxVkBxPQrXo1BXQIXrUbgexVdA7FG4HoVLWEBSuB6F6+FYQBSuR+F6hFlASOF6FK7nWkD2KFyPwmVcQBSuR+F69F1A",
          "dtype": "f8"
         }
        },
        {
         "mode": "lines+markers",
         "name": "15Y",
         "type": "scatter",
         "x": {
          "bdata": "AAAAAAAACMAAAAAAAAAEwAAAAAAAAADAAAAAAAAA+L8AAAAAAAD0vwAAAAAAAPC/AAAAAAAA6L8AAAAAAADgvwAAAAAAANC/mpmZmZmZyb+4HoXrUbi+v5qZmZmZmbm/mpmZmZmZqb8AAAAAAAAAAJqZmZmZmak/mpmZmZmZuT+4HoXrUbi+P5qZmZmZmck/AAAAAAAA0D8AAAAAAADgPwAAAAAAAOg/AAAAAAAA8D8AAAAAAAD0PwAAAAAAAPg/AAAAAAAAAEAAAAAAAAAEQAAAAAAAAAhA",
          "dtype": "f8"
         },
         "y": {
          "bdata": "uB6F61FIV0B7FK5H4ZpWQHE9CtejAFZA16NwPQqHVUDsUbgehVtVQB+F61G4PlVA4XoUrkcxVUD2KFyPwjVVQM3MzMzMTFVApHA9CtdTVUCPwvUoXF9VQKRwPQrXY1VAzczMzMxsVUDXo3A9CndVQFK4HoXrgVVAPQrXo3CNVUAzMzMzM5NVQGZmZmZmplVAFK5H4Xq0VUAzMzMzMwNWQDMzMzMzY1ZA4XoUrkfRVkBcj8L1KExXQMP1KFyP0ldAuB6F61H4WEDXo3A9CjdaQNejcD0Kh1tA",
          "dtype": "f8"
         }
        },
        {
         "mode": "lines+markers",
         "name": "20Y",
         "type": "scatter",
         "x": {
          "bdata": "AAAAAAAACMAAAAAAAAAEwAAAAAAAAADAAAAAAAAA+L8AAAAAAAD0vwAAAAAAAPC/AAAAAAAA6L8AAAAAAADgvwAAAAAAANC/mpmZmZmZyb+4HoXrUbi+v5qZmZmZmbm/mpmZmZmZqb8AAAAAAAAAAJqZmZmZmak/mpmZmZmZuT+4HoXrUbi+P5qZmZmZmck/AAAAAAAA0D8AAAAAAADgPwAAAAAAAOg/AAAAAAAA8D8AAAAAAAD0PwAAAAAAAPg/AAAAAAAAAEAAAAAAAAAEQAAAAAAAAAhA",
          "dtype": "f8"
         },
         "y": {
          "bdata": "mpmZmZkpVEApXI/C9dhTQNejcD0Kl1NAmpmZmZlpU0CuR+F6FF5TQArXo3A9WlNAj8L1KFxfU0CuR+F6FG5TQGZmZmZmhlNAXI/C9SiMU0BmZmZmZpZTQJqZmZmZmVNA4XoUrkehU0ApXI/C9ahTQOF6FK5HsVNAmpmZmZm5U0CuR+F6FL5TQFyPwvUozFNA9ihcj8LVU0Bcj8L1KAxUQFyPwvUoTFRAFK5H4XqUVEAUrkfheuRUQFyPwvUoPFVAPQrXo3D9VUAzMzMzM9NWQNejcD0Kt1dA",
          "dtype": "f8"
         }
        },
        {
         "mode": "lines+markers",
         "name": "25Y",
         "type": "scatter",
         "x": {
          "bdata": "AAAAAAAACMAAAAAAAAAEwAAAAAAAAADAAAAAAAAA+L8AAAAAAAD0vwAAAAAAAPC/AAAAAAAA6L8AAAAAAADgvwAAAAAAANC/mpmZmZmZyb+4HoXrUbi+v5qZmZmZmbm/mpmZmZmZqb8AAAAAAAAAAJqZmZmZmak/mpmZmZmZuT+4HoXrUbi+P5qZmZmZmck/AAAAAAAA0D8AAAAAAADgPwAAAAAAAOg/AAAAAAAA8D8AAAAAAAD0PwAAAAAAAPg/AAAAAAAAAEAAAAAAAAAEQAAAAAAAAAhA",
          "dtype": "f8"
         },
         "y": {
          "bdata": "cT0K16MgU0AK16NwPcpSQHE9CtejgFJA7FG4HoVLUkDsUbgehTtSQKRwPQrXM1JA9ihcj8I1UkDD9Shcj0JSQJqZmZmZWVJAj8L1KFxfUkApXI/C9WhSQM3MzMzMbFJApHA9CtdzUkDsUbgehXtSQKRwPQrXg1JAXI/C9SiMUkBxPQrXo5BSQB+F61G4nlJAKVyPwvWoUkBxPQrXo+BSQMP1KFyPIlNArkfhehRuU0BSuB6F68FTQD0K16NwHVRA16NwPQrnVECF61G4HsVVQFK4HoXrsVZA",
          "dtype": "f8"
         }
        },
        {
         "mode": "lines+markers",
         "name": "30Y",
         "type": "scatter",
         "x": {
          "bdata": "AAAAAAAACMAAAAAAAAAEwAAAAAAAAADAAAAAAAAA+L8AAAAAAAD0vwAAAAAAAPC/AAAAAAAA6L8AAAAAAADgvwAAAAAAANC/mpmZmZmZyb+4HoXrUbi+v5qZmZmZmbm/mpmZmZmZqb8AAAAAAAAAAJqZmZmZmak/mpmZmZmZuT+4HoXrUbi+P5qZmZmZmck/AAAAAAAA0D8AAAAAAADgPwAAAAAAAOg/AAAAAAAA8D8AAAAAAAD0PwAAAAAAAPg/AAAAAAAAAEAAAAAAAAAEQAAAAAAAAAhA",
          "dtype": "f8"
         },
         "y": {
          "bdata": "exSuR+F6UkDD9ShcjyJSQIXrUbge1VFAexSuR+GaUUC4HoXrUYhRQB+F61G4flFAH4XrUbh+UUCamZmZmYlRQAAAAAAAoFFAZmZmZmamUUAAAAAAALBRQDMzMzMzs1FAexSuR+G6UUDD9Shcj8JRQHsUrkfhylFApHA9CtfTUUC4HoXrUdhRQGZmZmZm5lFAcT0K16PwUUAK16NwPSpSQB+F61G4blJAPQrXo3C9UkAUrkfhehRTQKRwPQrXc1NA9ihcj8JFVEDsUbgehStVQI/C9ShcH1ZA",
          "dtype": "f8"
         }
        },
        {
         "mode": "lines+markers",
         "name": "40Y",
         "type": "scatter",
         "x": {
          "bdata": "AAAAAAAACMAAAAAAAAAEwAAAAAAAAADAAAAAAAAA+L8AAAAAAAD0vwAAAAAAAPC/AAAAAAAA6L8AAAAAAADgvwAAAAAAANC/mpmZmZmZyb+4HoXrUbi+v5qZmZmZmbm/mpmZmZmZqb8AAAAAAAAAAJqZmZmZmak/mpmZmZmZuT+4HoXrUbi+P5qZmZmZmck/AAAAAAAA0D8AAAAAAADgPwAAAAAAAOg/AAAAAAAA8D8AAAAAAAD0PwAAAAAAAPg/AAAAAAAAAEAAAAAAAAAEQAAAAAAAAAhA",
          "dtype": "f8"
         },
         "y": {
          "bdata": "AAAAAABQUUDNzMzMzPxQQOxRuB6Fq1BAKVyPwvVoUEDhehSuR1FQQMP1KFyPQlBArkfhehQ+UECF61G4HkVQQClcj8L1WFBAH4XrUbheUEC4HoXrUWhQQOxRuB6Fa1BAMzMzMzNzUEB7FK5H4XpQQDMzMzMzg1BAXI/C9SiMUEBxPQrXo5BQQI/C9Shcn1BACtejcD2qUEBmZmZmZuZQQI/C9ShcL1FAMzMzMzODUUDhehSuR+FRQLgehetRSFJACtejcD0qU0BxPQrXoyBUQBSuR+F6JFVA",
          "dtype": "f8"
         }
        },
        {
         "mode": "lines+markers",
         "name": "50Y",
         "type": "scatter",
         "x": {
          "bdata": "AAAAAAAACMAAAAAAAAAEwAAAAAAAAADAAAAAAAAA+L8AAAAAAAD0vwAAAAAAAPC/AAAAAAAA6L8AAAAAAADgvwAAAAAAANC/mpmZmZmZyb+4HoXrUbi+v5qZmZmZmbm/mpmZmZmZqb8AAAAAAAAAAJqZmZmZmak/mpmZmZmZuT+4HoXrUbi+P5qZmZmZmck/AAAAAAAA0D8AAAAAAADgPwAAAAAAAOg/AAAAAAAA8D8AAAAAAAD0PwAAAAAAAPg/AAAAAAAAAEAAAAAAAAAEQAAAAAAAAAhA",
          "dtype": "f8"
         },
         "y": {
          "bdata": "SOF6FK5nUEDsUbgehetPQAAAAAAAIE9Aw/UoXI+CTkCuR+F6FE5OQK5H4XoULk5AZmZmZmYmTkC4HoXrUThOQEjhehSuZ05A9ihcj8J1TkAK16NwPYpOQFK4HoXrkU5Aw/UoXI+iTkAUrkfherROQEjhehSux05AexSuR+HaTkCF61G4HuVOQGZmZmZmBk9APQrXo3AdT0AAAAAAAKBPQD0K16NwHVBA9ihcj8J1UEDXo3A9CtdQQAAAAAAAQFFApHA9CtcjUkApXI/C9RhTQClcj8L1GFRA",
          "dtype": "f8"
         }
        }
       ],
       "layout": {
        "autosize": true,
        "dragmode": false,
        "height": 450,
        "legend": {
         "title": {
          "text": "Expiry"
         }
        },
        "template": {
         "data": {
          "bar": [
           {
            "error_x": {
             "color": "#2a3f5f"
            },
            "error_y": {
             "color": "#2a3f5f"
            },
            "marker": {
             "line": {
              "color": "white",
              "width": 0.5
             },
             "pattern": {
              "fillmode": "overlay",
              "size": 10,
              "solidity": 0.2
             }
            },
            "type": "bar"
           }
          ],
          "barpolar": [
           {
            "marker": {
             "line": {
              "color": "white",
              "width": 0.5
             },
             "pattern": {
              "fillmode": "overlay",
              "size": 10,
              "solidity": 0.2
             }
            },
            "type": "barpolar"
           }
          ],
          "carpet": [
           {
            "aaxis": {
             "endlinecolor": "#2a3f5f",
             "gridcolor": "#C8D4E3",
             "linecolor": "#C8D4E3",
             "minorgridcolor": "#C8D4E3",
             "startlinecolor": "#2a3f5f"
            },
            "baxis": {
             "endlinecolor": "#2a3f5f",
             "gridcolor": "#C8D4E3",
             "linecolor": "#C8D4E3",
             "minorgridcolor": "#C8D4E3",
             "startlinecolor": "#2a3f5f"
            },
            "type": "carpet"
           }
          ],
          "choropleth": [
           {
            "colorbar": {
             "outlinewidth": 0,
             "ticks": ""
            },
            "type": "choropleth"
           }
          ],
          "contour": [
           {
            "colorbar": {
             "outlinewidth": 0,
             "ticks": ""
            },
            "colorscale": [
             [
              0.0,
              "#0d0887"
             ],
             [
              0.1111111111111111,
              "#46039f"
             ],
             [
              0.2222222222222222,
              "#7201a8"
             ],
             [
              0.3333333333333333,
              "#9c179e"
             ],
             [
              0.4444444444444444,
              "#bd3786"
             ],
             [
              0.5555555555555556,
              "#d8576b"
             ],
             [
              0.6666666666666666,
              "#ed7953"
             ],
             [
              0.7777777777777778,
              "#fb9f3a"
             ],
             [
              0.8888888888888888,
              "#fdca26"
             ],
             [
              1.0,
              "#f0f921"
             ]
            ],
            "type": "contour"
           }
          ],
          "contourcarpet": [
           {
            "colorbar": {
             "outlinewidth": 0,
             "ticks": ""
            },
            "type": "contourcarpet"
           }
          ],
          "heatmap": [
           {
            "colorbar": {
             "outlinewidth": 0,
             "ticks": ""
            },
            "colorscale": [
             [
              0.0,
              "#0d0887"
             ],
             [
              0.1111111111111111,
              "#46039f"
             ],
             [
              0.2222222222222222,
              "#7201a8"
             ],
             [
              0.3333333333333333,
              "#9c179e"
             ],
             [
              0.4444444444444444,
              "#bd3786"
             ],
             [
              0.5555555555555556,
              "#d8576b"
             ],
             [
              0.6666666666666666,
              "#ed7953"
             ],
             [
              0.7777777777777778,
              "#fb9f3a"
             ],
             [
              0.8888888888888888,
              "#fdca26"
             ],
             [
              1.0,
              "#f0f921"
             ]
            ],
            "type": "heatmap"
           }
          ],
          "histogram": [
           {
            "marker": {
             "pattern": {
              "fillmode": "overlay",
              "size": 10,
              "solidity": 0.2
             }
            },
            "type": "histogram"
           }
          ],
          "histogram2d": [
           {
            "colorbar": {
             "outlinewidth": 0,
             "ticks": ""
            },
            "colorscale": [
             [
              0.0,
              "#0d0887"
             ],
             [
              0.1111111111111111,
              "#46039f"
             ],
             [
              0.2222222222222222,
              "#7201a8"
             ],
             [
              0.3333333333333333,
              "#9c179e"
             ],
             [
              0.4444444444444444,
              "#bd3786"
             ],
             [
              0.5555555555555556,
              "#d8576b"
             ],
             [
              0.6666666666666666,
              "#ed7953"
             ],
             [
              0.7777777777777778,
              "#fb9f3a"
             ],
             [
              0.8888888888888888,
              "#fdca26"
             ],
             [
              1.0,
              "#f0f921"
             ]
            ],
            "type": "histogram2d"
           }
          ],
          "histogram2dcontour": [
           {
            "colorbar": {
             "outlinewidth": 0,
             "ticks": ""
            },
            "colorscale": [
             [
              0.0,
              "#0d0887"
             ],
             [
              0.1111111111111111,
              "#46039f"
             ],
             [
              0.2222222222222222,
              "#7201a8"
             ],
             [
              0.3333333333333333,
              "#9c179e"
             ],
             [
              0.4444444444444444,
              "#bd3786"
             ],
             [
              0.5555555555555556,
              "#d8576b"
             ],
             [
              0.6666666666666666,
              "#ed7953"
             ],
             [
              0.7777777777777778,
              "#fb9f3a"
             ],
             [
              0.8888888888888888,
              "#fdca26"
             ],
             [
              1.0,
              "#f0f921"
             ]
            ],
            "type": "histogram2dcontour"
           }
          ],
          "mesh3d": [
           {
            "colorbar": {
             "outlinewidth": 0,
             "ticks": ""
            },
            "type": "mesh3d"
           }
          ],
          "parcoords": [
           {
            "line": {
             "colorbar": {
              "outlinewidth": 0,
              "ticks": ""
             }
            },
            "type": "parcoords"
           }
          ],
          "pie": [
           {
            "automargin": true,
            "type": "pie"
           }
          ],
          "scatter": [
           {
            "fillpattern": {
             "fillmode": "overlay",
             "size": 10,
             "solidity": 0.2
            },
            "type": "scatter"
           }
          ],
          "scatter3d": [
           {
            "line": {
             "colorbar": {
              "outlinewidth": 0,
              "ticks": ""
             }
            },
            "marker": {
             "colorbar": {
              "outlinewidth": 0,
              "ticks": ""
             }
            },
            "type": "scatter3d"
           }
          ],
          "scattercarpet": [
           {
            "marker": {
             "colorbar": {
              "outlinewidth": 0,
              "ticks": ""
             }
            },
            "type": "scattercarpet"
           }
          ],
          "scattergeo": [
           {
            "marker": {
             "colorbar": {
              "outlinewidth": 0,
              "ticks": ""
             }
            },
            "type": "scattergeo"
           }
          ],
          "scattergl": [
           {
            "marker": {
             "colorbar": {
              "outlinewidth": 0,
              "ticks": ""
             }
            },
            "type": "scattergl"
           }
          ],
          "scattermap": [
           {
            "marker": {
             "colorbar": {
              "outlinewidth": 0,
              "ticks": ""
             }
            },
            "type": "scattermap"
           }
          ],
          "scattermapbox": [
           {
            "marker": {
             "colorbar": {
              "outlinewidth": 0,
              "ticks": ""
             }
            },
            "type": "scattermapbox"
           }
          ],
          "scatterpolar": [
           {
            "marker": {
             "colorbar": {
              "outlinewidth": 0,
              "ticks": ""
             }
            },
            "type": "scatterpolar"
           }
          ],
          "scatterpolargl": [
           {
            "marker": {
             "colorbar": {
              "outlinewidth": 0,
              "ticks": ""
             }
            },
            "type": "scatterpolargl"
           }
          ],
          "scatterternary": [
           {
            "marker": {
             "colorbar": {
              "outlinewidth": 0,
              "ticks": ""
             }
            },
            "type": "scatterternary"
           }
          ],
          "surface": [
           {
            "colorbar": {
             "outlinewidth": 0,
             "ticks": ""
            },
            "colorscale": [
             [
              0.0,
              "#0d0887"
             ],
             [
              0.1111111111111111,
              "#46039f"
             ],
             [
              0.2222222222222222,
              "#7201a8"
             ],
             [
              0.3333333333333333,
              "#9c179e"
             ],
             [
              0.4444444444444444,
              "#bd3786"
             ],
             [
              0.5555555555555556,
              "#d8576b"
             ],
             [
              0.6666666666666666,
              "#ed7953"
             ],
             [
              0.7777777777777778,
              "#fb9f3a"
             ],
             [
              0.8888888888888888,
              "#fdca26"
             ],
             [
              1.0,
              "#f0f921"
             ]
            ],
            "type": "surface"
           }
          ],
          "table": [
           {
            "cells": {
             "fill": {
              "color": "#EBF0F8"
             },
             "line": {
              "color": "white"
             }
            },
            "header": {
             "fill": {
              "color": "#C8D4E3"
             },
             "line": {
              "color": "white"
             }
            },
            "type": "table"
           }
          ]
         },
         "layout": {
          "annotationdefaults": {
           "arrowcolor": "#2a3f5f",
           "arrowhead": 0,
           "arrowwidth": 1
          },
          "autotypenumbers": "strict",
          "coloraxis": {
           "colorbar": {
            "outlinewidth": 0,
            "ticks": ""
           }
          },
          "colorscale": {
           "diverging": [
            [
             0,
             "#8e0152"
            ],
            [
             0.1,
             "#c51b7d"
            ],
            [
             0.2,
             "#de77ae"
            ],
            [
             0.3,
             "#f1b6da"
            ],
            [
             0.4,
             "#fde0ef"
            ],
            [
             0.5,
             "#f7f7f7"
            ],
            [
             0.6,
             "#e6f5d0"
            ],
            [
             0.7,
             "#b8e186"
            ],
            [
             0.8,
             "#7fbc41"
            ],
            [
             0.9,
             "#4d9221"
            ],
            [
             1,
             "#276419"
            ]
           ],
           "sequential": [
            [
             0.0,
             "#0d0887"
            ],
            [
             0.1111111111111111,
             "#46039f"
            ],
            [
             0.2222222222222222,
             "#7201a8"
            ],
            [
             0.3333333333333333,
             "#9c179e"
            ],
            [
             0.4444444444444444,
             "#bd3786"
            ],
            [
             0.5555555555555556,
             "#d8576b"
            ],
            [
             0.6666666666666666,
             "#ed7953"
            ],
            [
             0.7777777777777778,
             "#fb9f3a"
            ],
            [
             0.8888888888888888,
             "#fdca26"
            ],
            [
             1.0,
             "#f0f921"
            ]
           ],
           "sequentialminus": [
            [
             0.0,
             "#0d0887"
            ],
            [
             0.1111111111111111,
             "#46039f"
            ],
            [
             0.2222222222222222,
             "#7201a8"
            ],
            [
             0.3333333333333333,
             "#9c179e"
            ],
            [
             0.4444444444444444,
             "#bd3786"
            ],
            [
             0.5555555555555556,
             "#d8576b"
            ],
            [
             0.6666666666666666,
             "#ed7953"
            ],
            [
             0.7777777777777778,
             "#fb9f3a"
            ],
            [
             0.8888888888888888,
             "#fdca26"
            ],
            [
             1.0,
             "#f0f921"
            ]
           ]
          },
          "colorway": [
           "#636efa",
           "#EF553B",
           "#00cc96",
           "#ab63fa",
           "#FFA15A",
           "#19d3f3",
           "#FF6692",
           "#B6E880",
           "#FF97FF",
           "#FECB52"
          ],
          "font": {
           "color": "#2a3f5f"
          },
          "geo": {
           "bgcolor": "white",
           "lakecolor": "white",
           "landcolor": "white",
           "showlakes": true,
           "showland": true,
           "subunitcolor": "#C8D4E3"
          },
          "hoverlabel": {
           "align": "left"
          },
          "hovermode": "closest",
          "mapbox": {
           "style": "light"
          },
          "paper_bgcolor": "white",
          "plot_bgcolor": "white",
          "polar": {
           "angularaxis": {
            "gridcolor": "#EBF0F8",
            "linecolor": "#EBF0F8",
            "ticks": ""
           },
           "bgcolor": "white",
           "radialaxis": {
            "gridcolor": "#EBF0F8",
            "linecolor": "#EBF0F8",
            "ticks": ""
           }
          },
          "scene": {
           "xaxis": {
            "backgroundcolor": "white",
            "gridcolor": "#DFE8F3",
            "gridwidth": 2,
            "linecolor": "#EBF0F8",
            "showbackground": true,
            "ticks": "",
            "zerolinecolor": "#EBF0F8"
           },
           "yaxis": {
            "backgroundcolor": "white",
            "gridcolor": "#DFE8F3",
            "gridwidth": 2,
            "linecolor": "#EBF0F8",
            "showbackground": true,
            "ticks": "",
            "zerolinecolor": "#EBF0F8"
           },
           "zaxis": {
            "backgroundcolor": "white",
            "gridcolor": "#DFE8F3",
            "gridwidth": 2,
            "linecolor": "#EBF0F8",
            "showbackground": true,
            "ticks": "",
            "zerolinecolor": "#EBF0F8"
           }
          },
          "shapedefaults": {
           "line": {
            "color": "#2a3f5f"
           }
          },
          "ternary": {
           "aaxis": {
            "gridcolor": "#DFE8F3",
            "linecolor": "#A2B1C6",
            "ticks": ""
           },
           "baxis": {
            "gridcolor": "#DFE8F3",
            "linecolor": "#A2B1C6",
            "ticks": ""
           },
           "bgcolor": "white",
           "caxis": {
            "gridcolor": "#DFE8F3",
            "linecolor": "#A2B1C6",
            "ticks": ""
           }
          },
          "title": {
           "x": 0.05
          },
          "xaxis": {
           "automargin": true,
           "gridcolor": "#EBF0F8",
           "linecolor": "#EBF0F8",
           "ticks": "",
           "title": {
            "standoff": 15
           },
           "zerolinecolor": "#EBF0F8",
           "zerolinewidth": 2
          },
          "yaxis": {
           "automargin": true,
           "gridcolor": "#EBF0F8",
           "linecolor": "#EBF0F8",
           "ticks": "",
           "title": {
            "standoff": 15
           },
           "zerolinecolor": "#EBF0F8",
           "zerolinewidth": 2
          }
         }
        },
        "title": {
         "font": {
          "size": 16
         },
         "text": "Surface Smile by Expiry",
         "x": 0.5,
         "xanchor": "center",
         "y": 0.95,
         "yanchor": "top"
        },
        "width": 800,
        "xaxis": {
         "title": {
          "text": "Relative Strike (%)"
         }
        },
        "yaxis": {
         "title": {
          "text": "Volatility"
         }
        }
       }
      }
     },
     "metadata": {},
     "output_type": "display_data"
    }
   ],
   "source": [
    "plot_surface_smile_by_expiry(surface_df, x_axis, y_axis)"
   ]
  },
  {
   "cell_type": "markdown",
   "id": "7da5a28b",
   "metadata": {},
   "source": [
    "## Save and Export"
   ]
  },
  {
   "cell_type": "markdown",
   "id": "d2e1e554",
   "metadata": {},
   "source": [
    "After generating volatility surface data and visualizations, you can export the results for further analysis, reporting, or integration with other systems:\n",
    "\n",
    "**Export Options:**\n",
    "- **Excel Format** - Save the structured DataFrame for spreadsheet analysis and sharing\n",
    "- **JSON Format** - Export the complete API response for integration with other applications"
   ]
  },
  {
   "cell_type": "code",
   "execution_count": 9,
   "id": "e85a8da3",
   "metadata": {
    "execution": {
     "iopub.execute_input": "2025-09-18T09:01:30.564093Z",
     "iopub.status.busy": "2025-09-18T09:01:30.563390Z",
     "iopub.status.idle": "2025-09-18T09:01:30.805926Z",
     "shell.execute_reply": "2025-09-18T09:01:30.805292Z"
    },
    "tags": []
   },
   "outputs": [
    {
     "name": "stdout",
     "output_type": "stream",
     "text": [
      "Files saved: volatility_surface_20250918_090130.xlsx, response_20250918_090130.json\n"
     ]
    }
   ],
   "source": [
    "# Create filenames with timestamp\n",
    "timestamp = dt.datetime.now().strftime(\"%Y%m%d_%H%M%S\")\n",
    "excel_filename = f\"volatility_surface_{timestamp}.xlsx\"\n",
    "json_filename = f\"response_{timestamp}.json\"\n",
    "\n",
    "# Save DataFrame to Excel\n",
    "surface_df.to_excel(excel_filename, index=False)\n",
    "\n",
    "# Save response to JSON\n",
    "with open(json_filename, 'w') as f:\n",
    "    json.dump(dict(response), f, indent=2, default=str)\n",
    "\n",
    "print(f\"Files saved: {excel_filename}, {json_filename}\")"
   ]
  },
  {
   "cell_type": "markdown",
   "id": "9a6b301e-e561-4ef6-b7e0-31d0c3c791ff",
   "metadata": {},
   "source": [
    "## Appendix: Complete Function Reference"
   ]
  },
  {
   "cell_type": "markdown",
   "id": "2ff77ad3-3429-4b8e-8f82-b38bbb2e6c93",
   "metadata": {},
   "source": [
    "### Available Classes and Functions in irswaption_volatility Module\n",
    "\n",
    "The following is a complete list of all classes, enums, and functions available after importing from `lseg_analytics.market_data.irswaption_volatility`:\n",
    "\n",
    "**Core Classes:**\n",
    "- `VolatilityCubeDefinition` - Define underlying swaption instrument specifications (currency, index, tenor)\n",
    "- `VolatilityCubeSurfaceParameters` - Configure calculation date and surface axis parameters\n",
    "- `VolatilityCubeSurfaceRequestItem` - Main request object for swaption volatility cube calculation\n",
    "- `SurfaceOutput` - Output configuration and formatting options\n",
    "\n",
    "**Response Classes:**\n",
    "- `VolatilitySurfaceResponse` - Main response container for volatility surface data\n",
    "- `VolatilitySurfaceResponseItem` - Individual surface response item\n",
    "- `VolatilitySurfacePoint` - Individual volatility data point with coordinates and values\n",
    "\n",
    "**Surface Configuration Enums:**\n",
    "- `FormatEnum` - Output format options (LIST, MATRIX, NDIMENSIONAL_ARRAY)\n",
    "- `XAxisEnum` - X-axis configuration for surface layout\n",
    "- `YAxisEnum` - Y-axis configuration for surface layout  \n",
    "- `ZAxisEnum` - Z-axis configuration for 3D cube representation\n",
    "\n",
    "**Market Data Enums:**\n",
    "- `CurvesAndSurfacesCalibrationTypeEnum` - Calibration method specification (ALTERNATE_CONJUGATE_GRADIENT, CONJUGATE_GRADIENT, POWELL, SIMPLEX_NELDER_MEAD)\n",
    "- `CurvesAndSurfacesPriceSideEnum` - Price side selection (BID, ASK, MID, LAST)\n",
    "- `CurvesAndSurfacesStrikeTypeEnum` - Strike type configuration (ABSOLUTE_PERCENT, RELATIVE_PERCENT)\n",
    "- `CurvesAndSurfacesTimeStampEnum` - Time stamp options for market data (CLOSE, DEFAULT, OPEN, SETTLE)\n",
    "- `CurvesAndSurfacesUnderlyingTypeEnum` - Underlying type specification (SWAPTION, also available but not used: FX, ETI and CAP)\n",
    "- `DiscountingTypeEnum` - Discounting method (LIBOR_DISCOUNTING , OIS_DISCOUNTING)\n",
    "\n",
    "**Volatility Configuration Enums:**\n",
    "- `InputVolatilityTypeEnum` - Input volatility type specification (IMPLIED, LOG_NORMAL_VOLATILITY, NORMAL_VOLATILITY, QUOTED, SETTLE)\n",
    "- `OutputVolatilityTypeEnum` - Output volatility type configuration (LOG_NORMAL_VOLATILITY, NORMAL_VOLATILITY)\n",
    "- `VolatilityAdjustmentTypeEnum` - Volatility adjustment method options (CONSTANT_CAP, NORMALIZED_CAP, etc.)\n",
    "\n",
    "**Main Functions:**\n",
    "- `calculate(universe)` - Execute swaption volatility surface/cube calculations\n",
    "- `functions_all()` - List all available functions in the module"
   ]
  }
 ],
 "metadata": {
  "kernelspec": {
   "display_name": "jupyterlab-ext",
   "language": "python",
   "name": "python3"
  },
  "language_info": {
   "codemirror_mode": {
    "name": "ipython",
    "version": 3
   },
   "file_extension": ".py",
   "mimetype": "text/x-python",
   "name": "python",
   "nbconvert_exporter": "python",
   "pygments_lexer": "ipython3",
   "version": "3.11.6"
  }
 },
 "nbformat": 4,
 "nbformat_minor": 5
}
