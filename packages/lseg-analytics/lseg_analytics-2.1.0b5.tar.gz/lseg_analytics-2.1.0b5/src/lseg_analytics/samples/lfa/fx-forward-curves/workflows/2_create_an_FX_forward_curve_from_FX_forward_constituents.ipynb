{
 "cells": [
  {
   "cell_type": "markdown",
   "metadata": {},
   "source": [
    "# Create an FX Forward curve using FX Forward constituents\n",
    "\n",
    "This notebook explains how to create and save a user defined FX Forward curve defined from Fx Forward constituents. This method creates the curve by defining its definition. "
   ]
  },
  {
   "cell_type": "markdown",
   "metadata": {},
   "source": [
    "## Start by importing the required libraries"
   ]
  },
  {
   "cell_type": "code",
   "execution_count": 1,
   "metadata": {
    "execution": {
     "iopub.execute_input": "2025-09-18T09:07:18.737323Z",
     "iopub.status.busy": "2025-09-18T09:07:18.736924Z",
     "iopub.status.idle": "2025-09-18T09:07:19.142573Z",
     "shell.execute_reply": "2025-09-18T09:07:19.142057Z"
    }
   },
   "outputs": [],
   "source": [
    "from lseg_analytics.market_data import fx_forward_curves\n",
    "from lseg_analytics.market_data.fx_forward_curves import *\n",
    "from lseg_analytics.common import Quote, QuoteDefinition"
   ]
  },
  {
   "cell_type": "markdown",
   "metadata": {},
   "source": [
    "## Build the curve definition by defining its currencies and constituents\n",
    "Provide the cross_currency and optionally add the reference_currency and constituents. Example below used FXSpot and FXForward constituents.\n",
    "In exemple below, the base currency is 'EUR', the quoted curency is 'GBP' and referency currency is 'USD'. That means that 'ERUSD' and 'USDGBP' FX spots and FX Forwards must be provided."
   ]
  },
  {
   "cell_type": "code",
   "execution_count": 2,
   "metadata": {
    "execution": {
     "iopub.execute_input": "2025-09-18T09:07:19.146875Z",
     "iopub.status.busy": "2025-09-18T09:07:19.145104Z",
     "iopub.status.idle": "2025-09-18T09:07:19.153870Z",
     "shell.execute_reply": "2025-09-18T09:07:19.153382Z"
    }
   },
   "outputs": [],
   "source": [
    "# Build a new curve by defining its currencies and constituents\n",
    "curve_definition = fx_forward_curves.FxForwardCurveDefinition(\n",
    "    cross_currency=\"EURGBP\",\n",
    "    reference_currency=\"USD\",\n",
    "    constituents=[\n",
    "        # As USD reference currency is used, EURUSD and GBPUSD fx constituents are required\n",
    "        FxSpotConstituent(\n",
    "            quote=Quote(definition=QuoteDefinition(instrument_code=\"EUR=\")),\n",
    "            definition=FxSpotConstituentDefinition(template=\"EURUSD\"),\n",
    "        ),\n",
    "        FxSpotConstituent(\n",
    "            quote=Quote(definition=QuoteDefinition(instrument_code=\"GBP=\")),\n",
    "            definition=FxSpotConstituentDefinition(template=\"GBPUSD\"),\n",
    "        ),\n",
    "        FxForwardConstituent(\n",
    "            quote=Quote(definition=QuoteDefinition(instrument_code=\"EUR3M=\")),\n",
    "            definition=FxForwardConstituentDefinition(template=\"EURUSD\", tenor=\"3M\"),\n",
    "        ),\n",
    "        FxForwardConstituent(\n",
    "            quote=Quote(definition=QuoteDefinition(instrument_code=\"GBP3M=\")),\n",
    "            definition=FxForwardConstituentDefinition(template=\"GBPUSD\", tenor=\"3M\"),\n",
    "        ),\n",
    "        FxForwardConstituent(\n",
    "            quote=Quote(definition=QuoteDefinition(instrument_code=\"EUR6M=\")),\n",
    "            definition=FxForwardConstituentDefinition(template=\"EURUSD\", tenor=\"6M\"),\n",
    "        ),\n",
    "        FxForwardConstituent(\n",
    "            quote=Quote(definition=QuoteDefinition(instrument_code=\"GBP6M=\")),\n",
    "            definition=FxForwardConstituentDefinition(template=\"GBPUSD\", tenor=\"6M\"),\n",
    "        ),\n",
    "    ],\n",
    ")"
   ]
  },
  {
   "cell_type": "markdown",
   "metadata": {},
   "source": [
    "## Create the curve using the definition and save it to your personal space"
   ]
  },
  {
   "cell_type": "code",
   "execution_count": 3,
   "metadata": {
    "execution": {
     "iopub.execute_input": "2025-09-18T09:07:19.155685Z",
     "iopub.status.busy": "2025-09-18T09:07:19.155534Z",
     "iopub.status.idle": "2025-09-18T09:07:19.629286Z",
     "shell.execute_reply": "2025-09-18T09:07:19.628594Z"
    }
   },
   "outputs": [
    {
     "name": "stdout",
     "output_type": "stream",
     "text": [
      "<FxForwardCurve space='HOME' name='EURGBP_FxForward_curve' 24d49d8c‥>\n"
     ]
    }
   ],
   "source": [
    "my_eurgbp_curve = fx_forward_curves.FxForwardCurve(definition=curve_definition)\n",
    "my_eurgbp_curve.description.summary = \"My EURGBP FxForward curve\"\n",
    "  \n",
    "# Save the curve in the user storage space\n",
    "my_eurgbp_curve.save(space=\"HOME\", name=\"EURGBP_FxForward_curve\")\n",
    "\n",
    "# Print the curve to confirm its creation\n",
    "print(my_eurgbp_curve)"
   ]
  },
  {
   "cell_type": "markdown",
   "metadata": {},
   "source": [
    "## If you want to clean up your space you can delete the curve"
   ]
  },
  {
   "cell_type": "code",
   "execution_count": 4,
   "metadata": {
    "execution": {
     "iopub.execute_input": "2025-09-18T09:07:19.631793Z",
     "iopub.status.busy": "2025-09-18T09:07:19.631305Z",
     "iopub.status.idle": "2025-09-18T09:07:19.940580Z",
     "shell.execute_reply": "2025-09-18T09:07:19.939932Z"
    }
   },
   "outputs": [
    {
     "data": {
      "text/plain": [
       "True"
      ]
     },
     "execution_count": 4,
     "metadata": {},
     "output_type": "execute_result"
    }
   ],
   "source": [
    "fx_forward_curves.delete(space=\"HOME\", name=\"EURGBP_FxForward_curve\")"
   ]
  }
 ],
 "metadata": {
  "kernelspec": {
   "display_name": ".venv",
   "language": "python",
   "name": "python3"
  },
  "language_info": {
   "codemirror_mode": {
    "name": "ipython",
    "version": 3
   },
   "file_extension": ".py",
   "mimetype": "text/x-python",
   "name": "python",
   "nbconvert_exporter": "python",
   "pygments_lexer": "ipython3",
   "version": "3.11.6"
  }
 },
 "nbformat": 4,
 "nbformat_minor": 2
}
