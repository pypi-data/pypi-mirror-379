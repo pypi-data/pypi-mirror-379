{
 "cells": [
  {
   "cell_type": "markdown",
   "id": "1a108871",
   "metadata": {
    "tags": [
     "ide-samples-ignore"
    ]
   },
   "source": [
    "# Equity Options Fundamentals"
   ]
  },
  {
   "cell_type": "markdown",
   "id": "3a4cef20",
   "metadata": {},
   "source": [
    "This notebook demonstrates how to access and use the functinalities of **Equity Options** which are part of our **QPS** module within LSEG Financial Analytics SDK."
   ]
  },
  {
   "cell_type": "markdown",
   "id": "7cd0ad84",
   "metadata": {},
   "source": [
    "## Imports"
   ]
  },
  {
   "cell_type": "markdown",
   "id": "37a963b7",
   "metadata": {},
   "source": [
    "Import the following necessary modules:"
   ]
  },
  {
   "cell_type": "code",
   "execution_count": 1,
   "id": "fb2218f1",
   "metadata": {
    "execution": {
     "iopub.execute_input": "2025-09-18T09:01:38.640302Z",
     "iopub.status.busy": "2025-09-18T09:01:38.639967Z",
     "iopub.status.idle": "2025-09-18T09:01:39.495411Z",
     "shell.execute_reply": "2025-09-18T09:01:39.494848Z"
    }
   },
   "outputs": [],
   "source": [
    "from lseg_analytics.instruments.options import (\n",
    "    value,\n",
    "    OptionDefinition,\n",
    "    OptionDefinitionInstrument,\n",
    "    OptionPricingParameters,\n",
    "    UnderlyingDefinition,\n",
    "    ExerciseDefinition,\n",
    "    ScheduleDefinition,\n",
    ")\n",
    "\n",
    "from lseg_analytics.common import AdjustableDate\n",
    "from datetime import date\n",
    "import pandas as pd\n",
    "import json as js\n"
   ]
  },
  {
   "cell_type": "markdown",
   "id": "d98be82a",
   "metadata": {},
   "source": [
    "## Creating an Equity Option Definition"
   ]
  },
  {
   "cell_type": "code",
   "execution_count": 2,
   "id": "9dccf35e",
   "metadata": {
    "execution": {
     "iopub.execute_input": "2025-09-18T09:01:39.499665Z",
     "iopub.status.busy": "2025-09-18T09:01:39.497882Z",
     "iopub.status.idle": "2025-09-18T09:01:39.509799Z",
     "shell.execute_reply": "2025-09-18T09:01:39.509327Z"
    },
    "tags": [
     "value.static"
    ]
   },
   "outputs": [
    {
     "name": "stdout",
     "output_type": "stream",
     "text": [
      "{\n",
      "    \"underlying\": {\n",
      "        \"code\": \"AAPL.O\",\n",
      "        \"underlyingType\": \"Equity\"\n",
      "    },\n",
      "    \"exercise\": {\n",
      "        \"strike\": 150,\n",
      "        \"exerciseStyle\": \"European\",\n",
      "        \"schedule\": {\n",
      "            \"endDate\": {\n",
      "                \"dateType\": \"AdjustableDate\",\n",
      "                \"date\": \"2025-09-13\"\n",
      "            }\n",
      "        }\n",
      "    },\n",
      "    \"optionType\": \"Call\"\n",
      "}\n"
     ]
    }
   ],
   "source": [
    "definition = OptionDefinition(\n",
    "    underlying = UnderlyingDefinition(\n",
    "        code=\"AAPL.O\",\n",
    "        underlying_type=\"Equity\"\n",
    "    ),\n",
    "    exercise = ExerciseDefinition(\n",
    "        strike=150,\n",
    "        exercise_style=\"European\",\n",
    "        schedule = ScheduleDefinition(\n",
    "            end_date = AdjustableDate(\n",
    "                date = date(2025, 9, 13)\n",
    "            )\n",
    "        )\n",
    "    ),\n",
    "    option_type=\"Call\"\n",
    ")\n",
    "\n",
    "print(js.dumps(definition.as_dict(), indent=4))"
   ]
  },
  {
   "cell_type": "markdown",
   "id": "e95db07d",
   "metadata": {},
   "source": [
    "## Creating an Equity Option Definition Instrument"
   ]
  },
  {
   "cell_type": "code",
   "execution_count": 3,
   "id": "a9fd4f29",
   "metadata": {
    "execution": {
     "iopub.execute_input": "2025-09-18T09:01:39.511767Z",
     "iopub.status.busy": "2025-09-18T09:01:39.511484Z",
     "iopub.status.idle": "2025-09-18T09:01:39.514871Z",
     "shell.execute_reply": "2025-09-18T09:01:39.514436Z"
    },
    "tags": [
     "value.static"
    ]
   },
   "outputs": [
    {
     "name": "stdout",
     "output_type": "stream",
     "text": [
      "{\n",
      "    \"definition\": {\n",
      "        \"underlying\": {\n",
      "            \"code\": \"AAPL.O\",\n",
      "            \"underlyingType\": \"Equity\"\n",
      "        },\n",
      "        \"exercise\": {\n",
      "            \"strike\": 150,\n",
      "            \"exerciseStyle\": \"European\",\n",
      "            \"schedule\": {\n",
      "                \"endDate\": {\n",
      "                    \"dateType\": \"AdjustableDate\",\n",
      "                    \"date\": \"2025-09-13\"\n",
      "                }\n",
      "            }\n",
      "        },\n",
      "        \"optionType\": \"Call\"\n",
      "    }\n",
      "}\n"
     ]
    }
   ],
   "source": [
    "definition_instrument = OptionDefinitionInstrument(\n",
    "    definition=definition\n",
    ")\n",
    "\n",
    "print(js.dumps(definition_instrument.as_dict(), indent=4))\n"
   ]
  },
  {
   "cell_type": "markdown",
   "id": "58391bba",
   "metadata": {},
   "source": [
    "## Creating an Equity Option Pricing Parameters"
   ]
  },
  {
   "cell_type": "code",
   "execution_count": 4,
   "id": "dd801193",
   "metadata": {
    "execution": {
     "iopub.execute_input": "2025-09-18T09:01:39.516926Z",
     "iopub.status.busy": "2025-09-18T09:01:39.516685Z",
     "iopub.status.idle": "2025-09-18T09:01:39.521781Z",
     "shell.execute_reply": "2025-09-18T09:01:39.521308Z"
    },
    "tags": [
     "value.static"
    ]
   },
   "outputs": [
    {
     "name": "stdout",
     "output_type": "stream",
     "text": [
      "{\n",
      "    \"pricingModel\": \"BlackScholes\",\n",
      "    \"underlyingPriceSide\": \"Mid\",\n",
      "    \"optionPriceSide\": \"Mid\",\n",
      "    \"valuationDate\": \"2024-12-31\"\n",
      "}\n"
     ]
    }
   ],
   "source": [
    "pricing_parameters=OptionPricingParameters(\n",
    "    pricing_model=\"BlackScholes\",\n",
    "    underlying_price_side=\"Mid\",\n",
    "    option_price_side=\"Mid\",\n",
    "    valuation_date=date(2024, 12, 31)\n",
    ")\n",
    "\n",
    "print(js.dumps(pricing_parameters.as_dict(), indent=4))\n"
   ]
  },
  {
   "cell_type": "markdown",
   "id": "e9bb3b77",
   "metadata": {},
   "source": [
    "## Valuing an Equity Option"
   ]
  },
  {
   "cell_type": "code",
   "execution_count": 5,
   "id": "9daad5ca",
   "metadata": {
    "execution": {
     "iopub.execute_input": "2025-09-18T09:01:39.523689Z",
     "iopub.status.busy": "2025-09-18T09:01:39.523437Z",
     "iopub.status.idle": "2025-09-18T09:03:43.404364Z",
     "shell.execute_reply": "2025-09-18T09:03:43.403654Z"
    },
    "tags": [
     "value.static"
    ]
   },
   "outputs": [
    {
     "name": "stdout",
     "output_type": "stream",
     "text": [
      "{\n",
      "    \"definitions\": [\n",
      "        {\n",
      "            \"definition\": {\n",
      "                \"underlying\": {\n",
      "                    \"underlyingType\": \"Equity\",\n",
      "                    \"code\": \"AAPL.O\"\n",
      "                },\n",
      "                \"exercise\": {\n",
      "                    \"strike\": 150.0,\n",
      "                    \"schedule\": {\n",
      "                        \"endDate\": {\n",
      "                            \"dateType\": \"AdjustableDate\",\n",
      "                            \"date\": \"2025-09-13\"\n",
      "                        }\n",
      "                    },\n",
      "                    \"exerciseStyle\": \"European\"\n",
      "                },\n",
      "                \"optionType\": \"Call\"\n",
      "            }\n",
      "        }\n",
      "    ],\n",
      "    \"pricingPreferences\": {\n",
      "        \"pricingModel\": \"BlackScholes\",\n",
      "        \"underlyingPriceSide\": \"Mid\",\n",
      "        \"optionPriceSide\": \"Mid\",\n",
      "        \"valuationDate\": \"2024-12-31\"\n",
      "    },\n",
      "    \"analytics\": [\n",
      "        {\n",
      "            \"description\": {\n",
      "                \"instrumentCode\": \"\",\n",
      "                \"underlyingRic\": \"AAPL.O\",\n",
      "                \"instrumentDescription\": \"Cash_EURO_AAPL.O\"\n",
      "            },\n",
      "            \"valuation\": {\n",
      "                \"volatility\": {\n",
      "                    \"value\": 37.7696072740024,\n",
      "                    \"unit\": \"Percentage\"\n",
      "                },\n",
      "                \"marketValue\": {\n",
      "                    \"value\": 102.475596197359,\n",
      "                    \"dealCurrency\": {\n",
      "                        \"value\": 102.475596197359,\n",
      "                        \"currency\": \"USD\"\n",
      "                    }\n",
      "                },\n",
      "                \"totalMarketValue\": {\n",
      "                    \"value\": 10247.5596197359,\n",
      "                    \"dealCurrency\": {\n",
      "                        \"value\": 10247.5596197359,\n",
      "                        \"currency\": \"USD\"\n",
      "                    }\n",
      "                },\n",
      "                \"intrinsicValue\": {\n",
      "                    \"value\": 100.41,\n",
      "                    \"dealCurrency\": {\n",
      "                        \"value\": 100.41,\n",
      "                        \"currency\": \"USD\"\n",
      "                    }\n",
      "                },\n",
      "                \"timeValue\": {\n",
      "                    \"value\": 2.06559619735947,\n",
      "                    \"dealCurrency\": {\n",
      "                        \"value\": 2.06559619735947,\n",
      "                        \"currency\": \"USD\"\n",
      "                    }\n",
      "                },\n",
      "                \"premiumOverCash\": {\n",
      "                    \"value\": 0.00824885666450808,\n",
      "                    \"percent\": 0.824885666450808,\n",
      "                    \"dealCurrency\": {\n",
      "                        \"value\": 2.06559619735947,\n",
      "                        \"currency\": \"USD\"\n",
      "                    }\n",
      "                },\n",
      "                \"moneyness\": {\n",
      "                    \"value\": 166.94,\n",
      "                    \"unit\": \"Percentage\"\n",
      "                },\n",
      "                \"annualizedYield\": {\n",
      "                    \"value\": 0.0117153022667138,\n",
      "                    \"unit\": \"Absolute\"\n",
      "                }\n",
      "            },\n",
      "            \"risk\": {\n",
      "                \"hedgeRatio\": -1.0497730772505,\n",
      "                \"leverage\": 2.32774704488515,\n",
      "                \"delta\": {\n",
      "                    \"value\": 0.952586822496096,\n",
      "                    \"percent\": 95.2586822496096,\n",
      "                    \"dealCurrency\": {\n",
      "                        \"value\": 95.2586822496096,\n",
      "                        \"currency\": \"USD\"\n",
      "                    }\n",
      "                },\n",
      "                \"gamma\": {\n",
      "                    \"value\": 0.000936940308187526,\n",
      "                    \"percent\": 0.0936940308187526,\n",
      "                    \"dealCurrency\": {\n",
      "                        \"value\": 0.0936940308187526,\n",
      "                        \"currency\": \"USD\"\n",
      "                    }\n",
      "                },\n",
      "                \"rho\": {\n",
      "                    \"value\": 0.956625371777541,\n",
      "                    \"percent\": 95.6625371777541,\n",
      "                    \"dealCurrency\": {\n",
      "                        \"value\": 95.6625371777541,\n",
      "                        \"currency\": \"USD\"\n",
      "                    }\n",
      "                },\n",
      "                \"theta\": {\n",
      "                    \"value\": -0.0141399555383412,\n",
      "                    \"percent\": -1.41399555383412,\n",
      "                    \"dealCurrency\": {\n",
      "                        \"value\": -1.41399555383412,\n",
      "                        \"currency\": \"USD\"\n",
      "                    }\n",
      "                },\n",
      "                \"vega\": {\n",
      "                    \"value\": 0.156014091557627,\n",
      "                    \"percent\": 15.601409155762699,\n",
      "                    \"dealCurrency\": {\n",
      "                        \"value\": 15.6014091557627,\n",
      "                        \"currency\": \"USD\"\n",
      "                    }\n",
      "                }\n",
      "            }\n",
      "        }\n",
      "    ]\n",
      "}\n"
     ]
    }
   ],
   "source": [
    "response = value(\n",
    "    definitions=[definition_instrument],\n",
    "    pricing_preferences=pricing_parameters\n",
    ")\n",
    "\n",
    "print(js.dumps(response.as_dict(), indent=4))\n"
   ]
  },
  {
   "cell_type": "markdown",
   "id": "9d67382a",
   "metadata": {},
   "source": [
    "## Displaying results"
   ]
  },
  {
   "cell_type": "code",
   "execution_count": 6,
   "id": "650d2f2c",
   "metadata": {
    "execution": {
     "iopub.execute_input": "2025-09-18T09:03:43.407324Z",
     "iopub.status.busy": "2025-09-18T09:03:43.406905Z",
     "iopub.status.idle": "2025-09-18T09:03:43.426724Z",
     "shell.execute_reply": "2025-09-18T09:03:43.425893Z"
    }
   },
   "outputs": [
    {
     "data": {
      "text/html": [
       "<div>\n",
       "<style scoped>\n",
       "    .dataframe tbody tr th:only-of-type {\n",
       "        vertical-align: middle;\n",
       "    }\n",
       "\n",
       "    .dataframe tbody tr th {\n",
       "        vertical-align: top;\n",
       "    }\n",
       "\n",
       "    .dataframe thead th {\n",
       "        text-align: right;\n",
       "    }\n",
       "</style>\n",
       "<table border=\"1\" class=\"dataframe\">\n",
       "  <thead>\n",
       "    <tr style=\"text-align: right;\">\n",
       "      <th></th>\n",
       "      <th>value</th>\n",
       "      <th>unit</th>\n",
       "      <th>percent</th>\n",
       "    </tr>\n",
       "    <tr>\n",
       "      <th>metric</th>\n",
       "      <th></th>\n",
       "      <th></th>\n",
       "      <th></th>\n",
       "    </tr>\n",
       "  </thead>\n",
       "  <tbody>\n",
       "    <tr>\n",
       "      <th>volatility</th>\n",
       "      <td>37.770</td>\n",
       "      <td>Percentage</td>\n",
       "      <td>NaN</td>\n",
       "    </tr>\n",
       "    <tr>\n",
       "      <th>marketValue</th>\n",
       "      <td>102.476</td>\n",
       "      <td>USD</td>\n",
       "      <td>NaN</td>\n",
       "    </tr>\n",
       "    <tr>\n",
       "      <th>totalMarketValue</th>\n",
       "      <td>10247.560</td>\n",
       "      <td>USD</td>\n",
       "      <td>NaN</td>\n",
       "    </tr>\n",
       "    <tr>\n",
       "      <th>intrinsicValue</th>\n",
       "      <td>100.410</td>\n",
       "      <td>USD</td>\n",
       "      <td>NaN</td>\n",
       "    </tr>\n",
       "    <tr>\n",
       "      <th>timeValue</th>\n",
       "      <td>2.066</td>\n",
       "      <td>USD</td>\n",
       "      <td>NaN</td>\n",
       "    </tr>\n",
       "    <tr>\n",
       "      <th>premiumOverCash</th>\n",
       "      <td>2.066</td>\n",
       "      <td>USD</td>\n",
       "      <td>0.825</td>\n",
       "    </tr>\n",
       "    <tr>\n",
       "      <th>moneyness</th>\n",
       "      <td>166.940</td>\n",
       "      <td>Percentage</td>\n",
       "      <td>NaN</td>\n",
       "    </tr>\n",
       "    <tr>\n",
       "      <th>annualizedYield</th>\n",
       "      <td>0.012</td>\n",
       "      <td>Absolute</td>\n",
       "      <td>NaN</td>\n",
       "    </tr>\n",
       "  </tbody>\n",
       "</table>\n",
       "</div>"
      ],
      "text/plain": [
       "                      value        unit  percent\n",
       "metric                                          \n",
       "volatility           37.770  Percentage      NaN\n",
       "marketValue         102.476         USD      NaN\n",
       "totalMarketValue  10247.560         USD      NaN\n",
       "intrinsicValue      100.410         USD      NaN\n",
       "timeValue             2.066         USD      NaN\n",
       "premiumOverCash       2.066         USD    0.825\n",
       "moneyness           166.940  Percentage      NaN\n",
       "annualizedYield       0.012    Absolute      NaN"
      ]
     },
     "execution_count": 6,
     "metadata": {},
     "output_type": "execute_result"
    }
   ],
   "source": [
    "valuation = response.analytics[0].valuation\n",
    "\n",
    "def flatten(data):\n",
    "    rows = []\n",
    "\n",
    "    for key, section in data.items():\n",
    "        row = {\"metric\": key}\n",
    "\n",
    "        # Start with raw values\n",
    "        value = section.get(\"value\")\n",
    "        unit = section.get(\"unit\")\n",
    "        percent = section.get(\"percent\")\n",
    "\n",
    "        # Handle dealCurrency override\n",
    "        dc = section.get(\"dealCurrency\")\n",
    "        if dc is not None:\n",
    "            value = getattr(dc, \"value\", value)\n",
    "            unit = getattr(dc, \"currency\", unit)\n",
    "\n",
    "        # Round and assign\n",
    "        if value is not None:\n",
    "            row[\"value\"] = round(value, 3)\n",
    "        if unit is not None:\n",
    "            row[\"unit\"] = unit\n",
    "        if percent is not None:\n",
    "            row[\"percent\"] = round(percent, 3)\n",
    "\n",
    "        rows.append(row)\n",
    "\n",
    "    return pd.DataFrame(rows).set_index(\"metric\")\n",
    "\n",
    "\n",
    "flatten(valuation)"
   ]
  }
 ],
 "metadata": {
  "kernelspec": {
   "display_name": "base",
   "language": "python",
   "name": "python3"
  },
  "language_info": {
   "codemirror_mode": {
    "name": "ipython",
    "version": 3
   },
   "file_extension": ".py",
   "mimetype": "text/x-python",
   "name": "python",
   "nbconvert_exporter": "python",
   "pygments_lexer": "ipython3",
   "version": "3.11.6"
  }
 },
 "nbformat": 4,
 "nbformat_minor": 5
}
