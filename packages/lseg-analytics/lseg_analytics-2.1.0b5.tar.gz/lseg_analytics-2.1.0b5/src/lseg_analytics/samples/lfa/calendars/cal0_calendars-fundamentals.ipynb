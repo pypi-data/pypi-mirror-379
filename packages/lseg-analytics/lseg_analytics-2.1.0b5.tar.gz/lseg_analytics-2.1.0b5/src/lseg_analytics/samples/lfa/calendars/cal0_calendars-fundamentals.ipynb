{
 "cells": [
  {
   "cell_type": "markdown",
   "metadata": {
    "tags": [
     "ide-samples-no-python"
    ]
   },
   "source": [
    "# Calendars Fundamentals"
   ]
  },
  {
   "cell_type": "markdown",
   "metadata": {},
   "source": [
    "## Namespaces\n",
    "\n",
    "You can use namespaces in your Python by importing the necessary modules."
   ]
  },
  {
   "cell_type": "code",
   "execution_count": 1,
   "metadata": {
    "execution": {
     "iopub.execute_input": "2025-09-18T08:59:03.696499Z",
     "iopub.status.busy": "2025-09-18T08:59:03.695923Z",
     "iopub.status.idle": "2025-09-18T08:59:04.114674Z",
     "shell.execute_reply": "2025-09-18T08:59:04.113997Z"
    }
   },
   "outputs": [],
   "source": [
    "# Add modules from standard library into our namespace\n",
    "import datetime\n",
    "\n",
    "# Add common models\n",
    "from lseg_analytics.common import (\n",
    "    DateMovingConvention,\n",
    "    DayCountBasis,\n",
    "    Description,\n",
    "    Frequency,\n",
    "    Month,\n",
    "    PeriodType,\n",
    "    ValidityPeriod,\n",
    "    WeekDay,\n",
    ")\n",
    "\n",
    "# Add specific modules for calendars\n",
    "from lseg_analytics.reference_data.calendars import (\n",
    "    AbsolutePositionWhen,\n",
    "    Calendar,\n",
    "    CalendarDefinition,\n",
    "    FullDayDuration,\n",
    "    HolidayRule,\n",
    "    RestDays,\n",
    "    compute_dates,\n",
    "    count_periods,\n",
    "    delete,\n",
    "    generate_date_schedule,\n",
    "    generate_holidays,\n",
    "    load,\n",
    "    search,\n",
    ")"
   ]
  },
  {
   "cell_type": "markdown",
   "metadata": {},
   "source": [
    "You can import api modules using their original names:"
   ]
  },
  {
   "cell_type": "code",
   "execution_count": 2,
   "metadata": {
    "execution": {
     "iopub.execute_input": "2025-09-18T08:59:04.119502Z",
     "iopub.status.busy": "2025-09-18T08:59:04.117480Z",
     "iopub.status.idle": "2025-09-18T08:59:04.125154Z",
     "shell.execute_reply": "2025-09-18T08:59:04.124581Z"
    }
   },
   "outputs": [
    {
     "data": {
      "text/plain": [
       "lseg_analytics.reference_data.calendars._calendar.Calendar"
      ]
     },
     "execution_count": 2,
     "metadata": {},
     "output_type": "execute_result"
    }
   ],
   "source": [
    "from lseg_analytics.reference_data import calendars\n",
    "\n",
    "calendars.Calendar"
   ]
  },
  {
   "cell_type": "markdown",
   "metadata": {},
   "source": [
    "Or you can import them using an alias to prevent name conflicts:"
   ]
  },
  {
   "cell_type": "code",
   "execution_count": 3,
   "metadata": {
    "execution": {
     "iopub.execute_input": "2025-09-18T08:59:04.127268Z",
     "iopub.status.busy": "2025-09-18T08:59:04.126997Z",
     "iopub.status.idle": "2025-09-18T08:59:04.130633Z",
     "shell.execute_reply": "2025-09-18T08:59:04.130206Z"
    }
   },
   "outputs": [
    {
     "data": {
      "text/plain": [
       "(lseg_analytics.reference_data.calendars._calendar.Calendar,\n",
       " <function lseg_analytics.reference_data.calendars._functions.load(*, resource_id: Optional[str] = None, name: Optional[str] = None, space: Optional[str] = None)>)"
      ]
     },
     "execution_count": 3,
     "metadata": {},
     "output_type": "execute_result"
    }
   ],
   "source": [
    "from lseg_analytics.reference_data import calendars as cals\n",
    "\n",
    "cals.Calendar, cals.load"
   ]
  },
  {
   "cell_type": "markdown",
   "metadata": {},
   "source": [
    "## Constructors\n",
    "\n",
    "Each object might have the following parameters:\n",
    "- A definition containing information that *defines* a resource, used to build the resource object itself.\n",
    "- A description containing information that *describes* a resource, for example a summary and/or tags.\n",
    "\n",
    "The definition is mandatory while description is optionals."
   ]
  },
  {
   "cell_type": "markdown",
   "metadata": {},
   "source": [
    "### Definition\n",
    "\n",
    "You can construct objects in more than one way. Define a calendar by giving the mandatory 'definition':"
   ]
  },
  {
   "cell_type": "code",
   "execution_count": 4,
   "metadata": {
    "execution": {
     "iopub.execute_input": "2025-09-18T08:59:04.133080Z",
     "iopub.status.busy": "2025-09-18T08:59:04.132646Z",
     "iopub.status.idle": "2025-09-18T08:59:04.144217Z",
     "shell.execute_reply": "2025-09-18T08:59:04.143431Z"
    }
   },
   "outputs": [],
   "source": [
    "# Create a calendar instance with parameter.\n",
    "my_cal_definition = CalendarDefinition(rest_days = [\n",
    "                    RestDays(\n",
    "                        rest_days=[WeekDay.SATURDAY, WeekDay.SUNDAY],\n",
    "                        validity_period=ValidityPeriod(\n",
    "                            start_date=\"2024-01-01\",\n",
    "                            end_date=\"2024-12-31\",\n",
    "                        ),\n",
    "                    )\n",
    "                ],\n",
    "                    first_day_of_week = WeekDay.FRIDAY,\n",
    "                    holiday_rules = [\n",
    "                    HolidayRule(\n",
    "                        name=\"New Year's Day\",\n",
    "                        duration=FullDayDuration(full_day=1),\n",
    "                        validity_period=ValidityPeriod(\n",
    "                            start_date=\"2024-01-01\",\n",
    "                            end_date=\"2024-12-31\",\n",
    "                        ),\n",
    "                        when=AbsolutePositionWhen(day_of_month=1, month=Month.JANUARY),\n",
    "                    ),\n",
    "                ]\n",
    "                )\n",
    "my_cal = Calendar(definition=my_cal_definition)"
   ]
  },
  {
   "cell_type": "markdown",
   "metadata": {},
   "source": [
    "### Description\n",
    "\n",
    "You can also add a description later:"
   ]
  },
  {
   "cell_type": "code",
   "execution_count": 5,
   "metadata": {
    "execution": {
     "iopub.execute_input": "2025-09-18T08:59:04.147524Z",
     "iopub.status.busy": "2025-09-18T08:59:04.147148Z",
     "iopub.status.idle": "2025-09-18T08:59:04.151895Z",
     "shell.execute_reply": "2025-09-18T08:59:04.151165Z"
    }
   },
   "outputs": [
    {
     "data": {
      "text/plain": [
       "'My calendar'"
      ]
     },
     "execution_count": 5,
     "metadata": {},
     "output_type": "execute_result"
    }
   ],
   "source": [
    "my_cal.description.summary = \"My calendar\"\n",
    "\n",
    "my_cal.description.summary"
   ]
  },
  {
   "cell_type": "markdown",
   "metadata": {},
   "source": [
    "## Save\n",
    "\n",
    "The example below creates a UK calendar that contains New Year's Day:"
   ]
  },
  {
   "cell_type": "code",
   "execution_count": 6,
   "metadata": {
    "execution": {
     "iopub.execute_input": "2025-09-18T08:59:04.155251Z",
     "iopub.status.busy": "2025-09-18T08:59:04.154636Z",
     "iopub.status.idle": "2025-09-18T08:59:04.162911Z",
     "shell.execute_reply": "2025-09-18T08:59:04.162177Z"
    }
   },
   "outputs": [
    {
     "data": {
      "text/plain": [
       "<Calendar space=None name='' unsaved>"
      ]
     },
     "execution_count": 6,
     "metadata": {},
     "output_type": "execute_result"
    }
   ],
   "source": [
    "uk_cal = Calendar(\n",
    "    definition=CalendarDefinition(\n",
    "        rest_days=[\n",
    "            RestDays(\n",
    "                rest_days=[WeekDay.SATURDAY, WeekDay.SUNDAY],\n",
    "                validity_period=ValidityPeriod(\n",
    "                    start_date=datetime.date(2024, 1, 1),\n",
    "                    end_date=datetime.date(2023, 12, 31),\n",
    "                ),\n",
    "            )\n",
    "        ],\n",
    "        first_day_of_week=WeekDay.MONDAY,\n",
    "        holiday_rules=[\n",
    "            HolidayRule(\n",
    "                name=\"New Year's Day\",\n",
    "                duration=FullDayDuration(full_day=1),\n",
    "                validity_period=ValidityPeriod(\n",
    "                    start_date=datetime.date(2024, 1, 1),\n",
    "                    end_date=datetime.date(2024, 12, 31),\n",
    "                ),\n",
    "                when=AbsolutePositionWhen(day_of_month=1, month=Month.JANUARY),\n",
    "            ),\n",
    "        ],\n",
    "    ),\n",
    "    description=Description(summary=\"United Kingdom calendar\", tags=[\"UK\"]),\n",
    ")\n",
    "\n",
    "uk_cal"
   ]
  },
  {
   "cell_type": "markdown",
   "metadata": {},
   "source": [
    "To save the calendar to a space, write:"
   ]
  },
  {
   "cell_type": "code",
   "execution_count": 7,
   "metadata": {
    "execution": {
     "iopub.execute_input": "2025-09-18T08:59:04.165728Z",
     "iopub.status.busy": "2025-09-18T08:59:04.165414Z",
     "iopub.status.idle": "2025-09-18T08:59:05.199157Z",
     "shell.execute_reply": "2025-09-18T08:59:05.198550Z"
    }
   },
   "outputs": [
    {
     "data": {
      "text/plain": [
       "True"
      ]
     },
     "execution_count": 7,
     "metadata": {},
     "output_type": "execute_result"
    }
   ],
   "source": [
    "uk_cal.save(name=\"UK_Calendar\", space=\"HOME\")\n",
    "my_cal.save(name=\"My_Calendar\", space=\"HOME\")"
   ]
  },
  {
   "cell_type": "markdown",
   "metadata": {},
   "source": [
    "## Location\n",
    "\n",
    "Name and space are location attributes, which are automatically set when a resource object is saved for the first time.\n",
    "\n",
    "Unsaved resources have thier name and space set to None.\n",
    "\n",
    "Location attributes are read-only."
   ]
  },
  {
   "cell_type": "code",
   "execution_count": 8,
   "metadata": {
    "execution": {
     "iopub.execute_input": "2025-09-18T08:59:05.201534Z",
     "iopub.status.busy": "2025-09-18T08:59:05.201154Z",
     "iopub.status.idle": "2025-09-18T08:59:05.204868Z",
     "shell.execute_reply": "2025-09-18T08:59:05.204296Z"
    }
   },
   "outputs": [
    {
     "name": "stdout",
     "output_type": "stream",
     "text": [
      "Calendar name: UK_Calendar\n",
      "Calendar space: HOME\n"
     ]
    }
   ],
   "source": [
    "print(f\"Calendar name: {uk_cal.location.name}\")\n",
    "\n",
    "print(f\"Calendar space: {uk_cal.location.space}\")"
   ]
  },
  {
   "cell_type": "markdown",
   "metadata": {},
   "source": [
    "## Resource ID\n",
    "\n",
    "A resource ID is the unique resource identifier for an object on the platform.\n",
    "\n",
    "The resource ID is created on saving.\n",
    "\n",
    "IDs are read-only"
   ]
  },
  {
   "cell_type": "code",
   "execution_count": 9,
   "metadata": {
    "execution": {
     "iopub.execute_input": "2025-09-18T08:59:05.207414Z",
     "iopub.status.busy": "2025-09-18T08:59:05.207095Z",
     "iopub.status.idle": "2025-09-18T08:59:05.210521Z",
     "shell.execute_reply": "2025-09-18T08:59:05.210014Z"
    }
   },
   "outputs": [
    {
     "data": {
      "text/plain": [
       "'18b6a19c-5cd4-42f8-a8b3-f5e84c3320ba'"
      ]
     },
     "execution_count": 9,
     "metadata": {},
     "output_type": "execute_result"
    }
   ],
   "source": [
    "uk_cal_id = uk_cal.id\n",
    "\n",
    "uk_cal_id"
   ]
  },
  {
   "cell_type": "markdown",
   "metadata": {},
   "source": [
    "## Load\n",
    "\n",
    "Previously saved resourcess can be loaded in either by name or by ID."
   ]
  },
  {
   "cell_type": "markdown",
   "metadata": {},
   "source": [
    "### By name:"
   ]
  },
  {
   "cell_type": "code",
   "execution_count": 10,
   "metadata": {
    "execution": {
     "iopub.execute_input": "2025-09-18T08:59:05.213327Z",
     "iopub.status.busy": "2025-09-18T08:59:05.212989Z",
     "iopub.status.idle": "2025-09-18T08:59:05.546918Z",
     "shell.execute_reply": "2025-09-18T08:59:05.546329Z"
    }
   },
   "outputs": [],
   "source": [
    "loaded_by_name_uk_cal = load(name=\"UK_Calendar\")"
   ]
  },
  {
   "cell_type": "markdown",
   "metadata": {},
   "source": [
    "### By ID:"
   ]
  },
  {
   "cell_type": "code",
   "execution_count": 11,
   "metadata": {
    "execution": {
     "iopub.execute_input": "2025-09-18T08:59:05.549701Z",
     "iopub.status.busy": "2025-09-18T08:59:05.549278Z",
     "iopub.status.idle": "2025-09-18T08:59:05.673858Z",
     "shell.execute_reply": "2025-09-18T08:59:05.672989Z"
    }
   },
   "outputs": [],
   "source": [
    "uk_cal_loaded_by_id = load(resource_id=uk_cal_id)"
   ]
  },
  {
   "cell_type": "markdown",
   "metadata": {},
   "source": [
    "Space is optional, but crucial if you need to have resources with the same name in different spaces:"
   ]
  },
  {
   "cell_type": "code",
   "execution_count": 12,
   "metadata": {
    "execution": {
     "iopub.execute_input": "2025-09-18T08:59:05.676817Z",
     "iopub.status.busy": "2025-09-18T08:59:05.676437Z",
     "iopub.status.idle": "2025-09-18T08:59:05.916856Z",
     "shell.execute_reply": "2025-09-18T08:59:05.916321Z"
    }
   },
   "outputs": [],
   "source": [
    "uk_cal_loaded_by_name_and_space = load(name=\"UK_Calendar\", space=\"HOME\")"
   ]
  },
  {
   "cell_type": "markdown",
   "metadata": {},
   "source": [
    "## Search\n",
    "\n",
    "You can search for previously saved calendars using the following techniques."
   ]
  },
  {
   "cell_type": "markdown",
   "metadata": {},
   "source": [
    "### Search for all calendars"
   ]
  },
  {
   "cell_type": "code",
   "execution_count": 13,
   "metadata": {
    "execution": {
     "iopub.execute_input": "2025-09-18T08:59:05.919432Z",
     "iopub.status.busy": "2025-09-18T08:59:05.919088Z",
     "iopub.status.idle": "2025-09-18T08:59:06.050760Z",
     "shell.execute_reply": "2025-09-18T08:59:06.050007Z"
    }
   },
   "outputs": [
    {
     "data": {
      "text/plain": [
       "[{'type': 'Calendar', 'id': '4ba2f437-b7b6-4363-88e2-9ba9cdd51227', 'location': {'space': 'HOME', 'name': 'My_Calendar'}, 'description': {'summary': 'My calendar', 'tags': []}},\n",
       " {'type': 'Calendar', 'id': '3db1d034-a371-48ba-8ff7-c582d3bedade', 'location': {'space': 'HOME', 'name': 'my_personal_calendar'}, 'description': {'summary': '', 'tags': []}},\n",
       " {'type': 'Calendar', 'id': 'f4bab25f-70dd-4107-bf4e-82214e7004f0', 'location': {'space': 'HOME', 'name': 'TestCalendar1747794848181666'}, 'description': {'summary': '', 'tags': []}},\n",
       " {'type': 'Calendar', 'id': '18b6a19c-5cd4-42f8-a8b3-f5e84c3320ba', 'location': {'space': 'HOME', 'name': 'UK_Calendar'}, 'description': {'summary': 'United Kingdom calendar', 'tags': ['UK']}},\n",
       " {'type': 'Calendar', 'id': '6d253027-d629-42f4-9871-754ce8b02ff9', 'location': {'space': 'LSEG', 'name': 'ABW'}, 'description': {'summary': 'LSEG Aruba', 'tags': []}},\n",
       " {'type': 'Calendar', 'id': '8c5e56c2-ac93-4db1-bc89-9d0f4eb4bfa2', 'location': {'space': 'LSEG', 'name': 'ABW_FI'}, 'description': {'summary': 'LSEG Aruba', 'tags': []}},\n",
       " {'type': 'Calendar', 'id': 'dcc8c53c-d334-4f09-a340-e71df47c5186', 'location': {'space': 'LSEG', 'name': 'ADE_FI'}, 'description': {'summary': 'LSEG Adelaide', 'tags': []}},\n",
       " {'type': 'Calendar', 'id': '75332de7-bde7-46b1-b161-9c87815cb765', 'location': {'space': 'LSEG', 'name': 'AFG'}, 'description': {'summary': 'LSEG Afghanistan', 'tags': []}},\n",
       " {'type': 'Calendar', 'id': '7a41a86b-b8c4-49ff-99dd-fe8cac30ce9f', 'location': {'space': 'LSEG', 'name': 'AFG_FI'}, 'description': {'summary': 'LSEG Afghanistan', 'tags': []}},\n",
       " {'type': 'Calendar', 'id': 'ee5a307b-3e77-4fbd-a456-21ef81d526a3', 'location': {'space': 'LSEG', 'name': 'AIA_FI'}, 'description': {'summary': 'LSEG AIAF Fixed Income Market Calendar', 'tags': []}},\n",
       " {'type': 'Calendar', 'id': '6fd562ab-b01c-40ce-adb0-659781ab34e0', 'location': {'space': 'LSEG', 'name': 'ALB'}, 'description': {'summary': 'LSEG Albania', 'tags': []}},\n",
       " {'type': 'Calendar', 'id': 'ec09773d-3dd0-41b6-a09a-3e93019b208c', 'location': {'space': 'LSEG', 'name': 'ALB_FI'}, 'description': {'summary': 'LSEG Albania', 'tags': []}},\n",
       " {'type': 'Calendar', 'id': 'e0217e2c-fa91-4173-9c97-f8918de2c8d9', 'location': {'space': 'LSEG', 'name': 'ALG'}, 'description': {'summary': 'LSEG Algeria', 'tags': []}},\n",
       " {'type': 'Calendar', 'id': '555bfe9b-f9bd-4e23-9311-25ba8ff30ccb', 'location': {'space': 'LSEG', 'name': 'ALG_FI'}, 'description': {'summary': 'LSEG Algeria', 'tags': []}},\n",
       " {'type': 'Calendar', 'id': 'c48d60b2-1b6c-4d13-beb3-2763fc6d92c7', 'location': {'space': 'LSEG', 'name': 'AMS_FI'}, 'description': {'summary': 'LSEG Amsterdam', 'tags': []}},\n",
       " {'type': 'Calendar', 'id': 'd0b3bf76-832a-4086-8a92-49efb8c21c35', 'location': {'space': 'LSEG', 'name': 'ANG'}, 'description': {'summary': 'LSEG Angola', 'tags': []}},\n",
       " {'type': 'Calendar', 'id': '9cf68337-513c-4a86-a2eb-fc737a406af9', 'location': {'space': 'LSEG', 'name': 'ANG_FI'}, 'description': {'summary': 'LSEG Angola', 'tags': []}},\n",
       " {'type': 'Calendar', 'id': '8afa470b-c71b-459d-8a6a-8e676b3a34a3', 'location': {'space': 'LSEG', 'name': 'ARG'}, 'description': {'summary': 'LSEG Argentina', 'tags': []}},\n",
       " {'type': 'Calendar', 'id': 'f700bb2c-b6ef-4735-bf57-c9db5bceaef4', 'location': {'space': 'LSEG', 'name': 'ARG_FI'}, 'description': {'summary': 'LSEG Argentina', 'tags': []}},\n",
       " {'type': 'Calendar', 'id': 'a17ebb3a-1cdd-488f-8acb-ad1a77747834', 'location': {'space': 'LSEG', 'name': 'ARM'}, 'description': {'summary': 'LSEG Armenia', 'tags': []}},\n",
       " {'type': 'Calendar', 'id': '8ea84928-7c47-4735-9e80-cea1d943743c', 'location': {'space': 'LSEG', 'name': 'ARM_FI'}, 'description': {'summary': 'LSEG Armenia', 'tags': []}},\n",
       " {'type': 'Calendar', 'id': '3bafb17e-9584-4179-95f0-ca27659ede9c', 'location': {'space': 'LSEG', 'name': 'ATL_FI'}, 'description': {'summary': 'LSEG Atlanta', 'tags': []}},\n",
       " {'type': 'Calendar', 'id': '3c0ad531-7f77-44c5-b7dd-1cfe10f4012b', 'location': {'space': 'LSEG', 'name': 'AUM'}, 'description': {'summary': 'LSEG Australia (Melbourne)', 'tags': []}},\n",
       " {'type': 'Calendar', 'id': 'e751696b-defd-46e9-a4c3-66f8ec806839', 'location': {'space': 'LSEG', 'name': 'AUM_FI'}, 'description': {'summary': 'LSEG Australia (Melbourne)', 'tags': []}},\n",
       " {'type': 'Calendar', 'id': '2cef00f4-3dc5-4deb-aa8e-288412823126', 'location': {'space': 'LSEG', 'name': 'AUP'}, 'description': {'summary': 'LSEG Australia (Perth/WA)', 'tags': []}},\n",
       " {'type': 'Calendar', 'id': '30cd2c5d-a543-4da0-988f-f6c1f0d1d9d5', 'location': {'space': 'LSEG', 'name': 'AUP_FI'}, 'description': {'summary': 'LSEG Australia (Perth/WA)', 'tags': []}},\n",
       " {'type': 'Calendar', 'id': '7371cc16-0213-49fa-8241-db3f09b4cf2a', 'location': {'space': 'LSEG', 'name': 'AUS'}, 'description': {'summary': 'LSEG Australia (Sydney / NSW)', 'tags': []}},\n",
       " {'type': 'Calendar', 'id': 'ef015941-48f9-44f1-bc73-738de3956e1d', 'location': {'space': 'LSEG', 'name': 'AUS_FI'}, 'description': {'summary': 'LSEG Australia', 'tags': []}},\n",
       " {'type': 'Calendar', 'id': '187fb084-2139-491e-95a5-e5294a6aaf96', 'location': {'space': 'LSEG', 'name': 'AUT'}, 'description': {'summary': 'LSEG Austria ( sterreich)', 'tags': []}},\n",
       " {'type': 'Calendar', 'id': '927609f4-9616-41a2-ba75-db6e641ca109', 'location': {'space': 'LSEG', 'name': 'AUT_FI'}, 'description': {'summary': 'LSEG Austria', 'tags': []}},\n",
       " {'type': 'Calendar', 'id': 'd783e28f-59e9-43c5-abfa-ec9c7b551e07', 'location': {'space': 'LSEG', 'name': 'AZE'}, 'description': {'summary': 'LSEG Azerbaijan', 'tags': []}},\n",
       " {'type': 'Calendar', 'id': '1164461b-80bd-4820-8705-82357b4efa15', 'location': {'space': 'LSEG', 'name': 'AZE_FI'}, 'description': {'summary': 'LSEG Azerbaijan', 'tags': []}},\n",
       " {'type': 'Calendar', 'id': '6e9e98c9-dce0-4740-b032-a56e4e6d3c11', 'location': {'space': 'LSEG', 'name': 'BAH'}, 'description': {'summary': 'LSEG Bahamas', 'tags': []}},\n",
       " {'type': 'Calendar', 'id': '73bea0e5-9adb-45cc-b177-95a52081c5f8', 'location': {'space': 'LSEG', 'name': 'BAH_FI'}, 'description': {'summary': 'LSEG Bahamas', 'tags': []}},\n",
       " {'type': 'Calendar', 'id': 'a95a98e0-8080-46b6-a295-a72d6ba47580', 'location': {'space': 'LSEG', 'name': 'BAN'}, 'description': {'summary': 'LSEG Bahrain', 'tags': []}},\n",
       " {'type': 'Calendar', 'id': '719e4bbe-4b7d-4215-9850-ae666898f66b', 'location': {'space': 'LSEG', 'name': 'BAN_FI'}, 'description': {'summary': 'LSEG Bahrain', 'tags': []}},\n",
       " {'type': 'Calendar', 'id': '2961a384-54a8-4999-91cf-292a3d9acb4e', 'location': {'space': 'LSEG', 'name': 'BAR'}, 'description': {'summary': 'LSEG Belarus', 'tags': []}},\n",
       " {'type': 'Calendar', 'id': '5c95d835-a03e-4f64-bc6c-5928b5296717', 'location': {'space': 'LSEG', 'name': 'BAR_FI'}, 'description': {'summary': 'LSEG Belarus', 'tags': []}},\n",
       " {'type': 'Calendar', 'id': 'd84bc2d0-45a5-4dab-81fc-a4935f7509e2', 'location': {'space': 'LSEG', 'name': 'BAS'}, 'description': {'summary': 'LSEG Bangladesh', 'tags': []}},\n",
       " {'type': 'Calendar', 'id': '493d9df9-d2f4-4525-afd5-57606586d27a', 'location': {'space': 'LSEG', 'name': 'BAS_FI'}, 'description': {'summary': 'LSEG Bangladesh', 'tags': []}},\n",
       " {'type': 'Calendar', 'id': 'af4b941e-ddd9-43ce-a0ff-8308ca718cf8', 'location': {'space': 'LSEG', 'name': 'BBD'}, 'description': {'summary': 'LSEG Barbados', 'tags': []}},\n",
       " {'type': 'Calendar', 'id': 'ffe7d242-c60d-43ee-baa8-199284807aa1', 'location': {'space': 'LSEG', 'name': 'BBD_FI'}, 'description': {'summary': 'LSEG Barbados', 'tags': []}},\n",
       " {'type': 'Calendar', 'id': 'c3eced24-1505-4ca0-b3b7-2843bdaec218', 'location': {'space': 'LSEG', 'name': 'BDI'}, 'description': {'summary': 'LSEG Burundi', 'tags': []}},\n",
       " {'type': 'Calendar', 'id': '8ba6b6ce-5d3c-4f78-b68c-8bad55a19488', 'location': {'space': 'LSEG', 'name': 'BDI_FI'}, 'description': {'summary': 'LSEG Burundi', 'tags': []}},\n",
       " {'type': 'Calendar', 'id': 'dc83b9c6-284a-4fda-a815-cb51f0649e18', 'location': {'space': 'LSEG', 'name': 'BEL'}, 'description': {'summary': 'LSEG Belgium (Belgique - Belgi )', 'tags': []}},\n",
       " {'type': 'Calendar', 'id': 'b81b215b-6006-431f-b54c-a66bd40a4156', 'location': {'space': 'LSEG', 'name': 'BEL_FI'}, 'description': {'summary': 'LSEG Belgium', 'tags': []}},\n",
       " {'type': 'Calendar', 'id': 'd328bc59-cd3a-4f84-97cc-52c19aba84e3', 'location': {'space': 'LSEG', 'name': 'BEN'}, 'description': {'summary': 'LSEG Benin', 'tags': []}},\n",
       " {'type': 'Calendar', 'id': '9790238e-3f64-424e-b74d-d3957944e9cf', 'location': {'space': 'LSEG', 'name': 'BEN_FI'}, 'description': {'summary': 'LSEG Benin', 'tags': []}},\n",
       " {'type': 'Calendar', 'id': '40094281-84a3-4851-a18b-8f1c155f8711', 'location': {'space': 'LSEG', 'name': 'BER'}, 'description': {'summary': 'LSEG Bermuda', 'tags': []}},\n",
       " {'type': 'Calendar', 'id': '50f3a0e2-c601-4a50-8219-806cfa68b4b7', 'location': {'space': 'LSEG', 'name': 'BER_FI'}, 'description': {'summary': 'LSEG Bermuda', 'tags': []}}]"
      ]
     },
     "execution_count": 13,
     "metadata": {},
     "output_type": "execute_result"
    }
   ],
   "source": [
    "cals = search()\n",
    "\n",
    "cals"
   ]
  },
  {
   "cell_type": "markdown",
   "metadata": {},
   "source": [
    "### Search for calendars by name"
   ]
  },
  {
   "cell_type": "code",
   "execution_count": 14,
   "metadata": {
    "execution": {
     "iopub.execute_input": "2025-09-18T08:59:06.053220Z",
     "iopub.status.busy": "2025-09-18T08:59:06.052946Z",
     "iopub.status.idle": "2025-09-18T08:59:06.174496Z",
     "shell.execute_reply": "2025-09-18T08:59:06.174063Z"
    }
   },
   "outputs": [
    {
     "data": {
      "text/plain": [
       "[{'type': 'Calendar', 'id': '0cee3640-8063-49b4-a1a1-50ab1ee0030f', 'location': {'space': 'LSEG', 'name': 'EMU'}, 'description': {'summary': 'LSEG Euroland Calendar', 'tags': []}}]"
      ]
     },
     "execution_count": 14,
     "metadata": {},
     "output_type": "execute_result"
    }
   ],
   "source": [
    "cals_by_names = search(names=[\"EMU\"])\n",
    "\n",
    "cals_by_names"
   ]
  },
  {
   "cell_type": "markdown",
   "metadata": {},
   "source": [
    "### Search for calendars by space"
   ]
  },
  {
   "cell_type": "code",
   "execution_count": 15,
   "metadata": {
    "execution": {
     "iopub.execute_input": "2025-09-18T08:59:06.176452Z",
     "iopub.status.busy": "2025-09-18T08:59:06.176185Z",
     "iopub.status.idle": "2025-09-18T08:59:06.296635Z",
     "shell.execute_reply": "2025-09-18T08:59:06.296143Z"
    }
   },
   "outputs": [
    {
     "data": {
      "text/plain": [
       "[{'type': 'Calendar', 'id': '4ba2f437-b7b6-4363-88e2-9ba9cdd51227', 'location': {'space': 'HOME', 'name': 'My_Calendar'}, 'description': {'summary': 'My calendar', 'tags': []}},\n",
       " {'type': 'Calendar', 'id': '3db1d034-a371-48ba-8ff7-c582d3bedade', 'location': {'space': 'HOME', 'name': 'my_personal_calendar'}, 'description': {'summary': '', 'tags': []}},\n",
       " {'type': 'Calendar', 'id': 'f4bab25f-70dd-4107-bf4e-82214e7004f0', 'location': {'space': 'HOME', 'name': 'TestCalendar1747794848181666'}, 'description': {'summary': '', 'tags': []}},\n",
       " {'type': 'Calendar', 'id': '18b6a19c-5cd4-42f8-a8b3-f5e84c3320ba', 'location': {'space': 'HOME', 'name': 'UK_Calendar'}, 'description': {'summary': 'United Kingdom calendar', 'tags': ['UK']}}]"
      ]
     },
     "execution_count": 15,
     "metadata": {},
     "output_type": "execute_result"
    }
   ],
   "source": [
    "cals_by_spaces = search(spaces=[\"HOME\"])\n",
    "\n",
    "cals_by_spaces"
   ]
  },
  {
   "cell_type": "markdown",
   "metadata": {},
   "source": [
    "### Search for calendars by tag"
   ]
  },
  {
   "cell_type": "code",
   "execution_count": 16,
   "metadata": {
    "execution": {
     "iopub.execute_input": "2025-09-18T08:59:06.299164Z",
     "iopub.status.busy": "2025-09-18T08:59:06.298682Z",
     "iopub.status.idle": "2025-09-18T08:59:06.414660Z",
     "shell.execute_reply": "2025-09-18T08:59:06.414207Z"
    }
   },
   "outputs": [
    {
     "data": {
      "text/plain": [
       "[{'type': 'Calendar', 'id': '18b6a19c-5cd4-42f8-a8b3-f5e84c3320ba', 'location': {'space': 'HOME', 'name': 'UK_Calendar'}, 'description': {'summary': 'United Kingdom calendar', 'tags': ['UK']}}]"
      ]
     },
     "execution_count": 16,
     "metadata": {},
     "output_type": "execute_result"
    }
   ],
   "source": [
    "cals_by_tags = search(tags=[\"UK\"])\n",
    "\n",
    "cals_by_tags"
   ]
  },
  {
   "cell_type": "markdown",
   "metadata": {},
   "source": [
    "## Data access\n",
    "\n",
    "You can access resource data through the root attributes of the resource object:"
   ]
  },
  {
   "cell_type": "code",
   "execution_count": 17,
   "metadata": {
    "execution": {
     "iopub.execute_input": "2025-09-18T08:59:06.416657Z",
     "iopub.status.busy": "2025-09-18T08:59:06.416425Z",
     "iopub.status.idle": "2025-09-18T08:59:06.419585Z",
     "shell.execute_reply": "2025-09-18T08:59:06.419141Z"
    }
   },
   "outputs": [
    {
     "name": "stdout",
     "output_type": "stream",
     "text": [
      "First day of week: WeekDay.MONDAY\n",
      "Calendar holidays: [\"New Year's Day\"]\n"
     ]
    }
   ],
   "source": [
    "print(f\"First day of week: {uk_cal.definition.first_day_of_week}\")\n",
    "print(\n",
    "    f\"Calendar holidays: {[holiday.name for holiday in uk_cal.definition.holiday_rules]}\"\n",
    ")"
   ]
  },
  {
   "cell_type": "markdown",
   "metadata": {},
   "source": [
    "## Calendar functions\n",
    "\n",
    "Calendar functions works with calendar instances."
   ]
  },
  {
   "cell_type": "code",
   "execution_count": 18,
   "metadata": {
    "execution": {
     "iopub.execute_input": "2025-09-18T08:59:06.422089Z",
     "iopub.status.busy": "2025-09-18T08:59:06.421626Z",
     "iopub.status.idle": "2025-09-18T08:59:06.689091Z",
     "shell.execute_reply": "2025-09-18T08:59:06.688540Z"
    }
   },
   "outputs": [],
   "source": [
    "ukg_cal = load(name=\"UKG\")"
   ]
  },
  {
   "cell_type": "markdown",
   "metadata": {},
   "source": [
    "### Count periods\n",
    "\n",
    "Counts the time periods that satisfy specified conditions.\n",
    "\n",
    "Note the use of date strings for convenience."
   ]
  },
  {
   "cell_type": "code",
   "execution_count": 19,
   "metadata": {
    "execution": {
     "iopub.execute_input": "2025-09-18T08:59:06.691717Z",
     "iopub.status.busy": "2025-09-18T08:59:06.691389Z",
     "iopub.status.idle": "2025-09-18T08:59:06.855472Z",
     "shell.execute_reply": "2025-09-18T08:59:06.854879Z"
    }
   },
   "outputs": [
    {
     "data": {
      "text/plain": [
       "{'count': 253.0, 'periodType': 'WorkingDay'}"
      ]
     },
     "execution_count": 19,
     "metadata": {},
     "output_type": "execute_result"
    }
   ],
   "source": [
    "periods = ukg_cal.count_periods(\n",
    "    start_date=\"2024-01-01\",\n",
    "    end_date=\"2024-12-31\",\n",
    "    day_count_basis=DayCountBasis.DCB_30_360_US,\n",
    "    period_type=PeriodType.WORKING_DAY\n",
    ")\n",
    "\n",
    "periods"
   ]
  },
  {
   "cell_type": "markdown",
   "metadata": {},
   "source": [
    "### Compute dates\n",
    "\n",
    "Computes dates for the calendar according to specified conditions."
   ]
  },
  {
   "cell_type": "code",
   "execution_count": 20,
   "metadata": {
    "execution": {
     "iopub.execute_input": "2025-09-18T08:59:06.857817Z",
     "iopub.status.busy": "2025-09-18T08:59:06.857434Z",
     "iopub.status.idle": "2025-09-18T08:59:07.031415Z",
     "shell.execute_reply": "2025-09-18T08:59:07.030887Z"
    }
   },
   "outputs": [
    {
     "data": {
      "text/plain": [
       "[{'tenor': '1M', 'endDate': '2024-02-01'},\n",
       " {'tenor': '2M', 'endDate': '2024-03-01'}]"
      ]
     },
     "execution_count": 20,
     "metadata": {},
     "output_type": "execute_result"
    }
   ],
   "source": [
    "dates = ukg_cal.compute_dates(\n",
    "    tenors=[\"1M\", \"2M\"],\n",
    "    start_date=datetime.date(2024, 1, 1),\n",
    "    date_moving_convention=DateMovingConvention.NEXT_BUSINESS_DAY\n",
    ")\n",
    "\n",
    "dates"
   ]
  },
  {
   "cell_type": "markdown",
   "metadata": {},
   "source": [
    "### Generate date schedule\n",
    "\n",
    "Generates a date schedule for the calendar according to specified conditions."
   ]
  },
  {
   "cell_type": "code",
   "execution_count": 21,
   "metadata": {
    "execution": {
     "iopub.execute_input": "2025-09-18T08:59:07.033895Z",
     "iopub.status.busy": "2025-09-18T08:59:07.033453Z",
     "iopub.status.idle": "2025-09-18T08:59:07.194718Z",
     "shell.execute_reply": "2025-09-18T08:59:07.193394Z"
    }
   },
   "outputs": [
    {
     "data": {
      "text/plain": [
       "[datetime.date(2024, 1, 11),\n",
       " datetime.date(2024, 1, 18),\n",
       " datetime.date(2024, 1, 25),\n",
       " datetime.date(2024, 2, 1),\n",
       " datetime.date(2024, 2, 8)]"
      ]
     },
     "execution_count": 21,
     "metadata": {},
     "output_type": "execute_result"
    }
   ],
   "source": [
    "schedule = ukg_cal.generate_date_schedule(\n",
    "    frequency=Frequency.WEEKLY,\n",
    "    start_date=datetime.date(2024, 1, 1),\n",
    "    count=5,\n",
    "    day_of_week=WeekDay.THURSDAY\n",
    ")\n",
    "\n",
    "schedule"
   ]
  },
  {
   "cell_type": "markdown",
   "metadata": {},
   "source": [
    "### Generate holidays\n",
    "\n",
    "Gets the calendar's holidays."
   ]
  },
  {
   "cell_type": "code",
   "execution_count": 22,
   "metadata": {
    "execution": {
     "iopub.execute_input": "2025-09-18T08:59:07.197171Z",
     "iopub.status.busy": "2025-09-18T08:59:07.196585Z",
     "iopub.status.idle": "2025-09-18T08:59:07.350618Z",
     "shell.execute_reply": "2025-09-18T08:59:07.350081Z"
    }
   },
   "outputs": [
    {
     "data": {
      "text/plain": [
       "[{'date': '2024-01-01', 'names': [{'name': \"New Year's Day\", 'calendars': ['LSEG/UKG'], 'countries': ['GBR']}]},\n",
       " {'date': '2024-03-29', 'names': [{'name': 'Good Friday', 'calendars': ['LSEG/UKG'], 'countries': ['GBR']}]},\n",
       " {'date': '2024-03-31', 'names': [{'name': 'Easter Sunday', 'calendars': ['LSEG/UKG'], 'countries': ['GBR']}]},\n",
       " {'date': '2024-04-01', 'names': [{'name': 'Easter Monday', 'calendars': ['LSEG/UKG'], 'countries': ['GBR']}]},\n",
       " {'date': '2024-05-06', 'names': [{'name': 'Early May Bank Holiday', 'calendars': ['LSEG/UKG'], 'countries': ['GBR']}]},\n",
       " {'date': '2024-05-27', 'names': [{'name': 'Spring Bank Holiday', 'calendars': ['LSEG/UKG'], 'countries': ['GBR']}]},\n",
       " {'date': '2024-08-26', 'names': [{'name': 'Summer Bank Holiday', 'calendars': ['LSEG/UKG'], 'countries': ['GBR']}]},\n",
       " {'date': '2024-12-25', 'names': [{'name': 'Christmas Day', 'calendars': ['LSEG/UKG'], 'countries': ['GBR']}]},\n",
       " {'date': '2024-12-26', 'names': [{'name': 'Boxing Day', 'calendars': ['LSEG/UKG'], 'countries': ['GBR']}]}]"
      ]
     },
     "execution_count": 22,
     "metadata": {},
     "output_type": "execute_result"
    }
   ],
   "source": [
    "holidays = ukg_cal.generate_holidays(\n",
    "    start_date=datetime.date(2024, 1, 1),\n",
    "    end_date=datetime.date(2024, 12, 31),\n",
    ")\n",
    "\n",
    "holidays"
   ]
  },
  {
   "cell_type": "markdown",
   "metadata": {},
   "source": [
    "## Calendar module functions\n",
    "\n",
    "Calendar module functions are similar to calendar functions, but work with multiple calendar instances."
   ]
  },
  {
   "cell_type": "markdown",
   "metadata": {},
   "source": [
    "### Count periods\n",
    "\n",
    "Counts time periods that satisfy specified conditions for the calendar."
   ]
  },
  {
   "cell_type": "code",
   "execution_count": 23,
   "metadata": {
    "execution": {
     "iopub.execute_input": "2025-09-18T08:59:07.352831Z",
     "iopub.status.busy": "2025-09-18T08:59:07.352368Z",
     "iopub.status.idle": "2025-09-18T08:59:07.498573Z",
     "shell.execute_reply": "2025-09-18T08:59:07.498101Z"
    }
   },
   "outputs": [
    {
     "data": {
      "text/plain": [
       "{'count': 251.0, 'periodType': 'WorkingDay'}"
      ]
     },
     "execution_count": 23,
     "metadata": {},
     "output_type": "execute_result"
    }
   ],
   "source": [
    "counted_periods = count_periods(\n",
    "    start_date=datetime.date(2023, 1, 1),\n",
    "    end_date=datetime.date(2023, 12, 31),\n",
    "    day_count_basis=DayCountBasis.DCB_30_360,\n",
    "    period_type=PeriodType.WORKING_DAY,\n",
    "    calendars=[ukg_cal.id]\n",
    ")\n",
    "\n",
    "counted_periods"
   ]
  },
  {
   "cell_type": "markdown",
   "metadata": {},
   "source": [
    "### Compute dates\n",
    "\n",
    "Computes dates for the calendar according to specified conditions."
   ]
  },
  {
   "cell_type": "code",
   "execution_count": 24,
   "metadata": {
    "execution": {
     "iopub.execute_input": "2025-09-18T08:59:07.500886Z",
     "iopub.status.busy": "2025-09-18T08:59:07.500458Z",
     "iopub.status.idle": "2025-09-18T08:59:07.650018Z",
     "shell.execute_reply": "2025-09-18T08:59:07.649557Z"
    }
   },
   "outputs": [
    {
     "data": {
      "text/plain": [
       "[{'tenor': '1M', 'endDate': '2024-02-01'},\n",
       " {'tenor': '2M', 'endDate': '2024-03-01'}]"
      ]
     },
     "execution_count": 24,
     "metadata": {},
     "output_type": "execute_result"
    }
   ],
   "source": [
    "computed_dates = compute_dates(\n",
    "    tenors=[\"1M\", \"2M\"],\n",
    "    calendars=[ukg_cal.id],\n",
    "    start_date=datetime.date(2024, 1, 1),\n",
    "    date_moving_convention=DateMovingConvention.NEXT_BUSINESS_DAY\n",
    ")\n",
    "\n",
    "computed_dates"
   ]
  },
  {
   "cell_type": "markdown",
   "metadata": {},
   "source": [
    "### Generate date schedule\n",
    "\n",
    "Generates a schedule of dates for the calendar according to specified conditions."
   ]
  },
  {
   "cell_type": "code",
   "execution_count": 25,
   "metadata": {
    "execution": {
     "iopub.execute_input": "2025-09-18T08:59:07.652024Z",
     "iopub.status.busy": "2025-09-18T08:59:07.651714Z",
     "iopub.status.idle": "2025-09-18T08:59:07.803381Z",
     "shell.execute_reply": "2025-09-18T08:59:07.802809Z"
    }
   },
   "outputs": [
    {
     "data": {
      "text/plain": [
       "[datetime.date(2023, 1, 10),\n",
       " datetime.date(2023, 1, 17),\n",
       " datetime.date(2023, 1, 24),\n",
       " datetime.date(2023, 1, 31),\n",
       " datetime.date(2023, 2, 7),\n",
       " datetime.date(2023, 2, 14),\n",
       " datetime.date(2023, 2, 21)]"
      ]
     },
     "execution_count": 25,
     "metadata": {},
     "output_type": "execute_result"
    }
   ],
   "source": [
    "generated_date_schedule = generate_date_schedule(\n",
    "    frequency=Frequency.WEEKLY,\n",
    "    calendars=[ukg_cal.id],\n",
    "    start_date=datetime.date(2023, 1, 1),\n",
    "    count=7,\n",
    "    day_of_week=WeekDay.TUESDAY\n",
    ")\n",
    "\n",
    "generated_date_schedule"
   ]
  },
  {
   "cell_type": "markdown",
   "metadata": {},
   "source": [
    "### Generate holidays\n",
    "\n",
    "Gets the holidays for the calendar within a date range."
   ]
  },
  {
   "cell_type": "code",
   "execution_count": 26,
   "metadata": {
    "execution": {
     "iopub.execute_input": "2025-09-18T08:59:07.805460Z",
     "iopub.status.busy": "2025-09-18T08:59:07.805141Z",
     "iopub.status.idle": "2025-09-18T08:59:07.960653Z",
     "shell.execute_reply": "2025-09-18T08:59:07.960097Z"
    }
   },
   "outputs": [
    {
     "data": {
      "text/plain": [
       "[{'date': '2024-01-01', 'names': [{'name': \"New Year's Day\", 'calendars': ['LSEG/UKG'], 'countries': ['GBR']}]},\n",
       " {'date': '2024-03-29', 'names': [{'name': 'Good Friday', 'calendars': ['LSEG/UKG'], 'countries': ['GBR']}]},\n",
       " {'date': '2024-03-31', 'names': [{'name': 'Easter Sunday', 'calendars': ['LSEG/UKG'], 'countries': ['GBR']}]},\n",
       " {'date': '2024-04-01', 'names': [{'name': 'Easter Monday', 'calendars': ['LSEG/UKG'], 'countries': ['GBR']}]},\n",
       " {'date': '2024-05-06', 'names': [{'name': 'Early May Bank Holiday', 'calendars': ['LSEG/UKG'], 'countries': ['GBR']}]},\n",
       " {'date': '2024-05-27', 'names': [{'name': 'Spring Bank Holiday', 'calendars': ['LSEG/UKG'], 'countries': ['GBR']}]},\n",
       " {'date': '2024-08-26', 'names': [{'name': 'Summer Bank Holiday', 'calendars': ['LSEG/UKG'], 'countries': ['GBR']}]},\n",
       " {'date': '2024-12-25', 'names': [{'name': 'Christmas Day', 'calendars': ['LSEG/UKG'], 'countries': ['GBR']}]},\n",
       " {'date': '2024-12-26', 'names': [{'name': 'Boxing Day', 'calendars': ['LSEG/UKG'], 'countries': ['GBR']}]}]"
      ]
     },
     "execution_count": 26,
     "metadata": {},
     "output_type": "execute_result"
    }
   ],
   "source": [
    "generated_holidays = generate_holidays(\n",
    "    calendars=[ukg_cal.id],\n",
    "    start_date=datetime.date(2024, 1, 1),\n",
    "    end_date=datetime.date(2024, 12, 31),\n",
    ")\n",
    "\n",
    "generated_holidays"
   ]
  },
  {
   "cell_type": "markdown",
   "metadata": {},
   "source": [
    "## Delete\n",
    "\n",
    "You can delete a calendar from the server in the following ways:"
   ]
  },
  {
   "cell_type": "markdown",
   "metadata": {},
   "source": [
    "### By ID:"
   ]
  },
  {
   "cell_type": "code",
   "execution_count": 27,
   "metadata": {
    "execution": {
     "iopub.execute_input": "2025-09-18T08:59:07.963078Z",
     "iopub.status.busy": "2025-09-18T08:59:07.962664Z",
     "iopub.status.idle": "2025-09-18T08:59:08.140595Z",
     "shell.execute_reply": "2025-09-18T08:59:08.140133Z"
    }
   },
   "outputs": [
    {
     "data": {
      "text/plain": [
       "True"
      ]
     },
     "execution_count": 27,
     "metadata": {},
     "output_type": "execute_result"
    }
   ],
   "source": [
    "delete(resource_id=uk_cal_id)"
   ]
  },
  {
   "cell_type": "markdown",
   "metadata": {},
   "source": [
    "### By name and space unique pair"
   ]
  },
  {
   "cell_type": "code",
   "execution_count": 28,
   "metadata": {
    "execution": {
     "iopub.execute_input": "2025-09-18T08:59:08.142975Z",
     "iopub.status.busy": "2025-09-18T08:59:08.142636Z",
     "iopub.status.idle": "2025-09-18T08:59:08.433184Z",
     "shell.execute_reply": "2025-09-18T08:59:08.432472Z"
    }
   },
   "outputs": [
    {
     "data": {
      "text/plain": [
       "True"
      ]
     },
     "execution_count": 28,
     "metadata": {},
     "output_type": "execute_result"
    }
   ],
   "source": [
    "delete(name=\"My_Calendar\", space=\"HOME\")"
   ]
  }
 ],
 "metadata": {
  "kernelspec": {
   "display_name": ".venv",
   "language": "python",
   "name": "python3"
  },
  "language_info": {
   "codemirror_mode": {
    "name": "ipython",
    "version": 3
   },
   "file_extension": ".py",
   "mimetype": "text/x-python",
   "name": "python",
   "nbconvert_exporter": "python",
   "pygments_lexer": "ipython3",
   "version": "3.11.6"
  }
 },
 "nbformat": 4,
 "nbformat_minor": 2
}
