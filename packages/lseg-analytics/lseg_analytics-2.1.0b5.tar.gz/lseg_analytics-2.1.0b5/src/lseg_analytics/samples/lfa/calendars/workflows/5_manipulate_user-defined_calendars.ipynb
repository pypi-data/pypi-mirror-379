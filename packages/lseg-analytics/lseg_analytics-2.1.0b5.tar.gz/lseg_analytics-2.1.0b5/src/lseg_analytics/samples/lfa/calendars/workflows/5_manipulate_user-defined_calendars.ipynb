{
 "cells": [
  {
   "cell_type": "markdown",
   "metadata": {},
   "source": [
    "# Manipulate user-defined calendars\n",
    "This notebook explains how to manage user defined calendars."
   ]
  },
  {
   "cell_type": "markdown",
   "metadata": {},
   "source": [
    "## Start by importing the required libraries"
   ]
  },
  {
   "cell_type": "code",
   "execution_count": 1,
   "metadata": {
    "execution": {
     "iopub.execute_input": "2025-09-18T09:06:26.396780Z",
     "iopub.status.busy": "2025-09-18T09:06:26.396482Z",
     "iopub.status.idle": "2025-09-18T09:06:26.789629Z",
     "shell.execute_reply": "2025-09-18T09:06:26.789083Z"
    }
   },
   "outputs": [],
   "source": [
    "from lseg_analytics.reference_data import calendars\n",
    "from lseg_analytics.reference_data.calendars import Calendar, RestDays, HolidayRule, FullDayDuration, AbsolutePositionWhen, Observance, RelativeRescheduleDescription, CalendarDefinition\n",
    "from lseg_analytics_basic_client.models import Description\n",
    "from lseg_analytics.common import WeekDay, ValidityPeriod, Month"
   ]
  },
  {
   "cell_type": "markdown",
   "metadata": {},
   "source": [
    "## Create a new calendar\n",
    "Create a new calendar and give it a name, for example 'my_cal'. Update the description if you wish to add additional information."
   ]
  },
  {
   "cell_type": "code",
   "execution_count": 2,
   "metadata": {
    "execution": {
     "iopub.execute_input": "2025-09-18T09:06:26.794018Z",
     "iopub.status.busy": "2025-09-18T09:06:26.792164Z",
     "iopub.status.idle": "2025-09-18T09:06:26.799342Z",
     "shell.execute_reply": "2025-09-18T09:06:26.798839Z"
    }
   },
   "outputs": [],
   "source": [
    "my_cal = Calendar(\n",
    "    definition=CalendarDefinition(),\n",
    "    description=Description(summary=\"My personal calendar\"))\n",
    "  "
   ]
  },
  {
   "cell_type": "markdown",
   "metadata": {},
   "source": [
    "## Define the rest days\n",
    "Select the days of the week to be set as rest days and optionally set the validity period for the rest days. If not set, the validiy period is assumed to be perpetual. "
   ]
  },
  {
   "cell_type": "code",
   "execution_count": 3,
   "metadata": {
    "execution": {
     "iopub.execute_input": "2025-09-18T09:06:26.801420Z",
     "iopub.status.busy": "2025-09-18T09:06:26.801086Z",
     "iopub.status.idle": "2025-09-18T09:06:26.804548Z",
     "shell.execute_reply": "2025-09-18T09:06:26.804108Z"
    }
   },
   "outputs": [],
   "source": [
    "my_cal.definition.rest_days = [\n",
    "    RestDays(\n",
    "        rest_days=[WeekDay.SATURDAY, WeekDay.SUNDAY],\n",
    "        validity_period=ValidityPeriod(\n",
    "            start_date=\"2024-01-01\",\n",
    "            end_date=\"2024-12-31\",\n",
    "        ),\n",
    "    )\n",
    "]"
   ]
  },
  {
   "cell_type": "markdown",
   "metadata": {},
   "source": [
    "## Define the holiday rules\n",
    "Add multiple holiday rules as you need. For each rule provide a unique name, the duration (which can be either FullDayDuration or HalfDayDuration) and the validity period. The property 'when' should also be set to describe the type of holiday defined as either AbsolutePositionWhen (for fixed holidays), RelativePositionWhen (for holidays that fall on a particular day of the week) or RelativeToRulePositionWhen (for holidays that are set by reference to another date)."
   ]
  },
  {
   "cell_type": "code",
   "execution_count": 4,
   "metadata": {
    "execution": {
     "iopub.execute_input": "2025-09-18T09:06:26.806431Z",
     "iopub.status.busy": "2025-09-18T09:06:26.806121Z",
     "iopub.status.idle": "2025-09-18T09:06:26.810912Z",
     "shell.execute_reply": "2025-09-18T09:06:26.810415Z"
    }
   },
   "outputs": [],
   "source": [
    "my_cal.definition.holiday_rules = [\n",
    "    HolidayRule(\n",
    "        name=\"New Year's Day\",\n",
    "        duration=FullDayDuration(full_day=1),\n",
    "        validity_period=ValidityPeriod(\n",
    "            start_date=\"2024-01-01\",\n",
    "            end_date=\"2024-12-31\",\n",
    "        ),\n",
    "        when=AbsolutePositionWhen(day_of_month=1, month=Month.JANUARY),\n",
    "    ),\n",
    "]"
   ]
  },
  {
   "cell_type": "markdown",
   "metadata": {},
   "source": [
    "## Define the first day of the week for the calendar"
   ]
  },
  {
   "cell_type": "code",
   "execution_count": 5,
   "metadata": {
    "execution": {
     "iopub.execute_input": "2025-09-18T09:06:26.812962Z",
     "iopub.status.busy": "2025-09-18T09:06:26.812553Z",
     "iopub.status.idle": "2025-09-18T09:06:26.815170Z",
     "shell.execute_reply": "2025-09-18T09:06:26.814732Z"
    }
   },
   "outputs": [],
   "source": [
    "my_cal.definition.first_day_of_week = WeekDay.MONDAY"
   ]
  },
  {
   "cell_type": "markdown",
   "metadata": {},
   "source": [
    "## Save, search for and load calendars\n",
    "Once you have defined the calendar, you need to save it to your 'HOME' space so it can be accessed again. \n",
    "\n",
    "To see all the calendars you have saved, call the search method and specify which space. 'HOME' will search for all the calendars you defined and 'LSEG' will search for all the calendars defined by LSEG. \n",
    "\n",
    "To fetch a specific calendar, load it by specifying its name and space.\n"
   ]
  },
  {
   "cell_type": "code",
   "execution_count": 6,
   "metadata": {
    "execution": {
     "iopub.execute_input": "2025-09-18T09:06:26.817054Z",
     "iopub.status.busy": "2025-09-18T09:06:26.816788Z",
     "iopub.status.idle": "2025-09-18T09:06:27.686365Z",
     "shell.execute_reply": "2025-09-18T09:06:27.685863Z"
    }
   },
   "outputs": [],
   "source": [
    "# Save the calendar\n",
    "my_cal.save(name=\"My_Calendar\", space=\"HOME\")\n",
    " \n",
    "# Search for calendars of the user's space\n",
    "calendars.search(spaces=[\"HOME\"])\n",
    " \n",
    "# Load the calendar\n",
    "my_cal = None\n",
    "my_cal = calendars.load(name=\"My_Calendar\", space=\"HOME\")\n"
   ]
  },
  {
   "cell_type": "markdown",
   "metadata": {},
   "source": [
    "## Add further holiday rules to a calendar\n",
    "After saving the calendar, you can add further holiday rules by appending them to the list. Make sure to save the calendar again afterwards. "
   ]
  },
  {
   "cell_type": "code",
   "execution_count": 7,
   "metadata": {
    "execution": {
     "iopub.execute_input": "2025-09-18T09:06:27.688909Z",
     "iopub.status.busy": "2025-09-18T09:06:27.688531Z",
     "iopub.status.idle": "2025-09-18T09:06:27.917040Z",
     "shell.execute_reply": "2025-09-18T09:06:27.916374Z"
    }
   },
   "outputs": [
    {
     "data": {
      "text/plain": [
       "True"
      ]
     },
     "execution_count": 7,
     "metadata": {},
     "output_type": "execute_result"
    }
   ],
   "source": [
    "# Add a holiday rule\n",
    "my_cal.definition.holiday_rules.append(\n",
    "    HolidayRule(\n",
    "        name=\"My birthday\",\n",
    "        duration=FullDayDuration(full_day=1),\n",
    "        validity_period=ValidityPeriod(\n",
    "            start_date=\"2024-01-01\",\n",
    "            end_date=\"2024-12-31\",\n",
    "        ),\n",
    "        when=AbsolutePositionWhen(day_of_month=18, month=Month.JUNE),\n",
    "    )\n",
    ")\n",
    "\n",
    "# Save the updated calendar\n",
    "my_cal.save()"
   ]
  },
  {
   "cell_type": "markdown",
   "metadata": {},
   "source": [
    "## Display the holiday rules"
   ]
  },
  {
   "cell_type": "code",
   "execution_count": 8,
   "metadata": {
    "execution": {
     "iopub.execute_input": "2025-09-18T09:06:27.919358Z",
     "iopub.status.busy": "2025-09-18T09:06:27.918868Z",
     "iopub.status.idle": "2025-09-18T09:06:27.922473Z",
     "shell.execute_reply": "2025-09-18T09:06:27.921909Z"
    }
   },
   "outputs": [
    {
     "name": "stdout",
     "output_type": "stream",
     "text": [
      "New Year's Day\n",
      "My birthday\n"
     ]
    }
   ],
   "source": [
    "for rule in my_cal.definition.holiday_rules:\n",
    "    print(rule.name)"
   ]
  },
  {
   "cell_type": "markdown",
   "metadata": {},
   "source": [
    "## Use the user-defined calendar in calendar functions\n",
    "You can use the user-defined calendars in all calendar functions, taken into account the userdefined-rules that have been defined. Below is an example with generate_holidays function"
   ]
  },
  {
   "cell_type": "code",
   "execution_count": 9,
   "metadata": {
    "execution": {
     "iopub.execute_input": "2025-09-18T09:06:27.924540Z",
     "iopub.status.busy": "2025-09-18T09:06:27.924188Z",
     "iopub.status.idle": "2025-09-18T09:06:28.116156Z",
     "shell.execute_reply": "2025-09-18T09:06:28.115383Z"
    }
   },
   "outputs": [
    {
     "name": "stdout",
     "output_type": "stream",
     "text": [
      "2024-01-01 - New Year's Day\n",
      "2024-06-18 - My birthday\n"
     ]
    }
   ],
   "source": [
    "# Generate the list of holidays for 2024\n",
    "holidays = calendars.generate_holidays(\n",
    "    calendars=[\n",
    "        \"HOME/My_Calendar\"\n",
    "    ],\n",
    "    start_date=\"2024-01-01\",\n",
    "    end_date=\"2024-12-31\"\n",
    ")\n",
    "  \n",
    "# Display the generated holidays\n",
    "for holiday in holidays:\n",
    "    print(holiday.date, '-', holiday.names[0].name)"
   ]
  },
  {
   "cell_type": "markdown",
   "metadata": {},
   "source": [
    "## If you want to clean up your space, delete the calendar"
   ]
  },
  {
   "cell_type": "code",
   "execution_count": 10,
   "metadata": {
    "execution": {
     "iopub.execute_input": "2025-09-18T09:06:28.118900Z",
     "iopub.status.busy": "2025-09-18T09:06:28.118497Z",
     "iopub.status.idle": "2025-09-18T09:06:28.397166Z",
     "shell.execute_reply": "2025-09-18T09:06:28.396513Z"
    }
   },
   "outputs": [
    {
     "data": {
      "text/plain": [
       "True"
      ]
     },
     "execution_count": 10,
     "metadata": {},
     "output_type": "execute_result"
    }
   ],
   "source": [
    "calendars.delete(name=\"My_Calendar\", space=\"HOME\")"
   ]
  }
 ],
 "metadata": {
  "kernelspec": {
   "display_name": ".venv",
   "language": "python",
   "name": "python3"
  },
  "language_info": {
   "codemirror_mode": {
    "name": "ipython",
    "version": 3
   },
   "file_extension": ".py",
   "mimetype": "text/x-python",
   "name": "python",
   "nbconvert_exporter": "python",
   "pygments_lexer": "ipython3",
   "version": "3.11.6"
  }
 },
 "nbformat": 4,
 "nbformat_minor": 2
}
