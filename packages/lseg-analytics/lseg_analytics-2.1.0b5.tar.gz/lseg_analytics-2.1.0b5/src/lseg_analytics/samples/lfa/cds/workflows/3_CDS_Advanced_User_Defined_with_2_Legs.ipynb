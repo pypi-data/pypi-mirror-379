{
 "cells": [
  {
   "cell_type": "markdown",
   "id": "1a108871",
   "metadata": {},
   "source": [
    "# Credit Default Swaps (CDS) Advanced User Defined 2 Legs "
   ]
  },
  {
   "cell_type": "markdown",
   "id": "e3677ece",
   "metadata": {},
   "source": [
    "In this notebook, we will work with a **advanced user defined CDS instrument** to demonstrate how to access and interpret **main CDS fields** returned by the analytics response.\n",
    "\n",
    "You will be able to:\n",
    "\n",
    "- Advanced CDS instrument definition: user defined premium and protection legs\n",
    "- Configure pricing settings \n",
    "- Explore main analytics fields: description, valuation, nominal measures, pricing analysis, spread measures and cash-flows\n",
    "- Plot CDS Cashflows, DFs & Survival Probabilities\n"
   ]
  },
  {
   "cell_type": "markdown",
   "id": "c545bed5",
   "metadata": {},
   "source": [
    "## Imports"
   ]
  },
  {
   "cell_type": "markdown",
   "id": "5a2157a4-64d5-4b2e-93dc-aaeae57e199a",
   "metadata": {},
   "source": [
    "Import the following necessary modules:\n",
    "\n",
    "- `lseg_analytics.instruments.cds` - for CDS instruments definitions and analytics"
   ]
  },
  {
   "cell_type": "code",
   "execution_count": 1,
   "id": "c54dd812",
   "metadata": {
    "execution": {
     "iopub.execute_input": "2025-09-18T09:06:44.912716Z",
     "iopub.status.busy": "2025-09-18T09:06:44.912359Z",
     "iopub.status.idle": "2025-09-18T09:06:45.966599Z",
     "shell.execute_reply": "2025-09-18T09:06:45.966041Z"
    }
   },
   "outputs": [],
   "source": [
    "from lseg_analytics.instruments import cds\n",
    "\n",
    "import pandas as pd\n",
    "import json\n",
    "import matplotlib.pyplot as plt\n",
    "import datetime as dt\n",
    "from IPython.display import display"
   ]
  },
  {
   "cell_type": "markdown",
   "id": "9b0cc193",
   "metadata": {},
   "source": [
    "## Data Preparation\n",
    "\n",
    "To define a CDS instrument you need to follow a structured 3-step process:\n",
    "\n",
    "1. **CDS Definition** -  advanced users with 2 (premium and protection) legs set of parameters to override \n",
    "2. **CDS Instrument Definition** - Create the instrument object\n",
    "3. **Pricing Preferences** - Configure pricing parameters, optional"
   ]
  },
  {
   "cell_type": "markdown",
   "id": "759ec01d-3e08-46da-861d-778dce37af7c",
   "metadata": {},
   "source": [
    "## CDS Instrument Definition"
   ]
  },
  {
   "cell_type": "code",
   "execution_count": 2,
   "id": "a6e29ab7",
   "metadata": {
    "execution": {
     "iopub.execute_input": "2025-09-18T09:06:45.971173Z",
     "iopub.status.busy": "2025-09-18T09:06:45.969339Z",
     "iopub.status.idle": "2025-09-18T09:06:45.980924Z",
     "shell.execute_reply": "2025-09-18T09:06:45.980329Z"
    }
   },
   "outputs": [
    {
     "name": "stdout",
     "output_type": "stream",
     "text": [
      "CDS instrument definition created with payload parameters\n",
      "Pricing parameters configured with payload parameters\n"
     ]
    }
   ],
   "source": [
    "# 1. Define the CDS legs using the provided payload parameters\n",
    "# Premium leg - the leg that pays the CDS spread\n",
    "premium_leg = cds.PremiumLegDefinition(\n",
    "    direction = cds.IPADirectionEnum.PAID.value,                              # Pay premium (buy protection)\n",
    "    notional_amount = 10000000,                                               # €10M notional \n",
    "    notional_ccy = \"EUR\",                                                     # EUR currency \n",
    "    interest_payment_ccy = \"EUR\",                                             # EUR payment currency \n",
    "    fixed_rate_percent = 0.889,                                               # 0.889% spread (88.9 bps) \n",
    "    interest_payment_frequency = cds.InterestPaymentFrequencyEnum.QUARTERLY.value,  # Quarterly payments \n",
    "    accrued_paid_on_default = True,                                           # Accrued paid on default \n",
    ")\n",
    "\n",
    "# Protection leg - the leg that provides protection\n",
    "protection_leg = cds.ProtectionLegDefinition(\n",
    "    direction = cds.IPADirectionEnum.RECEIVED.value,                          # Receive protection\n",
    "    reference_entity = \"BNPP.PA\",                                             # BNP Paribas \n",
    "    notional_amount = 10000000,                                               # €10M notional \n",
    "    notional_ccy = \"EUR\",                                                     # EUR currency \n",
    "    recovery_rate = 0.4,                                                      # 40% recovery rate \n",
    "    settlement_convention = \"3WD\"                                             # 3 working days settlement \n",
    ")\n",
    "\n",
    "# CDS Definition combining both legs with payload parameters\n",
    "cds_definition = cds.CdsDefinition(\n",
    "    instrument_tag = \"My_CDS\",                                                # Instrument tag \n",
    "    cds_convention = cds.CdsConventionEnum.USER_DEFINED.value,                # User Defined convention \n",
    "    trade_date = dt.datetime.strptime(\"2022-12-08\", \"%Y-%m-%d\"),              # Trade date \n",
    "    step_in_date = dt.datetime.strptime(\"2022-12-10\", \"%Y-%m-%d\"),            # Step-in date \n",
    "    start_date = dt.datetime.strptime(\"2022-12-31\", \"%Y-%m-%d\"),              # Start date\n",
    "    tenor = \"2Y\",                                                             # 2 year tenor \n",
    "    premium_leg = premium_leg,\n",
    "    protection_leg = protection_leg\n",
    ")\n",
    "\n",
    "cds_instrument = cds.CdsDefinitionInstrument(definition = cds_definition)\n",
    "print(\"CDS instrument definition created with payload parameters\")\n",
    "\n",
    "# 2. Configure pricing parameters from payload, optional\n",
    "pricing_params = cds.CdsPricingParameters(\n",
    "    valuation_date = dt.datetime.strptime(\"2023-02-02\", \"%Y-%m-%d\"),          # Valuation date \n",
    "    report_ccy = \"USD\"                                                        # Report currency \n",
    ")\n",
    "print(\"Pricing parameters configured with payload parameters\")"
   ]
  },
  {
   "cell_type": "markdown",
   "id": "59493901",
   "metadata": {},
   "source": [
    "## Request Execution"
   ]
  },
  {
   "cell_type": "code",
   "execution_count": 3,
   "id": "297652f9",
   "metadata": {
    "execution": {
     "iopub.execute_input": "2025-09-18T09:06:45.982889Z",
     "iopub.status.busy": "2025-09-18T09:06:45.982582Z",
     "iopub.status.idle": "2025-09-18T09:06:47.203349Z",
     "shell.execute_reply": "2025-09-18T09:06:47.202793Z"
    }
   },
   "outputs": [
    {
     "name": "stdout",
     "output_type": "stream",
     "text": [
      "CDS pricing execution completed\n"
     ]
    }
   ],
   "source": [
    " # Execute the calculation using the price() function with error handling\n",
    "try:\n",
    "    # The 'definitions' parameter accepts a list of request items for batch processing\n",
    "    response = cds.price(\n",
    "        definitions=[cds_instrument],\n",
    "        pricing_preferences=pricing_params\n",
    "    )\n",
    "    errors = [a.error for a in response.data.analytics if a.error]\n",
    "    if errors:\n",
    "        raise Exception(errors[0].message)\n",
    "    print(\"CDS pricing execution completed\")\n",
    "except Exception as e:\n",
    "    print(f\"Price Calculation failed: {str(e)}\")\n",
    "    raise"
   ]
  },
  {
   "cell_type": "markdown",
   "id": "b58ed807",
   "metadata": {},
   "source": [
    "## Results Display"
   ]
  },
  {
   "cell_type": "markdown",
   "id": "8fbfaa6c",
   "metadata": {},
   "source": [
    "#### Key Sections in the `response` JSON\n",
    "\n",
    "- **definitions**: Instrument setup (e.g., instrument code, protection leg, premium leg), as CdsDefinition.\n",
    "- **pricingPreferences**: Valuation date, price side, currency settings.\n",
    "- **analytics**:\n",
    "  - **tabularData**: Main analytics table with `data`, `headers`, `statuses` (all analytics fields, including arrays and scalars)\n",
    "  - **description**: Instrument summary and static reference data (e.g., notional, dates, conventions)\n",
    "  - **valuation**: Key valuation results (e.g., marketValueInDealCcy, upfrontAmount, accrued values)\n",
    "  - **nominalMeasures**: Risk and sensitivity measures (e.g., CR01, DV01, RR01, jump to default, default probability)\n",
    "  - **pricingAnalysis**: Core pricing metrics (e.g., spreads, rates, recovery, price)\n",
    "  - **spreadMeasures**: Spread-based risk metrics (e.g., conventionalSpreadBp)\n",
    "  - **cashflows**: \n",
    "    - **Single values**: nextCouponDate, cashAmountInDealCcy, cashAmountInReportCcy (shown in one DataFrame)\n",
    "    - **Arrays**: cashFlowDatesArray, cashFlowTotalAmountsInDealCcyArray, cashFlowDiscountFactorsArray, cashFlowSurvivalProbabilitiesArray (shown in a separate DataFrame)\n",
    "  - **error**: Root cause of the issue, if any\n",
    "\n",
    "We give below some details on description, valuation, nominalMeasures, pricingAnalysis, spreadMeasures and cashflows sections"
   ]
  },
  {
   "cell_type": "markdown",
   "id": "f664f621",
   "metadata": {},
   "source": [
    "### Description\n",
    "\n",
    "CDS Instrument Details"
   ]
  },
  {
   "cell_type": "code",
   "execution_count": 4,
   "id": "b862e7b0",
   "metadata": {
    "execution": {
     "iopub.execute_input": "2025-09-18T09:06:47.206114Z",
     "iopub.status.busy": "2025-09-18T09:06:47.205835Z",
     "iopub.status.idle": "2025-09-18T09:06:47.215263Z",
     "shell.execute_reply": "2025-09-18T09:06:47.214768Z"
    }
   },
   "outputs": [
    {
     "data": {
      "text/html": [
       "<div>\n",
       "<style scoped>\n",
       "    .dataframe tbody tr th:only-of-type {\n",
       "        vertical-align: middle;\n",
       "    }\n",
       "\n",
       "    .dataframe tbody tr th {\n",
       "        vertical-align: top;\n",
       "    }\n",
       "\n",
       "    .dataframe thead th {\n",
       "        text-align: right;\n",
       "    }\n",
       "</style>\n",
       "<table border=\"1\" class=\"dataframe\">\n",
       "  <thead>\n",
       "    <tr style=\"text-align: right;\">\n",
       "      <th></th>\n",
       "      <th>Field</th>\n",
       "      <th>Value</th>\n",
       "    </tr>\n",
       "  </thead>\n",
       "  <tbody>\n",
       "    <tr>\n",
       "      <th>0</th>\n",
       "      <td>instrumentTag</td>\n",
       "      <td>My_CDS</td>\n",
       "    </tr>\n",
       "    <tr>\n",
       "      <th>1</th>\n",
       "      <td>instrumentDescription</td>\n",
       "      <td>BNP.EUR.SNRFOR.MM</td>\n",
       "    </tr>\n",
       "    <tr>\n",
       "      <th>2</th>\n",
       "      <td>referenceEntity</td>\n",
       "      <td>BNPP.PA</td>\n",
       "    </tr>\n",
       "    <tr>\n",
       "      <th>3</th>\n",
       "      <td>notionalCcy</td>\n",
       "      <td>EUR</td>\n",
       "    </tr>\n",
       "    <tr>\n",
       "      <th>4</th>\n",
       "      <td>notionalAmount</td>\n",
       "      <td>10000000.0</td>\n",
       "    </tr>\n",
       "    <tr>\n",
       "      <th>5</th>\n",
       "      <td>reportCcy</td>\n",
       "      <td>USD</td>\n",
       "    </tr>\n",
       "    <tr>\n",
       "      <th>6</th>\n",
       "      <td>settlementConvention</td>\n",
       "      <td>3WD</td>\n",
       "    </tr>\n",
       "    <tr>\n",
       "      <th>7</th>\n",
       "      <td>settlementDate</td>\n",
       "      <td>2023-02-07</td>\n",
       "    </tr>\n",
       "    <tr>\n",
       "      <th>8</th>\n",
       "      <td>tradeDate</td>\n",
       "      <td>2022-12-08T00:00:00Z</td>\n",
       "    </tr>\n",
       "    <tr>\n",
       "      <th>9</th>\n",
       "      <td>stepInDate</td>\n",
       "      <td>2022-12-10T00:00:00Z</td>\n",
       "    </tr>\n",
       "    <tr>\n",
       "      <th>10</th>\n",
       "      <td>startDate</td>\n",
       "      <td>2023-01-02T00:00:00Z</td>\n",
       "    </tr>\n",
       "    <tr>\n",
       "      <th>11</th>\n",
       "      <td>endDate</td>\n",
       "      <td>2025-01-02T00:00:00Z</td>\n",
       "    </tr>\n",
       "    <tr>\n",
       "      <th>12</th>\n",
       "      <td>tenor</td>\n",
       "      <td>2Y</td>\n",
       "    </tr>\n",
       "    <tr>\n",
       "      <th>13</th>\n",
       "      <td>firstAccrualDate</td>\n",
       "      <td>2023-01-02</td>\n",
       "    </tr>\n",
       "    <tr>\n",
       "      <th>14</th>\n",
       "      <td>firstRegularPaymentDate</td>\n",
       "      <td>2023-04-03T00:00:00Z</td>\n",
       "    </tr>\n",
       "    <tr>\n",
       "      <th>15</th>\n",
       "      <td>lastRegularPaymentDate</td>\n",
       "      <td>2024-10-02T00:00:00Z</td>\n",
       "    </tr>\n",
       "    <tr>\n",
       "      <th>16</th>\n",
       "      <td>interestPaymentFrequency</td>\n",
       "      <td>Quarterly</td>\n",
       "    </tr>\n",
       "    <tr>\n",
       "      <th>17</th>\n",
       "      <td>interestCalculationMethod</td>\n",
       "      <td>Dcb_Actual_360</td>\n",
       "    </tr>\n",
       "    <tr>\n",
       "      <th>18</th>\n",
       "      <td>accruedCalculationMethod</td>\n",
       "      <td>Dcb_Actual_360</td>\n",
       "    </tr>\n",
       "    <tr>\n",
       "      <th>19</th>\n",
       "      <td>paymentBusinessDayConvention</td>\n",
       "      <td>NextBusinessDay</td>\n",
       "    </tr>\n",
       "    <tr>\n",
       "      <th>20</th>\n",
       "      <td>paymentBusinessDays</td>\n",
       "      <td>WEEKEND</td>\n",
       "    </tr>\n",
       "    <tr>\n",
       "      <th>21</th>\n",
       "      <td>discountCurveId</td>\n",
       "      <td>IRCurve_EURESTROIS_2023-02-01T00:00:00</td>\n",
       "    </tr>\n",
       "    <tr>\n",
       "      <th>22</th>\n",
       "      <td>forwardCurveId</td>\n",
       "      <td>IRCurve_EURESTROIS_2023-02-01T00:00:00</td>\n",
       "    </tr>\n",
       "    <tr>\n",
       "      <th>23</th>\n",
       "      <td>creditCurveId</td>\n",
       "      <td>CdsIssuerCurve0#BNPPEUAMRBMK=2023-02-01T00:00:00</td>\n",
       "    </tr>\n",
       "    <tr>\n",
       "      <th>24</th>\n",
       "      <td>seniority</td>\n",
       "      <td>SeniorUnsecured</td>\n",
       "    </tr>\n",
       "    <tr>\n",
       "      <th>25</th>\n",
       "      <td>docClause</td>\n",
       "      <td>ModModRestruct14</td>\n",
       "    </tr>\n",
       "  </tbody>\n",
       "</table>\n",
       "</div>"
      ],
      "text/plain": [
       "                           Field  \\\n",
       "0                  instrumentTag   \n",
       "1          instrumentDescription   \n",
       "2                referenceEntity   \n",
       "3                    notionalCcy   \n",
       "4                 notionalAmount   \n",
       "5                      reportCcy   \n",
       "6           settlementConvention   \n",
       "7                 settlementDate   \n",
       "8                      tradeDate   \n",
       "9                     stepInDate   \n",
       "10                     startDate   \n",
       "11                       endDate   \n",
       "12                         tenor   \n",
       "13              firstAccrualDate   \n",
       "14       firstRegularPaymentDate   \n",
       "15        lastRegularPaymentDate   \n",
       "16      interestPaymentFrequency   \n",
       "17     interestCalculationMethod   \n",
       "18      accruedCalculationMethod   \n",
       "19  paymentBusinessDayConvention   \n",
       "20           paymentBusinessDays   \n",
       "21               discountCurveId   \n",
       "22                forwardCurveId   \n",
       "23                 creditCurveId   \n",
       "24                     seniority   \n",
       "25                     docClause   \n",
       "\n",
       "                                               Value  \n",
       "0                                             My_CDS  \n",
       "1                                  BNP.EUR.SNRFOR.MM  \n",
       "2                                            BNPP.PA  \n",
       "3                                                EUR  \n",
       "4                                         10000000.0  \n",
       "5                                                USD  \n",
       "6                                                3WD  \n",
       "7                                         2023-02-07  \n",
       "8                               2022-12-08T00:00:00Z  \n",
       "9                               2022-12-10T00:00:00Z  \n",
       "10                              2023-01-02T00:00:00Z  \n",
       "11                              2025-01-02T00:00:00Z  \n",
       "12                                                2Y  \n",
       "13                                        2023-01-02  \n",
       "14                              2023-04-03T00:00:00Z  \n",
       "15                              2024-10-02T00:00:00Z  \n",
       "16                                         Quarterly  \n",
       "17                                    Dcb_Actual_360  \n",
       "18                                    Dcb_Actual_360  \n",
       "19                                   NextBusinessDay  \n",
       "20                                           WEEKEND  \n",
       "21            IRCurve_EURESTROIS_2023-02-01T00:00:00  \n",
       "22            IRCurve_EURESTROIS_2023-02-01T00:00:00  \n",
       "23  CdsIssuerCurve0#BNPPEUAMRBMK=2023-02-01T00:00:00  \n",
       "24                                   SeniorUnsecured  \n",
       "25                                  ModModRestruct14  "
      ]
     },
     "metadata": {},
     "output_type": "display_data"
    }
   ],
   "source": [
    "# Extract analytics section from response\n",
    "analytics = response.data.analytics[0]\n",
    "\n",
    "# Access description data from response\n",
    "description_dict = analytics.description.as_dict()\n",
    "df_description = pd.DataFrame(list(description_dict.items()), columns=[\"Field\", \"Value\"])\n",
    "display(df_description)"
   ]
  },
  {
   "cell_type": "markdown",
   "id": "aad160f7",
   "metadata": {},
   "source": [
    "### Valuation\n",
    "\n",
    "Detailed CDS valuation"
   ]
  },
  {
   "cell_type": "code",
   "execution_count": 5,
   "id": "ef727fde",
   "metadata": {
    "execution": {
     "iopub.execute_input": "2025-09-18T09:06:47.217643Z",
     "iopub.status.busy": "2025-09-18T09:06:47.217383Z",
     "iopub.status.idle": "2025-09-18T09:06:47.223257Z",
     "shell.execute_reply": "2025-09-18T09:06:47.222777Z"
    }
   },
   "outputs": [
    {
     "data": {
      "text/html": [
       "<div>\n",
       "<style scoped>\n",
       "    .dataframe tbody tr th:only-of-type {\n",
       "        vertical-align: middle;\n",
       "    }\n",
       "\n",
       "    .dataframe tbody tr th {\n",
       "        vertical-align: top;\n",
       "    }\n",
       "\n",
       "    .dataframe thead th {\n",
       "        text-align: right;\n",
       "    }\n",
       "</style>\n",
       "<table border=\"1\" class=\"dataframe\">\n",
       "  <thead>\n",
       "    <tr style=\"text-align: right;\">\n",
       "      <th></th>\n",
       "      <th>Field</th>\n",
       "      <th>Value</th>\n",
       "    </tr>\n",
       "  </thead>\n",
       "  <tbody>\n",
       "    <tr>\n",
       "      <th>0</th>\n",
       "      <td>accruedDays</td>\n",
       "      <td>32.000000</td>\n",
       "    </tr>\n",
       "    <tr>\n",
       "      <th>1</th>\n",
       "      <td>accruedPercent</td>\n",
       "      <td>0.079022</td>\n",
       "    </tr>\n",
       "    <tr>\n",
       "      <th>2</th>\n",
       "      <td>accruedAmountInDealCcy</td>\n",
       "      <td>-7902.222222</td>\n",
       "    </tr>\n",
       "    <tr>\n",
       "      <th>3</th>\n",
       "      <td>accruedAmountInReportCcy</td>\n",
       "      <td>-8622.904889</td>\n",
       "    </tr>\n",
       "    <tr>\n",
       "      <th>4</th>\n",
       "      <td>upfrontAmountInDealCcy</td>\n",
       "      <td>-113340.620388</td>\n",
       "    </tr>\n",
       "    <tr>\n",
       "      <th>5</th>\n",
       "      <td>upfrontAmountInReportCcy</td>\n",
       "      <td>-123677.284968</td>\n",
       "    </tr>\n",
       "    <tr>\n",
       "      <th>6</th>\n",
       "      <td>marketValueInDealCcy</td>\n",
       "      <td>-121209.849545</td>\n",
       "    </tr>\n",
       "    <tr>\n",
       "      <th>7</th>\n",
       "      <td>marketValueInReportCcy</td>\n",
       "      <td>-132264.187824</td>\n",
       "    </tr>\n",
       "    <tr>\n",
       "      <th>8</th>\n",
       "      <td>cleanMarketValueInDealCcy</td>\n",
       "      <td>-113309.777706</td>\n",
       "    </tr>\n",
       "    <tr>\n",
       "      <th>9</th>\n",
       "      <td>cleanMarketValueInReportCcy</td>\n",
       "      <td>-123643.629433</td>\n",
       "    </tr>\n",
       "  </tbody>\n",
       "</table>\n",
       "</div>"
      ],
      "text/plain": [
       "                         Field          Value\n",
       "0                  accruedDays      32.000000\n",
       "1               accruedPercent       0.079022\n",
       "2       accruedAmountInDealCcy   -7902.222222\n",
       "3     accruedAmountInReportCcy   -8622.904889\n",
       "4       upfrontAmountInDealCcy -113340.620388\n",
       "5     upfrontAmountInReportCcy -123677.284968\n",
       "6         marketValueInDealCcy -121209.849545\n",
       "7       marketValueInReportCcy -132264.187824\n",
       "8    cleanMarketValueInDealCcy -113309.777706\n",
       "9  cleanMarketValueInReportCcy -123643.629433"
      ]
     },
     "metadata": {},
     "output_type": "display_data"
    }
   ],
   "source": [
    "\n",
    "# Display valuation as DataFrame (if available)\n",
    "valuation = analytics.valuation\n",
    "if valuation:\n",
    "    display(pd.DataFrame(valuation.as_dict().items(), columns=[\"Field\", \"Value\"]))\n",
    "else:\n",
    "    print(\"No valuation data available\")"
   ]
  },
  {
   "cell_type": "markdown",
   "id": "bfd78713",
   "metadata": {},
   "source": [
    "### Nominal Measures \n",
    "Key risk measures used in CDS valuation and sensitivity analysis"
   ]
  },
  {
   "cell_type": "code",
   "execution_count": 6,
   "id": "1f96e987",
   "metadata": {
    "execution": {
     "iopub.execute_input": "2025-09-18T09:06:47.225259Z",
     "iopub.status.busy": "2025-09-18T09:06:47.225011Z",
     "iopub.status.idle": "2025-09-18T09:06:47.230757Z",
     "shell.execute_reply": "2025-09-18T09:06:47.230284Z"
    }
   },
   "outputs": [
    {
     "data": {
      "text/html": [
       "<div>\n",
       "<style scoped>\n",
       "    .dataframe tbody tr th:only-of-type {\n",
       "        vertical-align: middle;\n",
       "    }\n",
       "\n",
       "    .dataframe tbody tr th {\n",
       "        vertical-align: top;\n",
       "    }\n",
       "\n",
       "    .dataframe thead th {\n",
       "        text-align: right;\n",
       "    }\n",
       "</style>\n",
       "<table border=\"1\" class=\"dataframe\">\n",
       "  <thead>\n",
       "    <tr style=\"text-align: right;\">\n",
       "      <th></th>\n",
       "      <th>Field</th>\n",
       "      <th>Value</th>\n",
       "    </tr>\n",
       "  </thead>\n",
       "  <tbody>\n",
       "    <tr>\n",
       "      <th>0</th>\n",
       "      <td>cr01Bp</td>\n",
       "      <td>1.891087e+00</td>\n",
       "    </tr>\n",
       "    <tr>\n",
       "      <th>1</th>\n",
       "      <td>cr01AmountInDealCcy</td>\n",
       "      <td>1.891087e+03</td>\n",
       "    </tr>\n",
       "    <tr>\n",
       "      <th>2</th>\n",
       "      <td>cr01AmountInReportCcy</td>\n",
       "      <td>2.063554e+03</td>\n",
       "    </tr>\n",
       "    <tr>\n",
       "      <th>3</th>\n",
       "      <td>dv01Bp</td>\n",
       "      <td>1.168819e-02</td>\n",
       "    </tr>\n",
       "    <tr>\n",
       "      <th>4</th>\n",
       "      <td>dv01AmountInDealCcy</td>\n",
       "      <td>1.168819e+01</td>\n",
       "    </tr>\n",
       "    <tr>\n",
       "      <th>5</th>\n",
       "      <td>dv01AmountInReportCcy</td>\n",
       "      <td>1.275416e+01</td>\n",
       "    </tr>\n",
       "    <tr>\n",
       "      <th>6</th>\n",
       "      <td>rr01Bp</td>\n",
       "      <td>9.087028e-01</td>\n",
       "    </tr>\n",
       "    <tr>\n",
       "      <th>7</th>\n",
       "      <td>rr01AmountInDealCcy</td>\n",
       "      <td>9.087028e+02</td>\n",
       "    </tr>\n",
       "    <tr>\n",
       "      <th>8</th>\n",
       "      <td>rr01AmountInReportCcy</td>\n",
       "      <td>9.915765e+02</td>\n",
       "    </tr>\n",
       "    <tr>\n",
       "      <th>9</th>\n",
       "      <td>jumpToDefaultBp</td>\n",
       "      <td>6.113341e+03</td>\n",
       "    </tr>\n",
       "    <tr>\n",
       "      <th>10</th>\n",
       "      <td>jumpToDefaultAmountInDealCcy</td>\n",
       "      <td>6.113341e+06</td>\n",
       "    </tr>\n",
       "    <tr>\n",
       "      <th>11</th>\n",
       "      <td>jumpToDefaultAmountInReportCcy</td>\n",
       "      <td>6.670877e+06</td>\n",
       "    </tr>\n",
       "    <tr>\n",
       "      <th>12</th>\n",
       "      <td>defaultProbability</td>\n",
       "      <td>9.186245e-03</td>\n",
       "    </tr>\n",
       "  </tbody>\n",
       "</table>\n",
       "</div>"
      ],
      "text/plain": [
       "                             Field         Value\n",
       "0                           cr01Bp  1.891087e+00\n",
       "1              cr01AmountInDealCcy  1.891087e+03\n",
       "2            cr01AmountInReportCcy  2.063554e+03\n",
       "3                           dv01Bp  1.168819e-02\n",
       "4              dv01AmountInDealCcy  1.168819e+01\n",
       "5            dv01AmountInReportCcy  1.275416e+01\n",
       "6                           rr01Bp  9.087028e-01\n",
       "7              rr01AmountInDealCcy  9.087028e+02\n",
       "8            rr01AmountInReportCcy  9.915765e+02\n",
       "9                  jumpToDefaultBp  6.113341e+03\n",
       "10    jumpToDefaultAmountInDealCcy  6.113341e+06\n",
       "11  jumpToDefaultAmountInReportCcy  6.670877e+06\n",
       "12              defaultProbability  9.186245e-03"
      ]
     },
     "metadata": {},
     "output_type": "display_data"
    }
   ],
   "source": [
    "# Access nominal measures from response\n",
    "nominal_dict = analytics.nominal_measures.as_dict()\n",
    "df_nominal = pd.DataFrame(list(nominal_dict.items()), columns=[\"Field\", \"Value\"])\n",
    "display(df_nominal)"
   ]
  },
  {
   "cell_type": "markdown",
   "id": "d90d8c9e",
   "metadata": {},
   "source": [
    "### Pricing Analysis\n",
    "\n",
    "Pricing details to get a better understanding of the valuation"
   ]
  },
  {
   "cell_type": "code",
   "execution_count": 7,
   "id": "74d68d74",
   "metadata": {
    "execution": {
     "iopub.execute_input": "2025-09-18T09:06:47.232599Z",
     "iopub.status.busy": "2025-09-18T09:06:47.232361Z",
     "iopub.status.idle": "2025-09-18T09:06:47.237639Z",
     "shell.execute_reply": "2025-09-18T09:06:47.237152Z"
    }
   },
   "outputs": [
    {
     "data": {
      "text/html": [
       "<div>\n",
       "<style scoped>\n",
       "    .dataframe tbody tr th:only-of-type {\n",
       "        vertical-align: middle;\n",
       "    }\n",
       "\n",
       "    .dataframe tbody tr th {\n",
       "        vertical-align: top;\n",
       "    }\n",
       "\n",
       "    .dataframe thead th {\n",
       "        text-align: right;\n",
       "    }\n",
       "</style>\n",
       "<table border=\"1\" class=\"dataframe\">\n",
       "  <thead>\n",
       "    <tr style=\"text-align: right;\">\n",
       "      <th></th>\n",
       "      <th>Field</th>\n",
       "      <th>Value</th>\n",
       "    </tr>\n",
       "  </thead>\n",
       "  <tbody>\n",
       "    <tr>\n",
       "      <th>0</th>\n",
       "      <td>marketDataDate</td>\n",
       "      <td>2023-02-02T00:00:00Z</td>\n",
       "    </tr>\n",
       "    <tr>\n",
       "      <th>1</th>\n",
       "      <td>valuationDate</td>\n",
       "      <td>2023-02-02T00:00:00Z</td>\n",
       "    </tr>\n",
       "    <tr>\n",
       "      <th>2</th>\n",
       "      <td>fixedRatePercent</td>\n",
       "      <td>0.889</td>\n",
       "    </tr>\n",
       "    <tr>\n",
       "      <th>3</th>\n",
       "      <td>recoveryRatePercent</td>\n",
       "      <td>40.0</td>\n",
       "    </tr>\n",
       "    <tr>\n",
       "      <th>4</th>\n",
       "      <td>upfrontPercent</td>\n",
       "      <td>-1.133406</td>\n",
       "    </tr>\n",
       "    <tr>\n",
       "      <th>5</th>\n",
       "      <td>pricePercent</td>\n",
       "      <td>101.212428</td>\n",
       "    </tr>\n",
       "    <tr>\n",
       "      <th>6</th>\n",
       "      <td>cleanPricePercent</td>\n",
       "      <td>101.133406</td>\n",
       "    </tr>\n",
       "    <tr>\n",
       "      <th>7</th>\n",
       "      <td>dealSpreadBp</td>\n",
       "      <td>88.9</td>\n",
       "    </tr>\n",
       "    <tr>\n",
       "      <th>8</th>\n",
       "      <td>parSpreadBp</td>\n",
       "      <td>28.397981</td>\n",
       "    </tr>\n",
       "  </tbody>\n",
       "</table>\n",
       "</div>"
      ],
      "text/plain": [
       "                 Field                 Value\n",
       "0       marketDataDate  2023-02-02T00:00:00Z\n",
       "1        valuationDate  2023-02-02T00:00:00Z\n",
       "2     fixedRatePercent                 0.889\n",
       "3  recoveryRatePercent                  40.0\n",
       "4       upfrontPercent             -1.133406\n",
       "5         pricePercent            101.212428\n",
       "6    cleanPricePercent            101.133406\n",
       "7         dealSpreadBp                  88.9\n",
       "8          parSpreadBp             28.397981"
      ]
     },
     "metadata": {},
     "output_type": "display_data"
    }
   ],
   "source": [
    "# Access pricing analysis from response\n",
    "pricing_dict = analytics.pricing_analysis.as_dict()\n",
    "df_pricing = pd.DataFrame(list(pricing_dict.items()), columns=[\"Field\", \"Value\"])\n",
    "display(df_pricing)"
   ]
  },
  {
   "cell_type": "markdown",
   "id": "36525253",
   "metadata": {},
   "source": [
    "### Spread Measures - Risk Metrics\n",
    "The spread for which the NPV of the CDS equals to the upfront amount for a given coupon. The value is expressed in basis points."
   ]
  },
  {
   "cell_type": "code",
   "execution_count": 8,
   "id": "12d700fd",
   "metadata": {
    "execution": {
     "iopub.execute_input": "2025-09-18T09:06:47.239820Z",
     "iopub.status.busy": "2025-09-18T09:06:47.239337Z",
     "iopub.status.idle": "2025-09-18T09:06:47.244776Z",
     "shell.execute_reply": "2025-09-18T09:06:47.244315Z"
    }
   },
   "outputs": [
    {
     "data": {
      "text/html": [
       "<div>\n",
       "<style scoped>\n",
       "    .dataframe tbody tr th:only-of-type {\n",
       "        vertical-align: middle;\n",
       "    }\n",
       "\n",
       "    .dataframe tbody tr th {\n",
       "        vertical-align: top;\n",
       "    }\n",
       "\n",
       "    .dataframe thead th {\n",
       "        text-align: right;\n",
       "    }\n",
       "</style>\n",
       "<table border=\"1\" class=\"dataframe\">\n",
       "  <thead>\n",
       "    <tr style=\"text-align: right;\">\n",
       "      <th></th>\n",
       "      <th>Field</th>\n",
       "      <th>Value</th>\n",
       "    </tr>\n",
       "  </thead>\n",
       "  <tbody>\n",
       "    <tr>\n",
       "      <th>0</th>\n",
       "      <td>conventionalSpreadBp</td>\n",
       "      <td>28.3471</td>\n",
       "    </tr>\n",
       "  </tbody>\n",
       "</table>\n",
       "</div>"
      ],
      "text/plain": [
       "                  Field    Value\n",
       "0  conventionalSpreadBp  28.3471"
      ]
     },
     "metadata": {},
     "output_type": "display_data"
    }
   ],
   "source": [
    "# Access spread measures from response\n",
    "spread_dict = analytics.spread_measures.as_dict()\n",
    "df_spread = pd.DataFrame(list(spread_dict.items()), columns=[\"Field\", \"Value\"])\n",
    "display(df_spread)"
   ]
  },
  {
   "cell_type": "markdown",
   "id": "98a15c7e",
   "metadata": {},
   "source": [
    "### Cashflows - Main Fields\n",
    "Three fields are represented:\n",
    "- `nextCouponDate`: The first regular interest payment date following `settlementDate`.\n",
    "- `cashAmountInDealCcy`: the amount which should be paid by the protection buyer to the protection seller on SettlementDate, including the accrued amount. If not specified, it is computed as [`UpfrontAmountInDealCcy` + `AccruedAmountInDealCcy`]. The value is expressed in the deal currency.\n",
    "- `cashAmountInReportCcy`: same amount as `cashAmountInDealCcy` but expressed in the report currency"
   ]
  },
  {
   "cell_type": "code",
   "execution_count": 9,
   "id": "755b78dd",
   "metadata": {
    "execution": {
     "iopub.execute_input": "2025-09-18T09:06:47.246720Z",
     "iopub.status.busy": "2025-09-18T09:06:47.246462Z",
     "iopub.status.idle": "2025-09-18T09:06:47.252448Z",
     "shell.execute_reply": "2025-09-18T09:06:47.252027Z"
    }
   },
   "outputs": [
    {
     "data": {
      "text/html": [
       "<div>\n",
       "<style scoped>\n",
       "    .dataframe tbody tr th:only-of-type {\n",
       "        vertical-align: middle;\n",
       "    }\n",
       "\n",
       "    .dataframe tbody tr th {\n",
       "        vertical-align: top;\n",
       "    }\n",
       "\n",
       "    .dataframe thead th {\n",
       "        text-align: right;\n",
       "    }\n",
       "</style>\n",
       "<table border=\"1\" class=\"dataframe\">\n",
       "  <thead>\n",
       "    <tr style=\"text-align: right;\">\n",
       "      <th></th>\n",
       "      <th>Field</th>\n",
       "      <th>Value</th>\n",
       "    </tr>\n",
       "  </thead>\n",
       "  <tbody>\n",
       "    <tr>\n",
       "      <th>0</th>\n",
       "      <td>nextCouponDate</td>\n",
       "      <td>2023-04-03</td>\n",
       "    </tr>\n",
       "    <tr>\n",
       "      <th>1</th>\n",
       "      <td>cashAmountInDealCcy</td>\n",
       "      <td>-121242.842611</td>\n",
       "    </tr>\n",
       "    <tr>\n",
       "      <th>2</th>\n",
       "      <td>cashAmountInReportCcy</td>\n",
       "      <td>-132300.189857</td>\n",
       "    </tr>\n",
       "  </tbody>\n",
       "</table>\n",
       "</div>"
      ],
      "text/plain": [
       "                   Field          Value\n",
       "0         nextCouponDate     2023-04-03\n",
       "1    cashAmountInDealCcy -121242.842611\n",
       "2  cashAmountInReportCcy -132300.189857"
      ]
     },
     "metadata": {},
     "output_type": "display_data"
    }
   ],
   "source": [
    "# Access cashflows from response\n",
    "cashflow_dict = analytics.cashflows.as_dict()\n",
    "\n",
    "# Keys to group together\n",
    "main_keys = [\"nextCouponDate\", \"cashAmountInDealCcy\", \"cashAmountInReportCcy\"]\n",
    "main_cashflows = {k: cashflow_dict[k] for k in main_keys if k in cashflow_dict}\n",
    "\n",
    "# DataFrame for main cashflow fields\n",
    "df_main_cashflows = pd.DataFrame(list(main_cashflows.items()), columns=[\"Field\", \"Value\"])\n",
    "display(df_main_cashflows)"
   ]
  },
  {
   "cell_type": "markdown",
   "id": "9a25e74f",
   "metadata": {},
   "source": [
    "### Cashflows - Payments Schedule\n",
    "\n",
    "The other future cash-flows with their associated discount factor and survival probability"
   ]
  },
  {
   "cell_type": "code",
   "execution_count": 10,
   "id": "26363c73",
   "metadata": {
    "execution": {
     "iopub.execute_input": "2025-09-18T09:06:47.254542Z",
     "iopub.status.busy": "2025-09-18T09:06:47.254344Z",
     "iopub.status.idle": "2025-09-18T09:06:47.260925Z",
     "shell.execute_reply": "2025-09-18T09:06:47.260391Z"
    }
   },
   "outputs": [
    {
     "data": {
      "text/html": [
       "<div>\n",
       "<style scoped>\n",
       "    .dataframe tbody tr th:only-of-type {\n",
       "        vertical-align: middle;\n",
       "    }\n",
       "\n",
       "    .dataframe tbody tr th {\n",
       "        vertical-align: top;\n",
       "    }\n",
       "\n",
       "    .dataframe thead th {\n",
       "        text-align: right;\n",
       "    }\n",
       "</style>\n",
       "<table border=\"1\" class=\"dataframe\">\n",
       "  <thead>\n",
       "    <tr style=\"text-align: right;\">\n",
       "      <th></th>\n",
       "      <th>cashFlowDatesArray</th>\n",
       "      <th>cashFlowTotalAmountsInDealCcyArray</th>\n",
       "      <th>cashFlowDiscountFactorsArray</th>\n",
       "      <th>cashFlowSurvivalProbabilitiesArray</th>\n",
       "    </tr>\n",
       "  </thead>\n",
       "  <tbody>\n",
       "    <tr>\n",
       "      <th>0</th>\n",
       "      <td>2023-04-03</td>\n",
       "      <td>22471.944444</td>\n",
       "      <td>0.995943</td>\n",
       "      <td>0.999699</td>\n",
       "    </tr>\n",
       "    <tr>\n",
       "      <th>1</th>\n",
       "      <td>2023-07-03</td>\n",
       "      <td>22471.944444</td>\n",
       "      <td>0.988271</td>\n",
       "      <td>0.999161</td>\n",
       "    </tr>\n",
       "    <tr>\n",
       "      <th>2</th>\n",
       "      <td>2023-10-02</td>\n",
       "      <td>22471.944444</td>\n",
       "      <td>0.979796</td>\n",
       "      <td>0.998143</td>\n",
       "    </tr>\n",
       "    <tr>\n",
       "      <th>3</th>\n",
       "      <td>2024-01-02</td>\n",
       "      <td>22718.888889</td>\n",
       "      <td>0.971347</td>\n",
       "      <td>0.997048</td>\n",
       "    </tr>\n",
       "    <tr>\n",
       "      <th>4</th>\n",
       "      <td>2024-04-02</td>\n",
       "      <td>22471.944444</td>\n",
       "      <td>0.963309</td>\n",
       "      <td>0.995527</td>\n",
       "    </tr>\n",
       "    <tr>\n",
       "      <th>5</th>\n",
       "      <td>2024-07-02</td>\n",
       "      <td>22471.944444</td>\n",
       "      <td>0.955859</td>\n",
       "      <td>0.994008</td>\n",
       "    </tr>\n",
       "    <tr>\n",
       "      <th>6</th>\n",
       "      <td>2024-10-02</td>\n",
       "      <td>22718.888889</td>\n",
       "      <td>0.948961</td>\n",
       "      <td>0.992474</td>\n",
       "    </tr>\n",
       "    <tr>\n",
       "      <th>7</th>\n",
       "      <td>2025-01-02</td>\n",
       "      <td>22965.833333</td>\n",
       "      <td>0.942519</td>\n",
       "      <td>0.990814</td>\n",
       "    </tr>\n",
       "  </tbody>\n",
       "</table>\n",
       "</div>"
      ],
      "text/plain": [
       "  cashFlowDatesArray  cashFlowTotalAmountsInDealCcyArray  \\\n",
       "0         2023-04-03                        22471.944444   \n",
       "1         2023-07-03                        22471.944444   \n",
       "2         2023-10-02                        22471.944444   \n",
       "3         2024-01-02                        22718.888889   \n",
       "4         2024-04-02                        22471.944444   \n",
       "5         2024-07-02                        22471.944444   \n",
       "6         2024-10-02                        22718.888889   \n",
       "7         2025-01-02                        22965.833333   \n",
       "\n",
       "   cashFlowDiscountFactorsArray  cashFlowSurvivalProbabilitiesArray  \n",
       "0                      0.995943                            0.999699  \n",
       "1                      0.988271                            0.999161  \n",
       "2                      0.979796                            0.998143  \n",
       "3                      0.971347                            0.997048  \n",
       "4                      0.963309                            0.995527  \n",
       "5                      0.955859                            0.994008  \n",
       "6                      0.948961                            0.992474  \n",
       "7                      0.942519                            0.990814  "
      ]
     },
     "metadata": {},
     "output_type": "display_data"
    }
   ],
   "source": [
    "# Extract other Cap/Floor cashflow fields (array values)\n",
    "other_cashflows_data = {key: value for key, value in cashflow_dict.items() if key not in main_keys and isinstance(value, list)}\n",
    "\n",
    "# Convert to DataFrame\n",
    "df_other_cashflows = pd.DataFrame(other_cashflows_data)\n",
    "\n",
    "# Other cashflows DataFrame\n",
    "display(df_other_cashflows)"
   ]
  },
  {
   "cell_type": "markdown",
   "id": "5a30975e",
   "metadata": {},
   "source": [
    "### Plot CDS Cashflows, DFs & Survival Probabilities"
   ]
  },
  {
   "cell_type": "code",
   "execution_count": 11,
   "id": "7f515e1d",
   "metadata": {
    "execution": {
     "iopub.execute_input": "2025-09-18T09:06:47.262750Z",
     "iopub.status.busy": "2025-09-18T09:06:47.262568Z",
     "iopub.status.idle": "2025-09-18T09:06:47.554123Z",
     "shell.execute_reply": "2025-09-18T09:06:47.553660Z"
    }
   },
   "outputs": [
    {
     "data": {
      "image/png": "[encoded data removed]",
      "text/plain": [
       "<Figure size 1200x600 with 2 Axes>"
      ]
     },
     "metadata": {},
     "output_type": "display_data"
    }
   ],
   "source": [
    "df = df_other_cashflows.copy()\n",
    "df[\"cashFlowDatesArray\"] = pd.to_datetime(df[\"cashFlowDatesArray\"])\n",
    "\n",
    "fig, ax1 = plt.subplots(figsize=(12, 6))\n",
    "# Primary axis: Cashflow Amounts\n",
    "ax1.plot(df[\"cashFlowDatesArray\"], df[\"cashFlowTotalAmountsInDealCcyArray\"],\n",
    "         label=\"Cashflow Amount\", color=\"blue\", marker=\"o\")\n",
    "ax1.set(xlabel=\"Date\", ylabel=\"Cashflow Amount (EUR)\")\n",
    "ax1.tick_params(axis=\"y\", labelcolor=\"tab:blue\")\n",
    "\n",
    "# Secondary axis: Discount Factors & Survival Probabilities\n",
    "ax2 = ax1.twinx()\n",
    "ax2.plot(df[\"cashFlowDatesArray\"], df[\"cashFlowDiscountFactorsArray\"],\n",
    "         label=\"Discount Factor\", color=\"green\", linestyle=\"--\", marker=\"x\")\n",
    "ax2.plot(df[\"cashFlowDatesArray\"], df[\"cashFlowSurvivalProbabilitiesArray\"],\n",
    "         label=\"Survival Probability\", color=\"red\", linestyle=\":\", marker=\"s\")\n",
    "ax2.set_ylabel(\"Discount Factor (green) / Survival Probability (red)\", color=\"black\")\n",
    "ax2.tick_params(axis=\"y\", labelcolor=\"black\")\n",
    "\n",
    "ax1.legend(ax1.get_lines() + ax2.get_lines(), [l.get_label() for l in ax1.get_lines() + ax2.get_lines()], loc=\"upper right\")\n",
    "plt.title(\"CDS Cashflows Characteristics Over Time\")\n",
    "plt.xticks(rotation=45)\n",
    "plt.grid(True)\n",
    "plt.tight_layout()\n",
    "plt.show()\n"
   ]
  }
 ],
 "metadata": {
  "kernelspec": {
   "display_name": "jupyterlab-ext",
   "language": "python",
   "name": "python3"
  },
  "language_info": {
   "codemirror_mode": {
    "name": "ipython",
    "version": 3
   },
   "file_extension": ".py",
   "mimetype": "text/x-python",
   "name": "python",
   "nbconvert_exporter": "python",
   "pygments_lexer": "ipython3",
   "version": "3.11.6"
  }
 },
 "nbformat": 4,
 "nbformat_minor": 5
}
