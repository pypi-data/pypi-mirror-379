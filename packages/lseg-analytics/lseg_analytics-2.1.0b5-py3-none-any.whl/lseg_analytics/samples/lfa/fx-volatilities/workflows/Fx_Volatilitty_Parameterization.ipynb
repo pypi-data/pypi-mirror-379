{
 "cells": [
  {
   "cell_type": "markdown",
   "id": "c96c4023",
   "metadata": {},
   "source": [
    "# FX Volatility Parameterization"
   ]
  },
  {
   "cell_type": "markdown",
   "id": "0c5a1553",
   "metadata": {},
   "source": [
    "This notebook demonstrates how to access and use the functionalities of **FX Volatility Surfaces** within the **LSEG Financial Analytics SDK**. \n",
    "\n",
    "**You will be able to:**\n",
    "- Build volatility surface with advanced set of parameters\n",
    "- Calculate multiple volatility surfaces in a single request\n",
    "- Compare different volatility models"
   ]
  },
  {
   "cell_type": "markdown",
   "id": "3a33858d",
   "metadata": {},
   "source": [
    "## Imports"
   ]
  },
  {
   "cell_type": "markdown",
   "id": "c07252c1",
   "metadata": {},
   "source": [
    "Import the following necessary modules:\n",
    "- `lseg_analytics.market_data.fx_volatility` - for FX volatility surfaces construction"
   ]
  },
  {
   "cell_type": "code",
   "execution_count": 1,
   "id": "0ed41e82",
   "metadata": {
    "execution": {
     "iopub.execute_input": "2025-09-18T09:08:57.090738Z",
     "iopub.status.busy": "2025-09-18T09:08:57.090349Z",
     "iopub.status.idle": "2025-09-18T09:08:58.352461Z",
     "shell.execute_reply": "2025-09-18T09:08:58.351908Z"
    }
   },
   "outputs": [],
   "source": [
    "from lseg_analytics.market_data import fx_volatility as fxv\n",
    "\n",
    "import datetime as dt\n",
    "import pandas as pd\n",
    "import matplotlib.pyplot as plt\n",
    "import copy\n",
    "from IPython.display import display"
   ]
  },
  {
   "cell_type": "markdown",
   "id": "b4a1ebdc",
   "metadata": {},
   "source": [
    "## Data Preparation"
   ]
  },
  {
   "cell_type": "markdown",
   "id": "2186b3f4",
   "metadata": {},
   "source": [
    "Volatility surface preparation follows a structured 3-step process:\n",
    "- `lseg_analytics.market_data.fx_volatility` - for FX volatility surfaces definition\n",
    "\n",
    "**Process Overview:**\n",
    "1. **Surface Definition** - Specify the underlying instrument (fx pair)\n",
    "2. **Surface Parameters** - Configure volatility model and calculation settings\n",
    "3. **Request Creation** - Combine definition and parameters into a request object  \n",
    "\n",
    "Each step builds upon the previous, creating a complete request specification for the volatility surface engine."
   ]
  },
  {
   "cell_type": "markdown",
   "id": "b23be0bd",
   "metadata": {},
   "source": [
    "### FX Surface svi Parameters"
   ]
  },
  {
   "cell_type": "code",
   "execution_count": 2,
   "id": "56ebd0fa",
   "metadata": {
    "execution": {
     "iopub.execute_input": "2025-09-18T09:08:58.357287Z",
     "iopub.status.busy": "2025-09-18T09:08:58.355286Z",
     "iopub.status.idle": "2025-09-18T09:08:58.367356Z",
     "shell.execute_reply": "2025-09-18T09:08:58.366891Z"
    }
   },
   "outputs": [
    {
     "name": "stdout",
     "output_type": "stream",
     "text": [
      "Step 1: Creating Surface Definition...\n",
      "   ✓ Instrument: EURUSD\n",
      "Step 2: Configuring Surface Parameters...\n",
      "   ✓ Surface Parameters: {'calculationDate': '2025-01-18T00:00:00Z', 'volatilityModel': 'SVI', 'xAxis': 'Delta', 'yAxis': 'Tenor'}\n",
      "Step 3: Create request item...\n",
      "   ✓ Request Item: {'surfaceTag': 'EURUSD_svi_Volsurface', 'underlyingDefinition': {'instrumentCode': 'EURUSD'}, 'surfaceParameters': {'calculationDate': '2025-01-18T00:00:00Z', 'volatilityModel': 'SVI', 'xAxis': 'Delta', 'yAxis': 'Tenor'}, 'underlyingType': 'Fx', 'surfaceLayout': {'format': 'Matrix'}}\n"
     ]
    }
   ],
   "source": [
    "print(\"Step 1: Creating Surface Definition...\")\n",
    "\n",
    "currencyPair = \"EURUSD\"\n",
    "\n",
    "# Create surface definition object\n",
    "surface_definition = fxv.FxVolatilitySurfaceDefinition(\n",
    "        instrument_code = currencyPair\n",
    "        )\n",
    "print(f\"   ✓ Instrument: {surface_definition.instrument_code}\")\n",
    "\n",
    "print(\"Step 2: Configuring Surface Parameters...\")\n",
    "surface_parameters = fxv.FxVolatilityPricingParameters(\n",
    "        calculation_date = dt.datetime.strptime(\"2025-01-18\", \"%Y-%m-%d\"),\n",
    "        volatility_model = fxv.CurvesAndSurfacesVolatilityModelEnum.SVI,  # Options: SVI, SABR, TWIN_LOGNORMAL\n",
    "        x_axis = fxv.XAxisEnum.DELTA,                                     # Options: DATE, DELTA, MONEYNESS, STRIKE, TENOR\n",
    "        y_axis = fxv.YAxisEnum.TENOR                                      # Options: same as X-axis\n",
    "    )\n",
    "print(f\"   ✓ Surface Parameters: {surface_parameters}\")\n",
    "\n",
    "\n",
    "print(\"Step 3: Create request item...\")\n",
    "# Create the main request object  with basic configuration\n",
    "request_item = fxv.FxVolatilitySurfaceRequestItem(\n",
    "        surface_tag = f\"{currencyPair}_svi_Volsurface\",\n",
    "        underlying_definition = surface_definition,\n",
    "        surface_parameters = surface_parameters,\n",
    "        underlying_type = fxv.CurvesAndSurfacesUnderlyingTypeEnum.FX,\n",
    "        surface_layout = fxv.SurfaceOutput(\n",
    "            format = fxv.FormatEnum.MATRIX,  # Options: LIST, MATRIX\n",
    "        )\n",
    "    )\n",
    "print(f\"   ✓ Request Item: {request_item}\")"
   ]
  },
  {
   "cell_type": "markdown",
   "id": "79cefdbd",
   "metadata": {},
   "source": [
    "### FX Surface SABR Parameters\n"
   ]
  },
  {
   "cell_type": "code",
   "execution_count": 3,
   "id": "6f935169",
   "metadata": {
    "execution": {
     "iopub.execute_input": "2025-09-18T09:08:58.370106Z",
     "iopub.status.busy": "2025-09-18T09:08:58.369612Z",
     "iopub.status.idle": "2025-09-18T09:08:58.375072Z",
     "shell.execute_reply": "2025-09-18T09:08:58.374581Z"
    }
   },
   "outputs": [
    {
     "name": "stdout",
     "output_type": "stream",
     "text": [
      "   ✓ Request Item: {'surfaceTag': 'EURUSD_sabr_Volsurface', 'underlyingDefinition': {'instrumentCode': 'EURUSD'}, 'surfaceParameters': {'calculationDate': '2025-01-18T00:00:00Z', 'volatilityModel': 'SVI', 'xAxis': 'Delta', 'yAxis': 'Tenor', 'fxSwapCalculationMethod': 'FxSwapImpliedFromDeposit', 'fxSpotObject': {'ask': 2, 'bid': 2, 'mid': 2}, 'interpolationWeight': {'holidays': 0, 'weekDays': 1, 'weekEnds': 0}, 'priceSide': 'Bid', 'atmVolatilityObject': {'ask': 10, 'bid': 10, 'mid': 10}, 'butterfly10Dobject': {'ask': 10, 'bid': 10, 'mid': 10}, 'butterfly25Dobject': {'ask': 10, 'bid': 10, 'mid': 10}, 'riskReversal10Dobject': {'ask': 10, 'bid': 10, 'mid': 10}, 'riskReversal25Dobject': {'ask': 10, 'bid': 10, 'mid': 10}}, 'underlyingType': 'Fx', 'surfaceLayout': {'format': 'Matrix'}}\n"
     ]
    }
   ],
   "source": [
    "# Changing the model and keeping the same other parameters\n",
    "surface_parameters_sabr = copy.deepcopy(surface_parameters)\n",
    "surface_parameters_sabr.fx_swap_calculation_method = fxv.CurvesAndSurfacesFxSwapCalculationMethodEnum.FX_SWAP_IMPLIED_FROM_DEPOSIT\n",
    "surface_parameters_sabr.fx_spot_object = fxv.BidAskMid(ask=2, bid=2, mid=2)\n",
    "surface_parameters_sabr.interpolation_weight = fxv.InterpolationWeight(holidays=0, week_days=1, week_ends=0)\n",
    "surface_parameters_sabr.price_side = fxv.CurvesAndSurfacesPriceSideEnum.BID\n",
    "# surface_parameters_sabr.domestic_deposit_rate_percent_object = BidAskMid(ask=2, bid=2, mid=2)\n",
    "\n",
    "# We can introduce quotes for FX strategies\n",
    "surface_parameters_sabr.atm_volatility_object = fxv.BidAskMid(ask=10, bid=10, mid=10)\n",
    "surface_parameters_sabr.butterfly10_dobject = fxv.BidAskMid(ask=10, bid=10, mid=10)\n",
    "surface_parameters_sabr.butterfly25_dobject = fxv.BidAskMid(ask=10, bid=10, mid=10)\n",
    "surface_parameters_sabr.risk_reversal10_dobject = fxv.BidAskMid(ask=10, bid=10, mid=10)\n",
    "surface_parameters_sabr.risk_reversal25_dobject = fxv.BidAskMid(ask=10, bid=10, mid=10)\n",
    "\n",
    "\n",
    "# Create another request Item for SABR\n",
    "request_item_sabr = copy.deepcopy(request_item)\n",
    "request_item_sabr.surface_tag = f\"{currencyPair}_sabr_Volsurface\"\n",
    "request_item_sabr.surface_parameters = surface_parameters_sabr\n",
    "print(f\"   ✓ Request Item: {request_item_sabr}\")"
   ]
  },
  {
   "cell_type": "code",
   "execution_count": 4,
   "id": "29e8c384",
   "metadata": {
    "execution": {
     "iopub.execute_input": "2025-09-18T09:08:58.377328Z",
     "iopub.status.busy": "2025-09-18T09:08:58.377047Z",
     "iopub.status.idle": "2025-09-18T09:08:59.406182Z",
     "shell.execute_reply": "2025-09-18T09:08:59.405696Z"
    }
   },
   "outputs": [
    {
     "name": "stdout",
     "output_type": "stream",
     "text": [
      "   Calculation successful!\n",
      "   Surface data points available: 18\n"
     ]
    }
   ],
   "source": [
    "# Execute the calculation using the calculate function\n",
    "# The 'universe' parameter accepts a list of request items for batch processing\n",
    "try:\n",
    "    response = fxv.calculate(universe=[request_item, request_item_sabr])\n",
    "\n",
    "    # Display response structure information\n",
    "    surface_data = response['data'][0]\n",
    "    if 'surface' in surface_data:\n",
    "        print(f\"   Calculation successful!\")\n",
    "        print(f\"   Surface data points available: {len(surface_data['surface'])}\")\n",
    "    else:\n",
    "        print(\"   No surface data found in response\")\n",
    "    \n",
    "except Exception as e:\n",
    "    print(f\"   Calculation failed: {str(e)}\")\n",
    "    raise"
   ]
  },
  {
   "cell_type": "markdown",
   "id": "9037d8f2",
   "metadata": {},
   "source": [
    "## Results Display"
   ]
  },
  {
   "cell_type": "code",
   "execution_count": 5,
   "id": "69ee1e4f",
   "metadata": {
    "execution": {
     "iopub.execute_input": "2025-09-18T09:08:59.409009Z",
     "iopub.status.busy": "2025-09-18T09:08:59.408629Z",
     "iopub.status.idle": "2025-09-18T09:08:59.411742Z",
     "shell.execute_reply": "2025-09-18T09:08:59.411299Z"
    }
   },
   "outputs": [
    {
     "name": "stdout",
     "output_type": "stream",
     "text": [
      "EURUSD_svi_Volsurface\n",
      "EURUSD_sabr_Volsurface\n"
     ]
    }
   ],
   "source": [
    "# Display the raw surface data\n",
    "print(response['data'][0]['surfaceTag'])\n",
    "print(response['data'][1]['surfaceTag'])"
   ]
  },
  {
   "cell_type": "code",
   "execution_count": 6,
   "id": "3ac45208",
   "metadata": {
    "execution": {
     "iopub.execute_input": "2025-09-18T09:08:59.413911Z",
     "iopub.status.busy": "2025-09-18T09:08:59.413719Z",
     "iopub.status.idle": "2025-09-18T09:08:59.433286Z",
     "shell.execute_reply": "2025-09-18T09:08:59.432712Z"
    }
   },
   "outputs": [
    {
     "data": {
      "text/html": [
       "<div>\n",
       "<style scoped>\n",
       "    .dataframe tbody tr th:only-of-type {\n",
       "        vertical-align: middle;\n",
       "    }\n",
       "\n",
       "    .dataframe tbody tr th {\n",
       "        vertical-align: top;\n",
       "    }\n",
       "\n",
       "    .dataframe thead th {\n",
       "        text-align: right;\n",
       "    }\n",
       "</style>\n",
       "<table border=\"1\" class=\"dataframe\">\n",
       "  <thead>\n",
       "    <tr style=\"text-align: right;\">\n",
       "      <th></th>\n",
       "      <th>-0.1</th>\n",
       "      <th>-0.15</th>\n",
       "      <th>-0.2</th>\n",
       "      <th>-0.25</th>\n",
       "      <th>-0.3</th>\n",
       "      <th>-0.35</th>\n",
       "      <th>-0.4</th>\n",
       "      <th>-0.45</th>\n",
       "      <th>ATM</th>\n",
       "      <th>0.45</th>\n",
       "      <th>0.4</th>\n",
       "      <th>0.35</th>\n",
       "      <th>0.3</th>\n",
       "      <th>0.25</th>\n",
       "      <th>0.2</th>\n",
       "      <th>0.15</th>\n",
       "      <th>0.1</th>\n",
       "    </tr>\n",
       "  </thead>\n",
       "  <tbody>\n",
       "    <tr>\n",
       "      <th>ON</th>\n",
       "      <td>1.22500</td>\n",
       "      <td>1.22500</td>\n",
       "      <td>1.22500</td>\n",
       "      <td>1.22500</td>\n",
       "      <td>1.22500</td>\n",
       "      <td>1.22500</td>\n",
       "      <td>1.22500</td>\n",
       "      <td>1.22500</td>\n",
       "      <td>1.2250</td>\n",
       "      <td>1.22500</td>\n",
       "      <td>1.22500</td>\n",
       "      <td>1.22500</td>\n",
       "      <td>1.22500</td>\n",
       "      <td>1.22500</td>\n",
       "      <td>1.22500</td>\n",
       "      <td>1.22500</td>\n",
       "      <td>1.22500</td>\n",
       "    </tr>\n",
       "    <tr>\n",
       "      <th>SW</th>\n",
       "      <td>0.50000</td>\n",
       "      <td>0.47003</td>\n",
       "      <td>0.44379</td>\n",
       "      <td>0.42500</td>\n",
       "      <td>0.41621</td>\n",
       "      <td>0.41524</td>\n",
       "      <td>0.41871</td>\n",
       "      <td>0.42326</td>\n",
       "      <td>0.4255</td>\n",
       "      <td>0.42326</td>\n",
       "      <td>0.41871</td>\n",
       "      <td>0.41524</td>\n",
       "      <td>0.41621</td>\n",
       "      <td>0.42500</td>\n",
       "      <td>0.44379</td>\n",
       "      <td>0.47003</td>\n",
       "      <td>0.50000</td>\n",
       "    </tr>\n",
       "    <tr>\n",
       "      <th>2W</th>\n",
       "      <td>0.42500</td>\n",
       "      <td>0.35513</td>\n",
       "      <td>0.29391</td>\n",
       "      <td>0.25000</td>\n",
       "      <td>0.22930</td>\n",
       "      <td>0.22675</td>\n",
       "      <td>0.23456</td>\n",
       "      <td>0.24491</td>\n",
       "      <td>0.2500</td>\n",
       "      <td>0.24491</td>\n",
       "      <td>0.23456</td>\n",
       "      <td>0.22675</td>\n",
       "      <td>0.22930</td>\n",
       "      <td>0.25000</td>\n",
       "      <td>0.29391</td>\n",
       "      <td>0.35513</td>\n",
       "      <td>0.42500</td>\n",
       "    </tr>\n",
       "    <tr>\n",
       "      <th>1M</th>\n",
       "      <td>0.19950</td>\n",
       "      <td>0.14955</td>\n",
       "      <td>0.10582</td>\n",
       "      <td>0.07450</td>\n",
       "      <td>0.05984</td>\n",
       "      <td>0.05818</td>\n",
       "      <td>0.06391</td>\n",
       "      <td>0.07139</td>\n",
       "      <td>0.0750</td>\n",
       "      <td>0.07139</td>\n",
       "      <td>0.06391</td>\n",
       "      <td>0.05818</td>\n",
       "      <td>0.05984</td>\n",
       "      <td>0.07450</td>\n",
       "      <td>0.10582</td>\n",
       "      <td>0.14955</td>\n",
       "      <td>0.19950</td>\n",
       "    </tr>\n",
       "    <tr>\n",
       "      <th>2M</th>\n",
       "      <td>0.20000</td>\n",
       "      <td>0.16028</td>\n",
       "      <td>0.12548</td>\n",
       "      <td>0.10050</td>\n",
       "      <td>0.08870</td>\n",
       "      <td>0.08719</td>\n",
       "      <td>0.09153</td>\n",
       "      <td>0.09728</td>\n",
       "      <td>0.1000</td>\n",
       "      <td>0.09728</td>\n",
       "      <td>0.09153</td>\n",
       "      <td>0.08719</td>\n",
       "      <td>0.08870</td>\n",
       "      <td>0.10050</td>\n",
       "      <td>0.12548</td>\n",
       "      <td>0.16028</td>\n",
       "      <td>0.20000</td>\n",
       "    </tr>\n",
       "    <tr>\n",
       "      <th>3M</th>\n",
       "      <td>0.19950</td>\n",
       "      <td>0.14975</td>\n",
       "      <td>0.10619</td>\n",
       "      <td>0.07500</td>\n",
       "      <td>0.06041</td>\n",
       "      <td>0.05875</td>\n",
       "      <td>0.06438</td>\n",
       "      <td>0.07167</td>\n",
       "      <td>0.0750</td>\n",
       "      <td>0.07167</td>\n",
       "      <td>0.06438</td>\n",
       "      <td>0.05875</td>\n",
       "      <td>0.06041</td>\n",
       "      <td>0.07500</td>\n",
       "      <td>0.10619</td>\n",
       "      <td>0.14975</td>\n",
       "      <td>0.19950</td>\n",
       "    </tr>\n",
       "    <tr>\n",
       "      <th>6M</th>\n",
       "      <td>0.20000</td>\n",
       "      <td>0.15997</td>\n",
       "      <td>0.12496</td>\n",
       "      <td>0.10000</td>\n",
       "      <td>0.08849</td>\n",
       "      <td>0.08742</td>\n",
       "      <td>0.09215</td>\n",
       "      <td>0.09803</td>\n",
       "      <td>0.1005</td>\n",
       "      <td>0.09803</td>\n",
       "      <td>0.09215</td>\n",
       "      <td>0.08742</td>\n",
       "      <td>0.08849</td>\n",
       "      <td>0.10000</td>\n",
       "      <td>0.12496</td>\n",
       "      <td>0.15997</td>\n",
       "      <td>0.20000</td>\n",
       "    </tr>\n",
       "    <tr>\n",
       "      <th>9M</th>\n",
       "      <td>0.20000</td>\n",
       "      <td>0.14998</td>\n",
       "      <td>0.10623</td>\n",
       "      <td>0.07500</td>\n",
       "      <td>0.06055</td>\n",
       "      <td>0.05909</td>\n",
       "      <td>0.06478</td>\n",
       "      <td>0.07181</td>\n",
       "      <td>0.0745</td>\n",
       "      <td>0.07181</td>\n",
       "      <td>0.06478</td>\n",
       "      <td>0.05909</td>\n",
       "      <td>0.06055</td>\n",
       "      <td>0.07500</td>\n",
       "      <td>0.10623</td>\n",
       "      <td>0.14998</td>\n",
       "      <td>0.20000</td>\n",
       "    </tr>\n",
       "    <tr>\n",
       "      <th>1Y</th>\n",
       "      <td>0.17500</td>\n",
       "      <td>0.13492</td>\n",
       "      <td>0.09991</td>\n",
       "      <td>0.07500</td>\n",
       "      <td>0.06363</td>\n",
       "      <td>0.06268</td>\n",
       "      <td>0.06740</td>\n",
       "      <td>0.07303</td>\n",
       "      <td>0.0750</td>\n",
       "      <td>0.07303</td>\n",
       "      <td>0.06740</td>\n",
       "      <td>0.06268</td>\n",
       "      <td>0.06363</td>\n",
       "      <td>0.07500</td>\n",
       "      <td>0.09991</td>\n",
       "      <td>0.13492</td>\n",
       "      <td>0.17500</td>\n",
       "    </tr>\n",
       "    <tr>\n",
       "      <th>2Y</th>\n",
       "      <td>0.10000</td>\n",
       "      <td>0.10000</td>\n",
       "      <td>0.10000</td>\n",
       "      <td>0.10000</td>\n",
       "      <td>0.10000</td>\n",
       "      <td>0.10000</td>\n",
       "      <td>0.10000</td>\n",
       "      <td>0.10000</td>\n",
       "      <td>0.1000</td>\n",
       "      <td>0.10000</td>\n",
       "      <td>0.10000</td>\n",
       "      <td>0.10000</td>\n",
       "      <td>0.10000</td>\n",
       "      <td>0.10000</td>\n",
       "      <td>0.10000</td>\n",
       "      <td>0.10000</td>\n",
       "      <td>0.10000</td>\n",
       "    </tr>\n",
       "    <tr>\n",
       "      <th>3Y</th>\n",
       "      <td>0.17500</td>\n",
       "      <td>0.17497</td>\n",
       "      <td>0.17496</td>\n",
       "      <td>0.17500</td>\n",
       "      <td>0.17509</td>\n",
       "      <td>0.17522</td>\n",
       "      <td>0.17536</td>\n",
       "      <td>0.17546</td>\n",
       "      <td>0.1755</td>\n",
       "      <td>0.17546</td>\n",
       "      <td>0.17536</td>\n",
       "      <td>0.17522</td>\n",
       "      <td>0.17509</td>\n",
       "      <td>0.17500</td>\n",
       "      <td>0.17496</td>\n",
       "      <td>0.17497</td>\n",
       "      <td>0.17500</td>\n",
       "    </tr>\n",
       "    <tr>\n",
       "      <th>5Y</th>\n",
       "      <td>0.20000</td>\n",
       "      <td>0.20003</td>\n",
       "      <td>0.20004</td>\n",
       "      <td>0.20000</td>\n",
       "      <td>0.19991</td>\n",
       "      <td>0.19978</td>\n",
       "      <td>0.19964</td>\n",
       "      <td>0.19954</td>\n",
       "      <td>0.1995</td>\n",
       "      <td>0.19954</td>\n",
       "      <td>0.19964</td>\n",
       "      <td>0.19978</td>\n",
       "      <td>0.19991</td>\n",
       "      <td>0.20000</td>\n",
       "      <td>0.20004</td>\n",
       "      <td>0.20003</td>\n",
       "      <td>0.20000</td>\n",
       "    </tr>\n",
       "    <tr>\n",
       "      <th>7Y</th>\n",
       "      <td>0.20001</td>\n",
       "      <td>0.19988</td>\n",
       "      <td>0.19980</td>\n",
       "      <td>0.19981</td>\n",
       "      <td>0.19992</td>\n",
       "      <td>0.20032</td>\n",
       "      <td>0.20031</td>\n",
       "      <td>0.20026</td>\n",
       "      <td>0.2003</td>\n",
       "      <td>0.20032</td>\n",
       "      <td>0.20029</td>\n",
       "      <td>0.20024</td>\n",
       "      <td>0.20014</td>\n",
       "      <td>0.19993</td>\n",
       "      <td>0.19964</td>\n",
       "      <td>0.19927</td>\n",
       "      <td>0.19877</td>\n",
       "    </tr>\n",
       "    <tr>\n",
       "      <th>10Y</th>\n",
       "      <td>0.20000</td>\n",
       "      <td>0.19997</td>\n",
       "      <td>0.19996</td>\n",
       "      <td>0.20000</td>\n",
       "      <td>0.20009</td>\n",
       "      <td>0.20022</td>\n",
       "      <td>0.20036</td>\n",
       "      <td>0.20046</td>\n",
       "      <td>0.2005</td>\n",
       "      <td>0.20046</td>\n",
       "      <td>0.20036</td>\n",
       "      <td>0.20022</td>\n",
       "      <td>0.20009</td>\n",
       "      <td>0.20000</td>\n",
       "      <td>0.19996</td>\n",
       "      <td>0.19997</td>\n",
       "      <td>0.20000</td>\n",
       "    </tr>\n",
       "  </tbody>\n",
       "</table>\n",
       "</div>"
      ],
      "text/plain": [
       "        -0.1    -0.15     -0.2    -0.25     -0.3    -0.35     -0.4    -0.45  \\\n",
       "ON   1.22500  1.22500  1.22500  1.22500  1.22500  1.22500  1.22500  1.22500   \n",
       "SW   0.50000  0.47003  0.44379  0.42500  0.41621  0.41524  0.41871  0.42326   \n",
       "2W   0.42500  0.35513  0.29391  0.25000  0.22930  0.22675  0.23456  0.24491   \n",
       "1M   0.19950  0.14955  0.10582  0.07450  0.05984  0.05818  0.06391  0.07139   \n",
       "2M   0.20000  0.16028  0.12548  0.10050  0.08870  0.08719  0.09153  0.09728   \n",
       "3M   0.19950  0.14975  0.10619  0.07500  0.06041  0.05875  0.06438  0.07167   \n",
       "6M   0.20000  0.15997  0.12496  0.10000  0.08849  0.08742  0.09215  0.09803   \n",
       "9M   0.20000  0.14998  0.10623  0.07500  0.06055  0.05909  0.06478  0.07181   \n",
       "1Y   0.17500  0.13492  0.09991  0.07500  0.06363  0.06268  0.06740  0.07303   \n",
       "2Y   0.10000  0.10000  0.10000  0.10000  0.10000  0.10000  0.10000  0.10000   \n",
       "3Y   0.17500  0.17497  0.17496  0.17500  0.17509  0.17522  0.17536  0.17546   \n",
       "5Y   0.20000  0.20003  0.20004  0.20000  0.19991  0.19978  0.19964  0.19954   \n",
       "7Y   0.20001  0.19988  0.19980  0.19981  0.19992  0.20032  0.20031  0.20026   \n",
       "10Y  0.20000  0.19997  0.19996  0.20000  0.20009  0.20022  0.20036  0.20046   \n",
       "\n",
       "        ATM     0.45      0.4     0.35      0.3     0.25      0.2     0.15  \\\n",
       "ON   1.2250  1.22500  1.22500  1.22500  1.22500  1.22500  1.22500  1.22500   \n",
       "SW   0.4255  0.42326  0.41871  0.41524  0.41621  0.42500  0.44379  0.47003   \n",
       "2W   0.2500  0.24491  0.23456  0.22675  0.22930  0.25000  0.29391  0.35513   \n",
       "1M   0.0750  0.07139  0.06391  0.05818  0.05984  0.07450  0.10582  0.14955   \n",
       "2M   0.1000  0.09728  0.09153  0.08719  0.08870  0.10050  0.12548  0.16028   \n",
       "3M   0.0750  0.07167  0.06438  0.05875  0.06041  0.07500  0.10619  0.14975   \n",
       "6M   0.1005  0.09803  0.09215  0.08742  0.08849  0.10000  0.12496  0.15997   \n",
       "9M   0.0745  0.07181  0.06478  0.05909  0.06055  0.07500  0.10623  0.14998   \n",
       "1Y   0.0750  0.07303  0.06740  0.06268  0.06363  0.07500  0.09991  0.13492   \n",
       "2Y   0.1000  0.10000  0.10000  0.10000  0.10000  0.10000  0.10000  0.10000   \n",
       "3Y   0.1755  0.17546  0.17536  0.17522  0.17509  0.17500  0.17496  0.17497   \n",
       "5Y   0.1995  0.19954  0.19964  0.19978  0.19991  0.20000  0.20004  0.20003   \n",
       "7Y   0.2003  0.20032  0.20029  0.20024  0.20014  0.19993  0.19964  0.19927   \n",
       "10Y  0.2005  0.20046  0.20036  0.20022  0.20009  0.20000  0.19996  0.19997   \n",
       "\n",
       "         0.1  \n",
       "ON   1.22500  \n",
       "SW   0.50000  \n",
       "2W   0.42500  \n",
       "1M   0.19950  \n",
       "2M   0.20000  \n",
       "3M   0.19950  \n",
       "6M   0.20000  \n",
       "9M   0.20000  \n",
       "1Y   0.17500  \n",
       "2Y   0.10000  \n",
       "3Y   0.17500  \n",
       "5Y   0.20000  \n",
       "7Y   0.19877  \n",
       "10Y  0.20000  "
      ]
     },
     "metadata": {},
     "output_type": "display_data"
    }
   ],
   "source": [
    "# Create DataFrame for SVI surface\n",
    "vol_surface_svi = response['data'][0]['surface']\n",
    "expiries = vol_surface_svi[0][1:]\n",
    "deltas = []\n",
    "values = []\n",
    "for row in vol_surface_svi[1:]:\n",
    "    deltas.append(row[0])\n",
    "    values.append(row[1:])\n",
    "\n",
    "surface_df_svi = pd.DataFrame(values, index=deltas, columns=expiries).T.astype(float)\n",
    "\n",
    "# Create DataFrame for SABR surface\n",
    "vol_surface_sabr = response['data'][1]['surface']\n",
    "values = []\n",
    "for row in vol_surface_sabr[1:]:\n",
    "    values.append(row[1:])\n",
    "\n",
    "surface_df_sabr = pd.DataFrame(values, index=deltas, columns=expiries).T.astype(float)\n",
    "\n",
    "# DataFrame of Differences\n",
    "differences_df = surface_df_svi - surface_df_sabr\n",
    "display(differences_df.round(5))"
   ]
  },
  {
   "cell_type": "markdown",
   "id": "24285d74",
   "metadata": {},
   "source": [
    "### Plotting Volatility Smile for \"2Y\" Expiry"
   ]
  },
  {
   "cell_type": "code",
   "execution_count": 7,
   "id": "1831f161",
   "metadata": {
    "execution": {
     "iopub.execute_input": "2025-09-18T09:08:59.435265Z",
     "iopub.status.busy": "2025-09-18T09:08:59.435064Z",
     "iopub.status.idle": "2025-09-18T09:08:59.710803Z",
     "shell.execute_reply": "2025-09-18T09:08:59.710118Z"
    }
   },
   "outputs": [
    {
     "data": {
      "text/plain": [
       "Text(0, 0.5, 'Volatility')"
      ]
     },
     "execution_count": 7,
     "metadata": {},
     "output_type": "execute_result"
    },
    {
     "data": {
      "text/plain": [
       "<Figure size 640x480 with 0 Axes>"
      ]
     },
     "metadata": {},
     "output_type": "display_data"
    },
    {
     "data": {
      "image/png": "[encoded data removed]",
      "text/plain": [
       "<Figure size 1500x750 with 1 Axes>"
      ]
     },
     "metadata": {},
     "output_type": "display_data"
    }
   ],
   "source": [
    "plt.figure()\n",
    "plt.figure(figsize=(10, 5), dpi=150)\n",
    "plt.plot(surface_df_svi.columns.map(str), surface_df_svi.T[\"2Y\"], label = \"SVI\")\n",
    "plt.plot(surface_df_sabr.columns.map(str), surface_df_sabr.T[\"2Y\"], label = \"SABR\")\n",
    "plt.title(f\"{currencyPair} Volatility Smiles SVI vs SABR\", fontdict={'fontweight':'bold','fontsize':15})\n",
    "plt.legend(loc='upper right')\n",
    "plt.xlabel('Delta')\n",
    "plt.ylabel('Volatility')"
   ]
  },
  {
   "cell_type": "code",
   "execution_count": null,
   "id": "9389e2fc",
   "metadata": {},
   "outputs": [],
   "source": []
  }
 ],
 "metadata": {
  "kernelspec": {
   "display_name": "base",
   "language": "python",
   "name": "python3"
  },
  "language_info": {
   "codemirror_mode": {
    "name": "ipython",
    "version": 3
   },
   "file_extension": ".py",
   "mimetype": "text/x-python",
   "name": "python",
   "nbconvert_exporter": "python",
   "pygments_lexer": "ipython3",
   "version": "3.11.6"
  }
 },
 "nbformat": 4,
 "nbformat_minor": 5
}
