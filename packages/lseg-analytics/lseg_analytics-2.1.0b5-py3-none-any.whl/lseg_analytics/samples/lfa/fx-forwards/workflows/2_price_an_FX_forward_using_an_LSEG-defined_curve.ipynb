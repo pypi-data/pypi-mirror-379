{
 "cells": [
  {
   "cell_type": "markdown",
   "metadata": {},
   "source": [
    "# Price an FX Forward using an LSEG-defined curve\n",
    "\n",
    "This notebook explains how to price an FX Forward using an FX Forward curve defined by LSEG."
   ]
  },
  {
   "cell_type": "markdown",
   "metadata": {},
   "source": [
    "## Start by importing the required libraries"
   ]
  },
  {
   "cell_type": "code",
   "execution_count": 1,
   "metadata": {
    "execution": {
     "iopub.execute_input": "2025-09-18T09:08:38.460117Z",
     "iopub.status.busy": "2025-09-18T09:08:38.459728Z",
     "iopub.status.idle": "2025-09-18T09:08:38.864425Z",
     "shell.execute_reply": "2025-09-18T09:08:38.863893Z"
    }
   },
   "outputs": [],
   "source": [
    "from lseg_analytics.market_data import fx_forward_curves\n",
    "from lseg_analytics.instruments import fx_forwards\n",
    "from lseg_analytics_basic_client.models import RelativeAdjustableDate, ReferenceDate"
   ]
  },
  {
   "cell_type": "markdown",
   "metadata": {},
   "source": [
    "## Load an FX Forward curve\n",
    "To load the curve, you need to provide the space where to load the curve from and the name of the curve. This example loads an LSEG-defined curve, so it loads the curve from the 'LSEG' space. You can also load a curve of your own from the 'HOME' space. \n",
    "\n",
    "To see the possible curve names, place your cursor after the equals sign and trigger the autocompletion using the _Trigger Suggest_ command (`Ctrl`/`Cmd` + `i`)."
   ]
  },
  {
   "cell_type": "code",
   "execution_count": 2,
   "metadata": {
    "execution": {
     "iopub.execute_input": "2025-09-18T09:08:38.868391Z",
     "iopub.status.busy": "2025-09-18T09:08:38.866793Z",
     "iopub.status.idle": "2025-09-18T09:08:39.522808Z",
     "shell.execute_reply": "2025-09-18T09:08:39.522192Z"
    }
   },
   "outputs": [],
   "source": [
    "# Load the EUR/GBP FX Forward curve\n",
    "eurgbp_curve = fx_forward_curves.load(space=\"LSEG\", name=\"EUR_GBP_FxForward\")"
   ]
  },
  {
   "cell_type": "markdown",
   "metadata": {},
   "source": [
    "## Create an FX instrument\n",
    "To create an FX instrument you need to provide an 'FxForwardDefinition'. At a minimum this requires the 'quoted_currency', 'base_currency', 'payer' and 'receiver', but you can also define the 'start_date', 'end_date', 'rate', 'deal_amount' and 'contra_amount'."
   ]
  },
  {
   "cell_type": "code",
   "execution_count": 3,
   "metadata": {
    "execution": {
     "iopub.execute_input": "2025-09-18T09:08:39.525722Z",
     "iopub.status.busy": "2025-09-18T09:08:39.525421Z",
     "iopub.status.idle": "2025-09-18T09:08:39.717246Z",
     "shell.execute_reply": "2025-09-18T09:08:39.716718Z"
    }
   },
   "outputs": [
    {
     "data": {
      "text/plain": [
       "True"
      ]
     },
     "execution_count": 3,
     "metadata": {},
     "output_type": "execute_result"
    }
   ],
   "source": [
    "eurgbp_fxfwd = fx_forwards.FxForward(\n",
    "    definition=fx_forwards.FxForwardDefinition(\n",
    "        quoted_currency=\"GBP\",\n",
    "        base_currency=\"EUR\",\n",
    "        rate=fx_forwards.FxRate(value=0.86),\n",
    "        end_date=RelativeAdjustableDate(\n",
    "            tenor=\"3M\", reference_date=ReferenceDate.START_DATE\n",
    "        ),\n",
    "        start_date=RelativeAdjustableDate(\n",
    "            tenor=\"1M\", reference_date=ReferenceDate.SPOT_DATE\n",
    "        ),\n",
    "        deal_amount=1000000,\n",
    "        payer=\"Party1\",\n",
    "        receiver=\"Party2\",\n",
    "    )\n",
    ")\n",
    "eurgbp_fxfwd.save(name=\"myforward\", space=\"HOME\")"
   ]
  },
  {
   "cell_type": "markdown",
   "metadata": {},
   "source": [
    "## Define the market data used to price the FX Forward\n",
    "Here we need to add the curve to the market_data that will be used to price the FX Forward. "
   ]
  },
  {
   "cell_type": "code",
   "execution_count": 4,
   "metadata": {
    "execution": {
     "iopub.execute_input": "2025-09-18T09:08:39.719587Z",
     "iopub.status.busy": "2025-09-18T09:08:39.719243Z",
     "iopub.status.idle": "2025-09-18T09:08:39.724036Z",
     "shell.execute_reply": "2025-09-18T09:08:39.723567Z"
    }
   },
   "outputs": [],
   "source": [
    "market_data = fx_forwards.MarketData()\n",
    "market_data.fx_forward_curves = [fx_forwards.FxForwardCurveChoice(reference=\"EUR_GBP_FxForward\")]"
   ]
  },
  {
   "cell_type": "markdown",
   "metadata": {},
   "source": [
    "## Price it using the Curve\n",
    "The 'price' method uses market_data containing the curve which was added in the previous step. In addition to this you can set further parameters including the 'valuation_date' and other preferences. All pricing parameters are optional and will default to a value if not selected. "
   ]
  },
  {
   "cell_type": "code",
   "execution_count": 5,
   "metadata": {
    "execution": {
     "iopub.execute_input": "2025-09-18T09:08:39.726100Z",
     "iopub.status.busy": "2025-09-18T09:08:39.725688Z",
     "iopub.status.idle": "2025-09-18T09:08:40.541868Z",
     "shell.execute_reply": "2025-09-18T09:08:40.541301Z"
    }
   },
   "outputs": [],
   "source": [
    "pricing_response = eurgbp_fxfwd.price(\n",
    "    market_data=market_data,\n",
    "    pricing_preferences=fx_forwards.FxPricingParameters(\n",
    "        valuation_date=\"2024-02-11\",\n",
    "        ignore_reference_currency_holidays=True, \n",
    "        reference_currency=\"EUR\",\n",
    "    ),\n",
    ")"
   ]
  },
  {
   "cell_type": "markdown",
   "metadata": {},
   "source": [
    "## Display the response values\n",
    "Print the description of the response to see the valuation date, start date and end date in the following format.\n",
    "```javascript\n",
    "{'valuationDate': '2024-02-11', 'startDate': {'unAdjusted': '2024-03-13', 'adjusted': '2024-03-13', 'dateMovingConvention': 'NextBusinessDay', 'referenceDate': 'SpotDate', 'tenor': '1M'}, 'endDate': {'unAdjusted': '2024-06-13', 'adjusted': '2024-06-13', 'dateMovingConvention': 'NextBusinessDay', 'referenceDate': 'StartDate', 'tenor': '3M'}}\n",
    "```\n",
    "\n",
    "As part of the pricing analysis, see the below example for the possible values that can be printed. "
   ]
  },
  {
   "cell_type": "code",
   "execution_count": 6,
   "metadata": {
    "execution": {
     "iopub.execute_input": "2025-09-18T09:08:40.544839Z",
     "iopub.status.busy": "2025-09-18T09:08:40.544330Z",
     "iopub.status.idle": "2025-09-18T09:08:40.550204Z",
     "shell.execute_reply": "2025-09-18T09:08:40.549584Z"
    }
   },
   "outputs": [
    {
     "name": "stdout",
     "output_type": "stream",
     "text": [
      "{'valuationDate': '2024-02-11', 'startDate': {'unAdjusted': '2024-03-13', 'adjusted': '2024-03-13', 'dateMovingConvention': 'NextBusinessDay', 'referenceDate': 'SpotDate', 'tenor': '1M'}, 'endDate': {'unAdjusted': '2024-06-13', 'adjusted': '2024-06-13', 'dateMovingConvention': 'NextBusinessDay', 'referenceDate': 'StartDate', 'tenor': '3M'}}\n",
      "\t Deal amount: 1000000.0\n",
      "\t Countra amount: 860000.0\n",
      "\t FX Spot - Bid: 0.854\n",
      "\t FX Spot - Ask: 0.8544\n",
      "\t FX Swaps Ccy1 - Bid: 0.0\n",
      "\t FX Swaps Ccy1 - Ask: 0.0\n",
      "\t FX Swaps Ccy2 - Bid: 28.44999999999986\n",
      "\t FX Swaps Ccy2 - Ask: 28.86999999999973\n",
      "\t FX Swaps Ccy1 Ccy2 - Bid: 28.449999999999864\n",
      "\t FX Swaps Ccy1 Ccy2 - Ask: 28.869999999999727\n",
      "\t FX Outright Ccy1 Ccy2 - Bid: 0.857688\n",
      "\t FX Outright Ccy1 Ccy2 - Ask: 0.858124\n"
     ]
    }
   ],
   "source": [
    "# Display the pricing analysis\n",
    "print(pricing_response.analytics.description)\n",
    "print(\"\\t Deal amount:\", pricing_response.analytics.pricing_analysis.deal_amount)\n",
    "print(\"\\t Countra amount:\", pricing_response.analytics.pricing_analysis.contra_amount)\n",
    "print(\"\\t FX Spot - Bid:\", pricing_response.analytics.pricing_analysis.fx_spot.bid)\n",
    "print(\"\\t FX Spot - Ask:\", pricing_response.analytics.pricing_analysis.fx_spot.ask)\n",
    "print(\n",
    "    \"\\t FX Swaps Ccy1 - Bid:\",\n",
    "    pricing_response.analytics.pricing_analysis.fx_swaps_ccy1.bid,\n",
    ")\n",
    "print(\n",
    "    \"\\t FX Swaps Ccy1 - Ask:\",\n",
    "    pricing_response.analytics.pricing_analysis.fx_swaps_ccy1.ask,\n",
    ")\n",
    "print(\n",
    "    \"\\t FX Swaps Ccy2 - Bid:\",\n",
    "    pricing_response.analytics.pricing_analysis.fx_swaps_ccy2.bid,\n",
    ")\n",
    "print(\n",
    "    \"\\t FX Swaps Ccy2 - Ask:\",\n",
    "    pricing_response.analytics.pricing_analysis.fx_swaps_ccy2.ask,\n",
    ")\n",
    "print(\n",
    "    \"\\t FX Swaps Ccy1 Ccy2 - Bid:\",\n",
    "    pricing_response.analytics.pricing_analysis.fx_swaps_ccy1_ccy2.bid,\n",
    ")\n",
    "print(\n",
    "    \"\\t FX Swaps Ccy1 Ccy2 - Ask:\",\n",
    "    pricing_response.analytics.pricing_analysis.fx_swaps_ccy1_ccy2.ask,\n",
    ")\n",
    "print(\n",
    "    \"\\t FX Outright Ccy1 Ccy2 - Bid:\",\n",
    "    pricing_response.analytics.pricing_analysis.fx_outright_ccy1_ccy2.bid,\n",
    ")\n",
    "print(\n",
    "    \"\\t FX Outright Ccy1 Ccy2 - Ask:\",\n",
    "    pricing_response.analytics.pricing_analysis.fx_outright_ccy1_ccy2.ask,\n",
    ")"
   ]
  },
  {
   "cell_type": "code",
   "execution_count": 7,
   "metadata": {
    "execution": {
     "iopub.execute_input": "2025-09-18T09:08:40.552656Z",
     "iopub.status.busy": "2025-09-18T09:08:40.552069Z",
     "iopub.status.idle": "2025-09-18T09:08:40.807976Z",
     "shell.execute_reply": "2025-09-18T09:08:40.807186Z"
    }
   },
   "outputs": [
    {
     "data": {
      "text/plain": [
       "True"
      ]
     },
     "execution_count": 7,
     "metadata": {},
     "output_type": "execute_result"
    }
   ],
   "source": [
    "fx_forwards.delete(name=\"myforward\", space=\"HOME\")"
   ]
  }
 ],
 "metadata": {
  "kernelspec": {
   "display_name": ".venv",
   "language": "python",
   "name": "python3"
  },
  "language_info": {
   "codemirror_mode": {
    "name": "ipython",
    "version": 3
   },
   "file_extension": ".py",
   "mimetype": "text/x-python",
   "name": "python",
   "nbconvert_exporter": "python",
   "pygments_lexer": "ipython3",
   "version": "3.11.6"
  }
 },
 "nbformat": 4,
 "nbformat_minor": 2
}
