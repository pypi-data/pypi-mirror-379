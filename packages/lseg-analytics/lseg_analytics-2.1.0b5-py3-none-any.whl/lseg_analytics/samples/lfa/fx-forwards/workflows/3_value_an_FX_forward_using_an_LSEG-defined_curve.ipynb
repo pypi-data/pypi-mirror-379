{
 "cells": [
  {
   "cell_type": "markdown",
   "metadata": {},
   "source": [
    "# Value an FX Forward using an LSEG-defined curve\n",
    "\n",
    "This notebook explains how to value an FX Forward using an FX Forward curve defined by LSEG."
   ]
  },
  {
   "cell_type": "markdown",
   "metadata": {},
   "source": [
    "## Start by importing the required libraries"
   ]
  },
  {
   "cell_type": "code",
   "execution_count": 1,
   "metadata": {
    "execution": {
     "iopub.execute_input": "2025-09-18T09:08:42.254731Z",
     "iopub.status.busy": "2025-09-18T09:08:42.254453Z",
     "iopub.status.idle": "2025-09-18T09:08:42.696105Z",
     "shell.execute_reply": "2025-09-18T09:08:42.695371Z"
    }
   },
   "outputs": [],
   "source": [
    "from lseg_analytics.market_data import fx_forward_curves\n",
    "from lseg_analytics.instruments import fx_forwards\n",
    "from lseg_analytics_basic_client.models import RelativeAdjustableDate, ReferenceDate\n",
    "import datetime"
   ]
  },
  {
   "cell_type": "markdown",
   "metadata": {},
   "source": [
    "## Load an FX Forward curve\n",
    "To load the curve, you need to provide the space where to load the curve from and the name of the curve. This example loads an LSEG-defined curve, so it loads the curve from the 'LSEG' space. You can also load a curve of your own from the 'HOME' space. \n",
    "\n",
    "To see the possible curve names, place your cursor after the equals sign and trigger the autocompletion using the _Trigger Suggest_ command (`Ctrl`/`Cmd` + `i`)."
   ]
  },
  {
   "cell_type": "code",
   "execution_count": 2,
   "metadata": {
    "execution": {
     "iopub.execute_input": "2025-09-18T09:08:42.701581Z",
     "iopub.status.busy": "2025-09-18T09:08:42.698974Z",
     "iopub.status.idle": "2025-09-18T09:08:43.340586Z",
     "shell.execute_reply": "2025-09-18T09:08:43.340088Z"
    }
   },
   "outputs": [],
   "source": [
    "# Load the EUR/GBP FX Forward curve from the LSEG storage space\n",
    "eurgbp_curve = fx_forward_curves.load(space=\"LSEG\", name=\"EUR_GBP_FxForward\")"
   ]
  },
  {
   "cell_type": "markdown",
   "metadata": {},
   "source": [
    "## Create an FX instrument\n",
    "To create an FX instrument you need to provide an 'FxForwardDefinition'. At a minimum this requires the 'quoted_currency', 'base_currency', 'payer' and 'receiver', but you can also define the 'start_date', 'end_date', 'rate', 'deal_amount' and 'contra_amount'."
   ]
  },
  {
   "cell_type": "code",
   "execution_count": 3,
   "metadata": {
    "execution": {
     "iopub.execute_input": "2025-09-18T09:08:43.343857Z",
     "iopub.status.busy": "2025-09-18T09:08:43.343447Z",
     "iopub.status.idle": "2025-09-18T09:08:43.545235Z",
     "shell.execute_reply": "2025-09-18T09:08:43.544414Z"
    }
   },
   "outputs": [
    {
     "data": {
      "text/plain": [
       "True"
      ]
     },
     "execution_count": 3,
     "metadata": {},
     "output_type": "execute_result"
    }
   ],
   "source": [
    "# Create an FX Forward instrument¶\n",
    "eurgbp_fxfwd = fx_forwards.FxForward(\n",
    "    definition=fx_forwards.FxForwardDefinition(\n",
    "        quoted_currency=\"GBP\",\n",
    "        base_currency=\"EUR\",\n",
    "        rate=fx_forwards.FxRate(value=0.86),\n",
    "        end_date=RelativeAdjustableDate(\n",
    "            tenor=\"3M\", reference_date=ReferenceDate.START_DATE\n",
    "        ),\n",
    "        deal_amount=1000000,\n",
    "        payer=\"Party1\",\n",
    "        receiver=\"Party2\",\n",
    "    )\n",
    ")\n",
    "eurgbp_fxfwd.save(name=\"myforward\", space=\"HOME\")"
   ]
  },
  {
   "cell_type": "markdown",
   "metadata": {},
   "source": [
    "## Define the market data used to price the FX Forward\n",
    "Here we need to add the curve to the market_data that will be used to price the FX Forward. "
   ]
  },
  {
   "cell_type": "code",
   "execution_count": 4,
   "metadata": {
    "execution": {
     "iopub.execute_input": "2025-09-18T09:08:43.548521Z",
     "iopub.status.busy": "2025-09-18T09:08:43.548046Z",
     "iopub.status.idle": "2025-09-18T09:08:43.555210Z",
     "shell.execute_reply": "2025-09-18T09:08:43.554474Z"
    }
   },
   "outputs": [],
   "source": [
    "market_data = fx_forwards.MarketData()\n",
    "market_data.fx_forward_curves = [\n",
    "    fx_forwards.FxForwardCurveChoice(reference=\"EUR_GBP_FxForward\")\n",
    "]"
   ]
  },
  {
   "cell_type": "markdown",
   "metadata": {},
   "source": [
    "## Value it using the Curve\n",
    "The 'value' method uses market_data containing the curve which was added in the previous step. In addition to this you can set further parameters including the 'valuation_date' and other preferences. All pricing parameters are optional and will default to a value if not selected. "
   ]
  },
  {
   "cell_type": "code",
   "execution_count": 5,
   "metadata": {
    "execution": {
     "iopub.execute_input": "2025-09-18T09:08:43.558145Z",
     "iopub.status.busy": "2025-09-18T09:08:43.557538Z",
     "iopub.status.idle": "2025-09-18T09:08:44.247578Z",
     "shell.execute_reply": "2025-09-18T09:08:44.246961Z"
    }
   },
   "outputs": [],
   "source": [
    "valuation_response = eurgbp_fxfwd.value(\n",
    "    market_data=market_data,\n",
    "    pricing_preferences=fx_forwards.FxPricingParameters(\n",
    "        valuation_date=datetime.date(2024, 1, 11),\n",
    "        report_currency=\"USD\",\n",
    "    ),\n",
    ")"
   ]
  },
  {
   "cell_type": "markdown",
   "metadata": {},
   "source": [
    "## Display the response values\n",
    "Print the description of the response to see the valuation date, start date and end date in the following format.\n",
    "```javascript\n",
    "{'valuationDate': '2024-01-11', 'startDate': {'unAdjusted': '2024-01-16', 'adjusted': '2024-01-16', 'dateMovingConvention': 'NextBusinessDay'}, 'endDate': {'unAdjusted': '2024-04-16', 'adjusted': '2024-04-16', 'dateMovingConvention': 'NextBusinessDay', 'referenceDate': 'StartDate', 'tenor': '3M'}}\n",
    "```\n",
    "\n",
    "In addition to the description, the following values can be printed as part of the valuation analysis."
   ]
  },
  {
   "cell_type": "code",
   "execution_count": 6,
   "metadata": {
    "execution": {
     "iopub.execute_input": "2025-09-18T09:08:44.250315Z",
     "iopub.status.busy": "2025-09-18T09:08:44.249980Z",
     "iopub.status.idle": "2025-09-18T09:08:44.254373Z",
     "shell.execute_reply": "2025-09-18T09:08:44.253848Z"
    }
   },
   "outputs": [
    {
     "name": "stdout",
     "output_type": "stream",
     "text": [
      "{'valuationDate': '2024-01-11', 'startDate': {'unAdjusted': '2024-01-16', 'adjusted': '2024-01-16', 'dateMovingConvention': 'NextBusinessDay'}, 'endDate': {'unAdjusted': '2024-04-16', 'adjusted': '2024-04-16', 'dateMovingConvention': 'NextBusinessDay', 'referenceDate': 'StartDate', 'tenor': '3M'}}\n",
      "\t Market value in deal currency: 2991.63229455919\n",
      "\t Market value in contra currency: 2572.56570294871\n",
      "\t Market value in report currency: 2013.78535158931\n",
      "\t Greeks - Delta percent: 99.0133596310335\n",
      "\t Greeks - Delta amount in deal currency: 987140.328050483\n",
      "\t Greeks - Delta amount in contra currency: 990133.596310335\n"
     ]
    }
   ],
   "source": [
    "# Display the valuation analysis\n",
    "print(valuation_response.analytics.description)\n",
    "print(\n",
    "    \"\\t Market value in deal currency:\",\n",
    "    valuation_response.analytics.valuation.market_value_in_deal_ccy,\n",
    ")\n",
    "print(\n",
    "    \"\\t Market value in contra currency:\",\n",
    "    valuation_response.analytics.valuation.market_value_in_contra_ccy,\n",
    ")\n",
    "print(\n",
    "    \"\\t Market value in report currency:\",\n",
    "    valuation_response.analytics.valuation.market_value_in_report_ccy,\n",
    ")\n",
    "print(\"\\t Greeks - Delta percent:\", valuation_response.analytics.greeks.delta_percent)\n",
    "print(\n",
    "    \"\\t Greeks - Delta amount in deal currency:\",\n",
    "    valuation_response.analytics.greeks.delta_amount_in_deal_ccy,\n",
    ")\n",
    "print(\n",
    "    \"\\t Greeks - Delta amount in contra currency:\",\n",
    "    valuation_response.analytics.greeks.delta_amount_in_contra_ccy,\n",
    ")"
   ]
  },
  {
   "cell_type": "code",
   "execution_count": 7,
   "metadata": {
    "execution": {
     "iopub.execute_input": "2025-09-18T09:08:44.256384Z",
     "iopub.status.busy": "2025-09-18T09:08:44.256114Z",
     "iopub.status.idle": "2025-09-18T09:08:44.518377Z",
     "shell.execute_reply": "2025-09-18T09:08:44.517948Z"
    }
   },
   "outputs": [
    {
     "data": {
      "text/plain": [
       "True"
      ]
     },
     "execution_count": 7,
     "metadata": {},
     "output_type": "execute_result"
    }
   ],
   "source": [
    "fx_forwards.delete(name=\"myforward\", space=\"HOME\")"
   ]
  }
 ],
 "metadata": {
  "kernelspec": {
   "display_name": ".venv",
   "language": "python",
   "name": "python3"
  },
  "language_info": {
   "codemirror_mode": {
    "name": "ipython",
    "version": 3
   },
   "file_extension": ".py",
   "mimetype": "text/x-python",
   "name": "python",
   "nbconvert_exporter": "python",
   "pygments_lexer": "ipython3",
   "version": "3.11.6"
  }
 },
 "nbformat": 4,
 "nbformat_minor": 2
}
