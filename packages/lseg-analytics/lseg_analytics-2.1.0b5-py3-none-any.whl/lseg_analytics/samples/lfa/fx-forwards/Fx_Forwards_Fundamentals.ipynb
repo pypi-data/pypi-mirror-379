{
 "cells": [
  {
   "cell_type": "markdown",
   "id": "1a108871",
   "metadata": {},
   "source": [
    "# FX Forwards Fundamentals"
   ]
  },
  {
   "cell_type": "markdown",
   "id": "3a4cef20",
   "metadata": {},
   "source": [
    "This notebook demonstrates how to access and use the functionalities of **FX Forwards** which are part of our **QPS** module within LSEG Financial Analytics SDK."
   ]
  },
  {
   "cell_type": "markdown",
   "id": "7cd0ad84",
   "metadata": {},
   "source": [
    "## Imports"
   ]
  },
  {
   "cell_type": "markdown",
   "id": "37a963b7",
   "metadata": {},
   "source": [
    "Import the following necessary modules:"
   ]
  },
  {
   "cell_type": "code",
   "execution_count": 1,
   "id": "fb2218f1",
   "metadata": {
    "execution": {
     "iopub.execute_input": "2025-09-18T08:59:40.882496Z",
     "iopub.status.busy": "2025-09-18T08:59:40.882187Z",
     "iopub.status.idle": "2025-09-18T08:59:41.532768Z",
     "shell.execute_reply": "2025-09-18T08:59:41.532011Z"
    }
   },
   "outputs": [],
   "source": [
    "# Sync Post + data preparation\n",
    "from lseg_analytics.instruments.fx_forwards import (\n",
    "    FxForward,\n",
    "    FxForwardDefinition,\n",
    "    PartyEnum,\n",
    "    FxRate,\n",
    "    FxPricingParameters,\n",
    "    FxForwardCurveChoice,\n",
    "    MarketData,\n",
    "    FxForwardOverride,\n",
    "    FxForwardDefinition,\n",
    "    FxForwardDefinitionInstrument,\n",
    "    price,\n",
    "    value,\n",
    "    search,\n",
    "    load,\n",
    "    delete,\n",
    "    create_from_template\n",
    ")\n",
    "\n",
    "from lseg_analytics.common import(\n",
    "    AdjustableDate\n",
    ")\n",
    "\n",
    "from datetime import date"
   ]
  },
  {
   "cell_type": "markdown",
   "id": "b25891f2",
   "metadata": {},
   "source": [
    "## Searching for an FX Forward"
   ]
  },
  {
   "cell_type": "markdown",
   "id": "c29ecafc",
   "metadata": {},
   "source": [
    "### General search"
   ]
  },
  {
   "cell_type": "code",
   "execution_count": 2,
   "id": "e4121ab8",
   "metadata": {
    "execution": {
     "iopub.execute_input": "2025-09-18T08:59:41.537512Z",
     "iopub.status.busy": "2025-09-18T08:59:41.535632Z",
     "iopub.status.idle": "2025-09-18T08:59:41.994548Z",
     "shell.execute_reply": "2025-09-18T08:59:41.994035Z"
    }
   },
   "outputs": [
    {
     "name": "stdout",
     "output_type": "stream",
     "text": [
      "[{'type': 'FxForward', 'id': 'cf631070-7fca-426a-b919-b8d64c911cc9', 'location': {'space': 'HOME', 'name': 'FxSample17516220851575153'}, 'description': {'summary': 'Test description', 'tags': ['tag1', 'tag2']}}, {'type': 'FxForward', 'id': '0538b570-cb63-4b87-b6ed-6b909b2e5182', 'location': {'space': 'HOME', 'name': 'sdk_test_forward6NuggT'}, 'description': {'summary': '', 'tags': []}}, {'type': 'FxForward', 'id': 'd0a97835-9251-4c2e-b504-d01ff1bbdd83', 'location': {'space': 'HOME', 'name': 'sdk_test_forwardbEAcEQ'}, 'description': {'summary': '', 'tags': []}}, {'type': 'FxForward', 'id': '6930f602-bbf1-48f8-8596-50e62ac50fac', 'location': {'space': 'HOME', 'name': 'sdk_test_forwardFfGsti'}, 'description': {'summary': '', 'tags': []}}, {'type': 'FxForward', 'id': 'f33dcf12-9edd-40a3-a4fe-5e1e938036ad', 'location': {'space': 'HOME', 'name': 'sdk_test_forwardHLZhrG'}, 'description': {'summary': '', 'tags': []}}, {'type': 'FxForward', 'id': '985a7398-ec0d-496d-9b17-e82b9f10cc1b', 'location': {'space': 'HOME', 'name': 'sdk_test_forwardLk1tyq'}, 'description': {'summary': '', 'tags': []}}, {'type': 'FxForward', 'id': '0d942d77-1111-43ad-b8a2-e54c70aada62', 'location': {'space': 'HOME', 'name': 'sdk_test_forwardlpfFcN'}, 'description': {'summary': '', 'tags': []}}, {'type': 'FxForward', 'id': 'c0e1203a-ba72-4b11-a344-c82498cfed26', 'location': {'space': 'HOME', 'name': 'sdk_test_forwardQHCYxf'}, 'description': {'summary': '', 'tags': []}}, {'type': 'FxForward', 'id': '68ac31d5-e6a7-4287-8fff-fe7f08953902', 'location': {'space': 'TestSpace', 'name': 'TestFX_1dgHWb'}, 'description': {'summary': 'Some summary', 'tags': ['Test']}}, {'type': 'FxForward', 'id': '3bf47cd2-32fb-4b64-ae77-0176a13c534a', 'location': {'space': 'TestSpace', 'name': 'TestFX_kOs2wU'}, 'description': {'summary': 'Some summary', 'tags': ['Test']}}, {'type': 'FxForward', 'id': '4f93a38e-ec25-4de2-95b0-5344aed4536c', 'location': {'space': 'TestSpace', 'name': 'TestFX_RhLzKq'}, 'description': {'summary': 'Some summary', 'tags': ['Test']}}]\n"
     ]
    }
   ],
   "source": [
    "# Search through available FX Forwards\n",
    "fx_fowards = search()\n",
    "\n",
    "print(fx_fowards)"
   ]
  },
  {
   "cell_type": "markdown",
   "id": "9ee77140",
   "metadata": {},
   "source": [
    "### Search by name"
   ]
  },
  {
   "cell_type": "code",
   "execution_count": 3,
   "id": "990dc04c",
   "metadata": {
    "execution": {
     "iopub.execute_input": "2025-09-18T08:59:41.997058Z",
     "iopub.status.busy": "2025-09-18T08:59:41.996795Z",
     "iopub.status.idle": "2025-09-18T08:59:42.136026Z",
     "shell.execute_reply": "2025-09-18T08:59:42.135388Z"
    }
   },
   "outputs": [
    {
     "name": "stdout",
     "output_type": "stream",
     "text": [
      "[{'type': 'FxForward', 'id': 'cf631070-7fca-426a-b919-b8d64c911cc9', 'location': {'space': 'HOME', 'name': 'FxSample17516220851575153'}, 'description': {'summary': 'Test description', 'tags': ['tag1', 'tag2']}}]\n"
     ]
    }
   ],
   "source": [
    "if not fx_fowards:\n",
    "    print(\"There are no accessible Fx Forwards for the current account\")\n",
    "else:\n",
    "    fx_fowards_by_name = search(names=[fx_fowards[0].location.name])\n",
    "    print(fx_fowards_by_name)"
   ]
  },
  {
   "cell_type": "markdown",
   "id": "82d0de53",
   "metadata": {},
   "source": [
    "### Search by name and space"
   ]
  },
  {
   "cell_type": "code",
   "execution_count": 4,
   "id": "114a2056",
   "metadata": {
    "execution": {
     "iopub.execute_input": "2025-09-18T08:59:42.138802Z",
     "iopub.status.busy": "2025-09-18T08:59:42.138561Z",
     "iopub.status.idle": "2025-09-18T08:59:42.280644Z",
     "shell.execute_reply": "2025-09-18T08:59:42.279968Z"
    }
   },
   "outputs": [
    {
     "name": "stdout",
     "output_type": "stream",
     "text": [
      "[{'type': 'FxForward', 'id': 'cf631070-7fca-426a-b919-b8d64c911cc9', 'location': {'space': 'HOME', 'name': 'FxSample17516220851575153'}, 'description': {'summary': 'Test description', 'tags': ['tag1', 'tag2']}}]\n"
     ]
    }
   ],
   "source": [
    "if not fx_fowards:\n",
    "    print(\"There are no accessible Fx Forwards for the current account\")\n",
    "else:\n",
    "    fx_fowards_by_name_and_space = search(names=[fx_fowards[0].location.name], spaces=[fx_fowards[0].location.space])\n",
    "    print(fx_fowards_by_name_and_space)"
   ]
  },
  {
   "cell_type": "markdown",
   "id": "78932d02",
   "metadata": {},
   "source": [
    "### Search by space"
   ]
  },
  {
   "cell_type": "code",
   "execution_count": 5,
   "id": "8a71d25f",
   "metadata": {
    "execution": {
     "iopub.execute_input": "2025-09-18T08:59:42.282987Z",
     "iopub.status.busy": "2025-09-18T08:59:42.282766Z",
     "iopub.status.idle": "2025-09-18T08:59:42.390430Z",
     "shell.execute_reply": "2025-09-18T08:59:42.389821Z"
    }
   },
   "outputs": [
    {
     "name": "stdout",
     "output_type": "stream",
     "text": [
      "[{'type': 'FxForward', 'id': 'cf631070-7fca-426a-b919-b8d64c911cc9', 'location': {'space': 'HOME', 'name': 'FxSample17516220851575153'}, 'description': {'summary': 'Test description', 'tags': ['tag1', 'tag2']}}, {'type': 'FxForward', 'id': '0538b570-cb63-4b87-b6ed-6b909b2e5182', 'location': {'space': 'HOME', 'name': 'sdk_test_forward6NuggT'}, 'description': {'summary': '', 'tags': []}}, {'type': 'FxForward', 'id': 'd0a97835-9251-4c2e-b504-d01ff1bbdd83', 'location': {'space': 'HOME', 'name': 'sdk_test_forwardbEAcEQ'}, 'description': {'summary': '', 'tags': []}}, {'type': 'FxForward', 'id': '6930f602-bbf1-48f8-8596-50e62ac50fac', 'location': {'space': 'HOME', 'name': 'sdk_test_forwardFfGsti'}, 'description': {'summary': '', 'tags': []}}, {'type': 'FxForward', 'id': 'f33dcf12-9edd-40a3-a4fe-5e1e938036ad', 'location': {'space': 'HOME', 'name': 'sdk_test_forwardHLZhrG'}, 'description': {'summary': '', 'tags': []}}, {'type': 'FxForward', 'id': '985a7398-ec0d-496d-9b17-e82b9f10cc1b', 'location': {'space': 'HOME', 'name': 'sdk_test_forwardLk1tyq'}, 'description': {'summary': '', 'tags': []}}, {'type': 'FxForward', 'id': '0d942d77-1111-43ad-b8a2-e54c70aada62', 'location': {'space': 'HOME', 'name': 'sdk_test_forwardlpfFcN'}, 'description': {'summary': '', 'tags': []}}, {'type': 'FxForward', 'id': 'c0e1203a-ba72-4b11-a344-c82498cfed26', 'location': {'space': 'HOME', 'name': 'sdk_test_forwardQHCYxf'}, 'description': {'summary': '', 'tags': []}}]\n"
     ]
    }
   ],
   "source": [
    "fx_fowards_by_space = search(spaces=[\"HOME\"])\n",
    "\n",
    "print(fx_fowards_by_space)"
   ]
  },
  {
   "cell_type": "markdown",
   "id": "19f71cee",
   "metadata": {},
   "source": [
    "### Search by tags"
   ]
  },
  {
   "cell_type": "code",
   "execution_count": 6,
   "id": "a9244206",
   "metadata": {
    "execution": {
     "iopub.execute_input": "2025-09-18T08:59:42.393763Z",
     "iopub.status.busy": "2025-09-18T08:59:42.393310Z",
     "iopub.status.idle": "2025-09-18T08:59:42.503502Z",
     "shell.execute_reply": "2025-09-18T08:59:42.502912Z"
    }
   },
   "outputs": [
    {
     "name": "stdout",
     "output_type": "stream",
     "text": [
      "[{'type': 'FxForward', 'id': 'cf631070-7fca-426a-b919-b8d64c911cc9', 'location': {'space': 'HOME', 'name': 'FxSample17516220851575153'}, 'description': {'summary': 'Test description', 'tags': ['tag1', 'tag2']}}]\n"
     ]
    }
   ],
   "source": [
    "if not fx_fowards:\n",
    "    print(\"There are no accessible Fx Forwards for the current account\")\n",
    "else:\n",
    "    fx_fowards_by_tags = search(tags=fx_fowards[0].description.tags)\n",
    "    print(fx_fowards_by_tags)"
   ]
  },
  {
   "cell_type": "markdown",
   "id": "a122a219",
   "metadata": {},
   "source": [
    "## Loading an FX Forward"
   ]
  },
  {
   "cell_type": "markdown",
   "id": "fd528f33",
   "metadata": {},
   "source": [
    "### Loading by ID"
   ]
  },
  {
   "cell_type": "code",
   "execution_count": 7,
   "id": "9da70968",
   "metadata": {
    "execution": {
     "iopub.execute_input": "2025-09-18T08:59:42.505833Z",
     "iopub.status.busy": "2025-09-18T08:59:42.505530Z",
     "iopub.status.idle": "2025-09-18T08:59:42.629351Z",
     "shell.execute_reply": "2025-09-18T08:59:42.628767Z"
    }
   },
   "outputs": [
    {
     "name": "stdout",
     "output_type": "stream",
     "text": [
      "<FxForward space='HOME' name='FxSample17516220851575153' cf631070‥>\n"
     ]
    }
   ],
   "source": [
    "if not fx_fowards:\n",
    "    print(\"There are no accessible Fx Forwards for the current account\")\n",
    "else:\n",
    "    loaded_forward = load(resource_id=fx_fowards[0].id)\n",
    "    print(loaded_forward)"
   ]
  },
  {
   "cell_type": "markdown",
   "id": "2b27bb40",
   "metadata": {},
   "source": [
    "### Loading by name and space"
   ]
  },
  {
   "cell_type": "code",
   "execution_count": 8,
   "id": "5d0d8a6f",
   "metadata": {
    "execution": {
     "iopub.execute_input": "2025-09-18T08:59:42.631974Z",
     "iopub.status.busy": "2025-09-18T08:59:42.631728Z",
     "iopub.status.idle": "2025-09-18T08:59:42.855420Z",
     "shell.execute_reply": "2025-09-18T08:59:42.854653Z"
    }
   },
   "outputs": [
    {
     "name": "stdout",
     "output_type": "stream",
     "text": [
      "<FxForward space='HOME' name='FxSample17516220851575153' cf631070‥>\n"
     ]
    }
   ],
   "source": [
    "if not fx_fowards:\n",
    "    print(\"There are no accessible Fx Forwards for the current account\")\n",
    "else:\n",
    "    loaded_forward = load(name=fx_fowards[0].location.name, space=fx_fowards[0].location.space)\n",
    "    print(loaded_forward)"
   ]
  },
  {
   "cell_type": "markdown",
   "id": "b9c3dd46",
   "metadata": {},
   "source": [
    "## Creating an FX Forward"
   ]
  },
  {
   "cell_type": "code",
   "execution_count": 9,
   "id": "de772105",
   "metadata": {
    "execution": {
     "iopub.execute_input": "2025-09-18T08:59:42.858692Z",
     "iopub.status.busy": "2025-09-18T08:59:42.858243Z",
     "iopub.status.idle": "2025-09-18T08:59:42.863304Z",
     "shell.execute_reply": "2025-09-18T08:59:42.862759Z"
    }
   },
   "outputs": [
    {
     "name": "stdout",
     "output_type": "stream",
     "text": [
      "{'quotedCurrency': 'EUR', 'baseCurrency': 'CHF', 'payer': 'Party1', 'receiver': 'Party2', 'rate': {'value': 1.1, 'ratePrecision': 2}, 'startDate': {'dateType': 'AdjustableDate', 'date': '2022-01-01'}, 'endDate': {'dateType': 'AdjustableDate', 'date': '2023-12-01'}}\n"
     ]
    }
   ],
   "source": [
    "#Create an FxForward from scratch\n",
    "fx_forward = FxForward(\n",
    "    FxForwardDefinition(\n",
    "        quoted_currency=\"EUR\",\n",
    "        base_currency=\"CHF\",\n",
    "        payer=PartyEnum.PARTY1,\n",
    "        receiver=PartyEnum.PARTY2,\n",
    "        rate=FxRate(value=1.10, rate_precision=2),\n",
    "        start_date=AdjustableDate(\n",
    "            date=date(2022, 1, 1)\n",
    "        ),\n",
    "        end_date=AdjustableDate(\n",
    "            date=date(2023, 12, 1)\n",
    "        )\n",
    "    )\n",
    ")\n",
    "\n",
    "print(fx_forward.definition)"
   ]
  },
  {
   "cell_type": "markdown",
   "id": "d6bb5582",
   "metadata": {},
   "source": [
    "## Create an FX Forward from template"
   ]
  },
  {
   "cell_type": "code",
   "execution_count": 10,
   "id": "fec8aec6",
   "metadata": {
    "execution": {
     "iopub.execute_input": "2025-09-18T08:59:42.866128Z",
     "iopub.status.busy": "2025-09-18T08:59:42.865656Z",
     "iopub.status.idle": "2025-09-18T08:59:42.871828Z",
     "shell.execute_reply": "2025-09-18T08:59:42.871101Z"
    }
   },
   "outputs": [],
   "source": [
    "overrides = FxForwardOverride(\n",
    "    deal_amount=10000,\n",
    "    contra_amount=10000,\n",
    "    rate=FxRate(value=0.5, scaling_factor=1, rate_precision=1),\n",
    "    start_date=AdjustableDate(\n",
    "        date=date(2022, 1, 1)\n",
    "    ),\n",
    "    end_date=AdjustableDate(\n",
    "        date=date(2023, 12, 1)\n",
    "    ),\n",
    "    settlement_type=\"Cash\",\n",
    ")\n",
    "\n",
    "# Provide lower line with usable template reference then uncomment and execute\n",
    "#fx_forward_from_template = create_from_template(reference=\"// Enter fx_forward reference_id//\", overrides=overrides)\n",
    "\n",
    "#print (fx_forward_from_template)"
   ]
  },
  {
   "cell_type": "markdown",
   "id": "71f25649",
   "metadata": {},
   "source": [
    "## Create an FX Forward Definition"
   ]
  },
  {
   "cell_type": "code",
   "execution_count": 11,
   "id": "5fc64ab3",
   "metadata": {
    "execution": {
     "iopub.execute_input": "2025-09-18T08:59:42.874951Z",
     "iopub.status.busy": "2025-09-18T08:59:42.874701Z",
     "iopub.status.idle": "2025-09-18T08:59:42.880626Z",
     "shell.execute_reply": "2025-09-18T08:59:42.879950Z"
    }
   },
   "outputs": [
    {
     "name": "stdout",
     "output_type": "stream",
     "text": [
      "{'definition': {'quotedCurrency': 'EUR', 'baseCurrency': 'CHF', 'dealAmount': 2000000, 'rate': {'value': 1.1, 'scalingFactor': 1, 'ratePrecision': 1}, 'endDate': {'dateType': 'AdjustableDate', 'date': '2024-03-01'}, 'payer': 'Party1', 'receiver': 'Party2', 'startDate': {'dateType': 'AdjustableDate', 'date': '2024-01-01'}, 'settlementType': 'Cash'}}\n"
     ]
    }
   ],
   "source": [
    "fxforward_definition = FxForwardDefinitionInstrument(\n",
    "    definition=FxForwardDefinition(\n",
    "        quoted_currency=\"EUR\",\n",
    "        base_currency=\"CHF\",\n",
    "        deal_amount=2000000,\n",
    "        rate=FxRate(value=1.1, scaling_factor=1, rate_precision=1),\n",
    "        end_date=AdjustableDate(\n",
    "            date=date(2024, 3, 1)\n",
    "        ),\n",
    "        payer=PartyEnum.PARTY1,\n",
    "        receiver=PartyEnum.PARTY2,\n",
    "        start_date=AdjustableDate(\n",
    "            date=date(2024, 1, 1)\n",
    "        ),\n",
    "        settlement_type=\"Cash\",\n",
    "    )\n",
    ")\n",
    "\n",
    "print(fxforward_definition)"
   ]
  },
  {
   "cell_type": "markdown",
   "id": "a120b720",
   "metadata": {},
   "source": [
    "## Pricing an FX Forward (class method)"
   ]
  },
  {
   "cell_type": "code",
   "execution_count": 12,
   "id": "bb2ba0b4",
   "metadata": {
    "execution": {
     "iopub.execute_input": "2025-09-18T08:59:42.883518Z",
     "iopub.status.busy": "2025-09-18T08:59:42.882973Z",
     "iopub.status.idle": "2025-09-18T08:59:43.654652Z",
     "shell.execute_reply": "2025-09-18T08:59:43.654041Z"
    }
   },
   "outputs": [
    {
     "name": "stdout",
     "output_type": "stream",
     "text": [
      "{'resource': {'type': 'FxForward', 'id': '7502f135-2ca3-4fd5-88fe-3bbdca5c81d8', 'location': {'space': 'HOME', 'name': 'my_fx_Forward_pricing_test'}, 'description': {'tags': []}, 'definition': {'quotedCurrency': 'EUR', 'baseCurrency': 'CHF', 'dealAmount': 1000000.0, 'rate': {'value': 1.1, 'scalingFactor': 1.0, 'ratePrecision': 2}, 'startDate': {'dateType': 'AdjustableDate', 'date': '2022-01-01'}, 'endDate': {'dateType': 'AdjustableDate', 'date': '2023-12-01'}, 'payer': 'Party1', 'receiver': 'Party2'}}, 'pricingPreferences': {'ignoreReferenceCurrencyHolidays': True, 'referenceCurrency': 'USD', 'valuationDate': '2024-01-11', 'reportCurrency': 'USD'}, 'analytics': {'description': {}, 'pricingAnalysis': {'fxSwapsCcy1': {}, 'fxSwapsCcy2': {}, 'fxSwapsCcy1Ccy2': {}, 'fxOutrightCcy1Ccy2': {}, 'rate': 0.0, 'fxSpot': {}}, 'greeks': {}, 'error': {'code': 'InvalidInputError', 'message': 'Invalid value! The calculated EndDate : 2023-12-01 cannot be prior to the ValuationDate : 2024-01-11, please modify the input  dates or tenors accordingly.'}}}\n"
     ]
    }
   ],
   "source": [
    "fx_forward.save(name='my_fx_Forward_pricing_test', space='HOME')\n",
    "\n",
    "fx_forward_price = fx_forward.price(\n",
    "    pricing_preferences=FxPricingParameters(\n",
    "        ignore_reference_currency_holidays=True,\n",
    "        reference_currency=\"USD\",\n",
    "        report_currency=\"USD\",\n",
    "        valuation_date=\"2024-01-11\",\n",
    "    ),\n",
    "    market_data=MarketData(fx_forward_curves=[FxForwardCurveChoice(reference=\"LSEG/EUR_CHF_FxForward\")]),\n",
    ")\n",
    "\n",
    "delete(name='my_fx_Forward_pricing_test', space='HOME')\n",
    "\n",
    "print(fx_forward_price)"
   ]
  },
  {
   "cell_type": "markdown",
   "id": "7527ee9b",
   "metadata": {},
   "source": [
    "## Pricing an FX Forward (library method)"
   ]
  },
  {
   "cell_type": "code",
   "execution_count": 13,
   "id": "4cc55142",
   "metadata": {
    "execution": {
     "iopub.execute_input": "2025-09-18T08:59:43.656983Z",
     "iopub.status.busy": "2025-09-18T08:59:43.656499Z",
     "iopub.status.idle": "2025-09-18T08:59:44.361268Z",
     "shell.execute_reply": "2025-09-18T08:59:44.360487Z"
    }
   },
   "outputs": [
    {
     "name": "stdout",
     "output_type": "stream",
     "text": [
      "{'definitions': [{'definition': {'settlementType': 'Cash', 'quotedCurrency': 'EUR', 'baseCurrency': 'CHF', 'dealAmount': 2000000.0, 'rate': {'value': 1.1, 'scalingFactor': 1.0, 'ratePrecision': 1}, 'startDate': {'dateType': 'AdjustableDate', 'date': '2024-01-01'}, 'endDate': {'dateType': 'AdjustableDate', 'date': '2024-03-01'}, 'payer': 'Party1', 'receiver': 'Party2'}}], 'pricingPreferences': {'ignoreReferenceCurrencyHolidays': True, 'referenceCurrency': 'USD', 'valuationDate': '2024-01-11', 'reportCurrency': 'USD'}, 'analytics': [{'description': {'valuationDate': '2024-01-11', 'startDate': {'unAdjusted': '2024-01-01', 'adjusted': '2024-01-03', 'dateMovingConvention': 'NextBusinessDay', 'date': '2024-01-01'}, 'endDate': {'unAdjusted': '2024-03-01', 'adjusted': '2024-03-01', 'dateMovingConvention': 'NextBusinessDay', 'date': '2024-03-01'}}, 'pricingAnalysis': {'fxSwapsCcy1': {'bid': -44.85641935484257, 'ask': -44.289129032262835}, 'fxSwapsCcy2': {'bid': 21.773677419356304, 'ask': 22.248516129028342}, 'fxSwapsCcy1Ccy2': {'bid': 34.08136781276605, 'ask': 35.283003210970776}, 'fxOutrightCcy1Ccy2': {'bid': 1.0723371680361145, 'ask': 1.0733375455025531}, 'rate': 1.1, 'settlementAmount': -49681.3972625232, 'fxSpot': {'bid': 1.069285097797029, 'ask': 1.0701773048355105}, 'dealAmount': 2000000.0, 'contraAmount': 2200000.0}, 'greeks': {'deltaPercent': 99.7275251537345, 'deltaAmountInDealCcy': 2045049.54971836, 'deltaAmountInContraCcy': 1994550.50307469}}]}\n"
     ]
    }
   ],
   "source": [
    "market_data = MarketData(fx_forward_curves=[FxForwardCurveChoice(reference=\"EUR_GBP_FxForward\")])\n",
    "\n",
    "params = FxPricingParameters(\n",
    "    ignore_reference_currency_holidays=True,\n",
    "    reference_currency=\"USD\",\n",
    "    report_currency=\"USD\",\n",
    "    valuation_date=\"2024-01-11\",\n",
    ")\n",
    "\n",
    "fx_forward_price = price(definitions=[fxforward_definition], pricing_preferences=params, return_market_data=False, market_data=market_data)\n",
    "\n",
    "print(fx_forward_price)"
   ]
  },
  {
   "cell_type": "markdown",
   "id": "ca41402d",
   "metadata": {},
   "source": [
    "## Value an FX Forward (class method)"
   ]
  },
  {
   "cell_type": "code",
   "execution_count": 14,
   "id": "da00f92b",
   "metadata": {
    "execution": {
     "iopub.execute_input": "2025-09-18T08:59:44.364359Z",
     "iopub.status.busy": "2025-09-18T08:59:44.364120Z",
     "iopub.status.idle": "2025-09-18T08:59:45.319401Z",
     "shell.execute_reply": "2025-09-18T08:59:45.318705Z"
    }
   },
   "outputs": [
    {
     "name": "stdout",
     "output_type": "stream",
     "text": [
      "{'quotedCurrency': 'EUR', 'baseCurrency': 'CHF', 'payer': 'Party1', 'receiver': 'Party2', 'rate': {'value': 1.1, 'ratePrecision': 2}, 'startDate': {'dateType': 'AdjustableDate', 'date': '2022-01-01'}, 'endDate': {'dateType': 'AdjustableDate', 'date': '2023-12-01'}}\n",
      "{'resource': {'type': 'FxForward', 'id': '6ad38c67-62dc-4ba2-951b-2ddc483f684f', 'location': {'space': 'HOME', 'name': 'my_fx_Forward_value_test'}, 'description': {'tags': []}, 'definition': {'quotedCurrency': 'EUR', 'baseCurrency': 'CHF', 'dealAmount': 1000000.0, 'rate': {'value': 1.1, 'scalingFactor': 1.0, 'ratePrecision': 2}, 'startDate': {'dateType': 'AdjustableDate', 'date': '2022-01-01'}, 'endDate': {'dateType': 'AdjustableDate', 'date': '2023-12-01'}, 'payer': 'Party1', 'receiver': 'Party2'}}, 'pricingPreferences': {'ignoreReferenceCurrencyHolidays': True, 'referenceCurrency': 'USD', 'valuationDate': '2024-01-11', 'reportCurrency': 'USD'}, 'analytics': {'description': {}, 'valuation': {}, 'greeks': {}, 'error': {'code': 'InvalidInputError', 'message': 'Invalid value! The calculated EndDate : 2023-12-01 cannot be prior to the ValuationDate : 2024-01-11, please modify the input  dates or tenors accordingly.'}}}\n"
     ]
    }
   ],
   "source": [
    "#Create an FxForward from scratch\n",
    "fx_forward = FxForward(\n",
    "    FxForwardDefinition(\n",
    "        quoted_currency=\"EUR\",\n",
    "        base_currency=\"CHF\",\n",
    "        payer=PartyEnum.PARTY1,\n",
    "        receiver=PartyEnum.PARTY2,\n",
    "        rate=FxRate(value=1.10, rate_precision=2),\n",
    "        start_date=AdjustableDate(\n",
    "            date=date(2022, 1, 1)\n",
    "        ),\n",
    "        end_date=AdjustableDate(\n",
    "            date=date(2023, 12, 1)\n",
    "        )\n",
    "    )\n",
    ")\n",
    "\n",
    "print(fx_forward.definition)\n",
    "\n",
    "fx_forward.save(name='my_fx_Forward_value_test', space='HOME')\n",
    "\n",
    "fx_forward_value = fx_forward.value(\n",
    "    pricing_preferences=FxPricingParameters(\n",
    "        ignore_reference_currency_holidays=True,\n",
    "        reference_currency=\"USD\",\n",
    "        report_currency=\"USD\",\n",
    "        valuation_date=\"2024-01-11\",\n",
    "    ),\n",
    "    market_data=MarketData(fx_forward_curves=[FxForwardCurveChoice(reference=\"LSEG/EUR_CHF_FxForward\")]),\n",
    ")\n",
    "\n",
    "delete(name='my_fx_Forward_value_test', space='HOME')\n",
    "\n",
    "print(fx_forward_value)"
   ]
  },
  {
   "cell_type": "markdown",
   "id": "ee3ade9b",
   "metadata": {},
   "source": [
    "## Value an FX Forward (library method)"
   ]
  },
  {
   "cell_type": "code",
   "execution_count": 15,
   "id": "f5613617",
   "metadata": {
    "execution": {
     "iopub.execute_input": "2025-09-18T08:59:45.322321Z",
     "iopub.status.busy": "2025-09-18T08:59:45.322085Z",
     "iopub.status.idle": "2025-09-18T08:59:45.885259Z",
     "shell.execute_reply": "2025-09-18T08:59:45.884767Z"
    }
   },
   "outputs": [
    {
     "name": "stdout",
     "output_type": "stream",
     "text": [
      "{'definitions': [{'definition': {'settlementType': 'Cash', 'quotedCurrency': 'EUR', 'baseCurrency': 'CHF', 'dealAmount': 2000000.0, 'rate': {'value': 1.1, 'scalingFactor': 1.0, 'ratePrecision': 1}, 'startDate': {'dateType': 'AdjustableDate', 'date': '2024-01-01'}, 'endDate': {'dateType': 'AdjustableDate', 'date': '2024-03-01'}, 'payer': 'Party1', 'receiver': 'Party2'}}], 'pricingPreferences': {'ignoreReferenceCurrencyHolidays': True, 'referenceCurrency': 'USD', 'valuationDate': '2024-01-11', 'reportCurrency': 'USD'}, 'analytics': [{'description': {'valuationDate': '2024-01-11', 'startDate': {'unAdjusted': '2024-01-01', 'adjusted': '2024-01-03', 'dateMovingConvention': 'NextBusinessDay', 'date': '2024-01-01'}, 'endDate': {'unAdjusted': '2024-03-01', 'adjusted': '2024-03-01', 'dateMovingConvention': 'NextBusinessDay', 'date': '2024-03-01'}}, 'valuation': {'discountFactor': 0.997275251537345, 'marketValueInDealCcy': -50518.002963467, 'marketValueInContraCcy': -54032.1814604011, 'marketValueInReportCcy': -59274.3364816736}, 'greeks': {'deltaPercent': 99.7275251537345, 'deltaAmountInDealCcy': 2045049.54971836, 'deltaAmountInContraCcy': 1994550.50307469}}]}\n"
     ]
    }
   ],
   "source": [
    "params = FxPricingParameters(\n",
    "    ignore_reference_currency_holidays=True,\n",
    "    reference_currency=\"USD\",\n",
    "    report_currency=\"USD\",\n",
    "    valuation_date=\"2024-01-11\",\n",
    ")\n",
    "\n",
    "fx_forward_value = value(definitions=[fxforward_definition], pricing_preferences=params, return_market_data=False)\n",
    "\n",
    "print(fx_forward_value)"
   ]
  },
  {
   "cell_type": "markdown",
   "id": "4c335f1d",
   "metadata": {},
   "source": [
    "## CRUD operations"
   ]
  },
  {
   "cell_type": "code",
   "execution_count": 16,
   "id": "d548a386",
   "metadata": {
    "execution": {
     "iopub.execute_input": "2025-09-18T08:59:45.888075Z",
     "iopub.status.busy": "2025-09-18T08:59:45.887615Z",
     "iopub.status.idle": "2025-09-18T08:59:45.892483Z",
     "shell.execute_reply": "2025-09-18T08:59:45.891692Z"
    }
   },
   "outputs": [
    {
     "name": "stdout",
     "output_type": "stream",
     "text": [
      "{'quotedCurrency': 'EUR', 'baseCurrency': 'CHF', 'payer': 'Party1', 'receiver': 'Party2', 'rate': {'value': 1.1, 'ratePrecision': 2}, 'startDate': {'dateType': 'AdjustableDate', 'date': '2022-01-01'}, 'endDate': {'dateType': 'AdjustableDate', 'date': '2023-12-01'}}\n"
     ]
    }
   ],
   "source": [
    "#Create an FxForward from scratch\n",
    "fx_forward = FxForward(\n",
    "    FxForwardDefinition(\n",
    "        quoted_currency=\"EUR\",\n",
    "        base_currency=\"CHF\",\n",
    "        payer=PartyEnum.PARTY1,\n",
    "        receiver=PartyEnum.PARTY2,\n",
    "        rate=FxRate(value=1.10, rate_precision=2),\n",
    "        start_date=AdjustableDate(\n",
    "            date=date(2022, 1, 1)\n",
    "        ),\n",
    "        end_date=AdjustableDate(\n",
    "            date=date(2023, 12, 1)\n",
    "        )\n",
    "    )\n",
    ")\n",
    "\n",
    "print(fx_forward.definition)"
   ]
  },
  {
   "cell_type": "markdown",
   "id": "78f136ef",
   "metadata": {},
   "source": [
    "### Saving an FX Forward"
   ]
  },
  {
   "cell_type": "code",
   "execution_count": 17,
   "id": "7d80ba46",
   "metadata": {
    "execution": {
     "iopub.execute_input": "2025-09-18T08:59:45.895256Z",
     "iopub.status.busy": "2025-09-18T08:59:45.894835Z",
     "iopub.status.idle": "2025-09-18T08:59:46.070779Z",
     "shell.execute_reply": "2025-09-18T08:59:46.070078Z"
    }
   },
   "outputs": [
    {
     "data": {
      "text/plain": [
       "True"
      ]
     },
     "execution_count": 17,
     "metadata": {},
     "output_type": "execute_result"
    }
   ],
   "source": [
    "# Save created forward\n",
    "fx_forward.save(name=\"my_EURCHF_fx_forward\", space=\"HOME\")"
   ]
  },
  {
   "cell_type": "markdown",
   "id": "fd90115c",
   "metadata": {},
   "source": [
    "### Cloning an FX Forward"
   ]
  },
  {
   "cell_type": "code",
   "execution_count": 18,
   "id": "1d7b567b",
   "metadata": {
    "execution": {
     "iopub.execute_input": "2025-09-18T08:59:46.073554Z",
     "iopub.status.busy": "2025-09-18T08:59:46.073314Z",
     "iopub.status.idle": "2025-09-18T08:59:46.256446Z",
     "shell.execute_reply": "2025-09-18T08:59:46.255960Z"
    }
   },
   "outputs": [
    {
     "data": {
      "text/plain": [
       "True"
      ]
     },
     "execution_count": 18,
     "metadata": {},
     "output_type": "execute_result"
    }
   ],
   "source": [
    "# Make a clone out of existing/created forward\n",
    "fx_forward_clone = fx_forward.clone()\n",
    "\n",
    "\n",
    "# For deletion purposes\n",
    "fx_forward_clone.save(name=\"my_EURCHF_fx_forward_for_delete_id\", space=\"HOME\")"
   ]
  },
  {
   "cell_type": "markdown",
   "id": "e7ab7d53",
   "metadata": {},
   "source": [
    "### Deleting an FX Forward"
   ]
  },
  {
   "cell_type": "markdown",
   "id": "7b0ffd89",
   "metadata": {},
   "source": [
    "#### Delete by name and space"
   ]
  },
  {
   "cell_type": "code",
   "execution_count": 19,
   "id": "566dc214",
   "metadata": {
    "execution": {
     "iopub.execute_input": "2025-09-18T08:59:46.258631Z",
     "iopub.status.busy": "2025-09-18T08:59:46.258330Z",
     "iopub.status.idle": "2025-09-18T08:59:46.509101Z",
     "shell.execute_reply": "2025-09-18T08:59:46.508531Z"
    }
   },
   "outputs": [
    {
     "data": {
      "text/plain": [
       "True"
      ]
     },
     "execution_count": 19,
     "metadata": {},
     "output_type": "execute_result"
    }
   ],
   "source": [
    "delete(name=\"my_EURCHF_fx_forward\", space=\"HOME\")"
   ]
  },
  {
   "cell_type": "markdown",
   "id": "58e35660",
   "metadata": {},
   "source": [
    "#### Delete by id"
   ]
  },
  {
   "cell_type": "code",
   "execution_count": 20,
   "id": "83ed481a",
   "metadata": {
    "execution": {
     "iopub.execute_input": "2025-09-18T08:59:46.511997Z",
     "iopub.status.busy": "2025-09-18T08:59:46.511570Z",
     "iopub.status.idle": "2025-09-18T08:59:46.664925Z",
     "shell.execute_reply": "2025-09-18T08:59:46.664270Z"
    }
   },
   "outputs": [
    {
     "data": {
      "text/plain": [
       "True"
      ]
     },
     "execution_count": 20,
     "metadata": {},
     "output_type": "execute_result"
    }
   ],
   "source": [
    "delete(resource_id=fx_forward_clone.id)"
   ]
  }
 ],
 "metadata": {
  "kernelspec": {
   "display_name": "env",
   "language": "python",
   "name": "python3"
  },
  "language_info": {
   "codemirror_mode": {
    "name": "ipython",
    "version": 3
   },
   "file_extension": ".py",
   "mimetype": "text/x-python",
   "name": "python",
   "nbconvert_exporter": "python",
   "pygments_lexer": "ipython3",
   "version": "3.11.6"
  }
 },
 "nbformat": 4,
 "nbformat_minor": 5
}
