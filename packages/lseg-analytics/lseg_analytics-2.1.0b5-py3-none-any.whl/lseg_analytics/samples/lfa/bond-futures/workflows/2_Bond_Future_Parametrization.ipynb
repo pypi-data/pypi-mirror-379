{
 "cells": [
  {
   "cell_type": "markdown",
   "id": "1a108871",
   "metadata": {},
   "source": [
    "# Bond Future Parametrization"
   ]
  },
  {
   "cell_type": "markdown",
   "id": "1ae7da03",
   "metadata": {},
   "source": [
    "This notebook demonstrates how to access and use the **Bond Future** functionalities within the **LSEG Financial Analytics SDK**.\n",
    "\n",
    "**You will be able to:**\n",
    "- Define Bond Future with 2 underlying bonds\n",
    "- Evaluate Bond Future and the underlying bonds analytics"
   ]
  },
  {
   "cell_type": "markdown",
   "id": "9aa5f76b",
   "metadata": {},
   "source": [
    "## Imports\n"
   ]
  },
  {
   "cell_type": "markdown",
   "id": "569d770e",
   "metadata": {},
   "source": [
    "Import the following necessary modules:\n",
    "\n",
    "- `lseg_analytics.instruments.bond_future` - for Bond Future instruments definitions and analytics"
   ]
  },
  {
   "cell_type": "code",
   "execution_count": 1,
   "id": "a6cd17c8",
   "metadata": {
    "execution": {
     "iopub.execute_input": "2025-09-18T09:06:06.855642Z",
     "iopub.status.busy": "2025-09-18T09:06:06.855325Z",
     "iopub.status.idle": "2025-09-18T09:06:07.945868Z",
     "shell.execute_reply": "2025-09-18T09:06:07.945041Z"
    }
   },
   "outputs": [],
   "source": [
    "from lseg_analytics.instruments import bond_future as bf\n",
    "\n",
    "import pandas as pd\n",
    "import json\n",
    "import datetime as dt\n",
    "from IPython.display import display"
   ]
  },
  {
   "cell_type": "markdown",
   "id": "9b0cc193",
   "metadata": {},
   "source": [
    "## Data Preparation\n",
    "\n",
    "To define a Bond Repo instrument you need to follow a structured 4-step process:\n",
    "\n",
    "1. **Bond Definition** - Specify the underlying Bond parameters \n",
    "2. **Future Definition** - Specify the Future parameters\n",
    "3. **Future Definition Instrument** - Create the instrument object using the Future Definition\n",
    "3. **Pricing Preferences** - Configure pricing parameters, optional\n"
   ]
  },
  {
   "cell_type": "code",
   "execution_count": 2,
   "id": "7b057582",
   "metadata": {
    "execution": {
     "iopub.execute_input": "2025-09-18T09:06:07.951495Z",
     "iopub.status.busy": "2025-09-18T09:06:07.948718Z",
     "iopub.status.idle": "2025-09-18T09:06:07.965543Z",
     "shell.execute_reply": "2025-09-18T09:06:07.964880Z"
    }
   },
   "outputs": [
    {
     "name": "stdout",
     "output_type": "stream",
     "text": [
      "1 - Underlying Bonds definition created\n",
      "2 - Future instrument defined\n",
      "3 - Future Instrument created\n",
      "4 - Pricing parameters configured\n"
     ]
    }
   ],
   "source": [
    "# 1.Define an underlying Bond instrument\n",
    "bond_definition_1 = bf.BondDefinition(\n",
    "    notional_ccy = \"EUR\",\n",
    "    issue_date = dt.datetime.strptime(\"2025-01-01\", \"%Y-%m-%d\"),\n",
    "    end_date = dt.datetime.strptime(\"2030-01-01\", \"%Y-%m-%d\"),\n",
    "    fixed_rate_percent = 2,\n",
    "    interest_payment_frequency = bf.InterestPaymentFrequencyEnum.QUARTERLY,\n",
    "    interest_calculation_method = bf.InterestCalculationMethodEnum.DCB_ACTUAL_ACTUAL\n",
    ")\n",
    "bond_definition_2 = bf.BondDefinition(\n",
    "    notional_ccy = \"EUR\",\n",
    "    issue_date = dt.datetime.strptime(\"2025-01-01\", \"%Y-%m-%d\"),\n",
    "    end_date = dt.datetime.strptime(\"2035-01-01\", \"%Y-%m-%d\"),\n",
    "    fixed_rate_percent = 3,\n",
    "    interest_payment_frequency = bf.InterestPaymentFrequencyEnum.QUARTERLY,\n",
    "    interest_calculation_method = bf.InterestCalculationMethodEnum.DCB_ACTUAL_ACTUAL\n",
    ")\n",
    "underlying_bond_1 = bf.BondFutureUnderlyingContract(\n",
    "        instrument_definition = bond_definition_1,\n",
    "        instrument_type = \"Bond\"\n",
    ")\n",
    "underlying_bond_2 = bf.BondFutureUnderlyingContract(\n",
    "        instrument_definition = bond_definition_2,\n",
    "        instrument_type = \"Bond\"\n",
    ")\n",
    "print(\"1 - Underlying Bonds definition created\")\n",
    "\n",
    "# 2.Define Future instrument\n",
    "future_definition = bf.BondFutureDefinition(\n",
    "    instrument_code = \"FOATc1\",  # Mandatory field, RIC of the bond future\n",
    "    underlying_instruments = [underlying_bond_1, underlying_bond_2],\n",
    "    notional_amount = 2000000  # Override notional amount\n",
    ")\n",
    "print(\"2 - Future instrument defined\")\n",
    "\n",
    "# 3.Create the Future Instrument from the defintion\n",
    "future_instrument = bf.BondFutureDefinitionInstrument(definition = future_definition)\n",
    "print(\"3 - Future Instrument created\")\n",
    "\n",
    "# 4. Configure pricing parameters\n",
    "pricing_params = bf.BondFuturePricingParameters(\n",
    "    valuation_date = dt.datetime.strptime(\"2025-07-18\", \"%Y-%m-%d\"),                \n",
    ")\n",
    "print(\"4 - Pricing parameters configured\")"
   ]
  },
  {
   "cell_type": "markdown",
   "id": "f4f8db96",
   "metadata": {},
   "source": [
    "## Request Execution"
   ]
  },
  {
   "cell_type": "code",
   "execution_count": 3,
   "id": "3f084843",
   "metadata": {
    "execution": {
     "iopub.execute_input": "2025-09-18T09:06:07.967820Z",
     "iopub.status.busy": "2025-09-18T09:06:07.967596Z",
     "iopub.status.idle": "2025-09-18T09:06:08.850593Z",
     "shell.execute_reply": "2025-09-18T09:06:08.850054Z"
    }
   },
   "outputs": [
    {
     "name": "stdout",
     "output_type": "stream",
     "text": [
      "Bond Future pricing execution completed\n"
     ]
    }
   ],
   "source": [
    "#  Execute the calculation using the price() function\n",
    "# The 'definitions' parameter accepts a list of instruments definitions for batch processing\n",
    "\n",
    "# Execute the calculation using the price() function with error handling\n",
    "try:\n",
    "    # The 'definitions' parameter accepts a list of request items for batch processing\n",
    "    response = bf.price(\n",
    "        definitions=[future_instrument],\n",
    "        pricing_preferences=pricing_params\n",
    "    )\n",
    "    errors = [a.error for a in response.data.analytics if a.error]\n",
    "    if errors:\n",
    "        raise Exception(errors[0].message)\n",
    "    print(\"Bond Future pricing execution completed\")\n",
    "except Exception as e:\n",
    "    print(f\"Price Calculation failed: {str(e)}\")\n",
    "    raise"
   ]
  },
  {
   "cell_type": "markdown",
   "id": "e4138163",
   "metadata": {},
   "source": [
    "## Results Display"
   ]
  },
  {
   "cell_type": "markdown",
   "id": "15000b7d",
   "metadata": {},
   "source": [
    "#### Key Sections in the `response` JSON\n",
    "\n",
    " - **definitions**: Instument and Underlying Bond definitions set above. \n",
    "\n",
    " - **pricingPreferences**: Valuation date.\n",
    "\n",
    " - **analytics**:\n",
    "   - **tabularData**: Customizable list of analytics given in `fields` argument of price() function (`data`, `headers`, `statuses`). If not specified all fields are returned.\n",
    "   - **description**: Instrument summary and also fields not specified with the defaulted values used in the pricing.\n",
    "   - **nominalMeasures**: list of Bond future sensitivities\n",
    "   - **pricingAnalysis**: list of analytics used in the pricing\n",
    "   - **valuation**: Market valuation details on Bond future\n",
    "   - **error**: root cause of the issue if any\n",
    "\n",
    "We give below the details on description, pricing analysis, nominal measures and valuation"
   ]
  },
  {
   "cell_type": "code",
   "execution_count": 4,
   "id": "3ed4a727",
   "metadata": {
    "execution": {
     "iopub.execute_input": "2025-09-18T09:06:08.852901Z",
     "iopub.status.busy": "2025-09-18T09:06:08.852548Z",
     "iopub.status.idle": "2025-09-18T09:06:08.856037Z",
     "shell.execute_reply": "2025-09-18T09:06:08.855535Z"
    }
   },
   "outputs": [
    {
     "name": "stdout",
     "output_type": "stream",
     "text": [
      "{\n",
      "    \"instrumentCode\": \"FOATc1\",\n",
      "    \"instrumentDescription\": \"FOAT DEC5\",\n",
      "    \"endDate\": \"2025-12-08T00:00:00Z\",\n",
      "    \"deliveryStartDate\": \"2025-12-10\",\n",
      "    \"deliveryEndDate\": \"2025-12-10\",\n",
      "    \"notionalCcy\": \"EUR\",\n",
      "    \"notionalAmount\": 2000000.0,\n",
      "    \"contractSize\": 100000.0,\n",
      "    \"couponRatePercent\": 6.0\n",
      "}\n"
     ]
    }
   ],
   "source": [
    "# Access the description object\n",
    "description = response.data.analytics[0].description\n",
    "print(json.dumps(description.as_dict(), indent=4))"
   ]
  },
  {
   "cell_type": "code",
   "execution_count": 5,
   "id": "aaaf0a85",
   "metadata": {
    "execution": {
     "iopub.execute_input": "2025-09-18T09:06:08.858058Z",
     "iopub.status.busy": "2025-09-18T09:06:08.857708Z",
     "iopub.status.idle": "2025-09-18T09:06:08.867842Z",
     "shell.execute_reply": "2025-09-18T09:06:08.867368Z"
    }
   },
   "outputs": [
    {
     "data": {
      "text/html": [
       "<div>\n",
       "<style scoped>\n",
       "    .dataframe tbody tr th:only-of-type {\n",
       "        vertical-align: middle;\n",
       "    }\n",
       "\n",
       "    .dataframe tbody tr th {\n",
       "        vertical-align: top;\n",
       "    }\n",
       "\n",
       "    .dataframe thead th {\n",
       "        text-align: right;\n",
       "    }\n",
       "</style>\n",
       "<table border=\"1\" class=\"dataframe\">\n",
       "  <thead>\n",
       "    <tr style=\"text-align: right;\">\n",
       "      <th></th>\n",
       "      <th>Fields</th>\n",
       "      <th>Value</th>\n",
       "    </tr>\n",
       "  </thead>\n",
       "  <tbody>\n",
       "    <tr>\n",
       "      <th>0</th>\n",
       "      <td>marketDataDate</td>\n",
       "      <td>2025-07-18T00:00:00Z</td>\n",
       "    </tr>\n",
       "    <tr>\n",
       "      <th>1</th>\n",
       "      <td>valuationDate</td>\n",
       "      <td>2025-07-18T00:00:00Z</td>\n",
       "    </tr>\n",
       "    <tr>\n",
       "      <th>2</th>\n",
       "      <td>cheapestToDeliver</td>\n",
       "      <td>Bond#1</td>\n",
       "    </tr>\n",
       "    <tr>\n",
       "      <th>3</th>\n",
       "      <td>conversionFactor</td>\n",
       "      <td>0.789127</td>\n",
       "    </tr>\n",
       "    <tr>\n",
       "      <th>4</th>\n",
       "      <td>price</td>\n",
       "      <td>122.84</td>\n",
       "    </tr>\n",
       "    <tr>\n",
       "      <th>5</th>\n",
       "      <td>fairPrice</td>\n",
       "      <td>132.174262</td>\n",
       "    </tr>\n",
       "    <tr>\n",
       "      <th>6</th>\n",
       "      <td>invoicePrice</td>\n",
       "      <td>96.936361</td>\n",
       "    </tr>\n",
       "    <tr>\n",
       "      <th>7</th>\n",
       "      <td>yieldPercent</td>\n",
       "      <td>3.284616</td>\n",
       "    </tr>\n",
       "    <tr>\n",
       "      <th>8</th>\n",
       "      <td>impliedYieldPercent</td>\n",
       "      <td>2.785072</td>\n",
       "    </tr>\n",
       "  </tbody>\n",
       "</table>\n",
       "</div>"
      ],
      "text/plain": [
       "                Fields                 Value\n",
       "0       marketDataDate  2025-07-18T00:00:00Z\n",
       "1        valuationDate  2025-07-18T00:00:00Z\n",
       "2    cheapestToDeliver                Bond#1\n",
       "3     conversionFactor              0.789127\n",
       "4                price                122.84\n",
       "5            fairPrice            132.174262\n",
       "6         invoicePrice             96.936361\n",
       "7         yieldPercent              3.284616\n",
       "8  impliedYieldPercent              2.785072"
      ]
     },
     "metadata": {},
     "output_type": "display_data"
    }
   ],
   "source": [
    "# Access the pricing analysis object\n",
    "pricing_analysis = response.data.analytics[0][\"pricingAnalysis\"]\n",
    "df_pricing_analysis = pd.DataFrame(list(pricing_analysis.items()), columns=[\"Fields\", \"Value\"])\n",
    "display(df_pricing_analysis.head(9))"
   ]
  },
  {
   "cell_type": "code",
   "execution_count": 6,
   "id": "93cc68c5",
   "metadata": {
    "execution": {
     "iopub.execute_input": "2025-09-18T09:06:08.869895Z",
     "iopub.status.busy": "2025-09-18T09:06:08.869543Z",
     "iopub.status.idle": "2025-09-18T09:06:08.876044Z",
     "shell.execute_reply": "2025-09-18T09:06:08.875537Z"
    }
   },
   "outputs": [
    {
     "data": {
      "text/html": [
       "<div>\n",
       "<style scoped>\n",
       "    .dataframe tbody tr th:only-of-type {\n",
       "        vertical-align: middle;\n",
       "    }\n",
       "\n",
       "    .dataframe tbody tr th {\n",
       "        vertical-align: top;\n",
       "    }\n",
       "\n",
       "    .dataframe thead th {\n",
       "        text-align: right;\n",
       "    }\n",
       "</style>\n",
       "<table border=\"1\" class=\"dataframe\">\n",
       "  <thead>\n",
       "    <tr style=\"text-align: right;\">\n",
       "      <th></th>\n",
       "      <th>Fields</th>\n",
       "      <th>Value</th>\n",
       "    </tr>\n",
       "  </thead>\n",
       "  <tbody>\n",
       "    <tr>\n",
       "      <th>0</th>\n",
       "      <td>isCheapestToDeliver</td>\n",
       "      <td>True</td>\n",
       "    </tr>\n",
       "    <tr>\n",
       "      <th>1</th>\n",
       "      <td>instrumentCode</td>\n",
       "      <td>Bond#1</td>\n",
       "    </tr>\n",
       "    <tr>\n",
       "      <th>2</th>\n",
       "      <td>couponRatePercent</td>\n",
       "      <td>2.0</td>\n",
       "    </tr>\n",
       "    <tr>\n",
       "      <th>3</th>\n",
       "      <td>endDate</td>\n",
       "      <td>2030-01-01T00:00:00Z</td>\n",
       "    </tr>\n",
       "    <tr>\n",
       "      <th>4</th>\n",
       "      <td>cleanPrice</td>\n",
       "      <td>104.285474</td>\n",
       "    </tr>\n",
       "    <tr>\n",
       "      <th>5</th>\n",
       "      <td>dirtyPrice</td>\n",
       "      <td>104.377865</td>\n",
       "    </tr>\n",
       "    <tr>\n",
       "      <th>6</th>\n",
       "      <td>price</td>\n",
       "      <td>104.285474</td>\n",
       "    </tr>\n",
       "    <tr>\n",
       "      <th>7</th>\n",
       "      <td>accrued</td>\n",
       "      <td>0.092391</td>\n",
       "    </tr>\n",
       "    <tr>\n",
       "      <th>8</th>\n",
       "      <td>yieldPercent</td>\n",
       "      <td>1.0</td>\n",
       "    </tr>\n",
       "    <tr>\n",
       "      <th>9</th>\n",
       "      <td>modifiedDuration</td>\n",
       "      <td>4.264036</td>\n",
       "    </tr>\n",
       "  </tbody>\n",
       "</table>\n",
       "</div>"
      ],
      "text/plain": [
       "                Fields                 Value\n",
       "0  isCheapestToDeliver                  True\n",
       "1       instrumentCode                Bond#1\n",
       "2    couponRatePercent                   2.0\n",
       "3              endDate  2030-01-01T00:00:00Z\n",
       "4           cleanPrice            104.285474\n",
       "5           dirtyPrice            104.377865\n",
       "6                price            104.285474\n",
       "7              accrued              0.092391\n",
       "8         yieldPercent                   1.0\n",
       "9     modifiedDuration              4.264036"
      ]
     },
     "metadata": {},
     "output_type": "display_data"
    }
   ],
   "source": [
    "# Access the first underlying bond pricing analysis object\n",
    "bond_1_pricing_analysis = response.data.analytics[0][\"pricingAnalysis\"][\"deliveryBasket\"][0]\n",
    "df_bond_1_pricing_analysis = pd.DataFrame(list(bond_1_pricing_analysis.items()), columns=[\"Fields\", \"Value\"])\n",
    "display(df_bond_1_pricing_analysis.head(10))"
   ]
  },
  {
   "cell_type": "code",
   "execution_count": 7,
   "id": "be555829",
   "metadata": {
    "execution": {
     "iopub.execute_input": "2025-09-18T09:06:08.877936Z",
     "iopub.status.busy": "2025-09-18T09:06:08.877605Z",
     "iopub.status.idle": "2025-09-18T09:06:08.883892Z",
     "shell.execute_reply": "2025-09-18T09:06:08.883363Z"
    }
   },
   "outputs": [
    {
     "data": {
      "text/html": [
       "<div>\n",
       "<style scoped>\n",
       "    .dataframe tbody tr th:only-of-type {\n",
       "        vertical-align: middle;\n",
       "    }\n",
       "\n",
       "    .dataframe tbody tr th {\n",
       "        vertical-align: top;\n",
       "    }\n",
       "\n",
       "    .dataframe thead th {\n",
       "        text-align: right;\n",
       "    }\n",
       "</style>\n",
       "<table border=\"1\" class=\"dataframe\">\n",
       "  <thead>\n",
       "    <tr style=\"text-align: right;\">\n",
       "      <th></th>\n",
       "      <th>Fields</th>\n",
       "      <th>Value</th>\n",
       "    </tr>\n",
       "  </thead>\n",
       "  <tbody>\n",
       "    <tr>\n",
       "      <th>0</th>\n",
       "      <td>isCheapestToDeliver</td>\n",
       "      <td>False</td>\n",
       "    </tr>\n",
       "    <tr>\n",
       "      <th>1</th>\n",
       "      <td>instrumentCode</td>\n",
       "      <td>Bond#1</td>\n",
       "    </tr>\n",
       "    <tr>\n",
       "      <th>2</th>\n",
       "      <td>couponRatePercent</td>\n",
       "      <td>3.0</td>\n",
       "    </tr>\n",
       "    <tr>\n",
       "      <th>3</th>\n",
       "      <td>endDate</td>\n",
       "      <td>2035-01-01T00:00:00Z</td>\n",
       "    </tr>\n",
       "    <tr>\n",
       "      <th>4</th>\n",
       "      <td>cleanPrice</td>\n",
       "      <td>117.719364</td>\n",
       "    </tr>\n",
       "    <tr>\n",
       "      <th>5</th>\n",
       "      <td>dirtyPrice</td>\n",
       "      <td>117.857951</td>\n",
       "    </tr>\n",
       "    <tr>\n",
       "      <th>6</th>\n",
       "      <td>price</td>\n",
       "      <td>117.719364</td>\n",
       "    </tr>\n",
       "    <tr>\n",
       "      <th>7</th>\n",
       "      <td>accrued</td>\n",
       "      <td>0.138587</td>\n",
       "    </tr>\n",
       "    <tr>\n",
       "      <th>8</th>\n",
       "      <td>yieldPercent</td>\n",
       "      <td>1.0</td>\n",
       "    </tr>\n",
       "    <tr>\n",
       "      <th>9</th>\n",
       "      <td>modifiedDuration</td>\n",
       "      <td>8.361437</td>\n",
       "    </tr>\n",
       "  </tbody>\n",
       "</table>\n",
       "</div>"
      ],
      "text/plain": [
       "                Fields                 Value\n",
       "0  isCheapestToDeliver                 False\n",
       "1       instrumentCode                Bond#1\n",
       "2    couponRatePercent                   3.0\n",
       "3              endDate  2035-01-01T00:00:00Z\n",
       "4           cleanPrice            117.719364\n",
       "5           dirtyPrice            117.857951\n",
       "6                price            117.719364\n",
       "7              accrued              0.138587\n",
       "8         yieldPercent                   1.0\n",
       "9     modifiedDuration              8.361437"
      ]
     },
     "metadata": {},
     "output_type": "display_data"
    }
   ],
   "source": [
    "# Access the second underlying bond pricing analysis object\n",
    "bond_2_pricing_analysis = response.data.analytics[0][\"pricingAnalysis\"][\"deliveryBasket\"][1]\n",
    "df_bond_2_pricing_analysis = pd.DataFrame(list(bond_2_pricing_analysis.items()), columns=[\"Fields\", \"Value\"])\n",
    "display(df_bond_2_pricing_analysis.head(10))"
   ]
  },
  {
   "cell_type": "code",
   "execution_count": 8,
   "id": "b6094bd5",
   "metadata": {
    "execution": {
     "iopub.execute_input": "2025-09-18T09:06:08.885909Z",
     "iopub.status.busy": "2025-09-18T09:06:08.885587Z",
     "iopub.status.idle": "2025-09-18T09:06:08.892374Z",
     "shell.execute_reply": "2025-09-18T09:06:08.891897Z"
    }
   },
   "outputs": [
    {
     "data": {
      "text/html": [
       "<div>\n",
       "<style scoped>\n",
       "    .dataframe tbody tr th:only-of-type {\n",
       "        vertical-align: middle;\n",
       "    }\n",
       "\n",
       "    .dataframe tbody tr th {\n",
       "        vertical-align: top;\n",
       "    }\n",
       "\n",
       "    .dataframe thead th {\n",
       "        text-align: right;\n",
       "    }\n",
       "</style>\n",
       "<table border=\"1\" class=\"dataframe\">\n",
       "  <thead>\n",
       "    <tr style=\"text-align: right;\">\n",
       "      <th></th>\n",
       "      <th>Fields</th>\n",
       "      <th>Value</th>\n",
       "    </tr>\n",
       "  </thead>\n",
       "  <tbody>\n",
       "    <tr>\n",
       "      <th>0</th>\n",
       "      <td>convexity</td>\n",
       "      <td>76.553562</td>\n",
       "    </tr>\n",
       "    <tr>\n",
       "      <th>1</th>\n",
       "      <td>dv01Bp</td>\n",
       "      <td>9.569231</td>\n",
       "    </tr>\n",
       "    <tr>\n",
       "      <th>2</th>\n",
       "      <td>duration</td>\n",
       "      <td>8.045876</td>\n",
       "    </tr>\n",
       "    <tr>\n",
       "      <th>3</th>\n",
       "      <td>modifiedDuration</td>\n",
       "      <td>7.789996</td>\n",
       "    </tr>\n",
       "  </tbody>\n",
       "</table>\n",
       "</div>"
      ],
      "text/plain": [
       "             Fields      Value\n",
       "0         convexity  76.553562\n",
       "1            dv01Bp   9.569231\n",
       "2          duration   8.045876\n",
       "3  modifiedDuration   7.789996"
      ]
     },
     "metadata": {},
     "output_type": "display_data"
    }
   ],
   "source": [
    "# Access the nominal measures object\n",
    "nominal_measures = response.data.analytics[0][\"nominalMeasures\"]\n",
    "df_nominal_measures = pd.DataFrame(list(nominal_measures.items()), columns=[\"Fields\", \"Value\"])\n",
    "display(df_nominal_measures)"
   ]
  },
  {
   "cell_type": "code",
   "execution_count": 9,
   "id": "d6f54d2f",
   "metadata": {
    "execution": {
     "iopub.execute_input": "2025-09-18T09:06:08.894622Z",
     "iopub.status.busy": "2025-09-18T09:06:08.894274Z",
     "iopub.status.idle": "2025-09-18T09:06:08.900503Z",
     "shell.execute_reply": "2025-09-18T09:06:08.899966Z"
    }
   },
   "outputs": [
    {
     "data": {
      "text/html": [
       "<div>\n",
       "<style scoped>\n",
       "    .dataframe tbody tr th:only-of-type {\n",
       "        vertical-align: middle;\n",
       "    }\n",
       "\n",
       "    .dataframe tbody tr th {\n",
       "        vertical-align: top;\n",
       "    }\n",
       "\n",
       "    .dataframe thead th {\n",
       "        text-align: right;\n",
       "    }\n",
       "</style>\n",
       "<table border=\"1\" class=\"dataframe\">\n",
       "  <thead>\n",
       "    <tr style=\"text-align: right;\">\n",
       "      <th></th>\n",
       "      <th>Fields</th>\n",
       "      <th>Value</th>\n",
       "    </tr>\n",
       "  </thead>\n",
       "  <tbody>\n",
       "    <tr>\n",
       "      <th>0</th>\n",
       "      <td>marketValueInDealCcy</td>\n",
       "      <td>2456800.0</td>\n",
       "    </tr>\n",
       "    <tr>\n",
       "      <th>1</th>\n",
       "      <td>marketValueInReportCcy</td>\n",
       "      <td>2456800.0</td>\n",
       "    </tr>\n",
       "  </tbody>\n",
       "</table>\n",
       "</div>"
      ],
      "text/plain": [
       "                   Fields      Value\n",
       "0    marketValueInDealCcy  2456800.0\n",
       "1  marketValueInReportCcy  2456800.0"
      ]
     },
     "metadata": {},
     "output_type": "display_data"
    }
   ],
   "source": [
    "valuation = response.data.analytics[0].valuation\n",
    "df_valuation = pd.DataFrame(list(valuation.items()), columns=[\"Fields\", \"Value\"])\n",
    "display(df_valuation)"
   ]
  }
 ],
 "metadata": {
  "kernelspec": {
   "display_name": "base",
   "language": "python",
   "name": "python3"
  },
  "language_info": {
   "codemirror_mode": {
    "name": "ipython",
    "version": 3
   },
   "file_extension": ".py",
   "mimetype": "text/x-python",
   "name": "python",
   "nbconvert_exporter": "python",
   "pygments_lexer": "ipython3",
   "version": "3.11.6"
  }
 },
 "nbformat": 4,
 "nbformat_minor": 5
}
