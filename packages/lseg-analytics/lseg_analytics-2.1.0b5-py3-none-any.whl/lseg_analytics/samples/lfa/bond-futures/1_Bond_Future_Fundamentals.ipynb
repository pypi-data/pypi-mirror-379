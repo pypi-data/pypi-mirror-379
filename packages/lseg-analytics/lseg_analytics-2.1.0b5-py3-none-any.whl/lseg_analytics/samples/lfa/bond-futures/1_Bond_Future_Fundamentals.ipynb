{
 "cells": [
  {
   "cell_type": "markdown",
   "id": "1a108871",
   "metadata": {},
   "source": [
    "# Bond Future Fundamentals"
   ]
  },
  {
   "cell_type": "markdown",
   "id": "1ae7da03",
   "metadata": {},
   "source": [
    "This notebook demonstrates how to access and use the **Bond Future** functionalities within the **LSEG Financial Analytics SDK**.\n",
    "\n",
    "Bond futures are financial derivatives that obligate the contract holder to purchase or sell a bond on a specified date at a predetermined price. A bond future contract trades on a future exchange market and is bought or sold through a brokerage firm that offers future trading.\n",
    "\n",
    "**You will be able to:**\n",
    "- Define Bond Future with basic parameters\n",
    "- Configure pricing parameters\n",
    "- Evaluate Bond Future Analytics"
   ]
  },
  {
   "cell_type": "markdown",
   "id": "9aa5f76b",
   "metadata": {},
   "source": [
    "## Imports\n"
   ]
  },
  {
   "cell_type": "markdown",
   "id": "569d770e",
   "metadata": {},
   "source": [
    "Import the following necessary modules:\n",
    "\n",
    "- `lseg_analytics.instruments.bond_future` - for Bond Future instruments definitions and analytics"
   ]
  },
  {
   "cell_type": "code",
   "execution_count": 1,
   "id": "a6cd17c8",
   "metadata": {
    "execution": {
     "iopub.execute_input": "2025-09-18T08:58:55.983962Z",
     "iopub.status.busy": "2025-09-18T08:58:55.983572Z",
     "iopub.status.idle": "2025-09-18T08:58:57.069126Z",
     "shell.execute_reply": "2025-09-18T08:58:57.068326Z"
    }
   },
   "outputs": [],
   "source": [
    "from lseg_analytics.instruments import bond_future as bf\n",
    "\n",
    "import pandas as pd\n",
    "import json\n",
    "import datetime as dt\n",
    "from IPython.display import display"
   ]
  },
  {
   "cell_type": "markdown",
   "id": "9b0cc193",
   "metadata": {},
   "source": [
    "## Data Preparation\n",
    "\n",
    "To define a Bond Repo instrument you need to follow a structured 4-step process:\n",
    "\n",
    "1. **Bond Definition** - Specify the underlying Bond parameters \n",
    "2. **Future Definition** - Specify the Future parameters\n",
    "3. **Future Definition Instrument** - Create the instrument object using the Future Definition\n",
    "3. **Pricing Preferences** - Configure pricing parameters, optional\n"
   ]
  },
  {
   "cell_type": "code",
   "execution_count": 2,
   "id": "7b057582",
   "metadata": {
    "execution": {
     "iopub.execute_input": "2025-09-18T08:58:57.073326Z",
     "iopub.status.busy": "2025-09-18T08:58:57.071522Z",
     "iopub.status.idle": "2025-09-18T08:58:57.085036Z",
     "shell.execute_reply": "2025-09-18T08:58:57.084405Z"
    },
    "tags": [
     "price.static"
    ]
   },
   "outputs": [
    {
     "name": "stdout",
     "output_type": "stream",
     "text": [
      "1 - Underlying Bond definition created\n",
      "2 - Future instrument defined\n",
      "3 - Future Instrument created\n",
      "4 - Pricing parameters configured\n"
     ]
    }
   ],
   "source": [
    "# 1.Define an underlying Bond instrument\n",
    "fixed_bond_definition = bf.BondDefinition(\n",
    "    notional_ccy = \"EUR\",\n",
    "    issue_date = dt.datetime.strptime(\"2025-01-01\", \"%Y-%m-%d\"),\n",
    "    end_date = dt.datetime.strptime(\"2030-01-01\", \"%Y-%m-%d\"),\n",
    "    fixed_rate_percent = 2,\n",
    "    interest_payment_frequency = bf.InterestPaymentFrequencyEnum.QUARTERLY,\n",
    "    interest_calculation_method = bf.InterestCalculationMethodEnum.DCB_ACTUAL_ACTUAL\n",
    "\n",
    ")\n",
    "\n",
    "underlying_bond = bf.BondFutureUnderlyingContract(\n",
    "        instrument_definition = fixed_bond_definition,\n",
    "        instrument_type = \"Bond\"\n",
    ")\n",
    "print(\"1 - Underlying Bond definition created\")\n",
    "\n",
    "# 2.Define Future instrument\n",
    "future_definition = bf.BondFutureDefinition(\n",
    "    instrument_code = \"FOATc1\",  # Mandatory field\n",
    "    underlying_instruments = [underlying_bond]\n",
    ")\n",
    "print(\"2 - Future instrument defined\")\n",
    "\n",
    "# 3.Create the Future Instrument from the defintion\n",
    "future_instrument = bf.BondFutureDefinitionInstrument(definition = future_definition)\n",
    "print(\"3 - Future Instrument created\")\n",
    "\n",
    "# 4. Configure pricing parameters\n",
    "pricing_params = bf.BondFuturePricingParameters(\n",
    "    valuation_date = dt.datetime.strptime(\"2025-07-18\", \"%Y-%m-%d\"),                \n",
    ")\n",
    "print(\"4 - Pricing parameters configured\")"
   ]
  },
  {
   "cell_type": "markdown",
   "id": "f4f8db96",
   "metadata": {},
   "source": [
    "## Request Execution"
   ]
  },
  {
   "cell_type": "code",
   "execution_count": 3,
   "id": "3f084843",
   "metadata": {
    "execution": {
     "iopub.execute_input": "2025-09-18T08:58:57.087081Z",
     "iopub.status.busy": "2025-09-18T08:58:57.086881Z",
     "iopub.status.idle": "2025-09-18T08:58:58.200274Z",
     "shell.execute_reply": "2025-09-18T08:58:58.199677Z"
    },
    "tags": [
     "price.static"
    ]
   },
   "outputs": [
    {
     "name": "stdout",
     "output_type": "stream",
     "text": [
      "Bond Future pricing execution completed\n"
     ]
    }
   ],
   "source": [
    "#  Execute the calculation using the price() function\n",
    "# The 'definitions' parameter accepts a list of instruments definitions for batch processing\n",
    "\n",
    "# Execute the calculation using the price() function with error handling\n",
    "try:\n",
    "    # The 'definitions' parameter accepts a list of request items for batch processing\n",
    "    response = bf.price(\n",
    "        definitions=[future_instrument],\n",
    "        pricing_preferences=pricing_params\n",
    "    )\n",
    "    errors = [a.error for a in response.data.analytics if a.error]\n",
    "    if errors:\n",
    "        raise Exception(errors[0].message)\n",
    "    print(\"Bond Future pricing execution completed\")\n",
    "except Exception as e:\n",
    "    print(f\"Price Calculation failed: {str(e)}\")\n",
    "    raise"
   ]
  },
  {
   "cell_type": "markdown",
   "id": "e4138163",
   "metadata": {},
   "source": [
    "## Results Display"
   ]
  },
  {
   "cell_type": "markdown",
   "id": "15000b7d",
   "metadata": {},
   "source": [
    "#### Key Sections in the `response` JSON\n",
    "\n",
    " - **definitions**: Instument and Underlying Bond definitions set above. \n",
    "\n",
    " - **pricingPreferences**: Valuation date.\n",
    "\n",
    " - **analytics**:\n",
    "   - **tabularData**: Customizable list of analytics given in `fields` argument of price() function (`data`, `headers`, `statuses`). If not specified all fields are returned.\n",
    "   - **description**: Instrument summary and also fields not specified with the defaulted values used in the pricing.\n",
    "   - **nominalMeasures**: list of Bond future sensitivities\n",
    "   - **pricingAnalysis**: list of analytics used in the pricing\n",
    "   - **valuation**: Market valuation details on Bond future\n",
    "   - **error**: root cause of the issue if any\n",
    "\n",
    "We give below the details on description, pricing analysis, nominal measures and valuation"
   ]
  },
  {
   "cell_type": "code",
   "execution_count": 4,
   "id": "3ed4a727",
   "metadata": {
    "execution": {
     "iopub.execute_input": "2025-09-18T08:58:58.202589Z",
     "iopub.status.busy": "2025-09-18T08:58:58.202274Z",
     "iopub.status.idle": "2025-09-18T08:58:58.205758Z",
     "shell.execute_reply": "2025-09-18T08:58:58.205229Z"
    }
   },
   "outputs": [
    {
     "name": "stdout",
     "output_type": "stream",
     "text": [
      "{\n",
      "    \"instrumentCode\": \"FOATc1\",\n",
      "    \"instrumentDescription\": \"FOAT DEC5\",\n",
      "    \"endDate\": \"2025-12-08T00:00:00Z\",\n",
      "    \"deliveryStartDate\": \"2025-12-10\",\n",
      "    \"deliveryEndDate\": \"2025-12-10\",\n",
      "    \"notionalCcy\": \"EUR\",\n",
      "    \"notionalAmount\": 1000000.0,\n",
      "    \"contractSize\": 100000.0,\n",
      "    \"couponRatePercent\": 6.0\n",
      "}\n"
     ]
    }
   ],
   "source": [
    "# Access the description object\n",
    "description = response.data.analytics[0].description\n",
    "print(json.dumps(description.as_dict(), indent=4))"
   ]
  },
  {
   "cell_type": "code",
   "execution_count": 5,
   "id": "aaaf0a85",
   "metadata": {
    "execution": {
     "iopub.execute_input": "2025-09-18T08:58:58.207616Z",
     "iopub.status.busy": "2025-09-18T08:58:58.207338Z",
     "iopub.status.idle": "2025-09-18T08:58:58.216339Z",
     "shell.execute_reply": "2025-09-18T08:58:58.215845Z"
    }
   },
   "outputs": [
    {
     "data": {
      "text/html": [
       "<div>\n",
       "<style scoped>\n",
       "    .dataframe tbody tr th:only-of-type {\n",
       "        vertical-align: middle;\n",
       "    }\n",
       "\n",
       "    .dataframe tbody tr th {\n",
       "        vertical-align: top;\n",
       "    }\n",
       "\n",
       "    .dataframe thead th {\n",
       "        text-align: right;\n",
       "    }\n",
       "</style>\n",
       "<table border=\"1\" class=\"dataframe\">\n",
       "  <thead>\n",
       "    <tr style=\"text-align: right;\">\n",
       "      <th></th>\n",
       "      <th>Fields</th>\n",
       "      <th>Value</th>\n",
       "    </tr>\n",
       "  </thead>\n",
       "  <tbody>\n",
       "    <tr>\n",
       "      <th>0</th>\n",
       "      <td>marketDataDate</td>\n",
       "      <td>2025-07-18T00:00:00Z</td>\n",
       "    </tr>\n",
       "    <tr>\n",
       "      <th>1</th>\n",
       "      <td>valuationDate</td>\n",
       "      <td>2025-07-18T00:00:00Z</td>\n",
       "    </tr>\n",
       "    <tr>\n",
       "      <th>2</th>\n",
       "      <td>cheapestToDeliver</td>\n",
       "      <td>Bond#1</td>\n",
       "    </tr>\n",
       "    <tr>\n",
       "      <th>3</th>\n",
       "      <td>conversionFactor</td>\n",
       "      <td>0.856255</td>\n",
       "    </tr>\n",
       "    <tr>\n",
       "      <th>4</th>\n",
       "      <td>price</td>\n",
       "      <td>122.84</td>\n",
       "    </tr>\n",
       "    <tr>\n",
       "      <th>5</th>\n",
       "      <td>fairPrice</td>\n",
       "      <td>121.812169</td>\n",
       "    </tr>\n",
       "    <tr>\n",
       "      <th>6</th>\n",
       "      <td>invoicePrice</td>\n",
       "      <td>105.182364</td>\n",
       "    </tr>\n",
       "    <tr>\n",
       "      <th>7</th>\n",
       "      <td>yieldPercent</td>\n",
       "      <td>3.284616</td>\n",
       "    </tr>\n",
       "    <tr>\n",
       "      <th>8</th>\n",
       "      <td>impliedYieldPercent</td>\n",
       "      <td>0.688903</td>\n",
       "    </tr>\n",
       "  </tbody>\n",
       "</table>\n",
       "</div>"
      ],
      "text/plain": [
       "                Fields                 Value\n",
       "0       marketDataDate  2025-07-18T00:00:00Z\n",
       "1        valuationDate  2025-07-18T00:00:00Z\n",
       "2    cheapestToDeliver                Bond#1\n",
       "3     conversionFactor              0.856255\n",
       "4                price                122.84\n",
       "5            fairPrice            121.812169\n",
       "6         invoicePrice            105.182364\n",
       "7         yieldPercent              3.284616\n",
       "8  impliedYieldPercent              0.688903"
      ]
     },
     "metadata": {},
     "output_type": "display_data"
    }
   ],
   "source": [
    "# Access the pricing analysis object\n",
    "pricing_analysis = response.data.analytics[0][\"pricingAnalysis\"]\n",
    "df_pricing_analysis = pd.DataFrame(list(pricing_analysis.items()), columns=[\"Fields\", \"Value\"])\n",
    "display(df_pricing_analysis.head(9))"
   ]
  },
  {
   "cell_type": "code",
   "execution_count": 6,
   "id": "b6094bd5",
   "metadata": {
    "execution": {
     "iopub.execute_input": "2025-09-18T08:58:58.218244Z",
     "iopub.status.busy": "2025-09-18T08:58:58.217964Z",
     "iopub.status.idle": "2025-09-18T08:58:58.224646Z",
     "shell.execute_reply": "2025-09-18T08:58:58.224027Z"
    }
   },
   "outputs": [
    {
     "data": {
      "text/html": [
       "<div>\n",
       "<style scoped>\n",
       "    .dataframe tbody tr th:only-of-type {\n",
       "        vertical-align: middle;\n",
       "    }\n",
       "\n",
       "    .dataframe tbody tr th {\n",
       "        vertical-align: top;\n",
       "    }\n",
       "\n",
       "    .dataframe thead th {\n",
       "        text-align: right;\n",
       "    }\n",
       "</style>\n",
       "<table border=\"1\" class=\"dataframe\">\n",
       "  <thead>\n",
       "    <tr style=\"text-align: right;\">\n",
       "      <th></th>\n",
       "      <th>Fields</th>\n",
       "      <th>Value</th>\n",
       "    </tr>\n",
       "  </thead>\n",
       "  <tbody>\n",
       "    <tr>\n",
       "      <th>0</th>\n",
       "      <td>convexity</td>\n",
       "      <td>76.553562</td>\n",
       "    </tr>\n",
       "    <tr>\n",
       "      <th>1</th>\n",
       "      <td>dv01Bp</td>\n",
       "      <td>9.569231</td>\n",
       "    </tr>\n",
       "    <tr>\n",
       "      <th>2</th>\n",
       "      <td>duration</td>\n",
       "      <td>8.045876</td>\n",
       "    </tr>\n",
       "    <tr>\n",
       "      <th>3</th>\n",
       "      <td>modifiedDuration</td>\n",
       "      <td>7.789996</td>\n",
       "    </tr>\n",
       "  </tbody>\n",
       "</table>\n",
       "</div>"
      ],
      "text/plain": [
       "             Fields      Value\n",
       "0         convexity  76.553562\n",
       "1            dv01Bp   9.569231\n",
       "2          duration   8.045876\n",
       "3  modifiedDuration   7.789996"
      ]
     },
     "metadata": {},
     "output_type": "display_data"
    }
   ],
   "source": [
    "# Access the nominal measures object\n",
    "nominal_measures = response.data.analytics[0][\"nominalMeasures\"]\n",
    "df_nominal_measures = pd.DataFrame(list(nominal_measures.items()), columns=[\"Fields\", \"Value\"])\n",
    "display(df_nominal_measures)"
   ]
  },
  {
   "cell_type": "code",
   "execution_count": 7,
   "id": "d6f54d2f",
   "metadata": {
    "execution": {
     "iopub.execute_input": "2025-09-18T08:58:58.227245Z",
     "iopub.status.busy": "2025-09-18T08:58:58.226865Z",
     "iopub.status.idle": "2025-09-18T08:58:58.234118Z",
     "shell.execute_reply": "2025-09-18T08:58:58.233449Z"
    }
   },
   "outputs": [
    {
     "data": {
      "text/html": [
       "<div>\n",
       "<style scoped>\n",
       "    .dataframe tbody tr th:only-of-type {\n",
       "        vertical-align: middle;\n",
       "    }\n",
       "\n",
       "    .dataframe tbody tr th {\n",
       "        vertical-align: top;\n",
       "    }\n",
       "\n",
       "    .dataframe thead th {\n",
       "        text-align: right;\n",
       "    }\n",
       "</style>\n",
       "<table border=\"1\" class=\"dataframe\">\n",
       "  <thead>\n",
       "    <tr style=\"text-align: right;\">\n",
       "      <th></th>\n",
       "      <th>Fields</th>\n",
       "      <th>Value</th>\n",
       "    </tr>\n",
       "  </thead>\n",
       "  <tbody>\n",
       "    <tr>\n",
       "      <th>0</th>\n",
       "      <td>marketValueInDealCcy</td>\n",
       "      <td>1228400.0</td>\n",
       "    </tr>\n",
       "    <tr>\n",
       "      <th>1</th>\n",
       "      <td>marketValueInReportCcy</td>\n",
       "      <td>1228400.0</td>\n",
       "    </tr>\n",
       "  </tbody>\n",
       "</table>\n",
       "</div>"
      ],
      "text/plain": [
       "                   Fields      Value\n",
       "0    marketValueInDealCcy  1228400.0\n",
       "1  marketValueInReportCcy  1228400.0"
      ]
     },
     "metadata": {},
     "output_type": "display_data"
    }
   ],
   "source": [
    "valuation = response.data.analytics[0].valuation\n",
    "df_valuation = pd.DataFrame(list(valuation.items()), columns=[\"Fields\", \"Value\"])\n",
    "display(df_valuation)"
   ]
  },
  {
   "cell_type": "markdown",
   "id": "86781d18",
   "metadata": {},
   "source": [
    "## Appendix: Main Functions Reference"
   ]
  },
  {
   "cell_type": "markdown",
   "id": "c0ad5ada",
   "metadata": {},
   "source": [
    "The following is a list of main classes, enums, and functions available after importing from `lseg_analytics.instruments.bond_future`:\n",
    "\n",
    "**Core Classes:**\n",
    "- `BondFutureDefinition` - Define bond future instrument specifications\n",
    "- `BondDefinition` - Define underlying bond instrument specifications\n",
    "- `BondFutureUnderlyingContract` - Define the bond future underlying instrument\n",
    "- `BondFutureDefinitionInstrument` - Create bond future instrument from RepoDefinition\n",
    "- `BondFuturePricingParameters` - Configure pricing parameters and market data settings \n",
    "- `BondPricingParameters` - Configure pricing parameters and market data settings for the underlying bond\n",
    "\n",
    "**Response Classes:**\n",
    "- `BondFutureCalculationResponse` - Main response container\n",
    "- `BondFutureAnalyticsResponseData` - Detailed analytics and calculations\n",
    "- `BondFutureAnalyticsResponseWithError` - Analytics response with error\n",
    "- `BondFutureDescription` - Instrument summary\n",
    "- `BondFuturePricingAnalysis` - Analytics used in the pricing\n",
    "- `BondFutureValuation` - Individual instrument valuation results\n",
    "- `BondFutureNominalMeasures` - Bond future risk metrics\n",
    "- `BondFuturePricingParameters` - Pricing parameters\n",
    "\n",
    "\n",
    "**Main Functions:**\n",
    "- `price()` - Execute Bond future pricing calculation"
   ]
  }
 ],
 "metadata": {
  "kernelspec": {
   "display_name": "jupyterlab-ext",
   "language": "python",
   "name": "python3"
  },
  "language_info": {
   "codemirror_mode": {
    "name": "ipython",
    "version": 3
   },
   "file_extension": ".py",
   "mimetype": "text/x-python",
   "name": "python",
   "nbconvert_exporter": "python",
   "pygments_lexer": "ipython3",
   "version": "3.11.6"
  }
 },
 "nbformat": 4,
 "nbformat_minor": 5
}
