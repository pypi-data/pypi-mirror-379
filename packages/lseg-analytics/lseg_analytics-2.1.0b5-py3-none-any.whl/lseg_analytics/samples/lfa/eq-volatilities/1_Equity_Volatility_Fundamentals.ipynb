{
 "cells": [
  {
   "cell_type": "markdown",
   "id": "1a108871",
   "metadata": {},
   "source": [
    "# Equity Volatility Fundamentals"
   ]
  },
  {
   "cell_type": "markdown",
   "id": "3a4cef20",
   "metadata": {},
   "source": [
    "This notebook demonstrates how to access and use the functionalities of **ETI Volatility Surfaces** within the **LSEG Financial Analytics SDK**. \n",
    "\n",
    "ETI (Exchange Traded Instruments) volatility surfaces provide implied volatility data across different strikes and maturities for equity options. This enables quantitative analysis, risk management, and derivatives pricing for equity markets.\n",
    "\n",
    "**You will be able to:**\n",
    "- Configure and request volatility surface data\n",
    "- Parametrize volatility models (SSVI, SVI)\n",
    "- Visualize volatility surfaces with interactive plots\n",
    "- Export results for further analysis"
   ]
  },
  {
   "cell_type": "markdown",
   "id": "7cd0ad84",
   "metadata": {},
   "source": [
    "## Imports"
   ]
  },
  {
   "cell_type": "markdown",
   "id": "37a963b7",
   "metadata": {
    "tags": []
   },
   "source": [
    "Import the following necessary modules:\n",
    "\n",
    "- `lseg_analytics.market_data.eq_volatility` - for ETI volatility surface construction"
   ]
  },
  {
   "cell_type": "code",
   "execution_count": 1,
   "id": "fb2218f1",
   "metadata": {
    "execution": {
     "iopub.execute_input": "2025-09-18T08:59:18.246268Z",
     "iopub.status.busy": "2025-09-18T08:59:18.245902Z",
     "iopub.status.idle": "2025-09-18T08:59:20.018191Z",
     "shell.execute_reply": "2025-09-18T08:59:20.017685Z"
    },
    "tags": []
   },
   "outputs": [],
   "source": [
    "from lseg_analytics.market_data import eq_volatility as ev\n",
    "\n",
    "import plotly.graph_objects as go\n",
    "import pandas as pd\n",
    "import datetime as dt\n",
    "import json\n"
   ]
  },
  {
   "cell_type": "markdown",
   "id": "b9c3dd46",
   "metadata": {
    "tags": []
   },
   "source": [
    "## Data Preparation"
   ]
  },
  {
   "cell_type": "markdown",
   "id": "99cc4078",
   "metadata": {},
   "source": [
    "Volatility surface preparation follows a structured 3-step process:\n",
    "\n",
    "**Prerequisites:** \n",
    "- Valid LSEG credentials and market data entitlements\n",
    "- Instrument must have active options market with sufficient data\n",
    "\n",
    "**Process Overview:**\n",
    "1. **Surface Definition** - Specify the underlying instrument (equity RIC)\n",
    "2. **Surface Parameters** - Configure volatility model and calculation settings\n",
    "3. **Request Creation** - Combine definition and parameters into a request object  \n",
    "\n",
    "Each step builds upon the previous, creating a complete request specification for the volatility surface engine."
   ]
  },
  {
   "cell_type": "code",
   "execution_count": 2,
   "id": "bf4cacb1",
   "metadata": {
    "execution": {
     "iopub.execute_input": "2025-09-18T08:59:20.022206Z",
     "iopub.status.busy": "2025-09-18T08:59:20.020482Z",
     "iopub.status.idle": "2025-09-18T08:59:20.030676Z",
     "shell.execute_reply": "2025-09-18T08:59:20.030246Z"
    },
    "tags": [
     "calculate.static"
    ]
   },
   "outputs": [
    {
     "name": "stdout",
     "output_type": "stream",
     "text": [
      "Step 1: Creating Surface Definition...\n",
      "   ✓ Instrument: AAPL.O@RIC\n",
      "Step 2: Configuring Surface Parameters...\n",
      "   ✓ Surface Parameters: {'calculationDate': '2025-01-18T00:00:00Z', 'timeStamp': 'Default', 'inputVolatilityType': 'Implied', 'volatilityModel': 'SSVI', 'moneynessType': 'Spot', 'priceSide': 'Mid', 'xAxis': 'Strike', 'yAxis': 'Date'}\n",
      "Step 3: Create request item...\n",
      "   ✓ Request Item: {'surfaceTag': 'AAPL.O@RIC_Volsurface', 'underlyingDefinition': {'instrumentCode': 'AAPL.O@RIC'}, 'surfaceParameters': {'calculationDate': '2025-01-18T00:00:00Z', 'timeStamp': 'Default', 'inputVolatilityType': 'Implied', 'volatilityModel': 'SSVI', 'moneynessType': 'Spot', 'priceSide': 'Mid', 'xAxis': 'Strike', 'yAxis': 'Date'}, 'underlyingType': 'Eti', 'surfaceLayout': {'format': 'Matrix'}}\n"
     ]
    }
   ],
   "source": [
    "print(\"Step 1: Creating Surface Definition...\")\n",
    "# Select a RIC for equities and indices\n",
    "ric = \"AAPL.O@RIC\"\n",
    "\n",
    "# Create surface definition object\n",
    "surface_definition = ev.EtiSurfaceDefinition(\n",
    "        instrument_code = ric\n",
    "        # exchange = 'NSQ'  # NASDAQ\n",
    "        )\n",
    "print(f\"   ✓ Instrument: {surface_definition.instrument_code}\")\n",
    "\n",
    "\n",
    "print(\"Step 2: Configuring Surface Parameters...\")\n",
    "surface_parameters = ev.EtiSurfaceParameters(\n",
    "        calculation_date = dt.datetime.strptime(\"2025-01-18\", \"%Y-%m-%d\"),\n",
    "        time_stamp = ev.CurvesAndSurfacesTimeStampEnum.DEFAULT,          # Options: CLOSE, OPEN, SETTLE, DEFAULT\n",
    "        input_volatility_type = ev.InputVolatilityTypeEnum.IMPLIED,      # Options: IMPLIED, QUOTED\n",
    "        volatility_model = ev.CurvesAndSurfacesVolatilityModelEnum.SSVI, # Options: SVI, SSVI\n",
    "        moneyness_type = ev.MoneynessTypeEnum.SPOT,                      # Options: SPOT\n",
    "        price_side = ev.CurvesAndSurfacesPriceSideEnum.MID,              # Options: BID, MID, ASK\n",
    "        x_axis = ev.XAxisEnum.STRIKE,                                    # Options: DATE, DELTA, MONEYNESS, STRIKE, TENOR\n",
    "        y_axis = ev.YAxisEnum.DATE                                       # Options: same as X-axis\n",
    "    )\n",
    "print(f\"   ✓ Surface Parameters: {surface_parameters}\")\n",
    "\n",
    "\n",
    "print(\"Step 3: Create request item...\")\n",
    "# Create the main request object  with basic configuration\n",
    "request_item = ev.EtiVolatilitySurfaceRequestItem(\n",
    "        surface_tag = f\"{ric}_Volsurface\",\n",
    "        underlying_definition = surface_definition,\n",
    "        surface_parameters = surface_parameters,\n",
    "        underlying_type = ev.CurvesAndSurfacesUnderlyingTypeEnum.ETI,\n",
    "        surface_layout = ev.SurfaceOutput(\n",
    "            format = ev.FormatEnum.MATRIX,  # Options: LIST, MATRIX\n",
    "        )\n",
    "    )\n",
    "print(f\"   ✓ Request Item: {request_item}\")"
   ]
  },
  {
   "cell_type": "markdown",
   "id": "b147a529",
   "metadata": {},
   "source": [
    "## Request Execution"
   ]
  },
  {
   "cell_type": "code",
   "execution_count": 3,
   "id": "b806d22a",
   "metadata": {
    "execution": {
     "iopub.execute_input": "2025-09-18T08:59:20.032395Z",
     "iopub.status.busy": "2025-09-18T08:59:20.032155Z",
     "iopub.status.idle": "2025-09-18T08:59:23.122431Z",
     "shell.execute_reply": "2025-09-18T08:59:23.121925Z"
    },
    "tags": [
     "calculate.static"
    ]
   },
   "outputs": [
    {
     "name": "stdout",
     "output_type": "stream",
     "text": [
      "   Calculation successful!\n",
      "   Surface data points available: 20\n"
     ]
    }
   ],
   "source": [
    "# Execute the calculation using the calculate function\n",
    "# The 'universe' parameter accepts a list of request items for batch processing\n",
    "try:\n",
    "    response = ev.calculate(universe=[request_item])\n",
    "\n",
    "    # Display response structure information\n",
    "    surface_data = response['data'][0]\n",
    "    if 'surface' in surface_data:\n",
    "        print(f\"   Calculation successful!\")\n",
    "        print(f\"   Surface data points available: {len(surface_data['surface'])}\")\n",
    "    else:\n",
    "        print(\"   No surface data found in response\")\n",
    "    \n",
    "except Exception as e:\n",
    "    print(f\"   Calculation failed: {str(e)}\")\n",
    "    raise"
   ]
  },
  {
   "cell_type": "markdown",
   "id": "36c4886d",
   "metadata": {},
   "source": [
    "## Results Display"
   ]
  },
  {
   "cell_type": "markdown",
   "id": "77bfda46",
   "metadata": {},
   "source": [
    "Once the volatility surface calculation is complete, we can visualize the results using multiple chart types to gain different insights:\n",
    "\n",
    "**Visualization Options:**\n",
    "\n",
    "- **3D Surface Plot** - Interactive 3D visualization of the complete volatility surface\n",
    "- **Volatility Smiles** - Traditional 2D plots showing volatility curves by expiration\n",
    "\n",
    "The plotting functions automatically convert the API response into pandas DataFrames and generate interactive Plotly visualizations."
   ]
  },
  {
   "cell_type": "code",
   "execution_count": 4,
   "id": "099c5916",
   "metadata": {
    "execution": {
     "iopub.execute_input": "2025-09-18T08:59:23.124403Z",
     "iopub.status.busy": "2025-09-18T08:59:23.124255Z",
     "iopub.status.idle": "2025-09-18T08:59:23.133990Z",
     "shell.execute_reply": "2025-09-18T08:59:23.133570Z"
    }
   },
   "outputs": [],
   "source": [
    "# Plotting utils\n",
    "\n",
    "def get_vol_surface_df(response, index=0):\n",
    "    \"\"\"\n",
    "    Extract and format volatility surface data from API response into a DataFrame.\n",
    "    \n",
    "    This function processes the raw volatility surface data from an API response,\n",
    "    handles various error conditions, and returns a properly formatted DataFrame\n",
    "    suitable for visualization functions.\n",
    "\n",
    "    \"\"\"\n",
    "    try:\n",
    "        vol_surface = response['data'][index]['surface']\n",
    "    except KeyError:\n",
    "        print(\"No surface data available in response.\")\n",
    "        return None\n",
    "    except TypeError:\n",
    "        print(\"No surface data available in response.\")\n",
    "        return None\n",
    "\n",
    "    expiries = vol_surface[0][1:]\n",
    "    strikes = []\n",
    "    values = []\n",
    "\n",
    "    for row in vol_surface[1:]:\n",
    "        strikes.append(row[0])\n",
    "        values.append(row[1:])\n",
    "\n",
    "    strikes = [round(float(s), 2) if isinstance(s, (int, float)) else s for s in strikes]\n",
    "\n",
    "    surface_df = pd.DataFrame(values, index=strikes, columns=expiries).T\n",
    "    surface_df = surface_df.astype(float).round(2)\n",
    "\n",
    "    return surface_df\n",
    "\n",
    "def plot_volatility_surface_plot(surf_table, x_axis, y_axis, colorscale=\"Turbo\"):\n",
    "    \"\"\"\n",
    "    Create an interactive 3D surface plot of the volatility surface with contour lines.\n",
    "    \n",
    "    This function generates a three-dimensional visualization where the x-axis represents\n",
    "    moneyness/strikes, y-axis represents expiries, and z-axis represents volatility values.\n",
    "    Contour lines are added for better depth perception.\n",
    "\n",
    "    Parameters\n",
    "    ----------\n",
    "    surf_table : pd.DataFrame\n",
    "        A DataFrame representing the volatility surface with expiries as index\n",
    "        and strike prices/moneyness as columns. Values should be volatility levels.\n",
    "    colorscale : str or list, optional\n",
    "        Plotly colorscale name (e.g., 'Viridis', 'Turbo', 'Plasma') or custom colorscale list.\n",
    "        Default is \"Turbo\".\n",
    "\n",
    "    Returns\n",
    "    -------\n",
    "    plotly.graph_objects.Figure\n",
    "  \n",
    "    \"\"\"\n",
    "    if len(surf_table) < 2:\n",
    "        fig = go.Figure()\n",
    "        fig.add_annotation(\n",
    "            text=\"Not enough data to display 3D surface\",\n",
    "            xref=\"paper\", yref=\"paper\",\n",
    "            x=0.5, y=0.5,\n",
    "            showarrow=False,\n",
    "            font=dict(size=18),\n",
    "            align=\"center\"\n",
    "        )\n",
    "        fig.update_layout(\n",
    "            title=dict(\n",
    "                text=\"3D Surface Plot of Volatility Surface\",\n",
    "                x=0.5,\n",
    "                xanchor=\"center\",\n",
    "                yanchor=\"top\",\n",
    "                y=0.95,\n",
    "                font=dict(size=16)\n",
    "            ),\n",
    "            autosize=True,\n",
    "            height=450,\n",
    "            margin={\"l\": 0, \"r\": 0, \"b\": 0, \"t\": 50},\n",
    "            dragmode=False,\n",
    "        )\n",
    "        return fig\n",
    "\n",
    "    x = surf_table.columns\n",
    "    y = surf_table.index\n",
    "    z = surf_table.values\n",
    "\n",
    "    fig = go.Figure(data=[go.Surface(\n",
    "        z=z, \n",
    "        x=x, \n",
    "        y=y, \n",
    "        colorscale=colorscale,\n",
    "        showscale=False,\n",
    "        contours={\n",
    "            \"y\": {\n",
    "                \"show\": True,\n",
    "                \"color\": \"black\",\n",
    "                \"highlightcolor\": \"black\",\n",
    "                \"size\": 0.05\n",
    "            },\n",
    "            \"z\": {\n",
    "                \"show\": True,\n",
    "                \"color\": \"black\",\n",
    "                \"highlightcolor\": \"black\",\n",
    "                \"size\": 0.05\n",
    "            }\n",
    "        }\n",
    "    )])\n",
    "\n",
    "    fig.update_layout(\n",
    "        title=dict(\n",
    "            text=\"3D Surface Plot of Volatility Surface\",\n",
    "            x=0.5,\n",
    "            xanchor=\"center\",\n",
    "            yanchor=\"top\",\n",
    "            y=0.95,\n",
    "            font=dict(size=16)\n",
    "        ),\n",
    "        scene={\n",
    "            \"xaxis_title\": x_axis,\n",
    "            \"yaxis_title\": y_axis,\n",
    "            \"zaxis_title\": \"Volatility\",\n",
    "            \"xaxis\": {\"showgrid\": True},\n",
    "            \"yaxis\": {\"showgrid\": True},\n",
    "            \"zaxis\": {\"showgrid\": True},\n",
    "            \"camera\": {\n",
    "                \"eye\": {\"x\": 0.96, \"y\": -1.53, \"z\": 0.39},\n",
    "                \"center\": {\"x\": 0.02, \"y\": -0.07, \"z\": -0.21},\n",
    "                \"up\": {\"x\": -0.18, \"y\": 0.27, \"z\": 0.95},\n",
    "                \"projection\": {\"type\": \"perspective\"}\n",
    "            }\n",
    "        },\n",
    "        dragmode=False,\n",
    "        autosize=True,\n",
    "        height=450,\n",
    "        width=800,\n",
    "    )\n",
    "\n",
    "    return fig\n",
    "\n",
    "def plot_surface_smile_by_expiry(surf_table, x_axis, y_axis):\n",
    "    \"\"\"\n",
    "    Create a 2D line plot showing volatility smiles for different expiry dates.\n",
    "    \n",
    "    This function plots multiple volatility smile curves, with each curve representing\n",
    "    a different expiry date. The x-axis shows moneyness/strikes and the y-axis shows\n",
    "    volatility levels.\n",
    "\n",
    "    Parameters\n",
    "    ----------\n",
    "    surf_table : pd.DataFrame\n",
    "        A DataFrame with expiries as index and strike prices/moneyness as columns.\n",
    "        Values should be volatility levels for each expiry-strike combination.\n",
    "\n",
    "    Returns\n",
    "    -------\n",
    "    plotly.graph_objects.Figure\n",
    "        Interactive line plot with each expiry represented as a separate trace.\n",
    "        \n",
    "    \"\"\"\n",
    "    fig = go.Figure()\n",
    "\n",
    "    for expiry in surf_table.index:\n",
    "        fig.add_trace(go.Scatter(\n",
    "            x=surf_table.columns.astype(float),\n",
    "            y=surf_table.loc[expiry],\n",
    "            mode='lines+markers',\n",
    "            name=expiry\n",
    "        ))\n",
    "\n",
    "    fig.update_layout(\n",
    "        title=dict(\n",
    "            text='Surface Smile by Expiry',\n",
    "            x=0.5,\n",
    "            xanchor=\"center\",\n",
    "            yanchor=\"top\",\n",
    "            y=0.95,\n",
    "            font=dict(size=16)\n",
    "        ),\n",
    "        xaxis_title=x_axis,\n",
    "        yaxis_title='Volatility',\n",
    "        legend_title=y_axis,\n",
    "        template='plotly_white',\n",
    "        dragmode=False,\n",
    "        autosize=True,\n",
    "        height=450,\n",
    "        width=800,\n",
    "    )\n",
    "\n",
    "    return fig"
   ]
  },
  {
   "cell_type": "code",
   "execution_count": 5,
   "id": "982740d7",
   "metadata": {
    "execution": {
     "iopub.execute_input": "2025-09-18T08:59:23.135812Z",
     "iopub.status.busy": "2025-09-18T08:59:23.135520Z",
     "iopub.status.idle": "2025-09-18T08:59:23.139855Z",
     "shell.execute_reply": "2025-09-18T08:59:23.139415Z"
    },
    "tags": []
   },
   "outputs": [
    {
     "name": "stdout",
     "output_type": "stream",
     "text": [
      "Surface DataFrame Info:\n",
      "   ✓ Shape: (14, 19) (rows × columns)\n",
      "   ✓ x_axis: STRIKE\n",
      "   ✓ y_axis: DATE\n"
     ]
    }
   ],
   "source": [
    "# Convert API response to pandas DataFrame for easier manipulation \n",
    "# This function extracts volatility data points and organizes them by strike/expiry \n",
    "surface_df = get_vol_surface_df(response)\n",
    "\n",
    "# Extract axis names for labeling plots\n",
    "x_axis = surface_parameters.x_axis.name\n",
    "y_axis = surface_parameters.y_axis.name\n",
    "\n",
    "print(\"Surface DataFrame Info:\") \n",
    "print(f\"   ✓ Shape: {surface_df.shape} (rows × columns)\") \n",
    "print(f\"   ✓ x_axis: {x_axis}\") \n",
    "print(f\"   ✓ y_axis: {y_axis}\") "
   ]
  },
  {
   "cell_type": "code",
   "execution_count": 6,
   "id": "ef04072b",
   "metadata": {
    "execution": {
     "iopub.execute_input": "2025-09-18T08:59:23.141635Z",
     "iopub.status.busy": "2025-09-18T08:59:23.141320Z",
     "iopub.status.idle": "2025-09-18T08:59:23.160740Z",
     "shell.execute_reply": "2025-09-18T08:59:23.160276Z"
    },
    "tags": []
   },
   "outputs": [
    {
     "data": {
      "text/html": [
       "<div>\n",
       "<style scoped>\n",
       "    .dataframe tbody tr th:only-of-type {\n",
       "        vertical-align: middle;\n",
       "    }\n",
       "\n",
       "    .dataframe tbody tr th {\n",
       "        vertical-align: top;\n",
       "    }\n",
       "\n",
       "    .dataframe thead th {\n",
       "        text-align: right;\n",
       "    }\n",
       "</style>\n",
       "<table border=\"1\" class=\"dataframe\">\n",
       "  <thead>\n",
       "    <tr style=\"text-align: right;\">\n",
       "      <th></th>\n",
       "      <th>114.99</th>\n",
       "      <th>137.988</th>\n",
       "      <th>160.986</th>\n",
       "      <th>172.485</th>\n",
       "      <th>183.984</th>\n",
       "      <th>195.483</th>\n",
       "      <th>206.982</th>\n",
       "      <th>218.481</th>\n",
       "      <th>224.2305</th>\n",
       "      <th>229.98</th>\n",
       "      <th>235.7295</th>\n",
       "      <th>241.479</th>\n",
       "      <th>252.978</th>\n",
       "      <th>264.477</th>\n",
       "      <th>275.976</th>\n",
       "      <th>287.475</th>\n",
       "      <th>298.974</th>\n",
       "      <th>321.972</th>\n",
       "      <th>344.97</th>\n",
       "    </tr>\n",
       "  </thead>\n",
       "  <tbody>\n",
       "    <tr>\n",
       "      <th>2025-02-21</th>\n",
       "      <td>80.50</td>\n",
       "      <td>67.58</td>\n",
       "      <td>54.68</td>\n",
       "      <td>48.10</td>\n",
       "      <td>41.48</td>\n",
       "      <td>35.09</td>\n",
       "      <td>29.72</td>\n",
       "      <td>26.40</td>\n",
       "      <td>25.62</td>\n",
       "      <td>25.33</td>\n",
       "      <td>25.42</td>\n",
       "      <td>25.77</td>\n",
       "      <td>26.94</td>\n",
       "      <td>28.40</td>\n",
       "      <td>29.95</td>\n",
       "      <td>31.49</td>\n",
       "      <td>32.98</td>\n",
       "      <td>35.76</td>\n",
       "      <td>38.26</td>\n",
       "    </tr>\n",
       "    <tr>\n",
       "      <th>2025-03-21</th>\n",
       "      <td>67.06</td>\n",
       "      <td>56.38</td>\n",
       "      <td>45.95</td>\n",
       "      <td>40.80</td>\n",
       "      <td>35.82</td>\n",
       "      <td>31.25</td>\n",
       "      <td>27.48</td>\n",
       "      <td>24.89</td>\n",
       "      <td>24.08</td>\n",
       "      <td>23.57</td>\n",
       "      <td>23.32</td>\n",
       "      <td>23.27</td>\n",
       "      <td>23.64</td>\n",
       "      <td>24.38</td>\n",
       "      <td>25.32</td>\n",
       "      <td>26.35</td>\n",
       "      <td>27.41</td>\n",
       "      <td>29.48</td>\n",
       "      <td>31.42</td>\n",
       "    </tr>\n",
       "    <tr>\n",
       "      <th>2025-04-17</th>\n",
       "      <td>60.19</td>\n",
       "      <td>50.76</td>\n",
       "      <td>41.74</td>\n",
       "      <td>37.43</td>\n",
       "      <td>33.35</td>\n",
       "      <td>29.69</td>\n",
       "      <td>26.68</td>\n",
       "      <td>24.51</td>\n",
       "      <td>23.75</td>\n",
       "      <td>23.20</td>\n",
       "      <td>22.84</td>\n",
       "      <td>22.64</td>\n",
       "      <td>22.62</td>\n",
       "      <td>22.97</td>\n",
       "      <td>23.54</td>\n",
       "      <td>24.25</td>\n",
       "      <td>25.02</td>\n",
       "      <td>26.63</td>\n",
       "      <td>28.21</td>\n",
       "    </tr>\n",
       "    <tr>\n",
       "      <th>2025-05-16</th>\n",
       "      <td>55.41</td>\n",
       "      <td>46.93</td>\n",
       "      <td>38.99</td>\n",
       "      <td>35.27</td>\n",
       "      <td>31.83</td>\n",
       "      <td>28.79</td>\n",
       "      <td>26.29</td>\n",
       "      <td>24.41</td>\n",
       "      <td>23.71</td>\n",
       "      <td>23.16</td>\n",
       "      <td>22.76</td>\n",
       "      <td>22.48</td>\n",
       "      <td>22.25</td>\n",
       "      <td>22.34</td>\n",
       "      <td>22.65</td>\n",
       "      <td>23.11</td>\n",
       "      <td>23.66</td>\n",
       "      <td>24.90</td>\n",
       "      <td>26.18</td>\n",
       "    </tr>\n",
       "    <tr>\n",
       "      <th>2025-06-20</th>\n",
       "      <td>51.44</td>\n",
       "      <td>43.81</td>\n",
       "      <td>36.82</td>\n",
       "      <td>33.63</td>\n",
       "      <td>30.72</td>\n",
       "      <td>28.17</td>\n",
       "      <td>26.06</td>\n",
       "      <td>24.42</td>\n",
       "      <td>23.79</td>\n",
       "      <td>23.27</td>\n",
       "      <td>22.85</td>\n",
       "      <td>22.54</td>\n",
       "      <td>22.16</td>\n",
       "      <td>22.07</td>\n",
       "      <td>22.18</td>\n",
       "      <td>22.44</td>\n",
       "      <td>22.80</td>\n",
       "      <td>23.69</td>\n",
       "      <td>24.69</td>\n",
       "    </tr>\n",
       "    <tr>\n",
       "      <th>2025-07-18</th>\n",
       "      <td>49.09</td>\n",
       "      <td>42.00</td>\n",
       "      <td>35.61</td>\n",
       "      <td>32.73</td>\n",
       "      <td>30.13</td>\n",
       "      <td>27.86</td>\n",
       "      <td>25.97</td>\n",
       "      <td>24.48</td>\n",
       "      <td>23.88</td>\n",
       "      <td>23.38</td>\n",
       "      <td>22.97</td>\n",
       "      <td>22.65</td>\n",
       "      <td>22.22</td>\n",
       "      <td>22.03</td>\n",
       "      <td>22.03</td>\n",
       "      <td>22.17</td>\n",
       "      <td>22.42</td>\n",
       "      <td>23.10</td>\n",
       "      <td>23.93</td>\n",
       "    </tr>\n",
       "    <tr>\n",
       "      <th>2025-08-15</th>\n",
       "      <td>47.21</td>\n",
       "      <td>40.58</td>\n",
       "      <td>34.68</td>\n",
       "      <td>32.06</td>\n",
       "      <td>29.70</td>\n",
       "      <td>27.64</td>\n",
       "      <td>25.92</td>\n",
       "      <td>24.55</td>\n",
       "      <td>23.99</td>\n",
       "      <td>23.51</td>\n",
       "      <td>23.11</td>\n",
       "      <td>22.78</td>\n",
       "      <td>22.31</td>\n",
       "      <td>22.06</td>\n",
       "      <td>21.99</td>\n",
       "      <td>22.04</td>\n",
       "      <td>22.20</td>\n",
       "      <td>22.72</td>\n",
       "      <td>23.39</td>\n",
       "    </tr>\n",
       "    <tr>\n",
       "      <th>2025-09-19</th>\n",
       "      <td>45.33</td>\n",
       "      <td>39.17</td>\n",
       "      <td>33.78</td>\n",
       "      <td>31.41</td>\n",
       "      <td>29.30</td>\n",
       "      <td>27.45</td>\n",
       "      <td>25.90</td>\n",
       "      <td>24.64</td>\n",
       "      <td>24.12</td>\n",
       "      <td>23.67</td>\n",
       "      <td>23.28</td>\n",
       "      <td>22.95</td>\n",
       "      <td>22.46</td>\n",
       "      <td>22.16</td>\n",
       "      <td>22.02</td>\n",
       "      <td>21.99</td>\n",
       "      <td>22.06</td>\n",
       "      <td>22.41</td>\n",
       "      <td>22.93</td>\n",
       "    </tr>\n",
       "    <tr>\n",
       "      <th>2025-10-17</th>\n",
       "      <td>44.09</td>\n",
       "      <td>38.26</td>\n",
       "      <td>33.22</td>\n",
       "      <td>31.02</td>\n",
       "      <td>29.05</td>\n",
       "      <td>27.34</td>\n",
       "      <td>25.90</td>\n",
       "      <td>24.72</td>\n",
       "      <td>24.23</td>\n",
       "      <td>23.79</td>\n",
       "      <td>23.42</td>\n",
       "      <td>23.09</td>\n",
       "      <td>22.59</td>\n",
       "      <td>22.26</td>\n",
       "      <td>22.08</td>\n",
       "      <td>22.00</td>\n",
       "      <td>22.03</td>\n",
       "      <td>22.27</td>\n",
       "      <td>22.68</td>\n",
       "    </tr>\n",
       "    <tr>\n",
       "      <th>2025-12-19</th>\n",
       "      <td>41.90</td>\n",
       "      <td>36.69</td>\n",
       "      <td>32.26</td>\n",
       "      <td>30.36</td>\n",
       "      <td>28.66</td>\n",
       "      <td>27.19</td>\n",
       "      <td>25.93</td>\n",
       "      <td>24.89</td>\n",
       "      <td>24.44</td>\n",
       "      <td>24.05</td>\n",
       "      <td>23.69</td>\n",
       "      <td>23.38</td>\n",
       "      <td>22.88</td>\n",
       "      <td>22.52</td>\n",
       "      <td>22.27</td>\n",
       "      <td>22.13</td>\n",
       "      <td>22.06</td>\n",
       "      <td>22.12</td>\n",
       "      <td>22.36</td>\n",
       "    </tr>\n",
       "    <tr>\n",
       "      <th>2026-01-16</th>\n",
       "      <td>41.12</td>\n",
       "      <td>36.14</td>\n",
       "      <td>31.94</td>\n",
       "      <td>30.14</td>\n",
       "      <td>28.54</td>\n",
       "      <td>27.15</td>\n",
       "      <td>25.96</td>\n",
       "      <td>24.96</td>\n",
       "      <td>24.53</td>\n",
       "      <td>24.15</td>\n",
       "      <td>23.81</td>\n",
       "      <td>23.50</td>\n",
       "      <td>23.00</td>\n",
       "      <td>22.63</td>\n",
       "      <td>22.37</td>\n",
       "      <td>22.20</td>\n",
       "      <td>22.11</td>\n",
       "      <td>22.12</td>\n",
       "      <td>22.29</td>\n",
       "    </tr>\n",
       "    <tr>\n",
       "      <th>2026-06-18</th>\n",
       "      <td>38.13</td>\n",
       "      <td>34.09</td>\n",
       "      <td>30.78</td>\n",
       "      <td>29.38</td>\n",
       "      <td>28.14</td>\n",
       "      <td>27.05</td>\n",
       "      <td>26.11</td>\n",
       "      <td>25.31</td>\n",
       "      <td>24.95</td>\n",
       "      <td>24.62</td>\n",
       "      <td>24.33</td>\n",
       "      <td>24.06</td>\n",
       "      <td>23.59</td>\n",
       "      <td>23.21</td>\n",
       "      <td>22.91</td>\n",
       "      <td>22.68</td>\n",
       "      <td>22.51</td>\n",
       "      <td>22.31</td>\n",
       "      <td>22.27</td>\n",
       "    </tr>\n",
       "    <tr>\n",
       "      <th>2026-12-18</th>\n",
       "      <td>36.05</td>\n",
       "      <td>32.74</td>\n",
       "      <td>30.07</td>\n",
       "      <td>28.95</td>\n",
       "      <td>27.95</td>\n",
       "      <td>27.08</td>\n",
       "      <td>26.31</td>\n",
       "      <td>25.64</td>\n",
       "      <td>25.34</td>\n",
       "      <td>25.06</td>\n",
       "      <td>24.80</td>\n",
       "      <td>24.56</td>\n",
       "      <td>24.13</td>\n",
       "      <td>23.77</td>\n",
       "      <td>23.47</td>\n",
       "      <td>23.22</td>\n",
       "      <td>23.02</td>\n",
       "      <td>22.72</td>\n",
       "      <td>22.55</td>\n",
       "    </tr>\n",
       "    <tr>\n",
       "      <th>2027-01-15</th>\n",
       "      <td>35.82</td>\n",
       "      <td>32.60</td>\n",
       "      <td>30.00</td>\n",
       "      <td>28.91</td>\n",
       "      <td>27.94</td>\n",
       "      <td>27.09</td>\n",
       "      <td>26.34</td>\n",
       "      <td>25.68</td>\n",
       "      <td>25.39</td>\n",
       "      <td>25.11</td>\n",
       "      <td>24.86</td>\n",
       "      <td>24.62</td>\n",
       "      <td>24.20</td>\n",
       "      <td>23.85</td>\n",
       "      <td>23.55</td>\n",
       "      <td>23.30</td>\n",
       "      <td>23.09</td>\n",
       "      <td>22.79</td>\n",
       "      <td>22.61</td>\n",
       "    </tr>\n",
       "  </tbody>\n",
       "</table>\n",
       "</div>"
      ],
      "text/plain": [
       "            114.99  137.988  160.986  172.485  183.984  195.483  206.982  \\\n",
       "2025-02-21   80.50    67.58    54.68    48.10    41.48    35.09    29.72   \n",
       "2025-03-21   67.06    56.38    45.95    40.80    35.82    31.25    27.48   \n",
       "2025-04-17   60.19    50.76    41.74    37.43    33.35    29.69    26.68   \n",
       "2025-05-16   55.41    46.93    38.99    35.27    31.83    28.79    26.29   \n",
       "2025-06-20   51.44    43.81    36.82    33.63    30.72    28.17    26.06   \n",
       "2025-07-18   49.09    42.00    35.61    32.73    30.13    27.86    25.97   \n",
       "2025-08-15   47.21    40.58    34.68    32.06    29.70    27.64    25.92   \n",
       "2025-09-19   45.33    39.17    33.78    31.41    29.30    27.45    25.90   \n",
       "2025-10-17   44.09    38.26    33.22    31.02    29.05    27.34    25.90   \n",
       "2025-12-19   41.90    36.69    32.26    30.36    28.66    27.19    25.93   \n",
       "2026-01-16   41.12    36.14    31.94    30.14    28.54    27.15    25.96   \n",
       "2026-06-18   38.13    34.09    30.78    29.38    28.14    27.05    26.11   \n",
       "2026-12-18   36.05    32.74    30.07    28.95    27.95    27.08    26.31   \n",
       "2027-01-15   35.82    32.60    30.00    28.91    27.94    27.09    26.34   \n",
       "\n",
       "            218.481  224.2305  229.98  235.7295  241.479  252.978  264.477  \\\n",
       "2025-02-21    26.40     25.62   25.33     25.42    25.77    26.94    28.40   \n",
       "2025-03-21    24.89     24.08   23.57     23.32    23.27    23.64    24.38   \n",
       "2025-04-17    24.51     23.75   23.20     22.84    22.64    22.62    22.97   \n",
       "2025-05-16    24.41     23.71   23.16     22.76    22.48    22.25    22.34   \n",
       "2025-06-20    24.42     23.79   23.27     22.85    22.54    22.16    22.07   \n",
       "2025-07-18    24.48     23.88   23.38     22.97    22.65    22.22    22.03   \n",
       "2025-08-15    24.55     23.99   23.51     23.11    22.78    22.31    22.06   \n",
       "2025-09-19    24.64     24.12   23.67     23.28    22.95    22.46    22.16   \n",
       "2025-10-17    24.72     24.23   23.79     23.42    23.09    22.59    22.26   \n",
       "2025-12-19    24.89     24.44   24.05     23.69    23.38    22.88    22.52   \n",
       "2026-01-16    24.96     24.53   24.15     23.81    23.50    23.00    22.63   \n",
       "2026-06-18    25.31     24.95   24.62     24.33    24.06    23.59    23.21   \n",
       "2026-12-18    25.64     25.34   25.06     24.80    24.56    24.13    23.77   \n",
       "2027-01-15    25.68     25.39   25.11     24.86    24.62    24.20    23.85   \n",
       "\n",
       "            275.976  287.475  298.974  321.972  344.97  \n",
       "2025-02-21    29.95    31.49    32.98    35.76   38.26  \n",
       "2025-03-21    25.32    26.35    27.41    29.48   31.42  \n",
       "2025-04-17    23.54    24.25    25.02    26.63   28.21  \n",
       "2025-05-16    22.65    23.11    23.66    24.90   26.18  \n",
       "2025-06-20    22.18    22.44    22.80    23.69   24.69  \n",
       "2025-07-18    22.03    22.17    22.42    23.10   23.93  \n",
       "2025-08-15    21.99    22.04    22.20    22.72   23.39  \n",
       "2025-09-19    22.02    21.99    22.06    22.41   22.93  \n",
       "2025-10-17    22.08    22.00    22.03    22.27   22.68  \n",
       "2025-12-19    22.27    22.13    22.06    22.12   22.36  \n",
       "2026-01-16    22.37    22.20    22.11    22.12   22.29  \n",
       "2026-06-18    22.91    22.68    22.51    22.31   22.27  \n",
       "2026-12-18    23.47    23.22    23.02    22.72   22.55  \n",
       "2027-01-15    23.55    23.30    23.09    22.79   22.61  "
      ]
     },
     "execution_count": 6,
     "metadata": {},
     "output_type": "execute_result"
    }
   ],
   "source": [
    "surface_df"
   ]
  },
  {
   "cell_type": "markdown",
   "id": "4ff8a4f1",
   "metadata": {},
   "source": [
    "### 3D Surface Plot\n",
    "\n",
    "An interactive 3D visualization allows you to explore the volatility surface from different angles and understand the relationship between strikes, expiries, and volatility levels."
   ]
  },
  {
   "cell_type": "code",
   "execution_count": 7,
   "id": "59a0fe79",
   "metadata": {
    "execution": {
     "iopub.execute_input": "2025-09-18T08:59:23.162432Z",
     "iopub.status.busy": "2025-09-18T08:59:23.162159Z",
     "iopub.status.idle": "2025-09-18T08:59:24.068865Z",
     "shell.execute_reply": "2025-09-18T08:59:24.068215Z"
    },
    "tags": []
   },
   "outputs": [
    {
     "data": {
      "application/vnd.plotly.v1+json": {
       "config": {
        "plotlyServerURL": "https://plot.ly"
       },
       "data": [
        {
         "colorscale": [
          [
           0.0,
           "#30123b"
          ],
          [
           0.07142857142857142,
           "#4145ab"
          ],
          [
           0.14285714285714285,
           "#4675ed"
          ],
          [
           0.21428571428571427,
           "#39a2fc"
          ],
          [
           0.2857142857142857,
           "#1bcfd4"
          ],
          [
           0.35714285714285715,
           "#24eca6"
          ],
          [
           0.42857142857142855,
           "#61fc6c"
          ],
          [
           0.5,
           "#a4fc3b"
          ],
          [
           0.5714285714285714,
           "#d1e834"
          ],
          [
           0.6428571428571429,
           "#f3c63a"
          ],
          [
           0.7142857142857143,
           "#fe9b2d"
          ],
          [
           0.7857142857142857,
           "#f36315"
          ],
          [
           0.8571428571428571,
           "#d93806"
          ],
          [
           0.9285714285714286,
           "#b11901"
          ],
          [
           1.0,
           "#7a0402"
          ]
         ],
         "contours": {
          "y": {
           "color": "black",
           "highlightcolor": "black",
           "show": true,
           "size": 0.05
          },
          "z": {
           "color": "black",
           "highlightcolor": "black",
           "show": true,
           "size": 0.05
          }
         },
         "showscale": false,
         "type": "surface",
         "x": [
          "114.99",
          "137.988",
          "160.986",
          "172.485",
          "183.984",
          "195.483",
          "206.982",
          "218.481",
          "224.2305",
          "229.98",
          "235.7295",
          "241.479",
          "252.978",
          "264.477",
          "275.976",
          "287.475",
          "298.974",
          "321.972",
          "344.97"
         ],
         "y": [
          "2025-02-21",
          "2025-03-21",
          "2025-04-17",
          "2025-05-16",
          "2025-06-20",
          "2025-07-18",
          "2025-08-15",
          "2025-09-19",
          "2025-10-17",
          "2025-12-19",
          "2026-01-16",
          "2026-06-18",
          "2026-12-18",
          "2027-01-15"
         ],
         "z": {
          "bdata": "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",
          "dtype": "f8",
          "shape": "14, 19"
         }
        }
       ],
       "layout": {
        "autosize": true,
        "dragmode": false,
        "height": 450,
        "scene": {
         "camera": {
          "center": {
           "x": 0.02,
           "y": -0.07,
           "z": -0.21
          },
          "eye": {
           "x": 0.96,
           "y": -1.53,
           "z": 0.39
          },
          "projection": {
           "type": "perspective"
          },
          "up": {
           "x": -0.18,
           "y": 0.27,
           "z": 0.95
          }
         },
         "xaxis": {
          "showgrid": true,
          "title": {
           "text": "STRIKE"
          }
         },
         "yaxis": {
          "showgrid": true,
          "title": {
           "text": "DATE"
          }
         },
         "zaxis": {
          "showgrid": true,
          "title": {
           "text": "Volatility"
          }
         }
        },
        "template": {
         "data": {
          "bar": [
           {
            "error_x": {
             "color": "#2a3f5f"
            },
            "error_y": {
             "color": "#2a3f5f"
            },
            "marker": {
             "line": {
              "color": "#E5ECF6",
              "width": 0.5
             },
             "pattern": {
              "fillmode": "overlay",
              "size": 10,
              "solidity": 0.2
             }
            },
            "type": "bar"
           }
          ],
          "barpolar": [
           {
            "marker": {
             "line": {
              "color": "#E5ECF6",
              "width": 0.5
             },
             "pattern": {
              "fillmode": "overlay",
              "size": 10,
              "solidity": 0.2
             }
            },
            "type": "barpolar"
           }
          ],
          "carpet": [
           {
            "aaxis": {
             "endlinecolor": "#2a3f5f",
             "gridcolor": "white",
             "linecolor": "white",
             "minorgridcolor": "white",
             "startlinecolor": "#2a3f5f"
            },
            "baxis": {
             "endlinecolor": "#2a3f5f",
             "gridcolor": "white",
             "linecolor": "white",
             "minorgridcolor": "white",
             "startlinecolor": "#2a3f5f"
            },
            "type": "carpet"
           }
          ],
          "choropleth": [
           {
            "colorbar": {
             "outlinewidth": 0,
             "ticks": ""
            },
            "type": "choropleth"
           }
          ],
          "contour": [
           {
            "colorbar": {
             "outlinewidth": 0,
             "ticks": ""
            },
            "colorscale": [
             [
              0.0,
              "#0d0887"
             ],
             [
              0.1111111111111111,
              "#46039f"
             ],
             [
              0.2222222222222222,
              "#7201a8"
             ],
             [
              0.3333333333333333,
              "#9c179e"
             ],
             [
              0.4444444444444444,
              "#bd3786"
             ],
             [
              0.5555555555555556,
              "#d8576b"
             ],
             [
              0.6666666666666666,
              "#ed7953"
             ],
             [
              0.7777777777777778,
              "#fb9f3a"
             ],
             [
              0.8888888888888888,
              "#fdca26"
             ],
             [
              1.0,
              "#f0f921"
             ]
            ],
            "type": "contour"
           }
          ],
          "contourcarpet": [
           {
            "colorbar": {
             "outlinewidth": 0,
             "ticks": ""
            },
            "type": "contourcarpet"
           }
          ],
          "heatmap": [
           {
            "colorbar": {
             "outlinewidth": 0,
             "ticks": ""
            },
            "colorscale": [
             [
              0.0,
              "#0d0887"
             ],
             [
              0.1111111111111111,
              "#46039f"
             ],
             [
              0.2222222222222222,
              "#7201a8"
             ],
             [
              0.3333333333333333,
              "#9c179e"
             ],
             [
              0.4444444444444444,
              "#bd3786"
             ],
             [
              0.5555555555555556,
              "#d8576b"
             ],
             [
              0.6666666666666666,
              "#ed7953"
             ],
             [
              0.7777777777777778,
              "#fb9f3a"
             ],
             [
              0.8888888888888888,
              "#fdca26"
             ],
             [
              1.0,
              "#f0f921"
             ]
            ],
            "type": "heatmap"
           }
          ],
          "histogram": [
           {
            "marker": {
             "pattern": {
              "fillmode": "overlay",
              "size": 10,
              "solidity": 0.2
             }
            },
            "type": "histogram"
           }
          ],
          "histogram2d": [
           {
            "colorbar": {
             "outlinewidth": 0,
             "ticks": ""
            },
            "colorscale": [
             [
              0.0,
              "#0d0887"
             ],
             [
              0.1111111111111111,
              "#46039f"
             ],
             [
              0.2222222222222222,
              "#7201a8"
             ],
             [
              0.3333333333333333,
              "#9c179e"
             ],
             [
              0.4444444444444444,
              "#bd3786"
             ],
             [
              0.5555555555555556,
              "#d8576b"
             ],
             [
              0.6666666666666666,
              "#ed7953"
             ],
             [
              0.7777777777777778,
              "#fb9f3a"
             ],
             [
              0.8888888888888888,
              "#fdca26"
             ],
             [
              1.0,
              "#f0f921"
             ]
            ],
            "type": "histogram2d"
           }
          ],
          "histogram2dcontour": [
           {
            "colorbar": {
             "outlinewidth": 0,
             "ticks": ""
            },
            "colorscale": [
             [
              0.0,
              "#0d0887"
             ],
             [
              0.1111111111111111,
              "#46039f"
             ],
             [
              0.2222222222222222,
              "#7201a8"
             ],
             [
              0.3333333333333333,
              "#9c179e"
             ],
             [
              0.4444444444444444,
              "#bd3786"
             ],
             [
              0.5555555555555556,
              "#d8576b"
             ],
             [
              0.6666666666666666,
              "#ed7953"
             ],
             [
              0.7777777777777778,
              "#fb9f3a"
             ],
             [
              0.8888888888888888,
              "#fdca26"
             ],
             [
              1.0,
              "#f0f921"
             ]
            ],
            "type": "histogram2dcontour"
           }
          ],
          "mesh3d": [
           {
            "colorbar": {
             "outlinewidth": 0,
             "ticks": ""
            },
            "type": "mesh3d"
           }
          ],
          "parcoords": [
           {
            "line": {
             "colorbar": {
              "outlinewidth": 0,
              "ticks": ""
             }
            },
            "type": "parcoords"
           }
          ],
          "pie": [
           {
            "automargin": true,
            "type": "pie"
           }
          ],
          "scatter": [
           {
            "fillpattern": {
             "fillmode": "overlay",
             "size": 10,
             "solidity": 0.2
            },
            "type": "scatter"
           }
          ],
          "scatter3d": [
           {
            "line": {
             "colorbar": {
              "outlinewidth": 0,
              "ticks": ""
             }
            },
            "marker": {
             "colorbar": {
              "outlinewidth": 0,
              "ticks": ""
             }
            },
            "type": "scatter3d"
           }
          ],
          "scattercarpet": [
           {
            "marker": {
             "colorbar": {
              "outlinewidth": 0,
              "ticks": ""
             }
            },
            "type": "scattercarpet"
           }
          ],
          "scattergeo": [
           {
            "marker": {
             "colorbar": {
              "outlinewidth": 0,
              "ticks": ""
             }
            },
            "type": "scattergeo"
           }
          ],
          "scattergl": [
           {
            "marker": {
             "colorbar": {
              "outlinewidth": 0,
              "ticks": ""
             }
            },
            "type": "scattergl"
           }
          ],
          "scattermap": [
           {
            "marker": {
             "colorbar": {
              "outlinewidth": 0,
              "ticks": ""
             }
            },
            "type": "scattermap"
           }
          ],
          "scattermapbox": [
           {
            "marker": {
             "colorbar": {
              "outlinewidth": 0,
              "ticks": ""
             }
            },
            "type": "scattermapbox"
           }
          ],
          "scatterpolar": [
           {
            "marker": {
             "colorbar": {
              "outlinewidth": 0,
              "ticks": ""
             }
            },
            "type": "scatterpolar"
           }
          ],
          "scatterpolargl": [
           {
            "marker": {
             "colorbar": {
              "outlinewidth": 0,
              "ticks": ""
             }
            },
            "type": "scatterpolargl"
           }
          ],
          "scatterternary": [
           {
            "marker": {
             "colorbar": {
              "outlinewidth": 0,
              "ticks": ""
             }
            },
            "type": "scatterternary"
           }
          ],
          "surface": [
           {
            "colorbar": {
             "outlinewidth": 0,
             "ticks": ""
            },
            "colorscale": [
             [
              0.0,
              "#0d0887"
             ],
             [
              0.1111111111111111,
              "#46039f"
             ],
             [
              0.2222222222222222,
              "#7201a8"
             ],
             [
              0.3333333333333333,
              "#9c179e"
             ],
             [
              0.4444444444444444,
              "#bd3786"
             ],
             [
              0.5555555555555556,
              "#d8576b"
             ],
             [
              0.6666666666666666,
              "#ed7953"
             ],
             [
              0.7777777777777778,
              "#fb9f3a"
             ],
             [
              0.8888888888888888,
              "#fdca26"
             ],
             [
              1.0,
              "#f0f921"
             ]
            ],
            "type": "surface"
           }
          ],
          "table": [
           {
            "cells": {
             "fill": {
              "color": "#EBF0F8"
             },
             "line": {
              "color": "white"
             }
            },
            "header": {
             "fill": {
              "color": "#C8D4E3"
             },
             "line": {
              "color": "white"
             }
            },
            "type": "table"
           }
          ]
         },
         "layout": {
          "annotationdefaults": {
           "arrowcolor": "#2a3f5f",
           "arrowhead": 0,
           "arrowwidth": 1
          },
          "autotypenumbers": "strict",
          "coloraxis": {
           "colorbar": {
            "outlinewidth": 0,
            "ticks": ""
           }
          },
          "colorscale": {
           "diverging": [
            [
             0,
             "#8e0152"
            ],
            [
             0.1,
             "#c51b7d"
            ],
            [
             0.2,
             "#de77ae"
            ],
            [
             0.3,
             "#f1b6da"
            ],
            [
             0.4,
             "#fde0ef"
            ],
            [
             0.5,
             "#f7f7f7"
            ],
            [
             0.6,
             "#e6f5d0"
            ],
            [
             0.7,
             "#b8e186"
            ],
            [
             0.8,
             "#7fbc41"
            ],
            [
             0.9,
             "#4d9221"
            ],
            [
             1,
             "#276419"
            ]
           ],
           "sequential": [
            [
             0.0,
             "#0d0887"
            ],
            [
             0.1111111111111111,
             "#46039f"
            ],
            [
             0.2222222222222222,
             "#7201a8"
            ],
            [
             0.3333333333333333,
             "#9c179e"
            ],
            [
             0.4444444444444444,
             "#bd3786"
            ],
            [
             0.5555555555555556,
             "#d8576b"
            ],
            [
             0.6666666666666666,
             "#ed7953"
            ],
            [
             0.7777777777777778,
             "#fb9f3a"
            ],
            [
             0.8888888888888888,
             "#fdca26"
            ],
            [
             1.0,
             "#f0f921"
            ]
           ],
           "sequentialminus": [
            [
             0.0,
             "#0d0887"
            ],
            [
             0.1111111111111111,
             "#46039f"
            ],
            [
             0.2222222222222222,
             "#7201a8"
            ],
            [
             0.3333333333333333,
             "#9c179e"
            ],
            [
             0.4444444444444444,
             "#bd3786"
            ],
            [
             0.5555555555555556,
             "#d8576b"
            ],
            [
             0.6666666666666666,
             "#ed7953"
            ],
            [
             0.7777777777777778,
             "#fb9f3a"
            ],
            [
             0.8888888888888888,
             "#fdca26"
            ],
            [
             1.0,
             "#f0f921"
            ]
           ]
          },
          "colorway": [
           "#636efa",
           "#EF553B",
           "#00cc96",
           "#ab63fa",
           "#FFA15A",
           "#19d3f3",
           "#FF6692",
           "#B6E880",
           "#FF97FF",
           "#FECB52"
          ],
          "font": {
           "color": "#2a3f5f"
          },
          "geo": {
           "bgcolor": "white",
           "lakecolor": "white",
           "landcolor": "#E5ECF6",
           "showlakes": true,
           "showland": true,
           "subunitcolor": "white"
          },
          "hoverlabel": {
           "align": "left"
          },
          "hovermode": "closest",
          "mapbox": {
           "style": "light"
          },
          "paper_bgcolor": "white",
          "plot_bgcolor": "#E5ECF6",
          "polar": {
           "angularaxis": {
            "gridcolor": "white",
            "linecolor": "white",
            "ticks": ""
           },
           "bgcolor": "#E5ECF6",
           "radialaxis": {
            "gridcolor": "white",
            "linecolor": "white",
            "ticks": ""
           }
          },
          "scene": {
           "xaxis": {
            "backgroundcolor": "#E5ECF6",
            "gridcolor": "white",
            "gridwidth": 2,
            "linecolor": "white",
            "showbackground": true,
            "ticks": "",
            "zerolinecolor": "white"
           },
           "yaxis": {
            "backgroundcolor": "#E5ECF6",
            "gridcolor": "white",
            "gridwidth": 2,
            "linecolor": "white",
            "showbackground": true,
            "ticks": "",
            "zerolinecolor": "white"
           },
           "zaxis": {
            "backgroundcolor": "#E5ECF6",
            "gridcolor": "white",
            "gridwidth": 2,
            "linecolor": "white",
            "showbackground": true,
            "ticks": "",
            "zerolinecolor": "white"
           }
          },
          "shapedefaults": {
           "line": {
            "color": "#2a3f5f"
           }
          },
          "ternary": {
           "aaxis": {
            "gridcolor": "white",
            "linecolor": "white",
            "ticks": ""
           },
           "baxis": {
            "gridcolor": "white",
            "linecolor": "white",
            "ticks": ""
           },
           "bgcolor": "#E5ECF6",
           "caxis": {
            "gridcolor": "white",
            "linecolor": "white",
            "ticks": ""
           }
          },
          "title": {
           "x": 0.05
          },
          "xaxis": {
           "automargin": true,
           "gridcolor": "white",
           "linecolor": "white",
           "ticks": "",
           "title": {
            "standoff": 15
           },
           "zerolinecolor": "white",
           "zerolinewidth": 2
          },
          "yaxis": {
           "automargin": true,
           "gridcolor": "white",
           "linecolor": "white",
           "ticks": "",
           "title": {
            "standoff": 15
           },
           "zerolinecolor": "white",
           "zerolinewidth": 2
          }
         }
        },
        "title": {
         "font": {
          "size": 16
         },
         "text": "3D Surface Plot of Volatility Surface",
         "x": 0.5,
         "xanchor": "center",
         "y": 0.95,
         "yanchor": "top"
        },
        "width": 800
       }
      }
     },
     "metadata": {},
     "output_type": "display_data"
    }
   ],
   "source": [
    "# Create interactive 3D surface plot using the same DataFrame\n",
    "# The plot allows rotation, zoom, and hover to explore volatility patterns\n",
    "plot_volatility_surface_plot(surface_df, x_axis, y_axis)"
   ]
  },
  {
   "cell_type": "code",
   "execution_count": 8,
   "id": "c92a01e7",
   "metadata": {
    "execution": {
     "iopub.execute_input": "2025-09-18T08:59:24.071162Z",
     "iopub.status.busy": "2025-09-18T08:59:24.070799Z",
     "iopub.status.idle": "2025-09-18T08:59:24.169321Z",
     "shell.execute_reply": "2025-09-18T08:59:24.168765Z"
    },
    "tags": []
   },
   "outputs": [
    {
     "data": {
      "application/vnd.plotly.v1+json": {
       "config": {
        "plotlyServerURL": "https://plot.ly"
       },
       "data": [
        {
         "mode": "lines+markers",
         "name": "2025-02-21",
         "type": "scatter",
         "x": {
          "bdata": "j8L1KFy/XEBWDi2ynT9hQGQ730+NH2RA7FG4HoWPZUBzaJHtfP9mQPp+arx0b2hAgZVDi2zfaUAIrBxaZE9rQEw3iUFgB2xAj8L1KFy/bEDTTWIQWHdtQBfZzvdTL25Anu+nxkufb0ASg8DKoYdwQFYOLbKdP3FAmpmZmZn3cUDdJAaBla9yQGQ730+NH3RA7FG4HoWPdUA=",
          "dtype": "f8"
         },
         "y": {
          "bdata": "AAAAAAAgVECF61G4HuVQQNejcD0KV0tAzczMzMwMSEA9CtejcL1EQOxRuB6Fi0FAuB6F61G4PUBmZmZmZmY6QB+F61G4njlAFK5H4XpUOUDsUbgehWs5QIXrUbgexTlAcT0K16PwOkBmZmZmZmY8QDMzMzMz8z1APQrXo3B9P0A9CtejcH1AQOF6FK5H4UFA4XoUrkchQ0A=",
          "dtype": "f8"
         }
        },
        {
         "mode": "lines+markers",
         "name": "2025-03-21",
         "type": "scatter",
         "x": {
          "bdata": "j8L1KFy/XEBWDi2ynT9hQGQ730+NH2RA7FG4HoWPZUBzaJHtfP9mQPp+arx0b2hAgZVDi2zfaUAIrBxaZE9rQEw3iUFgB2xAj8L1KFy/bEDTTWIQWHdtQBfZzvdTL25Anu+nxkufb0ASg8DKoYdwQFYOLbKdP3FAmpmZmZn3cUDdJAaBla9yQGQ730+NH3RA7FG4HoWPdUA=",
          "dtype": "f8"
         },
         "y": {
          "bdata": "pHA9CtfDUEBxPQrXozBMQJqZmZmZ+UZAZmZmZmZmREApXI/C9ehBQAAAAAAAQD9AexSuR+F6O0CkcD0K1+M4QBSuR+F6FDhAUrgeheuRN0BSuB6F61E3QIXrUbgeRTdApHA9CtejN0DhehSuR2E4QFK4HoXrUTlAmpmZmZlZOkApXI/C9Wg7QHsUrkfhej1A7FG4HoVrP0A=",
          "dtype": "f8"
         }
        },
        {
         "mode": "lines+markers",
         "name": "2025-04-17",
         "type": "scatter",
         "x": {
          "bdata": "j8L1KFy/XEBWDi2ynT9hQGQ730+NH2RA7FG4HoWPZUBzaJHtfP9mQPp+arx0b2hAgZVDi2zfaUAIrBxaZE9rQEw3iUFgB2xAj8L1KFy/bEDTTWIQWHdtQBfZzvdTL25Anu+nxkufb0ASg8DKoYdwQFYOLbKdP3FAmpmZmZn3cUDdJAaBla9yQGQ730+NH3RA7FG4HoWPdUA=",
          "dtype": "f8"
         },
         "y": {
          "bdata": "uB6F61EYTkDhehSuR2FJQB+F61G43kRA16NwPQq3QkDNzMzMzKxAQHE9CtejsD1ArkfhehSuOkDD9Shcj4I4QAAAAAAAwDdAMzMzMzMzN0DXo3A9Ctc2QKRwPQrXozZAH4XrUbieNkC4HoXrUfg2QArXo3A9ijdAAAAAAABAOECF61G4HgU5QOF6FK5HoTpA9ihcj8I1PEA=",
          "dtype": "f8"
         }
        },
        {
         "mode": "lines+markers",
         "name": "2025-05-16",
         "type": "scatter",
         "x": {
          "bdata": "j8L1KFy/XEBWDi2ynT9hQGQ730+NH2RA7FG4HoWPZUBzaJHtfP9mQPp+arx0b2hAgZVDi2zfaUAIrBxaZE9rQEw3iUFgB2xAj8L1KFy/bEDTTWIQWHdtQBfZzvdTL25Anu+nxkufb0ASg8DKoYdwQFYOLbKdP3FAmpmZmZn3cUDdJAaBla9yQGQ730+NH3RA7FG4HoWPdUA=",
          "dtype": "f8"
         },
         "y": {
          "bdata": "FK5H4Xq0S0DXo3A9CndHQB+F61G4fkNAw/UoXI+iQUAUrkfhetQ/QArXo3A9yjxACtejcD1KOkApXI/C9Wg4QPYoXI/CtTdAKVyPwvUoN0DD9Shcj8I2QHsUrkfhejZAAAAAAABANkDXo3A9Clc2QGZmZmZmpjZAXI/C9SgcN0ApXI/C9ag3QGZmZmZm5jhArkfhehQuOkA=",
          "dtype": "f8"
         }
        },
        {
         "mode": "lines+markers",
         "name": "2025-06-20",
         "type": "scatter",
         "x": {
          "bdata": "j8L1KFy/XEBWDi2ynT9hQGQ730+NH2RA7FG4HoWPZUBzaJHtfP9mQPp+arx0b2hAgZVDi2zfaUAIrBxaZE9rQEw3iUFgB2xAj8L1KFy/bEDTTWIQWHdtQBfZzvdTL25Anu+nxkufb0ASg8DKoYdwQFYOLbKdP3FAmpmZmZn3cUDdJAaBla9yQGQ730+NH3RA7FG4HoWPdUA=",
          "dtype": "f8"
         },
         "y": {
          "bdata": "uB6F61G4SUBI4XoUrudFQClcj8L1aEJAcT0K16PQQEC4HoXrUbg+QOxRuB6FKzxAj8L1KFwPOkDsUbgehWs4QArXo3A9yjdAhetRuB5FN0CamZmZmdk2QArXo3A9ijZAKVyPwvUoNkBSuB6F6xE2QK5H4XoULjZAcT0K16NwNkDNzMzMzMw2QHE9CtejsDdAcT0K16OwOEA=",
          "dtype": "f8"
         }
        },
        {
         "mode": "lines+markers",
         "name": "2025-07-18",
         "type": "scatter",
         "x": {
          "bdata": "j8L1KFy/XEBWDi2ynT9hQGQ730+NH2RA7FG4HoWPZUBzaJHtfP9mQPp+arx0b2hAgZVDi2zfaUAIrBxaZE9rQEw3iUFgB2xAj8L1KFy/bEDTTWIQWHdtQBfZzvdTL25Anu+nxkufb0ASg8DKoYdwQFYOLbKdP3FAmpmZmZn3cUDdJAaBla9yQGQ730+NH3RA7FG4HoWPdUA=",
          "dtype": "f8"
         },
         "y": {
          "bdata": "7FG4HoWLSEAAAAAAAABFQK5H4XoUzkFAPQrXo3BdQEDhehSuRyE+QFyPwvUo3DtAuB6F61H4OUB7FK5H4Xo4QOF6FK5H4TdA4XoUrkdhN0C4HoXrUfg2QGZmZmZmpjZAuB6F61E4NkBI4XoUrgc2QEjhehSuBzZA7FG4HoUrNkDsUbgehWs2QJqZmZmZGTdArkfhehTuN0A=",
          "dtype": "f8"
         }
        },
        {
         "mode": "lines+markers",
         "name": "2025-08-15",
         "type": "scatter",
         "x": {
          "bdata": "j8L1KFy/XEBWDi2ynT9hQGQ730+NH2RA7FG4HoWPZUBzaJHtfP9mQPp+arx0b2hAgZVDi2zfaUAIrBxaZE9rQEw3iUFgB2xAj8L1KFy/bEDTTWIQWHdtQBfZzvdTL25Anu+nxkufb0ASg8DKoYdwQFYOLbKdP3FAmpmZmZn3cUDdJAaBla9yQGQ730+NH3RA7FG4HoWPdUA=",
          "dtype": "f8"
         },
         "y": {
          "bdata": "exSuR+GaR0AK16NwPUpEQNejcD0KV0FASOF6FK4HQEAzMzMzM7M9QKRwPQrXoztA7FG4HoXrOUDNzMzMzIw4QD0K16Nw/TdAw/UoXI+CN0Bcj8L1KBw3QEjhehSuxzZAj8L1KFxPNkCPwvUoXA82QD0K16Nw/TVACtejcD0KNkAzMzMzMzM2QLgehetRuDZApHA9CtdjN0A=",
          "dtype": "f8"
         }
        },
        {
         "mode": "lines+markers",
         "name": "2025-09-19",
         "type": "scatter",
         "x": {
          "bdata": "j8L1KFy/XEBWDi2ynT9hQGQ730+NH2RA7FG4HoWPZUBzaJHtfP9mQPp+arx0b2hAgZVDi2zfaUAIrBxaZE9rQEw3iUFgB2xAj8L1KFy/bEDTTWIQWHdtQBfZzvdTL25Anu+nxkufb0ASg8DKoYdwQFYOLbKdP3FAmpmZmZn3cUDdJAaBla9yQGQ730+NH3RA7FG4HoWPdUA=",
          "dtype": "f8"
         },
         "y": {
          "bdata": "CtejcD2qRkD2KFyPwpVDQKRwPQrX40BAKVyPwvVoP0DNzMzMzEw9QDMzMzMzcztAZmZmZmbmOUCkcD0K16M4QB+F61G4HjhA7FG4HoWrN0BI4XoUrkc3QDMzMzMz8zZA9ihcj8J1NkApXI/C9Sg2QIXrUbgeBTZAPQrXo3D9NUCPwvUoXA82QClcj8L1aDZArkfhehTuNkA=",
          "dtype": "f8"
         }
        },
        {
         "mode": "lines+markers",
         "name": "2025-10-17",
         "type": "scatter",
         "x": {
          "bdata": "j8L1KFy/XEBWDi2ynT9hQGQ730+NH2RA7FG4HoWPZUBzaJHtfP9mQPp+arx0b2hAgZVDi2zfaUAIrBxaZE9rQEw3iUFgB2xAj8L1KFy/bEDTTWIQWHdtQBfZzvdTL25Anu+nxkufb0ASg8DKoYdwQFYOLbKdP3FAmpmZmZn3cUDdJAaBla9yQGQ730+NH3RA7FG4HoWPdUA=",
          "dtype": "f8"
         },
         "y": {
          "bdata": "7FG4HoULRkDhehSuRyFDQFyPwvUonEBAhetRuB4FP0DNzMzMzAw9QNejcD0KVztAZmZmZmbmOUC4HoXrUbg4QHsUrkfhOjhACtejcD3KN0DsUbgehWs3QNejcD0KFzdA16NwPQqXNkDD9Shcj0I2QBSuR+F6FDZAAAAAAAAANkBI4XoUrgc2QIXrUbgeRTZArkfhehSuNkA=",
          "dtype": "f8"
         }
        },
        {
         "mode": "lines+markers",
         "name": "2025-12-19",
         "type": "scatter",
         "x": {
          "bdata": "j8L1KFy/XEBWDi2ynT9hQGQ730+NH2RA7FG4HoWPZUBzaJHtfP9mQPp+arx0b2hAgZVDi2zfaUAIrBxaZE9rQEw3iUFgB2xAj8L1KFy/bEDTTWIQWHdtQBfZzvdTL25Anu+nxkufb0ASg8DKoYdwQFYOLbKdP3FAmpmZmZn3cUDdJAaBla9yQGQ730+NH3RA7FG4HoWPdUA=",
          "dtype": "f8"
         },
         "y": {
          "bdata": "MzMzMzPzREC4HoXrUVhCQOF6FK5HIUBAXI/C9ShcPkApXI/C9ag8QHE9CtejMDtArkfhehTuOUCkcD0K1+M4QHE9CtejcDhAzczMzMwMOEBxPQrXo7A3QOF6FK5HYTdA4XoUrkfhNkCF61G4HoU2QIXrUbgeRTZA4XoUrkchNkCPwvUoXA82QB+F61G4HjZAXI/C9ShcNkA=",
          "dtype": "f8"
         }
        },
        {
         "mode": "lines+markers",
         "name": "2026-01-16",
         "type": "scatter",
         "x": {
          "bdata": "j8L1KFy/XEBWDi2ynT9hQGQ730+NH2RA7FG4HoWPZUBzaJHtfP9mQPp+arx0b2hAgZVDi2zfaUAIrBxaZE9rQEw3iUFgB2xAj8L1KFy/bEDTTWIQWHdtQBfZzvdTL25Anu+nxkufb0ASg8DKoYdwQFYOLbKdP3FAmpmZmZn3cUDdJAaBla9yQGQ730+NH3RA7FG4HoWPdUA=",
          "dtype": "f8"
         },
         "y": {
          "bdata": "j8L1KFyPREBSuB6F6xFCQHE9Ctej8D9ApHA9CtcjPkAK16NwPYo8QGZmZmZmJjtA9ihcj8L1OUD2KFyPwvU4QEjhehSuhzhAZmZmZmYmOECPwvUoXM83QAAAAAAAgDdAAAAAAAAAN0DhehSuR6E2QB+F61G4XjZAMzMzMzMzNkBcj8L1KBw2QB+F61G4HjZACtejcD1KNkA=",
          "dtype": "f8"
         }
        },
        {
         "mode": "lines+markers",
         "name": "2026-06-18",
         "type": "scatter",
         "x": {
          "bdata": "j8L1KFy/XEBWDi2ynT9hQGQ730+NH2RA7FG4HoWPZUBzaJHtfP9mQPp+arx0b2hAgZVDi2zfaUAIrBxaZE9rQEw3iUFgB2xAj8L1KFy/bEDTTWIQWHdtQBfZzvdTL25Anu+nxkufb0ASg8DKoYdwQFYOLbKdP3FAmpmZmZn3cUDdJAaBla9yQGQ730+NH3RA7FG4HoWPdUA=",
          "dtype": "f8"
         },
         "y": {
          "bdata": "cT0K16MQQ0DsUbgehQtBQEjhehSuxz5A4XoUrkdhPUCkcD0K1yM8QM3MzMzMDDtAXI/C9SgcOkCPwvUoXE85QDMzMzMz8zhAH4XrUbieOEAUrkfhelQ4QI/C9ShcDzhA16NwPQqXN0D2KFyPwjU3QClcj8L16DZArkfhehSuNkDD9Shcj4I2QI/C9ShcTzZAhetRuB5FNkA=",
          "dtype": "f8"
         }
        },
        {
         "mode": "lines+markers",
         "name": "2026-12-18",
         "type": "scatter",
         "x": {
          "bdata": "j8L1KFy/XEBWDi2ynT9hQGQ730+NH2RA7FG4HoWPZUBzaJHtfP9mQPp+arx0b2hAgZVDi2zfaUAIrBxaZE9rQEw3iUFgB2xAj8L1KFy/bEDTTWIQWHdtQBfZzvdTL25Anu+nxkufb0ASg8DKoYdwQFYOLbKdP3FAmpmZmZn3cUDdJAaBla9yQGQ730+NH3RA7FG4HoWPdUA=",
          "dtype": "f8"
         },
         "y": {
          "bdata": "ZmZmZmYGQkAfhetRuF5AQFK4HoXrET5AMzMzMzPzPEAzMzMzM/M7QBSuR+F6FDtAj8L1KFxPOkCkcD0K16M5QNejcD0KVzlAj8L1KFwPOUDNzMzMzMw4QI/C9ShcjzhA4XoUrkchOECF61G4HsU3QLgehetReDdAuB6F61E4N0CF61G4HgU3QLgehetRuDZAzczMzMyMNkA=",
          "dtype": "f8"
         }
        },
        {
         "mode": "lines+markers",
         "name": "2027-01-15",
         "type": "scatter",
         "x": {
          "bdata": "j8L1KFy/XEBWDi2ynT9hQGQ730+NH2RA7FG4HoWPZUBzaJHtfP9mQPp+arx0b2hAgZVDi2zfaUAIrBxaZE9rQEw3iUFgB2xAj8L1KFy/bEDTTWIQWHdtQBfZzvdTL25Anu+nxkufb0ASg8DKoYdwQFYOLbKdP3FAmpmZmZn3cUDdJAaBla9yQGQ730+NH3RA7FG4HoWPdUA=",
          "dtype": "f8"
         },
         "y": {
          "bdata": "KVyPwvXoQUDNzMzMzExAQAAAAAAAAD5AKVyPwvXoPEBxPQrXo/A7QNejcD0KFztA16NwPQpXOkCuR+F6FK45QKRwPQrXYzlAXI/C9SgcOUBcj8L1KNw4QB+F61G4njhAMzMzMzMzOECamZmZmdk3QM3MzMzMjDdAzczMzMxMN0DXo3A9Chc3QArXo3A9yjZAXI/C9SicNkA=",
          "dtype": "f8"
         }
        }
       ],
       "layout": {
        "autosize": true,
        "dragmode": false,
        "height": 450,
        "legend": {
         "title": {
          "text": "DATE"
         }
        },
        "template": {
         "data": {
          "bar": [
           {
            "error_x": {
             "color": "#2a3f5f"
            },
            "error_y": {
             "color": "#2a3f5f"
            },
            "marker": {
             "line": {
              "color": "white",
              "width": 0.5
             },
             "pattern": {
              "fillmode": "overlay",
              "size": 10,
              "solidity": 0.2
             }
            },
            "type": "bar"
           }
          ],
          "barpolar": [
           {
            "marker": {
             "line": {
              "color": "white",
              "width": 0.5
             },
             "pattern": {
              "fillmode": "overlay",
              "size": 10,
              "solidity": 0.2
             }
            },
            "type": "barpolar"
           }
          ],
          "carpet": [
           {
            "aaxis": {
             "endlinecolor": "#2a3f5f",
             "gridcolor": "#C8D4E3",
             "linecolor": "#C8D4E3",
             "minorgridcolor": "#C8D4E3",
             "startlinecolor": "#2a3f5f"
            },
            "baxis": {
             "endlinecolor": "#2a3f5f",
             "gridcolor": "#C8D4E3",
             "linecolor": "#C8D4E3",
             "minorgridcolor": "#C8D4E3",
             "startlinecolor": "#2a3f5f"
            },
            "type": "carpet"
           }
          ],
          "choropleth": [
           {
            "colorbar": {
             "outlinewidth": 0,
             "ticks": ""
            },
            "type": "choropleth"
           }
          ],
          "contour": [
           {
            "colorbar": {
             "outlinewidth": 0,
             "ticks": ""
            },
            "colorscale": [
             [
              0.0,
              "#0d0887"
             ],
             [
              0.1111111111111111,
              "#46039f"
             ],
             [
              0.2222222222222222,
              "#7201a8"
             ],
             [
              0.3333333333333333,
              "#9c179e"
             ],
             [
              0.4444444444444444,
              "#bd3786"
             ],
             [
              0.5555555555555556,
              "#d8576b"
             ],
             [
              0.6666666666666666,
              "#ed7953"
             ],
             [
              0.7777777777777778,
              "#fb9f3a"
             ],
             [
              0.8888888888888888,
              "#fdca26"
             ],
             [
              1.0,
              "#f0f921"
             ]
            ],
            "type": "contour"
           }
          ],
          "contourcarpet": [
           {
            "colorbar": {
             "outlinewidth": 0,
             "ticks": ""
            },
            "type": "contourcarpet"
           }
          ],
          "heatmap": [
           {
            "colorbar": {
             "outlinewidth": 0,
             "ticks": ""
            },
            "colorscale": [
             [
              0.0,
              "#0d0887"
             ],
             [
              0.1111111111111111,
              "#46039f"
             ],
             [
              0.2222222222222222,
              "#7201a8"
             ],
             [
              0.3333333333333333,
              "#9c179e"
             ],
             [
              0.4444444444444444,
              "#bd3786"
             ],
             [
              0.5555555555555556,
              "#d8576b"
             ],
             [
              0.6666666666666666,
              "#ed7953"
             ],
             [
              0.7777777777777778,
              "#fb9f3a"
             ],
             [
              0.8888888888888888,
              "#fdca26"
             ],
             [
              1.0,
              "#f0f921"
             ]
            ],
            "type": "heatmap"
           }
          ],
          "histogram": [
           {
            "marker": {
             "pattern": {
              "fillmode": "overlay",
              "size": 10,
              "solidity": 0.2
             }
            },
            "type": "histogram"
           }
          ],
          "histogram2d": [
           {
            "colorbar": {
             "outlinewidth": 0,
             "ticks": ""
            },
            "colorscale": [
             [
              0.0,
              "#0d0887"
             ],
             [
              0.1111111111111111,
              "#46039f"
             ],
             [
              0.2222222222222222,
              "#7201a8"
             ],
             [
              0.3333333333333333,
              "#9c179e"
             ],
             [
              0.4444444444444444,
              "#bd3786"
             ],
             [
              0.5555555555555556,
              "#d8576b"
             ],
             [
              0.6666666666666666,
              "#ed7953"
             ],
             [
              0.7777777777777778,
              "#fb9f3a"
             ],
             [
              0.8888888888888888,
              "#fdca26"
             ],
             [
              1.0,
              "#f0f921"
             ]
            ],
            "type": "histogram2d"
           }
          ],
          "histogram2dcontour": [
           {
            "colorbar": {
             "outlinewidth": 0,
             "ticks": ""
            },
            "colorscale": [
             [
              0.0,
              "#0d0887"
             ],
             [
              0.1111111111111111,
              "#46039f"
             ],
             [
              0.2222222222222222,
              "#7201a8"
             ],
             [
              0.3333333333333333,
              "#9c179e"
             ],
             [
              0.4444444444444444,
              "#bd3786"
             ],
             [
              0.5555555555555556,
              "#d8576b"
             ],
             [
              0.6666666666666666,
              "#ed7953"
             ],
             [
              0.7777777777777778,
              "#fb9f3a"
             ],
             [
              0.8888888888888888,
              "#fdca26"
             ],
             [
              1.0,
              "#f0f921"
             ]
            ],
            "type": "histogram2dcontour"
           }
          ],
          "mesh3d": [
           {
            "colorbar": {
             "outlinewidth": 0,
             "ticks": ""
            },
            "type": "mesh3d"
           }
          ],
          "parcoords": [
           {
            "line": {
             "colorbar": {
              "outlinewidth": 0,
              "ticks": ""
             }
            },
            "type": "parcoords"
           }
          ],
          "pie": [
           {
            "automargin": true,
            "type": "pie"
           }
          ],
          "scatter": [
           {
            "fillpattern": {
             "fillmode": "overlay",
             "size": 10,
             "solidity": 0.2
            },
            "type": "scatter"
           }
          ],
          "scatter3d": [
           {
            "line": {
             "colorbar": {
              "outlinewidth": 0,
              "ticks": ""
             }
            },
            "marker": {
             "colorbar": {
              "outlinewidth": 0,
              "ticks": ""
             }
            },
            "type": "scatter3d"
           }
          ],
          "scattercarpet": [
           {
            "marker": {
             "colorbar": {
              "outlinewidth": 0,
              "ticks": ""
             }
            },
            "type": "scattercarpet"
           }
          ],
          "scattergeo": [
           {
            "marker": {
             "colorbar": {
              "outlinewidth": 0,
              "ticks": ""
             }
            },
            "type": "scattergeo"
           }
          ],
          "scattergl": [
           {
            "marker": {
             "colorbar": {
              "outlinewidth": 0,
              "ticks": ""
             }
            },
            "type": "scattergl"
           }
          ],
          "scattermap": [
           {
            "marker": {
             "colorbar": {
              "outlinewidth": 0,
              "ticks": ""
             }
            },
            "type": "scattermap"
           }
          ],
          "scattermapbox": [
           {
            "marker": {
             "colorbar": {
              "outlinewidth": 0,
              "ticks": ""
             }
            },
            "type": "scattermapbox"
           }
          ],
          "scatterpolar": [
           {
            "marker": {
             "colorbar": {
              "outlinewidth": 0,
              "ticks": ""
             }
            },
            "type": "scatterpolar"
           }
          ],
          "scatterpolargl": [
           {
            "marker": {
             "colorbar": {
              "outlinewidth": 0,
              "ticks": ""
             }
            },
            "type": "scatterpolargl"
           }
          ],
          "scatterternary": [
           {
            "marker": {
             "colorbar": {
              "outlinewidth": 0,
              "ticks": ""
             }
            },
            "type": "scatterternary"
           }
          ],
          "surface": [
           {
            "colorbar": {
             "outlinewidth": 0,
             "ticks": ""
            },
            "colorscale": [
             [
              0.0,
              "#0d0887"
             ],
             [
              0.1111111111111111,
              "#46039f"
             ],
             [
              0.2222222222222222,
              "#7201a8"
             ],
             [
              0.3333333333333333,
              "#9c179e"
             ],
             [
              0.4444444444444444,
              "#bd3786"
             ],
             [
              0.5555555555555556,
              "#d8576b"
             ],
             [
              0.6666666666666666,
              "#ed7953"
             ],
             [
              0.7777777777777778,
              "#fb9f3a"
             ],
             [
              0.8888888888888888,
              "#fdca26"
             ],
             [
              1.0,
              "#f0f921"
             ]
            ],
            "type": "surface"
           }
          ],
          "table": [
           {
            "cells": {
             "fill": {
              "color": "#EBF0F8"
             },
             "line": {
              "color": "white"
             }
            },
            "header": {
             "fill": {
              "color": "#C8D4E3"
             },
             "line": {
              "color": "white"
             }
            },
            "type": "table"
           }
          ]
         },
         "layout": {
          "annotationdefaults": {
           "arrowcolor": "#2a3f5f",
           "arrowhead": 0,
           "arrowwidth": 1
          },
          "autotypenumbers": "strict",
          "coloraxis": {
           "colorbar": {
            "outlinewidth": 0,
            "ticks": ""
           }
          },
          "colorscale": {
           "diverging": [
            [
             0,
             "#8e0152"
            ],
            [
             0.1,
             "#c51b7d"
            ],
            [
             0.2,
             "#de77ae"
            ],
            [
             0.3,
             "#f1b6da"
            ],
            [
             0.4,
             "#fde0ef"
            ],
            [
             0.5,
             "#f7f7f7"
            ],
            [
             0.6,
             "#e6f5d0"
            ],
            [
             0.7,
             "#b8e186"
            ],
            [
             0.8,
             "#7fbc41"
            ],
            [
             0.9,
             "#4d9221"
            ],
            [
             1,
             "#276419"
            ]
           ],
           "sequential": [
            [
             0.0,
             "#0d0887"
            ],
            [
             0.1111111111111111,
             "#46039f"
            ],
            [
             0.2222222222222222,
             "#7201a8"
            ],
            [
             0.3333333333333333,
             "#9c179e"
            ],
            [
             0.4444444444444444,
             "#bd3786"
            ],
            [
             0.5555555555555556,
             "#d8576b"
            ],
            [
             0.6666666666666666,
             "#ed7953"
            ],
            [
             0.7777777777777778,
             "#fb9f3a"
            ],
            [
             0.8888888888888888,
             "#fdca26"
            ],
            [
             1.0,
             "#f0f921"
            ]
           ],
           "sequentialminus": [
            [
             0.0,
             "#0d0887"
            ],
            [
             0.1111111111111111,
             "#46039f"
            ],
            [
             0.2222222222222222,
             "#7201a8"
            ],
            [
             0.3333333333333333,
             "#9c179e"
            ],
            [
             0.4444444444444444,
             "#bd3786"
            ],
            [
             0.5555555555555556,
             "#d8576b"
            ],
            [
             0.6666666666666666,
             "#ed7953"
            ],
            [
             0.7777777777777778,
             "#fb9f3a"
            ],
            [
             0.8888888888888888,
             "#fdca26"
            ],
            [
             1.0,
             "#f0f921"
            ]
           ]
          },
          "colorway": [
           "#636efa",
           "#EF553B",
           "#00cc96",
           "#ab63fa",
           "#FFA15A",
           "#19d3f3",
           "#FF6692",
           "#B6E880",
           "#FF97FF",
           "#FECB52"
          ],
          "font": {
           "color": "#2a3f5f"
          },
          "geo": {
           "bgcolor": "white",
           "lakecolor": "white",
           "landcolor": "white",
           "showlakes": true,
           "showland": true,
           "subunitcolor": "#C8D4E3"
          },
          "hoverlabel": {
           "align": "left"
          },
          "hovermode": "closest",
          "mapbox": {
           "style": "light"
          },
          "paper_bgcolor": "white",
          "plot_bgcolor": "white",
          "polar": {
           "angularaxis": {
            "gridcolor": "#EBF0F8",
            "linecolor": "#EBF0F8",
            "ticks": ""
           },
           "bgcolor": "white",
           "radialaxis": {
            "gridcolor": "#EBF0F8",
            "linecolor": "#EBF0F8",
            "ticks": ""
           }
          },
          "scene": {
           "xaxis": {
            "backgroundcolor": "white",
            "gridcolor": "#DFE8F3",
            "gridwidth": 2,
            "linecolor": "#EBF0F8",
            "showbackground": true,
            "ticks": "",
            "zerolinecolor": "#EBF0F8"
           },
           "yaxis": {
            "backgroundcolor": "white",
            "gridcolor": "#DFE8F3",
            "gridwidth": 2,
            "linecolor": "#EBF0F8",
            "showbackground": true,
            "ticks": "",
            "zerolinecolor": "#EBF0F8"
           },
           "zaxis": {
            "backgroundcolor": "white",
            "gridcolor": "#DFE8F3",
            "gridwidth": 2,
            "linecolor": "#EBF0F8",
            "showbackground": true,
            "ticks": "",
            "zerolinecolor": "#EBF0F8"
           }
          },
          "shapedefaults": {
           "line": {
            "color": "#2a3f5f"
           }
          },
          "ternary": {
           "aaxis": {
            "gridcolor": "#DFE8F3",
            "linecolor": "#A2B1C6",
            "ticks": ""
           },
           "baxis": {
            "gridcolor": "#DFE8F3",
            "linecolor": "#A2B1C6",
            "ticks": ""
           },
           "bgcolor": "white",
           "caxis": {
            "gridcolor": "#DFE8F3",
            "linecolor": "#A2B1C6",
            "ticks": ""
           }
          },
          "title": {
           "x": 0.05
          },
          "xaxis": {
           "automargin": true,
           "gridcolor": "#EBF0F8",
           "linecolor": "#EBF0F8",
           "ticks": "",
           "title": {
            "standoff": 15
           },
           "zerolinecolor": "#EBF0F8",
           "zerolinewidth": 2
          },
          "yaxis": {
           "automargin": true,
           "gridcolor": "#EBF0F8",
           "linecolor": "#EBF0F8",
           "ticks": "",
           "title": {
            "standoff": 15
           },
           "zerolinecolor": "#EBF0F8",
           "zerolinewidth": 2
          }
         }
        },
        "title": {
         "font": {
          "size": 16
         },
         "text": "Surface Smile by Expiry",
         "x": 0.5,
         "xanchor": "center",
         "y": 0.95,
         "yanchor": "top"
        },
        "width": 800,
        "xaxis": {
         "title": {
          "text": "STRIKE"
         }
        },
        "yaxis": {
         "title": {
          "text": "Volatility"
         }
        }
       }
      }
     },
     "metadata": {},
     "output_type": "display_data"
    }
   ],
   "source": [
    "# Plot individual volatility smiles for each expiration date\n",
    "# Each line represents one expiry, showing how volatility changes with strike\n",
    "# Useful for analyzing:\n",
    "# - Volatility skew (asymmetry around ATM)  \n",
    "# - Term structure (how smiles change over time)\n",
    "# - ATM volatility levels across expiries\n",
    "\n",
    "plot_surface_smile_by_expiry(surface_df, x_axis, y_axis)"
   ]
  },
  {
   "cell_type": "markdown",
   "id": "7da5a28b",
   "metadata": {},
   "source": [
    "## Save and Export"
   ]
  },
  {
   "cell_type": "markdown",
   "id": "d2e1e554",
   "metadata": {},
   "source": [
    "After generating volatility surface data and visualizations, you can export the results for further analysis, reporting, or integration with other systems:\n",
    "\n",
    "**Export Options:**\n",
    "- **Excel Format** - Save the structured DataFrame for spreadsheet analysis and sharing\n",
    "- **JSON Format** - Export the complete API response for integration with other applications"
   ]
  },
  {
   "cell_type": "code",
   "execution_count": 9,
   "id": "e85a8da3",
   "metadata": {
    "execution": {
     "iopub.execute_input": "2025-09-18T08:59:24.171477Z",
     "iopub.status.busy": "2025-09-18T08:59:24.171200Z",
     "iopub.status.idle": "2025-09-18T08:59:26.218717Z",
     "shell.execute_reply": "2025-09-18T08:59:26.218085Z"
    },
    "tags": []
   },
   "outputs": [
    {
     "name": "stdout",
     "output_type": "stream",
     "text": [
      "Files saved: volatility_surface_20250918_085924.xlsx, response_20250918_085924.json\n"
     ]
    }
   ],
   "source": [
    "# Create filenames with timestamp\n",
    "timestamp = dt.datetime.now().strftime(\"%Y%m%d_%H%M%S\")\n",
    "excel_filename = f\"volatility_surface_{timestamp}.xlsx\"\n",
    "json_filename = f\"response_{timestamp}.json\"\n",
    "\n",
    "# Save DataFrame to Excel\n",
    "surface_df.to_excel(excel_filename, index=False)\n",
    "\n",
    "# Save response to JSON\n",
    "with open(json_filename, 'w') as f:\n",
    "    json.dump(dict(response), f, indent=2, default=str)\n",
    "\n",
    "print(f\"Files saved: {excel_filename}, {json_filename}\")"
   ]
  },
  {
   "cell_type": "markdown",
   "id": "9a6b301e-e561-4ef6-b7e0-31d0c3c791ff",
   "metadata": {},
   "source": [
    "## Appendix: Complete Function Reference"
   ]
  },
  {
   "cell_type": "markdown",
   "id": "2ff77ad3-3429-4b8e-8f82-b38bbb2e6c93",
   "metadata": {},
   "source": [
    "### Available Classes and Functions in eq_volatility Module\n",
    "\n",
    "The following is a complete list of all classes, enums, and functions available after importing from `lseg_analytics.market_data.eq_volatility`:\n",
    "\n",
    "**Core Classes:**\n",
    "- `EtiSurfaceDefinition` - Define underlying instrument specifications\n",
    "- `EtiSurfaceParameters` - Configure volatility model parameters and settings\n",
    "- `EtiVolatilitySurfaceRequestItem` - Main request object for surface calculation\n",
    "- `SurfaceFilters` - Apply filters to surface data (staleness, etc.)\n",
    "- `MoneynessWeight` - Configure weighting for different moneyness levels\n",
    "\n",
    "**Response Classes:**\n",
    "- `VolatilitySurfaceResponse` - Main response container\n",
    "- `VolatilitySurfaceResponseItem` - Individual surface response\n",
    "- `VolatilitySurfacePoint` - Individual volatility data point\n",
    "- `SurfaceOutput` - Output configuration and formatting\n",
    "\n",
    "**Configuration Enums:**\n",
    "- `CurvesAndSurfacesVolatilityModelEnum` - Volatility models (SSVI, SABR, SVI, etc.)\n",
    "- `InputVolatilityTypeEnum` - Input volatility types (IMPLIED, LOG_NORMAL, etc.)\n",
    "- `MoneynessTypeEnum` - Moneyness calculation methods (SPOT, DELTA, STRIKE, etc.)\n",
    "- `CurvesAndSurfacesPriceSideEnum` - Price side selection (BID, ASK, MID)\n",
    "- `CurvesAndSurfacesTimeStampEnum` - Time stamp options (CLOSE, OPEN, DEFAULT, etc.)\n",
    "- `XAxisEnum` & `YAxisEnum` - Surface layout axis configuration\n",
    "\n",
    "**Filter Classes:**\n",
    "- `MaturityFilter` - Filter by option maturity\n",
    "- `StrikeFilter` & `StrikeFilterRange` - Filter by strike prices\n",
    "\n",
    "**Main Functions:**\n",
    "- `calculate()` - Execute volatility surface calculations\n",
    "- `functions_all` - List all available functions"
   ]
  }
 ],
 "metadata": {
  "kernelspec": {
   "display_name": "jupyterlab-ext",
   "language": "python",
   "name": "python3"
  },
  "language_info": {
   "codemirror_mode": {
    "name": "ipython",
    "version": 3
   },
   "file_extension": ".py",
   "mimetype": "text/x-python",
   "name": "python",
   "nbconvert_exporter": "python",
   "pygments_lexer": "ipython3",
   "version": "3.11.6"
  }
 },
 "nbformat": 4,
 "nbformat_minor": 5
}
