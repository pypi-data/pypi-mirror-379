{
 "cells": [
  {
   "cell_type": "markdown",
   "metadata": {
    "tags": [
     "ide-samples-no-python"
    ]
   },
   "source": [
    "# FX Forward Curves Fundamentals"
   ]
  },
  {
   "cell_type": "markdown",
   "metadata": {},
   "source": [
    "## Namespaces\n",
    "\n",
    "You can use namespaces in your Python by importing the necessary modules."
   ]
  },
  {
   "cell_type": "code",
   "execution_count": 1,
   "metadata": {
    "execution": {
     "iopub.execute_input": "2025-09-18T08:59:34.190001Z",
     "iopub.status.busy": "2025-09-18T08:59:34.189345Z",
     "iopub.status.idle": "2025-09-18T08:59:34.567373Z",
     "shell.execute_reply": "2025-09-18T08:59:34.566840Z"
    }
   },
   "outputs": [],
   "source": [
    "import datetime\n",
    "\n",
    "from lseg_analytics.common import Description, TenorType, Quote, QuoteDefinition\n",
    "\n",
    "from lseg_analytics.market_data.fx_forward_curves import (\n",
    "    DepositFxConstituent,\n",
    "    DepositConstituentDefinition,\n",
    "    CurrencyBasisSwapConstituent,\n",
    "    CurrencyBasisSwapConstituentDefinition,\n",
    "    FxForwardConstituent,\n",
    "    FxSpotConstituentDefinition,\n",
    "    FxForwardConstituentDefinition,\n",
    "    FxSpotConstituent,\n",
    "    IndirectSourcesDeposits,\n",
    "    IndirectSourcesSwaps,\n",
    "    FxForwardCurve,\n",
    "    FxForwardCurveDefinition,\n",
    "    delete,\n",
    "    load,\n",
    "    search,\n",
    ")"
   ]
  },
  {
   "cell_type": "markdown",
   "metadata": {},
   "source": [
    "You can import api modules using their original names:"
   ]
  },
  {
   "cell_type": "code",
   "execution_count": 2,
   "metadata": {
    "execution": {
     "iopub.execute_input": "2025-09-18T08:59:34.571915Z",
     "iopub.status.busy": "2025-09-18T08:59:34.569874Z",
     "iopub.status.idle": "2025-09-18T08:59:34.576584Z",
     "shell.execute_reply": "2025-09-18T08:59:34.576139Z"
    }
   },
   "outputs": [
    {
     "data": {
      "text/plain": [
       "'lseg_analytics.market_data.fx_forward_curves'"
      ]
     },
     "execution_count": 2,
     "metadata": {},
     "output_type": "execute_result"
    }
   ],
   "source": [
    "from lseg_analytics.market_data import fx_forward_curves\n",
    "\n",
    "fx_forward_curves.__name__"
   ]
  },
  {
   "cell_type": "markdown",
   "metadata": {},
   "source": [
    "Or you can import them using an alias to prevent name conflicts:"
   ]
  },
  {
   "cell_type": "code",
   "execution_count": 3,
   "metadata": {
    "execution": {
     "iopub.execute_input": "2025-09-18T08:59:34.578859Z",
     "iopub.status.busy": "2025-09-18T08:59:34.578411Z",
     "iopub.status.idle": "2025-09-18T08:59:34.582344Z",
     "shell.execute_reply": "2025-09-18T08:59:34.581795Z"
    }
   },
   "outputs": [
    {
     "data": {
      "text/plain": [
       "(lseg_analytics.market_data.fx_forward_curves._fx_forward_curve.FxForwardCurve,\n",
       " <function lseg_analytics.market_data.fx_forward_curves._functions.load(*, resource_id: Optional[str] = None, name: Optional[str] = None, space: Optional[str] = None)>)"
      ]
     },
     "execution_count": 3,
     "metadata": {},
     "output_type": "execute_result"
    }
   ],
   "source": [
    "from lseg_analytics.market_data import fx_forward_curves as ffc\n",
    "\n",
    "ffc.FxForwardCurve, ffc.load"
   ]
  },
  {
   "cell_type": "markdown",
   "metadata": {},
   "source": [
    "## Constructors\n",
    "\n",
    "Each object might have the following parameters:\n",
    "\n",
    "- A definition containing information that *defines* a resource, used to build the resource object itself.\n",
    "- A description containing information that *describes* a resource, for example a summary and/or tags.\n",
    "\n",
    "The definition is mandatory while description is optional.\n"
   ]
  },
  {
   "cell_type": "markdown",
   "metadata": {},
   "source": [
    "### Definition\n",
    "\n",
    "You can construct objects in more than one way. \n",
    "\n",
    "In this case, define the FxForwardCurve with a simple 'definition':"
   ]
  },
  {
   "cell_type": "code",
   "execution_count": 4,
   "metadata": {
    "execution": {
     "iopub.execute_input": "2025-09-18T08:59:34.584305Z",
     "iopub.status.busy": "2025-09-18T08:59:34.584129Z",
     "iopub.status.idle": "2025-09-18T08:59:34.589900Z",
     "shell.execute_reply": "2025-09-18T08:59:34.589285Z"
    }
   },
   "outputs": [
    {
     "data": {
      "text/plain": [
       "<FxForwardCurve space=None name='' unsaved>"
      ]
     },
     "execution_count": 4,
     "metadata": {},
     "output_type": "execute_result"
    }
   ],
   "source": [
    "# Create a FxForwardCurve instance.\n",
    "new_curve = FxForwardCurve(\n",
    "    FxForwardCurveDefinition(\n",
    "        cross_currency=\"USDJPY\", reference_currency=\"JPY\"\n",
    "    )\n",
    ")\n",
    "\n",
    "new_curve"
   ]
  },
  {
   "cell_type": "markdown",
   "metadata": {},
   "source": [
    "### Description\n",
    "\n",
    "You can add the description later:"
   ]
  },
  {
   "cell_type": "code",
   "execution_count": 5,
   "metadata": {
    "execution": {
     "iopub.execute_input": "2025-09-18T08:59:34.592088Z",
     "iopub.status.busy": "2025-09-18T08:59:34.591907Z",
     "iopub.status.idle": "2025-09-18T08:59:34.596247Z",
     "shell.execute_reply": "2025-09-18T08:59:34.595587Z"
    }
   },
   "outputs": [
    {
     "data": {
      "text/plain": [
       "'New curve'"
      ]
     },
     "execution_count": 5,
     "metadata": {},
     "output_type": "execute_result"
    }
   ],
   "source": [
    "new_curve.description.summary=\"New curve\"\n",
    "\n",
    "new_curve.description.summary"
   ]
  },
  {
   "cell_type": "markdown",
   "metadata": {},
   "source": [
    "## Builders\n",
    "\n",
    "Curves can have a large number of parameters to enable them to cover many use cases. This provides flexibility, but makes curve creation complex.\n",
    "\n",
    "The platform provides dedicated endpoints to create curves for specific use cases, allowing creation using only the parameters necessary for that use.\n",
    "\n",
    "These endpoints are exposed as functions."
   ]
  },
  {
   "cell_type": "markdown",
   "metadata": {},
   "source": [
    "### Create FxForwardCurve from scratch.\n",
    "This example creates a FX forward curve without using one of the dedicated functions."
   ]
  },
  {
   "cell_type": "code",
   "execution_count": 6,
   "metadata": {
    "execution": {
     "iopub.execute_input": "2025-09-18T08:59:34.598701Z",
     "iopub.status.busy": "2025-09-18T08:59:34.598313Z",
     "iopub.status.idle": "2025-09-18T08:59:34.608420Z",
     "shell.execute_reply": "2025-09-18T08:59:34.607875Z"
    }
   },
   "outputs": [
    {
     "data": {
      "text/plain": [
       "<FxForwardCurve space=None name='' unsaved>"
      ]
     },
     "execution_count": 6,
     "metadata": {},
     "output_type": "execute_result"
    }
   ],
   "source": [
    "curve_from_scratch = FxForwardCurve(\n",
    "    description=Description(summary=\"My FX Forward Curve\", tags=[\"tag1\", \"tag2\"]),\n",
    "    definition=FxForwardCurveDefinition(\n",
    "        cross_currency=\"EURCHF\",\n",
    "        reference_currency=\"TRY\",\n",
    "        constituents=[\n",
    "            FxSpotConstituent(\n",
    "                quote=Quote(definition=QuoteDefinition(instrument_code=\"TRY=\")),\n",
    "                definition=FxSpotConstituentDefinition(template=\"USDEUR\"),\n",
    "            ),\n",
    "            FxForwardConstituent(\n",
    "                definition=FxForwardConstituentDefinition(template=\"USDEUR\"),\n",
    "            ),\n",
    "            CurrencyBasisSwapConstituent(\n",
    "                definition=CurrencyBasisSwapConstituentDefinition(\n",
    "                    template=\"USDEUR\", tenor=\"1W\"\n",
    "                ),\n",
    "            ),\n",
    "            DepositFxConstituent(\n",
    "                definition=DepositConstituentDefinition(\n",
    "                    tenor=\"1D\", template=\"USDEUR\"\n",
    "                )\n",
    "            ),\n",
    "        ],\n",
    "    ),\n",
    ")\n",
    "\n",
    "curve_from_scratch"
   ]
  },
  {
   "cell_type": "markdown",
   "metadata": {},
   "source": [
    "### Create definition from FXForwards\n",
    "This example creates a curve from FXForwards."
   ]
  },
  {
   "cell_type": "code",
   "execution_count": 7,
   "metadata": {
    "execution": {
     "iopub.execute_input": "2025-09-18T08:59:34.611233Z",
     "iopub.status.busy": "2025-09-18T08:59:34.610826Z",
     "iopub.status.idle": "2025-09-18T08:59:35.118302Z",
     "shell.execute_reply": "2025-09-18T08:59:35.117634Z"
    }
   },
   "outputs": [
    {
     "data": {
      "text/plain": [
       "<FxForwardCurve space=None name='' unsaved>"
      ]
     },
     "execution_count": 7,
     "metadata": {},
     "output_type": "execute_result"
    }
   ],
   "source": [
    "from_fx_forwards = fx_forward_curves.create_from_fx_forwards(\n",
    "            cross_currency=\"EURGBP\",\n",
    "            reference_currency=\"USD\",\n",
    "            sources=IndirectSourcesSwaps(base_fx_forwards=\"RFB\"),\n",
    "            additional_tenor_types=[TenorType.LONG, TenorType.END_OF_MONTH],\n",
    "        )\n",
    "\n",
    "from_fx_forwards"
   ]
  },
  {
   "cell_type": "markdown",
   "metadata": {},
   "source": [
    "### Create definition from deposits\n",
    "This example creates a curve from Deposits."
   ]
  },
  {
   "cell_type": "code",
   "execution_count": 8,
   "metadata": {
    "execution": {
     "iopub.execute_input": "2025-09-18T08:59:35.121423Z",
     "iopub.status.busy": "2025-09-18T08:59:35.121019Z",
     "iopub.status.idle": "2025-09-18T08:59:35.312363Z",
     "shell.execute_reply": "2025-09-18T08:59:35.311851Z"
    }
   },
   "outputs": [
    {
     "data": {
      "text/plain": [
       "<FxForwardCurve space=None name='' unsaved>"
      ]
     },
     "execution_count": 8,
     "metadata": {},
     "output_type": "execute_result"
    }
   ],
   "source": [
    "from_deposits = fx_forward_curves.create_from_deposits(\n",
    "            cross_currency=\"EURGBP\",\n",
    "            additional_tenor_types=[TenorType.LONG, TenorType.END_OF_MONTH],\n",
    "        )\n",
    "\n",
    "from_deposits"
   ]
  },
  {
   "cell_type": "markdown",
   "metadata": {},
   "source": [
    "## Save\n",
    "This example illustrates how you can save a curve to a space.\n"
   ]
  },
  {
   "cell_type": "code",
   "execution_count": 9,
   "metadata": {
    "execution": {
     "iopub.execute_input": "2025-09-18T08:59:35.315002Z",
     "iopub.status.busy": "2025-09-18T08:59:35.314629Z",
     "iopub.status.idle": "2025-09-18T08:59:35.318535Z",
     "shell.execute_reply": "2025-09-18T08:59:35.318087Z"
    }
   },
   "outputs": [
    {
     "data": {
      "text/plain": [
       "<FxForwardCurve space=None name='' unsaved>"
      ]
     },
     "execution_count": 9,
     "metadata": {},
     "output_type": "execute_result"
    }
   ],
   "source": [
    "from os import name\n",
    "\n",
    "\n",
    "curve = FxForwardCurve(\n",
    "    definition=from_fx_forwards.definition,\n",
    "    description=Description(summary=\"EURGBP Fx Forward Curve via USD\", tags=[\"EURGBP\", \"EUR\", \"GBP\", \"FxCurve\"]),\n",
    ")\n",
    "\n",
    "curve"
   ]
  },
  {
   "cell_type": "code",
   "execution_count": 10,
   "metadata": {
    "execution": {
     "iopub.execute_input": "2025-09-18T08:59:35.320804Z",
     "iopub.status.busy": "2025-09-18T08:59:35.320495Z",
     "iopub.status.idle": "2025-09-18T08:59:35.610298Z",
     "shell.execute_reply": "2025-09-18T08:59:35.609628Z"
    }
   },
   "outputs": [
    {
     "data": {
      "text/plain": [
       "True"
      ]
     },
     "execution_count": 10,
     "metadata": {},
     "output_type": "execute_result"
    }
   ],
   "source": [
    "curve.save(name=\"EURGBP_Fx_Forward_Curve\", space=\"HOME\")"
   ]
  },
  {
   "cell_type": "markdown",
   "metadata": {},
   "source": [
    "## Clone\n",
    "\n",
    "Clone the existing instance on definition and description."
   ]
  },
  {
   "cell_type": "code",
   "execution_count": 11,
   "metadata": {
    "execution": {
     "iopub.execute_input": "2025-09-18T08:59:35.613260Z",
     "iopub.status.busy": "2025-09-18T08:59:35.612806Z",
     "iopub.status.idle": "2025-09-18T08:59:35.994690Z",
     "shell.execute_reply": "2025-09-18T08:59:35.994070Z"
    }
   },
   "outputs": [
    {
     "name": "stdout",
     "output_type": "stream",
     "text": [
      "Curve_id: 313bb17a-bb01-4fea-a6dc-0e39bdf19672\n",
      "Cloned_fx_forwards_id: 22445ccd-6db2-4960-a37e-bf52fa7ebc0a\n"
     ]
    },
    {
     "data": {
      "text/plain": [
       "True"
      ]
     },
     "execution_count": 11,
     "metadata": {},
     "output_type": "execute_result"
    }
   ],
   "source": [
    "cloned_fx_forward = curve.clone()\n",
    "cloned_fx_forward.save(name=\"my_saved_curve2\", space=\"HOME\")\n",
    "\n",
    "print(f\"Curve_id: {curve.id}\")\n",
    "print(f\"Cloned_fx_forwards_id: {cloned_fx_forward.id}\")\n",
    "\n",
    "delete(resource_id=cloned_fx_forward.id)"
   ]
  },
  {
   "cell_type": "markdown",
   "metadata": {},
   "source": [
    "## Location\n",
    "\n",
    "Name and space are location attributes, which are automatically set when a resource object is saved for the first time.\n",
    "\n",
    "Unsaved resources have thier name and space set to None.\n",
    "\n",
    "Location attributes are read-only."
   ]
  },
  {
   "cell_type": "code",
   "execution_count": 12,
   "metadata": {
    "execution": {
     "iopub.execute_input": "2025-09-18T08:59:35.996914Z",
     "iopub.status.busy": "2025-09-18T08:59:35.996704Z",
     "iopub.status.idle": "2025-09-18T08:59:36.000343Z",
     "shell.execute_reply": "2025-09-18T08:59:35.999725Z"
    }
   },
   "outputs": [
    {
     "name": "stdout",
     "output_type": "stream",
     "text": [
      "Curve name: EURGBP_Fx_Forward_Curve\n",
      "Curve space: HOME\n"
     ]
    }
   ],
   "source": [
    "print(f\"Curve name: {curve.location.name}\")\n",
    "print(f\"Curve space: {curve.location.space}\")"
   ]
  },
  {
   "cell_type": "markdown",
   "metadata": {},
   "source": [
    "## Resource ID\n",
    "\n",
    "A resource ID is the unique resource identifier for an object on the platform.\n",
    "\n",
    "The resource ID is created on saving.\n",
    "\n",
    "IDs are read-only."
   ]
  },
  {
   "cell_type": "code",
   "execution_count": 13,
   "metadata": {
    "execution": {
     "iopub.execute_input": "2025-09-18T08:59:36.002650Z",
     "iopub.status.busy": "2025-09-18T08:59:36.002193Z",
     "iopub.status.idle": "2025-09-18T08:59:36.006094Z",
     "shell.execute_reply": "2025-09-18T08:59:36.005477Z"
    }
   },
   "outputs": [
    {
     "data": {
      "text/plain": [
       "'313bb17a-bb01-4fea-a6dc-0e39bdf19672'"
      ]
     },
     "execution_count": 13,
     "metadata": {},
     "output_type": "execute_result"
    }
   ],
   "source": [
    "curve_id = curve.id\n",
    "\n",
    "curve_id"
   ]
  },
  {
   "cell_type": "markdown",
   "metadata": {},
   "source": [
    "## Load\n",
    "\n",
    "Previously saved resources can be loaded in either by name or by ID."
   ]
  },
  {
   "cell_type": "markdown",
   "metadata": {},
   "source": [
    "### By name"
   ]
  },
  {
   "cell_type": "code",
   "execution_count": 14,
   "metadata": {
    "execution": {
     "iopub.execute_input": "2025-09-18T08:59:36.008330Z",
     "iopub.status.busy": "2025-09-18T08:59:36.007867Z",
     "iopub.status.idle": "2025-09-18T08:59:36.260400Z",
     "shell.execute_reply": "2025-09-18T08:59:36.259972Z"
    }
   },
   "outputs": [
    {
     "data": {
      "text/plain": [
       "<FxForwardCurve space='HOME' name='EURGBP_Fx_Forward_Curve' 313bb17a‥>"
      ]
     },
     "execution_count": 14,
     "metadata": {},
     "output_type": "execute_result"
    }
   ],
   "source": [
    "loaded_by_name_curve = load(name=\"EURGBP_Fx_Forward_Curve\")\n",
    "loaded_by_name_curve"
   ]
  },
  {
   "cell_type": "markdown",
   "metadata": {},
   "source": [
    "### By ID"
   ]
  },
  {
   "cell_type": "code",
   "execution_count": 15,
   "metadata": {
    "execution": {
     "iopub.execute_input": "2025-09-18T08:59:36.262566Z",
     "iopub.status.busy": "2025-09-18T08:59:36.262220Z",
     "iopub.status.idle": "2025-09-18T08:59:36.393558Z",
     "shell.execute_reply": "2025-09-18T08:59:36.392982Z"
    }
   },
   "outputs": [
    {
     "data": {
      "text/plain": [
       "<FxForwardCurve space='HOME' name='EURGBP_Fx_Forward_Curve' 313bb17a‥>"
      ]
     },
     "execution_count": 15,
     "metadata": {},
     "output_type": "execute_result"
    }
   ],
   "source": [
    "loaded_by_id_curve = load(resource_id=curve_id)\n",
    "loaded_by_id_curve"
   ]
  },
  {
   "cell_type": "markdown",
   "metadata": {},
   "source": [
    "Space is optional, but crucial if you need to have resources with the same name in different spaces:"
   ]
  },
  {
   "cell_type": "code",
   "execution_count": 16,
   "metadata": {
    "execution": {
     "iopub.execute_input": "2025-09-18T08:59:36.396160Z",
     "iopub.status.busy": "2025-09-18T08:59:36.395702Z",
     "iopub.status.idle": "2025-09-18T08:59:36.650394Z",
     "shell.execute_reply": "2025-09-18T08:59:36.649866Z"
    }
   },
   "outputs": [
    {
     "data": {
      "text/plain": [
       "<FxForwardCurve space='HOME' name='EURGBP_Fx_Forward_Curve' 313bb17a‥>"
      ]
     },
     "execution_count": 16,
     "metadata": {},
     "output_type": "execute_result"
    }
   ],
   "source": [
    "loaded_by_name_and_space_curve = load(name=\"EURGBP_Fx_Forward_Curve\", space=\"HOME\")\n",
    "loaded_by_name_and_space_curve"
   ]
  },
  {
   "cell_type": "markdown",
   "metadata": {},
   "source": [
    "## Search\n",
    "\n",
    "You can search for previously saved curves using the following techniques."
   ]
  },
  {
   "cell_type": "markdown",
   "metadata": {},
   "source": [
    "### Search for all curves"
   ]
  },
  {
   "cell_type": "code",
   "execution_count": 17,
   "metadata": {
    "execution": {
     "iopub.execute_input": "2025-09-18T08:59:36.653203Z",
     "iopub.status.busy": "2025-09-18T08:59:36.652788Z",
     "iopub.status.idle": "2025-09-18T08:59:36.790991Z",
     "shell.execute_reply": "2025-09-18T08:59:36.790474Z"
    }
   },
   "outputs": [
    {
     "data": {
      "text/plain": [
       "[{'type': 'FxForwardCurve', 'id': '7b0b0b75-d913-4a75-9640-d4aab56e1ce9', 'location': {'space': 'HOME', 'name': 'EURGBP_curve_from_Deposits_testUJXC98'}, 'description': {'summary': 'My EURGBP curve from Deposits', 'tags': []}},\n",
       " {'type': 'FxForwardCurve', 'id': '3b4e3e18-810b-43b1-8e87-de25cb1c658e', 'location': {'space': 'HOME', 'name': 'EURGBP_curve_from_FxForward_testnNVlpi'}, 'description': {'summary': 'My EURGBP curve from FxForward', 'tags': []}},\n",
       " {'type': 'FxForwardCurve', 'id': '2584bd42-948e-44b8-b44c-6028a9047e4a', 'location': {'space': 'HOME', 'name': 'EURGBP_curve_from_FxForward_testqYtpao'}, 'description': {'summary': 'My EURGBP curve from FxForward', 'tags': []}},\n",
       " {'type': 'FxForwardCurve', 'id': '313bb17a-bb01-4fea-a6dc-0e39bdf19672', 'location': {'space': 'HOME', 'name': 'EURGBP_Fx_Forward_Curve'}, 'description': {'summary': 'EURGBP Fx Forward Curve via USD', 'tags': ['EURGBP', 'EUR', 'GBP', 'FxCurve']}},\n",
       " {'type': 'FxForwardCurve', 'id': '68160864-da0a-4a42-8dde-27ffc812f817', 'location': {'space': 'HOME', 'name': 'EURGBP_FxForward_curve4tB9K4'}, 'description': {'summary': 'My EURGBP FxForward curve', 'tags': []}},\n",
       " {'type': 'FxForwardCurve', 'id': '07fbe09d-9968-4056-a87f-80b13c395547', 'location': {'space': 'HOME', 'name': 'GBPAUD_curve_from_FxForward_testIQs2kK'}, 'description': {'summary': 'My GBPAUD curve from FxForward', 'tags': []}},\n",
       " {'type': 'FxForwardCurve', 'id': '4bb6f784-18e1-4e98-a87f-14c5ea65aa2d', 'location': {'space': 'HOME', 'name': 'GBPAUD_curve_from_FxForward_testv2Padw'}, 'description': {'summary': 'My GBPAUD curve from FxForward', 'tags': []}},\n",
       " {'type': 'FxForwardCurve', 'id': '2831b25b-545c-473d-ae1c-aaf44f2022e6', 'location': {'space': 'HOME', 'name': 'TestCurve_0BiZMW'}, 'description': {'summary': '', 'tags': []}},\n",
       " {'type': 'FxForwardCurve', 'id': '8aff6885-037a-43cb-833c-7825610b2f5b', 'location': {'space': 'HOME', 'name': 'TestCurve_1adusg'}, 'description': {'summary': '', 'tags': []}},\n",
       " {'type': 'FxForwardCurve', 'id': 'da7f91c2-eae5-484b-8557-1d7d60b76cc5', 'location': {'space': 'HOME', 'name': 'TestCurve_1GA9vH'}, 'description': {'summary': '', 'tags': []}},\n",
       " {'type': 'FxForwardCurve', 'id': '4c6f163f-774c-4c56-bec3-d1c2f799ad65', 'location': {'space': 'HOME', 'name': 'TestCurve_1IcMC0'}, 'description': {'summary': '', 'tags': []}},\n",
       " {'type': 'FxForwardCurve', 'id': 'b7668e52-9451-4525-aaff-81b696a57b63', 'location': {'space': 'HOME', 'name': 'TestCurve_1m9z9y'}, 'description': {'summary': '', 'tags': []}},\n",
       " {'type': 'FxForwardCurve', 'id': 'be7dc609-920c-4f07-8051-48b8de35d4e7', 'location': {'space': 'HOME', 'name': 'TestCurve_3AQbQK'}, 'description': {'summary': '', 'tags': []}},\n",
       " {'type': 'FxForwardCurve', 'id': '974ebcf0-4625-43b1-a416-564d14694be2', 'location': {'space': 'HOME', 'name': 'TestCurve_3PYacr'}, 'description': {'summary': '', 'tags': []}},\n",
       " {'type': 'FxForwardCurve', 'id': '82d35a63-a47f-4c13-b99b-da37cf8edbde', 'location': {'space': 'HOME', 'name': 'TestCurve_47KTcT'}, 'description': {'summary': '', 'tags': []}},\n",
       " {'type': 'FxForwardCurve', 'id': 'aa0b90ba-f5b1-4d03-b04b-523b7f3b2fc8', 'location': {'space': 'HOME', 'name': 'TestCurve_4H1odg'}, 'description': {'summary': '', 'tags': []}},\n",
       " {'type': 'FxForwardCurve', 'id': '499fffe2-c4e3-4cf4-b077-f322ab0ce8d0', 'location': {'space': 'HOME', 'name': 'TestCurve_4jX500'}, 'description': {'summary': '', 'tags': []}},\n",
       " {'type': 'FxForwardCurve', 'id': '0e7c222c-84be-4104-a776-c0ee14e7740b', 'location': {'space': 'HOME', 'name': 'TestCurve_4XyDdo'}, 'description': {'summary': '', 'tags': []}},\n",
       " {'type': 'FxForwardCurve', 'id': 'dff747d8-889b-4e43-9915-3f25b335e401', 'location': {'space': 'HOME', 'name': 'TestCurve_6VEzsA'}, 'description': {'summary': '', 'tags': []}},\n",
       " {'type': 'FxForwardCurve', 'id': '31985b3e-78fa-4c2d-8ed3-dcdfb35f7576', 'location': {'space': 'HOME', 'name': 'TestCurve_7a1jTD'}, 'description': {'summary': '', 'tags': []}},\n",
       " {'type': 'FxForwardCurve', 'id': '65a0723c-3813-4745-b2b6-b00ace14fd8a', 'location': {'space': 'HOME', 'name': 'TestCurve_7gkZ10'}, 'description': {'summary': '', 'tags': []}},\n",
       " {'type': 'FxForwardCurve', 'id': '854cd44e-7810-4dc5-8e3e-1791b85d46f1', 'location': {'space': 'HOME', 'name': 'TestCurve_8MQ82I'}, 'description': {'summary': '', 'tags': []}},\n",
       " {'type': 'FxForwardCurve', 'id': '95f211f9-f160-4c14-b3f5-bcb4035b05b2', 'location': {'space': 'HOME', 'name': 'TestCurve_9bY0l6'}, 'description': {'summary': '', 'tags': []}},\n",
       " {'type': 'FxForwardCurve', 'id': '0a9c3cd7-ff5d-476e-9ade-7062d865f516', 'location': {'space': 'HOME', 'name': 'TestCurve_9f7SiA'}, 'description': {'summary': '', 'tags': []}},\n",
       " {'type': 'FxForwardCurve', 'id': '14f94c79-ffdc-450d-9bd3-eae8f80e29d7', 'location': {'space': 'HOME', 'name': 'TestCurve_9Q0uSX'}, 'description': {'summary': '', 'tags': []}},\n",
       " {'type': 'FxForwardCurve', 'id': 'bfa437ab-0d8c-43b9-a0d7-3ff7fc929100', 'location': {'space': 'HOME', 'name': 'TestCurve_9VcXYS'}, 'description': {'summary': '', 'tags': []}},\n",
       " {'type': 'FxForwardCurve', 'id': '7bb77b77-d734-46c9-be68-170508ad970d', 'location': {'space': 'HOME', 'name': 'TestCurve_a5DIeO'}, 'description': {'summary': '', 'tags': []}},\n",
       " {'type': 'FxForwardCurve', 'id': 'e9376664-529a-4b3c-bf91-eb863f45e543', 'location': {'space': 'HOME', 'name': 'TestCurve_bgbPj4'}, 'description': {'summary': '', 'tags': []}},\n",
       " {'type': 'FxForwardCurve', 'id': '87c76d36-6921-4d38-8c86-dd7321f71fb1', 'location': {'space': 'HOME', 'name': 'TestCurve_bNIMBa'}, 'description': {'summary': '', 'tags': []}},\n",
       " {'type': 'FxForwardCurve', 'id': '8d2955c4-0da3-4b3a-aaa3-f9c508c1fa65', 'location': {'space': 'HOME', 'name': 'TestCurve_br2e79'}, 'description': {'summary': '', 'tags': []}},\n",
       " {'type': 'FxForwardCurve', 'id': '984dc625-a2fe-4809-8716-403687cc1a20', 'location': {'space': 'HOME', 'name': 'TestCurve_bXFton'}, 'description': {'summary': '', 'tags': []}},\n",
       " {'type': 'FxForwardCurve', 'id': '808e97b4-0afa-4001-bc25-230ecadaa27f', 'location': {'space': 'HOME', 'name': 'TestCurve_CNDYFa'}, 'description': {'summary': '', 'tags': []}},\n",
       " {'type': 'FxForwardCurve', 'id': '2e16f02b-511f-431f-b8a0-4f0f5edc85ce', 'location': {'space': 'HOME', 'name': 'TestCurve_CpaVOv'}, 'description': {'summary': '', 'tags': []}},\n",
       " {'type': 'FxForwardCurve', 'id': '33631960-fec3-4891-8915-2b89a2a8dd44', 'location': {'space': 'HOME', 'name': 'TestCurve_D0YmNR'}, 'description': {'summary': '', 'tags': []}},\n",
       " {'type': 'FxForwardCurve', 'id': 'e7691454-dede-42a4-826d-06a40b36b153', 'location': {'space': 'HOME', 'name': 'TestCurve_D34dng'}, 'description': {'summary': '', 'tags': []}},\n",
       " {'type': 'FxForwardCurve', 'id': '780dda43-326b-47bb-adba-ceb534c49cb2', 'location': {'space': 'HOME', 'name': 'TestCurve_dAzgIu'}, 'description': {'summary': '', 'tags': []}},\n",
       " {'type': 'FxForwardCurve', 'id': 'a89811da-7193-4d39-9f23-f3f4fe5750d1', 'location': {'space': 'HOME', 'name': 'TestCurve_dEBosh'}, 'description': {'summary': '', 'tags': []}},\n",
       " {'type': 'FxForwardCurve', 'id': 'd651f0b4-e055-4854-9df3-d172233d593e', 'location': {'space': 'HOME', 'name': 'TestCurve_DJWuFb'}, 'description': {'summary': '', 'tags': []}},\n",
       " {'type': 'FxForwardCurve', 'id': 'a55c00e4-3e8a-47d2-9005-bae2175d7ff5', 'location': {'space': 'HOME', 'name': 'TestCurve_ETTv7o'}, 'description': {'summary': '', 'tags': []}},\n",
       " {'type': 'FxForwardCurve', 'id': '76b14964-65b3-49c9-97a0-eabf6ffc65d1', 'location': {'space': 'HOME', 'name': 'TestCurve_fn6fVj'}, 'description': {'summary': '', 'tags': []}},\n",
       " {'type': 'FxForwardCurve', 'id': '1c5bb7dd-9d5f-405d-9117-23a5d2248c9d', 'location': {'space': 'HOME', 'name': 'TestCurve_foOcI5'}, 'description': {'summary': '', 'tags': []}},\n",
       " {'type': 'FxForwardCurve', 'id': 'ad9b20ad-cb9d-462c-99c4-a2cc829f3b46', 'location': {'space': 'HOME', 'name': 'TestCurve_G1Za10'}, 'description': {'summary': '', 'tags': []}},\n",
       " {'type': 'FxForwardCurve', 'id': '3c2c0ded-8196-4ecb-bb78-d89c239ea237', 'location': {'space': 'HOME', 'name': 'TestCurve_G7SYQH'}, 'description': {'summary': '', 'tags': []}},\n",
       " {'type': 'FxForwardCurve', 'id': '578d1c55-9aa8-49ee-bbf0-23c7b6ad9662', 'location': {'space': 'HOME', 'name': 'TestCurve_gjOdjz'}, 'description': {'summary': '', 'tags': []}},\n",
       " {'type': 'FxForwardCurve', 'id': '2e0a4c4f-0e5f-4799-91c0-7f3baa60d90a', 'location': {'space': 'HOME', 'name': 'TestCurve_gjU7C8'}, 'description': {'summary': '', 'tags': []}},\n",
       " {'type': 'FxForwardCurve', 'id': '60b93f11-28a2-41de-a1b2-85bd9507234f', 'location': {'space': 'HOME', 'name': 'TestCurve_gkGvzV'}, 'description': {'summary': '', 'tags': []}},\n",
       " {'type': 'FxForwardCurve', 'id': '881f2c0b-1918-4006-98a0-aa29bfb6a133', 'location': {'space': 'HOME', 'name': 'TestCurve_gLSMQP'}, 'description': {'summary': '', 'tags': []}},\n",
       " {'type': 'FxForwardCurve', 'id': '4c6503be-cbc1-4cc8-b2bd-2b21671e68e3', 'location': {'space': 'HOME', 'name': 'TestCurve_Gu1u8I'}, 'description': {'summary': '', 'tags': []}},\n",
       " {'type': 'FxForwardCurve', 'id': 'd9cde4c4-cca0-42cc-aadb-184c985c7a79', 'location': {'space': 'HOME', 'name': 'TestCurve_HiMVr9'}, 'description': {'summary': '', 'tags': []}},\n",
       " {'type': 'FxForwardCurve', 'id': '7b0a735d-6591-4dc0-93cc-3d4db4712c98', 'location': {'space': 'HOME', 'name': 'TestCurve_I6FtZY'}, 'description': {'summary': '', 'tags': []}}]"
      ]
     },
     "execution_count": 17,
     "metadata": {},
     "output_type": "execute_result"
    }
   ],
   "source": [
    "curves = search()\n",
    "\n",
    "curves"
   ]
  },
  {
   "cell_type": "markdown",
   "metadata": {},
   "source": [
    "### Search for curves by names"
   ]
  },
  {
   "cell_type": "code",
   "execution_count": 18,
   "metadata": {
    "execution": {
     "iopub.execute_input": "2025-09-18T08:59:36.793500Z",
     "iopub.status.busy": "2025-09-18T08:59:36.792901Z",
     "iopub.status.idle": "2025-09-18T08:59:36.925165Z",
     "shell.execute_reply": "2025-09-18T08:59:36.924457Z"
    }
   },
   "outputs": [
    {
     "data": {
      "text/plain": [
       "<FxForwardCurve space=None name='' unsaved>"
      ]
     },
     "execution_count": 18,
     "metadata": {},
     "output_type": "execute_result"
    }
   ],
   "source": [
    "curves_by_name = search(names=[\"EURGBP_Fx_Forward_Curve\"])\n",
    "\n",
    "new_curve"
   ]
  },
  {
   "cell_type": "markdown",
   "metadata": {},
   "source": [
    "### Search for curves by spaces"
   ]
  },
  {
   "cell_type": "code",
   "execution_count": 19,
   "metadata": {
    "execution": {
     "iopub.execute_input": "2025-09-18T08:59:36.927498Z",
     "iopub.status.busy": "2025-09-18T08:59:36.927138Z",
     "iopub.status.idle": "2025-09-18T08:59:37.052199Z",
     "shell.execute_reply": "2025-09-18T08:59:37.051639Z"
    }
   },
   "outputs": [
    {
     "data": {
      "text/plain": [
       "[{'type': 'FxForwardCurve', 'id': '8624ce0d-ad56-42ac-acd0-f7d21f32be2b', 'location': {'space': 'LSEG', 'name': 'AUD_AONIAUSD_SOFR_FxCross'}, 'description': {'summary': 'LSEG AUD AONIA/USD SOFR FxCross', 'tags': []}},\n",
       " {'type': 'FxForwardCurve', 'id': '3a45f4cb-29b7-4607-9f2e-7ab8a8086535', 'location': {'space': 'LSEG', 'name': 'AUD_BBSWUSD_SOFR_FxCross'}, 'description': {'summary': 'LSEG AUD BBSW/USD SOFR FxCross', 'tags': []}},\n",
       " {'type': 'FxForwardCurve', 'id': '1d3c2ac9-2761-499a-8df4-cc7e054bb029', 'location': {'space': 'LSEG', 'name': 'AUD_CAD_FxForward'}, 'description': {'summary': 'LSEG AUD CAD FxForward', 'tags': []}},\n",
       " {'type': 'FxForwardCurve', 'id': '9bac7c80-4d50-45ad-b66a-d935a8cf5655', 'location': {'space': 'LSEG', 'name': 'AUD_CHF_FxForward'}, 'description': {'summary': 'LSEG AUD CHF FxForward', 'tags': []}},\n",
       " {'type': 'FxForwardCurve', 'id': '11edca10-aa9b-4cc3-9b86-54d5d78119df', 'location': {'space': 'LSEG', 'name': 'AUD_JPY_FxForward'}, 'description': {'summary': 'LSEG AUD JPY FxForward', 'tags': []}},\n",
       " {'type': 'FxForwardCurve', 'id': '01ea94d4-710e-4769-b937-fa485a0dea36', 'location': {'space': 'LSEG', 'name': 'AUD_NZD_FxForward'}, 'description': {'summary': 'LSEG AUD NZD FxForward', 'tags': []}},\n",
       " {'type': 'FxForwardCurve', 'id': '310211eb-0490-4d16-9550-86780aa4639b', 'location': {'space': 'LSEG', 'name': 'AUD_USD_FxCross'}, 'description': {'summary': 'LSEG AUD USD FxCross', 'tags': []}},\n",
       " {'type': 'FxForwardCurve', 'id': 'cc31e969-e64c-4e11-b266-75b335c0d788', 'location': {'space': 'LSEG', 'name': 'AUD_USD_FxForward'}, 'description': {'summary': 'LSEG AUD USD FxForward', 'tags': []}},\n",
       " {'type': 'FxForwardCurve', 'id': '35c6b411-1f40-4442-81fd-0250b33fa879', 'location': {'space': 'LSEG', 'name': 'CAD_CHF_FxForward'}, 'description': {'summary': 'LSEG CAD CHF FxForward', 'tags': []}},\n",
       " {'type': 'FxForwardCurve', 'id': 'f719ef29-9348-42d5-86e6-e36f8468ad17', 'location': {'space': 'LSEG', 'name': 'CAD_JPY_FxForward'}, 'description': {'summary': 'LSEG CAD JPY FxForward', 'tags': []}},\n",
       " {'type': 'FxForwardCurve', 'id': '2f01b9d5-39a6-44f5-b1ef-9c88a5530c42', 'location': {'space': 'LSEG', 'name': 'CHF_JPY_FxForward'}, 'description': {'summary': 'LSEG CHF JPY FxForward', 'tags': []}},\n",
       " {'type': 'FxForwardCurve', 'id': 'ffc4704e-78f1-4b76-81fb-238abdda27c9', 'location': {'space': 'LSEG', 'name': 'EUR_AUD_FxForward'}, 'description': {'summary': 'LSEG EUR AUD FxForward', 'tags': []}},\n",
       " {'type': 'FxForwardCurve', 'id': 'c5568d63-c7c8-483f-baa9-2eb1a0a4e577', 'location': {'space': 'LSEG', 'name': 'EUR_CAD_FxForward'}, 'description': {'summary': 'LSEG EUR CAD FxForward', 'tags': []}},\n",
       " {'type': 'FxForwardCurve', 'id': 'b4abc17d-c199-4dc5-87de-7c2f206dfcaa', 'location': {'space': 'LSEG', 'name': 'EUR_CHF_FxCross'}, 'description': {'summary': 'LSEG EUR CHF FxCross', 'tags': []}},\n",
       " {'type': 'FxForwardCurve', 'id': 'd53ef572-55dd-4b43-8c13-6f0c831f81b2', 'location': {'space': 'LSEG', 'name': 'EUR_CHF_FxForward'}, 'description': {'summary': 'LSEG EUR CHF FxForward', 'tags': []}},\n",
       " {'type': 'FxForwardCurve', 'id': 'fea72a89-3fb8-4e3b-a972-e586c2862f50', 'location': {'space': 'LSEG', 'name': 'EUR_DKK_FxCross'}, 'description': {'summary': 'LSEG EUR DKK FxCross', 'tags': []}},\n",
       " {'type': 'FxForwardCurve', 'id': '1b62cb08-f23c-4880-af20-dfa0bc5a7634', 'location': {'space': 'LSEG', 'name': 'EUR_EONIAUSD_SOFR_FxCross'}, 'description': {'summary': 'LSEG EUR EONIA/USD SOFR FxCross', 'tags': []}},\n",
       " {'type': 'FxForwardCurve', 'id': 'd410fda2-e29c-4d92-be5b-e53b590f8814', 'location': {'space': 'LSEG', 'name': 'EUR_ESTRCAD_CORRA_FxCross'}, 'description': {'summary': 'LSEG EUR ESTR/CAD CORRA FxCross', 'tags': []}},\n",
       " {'type': 'FxForwardCurve', 'id': 'be1fb842-fa7b-42a5-9a39-f077aca70636', 'location': {'space': 'LSEG', 'name': 'EUR_ESTRCHF_SARON_FxCross'}, 'description': {'summary': 'LSEG EUR ESTR/CHF SARON FxCross', 'tags': []}},\n",
       " {'type': 'FxForwardCurve', 'id': 'a9b1d9b5-8d8f-417c-908d-9ff346300c4d', 'location': {'space': 'LSEG', 'name': 'EUR_ESTRDKK_CIBOR_FxCross'}, 'description': {'summary': 'LSEG EUR ESTR/DKK CIBOR FxCross', 'tags': []}},\n",
       " {'type': 'FxForwardCurve', 'id': 'c0782845-1551-4efb-9562-0f1ea2c48f9d', 'location': {'space': 'LSEG', 'name': 'EUR_ESTRDKK_DESTR_FxCross'}, 'description': {'summary': 'LSEG EUR ESTR/DKK DESTR FxCross', 'tags': []}},\n",
       " {'type': 'FxForwardCurve', 'id': '6449fcf8-dead-4ceb-be17-109ff3af1108', 'location': {'space': 'LSEG', 'name': 'EUR_ESTRNOK_OIBOR_FxCross'}, 'description': {'summary': 'LSEG EUR ESTR/NOK OIBOR FxCross', 'tags': []}},\n",
       " {'type': 'FxForwardCurve', 'id': '3c3ee380-37f2-468e-9b6f-faba92e13880', 'location': {'space': 'LSEG', 'name': 'EUR_ESTRSEK_STIBOR_FxCross'}, 'description': {'summary': 'LSEG EUR ESTR/SEK STIBOR FxCross', 'tags': []}},\n",
       " {'type': 'FxForwardCurve', 'id': '99b3b2d3-d541-4fef-9b14-7e335bb5a6e5', 'location': {'space': 'LSEG', 'name': 'EUR_ESTRUSD_SOFR_FxCross'}, 'description': {'summary': 'LSEG EUR ESTR/USD SOFR FxCross', 'tags': []}},\n",
       " {'type': 'FxForwardCurve', 'id': '882c9997-df44-4a23-b06f-bb1729d87b4e', 'location': {'space': 'LSEG', 'name': 'EUR_EURIBORUSD_SOFR_FxCross'}, 'description': {'summary': 'LSEG EUR EURIBOR/USD SOFR FxCross', 'tags': []}},\n",
       " {'type': 'FxForwardCurve', 'id': '402b67df-9193-4516-bb6e-57dcf3264f41', 'location': {'space': 'LSEG', 'name': 'EUR_GBP_FxCross'}, 'description': {'summary': 'LSEG EUR GBP FxCross', 'tags': []}},\n",
       " {'type': 'FxForwardCurve', 'id': '765d23ef-c270-43c0-b274-9ec724bb77b5', 'location': {'space': 'LSEG', 'name': 'EUR_GBP_FxForward'}, 'description': {'summary': 'LSEG EUR GBP FxForward', 'tags': []}},\n",
       " {'type': 'FxForwardCurve', 'id': '99cd7624-df17-485d-8ffb-b1b4f1a788c3', 'location': {'space': 'LSEG', 'name': 'EUR_JPY_FxCross'}, 'description': {'summary': 'LSEG EUR JPY FxCross', 'tags': []}},\n",
       " {'type': 'FxForwardCurve', 'id': '345d2beb-487f-4e60-93e9-42e106720233', 'location': {'space': 'LSEG', 'name': 'EUR_JPY_FxForward'}, 'description': {'summary': 'LSEG EUR JPY FxForward', 'tags': []}},\n",
       " {'type': 'FxForwardCurve', 'id': 'fa0dd0c7-5d79-493a-909b-31bc6bb68b2d', 'location': {'space': 'LSEG', 'name': 'EUR_NOK_FxCross'}, 'description': {'summary': 'LSEG EUR NOK FxCross', 'tags': []}},\n",
       " {'type': 'FxForwardCurve', 'id': 'ba918d6f-693f-476f-a4a3-000fa701188e', 'location': {'space': 'LSEG', 'name': 'EUR_NZD_FxForward'}, 'description': {'summary': 'LSEG EUR NZD FxForward', 'tags': []}},\n",
       " {'type': 'FxForwardCurve', 'id': 'cd524336-5956-4eae-bfdc-40a3fc607f39', 'location': {'space': 'LSEG', 'name': 'EUR_RON_FxCross'}, 'description': {'summary': 'LSEG EUR RON FxCross', 'tags': []}},\n",
       " {'type': 'FxForwardCurve', 'id': 'cef9add0-e4e1-48b1-b2f7-aedebda0224b', 'location': {'space': 'LSEG', 'name': 'EUR_SEK_FxCross'}, 'description': {'summary': 'LSEG EUR SEK FxCross', 'tags': []}},\n",
       " {'type': 'FxForwardCurve', 'id': 'd1822c9c-b08e-42bb-9a11-ce40a73b0b41', 'location': {'space': 'LSEG', 'name': 'EUR_USD_FxCross'}, 'description': {'summary': 'LSEG EUR USD FxCross', 'tags': []}},\n",
       " {'type': 'FxForwardCurve', 'id': '7b7fe9d2-9beb-409d-8078-efe07698a1e1', 'location': {'space': 'LSEG', 'name': 'EUR_USD_FxForward'}, 'description': {'summary': 'LSEG EUR USD FxForward', 'tags': []}},\n",
       " {'type': 'FxForwardCurve', 'id': '2a080cda-d54e-4476-8ca7-c1894d263840', 'location': {'space': 'LSEG', 'name': 'EURUSD_WMR_Fixing'}, 'description': {'summary': 'LSEG EURUSD WMR Fixing', 'tags': []}},\n",
       " {'type': 'FxForwardCurve', 'id': '9c0a63f9-8559-4ac5-8c9e-cded045000f4', 'location': {'space': 'LSEG', 'name': 'GBP_AUD_FxForward'}, 'description': {'summary': 'LSEG GBP AUD FxForward', 'tags': []}},\n",
       " {'type': 'FxForwardCurve', 'id': '08b1e53f-1cb9-4aeb-8827-efcf74861387', 'location': {'space': 'LSEG', 'name': 'GBP_CAD_FxForward'}, 'description': {'summary': 'LSEG GBP CAD FxForward', 'tags': []}},\n",
       " {'type': 'FxForwardCurve', 'id': '31e2572a-a683-495e-ae73-fa8e10c0ad0e', 'location': {'space': 'LSEG', 'name': 'GBP_CHF_FxForward'}, 'description': {'summary': 'LSEG GBP CHF FxForward', 'tags': []}},\n",
       " {'type': 'FxForwardCurve', 'id': '5631a762-9d8a-4062-a941-f65ed3d8ae5c', 'location': {'space': 'LSEG', 'name': 'GBP_JPY_FxForward'}, 'description': {'summary': 'LSEG GBP JPY FxForward', 'tags': []}},\n",
       " {'type': 'FxForwardCurve', 'id': 'd1a51af9-44b5-4dc4-bee0-56b404d52f09', 'location': {'space': 'LSEG', 'name': 'GBP_NZD_FxForward'}, 'description': {'summary': 'LSEG GBP NZD FxForward', 'tags': []}},\n",
       " {'type': 'FxForwardCurve', 'id': 'd9bbda8a-d873-4383-8137-cbf7c6d246cc', 'location': {'space': 'LSEG', 'name': 'GBP_SONIAEUR_ESTR_FxCross'}, 'description': {'summary': 'LSEG GBP SONIA/EUR ESTR FxCross', 'tags': []}},\n",
       " {'type': 'FxForwardCurve', 'id': '3940f35a-ef55-4eec-b537-2f48d2dce4fd', 'location': {'space': 'LSEG', 'name': 'GBP_SONIAUSD_FFER_FxCross'}, 'description': {'summary': 'LSEG GBP SONIA/USD FFER FxCross', 'tags': []}},\n",
       " {'type': 'FxForwardCurve', 'id': 'b1c9ff9a-b6fb-445f-a9c1-7d6f5010efc8', 'location': {'space': 'LSEG', 'name': 'GBP_SONIAUSD_SOFR_FxCross'}, 'description': {'summary': 'LSEG GBP SONIA/USD SOFR FxCross', 'tags': []}},\n",
       " {'type': 'FxForwardCurve', 'id': '0d8ca898-3903-4313-9bba-9579e67c5542', 'location': {'space': 'LSEG', 'name': 'GBP_USD_FxCross'}, 'description': {'summary': 'LSEG GBP USD FxCross', 'tags': []}},\n",
       " {'type': 'FxForwardCurve', 'id': 'c6c1f844-8566-4e1c-b8a9-3d3e49904b14', 'location': {'space': 'LSEG', 'name': 'GBP_USD_FxForward'}, 'description': {'summary': 'LSEG GBP USD FxForward', 'tags': []}},\n",
       " {'type': 'FxForwardCurve', 'id': 'f772fe45-8a62-4f01-98df-83939a70b465', 'location': {'space': 'LSEG', 'name': 'MXV_MXN_FxCross'}, 'description': {'summary': 'LSEG MXV MXN FxCross', 'tags': []}},\n",
       " {'type': 'FxForwardCurve', 'id': '62f42329-a40e-4470-a7f9-4e2ad7ec7d77', 'location': {'space': 'LSEG', 'name': 'NOK_NOWAEUR_ESTR_FxCross'}, 'description': {'summary': 'LSEG NOK NOWA/EUR ESTR FxCross', 'tags': []}},\n",
       " {'type': 'FxForwardCurve', 'id': '4e724ca1-3a75-4134-bea1-c93e8e67c775', 'location': {'space': 'LSEG', 'name': 'NZD_BKBMUSD_SOFR_FxCross'}, 'description': {'summary': 'LSEG NZD BKBM/USD SOFR FxCross', 'tags': []}},\n",
       " {'type': 'FxForwardCurve', 'id': 'b1245d1d-c63a-471c-a62c-3f1793e898ec', 'location': {'space': 'LSEG', 'name': 'NZD_JPY_FxForward'}, 'description': {'summary': 'LSEG NZD JPY FxForward', 'tags': []}}]"
      ]
     },
     "execution_count": 19,
     "metadata": {},
     "output_type": "execute_result"
    }
   ],
   "source": [
    "curves_by_spaces = search(spaces=[\"LSEG\"])\n",
    "\n",
    "curves_by_spaces"
   ]
  },
  {
   "cell_type": "markdown",
   "metadata": {},
   "source": [
    "### Search for curves by tags"
   ]
  },
  {
   "cell_type": "code",
   "execution_count": 20,
   "metadata": {
    "execution": {
     "iopub.execute_input": "2025-09-18T08:59:37.054393Z",
     "iopub.status.busy": "2025-09-18T08:59:37.054129Z",
     "iopub.status.idle": "2025-09-18T08:59:37.169547Z",
     "shell.execute_reply": "2025-09-18T08:59:37.168905Z"
    }
   },
   "outputs": [
    {
     "data": {
      "text/plain": [
       "[]"
      ]
     },
     "execution_count": 20,
     "metadata": {},
     "output_type": "execute_result"
    }
   ],
   "source": [
    "curves_by_tags = search(tags=[\"EUR\", \"USD\"])\n",
    "\n",
    "curves_by_tags"
   ]
  },
  {
   "cell_type": "markdown",
   "metadata": {},
   "source": [
    "### Combine search criteria\n",
    "It's also possible to combine search items:"
   ]
  },
  {
   "cell_type": "code",
   "execution_count": 21,
   "metadata": {
    "execution": {
     "iopub.execute_input": "2025-09-18T08:59:37.172581Z",
     "iopub.status.busy": "2025-09-18T08:59:37.172040Z",
     "iopub.status.idle": "2025-09-18T08:59:37.292108Z",
     "shell.execute_reply": "2025-09-18T08:59:37.291501Z"
    }
   },
   "outputs": [
    {
     "data": {
      "text/plain": [
       "[]"
      ]
     },
     "execution_count": 21,
     "metadata": {},
     "output_type": "execute_result"
    }
   ],
   "source": [
    "searched_curves = search(spaces=[\"LSEG\"], tags=[\"EUR\"])\n",
    "\n",
    "searched_curves"
   ]
  },
  {
   "cell_type": "markdown",
   "metadata": {},
   "source": [
    "## Data access\n",
    "\n",
    "You can access resource data through the root attributes of the resource object:"
   ]
  },
  {
   "cell_type": "code",
   "execution_count": 22,
   "metadata": {
    "execution": {
     "iopub.execute_input": "2025-09-18T08:59:37.295102Z",
     "iopub.status.busy": "2025-09-18T08:59:37.294601Z",
     "iopub.status.idle": "2025-09-18T08:59:37.298255Z",
     "shell.execute_reply": "2025-09-18T08:59:37.297714Z"
    }
   },
   "outputs": [
    {
     "name": "stdout",
     "output_type": "stream",
     "text": [
      "Curve cross currency: EURGBP\n",
      "Curve reference currency: USD\n"
     ]
    }
   ],
   "source": [
    "print(f\"Curve cross currency: {curve.definition.cross_currency}\")\n",
    "print(f\"Curve reference currency: {curve.definition.reference_currency}\")\n"
   ]
  },
  {
   "cell_type": "markdown",
   "metadata": {},
   "source": [
    "## Curves functions"
   ]
  },
  {
   "cell_type": "markdown",
   "metadata": {},
   "source": [
    "### Calculate\n",
    "\n",
    "You can use Calculte to calculate an FxForward curve.\n",
    "\n",
    "You can pass in the valuation date as a datetime.date object, or as a date string:"
   ]
  },
  {
   "cell_type": "code",
   "execution_count": 23,
   "metadata": {
    "execution": {
     "iopub.execute_input": "2025-09-18T08:59:37.300994Z",
     "iopub.status.busy": "2025-09-18T08:59:37.300581Z",
     "iopub.status.idle": "2025-09-18T08:59:38.751903Z",
     "shell.execute_reply": "2025-09-18T08:59:38.751348Z"
    }
   },
   "outputs": [
    {
     "data": {
      "text/plain": [
       "{'resource': {'type': 'FxForwardCurve', 'id': '313bb17a-bb01-4fea-a6dc-0e39bdf19672', 'location': {'space': 'HOME', 'name': 'EURGBP_Fx_Forward_Curve'}, 'description': {'summary': 'EURGBP Fx Forward Curve via USD', 'tags': ['EURGBP', 'EUR', 'GBP', 'FxCurve']}, 'definition': {'crossCurrency': 'EURGBP', 'referenceCurrency': 'USD', 'constituents': [{'type': 'FxSpot', 'definition': {'template': 'EURUSD'}, 'quote': {'definition': {'instrumentCode': 'EUR=', 'source': 'Composite'}, 'values': {'bid': {'value': 1.1828}, 'ask': {'value': 1.183}}}}, {'type': 'FxForward', 'definition': {'tenor': 'ON', 'template': 'EURUSD'}, 'quote': {'definition': {'instrumentCode': 'EURON=RFB', 'source': 'RFB'}, 'values': {'bid': {'value': 0.7214}, 'ask': {'value': 0.7219}}}}, {'type': 'FxForward', 'definition': {'tenor': 'TN', 'template': 'EURUSD'}, 'quote': {'definition': {'instrumentCode': 'EURTN=RFB', 'source': 'RFB'}, 'values': {'bid': {'value': 2.168}, 'ask': {'value': 2.171}}}}, {'type': 'FxForward', 'definition': {'tenor': 'SN', 'template': 'EURUSD'}, 'quote': {'definition': {'instrumentCode': 'EURSN=RFB', 'source': 'RFB'}, 'values': {'bid': {'value': 0.7203}, 'ask': {'value': 0.7263}}}}, {'type': 'FxForward', 'definition': {'tenor': 'SW', 'template': 'EURUSD'}, 'quote': {'definition': {'instrumentCode': 'EURSW=RFB', 'source': 'RFB'}, 'values': {'bid': {'value': 5.03}, 'ask': {'value': 5.06}}}}, {'type': 'FxForward', 'definition': {'tenor': 'SEPM', 'template': 'EURUSD'}, 'quote': {'definition': {'instrumentCode': 'EURSEPM=RFB', 'source': 'RFB'}, 'values': {'bid': {'value': 5.75}, 'ask': {'value': 5.78}}}}, {'type': 'FxForward', 'definition': {'tenor': '1M', 'template': 'EURUSD'}, 'quote': {'definition': {'instrumentCode': 'EUR1M=RFB', 'source': 'RFB'}, 'values': {'bid': {'value': 21.71}, 'ask': {'value': 21.73}}}}, {'type': 'FxForward', 'definition': {'tenor': 'OCTM', 'template': 'EURUSD'}, 'quote': {'definition': {'instrumentCode': 'EUROCTM=RFB', 'source': 'RFB'}, 'values': {'bid': {'value': 27.7}, 'ask': {'value': 27.74}}}}, {'type': 'FxForward', 'definition': {'tenor': '2M', 'template': 'EURUSD'}, 'quote': {'definition': {'instrumentCode': 'EUR2M=RFB', 'source': 'RFB'}, 'values': {'bid': {'value': 43.77}, 'ask': {'value': 43.82}}}}, {'type': 'FxForward', 'definition': {'tenor': 'NOVM', 'template': 'EURUSD'}, 'quote': {'definition': {'instrumentCode': 'EURNOVM=RFB', 'source': 'RFB'}, 'values': {'bid': {'value': 46.29}, 'ask': {'value': 46.35}}}}, {'type': 'FxForward', 'definition': {'tenor': '3M', 'template': 'EURUSD'}, 'quote': {'definition': {'instrumentCode': 'EUR3M=RFB', 'source': 'RFB'}, 'values': {'bid': {'value': 61.26}, 'ask': {'value': 61.34}}}}, {'type': 'FxForward', 'definition': {'tenor': 'DECM', 'template': 'EURUSD'}, 'quote': {'definition': {'instrumentCode': 'EURDECM=RFB', 'source': 'RFB'}, 'values': {'bid': {'value': 66.6}, 'ask': {'value': 66.68}}}}, {'type': 'FxForward', 'definition': {'tenor': 'JANM', 'template': 'EURUSD'}, 'quote': {'definition': {'instrumentCode': 'EURJANM=RFB', 'source': 'RFB'}, 'values': {'bid': {'value': 85.54}, 'ask': {'value': 85.66}}}}, {'type': 'FxForward', 'definition': {'tenor': 'FEBM', 'template': 'EURUSD'}, 'quote': {'definition': {'instrumentCode': 'EURFEBM=RFB', 'source': 'RFB'}, 'values': {'bid': {'value': 101.25}, 'ask': {'value': 101.45}}}}, {'type': 'FxForward', 'definition': {'tenor': '6M', 'template': 'EURUSD'}, 'quote': {'definition': {'instrumentCode': 'EUR6M=RFB', 'source': 'RFB'}, 'values': {'bid': {'value': 114.52}, 'ask': {'value': 114.79}}}}, {'type': 'FxForward', 'definition': {'tenor': 'MARM', 'template': 'EURUSD'}, 'quote': {'definition': {'instrumentCode': 'EURMARM=RFB', 'source': 'RFB'}, 'values': {'bid': {'value': 118.78}, 'ask': {'value': 119.06}}}}, {'type': 'FxForward', 'definition': {'tenor': 'APRM', 'template': 'EURUSD'}, 'quote': {'definition': {'instrumentCode': 'EURAPRM=RFB', 'source': 'RFB'}, 'values': {'bid': {'value': 134.52}, 'ask': {'value': 134.81}}}}, {'type': 'FxForward', 'definition': {'tenor': 'MAYM', 'template': 'EURUSD'}, 'quote': {'definition': {'instrumentCode': 'EURMAYM=RFB', 'source': 'RFB'}, 'values': {'bid': {'value': 149.24}, 'ask': {'value': 149.54}}}}, {'type': 'FxForward', 'definition': {'tenor': '9M', 'template': 'EURUSD'}, 'quote': {'definition': {'instrumentCode': 'EUR9M=RFB', 'source': 'RFB'}, 'values': {'bid': {'value': 161.28}, 'ask': {'value': 161.73}}}}, {'type': 'FxForward', 'definition': {'tenor': 'JUNM', 'template': 'EURUSD'}, 'quote': {'definition': {'instrumentCode': 'EURJUNM=RFB', 'source': 'RFB'}, 'values': {'bid': {'value': 165.08}, 'ask': {'value': 165.5}}}}, {'type': 'FxForward', 'definition': {'tenor': 'JULM', 'template': 'EURUSD'}, 'quote': {'definition': {'instrumentCode': 'EURJULM=RFB', 'source': 'RFB'}, 'values': {'bid': {'value': 179.44}, 'ask': {'value': 179.8}}}}, {'type': 'FxForward', 'definition': {'tenor': 'AUGM', 'template': 'EURUSD'}, 'quote': {'definition': {'instrumentCode': 'EURAUGM=RFB', 'source': 'RFB'}, 'values': {'bid': {'value': 192.92}, 'ask': {'value': 193.39}}}}, {'type': 'FxForward', 'definition': {'tenor': '1Y', 'template': 'EURUSD'}, 'quote': {'definition': {'instrumentCode': 'EUR1Y=RFB', 'source': 'RFB'}, 'values': {'bid': {'value': 202.22}, 'ask': {'value': 202.94}}}}, {'type': 'FxForward', 'definition': {'tenor': '2Y', 'template': 'EURUSD'}, 'quote': {'definition': {'instrumentCode': 'EUR2Y=RFB', 'source': 'RFB'}, 'values': {'bid': {'value': 332.28}, 'ask': {'value': 335.7}}}}, {'type': 'FxForward', 'definition': {'tenor': '3Y', 'template': 'EURUSD'}, 'quote': {'definition': {'instrumentCode': 'EUR3Y=RFB', 'source': 'RFB'}, 'values': {'bid': {'value': 453.72}, 'ask': {'value': 455.42}}}}, {'type': 'FxForward', 'definition': {'tenor': '4Y', 'template': 'EURUSD'}, 'quote': {'definition': {'instrumentCode': 'EUR4Y=RFB', 'source': 'RFB'}, 'values': {'bid': {'value': 572.34}, 'ask': {'value': 577.02}}}}, {'type': 'FxForward', 'definition': {'tenor': '5Y', 'template': 'EURUSD'}, 'quote': {'definition': {'instrumentCode': 'EUR5Y=RFB', 'source': 'RFB'}, 'values': {'bid': {'value': 691.61}, 'ask': {'value': 702.61}}}}, {'type': 'FxForward', 'definition': {'tenor': '6Y', 'template': 'EURUSD'}, 'quote': {'definition': {'instrumentCode': 'EUR6Y=RFB', 'source': 'RFB'}, 'values': {'bid': {'value': 821.13}, 'ask': {'value': 835.13}}}}, {'type': 'FxForward', 'definition': {'tenor': '7Y', 'template': 'EURUSD'}, 'quote': {'definition': {'instrumentCode': 'EUR7Y=RFB', 'source': 'RFB'}, 'values': {'bid': {'value': 957.38}, 'ask': {'value': 973.38}}}}, {'type': 'FxForward', 'definition': {'tenor': '8Y', 'template': 'EURUSD'}, 'quote': {'definition': {'instrumentCode': 'EUR8Y=RFB', 'source': 'RFB'}, 'values': {'bid': {'value': 1086.75}, 'ask': {'value': 1125.75}}}}, {'type': 'FxForward', 'definition': {'tenor': '9Y', 'template': 'EURUSD'}, 'quote': {'definition': {'instrumentCode': 'EUR9Y=RFB', 'source': 'RFB'}, 'values': {'bid': {'value': 1220.75}, 'ask': {'value': 1270.75}}}}, {'type': 'FxForward', 'definition': {'tenor': '10Y', 'template': 'EURUSD'}, 'quote': {'definition': {'instrumentCode': 'EUR10Y=RFB', 'source': 'RFB'}, 'values': {'bid': {'value': 1376.63}, 'ask': {'value': 1411.63}}}}, {'type': 'FxSpot', 'definition': {'template': 'GBPUSD'}, 'quote': {'definition': {'instrumentCode': 'GBP=', 'source': 'Composite'}, 'values': {'bid': {'value': 1.3639}, 'ask': {'value': 1.3643}}}}, {'type': 'FxForward', 'definition': {'tenor': 'ON', 'template': 'GBPUSD'}, 'quote': {'definition': {'instrumentCode': 'GBPON=', 'source': 'Composite'}, 'values': {'bid': {'value': 0.09}, 'ask': {'value': 0.11}}}}, {'type': 'FxForward', 'definition': {'tenor': 'TN', 'template': 'GBPUSD'}, 'quote': {'definition': {'instrumentCode': 'GBPTN=', 'source': 'Composite'}, 'values': {'bid': {'value': 0.27}, 'ask': {'value': 0.29}}}}, {'type': 'FxForward', 'definition': {'tenor': 'SN', 'template': 'GBPUSD'}, 'quote': {'definition': {'instrumentCode': 'GBPSN=', 'source': 'Composite'}, 'values': {'bid': {'value': 0.08}, 'ask': {'value': 0.09}}}}, {'type': 'FxForward', 'definition': {'tenor': 'SW', 'template': 'GBPUSD'}, 'quote': {'definition': {'instrumentCode': 'GBPSW=', 'source': 'Composite'}, 'values': {'bid': {'value': 0.56}, 'ask': {'value': 0.57}}}}, {'type': 'FxForward', 'definition': {'tenor': '1M', 'template': 'GBPUSD'}, 'quote': {'definition': {'instrumentCode': 'GBP1M=', 'source': 'Composite'}, 'values': {'bid': {'value': 2.31}, 'ask': {'value': 2.32}}}}, {'type': 'FxForward', 'definition': {'tenor': '2M', 'template': 'GBPUSD'}, 'quote': {'definition': {'instrumentCode': 'GBP2M=', 'source': 'Composite'}, 'values': {'bid': {'value': 2.53}, 'ask': {'value': 2.69}}}}, {'type': 'FxForward', 'definition': {'tenor': '3M', 'template': 'GBPUSD'}, 'quote': {'definition': {'instrumentCode': 'GBP3M=', 'source': 'Composite'}, 'values': {'bid': {'value': 1.43}, 'ask': {'value': 1.61}}}}, {'type': 'FxForward', 'definition': {'tenor': '6M', 'template': 'GBPUSD'}, 'quote': {'definition': {'instrumentCode': 'GBP6M=', 'source': 'Composite'}, 'values': {'bid': {'value': -6.96}, 'ask': {'value': -6.76}}}}, {'type': 'FxForward', 'definition': {'tenor': '9M', 'template': 'GBPUSD'}, 'quote': {'definition': {'instrumentCode': 'GBP9M=', 'source': 'Composite'}, 'values': {'bid': {'value': -20.33}, 'ask': {'value': -17.85}}}}, {'type': 'FxForward', 'definition': {'tenor': '1Y', 'template': 'GBPUSD'}, 'quote': {'definition': {'instrumentCode': 'GBP1Y=', 'source': 'Composite'}, 'values': {'bid': {'value': -36.63}, 'ask': {'value': -36.01}}}}, {'type': 'FxForward', 'definition': {'tenor': '2Y', 'template': 'GBPUSD'}, 'quote': {'definition': {'instrumentCode': 'GBP2Y=', 'source': 'Composite'}, 'values': {'bid': {'value': -128.53}, 'ask': {'value': -111.29}}}}, {'type': 'FxForward', 'definition': {'tenor': '3Y', 'template': 'GBPUSD'}, 'quote': {'definition': {'instrumentCode': 'GBP3Y=', 'source': 'Composite'}, 'values': {'bid': {'value': -215.45}, 'ask': {'value': -177.44}}}}, {'type': 'FxForward', 'definition': {'tenor': '4Y', 'template': 'GBPUSD'}, 'quote': {'definition': {'instrumentCode': 'GBP4Y=', 'source': 'Composite'}, 'values': {'bid': {'value': -265.9}, 'ask': {'value': -262.4}}}}, {'type': 'FxForward', 'definition': {'tenor': '5Y', 'template': 'GBPUSD'}, 'quote': {'definition': {'instrumentCode': 'GBP5Y=', 'source': 'Composite'}, 'values': {'bid': {'value': -345.0}, 'ask': {'value': -297.0}}}}, {'type': 'FxForward', 'definition': {'tenor': '6Y', 'template': 'GBPUSD'}, 'quote': {'definition': {'instrumentCode': 'GBP6Y=', 'source': 'Composite'}, 'values': {'bid': {'value': -404.0}, 'ask': {'value': -349.0}}}}, {'type': 'FxForward', 'definition': {'tenor': '7Y', 'template': 'GBPUSD'}, 'quote': {'definition': {'instrumentCode': 'GBP7Y=', 'source': 'Composite'}, 'values': {'bid': {'value': -462.0}, 'ask': {'value': -401.0}}}}, {'type': 'FxForward', 'definition': {'tenor': '8Y', 'template': 'GBPUSD'}, 'quote': {'definition': {'instrumentCode': 'GBP8Y=', 'source': 'Composite'}, 'values': {'bid': {'value': -520.0}, 'ask': {'value': -453.0}}}}, {'type': 'FxForward', 'definition': {'tenor': '9Y', 'template': 'GBPUSD'}, 'quote': {'definition': {'instrumentCode': 'GBP9Y=', 'source': 'Composite'}, 'values': {'bid': {'value': -583.0}, 'ask': {'value': -510.0}}}}, {'type': 'FxForward', 'definition': {'tenor': '10Y', 'template': 'GBPUSD'}, 'quote': {'definition': {'instrumentCode': 'GBP10Y=', 'source': 'Composite'}, 'values': {'bid': {'value': -642.0}, 'ask': {'value': -565.0}}}}]}}, 'pricingPreferences': {'fxForwardCurveCalculationPreferences': {'extrapolationMode': 'Constant', 'interpolationMode': 'Linear', 'useDelayedDataIfDenied': False, 'ignoreInvalidInstruments': True, 'ignorePivotCurrencyHolidays': False}, 'valuationDate': '2023-10-10'}, 'analytics': {'constituents': [{'type': 'FxSpot', 'definition': {'template': 'EURUSD'}, 'quote': {'startDate': '2023-10-10', 'endDate': '2023-10-12', 'definition': {'instrumentCode': 'EUR='}, 'values': {'bid': {'value': 1.1828, 'isOverridden': True, 'marketValue': 1.0603}, 'ask': {'value': 1.183, 'isOverridden': True, 'marketValue': 1.0607}}}}, {'type': 'FxForward', 'definition': {'tenor': 'ON', 'template': 'EURUSD'}, 'quote': {'startDate': '2023-10-10', 'endDate': '2023-10-11', 'definition': {'instrumentCode': 'EURON=RFB'}, 'values': {'bid': {'value': 0.7214, 'isOverridden': True, 'marketValue': 0.4151}, 'ask': {'value': 0.7219, 'isOverridden': True, 'marketValue': 0.4171}}}}, {'type': 'FxForward', 'definition': {'tenor': 'TN', 'template': 'EURUSD'}, 'quote': {'startDate': '2023-10-11', 'endDate': '2023-10-12', 'definition': {'instrumentCode': 'EURTN=RFB'}, 'values': {'bid': {'value': 2.168, 'isOverridden': True, 'marketValue': 0.4124}, 'ask': {'value': 2.171, 'isOverridden': True, 'marketValue': 0.4134}}}}, {'type': 'FxForward', 'definition': {'tenor': 'SN', 'template': 'EURUSD'}, 'quote': {'startDate': '2023-10-12', 'endDate': '2023-10-13', 'definition': {'instrumentCode': 'EURSN=RFB'}, 'values': {'bid': {'value': 0.7203, 'isOverridden': True, 'marketValue': 0.4131}, 'ask': {'value': 0.7263, 'isOverridden': True, 'marketValue': 0.4191}}}}, {'type': 'FxForward', 'definition': {'tenor': 'SW', 'template': 'EURUSD'}, 'quote': {'startDate': '2023-10-12', 'endDate': '2023-10-19', 'definition': {'instrumentCode': 'EURSW=RFB'}, 'values': {'bid': {'value': 5.03, 'isOverridden': True, 'marketValue': 2.92}, 'ask': {'value': 5.06, 'isOverridden': True, 'marketValue': 2.96}}}}, {'type': 'FxForward', 'definition': {'tenor': 'OCTM', 'template': 'EURUSD'}, 'quote': {'startDate': '2023-10-12', 'endDate': '2023-10-31', 'definition': {'instrumentCode': 'EUROCTM=RFB'}, 'values': {'bid': {'value': 27.7, 'isOverridden': True, 'marketValue': 8.09}, 'ask': {'value': 27.74, 'isOverridden': True, 'marketValue': 8.14}}}}, {'type': 'FxForward', 'definition': {'tenor': '1M', 'template': 'EURUSD'}, 'quote': {'startDate': '2023-10-12', 'endDate': '2023-11-13', 'definition': {'instrumentCode': 'EUR1M=RFB'}, 'values': {'bid': {'value': 21.71, 'isOverridden': True, 'marketValue': 13.91}, 'ask': {'value': 21.73, 'isOverridden': True, 'marketValue': 13.93}}}}, {'type': 'FxForward', 'definition': {'tenor': 'NOVM', 'template': 'EURUSD'}, 'quote': {'startDate': '2023-10-12', 'endDate': '2023-11-30', 'definition': {'instrumentCode': 'EURNOVM=RFB'}, 'values': {'bid': {'value': 46.29, 'isOverridden': True, 'marketValue': 21.7}, 'ask': {'value': 46.35, 'isOverridden': True, 'marketValue': 21.76}}}}, {'type': 'FxForward', 'definition': {'tenor': '2M', 'template': 'EURUSD'}, 'quote': {'startDate': '2023-10-12', 'endDate': '2023-12-12', 'definition': {'instrumentCode': 'EUR2M=RFB'}, 'values': {'bid': {'value': 43.77, 'isOverridden': True, 'marketValue': 27.11}, 'ask': {'value': 43.82, 'isOverridden': True, 'marketValue': 27.2}}}}, {'type': 'FxForward', 'definition': {'tenor': 'DECM', 'template': 'EURUSD'}, 'quote': {'startDate': '2023-10-12', 'endDate': '2023-12-29', 'definition': {'instrumentCode': 'EURDECM=RFB'}, 'values': {'bid': {'value': 66.6, 'isOverridden': True, 'marketValue': 35.05}, 'ask': {'value': 66.68, 'isOverridden': True, 'marketValue': 35.16}}}}, {'type': 'FxForward', 'definition': {'tenor': '3M', 'template': 'EURUSD'}, 'quote': {'startDate': '2023-10-12', 'endDate': '2024-01-12', 'definition': {'instrumentCode': 'EUR3M=RFB'}, 'values': {'bid': {'value': 61.26, 'isOverridden': True, 'marketValue': 47.4}, 'ask': {'value': 61.34, 'isOverridden': True, 'marketValue': 47.53}}}}, {'type': 'FxForward', 'definition': {'tenor': 'JANM', 'template': 'EURUSD'}, 'quote': {'startDate': '2023-10-12', 'endDate': '2024-01-31', 'definition': {'instrumentCode': 'EURJANM=RFB'}, 'values': {'bid': {'value': 85.54, 'isOverridden': True, 'marketValue': 56.39}, 'ask': {'value': 85.66, 'isOverridden': True, 'marketValue': 56.61}}}}, {'type': 'FxForward', 'definition': {'tenor': 'FEBM', 'template': 'EURUSD'}, 'quote': {'startDate': '2023-10-12', 'endDate': '2024-02-29', 'definition': {'instrumentCode': 'EURFEBM=RFB'}, 'values': {'bid': {'value': 101.25, 'isOverridden': True, 'marketValue': 70.42}, 'ask': {'value': 101.45, 'isOverridden': True, 'marketValue': 70.71}}}}, {'type': 'FxForward', 'definition': {'tenor': 'MARM', 'template': 'EURUSD'}, 'quote': {'startDate': '2023-10-12', 'endDate': '2024-03-28', 'definition': {'instrumentCode': 'EURMARM=RFB'}, 'values': {'bid': {'value': 118.78, 'isOverridden': True, 'marketValue': 84.0}, 'ask': {'value': 119.06, 'isOverridden': True, 'marketValue': 84.33}}}}, {'type': 'FxForward', 'definition': {'tenor': '6M', 'template': 'EURUSD'}, 'quote': {'startDate': '2023-10-12', 'endDate': '2024-04-12', 'definition': {'instrumentCode': 'EUR6M=RFB'}, 'values': {'bid': {'value': 114.52, 'isOverridden': True, 'marketValue': 92.06}, 'ask': {'value': 114.79, 'isOverridden': True, 'marketValue': 92.41}}}}, {'type': 'FxForward', 'definition': {'tenor': 'APRM', 'template': 'EURUSD'}, 'quote': {'startDate': '2023-10-12', 'endDate': '2024-04-30', 'definition': {'instrumentCode': 'EURAPRM=RFB'}, 'values': {'bid': {'value': 134.52, 'isOverridden': True, 'marketValue': 100.69}, 'ask': {'value': 134.81, 'isOverridden': True, 'marketValue': 101.18}}}}, {'type': 'FxForward', 'definition': {'tenor': 'MAYM', 'template': 'EURUSD'}, 'quote': {'startDate': '2023-10-12', 'endDate': '2024-05-31', 'definition': {'instrumentCode': 'EURMAYM=RFB'}, 'values': {'bid': {'value': 149.24, 'isOverridden': True, 'marketValue': 116.11}, 'ask': {'value': 149.54, 'isOverridden': True, 'marketValue': 116.62}}}}, {'type': 'FxForward', 'definition': {'tenor': 'JUNM', 'template': 'EURUSD'}, 'quote': {'startDate': '2023-10-12', 'endDate': '2024-06-28', 'definition': {'instrumentCode': 'EURJUNM=RFB'}, 'values': {'bid': {'value': 165.08, 'isOverridden': True, 'marketValue': 129.45}, 'ask': {'value': 165.5, 'isOverridden': True, 'marketValue': 129.93}}}}, {'type': 'FxForward', 'definition': {'tenor': '9M', 'template': 'EURUSD'}, 'quote': {'startDate': '2023-10-12', 'endDate': '2024-07-12', 'definition': {'instrumentCode': 'EUR9M=RFB'}, 'values': {'bid': {'value': 161.28, 'isOverridden': True, 'marketValue': 136.88}, 'ask': {'value': 161.73, 'isOverridden': True, 'marketValue': 137.38}}}}, {'type': 'FxForward', 'definition': {'tenor': 'JULM', 'template': 'EURUSD'}, 'quote': {'startDate': '2023-10-12', 'endDate': '2024-07-31', 'definition': {'instrumentCode': 'EURJULM=RFB'}, 'values': {'bid': {'value': 179.44, 'isOverridden': True, 'marketValue': 146.1}, 'ask': {'value': 179.8, 'isOverridden': True, 'marketValue': 146.67}}}}, {'type': 'FxForward', 'definition': {'tenor': 'AUGM', 'template': 'EURUSD'}, 'quote': {'startDate': '2023-10-12', 'endDate': '2024-08-30', 'definition': {'instrumentCode': 'EURAUGM=RFB'}, 'values': {'bid': {'value': 192.92, 'isOverridden': True, 'marketValue': 161.24}, 'ask': {'value': 193.39, 'isOverridden': True, 'marketValue': 161.9}}}}, {'type': 'FxForward', 'definition': {'tenor': 'SEPM', 'template': 'EURUSD'}, 'quote': {'startDate': '2023-10-12', 'endDate': '2024-09-30', 'definition': {'instrumentCode': 'EURSEPM=RFB'}, 'values': {'bid': {'value': 5.75, 'isOverridden': True, 'marketValue': 176.37}, 'ask': {'value': 5.78, 'isOverridden': True, 'marketValue': 177.23}}}}, {'type': 'FxForward', 'definition': {'tenor': '1Y', 'template': 'EURUSD'}, 'quote': {'startDate': '2023-10-12', 'endDate': '2024-10-15', 'definition': {'instrumentCode': 'EUR1Y=RFB'}, 'values': {'bid': {'value': 202.22, 'isOverridden': True, 'marketValue': 183.65}, 'ask': {'value': 202.94, 'isOverridden': True, 'marketValue': 184.65}}}}, {'type': 'FxForward', 'definition': {'tenor': '2Y', 'template': 'EURUSD'}, 'quote': {'startDate': '2023-10-12', 'endDate': '2025-10-14', 'definition': {'instrumentCode': 'EUR2Y=RFB'}, 'values': {'bid': {'value': 332.28, 'isOverridden': True, 'marketValue': 354.24}, 'ask': {'value': 335.7, 'isOverridden': True, 'marketValue': 357.66}}}}, {'type': 'FxForward', 'definition': {'tenor': '3Y', 'template': 'EURUSD'}, 'quote': {'startDate': '2023-10-12', 'endDate': '2026-10-13', 'definition': {'instrumentCode': 'EUR3Y=RFB'}, 'values': {'bid': {'value': 453.72, 'isOverridden': True, 'marketValue': 513.63}, 'ask': {'value': 455.42, 'isOverridden': True, 'marketValue': 518.63}}}}, {'type': 'FxForward', 'definition': {'tenor': '4Y', 'template': 'EURUSD'}, 'quote': {'startDate': '2023-10-12', 'endDate': '2027-10-12', 'definition': {'instrumentCode': 'EUR4Y=RFB'}, 'values': {'bid': {'value': 572.34, 'isOverridden': True, 'marketValue': 673.65}, 'ask': {'value': 577.02, 'isOverridden': True, 'marketValue': 680.65}}}}, {'type': 'FxForward', 'definition': {'tenor': '5Y', 'template': 'EURUSD'}, 'quote': {'startDate': '2023-10-12', 'endDate': '2028-10-12', 'definition': {'instrumentCode': 'EUR5Y=RFB'}, 'values': {'bid': {'value': 691.61, 'isOverridden': True, 'marketValue': 836.68}, 'ask': {'value': 702.61, 'isOverridden': True, 'marketValue': 847.68}}}}, {'type': 'FxForward', 'definition': {'tenor': '6Y', 'template': 'EURUSD'}, 'quote': {'startDate': '2023-10-12', 'endDate': '2029-10-12', 'definition': {'instrumentCode': 'EUR6Y=RFB'}, 'values': {'bid': {'value': 821.13, 'isOverridden': True, 'marketValue': 1001.63}, 'ask': {'value': 835.13, 'isOverridden': True, 'marketValue': 1015.63}}}}, {'type': 'FxForward', 'definition': {'tenor': '7Y', 'template': 'EURUSD'}, 'quote': {'startDate': '2023-10-12', 'endDate': '2030-10-15', 'definition': {'instrumentCode': 'EUR7Y=RFB'}, 'values': {'bid': {'value': 957.38, 'isOverridden': True, 'marketValue': 1165.75}, 'ask': {'value': 973.38, 'isOverridden': True, 'marketValue': 1181.75}}}}, {'type': 'FxForward', 'definition': {'tenor': '8Y', 'template': 'EURUSD'}, 'quote': {'startDate': '2023-10-12', 'endDate': '2031-10-14', 'definition': {'instrumentCode': 'EUR8Y=RFB'}, 'values': {'bid': {'value': 1086.75, 'isOverridden': True, 'marketValue': 1315.0}, 'ask': {'value': 1125.75, 'isOverridden': True, 'marketValue': 1354.0}}}}, {'type': 'FxForward', 'definition': {'tenor': '9Y', 'template': 'EURUSD'}, 'quote': {'startDate': '2023-10-12', 'endDate': '2032-10-12', 'definition': {'instrumentCode': 'EUR9Y=RFB'}, 'values': {'bid': {'value': 1220.75, 'isOverridden': True, 'marketValue': 1469.5}, 'ask': {'value': 1270.75, 'isOverridden': True, 'marketValue': 1519.5}}}}, {'type': 'FxForward', 'definition': {'tenor': '10Y', 'template': 'EURUSD'}, 'quote': {'startDate': '2023-10-12', 'endDate': '2033-10-12', 'definition': {'instrumentCode': 'EUR10Y=RFB'}, 'values': {'bid': {'value': 1376.63, 'isOverridden': True, 'marketValue': 1629.67}, 'ask': {'value': 1411.63, 'isOverridden': True, 'marketValue': 1664.67}}}}, {'type': 'FxSpot', 'definition': {'template': 'GBPUSD'}, 'quote': {'startDate': '2023-10-10', 'endDate': '2023-10-12', 'definition': {'instrumentCode': 'GBP='}, 'values': {'bid': {'value': 1.3639, 'isOverridden': True, 'marketValue': 1.2285}, 'ask': {'value': 1.3643, 'isOverridden': True, 'marketValue': 1.2288}}}}, {'type': 'FxForward', 'definition': {'tenor': 'ON', 'template': 'GBPUSD'}, 'quote': {'startDate': '2023-10-10', 'endDate': '2023-10-11', 'definition': {'instrumentCode': 'GBPON='}, 'values': {'bid': {'value': 0.09, 'isOverridden': True, 'marketValue': 0.03}, 'ask': {'value': 0.11, 'isOverridden': True, 'marketValue': 0.13}}}}, {'type': 'FxForward', 'definition': {'tenor': 'TN', 'template': 'GBPUSD'}, 'quote': {'startDate': '2023-10-11', 'endDate': '2023-10-12', 'definition': {'instrumentCode': 'GBPTN='}, 'values': {'bid': {'value': 0.27, 'isOverridden': True, 'marketValue': 0.025}, 'ask': {'value': 0.29, 'isOverridden': True, 'marketValue': 0.125}}}}, {'type': 'FxForward', 'definition': {'tenor': 'SN', 'template': 'GBPUSD'}, 'quote': {'startDate': '2023-10-12', 'endDate': '2023-10-13', 'definition': {'instrumentCode': 'GBPSN='}, 'values': {'bid': {'value': 0.08, 'isOverridden': True, 'marketValue': 0.068}, 'ask': {'value': 0.09, 'isOverridden': True, 'marketValue': 0.082}}}}, {'type': 'FxForward', 'definition': {'tenor': 'SW', 'template': 'GBPUSD'}, 'quote': {'startDate': '2023-10-12', 'endDate': '2023-10-19', 'definition': {'instrumentCode': 'GBPSW='}, 'values': {'bid': {'value': 0.56, 'isOverridden': True, 'marketValue': 0.41}, 'ask': {'value': 0.57, 'isOverridden': True, 'marketValue': 0.61}}}}, {'type': 'FxForward', 'definition': {'tenor': '1M', 'template': 'GBPUSD'}, 'quote': {'startDate': '2023-10-12', 'endDate': '2023-11-13', 'definition': {'instrumentCode': 'GBP1M='}, 'values': {'bid': {'value': 2.31, 'isOverridden': True, 'marketValue': 2.23}, 'ask': {'value': 2.32, 'isOverridden': True, 'marketValue': 2.28}}}}, {'type': 'FxForward', 'definition': {'tenor': '2M', 'template': 'GBPUSD'}, 'quote': {'startDate': '2023-10-12', 'endDate': '2023-12-12', 'definition': {'instrumentCode': 'GBP2M='}, 'values': {'bid': {'value': 2.53, 'isOverridden': True, 'marketValue': 3.81}, 'ask': {'value': 2.69, 'isOverridden': True, 'marketValue': 4.49}}}}, {'type': 'FxForward', 'definition': {'tenor': '3M', 'template': 'GBPUSD'}, 'quote': {'startDate': '2023-10-12', 'endDate': '2024-01-12', 'definition': {'instrumentCode': 'GBP3M='}, 'values': {'bid': {'value': 1.43, 'isOverridden': True, 'marketValue': 9.03}, 'ask': {'value': 1.61, 'isOverridden': True, 'marketValue': 9.27}}}}, {'type': 'FxForward', 'definition': {'tenor': '6M', 'template': 'GBPUSD'}, 'quote': {'startDate': '2023-10-12', 'endDate': '2024-04-12', 'definition': {'instrumentCode': 'GBP6M='}, 'values': {'bid': {'value': -6.96, 'isOverridden': True, 'marketValue': 13.56}, 'ask': {'value': -6.76, 'isOverridden': True, 'marketValue': 16.06}}}}, {'type': 'FxForward', 'definition': {'tenor': '9M', 'template': 'GBPUSD'}, 'quote': {'startDate': '2023-10-12', 'endDate': '2024-07-12', 'definition': {'instrumentCode': 'GBP9M='}, 'values': {'bid': {'value': -20.33, 'isOverridden': True, 'marketValue': 15.49}, 'ask': {'value': -17.85, 'isOverridden': True, 'marketValue': 18.89}}}}, {'type': 'FxForward', 'definition': {'tenor': '1Y', 'template': 'GBPUSD'}, 'quote': {'startDate': '2023-10-12', 'endDate': '2024-10-15', 'definition': {'instrumentCode': 'GBP1Y='}, 'values': {'bid': {'value': -36.63, 'isOverridden': True, 'marketValue': 13.85}, 'ask': {'value': -36.01, 'isOverridden': True, 'marketValue': 18.85}}}}, {'type': 'FxForward', 'definition': {'tenor': '2Y', 'template': 'GBPUSD'}, 'quote': {'startDate': '2023-10-12', 'endDate': '2025-10-14', 'definition': {'instrumentCode': 'GBP2Y='}, 'values': {'bid': {'value': -128.53, 'isOverridden': True, 'marketValue': -18.4}, 'ask': {'value': -111.29, 'isOverridden': True, 'marketValue': -0.6}}}}, {'type': 'FxForward', 'definition': {'tenor': '3Y', 'template': 'GBPUSD'}, 'quote': {'startDate': '2023-10-12', 'endDate': '2026-10-13', 'definition': {'instrumentCode': 'GBP3Y='}, 'values': {'bid': {'value': -215.45, 'isOverridden': True, 'marketValue': -36.0}, 'ask': {'value': -177.44, 'isOverridden': True, 'marketValue': 15.25}}}}, {'type': 'FxForward', 'definition': {'tenor': '4Y', 'template': 'GBPUSD'}, 'quote': {'startDate': '2023-10-12', 'endDate': '2027-10-12', 'definition': {'instrumentCode': 'GBP4Y='}, 'values': {'bid': {'value': -265.9, 'isOverridden': True, 'marketValue': -22.25}, 'ask': {'value': -262.4, 'isOverridden': True, 'marketValue': 43.5}}}}, {'type': 'FxForward', 'definition': {'tenor': '5Y', 'template': 'GBPUSD'}, 'quote': {'startDate': '2023-10-12', 'endDate': '2028-10-12', 'definition': {'instrumentCode': 'GBP5Y='}, 'values': {'bid': {'value': -345.0, 'isOverridden': True, 'marketValue': 23.75}, 'ask': {'value': -297.0, 'isOverridden': True, 'marketValue': 103.25}}}}, {'type': 'FxForward', 'definition': {'tenor': '6Y', 'template': 'GBPUSD'}, 'quote': {'startDate': '2023-10-12', 'endDate': '2029-10-12', 'definition': {'instrumentCode': 'GBP6Y='}, 'values': {'bid': {'value': -404.0, 'isOverridden': True, 'marketValue': 113.0}, 'ask': {'value': -349.0, 'isOverridden': True, 'marketValue': 155.0}}}}, {'type': 'FxForward', 'definition': {'tenor': '7Y', 'template': 'GBPUSD'}, 'quote': {'startDate': '2023-10-12', 'endDate': '2030-10-15', 'definition': {'instrumentCode': 'GBP7Y='}, 'values': {'bid': {'value': -462.0, 'isOverridden': True, 'marketValue': 175.0}, 'ask': {'value': -401.0, 'isOverridden': True, 'marketValue': 222.0}}}}, {'type': 'FxForward', 'definition': {'tenor': '8Y', 'template': 'GBPUSD'}, 'quote': {'startDate': '2023-10-12', 'endDate': '2031-10-14', 'definition': {'instrumentCode': 'GBP8Y='}, 'values': {'bid': {'value': -520.0, 'isOverridden': True, 'marketValue': 245.0}, 'ask': {'value': -453.0, 'isOverridden': True, 'marketValue': 275.0}}}}, {'type': 'FxForward', 'definition': {'tenor': '9Y', 'template': 'GBPUSD'}, 'quote': {'startDate': '2023-10-12', 'endDate': '2032-10-12', 'definition': {'instrumentCode': 'GBP9Y='}, 'values': {'bid': {'value': -583.0, 'isOverridden': True, 'marketValue': 289.0}, 'ask': {'value': -510.0, 'isOverridden': True, 'marketValue': 347.0}}}}, {'type': 'FxForward', 'definition': {'tenor': '10Y', 'template': 'GBPUSD'}, 'quote': {'startDate': '2023-10-12', 'endDate': '2033-10-12', 'definition': {'instrumentCode': 'GBP10Y='}, 'values': {'bid': {'value': -642.0, 'isOverridden': True, 'marketValue': 350.0}, 'ask': {'value': -565.0, 'isOverridden': True, 'marketValue': 386.0}}}}], 'outrightCurve': {'curveType': 'FxOutrightCurve', 'crossCurrency': 'EURGBP', 'points': [{'startDate': '2023-10-10', 'tenor': 'ON', 'endDate': '2023-10-11', 'outright': {'bid': 0.8667755727630428, 'ask': 0.8671792266068367, 'mid': 0.8669773996849397}, 'instruments': [{'instrumentCode': 'EURON=RFB'}, {'instrumentCode': 'GBPON='}]}, {'startDate': '2023-10-11', 'tenor': 'TN', 'endDate': '2023-10-12', 'outright': {'bid': 0.8668227693430861, 'ask': 0.867225126129964, 'mid': 0.8670239477365251}, 'instruments': [{'instrumentCode': 'EURTN=RFB'}, {'instrumentCode': 'GBPTN='}]}, {'startDate': '2023-10-12', 'tenor': 'SPOT', 'endDate': '2023-10-12', 'outright': {'bid': 0.866964743824672, 'ask': 0.8673656426424226, 'mid': 0.8671651932335473}, 'instruments': [{'instrumentCode': 'EUR='}, {'instrumentCode': 'GBP='}]}, {'startDate': '2023-10-12', 'tenor': 'SN', 'endDate': '2023-10-13', 'outright': {'bid': 0.867011820635941, 'ask': 0.8674138065030781, 'mid': 0.8672128135695095}, 'instruments': [{'instrumentCode': 'EURSN=RFB'}, {'instrumentCode': 'GBPSN='}]}, {'startDate': '2023-10-12', 'tenor': 'SW', 'endDate': '2023-10-19', 'outright': {'bid': 0.8672971956753254, 'ask': 0.867701010883049, 'mid': 0.8674991032791872}, 'instruments': [{'instrumentCode': 'EURSW=RFB'}, {'instrumentCode': 'GBPSW='}]}, {'startDate': '2023-10-12', 'tenor': 'OCTM', 'endDate': '2023-10-31', 'outright': {'bid': 0.8689052879530885, 'ask': 0.86931028415589, 'mid': 0.8691077860544892}, 'instruments': [{'instrumentCode': 'EUROCTM=RFB'}]}, {'startDate': '2023-10-12', 'tenor': '1M', 'endDate': '2023-11-13', 'outright': {'bid': 0.8684083627206983, 'ask': 0.8688117196955425, 'mid': 0.8686100412081204}, 'instruments': [{'instrumentCode': 'EUR1M=RFB'}, {'instrumentCode': 'GBP1M='}]}, {'startDate': '2023-10-12', 'tenor': 'NOVM', 'endDate': '2023-11-30', 'outright': {'bid': 0.8701958808964619, 'ask': 0.8706083009293211, 'mid': 0.8704020909128916}, 'instruments': [{'instrumentCode': 'EURNOVM=RFB'}]}, {'startDate': '2023-10-12', 'tenor': '2M', 'endDate': '2023-12-12', 'outright': {'bid': 0.8700014436792863, 'ask': 0.8704170280019912, 'mid': 0.8702092358406388}, 'instruments': [{'instrumentCode': 'EUR2M=RFB'}, {'instrumentCode': 'GBP2M='}]}, {'startDate': '2023-10-12', 'tenor': 'DECM', 'endDate': '2023-12-29', 'outright': {'bid': 0.8717123339794277, 'ask': 0.8721313585896976, 'mid': 0.8719218462845626}, 'instruments': [{'instrumentCode': 'EURDECM=RFB'}]}, {'startDate': '2023-10-12', 'tenor': '3M', 'endDate': '2024-01-12', 'outright': {'bid': 0.8713521309879873, 'ask': 0.8717716376976388, 'mid': 0.871561884342813}, 'instruments': [{'instrumentCode': 'EUR3M=RFB'}, {'instrumentCode': 'GBP3M='}]}, {'startDate': '2023-10-12', 'tenor': 'JANM', 'endDate': '2024-01-31', 'outright': {'bid': 0.8732434320122051, 'ask': 0.8736667724528624, 'mid': 0.8734551022325338}, 'instruments': [{'instrumentCode': 'EURJANM=RFB'}]}, {'startDate': '2023-10-12', 'tenor': 'FEBM', 'endDate': '2024-02-29', 'outright': {'bid': 0.8745659392660389, 'ask': 0.8749960441265865, 'mid': 0.8747809916963127}, 'instruments': [{'instrumentCode': 'EURFEBM=RFB'}]}, {'startDate': '2023-10-12', 'tenor': 'MARM', 'endDate': '2024-03-28', 'outright': {'bid': 0.8760165108572209, 'ask': 0.8764534063744717, 'mid': 0.8762349586158462}, 'instruments': [{'instrumentCode': 'EURMARM=RFB'}]}, {'startDate': '2023-10-12', 'tenor': '6M', 'endDate': '2024-04-12', 'outright': {'bid': 0.8757927405208473, 'ask': 0.8762290897033754, 'mid': 0.8760109151121114}, 'instruments': [{'instrumentCode': 'EUR6M=RFB'}, {'instrumentCode': 'GBP6M='}]}, {'startDate': '2023-10-12', 'tenor': 'APRM', 'endDate': '2024-04-30', 'outright': {'bid': 0.8774005656266679, 'ask': 0.8778679950473565, 'mid': 0.8776342803370122}, 'instruments': [{'instrumentCode': 'EURAPRM=RFB'}]}, {'startDate': '2023-10-12', 'tenor': 'MAYM', 'endDate': '2024-05-31', 'outright': {'bid': 0.8787237048042792, 'ask': 0.8792425689886679, 'mid': 0.8789831368964736}, 'instruments': [{'instrumentCode': 'EURMAYM=RFB'}]}, {'startDate': '2023-10-12', 'tenor': 'JUNM', 'endDate': '2024-06-28', 'outright': {'bid': 0.880106156886009, 'ask': 0.8806798688311283, 'mid': 0.8803930128585686}, 'instruments': [{'instrumentCode': 'EURJUNM=RFB'}]}, {'startDate': '2023-10-12', 'tenor': '9M', 'endDate': '2024-07-12', 'outright': {'bid': 0.8799374685783274, 'ask': 0.8805360582200759, 'mid': 0.8802367633992016}, 'instruments': [{'instrumentCode': 'EUR9M=RFB'}, {'instrumentCode': 'GBP9M='}]}, {'startDate': '2023-10-12', 'tenor': 'JULM', 'endDate': '2024-07-31', 'outright': {'bid': 0.8815052771651443, 'ask': 0.8820740616698287, 'mid': 0.8817896694174865}, 'instruments': [{'instrumentCode': 'EURJULM=RFB'}]}, {'startDate': '2023-10-12', 'tenor': 'AUGM', 'endDate': '2024-08-30', 'outright': {'bid': 0.8828665797381385, 'ask': 0.8834061711713751, 'mid': 0.8831363754547568}, 'instruments': [{'instrumentCode': 'EURAUGM=RFB'}]}, {'startDate': '2023-10-12', 'tenor': 'SEPM', 'endDate': '2024-09-30', 'outright': {'bid': 0.8694984583349012, 'ask': 0.8699617047100489, 'mid': 0.8697300815224751}, 'instruments': [{'instrumentCode': 'EURSEPM=RFB'}]}, {'startDate': '2023-10-12', 'tenor': '1Y', 'endDate': '2024-10-15', 'outright': {'bid': 0.8841205880213037, 'ask': 0.8846208418091849, 'mid': 0.8843707149152442}, 'instruments': [{'instrumentCode': 'EUR1Y=RFB'}, {'instrumentCode': 'GBP1Y='}]}, {'startDate': '2023-10-12', 'tenor': '2Y', 'endDate': '2025-10-14', 'outright': {'bid': 0.8986506509524664, 'ask': 0.9004646026378063, 'mid': 0.8995576267951364}, 'instruments': [{'instrumentCode': 'EUR2Y=RFB'}, {'instrumentCode': 'GBP2Y='}]}, {'startDate': '2023-10-12', 'tenor': '3Y', 'endDate': '2026-10-13', 'outright': {'bid': 0.9120838643175627, 'ask': 0.9152139337209606, 'mid': 0.9136488990192617}, 'instruments': [{'instrumentCode': 'EUR3Y=RFB'}, {'instrumentCode': 'GBP3Y='}]}, {'startDate': '2023-10-12', 'tenor': '4Y', 'endDate': '2027-10-12', 'outright': {'bid': 0.926740205969837, 'ask': 0.92775945741825, 'mid': 0.9272498316940435}, 'instruments': [{'instrumentCode': 'EUR4Y=RFB'}, {'instrumentCode': 'GBP4Y='}]}, {'startDate': '2023-10-12', 'tenor': '5Y', 'endDate': '2028-10-12', 'outright': {'bid': 0.938079574404316, 'ask': 0.9427267940424252, 'mid': 0.9404031842233707}, 'instruments': [{'instrumentCode': 'EUR5Y=RFB'}, {'instrumentCode': 'GBP5Y='}]}, {'startDate': '2023-10-12', 'tenor': '6Y', 'endDate': '2029-10-12', 'outright': {'bid': 0.9514916503685874, 'ask': 0.9569421987155271, 'mid': 0.9542169245420573}, 'instruments': [{'instrumentCode': 'EUR6Y=RFB'}, {'instrumentCode': 'GBP6Y='}]}, {'startDate': '2023-10-12', 'tenor': '7Y', 'endDate': '2030-10-15', 'outright': {'bid': 0.9655172934602025, 'ask': 0.9716460499354937, 'mid': 0.9685816716978481}, 'instruments': [{'instrumentCode': 'EUR7Y=RFB'}, {'instrumentCode': 'GBP7Y='}]}, {'startDate': '2023-10-12', 'tenor': '8Y', 'endDate': '2031-10-14', 'outright': {'bid': 0.9791319181197877, 'ask': 0.9875562161750135, 'mid': 0.9833440671474006}, 'instruments': [{'instrumentCode': 'EUR8Y=RFB'}, {'instrumentCode': 'GBP8Y='}]}, {'startDate': '2023-10-12', 'tenor': '9Y', 'endDate': '2032-10-12', 'outright': {'bid': 0.9935848625599634, 'ask': 1.003427542892157, 'mid': 0.9985062027260603}, 'instruments': [{'instrumentCode': 'EUR9Y=RFB'}, {'instrumentCode': 'GBP9Y='}]}, {'startDate': '2023-10-12', 'tenor': '10Y', 'endDate': '2033-10-12', 'outright': {'bid': 1.0096826731916195, 'ask': 1.018822035854428, 'mid': 1.0142523545230238}, 'instruments': [{'instrumentCode': 'EUR10Y=RFB'}, {'instrumentCode': 'GBP10Y='}]}]}, 'underlyingCurves': [{'curveType': 'FxOutrightCurve', 'crossCurrency': 'EURGBP', 'points': [{'startDate': '2023-10-10', 'tenor': 'ON', 'endDate': '2023-10-11', 'outright': {'bid': 0.8667755727630428, 'ask': 0.8671792266068367, 'mid': 0.8669773996849397}, 'instruments': [{'instrumentCode': 'EURON=RFB'}, {'instrumentCode': 'GBPON='}]}, {'startDate': '2023-10-11', 'tenor': 'TN', 'endDate': '2023-10-12', 'outright': {'bid': 0.8668227693430861, 'ask': 0.867225126129964, 'mid': 0.8670239477365251}, 'instruments': [{'instrumentCode': 'EURTN=RFB'}, {'instrumentCode': 'GBPTN='}]}, {'startDate': '2023-10-12', 'tenor': 'SPOT', 'endDate': '2023-10-12', 'outright': {'bid': 0.866964743824672, 'ask': 0.8673656426424226, 'mid': 0.8671651932335473}, 'instruments': [{'instrumentCode': 'EUR='}, {'instrumentCode': 'GBP='}]}, {'startDate': '2023-10-12', 'tenor': 'SN', 'endDate': '2023-10-13', 'outright': {'bid': 0.867011820635941, 'ask': 0.8674138065030781, 'mid': 0.8672128135695095}, 'instruments': [{'instrumentCode': 'EURSN=RFB'}, {'instrumentCode': 'GBPSN='}]}, {'startDate': '2023-10-12', 'tenor': 'SW', 'endDate': '2023-10-19', 'outright': {'bid': 0.8672971956753254, 'ask': 0.867701010883049, 'mid': 0.8674991032791872}, 'instruments': [{'instrumentCode': 'EURSW=RFB'}, {'instrumentCode': 'GBPSW='}]}, {'startDate': '2023-10-12', 'tenor': 'OCTM', 'endDate': '2023-10-31', 'outright': {'bid': 0.8689052879530885, 'ask': 0.86931028415589, 'mid': 0.8691077860544892}, 'instruments': [{'instrumentCode': 'EUROCTM=RFB'}]}, {'startDate': '2023-10-12', 'tenor': '1M', 'endDate': '2023-11-13', 'outright': {'bid': 0.8684083627206983, 'ask': 0.8688117196955425, 'mid': 0.8686100412081204}, 'instruments': [{'instrumentCode': 'EUR1M=RFB'}, {'instrumentCode': 'GBP1M='}]}, {'startDate': '2023-10-12', 'tenor': 'NOVM', 'endDate': '2023-11-30', 'outright': {'bid': 0.8701958808964619, 'ask': 0.8706083009293211, 'mid': 0.8704020909128916}, 'instruments': [{'instrumentCode': 'EURNOVM=RFB'}]}, {'startDate': '2023-10-12', 'tenor': '2M', 'endDate': '2023-12-12', 'outright': {'bid': 0.8700014436792863, 'ask': 0.8704170280019912, 'mid': 0.8702092358406388}, 'instruments': [{'instrumentCode': 'EUR2M=RFB'}, {'instrumentCode': 'GBP2M='}]}, {'startDate': '2023-10-12', 'tenor': 'DECM', 'endDate': '2023-12-29', 'outright': {'bid': 0.8717123339794277, 'ask': 0.8721313585896976, 'mid': 0.8719218462845626}, 'instruments': [{'instrumentCode': 'EURDECM=RFB'}]}, {'startDate': '2023-10-12', 'tenor': '3M', 'endDate': '2024-01-12', 'outright': {'bid': 0.8713521309879873, 'ask': 0.8717716376976388, 'mid': 0.871561884342813}, 'instruments': [{'instrumentCode': 'EUR3M=RFB'}, {'instrumentCode': 'GBP3M='}]}, {'startDate': '2023-10-12', 'tenor': 'JANM', 'endDate': '2024-01-31', 'outright': {'bid': 0.8732434320122051, 'ask': 0.8736667724528624, 'mid': 0.8734551022325338}, 'instruments': [{'instrumentCode': 'EURJANM=RFB'}]}, {'startDate': '2023-10-12', 'tenor': 'FEBM', 'endDate': '2024-02-29', 'outright': {'bid': 0.8745659392660389, 'ask': 0.8749960441265865, 'mid': 0.8747809916963127}, 'instruments': [{'instrumentCode': 'EURFEBM=RFB'}]}, {'startDate': '2023-10-12', 'tenor': 'MARM', 'endDate': '2024-03-28', 'outright': {'bid': 0.8760165108572209, 'ask': 0.8764534063744717, 'mid': 0.8762349586158462}, 'instruments': [{'instrumentCode': 'EURMARM=RFB'}]}, {'startDate': '2023-10-12', 'tenor': '6M', 'endDate': '2024-04-12', 'outright': {'bid': 0.8757927405208473, 'ask': 0.8762290897033754, 'mid': 0.8760109151121114}, 'instruments': [{'instrumentCode': 'EUR6M=RFB'}, {'instrumentCode': 'GBP6M='}]}, {'startDate': '2023-10-12', 'tenor': 'APRM', 'endDate': '2024-04-30', 'outright': {'bid': 0.8774005656266679, 'ask': 0.8778679950473565, 'mid': 0.8776342803370122}, 'instruments': [{'instrumentCode': 'EURAPRM=RFB'}]}, {'startDate': '2023-10-12', 'tenor': 'MAYM', 'endDate': '2024-05-31', 'outright': {'bid': 0.8787237048042792, 'ask': 0.8792425689886679, 'mid': 0.8789831368964736}, 'instruments': [{'instrumentCode': 'EURMAYM=RFB'}]}, {'startDate': '2023-10-12', 'tenor': 'JUNM', 'endDate': '2024-06-28', 'outright': {'bid': 0.880106156886009, 'ask': 0.8806798688311283, 'mid': 0.8803930128585686}, 'instruments': [{'instrumentCode': 'EURJUNM=RFB'}]}, {'startDate': '2023-10-12', 'tenor': '9M', 'endDate': '2024-07-12', 'outright': {'bid': 0.8799374685783274, 'ask': 0.8805360582200759, 'mid': 0.8802367633992016}, 'instruments': [{'instrumentCode': 'EUR9M=RFB'}, {'instrumentCode': 'GBP9M='}]}, {'startDate': '2023-10-12', 'tenor': 'JULM', 'endDate': '2024-07-31', 'outright': {'bid': 0.8815052771651443, 'ask': 0.8820740616698287, 'mid': 0.8817896694174865}, 'instruments': [{'instrumentCode': 'EURJULM=RFB'}]}, {'startDate': '2023-10-12', 'tenor': 'AUGM', 'endDate': '2024-08-30', 'outright': {'bid': 0.8828665797381385, 'ask': 0.8834061711713751, 'mid': 0.8831363754547568}, 'instruments': [{'instrumentCode': 'EURAUGM=RFB'}]}, {'startDate': '2023-10-12', 'tenor': 'SEPM', 'endDate': '2024-09-30', 'outright': {'bid': 0.8694984583349012, 'ask': 0.8699617047100489, 'mid': 0.8697300815224751}, 'instruments': [{'instrumentCode': 'EURSEPM=RFB'}]}, {'startDate': '2023-10-12', 'tenor': '1Y', 'endDate': '2024-10-15', 'outright': {'bid': 0.8841205880213037, 'ask': 0.8846208418091849, 'mid': 0.8843707149152442}, 'instruments': [{'instrumentCode': 'EUR1Y=RFB'}, {'instrumentCode': 'GBP1Y='}]}, {'startDate': '2023-10-12', 'tenor': '2Y', 'endDate': '2025-10-14', 'outright': {'bid': 0.8986506509524664, 'ask': 0.9004646026378063, 'mid': 0.8995576267951364}, 'instruments': [{'instrumentCode': 'EUR2Y=RFB'}, {'instrumentCode': 'GBP2Y='}]}, {'startDate': '2023-10-12', 'tenor': '3Y', 'endDate': '2026-10-13', 'outright': {'bid': 0.9120838643175627, 'ask': 0.9152139337209606, 'mid': 0.9136488990192617}, 'instruments': [{'instrumentCode': 'EUR3Y=RFB'}, {'instrumentCode': 'GBP3Y='}]}, {'startDate': '2023-10-12', 'tenor': '4Y', 'endDate': '2027-10-12', 'outright': {'bid': 0.926740205969837, 'ask': 0.92775945741825, 'mid': 0.9272498316940435}, 'instruments': [{'instrumentCode': 'EUR4Y=RFB'}, {'instrumentCode': 'GBP4Y='}]}, {'startDate': '2023-10-12', 'tenor': '5Y', 'endDate': '2028-10-12', 'outright': {'bid': 0.938079574404316, 'ask': 0.9427267940424252, 'mid': 0.9404031842233707}, 'instruments': [{'instrumentCode': 'EUR5Y=RFB'}, {'instrumentCode': 'GBP5Y='}]}, {'startDate': '2023-10-12', 'tenor': '6Y', 'endDate': '2029-10-12', 'outright': {'bid': 0.9514916503685874, 'ask': 0.9569421987155271, 'mid': 0.9542169245420573}, 'instruments': [{'instrumentCode': 'EUR6Y=RFB'}, {'instrumentCode': 'GBP6Y='}]}, {'startDate': '2023-10-12', 'tenor': '7Y', 'endDate': '2030-10-15', 'outright': {'bid': 0.9655172934602025, 'ask': 0.9716460499354937, 'mid': 0.9685816716978481}, 'instruments': [{'instrumentCode': 'EUR7Y=RFB'}, {'instrumentCode': 'GBP7Y='}]}, {'startDate': '2023-10-12', 'tenor': '8Y', 'endDate': '2031-10-14', 'outright': {'bid': 0.9791319181197877, 'ask': 0.9875562161750135, 'mid': 0.9833440671474006}, 'instruments': [{'instrumentCode': 'EUR8Y=RFB'}, {'instrumentCode': 'GBP8Y='}]}, {'startDate': '2023-10-12', 'tenor': '9Y', 'endDate': '2032-10-12', 'outright': {'bid': 0.9935848625599634, 'ask': 1.003427542892157, 'mid': 0.9985062027260603}, 'instruments': [{'instrumentCode': 'EUR9Y=RFB'}, {'instrumentCode': 'GBP9Y='}]}, {'startDate': '2023-10-12', 'tenor': '10Y', 'endDate': '2033-10-12', 'outright': {'bid': 1.0096826731916195, 'ask': 1.018822035854428, 'mid': 1.0142523545230238}, 'instruments': [{'instrumentCode': 'EUR10Y=RFB'}, {'instrumentCode': 'GBP10Y='}]}]}, {'curveType': 'FxOutrightCurve', 'crossCurrency': 'EURUSD', 'points': [{'startDate': '2023-10-10', 'tenor': 'ON', 'endDate': '2023-10-11', 'outright': {'bid': 1.18251071, 'ask': 1.1827110600000001, 'mid': 1.1826108850000001}, 'instruments': [{'instrumentCode': 'EURON=RFB'}]}, {'startDate': '2023-10-11', 'tenor': 'TN', 'endDate': '2023-10-12', 'outright': {'bid': 1.1825829, 'ask': 1.1827832, 'mid': 1.18268305}, 'instruments': [{'instrumentCode': 'EURTN=RFB'}]}, {'startDate': '2023-10-12', 'tenor': 'SPOT', 'endDate': '2023-10-12', 'outright': {'bid': 1.1828, 'ask': 1.183, 'mid': 1.1829}, 'instruments': [{'instrumentCode': 'EUR='}]}, {'startDate': '2023-10-12', 'tenor': 'SN', 'endDate': '2023-10-13', 'outright': {'bid': 1.18287203, 'ask': 1.18307263, 'mid': 1.1829723300000001}, 'instruments': [{'instrumentCode': 'EURSN=RFB'}]}, {'startDate': '2023-10-12', 'tenor': 'SW', 'endDate': '2023-10-19', 'outright': {'bid': 1.183303, 'ask': 1.183506, 'mid': 1.1834045}, 'instruments': [{'instrumentCode': 'EURSW=RFB'}]}, {'startDate': '2023-10-12', 'tenor': 'OCTM', 'endDate': '2023-10-31', 'outright': {'bid': 1.18557, 'ask': 1.185774, 'mid': 1.185672}, 'instruments': [{'instrumentCode': 'EUROCTM=RFB'}]}, {'startDate': '2023-10-12', 'tenor': '1M', 'endDate': '2023-11-13', 'outright': {'bid': 1.184971, 'ask': 1.185173, 'mid': 1.185072}, 'instruments': [{'instrumentCode': 'EUR1M=RFB'}]}, {'startDate': '2023-10-12', 'tenor': 'NOVM', 'endDate': '2023-11-30', 'outright': {'bid': 1.187429, 'ask': 1.187635, 'mid': 1.187532}, 'instruments': [{'instrumentCode': 'EURNOVM=RFB'}]}, {'startDate': '2023-10-12', 'tenor': '2M', 'endDate': '2023-12-12', 'outright': {'bid': 1.1871770000000001, 'ask': 1.1873820000000002, 'mid': 1.1872795000000003}, 'instruments': [{'instrumentCode': 'EUR2M=RFB'}]}, {'startDate': '2023-10-12', 'tenor': 'DECM', 'endDate': '2023-12-29', 'outright': {'bid': 1.18946, 'ask': 1.189668, 'mid': 1.1895639999999998}, 'instruments': [{'instrumentCode': 'EURDECM=RFB'}]}, {'startDate': '2023-10-12', 'tenor': '3M', 'endDate': '2024-01-12', 'outright': {'bid': 1.1889260000000001, 'ask': 1.1891340000000001, 'mid': 1.1890300000000003}, 'instruments': [{'instrumentCode': 'EUR3M=RFB'}]}, {'startDate': '2023-10-12', 'tenor': 'JANM', 'endDate': '2024-01-31', 'outright': {'bid': 1.191354, 'ask': 1.1915660000000001, 'mid': 1.1914600000000002}, 'instruments': [{'instrumentCode': 'EURJANM=RFB'}]}, {'startDate': '2023-10-12', 'tenor': 'FEBM', 'endDate': '2024-02-29', 'outright': {'bid': 1.192925, 'ask': 1.1931450000000001, 'mid': 1.193035}, 'instruments': [{'instrumentCode': 'EURFEBM=RFB'}]}, {'startDate': '2023-10-12', 'tenor': 'MARM', 'endDate': '2024-03-28', 'outright': {'bid': 1.1946780000000001, 'ask': 1.194906, 'mid': 1.194792}, 'instruments': [{'instrumentCode': 'EURMARM=RFB'}]}, {'startDate': '2023-10-12', 'tenor': '6M', 'endDate': '2024-04-12', 'outright': {'bid': 1.194252, 'ask': 1.194479, 'mid': 1.1943655}, 'instruments': [{'instrumentCode': 'EUR6M=RFB'}]}, {'startDate': '2023-10-12', 'tenor': 'APRM', 'endDate': '2024-04-30', 'outright': {'bid': 1.196252, 'ask': 1.1964810000000001, 'mid': 1.1963665}, 'instruments': [{'instrumentCode': 'EURAPRM=RFB'}]}, {'startDate': '2023-10-12', 'tenor': 'MAYM', 'endDate': '2024-05-31', 'outright': {'bid': 1.197724, 'ask': 1.197954, 'mid': 1.197839}, 'instruments': [{'instrumentCode': 'EURMAYM=RFB'}]}, {'startDate': '2023-10-12', 'tenor': 'JUNM', 'endDate': '2024-06-28', 'outright': {'bid': 1.199308, 'ask': 1.1995500000000001, 'mid': 1.199429}, 'instruments': [{'instrumentCode': 'EURJUNM=RFB'}]}, {'startDate': '2023-10-12', 'tenor': '9M', 'endDate': '2024-07-12', 'outright': {'bid': 1.198928, 'ask': 1.199173, 'mid': 1.1990505}, 'instruments': [{'instrumentCode': 'EUR9M=RFB'}]}, {'startDate': '2023-10-12', 'tenor': 'JULM', 'endDate': '2024-07-31', 'outright': {'bid': 1.200744, 'ask': 1.2009800000000002, 'mid': 1.200862}, 'instruments': [{'instrumentCode': 'EURJULM=RFB'}]}, {'startDate': '2023-10-12', 'tenor': 'AUGM', 'endDate': '2024-08-30', 'outright': {'bid': 1.2020920000000002, 'ask': 1.202339, 'mid': 1.2022155}, 'instruments': [{'instrumentCode': 'EURAUGM=RFB'}]}, {'startDate': '2023-10-12', 'tenor': 'SEPM', 'endDate': '2024-09-30', 'outright': {'bid': 1.183375, 'ask': 1.183578, 'mid': 1.1834765}, 'instruments': [{'instrumentCode': 'EURSEPM=RFB'}]}, {'startDate': '2023-10-12', 'tenor': '1Y', 'endDate': '2024-10-15', 'outright': {'bid': 1.203022, 'ask': 1.203294, 'mid': 1.2031580000000002}, 'instruments': [{'instrumentCode': 'EUR1Y=RFB'}]}, {'startDate': '2023-10-12', 'tenor': '2Y', 'endDate': '2025-10-14', 'outright': {'bid': 1.216028, 'ask': 1.2165700000000002, 'mid': 1.2162990000000002}, 'instruments': [{'instrumentCode': 'EUR2Y=RFB'}]}, {'startDate': '2023-10-12', 'tenor': '3Y', 'endDate': '2026-10-13', 'outright': {'bid': 1.228172, 'ask': 1.228542, 'mid': 1.228357}, 'instruments': [{'instrumentCode': 'EUR3Y=RFB'}]}, {'startDate': '2023-10-12', 'tenor': '4Y', 'endDate': '2027-10-12', 'outright': {'bid': 1.240034, 'ask': 1.240702, 'mid': 1.2403680000000001}, 'instruments': [{'instrumentCode': 'EUR4Y=RFB'}]}, {'startDate': '2023-10-12', 'tenor': '5Y', 'endDate': '2028-10-12', 'outright': {'bid': 1.251961, 'ask': 1.253261, 'mid': 1.252611}, 'instruments': [{'instrumentCode': 'EUR5Y=RFB'}]}, {'startDate': '2023-10-12', 'tenor': '6Y', 'endDate': '2029-10-12', 'outright': {'bid': 1.2649130000000002, 'ask': 1.266513, 'mid': 1.265713}, 'instruments': [{'instrumentCode': 'EUR6Y=RFB'}]}, {'startDate': '2023-10-12', 'tenor': '7Y', 'endDate': '2030-10-15', 'outright': {'bid': 1.2785380000000002, 'ask': 1.280338, 'mid': 1.279438}, 'instruments': [{'instrumentCode': 'EUR7Y=RFB'}]}, {'startDate': '2023-10-12', 'tenor': '8Y', 'endDate': '2031-10-14', 'outright': {'bid': 1.2914750000000002, 'ask': 1.2955750000000001, 'mid': 1.2935250000000003}, 'instruments': [{'instrumentCode': 'EUR8Y=RFB'}]}, {'startDate': '2023-10-12', 'tenor': '9Y', 'endDate': '2032-10-12', 'outright': {'bid': 1.304875, 'ask': 1.310075, 'mid': 1.3074750000000002}, 'instruments': [{'instrumentCode': 'EUR9Y=RFB'}]}, {'startDate': '2023-10-12', 'tenor': '10Y', 'endDate': '2033-10-12', 'outright': {'bid': 1.3204630000000002, 'ask': 1.324163, 'mid': 1.322313}, 'instruments': [{'instrumentCode': 'EUR10Y=RFB'}]}]}, {'curveType': 'FxOutrightCurve', 'crossCurrency': 'GBPUSD', 'points': [{'startDate': '2023-10-10', 'tenor': 'ON', 'endDate': '2023-10-11', 'outright': {'bid': 1.3638599999999999, 'ask': 1.3642640000000001, 'mid': 1.364062}, 'instruments': [{'instrumentCode': 'GBPON='}]}, {'startDate': '2023-10-11', 'tenor': 'TN', 'endDate': '2023-10-12', 'outright': {'bid': 1.3638709999999998, 'ask': 1.364273, 'mid': 1.364072}, 'instruments': [{'instrumentCode': 'GBPTN='}]}, {'startDate': '2023-10-12', 'tenor': 'SPOT', 'endDate': '2023-10-12', 'outright': {'bid': 1.3639, 'ask': 1.3643, 'mid': 1.3641}, 'instruments': [{'instrumentCode': 'GBP='}]}, {'startDate': '2023-10-12', 'tenor': 'SN', 'endDate': '2023-10-13', 'outright': {'bid': 1.363908, 'ask': 1.364309, 'mid': 1.3641085}, 'instruments': [{'instrumentCode': 'GBPSN='}]}, {'startDate': '2023-10-12', 'tenor': 'SW', 'endDate': '2023-10-19', 'outright': {'bid': 1.363956, 'ask': 1.364357, 'mid': 1.3641565}, 'instruments': [{'instrumentCode': 'GBPSW='}]}, {'startDate': '2023-10-12', 'tenor': 'OCTM', 'endDate': '2023-10-31', 'outright': {'bid': 1.36404, 'ask': 1.364441, 'mid': 1.3642405}}, {'startDate': '2023-10-12', 'tenor': '1M', 'endDate': '2023-11-13', 'outright': {'bid': 1.364131, 'ask': 1.364532, 'mid': 1.3643315}, 'instruments': [{'instrumentCode': 'GBP1M='}]}, {'startDate': '2023-10-12', 'tenor': 'NOVM', 'endDate': '2023-11-30', 'outright': {'bid': 1.364143896551724, 'ask': 1.3645536896551724, 'mid': 1.3643487931034484}}, {'startDate': '2023-10-12', 'tenor': '2M', 'endDate': '2023-12-12', 'outright': {'bid': 1.364153, 'ask': 1.3645690000000001, 'mid': 1.3643610000000002}, 'instruments': [{'instrumentCode': 'GBP2M='}]}, {'startDate': '2023-10-12', 'tenor': 'DECM', 'endDate': '2023-12-29', 'outright': {'bid': 1.3640926774193547, 'ask': 1.3645097741935484, 'mid': 1.3643012258064515}}, {'startDate': '2023-10-12', 'tenor': '3M', 'endDate': '2024-01-12', 'outright': {'bid': 1.364043, 'ask': 1.3644610000000001, 'mid': 1.364252}, 'instruments': [{'instrumentCode': 'GBP3M='}]}, {'startDate': '2023-10-12', 'tenor': 'JANM', 'endDate': '2024-01-31', 'outright': {'bid': 1.363867824175824, 'ask': 1.3642862417582418, 'mid': 1.3640770329670329}}, {'startDate': '2023-10-12', 'tenor': 'FEBM', 'endDate': '2024-02-29', 'outright': {'bid': 1.3636004505494503, 'ask': 1.3640195054945055, 'mid': 1.363809978021978}}, {'startDate': '2023-10-12', 'tenor': 'MARM', 'endDate': '2024-03-28', 'outright': {'bid': 1.3633422967032967, 'ask': 1.363761967032967, 'mid': 1.3635521318681318}}, {'startDate': '2023-10-12', 'tenor': '6M', 'endDate': '2024-04-12', 'outright': {'bid': 1.3632039999999999, 'ask': 1.3636240000000002, 'mid': 1.3634140000000001}, 'instruments': [{'instrumentCode': 'GBP6M='}]}, {'startDate': '2023-10-12', 'tenor': 'APRM', 'endDate': '2024-04-30', 'outright': {'bid': 1.3629395384615384, 'ask': 1.3634046373626374, 'mid': 1.3631720879120879}}, {'startDate': '2023-10-12', 'tenor': 'MAYM', 'endDate': '2024-05-31', 'outright': {'bid': 1.3624840769230768, 'ask': 1.3630268461538462, 'mid': 1.3627554615384616}}, {'startDate': '2023-10-12', 'tenor': 'JUNM', 'endDate': '2024-06-28', 'outright': {'bid': 1.3620726923076922, 'ask': 1.3626856153846154, 'mid': 1.3623791538461538}}, {'startDate': '2023-10-12', 'tenor': '9M', 'endDate': '2024-07-12', 'outright': {'bid': 1.361867, 'ask': 1.3625150000000001, 'mid': 1.3621910000000002}, 'instruments': [{'instrumentCode': 'GBP9M='}]}, {'startDate': '2023-10-12', 'tenor': 'JULM', 'endDate': '2024-07-31', 'outright': {'bid': 1.361541, 'ask': 1.3621518, 'mid': 1.3618464}}, {'startDate': '2023-10-12', 'tenor': 'AUGM', 'endDate': '2024-08-30', 'outright': {'bid': 1.3610262631578947, 'ask': 1.3615783263157895, 'mid': 1.361302294736842}}, {'startDate': '2023-10-12', 'tenor': 'SEPM', 'endDate': '2024-09-30', 'outright': {'bid': 1.3604943684210524, 'ask': 1.3609857368421052, 'mid': 1.360740052631579}}, {'startDate': '2023-10-12', 'tenor': '1Y', 'endDate': '2024-10-15', 'outright': {'bid': 1.360237, 'ask': 1.360699, 'mid': 1.360468}, 'instruments': [{'instrumentCode': 'GBP1Y='}]}, {'startDate': '2023-10-12', 'tenor': '2Y', 'endDate': '2025-10-14', 'outright': {'bid': 1.3510469999999999, 'ask': 1.3531710000000001, 'mid': 1.352109}, 'instruments': [{'instrumentCode': 'GBP2Y='}]}, {'startDate': '2023-10-12', 'tenor': '3Y', 'endDate': '2026-10-13', 'outright': {'bid': 1.342355, 'ask': 1.346556, 'mid': 1.3444555}, 'instruments': [{'instrumentCode': 'GBP3Y='}]}, {'startDate': '2023-10-12', 'tenor': '4Y', 'endDate': '2027-10-12', 'outright': {'bid': 1.33731, 'ask': 1.33806, 'mid': 1.337685}, 'instruments': [{'instrumentCode': 'GBP4Y='}]}, {'startDate': '2023-10-12', 'tenor': '5Y', 'endDate': '2028-10-12', 'outright': {'bid': 1.3294, 'ask': 1.3346, 'mid': 1.3319999999999999}, 'instruments': [{'instrumentCode': 'GBP5Y='}]}, {'startDate': '2023-10-12', 'tenor': '6Y', 'endDate': '2029-10-12', 'outright': {'bid': 1.3235, 'ask': 1.3294000000000001, 'mid': 1.32645}, 'instruments': [{'instrumentCode': 'GBP6Y='}]}, {'startDate': '2023-10-12', 'tenor': '7Y', 'endDate': '2030-10-15', 'outright': {'bid': 1.3176999999999999, 'ask': 1.3242, 'mid': 1.3209499999999998}, 'instruments': [{'instrumentCode': 'GBP7Y='}]}, {'startDate': '2023-10-12', 'tenor': '8Y', 'endDate': '2031-10-14', 'outright': {'bid': 1.3118999999999998, 'ask': 1.3190000000000002, 'mid': 1.31545}, 'instruments': [{'instrumentCode': 'GBP8Y='}]}, {'startDate': '2023-10-12', 'tenor': '9Y', 'endDate': '2032-10-12', 'outright': {'bid': 1.3055999999999999, 'ask': 1.3133000000000001, 'mid': 1.30945}, 'instruments': [{'instrumentCode': 'GBP9Y='}]}, {'startDate': '2023-10-12', 'tenor': '10Y', 'endDate': '2033-10-12', 'outright': {'bid': 1.2996999999999999, 'ask': 1.3078, 'mid': 1.30375}, 'instruments': [{'instrumentCode': 'GBP10Y='}]}]}], 'invalidConstituents': []}}"
      ]
     },
     "execution_count": 23,
     "metadata": {},
     "output_type": "execute_result"
    }
   ],
   "source": [
    "from lseg_analytics_basic_client.models import (\n",
    "    FxForwardCurveCalculationParameters,\n",
    ")\n",
    "\n",
    "curve.calculate(\n",
    "    pricing_preferences=FxForwardCurveCalculationParameters(\n",
    "        valuation_date=datetime.date(2023, 10, 10)\n",
    "    )\n",
    ")\n",
    "\n",
    "curve.calculate(\n",
    "    pricing_preferences=FxForwardCurveCalculationParameters(valuation_date=\"2023-10-10\")\n",
    ")"
   ]
  },
  {
   "cell_type": "markdown",
   "metadata": {},
   "source": [
    "## Delete\n",
    "\n",
    "You can delete a curve from the server in the following ways:"
   ]
  },
  {
   "cell_type": "markdown",
   "metadata": {},
   "source": [
    "### By ID:"
   ]
  },
  {
   "cell_type": "code",
   "execution_count": 24,
   "metadata": {
    "execution": {
     "iopub.execute_input": "2025-09-18T08:59:38.754346Z",
     "iopub.status.busy": "2025-09-18T08:59:38.753993Z",
     "iopub.status.idle": "2025-09-18T08:59:38.921304Z",
     "shell.execute_reply": "2025-09-18T08:59:38.920773Z"
    }
   },
   "outputs": [
    {
     "data": {
      "text/plain": [
       "True"
      ]
     },
     "execution_count": 24,
     "metadata": {},
     "output_type": "execute_result"
    }
   ],
   "source": [
    "delete(resource_id=curve_id)"
   ]
  },
  {
   "cell_type": "markdown",
   "metadata": {},
   "source": [
    "### By name and space unique pair:"
   ]
  },
  {
   "cell_type": "code",
   "execution_count": 25,
   "metadata": {
    "execution": {
     "iopub.execute_input": "2025-09-18T08:59:38.923555Z",
     "iopub.status.busy": "2025-09-18T08:59:38.923249Z",
     "iopub.status.idle": "2025-09-18T08:59:39.405081Z",
     "shell.execute_reply": "2025-09-18T08:59:39.404357Z"
    }
   },
   "outputs": [
    {
     "data": {
      "text/plain": [
       "True"
      ]
     },
     "execution_count": 25,
     "metadata": {},
     "output_type": "execute_result"
    }
   ],
   "source": [
    "new_curve = FxForwardCurve(\n",
    "    definition=FxForwardCurveDefinition(cross_currency=\"GPBEUR\"),\n",
    "    description=Description(summary=\"GPBCurve\", tags=[\"GPB\", \"EUR\"]),\n",
    ")\n",
    "\n",
    "new_curve.save(name=\"new_curve\", space=\"newspace\")\n",
    "\n",
    "delete(name=\"new_curve\", space=\"newspace\")"
   ]
  }
 ],
 "metadata": {
  "kernelspec": {
   "display_name": "Python 3",
   "language": "python",
   "name": "python3"
  },
  "language_info": {
   "codemirror_mode": {
    "name": "ipython",
    "version": 3
   },
   "file_extension": ".py",
   "mimetype": "text/x-python",
   "name": "python",
   "nbconvert_exporter": "python",
   "pygments_lexer": "ipython3",
   "version": "3.11.6"
  }
 },
 "nbformat": 4,
 "nbformat_minor": 2
}
