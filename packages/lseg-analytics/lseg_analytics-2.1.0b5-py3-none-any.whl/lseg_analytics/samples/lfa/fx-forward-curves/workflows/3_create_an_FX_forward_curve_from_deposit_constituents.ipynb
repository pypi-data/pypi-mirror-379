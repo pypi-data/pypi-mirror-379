{
 "cells": [
  {
   "cell_type": "markdown",
   "metadata": {},
   "source": [
    "# Create and save an FX Forward curve from deposit constituents\n",
    "\n",
    "This notebook explains how to create and save a user defined FX Forward curve from deposit constituents. This method creates the curve by defining its definition. "
   ]
  },
  {
   "cell_type": "markdown",
   "metadata": {},
   "source": [
    "## Start by importing the required libraries"
   ]
  },
  {
   "cell_type": "code",
   "execution_count": 1,
   "metadata": {
    "execution": {
     "iopub.execute_input": "2025-09-18T09:07:21.224830Z",
     "iopub.status.busy": "2025-09-18T09:07:21.224618Z",
     "iopub.status.idle": "2025-09-18T09:07:21.653705Z",
     "shell.execute_reply": "2025-09-18T09:07:21.652974Z"
    }
   },
   "outputs": [],
   "source": [
    "from lseg_analytics.market_data import fx_forward_curves\n",
    "from lseg_analytics.market_data.fx_forward_curves import *\n",
    "from lseg_analytics.common import Quote, QuoteDefinition"
   ]
  },
  {
   "cell_type": "markdown",
   "metadata": {},
   "source": [
    "## Build the curve definition by defining its currencies and constituents\n",
    "Provide the cross_currency and optionally add the reference_currency and constituents. Example below used FXSpot and deposit constituents. \n",
    "As no reference currency is defined below, the Fx spot can be directly defined on 'EURUSD' but deposits must be defined for all currencies, that means 'EUR' and 'USD'."
   ]
  },
  {
   "cell_type": "code",
   "execution_count": 2,
   "metadata": {
    "execution": {
     "iopub.execute_input": "2025-09-18T09:07:21.658178Z",
     "iopub.status.busy": "2025-09-18T09:07:21.656213Z",
     "iopub.status.idle": "2025-09-18T09:07:21.665527Z",
     "shell.execute_reply": "2025-09-18T09:07:21.664918Z"
    }
   },
   "outputs": [],
   "source": [
    "# Build a new curve by defining its currencies and constituents\n",
    "curve_definition = fx_forward_curves.FxForwardCurveDefinition(\n",
    "    cross_currency=\"EURUSD\",\n",
    "    constituents=[\n",
    "        # As USD reference currency is used, EURUSD and GBPUSD fx constituents are required\n",
    "        FxSpotConstituent(\n",
    "            quote=Quote(definition=QuoteDefinition(instrument_code=\"EUR=\")),\n",
    "            definition=FxSpotConstituentDefinition(template=\"EURUSD\"),\n",
    "        ),\n",
    "        DepositFxConstituent(\n",
    "            quote=Quote(definition=QuoteDefinition(instrument_code=\"EUR3MD=\")),\n",
    "            definition=DepositConstituentDefinition(template=\"EUR\", tenor=\"3M\"),\n",
    "        ),\n",
    "        DepositFxConstituent(\n",
    "            quote=Quote(definition=QuoteDefinition(instrument_code=\"EUR6MD=\")),\n",
    "            definition=DepositConstituentDefinition(template=\"EUR\", tenor=\"6M\"),\n",
    "        ),\n",
    "        DepositFxConstituent(\n",
    "            quote=Quote(definition=QuoteDefinition(instrument_code=\"USD3MD=\")),\n",
    "            definition=DepositConstituentDefinition(template=\"USD\", tenor=\"3M\"),\n",
    "        ),\n",
    "        DepositFxConstituent(\n",
    "            quote=Quote(definition=QuoteDefinition(instrument_code=\"USD6MD=\")),\n",
    "            definition=DepositConstituentDefinition(template=\"USD\", tenor=\"6M\"),\n",
    "        ),\n",
    "    ],\n",
    ")"
   ]
  },
  {
   "cell_type": "markdown",
   "metadata": {},
   "source": [
    "## Create the curve using the definition and save it to your personal space"
   ]
  },
  {
   "cell_type": "code",
   "execution_count": 3,
   "metadata": {
    "execution": {
     "iopub.execute_input": "2025-09-18T09:07:21.668170Z",
     "iopub.status.busy": "2025-09-18T09:07:21.667664Z",
     "iopub.status.idle": "2025-09-18T09:07:22.179024Z",
     "shell.execute_reply": "2025-09-18T09:07:22.178409Z"
    }
   },
   "outputs": [
    {
     "name": "stdout",
     "output_type": "stream",
     "text": [
      "<FxForwardCurve space='HOME' name='EURUSD_FxForward_curve_from_deposits' 52c9b64c‥>\n"
     ]
    }
   ],
   "source": [
    "my_eurusd_curve = fx_forward_curves.FxForwardCurve(definition=curve_definition)\n",
    "my_eurusd_curve.description.summary = \"My EURUSD FxForward curve from deposits\"\n",
    "\n",
    "# Save the curve in the user storage space\n",
    "my_eurusd_curve.save(space=\"HOME\", name=\"EURUSD_FxForward_curve_from_deposits\")\n",
    "\n",
    "# Print the curve to confirm its creation\n",
    "print(my_eurusd_curve)"
   ]
  },
  {
   "cell_type": "markdown",
   "metadata": {},
   "source": [
    "## If you want to clean up your space you can delete the curve"
   ]
  },
  {
   "cell_type": "code",
   "execution_count": 4,
   "metadata": {
    "execution": {
     "iopub.execute_input": "2025-09-18T09:07:22.182250Z",
     "iopub.status.busy": "2025-09-18T09:07:22.181997Z",
     "iopub.status.idle": "2025-09-18T09:07:22.448967Z",
     "shell.execute_reply": "2025-09-18T09:07:22.448353Z"
    }
   },
   "outputs": [
    {
     "data": {
      "text/plain": [
       "True"
      ]
     },
     "execution_count": 4,
     "metadata": {},
     "output_type": "execute_result"
    }
   ],
   "source": [
    "fx_forward_curves.delete(space=\"HOME\", name=\"EURUSD_FxForward_curve_from_deposits\")"
   ]
  }
 ],
 "metadata": {
  "kernelspec": {
   "display_name": ".venv",
   "language": "python",
   "name": "python3"
  },
  "language_info": {
   "codemirror_mode": {
    "name": "ipython",
    "version": 3
   },
   "file_extension": ".py",
   "mimetype": "text/x-python",
   "name": "python",
   "nbconvert_exporter": "python",
   "pygments_lexer": "ipython3",
   "version": "3.11.6"
  }
 },
 "nbformat": 4,
 "nbformat_minor": 2
}
