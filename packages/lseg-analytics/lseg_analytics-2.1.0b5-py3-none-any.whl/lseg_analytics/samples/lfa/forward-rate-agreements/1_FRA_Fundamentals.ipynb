{
 "cells": [
  {
   "cell_type": "markdown",
   "id": "1eb11b22",
   "metadata": {},
   "source": [
    "# Forward Rate Agreements Fundamentals"
   ]
  },
  {
   "cell_type": "markdown",
   "id": "60b54d9b",
   "metadata": {},
   "source": [
    "This notebook demonstrates how to access and use the main functionalities of **Forward Rate Agreements** (FRA) within **LSEG Financial Analytics SDK**. \n",
    "\n",
    "**You will be able to:**\n",
    "- Define FRA instruments on standard period\n",
    "- Configure pricing parameters\n",
    "- Calculate FRA analytics\n"
   ]
  },
  {
   "cell_type": "markdown",
   "id": "10fa1979",
   "metadata": {},
   "source": [
    "## Imports"
   ]
  },
  {
   "cell_type": "markdown",
   "id": "4b33245f",
   "metadata": {},
   "source": [
    "Import the following necessary modules:\n",
    "\n",
    "- `lseg_analytics.instruments.forward_rate_agreement` - for Forward Rate Agreement instruments definitions and analytics"
   ]
  },
  {
   "cell_type": "code",
   "execution_count": 1,
   "id": "7df1f746",
   "metadata": {
    "execution": {
     "iopub.execute_input": "2025-09-18T08:59:30.949898Z",
     "iopub.status.busy": "2025-09-18T08:59:30.949450Z",
     "iopub.status.idle": "2025-09-18T08:59:31.678605Z",
     "shell.execute_reply": "2025-09-18T08:59:31.678069Z"
    }
   },
   "outputs": [],
   "source": [
    "from lseg_analytics.instruments import forward_rate_agreement as fra\n",
    "import datetime as dt\n",
    "import json\n",
    "import pandas as pd"
   ]
  },
  {
   "cell_type": "markdown",
   "id": "ea21fcc5",
   "metadata": {},
   "source": [
    "## Data Preparation\n",
    "\n",
    "To define a FRA instrument you need to follow a structured 3-step process:\n",
    "1. **FRA Definition** - Specify the FRA instrument definition\n",
    "2. **FRA Instrument Definition** - Create the instrument object\n",
    "3. **Pricing Preferences** - Configure pricing parameters, optional\n",
    "\n",
    "We take here an example of USD LIBOR 2Mx8M FRA priced in historical time (valuation on 2025-07-21)"
   ]
  },
  {
   "cell_type": "code",
   "execution_count": 2,
   "id": "021f7448",
   "metadata": {
    "execution": {
     "iopub.execute_input": "2025-09-18T08:59:31.682826Z",
     "iopub.status.busy": "2025-09-18T08:59:31.681243Z",
     "iopub.status.idle": "2025-09-18T08:59:31.689032Z",
     "shell.execute_reply": "2025-09-18T08:59:31.688425Z"
    },
    "tags": [
     "price.static"
    ]
   },
   "outputs": [],
   "source": [
    "# Create FRA defintion object\n",
    "fra_definition = fra.ForwardRateAgreementDefinition(\n",
    "    start_tenor=\"2M\", # mandatory\n",
    "    fixed_rate_percent=4,\n",
    "    end_tenor=\"8M\", # mandatory\n",
    "    notional_ccy=\"USD\", # mandatory\n",
    "    index_name=\"LIBOR\",\n",
    "    notional_amount=1000000\n",
    ")\n",
    "\n",
    "# Create FRA instrument defintion object\n",
    "fra_instrument = fra.ForwardRateAgreementDefinitionInstrument(\n",
    "    definition = fra_definition\n",
    ")\n",
    "\n",
    "# Create FRA pricing parameters object - optional\n",
    "fra_parameters = fra.ForwardRateAgreementPricingParameters(\n",
    "    valuation_date  = dt.datetime.strptime(\"2025-07-21\", \"%Y-%m-%d\"),\n",
    ")"
   ]
  },
  {
   "cell_type": "markdown",
   "id": "b01afc34",
   "metadata": {},
   "source": [
    "## Request Execution"
   ]
  },
  {
   "cell_type": "code",
   "execution_count": 3,
   "id": "16044ae3",
   "metadata": {
    "execution": {
     "iopub.execute_input": "2025-09-18T08:59:31.691457Z",
     "iopub.status.busy": "2025-09-18T08:59:31.690901Z",
     "iopub.status.idle": "2025-09-18T08:59:32.826240Z",
     "shell.execute_reply": "2025-09-18T08:59:32.825467Z"
    },
    "tags": [
     "price.static"
    ]
   },
   "outputs": [],
   "source": [
    "# Execute the calculation using the price() function\n",
    "# The 'definitions' parameter accepts a list of instruments definitions for batch processing\n",
    "\n",
    "fra_response = fra.price(\n",
    "    definitions = [fra_instrument], \n",
    "    pricing_preferences = fra_parameters\n",
    ")"
   ]
  },
  {
   "cell_type": "markdown",
   "id": "03030948",
   "metadata": {},
   "source": [
    "## Results Display\n",
    "\n",
    "#### Key Sections in the `response` JSON\n",
    "\n",
    " - **definitions**: Instrument setup (e.g., index name, fixed rate percent, start/end dates/tenors, notional, notional currency), it's ForwardRateAgreementDefinition that we used. \n",
    "\n",
    " - **pricingPreferences**: Valuation date, price side, reporting currency, market data date, tenor reference date.\n",
    "\n",
    " - **analytics**:\n",
    "   - **tabularData**: `data`, `headers`, `statuses`\n",
    "   - **cashFlows**: gives details on the different cashflows of the FRA product\n",
    "   - **description**: Instrument summary ForwardRateAgreementDefinition and also the default fields not specified in the ForwardRateAgreementDefinition, but used by default in the calculation\n",
    "   - **nominalMeasures**: metric on the FRA product: PV01\n",
    "   - **pricingAnalysis**: different information on market FRA valuation: `marketDataDate`, `valuationDate`, `discountFactor`, `fixedRatePercent`, `parRatePercent`, `spreadBp`\n",
    "   - **valuation**: `marketValueInDealCcy`, `marketValueInReportCcy`\n",
    "   - **error**: provides the root cause of the issue, if any"
   ]
  },
  {
   "cell_type": "code",
   "execution_count": 4,
   "id": "dd5ff3f3",
   "metadata": {
    "execution": {
     "iopub.execute_input": "2025-09-18T08:59:32.829851Z",
     "iopub.status.busy": "2025-09-18T08:59:32.829353Z",
     "iopub.status.idle": "2025-09-18T08:59:32.833475Z",
     "shell.execute_reply": "2025-09-18T08:59:32.832887Z"
    }
   },
   "outputs": [
    {
     "name": "stdout",
     "output_type": "stream",
     "text": [
      "{\n",
      "    \"marketValueInDealCcy\": 2336.88876053983\n",
      "}\n"
     ]
    }
   ],
   "source": [
    "# Access the valuation object\n",
    "valuation = fra_response.data.analytics[0].valuation\n",
    "print(json.dumps(valuation.as_dict(), indent=4))"
   ]
  },
  {
   "cell_type": "code",
   "execution_count": 5,
   "id": "2acc377b",
   "metadata": {
    "execution": {
     "iopub.execute_input": "2025-09-18T08:59:32.836102Z",
     "iopub.status.busy": "2025-09-18T08:59:32.835700Z",
     "iopub.status.idle": "2025-09-18T08:59:32.847450Z",
     "shell.execute_reply": "2025-09-18T08:59:32.846878Z"
    }
   },
   "outputs": [
    {
     "data": {
      "text/html": [
       "<div>\n",
       "<style scoped>\n",
       "    .dataframe tbody tr th:only-of-type {\n",
       "        vertical-align: middle;\n",
       "    }\n",
       "\n",
       "    .dataframe tbody tr th {\n",
       "        vertical-align: top;\n",
       "    }\n",
       "\n",
       "    .dataframe thead th {\n",
       "        text-align: right;\n",
       "    }\n",
       "</style>\n",
       "<table border=\"1\" class=\"dataframe\">\n",
       "  <thead>\n",
       "    <tr style=\"text-align: right;\">\n",
       "      <th></th>\n",
       "      <th>Fields</th>\n",
       "      <th>Value</th>\n",
       "    </tr>\n",
       "  </thead>\n",
       "  <tbody>\n",
       "    <tr>\n",
       "      <th>0</th>\n",
       "      <td>marketValueInDealCcy</td>\n",
       "      <td>2336.888761</td>\n",
       "    </tr>\n",
       "  </tbody>\n",
       "</table>\n",
       "</div>"
      ],
      "text/plain": [
       "                 Fields        Value\n",
       "0  marketValueInDealCcy  2336.888761"
      ]
     },
     "metadata": {},
     "output_type": "display_data"
    }
   ],
   "source": [
    "# Convert to DataFrame\n",
    "df_valuation = pd.DataFrame(list(valuation.items()), columns=[\"Fields\", \"Value\"])\n",
    "# Display the DataFrame\n",
    "display(df_valuation)"
   ]
  },
  {
   "cell_type": "markdown",
   "id": "9572bdfb",
   "metadata": {},
   "source": [
    "### Available Classes and Functions in forward_rate_agreement Module\n",
    "\n",
    "The following is a complete list of all classes, enums, and functions available after importing from `lseg_analytics.instruments.forward_rate_agreement`:\n",
    "\n",
    "**Core Classes:**\n",
    "- `ForwardRateAgreementDefinition` - Define FRA instrument specifications and parameters\n",
    "- `ForwardRateAgreementDefinitionInstrument` - Instrument container wrapper for pricing operations\n",
    "- `ForwardRateAgreementPricingParameters` - Configure pricing settings and market data preferences\n",
    "\n",
    "**Response Classes:**\n",
    "- `ForwardRateAgreementCalculationResponse` - Main response container\n",
    "- `ForwardRateAgreementAnalyticsResponseData` - Detailed analytics and calculations\n",
    "- `ForwardRateAgreementAnalyticsResponseWithError` - Response with error\n",
    "\n",
    "**Specific FRA Classes within response:**\n",
    "- `ForwardRateAgreementDescription` - Gives the main characteristics of the instrument\n",
    "- `ForwardRateAgreementValuation` - Individual instrument valuation results\n",
    "- `ForwardRateAgreementPricingAnalysis` - Some information on pricing\n",
    "- `ForwardRateAgreementCashflows` - Detailed FRA cash-flows\n",
    "- `ForwardRateAgreementNominalMeasures` - Different metrics on FRA instrument\n",
    "\n",
    "**Configuration Enums:**\n",
    "- `InterestCalculationMethodEnum` - Day count conventions (DCB_ACTUAL_360, DCB_ACTUAL_365, etc.)\n",
    "- `PaymentBusinessDayConventionEnum` - Business day conventions (NEXT_BUSINESS_DAY, MODIFIED_FOLLOWING, etc.)\n",
    "- `PriceSideEnum` - Market price sides (BID, ASK, MID, LAST)\n",
    "- `TenorReferenceDateEnum` - reference date from which maturity date from tenor is calculated (SPOT_DATE, VALUATION_DATE)\n",
    "\n",
    "**Main Functions:**\n",
    "- `price()` - Execute FRA pricing calculations"
   ]
  }
 ],
 "metadata": {
  "kernelspec": {
   "display_name": "jupyterlab-ext",
   "language": "python",
   "name": "python3"
  },
  "language_info": {
   "codemirror_mode": {
    "name": "ipython",
    "version": 3
   },
   "file_extension": ".py",
   "mimetype": "text/x-python",
   "name": "python",
   "nbconvert_exporter": "python",
   "pygments_lexer": "ipython3",
   "version": "3.11.6"
  }
 },
 "nbformat": 4,
 "nbformat_minor": 5
}
