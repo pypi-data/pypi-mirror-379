{
 "cells": [
  {
   "cell_type": "markdown",
   "id": "1eb11b22",
   "metadata": {},
   "source": [
    "# Forward Rate Agreements Pricing on Broken Date"
   ]
  },
  {
   "cell_type": "markdown",
   "id": "60b54d9b",
   "metadata": {},
   "source": [
    "This notebook demonstrates how to access and use the functionalities of **Forward Rate Agreements (FRA) pricing on broken dates** within **LSEG Financial Analytics SDK**.\n",
    "\n",
    "**You will be able to:**\n",
    "- Define FRA instruments on broken dates\n",
    "- Configure report currency in pricing parameters"
   ]
  },
  {
   "cell_type": "markdown",
   "id": "10fa1979",
   "metadata": {},
   "source": [
    "## Imports"
   ]
  },
  {
   "cell_type": "markdown",
   "id": "4b33245f",
   "metadata": {},
   "source": [
    "Import the following necessary modules:\n",
    "\n",
    "- `lseg_analytics.instruments.forward_rate_agreement` - for Forward Rate Agreement instruments definitions and analytics"
   ]
  },
  {
   "cell_type": "code",
   "execution_count": 1,
   "id": "7df1f746",
   "metadata": {
    "execution": {
     "iopub.execute_input": "2025-09-18T09:07:08.610531Z",
     "iopub.status.busy": "2025-09-18T09:07:08.610156Z",
     "iopub.status.idle": "2025-09-18T09:07:09.028387Z",
     "shell.execute_reply": "2025-09-18T09:07:09.027690Z"
    }
   },
   "outputs": [],
   "source": [
    "from lseg_analytics.instruments import forward_rate_agreement as fra\n",
    "import datetime as dt"
   ]
  },
  {
   "cell_type": "markdown",
   "id": "ea21fcc5",
   "metadata": {},
   "source": [
    "## Data Preparation\n",
    "\n",
    "To define a FRA instrument you need to follow a structured 3-step process:\n",
    "1. **FRA Definition** - Specify the FRA instrument definition\n",
    "2. **FRA Instrument Definition** - Create the instrument object\n",
    "3. **Pricing Preferences** - Configure pricing parameters, optional\n",
    "\n",
    "We take here an example of EUR ESTR FRA with **broken dates, that is with dates explicity specified in the input**. This contrasts with tenors that specifies a FRA with more standard periods. The FRA start date is 2026-03-01 and the end date is 2026-08-08. We price at historical time (valuation on 2025-07-21) and also ask a valuation in AUD currency."
   ]
  },
  {
   "cell_type": "code",
   "execution_count": 2,
   "id": "021f7448",
   "metadata": {
    "execution": {
     "iopub.execute_input": "2025-09-18T09:07:09.033497Z",
     "iopub.status.busy": "2025-09-18T09:07:09.031236Z",
     "iopub.status.idle": "2025-09-18T09:07:09.040271Z",
     "shell.execute_reply": "2025-09-18T09:07:09.039682Z"
    }
   },
   "outputs": [],
   "source": [
    "# Create FRA defintion object\n",
    "fra_definition = fra.ForwardRateAgreementDefinition(\n",
    "    start_date=dt.datetime.strptime(\"2026-03-01\", \"%Y-%m-%d\"), # mandatory\n",
    "    fixed_rate_percent=4,\n",
    "    end_date=dt.datetime.strptime(\"2026-08-08\", \"%Y-%m-%d\"), # mandatory\n",
    "    notional_ccy=\"EUR\", # mandatory\n",
    "    index_name=\"ESTR\",\n",
    "    notional_amount=1000000\n",
    ")\n",
    "\n",
    "# Create FRA instrument defintion object\n",
    "fra_instrument = fra.ForwardRateAgreementDefinitionInstrument(\n",
    "    definition = fra_definition\n",
    ")\n",
    "\n",
    "# Create FRA pricing parameters object - optional\n",
    "fra_parameters = fra.ForwardRateAgreementPricingParameters(\n",
    "    valuation_date  = dt.datetime.strptime(\"2025-07-21\", \"%Y-%m-%d\"),\n",
    "    report_ccy=\"AUD\"\n",
    ")"
   ]
  },
  {
   "cell_type": "markdown",
   "id": "b01afc34",
   "metadata": {},
   "source": [
    "## Request Execution"
   ]
  },
  {
   "cell_type": "code",
   "execution_count": 3,
   "id": "16044ae3",
   "metadata": {
    "execution": {
     "iopub.execute_input": "2025-09-18T09:07:09.042557Z",
     "iopub.status.busy": "2025-09-18T09:07:09.042184Z",
     "iopub.status.idle": "2025-09-18T09:07:10.206576Z",
     "shell.execute_reply": "2025-09-18T09:07:10.206069Z"
    }
   },
   "outputs": [],
   "source": [
    "# Execute the calculation using the price() function\n",
    "# The 'definitions' parameter accepts a list of instruments definitions for batch processing\n",
    "\n",
    "fra_response = fra.price(\n",
    "    definitions = [fra_instrument], \n",
    "    pricing_preferences = fra_parameters\n",
    ")"
   ]
  },
  {
   "cell_type": "markdown",
   "id": "03030948",
   "metadata": {},
   "source": [
    "## Results Display\n",
    "\n",
    "The results showed here are focused on FRA valuation. We then give only valuation results in deal currency (EUR) and in report currency (AUD)"
   ]
  },
  {
   "cell_type": "code",
   "execution_count": 4,
   "id": "dd5ff3f3",
   "metadata": {
    "execution": {
     "iopub.execute_input": "2025-09-18T09:07:10.209156Z",
     "iopub.status.busy": "2025-09-18T09:07:10.208794Z",
     "iopub.status.idle": "2025-09-18T09:07:10.212473Z",
     "shell.execute_reply": "2025-09-18T09:07:10.212017Z"
    }
   },
   "outputs": [
    {
     "name": "stdout",
     "output_type": "stream",
     "text": [
      "valuation in EUR: -10460.5154595798\n",
      "valuation in AUD: -18749.5741999467\n"
     ]
    }
   ],
   "source": [
    "valuation = fra_response.data.analytics[0].valuation\n",
    "print(\"valuation in EUR:\", valuation.market_value_in_deal_ccy)\n",
    "print(\"valuation in AUD:\", valuation.market_value_in_report_ccy)"
   ]
  }
 ],
 "metadata": {
  "kernelspec": {
   "display_name": "jupyterlab-ext",
   "language": "python",
   "name": "python3"
  },
  "language_info": {
   "codemirror_mode": {
    "name": "ipython",
    "version": 3
   },
   "file_extension": ".py",
   "mimetype": "text/x-python",
   "name": "python",
   "nbconvert_exporter": "python",
   "pygments_lexer": "ipython3",
   "version": "3.11.6"
  }
 },
 "nbformat": 4,
 "nbformat_minor": 5
}
