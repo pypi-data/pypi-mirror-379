{
 "cells": [
  {
   "cell_type": "markdown",
   "id": "1eb11b22",
   "metadata": {},
   "source": [
    "# Forward Rate Agreements Cash Settlement"
   ]
  },
  {
   "cell_type": "markdown",
   "id": "60b54d9b",
   "metadata": {},
   "source": [
    "This notebook demonstrates how to access and use the functionalities of **Forward Rate Agreements (FRA) cash settlement** within **LSEG Financial Analytics SDK**. \n",
    "\n",
    "The notebook outlines a simple method of cash settlement calculation for a set of FRA instruments.\n",
    "\n",
    "**You will be able to:**\n",
    "- Define the FRA instruments by tailoring its features\n",
    "- Estimate spread and cash settlement\n",
    "- Understand how FRA valuation is calculated"
   ]
  },
  {
   "cell_type": "markdown",
   "id": "10fa1979",
   "metadata": {},
   "source": [
    "## Imports"
   ]
  },
  {
   "cell_type": "markdown",
   "id": "4b33245f",
   "metadata": {},
   "source": [
    "Import the following necessary modules:\n",
    "\n",
    "- `lseg_analytics.instruments.forward_rate_agreement` - for Forward Rate Agreement instruments definitions and analytics"
   ]
  },
  {
   "cell_type": "code",
   "execution_count": 1,
   "id": "7df1f746",
   "metadata": {
    "execution": {
     "iopub.execute_input": "2025-09-18T09:07:11.681820Z",
     "iopub.status.busy": "2025-09-18T09:07:11.681618Z",
     "iopub.status.idle": "2025-09-18T09:07:12.045442Z",
     "shell.execute_reply": "2025-09-18T09:07:12.044731Z"
    }
   },
   "outputs": [],
   "source": [
    "from lseg_analytics.instruments import forward_rate_agreement as fra\n",
    "import datetime as dt\n",
    "import json"
   ]
  },
  {
   "cell_type": "markdown",
   "id": "ea21fcc5",
   "metadata": {},
   "source": [
    "## Data Preparation\n",
    "\n",
    "To define a FRA instrument you need to follow a structured 3-step process:\n",
    "1. **FRA Definition** - Specify the FRA instrument definition\n",
    "2. **FRA Instrument Definition** - Create the instrument object\n",
    "3. **Pricing Preferences** - Configure pricing parameters, optional\n",
    "\n",
    "We take here an example of JPY TONAR FRA with start tenor 5M and end tenor 8M priced in historical time (valuation on 2025-07-21)."
   ]
  },
  {
   "cell_type": "code",
   "execution_count": 2,
   "id": "021f7448",
   "metadata": {
    "execution": {
     "iopub.execute_input": "2025-09-18T09:07:12.049662Z",
     "iopub.status.busy": "2025-09-18T09:07:12.047845Z",
     "iopub.status.idle": "2025-09-18T09:07:12.055520Z",
     "shell.execute_reply": "2025-09-18T09:07:12.055024Z"
    }
   },
   "outputs": [],
   "source": [
    "# Create FRA defintion object\n",
    "fra_definition = fra.ForwardRateAgreementDefinition(\n",
    "    start_tenor=\"5M\", # mandatory\n",
    "    fixed_rate_percent=4,\n",
    "    end_tenor=\"8M\", # mandatory\n",
    "    notional_ccy=\"JPY\", # mandatory\n",
    "    index_name=\"TONAR\",\n",
    "    notional_amount=1000000\n",
    ")\n",
    "\n",
    "# Create FRA instrument defintion object\n",
    "fra_instrument = fra.ForwardRateAgreementDefinitionInstrument(\n",
    "    definition = fra_definition\n",
    ")\n",
    "\n",
    "# Create FRA pricing parameters object - optional\n",
    "fra_parameters = fra.ForwardRateAgreementPricingParameters(\n",
    "    valuation_date  = dt.datetime.strptime(\"2025-07-21\", \"%Y-%m-%d\")\n",
    ")"
   ]
  },
  {
   "cell_type": "markdown",
   "id": "b01afc34",
   "metadata": {},
   "source": [
    "## Request Execution"
   ]
  },
  {
   "cell_type": "code",
   "execution_count": 3,
   "id": "16044ae3",
   "metadata": {
    "execution": {
     "iopub.execute_input": "2025-09-18T09:07:12.057455Z",
     "iopub.status.busy": "2025-09-18T09:07:12.057199Z",
     "iopub.status.idle": "2025-09-18T09:07:13.166524Z",
     "shell.execute_reply": "2025-09-18T09:07:13.165903Z"
    }
   },
   "outputs": [],
   "source": [
    "# Execute the calculation using the price() function\n",
    "# The 'definitions' parameter accepts a list of instruments definitions for batch processing\n",
    "\n",
    "fra_response = fra.price(\n",
    "    definitions = [fra_instrument], \n",
    "    pricing_preferences = fra_parameters\n",
    ")"
   ]
  },
  {
   "cell_type": "markdown",
   "id": "03030948",
   "metadata": {},
   "source": [
    "## Results Display\n",
    "\n",
    "The results showed here are focused on term FRA cash settlement and valuation construction. We then give all necessary outputs: \n",
    "- description \n",
    "- cash-flows\n",
    "- pricing analysis\n",
    "- valuation"
   ]
  },
  {
   "cell_type": "code",
   "execution_count": 4,
   "id": "fd852a50",
   "metadata": {
    "execution": {
     "iopub.execute_input": "2025-09-18T09:07:13.169643Z",
     "iopub.status.busy": "2025-09-18T09:07:13.169146Z",
     "iopub.status.idle": "2025-09-18T09:07:13.173492Z",
     "shell.execute_reply": "2025-09-18T09:07:13.172831Z"
    }
   },
   "outputs": [
    {
     "name": "stdout",
     "output_type": "stream",
     "text": [
      "{\n",
      "    \"instrumentDescription\": \"5Mx8M\",\n",
      "    \"tradeDate\": \"2025-07-21T00:00:00Z\",\n",
      "    \"spotDate\": \"2025-07-23T00:00:00Z\",\n",
      "    \"fixingDate\": \"2025-12-19T00:00:00Z\",\n",
      "    \"startDate\": \"2025-12-23T00:00:00Z\",\n",
      "    \"endDate\": \"2026-03-23T00:00:00Z\",\n",
      "    \"tenor\": \"3M\",\n",
      "    \"calendar\": \"JAP_FI\",\n",
      "    \"notionalCcy\": \"JPY\",\n",
      "    \"notionalAmount\": 1000000.0,\n",
      "    \"interestCalculationMethod\": \"Dcb_Actual_360\",\n",
      "    \"indexName\": \"TONAR\",\n",
      "    \"indexTenor\": \"3M\",\n",
      "    \"priceSide\": \"Mid\",\n",
      "    \"forwardCurveName\": \"JPY LIBOR 3M\",\n",
      "    \"discountCurveName\": \"JPY LIBOR 3M\"\n",
      "}\n"
     ]
    }
   ],
   "source": [
    "# Access the description object\n",
    "description = fra_response.data.analytics[0].description\n",
    "print(json.dumps(description.as_dict(), indent=4))"
   ]
  },
  {
   "cell_type": "code",
   "execution_count": 5,
   "id": "dd5ff3f3",
   "metadata": {
    "execution": {
     "iopub.execute_input": "2025-09-18T09:07:13.176306Z",
     "iopub.status.busy": "2025-09-18T09:07:13.175885Z",
     "iopub.status.idle": "2025-09-18T09:07:13.179879Z",
     "shell.execute_reply": "2025-09-18T09:07:13.179290Z"
    }
   },
   "outputs": [
    {
     "name": "stdout",
     "output_type": "stream",
     "text": [
      "{\n",
      "    \"date\": \"2025-12-23\",\n",
      "    \"amount\": -8310.00460684849,\n",
      "    \"currency\": \"JPY\",\n",
      "    \"event\": \"CashSettlement\",\n",
      "    \"type\": \"Float\",\n",
      "    \"occurence\": \"Projected\"\n",
      "}\n"
     ]
    }
   ],
   "source": [
    "# Access to cash settlement\n",
    "cash_settlement = fra_response.data.analytics[0].cashflows.cash_flows[0][\"payments\"][0]\n",
    "print(json.dumps(cash_settlement, indent=4))"
   ]
  },
  {
   "cell_type": "code",
   "execution_count": 6,
   "id": "348eb857",
   "metadata": {
    "execution": {
     "iopub.execute_input": "2025-09-18T09:07:13.182287Z",
     "iopub.status.busy": "2025-09-18T09:07:13.181905Z",
     "iopub.status.idle": "2025-09-18T09:07:13.185521Z",
     "shell.execute_reply": "2025-09-18T09:07:13.184909Z"
    }
   },
   "outputs": [
    {
     "name": "stdout",
     "output_type": "stream",
     "text": [
      "{\n",
      "    \"marketDataDate\": \"2025-07-21T00:00:00Z\",\n",
      "    \"valuationDate\": \"2025-07-21T00:00:00Z\",\n",
      "    \"discountFactor\": 0.996058981898809,\n",
      "    \"fixedRatePercent\": 4.0,\n",
      "    \"parRatePercent\": 0.675998157260604,\n",
      "    \"spreadBp\": 332.40018427394\n",
      "}\n"
     ]
    }
   ],
   "source": [
    "# Access the pricing analysis object\n",
    "pricing_analysis = fra_response.data.analytics[0].pricing_analysis\n",
    "print(json.dumps(pricing_analysis.as_dict(), indent=4))"
   ]
  },
  {
   "cell_type": "code",
   "execution_count": 7,
   "id": "22a31bbb",
   "metadata": {
    "execution": {
     "iopub.execute_input": "2025-09-18T09:07:13.187885Z",
     "iopub.status.busy": "2025-09-18T09:07:13.187469Z",
     "iopub.status.idle": "2025-09-18T09:07:13.190996Z",
     "shell.execute_reply": "2025-09-18T09:07:13.190402Z"
    }
   },
   "outputs": [
    {
     "name": "stdout",
     "output_type": "stream",
     "text": [
      "{\n",
      "    \"marketValueInDealCcy\": -8277.25472827192\n",
      "}\n"
     ]
    }
   ],
   "source": [
    "# Access the valuation object\n",
    "valuation = fra_response.data.analytics[0].valuation\n",
    "print(json.dumps(valuation.as_dict(), indent=4))"
   ]
  },
  {
   "cell_type": "markdown",
   "id": "af64b712",
   "metadata": {},
   "source": [
    "Before building the cash settlement itself, we first show that the *spreadBp* field is built according to the following formula : $$SpreadBp = 100\\cdot\\left(FixedRatePercent-ParRatePercent\\right)$$"
   ]
  },
  {
   "cell_type": "code",
   "execution_count": 8,
   "id": "d4165b02",
   "metadata": {
    "execution": {
     "iopub.execute_input": "2025-09-18T09:07:13.193638Z",
     "iopub.status.busy": "2025-09-18T09:07:13.193217Z",
     "iopub.status.idle": "2025-09-18T09:07:13.197175Z",
     "shell.execute_reply": "2025-09-18T09:07:13.196532Z"
    }
   },
   "outputs": [
    {
     "name": "stdout",
     "output_type": "stream",
     "text": [
      "RatePercent difference computed x 100: 332.4001842739396\n",
      "SpreadBp returned: 332.40018427394\n",
      "Difference: -3.979039320256561e-13\n"
     ]
    }
   ],
   "source": [
    "print(\"RatePercent difference computed x 100:\", 100 * (pricing_analysis.fixed_rate_percent - pricing_analysis.par_rate_percent))\n",
    "print(\"SpreadBp returned:\", pricing_analysis.spread_bp)\n",
    "print(\"Difference:\", 100 * (pricing_analysis.fixed_rate_percent - pricing_analysis.par_rate_percent) - pricing_analysis.spread_bp)"
   ]
  },
  {
   "cell_type": "markdown",
   "id": "eb9ec7db",
   "metadata": {},
   "source": [
    "The cash settlement is derived according to the following formula:\n",
    "$$CashSettlement :=Notional\\cdot\\frac{ParRatePercent-FixedRatePercent}{100}\\cdot DayCountFraction\\left(StartDate, EndDate\\right)$$\n",
    "\n",
    "In this use-case, day count convention is Act/360, meaning that it is the number of days (here 90) divided by 360. We apply below this formula to explain its construction. "
   ]
  },
  {
   "cell_type": "code",
   "execution_count": 9,
   "id": "db27f29c",
   "metadata": {
    "execution": {
     "iopub.execute_input": "2025-09-18T09:07:13.200543Z",
     "iopub.status.busy": "2025-09-18T09:07:13.199831Z",
     "iopub.status.idle": "2025-09-18T09:07:13.206449Z",
     "shell.execute_reply": "2025-09-18T09:07:13.205997Z"
    }
   },
   "outputs": [
    {
     "name": "stdout",
     "output_type": "stream",
     "text": [
      "Day count convention: Dcb_Actual_360\n",
      "Computed cash settlement: -8310.004606848492\n",
      "Cash settlement returned by pricer: -8310.00460684849\n",
      "Difference: -1.8189894035458565e-12\n"
     ]
    }
   ],
   "source": [
    "cash_settlement_amount = cash_settlement[\"amount\"]\n",
    "nb_days = (description.end_date - description.start_date).days\n",
    "computed_cash_settlement_amount = description.notional_amount * ((pricing_analysis.par_rate_percent - pricing_analysis.fixed_rate_percent) / 100) * (nb_days / 360)\n",
    "print(\"Day count convention:\", description.interest_calculation_method)\n",
    "print(\"Computed cash settlement:\", computed_cash_settlement_amount)\n",
    "print(\"Cash settlement returned by pricer:\", cash_settlement_amount)\n",
    "print(\"Difference:\", computed_cash_settlement_amount - cash_settlement_amount)"
   ]
  },
  {
   "cell_type": "markdown",
   "id": "fa2a7a33",
   "metadata": {},
   "source": [
    "Finally, note that FRA valuation and the cash settlement are linked by the relation\n",
    "$$Valuation_{FRA}=DiscountFactor\\cdot CashSettlement$$\n",
    "which is showed by this last code block:"
   ]
  },
  {
   "cell_type": "code",
   "execution_count": 10,
   "id": "bacf39bb",
   "metadata": {
    "execution": {
     "iopub.execute_input": "2025-09-18T09:07:13.208560Z",
     "iopub.status.busy": "2025-09-18T09:07:13.208339Z",
     "iopub.status.idle": "2025-09-18T09:07:13.211431Z",
     "shell.execute_reply": "2025-09-18T09:07:13.211000Z"
    }
   },
   "outputs": [
    {
     "name": "stdout",
     "output_type": "stream",
     "text": [
      "Computed valuation: -8277.25472827192\n",
      "Valuation returned by pricer: -8277.25472827192\n",
      "Difference: 0.0\n"
     ]
    }
   ],
   "source": [
    "computed_fra_valuation = computed_cash_settlement_amount * pricing_analysis.discount_factor\n",
    "print(\"Computed valuation:\", computed_fra_valuation)\n",
    "print(\"Valuation returned by pricer:\", valuation.market_value_in_deal_ccy)\n",
    "print(\"Difference:\", computed_fra_valuation - valuation.market_value_in_deal_ccy)"
   ]
  }
 ],
 "metadata": {
  "kernelspec": {
   "display_name": "jupyterlab-ext",
   "language": "python",
   "name": "python3"
  },
  "language_info": {
   "codemirror_mode": {
    "name": "ipython",
    "version": 3
   },
   "file_extension": ".py",
   "mimetype": "text/x-python",
   "name": "python",
   "nbconvert_exporter": "python",
   "pygments_lexer": "ipython3",
   "version": "3.11.6"
  }
 },
 "nbformat": 4,
 "nbformat_minor": 5
}
