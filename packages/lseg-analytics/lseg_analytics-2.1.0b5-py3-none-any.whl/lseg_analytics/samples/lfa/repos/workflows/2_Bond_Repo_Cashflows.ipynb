{
 "cells": [
  {
   "cell_type": "markdown",
   "id": "1a108871",
   "metadata": {},
   "source": [
    "# Bond Repo Cashflows"
   ]
  },
  {
   "cell_type": "markdown",
   "id": "1ae7da03",
   "metadata": {},
   "source": [
    "This notebook demonstrates how to access and use the **Bond Repo** and demonstrates advanced Cashflows analysis within the **LSEG Financial Analytics SDK**. \n",
    "\n",
    "**You will be able to:**\n",
    "- Define and Price Bond Repo\n",
    "- Analyze detailed valuation metrics and Cashflows"
   ]
  },
  {
   "cell_type": "markdown",
   "id": "9aa5f76b",
   "metadata": {},
   "source": [
    "## Imports\n"
   ]
  },
  {
   "cell_type": "markdown",
   "id": "569d770e",
   "metadata": {},
   "source": [
    "Import the following necessary modules:\n",
    "\n",
    "- `lseg_analytics.instruments.repo` - for Bond Repo instruments definitions and analytics"
   ]
  },
  {
   "cell_type": "code",
   "execution_count": 1,
   "id": "a6cd17c8",
   "metadata": {
    "execution": {
     "iopub.execute_input": "2025-09-18T09:11:16.714154Z",
     "iopub.status.busy": "2025-09-18T09:11:16.713635Z",
     "iopub.status.idle": "2025-09-18T09:11:17.535160Z",
     "shell.execute_reply": "2025-09-18T09:11:17.534454Z"
    }
   },
   "outputs": [],
   "source": [
    "from lseg_analytics.instruments import repo as rp\n",
    "\n",
    "import pandas as pd\n",
    "import json\n",
    "import datetime as dt\n",
    "from IPython.display import display"
   ]
  },
  {
   "cell_type": "markdown",
   "id": "0961812d",
   "metadata": {},
   "source": [
    "## 1- No exchange of interest payments\n",
    "The basic case where payments are only at the start and the end of the contract **Purchase/Repurchase**.\n",
    "\n",
    "In this case, a repo parameter called **\"is_coupon_exchanged\"** must be set to false."
   ]
  },
  {
   "cell_type": "markdown",
   "id": "7259e797",
   "metadata": {},
   "source": [
    "### Data Preparation"
   ]
  },
  {
   "cell_type": "code",
   "execution_count": 2,
   "id": "054d51ab",
   "metadata": {
    "execution": {
     "iopub.execute_input": "2025-09-18T09:11:17.539604Z",
     "iopub.status.busy": "2025-09-18T09:11:17.537890Z",
     "iopub.status.idle": "2025-09-18T09:11:17.552679Z",
     "shell.execute_reply": "2025-09-18T09:11:17.551982Z"
    }
   },
   "outputs": [
    {
     "name": "stdout",
     "output_type": "stream",
     "text": [
      "Underlying Bond definition created\n",
      "Repo Instrument definition created\n",
      "Pricing parameters configured\n"
     ]
    }
   ],
   "source": [
    "# 1.Define an underlying Bond instrument\n",
    "fixed_bond_definition = rp.BondDefinition(\n",
    "    notional_ccy = \"USD\",\n",
    "    issue_date = dt.datetime.strptime(\"2025-01-01\", \"%Y-%m-%d\"),\n",
    "    end_date = dt.datetime.strptime(\"2030-01-01\", \"%Y-%m-%d\"),\n",
    "    fixed_rate_percent = 2,\n",
    "    interest_payment_frequency = rp.InterestPaymentFrequencyEnum.QUARTERLY,\n",
    "    interest_calculation_method = rp.InterestCalculationMethodEnum.DCB_ACTUAL_ACTUAL\n",
    "\n",
    ")\n",
    "\n",
    "underlying_bond = rp.RepoUnderlyingContract(\n",
    "        instrument_definition = fixed_bond_definition,\n",
    "        instrument_type = \"Bond\"\n",
    ")\n",
    "print(\"Underlying Bond definition created\")\n",
    "\n",
    "# 2.Define Repo instrument\n",
    "repo_definition = rp.RepoDefinition(\n",
    "    buy_sell = rp.IPABuySellEnum.BUY,\n",
    "    start_date = dt.datetime.strptime(\"2025-01-01\", \"%Y-%m-%d\"),\n",
    "    tenor = \"1Y\",\n",
    "    repo_rate_percent = 2, # Override repo rate instead of implying from repo curve\n",
    "    underlying_instruments = [underlying_bond],\n",
    "    is_coupon_exchanged = False\n",
    ")\n",
    "\n",
    "# 3.Create the Repo Instrument from the defintion\n",
    "repo_instrument = rp.RepoDefinitionInstrument (definition = repo_definition)\n",
    "print(\"Repo Instrument definition created\")\n",
    "\n",
    "# 4. Configure pricing parameters, optional\n",
    "pricing_params = rp.RepoPricingParameters(\n",
    "    valuation_date = dt.datetime.strptime(\"2025-07-18\", \"%Y-%m-%d\"),                \n",
    ")\n",
    "print(\"Pricing parameters configured\")"
   ]
  },
  {
   "cell_type": "markdown",
   "id": "f4f8db96",
   "metadata": {},
   "source": [
    "### Request Execution"
   ]
  },
  {
   "cell_type": "code",
   "execution_count": 3,
   "id": "3f084843",
   "metadata": {
    "execution": {
     "iopub.execute_input": "2025-09-18T09:11:17.554962Z",
     "iopub.status.busy": "2025-09-18T09:11:17.554647Z",
     "iopub.status.idle": "2025-09-18T09:11:18.172733Z",
     "shell.execute_reply": "2025-09-18T09:11:18.172009Z"
    }
   },
   "outputs": [
    {
     "name": "stdout",
     "output_type": "stream",
     "text": [
      "Pricing Execution Successful!\n"
     ]
    }
   ],
   "source": [
    "# Execute the calculation using the price function\n",
    "try:\n",
    "    # The 'definitions' parameter accepts a list of request items for batch processing\n",
    "    response = rp.price(\n",
    "    definitions = [repo_instrument],\n",
    "    pricing_preferences = pricing_params\n",
    ")\n",
    "    errors = [a.error for a in response.data.analytics if a.error]\n",
    "    if errors:\n",
    "        raise Exception(errors[0].message)\n",
    "    print(\"Pricing Execution Successful!\")\n",
    "except Exception as e:\n",
    "    print(f\"Price Calculation failed: {str(e)}\")\n",
    "    raise"
   ]
  },
  {
   "cell_type": "markdown",
   "id": "e4138163",
   "metadata": {},
   "source": [
    "### Results Display"
   ]
  },
  {
   "cell_type": "markdown",
   "id": "42ce997b",
   "metadata": {},
   "source": [
    "After showing the Repo decription and analytics, we notice that two cashflows are returned:\n",
    "- The first cashflow is the purchase price paid by the buyer\n",
    "- The second cashflow is the repurchase price received by the buyer\n",
    "\n",
    "Which is showed in the last code block"
   ]
  },
  {
   "cell_type": "code",
   "execution_count": 4,
   "id": "c5964d2e",
   "metadata": {
    "execution": {
     "iopub.execute_input": "2025-09-18T09:11:18.175001Z",
     "iopub.status.busy": "2025-09-18T09:11:18.174788Z",
     "iopub.status.idle": "2025-09-18T09:11:18.178578Z",
     "shell.execute_reply": "2025-09-18T09:11:18.177980Z"
    }
   },
   "outputs": [
    {
     "name": "stdout",
     "output_type": "stream",
     "text": [
      "{\n",
      "    \"instrumentDescription\": \"Repo 1000000 'USD' 2.00% 2026-01-02 Haircut: 0% / Initial Margin: 1.0000\",\n",
      "    \"dealCcy\": \"USD\",\n",
      "    \"startDate\": \"2025-01-01T00:00:00Z\",\n",
      "    \"endDate\": \"2026-01-02T00:00:00Z\",\n",
      "    \"initialMarginPercent\": 100.0,\n",
      "    \"nominalPledgeQuantity\": 1000000.0,\n",
      "    \"numberOfCoupons\": 0,\n",
      "    \"dayCountBasis\": \"Dcb_Actual_360\",\n",
      "    \"discountCurveId\": \"IRCurve_USD-OISSOFR_2025-07-18T00:00:00\",\n",
      "    \"settlementConvention\": \"0WD\",\n",
      "    \"repoRatePercent\": 2.0\n",
      "}\n"
     ]
    }
   ],
   "source": [
    "# Access the description object\n",
    "description = response.data.analytics[0].description\n",
    "print(json.dumps(description.as_dict(), indent=4))"
   ]
  },
  {
   "cell_type": "code",
   "execution_count": 5,
   "id": "aaaf0a85",
   "metadata": {
    "execution": {
     "iopub.execute_input": "2025-09-18T09:11:18.180569Z",
     "iopub.status.busy": "2025-09-18T09:11:18.180279Z",
     "iopub.status.idle": "2025-09-18T09:11:18.190488Z",
     "shell.execute_reply": "2025-09-18T09:11:18.189714Z"
    }
   },
   "outputs": [
    {
     "data": {
      "text/html": [
       "<div>\n",
       "<style scoped>\n",
       "    .dataframe tbody tr th:only-of-type {\n",
       "        vertical-align: middle;\n",
       "    }\n",
       "\n",
       "    .dataframe tbody tr th {\n",
       "        vertical-align: top;\n",
       "    }\n",
       "\n",
       "    .dataframe thead th {\n",
       "        text-align: right;\n",
       "    }\n",
       "</style>\n",
       "<table border=\"1\" class=\"dataframe\">\n",
       "  <thead>\n",
       "    <tr style=\"text-align: right;\">\n",
       "      <th></th>\n",
       "      <th>Fields</th>\n",
       "      <th>Value</th>\n",
       "    </tr>\n",
       "  </thead>\n",
       "  <tbody>\n",
       "    <tr>\n",
       "      <th>0</th>\n",
       "      <td>haircutRatePercent</td>\n",
       "      <td>0.0</td>\n",
       "    </tr>\n",
       "    <tr>\n",
       "      <th>1</th>\n",
       "      <td>marketDataDate</td>\n",
       "      <td>2025-07-18T00:00:00Z</td>\n",
       "    </tr>\n",
       "    <tr>\n",
       "      <th>2</th>\n",
       "      <td>valuationDate</td>\n",
       "      <td>2025-07-18T00:00:00Z</td>\n",
       "    </tr>\n",
       "    <tr>\n",
       "      <th>3</th>\n",
       "      <td>purchasePrice</td>\n",
       "      <td>1043778.653199</td>\n",
       "    </tr>\n",
       "    <tr>\n",
       "      <th>4</th>\n",
       "      <td>repurchasePrice</td>\n",
       "      <td>1064713.37372</td>\n",
       "    </tr>\n",
       "  </tbody>\n",
       "</table>\n",
       "</div>"
      ],
      "text/plain": [
       "               Fields                 Value\n",
       "0  haircutRatePercent                   0.0\n",
       "1      marketDataDate  2025-07-18T00:00:00Z\n",
       "2       valuationDate  2025-07-18T00:00:00Z\n",
       "3       purchasePrice        1043778.653199\n",
       "4     repurchasePrice         1064713.37372"
      ]
     },
     "metadata": {},
     "output_type": "display_data"
    }
   ],
   "source": [
    "# Access the pricing analysis object\n",
    "pricing_analysis = response.data.analytics[0][\"pricingAnalysis\"]\n",
    "# Convert to DataFrame\n",
    "df_pricing_analysis = pd.DataFrame(list(pricing_analysis.items()), columns=[\"Fields\", \"Value\"])\n",
    "# Display the DataFrame\n",
    "display(df_pricing_analysis.head(5))"
   ]
  },
  {
   "cell_type": "code",
   "execution_count": 6,
   "id": "6681eea4",
   "metadata": {
    "execution": {
     "iopub.execute_input": "2025-09-18T09:11:18.192952Z",
     "iopub.status.busy": "2025-09-18T09:11:18.192482Z",
     "iopub.status.idle": "2025-09-18T09:11:18.201445Z",
     "shell.execute_reply": "2025-09-18T09:11:18.200974Z"
    }
   },
   "outputs": [
    {
     "data": {
      "text/html": [
       "<div>\n",
       "<style scoped>\n",
       "    .dataframe tbody tr th:only-of-type {\n",
       "        vertical-align: middle;\n",
       "    }\n",
       "\n",
       "    .dataframe tbody tr th {\n",
       "        vertical-align: top;\n",
       "    }\n",
       "\n",
       "    .dataframe thead th {\n",
       "        text-align: right;\n",
       "    }\n",
       "</style>\n",
       "<table border=\"1\" class=\"dataframe\">\n",
       "  <thead>\n",
       "    <tr style=\"text-align: right;\">\n",
       "      <th></th>\n",
       "      <th>date</th>\n",
       "      <th>discountFactor</th>\n",
       "      <th>amount</th>\n",
       "      <th>currency</th>\n",
       "      <th>event</th>\n",
       "      <th>occurence</th>\n",
       "    </tr>\n",
       "  </thead>\n",
       "  <tbody>\n",
       "    <tr>\n",
       "      <th>0</th>\n",
       "      <td>2025-01-01</td>\n",
       "      <td>0.999638</td>\n",
       "      <td>-1.043779e+06</td>\n",
       "      <td>USD</td>\n",
       "      <td>Principal</td>\n",
       "      <td>Historical</td>\n",
       "    </tr>\n",
       "    <tr>\n",
       "      <th>1</th>\n",
       "      <td>2026-01-02</td>\n",
       "      <td>0.980617</td>\n",
       "      <td>1.064713e+06</td>\n",
       "      <td>USD</td>\n",
       "      <td>Principal</td>\n",
       "      <td>Future</td>\n",
       "    </tr>\n",
       "  </tbody>\n",
       "</table>\n",
       "</div>"
      ],
      "text/plain": [
       "         date  discountFactor        amount currency      event   occurence\n",
       "0  2025-01-01        0.999638 -1.043779e+06      USD  Principal  Historical\n",
       "1  2026-01-02        0.980617  1.064713e+06      USD  Principal      Future"
      ]
     },
     "metadata": {},
     "output_type": "display_data"
    }
   ],
   "source": [
    "# Access to payments/cash-flows\n",
    "payments = response.data.analytics[0].cashflows.cash_flows[0][\"payments\"]\n",
    "df_payments = pd.DataFrame(payments)\n",
    "display(df_payments)"
   ]
  },
  {
   "cell_type": "code",
   "execution_count": 7,
   "id": "98db95b7",
   "metadata": {
    "execution": {
     "iopub.execute_input": "2025-09-18T09:11:18.203326Z",
     "iopub.status.busy": "2025-09-18T09:11:18.203114Z",
     "iopub.status.idle": "2025-09-18T09:11:18.206426Z",
     "shell.execute_reply": "2025-09-18T09:11:18.205937Z"
    }
   },
   "outputs": [
    {
     "name": "stdout",
     "output_type": "stream",
     "text": [
      "purchasePrice 1043778.65319949\n",
      "repurchasePrice 1064713.37372049\n"
     ]
    }
   ],
   "source": [
    "print(\"purchasePrice\", response.data.analytics[0][\"pricingAnalysis\"][\"purchasePrice\"])\n",
    "print(\"repurchasePrice\", response.data.analytics[0][\"pricingAnalysis\"][\"repurchasePrice\"])"
   ]
  },
  {
   "cell_type": "markdown",
   "id": "11806db1",
   "metadata": {},
   "source": [
    "## 2- Exchange of interest payments\n",
    "In this case the parameter **\"is_coupon_exchanged\"** must be set to true. It's the value by default if the parameter is not overriden.\n",
    "\n",
    "### Data Preparation"
   ]
  },
  {
   "cell_type": "code",
   "execution_count": 8,
   "id": "edd5ea25",
   "metadata": {
    "execution": {
     "iopub.execute_input": "2025-09-18T09:11:18.208264Z",
     "iopub.status.busy": "2025-09-18T09:11:18.208081Z",
     "iopub.status.idle": "2025-09-18T09:11:18.210772Z",
     "shell.execute_reply": "2025-09-18T09:11:18.210339Z"
    }
   },
   "outputs": [],
   "source": [
    "repo_definition.is_coupon_exchanged = True\n",
    "repo_definition.tenor = \"2Y\" # tenor extended only to visualize several cashflows"
   ]
  },
  {
   "cell_type": "markdown",
   "id": "5e56971b",
   "metadata": {},
   "source": [
    "### Request Execution"
   ]
  },
  {
   "cell_type": "code",
   "execution_count": 9,
   "id": "a07f428a",
   "metadata": {
    "execution": {
     "iopub.execute_input": "2025-09-18T09:11:18.212864Z",
     "iopub.status.busy": "2025-09-18T09:11:18.212471Z",
     "iopub.status.idle": "2025-09-18T09:11:18.648821Z",
     "shell.execute_reply": "2025-09-18T09:11:18.648203Z"
    }
   },
   "outputs": [
    {
     "name": "stdout",
     "output_type": "stream",
     "text": [
      "Pricing Execution Successful!\n"
     ]
    }
   ],
   "source": [
    "# Execute the calculation using the price function\n",
    "try:\n",
    "    # The 'definitions' parameter accepts a list of request items for batch processing\n",
    "    response = rp.price(\n",
    "    definitions = [repo_instrument],\n",
    "    pricing_preferences = pricing_params\n",
    ")\n",
    "    errors = [a.error for a in response.data.analytics if a.error]\n",
    "    if errors:\n",
    "        raise Exception(errors[0].message)\n",
    "    print(\"Pricing Execution Successful!\")\n",
    "except Exception as e:\n",
    "    print(f\"Price Calculation failed: {str(e)}\")\n",
    "    raise"
   ]
  },
  {
   "cell_type": "markdown",
   "id": "f1c13fc6",
   "metadata": {},
   "source": [
    "### Results Display"
   ]
  },
  {
   "cell_type": "markdown",
   "id": "51764e74",
   "metadata": {},
   "source": [
    "Several cashflows are returned:\n",
    "- The first cashflow is the purchase price paid by the buyer\n",
    "- The last cashflow is the repurchase price received by the buyer\n",
    "- The intermediate cashflows are interest payments"
   ]
  },
  {
   "cell_type": "code",
   "execution_count": 10,
   "id": "13f452dc",
   "metadata": {
    "execution": {
     "iopub.execute_input": "2025-09-18T09:11:18.651453Z",
     "iopub.status.busy": "2025-09-18T09:11:18.651039Z",
     "iopub.status.idle": "2025-09-18T09:11:18.661432Z",
     "shell.execute_reply": "2025-09-18T09:11:18.660872Z"
    }
   },
   "outputs": [
    {
     "data": {
      "text/html": [
       "<div>\n",
       "<style scoped>\n",
       "    .dataframe tbody tr th:only-of-type {\n",
       "        vertical-align: middle;\n",
       "    }\n",
       "\n",
       "    .dataframe tbody tr th {\n",
       "        vertical-align: top;\n",
       "    }\n",
       "\n",
       "    .dataframe thead th {\n",
       "        text-align: right;\n",
       "    }\n",
       "</style>\n",
       "<table border=\"1\" class=\"dataframe\">\n",
       "  <thead>\n",
       "    <tr style=\"text-align: right;\">\n",
       "      <th></th>\n",
       "      <th>date</th>\n",
       "      <th>discountFactor</th>\n",
       "      <th>amount</th>\n",
       "      <th>currency</th>\n",
       "      <th>event</th>\n",
       "      <th>occurence</th>\n",
       "    </tr>\n",
       "  </thead>\n",
       "  <tbody>\n",
       "    <tr>\n",
       "      <th>0</th>\n",
       "      <td>2025-01-01</td>\n",
       "      <td>0.999638</td>\n",
       "      <td>-1.043779e+06</td>\n",
       "      <td>USD</td>\n",
       "      <td>Principal</td>\n",
       "      <td>Historical</td>\n",
       "    </tr>\n",
       "    <tr>\n",
       "      <th>1</th>\n",
       "      <td>2025-10-01</td>\n",
       "      <td>0.991032</td>\n",
       "      <td>4.962932e+03</td>\n",
       "      <td>USD</td>\n",
       "      <td>Interest</td>\n",
       "      <td>Future</td>\n",
       "    </tr>\n",
       "    <tr>\n",
       "      <th>2</th>\n",
       "      <td>2026-01-02</td>\n",
       "      <td>0.980617</td>\n",
       "      <td>4.962932e+03</td>\n",
       "      <td>USD</td>\n",
       "      <td>Interest</td>\n",
       "      <td>Future</td>\n",
       "    </tr>\n",
       "    <tr>\n",
       "      <th>3</th>\n",
       "      <td>2026-04-01</td>\n",
       "      <td>0.971386</td>\n",
       "      <td>4.962932e+03</td>\n",
       "      <td>USD</td>\n",
       "      <td>Interest</td>\n",
       "      <td>Future</td>\n",
       "    </tr>\n",
       "    <tr>\n",
       "      <th>4</th>\n",
       "      <td>2026-07-01</td>\n",
       "      <td>0.962628</td>\n",
       "      <td>4.962932e+03</td>\n",
       "      <td>USD</td>\n",
       "      <td>Interest</td>\n",
       "      <td>Future</td>\n",
       "    </tr>\n",
       "    <tr>\n",
       "      <th>5</th>\n",
       "      <td>2026-10-01</td>\n",
       "      <td>0.954356</td>\n",
       "      <td>4.962932e+03</td>\n",
       "      <td>USD</td>\n",
       "      <td>Interest</td>\n",
       "      <td>Future</td>\n",
       "    </tr>\n",
       "    <tr>\n",
       "      <th>6</th>\n",
       "      <td>2027-01-04</td>\n",
       "      <td>0.946265</td>\n",
       "      <td>1.045714e+06</td>\n",
       "      <td>USD</td>\n",
       "      <td>Principal</td>\n",
       "      <td>Future</td>\n",
       "    </tr>\n",
       "  </tbody>\n",
       "</table>\n",
       "</div>"
      ],
      "text/plain": [
       "         date  discountFactor        amount currency      event   occurence\n",
       "0  2025-01-01        0.999638 -1.043779e+06      USD  Principal  Historical\n",
       "1  2025-10-01        0.991032  4.962932e+03      USD   Interest      Future\n",
       "2  2026-01-02        0.980617  4.962932e+03      USD   Interest      Future\n",
       "3  2026-04-01        0.971386  4.962932e+03      USD   Interest      Future\n",
       "4  2026-07-01        0.962628  4.962932e+03      USD   Interest      Future\n",
       "5  2026-10-01        0.954356  4.962932e+03      USD   Interest      Future\n",
       "6  2027-01-04        0.946265  1.045714e+06      USD  Principal      Future"
      ]
     },
     "metadata": {},
     "output_type": "display_data"
    }
   ],
   "source": [
    "# Access to payments/cash-flows\n",
    "payments = response.data.analytics[0].cashflows.cash_flows[0][\"payments\"]\n",
    "df_payments = pd.DataFrame(payments)\n",
    "display(df_payments)"
   ]
  }
 ],
 "metadata": {
  "kernelspec": {
   "display_name": "jupyterlab-ext",
   "language": "python",
   "name": "python3"
  },
  "language_info": {
   "codemirror_mode": {
    "name": "ipython",
    "version": 3
   },
   "file_extension": ".py",
   "mimetype": "text/x-python",
   "name": "python",
   "nbconvert_exporter": "python",
   "pygments_lexer": "ipython3",
   "version": "3.11.6"
  }
 },
 "nbformat": 4,
 "nbformat_minor": 5
}
