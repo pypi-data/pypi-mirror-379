{
 "cells": [
  {
   "cell_type": "markdown",
   "metadata": {},
   "source": [
    "# Generate a date schedule, taking holidays into account\n",
    "This notebook explains how to generate a date schedule between two dates, taking holidays into account for the set calendars. The example demonstrates how to do this referencing an individual calendar or multiple calendars."
   ]
  },
  {
   "cell_type": "markdown",
   "metadata": {},
   "source": [
    "## Start by importing the required libraries"
   ]
  },
  {
   "cell_type": "code",
   "execution_count": 1,
   "metadata": {
    "execution": {
     "iopub.execute_input": "2025-09-18T09:06:23.596590Z",
     "iopub.status.busy": "2025-09-18T09:06:23.596231Z",
     "iopub.status.idle": "2025-09-18T09:06:23.974264Z",
     "shell.execute_reply": "2025-09-18T09:06:23.973634Z"
    }
   },
   "outputs": [],
   "source": [
    "from lseg_analytics.reference_data import calendars\n",
    "from lseg_analytics.common import Frequency, WeekDay"
   ]
  },
  {
   "cell_type": "markdown",
   "metadata": {},
   "source": [
    "## Load an individual calendar\n",
    "To load the calendar, you need to provide the space where to load the calendar from and the name of the calendar. The space can either be 'HOME' or 'LSEG'. This example loads an LSEG-defined calendar, so it loads the calendar from the 'LSEG' space. \n",
    "\n",
    "To see the possible calendar names, place your cursor after the equals sign and trigger the autocompletion using the _Trigger Suggest_ command (`Ctrl`/`Cmd` + `i`)."
   ]
  },
  {
   "cell_type": "code",
   "execution_count": 2,
   "metadata": {
    "execution": {
     "iopub.execute_input": "2025-09-18T09:06:23.978259Z",
     "iopub.status.busy": "2025-09-18T09:06:23.976601Z",
     "iopub.status.idle": "2025-09-18T09:06:24.529288Z",
     "shell.execute_reply": "2025-09-18T09:06:24.528704Z"
    }
   },
   "outputs": [],
   "source": [
    "lseg_ukg_cal = calendars.load(name=\"UKG\", space = \"LSEG\")"
   ]
  },
  {
   "cell_type": "markdown",
   "metadata": {},
   "source": [
    "## Generate the date schedule\n",
    "Set the start_date to the period from which you want to generate the date schedule. You must also set the count (number of dates you wish to generate) and the frequency. If the frequency is set to weekly or biweekly then you must specify which day of the week. If the frequency is set to monthly then you must set the 'calendar_day_of_month'."
   ]
  },
  {
   "cell_type": "code",
   "execution_count": 3,
   "metadata": {
    "execution": {
     "iopub.execute_input": "2025-09-18T09:06:24.532217Z",
     "iopub.status.busy": "2025-09-18T09:06:24.531900Z",
     "iopub.status.idle": "2025-09-18T09:06:24.672656Z",
     "shell.execute_reply": "2025-09-18T09:06:24.672071Z"
    }
   },
   "outputs": [],
   "source": [
    "# Generate a schedule for 10 weeks, every Mondays, starting the 01-Jan-2025\n",
    "generated_date_schedule = lseg_ukg_cal.generate_date_schedule(\n",
    "    start_date=\"2025-01-01\",\n",
    "    count=10,\n",
    "    day_of_week=WeekDay.MONDAY,\n",
    "    frequency=Frequency.WEEKLY\n",
    ")"
   ]
  },
  {
   "cell_type": "markdown",
   "metadata": {},
   "source": [
    "## Print the generated dates"
   ]
  },
  {
   "cell_type": "code",
   "execution_count": 4,
   "metadata": {
    "execution": {
     "iopub.execute_input": "2025-09-18T09:06:24.675334Z",
     "iopub.status.busy": "2025-09-18T09:06:24.674983Z",
     "iopub.status.idle": "2025-09-18T09:06:24.678647Z",
     "shell.execute_reply": "2025-09-18T09:06:24.678123Z"
    }
   },
   "outputs": [
    {
     "name": "stdout",
     "output_type": "stream",
     "text": [
      "2025-01-06\n",
      "2025-01-13\n",
      "2025-01-20\n",
      "2025-01-27\n",
      "2025-02-03\n",
      "2025-02-10\n",
      "2025-02-17\n",
      "2025-02-24\n",
      "2025-03-03\n",
      "2025-03-10\n"
     ]
    }
   ],
   "source": [
    "for date in generated_date_schedule:\n",
    "    print(date)"
   ]
  },
  {
   "cell_type": "markdown",
   "metadata": {},
   "source": [
    "## Reference multiple calendars\n",
    "To follow the same process for multiple calendars, simply pass the names of the calendars into the 'generate_date_schedule' method in the format 'SPACE/NAME'"
   ]
  },
  {
   "cell_type": "code",
   "execution_count": 5,
   "metadata": {
    "execution": {
     "iopub.execute_input": "2025-09-18T09:06:24.680543Z",
     "iopub.status.busy": "2025-09-18T09:06:24.680352Z",
     "iopub.status.idle": "2025-09-18T09:06:24.925350Z",
     "shell.execute_reply": "2025-09-18T09:06:24.924799Z"
    }
   },
   "outputs": [
    {
     "name": "stdout",
     "output_type": "stream",
     "text": [
      "2025-01-03\n",
      "2025-02-04\n",
      "2025-03-04\n",
      "2025-04-03\n",
      "2025-05-02\n",
      "2025-06-04\n",
      "2025-07-03\n",
      "2025-08-04\n",
      "2025-09-04\n",
      "2025-10-03\n"
     ]
    }
   ],
   "source": [
    "# Generate a schedule for 10 weeks, every Mondays, starting the 01-Jan-2025\n",
    "generated_date_schedule = calendars.generate_date_schedule(\n",
    "    calendars=[\n",
    "        \"LSEG/UKG\",\n",
    "        \"LSEG/EUR\",\n",
    "        \"LSEG/USA\",\n",
    "        \"LSEG/HKG\",\n",
    "    ],     \n",
    "    frequency=Frequency.MONTHLY,\n",
    "    start_date=\"2025-01-01\",\n",
    "    count=10,\n",
    "    calendar_day_of_month=4\n",
    ")\n",
    " \n",
    "# Display the generated dates\n",
    "for date in generated_date_schedule:\n",
    "    print(date)"
   ]
  }
 ],
 "metadata": {
  "kernelspec": {
   "display_name": ".venv",
   "language": "python",
   "name": "python3"
  },
  "language_info": {
   "codemirror_mode": {
    "name": "ipython",
    "version": 3
   },
   "file_extension": ".py",
   "mimetype": "text/x-python",
   "name": "python",
   "nbconvert_exporter": "python",
   "pygments_lexer": "ipython3",
   "version": "3.11.6"
  }
 },
 "nbformat": 4,
 "nbformat_minor": 2
}
