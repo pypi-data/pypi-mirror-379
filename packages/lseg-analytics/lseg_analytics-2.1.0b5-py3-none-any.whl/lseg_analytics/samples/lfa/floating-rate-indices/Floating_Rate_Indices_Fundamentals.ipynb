{
 "cells": [
  {
   "cell_type": "markdown",
   "id": "1a108871",
   "metadata": {
    "tags": [
     "ide-samples-ignore"
    ]
   },
   "source": [
    "# Floating Rate Indices Fundamentals"
   ]
  },
  {
   "cell_type": "markdown",
   "id": "3a4cef20",
   "metadata": {},
   "source": [
    "This notebook demonstrates how to access and use the functionalities of **Floating Rate Indices** which are part of our **QPS** module within LSEG Financial Analytics SDK."
   ]
  },
  {
   "cell_type": "markdown",
   "id": "6b7ec6ed",
   "metadata": {},
   "source": [
    "## Interest rate indices"
   ]
  },
  {
   "cell_type": "markdown",
   "id": "03568fc6",
   "metadata": {},
   "source": [
    "### Imports"
   ]
  },
  {
   "cell_type": "markdown",
   "id": "720fba1d",
   "metadata": {},
   "source": [
    "Import the following necessary modules:"
   ]
  },
  {
   "cell_type": "code",
   "execution_count": 1,
   "id": "29374993",
   "metadata": {
    "execution": {
     "iopub.execute_input": "2025-09-18T08:59:27.779356Z",
     "iopub.status.busy": "2025-09-18T08:59:27.778861Z",
     "iopub.status.idle": "2025-09-18T08:59:28.142950Z",
     "shell.execute_reply": "2025-09-18T08:59:28.142457Z"
    }
   },
   "outputs": [],
   "source": [
    "from lseg_analytics.reference_data.floating_rate_indices import search, load, delete\n",
    "from lseg_analytics.reference_data.floating_rate_indices import FloatingRateIndex, FloatingRateIndexDefinition, RoundingDefinition\n",
    "from lseg_analytics.common import QuoteDefinition, Description"
   ]
  },
  {
   "cell_type": "markdown",
   "id": "49b149da",
   "metadata": {},
   "source": [
    "### Searching for LSEG index templates"
   ]
  },
  {
   "cell_type": "markdown",
   "id": "5a4bd41e",
   "metadata": {},
   "source": [
    "In order to better formulate his calculation a user might want to search and retrieve a number of index templates from the available set (e.g. 'LSEG' space), sorted in expected order.\n",
    "\n",
    "System returns a list of FloatingRateIndexs existing in the platform (depending on permissions).\n",
    "\n",
    "Search function takes no mandatory arguments in which case it simply returns all templates available to the user."
   ]
  },
  {
   "cell_type": "code",
   "execution_count": 2,
   "id": "6be03632",
   "metadata": {
    "execution": {
     "iopub.execute_input": "2025-09-18T08:59:28.146739Z",
     "iopub.status.busy": "2025-09-18T08:59:28.145239Z",
     "iopub.status.idle": "2025-09-18T08:59:28.630356Z",
     "shell.execute_reply": "2025-09-18T08:59:28.629601Z"
    },
    "tags": [
     "search.static"
    ]
   },
   "outputs": [
    {
     "name": "stdout",
     "output_type": "stream",
     "text": [
      "[{'type': 'FloatingRateIndex', 'id': '4436d66b-addb-46a5-9f66-13bb946f150e', 'location': {'space': 'HOME', 'name': 'TestIrIndex'}, 'description': {'summary': 'EUROSTR (overwritten)', 'tags': ['Tests', 'EUR', 'ESTR', 'ON', 'RFTB']}}, {'type': 'FloatingRateIndex', 'id': 'c1051f64-fb15-4984-91fb-2c97e97ac7e3', 'location': {'space': 'HOME', 'name': 'TestRefFri17443031935839942'}, 'description': {'summary': 'Test description', 'tags': ['tag1', 'tag2']}}, {'type': 'FloatingRateIndex', 'id': 'f882ded9-13b9-4456-ab56-134d93cec3d4', 'location': {'space': 'LSEG', 'name': 'AED_AEIBOR_1M'}, 'description': {'summary': 'AED AEIBOR', 'tags': ['currency:AED', 'indexTenor:1M', 'sourceLongName:Refinitiv', 'sourceShortName:RFTB']}}, {'type': 'FloatingRateIndex', 'id': '7a102320-d152-4ebf-9fce-b4b254ddc471', 'location': {'space': 'LSEG', 'name': 'AED_AEIBOR_1Y'}, 'description': {'summary': 'AED AEIBOR', 'tags': ['currency:AED', 'indexTenor:1Y', 'sourceLongName:Refinitiv', 'sourceShortName:RFTB']}}, {'type': 'FloatingRateIndex', 'id': '3d8b26aa-940a-45d0-9756-6af902ce5738', 'location': {'space': 'LSEG', 'name': 'AED_AEIBOR_3M'}, 'description': {'summary': 'AED AEIBOR', 'tags': ['currency:AED', 'indexTenor:3M', 'sourceLongName:Refinitiv', 'sourceShortName:RFTB']}}]\n"
     ]
    }
   ],
   "source": [
    "# Full search with no filters\n",
    "index_templates = search()\n",
    "\n",
    "print(index_templates[:5])"
   ]
  },
  {
   "cell_type": "markdown",
   "id": "240b8c33",
   "metadata": {},
   "source": [
    "### Load a specific index template"
   ]
  },
  {
   "cell_type": "markdown",
   "id": "c886a9cf",
   "metadata": {},
   "source": [
    "User can load a specific template by either providing a unique template name or resource ID.\n",
    "\n",
    "Mandatory arguments: \n",
    "- resource_id - mutually exclusive with name\n",
    "- name - mutually exclusive with resource_id"
   ]
  },
  {
   "cell_type": "code",
   "execution_count": 3,
   "id": "da8a238e",
   "metadata": {
    "execution": {
     "iopub.execute_input": "2025-09-18T08:59:28.632889Z",
     "iopub.status.busy": "2025-09-18T08:59:28.632512Z",
     "iopub.status.idle": "2025-09-18T08:59:29.046090Z",
     "shell.execute_reply": "2025-09-18T08:59:29.045435Z"
    },
    "tags": [
     "load"
    ]
   },
   "outputs": [
    {
     "name": "stdout",
     "output_type": "stream",
     "text": [
      "{'currency': 'EUR', 'name': 'ESTR', 'tenor': 'ON', 'yearBasis': 'YB_360', 'rounding': {'decimalPlaces': 0, 'scale': 1}, 'quoteDefinition': {'instrumentCode': 'EUROSTR= (overwritten)'}}\n"
     ]
    }
   ],
   "source": [
    "# Load using template name\n",
    "index_by_name = load(name = index_templates[0].location.name)\n",
    "\n",
    "print(index_by_name.definition)"
   ]
  },
  {
   "cell_type": "code",
   "execution_count": 4,
   "id": "4f475f0c",
   "metadata": {
    "execution": {
     "iopub.execute_input": "2025-09-18T08:59:29.048582Z",
     "iopub.status.busy": "2025-09-18T08:59:29.048065Z",
     "iopub.status.idle": "2025-09-18T08:59:29.177316Z",
     "shell.execute_reply": "2025-09-18T08:59:29.176746Z"
    },
    "tags": [
     "load"
    ]
   },
   "outputs": [
    {
     "name": "stdout",
     "output_type": "stream",
     "text": [
      "{'currency': 'EUR', 'name': 'ESTR', 'tenor': 'ON', 'yearBasis': 'YB_360', 'rounding': {'decimalPlaces': 0, 'scale': 1}, 'quoteDefinition': {'instrumentCode': 'EUROSTR= (overwritten)'}}\n"
     ]
    }
   ],
   "source": [
    "# Load using template id\n",
    "index_by_id = load(resource_id = index_templates[0].id)\n",
    "\n",
    "print(index_by_id.definition)"
   ]
  },
  {
   "cell_type": "markdown",
   "id": "07d10c5b",
   "metadata": {},
   "source": [
    "## Creating a new Floating Rate Index"
   ]
  },
  {
   "cell_type": "code",
   "execution_count": 5,
   "id": "4783afc5",
   "metadata": {
    "execution": {
     "iopub.execute_input": "2025-09-18T08:59:29.179410Z",
     "iopub.status.busy": "2025-09-18T08:59:29.179099Z",
     "iopub.status.idle": "2025-09-18T08:59:29.182965Z",
     "shell.execute_reply": "2025-09-18T08:59:29.182429Z"
    },
    "tags": [
     "class",
     "constructor"
    ]
   },
   "outputs": [
    {
     "name": "stdout",
     "output_type": "stream",
     "text": [
      "{'currency': 'EUR', 'name': 'New_EUR_3M_FR', 'tenor': '3M', 'yearBasis': 'YB_360', 'rounding': {'decimalPlaces': 0, 'scale': 1}, 'quoteDefinition': {'instrumentCode': 'EUROSTR='}}\n"
     ]
    }
   ],
   "source": [
    "rounding=RoundingDefinition(\n",
    "    decimal_places=0,\n",
    "    scale=1\n",
    ")\n",
    "\n",
    "quote_definition = QuoteDefinition(\n",
    "    instrument_code=\"EUROSTR=\"\n",
    ")\n",
    "\n",
    "index_definition = FloatingRateIndexDefinition(\n",
    "    currency='EUR', \n",
    "    name='New_EUR_3M_FR', \n",
    "    tenor='3M', \n",
    "    year_basis='YB_360', \n",
    "    rounding=rounding,\n",
    "    quote_definition=quote_definition)\n",
    "\n",
    "index_description=Description(summary=\"User defined EUR 3M Floating Rate Index\", tags=[\"EUR\"])\n",
    "\n",
    "user_defined_index = FloatingRateIndex(definition=index_definition, description=index_description)\n",
    "\n",
    "print(user_defined_index.definition)"
   ]
  },
  {
   "cell_type": "markdown",
   "id": "9551aa58",
   "metadata": {},
   "source": [
    "## Saving created index"
   ]
  },
  {
   "cell_type": "code",
   "execution_count": 6,
   "id": "5da39da1",
   "metadata": {
    "execution": {
     "iopub.execute_input": "2025-09-18T08:59:29.185018Z",
     "iopub.status.busy": "2025-09-18T08:59:29.184718Z",
     "iopub.status.idle": "2025-09-18T08:59:29.405792Z",
     "shell.execute_reply": "2025-09-18T08:59:29.405244Z"
    },
    "tags": [
     "save"
    ]
   },
   "outputs": [
    {
     "data": {
      "text/plain": [
       "True"
      ]
     },
     "execution_count": 6,
     "metadata": {},
     "output_type": "execute_result"
    }
   ],
   "source": [
    "# Save the index to a user space\n",
    "user_defined_index.save(name=\"User_EUR_3M_Index\", space=\"HOME\")"
   ]
  },
  {
   "cell_type": "markdown",
   "id": "1159de1e",
   "metadata": {},
   "source": [
    "## Deleting created index"
   ]
  },
  {
   "cell_type": "code",
   "execution_count": 7,
   "id": "420f40b9",
   "metadata": {
    "execution": {
     "iopub.execute_input": "2025-09-18T08:59:29.407972Z",
     "iopub.status.busy": "2025-09-18T08:59:29.407686Z",
     "iopub.status.idle": "2025-09-18T08:59:29.683974Z",
     "shell.execute_reply": "2025-09-18T08:59:29.683435Z"
    },
    "tags": [
     "delete"
    ]
   },
   "outputs": [
    {
     "data": {
      "text/plain": [
       "True"
      ]
     },
     "execution_count": 7,
     "metadata": {},
     "output_type": "execute_result"
    }
   ],
   "source": [
    "# Delete the index from a user space\n",
    "delete(name=\"User_EUR_3M_Index\", space=\"HOME\")"
   ]
  }
 ],
 "metadata": {
  "kernelspec": {
   "display_name": ".venv",
   "language": "python",
   "name": "python3"
  },
  "language_info": {
   "codemirror_mode": {
    "name": "ipython",
    "version": 3
   },
   "file_extension": ".py",
   "mimetype": "text/x-python",
   "name": "python",
   "nbconvert_exporter": "python",
   "pygments_lexer": "ipython3",
   "version": "3.11.6"
  }
 },
 "nbformat": 4,
 "nbformat_minor": 5
}
