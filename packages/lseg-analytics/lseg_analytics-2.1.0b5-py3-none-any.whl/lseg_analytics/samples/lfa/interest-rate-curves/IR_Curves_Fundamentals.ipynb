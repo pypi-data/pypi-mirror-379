{
 "cells": [
  {
   "cell_type": "markdown",
   "id": "1a108871",
   "metadata": {},
   "source": [
    "# Interest Rate Curves Fundamentals"
   ]
  },
  {
   "cell_type": "markdown",
   "id": "3a4cef20",
   "metadata": {},
   "source": [
    "This notebook demonstrates how to access and use the functionalities of **Interest Rate Curves** which are part of our **QPS** module within LSEG Financial Analytics SDK."
   ]
  },
  {
   "cell_type": "markdown",
   "id": "2ce134c9",
   "metadata": {},
   "source": [
    "### Imports"
   ]
  },
  {
   "cell_type": "markdown",
   "id": "bc76297f",
   "metadata": {},
   "source": [
    "Import the following necessary modules:"
   ]
  },
  {
   "cell_type": "code",
   "execution_count": 1,
   "id": "7df1f746",
   "metadata": {
    "execution": {
     "iopub.execute_input": "2025-09-18T09:00:01.179657Z",
     "iopub.status.busy": "2025-09-18T09:00:01.179357Z",
     "iopub.status.idle": "2025-09-18T09:00:01.550987Z",
     "shell.execute_reply": "2025-09-18T09:00:01.550467Z"
    }
   },
   "outputs": [],
   "source": [
    "from lseg_analytics.market_data.interest_rate_curves import search, load, delete"
   ]
  },
  {
   "cell_type": "markdown",
   "id": "392df013",
   "metadata": {},
   "source": [
    "Search code:"
   ]
  },
  {
   "cell_type": "code",
   "execution_count": 2,
   "id": "663f4ea8",
   "metadata": {
    "execution": {
     "iopub.execute_input": "2025-09-18T09:00:01.554934Z",
     "iopub.status.busy": "2025-09-18T09:00:01.553267Z",
     "iopub.status.idle": "2025-09-18T09:00:02.200176Z",
     "shell.execute_reply": "2025-09-18T09:00:02.199585Z"
    },
    "tags": [
     "search.static"
    ]
   },
   "outputs": [
    {
     "name": "stdout",
     "output_type": "stream",
     "text": [
      "[{'type': 'InterestRateCurve', 'id': '72379282-f4d0-4ebe-a5fb-09196298a924', 'location': {'space': 'LSEG', 'name': 'AUD_AONIA_Swap_ZC_Curve'}, 'description': {'summary': 'AUD AONIA Swap ZC Curve', 'tags': ['currency:AUD', 'indexName:AONIA', 'indexTenor:ON', 'mainConstituentAssetClass:Swap']}}, {'type': 'InterestRateCurve', 'id': '01d60137-54ec-47bc-bc08-c60a8f69292c', 'location': {'space': 'LSEG', 'name': 'AUD_BBSW__EMEA__Swap_ZC_Curve_1M'}, 'description': {'summary': 'AUD BBSW (EMEA) Swap ZC Curve for 1M tenor', 'tags': ['currency:AUD', 'indexName:BBSW', 'indexTenor:1M', 'mainConstituentAssetClass:Swap']}}, {'type': 'InterestRateCurve', 'id': 'e7d123aa-3f49-453c-892a-3e2f6256cc4c', 'location': {'space': 'LSEG', 'name': 'AUD_BBSW__EMEA__Swap_ZC_Curve_3M'}, 'description': {'summary': 'AUD BBSW (EMEA) Swap ZC Curve for 3M tenor', 'tags': ['currency:AUD', 'indexName:BBSW', 'indexTenor:3M', 'mainConstituentAssetClass:Swap']}}, {'type': 'InterestRateCurve', 'id': 'bd19b6e3-e16f-4065-80f8-49c4cbae3e1e', 'location': {'space': 'LSEG', 'name': 'AUD_BBSW__EMEA__Swap_ZC_Curve_6M'}, 'description': {'summary': 'AUD BBSW (EMEA) Swap ZC Curve for 6M tenor', 'tags': ['currency:AUD', 'indexName:BBSW', 'indexTenor:6M', 'mainConstituentAssetClass:Swap']}}, {'type': 'InterestRateCurve', 'id': '87a356a3-793f-4cc1-b5b9-15135e87e6f4', 'location': {'space': 'LSEG', 'name': 'AUD_BBSW_Swap_ZC_Curve_1M'}, 'description': {'summary': 'AUD BBSW Swap ZC Curve for 1M tenor', 'tags': ['currency:AUD', 'indexName:BBSW', 'indexTenor:1M', 'mainConstituentAssetClass:Swap']}}, {'type': 'InterestRateCurve', 'id': 'd0adb5f4-ca2b-4fa8-b572-af5c7e10358c', 'location': {'space': 'LSEG', 'name': 'AUD_BBSW_Swap_ZC_Curve_3M'}, 'description': {'summary': 'AUD BBSW Swap ZC Curve for 3M tenor', 'tags': ['currency:AUD', 'indexName:BBSW', 'indexTenor:3M', 'mainConstituentAssetClass:Swap']}}, {'type': 'InterestRateCurve', 'id': 'd9328c4b-58af-49f1-b7f0-9ee3077c2fcd', 'location': {'space': 'LSEG', 'name': 'AUD_BBSW_Swap_ZC_Curve_6M'}, 'description': {'summary': 'AUD BBSW Swap ZC Curve for 6M tenor', 'tags': ['currency:AUD', 'indexName:BBSW', 'indexTenor:6M', 'mainConstituentAssetClass:Swap']}}, {'type': 'InterestRateCurve', 'id': 'd4f30718-5775-49aa-803d-0902e3043aae', 'location': {'space': 'LSEG', 'name': 'AUD_Bills__IRS_vs_3M6M'}, 'description': {'summary': 'AUD Bills, IRS vs 3M/6M', 'tags': ['currency:AUD', 'indexName:BBSW', 'indexTenor:6M', 'mainConstituentAssetClass:Deposit']}}, {'type': 'InterestRateCurve', 'id': '0d2ca431-c889-4d00-96cb-59b3e4fba800', 'location': {'space': 'LSEG', 'name': 'CAD___Depo__IRS_vs_3M'}, 'description': {'summary': 'CAD - Depo, IRS vs 3M', 'tags': ['currency:CAD', 'indexName:BA', 'indexTenor:3M', 'mainConstituentAssetClass:Deposit']}}, {'type': 'InterestRateCurve', 'id': '6824a2b8-ca0e-4c50-b127-4c07c4290c4e', 'location': {'space': 'LSEG', 'name': 'CAD_BA_Swap_ZC_Curve_1M'}, 'description': {'summary': 'CAD BA Swap ZC Curve for 1M tenor', 'tags': ['currency:CAD', 'indexName:BA', 'indexTenor:1M', 'mainConstituentAssetClass:Swap']}}, {'type': 'InterestRateCurve', 'id': '10fdd39f-129f-49da-8cb4-58284996d5d8', 'location': {'space': 'LSEG', 'name': 'CAD_BA_Swap_ZC_Curve_3M'}, 'description': {'summary': 'CAD BA Swap ZC Curve for 3M tenor', 'tags': ['currency:CAD', 'indexName:BA', 'indexTenor:3M', 'mainConstituentAssetClass:Swap']}}, {'type': 'InterestRateCurve', 'id': 'adee5697-41e4-4dfd-9242-5b8f70a2d61d', 'location': {'space': 'LSEG', 'name': 'CAD_CORRA_Swap_ZC_Curve'}, 'description': {'summary': 'CAD CORRA Swap ZC Curve', 'tags': ['currency:CAD', 'indexName:CORRA', 'indexTenor:ON', 'mainConstituentAssetClass:Swap']}}, {'type': 'InterestRateCurve', 'id': '66c5f2b6-1840-4409-8c52-fbb7b1bcf14d', 'location': {'space': 'LSEG', 'name': 'CAD_CRA_Future_ZC_Curve'}, 'description': {'summary': 'CAD CRA Future ZC Curve', 'tags': ['currency:CAD', 'indexName:CORRA', 'indexTenor:ON', 'mainConstituentAssetClass:Futures']}}, {'type': 'InterestRateCurve', 'id': 'd2ea3f91-7b74-46e9-800a-d1d8ce264b00', 'location': {'space': 'LSEG', 'name': 'CHF___Depo__IRS_vs_6M'}, 'description': {'summary': 'CHF - Depo, IRS vs 6M', 'tags': ['currency:CHF', 'indexName:LIBOR', 'indexTenor:6M', 'mainConstituentAssetClass:Deposit']}}, {'type': 'InterestRateCurve', 'id': '4241c5ef-cd47-4e3d-974a-7c602027a804', 'location': {'space': 'LSEG', 'name': 'CHF_LIBOR_Swap_ZC_Curve_1M'}, 'description': {'summary': 'CHF LIBOR Swap ZC Curve for 1M tenor', 'tags': ['currency:CHF', 'indexName:LIBOR', 'indexTenor:1M', 'mainConstituentAssetClass:Swap']}}, {'type': 'InterestRateCurve', 'id': 'd0940c55-6c81-4b84-b308-03972b52e66a', 'location': {'space': 'LSEG', 'name': 'CHF_LIBOR_Swap_ZC_Curve_3M'}, 'description': {'summary': 'CHF LIBOR Swap ZC Curve for 3M tenor', 'tags': ['currency:CHF', 'indexName:LIBOR', 'indexTenor:3M', 'mainConstituentAssetClass:Swap']}}, {'type': 'InterestRateCurve', 'id': '3a47925c-582d-483b-b1b8-28bdad4c79a0', 'location': {'space': 'LSEG', 'name': 'CHF_LIBOR_Swap_ZC_Curve_6M'}, 'description': {'summary': 'CHF LIBOR Swap ZC Curve for 6M tenor', 'tags': ['currency:CHF', 'indexName:LIBOR', 'indexTenor:6M', 'mainConstituentAssetClass:Swap']}}, {'type': 'InterestRateCurve', 'id': 'a4b3f66c-0b19-4293-b536-6346ab279b11', 'location': {'space': 'LSEG', 'name': 'CHF_SARON_Swap_ZC_Curve'}, 'description': {'summary': 'CHF SARON Swap ZC Curve', 'tags': ['currency:CHF', 'indexName:SARON', 'indexTenor:ON', 'mainConstituentAssetClass:Swap']}}, {'type': 'InterestRateCurve', 'id': 'fe1c3c53-c583-4ff2-adcd-35c1e56e9c8e', 'location': {'space': 'LSEG', 'name': 'EUR___Depo__IRS_vs_6M'}, 'description': {'summary': 'EUR - Depo, IRS vs 6M', 'tags': ['currency:EUR', 'indexName:EURIBOR', 'indexTenor:6M', 'mainConstituentAssetClass:Deposit']}}, {'type': 'InterestRateCurve', 'id': 'c7a3eff1-abe8-4061-9f5e-83a76c09ee09', 'location': {'space': 'LSEG', 'name': 'EUR_ESTR_Swap_ZC_Curve'}, 'description': {'summary': 'EUR ESTR Swap ZC Curve', 'tags': ['currency:EUR', 'indexName:ESTR', 'indexTenor:ON', 'mainConstituentAssetClass:Swap']}}, {'type': 'InterestRateCurve', 'id': 'fa71cf17-f9b8-49b4-a5df-b85d6efbae69', 'location': {'space': 'LSEG', 'name': 'EUR_EURIBOR_Swap_ZC_Curve_3M'}, 'description': {'summary': 'EUR EURIBOR Swap ZC Curve for 3M tenor', 'tags': ['currency:EUR', 'indexName:EURIBOR', 'indexTenor:3M', 'mainConstituentAssetClass:Swap']}}, {'type': 'InterestRateCurve', 'id': 'c0614731-6785-46f1-bdcb-b11c4db23015', 'location': {'space': 'LSEG', 'name': 'EUR_EURIBOR_Swap_ZC_Curve_6M'}, 'description': {'summary': 'EUR EURIBOR Swap ZC Curve for 6M tenor', 'tags': ['currency:EUR', 'indexName:EURIBOR', 'indexTenor:6M', 'mainConstituentAssetClass:Swap']}}, {'type': 'InterestRateCurve', 'id': '3a36b566-a635-4bd9-9a2a-c6516d530dea', 'location': {'space': 'LSEG', 'name': 'EUR_FEI_Future_ZC_Curve'}, 'description': {'summary': 'EUR FEI Future ZC Curve', 'tags': ['currency:EUR', 'indexName:EURIBOR', 'indexTenor:3M', 'mainConstituentAssetClass:Futures']}}, {'type': 'InterestRateCurve', 'id': '4d3a08f3-724c-471e-b5b0-f37882c65bf4', 'location': {'space': 'LSEG', 'name': 'EUR_FEU3_Future_ZC_Curve'}, 'description': {'summary': 'EUR FEU3 Future ZC Curve', 'tags': ['currency:EUR', 'indexName:EURIBOR', 'indexTenor:3M', 'mainConstituentAssetClass:Futures']}}, {'type': 'InterestRateCurve', 'id': 'c569b8bf-900d-4edd-9e0d-5f28e839efae', 'location': {'space': 'LSEG', 'name': 'GBP___Depo__IRS_vs_6M'}, 'description': {'summary': 'GBP - Depo, IRS vs 6M', 'tags': ['currency:GBP', 'indexName:LIBOR', 'indexTenor:6M', 'mainConstituentAssetClass:Deposit']}}, {'type': 'InterestRateCurve', 'id': 'e2d24f38-a4b1-41ef-b6ee-45db77eb28cd', 'location': {'space': 'LSEG', 'name': 'GBP_LIBOR_Swap_ZC_Curve_3M'}, 'description': {'summary': 'GBP LIBOR Swap ZC Curve for 3M tenor', 'tags': ['currency:GBP', 'indexName:LIBOR', 'indexTenor:3M', 'mainConstituentAssetClass:Swap']}}, {'type': 'InterestRateCurve', 'id': '68a822c8-1e69-4914-bb07-bab177dd13c5', 'location': {'space': 'LSEG', 'name': 'GBP_LIBOR_Swap_ZC_Curve_6M'}, 'description': {'summary': 'GBP LIBOR Swap ZC Curve for 6M tenor', 'tags': ['currency:GBP', 'indexName:LIBOR', 'indexTenor:6M', 'mainConstituentAssetClass:Swap']}}, {'type': 'InterestRateCurve', 'id': 'cbcf4062-9eb9-45d2-bb82-428bced3b063', 'location': {'space': 'LSEG', 'name': 'GBP_LIBOR_Swap_ZC_Curve_ON'}, 'description': {'summary': 'GBP LIBOR Swap ZC Curve for ON tenor', 'tags': ['currency:GBP', 'indexName:LIBOR', 'indexTenor:ON', 'mainConstituentAssetClass:Swap']}}, {'type': 'InterestRateCurve', 'id': 'fc4ae917-3e75-4176-a496-52f861d9b699', 'location': {'space': 'LSEG', 'name': 'GBP_MPZ_Future_ZC_Curve'}, 'description': {'summary': 'GBP MPZ Future ZC Curve', 'tags': ['currency:GBP', 'indexName:SONIA', 'indexTenor:ON', 'mainConstituentAssetClass:Futures']}}, {'type': 'InterestRateCurve', 'id': 'f1669b21-114d-4f8d-9078-122e1b3915a1', 'location': {'space': 'LSEG', 'name': 'GBP_SNO_Future_ZC_Curve'}, 'description': {'summary': 'GBP SNO Future ZC Curve', 'tags': ['currency:GBP', 'indexName:SONIA', 'indexTenor:ON', 'mainConstituentAssetClass:Futures']}}, {'type': 'InterestRateCurve', 'id': '39a9c3bc-25da-4600-9a60-74a59fe2a174', 'location': {'space': 'LSEG', 'name': 'GBP_SONIA_Swap_ZC_Curve'}, 'description': {'summary': 'GBP SONIA Swap ZC Curve', 'tags': ['currency:GBP', 'indexName:SONIA', 'indexTenor:ON', 'mainConstituentAssetClass:Swap']}}, {'type': 'InterestRateCurve', 'id': '86c8c9ed-f54b-4927-8c97-3a18cd010efa', 'location': {'space': 'LSEG', 'name': 'JPY___Depo__IRS_vs_6M'}, 'description': {'summary': 'JPY - Depo, IRS vs 6M', 'tags': ['currency:JPY', 'indexName:LIBOR', 'indexTenor:6M', 'mainConstituentAssetClass:Deposit']}}, {'type': 'InterestRateCurve', 'id': '3f02b0a4-307e-40b7-bb4f-038f56e1c570', 'location': {'space': 'LSEG', 'name': 'JPY_LIBOR_Swap_ZC_Curve_1M'}, 'description': {'summary': 'JPY LIBOR Swap ZC Curve for 1M tenor', 'tags': ['currency:JPY', 'indexName:LIBOR', 'indexTenor:1M', 'mainConstituentAssetClass:Swap']}}, {'type': 'InterestRateCurve', 'id': '28e5697a-fe66-4c93-a18b-2db9419792db', 'location': {'space': 'LSEG', 'name': 'JPY_LIBOR_Swap_ZC_Curve_3M'}, 'description': {'summary': 'JPY LIBOR Swap ZC Curve for 3M tenor', 'tags': ['currency:JPY', 'indexName:LIBOR', 'indexTenor:3M', 'mainConstituentAssetClass:Swap']}}, {'type': 'InterestRateCurve', 'id': '826121e8-35ef-43ba-8edc-df42ea79983c', 'location': {'space': 'LSEG', 'name': 'JPY_LIBOR_Swap_ZC_Curve_6M'}, 'description': {'summary': 'JPY LIBOR Swap ZC Curve for 6M tenor', 'tags': ['currency:JPY', 'indexName:LIBOR', 'indexTenor:6M', 'mainConstituentAssetClass:Swap']}}, {'type': 'InterestRateCurve', 'id': '412e074c-15d4-43a0-81b5-5d47ade047f6', 'location': {'space': 'LSEG', 'name': 'JPY_TIBOR_Swap_ZC_Curve_1M'}, 'description': {'summary': 'JPY TIBOR Swap ZC Curve for 1M tenor', 'tags': ['currency:JPY', 'indexName:TIBOR', 'indexTenor:1M', 'mainConstituentAssetClass:Swap']}}, {'type': 'InterestRateCurve', 'id': '412034e0-e87a-42da-98b0-ec3da63ed0bb', 'location': {'space': 'LSEG', 'name': 'JPY_TIBOR_Swap_ZC_Curve_3M'}, 'description': {'summary': 'JPY TIBOR Swap ZC Curve for 3M tenor', 'tags': ['currency:JPY', 'indexName:TIBOR', 'indexTenor:3M', 'mainConstituentAssetClass:Swap']}}, {'type': 'InterestRateCurve', 'id': '025137a3-5183-470e-999f-1e2e75653588', 'location': {'space': 'LSEG', 'name': 'JPY_TIBOR_Swap_ZC_Curve_6M'}, 'description': {'summary': 'JPY TIBOR Swap ZC Curve for 6M tenor', 'tags': ['currency:JPY', 'indexName:TIBOR', 'indexTenor:6M', 'mainConstituentAssetClass:Swap']}}, {'type': 'InterestRateCurve', 'id': '8367a1cd-160b-4944-8bcb-8d4177244e1b', 'location': {'space': 'LSEG', 'name': 'JPY_TONAR_Swap_ZC_Curve'}, 'description': {'summary': 'JPY TONAR Swap ZC Curve', 'tags': ['currency:JPY', 'indexName:TONAR', 'indexTenor:ON', 'mainConstituentAssetClass:Swap']}}, {'type': 'InterestRateCurve', 'id': '2d959b3f-b52c-4fcb-84ae-040f9fb499cf', 'location': {'space': 'LSEG', 'name': 'NOK___Depo__IRS_vs_6M'}, 'description': {'summary': 'NOK - Depo, IRS vs 6M', 'tags': ['currency:NOK', 'indexName:OIBOR', 'indexTenor:6M', 'mainConstituentAssetClass:Deposit']}}, {'type': 'InterestRateCurve', 'id': '12255ecc-ab9f-4926-9620-8430dbe299a7', 'location': {'space': 'LSEG', 'name': 'NOK_NOWA_Swap_ZC_Curve'}, 'description': {'summary': 'NOK NOWA Swap ZC Curve', 'tags': ['currency:NOK', 'indexName:NOWA', 'indexTenor:ON', 'mainConstituentAssetClass:Swap']}}, {'type': 'InterestRateCurve', 'id': '4268fbd8-f6b0-46e6-a038-9983f40c4a09', 'location': {'space': 'LSEG', 'name': 'NOK_OIBOR_Swap_ZC_Curve'}, 'description': {'summary': 'NOK OIBOR Swap ZC Curve', 'tags': ['currency:NOK', 'indexName:OIBOR', 'indexTenor:6M', 'mainConstituentAssetClass:Swap']}}, {'type': 'InterestRateCurve', 'id': 'f49f0ba6-9610-4170-8b54-4034114d969e', 'location': {'space': 'LSEG', 'name': 'NZD_BKBM_Swap_ZC_Curve_1M'}, 'description': {'summary': 'NZD BKBM Swap ZC Curve for 1M tenor', 'tags': ['currency:NZD', 'indexName:BKBM', 'indexTenor:1M', 'mainConstituentAssetClass:Swap']}}, {'type': 'InterestRateCurve', 'id': '2cb48a67-792e-432a-86cd-7bb73bd07453', 'location': {'space': 'LSEG', 'name': 'NZD_BKBM_Swap_ZC_Curve_3M'}, 'description': {'summary': 'NZD BKBM Swap ZC Curve for 3M tenor', 'tags': ['currency:NZD', 'indexName:BKBM', 'indexTenor:3M', 'mainConstituentAssetClass:Swap']}}, {'type': 'InterestRateCurve', 'id': '81f80b59-5bc9-4142-aeb6-99be3ecb80f6', 'location': {'space': 'LSEG', 'name': 'NZD_BKBM_Swap_ZC_Curve_6M'}, 'description': {'summary': 'NZD BKBM Swap ZC Curve for 6M tenor', 'tags': ['currency:NZD', 'indexName:BKBM', 'indexTenor:6M', 'mainConstituentAssetClass:Swap']}}, {'type': 'InterestRateCurve', 'id': '2794749e-8a89-49ba-a22c-3cce61395bdb', 'location': {'space': 'LSEG', 'name': 'SEK___Depo__IRS_vs_3M'}, 'description': {'summary': 'SEK - Depo, IRS vs 3M', 'tags': ['currency:SEK', 'indexName:STIBOR', 'indexTenor:3M', 'mainConstituentAssetClass:Deposit']}}, {'type': 'InterestRateCurve', 'id': '5dd188da-c41a-471a-abfb-d698d15d4ce1', 'location': {'space': 'LSEG', 'name': 'SEK_STIBOR_Swap_ZC_Curve_3M'}, 'description': {'summary': 'SEK STIBOR Swap ZC Curve for 3M tenor', 'tags': ['currency:SEK', 'indexName:STIBOR', 'indexTenor:3M', 'mainConstituentAssetClass:Swap']}}, {'type': 'InterestRateCurve', 'id': 'af5f17ec-0e68-45a8-b483-088ffbd8ea77', 'location': {'space': 'LSEG', 'name': 'SEK_STIBOR_Swap_ZC_Curve_6M'}, 'description': {'summary': 'SEK STIBOR Swap ZC Curve for 6M tenor', 'tags': ['currency:SEK', 'indexName:STIBOR', 'indexTenor:6M', 'mainConstituentAssetClass:Swap']}}, {'type': 'InterestRateCurve', 'id': '6a698ed3-0bf3-4b95-87f2-6f1bdacd2528', 'location': {'space': 'LSEG', 'name': 'SEK_SWESTR_Swap_ZC_Curve'}, 'description': {'summary': 'SEK SWESTR Swap ZC Curve', 'tags': ['currency:SEK', 'indexName:SWESTR', 'indexTenor:ON', 'mainConstituentAssetClass:Swap']}}, {'type': 'InterestRateCurve', 'id': '60ad0dad-2e5a-4163-bca4-85d0765da981', 'location': {'space': 'LSEG', 'name': 'Test___USD_S1R_Future_ZC_Curve'}, 'description': {'summary': 'Test - USD S1R Future ZC Curve', 'tags': ['currency:USD', 'indexName:SOFR', 'indexTenor:ON', 'mainConstituentAssetClass:Futures']}}]\n"
     ]
    }
   ],
   "source": [
    "# execute the search of irCurves templates\n",
    "irCurve_templates = search()\n",
    "\n",
    "print(irCurve_templates)"
   ]
  },
  {
   "cell_type": "markdown",
   "id": "5ccccb77",
   "metadata": {},
   "source": [
    "### Loading a specific interest rate curve template"
   ]
  },
  {
   "cell_type": "markdown",
   "id": "bd0a0656",
   "metadata": {},
   "source": [
    "User can load a specific interest rate curve template by either providing a unique template name or resource ID.\n",
    "\n",
    "Mandatory arguments: \n",
    "- resource_id - mutually exclusive with name\n",
    "- name - mutually exclusive with resource_id"
   ]
  },
  {
   "cell_type": "code",
   "execution_count": 3,
   "id": "f5ae18b3",
   "metadata": {
    "execution": {
     "iopub.execute_input": "2025-09-18T09:00:02.202821Z",
     "iopub.status.busy": "2025-09-18T09:00:02.202364Z",
     "iopub.status.idle": "2025-09-18T09:00:02.442530Z",
     "shell.execute_reply": "2025-09-18T09:00:02.442061Z"
    },
    "tags": [
     "load"
    ]
   },
   "outputs": [
    {
     "name": "stdout",
     "output_type": "stream",
     "text": [
      "<InterestRateCurve space='LSEG' name='AUD_AONIA_Swap_ZC_Curve' 72379282‥>\n"
     ]
    }
   ],
   "source": [
    "# execute the search of interest rate curves templates using id\n",
    "loaded_template = load(resource_id=irCurve_templates[0].id)\n",
    "\n",
    "print(loaded_template)"
   ]
  },
  {
   "cell_type": "code",
   "execution_count": 4,
   "id": "39b81255",
   "metadata": {
    "execution": {
     "iopub.execute_input": "2025-09-18T09:00:02.444733Z",
     "iopub.status.busy": "2025-09-18T09:00:02.444290Z",
     "iopub.status.idle": "2025-09-18T09:00:02.778502Z",
     "shell.execute_reply": "2025-09-18T09:00:02.777969Z"
    }
   },
   "outputs": [
    {
     "name": "stdout",
     "output_type": "stream",
     "text": [
      "<InterestRateCurve space='LSEG' name='AUD_AONIA_Swap_ZC_Curve' 72379282‥>\n"
     ]
    }
   ],
   "source": [
    "# execute the search of interest rate curves templates using name\n",
    "loaded_template_from_name = load(name = irCurve_templates[0].location.name)\n",
    "\n",
    "print(loaded_template_from_name)"
   ]
  },
  {
   "cell_type": "markdown",
   "id": "d2d804e9",
   "metadata": {},
   "source": [
    "### Deleting a specific interest rate curve template"
   ]
  },
  {
   "cell_type": "markdown",
   "id": "d55c835f",
   "metadata": {},
   "source": [
    "Clone and save template to delete (name : template_for_deletion)"
   ]
  },
  {
   "cell_type": "code",
   "execution_count": 5,
   "id": "eaed9811",
   "metadata": {
    "execution": {
     "iopub.execute_input": "2025-09-18T09:00:02.781024Z",
     "iopub.status.busy": "2025-09-18T09:00:02.780420Z",
     "iopub.status.idle": "2025-09-18T09:00:03.162044Z",
     "shell.execute_reply": "2025-09-18T09:00:03.161469Z"
    },
    "tags": [
     "save"
    ]
   },
   "outputs": [
    {
     "name": "stdout",
     "output_type": "stream",
     "text": [
      "[{'type': 'InterestRateCurve', 'id': '32f315bb-a4e4-4fd5-b0d5-34bb5834d56d', 'location': {'space': 'HOME', 'name': 'template_for_deletion'}, 'description': {'summary': 'AUD AONIA Swap ZC Curve', 'tags': ['currency:AUD', 'indexName:AONIA', 'indexTenor:ON', 'mainConstituentAssetClass:Swap']}}, {'type': 'InterestRateCurve', 'id': '72379282-f4d0-4ebe-a5fb-09196298a924', 'location': {'space': 'LSEG', 'name': 'AUD_AONIA_Swap_ZC_Curve'}, 'description': {'summary': 'AUD AONIA Swap ZC Curve', 'tags': ['currency:AUD', 'indexName:AONIA', 'indexTenor:ON', 'mainConstituentAssetClass:Swap']}}, {'type': 'InterestRateCurve', 'id': '01d60137-54ec-47bc-bc08-c60a8f69292c', 'location': {'space': 'LSEG', 'name': 'AUD_BBSW__EMEA__Swap_ZC_Curve_1M'}, 'description': {'summary': 'AUD BBSW (EMEA) Swap ZC Curve for 1M tenor', 'tags': ['currency:AUD', 'indexName:BBSW', 'indexTenor:1M', 'mainConstituentAssetClass:Swap']}}, {'type': 'InterestRateCurve', 'id': 'e7d123aa-3f49-453c-892a-3e2f6256cc4c', 'location': {'space': 'LSEG', 'name': 'AUD_BBSW__EMEA__Swap_ZC_Curve_3M'}, 'description': {'summary': 'AUD BBSW (EMEA) Swap ZC Curve for 3M tenor', 'tags': ['currency:AUD', 'indexName:BBSW', 'indexTenor:3M', 'mainConstituentAssetClass:Swap']}}, {'type': 'InterestRateCurve', 'id': 'bd19b6e3-e16f-4065-80f8-49c4cbae3e1e', 'location': {'space': 'LSEG', 'name': 'AUD_BBSW__EMEA__Swap_ZC_Curve_6M'}, 'description': {'summary': 'AUD BBSW (EMEA) Swap ZC Curve for 6M tenor', 'tags': ['currency:AUD', 'indexName:BBSW', 'indexTenor:6M', 'mainConstituentAssetClass:Swap']}}, {'type': 'InterestRateCurve', 'id': '87a356a3-793f-4cc1-b5b9-15135e87e6f4', 'location': {'space': 'LSEG', 'name': 'AUD_BBSW_Swap_ZC_Curve_1M'}, 'description': {'summary': 'AUD BBSW Swap ZC Curve for 1M tenor', 'tags': ['currency:AUD', 'indexName:BBSW', 'indexTenor:1M', 'mainConstituentAssetClass:Swap']}}, {'type': 'InterestRateCurve', 'id': 'd0adb5f4-ca2b-4fa8-b572-af5c7e10358c', 'location': {'space': 'LSEG', 'name': 'AUD_BBSW_Swap_ZC_Curve_3M'}, 'description': {'summary': 'AUD BBSW Swap ZC Curve for 3M tenor', 'tags': ['currency:AUD', 'indexName:BBSW', 'indexTenor:3M', 'mainConstituentAssetClass:Swap']}}, {'type': 'InterestRateCurve', 'id': 'd9328c4b-58af-49f1-b7f0-9ee3077c2fcd', 'location': {'space': 'LSEG', 'name': 'AUD_BBSW_Swap_ZC_Curve_6M'}, 'description': {'summary': 'AUD BBSW Swap ZC Curve for 6M tenor', 'tags': ['currency:AUD', 'indexName:BBSW', 'indexTenor:6M', 'mainConstituentAssetClass:Swap']}}, {'type': 'InterestRateCurve', 'id': 'd4f30718-5775-49aa-803d-0902e3043aae', 'location': {'space': 'LSEG', 'name': 'AUD_Bills__IRS_vs_3M6M'}, 'description': {'summary': 'AUD Bills, IRS vs 3M/6M', 'tags': ['currency:AUD', 'indexName:BBSW', 'indexTenor:6M', 'mainConstituentAssetClass:Deposit']}}, {'type': 'InterestRateCurve', 'id': '0d2ca431-c889-4d00-96cb-59b3e4fba800', 'location': {'space': 'LSEG', 'name': 'CAD___Depo__IRS_vs_3M'}, 'description': {'summary': 'CAD - Depo, IRS vs 3M', 'tags': ['currency:CAD', 'indexName:BA', 'indexTenor:3M', 'mainConstituentAssetClass:Deposit']}}, {'type': 'InterestRateCurve', 'id': '6824a2b8-ca0e-4c50-b127-4c07c4290c4e', 'location': {'space': 'LSEG', 'name': 'CAD_BA_Swap_ZC_Curve_1M'}, 'description': {'summary': 'CAD BA Swap ZC Curve for 1M tenor', 'tags': ['currency:CAD', 'indexName:BA', 'indexTenor:1M', 'mainConstituentAssetClass:Swap']}}, {'type': 'InterestRateCurve', 'id': '10fdd39f-129f-49da-8cb4-58284996d5d8', 'location': {'space': 'LSEG', 'name': 'CAD_BA_Swap_ZC_Curve_3M'}, 'description': {'summary': 'CAD BA Swap ZC Curve for 3M tenor', 'tags': ['currency:CAD', 'indexName:BA', 'indexTenor:3M', 'mainConstituentAssetClass:Swap']}}, {'type': 'InterestRateCurve', 'id': 'adee5697-41e4-4dfd-9242-5b8f70a2d61d', 'location': {'space': 'LSEG', 'name': 'CAD_CORRA_Swap_ZC_Curve'}, 'description': {'summary': 'CAD CORRA Swap ZC Curve', 'tags': ['currency:CAD', 'indexName:CORRA', 'indexTenor:ON', 'mainConstituentAssetClass:Swap']}}, {'type': 'InterestRateCurve', 'id': '66c5f2b6-1840-4409-8c52-fbb7b1bcf14d', 'location': {'space': 'LSEG', 'name': 'CAD_CRA_Future_ZC_Curve'}, 'description': {'summary': 'CAD CRA Future ZC Curve', 'tags': ['currency:CAD', 'indexName:CORRA', 'indexTenor:ON', 'mainConstituentAssetClass:Futures']}}, {'type': 'InterestRateCurve', 'id': 'd2ea3f91-7b74-46e9-800a-d1d8ce264b00', 'location': {'space': 'LSEG', 'name': 'CHF___Depo__IRS_vs_6M'}, 'description': {'summary': 'CHF - Depo, IRS vs 6M', 'tags': ['currency:CHF', 'indexName:LIBOR', 'indexTenor:6M', 'mainConstituentAssetClass:Deposit']}}, {'type': 'InterestRateCurve', 'id': '4241c5ef-cd47-4e3d-974a-7c602027a804', 'location': {'space': 'LSEG', 'name': 'CHF_LIBOR_Swap_ZC_Curve_1M'}, 'description': {'summary': 'CHF LIBOR Swap ZC Curve for 1M tenor', 'tags': ['currency:CHF', 'indexName:LIBOR', 'indexTenor:1M', 'mainConstituentAssetClass:Swap']}}, {'type': 'InterestRateCurve', 'id': 'd0940c55-6c81-4b84-b308-03972b52e66a', 'location': {'space': 'LSEG', 'name': 'CHF_LIBOR_Swap_ZC_Curve_3M'}, 'description': {'summary': 'CHF LIBOR Swap ZC Curve for 3M tenor', 'tags': ['currency:CHF', 'indexName:LIBOR', 'indexTenor:3M', 'mainConstituentAssetClass:Swap']}}, {'type': 'InterestRateCurve', 'id': '3a47925c-582d-483b-b1b8-28bdad4c79a0', 'location': {'space': 'LSEG', 'name': 'CHF_LIBOR_Swap_ZC_Curve_6M'}, 'description': {'summary': 'CHF LIBOR Swap ZC Curve for 6M tenor', 'tags': ['currency:CHF', 'indexName:LIBOR', 'indexTenor:6M', 'mainConstituentAssetClass:Swap']}}, {'type': 'InterestRateCurve', 'id': 'a4b3f66c-0b19-4293-b536-6346ab279b11', 'location': {'space': 'LSEG', 'name': 'CHF_SARON_Swap_ZC_Curve'}, 'description': {'summary': 'CHF SARON Swap ZC Curve', 'tags': ['currency:CHF', 'indexName:SARON', 'indexTenor:ON', 'mainConstituentAssetClass:Swap']}}, {'type': 'InterestRateCurve', 'id': 'fe1c3c53-c583-4ff2-adcd-35c1e56e9c8e', 'location': {'space': 'LSEG', 'name': 'EUR___Depo__IRS_vs_6M'}, 'description': {'summary': 'EUR - Depo, IRS vs 6M', 'tags': ['currency:EUR', 'indexName:EURIBOR', 'indexTenor:6M', 'mainConstituentAssetClass:Deposit']}}, {'type': 'InterestRateCurve', 'id': 'c7a3eff1-abe8-4061-9f5e-83a76c09ee09', 'location': {'space': 'LSEG', 'name': 'EUR_ESTR_Swap_ZC_Curve'}, 'description': {'summary': 'EUR ESTR Swap ZC Curve', 'tags': ['currency:EUR', 'indexName:ESTR', 'indexTenor:ON', 'mainConstituentAssetClass:Swap']}}, {'type': 'InterestRateCurve', 'id': 'fa71cf17-f9b8-49b4-a5df-b85d6efbae69', 'location': {'space': 'LSEG', 'name': 'EUR_EURIBOR_Swap_ZC_Curve_3M'}, 'description': {'summary': 'EUR EURIBOR Swap ZC Curve for 3M tenor', 'tags': ['currency:EUR', 'indexName:EURIBOR', 'indexTenor:3M', 'mainConstituentAssetClass:Swap']}}, {'type': 'InterestRateCurve', 'id': 'c0614731-6785-46f1-bdcb-b11c4db23015', 'location': {'space': 'LSEG', 'name': 'EUR_EURIBOR_Swap_ZC_Curve_6M'}, 'description': {'summary': 'EUR EURIBOR Swap ZC Curve for 6M tenor', 'tags': ['currency:EUR', 'indexName:EURIBOR', 'indexTenor:6M', 'mainConstituentAssetClass:Swap']}}, {'type': 'InterestRateCurve', 'id': '3a36b566-a635-4bd9-9a2a-c6516d530dea', 'location': {'space': 'LSEG', 'name': 'EUR_FEI_Future_ZC_Curve'}, 'description': {'summary': 'EUR FEI Future ZC Curve', 'tags': ['currency:EUR', 'indexName:EURIBOR', 'indexTenor:3M', 'mainConstituentAssetClass:Futures']}}, {'type': 'InterestRateCurve', 'id': '4d3a08f3-724c-471e-b5b0-f37882c65bf4', 'location': {'space': 'LSEG', 'name': 'EUR_FEU3_Future_ZC_Curve'}, 'description': {'summary': 'EUR FEU3 Future ZC Curve', 'tags': ['currency:EUR', 'indexName:EURIBOR', 'indexTenor:3M', 'mainConstituentAssetClass:Futures']}}, {'type': 'InterestRateCurve', 'id': 'c569b8bf-900d-4edd-9e0d-5f28e839efae', 'location': {'space': 'LSEG', 'name': 'GBP___Depo__IRS_vs_6M'}, 'description': {'summary': 'GBP - Depo, IRS vs 6M', 'tags': ['currency:GBP', 'indexName:LIBOR', 'indexTenor:6M', 'mainConstituentAssetClass:Deposit']}}, {'type': 'InterestRateCurve', 'id': 'e2d24f38-a4b1-41ef-b6ee-45db77eb28cd', 'location': {'space': 'LSEG', 'name': 'GBP_LIBOR_Swap_ZC_Curve_3M'}, 'description': {'summary': 'GBP LIBOR Swap ZC Curve for 3M tenor', 'tags': ['currency:GBP', 'indexName:LIBOR', 'indexTenor:3M', 'mainConstituentAssetClass:Swap']}}, {'type': 'InterestRateCurve', 'id': '68a822c8-1e69-4914-bb07-bab177dd13c5', 'location': {'space': 'LSEG', 'name': 'GBP_LIBOR_Swap_ZC_Curve_6M'}, 'description': {'summary': 'GBP LIBOR Swap ZC Curve for 6M tenor', 'tags': ['currency:GBP', 'indexName:LIBOR', 'indexTenor:6M', 'mainConstituentAssetClass:Swap']}}, {'type': 'InterestRateCurve', 'id': 'cbcf4062-9eb9-45d2-bb82-428bced3b063', 'location': {'space': 'LSEG', 'name': 'GBP_LIBOR_Swap_ZC_Curve_ON'}, 'description': {'summary': 'GBP LIBOR Swap ZC Curve for ON tenor', 'tags': ['currency:GBP', 'indexName:LIBOR', 'indexTenor:ON', 'mainConstituentAssetClass:Swap']}}, {'type': 'InterestRateCurve', 'id': 'fc4ae917-3e75-4176-a496-52f861d9b699', 'location': {'space': 'LSEG', 'name': 'GBP_MPZ_Future_ZC_Curve'}, 'description': {'summary': 'GBP MPZ Future ZC Curve', 'tags': ['currency:GBP', 'indexName:SONIA', 'indexTenor:ON', 'mainConstituentAssetClass:Futures']}}, {'type': 'InterestRateCurve', 'id': 'f1669b21-114d-4f8d-9078-122e1b3915a1', 'location': {'space': 'LSEG', 'name': 'GBP_SNO_Future_ZC_Curve'}, 'description': {'summary': 'GBP SNO Future ZC Curve', 'tags': ['currency:GBP', 'indexName:SONIA', 'indexTenor:ON', 'mainConstituentAssetClass:Futures']}}, {'type': 'InterestRateCurve', 'id': '39a9c3bc-25da-4600-9a60-74a59fe2a174', 'location': {'space': 'LSEG', 'name': 'GBP_SONIA_Swap_ZC_Curve'}, 'description': {'summary': 'GBP SONIA Swap ZC Curve', 'tags': ['currency:GBP', 'indexName:SONIA', 'indexTenor:ON', 'mainConstituentAssetClass:Swap']}}, {'type': 'InterestRateCurve', 'id': '86c8c9ed-f54b-4927-8c97-3a18cd010efa', 'location': {'space': 'LSEG', 'name': 'JPY___Depo__IRS_vs_6M'}, 'description': {'summary': 'JPY - Depo, IRS vs 6M', 'tags': ['currency:JPY', 'indexName:LIBOR', 'indexTenor:6M', 'mainConstituentAssetClass:Deposit']}}, {'type': 'InterestRateCurve', 'id': '3f02b0a4-307e-40b7-bb4f-038f56e1c570', 'location': {'space': 'LSEG', 'name': 'JPY_LIBOR_Swap_ZC_Curve_1M'}, 'description': {'summary': 'JPY LIBOR Swap ZC Curve for 1M tenor', 'tags': ['currency:JPY', 'indexName:LIBOR', 'indexTenor:1M', 'mainConstituentAssetClass:Swap']}}, {'type': 'InterestRateCurve', 'id': '28e5697a-fe66-4c93-a18b-2db9419792db', 'location': {'space': 'LSEG', 'name': 'JPY_LIBOR_Swap_ZC_Curve_3M'}, 'description': {'summary': 'JPY LIBOR Swap ZC Curve for 3M tenor', 'tags': ['currency:JPY', 'indexName:LIBOR', 'indexTenor:3M', 'mainConstituentAssetClass:Swap']}}, {'type': 'InterestRateCurve', 'id': '826121e8-35ef-43ba-8edc-df42ea79983c', 'location': {'space': 'LSEG', 'name': 'JPY_LIBOR_Swap_ZC_Curve_6M'}, 'description': {'summary': 'JPY LIBOR Swap ZC Curve for 6M tenor', 'tags': ['currency:JPY', 'indexName:LIBOR', 'indexTenor:6M', 'mainConstituentAssetClass:Swap']}}, {'type': 'InterestRateCurve', 'id': '412e074c-15d4-43a0-81b5-5d47ade047f6', 'location': {'space': 'LSEG', 'name': 'JPY_TIBOR_Swap_ZC_Curve_1M'}, 'description': {'summary': 'JPY TIBOR Swap ZC Curve for 1M tenor', 'tags': ['currency:JPY', 'indexName:TIBOR', 'indexTenor:1M', 'mainConstituentAssetClass:Swap']}}, {'type': 'InterestRateCurve', 'id': '412034e0-e87a-42da-98b0-ec3da63ed0bb', 'location': {'space': 'LSEG', 'name': 'JPY_TIBOR_Swap_ZC_Curve_3M'}, 'description': {'summary': 'JPY TIBOR Swap ZC Curve for 3M tenor', 'tags': ['currency:JPY', 'indexName:TIBOR', 'indexTenor:3M', 'mainConstituentAssetClass:Swap']}}, {'type': 'InterestRateCurve', 'id': '025137a3-5183-470e-999f-1e2e75653588', 'location': {'space': 'LSEG', 'name': 'JPY_TIBOR_Swap_ZC_Curve_6M'}, 'description': {'summary': 'JPY TIBOR Swap ZC Curve for 6M tenor', 'tags': ['currency:JPY', 'indexName:TIBOR', 'indexTenor:6M', 'mainConstituentAssetClass:Swap']}}, {'type': 'InterestRateCurve', 'id': '8367a1cd-160b-4944-8bcb-8d4177244e1b', 'location': {'space': 'LSEG', 'name': 'JPY_TONAR_Swap_ZC_Curve'}, 'description': {'summary': 'JPY TONAR Swap ZC Curve', 'tags': ['currency:JPY', 'indexName:TONAR', 'indexTenor:ON', 'mainConstituentAssetClass:Swap']}}, {'type': 'InterestRateCurve', 'id': '2d959b3f-b52c-4fcb-84ae-040f9fb499cf', 'location': {'space': 'LSEG', 'name': 'NOK___Depo__IRS_vs_6M'}, 'description': {'summary': 'NOK - Depo, IRS vs 6M', 'tags': ['currency:NOK', 'indexName:OIBOR', 'indexTenor:6M', 'mainConstituentAssetClass:Deposit']}}, {'type': 'InterestRateCurve', 'id': '12255ecc-ab9f-4926-9620-8430dbe299a7', 'location': {'space': 'LSEG', 'name': 'NOK_NOWA_Swap_ZC_Curve'}, 'description': {'summary': 'NOK NOWA Swap ZC Curve', 'tags': ['currency:NOK', 'indexName:NOWA', 'indexTenor:ON', 'mainConstituentAssetClass:Swap']}}, {'type': 'InterestRateCurve', 'id': '4268fbd8-f6b0-46e6-a038-9983f40c4a09', 'location': {'space': 'LSEG', 'name': 'NOK_OIBOR_Swap_ZC_Curve'}, 'description': {'summary': 'NOK OIBOR Swap ZC Curve', 'tags': ['currency:NOK', 'indexName:OIBOR', 'indexTenor:6M', 'mainConstituentAssetClass:Swap']}}, {'type': 'InterestRateCurve', 'id': 'f49f0ba6-9610-4170-8b54-4034114d969e', 'location': {'space': 'LSEG', 'name': 'NZD_BKBM_Swap_ZC_Curve_1M'}, 'description': {'summary': 'NZD BKBM Swap ZC Curve for 1M tenor', 'tags': ['currency:NZD', 'indexName:BKBM', 'indexTenor:1M', 'mainConstituentAssetClass:Swap']}}, {'type': 'InterestRateCurve', 'id': '2cb48a67-792e-432a-86cd-7bb73bd07453', 'location': {'space': 'LSEG', 'name': 'NZD_BKBM_Swap_ZC_Curve_3M'}, 'description': {'summary': 'NZD BKBM Swap ZC Curve for 3M tenor', 'tags': ['currency:NZD', 'indexName:BKBM', 'indexTenor:3M', 'mainConstituentAssetClass:Swap']}}, {'type': 'InterestRateCurve', 'id': '81f80b59-5bc9-4142-aeb6-99be3ecb80f6', 'location': {'space': 'LSEG', 'name': 'NZD_BKBM_Swap_ZC_Curve_6M'}, 'description': {'summary': 'NZD BKBM Swap ZC Curve for 6M tenor', 'tags': ['currency:NZD', 'indexName:BKBM', 'indexTenor:6M', 'mainConstituentAssetClass:Swap']}}, {'type': 'InterestRateCurve', 'id': '2794749e-8a89-49ba-a22c-3cce61395bdb', 'location': {'space': 'LSEG', 'name': 'SEK___Depo__IRS_vs_3M'}, 'description': {'summary': 'SEK - Depo, IRS vs 3M', 'tags': ['currency:SEK', 'indexName:STIBOR', 'indexTenor:3M', 'mainConstituentAssetClass:Deposit']}}, {'type': 'InterestRateCurve', 'id': '5dd188da-c41a-471a-abfb-d698d15d4ce1', 'location': {'space': 'LSEG', 'name': 'SEK_STIBOR_Swap_ZC_Curve_3M'}, 'description': {'summary': 'SEK STIBOR Swap ZC Curve for 3M tenor', 'tags': ['currency:SEK', 'indexName:STIBOR', 'indexTenor:3M', 'mainConstituentAssetClass:Swap']}}, {'type': 'InterestRateCurve', 'id': 'af5f17ec-0e68-45a8-b483-088ffbd8ea77', 'location': {'space': 'LSEG', 'name': 'SEK_STIBOR_Swap_ZC_Curve_6M'}, 'description': {'summary': 'SEK STIBOR Swap ZC Curve for 6M tenor', 'tags': ['currency:SEK', 'indexName:STIBOR', 'indexTenor:6M', 'mainConstituentAssetClass:Swap']}}, {'type': 'InterestRateCurve', 'id': '6a698ed3-0bf3-4b95-87f2-6f1bdacd2528', 'location': {'space': 'LSEG', 'name': 'SEK_SWESTR_Swap_ZC_Curve'}, 'description': {'summary': 'SEK SWESTR Swap ZC Curve', 'tags': ['currency:SEK', 'indexName:SWESTR', 'indexTenor:ON', 'mainConstituentAssetClass:Swap']}}]\n"
     ]
    }
   ],
   "source": [
    "# Clone template to save original\n",
    "cloned_template = loaded_template.clone()\n",
    "\n",
    "# Save the cloned template to a space\n",
    "cloned_template.save(name='template_for_deletion', space='HOME')\n",
    "\n",
    "# Check that the curve with name 'template_for_deletion' exists\n",
    "irCurve_templates = search()\n",
    "\n",
    "print(irCurve_templates)"
   ]
  },
  {
   "cell_type": "markdown",
   "id": "a0d063c4",
   "metadata": {},
   "source": [
    "Process the delete"
   ]
  },
  {
   "cell_type": "code",
   "execution_count": 6,
   "id": "47f69788",
   "metadata": {
    "execution": {
     "iopub.execute_input": "2025-09-18T09:00:03.164493Z",
     "iopub.status.busy": "2025-09-18T09:00:03.164071Z",
     "iopub.status.idle": "2025-09-18T09:00:03.682985Z",
     "shell.execute_reply": "2025-09-18T09:00:03.682536Z"
    },
    "tags": [
     "delete"
    ]
   },
   "outputs": [
    {
     "data": {
      "text/plain": [
       "True"
      ]
     },
     "execution_count": 6,
     "metadata": {},
     "output_type": "execute_result"
    }
   ],
   "source": [
    "delete(resource_id=cloned_template.id)"
   ]
  },
  {
   "cell_type": "markdown",
   "id": "b4e83ded",
   "metadata": {},
   "source": [
    "check that irCurve with name template_for_deletion is no longer available in the search"
   ]
  },
  {
   "cell_type": "code",
   "execution_count": 7,
   "id": "1a533887",
   "metadata": {
    "execution": {
     "iopub.execute_input": "2025-09-18T09:00:03.685496Z",
     "iopub.status.busy": "2025-09-18T09:00:03.685199Z",
     "iopub.status.idle": "2025-09-18T09:00:03.803593Z",
     "shell.execute_reply": "2025-09-18T09:00:03.803092Z"
    }
   },
   "outputs": [
    {
     "name": "stdout",
     "output_type": "stream",
     "text": [
      "[{'type': 'InterestRateCurve', 'id': '72379282-f4d0-4ebe-a5fb-09196298a924', 'location': {'space': 'LSEG', 'name': 'AUD_AONIA_Swap_ZC_Curve'}, 'description': {'summary': 'AUD AONIA Swap ZC Curve', 'tags': ['currency:AUD', 'indexName:AONIA', 'indexTenor:ON', 'mainConstituentAssetClass:Swap']}}, {'type': 'InterestRateCurve', 'id': '01d60137-54ec-47bc-bc08-c60a8f69292c', 'location': {'space': 'LSEG', 'name': 'AUD_BBSW__EMEA__Swap_ZC_Curve_1M'}, 'description': {'summary': 'AUD BBSW (EMEA) Swap ZC Curve for 1M tenor', 'tags': ['currency:AUD', 'indexName:BBSW', 'indexTenor:1M', 'mainConstituentAssetClass:Swap']}}, {'type': 'InterestRateCurve', 'id': 'e7d123aa-3f49-453c-892a-3e2f6256cc4c', 'location': {'space': 'LSEG', 'name': 'AUD_BBSW__EMEA__Swap_ZC_Curve_3M'}, 'description': {'summary': 'AUD BBSW (EMEA) Swap ZC Curve for 3M tenor', 'tags': ['currency:AUD', 'indexName:BBSW', 'indexTenor:3M', 'mainConstituentAssetClass:Swap']}}, {'type': 'InterestRateCurve', 'id': 'bd19b6e3-e16f-4065-80f8-49c4cbae3e1e', 'location': {'space': 'LSEG', 'name': 'AUD_BBSW__EMEA__Swap_ZC_Curve_6M'}, 'description': {'summary': 'AUD BBSW (EMEA) Swap ZC Curve for 6M tenor', 'tags': ['currency:AUD', 'indexName:BBSW', 'indexTenor:6M', 'mainConstituentAssetClass:Swap']}}, {'type': 'InterestRateCurve', 'id': '87a356a3-793f-4cc1-b5b9-15135e87e6f4', 'location': {'space': 'LSEG', 'name': 'AUD_BBSW_Swap_ZC_Curve_1M'}, 'description': {'summary': 'AUD BBSW Swap ZC Curve for 1M tenor', 'tags': ['currency:AUD', 'indexName:BBSW', 'indexTenor:1M', 'mainConstituentAssetClass:Swap']}}, {'type': 'InterestRateCurve', 'id': 'd0adb5f4-ca2b-4fa8-b572-af5c7e10358c', 'location': {'space': 'LSEG', 'name': 'AUD_BBSW_Swap_ZC_Curve_3M'}, 'description': {'summary': 'AUD BBSW Swap ZC Curve for 3M tenor', 'tags': ['currency:AUD', 'indexName:BBSW', 'indexTenor:3M', 'mainConstituentAssetClass:Swap']}}, {'type': 'InterestRateCurve', 'id': 'd9328c4b-58af-49f1-b7f0-9ee3077c2fcd', 'location': {'space': 'LSEG', 'name': 'AUD_BBSW_Swap_ZC_Curve_6M'}, 'description': {'summary': 'AUD BBSW Swap ZC Curve for 6M tenor', 'tags': ['currency:AUD', 'indexName:BBSW', 'indexTenor:6M', 'mainConstituentAssetClass:Swap']}}, {'type': 'InterestRateCurve', 'id': 'd4f30718-5775-49aa-803d-0902e3043aae', 'location': {'space': 'LSEG', 'name': 'AUD_Bills__IRS_vs_3M6M'}, 'description': {'summary': 'AUD Bills, IRS vs 3M/6M', 'tags': ['currency:AUD', 'indexName:BBSW', 'indexTenor:6M', 'mainConstituentAssetClass:Deposit']}}, {'type': 'InterestRateCurve', 'id': '0d2ca431-c889-4d00-96cb-59b3e4fba800', 'location': {'space': 'LSEG', 'name': 'CAD___Depo__IRS_vs_3M'}, 'description': {'summary': 'CAD - Depo, IRS vs 3M', 'tags': ['currency:CAD', 'indexName:BA', 'indexTenor:3M', 'mainConstituentAssetClass:Deposit']}}, {'type': 'InterestRateCurve', 'id': '6824a2b8-ca0e-4c50-b127-4c07c4290c4e', 'location': {'space': 'LSEG', 'name': 'CAD_BA_Swap_ZC_Curve_1M'}, 'description': {'summary': 'CAD BA Swap ZC Curve for 1M tenor', 'tags': ['currency:CAD', 'indexName:BA', 'indexTenor:1M', 'mainConstituentAssetClass:Swap']}}, {'type': 'InterestRateCurve', 'id': '10fdd39f-129f-49da-8cb4-58284996d5d8', 'location': {'space': 'LSEG', 'name': 'CAD_BA_Swap_ZC_Curve_3M'}, 'description': {'summary': 'CAD BA Swap ZC Curve for 3M tenor', 'tags': ['currency:CAD', 'indexName:BA', 'indexTenor:3M', 'mainConstituentAssetClass:Swap']}}, {'type': 'InterestRateCurve', 'id': 'adee5697-41e4-4dfd-9242-5b8f70a2d61d', 'location': {'space': 'LSEG', 'name': 'CAD_CORRA_Swap_ZC_Curve'}, 'description': {'summary': 'CAD CORRA Swap ZC Curve', 'tags': ['currency:CAD', 'indexName:CORRA', 'indexTenor:ON', 'mainConstituentAssetClass:Swap']}}, {'type': 'InterestRateCurve', 'id': '66c5f2b6-1840-4409-8c52-fbb7b1bcf14d', 'location': {'space': 'LSEG', 'name': 'CAD_CRA_Future_ZC_Curve'}, 'description': {'summary': 'CAD CRA Future ZC Curve', 'tags': ['currency:CAD', 'indexName:CORRA', 'indexTenor:ON', 'mainConstituentAssetClass:Futures']}}, {'type': 'InterestRateCurve', 'id': 'd2ea3f91-7b74-46e9-800a-d1d8ce264b00', 'location': {'space': 'LSEG', 'name': 'CHF___Depo__IRS_vs_6M'}, 'description': {'summary': 'CHF - Depo, IRS vs 6M', 'tags': ['currency:CHF', 'indexName:LIBOR', 'indexTenor:6M', 'mainConstituentAssetClass:Deposit']}}, {'type': 'InterestRateCurve', 'id': '4241c5ef-cd47-4e3d-974a-7c602027a804', 'location': {'space': 'LSEG', 'name': 'CHF_LIBOR_Swap_ZC_Curve_1M'}, 'description': {'summary': 'CHF LIBOR Swap ZC Curve for 1M tenor', 'tags': ['currency:CHF', 'indexName:LIBOR', 'indexTenor:1M', 'mainConstituentAssetClass:Swap']}}, {'type': 'InterestRateCurve', 'id': 'd0940c55-6c81-4b84-b308-03972b52e66a', 'location': {'space': 'LSEG', 'name': 'CHF_LIBOR_Swap_ZC_Curve_3M'}, 'description': {'summary': 'CHF LIBOR Swap ZC Curve for 3M tenor', 'tags': ['currency:CHF', 'indexName:LIBOR', 'indexTenor:3M', 'mainConstituentAssetClass:Swap']}}, {'type': 'InterestRateCurve', 'id': '3a47925c-582d-483b-b1b8-28bdad4c79a0', 'location': {'space': 'LSEG', 'name': 'CHF_LIBOR_Swap_ZC_Curve_6M'}, 'description': {'summary': 'CHF LIBOR Swap ZC Curve for 6M tenor', 'tags': ['currency:CHF', 'indexName:LIBOR', 'indexTenor:6M', 'mainConstituentAssetClass:Swap']}}, {'type': 'InterestRateCurve', 'id': 'a4b3f66c-0b19-4293-b536-6346ab279b11', 'location': {'space': 'LSEG', 'name': 'CHF_SARON_Swap_ZC_Curve'}, 'description': {'summary': 'CHF SARON Swap ZC Curve', 'tags': ['currency:CHF', 'indexName:SARON', 'indexTenor:ON', 'mainConstituentAssetClass:Swap']}}, {'type': 'InterestRateCurve', 'id': 'fe1c3c53-c583-4ff2-adcd-35c1e56e9c8e', 'location': {'space': 'LSEG', 'name': 'EUR___Depo__IRS_vs_6M'}, 'description': {'summary': 'EUR - Depo, IRS vs 6M', 'tags': ['currency:EUR', 'indexName:EURIBOR', 'indexTenor:6M', 'mainConstituentAssetClass:Deposit']}}, {'type': 'InterestRateCurve', 'id': 'c7a3eff1-abe8-4061-9f5e-83a76c09ee09', 'location': {'space': 'LSEG', 'name': 'EUR_ESTR_Swap_ZC_Curve'}, 'description': {'summary': 'EUR ESTR Swap ZC Curve', 'tags': ['currency:EUR', 'indexName:ESTR', 'indexTenor:ON', 'mainConstituentAssetClass:Swap']}}, {'type': 'InterestRateCurve', 'id': 'fa71cf17-f9b8-49b4-a5df-b85d6efbae69', 'location': {'space': 'LSEG', 'name': 'EUR_EURIBOR_Swap_ZC_Curve_3M'}, 'description': {'summary': 'EUR EURIBOR Swap ZC Curve for 3M tenor', 'tags': ['currency:EUR', 'indexName:EURIBOR', 'indexTenor:3M', 'mainConstituentAssetClass:Swap']}}, {'type': 'InterestRateCurve', 'id': 'c0614731-6785-46f1-bdcb-b11c4db23015', 'location': {'space': 'LSEG', 'name': 'EUR_EURIBOR_Swap_ZC_Curve_6M'}, 'description': {'summary': 'EUR EURIBOR Swap ZC Curve for 6M tenor', 'tags': ['currency:EUR', 'indexName:EURIBOR', 'indexTenor:6M', 'mainConstituentAssetClass:Swap']}}, {'type': 'InterestRateCurve', 'id': '3a36b566-a635-4bd9-9a2a-c6516d530dea', 'location': {'space': 'LSEG', 'name': 'EUR_FEI_Future_ZC_Curve'}, 'description': {'summary': 'EUR FEI Future ZC Curve', 'tags': ['currency:EUR', 'indexName:EURIBOR', 'indexTenor:3M', 'mainConstituentAssetClass:Futures']}}, {'type': 'InterestRateCurve', 'id': '4d3a08f3-724c-471e-b5b0-f37882c65bf4', 'location': {'space': 'LSEG', 'name': 'EUR_FEU3_Future_ZC_Curve'}, 'description': {'summary': 'EUR FEU3 Future ZC Curve', 'tags': ['currency:EUR', 'indexName:EURIBOR', 'indexTenor:3M', 'mainConstituentAssetClass:Futures']}}, {'type': 'InterestRateCurve', 'id': 'c569b8bf-900d-4edd-9e0d-5f28e839efae', 'location': {'space': 'LSEG', 'name': 'GBP___Depo__IRS_vs_6M'}, 'description': {'summary': 'GBP - Depo, IRS vs 6M', 'tags': ['currency:GBP', 'indexName:LIBOR', 'indexTenor:6M', 'mainConstituentAssetClass:Deposit']}}, {'type': 'InterestRateCurve', 'id': 'e2d24f38-a4b1-41ef-b6ee-45db77eb28cd', 'location': {'space': 'LSEG', 'name': 'GBP_LIBOR_Swap_ZC_Curve_3M'}, 'description': {'summary': 'GBP LIBOR Swap ZC Curve for 3M tenor', 'tags': ['currency:GBP', 'indexName:LIBOR', 'indexTenor:3M', 'mainConstituentAssetClass:Swap']}}, {'type': 'InterestRateCurve', 'id': '68a822c8-1e69-4914-bb07-bab177dd13c5', 'location': {'space': 'LSEG', 'name': 'GBP_LIBOR_Swap_ZC_Curve_6M'}, 'description': {'summary': 'GBP LIBOR Swap ZC Curve for 6M tenor', 'tags': ['currency:GBP', 'indexName:LIBOR', 'indexTenor:6M', 'mainConstituentAssetClass:Swap']}}, {'type': 'InterestRateCurve', 'id': 'cbcf4062-9eb9-45d2-bb82-428bced3b063', 'location': {'space': 'LSEG', 'name': 'GBP_LIBOR_Swap_ZC_Curve_ON'}, 'description': {'summary': 'GBP LIBOR Swap ZC Curve for ON tenor', 'tags': ['currency:GBP', 'indexName:LIBOR', 'indexTenor:ON', 'mainConstituentAssetClass:Swap']}}, {'type': 'InterestRateCurve', 'id': 'fc4ae917-3e75-4176-a496-52f861d9b699', 'location': {'space': 'LSEG', 'name': 'GBP_MPZ_Future_ZC_Curve'}, 'description': {'summary': 'GBP MPZ Future ZC Curve', 'tags': ['currency:GBP', 'indexName:SONIA', 'indexTenor:ON', 'mainConstituentAssetClass:Futures']}}, {'type': 'InterestRateCurve', 'id': 'f1669b21-114d-4f8d-9078-122e1b3915a1', 'location': {'space': 'LSEG', 'name': 'GBP_SNO_Future_ZC_Curve'}, 'description': {'summary': 'GBP SNO Future ZC Curve', 'tags': ['currency:GBP', 'indexName:SONIA', 'indexTenor:ON', 'mainConstituentAssetClass:Futures']}}, {'type': 'InterestRateCurve', 'id': '39a9c3bc-25da-4600-9a60-74a59fe2a174', 'location': {'space': 'LSEG', 'name': 'GBP_SONIA_Swap_ZC_Curve'}, 'description': {'summary': 'GBP SONIA Swap ZC Curve', 'tags': ['currency:GBP', 'indexName:SONIA', 'indexTenor:ON', 'mainConstituentAssetClass:Swap']}}, {'type': 'InterestRateCurve', 'id': '86c8c9ed-f54b-4927-8c97-3a18cd010efa', 'location': {'space': 'LSEG', 'name': 'JPY___Depo__IRS_vs_6M'}, 'description': {'summary': 'JPY - Depo, IRS vs 6M', 'tags': ['currency:JPY', 'indexName:LIBOR', 'indexTenor:6M', 'mainConstituentAssetClass:Deposit']}}, {'type': 'InterestRateCurve', 'id': '3f02b0a4-307e-40b7-bb4f-038f56e1c570', 'location': {'space': 'LSEG', 'name': 'JPY_LIBOR_Swap_ZC_Curve_1M'}, 'description': {'summary': 'JPY LIBOR Swap ZC Curve for 1M tenor', 'tags': ['currency:JPY', 'indexName:LIBOR', 'indexTenor:1M', 'mainConstituentAssetClass:Swap']}}, {'type': 'InterestRateCurve', 'id': '28e5697a-fe66-4c93-a18b-2db9419792db', 'location': {'space': 'LSEG', 'name': 'JPY_LIBOR_Swap_ZC_Curve_3M'}, 'description': {'summary': 'JPY LIBOR Swap ZC Curve for 3M tenor', 'tags': ['currency:JPY', 'indexName:LIBOR', 'indexTenor:3M', 'mainConstituentAssetClass:Swap']}}, {'type': 'InterestRateCurve', 'id': '826121e8-35ef-43ba-8edc-df42ea79983c', 'location': {'space': 'LSEG', 'name': 'JPY_LIBOR_Swap_ZC_Curve_6M'}, 'description': {'summary': 'JPY LIBOR Swap ZC Curve for 6M tenor', 'tags': ['currency:JPY', 'indexName:LIBOR', 'indexTenor:6M', 'mainConstituentAssetClass:Swap']}}, {'type': 'InterestRateCurve', 'id': '412e074c-15d4-43a0-81b5-5d47ade047f6', 'location': {'space': 'LSEG', 'name': 'JPY_TIBOR_Swap_ZC_Curve_1M'}, 'description': {'summary': 'JPY TIBOR Swap ZC Curve for 1M tenor', 'tags': ['currency:JPY', 'indexName:TIBOR', 'indexTenor:1M', 'mainConstituentAssetClass:Swap']}}, {'type': 'InterestRateCurve', 'id': '412034e0-e87a-42da-98b0-ec3da63ed0bb', 'location': {'space': 'LSEG', 'name': 'JPY_TIBOR_Swap_ZC_Curve_3M'}, 'description': {'summary': 'JPY TIBOR Swap ZC Curve for 3M tenor', 'tags': ['currency:JPY', 'indexName:TIBOR', 'indexTenor:3M', 'mainConstituentAssetClass:Swap']}}, {'type': 'InterestRateCurve', 'id': '025137a3-5183-470e-999f-1e2e75653588', 'location': {'space': 'LSEG', 'name': 'JPY_TIBOR_Swap_ZC_Curve_6M'}, 'description': {'summary': 'JPY TIBOR Swap ZC Curve for 6M tenor', 'tags': ['currency:JPY', 'indexName:TIBOR', 'indexTenor:6M', 'mainConstituentAssetClass:Swap']}}, {'type': 'InterestRateCurve', 'id': '8367a1cd-160b-4944-8bcb-8d4177244e1b', 'location': {'space': 'LSEG', 'name': 'JPY_TONAR_Swap_ZC_Curve'}, 'description': {'summary': 'JPY TONAR Swap ZC Curve', 'tags': ['currency:JPY', 'indexName:TONAR', 'indexTenor:ON', 'mainConstituentAssetClass:Swap']}}, {'type': 'InterestRateCurve', 'id': '2d959b3f-b52c-4fcb-84ae-040f9fb499cf', 'location': {'space': 'LSEG', 'name': 'NOK___Depo__IRS_vs_6M'}, 'description': {'summary': 'NOK - Depo, IRS vs 6M', 'tags': ['currency:NOK', 'indexName:OIBOR', 'indexTenor:6M', 'mainConstituentAssetClass:Deposit']}}, {'type': 'InterestRateCurve', 'id': '12255ecc-ab9f-4926-9620-8430dbe299a7', 'location': {'space': 'LSEG', 'name': 'NOK_NOWA_Swap_ZC_Curve'}, 'description': {'summary': 'NOK NOWA Swap ZC Curve', 'tags': ['currency:NOK', 'indexName:NOWA', 'indexTenor:ON', 'mainConstituentAssetClass:Swap']}}, {'type': 'InterestRateCurve', 'id': '4268fbd8-f6b0-46e6-a038-9983f40c4a09', 'location': {'space': 'LSEG', 'name': 'NOK_OIBOR_Swap_ZC_Curve'}, 'description': {'summary': 'NOK OIBOR Swap ZC Curve', 'tags': ['currency:NOK', 'indexName:OIBOR', 'indexTenor:6M', 'mainConstituentAssetClass:Swap']}}, {'type': 'InterestRateCurve', 'id': 'f49f0ba6-9610-4170-8b54-4034114d969e', 'location': {'space': 'LSEG', 'name': 'NZD_BKBM_Swap_ZC_Curve_1M'}, 'description': {'summary': 'NZD BKBM Swap ZC Curve for 1M tenor', 'tags': ['currency:NZD', 'indexName:BKBM', 'indexTenor:1M', 'mainConstituentAssetClass:Swap']}}, {'type': 'InterestRateCurve', 'id': '2cb48a67-792e-432a-86cd-7bb73bd07453', 'location': {'space': 'LSEG', 'name': 'NZD_BKBM_Swap_ZC_Curve_3M'}, 'description': {'summary': 'NZD BKBM Swap ZC Curve for 3M tenor', 'tags': ['currency:NZD', 'indexName:BKBM', 'indexTenor:3M', 'mainConstituentAssetClass:Swap']}}, {'type': 'InterestRateCurve', 'id': '81f80b59-5bc9-4142-aeb6-99be3ecb80f6', 'location': {'space': 'LSEG', 'name': 'NZD_BKBM_Swap_ZC_Curve_6M'}, 'description': {'summary': 'NZD BKBM Swap ZC Curve for 6M tenor', 'tags': ['currency:NZD', 'indexName:BKBM', 'indexTenor:6M', 'mainConstituentAssetClass:Swap']}}, {'type': 'InterestRateCurve', 'id': '2794749e-8a89-49ba-a22c-3cce61395bdb', 'location': {'space': 'LSEG', 'name': 'SEK___Depo__IRS_vs_3M'}, 'description': {'summary': 'SEK - Depo, IRS vs 3M', 'tags': ['currency:SEK', 'indexName:STIBOR', 'indexTenor:3M', 'mainConstituentAssetClass:Deposit']}}, {'type': 'InterestRateCurve', 'id': '5dd188da-c41a-471a-abfb-d698d15d4ce1', 'location': {'space': 'LSEG', 'name': 'SEK_STIBOR_Swap_ZC_Curve_3M'}, 'description': {'summary': 'SEK STIBOR Swap ZC Curve for 3M tenor', 'tags': ['currency:SEK', 'indexName:STIBOR', 'indexTenor:3M', 'mainConstituentAssetClass:Swap']}}, {'type': 'InterestRateCurve', 'id': 'af5f17ec-0e68-45a8-b483-088ffbd8ea77', 'location': {'space': 'LSEG', 'name': 'SEK_STIBOR_Swap_ZC_Curve_6M'}, 'description': {'summary': 'SEK STIBOR Swap ZC Curve for 6M tenor', 'tags': ['currency:SEK', 'indexName:STIBOR', 'indexTenor:6M', 'mainConstituentAssetClass:Swap']}}, {'type': 'InterestRateCurve', 'id': '6a698ed3-0bf3-4b95-87f2-6f1bdacd2528', 'location': {'space': 'LSEG', 'name': 'SEK_SWESTR_Swap_ZC_Curve'}, 'description': {'summary': 'SEK SWESTR Swap ZC Curve', 'tags': ['currency:SEK', 'indexName:SWESTR', 'indexTenor:ON', 'mainConstituentAssetClass:Swap']}}, {'type': 'InterestRateCurve', 'id': '60ad0dad-2e5a-4163-bca4-85d0765da981', 'location': {'space': 'LSEG', 'name': 'Test___USD_S1R_Future_ZC_Curve'}, 'description': {'summary': 'Test - USD S1R Future ZC Curve', 'tags': ['currency:USD', 'indexName:SOFR', 'indexTenor:ON', 'mainConstituentAssetClass:Futures']}}]\n"
     ]
    }
   ],
   "source": [
    "# The curve with name 'template_for_deletion' has been deleted\n",
    "irCurve_templates = search()\n",
    "\n",
    "print(irCurve_templates)"
   ]
  },
  {
   "cell_type": "markdown",
   "id": "68ffb20c",
   "metadata": {},
   "source": [
    "## Calculating interest rate curves"
   ]
  },
  {
   "cell_type": "markdown",
   "id": "99ae730e",
   "metadata": {},
   "source": [
    "### Imports"
   ]
  },
  {
   "cell_type": "markdown",
   "id": "bd105127",
   "metadata": {},
   "source": [
    "Import the following necessary modules:"
   ]
  },
  {
   "cell_type": "code",
   "execution_count": 8,
   "id": "78d93db9",
   "metadata": {
    "execution": {
     "iopub.execute_input": "2025-09-18T09:00:03.806576Z",
     "iopub.status.busy": "2025-09-18T09:00:03.806135Z",
     "iopub.status.idle": "2025-09-18T09:00:03.808947Z",
     "shell.execute_reply": "2025-09-18T09:00:03.808466Z"
    }
   },
   "outputs": [],
   "source": [
    "import json as js"
   ]
  },
  {
   "cell_type": "code",
   "execution_count": 9,
   "id": "52182b71",
   "metadata": {
    "execution": {
     "iopub.execute_input": "2025-09-18T09:00:03.811134Z",
     "iopub.status.busy": "2025-09-18T09:00:03.810838Z",
     "iopub.status.idle": "2025-09-18T09:00:03.813383Z",
     "shell.execute_reply": "2025-09-18T09:00:03.812967Z"
    }
   },
   "outputs": [],
   "source": [
    "from lseg_analytics.market_data.interest_rate_curves import IrCurveDefinitionInstrument, InterestRateCurveCalculationParameters, IrCurveDefinition, DepositIrConstituent, DepositConstituentDefinition, OvernightIndexSwapConstituent, OvernightIndexSwapConstituentDefinition\n",
    "from lseg_analytics.common import Quote, QuoteDefinition\n",
    "from lseg_analytics.market_data.interest_rate_curves import calculate"
   ]
  },
  {
   "cell_type": "markdown",
   "id": "7a5258f4",
   "metadata": {},
   "source": [
    "### Create an interest rate curve for calculation"
   ]
  },
  {
   "cell_type": "markdown",
   "id": "bcaef937",
   "metadata": {},
   "source": [
    "Create curve definition"
   ]
  },
  {
   "cell_type": "code",
   "execution_count": 10,
   "id": "df39b269",
   "metadata": {
    "execution": {
     "iopub.execute_input": "2025-09-18T09:00:03.815666Z",
     "iopub.status.busy": "2025-09-18T09:00:03.815369Z",
     "iopub.status.idle": "2025-09-18T09:00:03.819838Z",
     "shell.execute_reply": "2025-09-18T09:00:03.819404Z"
    },
    "tags": [
     "calculate.static"
    ]
   },
   "outputs": [
    {
     "name": "stdout",
     "output_type": "stream",
     "text": [
      "{'definition': {'index': 'LSEG/EUR_ESTR_ON_FTSE', 'constituents': [{'type': 'Deposit', 'index': 'LSEG/EUR_ESTR_ON_FTSE', 'quote': {'definition': {'instrumentCode': 'EUROSTR='}}, 'definition': {'tenor': 'ON', 'template': 'LSEG/EUR'}}, {'type': 'OvernightIndexSwap', 'index': 'LSEG/EUR_ESTR_ON_FTSE', 'quote': {'definition': {'instrumentCode': 'EURESTSW='}}, 'definition': {'tenor': 'SW', 'template': 'LSEG/OIS_ESTR'}}]}}\n"
     ]
    }
   ],
   "source": [
    "deposit_constituent_definition = DepositConstituentDefinition( tenor= \"ON\", template= \"LSEG/EUR\")\n",
    "ois_constituent_definition = OvernightIndexSwapConstituentDefinition( tenor = \"SW\", template=\"LSEG/OIS_ESTR\")\n",
    "deposit_quote_definition = QuoteDefinition(instrument_code=\"EUROSTR=\")\n",
    "ois_quote_definition = QuoteDefinition(instrument_code=\"EURESTSW=\")\n",
    "deposit_quote = Quote(definition= deposit_quote_definition)\n",
    "ois_quote = Quote(definition= ois_quote_definition)\n",
    "deposit_curve_constituent = DepositIrConstituent(index= \"LSEG/EUR_ESTR_ON_FTSE\", quote= deposit_quote, definition = deposit_constituent_definition)\n",
    "ois_curve_constituent = OvernightIndexSwapConstituent(index= \"LSEG/EUR_ESTR_ON_FTSE\", quote= ois_quote, definition= ois_constituent_definition)\n",
    "curve_defition = IrCurveDefinition(index = \"LSEG/EUR_ESTR_ON_FTSE\", constituents= [deposit_curve_constituent, ois_curve_constituent])\n",
    "irCurve = IrCurveDefinitionInstrument(definition= curve_defition)\n",
    "print(irCurve)"
   ]
  },
  {
   "cell_type": "markdown",
   "id": "4c36158b",
   "metadata": {},
   "source": [
    "### calculate an interest rate curve\n",
    "\n",
    "The calculate function takes as input the list of irCurves to value, and some other optional parameters like pricing_preferences and return_market_data"
   ]
  },
  {
   "cell_type": "code",
   "execution_count": 11,
   "id": "0834e24e",
   "metadata": {
    "execution": {
     "iopub.execute_input": "2025-09-18T09:00:03.822111Z",
     "iopub.status.busy": "2025-09-18T09:00:03.821823Z",
     "iopub.status.idle": "2025-09-18T09:00:04.428635Z",
     "shell.execute_reply": "2025-09-18T09:00:04.428168Z"
    },
    "tags": [
     "calculate.static"
    ]
   },
   "outputs": [
    {
     "name": "stdout",
     "output_type": "stream",
     "text": [
      "{'definitions': [{'definition': {'index': 'LSEG/EUR_ESTR_ON_FTSE', 'constituents': [{'type': 'Deposit', 'definition': {'tenor': 'ON', 'template': 'LSEG/EUR'}, 'index': 'LSEG/EUR_ESTR_ON_FTSE', 'quote': {'definition': {'instrumentCode': 'EUROSTR='}}}, {'type': 'OvernightIndexSwap', 'definition': {'tenor': 'SW', 'template': 'LSEG/OIS_ESTR'}, 'index': 'LSEG/EUR_ESTR_ON_FTSE', 'quote': {'definition': {'instrumentCode': 'EURESTSW='}}}]}}], 'pricingPreferences': {'extrapolationMode': 'Constant', 'interpolationMode': 'CubicDiscount', 'priceSide': 'Mid', 'useDelayedDataIfDenied': True, 'ignoreInvalidInstruments': True, 'interestCalculationMethod': 'Dcb_Actual_Actual', 'compoundingType': 'Compounded', 'useConvexityAdjustment': True, 'convexityAdjustment': {'meanReversionPercent': -0.302, 'volatilityPercent': 0.634}, 'useMultiDimensionalSolver': True, 'valuationDate': '2025-09-18'}, 'analytics': [{'constituents': [{'type': 'Deposit', 'definition': {'tenor': 'ON', 'template': 'EUR'}, 'index': 'LSEG/EUR_ESTR_ON_FTSE', 'quote': {'startDate': '2025-09-18', 'endDate': '2025-09-19', 'definition': {'instrumentCode': 'EUROSTR='}, 'values': {'bid': {'value': 1.927}, 'ask': {'value': 1.927}}}, 'status': []}, {'type': 'OvernightIndexSwap', 'definition': {'tenor': 'SW', 'template': 'LBOTH PASTFLOW:YES SETTLE:2WD LPAID CUR:EUR CLDR:EMU PDELAY:1 LTYPE:FIXED FRQ:1 CCM:MMA0 ACC:A0 EMC:S DMC:F LRECEIVED CUR:EUR CLDR:EMU PDELAY:1 LTYPE:FLOAT FRQ:1 CCM:MMA0 ACC:A0 EMC:S DMC:F RESETFRQ:1WD INDEXCM:CMP IDX:OESTR'}, 'index': 'LSEG/EUR_ESTR_ON_FTSE', 'quote': {'startDate': '2025-09-22', 'endDate': '2025-09-29', 'definition': {'instrumentCode': 'EURESTSW='}, 'values': {'bid': {'value': 1.922}, 'ask': {'value': 1.929}}}}], 'zcCurves': [{'curveType': 'IrZcCurve', 'index': 'LSEG/EUR_ESTR_ON_FTSE', 'points': [{'startDate': '2025-09-18', 'tenor': '0D', 'endDate': '2025-09-18', 'rate': {'value': 1.9729214432241626, 'unit': 'Percentage'}, 'discountFactor': {'value': 1.0, 'unit': 'Absolute'}}, {'startDate': '2025-09-18', 'tenor': 'ON', 'endDate': '2025-09-19', 'rate': {'value': 1.9729214432241626, 'unit': 'Percentage'}, 'discountFactor': {'value': 0.9999464750872918, 'unit': 'Absolute'}, 'instruments': [{'instrumentCode': 'EUROSTR='}]}, {'startDate': '2025-09-18', 'tenor': 'SW', 'endDate': '2025-09-29', 'rate': {'value': 1.9713863628690431, 'unit': 'Percentage'}, 'discountFactor': {'value': 0.9994118369180607, 'unit': 'Absolute'}, 'instruments': [{'instrumentCode': 'EURESTSW='}]}]}], 'underlyingCurves': []}]}\n"
     ]
    }
   ],
   "source": [
    "calculation_result = calculate( definitions= [irCurve])\n",
    "print(calculation_result)"
   ]
  },
  {
   "cell_type": "markdown",
   "id": "dd086805",
   "metadata": {},
   "source": [
    "display calculation output as json"
   ]
  },
  {
   "cell_type": "code",
   "execution_count": 12,
   "id": "1d50bdbe",
   "metadata": {
    "execution": {
     "iopub.execute_input": "2025-09-18T09:00:04.430881Z",
     "iopub.status.busy": "2025-09-18T09:00:04.430484Z",
     "iopub.status.idle": "2025-09-18T09:00:04.433701Z",
     "shell.execute_reply": "2025-09-18T09:00:04.433277Z"
    }
   },
   "outputs": [
    {
     "name": "stdout",
     "output_type": "stream",
     "text": [
      "{\n",
      "    \"definitions\": [\n",
      "        {\n",
      "            \"definition\": {\n",
      "                \"index\": \"LSEG/EUR_ESTR_ON_FTSE\",\n",
      "                \"constituents\": [\n",
      "                    {\n",
      "                        \"type\": \"Deposit\",\n",
      "                        \"definition\": {\n",
      "                            \"tenor\": \"ON\",\n",
      "                            \"template\": \"LSEG/EUR\"\n",
      "                        },\n",
      "                        \"index\": \"LSEG/EUR_ESTR_ON_FTSE\",\n",
      "                        \"quote\": {\n",
      "                            \"definition\": {\n",
      "                                \"instrumentCode\": \"EUROSTR=\"\n",
      "                            }\n",
      "                        }\n",
      "                    },\n",
      "                    {\n",
      "                        \"type\": \"OvernightIndexSwap\",\n",
      "                        \"definition\": {\n",
      "                            \"tenor\": \"SW\",\n",
      "                            \"template\": \"LSEG/OIS_ESTR\"\n",
      "                        },\n",
      "                        \"index\": \"LSEG/EUR_ESTR_ON_FTSE\",\n",
      "                        \"quote\": {\n",
      "                            \"definition\": {\n",
      "                                \"instrumentCode\": \"EURESTSW=\"\n",
      "                            }\n",
      "                        }\n",
      "                    }\n",
      "                ]\n",
      "            }\n",
      "        }\n",
      "    ],\n",
      "    \"pricingPreferences\": {\n",
      "        \"extrapolationMode\": \"Constant\",\n",
      "        \"interpolationMode\": \"CubicDiscount\",\n",
      "        \"priceSide\": \"Mid\",\n",
      "        \"useDelayedDataIfDenied\": true,\n",
      "        \"ignoreInvalidInstruments\": true,\n",
      "        \"interestCalculationMethod\": \"Dcb_Actual_Actual\",\n",
      "        \"compoundingType\": \"Compounded\",\n",
      "        \"useConvexityAdjustment\": true,\n",
      "        \"convexityAdjustment\": {\n",
      "            \"meanReversionPercent\": -0.302,\n",
      "            \"volatilityPercent\": 0.634\n",
      "        },\n",
      "        \"useMultiDimensionalSolver\": true,\n",
      "        \"valuationDate\": \"2025-09-18\"\n",
      "    },\n",
      "    \"analytics\": [\n",
      "        {\n",
      "            \"constituents\": [\n",
      "                {\n",
      "                    \"type\": \"Deposit\",\n",
      "                    \"definition\": {\n",
      "                        \"tenor\": \"ON\",\n",
      "                        \"template\": \"EUR\"\n",
      "                    },\n",
      "                    \"index\": \"LSEG/EUR_ESTR_ON_FTSE\",\n",
      "                    \"quote\": {\n",
      "                        \"startDate\": \"2025-09-18\",\n",
      "                        \"endDate\": \"2025-09-19\",\n",
      "                        \"definition\": {\n",
      "                            \"instrumentCode\": \"EUROSTR=\"\n",
      "                        },\n",
      "                        \"values\": {\n",
      "                            \"bid\": {\n",
      "                                \"value\": 1.927\n",
      "                            },\n",
      "                            \"ask\": {\n",
      "                                \"value\": 1.927\n",
      "                            }\n",
      "                        }\n",
      "                    },\n",
      "                    \"status\": []\n",
      "                },\n",
      "                {\n",
      "                    \"type\": \"OvernightIndexSwap\",\n",
      "                    \"definition\": {\n",
      "                        \"tenor\": \"SW\",\n",
      "                        \"template\": \"LBOTH PASTFLOW:YES SETTLE:2WD LPAID CUR:EUR CLDR:EMU PDELAY:1 LTYPE:FIXED FRQ:1 CCM:MMA0 ACC:A0 EMC:S DMC:F LRECEIVED CUR:EUR CLDR:EMU PDELAY:1 LTYPE:FLOAT FRQ:1 CCM:MMA0 ACC:A0 EMC:S DMC:F RESETFRQ:1WD INDEXCM:CMP IDX:OESTR\"\n",
      "                    },\n",
      "                    \"index\": \"LSEG/EUR_ESTR_ON_FTSE\",\n",
      "                    \"quote\": {\n",
      "                        \"startDate\": \"2025-09-22\",\n",
      "                        \"endDate\": \"2025-09-29\",\n",
      "                        \"definition\": {\n",
      "                            \"instrumentCode\": \"EURESTSW=\"\n",
      "                        },\n",
      "                        \"values\": {\n",
      "                            \"bid\": {\n",
      "                                \"value\": 1.922\n",
      "                            },\n",
      "                            \"ask\": {\n",
      "                                \"value\": 1.929\n",
      "                            }\n",
      "                        }\n",
      "                    }\n",
      "                }\n",
      "            ],\n",
      "            \"zcCurves\": [\n",
      "                {\n",
      "                    \"curveType\": \"IrZcCurve\",\n",
      "                    \"index\": \"LSEG/EUR_ESTR_ON_FTSE\",\n",
      "                    \"points\": [\n",
      "                        {\n",
      "                            \"startDate\": \"2025-09-18\",\n",
      "                            \"tenor\": \"0D\",\n",
      "                            \"endDate\": \"2025-09-18\",\n",
      "                            \"rate\": {\n",
      "                                \"value\": 1.9729214432241626,\n",
      "                                \"unit\": \"Percentage\"\n",
      "                            },\n",
      "                            \"discountFactor\": {\n",
      "                                \"value\": 1.0,\n",
      "                                \"unit\": \"Absolute\"\n",
      "                            }\n",
      "                        },\n",
      "                        {\n",
      "                            \"startDate\": \"2025-09-18\",\n",
      "                            \"tenor\": \"ON\",\n",
      "                            \"endDate\": \"2025-09-19\",\n",
      "                            \"rate\": {\n",
      "                                \"value\": 1.9729214432241626,\n",
      "                                \"unit\": \"Percentage\"\n",
      "                            },\n",
      "                            \"discountFactor\": {\n",
      "                                \"value\": 0.9999464750872918,\n",
      "                                \"unit\": \"Absolute\"\n",
      "                            },\n",
      "                            \"instruments\": [\n",
      "                                {\n",
      "                                    \"instrumentCode\": \"EUROSTR=\"\n",
      "                                }\n",
      "                            ]\n",
      "                        },\n",
      "                        {\n",
      "                            \"startDate\": \"2025-09-18\",\n",
      "                            \"tenor\": \"SW\",\n",
      "                            \"endDate\": \"2025-09-29\",\n",
      "                            \"rate\": {\n",
      "                                \"value\": 1.9713863628690431,\n",
      "                                \"unit\": \"Percentage\"\n",
      "                            },\n",
      "                            \"discountFactor\": {\n",
      "                                \"value\": 0.9994118369180607,\n",
      "                                \"unit\": \"Absolute\"\n",
      "                            },\n",
      "                            \"instruments\": [\n",
      "                                {\n",
      "                                    \"instrumentCode\": \"EURESTSW=\"\n",
      "                                }\n",
      "                            ]\n",
      "                        }\n",
      "                    ]\n",
      "                }\n",
      "            ],\n",
      "            \"underlyingCurves\": []\n",
      "        }\n",
      "    ]\n",
      "}\n"
     ]
    }
   ],
   "source": [
    "print(js.dumps(calculation_result.as_dict(), indent=4))"
   ]
  }
 ],
 "metadata": {
  "kernelspec": {
   "display_name": ".venv",
   "language": "python",
   "name": "python3"
  },
  "language_info": {
   "codemirror_mode": {
    "name": "ipython",
    "version": 3
   },
   "file_extension": ".py",
   "mimetype": "text/x-python",
   "name": "python",
   "nbconvert_exporter": "python",
   "pygments_lexer": "ipython3",
   "version": "3.11.6"
  }
 },
 "nbformat": 4,
 "nbformat_minor": 5
}
