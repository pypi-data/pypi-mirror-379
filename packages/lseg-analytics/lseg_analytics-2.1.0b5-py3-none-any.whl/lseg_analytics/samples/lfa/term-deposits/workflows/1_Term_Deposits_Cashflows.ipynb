{
 "cells": [
  {
   "cell_type": "markdown",
   "id": "1eb11b22",
   "metadata": {},
   "source": [
    "# Term Deposits Cashflows"
   ]
  },
  {
   "cell_type": "markdown",
   "id": "60b54d9b",
   "metadata": {},
   "source": [
    "This notebook demonstrates how to access and use the functionalities of **Term Deposits CashFlows** within **LSEG Financial Analytics SDK**. \n",
    "\n",
    "The notebook outlines a simple method of calculation CashFlows for a set of term deposits instruments.\n",
    "\n",
    "**You will be able to:**\n",
    "- Define the term deposits instruments by tailoring its features\n",
    "- Estimate future CashFlows\n"
   ]
  },
  {
   "cell_type": "markdown",
   "id": "10fa1979",
   "metadata": {},
   "source": [
    "## Imports"
   ]
  },
  {
   "cell_type": "markdown",
   "id": "4b33245f",
   "metadata": {},
   "source": [
    "Import the following necessary modules:\n",
    "\n",
    "- `TermDepositDefinition` - Define the underlying instrument\n",
    "- `TermDepositPricingParameters` - Define the underlying instrument\n",
    "- `price` - Configure volatility model and settings  "
   ]
  },
  {
   "cell_type": "code",
   "execution_count": 1,
   "id": "7df1f746",
   "metadata": {
    "execution": {
     "iopub.execute_input": "2025-09-18T09:13:23.833898Z",
     "iopub.status.busy": "2025-09-18T09:13:23.833539Z",
     "iopub.status.idle": "2025-09-18T09:13:24.743826Z",
     "shell.execute_reply": "2025-09-18T09:13:24.743181Z"
    },
    "tags": []
   },
   "outputs": [],
   "source": [
    "from lseg_analytics.instruments import term_deposit as td\n",
    "\n",
    "import datetime as dt\n",
    "import json\n",
    "import pandas as pd\n",
    "from IPython.display import display"
   ]
  },
  {
   "cell_type": "markdown",
   "id": "d5582d4c-52f5-45bc-b571-6a2f4579a779",
   "metadata": {},
   "source": [
    "## Data Preparation"
   ]
  },
  {
   "cell_type": "markdown",
   "id": "ea21fcc5",
   "metadata": {},
   "source": [
    "\n",
    "To define a Term Deposit instrument you need to follow a structured 3-step process:\n",
    "1. **Term Deposit Definition** - Specify the term deposit definition attributes\n",
    "2. **Term Deposit Instrument Definition** - Create the instrument object\n",
    "3. **Pricing Preferences** - Configure pricing parameters, optional\n",
    "\n",
    "We take here an example of 4% GBP Term deposit priced in historical time (valuation date is 2025-07-21)"
   ]
  },
  {
   "cell_type": "code",
   "execution_count": 2,
   "id": "bd910fd7",
   "metadata": {
    "execution": {
     "iopub.execute_input": "2025-09-18T09:13:24.748184Z",
     "iopub.status.busy": "2025-09-18T09:13:24.746507Z",
     "iopub.status.idle": "2025-09-18T09:13:24.754803Z",
     "shell.execute_reply": "2025-09-18T09:13:24.754343Z"
    },
    "tags": []
   },
   "outputs": [],
   "source": [
    "# Create term deposit defintion object\n",
    "term_deposit_definition = td.TermDepositDefinition(\n",
    "    end_date = dt.datetime.strptime(\"2026-05-10\", \"%Y-%m-%d\"),\n",
    "    notional_ccy = \"GBP\", \n",
    "    notional_amount = 1000000,\n",
    "    start_tenor = \"2M\",\n",
    "    fixed_rate_percent = 4.0\n",
    ")\n",
    "\n",
    "# Create term deposit instrument defintion object\n",
    "term_deposit_instrument = td.TermDepositDefinitionInstrument(\n",
    "    definition = term_deposit_definition\n",
    ")\n",
    "\n",
    "# Create term deposit pricing parameters object - optional\n",
    "term_deposit_parameters = td.TermDepositPricingParameters(\n",
    "    valuation_date  = dt.datetime.strptime(\"2025-07-21\", \"%Y-%m-%d\"),\n",
    "    report_ccy = \"USD\"\n",
    ")"
   ]
  },
  {
   "cell_type": "markdown",
   "id": "7030cce7",
   "metadata": {},
   "source": [
    "## Request Execution"
   ]
  },
  {
   "cell_type": "code",
   "execution_count": 3,
   "id": "16044ae3",
   "metadata": {
    "execution": {
     "iopub.execute_input": "2025-09-18T09:13:24.757085Z",
     "iopub.status.busy": "2025-09-18T09:13:24.756807Z",
     "iopub.status.idle": "2025-09-18T09:13:25.789536Z",
     "shell.execute_reply": "2025-09-18T09:13:25.788870Z"
    },
    "tags": []
   },
   "outputs": [],
   "source": [
    "#  Execute the calculation using the price() function\n",
    "# The 'definitions' parameter accepts a list of instruments definitions for batch processing\n",
    "\n",
    "term_deposit_response = td.price(\n",
    "    definitions  =[term_deposit_instrument], \n",
    "    pricing_preferences = term_deposit_parameters\n",
    ")"
   ]
  },
  {
   "cell_type": "markdown",
   "id": "03030948",
   "metadata": {},
   "source": [
    "## Results Display\n",
    "\n",
    "The results showed here are focused on term deposit cash-flow construction. We then give all necessary outputs: \n",
    "- description \n",
    "- pricing analysis\n",
    "- cash-flows"
   ]
  },
  {
   "cell_type": "code",
   "execution_count": 4,
   "id": "387e4559",
   "metadata": {
    "execution": {
     "iopub.execute_input": "2025-09-18T09:13:25.792552Z",
     "iopub.status.busy": "2025-09-18T09:13:25.792145Z",
     "iopub.status.idle": "2025-09-18T09:13:25.796786Z",
     "shell.execute_reply": "2025-09-18T09:13:25.796050Z"
    }
   },
   "outputs": [
    {
     "name": "stdout",
     "output_type": "stream",
     "text": [
      "{\n",
      "    \"instrumentDescription\": \"Deposit 1000000 'GBP' 4% '2026-05-10'\",\n",
      "    \"notionalCcy\": \"GBP\",\n",
      "    \"notionalAmount\": 1000000.0,\n",
      "    \"reportCcy\": \"USD\",\n",
      "    \"startDate\": \"2025-09-23T00:00:00Z\",\n",
      "    \"endDate\": \"2026-05-10T00:00:00Z\",\n",
      "    \"interestCalculationMethod\": \"Dcb_Actual_365\"\n",
      "}\n"
     ]
    }
   ],
   "source": [
    "# Access the description object\n",
    "description = term_deposit_response.data.analytics[0].description\n",
    "print(json.dumps(description.as_dict(), indent=4))"
   ]
  },
  {
   "cell_type": "code",
   "execution_count": 5,
   "id": "999d38d2",
   "metadata": {
    "execution": {
     "iopub.execute_input": "2025-09-18T09:13:25.800062Z",
     "iopub.status.busy": "2025-09-18T09:13:25.799585Z",
     "iopub.status.idle": "2025-09-18T09:13:25.803607Z",
     "shell.execute_reply": "2025-09-18T09:13:25.802954Z"
    }
   },
   "outputs": [
    {
     "name": "stdout",
     "output_type": "stream",
     "text": [
      "{\n",
      "    \"fixedRatePercent\": 4.0,\n",
      "    \"valuationDate\": \"2025-07-21T00:00:00Z\",\n",
      "    \"marketDataDate\": \"2025-07-21T00:00:00Z\"\n",
      "}\n"
     ]
    }
   ],
   "source": [
    "# Access the pricing analysis object\n",
    "pricing_analysis = term_deposit_response.data.analytics[0].pricing_analysis\n",
    "print(json.dumps(pricing_analysis.as_dict(), indent=4))"
   ]
  },
  {
   "cell_type": "code",
   "execution_count": 6,
   "id": "3ff9b059",
   "metadata": {
    "execution": {
     "iopub.execute_input": "2025-09-18T09:13:25.806152Z",
     "iopub.status.busy": "2025-09-18T09:13:25.805695Z",
     "iopub.status.idle": "2025-09-18T09:13:25.822239Z",
     "shell.execute_reply": "2025-09-18T09:13:25.821590Z"
    },
    "tags": []
   },
   "outputs": [
    {
     "data": {
      "text/html": [
       "<div>\n",
       "<style scoped>\n",
       "    .dataframe tbody tr th:only-of-type {\n",
       "        vertical-align: middle;\n",
       "    }\n",
       "\n",
       "    .dataframe tbody tr th {\n",
       "        vertical-align: top;\n",
       "    }\n",
       "\n",
       "    .dataframe thead th {\n",
       "        text-align: right;\n",
       "    }\n",
       "</style>\n",
       "<table border=\"1\" class=\"dataframe\">\n",
       "  <thead>\n",
       "    <tr style=\"text-align: right;\">\n",
       "      <th></th>\n",
       "      <th>date</th>\n",
       "      <th>amount</th>\n",
       "      <th>remainingNotional</th>\n",
       "      <th>currency</th>\n",
       "      <th>event</th>\n",
       "      <th>type</th>\n",
       "      <th>occurence</th>\n",
       "    </tr>\n",
       "  </thead>\n",
       "  <tbody>\n",
       "    <tr>\n",
       "      <th>0</th>\n",
       "      <td>2025-09-23</td>\n",
       "      <td>-1000000.000000</td>\n",
       "      <td>1000000.0</td>\n",
       "      <td>GBP</td>\n",
       "      <td>Principal</td>\n",
       "      <td>Fixed</td>\n",
       "      <td>Future</td>\n",
       "    </tr>\n",
       "    <tr>\n",
       "      <th>1</th>\n",
       "      <td>2026-05-11</td>\n",
       "      <td>25095.890411</td>\n",
       "      <td>0.0</td>\n",
       "      <td>GBP</td>\n",
       "      <td>Interest</td>\n",
       "      <td>Fixed</td>\n",
       "      <td>Future</td>\n",
       "    </tr>\n",
       "    <tr>\n",
       "      <th>2</th>\n",
       "      <td>2026-05-11</td>\n",
       "      <td>1000000.000000</td>\n",
       "      <td>0.0</td>\n",
       "      <td>GBP</td>\n",
       "      <td>Principal</td>\n",
       "      <td>Fixed</td>\n",
       "      <td>Future</td>\n",
       "    </tr>\n",
       "  </tbody>\n",
       "</table>\n",
       "</div>"
      ],
      "text/plain": [
       "         date          amount  remainingNotional currency      event   type  \\\n",
       "0  2025-09-23 -1000000.000000          1000000.0      GBP  Principal  Fixed   \n",
       "1  2026-05-11    25095.890411                0.0      GBP   Interest  Fixed   \n",
       "2  2026-05-11  1000000.000000                0.0      GBP  Principal  Fixed   \n",
       "\n",
       "  occurence  \n",
       "0    Future  \n",
       "1    Future  \n",
       "2    Future  "
      ]
     },
     "metadata": {},
     "output_type": "display_data"
    }
   ],
   "source": [
    "# Access to payments/cash-flows\n",
    "payments = term_deposit_response.data.analytics[0].cashflows.cash_flows[0][\"payments\"]\n",
    "df_payments = pd.DataFrame(payments)\n",
    "display(df_payments)"
   ]
  },
  {
   "cell_type": "markdown",
   "id": "0517fe5e",
   "metadata": {},
   "source": [
    "Three cash-flows are returned:\n",
    "- The first cash-flow is the notional amount lent to the other party at start date\n",
    "- The second cash-flow is the interest amount received at end date\n",
    "- The third cash-flow is the notional amount paid back at end date \n",
    "\n",
    "The first and third cash-flows are notional amount specified in inputs. The second cash-flow is the interest cash-flow. It is derived according to the following formula:\n",
    "$$CashSettlement :=Notional\\cdot FixedRatePercent\\cdot DayCountFraction\\left(StartDate, EndDate\\right)$$\n",
    "In this use-case, day count convention is Act/365, meaning that it is the number of days (here 79) divided by 365. We apply below this formula to explain its construction"
   ]
  },
  {
   "cell_type": "code",
   "execution_count": 7,
   "id": "980f08ee",
   "metadata": {
    "execution": {
     "iopub.execute_input": "2025-09-18T09:13:25.825018Z",
     "iopub.status.busy": "2025-09-18T09:13:25.824450Z",
     "iopub.status.idle": "2025-09-18T09:13:25.833620Z",
     "shell.execute_reply": "2025-09-18T09:13:25.832951Z"
    }
   },
   "outputs": [
    {
     "name": "stdout",
     "output_type": "stream",
     "text": [
      "Computed interest cash-flow: 25095.890410958902\n",
      "Interest cash-flow returned by pricer: 25095.890410958902\n",
      "Difference: 0.0\n"
     ]
    }
   ],
   "source": [
    "ir_cash_flow_amount = payments[1][\"amount\"]\n",
    "nb_days = nb_days = (description.end_date - description.start_date).days\n",
    "computed_ir_cash_flow_amount = description.notional_amount * (pricing_analysis.fixed_rate_percent / 100) * (nb_days / 365)\n",
    "print(\"Computed interest cash-flow:\", computed_ir_cash_flow_amount)\n",
    "print(\"Interest cash-flow returned by pricer:\", ir_cash_flow_amount)\n",
    "print(\"Difference:\", computed_ir_cash_flow_amount - ir_cash_flow_amount)"
   ]
  }
 ],
 "metadata": {
  "kernelspec": {
   "display_name": "jupyterlab-ext",
   "language": "python",
   "name": "python3"
  },
  "language_info": {
   "codemirror_mode": {
    "name": "ipython",
    "version": 3
   },
   "file_extension": ".py",
   "mimetype": "text/x-python",
   "name": "python",
   "nbconvert_exporter": "python",
   "pygments_lexer": "ipython3",
   "version": "3.11.6"
  }
 },
 "nbformat": 4,
 "nbformat_minor": 5
}
