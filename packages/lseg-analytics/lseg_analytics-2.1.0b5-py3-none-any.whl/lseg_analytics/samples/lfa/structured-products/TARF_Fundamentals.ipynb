{
 "cells": [
  {
   "cell_type": "markdown",
   "id": "1a108871",
   "metadata": {},
   "source": [
    "# Target Accrual Redemption Forward (TARF) Fundamentals"
   ]
  },
  {
   "cell_type": "markdown",
   "id": "3a4cef20",
   "metadata": {},
   "source": [
    "This notebook demonstrates how to access and use the functionalities of **Target Accrual Redemption Forward (TARF)** which are part of our **QPS** module within LSEG Financial Analytics SDK.\n",
    "\n",
    "**You will be able to:**\n",
    "* Define TARF instrument with basic parameters\n",
    "* Configure pricing parameters\n",
    "* Calculate TARF pricing"
   ]
  },
  {
   "cell_type": "markdown",
   "id": "7cd0ad84",
   "metadata": {},
   "source": [
    "## Imports"
   ]
  },
  {
   "cell_type": "markdown",
   "id": "37a963b7",
   "metadata": {},
   "source": [
    "Import the following necessary modules:\n",
    "\n",
    "- `lseg_analytics.instruments.structured_products` - for Structured Products instruments definitions and analytics"
   ]
  },
  {
   "cell_type": "code",
   "execution_count": 1,
   "id": "fb2218f1",
   "metadata": {
    "execution": {
     "iopub.execute_input": "2025-09-18T09:03:48.467676Z",
     "iopub.status.busy": "2025-09-18T09:03:48.467363Z",
     "iopub.status.idle": "2025-09-18T09:03:48.853183Z",
     "shell.execute_reply": "2025-09-18T09:03:48.852433Z"
    }
   },
   "outputs": [],
   "source": [
    "from lseg_analytics.instruments import structured_products as sp\n",
    "\n",
    "import json\n",
    "import datetime as dt"
   ]
  },
  {
   "cell_type": "markdown",
   "id": "b9c3dd46",
   "metadata": {},
   "source": [
    "## Data Preparation"
   ]
  },
  {
   "cell_type": "markdown",
   "id": "99cc4078",
   "metadata": {},
   "source": [
    "To define a Structured Product instrument, in this example barrier TARF, you need to follow a structured 3-step process:\n",
    "* **Structured Product Definition** - Specify basic Structured Product parameters (strike, dates, notional, underlying)\n",
    "* **Structured Product Instrument Definition** - Create the instrument object\n",
    "* **Pricing Preferences** - Configure pricing parameters, optional"
   ]
  },
  {
   "cell_type": "code",
   "execution_count": 2,
   "id": "de772105",
   "metadata": {
    "execution": {
     "iopub.execute_input": "2025-09-18T09:03:48.857644Z",
     "iopub.status.busy": "2025-09-18T09:03:48.855552Z",
     "iopub.status.idle": "2025-09-18T09:03:48.867517Z",
     "shell.execute_reply": "2025-09-18T09:03:48.867028Z"
    },
    "tags": [
     "price.static"
    ]
   },
   "outputs": [
    {
     "name": "stdout",
     "output_type": "stream",
     "text": [
      "Instrument definition created\n",
      "Pricing parameters configured\n"
     ]
    }
   ],
   "source": [
    "# 1. Create SP definition object\n",
    "\n",
    "tarf_definition = sp.StructuredProductsDefinition(\n",
    "    deal_ccy = \"EUR\",\n",
    "    instrument_tag = \"TARF_Target_KO\",\n",
    "    inputs = [\n",
    "        sp.NameTypeValue(name=\"Underlying\", type = \"string\", value=\"USDEUR\"),\n",
    "        sp.NameTypeValue(name=\"StartDate\", type = \"date\", value= dt.date(2022, 1, 25)),\n",
    "        sp.NameTypeValue(name=\"EndDate\", type = \"string\", value=\"StartDate + 1Y\"),\n",
    "        sp.NameTypeValue(name=\"Frequency\", type = \"string\", value=\"3M\"),\n",
    "        sp.NameTypeValue(name=\"Notional\", type = \"string\", value=\"100000\"),\n",
    "        sp.NameTypeValue(name=\"Strike\", type = \"string\", value=\"0.8\"),\n",
    "        sp.NameTypeValue(name=\"KnockOutRate\", type = \"string\", value=\"1.02\"),\n",
    "        sp.NameTypeValue(name=\"IsKnockOutEvent\", type = \"string\", value=\"FX[t] >= KnockOutRate\"),\n",
    "        sp.NameTypeValue(name=\"IsRedemptionEvent\", type = \"string\", value=\"Sum[t] >= ProfitTarget\"),\n",
    "        sp.NameTypeValue(name=\"ProfitTarget\", type = \"string\", value=\"4%\"),\n",
    "        sp.NameTypeValue(name=\"ResidualProfitTarget\", type = \"string\", value=\"Max(ProfitTarget - Sum[t-1], 0)\"),\n",
    "        sp.NameTypeValue(name=\"KO_Payment\", type = \"string\", value=\"Settlement[t]\"),\n",
    "    ],\n",
    "    payoff_description = [\n",
    "\t\t\t\t\t[\n",
    "                        \"Schedule Type\",\n",
    "                        \"Schedule description\",\n",
    "                        \"FX\",\n",
    "                        \"Coupon\",\n",
    "                        \"Settlement\",\n",
    "                        \"Sum\",\n",
    "                        \"Alive\",\n",
    "                        \"KO_Amount\",\n",
    "                        \"Price\"\n",
    "                    ],\n",
    "                    [\n",
    "                        \"AtDate\",\n",
    "                        \"StartDate\",\n",
    "                        \"\",\n",
    "                        \"\",\n",
    "                        \"0\",\n",
    "                        \"\",\n",
    "                        \"IF(ProfitTarget >= 0, 1, 0)\",\n",
    "                        \"\",\n",
    "                        \"\"\n",
    "                    ],\n",
    "                    [\n",
    "                        \"OnSchedule\",\n",
    "                        \"DateTable(StartDate + Frequency, EndDate, Frequency, ResetGap := 0b)\",\n",
    "                        \"FxSpot(Underlying)\",\n",
    "                        \"IF(IsKnockOutEvent, ResidualProfitTarget, FX[t] - Strike)\",\n",
    "                        \"Coupon[t] * Notional\",\n",
    "                        \"Sum[LastDate] + max(Coupon[t],0)\",\n",
    "                        \"If(IsRedemptionEvent or IsKnockOutEvent, 0, Alive[LastDate-1])\",\n",
    "                        \"Alive[LastDate-1] * (1-Alive[LastDate]) * KO_Payment\",\n",
    "                        \"Receive (Alive[t] * Settlement[t] + KO_Amount[t])\"\n",
    "                    ],\n",
    "                    [\n",
    "                        \"AtDate\",\n",
    "                        \"EndDate\",\n",
    "                        \"FxSpot(Underlying)\",\n",
    "                        \"IF(IsKnockOutEvent, ResidualProfitTarget, FX[t] - Strike)\",\n",
    "                        \"Coupon[LastDate] * Notional\",\n",
    "                        \"Sum[LastDate] + max(Coupon[t],0)\",\n",
    "                        \"If(IsRedemptionEvent or IsKnockOutEvent, 0, Alive[LastDate-1])\",\n",
    "                        \"Alive[LastDate-1] * (1-Alive[LastDate]) * KO_Payment\",\n",
    "                        \"Receive (Alive[LastDate] * Settlement[t] + KO_Amount[t])\"\n",
    "                    ]\n",
    "\t\t\t\t]\n",
    ")\n",
    "\n",
    "\n",
    "# 2. Create SP instrument definition object\n",
    "\n",
    "tarf_target_ko = sp.StructuredProductsDefinitionInstrument(definition = tarf_definition)\n",
    "print(\"Instrument definition created\")\n",
    "\n",
    "\n",
    "# 3. Create SP parameters object - optional\n",
    "\n",
    "tarf_pricing_params = sp.StructuredProductsPricingParameters(\n",
    "    valuation_date= dt.date(2022, 3, 16),  # Set your desired valuation date\n",
    "    numerical_method = sp.GenericNumericalMethod(method=\"MonteCarlo\"),\n",
    "    models=[sp.ModelDefinition(\n",
    "            underlying_code = \"USDEUR\",\n",
    "            underlying_tag = \"USDEUR\",\n",
    "            underlying_currency = \"EUR\",\n",
    "            asset_class = \"ForeignExchange\",\n",
    "            model_name= \"Heston\")]\n",
    ")\n",
    "print(\"Pricing parameters configured\")"
   ]
  },
  {
   "cell_type": "markdown",
   "id": "a120b720",
   "metadata": {},
   "source": [
    "## Request Execution"
   ]
  },
  {
   "cell_type": "code",
   "execution_count": 3,
   "id": "bb2ba0b4",
   "metadata": {
    "execution": {
     "iopub.execute_input": "2025-09-18T09:03:48.869666Z",
     "iopub.status.busy": "2025-09-18T09:03:48.869468Z",
     "iopub.status.idle": "2025-09-18T09:04:56.095796Z",
     "shell.execute_reply": "2025-09-18T09:04:56.095121Z"
    },
    "tags": [
     "price.static"
    ]
   },
   "outputs": [
    {
     "name": "stdout",
     "output_type": "stream",
     "text": [
      "Pricing execution completed\n"
     ]
    }
   ],
   "source": [
    "# Execute the calculation using the price() function\n",
    "# The 'definitions' parameter accepts a list of instruments definitions for batch processing\n",
    "\n",
    "response = sp.price(\n",
    "    definitions=[tarf_target_ko],\n",
    "    pricing_preferences=tarf_pricing_params,\n",
    "    market_data=None,\n",
    "    return_market_data=True,  # or False\n",
    "    fields=None  # or specify fields as a string\n",
    ")\n",
    "\n",
    "print(\"Pricing execution completed\")"
   ]
  },
  {
   "cell_type": "markdown",
   "id": "c58ec48b",
   "metadata": {},
   "source": [
    "## Results Display"
   ]
  },
  {
   "cell_type": "markdown",
   "id": "aa5c57a3",
   "metadata": {},
   "source": [
    "#### Key Sections in the `response` JSON\n",
    "\n",
    " - **definitions**: Instrument setup (e.g., strike, dates, notional, underlying, barrier, profit target), it's StructuredProductDefinition that we used. \n",
    "\n",
    " - **pricingPreferences**: Valuation date, financial model, numerical method.\n",
    "\n",
    " - **analytics**:\n",
    "   - **tabularData**: `data`, `headers`, `statuses`\n",
    "   - **cashflows**: Includes arrays and detailed `cashFlows` (payments, fixings)\n",
    "   - **description**: Instrument summary StructuredProductDefinition and also the default fields not specified in the StructuredProductDefinition, but used by default in the calculation\n",
    "   - **greeks**: Sensitivities like `deltaAmountInDealCcy`, `gammaAmountInDealCcy`, `thetaAmountInDealCcy`, `vegaAmountInDealCcy`\n",
    "   - **pricingAnalysis**: `valuationDate`, `marketDataDate`\n",
    "   - **valuation**: `marketValueInDealCcy`\n",
    "   - **error**: Empty if no issues"
   ]
  },
  {
   "cell_type": "markdown",
   "id": "2fc28ea8",
   "metadata": {},
   "source": [
    "#### Description\n",
    "Useful for understanding which fields are included by default in the price function, even if they are not explicitly specified."
   ]
  },
  {
   "cell_type": "code",
   "execution_count": 4,
   "id": "745af953",
   "metadata": {
    "execution": {
     "iopub.execute_input": "2025-09-18T09:04:56.099053Z",
     "iopub.status.busy": "2025-09-18T09:04:56.098310Z",
     "iopub.status.idle": "2025-09-18T09:04:56.102463Z",
     "shell.execute_reply": "2025-09-18T09:04:56.101944Z"
    }
   },
   "outputs": [
    {
     "name": "stdout",
     "output_type": "stream",
     "text": [
      "{\n",
      "    \"instrumentTag\": \"TARF_Target_KO\",\n",
      "    \"dealCcy\": \"EUR\",\n",
      "    \"discountCurveId\": \"IRCurve_EUREURIBORSwapZCCurve_0001-01-01T00:00:00\",\n",
      "    \"discountCurveName\": \"EUR EURIBOR Swap ZC Curve\",\n",
      "    \"outputList\": {\n",
      "        \"Alive\": 0.040873302,\n",
      "        \"Coupon\": 0.361995511,\n",
      "        \"FX\": 3.603602536,\n",
      "        \"KO_Amount\": 10459.966529269,\n",
      "        \"Price\": 10411.850025818,\n",
      "        \"Settlement\": 36199.551141786,\n",
      "        \"Sum\": 0.961770256\n",
      "    },\n",
      "    \"processingInformation\": \"'PricePercent' column was not retrieved in payoff description: related fields will not be retrieved. The following greeks could not be retrieved: Theta, Vega, Gamma, Delta. Make sure a 'PricePercent' column is specified in payoff description to compute greeks. \"\n",
      "}\n"
     ]
    }
   ],
   "source": [
    "# Extract description from response\n",
    "description = response.data.analytics[0].description\n",
    "\n",
    "# Convert to dictionary for display\n",
    "print(json.dumps(description.as_dict(), indent=4))"
   ]
  }
 ],
 "metadata": {
  "kernelspec": {
   "display_name": "env",
   "language": "python",
   "name": "python3"
  },
  "language_info": {
   "codemirror_mode": {
    "name": "ipython",
    "version": 3
   },
   "file_extension": ".py",
   "mimetype": "text/x-python",
   "name": "python",
   "nbconvert_exporter": "python",
   "pygments_lexer": "ipython3",
   "version": "3.11.6"
  }
 },
 "nbformat": 4,
 "nbformat_minor": 5
}
