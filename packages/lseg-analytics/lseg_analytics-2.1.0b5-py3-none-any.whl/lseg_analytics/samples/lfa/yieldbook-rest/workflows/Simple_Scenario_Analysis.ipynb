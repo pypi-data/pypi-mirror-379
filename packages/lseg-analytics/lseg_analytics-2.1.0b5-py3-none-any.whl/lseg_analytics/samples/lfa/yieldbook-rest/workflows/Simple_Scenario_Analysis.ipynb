{
 "cells": [
  {
   "cell_type": "markdown",
   "id": "1a108871",
   "metadata": {},
   "source": [
    "# Simple Scenario Analysis"
   ]
  },
  {
   "cell_type": "markdown",
   "id": "3a4cef20",
   "metadata": {},
   "source": [
    "This notebook demonstrates how to access and use the functionalities of **Scenario Analysis** which are part of our **Yiedbook** module within LSEG Financial Analytics SDK. The notebook outlines the most simple method of using performing scenario analysis, where only the required set of arguments are present.\n",
    "\n",
    "The main goal of this notebook is to explore and display an approach in fetching Scenario Analysis information in it's simplest form by using any of 4 available methods:\n",
    "\n",
    "1. Synchronous POST\n",
    "2. Synchronous GET\n",
    "3. Asynchronous POST\n",
    "4. Asynchronous GET"
   ]
  },
  {
   "cell_type": "markdown",
   "id": "7cd0ad84",
   "metadata": {},
   "source": [
    "## Imports"
   ]
  },
  {
   "cell_type": "markdown",
   "id": "37a963b7",
   "metadata": {},
   "source": [
    "Import the following necessary modules:\n",
    "\n",
    "- *request_scenario_calculation_sync* - main Synchronous POST method\n",
    "- *ScenarioCalcGlobalSettings* - Class wrapper for Global Settings \n",
    "- *ScenarioCalcInput* - Class wrapper for Input parameters\n",
    "- *Scenario* - Class wrapper for defining various Scenarios\n",
    "- *json* - for display purposes  "
   ]
  },
  {
   "cell_type": "code",
   "execution_count": 1,
   "id": "fb2218f1",
   "metadata": {
    "execution": {
     "iopub.execute_input": "2025-09-18T08:58:38.144831Z",
     "iopub.status.busy": "2025-09-18T08:58:38.144539Z",
     "iopub.status.idle": "2025-09-18T08:58:38.504158Z",
     "shell.execute_reply": "2025-09-18T08:58:38.503642Z"
    }
   },
   "outputs": [],
   "source": [
    "from lseg_analytics.yield_book_rest import (\n",
    "        request_scenario_calculation_sync,\n",
    "        request_get_scen_calc_sys_scen_sync,\n",
    "        request_scenario_calculation_async,\n",
    "        request_get_scen_calc_sys_scen_async,\n",
    "        get_result,\n",
    "        Volatility,\n",
    "        StructureNote,\n",
    "        CurveTypeAndCurrency,\n",
    "        LossSettings,\n",
    "        Vector,\n",
    "        MonthRatePair,\n",
    "        RestPrepaySettings,\n",
    "        ScenarioCalcGlobalSettings,\n",
    "        Scenario,\n",
    "        ScenarioDefinition,\n",
    "        SystemScenario,\n",
    "        UserScenario,\n",
    "        ApimCurveShift,\n",
    "        CurveMultiShift,\n",
    "        ScenAbsoluteCurvePoint,\n",
    "        ScenarioVolatility,\n",
    "        SwaptionVolatility,\n",
    "        SwaptionVolItem,\n",
    "        CapVolatility,\n",
    "        CapVolItem,\n",
    "        ScenarioCalcInput,\n",
    "        SettlementInfo,\n",
    "        PricingScenario,\n",
    "        CustomScenario,\n",
    "        CmbsPrepayment,\n",
    "        Balloon,\n",
    "        HorizonInfo,\n",
    "        ScenarioCalcFloaterSettings,\n",
    "        HecmSettings,\n",
    "        ScenCalcExtraSettings,\n",
    "        Partials,\n",
    ")\n",
    "import json as js\n",
    "import time"
   ]
  },
  {
   "cell_type": "markdown",
   "id": "b9c3dd46",
   "metadata": {},
   "source": [
    "## Data Preparation"
   ]
  },
  {
   "cell_type": "markdown",
   "id": "99cc4078",
   "metadata": {},
   "source": [
    "Cash Flow Post methods consume three input arguments: \n",
    "- Global settings \n",
    "    - settings applicable in overall Scenario Analysis\n",
    "- Inputs\n",
    "    - separate parameters to describe and enable specific SA information\n",
    "- Scenario\n",
    "    - individual definition of Scenarios used for analysis"
   ]
  },
  {
   "cell_type": "code",
   "execution_count": 2,
   "id": "de772105",
   "metadata": {
    "execution": {
     "iopub.execute_input": "2025-09-18T08:58:38.508246Z",
     "iopub.status.busy": "2025-09-18T08:58:38.506505Z",
     "iopub.status.idle": "2025-09-18T08:58:38.517824Z",
     "shell.execute_reply": "2025-09-18T08:58:38.517342Z"
    }
   },
   "outputs": [],
   "source": [
    "# request_scenario_calculation_async\n",
    "global_settings = ScenarioCalcGlobalSettings(\n",
    "            pricing_date=\"2025-01-01\",\n",
    "        )\n",
    "\n",
    "scenario = Scenario(\n",
    "            scenario_id=\"ScenID1\",\n",
    "            definition=ScenarioDefinition(\n",
    "                system_scenario=SystemScenario(name=\"BEARFLAT100\")\n",
    "            ),\n",
    "        )\n",
    "\n",
    "input = ScenarioCalcInput(\n",
    "            identifier=\"US742718AV11\",\n",
    "            id_type=\"ISIN\",\n",
    "            curve=CurveTypeAndCurrency(\n",
    "                curve_type=\"GVT\",\n",
    "                currency=\"USD\",\n",
    "            ),\n",
    "            settlement_info=SettlementInfo(\n",
    "                level=\"100\",\n",
    "            ),\n",
    "            horizon_info=[\n",
    "                HorizonInfo(\n",
    "                    scenario_id=\"ScenID1\",\n",
    "                    level=\"100\",\n",
    "                )\n",
    "            ],\n",
    "            horizon_py_method=\"OAS\",\n",
    "        )"
   ]
  },
  {
   "cell_type": "markdown",
   "id": "a120b720",
   "metadata": {},
   "source": [
    "## Synchronous POST Data retrieval\n",
    "\n",
    "Once the input arguments are ready, they can be passed through the main method for data retrieval"
   ]
  },
  {
   "cell_type": "code",
   "execution_count": 3,
   "id": "bb2ba0b4",
   "metadata": {
    "execution": {
     "iopub.execute_input": "2025-09-18T08:58:38.519914Z",
     "iopub.status.busy": "2025-09-18T08:58:38.519605Z",
     "iopub.status.idle": "2025-09-18T08:58:39.748911Z",
     "shell.execute_reply": "2025-09-18T08:58:39.748373Z"
    }
   },
   "outputs": [],
   "source": [
    "# Execute Post sync request with prepared inputs\n",
    "sa_sync_post_response = request_scenario_calculation_sync(\n",
    "                            global_settings=global_settings,\n",
    "                            scenarios=[scenario],\n",
    "                            input=[input],\n",
    "                        )"
   ]
  },
  {
   "cell_type": "markdown",
   "id": "4556c1e6",
   "metadata": {},
   "source": [
    "## Synchronous GET Data retrieval\n",
    "\n",
    "As opposed to the POST method, the GET method has the following mandatory arguments:\n",
    "- identifier\n",
    "- horizon py method\n",
    "- curve type\n",
    "- pricing date\n",
    "- horizon level \n",
    "- existing scenario name. \n",
    "\n",
    "The remaining arguments are optional. "
   ]
  },
  {
   "cell_type": "code",
   "execution_count": 4,
   "id": "e6ff74f1",
   "metadata": {
    "execution": {
     "iopub.execute_input": "2025-09-18T08:58:39.751578Z",
     "iopub.status.busy": "2025-09-18T08:58:39.751247Z",
     "iopub.status.idle": "2025-09-18T08:58:40.505351Z",
     "shell.execute_reply": "2025-09-18T08:58:40.504733Z"
    }
   },
   "outputs": [],
   "source": [
    "# Formulate and execute the get request\n",
    "sa_sync_get_response = request_get_scen_calc_sys_scen_sync(\n",
    "            id='US742718AV11',\n",
    "            h_py_method=\"OAS\",\n",
    "            curve_type=\"GVT\",\n",
    "            pricing_date=\"2025-01-01\",\n",
    "            level=\"100\",\n",
    "            scenario=\"/sys/scenario/Par/50\"\n",
    "        )"
   ]
  },
  {
   "cell_type": "markdown",
   "id": "6b920fcb",
   "metadata": {},
   "source": [
    "## Asynchronous POST Data retrieval\n",
    "\n",
    "The main difference between the Sync and Async approach is that Async methods allow execution of code on the user's side while waiting for a response. Once execution is complete, the user can 'collect' the results whenever they need them.\n",
    "\n",
    "So this approach has 2 steps:\n",
    "1. Provide input data to execution method\n",
    "2. Use the request_id received in step 1 to retrieve the result"
   ]
  },
  {
   "cell_type": "code",
   "execution_count": 5,
   "id": "38b59671",
   "metadata": {
    "execution": {
     "iopub.execute_input": "2025-09-18T08:58:40.508052Z",
     "iopub.status.busy": "2025-09-18T08:58:40.507646Z",
     "iopub.status.idle": "2025-09-18T08:58:43.869165Z",
     "shell.execute_reply": "2025-09-18T08:58:43.868633Z"
    }
   },
   "outputs": [
    {
     "name": "stdout",
     "output_type": "stream",
     "text": [
      "[ERROR]\t[2025-09-18 08:58:40,747]\t[MainThread]\t[lseg_analytics.yield_book_rest]\t[_functions.py:8525]\t Error get_result.\n",
      "[ERROR]\t[2025-09-18 08:58:40,748]\t[MainThread]\t[lseg_analytics]\t[exceptions.py:78]\t Exception: Resource not found: code=404 {'meta': {'requestId': 'R-60877', 'status': 'RUNNING', 'responseType': 'SCENARIO_CALC', 'message': 'The result is not ready yet for requestID:R-60877', 'interval': 0.1}}\n",
      "Attempt 1 resulted in error retrieving results from:R-60877\n"
     ]
    }
   ],
   "source": [
    "# Request bond CF with async post\n",
    "sa_async_post_response = request_scenario_calculation_async(\n",
    "                            global_settings=global_settings,\n",
    "                            scenarios=[scenario],\n",
    "                            input=[input],\n",
    "                        )\n",
    "\n",
    "attempt = 1\n",
    "\n",
    "while attempt < 10:\n",
    "\n",
    "    from lseg_analytics.exceptions import ResourceNotFound\n",
    "    try:\n",
    "        # Request bond indic with async post\n",
    "        async_post_results_response = get_result(request_id_parameter=sa_async_post_response.request_id)\n",
    "        break\n",
    "    except Exception as err:\n",
    "        print(f\"Attempt \" + str(\n",
    "            attempt) + \" resulted in error retrieving results from:\" + sa_async_post_response.request_id)\n",
    "        if (isinstance(err, ResourceNotFound)\n",
    "                and f\"The result is not ready yet for requestID:{sa_async_post_response.request_id}\" in str(err)):\n",
    "            time.sleep(3)\n",
    "            attempt += 1\n",
    "        else:\n",
    "            raise err"
   ]
  },
  {
   "cell_type": "markdown",
   "id": "e607c75c",
   "metadata": {},
   "source": [
    "## Asynchronous GET Data retrieval\n",
    "\n",
    "Difference between Sync and Async can be found in description above.\n",
    "\n",
    "As Async execution is in queue-form it's not necessarily instantly finished. It can take time between submission of request and execution, and results are not in real-time.\n",
    "\n",
    "Hence we present also the form of iterative results-request repetition to fetch the results as soon as they are ready.\n",
    "\n",
    "**NOTE:** Alternative to this is wrapping the request in the job, and then using a method to check the job status. See the fundamentals notebook for information on jobs."
   ]
  },
  {
   "cell_type": "code",
   "execution_count": 6,
   "id": "fee1ee3d",
   "metadata": {
    "execution": {
     "iopub.execute_input": "2025-09-18T08:58:43.871723Z",
     "iopub.status.busy": "2025-09-18T08:58:43.871366Z",
     "iopub.status.idle": "2025-09-18T08:58:47.236304Z",
     "shell.execute_reply": "2025-09-18T08:58:47.235786Z"
    }
   },
   "outputs": [
    {
     "name": "stdout",
     "output_type": "stream",
     "text": [
      "[ERROR]\t[2025-09-18 08:58:44,115]\t[MainThread]\t[lseg_analytics.yield_book_rest]\t[_functions.py:8525]\t Error get_result.\n",
      "[ERROR]\t[2025-09-18 08:58:44,116]\t[MainThread]\t[lseg_analytics]\t[exceptions.py:78]\t Exception: Resource not found: code=404 {'meta': {'requestId': 'R-60878', 'status': 'RUNNING', 'responseType': 'SCENARIO_CALC', 'message': 'The result is not ready yet for requestID:R-60878', 'interval': 0.1}}\n",
      "Attempt 1 resulted in error retrieving results from:R-60878\n"
     ]
    }
   ],
   "source": [
    "# Formulate and execute the get request by using instrument ID, Par_amount and job in which the calculation will be done\n",
    "sa_async_get_response = request_get_scen_calc_sys_scen_async(\n",
    "            id='US742718AV11',\n",
    "            scenario=\"/sys/scenario/Par/50\",\n",
    "            pricing_date=\"2025-01-01\",\n",
    "            curve_type=\"GVT\",\n",
    "            h_py_method=\"OAS\",\n",
    "            h_level=\"100\",\n",
    "            level=\"100\"\n",
    "        )\n",
    "\n",
    "# Due to async nature, code Will perform the fetch 10 times, as result is not always ready instantly, with 3 second lapse between attempts\n",
    "attempt = 1\n",
    "\n",
    "while attempt < 10:\n",
    "\n",
    "    from lseg_analytics.exceptions import ResourceNotFound\n",
    "    try:\n",
    "        # Request bond indic with async post\n",
    "        async_get_results_response = get_result(request_id_parameter=sa_async_get_response.request_id)\n",
    "        break\n",
    "    except Exception as err:\n",
    "        print(f\"Attempt \" + str(\n",
    "            attempt) + \" resulted in error retrieving results from:\" + sa_async_get_response.request_id)\n",
    "        if (isinstance(err, ResourceNotFound)\n",
    "                and f\"The result is not ready yet for requestID:{sa_async_get_response.request_id}\" in str(err)):\n",
    "            time.sleep(3)\n",
    "            attempt += 1\n",
    "        else:\n",
    "            raise err"
   ]
  },
  {
   "cell_type": "markdown",
   "id": "6b7ec6ed",
   "metadata": {},
   "source": [
    "## Display results"
   ]
  },
  {
   "cell_type": "markdown",
   "id": "5a4bd41e",
   "metadata": {},
   "source": [
    "Results data is structured in JSON format so it can be easily displayed using print function."
   ]
  },
  {
   "cell_type": "markdown",
   "id": "aee8130d",
   "metadata": {},
   "source": [
    "### Synchronous POST results"
   ]
  },
  {
   "cell_type": "code",
   "execution_count": 7,
   "id": "6be03632",
   "metadata": {
    "execution": {
     "iopub.execute_input": "2025-09-18T08:58:47.238941Z",
     "iopub.status.busy": "2025-09-18T08:58:47.238628Z",
     "iopub.status.idle": "2025-09-18T08:58:47.241709Z",
     "shell.execute_reply": "2025-09-18T08:58:47.241220Z"
    }
   },
   "outputs": [
    {
     "name": "stdout",
     "output_type": "stream",
     "text": [
      "{\n",
      "    \"meta\": {\n",
      "        \"status\": \"DONE\",\n",
      "        \"requestId\": \"R-60875\",\n",
      "        \"timeStamp\": \"2025-09-18T04:58:39Z\",\n",
      "        \"responseType\": \"SCENARIO_CALC\",\n",
      "        \"resultsStatus\": \"ALL\"\n",
      "    },\n",
      "    \"results\": [\n",
      "        {\n",
      "            \"isin\": \"US742718AV11\",\n",
      "            \"cusip\": \"742718AV1\",\n",
      "            \"ticker\": \"PG\",\n",
      "            \"scenario\": {\n",
      "                \"horizon\": [\n",
      "                    {\n",
      "                        \"oas\": 100.0,\n",
      "                        \"wal\": 4.8139,\n",
      "                        \"price\": 104.89765,\n",
      "                        \"yield\": 6.7865,\n",
      "                        \"balance\": 1.0,\n",
      "                        \"pylevel\": \"100.000000\",\n",
      "                        \"duration\": 3.9209,\n",
      "                        \"fullPrice\": 106.386538,\n",
      "                        \"returnCode\": 0,\n",
      "                        \"scenarioID\": \"ScenID1\",\n",
      "                        \"spreadDV01\": 0.0,\n",
      "                        \"volatility\": 16.0,\n",
      "                        \"actualPrice\": 104.898,\n",
      "                        \"grossSpread\": 99.9335,\n",
      "                        \"horizonDays\": 0,\n",
      "                        \"marketValue\": 106.386538,\n",
      "                        \"optionValue\": 0.0,\n",
      "                        \"totalReturn\": 4.8257988,\n",
      "                        \"dollarReturn\": 4.89764958,\n",
      "                        \"convexityCost\": 0.0,\n",
      "                        \"nominalSpread\": 99.9335,\n",
      "                        \"effectiveYield\": 0.0,\n",
      "                        \"interestReturn\": 0.0,\n",
      "                        \"settlementDate\": \"2025-01-03\",\n",
      "                        \"spreadDuration\": 0.0,\n",
      "                        \"accruedInterest\": 1.488889,\n",
      "                        \"actualFullPrice\": 106.387,\n",
      "                        \"horizonPYMethod\": \"OAS\",\n",
      "                        \"interestPayment\": 0.0,\n",
      "                        \"principalReturn\": 4.8257988,\n",
      "                        \"underlyingPrice\": 0.0,\n",
      "                        \"principalPayment\": 0.0,\n",
      "                        \"reinvestmentRate\": 5.145556,\n",
      "                        \"yieldCurveMargin\": 100.0,\n",
      "                        \"effectiveCallDate\": \"0\",\n",
      "                        \"reinvestmentAmount\": 0.0,\n",
      "                        \"actualAccruedInterest\": 1.489\n",
      "                    }\n",
      "                ],\n",
      "                \"settlement\": {\n",
      "                    \"oas\": 361.951,\n",
      "                    \"psa\": 0.0,\n",
      "                    \"wal\": 4.8139,\n",
      "                    \"price\": 100.0,\n",
      "                    \"yield\": 7.9953,\n",
      "                    \"fullPrice\": 101.488889,\n",
      "                    \"volatility\": 13.0,\n",
      "                    \"grossSpread\": 361.2649,\n",
      "                    \"optionValue\": 0.0,\n",
      "                    \"pricingDate\": \"2024-12-31\",\n",
      "                    \"forwardYield\": 0.0,\n",
      "                    \"staticSpread\": 0.0,\n",
      "                    \"effectiveDV01\": 0.039405887,\n",
      "                    \"nominalSpread\": 0.0,\n",
      "                    \"settlementDate\": \"2025-01-03\",\n",
      "                    \"accruedInterest\": 1.488889,\n",
      "                    \"reinvestmentRate\": 4.329956,\n",
      "                    \"yieldCurveMargin\": 0.0,\n",
      "                    \"effectiveDuration\": 3.8828,\n",
      "                    \"effectiveConvexity\": 0.1873\n",
      "                }\n",
      "            },\n",
      "            \"returnCode\": 0,\n",
      "            \"securityID\": \"742718AV\",\n",
      "            \"description\": \"PROCTER & GAMBLE CO\",\n",
      "            \"maturityDate\": \"2029-10-26\",\n",
      "            \"securityType\": \"BOND\",\n",
      "            \"currentCoupon\": 8.0\n",
      "        }\n",
      "    ]\n",
      "}\n"
     ]
    }
   ],
   "source": [
    "# Print output in JSON format\n",
    "print(js.dumps(obj=sa_sync_post_response, indent=4))"
   ]
  },
  {
   "cell_type": "markdown",
   "id": "58f3289c",
   "metadata": {},
   "source": [
    "### Synchronous GET results"
   ]
  },
  {
   "cell_type": "code",
   "execution_count": 8,
   "id": "f8f13ef1",
   "metadata": {
    "execution": {
     "iopub.execute_input": "2025-09-18T08:58:47.243737Z",
     "iopub.status.busy": "2025-09-18T08:58:47.243373Z",
     "iopub.status.idle": "2025-09-18T08:58:47.246193Z",
     "shell.execute_reply": "2025-09-18T08:58:47.245688Z"
    }
   },
   "outputs": [
    {
     "name": "stdout",
     "output_type": "stream",
     "text": [
      "{\n",
      "    \"data\": {\n",
      "        \"isin\": \"US742718AV11\",\n",
      "        \"cusip\": \"742718AV1\",\n",
      "        \"ticker\": \"PG\",\n",
      "        \"scenario\": {\n",
      "            \"horizon\": [\n",
      "                {\n",
      "                    \"oas\": 361.951,\n",
      "                    \"wal\": 4.8139,\n",
      "                    \"price\": 98.053324,\n",
      "                    \"yield\": 8.4961,\n",
      "                    \"balance\": 1.0,\n",
      "                    \"duration\": 3.8584,\n",
      "                    \"fullPrice\": 99.542213,\n",
      "                    \"returnCode\": 0,\n",
      "                    \"scenarioID\": \"/sys/scenario/Par/50\",\n",
      "                    \"spreadDV01\": 0.0,\n",
      "                    \"volatility\": 16.0,\n",
      "                    \"actualPrice\": 98.053,\n",
      "                    \"grossSpread\": 361.3423,\n",
      "                    \"horizonDays\": 0,\n",
      "                    \"marketValue\": 99.542213,\n",
      "                    \"optionValue\": 0.0,\n",
      "                    \"totalReturn\": -1.91811763,\n",
      "                    \"dollarReturn\": -1.94667627,\n",
      "                    \"convexityCost\": 0.0,\n",
      "                    \"nominalSpread\": 361.3423,\n",
      "                    \"effectiveYield\": 0.0,\n",
      "                    \"interestReturn\": 0.0,\n",
      "                    \"settlementDate\": \"2025-01-03\",\n",
      "                    \"spreadDuration\": 0.0,\n",
      "                    \"accruedInterest\": 1.488889,\n",
      "                    \"actualFullPrice\": 99.542,\n",
      "                    \"horizonPYMethod\": \"OAS\",\n",
      "                    \"interestPayment\": 0.0,\n",
      "                    \"principalReturn\": -1.91811763,\n",
      "                    \"underlyingPrice\": 0.0,\n",
      "                    \"principalPayment\": 0.0,\n",
      "                    \"reinvestmentRate\": 4.829956,\n",
      "                    \"yieldCurveMargin\": 361.951,\n",
      "                    \"effectiveCallDate\": \"0\",\n",
      "                    \"reinvestmentAmount\": 0.0,\n",
      "                    \"actualAccruedInterest\": 1.489\n",
      "                }\n",
      "            ],\n",
      "            \"settlement\": {\n",
      "                \"oas\": 361.951,\n",
      "                \"psa\": 0.0,\n",
      "                \"wal\": 4.8139,\n",
      "                \"price\": 100.0,\n",
      "                \"yield\": 7.9953,\n",
      "                \"fullPrice\": 101.488889,\n",
      "                \"volatility\": 13.0,\n",
      "                \"grossSpread\": 361.2649,\n",
      "                \"optionValue\": 0.0,\n",
      "                \"pricingDate\": \"2024-12-31\",\n",
      "                \"forwardYield\": 0.0,\n",
      "                \"staticSpread\": 0.0,\n",
      "                \"effectiveDV01\": 0.039405887,\n",
      "                \"nominalSpread\": 0.0,\n",
      "                \"settlementDate\": \"2025-01-03\",\n",
      "                \"accruedInterest\": 1.488889,\n",
      "                \"reinvestmentRate\": 4.329956,\n",
      "                \"yieldCurveMargin\": 0.0,\n",
      "                \"effectiveDuration\": 3.8828,\n",
      "                \"effectiveConvexity\": 0.1873\n",
      "            }\n",
      "        },\n",
      "        \"returnCode\": 0,\n",
      "        \"securityID\": \"742718AV\",\n",
      "        \"description\": \"PROCTER & GAMBLE CO\",\n",
      "        \"maturityDate\": \"2029-10-26\",\n",
      "        \"securityType\": \"BOND\",\n",
      "        \"currentCoupon\": 8.0\n",
      "    },\n",
      "    \"meta\": {\n",
      "        \"status\": \"DONE\",\n",
      "        \"requestId\": \"R-60876\",\n",
      "        \"timeStamp\": \"2025-09-18T04:58:40Z\",\n",
      "        \"responseType\": \"SCENARIO_CALC\"\n",
      "    }\n",
      "}\n"
     ]
    }
   ],
   "source": [
    "# Print output in JSON format\n",
    "print(js.dumps(obj=sa_sync_get_response, indent=4))"
   ]
  },
  {
   "cell_type": "markdown",
   "id": "fc276423",
   "metadata": {},
   "source": [
    "### Asynchronous POST results"
   ]
  },
  {
   "cell_type": "code",
   "execution_count": 9,
   "id": "1f72db84",
   "metadata": {
    "execution": {
     "iopub.execute_input": "2025-09-18T08:58:47.248893Z",
     "iopub.status.busy": "2025-09-18T08:58:47.248522Z",
     "iopub.status.idle": "2025-09-18T08:58:47.257875Z",
     "shell.execute_reply": "2025-09-18T08:58:47.257190Z"
    }
   },
   "outputs": [
    {
     "name": "stdout",
     "output_type": "stream",
     "text": [
      "{\n",
      "    \"meta\": {\n",
      "        \"status\": \"DONE\",\n",
      "        \"requestId\": \"R-60877\",\n",
      "        \"timeStamp\": \"2025-09-18T04:58:41Z\",\n",
      "        \"responseType\": \"SCENARIO_CALC\",\n",
      "        \"resultsStatus\": \"ALL\"\n",
      "    },\n",
      "    \"results\": [\n",
      "        {\n",
      "            \"isin\": \"US742718AV11\",\n",
      "            \"cusip\": \"742718AV1\",\n",
      "            \"ticker\": \"PG\",\n",
      "            \"scenario\": {\n",
      "                \"horizon\": [\n",
      "                    {\n",
      "                        \"oas\": 100.0,\n",
      "                        \"wal\": 4.8139,\n",
      "                        \"price\": 104.89765,\n",
      "                        \"yield\": 6.7865,\n",
      "                        \"balance\": 1.0,\n",
      "                        \"pylevel\": \"100.000000\",\n",
      "                        \"duration\": 3.9209,\n",
      "                        \"fullPrice\": 106.386538,\n",
      "                        \"returnCode\": 0,\n",
      "                        \"scenarioID\": \"ScenID1\",\n",
      "                        \"spreadDV01\": 0.0,\n",
      "                        \"volatility\": 16.0,\n",
      "                        \"actualPrice\": 104.898,\n",
      "                        \"grossSpread\": 99.9335,\n",
      "                        \"horizonDays\": 0,\n",
      "                        \"marketValue\": 106.386538,\n",
      "                        \"optionValue\": 0.0,\n",
      "                        \"totalReturn\": 4.8257988,\n",
      "                        \"dollarReturn\": 4.89764958,\n",
      "                        \"convexityCost\": 0.0,\n",
      "                        \"nominalSpread\": 99.9335,\n",
      "                        \"effectiveYield\": 0.0,\n",
      "                        \"interestReturn\": 0.0,\n",
      "                        \"settlementDate\": \"2025-01-03\",\n",
      "                        \"spreadDuration\": 0.0,\n",
      "                        \"accruedInterest\": 1.488889,\n",
      "                        \"actualFullPrice\": 106.387,\n",
      "                        \"horizonPYMethod\": \"OAS\",\n",
      "                        \"interestPayment\": 0.0,\n",
      "                        \"principalReturn\": 4.8257988,\n",
      "                        \"underlyingPrice\": 0.0,\n",
      "                        \"principalPayment\": 0.0,\n",
      "                        \"reinvestmentRate\": 5.145556,\n",
      "                        \"yieldCurveMargin\": 100.0,\n",
      "                        \"effectiveCallDate\": \"0\",\n",
      "                        \"reinvestmentAmount\": 0.0,\n",
      "                        \"actualAccruedInterest\": 1.489\n",
      "                    }\n",
      "                ],\n",
      "                \"settlement\": {\n",
      "                    \"oas\": 361.951,\n",
      "                    \"psa\": 0.0,\n",
      "                    \"wal\": 4.8139,\n",
      "                    \"price\": 100.0,\n",
      "                    \"yield\": 7.9953,\n",
      "                    \"fullPrice\": 101.488889,\n",
      "                    \"volatility\": 13.0,\n",
      "                    \"grossSpread\": 361.2649,\n",
      "                    \"optionValue\": 0.0,\n",
      "                    \"pricingDate\": \"2024-12-31\",\n",
      "                    \"forwardYield\": 0.0,\n",
      "                    \"staticSpread\": 0.0,\n",
      "                    \"effectiveDV01\": 0.039405887,\n",
      "                    \"nominalSpread\": 0.0,\n",
      "                    \"settlementDate\": \"2025-01-03\",\n",
      "                    \"accruedInterest\": 1.488889,\n",
      "                    \"reinvestmentRate\": 4.329956,\n",
      "                    \"yieldCurveMargin\": 0.0,\n",
      "                    \"effectiveDuration\": 3.8828,\n",
      "                    \"effectiveConvexity\": 0.1873\n",
      "                }\n",
      "            },\n",
      "            \"returnCode\": 0,\n",
      "            \"securityID\": \"742718AV\",\n",
      "            \"description\": \"PROCTER & GAMBLE CO\",\n",
      "            \"maturityDate\": \"2029-10-26\",\n",
      "            \"securityType\": \"BOND\",\n",
      "            \"currentCoupon\": 8.0\n",
      "        }\n",
      "    ]\n",
      "}\n"
     ]
    }
   ],
   "source": [
    "# Print output in JSON format\n",
    "print(js.dumps(obj=async_post_results_response, indent=4))"
   ]
  },
  {
   "cell_type": "markdown",
   "id": "46e3c8e9",
   "metadata": {},
   "source": [
    "### Asynchronous GET results"
   ]
  },
  {
   "cell_type": "code",
   "execution_count": 10,
   "id": "c2dafd4c",
   "metadata": {
    "execution": {
     "iopub.execute_input": "2025-09-18T08:58:47.260042Z",
     "iopub.status.busy": "2025-09-18T08:58:47.259816Z",
     "iopub.status.idle": "2025-09-18T08:58:47.263655Z",
     "shell.execute_reply": "2025-09-18T08:58:47.263047Z"
    }
   },
   "outputs": [
    {
     "name": "stdout",
     "output_type": "stream",
     "text": [
      "{\n",
      "    \"data\": {\n",
      "        \"isin\": \"US742718AV11\",\n",
      "        \"cusip\": \"742718AV1\",\n",
      "        \"ticker\": \"PG\",\n",
      "        \"scenario\": {\n",
      "            \"horizon\": [\n",
      "                {\n",
      "                    \"oas\": 100.0,\n",
      "                    \"wal\": 4.8139,\n",
      "                    \"price\": 108.774734,\n",
      "                    \"yield\": 5.8775,\n",
      "                    \"balance\": 1.0,\n",
      "                    \"pylevel\": \"100.000000\",\n",
      "                    \"duration\": 3.9542,\n",
      "                    \"fullPrice\": 110.263623,\n",
      "                    \"returnCode\": 0,\n",
      "                    \"scenarioID\": \"/sys/scenario/Par/50\",\n",
      "                    \"spreadDV01\": 0.0,\n",
      "                    \"volatility\": 16.0,\n",
      "                    \"actualPrice\": 108.775,\n",
      "                    \"grossSpread\": 99.4751,\n",
      "                    \"horizonDays\": 0,\n",
      "                    \"marketValue\": 110.263623,\n",
      "                    \"optionValue\": 0.0,\n",
      "                    \"totalReturn\": 8.64600454,\n",
      "                    \"dollarReturn\": 8.77473393,\n",
      "                    \"convexityCost\": 0.0,\n",
      "                    \"nominalSpread\": 99.4751,\n",
      "                    \"effectiveYield\": 0.0,\n",
      "                    \"interestReturn\": 0.0,\n",
      "                    \"settlementDate\": \"2025-01-03\",\n",
      "                    \"spreadDuration\": 0.0,\n",
      "                    \"accruedInterest\": 1.488889,\n",
      "                    \"actualFullPrice\": 110.264,\n",
      "                    \"horizonPYMethod\": \"OAS\",\n",
      "                    \"interestPayment\": 0.0,\n",
      "                    \"principalReturn\": 8.64600454,\n",
      "                    \"underlyingPrice\": 0.0,\n",
      "                    \"principalPayment\": 0.0,\n",
      "                    \"reinvestmentRate\": 4.829956,\n",
      "                    \"yieldCurveMargin\": 100.0,\n",
      "                    \"effectiveCallDate\": \"0\",\n",
      "                    \"reinvestmentAmount\": 0.0,\n",
      "                    \"actualAccruedInterest\": 1.489\n",
      "                }\n",
      "            ],\n",
      "            \"settlement\": {\n",
      "                \"oas\": 361.951,\n",
      "                \"psa\": 0.0,\n",
      "                \"wal\": 4.8139,\n",
      "                \"price\": 100.0,\n",
      "                \"yield\": 7.9953,\n",
      "                \"fullPrice\": 101.488889,\n",
      "                \"volatility\": 13.0,\n",
      "                \"grossSpread\": 361.2649,\n",
      "                \"optionValue\": 0.0,\n",
      "                \"pricingDate\": \"2024-12-31\",\n",
      "                \"forwardYield\": 0.0,\n",
      "                \"staticSpread\": 0.0,\n",
      "                \"effectiveDV01\": 0.039405887,\n",
      "                \"nominalSpread\": 0.0,\n",
      "                \"settlementDate\": \"2025-01-03\",\n",
      "                \"accruedInterest\": 1.488889,\n",
      "                \"reinvestmentRate\": 4.329956,\n",
      "                \"yieldCurveMargin\": 0.0,\n",
      "                \"effectiveDuration\": 3.8828,\n",
      "                \"effectiveConvexity\": 0.1873\n",
      "            }\n",
      "        },\n",
      "        \"returnCode\": 0,\n",
      "        \"securityID\": \"742718AV\",\n",
      "        \"description\": \"PROCTER & GAMBLE CO\",\n",
      "        \"maturityDate\": \"2029-10-26\",\n",
      "        \"securityType\": \"BOND\",\n",
      "        \"currentCoupon\": 8.0\n",
      "    },\n",
      "    \"meta\": {\n",
      "        \"status\": \"DONE\",\n",
      "        \"requestId\": \"R-60878\",\n",
      "        \"timeStamp\": \"2025-09-18T04:58:44Z\",\n",
      "        \"responseType\": \"SCENARIO_CALC\"\n",
      "    }\n",
      "}\n"
     ]
    }
   ],
   "source": [
    "# Print output in JSON format\n",
    "print(js.dumps(obj=async_get_results_response, indent=4))"
   ]
  }
 ],
 "metadata": {
  "kernelspec": {
   "display_name": "env",
   "language": "python",
   "name": "python3"
  },
  "language_info": {
   "codemirror_mode": {
    "name": "ipython",
    "version": 3
   },
   "file_extension": ".py",
   "mimetype": "text/x-python",
   "name": "python",
   "nbconvert_exporter": "python",
   "pygments_lexer": "ipython3",
   "version": "3.11.6"
  }
 },
 "nbformat": 4,
 "nbformat_minor": 5
}
