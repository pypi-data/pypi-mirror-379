{
 "cells": [
  {
   "cell_type": "markdown",
   "id": "1a108871",
   "metadata": {},
   "source": [
    "# Complex Price Yield"
   ]
  },
  {
   "cell_type": "markdown",
   "id": "3a4cef20",
   "metadata": {},
   "source": [
    "This notebook demonstrates how to access and use the functionalities of **Price Yield** which are part of our **Yiedbook** module within LSEG Financial Analytics SDK. The notebook outlines the broadest complexity when performing price yield, where all the possible set of arguments are present.\n",
    "\n",
    "The main goal of this notebook is to explore and display different approaches in retrieval of single instrument Price Yield complex calcuation by using any of 4 available methods:\n",
    "1. Synchronous POST\n",
    "2. Synchronous GET\n",
    "3. Asynchronous POST\n",
    "4. Asynchronous GET"
   ]
  },
  {
   "cell_type": "markdown",
   "id": "7cd0ad84",
   "metadata": {},
   "source": [
    "## Imports"
   ]
  },
  {
   "cell_type": "markdown",
   "id": "37a963b7",
   "metadata": {},
   "source": [
    "Import the following necessary modules:\n",
    "\n",
    "- *request_py_calculation_sync_by_id* - main Synchronous GET method\n",
    "- *request_py_calculation_sync* - main Synchronous POST method\n",
    "- *request_py_calculation_async_by_id* - main Asynchronous GET method\n",
    "- *request_py_calculation_async* - main Asynchronous POST method\n",
    "- *get_result* - method for obtaining results of Async method executions\n",
    "- *json* - for display purposes \n",
    "- *time* - for response delay handling"
   ]
  },
  {
   "cell_type": "code",
   "execution_count": 1,
   "id": "fb2218f1",
   "metadata": {
    "execution": {
     "iopub.execute_input": "2025-09-18T08:57:49.664107Z",
     "iopub.status.busy": "2025-09-18T08:57:49.663651Z",
     "iopub.status.idle": "2025-09-18T08:57:50.061828Z",
     "shell.execute_reply": "2025-09-18T08:57:50.061181Z"
    }
   },
   "outputs": [],
   "source": [
    "from lseg_analytics.yield_book_rest import (\n",
    "    request_py_calculation_sync_by_id,\n",
    "    request_py_calculation_sync,\n",
    "    request_py_calculation_async_by_id,    \n",
    "    request_py_calculation_async,\n",
    "    get_result,\n",
    "    Volatility,\n",
    "    StructureNote,\n",
    "    CurveTypeAndCurrency,\n",
    "    LossSettings,\n",
    "    Vector,\n",
    "    MonthRatePair,\n",
    "    RestPrepaySettings,\n",
    "    MuniSettings,\n",
    "    PricingScenario,\n",
    "    CustomScenario,\n",
    "    CmbsPrepayment,\n",
    "    Balloon,\n",
    "    HecmSettings,\n",
    "    Partials,\n",
    "    PyCalcGlobalSettings,\n",
    "    SensitivityShocks,\n",
    "    LookbackSettings,\n",
    "    PyCalcInput,\n",
    "    ExtraSettings,\n",
    "    CmbsSettings,\n",
    "    FloaterSettings,\n",
    "    IndexProjection,\n",
    "    TermRatePair,\n",
    "    IndexLinkerSettings,\n",
    "    MbsSettings,\n",
    "    CloSettings,\n",
    "    ConvertiblePricing,\n",
    "    OptionModel,\n",
    "    CloCallInfo\n",
    ")\n",
    "\n",
    "from datetime import date\n",
    "\n",
    "import json as js\n",
    "\n",
    "import time"
   ]
  },
  {
   "cell_type": "markdown",
   "id": "b9c3dd46",
   "metadata": {},
   "source": [
    "## Data Preparation"
   ]
  },
  {
   "cell_type": "markdown",
   "id": "99cc4078",
   "metadata": {},
   "source": [
    "Prepare the 'input' argument which contains an identifier and price level. It will be consumed by multiple methods."
   ]
  },
  {
   "cell_type": "code",
   "execution_count": 2,
   "id": "de772105",
   "metadata": {
    "execution": {
     "iopub.execute_input": "2025-09-18T08:57:50.065908Z",
     "iopub.status.busy": "2025-09-18T08:57:50.064181Z",
     "iopub.status.idle": "2025-09-18T08:57:50.068530Z",
     "shell.execute_reply": "2025-09-18T08:57:50.068025Z"
    }
   },
   "outputs": [],
   "source": [
    "# Select an ISIN or CUSIP ID of the instrument\n",
    "identifier=\"31398GY86\"\n",
    "\n",
    "# Set a pricing level for the calculation\n",
    "price_level = 99\n"
   ]
  },
  {
   "cell_type": "markdown",
   "id": "56ca1621",
   "metadata": {},
   "source": [
    "Outlined below are all the available properties the user can set for the POST request. For arguments that are not required, default values will be used in their absence."
   ]
  },
  {
   "cell_type": "code",
   "execution_count": 3,
   "id": "72459f93",
   "metadata": {
    "execution": {
     "iopub.execute_input": "2025-09-18T08:57:50.070836Z",
     "iopub.status.busy": "2025-09-18T08:57:50.070645Z",
     "iopub.status.idle": "2025-09-18T08:57:50.097623Z",
     "shell.execute_reply": "2025-09-18T08:57:50.096837Z"
    }
   },
   "outputs": [],
   "source": [
    "global_settings = PyCalcGlobalSettings(\n",
    "            pricing_date=date(2025, 1, 1),            \n",
    "            use_previous_close=True,\n",
    "            use_live_data=True,\n",
    "            use_ibor6_m=True,\n",
    "            retrieve_ppm_projection=True,\n",
    "            retrieve_oas_path=True,\n",
    "            use_stochastic_hpa=True,\n",
    "            use_five_point_convexity=True,\n",
    "            retrieve_roll_rate_matrix=True,\n",
    "            use_model_col_haircut=True,\n",
    "            use1000_path=True,\n",
    "            use_core_logic_group_model=True,\n",
    "            sba_ignore_prepay_penalty=True,\n",
    "            use_ois=False,\n",
    "            use_non_qm_collateral=False,\n",
    "            core_logic_collateral=\"DEFAULT\",\n",
    "            shock_repo_rates_futures=True,\n",
    "            use_muni_non_call_curve=True,\n",
    "            use_muni_tax_settings=True,\n",
    "            muni_de_minimis_annual_discount=0.1,\n",
    "            muni_capital_gains_rate=0.1,\n",
    "            muni_ordinary_income_rate=0.2,\n",
    "            current_coupon_rates=\"MOATS\",\n",
    "            sensitivity_shocks=SensitivityShocks(\n",
    "                effective_duration=2.5,\n",
    "                spread=2.0,\n",
    "                prepay=1.6,\n",
    "                current_coupon_spreads=2.2,\n",
    "                prepay_model_elbow=1.1,\n",
    "                prepay_model_refi=3.5,\n",
    "                hpa=1.2,\n",
    "            ),\n",
    "            lookback_settings=LookbackSettings(\n",
    "                basis_lookback_days=10,\n",
    "                curve_lookback_days=20,\n",
    "                volatility_lookback_days=10,\n",
    "                ccoas_lookback_days=10,\n",
    "                mortgage_date_lookback_days=20,\n",
    "                curve_date_shift_lookback_days=20,\n",
    "                curve_date_roll_lookback=20,\n",
    "            )\n",
    "        )\n",
    "\n",
    "input = [\n",
    "            PyCalcInput(\n",
    "                identifier=identifier,\n",
    "                level=price_level,\n",
    "                curve=CurveTypeAndCurrency(\n",
    "                    curve_type=\"GVT\",\n",
    "                    currency=\"USD\",\n",
    "                    retrieve_curve=False,\n",
    "                    snapshot=\"EOD\",\n",
    "                ),\n",
    "                volatility=Volatility(\n",
    "                    type=\"LMMDD\",\n",
    "                    structure_note=StructureNote(pricing=\"ASSETSWAP\", callable_zero_pricing=\"DYNAMIC\"),\n",
    "                ),                \n",
    "                extra_settings=ExtraSettings(\n",
    "                    include_partials=False,\n",
    "                    option_model=\"OAS\",\n",
    "                    use_oas_to_call=False,\n",
    "                    partial_vega=False,\n",
    "                    other_durations=False,\n",
    "                    volatility_duration=False,\n",
    "                    prepay_duration=False,\n",
    "                    refi_elbow_duration=False,\n",
    "                    current_coupon_spread_sensitivity=False,\n",
    "                    refi_prepay_duration=False,\n",
    "                    turnover_prepay_duration=False,\n",
    "                    primary_secondary_spread_duration=False,\n",
    "                    index_spread_duration=False,\n",
    "                    partials=Partials(\n",
    "                        curve_type=\"FORWARD\",\n",
    "                        curve_shift=0.1,\n",
    "                        shock_type=\"SQUARE\",\n",
    "                        use_cumulative_wave_method=True,\n",
    "                        partial_duration_years=[1, 2, 3, 5, 10, 20, 30],\n",
    "                    ),\n",
    "                ),\n",
    "                hecm_settings=HecmSettings(\n",
    "                    draw_type=\"CONSTANT\",\n",
    "                    draw_rate=1.1,\n",
    "                    draw_vector=Vector(\n",
    "                        interpolation_type=\"INTERPOLATED\",\n",
    "                        index=\"PRIM\",\n",
    "                        values_property=[MonthRatePair(month=1, rate=1.1)],\n",
    "                    ),\n",
    "                ),\n",
    "                # Loss Settings are not moddeled for all securities, so uncomment this section only for securities with Losses modeled\n",
    "                #\n",
    "                # loss_settings=LossSettings(\n",
    "                #     default_type=\"SDA\",\n",
    "                #     default_rate=0.01,\n",
    "                #     default_vector=Vector(\n",
    "                #         interpolation_type=\"LEVEL\",\n",
    "                #         index=\"PRIM\",\n",
    "                #         values_property=[MonthRatePair(month=1, rate=0.01)],\n",
    "                #     ),\n",
    "                #     severity_type=\"MODEL\",\n",
    "                #     severity_rate=0.01,\n",
    "                #     severity_vector=Vector(\n",
    "                #         interpolation_type=\"LEVEL\",\n",
    "                #         index=\"PRIM\",\n",
    "                #         values_property=[MonthRatePair(month=1, rate=0.01)],\n",
    "                #     ),\n",
    "                #     recovery_lag=1,\n",
    "                #     delinquency_type=\"PASS\",\n",
    "                #     delinquency_rate=0.01,\n",
    "                #     delinquency_vector=Vector(\n",
    "                #         interpolation_type=\"LEVEL\",\n",
    "                #         index=\"PRIM\",\n",
    "                #         values_property=[MonthRatePair(month=1, rate=0.01)],\n",
    "                #     ),\n",
    "                #     use_model_loan_modifications=True,\n",
    "                #     ignore_insurance=True,\n",
    "                # ),\n",
    "                prepay_settings=RestPrepaySettings(\n",
    "                    type=\"CPR\",\n",
    "                    rate=0.01,\n",
    "                    vector=Vector(\n",
    "                        interpolation_type=\"LEVEL\",\n",
    "                        index=\"PRIM\",\n",
    "                        values_property=[MonthRatePair(month=1, rate=0.01)],\n",
    "                    ),\n",
    "                    model_to_balloon=False,\n",
    "                ),\n",
    "                 cmbs_settings=CmbsSettings(\n",
    "                    pricing_scenarios=[\n",
    "                        PricingScenario(\n",
    "                            primary=True,\n",
    "                            type=\"CPJ\",\n",
    "                            rate=1.1,\n",
    "                            system_scenario_name=\"Scen_name\",\n",
    "                            custom_scenario=CustomScenario(\n",
    "                                assume_call=True,\n",
    "                                delay=True,\n",
    "                                delay_balloon_maturity=True,\n",
    "                                defeasance=\"AUTO\",\n",
    "                                prepayment=CmbsPrepayment(\n",
    "                                    rate_during_yield_to_maturity=1.017,\n",
    "                                    rate_after_yield_to_maturity=0.987,\n",
    "                                    rate_during_premium=2.331,\n",
    "                                ),\n",
    "                                defaults=Balloon(\n",
    "                                    percent=0.8,\n",
    "                                    loss_severity=0.8,\n",
    "                                    recovery_period=1,\n",
    "                                    loss_type=\"CDR\",\n",
    "                                    loss_rate=0.8,\n",
    "                                    month_to_extend=2,\n",
    "                                    loss_vector=Vector(\n",
    "                                        interpolation_type=\"INTERPOLATED\",\n",
    "                                        index=\"PRIM\",\n",
    "                                        values_property=[MonthRatePair(month=1, rate=1.1)],\n",
    "                                    ),\n",
    "                                ),\n",
    "                                balloon_extend=Balloon(\n",
    "                                    percent=0.8,\n",
    "                                    loss_severity=0.8,\n",
    "                                    recovery_period=1,\n",
    "                                    loss_type=\"CDR\",\n",
    "                                    loss_rate=0.8,\n",
    "                                    month_to_extend=2,\n",
    "                                    loss_vector=Vector(\n",
    "                                        interpolation_type=\"INTERPOLATED\",\n",
    "                                        index=\"PRIM\",\n",
    "                                        values_property=[MonthRatePair(month=1, rate=1.1)],\n",
    "                                    ),\n",
    "                                ),\n",
    "                                balloon_default=Balloon(\n",
    "                                    percent=0.8,\n",
    "                                    loss_severity=0.8,\n",
    "                                    recovery_period=1,\n",
    "                                    loss_type=\"CDR\",\n",
    "                                    loss_rate=0.8,\n",
    "                                    month_to_extend=2,\n",
    "                                    loss_vector=Vector(\n",
    "                                        interpolation_type=\"INTERPOLATED\",\n",
    "                                        index=\"PRIM\",\n",
    "                                        values_property=[MonthRatePair(month=1, rate=1.1)],\n",
    "                                    ),\n",
    "                                ),\n",
    "                            ),\n",
    "                        )\n",
    "                    ],\n",
    "                ),\n",
    "                floater_settings=FloaterSettings(\n",
    "                    use_forward_index=True,\n",
    "                    forward_index_rate=1.1,\n",
    "                    index_projections=[\n",
    "                        IndexProjection(\n",
    "                            index=\"index\", term_unit=\"MONTH\", values_property=[TermRatePair(term=1, rate=1.1)]\n",
    "                        )\n",
    "                    ],\n",
    "                ), \n",
    "                index_linker_settings=IndexLinkerSettings(real_yield_beta=2.2),\n",
    "                muni_settings=MuniSettings(\n",
    "                    paydown_optional=True, \n",
    "                    ignore_call_info=True, \n",
    "                    use_stub_rate=True\n",
    "                ),\n",
    "                settlement_type=\"MARKET\",\n",
    "                settlement_date=date(2025, 1, 25),\n",
    "                mbs_settings=MbsSettings(use_roll_info=True, call_underlying_remics=True),\n",
    "                clo_settings=CloSettings(assume_call=CloCallInfo(date=date(2025, 1, 17))),                \n",
    "                #\n",
    "                # Convertible pricing is not applicable for all security types, so uncomment when needed\n",
    "                #\n",
    "                # convertible_pricing=ConvertiblePricing(\n",
    "                #     method=\"AT_MARKET\",\n",
    "                #     market_price=99,\n",
    "                #     credit_spread=2.1,\n",
    "                #     stock_price=99,\n",
    "                #     stock_dividend_yield=5.0,\n",
    "                #     stock_volatility=1.1,\n",
    "                #     stock_borrow_rate=1.1,\n",
    "                # ),\n",
    "                # underlying_price=100,\n",
    "            )\n",
    "        ]"
   ]
  },
  {
   "cell_type": "markdown",
   "id": "a120b720",
   "metadata": {},
   "source": [
    "## Synchronous POST Data retrieval\n",
    "\n",
    "Once the input arguments are ready, they can be passed through the main method for data retrieval."
   ]
  },
  {
   "cell_type": "code",
   "execution_count": 4,
   "id": "bb2ba0b4",
   "metadata": {
    "execution": {
     "iopub.execute_input": "2025-09-18T08:57:50.100208Z",
     "iopub.status.busy": "2025-09-18T08:57:50.099775Z",
     "iopub.status.idle": "2025-09-18T08:57:51.363748Z",
     "shell.execute_reply": "2025-09-18T08:57:51.363226Z"
    }
   },
   "outputs": [],
   "source": [
    "# Request bond PY with sync POST\n",
    "py_sync_post_response = request_py_calculation_sync(\n",
    "            global_settings=global_settings,\n",
    "            input=input,\n",
    "            keywords=[\"yield\"]\n",
    "        )"
   ]
  },
  {
   "cell_type": "markdown",
   "id": "4556c1e6",
   "metadata": {},
   "source": [
    "## Synchronous GET Data retrieval\n",
    "\n",
    "'As opposed to the POST method, the GET method requires the identifier itself and the price level. The remaining arguments are optional.'"
   ]
  },
  {
   "cell_type": "code",
   "execution_count": 5,
   "id": "e6ff74f1",
   "metadata": {
    "execution": {
     "iopub.execute_input": "2025-09-18T08:57:51.366760Z",
     "iopub.status.busy": "2025-09-18T08:57:51.366511Z",
     "iopub.status.idle": "2025-09-18T08:57:53.537194Z",
     "shell.execute_reply": "2025-09-18T08:57:53.536366Z"
    }
   },
   "outputs": [],
   "source": [
    "# Request bond PY with sync GET\n",
    "py_sync_get_response = request_py_calculation_sync_by_id(\n",
    "            id=identifier,\n",
    "            level=price_level,\n",
    "            curve_type=\"GVT\",\n",
    "            pricing_date=\"2025-01-17\",\n",
    "            currency=\"USD\",\n",
    "            prepay_type=\"CPR\",\n",
    "            prepay_rate=1.1,\n",
    "            option_model=OptionModel.OAS,\n",
    "        )"
   ]
  },
  {
   "cell_type": "markdown",
   "id": "6b920fcb",
   "metadata": {},
   "source": [
    "## Asynchronous POST Data retrieval\n",
    "\n",
    "The main difference between the Sync and Async approach is that Async methods allow execution of code on the user's side while waiting for a response. Once execution is complete, the user can 'collect' the results whenever they need them.\n",
    "\n",
    "So this approach has 2 steps:\n",
    "1. Provide input data to execution method\n",
    "2. Use the request_id received in step 1 to retrieve the result"
   ]
  },
  {
   "cell_type": "code",
   "execution_count": 6,
   "id": "38b59671",
   "metadata": {
    "execution": {
     "iopub.execute_input": "2025-09-18T08:57:53.540263Z",
     "iopub.status.busy": "2025-09-18T08:57:53.539796Z",
     "iopub.status.idle": "2025-09-18T08:57:56.912950Z",
     "shell.execute_reply": "2025-09-18T08:57:56.912438Z"
    }
   },
   "outputs": [
    {
     "name": "stdout",
     "output_type": "stream",
     "text": [
      "[ERROR]\t[2025-09-18 08:57:53,792]\t[MainThread]\t[lseg_analytics.yield_book_rest]\t[_functions.py:8525]\t Error get_result.\n",
      "[ERROR]\t[2025-09-18 08:57:53,793]\t[MainThread]\t[lseg_analytics]\t[exceptions.py:78]\t Exception: Resource not found: code=404 {'meta': {'requestId': 'R-60859', 'status': 'RUNNING', 'responseType': 'PY_CALC', 'message': 'The result is not ready yet for requestID:R-60859', 'interval': 0.1}}\n",
      "Attempt 1 resulted in error retrieving results from:R-60859\n"
     ]
    }
   ],
   "source": [
    "# Request bond PY with async post\n",
    "py_async_post_response = request_py_calculation_async(\n",
    "            global_settings=global_settings,\n",
    "            input=input,\n",
    "            keywords=[\"yield\"]\n",
    "        )\n",
    "\n",
    "attempt = 1\n",
    "\n",
    "while attempt < 10:\n",
    "\n",
    "    from lseg_analytics.exceptions import ResourceNotFound\n",
    "    try:\n",
    "        # Request bond indic with async post\n",
    "        async_post_results_response = get_result(request_id_parameter=py_async_post_response.request_id)\n",
    "        break\n",
    "    except Exception as err:\n",
    "        print(f\"Attempt \" + str(\n",
    "            attempt) + \" resulted in error retrieving results from:\" + py_async_post_response.request_id)\n",
    "        if (isinstance(err, ResourceNotFound)\n",
    "                and f\"The result is not ready yet for requestID:{py_async_post_response.request_id}\" in str(err)):\n",
    "            time.sleep(3)\n",
    "            attempt += 1\n",
    "        else:\n",
    "            raise err"
   ]
  },
  {
   "cell_type": "markdown",
   "id": "e607c75c",
   "metadata": {},
   "source": [
    "## Asynchronous GET Data retrieval\n",
    "\n",
    "Difference between Sync and Async can be found in description above.\n",
    "\n",
    "As Async execution is in queue-form it's not necessarily instantly finished. It can take time between submission of request and execution, and results are not in real-time.\n",
    "\n",
    "Hence we present also the form of iterative results-request repetition to fetch the results as soon as they are ready.\n",
    "\n",
    "**NOTE:** Alternative to this is wrapping the request in the job, and then using a method to check the job status. See the fundamentals notebook for information on jobs."
   ]
  },
  {
   "cell_type": "code",
   "execution_count": 7,
   "id": "fee1ee3d",
   "metadata": {
    "execution": {
     "iopub.execute_input": "2025-09-18T08:57:56.915844Z",
     "iopub.status.busy": "2025-09-18T08:57:56.915206Z",
     "iopub.status.idle": "2025-09-18T08:58:00.276646Z",
     "shell.execute_reply": "2025-09-18T08:58:00.275908Z"
    }
   },
   "outputs": [
    {
     "name": "stdout",
     "output_type": "stream",
     "text": [
      "[ERROR]\t[2025-09-18 08:57:57,150]\t[MainThread]\t[lseg_analytics.yield_book_rest]\t[_functions.py:8525]\t Error get_result.\n",
      "[ERROR]\t[2025-09-18 08:57:57,151]\t[MainThread]\t[lseg_analytics]\t[exceptions.py:78]\t Exception: Resource not found: code=404 {'meta': {'requestId': 'R-60860', 'status': 'RUNNING', 'responseType': 'PY_CALC', 'message': 'The result is not ready yet for requestID:R-60860', 'interval': 0.1}}\n",
      "Attempt 1 resulted in error retrieving results from:R-60860\n"
     ]
    }
   ],
   "source": [
    "# Request bond PY with async get\n",
    "py_async_get_response = request_py_calculation_async_by_id(\n",
    "            id=identifier,\n",
    "            level=price_level,\n",
    "            curve_type=\"GVT\",\n",
    "            pricing_date=\"2025-01-17\",\n",
    "            currency=\"USD\",\n",
    "            prepay_type=\"CPR\",\n",
    "            prepay_rate=1.1,\n",
    "            option_model=OptionModel.OAS\n",
    "        )\n",
    "\n",
    "# Due to async nature, code Will perform the fetch 10 times, as result is not always ready instantly, with 3 second lapse between attempts\n",
    "attempt = 1\n",
    "\n",
    "while attempt < 10:\n",
    "\n",
    "    from lseg_analytics.exceptions import ResourceNotFound\n",
    "    try:\n",
    "        # Request bond indic with async post\n",
    "        async_get_results_response = get_result(request_id_parameter=py_async_get_response.request_id)\n",
    "        break\n",
    "    except Exception as err:\n",
    "        print(f\"Attempt \" + str(\n",
    "            attempt) + \" resulted in error retrieving results from:\" + py_async_get_response.request_id)\n",
    "        if (isinstance(err, ResourceNotFound)\n",
    "                and f\"The result is not ready yet for requestID:{py_async_get_response.request_id}\" in str(err)):\n",
    "            time.sleep(3)\n",
    "            attempt += 1\n",
    "        else:\n",
    "            raise err"
   ]
  },
  {
   "cell_type": "markdown",
   "id": "6b7ec6ed",
   "metadata": {},
   "source": [
    "## Display results"
   ]
  },
  {
   "cell_type": "markdown",
   "id": "5a4bd41e",
   "metadata": {},
   "source": [
    "Results data is structured in JSON format so it can be easily displayed using print function."
   ]
  },
  {
   "cell_type": "markdown",
   "id": "aee8130d",
   "metadata": {},
   "source": [
    "### Synchronous POST results"
   ]
  },
  {
   "cell_type": "code",
   "execution_count": 8,
   "id": "6be03632",
   "metadata": {
    "execution": {
     "iopub.execute_input": "2025-09-18T08:58:00.279724Z",
     "iopub.status.busy": "2025-09-18T08:58:00.279357Z",
     "iopub.status.idle": "2025-09-18T08:58:00.283479Z",
     "shell.execute_reply": "2025-09-18T08:58:00.282645Z"
    }
   },
   "outputs": [
    {
     "name": "stdout",
     "output_type": "stream",
     "text": [
      "{\n",
      "    \"meta\": {\n",
      "        \"status\": \"DONE\",\n",
      "        \"requestId\": \"R-60857\",\n",
      "        \"timeStamp\": \"2025-09-18T04:57:51Z\",\n",
      "        \"responseType\": \"PY_CALC\",\n",
      "        \"resultsStatus\": \"ALL\"\n",
      "    },\n",
      "    \"results\": [\n",
      "        {\n",
      "            \"py\": {\n",
      "                \"yield\": 4.660105\n",
      "            },\n",
      "            \"securityID\": \"31398GY8\"\n",
      "        }\n",
      "    ]\n",
      "}\n"
     ]
    }
   ],
   "source": [
    "# Print results in json format\n",
    "print(js.dumps(py_sync_post_response, indent=4))"
   ]
  },
  {
   "cell_type": "markdown",
   "id": "58f3289c",
   "metadata": {},
   "source": [
    "### Synchronous GET results"
   ]
  },
  {
   "cell_type": "code",
   "execution_count": 9,
   "id": "f8f13ef1",
   "metadata": {
    "execution": {
     "iopub.execute_input": "2025-09-18T08:58:00.286329Z",
     "iopub.status.busy": "2025-09-18T08:58:00.286132Z",
     "iopub.status.idle": "2025-09-18T08:58:00.289432Z",
     "shell.execute_reply": "2025-09-18T08:58:00.288874Z"
    }
   },
   "outputs": [
    {
     "name": "stdout",
     "output_type": "stream",
     "text": [
      "{\n",
      "    \"data\": {\n",
      "        \"py\": {\n",
      "            \"oas\": 8.3232,\n",
      "            \"wal\": 7.437538,\n",
      "            \"dv01\": 0.058664266,\n",
      "            \"isin\": \"US31398GY867\",\n",
      "            \"cusip\": \"31398GY86\",\n",
      "            \"price\": 99.0,\n",
      "            \"yield\": 4.661092,\n",
      "            \"ticker\": \"FNMA10.10\",\n",
      "            \"cdYield\": 0.0,\n",
      "            \"pyLevel\": \"99\",\n",
      "            \"zSpread\": 8.023667,\n",
      "            \"duration\": 5.908525,\n",
      "            \"ziSpread\": 8.023667,\n",
      "            \"znSpread\": 44.624344,\n",
      "            \"benchmark\": \"7 yr\",\n",
      "            \"className\": \"ZA\",\n",
      "            \"convexity\": 0.53,\n",
      "            \"curveDate\": \"2025-01-17\",\n",
      "            \"curveType\": \"Govt\",\n",
      "            \"fullPrice\": 99.2875,\n",
      "            \"creditLoss\": 0.0,\n",
      "            \"prepayRate\": 1.1,\n",
      "            \"prepayType\": \"CPR\",\n",
      "            \"securityID\": \"31398GY8\",\n",
      "            \"tsyCurveID\": \"USDp0117\",\n",
      "            \"accruedDays\": 23,\n",
      "            \"description\": \"FEDERAL NATIONAL MORTGAGE ASSOCIATION 2010-10 ZA\",\n",
      "            \"grossSpread\": 13.0101,\n",
      "            \"pricingDate\": \"2025-01-17\",\n",
      "            \"swapCurveID\": \"SUSp117Q2\",\n",
      "            \"currentYield\": 4.545,\n",
      "            \"effectiveWAL\": 7.4375,\n",
      "            \"maturityDate\": \"2040-02-25\",\n",
      "            \"nextCallDate\": \"2039-07-25\",\n",
      "            \"securityType\": \"CMO\",\n",
      "            \"staticSpread\": 8.0237,\n",
      "            \"volModelType\": \"LMMSOFRFLAT\",\n",
      "            \"yieldToWorst\": 4.661092,\n",
      "            \"convexityCost\": 0.0,\n",
      "            \"currentCoupon\": 4.5,\n",
      "            \"cmoProcessTime\": 2,\n",
      "            \"effectiveYield\": 4.6117,\n",
      "            \"marketSettings\": {\n",
      "                \"settlementDate\": \"2025-01-24\"\n",
      "            },\n",
      "            \"settlementDate\": \"2025-01-24\",\n",
      "            \"accruedInterest\": 0.2875,\n",
      "            \"annualizedYield\": 4.715,\n",
      "            \"compoundingFreq\": 2,\n",
      "            \"convexityEffect\": 0.0,\n",
      "            \"forwardMeasures\": {\n",
      "                \"wal\": 7.437538,\n",
      "                \"yield\": 4.661329,\n",
      "                \"margin\": 8.323,\n",
      "                \"cumulativeLoss\": 0.0,\n",
      "                \"cumulativeDefaults\": 0.0\n",
      "            },\n",
      "            \"nextPaymentDate\": \"2025-02-25\",\n",
      "            \"yearsToMaturity\": 14.5028,\n",
      "            \"yieldToNextCall\": 4.661092,\n",
      "            \"economicExposure\": 99.2875,\n",
      "            \"macaulayDuration\": 6.0462,\n",
      "            \"settleDateFactor\": 0.05059897,\n",
      "            \"spreadToActCurve\": 13.01,\n",
      "            \"spreadToTsyCurve\": 13.2603,\n",
      "            \"yieldCurveMargin\": 8.3232,\n",
      "            \"yieldToWorstCall\": 4.661092,\n",
      "            \"macaulayConvexity\": 52.4808,\n",
      "            \"spreadToBenchmark\": 14.6307,\n",
      "            \"spreadToSwapCurve\": 24.4028,\n",
      "            \"spreadToWorstCall\": 13,\n",
      "            \"currentAccrualDate\": \"2025-01-01\",\n",
      "            \"optionModelCurveID\": \"USDp0117\",\n",
      "            \"benchmarkToNextCall\": \"30 yr\",\n",
      "            \"durationToWorstCase\": 5.908525,\n",
      "            \"semiAnnualizedYield\": 4.661092,\n",
      "            \"spreadToRFRSwapCurve\": 52.7912,\n",
      "            \"yearsToFinalMaturity\": 15.086,\n",
      "            \"effectiveDurationPriceUp\": 9998.7125,\n",
      "            \"lastPrincipalPaymentDate\": \"2039-07-25\",\n",
      "            \"firstPrincipalPaymentDate\": \"2025-02-25\",\n",
      "            \"effectiveDurationPriceDown\": 9998.7125,\n",
      "            \"spreadToActCurveToNextCall\": -18.414,\n",
      "            \"spreadToTsyCurveToNextCall\": -18.414,\n",
      "            \"spreadToBenchmarkToNextCall\": -18.414,\n",
      "            \"spreadToSwapCurveToNextCall\": 33.6567,\n",
      "            \"principalWritedownCreditLoss\": 0.0,\n",
      "            \"cumulativeLossToNextCallCurrent\": 0.0,\n",
      "            \"cumulativeLossToNextCallOriginal\": 0.0,\n",
      "            \"spreadToTsyCurveAtBenchmarkTenor\": 24.6668,\n",
      "            \"cumulativeDefaultToNextCallCurrent\": 0.0,\n",
      "            \"cumulativeDefaultToNextCallOriginal\": 0.0\n",
      "        },\n",
      "        \"securityID\": \"31398GY8\"\n",
      "    },\n",
      "    \"meta\": {\n",
      "        \"status\": \"DONE\",\n",
      "        \"requestId\": \"R-60858\",\n",
      "        \"timeStamp\": \"2025-09-18T04:57:53Z\",\n",
      "        \"responseType\": \"PY_CALC\"\n",
      "    }\n",
      "}\n"
     ]
    }
   ],
   "source": [
    "# Print results in json format\n",
    "print(js.dumps(py_sync_get_response, indent=4))"
   ]
  },
  {
   "cell_type": "markdown",
   "id": "fc276423",
   "metadata": {},
   "source": [
    "### Asynchronous POST results"
   ]
  },
  {
   "cell_type": "code",
   "execution_count": 10,
   "id": "1f72db84",
   "metadata": {
    "execution": {
     "iopub.execute_input": "2025-09-18T08:58:00.292191Z",
     "iopub.status.busy": "2025-09-18T08:58:00.291618Z",
     "iopub.status.idle": "2025-09-18T08:58:00.297232Z",
     "shell.execute_reply": "2025-09-18T08:58:00.296493Z"
    }
   },
   "outputs": [
    {
     "name": "stdout",
     "output_type": "stream",
     "text": [
      "{\n",
      "    \"meta\": {\n",
      "        \"status\": \"DONE\",\n",
      "        \"requestId\": \"R-60859\",\n",
      "        \"timeStamp\": \"2025-09-18T04:57:54Z\",\n",
      "        \"responseType\": \"PY_CALC\",\n",
      "        \"resultsStatus\": \"ALL\"\n",
      "    },\n",
      "    \"results\": [\n",
      "        {\n",
      "            \"py\": {\n",
      "                \"yield\": 4.660105\n",
      "            },\n",
      "            \"securityID\": \"31398GY8\"\n",
      "        }\n",
      "    ]\n",
      "}\n"
     ]
    }
   ],
   "source": [
    "# Print results in json format\n",
    "print(js.dumps(async_post_results_response, indent=4))"
   ]
  },
  {
   "cell_type": "markdown",
   "id": "46e3c8e9",
   "metadata": {},
   "source": [
    "### Asynchronous GET results"
   ]
  },
  {
   "cell_type": "code",
   "execution_count": 11,
   "id": "c2dafd4c",
   "metadata": {
    "execution": {
     "iopub.execute_input": "2025-09-18T08:58:00.300032Z",
     "iopub.status.busy": "2025-09-18T08:58:00.299538Z",
     "iopub.status.idle": "2025-09-18T08:58:00.303187Z",
     "shell.execute_reply": "2025-09-18T08:58:00.302635Z"
    }
   },
   "outputs": [
    {
     "name": "stdout",
     "output_type": "stream",
     "text": [
      "{\n",
      "    \"data\": {\n",
      "        \"py\": {\n",
      "            \"oas\": 8.3232,\n",
      "            \"wal\": 7.437538,\n",
      "            \"dv01\": 0.058664266,\n",
      "            \"isin\": \"US31398GY867\",\n",
      "            \"cusip\": \"31398GY86\",\n",
      "            \"price\": 99.0,\n",
      "            \"yield\": 4.661092,\n",
      "            \"ticker\": \"FNMA10.10\",\n",
      "            \"cdYield\": 0.0,\n",
      "            \"pyLevel\": \"99\",\n",
      "            \"zSpread\": 8.023667,\n",
      "            \"duration\": 5.908525,\n",
      "            \"ziSpread\": 8.023667,\n",
      "            \"znSpread\": 44.624344,\n",
      "            \"benchmark\": \"7 yr\",\n",
      "            \"className\": \"ZA\",\n",
      "            \"convexity\": 0.53,\n",
      "            \"curveDate\": \"2025-01-17\",\n",
      "            \"curveType\": \"Govt\",\n",
      "            \"fullPrice\": 99.2875,\n",
      "            \"creditLoss\": 0.0,\n",
      "            \"prepayRate\": 1.1,\n",
      "            \"prepayType\": \"CPR\",\n",
      "            \"securityID\": \"31398GY8\",\n",
      "            \"tsyCurveID\": \"USDp0117\",\n",
      "            \"accruedDays\": 23,\n",
      "            \"description\": \"FEDERAL NATIONAL MORTGAGE ASSOCIATION 2010-10 ZA\",\n",
      "            \"grossSpread\": 13.0101,\n",
      "            \"pricingDate\": \"2025-01-17\",\n",
      "            \"swapCurveID\": \"SUSp117Q2\",\n",
      "            \"currentYield\": 4.545,\n",
      "            \"effectiveWAL\": 7.4375,\n",
      "            \"maturityDate\": \"2040-02-25\",\n",
      "            \"nextCallDate\": \"2039-07-25\",\n",
      "            \"securityType\": \"CMO\",\n",
      "            \"staticSpread\": 8.0237,\n",
      "            \"volModelType\": \"LMMSOFRFLAT\",\n",
      "            \"yieldToWorst\": 4.661092,\n",
      "            \"convexityCost\": 0.0,\n",
      "            \"currentCoupon\": 4.5,\n",
      "            \"cmoProcessTime\": 2,\n",
      "            \"effectiveYield\": 4.6117,\n",
      "            \"marketSettings\": {\n",
      "                \"settlementDate\": \"2025-01-24\"\n",
      "            },\n",
      "            \"settlementDate\": \"2025-01-24\",\n",
      "            \"accruedInterest\": 0.2875,\n",
      "            \"annualizedYield\": 4.715,\n",
      "            \"compoundingFreq\": 2,\n",
      "            \"convexityEffect\": 0.0,\n",
      "            \"forwardMeasures\": {\n",
      "                \"wal\": 7.437538,\n",
      "                \"yield\": 4.661329,\n",
      "                \"margin\": 8.323,\n",
      "                \"cumulativeLoss\": 0.0,\n",
      "                \"cumulativeDefaults\": 0.0\n",
      "            },\n",
      "            \"nextPaymentDate\": \"2025-02-25\",\n",
      "            \"yearsToMaturity\": 14.5028,\n",
      "            \"yieldToNextCall\": 4.661092,\n",
      "            \"economicExposure\": 99.2875,\n",
      "            \"macaulayDuration\": 6.0462,\n",
      "            \"settleDateFactor\": 0.05059897,\n",
      "            \"spreadToActCurve\": 13.01,\n",
      "            \"spreadToTsyCurve\": 13.2603,\n",
      "            \"yieldCurveMargin\": 8.3232,\n",
      "            \"yieldToWorstCall\": 4.661092,\n",
      "            \"macaulayConvexity\": 52.4808,\n",
      "            \"spreadToBenchmark\": 14.6307,\n",
      "            \"spreadToSwapCurve\": 24.4028,\n",
      "            \"spreadToWorstCall\": 13,\n",
      "            \"currentAccrualDate\": \"2025-01-01\",\n",
      "            \"optionModelCurveID\": \"USDp0117\",\n",
      "            \"benchmarkToNextCall\": \"30 yr\",\n",
      "            \"durationToWorstCase\": 5.908525,\n",
      "            \"semiAnnualizedYield\": 4.661092,\n",
      "            \"spreadToRFRSwapCurve\": 52.7912,\n",
      "            \"yearsToFinalMaturity\": 15.086,\n",
      "            \"effectiveDurationPriceUp\": 9998.7125,\n",
      "            \"lastPrincipalPaymentDate\": \"2039-07-25\",\n",
      "            \"firstPrincipalPaymentDate\": \"2025-02-25\",\n",
      "            \"effectiveDurationPriceDown\": 9998.7125,\n",
      "            \"spreadToActCurveToNextCall\": -18.414,\n",
      "            \"spreadToTsyCurveToNextCall\": -18.414,\n",
      "            \"spreadToBenchmarkToNextCall\": -18.414,\n",
      "            \"spreadToSwapCurveToNextCall\": 33.6567,\n",
      "            \"principalWritedownCreditLoss\": 0.0,\n",
      "            \"cumulativeLossToNextCallCurrent\": 0.0,\n",
      "            \"cumulativeLossToNextCallOriginal\": 0.0,\n",
      "            \"spreadToTsyCurveAtBenchmarkTenor\": 24.6668,\n",
      "            \"cumulativeDefaultToNextCallCurrent\": 0.0,\n",
      "            \"cumulativeDefaultToNextCallOriginal\": 0.0\n",
      "        },\n",
      "        \"securityID\": \"31398GY8\"\n",
      "    },\n",
      "    \"meta\": {\n",
      "        \"status\": \"DONE\",\n",
      "        \"requestId\": \"R-60860\",\n",
      "        \"timeStamp\": \"2025-09-18T04:57:59Z\",\n",
      "        \"responseType\": \"PY_CALC\"\n",
      "    }\n",
      "}\n"
     ]
    }
   ],
   "source": [
    "# Print results in json format\n",
    "print(js.dumps(async_get_results_response, indent=4))"
   ]
  }
 ],
 "metadata": {
  "kernelspec": {
   "display_name": "env",
   "language": "python",
   "name": "python3"
  },
  "language_info": {
   "codemirror_mode": {
    "name": "ipython",
    "version": 3
   },
   "file_extension": ".py",
   "mimetype": "text/x-python",
   "name": "python",
   "nbconvert_exporter": "python",
   "pygments_lexer": "ipython3",
   "version": "3.11.6"
  }
 },
 "nbformat": 4,
 "nbformat_minor": 5
}
