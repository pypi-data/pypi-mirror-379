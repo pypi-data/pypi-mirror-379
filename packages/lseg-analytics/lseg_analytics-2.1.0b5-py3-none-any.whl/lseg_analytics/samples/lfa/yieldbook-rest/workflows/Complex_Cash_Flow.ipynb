{
 "cells": [
  {
   "cell_type": "markdown",
   "id": "1a108871",
   "metadata": {},
   "source": [
    "# Complex Cash Flow"
   ]
  },
  {
   "cell_type": "markdown",
   "id": "3a4cef20",
   "metadata": {},
   "source": [
    "This notebook demonstrates how to access and use the functionalities of **Cash Flow** which are part of our **Yiedbook** module within LSEG Financial Analytics SDK. The notebook outlines the broadest complexity when performing cash flow, where all the possible set of arguments are present.\n",
    "\n",
    "The main goal of this notebook is to explore and display an approach in fetching Cash Flow information by using any of 4 available methods:\n",
    "1. Synchronous POST\n",
    "2. Synchronous GET\n",
    "3. Asynchronous POST\n",
    "4. Asynchronous GET"
   ]
  },
  {
   "cell_type": "markdown",
   "id": "7cd0ad84",
   "metadata": {},
   "source": [
    "## Imports"
   ]
  },
  {
   "cell_type": "markdown",
   "id": "37a963b7",
   "metadata": {},
   "source": [
    "Import the following necessary modules:\n",
    "\n",
    "- *post_cash_flow_sync* - main Synchronous POST method\n",
    "- *CashFlowGlobalSettings* - Class wrapper for Global Settings \n",
    "- *CashFlowInput* - Class wrapper for Input parameters\n",
    "- *json* - for display purposes "
   ]
  },
  {
   "cell_type": "code",
   "execution_count": 1,
   "id": "fb2218f1",
   "metadata": {
    "execution": {
     "iopub.execute_input": "2025-09-18T08:57:37.647833Z",
     "iopub.status.busy": "2025-09-18T08:57:37.647469Z",
     "iopub.status.idle": "2025-09-18T08:57:38.035831Z",
     "shell.execute_reply": "2025-09-18T08:57:38.035066Z"
    }
   },
   "outputs": [],
   "source": [
    "from lseg_analytics.yield_book_rest import (\n",
    "        post_cash_flow_sync,\n",
    "        get_cash_flow_sync,\n",
    "        post_cash_flow_async,\n",
    "        get_cash_flow_async,\n",
    "        get_result,\n",
    "        CashFlowGlobalSettings, \n",
    "        CashFlowInput,\n",
    "        Volatility,\n",
    "        CurveTypeAndCurrency,\n",
    "        LossSettings,\n",
    "        RestPrepaySettings,\n",
    "        CashflowFloaterSettings,\n",
    "        CashflowMbsSettings,\n",
    "        MuniSettings\n",
    ")\n",
    "import json as js\n",
    "\n",
    "import time"
   ]
  },
  {
   "cell_type": "markdown",
   "id": "b9c3dd46",
   "metadata": {},
   "source": [
    "## Data Preparation"
   ]
  },
  {
   "cell_type": "markdown",
   "id": "99cc4078",
   "metadata": {},
   "source": [
    "Cash Flow Post methods consume two input arguments: \n",
    "- Global settings \n",
    "    - settings applicable in overall cash flow calculation\n",
    "- Inputs\n",
    "    - separate parameters to describe and enable specific CF information"
   ]
  },
  {
   "cell_type": "code",
   "execution_count": 2,
   "id": "de772105",
   "metadata": {
    "execution": {
     "iopub.execute_input": "2025-09-18T08:57:38.041652Z",
     "iopub.status.busy": "2025-09-18T08:57:38.039126Z",
     "iopub.status.idle": "2025-09-18T08:57:38.054657Z",
     "shell.execute_reply": "2025-09-18T08:57:38.054172Z"
    }
   },
   "outputs": [],
   "source": [
    "# Select an ISIN or CUSIP ID of the instrument\n",
    "identifier=\"31398GY86\"\n",
    "\n",
    "# Formulate Request body parameters - Global Settings\n",
    "global_settings = CashFlowGlobalSettings(\n",
    "            pricing_date=\"2025-01-13\",\n",
    "            use_previous_close=True,\n",
    "            use_live_data=False,\n",
    "            volatility=Volatility(\n",
    "                type=\"Market\",\n",
    "                rate=1.11,\n",
    "            ),\n",
    "            retrieve_ppm_projection=False,\n",
    "            core_logic_collateral=\"DEFAULT\",\n",
    "        )\n",
    "\n",
    "\n",
    "# Formulate Request body parameters - Input \n",
    "input = CashFlowInput(\n",
    "            identifier=identifier,\n",
    "            id_type=\"CUSIP\",\n",
    "            curve=CurveTypeAndCurrency(\n",
    "                curve_type=\"GVT\",\n",
    "                currency=\"USD\",\n",
    "                retrieve_curve=False,\n",
    "                snapshot=\"EOD\",\n",
    "            ),\n",
    "            settlement_type=\"MARKET\",\n",
    "            settlement_date=\"2025-01-15\",\n",
    "            custom_settlement=\"custom_settlement\",\n",
    "            par_amount=\"10000\",\n",
    "            # Loss Settings are not moddeled for all securities, so uncomment this section only for securities with Losses modeled\n",
    "            #\n",
    "            # loss_settings=LossSettings(\n",
    "            #     default_type=\"SDA\",\n",
    "            #     default_rate=0.01,\n",
    "            #     severity_type=\"MODEL\",\n",
    "            #     severity_rate=0.01,\n",
    "            #     recovery_lag=1,\n",
    "            #     delinquency_type=\"PASS\",\n",
    "            #     delinquency_rate=0.01,\n",
    "            #     use_model_loan_modifications=False,\n",
    "            #     ignore_insurance=False,\n",
    "            # ),\n",
    "            prepay=RestPrepaySettings(\n",
    "                type=\"Model\",\n",
    "                rate=0.01,\n",
    "            ),\n",
    "            floater_settings=CashflowFloaterSettings(\n",
    "                use_forward_index=True,\n",
    "                forward_index_rate=0.01,\n",
    "                calculate_to_maturity=False,\n",
    "            ),\n",
    "            muni_settings=MuniSettings(\n",
    "                paydown_optional=False, \n",
    "                ignore_call_info=False, \n",
    "                use_stub_rate=False\n",
    "            ),\n",
    "            mbs_settings=CashflowMbsSettings(\n",
    "                use_roll_info=False, \n",
    "                assume_call=False, \n",
    "                step_down_fail=False, \n",
    "                show_collateral_cash_flow=False\n",
    "            )\n",
    ")"
   ]
  },
  {
   "cell_type": "markdown",
   "id": "a120b720",
   "metadata": {},
   "source": [
    "## Synchronous POST Data retrieval\n",
    "\n",
    "Once the input arguments are ready, they can be passed through the main method for data retrieval."
   ]
  },
  {
   "cell_type": "code",
   "execution_count": 3,
   "id": "bb2ba0b4",
   "metadata": {
    "execution": {
     "iopub.execute_input": "2025-09-18T08:57:38.057347Z",
     "iopub.status.busy": "2025-09-18T08:57:38.057056Z",
     "iopub.status.idle": "2025-09-18T08:57:39.933230Z",
     "shell.execute_reply": "2025-09-18T08:57:39.932166Z"
    }
   },
   "outputs": [],
   "source": [
    "# Execute Post sync request with prepared inputs\n",
    "cf_sync_post_response = post_cash_flow_sync(\n",
    "                            global_settings=global_settings,\n",
    "                            input=[input]\n",
    "                        )"
   ]
  },
  {
   "cell_type": "markdown",
   "id": "4556c1e6",
   "metadata": {},
   "source": [
    "## Synchronous GET Data retrieval\n",
    "\n",
    "As opposed to the POST method, the GET method requires the identifier itself and the par amount. The remaining arguments are optional."
   ]
  },
  {
   "cell_type": "code",
   "execution_count": 4,
   "id": "e6ff74f1",
   "metadata": {
    "execution": {
     "iopub.execute_input": "2025-09-18T08:57:39.936362Z",
     "iopub.status.busy": "2025-09-18T08:57:39.936113Z",
     "iopub.status.idle": "2025-09-18T08:57:41.002612Z",
     "shell.execute_reply": "2025-09-18T08:57:41.001522Z"
    }
   },
   "outputs": [],
   "source": [
    "# Formulate and execute the get request by using instrument ID and Par_amount\n",
    "cf_sync_get_response = get_cash_flow_sync(\n",
    "            id='999818LH',\n",
    "            id_type=\"CUSIP\",\n",
    "            pricing_date=\"2021-01-01\",\n",
    "            par_amount=\"10000\"\n",
    "        )"
   ]
  },
  {
   "cell_type": "markdown",
   "id": "6b920fcb",
   "metadata": {},
   "source": [
    "## Asynchronous POST Data retrieval\n",
    "\n",
    "The main difference between the Sync and Async approach is that Async methods allow execution of code on the user's side while waiting for a response. Once execution is complete, the user can 'collect' the results whenever they need them.\n",
    "\n",
    "So this approach has 2 steps:\n",
    "1. Provide input data to execution method\n",
    "2. Use the request_id received in step 1 to retrieve the result."
   ]
  },
  {
   "cell_type": "code",
   "execution_count": 5,
   "id": "38b59671",
   "metadata": {
    "execution": {
     "iopub.execute_input": "2025-09-18T08:57:41.005883Z",
     "iopub.status.busy": "2025-09-18T08:57:41.005668Z",
     "iopub.status.idle": "2025-09-18T08:57:44.517550Z",
     "shell.execute_reply": "2025-09-18T08:57:44.516915Z"
    }
   },
   "outputs": [
    {
     "name": "stdout",
     "output_type": "stream",
     "text": [
      "[ERROR]\t[2025-09-18 08:57:41,243]\t[MainThread]\t[lseg_analytics.yield_book_rest]\t[_functions.py:8525]\t Error get_result.\n",
      "[ERROR]\t[2025-09-18 08:57:41,244]\t[MainThread]\t[lseg_analytics]\t[exceptions.py:78]\t Exception: Resource not found: code=404 {'meta': {'requestId': 'R-60855', 'status': 'RUNNING', 'responseType': 'CASHFLOW', 'message': 'The result is not ready yet for requestID:R-60855', 'interval': 0.1}}\n",
      "Attempt 1 resulted in error retrieving results from:R-60855\n"
     ]
    }
   ],
   "source": [
    "# Request bond CF with async post\n",
    "cf_async_post_response = post_cash_flow_async(\n",
    "            global_settings=global_settings,\n",
    "            input=[input]\n",
    "        )\n",
    "\n",
    "attempt = 1\n",
    "\n",
    "while attempt < 10:\n",
    "\n",
    "    from lseg_analytics.exceptions import ResourceNotFound\n",
    "    try:\n",
    "        # Request bond indic with async post\n",
    "        async_post_results_response = get_result(request_id_parameter=cf_async_post_response.request_id)\n",
    "        break\n",
    "    except Exception as err:\n",
    "        print(f\"Attempt \" + str(\n",
    "            attempt) + \" resulted in error retrieving results from:\" + cf_async_post_response.request_id)\n",
    "        if (isinstance(err, ResourceNotFound)\n",
    "                and f\"The result is not ready yet for requestID:{cf_async_post_response.request_id}\" in str(err)):\n",
    "            time.sleep(3)\n",
    "            attempt += 1\n",
    "        else:\n",
    "            raise err"
   ]
  },
  {
   "cell_type": "markdown",
   "id": "e607c75c",
   "metadata": {},
   "source": [
    "## Asynchronous GET Data retrieval\n",
    "\n",
    "Difference between Sync and Async can be found in description above.\n",
    "\n",
    "As Async execution is in queue-form it's not necessarily instantly finished. It can take time between submission of request and execution, and results are not in real-time.\n",
    "\n",
    "Hence we present also the form of iterative results-request repetition to fetch the results as soon as they are ready.\n",
    "\n",
    "**NOTE:** Alternative to this is wrapping the request in the job, and then using a method to check the job status. See the fundamentals notebook for information on jobs."
   ]
  },
  {
   "cell_type": "code",
   "execution_count": 6,
   "id": "fee1ee3d",
   "metadata": {
    "execution": {
     "iopub.execute_input": "2025-09-18T08:57:44.520605Z",
     "iopub.status.busy": "2025-09-18T08:57:44.520370Z",
     "iopub.status.idle": "2025-09-18T08:57:48.041765Z",
     "shell.execute_reply": "2025-09-18T08:57:48.041226Z"
    }
   },
   "outputs": [
    {
     "name": "stdout",
     "output_type": "stream",
     "text": [
      "[ERROR]\t[2025-09-18 08:57:44,753]\t[MainThread]\t[lseg_analytics.yield_book_rest]\t[_functions.py:8525]\t Error get_result.\n",
      "[ERROR]\t[2025-09-18 08:57:44,757]\t[MainThread]\t[lseg_analytics]\t[exceptions.py:78]\t Exception: Resource not found: code=404 {'meta': {'requestId': 'R-60856', 'status': 'RUNNING', 'responseType': 'CASHFLOW', 'message': 'The result is not ready yet for requestID:R-60856', 'interval': 0.1}}\n",
      "Attempt 1 resulted in error retrieving results from:R-60856\n"
     ]
    }
   ],
   "source": [
    "# Formulate and execute the get request by using instrument ID, Par_amount and job in which the calculation will be done\n",
    "cf_async_get_response = get_cash_flow_async(\n",
    "            id='999818LH',\n",
    "            id_type=\"CUSIP\",\n",
    "            pricing_date=\"2021-01-01\",\n",
    "            par_amount=\"10000\"\n",
    "        )\n",
    "\n",
    "# Due to async nature, code Will perform the fetch 10 times, as result is not always ready instantly, with 3 second lapse between attempts\n",
    "attempt = 1\n",
    "\n",
    "while attempt < 10:\n",
    "\n",
    "    from lseg_analytics.exceptions import ResourceNotFound\n",
    "    try:\n",
    "        # Request bond indic with async post\n",
    "        async_get_results_response = get_result(request_id_parameter=cf_async_get_response.request_id)\n",
    "        break\n",
    "    except Exception as err:\n",
    "        print(f\"Attempt \" + str(\n",
    "            attempt) + \" resulted in error retrieving results from:\" + cf_async_get_response.request_id)\n",
    "        if (isinstance(err, ResourceNotFound)\n",
    "                and f\"The result is not ready yet for requestID:{cf_async_get_response.request_id}\" in str(err)):\n",
    "            time.sleep(3)\n",
    "            attempt += 1\n",
    "        else:\n",
    "            raise err"
   ]
  },
  {
   "cell_type": "markdown",
   "id": "6b7ec6ed",
   "metadata": {},
   "source": [
    "## Display results"
   ]
  },
  {
   "cell_type": "markdown",
   "id": "5a4bd41e",
   "metadata": {},
   "source": [
    "Results data is structured in JSON format so it can be easily displayed using print function."
   ]
  },
  {
   "cell_type": "markdown",
   "id": "aee8130d",
   "metadata": {},
   "source": [
    "### Synchronous POST results"
   ]
  },
  {
   "cell_type": "code",
   "execution_count": 7,
   "id": "6be03632",
   "metadata": {
    "execution": {
     "iopub.execute_input": "2025-09-18T08:57:48.044635Z",
     "iopub.status.busy": "2025-09-18T08:57:48.044225Z",
     "iopub.status.idle": "2025-09-18T08:57:48.050440Z",
     "shell.execute_reply": "2025-09-18T08:57:48.049842Z"
    }
   },
   "outputs": [],
   "source": [
    "# Print output to a file, as CF output is too long for terminal printout\n",
    "print(js.dumps(cf_sync_post_response, indent=4), file=open('CF_output_Sync_Post.json', 'w+'))"
   ]
  },
  {
   "cell_type": "markdown",
   "id": "58f3289c",
   "metadata": {},
   "source": [
    "### Synchronous GET results"
   ]
  },
  {
   "cell_type": "code",
   "execution_count": 8,
   "id": "f8f13ef1",
   "metadata": {
    "execution": {
     "iopub.execute_input": "2025-09-18T08:57:48.052561Z",
     "iopub.status.busy": "2025-09-18T08:57:48.052346Z",
     "iopub.status.idle": "2025-09-18T08:57:48.058015Z",
     "shell.execute_reply": "2025-09-18T08:57:48.057567Z"
    }
   },
   "outputs": [],
   "source": [
    "# Print output to a file, as CF output is too long for terminal printout\n",
    "print(js.dumps(cf_sync_get_response, indent=4), file=open('CF_output_Sync_Get.json', 'w+'))"
   ]
  },
  {
   "cell_type": "markdown",
   "id": "fc276423",
   "metadata": {},
   "source": [
    "### Asynchronous POST results"
   ]
  },
  {
   "cell_type": "code",
   "execution_count": 9,
   "id": "1f72db84",
   "metadata": {
    "execution": {
     "iopub.execute_input": "2025-09-18T08:57:48.060076Z",
     "iopub.status.busy": "2025-09-18T08:57:48.059820Z",
     "iopub.status.idle": "2025-09-18T08:57:48.065688Z",
     "shell.execute_reply": "2025-09-18T08:57:48.065084Z"
    }
   },
   "outputs": [],
   "source": [
    "# Print results in json format\n",
    "print(js.dumps(async_post_results_response, indent=4), file=open('CF_output_Async_Post.json', 'w+'))"
   ]
  },
  {
   "cell_type": "markdown",
   "id": "46e3c8e9",
   "metadata": {},
   "source": [
    "### Asynchronous GET results"
   ]
  },
  {
   "cell_type": "code",
   "execution_count": 10,
   "id": "c2dafd4c",
   "metadata": {
    "execution": {
     "iopub.execute_input": "2025-09-18T08:57:48.068196Z",
     "iopub.status.busy": "2025-09-18T08:57:48.067830Z",
     "iopub.status.idle": "2025-09-18T08:57:48.075475Z",
     "shell.execute_reply": "2025-09-18T08:57:48.074852Z"
    }
   },
   "outputs": [],
   "source": [
    "# Print results in json format\n",
    "print(js.dumps(async_get_results_response, indent=4), file=open('CF_output_Async_Get.json', 'w+'))"
   ]
  }
 ],
 "metadata": {
  "kernelspec": {
   "display_name": "env",
   "language": "python",
   "name": "python3"
  },
  "language_info": {
   "codemirror_mode": {
    "name": "ipython",
    "version": 3
   },
   "file_extension": ".py",
   "mimetype": "text/x-python",
   "name": "python",
   "nbconvert_exporter": "python",
   "pygments_lexer": "ipython3",
   "version": "3.11.6"
  }
 },
 "nbformat": 4,
 "nbformat_minor": 5
}
