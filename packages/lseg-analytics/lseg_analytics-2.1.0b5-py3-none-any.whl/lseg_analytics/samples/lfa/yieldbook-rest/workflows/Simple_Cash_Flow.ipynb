{
 "cells": [
  {
   "cell_type": "markdown",
   "id": "1a108871",
   "metadata": {},
   "source": [
    "# Simple Cash Flow"
   ]
  },
  {
   "cell_type": "markdown",
   "id": "3a4cef20",
   "metadata": {},
   "source": [
    "This notebook demonstrates how to access and use the functionalities of **Cash Flow** which are part of our **Yiedbook** module within LSEG Financial Analytics SDK. The notebook outlines the most simple method of using performing cash flow, where only the required set of arguments are present.\n",
    "\n",
    "The main goal of this notebook is to explore and display an approach in fetching Cash Flow information by using synchronous POST method.\n",
    "1. Synchronous POST\n",
    "2. Synchronous GET\n",
    "3. Asynchronous POST\n",
    "4. Asynchronous GET"
   ]
  },
  {
   "cell_type": "markdown",
   "id": "7cd0ad84",
   "metadata": {},
   "source": [
    "## Imports"
   ]
  },
  {
   "cell_type": "markdown",
   "id": "37a963b7",
   "metadata": {},
   "source": [
    "Import the following necessary modules:\n",
    "\n",
    "- *post_cash_flow_sync* - main Synchronous POST method\n",
    "- *CashFlowGlobalSettings* - Class wrapper for Global Settings \n",
    "- *CashFlowInput* - Class wrapper for Input parameters\n",
    "- *json* - for display purposes "
   ]
  },
  {
   "cell_type": "code",
   "execution_count": 1,
   "id": "fb2218f1",
   "metadata": {
    "execution": {
     "iopub.execute_input": "2025-09-18T08:58:16.267566Z",
     "iopub.status.busy": "2025-09-18T08:58:16.267179Z",
     "iopub.status.idle": "2025-09-18T08:58:16.664346Z",
     "shell.execute_reply": "2025-09-18T08:58:16.663742Z"
    }
   },
   "outputs": [],
   "source": [
    "from lseg_analytics.yield_book_rest import (\n",
    "        post_cash_flow_sync,\n",
    "        get_cash_flow_sync,\n",
    "        post_cash_flow_async,\n",
    "        get_cash_flow_async,\n",
    "        get_result,\n",
    "        CashFlowGlobalSettings, \n",
    "        CashFlowInput,\n",
    ")\n",
    "import json as js\n",
    "\n",
    "import time"
   ]
  },
  {
   "cell_type": "markdown",
   "id": "b9c3dd46",
   "metadata": {},
   "source": [
    "## Data Preparation"
   ]
  },
  {
   "cell_type": "markdown",
   "id": "99cc4078",
   "metadata": {},
   "source": [
    "Cash Flow Post methods consume two input arguments: \n",
    "- Global settings \n",
    "    - settings applicable in overall cash flow calculation\n",
    "- Inputs\n",
    "    - separate parameters to describe and enable specific CF information"
   ]
  },
  {
   "cell_type": "code",
   "execution_count": 2,
   "id": "de772105",
   "metadata": {
    "execution": {
     "iopub.execute_input": "2025-09-18T08:58:16.668555Z",
     "iopub.status.busy": "2025-09-18T08:58:16.666858Z",
     "iopub.status.idle": "2025-09-18T08:58:16.674389Z",
     "shell.execute_reply": "2025-09-18T08:58:16.673758Z"
    }
   },
   "outputs": [],
   "source": [
    "# Select an ISIN or CUSIP ID of the instrument\n",
    "identifier=\"31398GY86\"\n",
    "\n",
    "# Formulate Request body parameters - Global Settings\n",
    "global_settings = CashFlowGlobalSettings(\n",
    "            pricing_date=\"2025-01-13\",\n",
    "        )\n",
    "\n",
    "\n",
    "# Formulate Request body parameters - Input \n",
    "input = CashFlowInput(\n",
    "            identifier=identifier,\n",
    "            par_amount=\"10000\",\n",
    "            \n",
    ")"
   ]
  },
  {
   "cell_type": "markdown",
   "id": "a120b720",
   "metadata": {},
   "source": [
    "## Synchronous POST Data retrieval\n",
    "\n",
    "Once the input arguments are ready, they can be passed through the main method for data retrieval."
   ]
  },
  {
   "cell_type": "code",
   "execution_count": 3,
   "id": "bb2ba0b4",
   "metadata": {
    "execution": {
     "iopub.execute_input": "2025-09-18T08:58:16.678865Z",
     "iopub.status.busy": "2025-09-18T08:58:16.678470Z",
     "iopub.status.idle": "2025-09-18T08:58:18.044592Z",
     "shell.execute_reply": "2025-09-18T08:58:18.043932Z"
    }
   },
   "outputs": [],
   "source": [
    "# Execute Post sync request with prepared inputs\n",
    "cf_sync_post_response = post_cash_flow_sync(\n",
    "                            global_settings=global_settings,\n",
    "                            input=[input]\n",
    "                        )"
   ]
  },
  {
   "cell_type": "markdown",
   "id": "4556c1e6",
   "metadata": {},
   "source": [
    "## Synchronous GET Data retrieval\n",
    "\n",
    "As opposed to the POST method, the GET method requires the identifier itself and the par amount. The remaining arguments are optional"
   ]
  },
  {
   "cell_type": "code",
   "execution_count": 4,
   "id": "e6ff74f1",
   "metadata": {
    "execution": {
     "iopub.execute_input": "2025-09-18T08:58:18.047751Z",
     "iopub.status.busy": "2025-09-18T08:58:18.047501Z",
     "iopub.status.idle": "2025-09-18T08:58:19.545339Z",
     "shell.execute_reply": "2025-09-18T08:58:19.544806Z"
    }
   },
   "outputs": [],
   "source": [
    "# Formulate and execute the get request by using instrument ID and Par_amount\n",
    "cf_sync_get_response = get_cash_flow_sync(\n",
    "            id='999818LH',                                  \n",
    "            par_amount=\"10000\"\n",
    "        )"
   ]
  },
  {
   "cell_type": "markdown",
   "id": "6b920fcb",
   "metadata": {},
   "source": [
    "## Asynchronous POST Data retrieval\n",
    "\n",
    "The main difference between the Sync and Async approach is that Async methods allow execution of code on the user's side while waiting for a response. Once execution is complete, the user can 'collect' the results whenever they need them.\n",
    "\n",
    "So this approach has 2 steps:\n",
    "1. Provide input data to execution method\n",
    "2. Use the request_id received in step 1 to retrieve the result."
   ]
  },
  {
   "cell_type": "code",
   "execution_count": 5,
   "id": "38b59671",
   "metadata": {
    "execution": {
     "iopub.execute_input": "2025-09-18T08:58:19.548595Z",
     "iopub.status.busy": "2025-09-18T08:58:19.548093Z",
     "iopub.status.idle": "2025-09-18T08:58:23.063268Z",
     "shell.execute_reply": "2025-09-18T08:58:23.062539Z"
    }
   },
   "outputs": [
    {
     "name": "stdout",
     "output_type": "stream",
     "text": [
      "[ERROR]\t[2025-09-18 08:58:19,789]\t[MainThread]\t[lseg_analytics.yield_book_rest]\t[_functions.py:8525]\t Error get_result.\n",
      "[ERROR]\t[2025-09-18 08:58:19,791]\t[MainThread]\t[lseg_analytics]\t[exceptions.py:78]\t Exception: Resource not found: code=404 {'meta': {'requestId': 'R-60869', 'status': 'RUNNING', 'responseType': 'CASHFLOW', 'message': 'The result is not ready yet for requestID:R-60869', 'interval': 0.1}}\n",
      "Attempt 1 resulted in error retrieving results from:R-60869\n"
     ]
    }
   ],
   "source": [
    "# Request bond CF with async post\n",
    "cf_async_post_response = post_cash_flow_async(\n",
    "            global_settings=global_settings,\n",
    "            input=[input]\n",
    "        )\n",
    "\n",
    "attempt = 1\n",
    "\n",
    "while attempt < 10:\n",
    "\n",
    "    from lseg_analytics.exceptions import ResourceNotFound\n",
    "    try:\n",
    "        # Request bond indic with async post\n",
    "        async_post_results_response = get_result(request_id_parameter=cf_async_post_response.request_id)\n",
    "        break\n",
    "    except Exception as err:\n",
    "        print(f\"Attempt \" + str(\n",
    "            attempt) + \" resulted in error retrieving results from:\" + cf_async_post_response.request_id)\n",
    "        if (isinstance(err, ResourceNotFound)\n",
    "                and f\"The result is not ready yet for requestID:{cf_async_post_response.request_id}\" in str(err)):\n",
    "            time.sleep(3)\n",
    "            attempt += 1\n",
    "        else:\n",
    "            raise err"
   ]
  },
  {
   "cell_type": "markdown",
   "id": "e607c75c",
   "metadata": {},
   "source": [
    "## Asynchronous GET Data retrieval\n",
    "\n",
    "Difference between Sync and Async can be found in description above.\n",
    "\n",
    "As Async execution is in queue-form it's not necessarily instantly finished. It can take time between submission of request and execution, and results are not in real-time.\n",
    "\n",
    "Hence we present also the form of iterative results-request repetition to fetch the results as soon as they are ready.\n",
    "\n",
    "**NOTE:** Alternative to this is wrapping the request in the job, and then using a method to check the job status. See the fundamentals notebook for information on jobs."
   ]
  },
  {
   "cell_type": "code",
   "execution_count": 6,
   "id": "fee1ee3d",
   "metadata": {
    "execution": {
     "iopub.execute_input": "2025-09-18T08:58:23.066236Z",
     "iopub.status.busy": "2025-09-18T08:58:23.066019Z",
     "iopub.status.idle": "2025-09-18T08:58:26.577206Z",
     "shell.execute_reply": "2025-09-18T08:58:26.576608Z"
    }
   },
   "outputs": [
    {
     "name": "stdout",
     "output_type": "stream",
     "text": [
      "[ERROR]\t[2025-09-18 08:58:23,312]\t[MainThread]\t[lseg_analytics.yield_book_rest]\t[_functions.py:8525]\t Error get_result.\n",
      "[ERROR]\t[2025-09-18 08:58:23,313]\t[MainThread]\t[lseg_analytics]\t[exceptions.py:78]\t Exception: Resource not found: code=404 {'meta': {'requestId': 'R-60870', 'status': 'RUNNING', 'responseType': 'CASHFLOW', 'message': 'The result is not ready yet for requestID:R-60870', 'interval': 0.1}}\n",
      "Attempt 1 resulted in error retrieving results from:R-60870\n"
     ]
    }
   ],
   "source": [
    "# Formulate and execute the get request by using instrument ID, Par_amount and job in which the calculation will be done\n",
    "cf_async_get_response = get_cash_flow_async(\n",
    "            id='999818LH',\n",
    "            par_amount=\"10000\"\n",
    "        )\n",
    "\n",
    "# Due to async nature, code Will perform the fetch 10 times, as result is not always ready instantly, with 3 second lapse between attempts\n",
    "attempt = 1\n",
    "\n",
    "while attempt < 10:\n",
    "\n",
    "    from lseg_analytics.exceptions import ResourceNotFound\n",
    "    try:\n",
    "        # Request bond indic with async post\n",
    "        async_get_results_response = get_result(request_id_parameter=cf_async_get_response.request_id)\n",
    "        break\n",
    "    except Exception as err:\n",
    "        print(f\"Attempt \" + str(\n",
    "            attempt) + \" resulted in error retrieving results from:\" + cf_async_get_response.request_id)\n",
    "        if (isinstance(err, ResourceNotFound)\n",
    "                and f\"The result is not ready yet for requestID:{cf_async_get_response.request_id}\" in str(err)):\n",
    "            time.sleep(3)\n",
    "            attempt += 1\n",
    "        else:\n",
    "            raise err"
   ]
  },
  {
   "cell_type": "markdown",
   "id": "6b7ec6ed",
   "metadata": {},
   "source": [
    "## Display results"
   ]
  },
  {
   "cell_type": "markdown",
   "id": "5a4bd41e",
   "metadata": {},
   "source": [
    "Results data is structured in JSON format so it can be easily displayed using print function."
   ]
  },
  {
   "cell_type": "markdown",
   "id": "aee8130d",
   "metadata": {},
   "source": [
    "### Synchronous POST results"
   ]
  },
  {
   "cell_type": "code",
   "execution_count": 7,
   "id": "6be03632",
   "metadata": {
    "execution": {
     "iopub.execute_input": "2025-09-18T08:58:26.579841Z",
     "iopub.status.busy": "2025-09-18T08:58:26.579497Z",
     "iopub.status.idle": "2025-09-18T08:58:26.586221Z",
     "shell.execute_reply": "2025-09-18T08:58:26.585728Z"
    }
   },
   "outputs": [],
   "source": [
    "# Print output to a file, as CF output is too long for terminal printout\n",
    "print(js.dumps(cf_sync_post_response, indent=4), file=open('CF_output_Sync_Post.json', 'w+'))"
   ]
  },
  {
   "cell_type": "markdown",
   "id": "58f3289c",
   "metadata": {},
   "source": [
    "### Synchronous GET results"
   ]
  },
  {
   "cell_type": "code",
   "execution_count": 8,
   "id": "f8f13ef1",
   "metadata": {
    "execution": {
     "iopub.execute_input": "2025-09-18T08:58:26.588168Z",
     "iopub.status.busy": "2025-09-18T08:58:26.587851Z",
     "iopub.status.idle": "2025-09-18T08:58:26.592848Z",
     "shell.execute_reply": "2025-09-18T08:58:26.592370Z"
    }
   },
   "outputs": [],
   "source": [
    "# Print output to a file, as CF output is too long for terminal printout\n",
    "print(js.dumps(cf_sync_get_response, indent=4), file=open('CF_output_Sync_Get.json', 'w+'))"
   ]
  },
  {
   "cell_type": "markdown",
   "id": "fc276423",
   "metadata": {},
   "source": [
    "### Asynchronous POST results"
   ]
  },
  {
   "cell_type": "code",
   "execution_count": 9,
   "id": "1f72db84",
   "metadata": {
    "execution": {
     "iopub.execute_input": "2025-09-18T08:58:26.595022Z",
     "iopub.status.busy": "2025-09-18T08:58:26.594576Z",
     "iopub.status.idle": "2025-09-18T08:58:26.601267Z",
     "shell.execute_reply": "2025-09-18T08:58:26.600708Z"
    }
   },
   "outputs": [],
   "source": [
    "# Print results in json format\n",
    "print(js.dumps(async_post_results_response, indent=4), file=open('CF_output_Async_Post.json', 'w+'))"
   ]
  },
  {
   "cell_type": "markdown",
   "id": "46e3c8e9",
   "metadata": {},
   "source": [
    "### Asynchronous GET results"
   ]
  },
  {
   "cell_type": "code",
   "execution_count": 10,
   "id": "c2dafd4c",
   "metadata": {
    "execution": {
     "iopub.execute_input": "2025-09-18T08:58:26.603617Z",
     "iopub.status.busy": "2025-09-18T08:58:26.603248Z",
     "iopub.status.idle": "2025-09-18T08:58:26.610283Z",
     "shell.execute_reply": "2025-09-18T08:58:26.609772Z"
    }
   },
   "outputs": [],
   "source": [
    "# Print results in json format\n",
    "print(js.dumps(async_get_results_response, indent=4), file=open('CF_output_Async_Get.json', 'w+'))"
   ]
  }
 ],
 "metadata": {
  "kernelspec": {
   "display_name": "env",
   "language": "python",
   "name": "python3"
  },
  "language_info": {
   "codemirror_mode": {
    "name": "ipython",
    "version": 3
   },
   "file_extension": ".py",
   "mimetype": "text/x-python",
   "name": "python",
   "nbconvert_exporter": "python",
   "pygments_lexer": "ipython3",
   "version": "3.11.6"
  }
 },
 "nbformat": 4,
 "nbformat_minor": 5
}
