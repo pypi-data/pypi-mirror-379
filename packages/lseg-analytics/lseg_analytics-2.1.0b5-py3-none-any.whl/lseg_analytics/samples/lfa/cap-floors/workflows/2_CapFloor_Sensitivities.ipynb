{
 "cells": [
  {
   "cell_type": "markdown",
   "id": "1a108871",
   "metadata": {},
   "source": [
    "# CapFloor Sensitivities"
   ]
  },
  {
   "cell_type": "markdown",
   "id": "1ae7da03",
   "metadata": {},
   "source": [
    "This second notebook in the Cap & Floor SDK series builds upon the Fundamentals Template and demonstrates advanced **sensitivities analysis** within the **LSEG Financial Analytics SDK**. \n",
    "\n",
    "\n",
    "**You will be able to:**\n",
    "- Define Cap/Floor instruments with basic parameters \n",
    "- Price and evaluate Cap/Floor sensitivities\n",
    "- Analyze Cap/Floor & Caplets/Floorlets sensitivities\n",
    "- Visualize Cap/Floor sensitivities values for comprehensive risk analysis\n"
   ]
  },
  {
   "cell_type": "markdown",
   "id": "9aa5f76b",
   "metadata": {},
   "source": [
    "## Imports\n"
   ]
  },
  {
   "cell_type": "markdown",
   "id": "569d770e",
   "metadata": {},
   "source": [
    "Import the following necessary modules:\n",
    "\n",
    "- `lseg_analytics.instruments.cap_floor` - for CapFloor instruments definitions and analytics"
   ]
  },
  {
   "cell_type": "code",
   "execution_count": 1,
   "id": "a6cd17c8",
   "metadata": {
    "execution": {
     "iopub.execute_input": "2025-09-18T09:06:29.750328Z",
     "iopub.status.busy": "2025-09-18T09:06:29.750013Z",
     "iopub.status.idle": "2025-09-18T09:06:30.870721Z",
     "shell.execute_reply": "2025-09-18T09:06:30.870023Z"
    }
   },
   "outputs": [],
   "source": [
    "from lseg_analytics.instruments import cap_floor as cf\n",
    "\n",
    "import pandas as pd\n",
    "import datetime as dt\n",
    "import matplotlib.pyplot as plt\n",
    "from IPython.display import display"
   ]
  },
  {
   "cell_type": "markdown",
   "id": "9b0cc193",
   "metadata": {},
   "source": [
    "## Data Preparation\n",
    "\n",
    "To define a Cap/Floor instrument you need to follow a structured 3-step process:\n",
    "\n",
    "1. **CapFloor Definition** - Specify basic cap/floor parameters (strike, dates, notional, index)\n",
    "2. **CapFloor Instrument Definition** - Create the instrument object\n",
    "3. **Pricing Preferences** - Configure pricing parameters, optional\n"
   ]
  },
  {
   "cell_type": "code",
   "execution_count": 2,
   "id": "4162a7ad",
   "metadata": {
    "execution": {
     "iopub.execute_input": "2025-09-18T09:06:30.876597Z",
     "iopub.status.busy": "2025-09-18T09:06:30.873615Z",
     "iopub.status.idle": "2025-09-18T09:06:30.888034Z",
     "shell.execute_reply": "2025-09-18T09:06:30.887527Z"
    }
   },
   "outputs": [
    {
     "name": "stdout",
     "output_type": "stream",
     "text": [
      "Instrument definition created\n",
      "Pricing parameters configured\n"
     ]
    }
   ],
   "source": [
    "# 1. Define the cap instrument\n",
    "cap_definition = cf.IPACapFloorDefinition(\n",
    "    buy_sell = cf.IPABuySellEnum.BUY.value,                                   # Buy cap protection\n",
    "    cap_strike_percent = 2.0,                                                 # 2% strike rate\n",
    "    start_date = dt.datetime.strptime(\"2025-01-01\", \"%Y-%m-%d\"),              # Start date\n",
    "    end_date = dt.datetime.strptime(\"2030-01-01\", \"%Y-%m-%d\"),                # Maturity date\n",
    "    notional_amount = 1_000_000,                                              # $1M notional\n",
    "    notional_ccy = \"USD\",                                                     # USD currency\n",
    "    index_name = \"SOFR\",                                                      # SOFR index\n",
    "    index_tenor = \"ON\",\n",
    "    interest_payment_frequency = cf.IndexResetFrequencyEnum.QUARTERLY.value,  # Quarterly payments\n",
    ")\n",
    "\n",
    "cap_instrument = cf.IPACapFloorDefinitionInstrument(definition = cap_definition)\n",
    "print(\"Instrument definition created\")\n",
    "\n",
    "# 2. Configure pricing parameters\n",
    "pricing_params = cf.CapFloorPricingParameters(\n",
    "    valuation_date = dt.datetime.strptime(\"2025-07-18\", \"%Y-%m-%d\"),                \n",
    ")\n",
    "print(\"Pricing parameters configured\")"
   ]
  },
  {
   "cell_type": "markdown",
   "id": "f4f8db96",
   "metadata": {},
   "source": [
    "## Request Execution"
   ]
  },
  {
   "cell_type": "code",
   "execution_count": 3,
   "id": "3f084843",
   "metadata": {
    "execution": {
     "iopub.execute_input": "2025-09-18T09:06:30.890156Z",
     "iopub.status.busy": "2025-09-18T09:06:30.889845Z",
     "iopub.status.idle": "2025-09-18T09:06:32.800533Z",
     "shell.execute_reply": "2025-09-18T09:06:32.799864Z"
    }
   },
   "outputs": [
    {
     "name": "stdout",
     "output_type": "stream",
     "text": [
      "Pricing execution completed\n"
     ]
    }
   ],
   "source": [
    "#  Execute the calculation using the price() function\n",
    "# The 'definitions' parameter accepts a list of instruments definitions for batch processing\n",
    "\n",
    "response = cf.price(\n",
    "    definitions = [cap_instrument],\n",
    "    pricing_preferences = pricing_params\n",
    ")\n",
    "\n",
    "print(\"Pricing execution completed\")\n"
   ]
  },
  {
   "cell_type": "markdown",
   "id": "e4138163",
   "metadata": {},
   "source": [
    "## Results Display"
   ]
  },
  {
   "cell_type": "markdown",
   "id": "15000b7d",
   "metadata": {},
   "source": [
    "#### Key Sections in the `response` JSON\n",
    "\n",
    " - **definitions**: Instrument setup (e.g., strike, dates, notional, index), it's IPACapFloorDefinition that we used. \n",
    "\n",
    " - **pricingPreferences**: Valuation date, price side, currency, skip first caplet.\n",
    "\n",
    " - **analytics**:\n",
    "   - **tabularData**: `data`, `headers`, `statuses`\n",
    "   - **cashflows**: Includes arrays and detailed `cashFlows` (payments, fixings)\n",
    "   - **description**: Instrument summary IPACapFloorDefinition and also the default fields not specified in the IPACapFloorDefinition, but used by default in the calculation\n",
    "   - **greeks**: Sensitivities to market movement at Cap/Floor and Caplet/Floolet levels\n",
    "   - **pricingAnalysis**: `atmStrikePercent`, `impliedVolatilityPercent`, `spreadEquivalentBp`\n",
    "   - **valuation**: `marketValueInDealCcy`, `premiumPercent`, `premiumBp`\n",
    "   - **error**: provides the root cause of the issue, if any"
   ]
  },
  {
   "cell_type": "markdown",
   "id": "28c76313",
   "metadata": {},
   "source": [
    "#### Cap/Floor Greeks"
   ]
  },
  {
   "cell_type": "code",
   "execution_count": 4,
   "id": "1e2d73ab",
   "metadata": {
    "execution": {
     "iopub.execute_input": "2025-09-18T09:06:32.803102Z",
     "iopub.status.busy": "2025-09-18T09:06:32.802879Z",
     "iopub.status.idle": "2025-09-18T09:06:32.812374Z",
     "shell.execute_reply": "2025-09-18T09:06:32.811828Z"
    }
   },
   "outputs": [
    {
     "data": {
      "text/html": [
       "<div>\n",
       "<style scoped>\n",
       "    .dataframe tbody tr th:only-of-type {\n",
       "        vertical-align: middle;\n",
       "    }\n",
       "\n",
       "    .dataframe tbody tr th {\n",
       "        vertical-align: top;\n",
       "    }\n",
       "\n",
       "    .dataframe thead th {\n",
       "        text-align: right;\n",
       "    }\n",
       "</style>\n",
       "<table border=\"1\" class=\"dataframe\">\n",
       "  <thead>\n",
       "    <tr style=\"text-align: right;\">\n",
       "      <th></th>\n",
       "      <th>Greeks</th>\n",
       "      <th>Value</th>\n",
       "    </tr>\n",
       "  </thead>\n",
       "  <tbody>\n",
       "    <tr>\n",
       "      <th>0</th>\n",
       "      <td>dv01AmountInDealCcy</td>\n",
       "      <td>318.871934</td>\n",
       "    </tr>\n",
       "    <tr>\n",
       "      <th>1</th>\n",
       "      <td>deltaPercent</td>\n",
       "      <td>0.773428</td>\n",
       "    </tr>\n",
       "    <tr>\n",
       "      <th>2</th>\n",
       "      <td>forwardDeltaPercent</td>\n",
       "      <td>0.837187</td>\n",
       "    </tr>\n",
       "    <tr>\n",
       "      <th>3</th>\n",
       "      <td>gammaAmountInDealCcy</td>\n",
       "      <td>0.383259</td>\n",
       "    </tr>\n",
       "    <tr>\n",
       "      <th>4</th>\n",
       "      <td>thetaAmountInDealCcy</td>\n",
       "      <td>-20.376115</td>\n",
       "    </tr>\n",
       "    <tr>\n",
       "      <th>5</th>\n",
       "      <td>vegaAmountInDealCcy</td>\n",
       "      <td>154.284213</td>\n",
       "    </tr>\n",
       "  </tbody>\n",
       "</table>\n",
       "</div>"
      ],
      "text/plain": [
       "                 Greeks       Value\n",
       "0   dv01AmountInDealCcy  318.871934\n",
       "1          deltaPercent    0.773428\n",
       "2   forwardDeltaPercent    0.837187\n",
       "3  gammaAmountInDealCcy    0.383259\n",
       "4  thetaAmountInDealCcy  -20.376115\n",
       "5   vegaAmountInDealCcy  154.284213"
      ]
     },
     "metadata": {},
     "output_type": "display_data"
    }
   ],
   "source": [
    "# Extract Greeks from the response\n",
    "greeks = response.data.analytics[0].greeks\n",
    "\n",
    "# Extract Cap/Floor level Greeks directly (non-array values)\n",
    "cap_greeks_data = {greek: value for greek, value in greeks.items() if not isinstance(value, list)}\n",
    "\n",
    "# Convert the dictionary to a DataFrame\n",
    "df_cap_greeks = pd.DataFrame(list(cap_greeks_data.items()), columns=[\"Greeks\", \"Value\"])\n",
    "\n",
    "# Display the DataFrame with Cap/Floor level Greeks\n",
    "display(df_cap_greeks) "
   ]
  },
  {
   "cell_type": "markdown",
   "id": "add0a874",
   "metadata": {},
   "source": [
    "#### Individual Cap/Floor Greeks"
   ]
  },
  {
   "cell_type": "code",
   "execution_count": 5,
   "id": "49560749",
   "metadata": {
    "execution": {
     "iopub.execute_input": "2025-09-18T09:06:32.814455Z",
     "iopub.status.busy": "2025-09-18T09:06:32.814243Z",
     "iopub.status.idle": "2025-09-18T09:06:32.817693Z",
     "shell.execute_reply": "2025-09-18T09:06:32.817151Z"
    }
   },
   "outputs": [
    {
     "name": "stdout",
     "output_type": "stream",
     "text": [
      "DV01 (Deal Currency): 318.871934047274\n",
      "Delta (%): 0.7734285\n",
      "Vega (Deal Currency): 154.28421267\n"
     ]
    }
   ],
   "source": [
    "print(\"DV01 (Deal Currency):\", greeks.dv01_amount_in_deal_ccy)\n",
    "print(\"Delta (%):\", greeks.delta_percent)\n",
    "print(\"Vega (Deal Currency):\", greeks.vega_amount_in_deal_ccy)"
   ]
  },
  {
   "cell_type": "markdown",
   "id": "f2a1d87d",
   "metadata": {},
   "source": [
    "#### Caplets/Floorlets Greeks"
   ]
  },
  {
   "cell_type": "code",
   "execution_count": 6,
   "id": "88138d40",
   "metadata": {
    "execution": {
     "iopub.execute_input": "2025-09-18T09:06:32.819418Z",
     "iopub.status.busy": "2025-09-18T09:06:32.819238Z",
     "iopub.status.idle": "2025-09-18T09:06:32.827640Z",
     "shell.execute_reply": "2025-09-18T09:06:32.827089Z"
    }
   },
   "outputs": [
    {
     "data": {
      "text/html": [
       "<div>\n",
       "<style scoped>\n",
       "    .dataframe tbody tr th:only-of-type {\n",
       "        vertical-align: middle;\n",
       "    }\n",
       "\n",
       "    .dataframe tbody tr th {\n",
       "        vertical-align: top;\n",
       "    }\n",
       "\n",
       "    .dataframe thead th {\n",
       "        text-align: right;\n",
       "    }\n",
       "</style>\n",
       "<table border=\"1\" class=\"dataframe\">\n",
       "  <thead>\n",
       "    <tr style=\"text-align: right;\">\n",
       "      <th></th>\n",
       "      <th>capletsForwardDeltaPercentArray</th>\n",
       "      <th>capletsDv01AmountsInDealCcyArray</th>\n",
       "      <th>capletsGammaAmountsInDealCcyArray</th>\n",
       "      <th>capletsThetaAmountsInDealCcyArray</th>\n",
       "      <th>capletsVegaAmountsInDealCcyArray</th>\n",
       "    </tr>\n",
       "  </thead>\n",
       "  <tbody>\n",
       "    <tr>\n",
       "      <th>0</th>\n",
       "      <td>0.000000</td>\n",
       "      <td>0.000000</td>\n",
       "      <td>0.000000</td>\n",
       "      <td>0.000000</td>\n",
       "      <td>0.000000</td>\n",
       "    </tr>\n",
       "    <tr>\n",
       "      <th>1</th>\n",
       "      <td>0.000000</td>\n",
       "      <td>0.000000</td>\n",
       "      <td>0.000000</td>\n",
       "      <td>0.000000</td>\n",
       "      <td>0.000000</td>\n",
       "    </tr>\n",
       "    <tr>\n",
       "      <th>2</th>\n",
       "      <td>0.999999</td>\n",
       "      <td>18.596098</td>\n",
       "      <td>-0.002506</td>\n",
       "      <td>-0.854932</td>\n",
       "      <td>0.000034</td>\n",
       "    </tr>\n",
       "    <tr>\n",
       "      <th>3</th>\n",
       "      <td>0.998417</td>\n",
       "      <td>23.945002</td>\n",
       "      <td>-0.002245</td>\n",
       "      <td>-0.863964</td>\n",
       "      <td>0.088065</td>\n",
       "    </tr>\n",
       "    <tr>\n",
       "      <th>4</th>\n",
       "      <td>0.981392</td>\n",
       "      <td>22.276735</td>\n",
       "      <td>0.006409</td>\n",
       "      <td>-0.922286</td>\n",
       "      <td>0.917651</td>\n",
       "    </tr>\n",
       "    <tr>\n",
       "      <th>5</th>\n",
       "      <td>0.939590</td>\n",
       "      <td>21.589500</td>\n",
       "      <td>0.020059</td>\n",
       "      <td>-1.108842</td>\n",
       "      <td>2.845413</td>\n",
       "    </tr>\n",
       "    <tr>\n",
       "      <th>6</th>\n",
       "      <td>0.881728</td>\n",
       "      <td>20.288456</td>\n",
       "      <td>0.032012</td>\n",
       "      <td>-1.245772</td>\n",
       "      <td>5.302386</td>\n",
       "    </tr>\n",
       "    <tr>\n",
       "      <th>7</th>\n",
       "      <td>0.833569</td>\n",
       "      <td>19.584533</td>\n",
       "      <td>0.038222</td>\n",
       "      <td>-1.327694</td>\n",
       "      <td>7.547262</td>\n",
       "    </tr>\n",
       "    <tr>\n",
       "      <th>8</th>\n",
       "      <td>0.805428</td>\n",
       "      <td>17.127784</td>\n",
       "      <td>0.035442</td>\n",
       "      <td>-1.208659</td>\n",
       "      <td>8.157892</td>\n",
       "    </tr>\n",
       "    <tr>\n",
       "      <th>9</th>\n",
       "      <td>0.790663</td>\n",
       "      <td>17.353469</td>\n",
       "      <td>0.035311</td>\n",
       "      <td>-1.240191</td>\n",
       "      <td>9.468949</td>\n",
       "    </tr>\n",
       "    <tr>\n",
       "      <th>10</th>\n",
       "      <td>0.785137</td>\n",
       "      <td>17.164154</td>\n",
       "      <td>0.032807</td>\n",
       "      <td>-1.231238</td>\n",
       "      <td>10.244006</td>\n",
       "    </tr>\n",
       "    <tr>\n",
       "      <th>11</th>\n",
       "      <td>0.782737</td>\n",
       "      <td>17.203112</td>\n",
       "      <td>0.030440</td>\n",
       "      <td>-1.239520</td>\n",
       "      <td>11.038208</td>\n",
       "    </tr>\n",
       "    <tr>\n",
       "      <th>12</th>\n",
       "      <td>0.781227</td>\n",
       "      <td>16.305457</td>\n",
       "      <td>0.026662</td>\n",
       "      <td>-1.186931</td>\n",
       "      <td>11.159302</td>\n",
       "    </tr>\n",
       "    <tr>\n",
       "      <th>13</th>\n",
       "      <td>0.779823</td>\n",
       "      <td>16.006158</td>\n",
       "      <td>0.024283</td>\n",
       "      <td>-1.176296</td>\n",
       "      <td>11.605534</td>\n",
       "    </tr>\n",
       "    <tr>\n",
       "      <th>14</th>\n",
       "      <td>0.780445</td>\n",
       "      <td>15.751335</td>\n",
       "      <td>0.022182</td>\n",
       "      <td>-1.158618</td>\n",
       "      <td>11.961731</td>\n",
       "    </tr>\n",
       "    <tr>\n",
       "      <th>15</th>\n",
       "      <td>0.781954</td>\n",
       "      <td>15.680999</td>\n",
       "      <td>0.020446</td>\n",
       "      <td>-1.152974</td>\n",
       "      <td>12.399760</td>\n",
       "    </tr>\n",
       "    <tr>\n",
       "      <th>16</th>\n",
       "      <td>0.784184</td>\n",
       "      <td>15.165348</td>\n",
       "      <td>0.018326</td>\n",
       "      <td>-1.111939</td>\n",
       "      <td>12.371959</td>\n",
       "    </tr>\n",
       "    <tr>\n",
       "      <th>17</th>\n",
       "      <td>0.786712</td>\n",
       "      <td>15.108860</td>\n",
       "      <td>0.016758</td>\n",
       "      <td>-1.110136</td>\n",
       "      <td>12.720568</td>\n",
       "    </tr>\n",
       "    <tr>\n",
       "      <th>18</th>\n",
       "      <td>0.787665</td>\n",
       "      <td>14.842464</td>\n",
       "      <td>0.015017</td>\n",
       "      <td>-1.106121</td>\n",
       "      <td>12.962739</td>\n",
       "    </tr>\n",
       "    <tr>\n",
       "      <th>19</th>\n",
       "      <td>0.788269</td>\n",
       "      <td>14.882468</td>\n",
       "      <td>0.013635</td>\n",
       "      <td>-1.130000</td>\n",
       "      <td>13.492753</td>\n",
       "    </tr>\n",
       "  </tbody>\n",
       "</table>\n",
       "</div>"
      ],
      "text/plain": [
       "    capletsForwardDeltaPercentArray  capletsDv01AmountsInDealCcyArray  \\\n",
       "0                          0.000000                          0.000000   \n",
       "1                          0.000000                          0.000000   \n",
       "2                          0.999999                         18.596098   \n",
       "3                          0.998417                         23.945002   \n",
       "4                          0.981392                         22.276735   \n",
       "5                          0.939590                         21.589500   \n",
       "6                          0.881728                         20.288456   \n",
       "7                          0.833569                         19.584533   \n",
       "8                          0.805428                         17.127784   \n",
       "9                          0.790663                         17.353469   \n",
       "10                         0.785137                         17.164154   \n",
       "11                         0.782737                         17.203112   \n",
       "12                         0.781227                         16.305457   \n",
       "13                         0.779823                         16.006158   \n",
       "14                         0.780445                         15.751335   \n",
       "15                         0.781954                         15.680999   \n",
       "16                         0.784184                         15.165348   \n",
       "17                         0.786712                         15.108860   \n",
       "18                         0.787665                         14.842464   \n",
       "19                         0.788269                         14.882468   \n",
       "\n",
       "    capletsGammaAmountsInDealCcyArray  capletsThetaAmountsInDealCcyArray  \\\n",
       "0                            0.000000                           0.000000   \n",
       "1                            0.000000                           0.000000   \n",
       "2                           -0.002506                          -0.854932   \n",
       "3                           -0.002245                          -0.863964   \n",
       "4                            0.006409                          -0.922286   \n",
       "5                            0.020059                          -1.108842   \n",
       "6                            0.032012                          -1.245772   \n",
       "7                            0.038222                          -1.327694   \n",
       "8                            0.035442                          -1.208659   \n",
       "9                            0.035311                          -1.240191   \n",
       "10                           0.032807                          -1.231238   \n",
       "11                           0.030440                          -1.239520   \n",
       "12                           0.026662                          -1.186931   \n",
       "13                           0.024283                          -1.176296   \n",
       "14                           0.022182                          -1.158618   \n",
       "15                           0.020446                          -1.152974   \n",
       "16                           0.018326                          -1.111939   \n",
       "17                           0.016758                          -1.110136   \n",
       "18                           0.015017                          -1.106121   \n",
       "19                           0.013635                          -1.130000   \n",
       "\n",
       "    capletsVegaAmountsInDealCcyArray  \n",
       "0                           0.000000  \n",
       "1                           0.000000  \n",
       "2                           0.000034  \n",
       "3                           0.088065  \n",
       "4                           0.917651  \n",
       "5                           2.845413  \n",
       "6                           5.302386  \n",
       "7                           7.547262  \n",
       "8                           8.157892  \n",
       "9                           9.468949  \n",
       "10                         10.244006  \n",
       "11                         11.038208  \n",
       "12                         11.159302  \n",
       "13                         11.605534  \n",
       "14                         11.961731  \n",
       "15                         12.399760  \n",
       "16                         12.371959  \n",
       "17                         12.720568  \n",
       "18                         12.962739  \n",
       "19                         13.492753  "
      ]
     },
     "metadata": {},
     "output_type": "display_data"
    }
   ],
   "source": [
    "# Extract caplets Greeks directly from response and create DataFrame\n",
    "caplets_data = {greek: values for greek, values in greeks.items() if isinstance(values, list)}\n",
    "df_caplets_greeks = pd.DataFrame(caplets_data)\n",
    "\n",
    "# Caplets Greeks DataFrame\n",
    "display(df_caplets_greeks)"
   ]
  },
  {
   "cell_type": "markdown",
   "id": "41bc56c2",
   "metadata": {},
   "source": [
    "#### Cap/Floor Greeks Visualization "
   ]
  },
  {
   "cell_type": "code",
   "execution_count": 7,
   "id": "0b769a82",
   "metadata": {
    "execution": {
     "iopub.execute_input": "2025-09-18T09:06:32.829812Z",
     "iopub.status.busy": "2025-09-18T09:06:32.829396Z",
     "iopub.status.idle": "2025-09-18T09:06:33.003172Z",
     "shell.execute_reply": "2025-09-18T09:06:33.002680Z"
    }
   },
   "outputs": [
    {
     "data": {
      "image/png": "[encoded data removed]",
      "text/plain": [
       "<Figure size 1000x600 with 1 Axes>"
      ]
     },
     "metadata": {},
     "output_type": "display_data"
    }
   ],
   "source": [
    "# Create figure with specified size\n",
    "plt.figure(figsize=(10, 6))\n",
    "\n",
    "# Create bar plot for each Greek value\n",
    "bars = plt.bar(df_cap_greeks.index, df_cap_greeks[\"Value\"], color='skyblue', align='center')\n",
    "\n",
    "# Set chart title and labels\n",
    "plt.title(\"Cap/Floor Greeks\")\n",
    "plt.ylabel(\"Value\")\n",
    "\n",
    "# Set x-axis to show Greek names with rotation for readability\n",
    "plt.xticks(ticks=df_cap_greeks.index, labels=df_cap_greeks[\"Greeks\"], rotation=45, ha='right')\n",
    "\n",
    "# Add grid lines for better value reading\n",
    "plt.grid(axis='y', linestyle='--', alpha=0.7)\n",
    "\n",
    "# Add value labels on top of each bar\n",
    "for bar in bars:\n",
    "    yval = bar.get_height()\n",
    "    plt.text(bar.get_x() + bar.get_width() / 2, yval, f'{yval:.2f}', ha='center', va='bottom')\n",
    "\n",
    "# Adjust layout to prevent label cutoff\n",
    "plt.tight_layout()\n",
    "plt.show()\n"
   ]
  }
 ],
 "metadata": {
  "kernelspec": {
   "display_name": "base",
   "language": "python",
   "name": "python3"
  },
  "language_info": {
   "codemirror_mode": {
    "name": "ipython",
    "version": 3
   },
   "file_extension": ".py",
   "mimetype": "text/x-python",
   "name": "python",
   "nbconvert_exporter": "python",
   "pygments_lexer": "ipython3",
   "version": "3.11.6"
  }
 },
 "nbformat": 4,
 "nbformat_minor": 5
}
