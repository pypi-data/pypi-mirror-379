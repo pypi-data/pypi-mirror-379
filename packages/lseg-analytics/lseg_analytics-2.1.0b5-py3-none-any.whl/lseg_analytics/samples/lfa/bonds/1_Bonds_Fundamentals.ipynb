{
 "cells": [
  {
   "cell_type": "markdown",
   "id": "1a108871",
   "metadata": {},
   "source": [
    "# Bond Fundamentals"
   ]
  },
  {
   "cell_type": "markdown",
   "id": "3a4cef20",
   "metadata": {},
   "source": [
    "This notebook demonstrates how to access and use the **Bond** functionalities within the **LSEG Financial Analytics SDK**. \n",
    "\n",
    "Bond instruments are fixed income securities that represent debt obligations. Bond types supported:\n",
    "- Fixed Rate Bonds: Bonds with fixed coupon payments over the life of the bond\n",
    "- Floating Rate Bonds: Bonds with variable coupon rates tied to reference rates (SOFR, LIBOR, etc.)\n",
    "- Zero Coupon Bonds: Bonds that pay no periodic interest, sold at discount to face value\n",
    "- Inflation-Linked Bonds: Bonds with principal and/or coupons adjusted for inflation\n",
    "- Callable/Puttable Bonds: Bonds with embedded options for early redemption\n",
    "\n",
    "**You will be able to:**\n",
    "- Define Bond instruments with basic parameters (coupon, maturity, face value)\n",
    "- Configure pricing parameters and market data settings\n",
    "- Evaluate Bond Analytics (price, yield, duration, convexity)"
   ]
  },
  {
   "cell_type": "markdown",
   "id": "c545bed5",
   "metadata": {},
   "source": [
    "## Imports"
   ]
  },
  {
   "cell_type": "markdown",
   "id": "5a2157a4-64d5-4b2e-93dc-aaeae57e199a",
   "metadata": {},
   "source": [
    "Import the following necessary modules:\n",
    "\n",
    "- `lseg_analytics.instruments.bond` - for Bond instrument definitions and analytics"
   ]
  },
  {
   "cell_type": "code",
   "execution_count": 1,
   "id": "4d002713",
   "metadata": {
    "execution": {
     "iopub.execute_input": "2025-09-18T08:58:59.646301Z",
     "iopub.status.busy": "2025-09-18T08:58:59.645696Z",
     "iopub.status.idle": "2025-09-18T08:59:00.514748Z",
     "shell.execute_reply": "2025-09-18T08:59:00.514205Z"
    }
   },
   "outputs": [],
   "source": [
    "from lseg_analytics.instruments import bond   as bd\n",
    "\n",
    "import pandas as pd\n",
    "import json\n",
    "import datetime as dt\n",
    "from IPython.display import display"
   ]
  },
  {
   "cell_type": "markdown",
   "id": "9b0cc193",
   "metadata": {},
   "source": [
    "## Data Preparation\n",
    "\n",
    "To define a Bond instrument you need to follow a structured 3-step process:\n",
    "\n",
    "1. **Bond Definition** - Specify basic bond parameters (coupon rate, maturity date, face value, payment frequency)\n",
    "2. **Bond Instrument Definition** - Create the instrument object for pricing\n",
    "3. **Pricing Preferences** - Configure pricing parameters - optional\n",
    "\n",
    "### Bond Definition\n",
    "\n",
    "Two methods to define a bond are possible:\n",
    "\n",
    "- Using **fully user defined instrument**\n",
    "- Using an existing **Market Instrument Code**\n",
    "\n",
    "#### User-defined bonds\n",
    "\n",
    "To built correctly a user-defined Bond, the following structure components can be included\n",
    "\n",
    "**Core Parameters:**\n",
    "- **Face Value/Par Value**: Principal amount paid at maturity\n",
    "- **Coupon Rate**: Annual interest rate paid on the face value\n",
    "- **Maturity Date**: When the bond expires and principal is repaid\n",
    "- **Payment Frequency**: How often coupons are paid (annual, semi-annual, quarterly, etc.)\n",
    "\n",
    "**Market Conventions:**\n",
    "- **Day Count Method**: How interest accrual is calculated (30/360, Actual/360, Actual/365, etc.)\n",
    "- **Business Day Conventions**: How payment dates are adjusted for holidays\n",
    "- **Settlement Convention**: Standard settlement period (T+1, T+2, T+3)\n",
    "\n",
    "**Analytics Available:**\n",
    "- **Price**: Clean price, dirty price (including accrued interest)\n",
    "- **Yield**: Yield to maturity, current yield, yield to call\n",
    "- **Duration**: Modified duration, Macaulay duration\n",
    "- **Convexity**: Second-order price sensitivity to interest rate changes\n",
    "- **Spread**: Credit spread over benchmark curve\n",
    "\n",
    "In this notebook we define three types of user-defined bonds:\n",
    "- Fixed rate Bond\n",
    "- Floating rate Bond\n",
    "- Zero-coupon Bond"
   ]
  },
  {
   "cell_type": "code",
   "execution_count": 2,
   "id": "4e26090a",
   "metadata": {
    "execution": {
     "iopub.execute_input": "2025-09-18T08:59:00.518820Z",
     "iopub.status.busy": "2025-09-18T08:59:00.517073Z",
     "iopub.status.idle": "2025-09-18T08:59:00.531853Z",
     "shell.execute_reply": "2025-09-18T08:59:00.531232Z"
    },
    "tags": [
     "price.static"
    ]
   },
   "outputs": [
    {
     "name": "stdout",
     "output_type": "stream",
     "text": [
      "✓ Fixed rate Bond:\n",
      "   Bond Type: InterestTypeEnum.FIXED\n",
      "   Notional Amount: USD 1,000,000\n",
      "   Coupon Rate: 4.25%\n",
      "   Payment Frequency: InterestPaymentFrequencyEnum.SEMI_ANNUAL\n",
      "   Issue Date: 2020-03-15\n",
      "   Maturity Date: 2025-03-15\n",
      "   Day Count: InterestCalculationMethodEnum.DCB_30_360\n",
      "   Business Day Convention: PaymentBusinessDayConventionEnum.MODIFIED_FOLLOWING\n",
      "   Calendar: USA\n",
      "   Instrument Tag: USD_5Y_BOND_4.25\n",
      "\n"
     ]
    }
   ],
   "source": [
    "# Example 1: Fixed rate bond definition\n",
    "\n",
    "bond_definition_fixed_rate_user_defined = bd.BondDefinition(\n",
    "    # Core Bond Parameters\n",
    "        # Face value/Par value\n",
    "    notional_amount=1_000_000,                                 # $1M face value (default: 1,000,000)\n",
    "    notional_ccy=\"USD\",                                        # USD currency\n",
    "    \n",
    "        # Coupon Rate and Type\n",
    "    fixed_rate_percent=4.25,                                   # 4.25% annual coupon rate\n",
    "    interest_type=bd.InterestTypeEnum.FIXED,                   # Fixed rate bond. Options: FIXED, FLOAT\n",
    "    \n",
    "        # Bond Timing\n",
    "    issue_date=dt.datetime(2020, 3, 15),                       # Bond issue date\n",
    "    end_date=dt.datetime(2025, 3, 15),                         # 5-year maturity in date format (Or use tenor directly instead of end_date: )                            \n",
    "    \n",
    "        # Payment Structure\n",
    "    interest_payment_frequency=bd.InterestPaymentFrequencyEnum.SEMI_ANNUAL,  # Semi-annual coupons. Options: ANNUAL, SEMI_ANNUAL, QUARTERLY, MONTHLY, etc.\n",
    "    first_regular_payment_date=dt.datetime(2020, 9, 15),      # First coupon payment date\n",
    "    \n",
    "    # Market Conventions\n",
    "    interest_calculation_method=bd.InterestCalculationMethodEnum.DCB_30_360,  # 30/360 day count. Options: DCB_30_360, DCB_ACTUAL_360, DCB_ACTUAL_365, etc.\n",
    "    payment_business_day_convention=bd.PaymentBusinessDayConventionEnum.MODIFIED_FOLLOWING,  # Business day adjustment. Options: MODIFIED_FOLLOWING, NEXT_BUSINESS_DAY, PREVIOUS_BUSINESS_DAY\n",
    "    payment_business_days=\"USA\",                               # US holiday calendar\n",
    "    \n",
    "    # Optional Parameters\n",
    "    instrument_tag=\"USD_5Y_BOND_4.25\",                         # User-defined identifier (max 40 chars)\n",
    "    stub_rule=bd.FinancialContractStubRuleEnum.MATURITY,       # Stub period alignment. Options: ISSUE, MATURITY\n",
    "    is_perpetual=False,                                        # Non-perpetual bond\n",
    ")\n",
    "\n",
    "\n",
    "# Display comprehensive information about the created bond\n",
    "print(f\"✓ Fixed rate Bond:\")\n",
    "print(f\"   Bond Type: {bond_definition_fixed_rate_user_defined.interest_type}\")\n",
    "print(f\"   Notional Amount: {bond_definition_fixed_rate_user_defined.notional_ccy} {bond_definition_fixed_rate_user_defined.notional_amount:,.0f}\")\n",
    "print(f\"   Coupon Rate: {bond_definition_fixed_rate_user_defined.fixed_rate_percent}%\")\n",
    "print(f\"   Payment Frequency: {bond_definition_fixed_rate_user_defined.interest_payment_frequency}\")\n",
    "print(f\"   Issue Date: {bond_definition_fixed_rate_user_defined.issue_date.strftime('%Y-%m-%d')}\")\n",
    "print(f\"   Maturity Date: {bond_definition_fixed_rate_user_defined.end_date.strftime('%Y-%m-%d')}\")\n",
    "print(f\"   Day Count: {bond_definition_fixed_rate_user_defined.interest_calculation_method}\")\n",
    "print(f\"   Business Day Convention: {bond_definition_fixed_rate_user_defined.payment_business_day_convention}\")\n",
    "print(f\"   Calendar: {bond_definition_fixed_rate_user_defined.payment_business_days}\")\n",
    "print(f\"   Instrument Tag: {bond_definition_fixed_rate_user_defined.instrument_tag}\")\n",
    "print()"
   ]
  },
  {
   "cell_type": "code",
   "execution_count": 3,
   "id": "79205904",
   "metadata": {
    "execution": {
     "iopub.execute_input": "2025-09-18T08:59:00.534195Z",
     "iopub.status.busy": "2025-09-18T08:59:00.533827Z",
     "iopub.status.idle": "2025-09-18T08:59:00.538947Z",
     "shell.execute_reply": "2025-09-18T08:59:00.538497Z"
    },
    "tags": [
     "price.static"
    ]
   },
   "outputs": [
    {
     "name": "stdout",
     "output_type": "stream",
     "text": [
      "✓ Floating rate Bond:\n",
      "   Bond Type: InterestTypeEnum.FLOAT\n",
      "   Notional Amount: USD 1,000,000\n",
      "   Floating interest rate index: USDSOFR=\n",
      "   Spread in addition to floating rate: 150.0bps\n",
      "   Payment Frequency: InterestPaymentFrequencyEnum.QUARTERLY\n",
      "   Issue Date: 2023-03-15\n",
      "   Maturity Date: 2033-03-15\n",
      "   Day Count: InterestCalculationMethodEnum.DCB_30_360\n",
      "   Instrument Tag: USD_10Y_BOND_SOFR_150\n"
     ]
    }
   ],
   "source": [
    "# Example 2: Floating rate bond definition\n",
    "\n",
    "floating_bond = bd.BondDefinition(\n",
    "    notional_amount=1_000_000,\n",
    "    notional_ccy=\"USD\",\n",
    "    interest_type=bd.InterestTypeEnum.FLOAT,                    # FLOAT instead of FIXED\n",
    "    \n",
    "    # Floating Rate Parameters\n",
    "    index_fixing_ric=\"USDSOFR=\",                                # Reference rate RIC\n",
    "    spread_bp=150,                                              # 150bp spread over SOFR\n",
    "    index_reset_frequency=bd.IndexResetFrequencyEnum.MONTHLY,   # Monthly resets\n",
    "\n",
    "    issue_date=dt.datetime(2023, 3, 15),\n",
    "    end_date=dt.datetime(2033, 3, 15),\n",
    "    interest_payment_frequency=bd.InterestPaymentFrequencyEnum.QUARTERLY,\n",
    "    interest_calculation_method=bd.InterestCalculationMethodEnum.DCB_30_360,\n",
    "\n",
    "    instrument_tag=\"USD_10Y_BOND_SOFR_150\",\n",
    ")\n",
    "\n",
    "# Display comprehensive information about the created bond\n",
    "print(f\"✓ Floating rate Bond:\")\n",
    "print(f\"   Bond Type: {floating_bond.interest_type}\")\n",
    "print(f\"   Notional Amount: {floating_bond.notional_ccy} {floating_bond.notional_amount:,.0f}\")\n",
    "print(f\"   Floating interest rate index: {floating_bond.index_fixing_ric}\")\n",
    "print(f\"   Spread in addition to floating rate: {floating_bond.spread_bp}bps\")\n",
    "print(f\"   Payment Frequency: {floating_bond.interest_payment_frequency}\")\n",
    "print(f\"   Issue Date: {floating_bond.issue_date.strftime('%Y-%m-%d')}\")\n",
    "print(f\"   Maturity Date: {floating_bond.end_date.strftime('%Y-%m-%d')}\")\n",
    "print(f\"   Day Count: {floating_bond.interest_calculation_method}\")\n",
    "print(f\"   Instrument Tag: {floating_bond.instrument_tag}\")"
   ]
  },
  {
   "cell_type": "code",
   "execution_count": 4,
   "id": "402c1fbd",
   "metadata": {
    "execution": {
     "iopub.execute_input": "2025-09-18T08:59:00.541363Z",
     "iopub.status.busy": "2025-09-18T08:59:00.540757Z",
     "iopub.status.idle": "2025-09-18T08:59:00.546210Z",
     "shell.execute_reply": "2025-09-18T08:59:00.545687Z"
    },
    "tags": [
     "price.static"
    ]
   },
   "outputs": [
    {
     "name": "stdout",
     "output_type": "stream",
     "text": [
      "✓ Zero Coupon Bond:\n",
      "   Notional Amount: USD 1,000,000\n",
      "   Coupon Rate: 0.0%\n",
      "   Payment Frequency: InterestPaymentFrequencyEnum.ZERO\n",
      "   Issue Date: 2020-03-15\n",
      "   Maturity Date: 2025-03-15\n",
      "   Day Count: InterestCalculationMethodEnum.DCB_30_360\n",
      "   Business Day Convention: None\n",
      "   Calendar: None\n",
      "   Instrument Tag: USD_5Y_BOND_ZC\n"
     ]
    }
   ],
   "source": [
    "# Example 3: Zero coupon bond definition\n",
    "\n",
    "zero_coupon_bond = bd.BondDefinition(\n",
    "    notional_amount=1_000_000,\n",
    "    notional_ccy=\"USD\",\n",
    "    fixed_rate_percent=0.0,                                     # No coupon payments\n",
    "    interest_payment_frequency=bd.InterestPaymentFrequencyEnum.ZERO,  # Zero frequency\n",
    "    interest_calculation_method=bd.InterestCalculationMethodEnum.DCB_30_360,\n",
    "    \n",
    "    issue_date=dt.datetime(2020, 3, 15),\n",
    "    end_date=dt.datetime(2025, 3, 15),\n",
    "\n",
    "    instrument_tag=\"USD_5Y_BOND_ZC\"\n",
    ")\n",
    "\n",
    "# Display comprehensive information about the created bond\n",
    "print(f\"✓ Zero Coupon Bond:\")\n",
    "print(f\"   Notional Amount: {zero_coupon_bond.notional_ccy} {zero_coupon_bond.notional_amount:,.0f}\")\n",
    "print(f\"   Coupon Rate: {zero_coupon_bond.fixed_rate_percent}%\")\n",
    "print(f\"   Payment Frequency: {zero_coupon_bond.interest_payment_frequency}\")\n",
    "print(f\"   Issue Date: {zero_coupon_bond.issue_date.strftime('%Y-%m-%d')}\")\n",
    "print(f\"   Maturity Date: {zero_coupon_bond.end_date.strftime('%Y-%m-%d')}\")\n",
    "print(f\"   Day Count: {zero_coupon_bond.interest_calculation_method}\")\n",
    "print(f\"   Business Day Convention: {zero_coupon_bond.payment_business_day_convention}\")\n",
    "print(f\"   Calendar: {zero_coupon_bond.payment_business_days}\")\n",
    "print(f\"   Instrument Tag: {zero_coupon_bond.instrument_tag}\")"
   ]
  },
  {
   "cell_type": "markdown",
   "id": "026d85c6",
   "metadata": {},
   "source": [
    "#### Bonds from Market instrument code\n",
    "\n",
    "To define such a bond, it suffices to enter its instrument code (ISIN, RIC or CUSIP) and to include an instrument tag in format \"BOND_{instrument_code_type}={instrument_code}\" like below"
   ]
  },
  {
   "cell_type": "code",
   "execution_count": 5,
   "id": "742f37a2",
   "metadata": {
    "execution": {
     "iopub.execute_input": "2025-09-18T08:59:00.548305Z",
     "iopub.status.busy": "2025-09-18T08:59:00.547969Z",
     "iopub.status.idle": "2025-09-18T08:59:00.551208Z",
     "shell.execute_reply": "2025-09-18T08:59:00.550506Z"
    },
    "tags": [
     "price.static"
    ]
   },
   "outputs": [],
   "source": [
    "# Method 2: Definition Using existing market instruments \n",
    "\n",
    "bond_definition_isin = bd.BondDefinition(\n",
    "    instrument_code=\"US912810RQ31\",   # ISIN, RIC, CUSIP\n",
    "    instrument_tag=\"BOND_ISIN=US912810RQ31\")"
   ]
  },
  {
   "cell_type": "markdown",
   "id": "17ed908d",
   "metadata": {},
   "source": [
    "### Bond Instrument Definition\n",
    "\n",
    "For each example defined below, we create a bond instrument."
   ]
  },
  {
   "cell_type": "code",
   "execution_count": 6,
   "id": "21f14044",
   "metadata": {
    "execution": {
     "iopub.execute_input": "2025-09-18T08:59:00.553530Z",
     "iopub.status.busy": "2025-09-18T08:59:00.553228Z",
     "iopub.status.idle": "2025-09-18T08:59:00.557325Z",
     "shell.execute_reply": "2025-09-18T08:59:00.556767Z"
    },
    "tags": [
     "price.static"
    ]
   },
   "outputs": [
    {
     "name": "stdout",
     "output_type": "stream",
     "text": [
      "   Bond instrument containers created for pricing\n"
     ]
    }
   ],
   "source": [
    "bond_instrument1 = bd.BondDefinitionInstrument(definition=bond_definition_fixed_rate_user_defined)\n",
    "bond_instrument2 = bd.BondDefinitionInstrument(definition=floating_bond)\n",
    "bond_instrument3 = bd.BondDefinitionInstrument(definition=zero_coupon_bond)\n",
    "bond_instrument4 = bd.BondDefinitionInstrument(definition=bond_definition_isin)\n",
    "\n",
    "print(\"   Bond instrument containers created for pricing\")"
   ]
  },
  {
   "cell_type": "markdown",
   "id": "e240ecbc",
   "metadata": {},
   "source": [
    "### Bond Pricing Preferences\n",
    "\n",
    "#### Setup pricing parameters"
   ]
  },
  {
   "cell_type": "code",
   "execution_count": 7,
   "id": "43b82234",
   "metadata": {
    "execution": {
     "iopub.execute_input": "2025-09-18T08:59:00.559368Z",
     "iopub.status.busy": "2025-09-18T08:59:00.559035Z",
     "iopub.status.idle": "2025-09-18T08:59:00.567724Z",
     "shell.execute_reply": "2025-09-18T08:59:00.567248Z"
    },
    "tags": [
     "price.static"
    ]
   },
   "outputs": [
    {
     "name": "stdout",
     "output_type": "stream",
     "text": [
      "   Valuation Date: 2023-07-18\n",
      "   Price Side: PriceSideEnum.MID\n",
      "   Report Currency: USD\n",
      "   Settlement Convention: 2WD\n"
     ]
    }
   ],
   "source": [
    "pricing_params = bd.BondPricingParameters(\n",
    "    valuation_date=dt.datetime(2023, 7, 18),                   # Pricing date\n",
    "    price_side=bd.PriceSideEnum.MID,                           # Use mid-market prices. Options: BID, ASK, MID, LAST\n",
    "    report_ccy=\"USD\",                                          # Reporting currency for analytics\n",
    "    settlement_convention=\"2WD\",                               # T+2 settlement convention\n",
    "    \n",
    "    # Optional pricing inputs (comment out to use market data)\n",
    "    # yield_percent=4.50,                                      # Input yield to calculate price\n",
    "    # clean_price=98.50,                                       # Input price to calculate yield\n",
    ")\n",
    "\n",
    "print(f\"   Valuation Date: {pricing_params.valuation_date.strftime('%Y-%m-%d')}\")\n",
    "print(f\"   Price Side: {pricing_params.price_side}\")\n",
    "print(f\"   Report Currency: {pricing_params.report_ccy}\")\n",
    "print(f\"   Settlement Convention: {pricing_params.settlement_convention}\")"
   ]
  },
  {
   "cell_type": "markdown",
   "id": "5e855935",
   "metadata": {},
   "source": [
    "#### Bond Fields Setup\n",
    "\n",
    "We select the below the following fields that are interesting for Bond pricing:\n",
    "\n",
    "- **InstrumentTag**: Tag for identification\n",
    "- **Notional currency**: Currency of the Bond\n",
    "- **Market Value**: Present value of the Bond, it is also the **Dirty Price** of the bond\n",
    "- **Report currency**: Currency of Bond valuation and metrics\n",
    "- **Clean Price**: Bond price excluding accrued interest\n",
    "- **Yield**: Yield to maturity of the Bond\n",
    "- **Modified Duration**: Interest rate sensitivity measure\n",
    "- **Convexity**: Second-order price sensitivity to yield changes\n",
    "- **DV01**: Sensitivity of the market value to a 1bp parallel shift in the zero-coupon curve"
   ]
  },
  {
   "cell_type": "code",
   "execution_count": 8,
   "id": "aafad900",
   "metadata": {
    "execution": {
     "iopub.execute_input": "2025-09-18T08:59:00.569998Z",
     "iopub.status.busy": "2025-09-18T08:59:00.569572Z",
     "iopub.status.idle": "2025-09-18T08:59:00.572571Z",
     "shell.execute_reply": "2025-09-18T08:59:00.572032Z"
    },
    "tags": [
     "price.static"
    ]
   },
   "outputs": [],
   "source": [
    "# setup response fields\n",
    "\n",
    "basic_fields = \"InstrumentTag, NotionalCcy, MarketValueInDealCcy, ReportCcy, MarketValueInReportCcy\"\n",
    "additional_fields = \"cleanPricePercent, dirtyPricePercent, yieldPercent, ModifiedDuration, convexity, DV01Bp\"\n",
    "fields = basic_fields + \",\" + additional_fields"
   ]
  },
  {
   "cell_type": "markdown",
   "id": "59493901",
   "metadata": {},
   "source": [
    "## Request Execution"
   ]
  },
  {
   "cell_type": "code",
   "execution_count": 9,
   "id": "0eedc926",
   "metadata": {
    "execution": {
     "iopub.execute_input": "2025-09-18T08:59:00.574707Z",
     "iopub.status.busy": "2025-09-18T08:59:00.574483Z",
     "iopub.status.idle": "2025-09-18T08:59:02.038917Z",
     "shell.execute_reply": "2025-09-18T08:59:02.038316Z"
    },
    "tags": [
     "price.static"
    ]
   },
   "outputs": [
    {
     "name": "stdout",
     "output_type": "stream",
     "text": [
      "   Calculation successful!\n"
     ]
    }
   ],
   "source": [
    "# Execute the calculation using the price() function\n",
    "# The 'definitions' parameter accepts a list of instrument definitions for batch processing\n",
    "\n",
    "try:\n",
    "    response = bd.price(\n",
    "        definitions=[bond_instrument1, bond_instrument2, bond_instrument3, bond_instrument4],\n",
    "        pricing_preferences=pricing_params,\n",
    "        fields=fields\n",
    "    )\n",
    "\n",
    "    # Display response structure information\n",
    "    analytics_data = response['data']['analytics'][0]\n",
    "    if analytics_data['error'] == {}:\n",
    "        print(\"   Calculation successful!\")\n",
    "    else:\n",
    "        print(f\"   Pricing error: {analytics_data['error']}\")\n",
    "        \n",
    "except Exception as e:\n",
    "    print(f\"   Calculation failed: {str(e)}\")\n",
    "    raise\n"
   ]
  },
  {
   "cell_type": "markdown",
   "id": "b58ed807",
   "metadata": {},
   "source": [
    "## Results Display"
   ]
  },
  {
   "cell_type": "markdown",
   "id": "8fbfaa6c",
   "metadata": {},
   "source": [
    "#### Key Sections in the `response` JSON\n",
    "\n",
    " - **definitions**: Bond instrument setup (coupon rate, maturity date, notional amount, payment frequency), using the BondDefinition that we created.\n",
    "\n",
    " - **pricingPreferences**: Valuation date, price side (BID/ASK/MID/LAST), currency settings, settlement conventions.\n",
    "\n",
    " - **analytics**:\n",
    "   - **tabularData**: Customizable list of analytics given in `fields` argument of price() function (`data`, `headers`, `statuses`)\n",
    "   - **description**: Bond instrument summary and default fields used in the calculation\n",
    "   - **nominalMeasures**: Main risk metrics calculated on Bond (`modifiedDuration`, `convexity`, `dv01Bp`)\n",
    "   - **pricingAnalysis**: detailed price information on Bonds (`cleanPricePercent`, `dirtyPricePercent`, `yieldPercent`)\n",
    "   - **valuation**: Detailed valuation of the Bond instru;ent with the below fields:\n",
    "      - `MarketValueInDealCcy`: Present value of the Bond in deal currency\n",
    "      - `MarketValueInReportCcy`: Present value of the Bond in report currency\n",
    "   - **error**: Root cause of any issues, if encountered\n",
    "\n",
    "\n",
    "We give below for the first deal the valuation details, as well as for the four deals the tabular data details, that include information on valuation and risk metrics"
   ]
  },
  {
   "cell_type": "code",
   "execution_count": 10,
   "id": "143fda8e",
   "metadata": {
    "execution": {
     "iopub.execute_input": "2025-09-18T08:59:02.042025Z",
     "iopub.status.busy": "2025-09-18T08:59:02.041530Z",
     "iopub.status.idle": "2025-09-18T08:59:02.045684Z",
     "shell.execute_reply": "2025-09-18T08:59:02.045015Z"
    }
   },
   "outputs": [
    {
     "name": "stdout",
     "output_type": "stream",
     "text": [
      "Bond Valuation Results:\n",
      "{\n",
      "    \"marketValueInDealCcy\": 1066952.21880026,\n",
      "    \"marketValueInReportCcy\": 1066952.21880026\n",
      "}\n"
     ]
    }
   ],
   "source": [
    "# Access the valuation object\n",
    "valuation = response.data.analytics[0].valuation\n",
    "print(\"Bond Valuation Results:\")\n",
    "print(json.dumps(valuation.as_dict(), indent=4))"
   ]
  },
  {
   "cell_type": "code",
   "execution_count": 11,
   "id": "4c4ea77d",
   "metadata": {
    "execution": {
     "iopub.execute_input": "2025-09-18T08:59:02.047900Z",
     "iopub.status.busy": "2025-09-18T08:59:02.047533Z",
     "iopub.status.idle": "2025-09-18T08:59:02.064241Z",
     "shell.execute_reply": "2025-09-18T08:59:02.063637Z"
    }
   },
   "outputs": [
    {
     "name": "stdout",
     "output_type": "stream",
     "text": [
      "Multi-Bond Analytics Summary:\n"
     ]
    },
    {
     "data": {
      "text/html": [
       "<div>\n",
       "<style scoped>\n",
       "    .dataframe tbody tr th:only-of-type {\n",
       "        vertical-align: middle;\n",
       "    }\n",
       "\n",
       "    .dataframe tbody tr th {\n",
       "        vertical-align: top;\n",
       "    }\n",
       "\n",
       "    .dataframe thead th {\n",
       "        text-align: right;\n",
       "    }\n",
       "</style>\n",
       "<table border=\"1\" class=\"dataframe\">\n",
       "  <thead>\n",
       "    <tr style=\"text-align: right;\">\n",
       "      <th>InstrumentTag</th>\n",
       "      <th>USD_5Y_BOND_4.25</th>\n",
       "      <th>USD_10Y_BOND_SOFR_150</th>\n",
       "      <th>USD_5Y_BOND_ZC</th>\n",
       "      <th>BOND_ISIN=US912810RQ31</th>\n",
       "    </tr>\n",
       "  </thead>\n",
       "  <tbody>\n",
       "    <tr>\n",
       "      <th>NotionalCcy</th>\n",
       "      <td>USD</td>\n",
       "      <td>USD</td>\n",
       "      <td>USD</td>\n",
       "      <td>USD</td>\n",
       "    </tr>\n",
       "    <tr>\n",
       "      <th>MarketValueInDealCcy</th>\n",
       "      <td>1066952.2188</td>\n",
       "      <td>1520285.2015</td>\n",
       "      <td>983634.4299</td>\n",
       "      <td>771035.0483</td>\n",
       "    </tr>\n",
       "    <tr>\n",
       "      <th>ReportCcy</th>\n",
       "      <td>USD</td>\n",
       "      <td>USD</td>\n",
       "      <td>USD</td>\n",
       "      <td>USD</td>\n",
       "    </tr>\n",
       "    <tr>\n",
       "      <th>MarketValueInReportCcy</th>\n",
       "      <td>1066952.2188</td>\n",
       "      <td>1520285.2015</td>\n",
       "      <td>983634.4299</td>\n",
       "      <td>771035.0483</td>\n",
       "    </tr>\n",
       "    <tr>\n",
       "      <th>CleanPricePercent</th>\n",
       "      <td>105.2431</td>\n",
       "      <td>151.4272</td>\n",
       "      <td>98.3634</td>\n",
       "      <td>76.0469</td>\n",
       "    </tr>\n",
       "    <tr>\n",
       "      <th>DirtyPricePercent</th>\n",
       "      <td>106.6952</td>\n",
       "      <td>152.0285</td>\n",
       "      <td>98.3634</td>\n",
       "      <td>77.1035</td>\n",
       "    </tr>\n",
       "    <tr>\n",
       "      <th>YieldPercent</th>\n",
       "      <td>1.0</td>\n",
       "      <td>0.8509</td>\n",
       "      <td>1.0</td>\n",
       "      <td>4.1435</td>\n",
       "    </tr>\n",
       "    <tr>\n",
       "      <th>ModifiedDuration</th>\n",
       "      <td>1.5915</td>\n",
       "      <td>0.1583</td>\n",
       "      <td>1.6419</td>\n",
       "      <td>15.9121</td>\n",
       "    </tr>\n",
       "    <tr>\n",
       "      <th>Convexity</th>\n",
       "      <td>3.3894</td>\n",
       "      <td>9.7069</td>\n",
       "      <td>4.3215</td>\n",
       "      <td>321.3819</td>\n",
       "    </tr>\n",
       "    <tr>\n",
       "      <th>DV01Bp</th>\n",
       "      <td>1.6981</td>\n",
       "      <td>2.8534</td>\n",
       "      <td>1.615</td>\n",
       "      <td>12.2688</td>\n",
       "    </tr>\n",
       "    <tr>\n",
       "      <th>ErrorCode</th>\n",
       "      <td></td>\n",
       "      <td></td>\n",
       "      <td></td>\n",
       "      <td></td>\n",
       "    </tr>\n",
       "    <tr>\n",
       "      <th>ErrorMessage</th>\n",
       "      <td></td>\n",
       "      <td></td>\n",
       "      <td></td>\n",
       "      <td></td>\n",
       "    </tr>\n",
       "  </tbody>\n",
       "</table>\n",
       "</div>"
      ],
      "text/plain": [
       "InstrumentTag          USD_5Y_BOND_4.25 USD_10Y_BOND_SOFR_150 USD_5Y_BOND_ZC  \\\n",
       "NotionalCcy                         USD                   USD            USD   \n",
       "MarketValueInDealCcy       1066952.2188          1520285.2015    983634.4299   \n",
       "ReportCcy                           USD                   USD            USD   \n",
       "MarketValueInReportCcy     1066952.2188          1520285.2015    983634.4299   \n",
       "CleanPricePercent              105.2431              151.4272        98.3634   \n",
       "DirtyPricePercent              106.6952              152.0285        98.3634   \n",
       "YieldPercent                        1.0                0.8509            1.0   \n",
       "ModifiedDuration                 1.5915                0.1583         1.6419   \n",
       "Convexity                        3.3894                9.7069         4.3215   \n",
       "DV01Bp                           1.6981                2.8534          1.615   \n",
       "ErrorCode                                                                      \n",
       "ErrorMessage                                                                   \n",
       "\n",
       "InstrumentTag          BOND_ISIN=US912810RQ31  \n",
       "NotionalCcy                               USD  \n",
       "MarketValueInDealCcy              771035.0483  \n",
       "ReportCcy                                 USD  \n",
       "MarketValueInReportCcy            771035.0483  \n",
       "CleanPricePercent                     76.0469  \n",
       "DirtyPricePercent                     77.1035  \n",
       "YieldPercent                           4.1435  \n",
       "ModifiedDuration                      15.9121  \n",
       "Convexity                            321.3819  \n",
       "DV01Bp                                12.2688  \n",
       "ErrorCode                                      \n",
       "ErrorMessage                                   "
      ]
     },
     "metadata": {},
     "output_type": "display_data"
    }
   ],
   "source": [
    "# Convert multi-bond analytics to DataFrame for better visualization\n",
    "print(\"Multi-Bond Analytics Summary:\")\n",
    "columns = [item['name'] for item in response['data']['analytics'][0]['tabularData']['headers']]\n",
    "response_data = [item['tabularData']['data'] for item in response['data']['analytics']]\n",
    "\n",
    "response_df = pd.DataFrame(response_data, columns=columns)\n",
    "\n",
    "# Set InstrumentTag as index for better readability\n",
    "response_df.set_index('InstrumentTag', inplace=True)\n",
    "\n",
    "# Round numerical values to 4 decimal places while keeping strings unchanged\n",
    "response_df_rounded = response_df.copy()\n",
    "for col in response_df_rounded.columns:\n",
    "    if response_df_rounded[col].dtype in ['float64', 'int64']:\n",
    "        response_df_rounded[col] = response_df_rounded[col].round(4)\n",
    "\n",
    "display(response_df_rounded.T)"
   ]
  },
  {
   "cell_type": "markdown",
   "id": "b0ae45e5",
   "metadata": {},
   "source": [
    "## Appendix: Complete Functions Reference\n",
    "\n",
    "The following is a complete list of all classes, enums, and functions available after importing from `lseg_analytics.instruments.bond`:\n",
    "\n",
    "**Core Classes:**\n",
    "- `BondDefinition` - Define bond instrument specifications (coupon, maturity, face value, payment frequency, conventions, etc.)\n",
    "- `BondDefinitionInstrument` - Instrument container for pricing operations \n",
    "- `BondPricingParameters` - Configure pricing parameters\n",
    "- `AmortizationItemDefinition` - Define amortization schedules for amortizing bonds\n",
    "\n",
    "**Response Classes:**\n",
    "- `BondCalculationResponse` - Main response container\n",
    "- `BondValuation` - Individual bond valuation results\n",
    "- `BondAnalyticsResponseData` - Detailed analytics and calculations\n",
    "- `BondAnalyticsResponseWithError`: Analytics response with error\n",
    "- `BondCashflows` - Detailed cashflow schedules\n",
    "- `BondDescription` - Bond instrument summary information\n",
    "- `BondPricingAnalysis` - Comprehensive pricing analysis results\n",
    "\n",
    "**Bond Analytics Classes:**\n",
    "- `BondNominalMeasures` - Different Bond risk measures (duration, DV01, convexity, etc.)\n",
    "- `BondEffectiveMeasures` - Different Callable/Puttable Bond risk measures (duration, DV01, convexity, etc.)\n",
    "- `BondSpreadMeasures` - Credit spread and basis point analytics\n",
    "- `BondRoundingParameters` - Precision settings for calculations\n",
    "\n",
    "**Bond Configuration Enums:**\n",
    "- `InterestTypeEnum` - Bond type: FIXED, FLOAT, STEPPED\n",
    "- `InterestPaymentFrequencyEnum` - Payment frequencies: ANNUAL, SEMI_ANNUAL, QUARTERLY, MONTHLY, ZERO, etc.\n",
    "- `InterestCalculationMethodEnum` - Day count conventions: DCB_30_360, DCB_ACTUAL_360, DCB_ACTUAL_365, etc.\n",
    "- `PaymentBusinessDayConventionEnum` - Business day adjustment: MODIFIED_FOLLOWING, NEXT_BUSINESS_DAY, etc.\n",
    "- `FinancialContractStubRuleEnum` - Stub period alignment: ISSUE, MATURITY, etc.\n",
    "\n",
    "**Floating Rate Bond Enums:**\n",
    "- `IndexResetFrequencyEnum` - Reset frequencies: EVERYDAY, MONTHLY, QUARTERLY\n",
    "- `ProjectedIndexCalculationMethodEnum` - Forward index calculation methods: CONSTANT_COUPON_PAYMENT, CONSTANT_INDEX, FORWARD_INDEX\n",
    "- `IndexCompoundingMethodEnum` - Index compounding methodologies: AVERAGE, COMPOUNDED, etc.\n",
    "- `IndexAverageMethodEnum` - Index averaging techniques: ARITHMETIC_AVERAGE, COMPOUNDED_ACTUAL, COMPOUNDED_AVERAGE_RATE, DAILY_COMPOUNDED_AVERAGE\n",
    "\n",
    "**Market Data Enums:**\n",
    "- `PriceSideEnum` - Market price sides: BID, ASK, MID, LAST\n",
    "- `FxPriceSideEnum` - FX price side selection for currency conversion: BID, ASK, MID, LAST\n",
    "- `IPAIndexObservationMethodEnum` - Index observation methods: LOOKBACK, MIXED, PERIOD_SHIFT\n",
    "\n",
    "**Pricing Configuration Enums:**\n",
    "- `QuotationModeEnum` - Bond quotation methods: CASH_GROSS_PRICE , YIELD, SPREAD, etc.\n",
    "- `QuoteFallbackLogicEnum` - Fallback logic of bond quotation: BEST_FIELD, NONE\n",
    "- `YieldTypeEnum` - Yield calculation types: ANNUAL_EQUIVALENT, DISCOUNT_ACTUAL_360, etc.\n",
    "- `CreditSpreadTypeEnum` - Credit spread measurement types: FLAT_SPREAD, TERM_STRUCTURE\n",
    "- `BenchmarkYieldSelectionModeEnum` - Benchmark curve selection methods: INTERPOLATE, NEAREST\n",
    "\n",
    "**Rounding Configuration Enums:**\n",
    "- `PriceRoundingEnum` / `PriceRoundingTypeEnum` - Price precision settings: ZERO to EIGHT + DEFAULT and UNROUNDED / CEIL, DOWN, etc.\n",
    "- `YieldRoundingEnum` / `YieldRoundingTypeEnum` - Yield precision settings: ZERO to EIGHT + DEFAULT and UNROUNDED / CEIL, DOWN, etc.\n",
    "- `SpreadRoundingEnum` / `SpreadRoundingTypeEnum` - Spread precision settings: ZERO to EIGHT + DEFAULT and UNROUNDED / CEIL, DOWN, etc.\n",
    "- `AccruedRoundingEnum` / `AccruedRoundingTypeEnum` - Accrued interest precision: ZERO to EIGHT + DEFAULT and UNROUNDED / CEIL, DOWN, etc.\n",
    "\n",
    "**Bond Structure Enums:**\n",
    "- `AmortizationFrequencyEnum` - Amortization payment frequencies: ANNUAL, SEMI_ANNUAL, QUARTERLY, MONTHLY, ZERO, etc.\n",
    "- `IPAAmortizationTypeEnum` - Amortization schedule types: ANNUITY, LINEAR, NONE, SCHEDULE\n",
    "- `RedemptionDateTypeEnum` - Early redemption date handling: NATIVE_REDEMPTION_DATE, REDEMPTION_AT_CUSTOM_DAT, etc.\n",
    "- `AdjustInterestToPaymentDateEnum` - Interest payment date adjustments: ADJUSTED, UNADJUSTED\n",
    "\n",
    "**Market Data Classes:**\n",
    "- `MarketDataQps` - Market data configuration and sources\n",
    "- `DefaultBondQuote` - Default bond pricing quotes\n",
    "- `HullWhiteParameters` - Hull & White interest rate model parameters\n",
    "\n",
    "**Utility Enums:**\n",
    "- `PaymentRollConventionEnum` - Payment date rolling conventions: LAST, LAST28, SAME, SAME1, SAME28\n",
    "- `AccruedCalculationMethodEnum` - Accrued interest calculation methods: DCB_30_360, DCB_ACTUAL_360, DCB_ACTUAL_365, etc.\n",
    "- `InflationModeEnum` - Inflation adjustment modes: ADJUSTED, UNADJUSTED, DEFAULT\n",
    "- `VolatilityTermStructureTypeEnum` - Volatility surface types: HISTORICAL, IMPLIED\n",
    "- `IPADirectionEnum` - Trade direction: PAID, RECEIVED\n",
    "- `IPAVolatilityTypeEnum` - Volatility input types: FLAT, TERM_STRUCTURE\n",
    "- `IPADividendTypeEnum` - Dividend input types: IMPLIED_TABLE, FORECAST_YIELD\n",
    "\n",
    "**Main Functions:**\n",
    "- `price()` - Execute bond pricing calculations with comprehensive analytics\n",
    "- `functions_all()` - List all available functions in the bond module"
   ]
  }
 ],
 "metadata": {
  "kernelspec": {
   "display_name": "jupyterlab-ext",
   "language": "python",
   "name": "python3"
  },
  "language_info": {
   "codemirror_mode": {
    "name": "ipython",
    "version": 3
   },
   "file_extension": ".py",
   "mimetype": "text/x-python",
   "name": "python",
   "nbconvert_exporter": "python",
   "pygments_lexer": "ipython3",
   "version": "3.11.6"
  }
 },
 "nbformat": 4,
 "nbformat_minor": 5
}
