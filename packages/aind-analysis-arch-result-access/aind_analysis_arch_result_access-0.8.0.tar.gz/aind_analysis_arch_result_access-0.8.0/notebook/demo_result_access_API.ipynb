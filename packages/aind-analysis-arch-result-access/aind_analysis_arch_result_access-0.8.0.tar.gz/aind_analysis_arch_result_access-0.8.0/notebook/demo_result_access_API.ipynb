{
 "cells": [
  {
   "cell_type": "markdown",
   "metadata": {},
   "source": [
    "# Result access API demo"
   ]
  },
  {
   "cell_type": "markdown",
   "metadata": {},
   "source": [
    "Han Hou 02/2025"
   ]
  },
  {
   "cell_type": "code",
   "execution_count": 1,
   "metadata": {},
   "outputs": [],
   "source": [
    "%load_ext autoreload\n",
    "%autoreload 2\n",
    "\n",
    "import logging\n",
    "logging.basicConfig(level=logging.INFO)\n",
    "\n",
    "import pandas as pd\n",
    "\n",
    "from aind_analysis_arch_result_access.han_pipeline import get_session_table, get_mle_model_fitting, get_logistic_regression"
   ]
  },
  {
   "cell_type": "markdown",
   "metadata": {},
   "source": [
    "## 1. Get the master session table (same as in Streamlit, updated daily)"
   ]
  },
  {
   "cell_type": "code",
   "execution_count": 10,
   "metadata": {},
   "outputs": [
    {
     "name": "stderr",
     "output_type": "stream",
     "text": [
      "INFO:aind_analysis_arch_result_access.han_pipeline:Loading session table from s3://aind-behavior-data/foraging_nwb_bonsai_processed ...\n"
     ]
    },
    {
     "name": "stderr",
     "output_type": "stream",
     "text": [
      "INFO:aind_analysis_arch_result_access.han_pipeline:Loading mouse PI mapping from s3://aind-behavior-data/foraging_nwb_bonsai_processed ...\n",
      "INFO:aind_analysis_arch_result_access.han_pipeline:Post-hoc processing...\n"
     ]
    }
   ],
   "source": [
    "df_master = get_session_table(if_load_bpod=False)"
   ]
  },
  {
   "cell_type": "code",
   "execution_count": 11,
   "metadata": {},
   "outputs": [
    {
     "data": {
      "text/plain": [
       "(7609, 148)"
      ]
     },
     "execution_count": 11,
     "metadata": {},
     "output_type": "execute_result"
    }
   ],
   "source": [
    "df_master.shape"
   ]
  },
  {
   "cell_type": "code",
   "execution_count": 12,
   "metadata": {},
   "outputs": [
    {
     "data": {
      "text/html": [
       "<div>\n",
       "<style scoped>\n",
       "    .dataframe tbody tr th:only-of-type {\n",
       "        vertical-align: middle;\n",
       "    }\n",
       "\n",
       "    .dataframe tbody tr th {\n",
       "        vertical-align: top;\n",
       "    }\n",
       "\n",
       "    .dataframe thead th {\n",
       "        text-align: right;\n",
       "    }\n",
       "</style>\n",
       "<table border=\"1\" class=\"dataframe\">\n",
       "  <thead>\n",
       "    <tr style=\"text-align: right;\">\n",
       "      <th></th>\n",
       "      <th>subject_id</th>\n",
       "      <th>session_date</th>\n",
       "      <th>nwb_suffix</th>\n",
       "      <th>session</th>\n",
       "      <th>rig</th>\n",
       "      <th>trainer</th>\n",
       "      <th>PI</th>\n",
       "      <th>curriculum_name</th>\n",
       "      <th>curriculum_version</th>\n",
       "      <th>current_stage_actual</th>\n",
       "      <th>...</th>\n",
       "      <th>abs(bias_naive)</th>\n",
       "      <th>abs(logistic_Su2022_bias)</th>\n",
       "      <th>abs(logistic_Bari2019_bias)</th>\n",
       "      <th>abs(logistic_Hattori2019_bias)</th>\n",
       "      <th>abs(logistic_Miller2021_bias)</th>\n",
       "      <th>weekday</th>\n",
       "      <th>avg_trial_length_in_seconds</th>\n",
       "      <th>water_day_total_last_session</th>\n",
       "      <th>water_after_session_last_session</th>\n",
       "      <th>curriculum_version_group</th>\n",
       "    </tr>\n",
       "  </thead>\n",
       "  <tbody>\n",
       "    <tr>\n",
       "      <th>0</th>\n",
       "      <td>769253</td>\n",
       "      <td>2025-03-12</td>\n",
       "      <td>185318</td>\n",
       "      <td>32.0</td>\n",
       "      <td>446-8-D</td>\n",
       "      <td>Bowen Tan</td>\n",
       "      <td>Bowen Tan</td>\n",
       "      <td>Uncoupled Baiting</td>\n",
       "      <td>2.3</td>\n",
       "      <td>GRADUATED</td>\n",
       "      <td>...</td>\n",
       "      <td>0.163972</td>\n",
       "      <td>0.244651</td>\n",
       "      <td>0.183107</td>\n",
       "      <td>0.180300</td>\n",
       "      <td>0.130287</td>\n",
       "      <td>3</td>\n",
       "      <td>10.344828</td>\n",
       "      <td>NaN</td>\n",
       "      <td>NaN</td>\n",
       "      <td>v3</td>\n",
       "    </tr>\n",
       "    <tr>\n",
       "      <th>1</th>\n",
       "      <td>765628</td>\n",
       "      <td>2025-03-12</td>\n",
       "      <td>185051</td>\n",
       "      <td>10.0</td>\n",
       "      <td>446-8-C</td>\n",
       "      <td>Bowen Tan</td>\n",
       "      <td>Bowen Tan</td>\n",
       "      <td>Uncoupled Baiting</td>\n",
       "      <td>2.3</td>\n",
       "      <td>STAGE_FINAL</td>\n",
       "      <td>...</td>\n",
       "      <td>0.347932</td>\n",
       "      <td>0.249706</td>\n",
       "      <td>0.186309</td>\n",
       "      <td>0.190249</td>\n",
       "      <td>0.265820</td>\n",
       "      <td>3</td>\n",
       "      <td>10.563380</td>\n",
       "      <td>NaN</td>\n",
       "      <td>NaN</td>\n",
       "      <td>v3</td>\n",
       "    </tr>\n",
       "    <tr>\n",
       "      <th>2</th>\n",
       "      <td>765062</td>\n",
       "      <td>2025-03-12</td>\n",
       "      <td>184659</td>\n",
       "      <td>23.0</td>\n",
       "      <td>446-7-D</td>\n",
       "      <td>Bowen Tan</td>\n",
       "      <td>Bowen Tan</td>\n",
       "      <td>Uncoupled Baiting</td>\n",
       "      <td>2.3</td>\n",
       "      <td>GRADUATED</td>\n",
       "      <td>...</td>\n",
       "      <td>0.039848</td>\n",
       "      <td>0.000998</td>\n",
       "      <td>0.003768</td>\n",
       "      <td>0.003553</td>\n",
       "      <td>0.012560</td>\n",
       "      <td>3</td>\n",
       "      <td>9.255898</td>\n",
       "      <td>NaN</td>\n",
       "      <td>NaN</td>\n",
       "      <td>v3</td>\n",
       "    </tr>\n",
       "    <tr>\n",
       "      <th>3</th>\n",
       "      <td>765626</td>\n",
       "      <td>2025-03-12</td>\n",
       "      <td>183921</td>\n",
       "      <td>10.0</td>\n",
       "      <td>446-7-C</td>\n",
       "      <td>Bowen Tan</td>\n",
       "      <td>Bowen Tan</td>\n",
       "      <td>Uncoupled Baiting</td>\n",
       "      <td>2.3</td>\n",
       "      <td>STAGE_FINAL</td>\n",
       "      <td>...</td>\n",
       "      <td>0.193858</td>\n",
       "      <td>0.140964</td>\n",
       "      <td>0.136131</td>\n",
       "      <td>0.198543</td>\n",
       "      <td>0.162198</td>\n",
       "      <td>3</td>\n",
       "      <td>8.604207</td>\n",
       "      <td>NaN</td>\n",
       "      <td>NaN</td>\n",
       "      <td>v3</td>\n",
       "    </tr>\n",
       "    <tr>\n",
       "      <th>4</th>\n",
       "      <td>770772</td>\n",
       "      <td>2025-03-12</td>\n",
       "      <td>183710</td>\n",
       "      <td>32.0</td>\n",
       "      <td>446-7-A</td>\n",
       "      <td>Bowen Tan</td>\n",
       "      <td>Bowen Tan</td>\n",
       "      <td>Uncoupled Baiting</td>\n",
       "      <td>2.3</td>\n",
       "      <td>STAGE_FINAL</td>\n",
       "      <td>...</td>\n",
       "      <td>0.272727</td>\n",
       "      <td>0.210806</td>\n",
       "      <td>0.194899</td>\n",
       "      <td>0.196089</td>\n",
       "      <td>0.234781</td>\n",
       "      <td>3</td>\n",
       "      <td>9.285714</td>\n",
       "      <td>NaN</td>\n",
       "      <td>NaN</td>\n",
       "      <td>v3</td>\n",
       "    </tr>\n",
       "  </tbody>\n",
       "</table>\n",
       "<p>5 rows × 148 columns</p>\n",
       "</div>"
      ],
      "text/plain": [
       "  subject_id session_date  nwb_suffix  session      rig    trainer         PI  \\\n",
       "0     769253   2025-03-12      185318     32.0  446-8-D  Bowen Tan  Bowen Tan   \n",
       "1     765628   2025-03-12      185051     10.0  446-8-C  Bowen Tan  Bowen Tan   \n",
       "2     765062   2025-03-12      184659     23.0  446-7-D  Bowen Tan  Bowen Tan   \n",
       "3     765626   2025-03-12      183921     10.0  446-7-C  Bowen Tan  Bowen Tan   \n",
       "4     770772   2025-03-12      183710     32.0  446-7-A  Bowen Tan  Bowen Tan   \n",
       "\n",
       "     curriculum_name curriculum_version current_stage_actual  ...  \\\n",
       "0  Uncoupled Baiting                2.3            GRADUATED  ...   \n",
       "1  Uncoupled Baiting                2.3          STAGE_FINAL  ...   \n",
       "2  Uncoupled Baiting                2.3            GRADUATED  ...   \n",
       "3  Uncoupled Baiting                2.3          STAGE_FINAL  ...   \n",
       "4  Uncoupled Baiting                2.3          STAGE_FINAL  ...   \n",
       "\n",
       "  abs(bias_naive) abs(logistic_Su2022_bias) abs(logistic_Bari2019_bias)  \\\n",
       "0        0.163972                  0.244651                    0.183107   \n",
       "1        0.347932                  0.249706                    0.186309   \n",
       "2        0.039848                  0.000998                    0.003768   \n",
       "3        0.193858                  0.140964                    0.136131   \n",
       "4        0.272727                  0.210806                    0.194899   \n",
       "\n",
       "  abs(logistic_Hattori2019_bias) abs(logistic_Miller2021_bias)  weekday  \\\n",
       "0                       0.180300                      0.130287        3   \n",
       "1                       0.190249                      0.265820        3   \n",
       "2                       0.003553                      0.012560        3   \n",
       "3                       0.198543                      0.162198        3   \n",
       "4                       0.196089                      0.234781        3   \n",
       "\n",
       "   avg_trial_length_in_seconds  water_day_total_last_session  \\\n",
       "0                    10.344828                           NaN   \n",
       "1                    10.563380                           NaN   \n",
       "2                     9.255898                           NaN   \n",
       "3                     8.604207                           NaN   \n",
       "4                     9.285714                           NaN   \n",
       "\n",
       "   water_after_session_last_session  curriculum_version_group  \n",
       "0                               NaN                        v3  \n",
       "1                               NaN                        v3  \n",
       "2                               NaN                        v3  \n",
       "3                               NaN                        v3  \n",
       "4                               NaN                        v3  \n",
       "\n",
       "[5 rows x 148 columns]"
      ]
     },
     "execution_count": 12,
     "metadata": {},
     "output_type": "execute_result"
    }
   ],
   "source": [
    "df_master.head()"
   ]
  },
  {
   "cell_type": "code",
   "execution_count": 13,
   "metadata": {},
   "outputs": [
    {
     "name": "stdout",
     "output_type": "stream",
     "text": [
      "Index(['subject_id', 'session_date', 'nwb_suffix', 'session', 'rig', 'trainer',\n",
      "       'PI', 'curriculum_name', 'curriculum_version', 'current_stage_actual',\n",
      "       ...\n",
      "       'abs(bias_naive)', 'abs(logistic_Su2022_bias)',\n",
      "       'abs(logistic_Bari2019_bias)', 'abs(logistic_Hattori2019_bias)',\n",
      "       'abs(logistic_Miller2021_bias)', 'weekday',\n",
      "       'avg_trial_length_in_seconds', 'water_day_total_last_session',\n",
      "       'water_after_session_last_session', 'curriculum_version_group'],\n",
      "      dtype='object', length=148)\n"
     ]
    }
   ],
   "source": [
    "print(df_master.columns)"
   ]
  },
  {
   "cell_type": "markdown",
   "metadata": {},
   "source": [
    "## 2. Get logistic regression results"
   ]
  },
  {
   "cell_type": "code",
   "execution_count": 6,
   "metadata": {},
   "outputs": [],
   "source": [
    "from aind_analysis_arch_result_access.han_pipeline import get_logistic_regression"
   ]
  },
  {
   "cell_type": "markdown",
   "metadata": {},
   "source": [
    "Get one session"
   ]
  },
  {
   "cell_type": "code",
   "execution_count": 31,
   "metadata": {},
   "outputs": [
    {
     "name": "stderr",
     "output_type": "stream",
     "text": [
      "INFO:aind_analysis_arch_result_access.han_pipeline:Loading session table from s3://aind-behavior-data/foraging_nwb_bonsai_processed ...\n"
     ]
    },
    {
     "name": "stderr",
     "output_type": "stream",
     "text": [
      "INFO:aind_analysis_arch_result_access.han_pipeline:Loading mouse PI mapping from s3://aind-behavior-data/foraging_nwb_bonsai_processed ...\n",
      "INFO:aind_analysis_arch_result_access.han_pipeline:Post-hoc processing...\n",
      "Get logistic regression betas from s3: 100%|██████████| 1/1 [00:00<00:00, 19.52it/s]\n",
      "INFO:aind_analysis_arch_result_access.han_pipeline:Successfully retrieved logistic regression betas from 1 / 1 sessions.\n"
     ]
    },
    {
     "data": {
      "text/html": [
       "<div>\n",
       "<style scoped>\n",
       "    .dataframe tbody tr th:only-of-type {\n",
       "        vertical-align: middle;\n",
       "    }\n",
       "\n",
       "    .dataframe tbody tr th {\n",
       "        vertical-align: top;\n",
       "    }\n",
       "\n",
       "    .dataframe thead tr th {\n",
       "        text-align: left;\n",
       "    }\n",
       "</style>\n",
       "<table border=\"1\" class=\"dataframe\">\n",
       "  <thead>\n",
       "    <tr>\n",
       "      <th></th>\n",
       "      <th>subject_id</th>\n",
       "      <th>session_date</th>\n",
       "      <th>nwb_suffix</th>\n",
       "      <th colspan=\"7\" halign=\"left\">RewC</th>\n",
       "      <th>...</th>\n",
       "      <th colspan=\"2\" halign=\"left\">UnrC</th>\n",
       "      <th>bias</th>\n",
       "      <th>logistic_Su2022_RewC_amp</th>\n",
       "      <th>logistic_Su2022_RewC_tau</th>\n",
       "      <th>logistic_Su2022_UnrC_amp</th>\n",
       "      <th>logistic_Su2022_UnrC_tau</th>\n",
       "      <th>logistic_Su2022_bias</th>\n",
       "      <th>logistic_Su2022_score_mean</th>\n",
       "      <th>logistic_Su2022_score_std</th>\n",
       "    </tr>\n",
       "    <tr>\n",
       "      <th></th>\n",
       "      <th></th>\n",
       "      <th></th>\n",
       "      <th></th>\n",
       "      <th>15</th>\n",
       "      <th>14</th>\n",
       "      <th>13</th>\n",
       "      <th>12</th>\n",
       "      <th>11</th>\n",
       "      <th>10</th>\n",
       "      <th>9</th>\n",
       "      <th>...</th>\n",
       "      <th>2</th>\n",
       "      <th>1</th>\n",
       "      <th>NaN</th>\n",
       "      <th>NaN</th>\n",
       "      <th>NaN</th>\n",
       "      <th>NaN</th>\n",
       "      <th>NaN</th>\n",
       "      <th>NaN</th>\n",
       "      <th>NaN</th>\n",
       "      <th>NaN</th>\n",
       "    </tr>\n",
       "  </thead>\n",
       "  <tbody>\n",
       "    <tr>\n",
       "      <th>0</th>\n",
       "      <td>769253</td>\n",
       "      <td>2025-03-12</td>\n",
       "      <td>185318</td>\n",
       "      <td>0.167723</td>\n",
       "      <td>0.012139</td>\n",
       "      <td>-0.002052</td>\n",
       "      <td>-0.25395</td>\n",
       "      <td>0.030127</td>\n",
       "      <td>-0.036445</td>\n",
       "      <td>0.077883</td>\n",
       "      <td>...</td>\n",
       "      <td>0.295642</td>\n",
       "      <td>0.633673</td>\n",
       "      <td>-0.244651</td>\n",
       "      <td>1.821531</td>\n",
       "      <td>1.651</td>\n",
       "      <td>1.230054</td>\n",
       "      <td>1.512642</td>\n",
       "      <td>-0.244651</td>\n",
       "      <td>0.8018</td>\n",
       "      <td>0.103951</td>\n",
       "    </tr>\n",
       "  </tbody>\n",
       "</table>\n",
       "<p>1 rows × 41 columns</p>\n",
       "</div>"
      ],
      "text/plain": [
       "  subject_id session_date nwb_suffix      RewC                               \\\n",
       "                                            15        14        13       12   \n",
       "0     769253   2025-03-12     185318  0.167723  0.012139 -0.002052 -0.25395   \n",
       "\n",
       "                                 ...      UnrC                bias  \\\n",
       "         11        10         9  ...         2         1       NaN   \n",
       "0  0.030127 -0.036445  0.077883  ...  0.295642  0.633673 -0.244651   \n",
       "\n",
       "  logistic_Su2022_RewC_amp logistic_Su2022_RewC_tau logistic_Su2022_UnrC_amp  \\\n",
       "                       NaN                      NaN                      NaN   \n",
       "0                 1.821531                    1.651                 1.230054   \n",
       "\n",
       "  logistic_Su2022_UnrC_tau logistic_Su2022_bias logistic_Su2022_score_mean  \\\n",
       "                       NaN                  NaN                        NaN   \n",
       "0                 1.512642            -0.244651                     0.8018   \n",
       "\n",
       "  logistic_Su2022_score_std  \n",
       "                        NaN  \n",
       "0                  0.103951  \n",
       "\n",
       "[1 rows x 41 columns]"
      ]
     },
     "execution_count": 31,
     "metadata": {},
     "output_type": "execute_result"
    }
   ],
   "source": [
    "df_logistic = get_logistic_regression(\n",
    "    df_sessions=pd.DataFrame(\n",
    "        {\n",
    "            \"subject_id\": [\"769253\"],\n",
    "            \"session_date\": [\"2025-03-12\"],\n",
    "        }\n",
    "    ),\n",
    "    model=\"Su2022\",\n",
    "    if_download_figures=False,\n",
    ")\n",
    "df_logistic"
   ]
  },
  {
   "cell_type": "markdown",
   "metadata": {},
   "source": [
    "Get beta coefficients"
   ]
  },
  {
   "cell_type": "code",
   "execution_count": 40,
   "metadata": {},
   "outputs": [
    {
     "data": {
      "text/html": [
       "<div>\n",
       "<style scoped>\n",
       "    .dataframe tbody tr th:only-of-type {\n",
       "        vertical-align: middle;\n",
       "    }\n",
       "\n",
       "    .dataframe tbody tr th {\n",
       "        vertical-align: top;\n",
       "    }\n",
       "\n",
       "    .dataframe thead th {\n",
       "        text-align: right;\n",
       "    }\n",
       "</style>\n",
       "<table border=\"1\" class=\"dataframe\">\n",
       "  <thead>\n",
       "    <tr style=\"text-align: right;\">\n",
       "      <th></th>\n",
       "      <th>15</th>\n",
       "      <th>14</th>\n",
       "      <th>13</th>\n",
       "      <th>12</th>\n",
       "      <th>11</th>\n",
       "      <th>10</th>\n",
       "      <th>9</th>\n",
       "      <th>8</th>\n",
       "      <th>7</th>\n",
       "      <th>6</th>\n",
       "      <th>5</th>\n",
       "      <th>4</th>\n",
       "      <th>3</th>\n",
       "      <th>2</th>\n",
       "      <th>1</th>\n",
       "    </tr>\n",
       "  </thead>\n",
       "  <tbody>\n",
       "    <tr>\n",
       "      <th>0</th>\n",
       "      <td>0.167723</td>\n",
       "      <td>0.012139</td>\n",
       "      <td>-0.002052</td>\n",
       "      <td>-0.25395</td>\n",
       "      <td>0.030127</td>\n",
       "      <td>-0.036445</td>\n",
       "      <td>0.077883</td>\n",
       "      <td>0.018846</td>\n",
       "      <td>0.235873</td>\n",
       "      <td>0.001608</td>\n",
       "      <td>0.174253</td>\n",
       "      <td>0.037561</td>\n",
       "      <td>0.369203</td>\n",
       "      <td>0.475439</td>\n",
       "      <td>1.01776</td>\n",
       "    </tr>\n",
       "  </tbody>\n",
       "</table>\n",
       "</div>"
      ],
      "text/plain": [
       "         15        14        13       12        11        10         9  \\\n",
       "0  0.167723  0.012139 -0.002052 -0.25395  0.030127 -0.036445  0.077883   \n",
       "\n",
       "          8         7         6         5         4         3         2  \\\n",
       "0  0.018846  0.235873  0.001608  0.174253  0.037561  0.369203  0.475439   \n",
       "\n",
       "         1  \n",
       "0  1.01776  "
      ]
     },
     "execution_count": 40,
     "metadata": {},
     "output_type": "execute_result"
    }
   ],
   "source": [
    "# Rewarded choice (of \"N\" trials back)\n",
    "df_logistic.RewC"
   ]
  },
  {
   "cell_type": "code",
   "execution_count": 44,
   "metadata": {},
   "outputs": [
    {
     "data": {
      "text/html": [
       "<div>\n",
       "<style scoped>\n",
       "    .dataframe tbody tr th:only-of-type {\n",
       "        vertical-align: middle;\n",
       "    }\n",
       "\n",
       "    .dataframe tbody tr th {\n",
       "        vertical-align: top;\n",
       "    }\n",
       "\n",
       "    .dataframe thead th {\n",
       "        text-align: right;\n",
       "    }\n",
       "</style>\n",
       "<table border=\"1\" class=\"dataframe\">\n",
       "  <thead>\n",
       "    <tr style=\"text-align: right;\">\n",
       "      <th></th>\n",
       "      <th>NaN</th>\n",
       "    </tr>\n",
       "  </thead>\n",
       "  <tbody>\n",
       "    <tr>\n",
       "      <th>0</th>\n",
       "      <td>-0.244651</td>\n",
       "    </tr>\n",
       "  </tbody>\n",
       "</table>\n",
       "</div>"
      ],
      "text/plain": [
       "        NaN\n",
       "0 -0.244651"
      ]
     },
     "execution_count": 44,
     "metadata": {},
     "output_type": "execute_result"
    }
   ],
   "source": [
    "df_logistic.bias"
   ]
  },
  {
   "cell_type": "markdown",
   "metadata": {},
   "source": [
    "Get sessions in batch"
   ]
  },
  {
   "cell_type": "code",
   "execution_count": 19,
   "metadata": {},
   "outputs": [
    {
     "name": "stderr",
     "output_type": "stream",
     "text": [
      "INFO:aind_analysis_arch_result_access.han_pipeline:Loading session table from s3://aind-behavior-data/foraging_nwb_bonsai_processed ...\n"
     ]
    },
    {
     "name": "stderr",
     "output_type": "stream",
     "text": [
      "INFO:aind_analysis_arch_result_access.han_pipeline:Loading mouse PI mapping from s3://aind-behavior-data/foraging_nwb_bonsai_processed ...\n",
      "INFO:aind_analysis_arch_result_access.han_pipeline:Post-hoc processing...\n",
      "Get logistic regression betas from s3: 100%|██████████| 32/32 [00:00<00:00, 143.71it/s]\n",
      "INFO:aind_analysis_arch_result_access.han_pipeline:Successfully retrieved logistic regression betas from 32 / 32 sessions.\n",
      "Download logistic regression figures from s3 to ./tmp: 100%|██████████| 32/32 [00:00<00:00, 145.16it/s]\n"
     ]
    },
    {
     "data": {
      "text/html": [
       "<div>\n",
       "<style scoped>\n",
       "    .dataframe tbody tr th:only-of-type {\n",
       "        vertical-align: middle;\n",
       "    }\n",
       "\n",
       "    .dataframe tbody tr th {\n",
       "        vertical-align: top;\n",
       "    }\n",
       "\n",
       "    .dataframe thead tr th {\n",
       "        text-align: left;\n",
       "    }\n",
       "</style>\n",
       "<table border=\"1\" class=\"dataframe\">\n",
       "  <thead>\n",
       "    <tr>\n",
       "      <th></th>\n",
       "      <th>subject_id</th>\n",
       "      <th>session_date</th>\n",
       "      <th>nwb_suffix</th>\n",
       "      <th colspan=\"7\" halign=\"left\">RewC</th>\n",
       "      <th>...</th>\n",
       "      <th colspan=\"2\" halign=\"left\">UnrC</th>\n",
       "      <th>bias</th>\n",
       "      <th>logistic_Su2022_RewC_amp</th>\n",
       "      <th>logistic_Su2022_RewC_tau</th>\n",
       "      <th>logistic_Su2022_UnrC_amp</th>\n",
       "      <th>logistic_Su2022_UnrC_tau</th>\n",
       "      <th>logistic_Su2022_bias</th>\n",
       "      <th>logistic_Su2022_score_mean</th>\n",
       "      <th>logistic_Su2022_score_std</th>\n",
       "    </tr>\n",
       "    <tr>\n",
       "      <th></th>\n",
       "      <th></th>\n",
       "      <th></th>\n",
       "      <th></th>\n",
       "      <th>15</th>\n",
       "      <th>14</th>\n",
       "      <th>13</th>\n",
       "      <th>12</th>\n",
       "      <th>11</th>\n",
       "      <th>10</th>\n",
       "      <th>9</th>\n",
       "      <th>...</th>\n",
       "      <th>2</th>\n",
       "      <th>1</th>\n",
       "      <th>NaN</th>\n",
       "      <th>NaN</th>\n",
       "      <th>NaN</th>\n",
       "      <th>NaN</th>\n",
       "      <th>NaN</th>\n",
       "      <th>NaN</th>\n",
       "      <th>NaN</th>\n",
       "      <th>NaN</th>\n",
       "    </tr>\n",
       "  </thead>\n",
       "  <tbody>\n",
       "    <tr>\n",
       "      <th>0</th>\n",
       "      <td>769253</td>\n",
       "      <td>2025-03-12</td>\n",
       "      <td>185318</td>\n",
       "      <td>0.167723</td>\n",
       "      <td>0.012139</td>\n",
       "      <td>-0.002052</td>\n",
       "      <td>-0.253950</td>\n",
       "      <td>0.030127</td>\n",
       "      <td>-0.036445</td>\n",
       "      <td>0.077883</td>\n",
       "      <td>...</td>\n",
       "      <td>0.295642</td>\n",
       "      <td>0.633673</td>\n",
       "      <td>-0.244651</td>\n",
       "      <td>1.821531</td>\n",
       "      <td>1.651000</td>\n",
       "      <td>1.230054</td>\n",
       "      <td>1.512642</td>\n",
       "      <td>-0.244651</td>\n",
       "      <td>0.801800</td>\n",
       "      <td>0.103951</td>\n",
       "    </tr>\n",
       "    <tr>\n",
       "      <th>1</th>\n",
       "      <td>769253</td>\n",
       "      <td>2025-03-11</td>\n",
       "      <td>190030</td>\n",
       "      <td>0.025625</td>\n",
       "      <td>0.047670</td>\n",
       "      <td>0.161796</td>\n",
       "      <td>-0.086204</td>\n",
       "      <td>-0.111452</td>\n",
       "      <td>-0.097525</td>\n",
       "      <td>0.283025</td>\n",
       "      <td>...</td>\n",
       "      <td>0.348142</td>\n",
       "      <td>1.258292</td>\n",
       "      <td>-0.304800</td>\n",
       "      <td>1.750562</td>\n",
       "      <td>2.231787</td>\n",
       "      <td>2.788863</td>\n",
       "      <td>1.196970</td>\n",
       "      <td>-0.304800</td>\n",
       "      <td>0.847387</td>\n",
       "      <td>0.112093</td>\n",
       "    </tr>\n",
       "    <tr>\n",
       "      <th>2</th>\n",
       "      <td>769253</td>\n",
       "      <td>2025-03-10</td>\n",
       "      <td>184446</td>\n",
       "      <td>0.037325</td>\n",
       "      <td>0.247840</td>\n",
       "      <td>-0.154823</td>\n",
       "      <td>-0.118705</td>\n",
       "      <td>0.051891</td>\n",
       "      <td>-0.236636</td>\n",
       "      <td>0.218261</td>\n",
       "      <td>...</td>\n",
       "      <td>0.333327</td>\n",
       "      <td>0.933549</td>\n",
       "      <td>-0.315339</td>\n",
       "      <td>2.911735</td>\n",
       "      <td>1.528812</td>\n",
       "      <td>2.440033</td>\n",
       "      <td>1.031706</td>\n",
       "      <td>-0.315339</td>\n",
       "      <td>0.881314</td>\n",
       "      <td>0.082592</td>\n",
       "    </tr>\n",
       "    <tr>\n",
       "      <th>3</th>\n",
       "      <td>769253</td>\n",
       "      <td>2025-03-09</td>\n",
       "      <td>165658</td>\n",
       "      <td>0.378673</td>\n",
       "      <td>-0.194260</td>\n",
       "      <td>0.316576</td>\n",
       "      <td>0.084161</td>\n",
       "      <td>0.244472</td>\n",
       "      <td>-0.116015</td>\n",
       "      <td>0.260305</td>\n",
       "      <td>...</td>\n",
       "      <td>0.335681</td>\n",
       "      <td>1.202152</td>\n",
       "      <td>-1.011302</td>\n",
       "      <td>3.303574</td>\n",
       "      <td>1.564935</td>\n",
       "      <td>5.453295</td>\n",
       "      <td>0.664322</td>\n",
       "      <td>-1.011302</td>\n",
       "      <td>0.932971</td>\n",
       "      <td>0.065187</td>\n",
       "    </tr>\n",
       "    <tr>\n",
       "      <th>4</th>\n",
       "      <td>769253</td>\n",
       "      <td>2025-03-08</td>\n",
       "      <td>152809</td>\n",
       "      <td>-0.151415</td>\n",
       "      <td>-0.159483</td>\n",
       "      <td>0.037031</td>\n",
       "      <td>0.274597</td>\n",
       "      <td>-0.250572</td>\n",
       "      <td>-0.007435</td>\n",
       "      <td>0.429764</td>\n",
       "      <td>...</td>\n",
       "      <td>0.400790</td>\n",
       "      <td>1.183173</td>\n",
       "      <td>-0.141353</td>\n",
       "      <td>3.395440</td>\n",
       "      <td>1.336549</td>\n",
       "      <td>3.270407</td>\n",
       "      <td>0.972250</td>\n",
       "      <td>-0.141353</td>\n",
       "      <td>0.900871</td>\n",
       "      <td>0.083249</td>\n",
       "    </tr>\n",
       "  </tbody>\n",
       "</table>\n",
       "<p>5 rows × 41 columns</p>\n",
       "</div>"
      ],
      "text/plain": [
       "  subject_id session_date nwb_suffix      RewC                                \\\n",
       "                                            15        14        13        12   \n",
       "0     769253   2025-03-12     185318  0.167723  0.012139 -0.002052 -0.253950   \n",
       "1     769253   2025-03-11     190030  0.025625  0.047670  0.161796 -0.086204   \n",
       "2     769253   2025-03-10     184446  0.037325  0.247840 -0.154823 -0.118705   \n",
       "3     769253   2025-03-09     165658  0.378673 -0.194260  0.316576  0.084161   \n",
       "4     769253   2025-03-08     152809 -0.151415 -0.159483  0.037031  0.274597   \n",
       "\n",
       "                                 ...      UnrC                bias  \\\n",
       "         11        10         9  ...         2         1       NaN   \n",
       "0  0.030127 -0.036445  0.077883  ...  0.295642  0.633673 -0.244651   \n",
       "1 -0.111452 -0.097525  0.283025  ...  0.348142  1.258292 -0.304800   \n",
       "2  0.051891 -0.236636  0.218261  ...  0.333327  0.933549 -0.315339   \n",
       "3  0.244472 -0.116015  0.260305  ...  0.335681  1.202152 -1.011302   \n",
       "4 -0.250572 -0.007435  0.429764  ...  0.400790  1.183173 -0.141353   \n",
       "\n",
       "  logistic_Su2022_RewC_amp logistic_Su2022_RewC_tau logistic_Su2022_UnrC_amp  \\\n",
       "                       NaN                      NaN                      NaN   \n",
       "0                 1.821531                 1.651000                 1.230054   \n",
       "1                 1.750562                 2.231787                 2.788863   \n",
       "2                 2.911735                 1.528812                 2.440033   \n",
       "3                 3.303574                 1.564935                 5.453295   \n",
       "4                 3.395440                 1.336549                 3.270407   \n",
       "\n",
       "  logistic_Su2022_UnrC_tau logistic_Su2022_bias logistic_Su2022_score_mean  \\\n",
       "                       NaN                  NaN                        NaN   \n",
       "0                 1.512642            -0.244651                   0.801800   \n",
       "1                 1.196970            -0.304800                   0.847387   \n",
       "2                 1.031706            -0.315339                   0.881314   \n",
       "3                 0.664322            -1.011302                   0.932971   \n",
       "4                 0.972250            -0.141353                   0.900871   \n",
       "\n",
       "  logistic_Su2022_score_std  \n",
       "                        NaN  \n",
       "0                  0.103951  \n",
       "1                  0.112093  \n",
       "2                  0.082592  \n",
       "3                  0.065187  \n",
       "4                  0.083249  \n",
       "\n",
       "[5 rows x 41 columns]"
      ]
     },
     "execution_count": 19,
     "metadata": {},
     "output_type": "execute_result"
    }
   ],
   "source": [
    "df_logistic = get_logistic_regression(\n",
    "    df_master.query(\"subject_id == '769253'\"),  # All sessions from a single subject\n",
    "    model=\"Su2022\",\n",
    "    if_download_figures=True,\n",
    "    download_path=\"./tmp\",\n",
    ")\n",
    "df_logistic.head()"
   ]
  },
  {
   "cell_type": "code",
   "execution_count": 25,
   "metadata": {},
   "outputs": [
    {
     "data": {
      "text/plain": [
       "['765628_2025-03-12_185051_logistic_regression_Su2022.png',\n",
       " '758018_2025-03-12_143816_logistic_regression_Su2022.png',\n",
       " '765626_2025-03-12_183921_logistic_regression_Su2022.png',\n",
       " '770772_2025-03-12_183710_logistic_regression_Su2022.png',\n",
       " '765232_2025-03-12_182618_logistic_regression_Su2022.png',\n",
       " '778232_2025-03-12_134042_logistic_regression_Su2022.png',\n",
       " '765062_2025-03-12_184659_logistic_regression_Su2022.png',\n",
       " '769253_2025-03-12_185318_logistic_regression_Su2022.png',\n",
       " '786845_2025-03-12_164419_logistic_regression_Su2022.png',\n",
       " '770528_2025-03-12_164306_logistic_regression_Su2022.png']"
      ]
     },
     "execution_count": 25,
     "metadata": {},
     "output_type": "execute_result"
    }
   ],
   "source": [
    "import os\n",
    "fig_downloaded = os.listdir(\"./tmp\")\n",
    "fig_downloaded[:10]"
   ]
  },
  {
   "cell_type": "code",
   "execution_count": 28,
   "metadata": {},
   "outputs": [
    {
     "data": {
      "image/png": "[encoded data removed]",
      "text/plain": [
       "<IPython.core.display.Image object>"
      ]
     },
     "execution_count": 28,
     "metadata": {},
     "output_type": "execute_result"
    }
   ],
   "source": [
    "# Show one png\n",
    "from IPython.display import Image\n",
    "Image(f\"./tmp/{fig_downloaded[0]}\")"
   ]
  },
  {
   "cell_type": "markdown",
   "metadata": {},
   "source": [
    "## 3. Get RL fitting results"
   ]
  },
  {
   "cell_type": "code",
   "execution_count": 45,
   "metadata": {},
   "outputs": [
    {
     "name": "stdout",
     "output_type": "stream",
     "text": [
      "Query: {'analysis_spec.analysis_name': 'MLE fitting', 'analysis_spec.analysis_ver': 'first version @ 0.10.0', 'subject_id': '730945', 'session_date': '2024-10-24'}\n",
      "Found 5 MLE fitting records!\n",
      "Found 5 successful MLE fitting!\n"
     ]
    },
    {
     "name": "stderr",
     "output_type": "stream",
     "text": [
      "Get latent variables from s3: 100%|██████████| 5/5 [00:00<00:00, 25.54it/s]\n"
     ]
    },
    {
     "name": "stdout",
     "output_type": "stream",
     "text": [
      "Index(['_id', 'nwb_name', 'session_date', 'status', 'subject_id',\n",
      "       'agent_alias', 'log_likelihood', 'AIC', 'BIC', 'LPT', 'LPT_AIC',\n",
      "       'LPT_BIC', 'k_model', 'n_trials', 'prediction_accuracy',\n",
      "       'prediction_accuracy_test', 'prediction_accuracy_fit',\n",
      "       'prediction_accuracy_test_bias_only', 'params',\n",
      "       'prediction_accuracy_10-CV_test', 'prediction_accuracy_10-CV_test_std',\n",
      "       'prediction_accuracy_10-CV_fit', 'prediction_accuracy_10-CV_fit_std',\n",
      "       'prediction_accuracy_10-CV_test_bias_only',\n",
      "       'prediction_accuracy_10-CV_test_bias_only_std', 'latent_variables'],\n",
      "      dtype='object')\n",
      "                  agent_alias          AIC  prediction_accuracy_10-CV_test\n",
      "0  QLearning_L1F1_CK1_softmax   239.519051                        0.898151\n",
      "1         QLearning_L1F0_epsi   403.621460                        0.762075\n",
      "2  QLearning_L2F1_CK1_softmax   236.265381                        0.903280\n",
      "3                        WSLS  4051.958064                        0.636196\n",
      "4      QLearning_L2F1_softmax   236.512476                        0.888611\n"
     ]
    }
   ],
   "source": [
    "from aind_analysis_arch_result_access.han_pipeline import get_mle_model_fitting\n",
    "df = get_mle_model_fitting(subject_id=\"730945\", session_date=\"2024-10-24\")\n",
    "\n",
    "print(df.columns)\n",
    "print(df[[\"agent_alias\", \"AIC\", \"prediction_accuracy_10-CV_test\"]])"
   ]
  },
  {
   "cell_type": "markdown",
   "metadata": {},
   "source": [
    "Also download figures"
   ]
  },
  {
   "cell_type": "code",
   "execution_count": 47,
   "metadata": {},
   "outputs": [
    {
     "name": "stdout",
     "output_type": "stream",
     "text": [
      "Query: {'analysis_spec.analysis_name': 'MLE fitting', 'analysis_spec.analysis_ver': 'first version @ 0.10.0', 'subject_id': '730945', 'session_date': '2024-10-24'}\n",
      "Found 5 MLE fitting records!\n",
      "Found 5 successful MLE fitting!\n"
     ]
    },
    {
     "name": "stderr",
     "output_type": "stream",
     "text": [
      "Get latent variables from s3: 100%|██████████| 5/5 [00:00<00:00, 42.53it/s]\n",
      "Download figures from s3: 100%|██████████| 5/5 [00:00<00:00, 40.74it/s]"
     ]
    },
    {
     "name": "stdout",
     "output_type": "stream",
     "text": [
      "730945_2024-10-24_17-38-06_QLearning_L1F0_epsi_58cc5b6f6e.png\n",
      "730945_2024-10-24_17-38-06_QLearning_L1F1_CK1_softmax_3ffdf98012.png\n",
      "730945_2024-10-24_17-38-06_QLearning_L2F1_CK1_softmax_5ce7f1f816.png\n",
      "730945_2024-10-24_17-38-06_QLearning_L2F1_softmax_ec59be40c0.png\n",
      "730945_2024-10-24_17-38-06_WSLS_7c61d01e0f.png\n"
     ]
    },
    {
     "name": "stderr",
     "output_type": "stream",
     "text": [
      "\n"
     ]
    }
   ],
   "source": [
    "df = get_mle_model_fitting(\n",
    "    subject_id=\"730945\",\n",
    "    session_date=\"2024-10-24\",\n",
    "    if_download_figures=True,\n",
    "    download_path=\"./mle_figures\",\n",
    ")\n",
    "!ls ./mle_figures"
   ]
  },
  {
   "cell_type": "markdown",
   "metadata": {},
   "source": [
    "Get fittings from all sessions of a mouse for a specific model\n"
   ]
  },
  {
   "cell_type": "code",
   "execution_count": 50,
   "metadata": {},
   "outputs": [
    {
     "name": "stdout",
     "output_type": "stream",
     "text": [
      "Query: {'analysis_spec.analysis_name': 'MLE fitting', 'analysis_spec.analysis_ver': 'first version @ 0.10.0', 'subject_id': '730945', 'analysis_results.fit_settings.agent_alias': 'QLearning_L2F1_CK1_softmax'}\n",
      "Found 32 MLE fitting records!\n",
      "Found 32 successful MLE fitting!\n"
     ]
    },
    {
     "name": "stderr",
     "output_type": "stream",
     "text": [
      "Get latent variables from s3: 100%|██████████| 32/32 [00:00<00:00, 48.98it/s]"
     ]
    },
    {
     "name": "stdout",
     "output_type": "stream",
     "text": [
      "                         nwb_name                 agent_alias\n",
      "0  730945_2024-08-27_16-07-16.nwb  QLearning_L2F1_CK1_softmax\n",
      "1  730945_2024-09-05_16-47-58.nwb  QLearning_L2F1_CK1_softmax\n",
      "2  730945_2024-10-23_15-33-07.nwb  QLearning_L2F1_CK1_softmax\n",
      "3  730945_2024-09-19_17-26-54.nwb  QLearning_L2F1_CK1_softmax\n",
      "4  730945_2024-09-04_16-04-38.nwb  QLearning_L2F1_CK1_softmax\n",
      "5  730945_2024-08-30_15-55-05.nwb  QLearning_L2F1_CK1_softmax\n",
      "6  730945_2024-08-29_15-50-57.nwb  QLearning_L2F1_CK1_softmax\n",
      "7  730945_2024-10-24_17-38-06.nwb  QLearning_L2F1_CK1_softmax\n",
      "8  730945_2024-09-12_17-21-58.nwb  QLearning_L2F1_CK1_softmax\n",
      "9  730945_2024-09-03_15-49-53.nwb  QLearning_L2F1_CK1_softmax\n"
     ]
    },
    {
     "name": "stderr",
     "output_type": "stream",
     "text": [
      "\n"
     ]
    }
   ],
   "source": [
    "df = get_mle_model_fitting(\n",
    "    subject_id=\"730945\",\n",
    "    agent_alias=\"QLearning_L2F1_CK1_softmax\",\n",
    "    if_download_figures=False,\n",
    ")\n",
    "print(df.iloc[:10][[\"nwb_name\", \"agent_alias\"]])"
   ]
  },
  {
   "cell_type": "markdown",
   "metadata": {},
   "source": [
    "(for advanced users) Use your own docDB query"
   ]
  },
  {
   "cell_type": "code",
   "execution_count": 53,
   "metadata": {},
   "outputs": [
    {
     "name": "stdout",
     "output_type": "stream",
     "text": [
      "Query: {'analysis_spec.analysis_name': 'MLE fitting', 'analysis_spec.analysis_ver': 'first version @ 0.10.0', 'analysis_results.fit_settings.agent_alias': 'QLearning_L2F1_CK1_softmax', 'analysis_results.n_trials': {'$gt': 600}}\n",
      "Found 807 MLE fitting records!\n",
      "Found 807 successful MLE fitting!\n"
     ]
    }
   ],
   "source": [
    "df = get_mle_model_fitting(\n",
    "    from_custom_query={\n",
    "        \"analysis_results.fit_settings.agent_alias\": \"QLearning_L2F1_CK1_softmax\",\n",
    "        \"analysis_results.n_trials\" : {\"$gt\": 600},\n",
    "    },\n",
    "    if_include_latent_variables=False,\n",
    "    if_download_figures=False,\n",
    ")"
   ]
  },
  {
   "cell_type": "code",
   "execution_count": 54,
   "metadata": {},
   "outputs": [
    {
     "data": {
      "text/plain": [
       "(807, 25)"
      ]
     },
     "execution_count": 54,
     "metadata": {},
     "output_type": "execute_result"
    }
   ],
   "source": [
    "df.shape"
   ]
  },
  {
   "cell_type": "code",
   "execution_count": 14,
   "metadata": {},
   "outputs": [
    {
     "name": "stdout",
     "output_type": "stream",
     "text": [
      "Query: {'analysis_spec.analysis_name': 'MLE fitting', 'analysis_spec.analysis_ver': 'first version @ 0.10.0', 'session_date': '2025-03-21'}\n",
      "Found 128 MLE fitting records!\n",
      "Found 124 successful MLE fitting!\n"
     ]
    },
    {
     "name": "stderr",
     "output_type": "stream",
     "text": [
      "Get latent variables from s3: 100%|██████████| 124/124 [00:01<00:00, 77.61it/s]\n"
     ]
    },
    {
     "data": {
      "text/html": [
       "<div>\n",
       "<style scoped>\n",
       "    .dataframe tbody tr th:only-of-type {\n",
       "        vertical-align: middle;\n",
       "    }\n",
       "\n",
       "    .dataframe tbody tr th {\n",
       "        vertical-align: top;\n",
       "    }\n",
       "\n",
       "    .dataframe thead th {\n",
       "        text-align: right;\n",
       "    }\n",
       "</style>\n",
       "<table border=\"1\" class=\"dataframe\">\n",
       "  <thead>\n",
       "    <tr style=\"text-align: right;\">\n",
       "      <th></th>\n",
       "      <th>_id</th>\n",
       "      <th>nwb_name</th>\n",
       "      <th>session_date</th>\n",
       "      <th>status</th>\n",
       "      <th>subject_id</th>\n",
       "      <th>agent_alias</th>\n",
       "      <th>latent_variables</th>\n",
       "    </tr>\n",
       "  </thead>\n",
       "  <tbody>\n",
       "    <tr>\n",
       "      <th>0</th>\n",
       "      <td>1de8d3ec02d549858851fdf00b4313fe232c1c2c3667a3...</td>\n",
       "      <td>786847_2025-03-21_08-56-06.nwb</td>\n",
       "      <td>2025-03-21</td>\n",
       "      <td>success</td>\n",
       "      <td>786847</td>\n",
       "      <td>WSLS</td>\n",
       "      <td>{'loss_count': [0.0, 1.0, 0.0, 1.0, 0.0, 0.0, ...</td>\n",
       "    </tr>\n",
       "    <tr>\n",
       "      <th>1</th>\n",
       "      <td>ffe2731a519000bd0bd19ceba28a061dc12928883be309...</td>\n",
       "      <td>752014_2025-03-21_09-02-38.nwb</td>\n",
       "      <td>2025-03-21</td>\n",
       "      <td>success</td>\n",
       "      <td>752014</td>\n",
       "      <td>WSLS</td>\n",
       "      <td>{'loss_count': [0.0, 1.0, 2.0, 3.0, 0.0, 0.0, ...</td>\n",
       "    </tr>\n",
       "    <tr>\n",
       "      <th>2</th>\n",
       "      <td>9dcf851497f8d4e2baa54a53e36ca12b9ed3e07aa62f36...</td>\n",
       "      <td>766557_2025-03-21_09-41-38.nwb</td>\n",
       "      <td>2025-03-21</td>\n",
       "      <td>success</td>\n",
       "      <td>766557</td>\n",
       "      <td>WSLS</td>\n",
       "      <td>{'loss_count': [0.0, 1.0, 2.0, 3.0, 0.0, 0.0, ...</td>\n",
       "    </tr>\n",
       "    <tr>\n",
       "      <th>3</th>\n",
       "      <td>aa2bf87c62161184847930926cd5785995d1333986f505...</td>\n",
       "      <td>781895_2025-03-21_09-38-01.nwb</td>\n",
       "      <td>2025-03-21</td>\n",
       "      <td>success</td>\n",
       "      <td>781895</td>\n",
       "      <td>WSLS</td>\n",
       "      <td>{'loss_count': [0.0, 1.0, 2.0, 3.0, 4.0, 5.0, ...</td>\n",
       "    </tr>\n",
       "    <tr>\n",
       "      <th>4</th>\n",
       "      <td>e272b098277ded1875825d3868e247b1259f171d4b0478...</td>\n",
       "      <td>763359_2025-03-21_11-03-03.nwb</td>\n",
       "      <td>2025-03-21</td>\n",
       "      <td>success</td>\n",
       "      <td>763359</td>\n",
       "      <td>QLearning_L2F1_softmax</td>\n",
       "      <td>{'q_value': [[0.0, 0.7980392020209945, 0.0, 0....</td>\n",
       "    </tr>\n",
       "    <tr>\n",
       "      <th>...</th>\n",
       "      <td>...</td>\n",
       "      <td>...</td>\n",
       "      <td>...</td>\n",
       "      <td>...</td>\n",
       "      <td>...</td>\n",
       "      <td>...</td>\n",
       "      <td>...</td>\n",
       "    </tr>\n",
       "    <tr>\n",
       "      <th>123</th>\n",
       "      <td>6bba9c04030fa2e2f3e9cb975da37969f75517b0cdd60d...</td>\n",
       "      <td>780280_2025-03-21_09-05-14.nwb</td>\n",
       "      <td>2025-03-21</td>\n",
       "      <td>success</td>\n",
       "      <td>780280</td>\n",
       "      <td>QLearning_L1F1_CK1_softmax</td>\n",
       "      <td>{'q_value': [[0.0, 0.0, 0.0, 0.0, 0.0, 0.0, 0....</td>\n",
       "    </tr>\n",
       "    <tr>\n",
       "      <th>124</th>\n",
       "      <td>9423026af580071f54f0a96a4156247e33b6c4466972c5...</td>\n",
       "      <td>786866_2025-03-21_11-07-11.nwb</td>\n",
       "      <td>2025-03-21</td>\n",
       "      <td>success</td>\n",
       "      <td>786866</td>\n",
       "      <td>QLearning_L1F1_CK1_softmax</td>\n",
       "      <td>{'q_value': [[0.0, 0.0, 0.0, 0.0, 0.0, 0.0, 0....</td>\n",
       "    </tr>\n",
       "    <tr>\n",
       "      <th>125</th>\n",
       "      <td>8bd4bf5560a511ab87145c72096df77a03575eafb0f4c0...</td>\n",
       "      <td>778149_2025-03-21_13-14-43.nwb</td>\n",
       "      <td>2025-03-21</td>\n",
       "      <td>success</td>\n",
       "      <td>778149</td>\n",
       "      <td>QLearning_L2F1_softmax</td>\n",
       "      <td>{'q_value': [[0.0, 0.0, 0.0, 0.0, 0.0, 0.0, 0....</td>\n",
       "    </tr>\n",
       "    <tr>\n",
       "      <th>126</th>\n",
       "      <td>1c351c97cf1b4870bc112f06662363f235aafbab08b1e9...</td>\n",
       "      <td>786866_2025-03-21_11-07-11.nwb</td>\n",
       "      <td>2025-03-21</td>\n",
       "      <td>success</td>\n",
       "      <td>786866</td>\n",
       "      <td>QLearning_L2F1_softmax</td>\n",
       "      <td>{'q_value': [[0.0, 0.0, 0.0, 0.0, 0.0, 0.0, 0....</td>\n",
       "    </tr>\n",
       "    <tr>\n",
       "      <th>127</th>\n",
       "      <td>b84845c6b5c35e3c67ac2ed89499dfc6052ac57581026c...</td>\n",
       "      <td>778335_2025-03-21_09-11-28.nwb</td>\n",
       "      <td>2025-03-21</td>\n",
       "      <td>success</td>\n",
       "      <td>778335</td>\n",
       "      <td>QLearning_L2F1_softmax</td>\n",
       "      <td>{'q_value': [[0.0, 0.5054176765906596, 0.75538...</td>\n",
       "    </tr>\n",
       "  </tbody>\n",
       "</table>\n",
       "<p>124 rows × 7 columns</p>\n",
       "</div>"
      ],
      "text/plain": [
       "                                                   _id  \\\n",
       "0    1de8d3ec02d549858851fdf00b4313fe232c1c2c3667a3...   \n",
       "1    ffe2731a519000bd0bd19ceba28a061dc12928883be309...   \n",
       "2    9dcf851497f8d4e2baa54a53e36ca12b9ed3e07aa62f36...   \n",
       "3    aa2bf87c62161184847930926cd5785995d1333986f505...   \n",
       "4    e272b098277ded1875825d3868e247b1259f171d4b0478...   \n",
       "..                                                 ...   \n",
       "123  6bba9c04030fa2e2f3e9cb975da37969f75517b0cdd60d...   \n",
       "124  9423026af580071f54f0a96a4156247e33b6c4466972c5...   \n",
       "125  8bd4bf5560a511ab87145c72096df77a03575eafb0f4c0...   \n",
       "126  1c351c97cf1b4870bc112f06662363f235aafbab08b1e9...   \n",
       "127  b84845c6b5c35e3c67ac2ed89499dfc6052ac57581026c...   \n",
       "\n",
       "                           nwb_name session_date   status subject_id  \\\n",
       "0    786847_2025-03-21_08-56-06.nwb   2025-03-21  success     786847   \n",
       "1    752014_2025-03-21_09-02-38.nwb   2025-03-21  success     752014   \n",
       "2    766557_2025-03-21_09-41-38.nwb   2025-03-21  success     766557   \n",
       "3    781895_2025-03-21_09-38-01.nwb   2025-03-21  success     781895   \n",
       "4    763359_2025-03-21_11-03-03.nwb   2025-03-21  success     763359   \n",
       "..                              ...          ...      ...        ...   \n",
       "123  780280_2025-03-21_09-05-14.nwb   2025-03-21  success     780280   \n",
       "124  786866_2025-03-21_11-07-11.nwb   2025-03-21  success     786866   \n",
       "125  778149_2025-03-21_13-14-43.nwb   2025-03-21  success     778149   \n",
       "126  786866_2025-03-21_11-07-11.nwb   2025-03-21  success     786866   \n",
       "127  778335_2025-03-21_09-11-28.nwb   2025-03-21  success     778335   \n",
       "\n",
       "                    agent_alias  \\\n",
       "0                          WSLS   \n",
       "1                          WSLS   \n",
       "2                          WSLS   \n",
       "3                          WSLS   \n",
       "4        QLearning_L2F1_softmax   \n",
       "..                          ...   \n",
       "123  QLearning_L1F1_CK1_softmax   \n",
       "124  QLearning_L1F1_CK1_softmax   \n",
       "125      QLearning_L2F1_softmax   \n",
       "126      QLearning_L2F1_softmax   \n",
       "127      QLearning_L2F1_softmax   \n",
       "\n",
       "                                      latent_variables  \n",
       "0    {'loss_count': [0.0, 1.0, 0.0, 1.0, 0.0, 0.0, ...  \n",
       "1    {'loss_count': [0.0, 1.0, 2.0, 3.0, 0.0, 0.0, ...  \n",
       "2    {'loss_count': [0.0, 1.0, 2.0, 3.0, 0.0, 0.0, ...  \n",
       "3    {'loss_count': [0.0, 1.0, 2.0, 3.0, 4.0, 5.0, ...  \n",
       "4    {'q_value': [[0.0, 0.7980392020209945, 0.0, 0....  \n",
       "..                                                 ...  \n",
       "123  {'q_value': [[0.0, 0.0, 0.0, 0.0, 0.0, 0.0, 0....  \n",
       "124  {'q_value': [[0.0, 0.0, 0.0, 0.0, 0.0, 0.0, 0....  \n",
       "125  {'q_value': [[0.0, 0.0, 0.0, 0.0, 0.0, 0.0, 0....  \n",
       "126  {'q_value': [[0.0, 0.0, 0.0, 0.0, 0.0, 0.0, 0....  \n",
       "127  {'q_value': [[0.0, 0.5054176765906596, 0.75538...  \n",
       "\n",
       "[124 rows x 7 columns]"
      ]
     },
     "execution_count": 14,
     "metadata": {},
     "output_type": "execute_result"
    }
   ],
   "source": [
    "from aind_analysis_arch_result_access.han_pipeline import get_mle_model_fitting\n",
    "df = get_mle_model_fitting(\n",
    "    session_date=\"2025-03-21\",\n",
    "    if_include_metrics=False,\n",
    "    if_include_latent_variables=True,\n",
    "    if_download_figures=False,\n",
    "    download_path=\"./model_fitting\"\n",
    ")\n",
    "df.query(\"status == 'success'\")"
   ]
  }
 ],
 "metadata": {
  "kernelspec": {
   "display_name": "base",
   "language": "python",
   "name": "python3"
  },
  "language_info": {
   "codemirror_mode": {
    "name": "ipython",
    "version": 3
   },
   "file_extension": ".py",
   "mimetype": "text/x-python",
   "name": "python",
   "nbconvert_exporter": "python",
   "pygments_lexer": "ipython3",
   "version": "3.9.0"
  }
 },
 "nbformat": 4,
 "nbformat_minor": 2
}
