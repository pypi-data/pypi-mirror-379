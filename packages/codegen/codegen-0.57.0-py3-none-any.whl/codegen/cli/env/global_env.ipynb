{
 "cells": [
  {
   "cell_type": "code",
   "execution_count": null,
   "metadata": {},
   "outputs": [],
   "source": [
    "# test: parse environment\n",
    "from codegen.cli.env.enums import Environment\n",
    "\n",
    "\n",
    "Environment(\"staging\")"
   ]
  },
  {
   "cell_type": "code",
   "execution_count": null,
   "metadata": {},
   "outputs": [],
   "source": [
    "# test: ENV=prod loads .env.prod\n",
    "import os\n",
    "\n",
    "os.environ[\"ENV\"] = \"prod\"\n",
    "from codegen.cli.env.global_env import GlobalEnv\n",
    "\n",
    "global_env = GlobalEnv()\n",
    "print(global_env.ALGOLIA_SEARCH_KEY)"
   ]
  },
  {
   "cell_type": "code",
   "execution_count": null,
   "metadata": {},
   "outputs": [],
   "source": [
    "# test: ENV=staging and .env.staging does not exist loads from .env\n",
    "import os\n",
    "\n",
    "os.environ[\"ENV\"] = \"staging\"\n",
    "from codegen.cli.env.global_env import GlobalEnv\n",
    "\n",
    "global_env = GlobalEnv()\n",
    "print(global_env.ALGOLIA_SEARCH_KEY)"
   ]
  }
 ],
 "metadata": {
  "kernelspec": {
   "display_name": ".venv",
   "language": "python",
   "name": "python3"
  },
  "language_info": {
   "codemirror_mode": {
    "name": "ipython",
    "version": 3
   },
   "file_extension": ".py",
   "mimetype": "text/x-python",
   "name": "python",
   "nbconvert_exporter": "python",
   "pygments_lexer": "ipython3",
   "version": "3.13.0"
  }
 },
 "nbformat": 4,
 "nbformat_minor": 2
}
