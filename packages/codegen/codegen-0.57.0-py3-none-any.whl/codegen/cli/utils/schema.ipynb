{
 "cells": [
  {
   "cell_type": "code",
   "execution_count": null,
   "metadata": {},
   "outputs": [],
   "source": [
    "# with model that should validate\n",
    "from codegen.cli.api.schemas import RunCodemodOutput\n",
    "\n",
    "\n",
    "res = RunCodemodOutput.model_validate(\n",
    "    {\n",
    "        \"success\": True,\n",
    "        \"web_link\": \"https://chadcode.sh/codemod/13264/code/21435/run/28349/playground/diff\",\n",
    "        \"logs\": \"\",\n",
    "        \"observation\": 'diff --git a/codegen-backend/app/utils/slack/interactive/handlers/BaseSlackActionHandler.py b/codegen-backend/app/utils/slack/interactive/handlers/BaseSlackActionHandler.py\\nindex 2dce963196b418caad011d175fb3110e03a8fe73..77c430a5acfb1613ac42c5712cc2859f31d7d773 100644\\n--- a/codegen-backend/app/utils/slack/interactive/handlers/BaseSlackActionHandler.py\\n+++ b/codegen-backend/app/utils/slack/interactive/handlers/BaseSlackActionHandler.py\\n@@ -1,12 +1,1 @@\\n-from sqlalchemy.orm import Session\\n-\\n-\\n-class BaseSlackInteractiveActionHandler:\\n-    db: Session\\n-\\n-    def __init__(self, db: Session) -> None:\\n-        self.db = db\\n-\\n-    # TODO: convert the message information into a shared schema\\n-    def process_action(self, action_payload: str, channel_id: str, thread_ts: str):\\n-        raise NotImplementedError(f\"process_action not implemented for {self.__class__.__name__}!\")\\n+update\\n\\\\ No newline at end of file\\n',\n",
    "    },\n",
    ")\n",
    "print(res)"
   ]
  },
  {
   "cell_type": "code",
   "execution_count": null,
   "metadata": {},
   "outputs": [],
   "source": [
    "# with model that should validate\n",
    "from codegen.cli.api.schemas import RunCodemodOutput\n",
    "\n",
    "\n",
    "res = RunCodemodOutput.model_validate(\n",
    "    {\n",
    "        \"success\": \"testz\",\n",
    "        \"web_link\": \"https://chadcode.sh/codemod/13264/code/21435/run/28349/playground/diff\",\n",
    "        \"logs\": \"\",\n",
    "        \"observation\": 'diff --git a/codegen-backend/app/utils/slack/interactive/handlers/BaseSlackActionHandler.py b/codegen-backend/app/utils/slack/interactive/handlers/BaseSlackActionHandler.py\\nindex 2dce963196b418caad011d175fb3110e03a8fe73..77c430a5acfb1613ac42c5712cc2859f31d7d773 100644\\n--- a/codegen-backend/app/utils/slack/interactive/handlers/BaseSlackActionHandler.py\\n+++ b/codegen-backend/app/utils/slack/interactive/handlers/BaseSlackActionHandler.py\\n@@ -1,12 +1,1 @@\\n-from sqlalchemy.orm import Session\\n-\\n-\\n-class BaseSlackInteractiveActionHandler:\\n-    db: Session\\n-\\n-    def __init__(self, db: Session) -> None:\\n-        self.db = db\\n-\\n-    # TODO: convert the message information into a shared schema\\n-    def process_action(self, action_payload: str, channel_id: str, thread_ts: str):\\n-        raise NotImplementedError(f\"process_action not implemented for {self.__class__.__name__}!\")\\n+update\\n\\\\ No newline at end of file\\n',\n",
    "    },\n",
    ")\n",
    "print(res)"
   ]
  },
  {
   "cell_type": "code",
   "execution_count": null,
   "metadata": {},
   "outputs": [],
   "source": []
  }
 ],
 "metadata": {
  "kernelspec": {
   "display_name": ".venv",
   "language": "python",
   "name": "python3"
  },
  "language_info": {
   "codemirror_mode": {
    "name": "ipython",
    "version": 3
   },
   "file_extension": ".py",
   "mimetype": "text/x-python",
   "name": "python",
   "nbconvert_exporter": "python",
   "pygments_lexer": "ipython3",
   "version": "3.13.0"
  }
 },
 "nbformat": 4,
 "nbformat_minor": 2
}
