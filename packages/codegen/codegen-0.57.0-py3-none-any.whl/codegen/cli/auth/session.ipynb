{
 "cells": [
  {
   "cell_type": "code",
   "execution_count": null,
   "metadata": {},
   "outputs": [],
   "source": [
    "from pathlib import Path\n",
    "from codegen.cli.auth.session import CodegenSession\n",
    "\n",
    "\n",
    "# Create a session with the current directory as repo_path\n",
    "session = CodegenSession(repo_path=Path(\".\"))\n",
    "print(f\"Session: {session}\")\n",
    "print(f\"Repo path: {session.repo_path}\")\n",
    "print(f\"Config: {session.config}\")\n",
    "print(f\"Existing session: {session.existing}\")"
   ]
  }
 ],
 "metadata": {
  "kernelspec": {
   "display_name": ".venv",
   "language": "python",
   "name": "python3"
  },
  "language_info": {
   "codemirror_mode": {
    "name": "ipython",
    "version": 3
   },
   "file_extension": ".py",
   "mimetype": "text/x-python",
   "name": "python",
   "nbconvert_exporter": "python",
   "pygments_lexer": "ipython3",
   "version": "3.13.0"
  }
 },
 "nbformat": 4,
 "nbformat_minor": 2
}
