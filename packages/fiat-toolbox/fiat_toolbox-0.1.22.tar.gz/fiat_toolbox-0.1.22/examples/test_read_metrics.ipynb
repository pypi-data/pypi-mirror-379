{
 "cells": [
  {
   "attachments": {},
   "cell_type": "markdown",
   "metadata": {},
   "source": [
    "## Metrics reader examples\n",
    "In this notebook, you'll find some example code of how to use the use the metrics reader. This class reads the metrics file created by the metrics writer and returns this as a dictionary"
   ]
  },
  {
   "attachments": {},
   "cell_type": "markdown",
   "metadata": {},
   "source": [
    "**Step 1**: Import the fiat_toolbox folder. If the environment includes an installation of this folder, this step can be skipped. The latter van easily be done by running `pip install -e .`"
   ]
  },
  {
   "cell_type": "code",
   "execution_count": null,
   "metadata": {},
   "outputs": [],
   "source": [
    "import sys\n",
    "\n",
    "sys.path.append(\"../\")"
   ]
  },
  {
   "attachments": {},
   "cell_type": "markdown",
   "metadata": {},
   "source": [
    "**Step 2**: Load the MetricsFileReader class"
   ]
  },
  {
   "cell_type": "code",
   "execution_count": null,
   "metadata": {},
   "outputs": [],
   "source": [
    "from fiat_toolbox.metrics_writer.fiat_read_metrics_file import MetricsFileReader"
   ]
  },
  {
   "attachments": {},
   "cell_type": "markdown",
   "metadata": {},
   "source": [
    "**Step 3**: Initialize the metrics reader with the metrics path"
   ]
  },
  {
   "cell_type": "code",
   "execution_count": null,
   "metadata": {},
   "outputs": [],
   "source": [
    "metrics_path = \"../tests/metrics_writer/data/test_metrics_no_aggregation.csv\"\n",
    "metrics_file_reader = MetricsFileReader(metrics_path)"
   ]
  },
  {
   "attachments": {},
   "cell_type": "markdown",
   "metadata": {},
   "source": [
    "**Step 4.1**: Run the metrics reader function `read_metrics_from_file` with the dataset that contains metrics calculated over the total area (without aggregations)"
   ]
  },
  {
   "cell_type": "code",
   "execution_count": null,
   "metadata": {},
   "outputs": [],
   "source": [
    "metrics_file_reader.read_metrics_from_file()"
   ]
  },
  {
   "attachments": {},
   "cell_type": "markdown",
   "metadata": {},
   "source": [
    "**Step 4.2**: Run the metrics reader function `read_aggregated_metric_from_file` with the dataset that contains metrics calculated over the aggregation areas"
   ]
  },
  {
   "cell_type": "code",
   "execution_count": null,
   "metadata": {},
   "outputs": [],
   "source": [
    "metrics_path = \"../tests/metrics_writer/data/test_metrics_subbasin.csv\"\n",
    "metrics_file_reader = MetricsFileReader(metrics_path)\n",
    "metrics_file_reader.read_aggregated_metric_from_file(\"Total Damage Sum\")"
   ]
  }
 ],
 "metadata": {
  "kernelspec": {
   "display_name": "fiat_toolbox",
   "language": "python",
   "name": "python3"
  },
  "language_info": {
   "codemirror_mode": {
    "name": "ipython",
    "version": 3
   },
   "file_extension": ".py",
   "mimetype": "text/x-python",
   "name": "python",
   "nbconvert_exporter": "python",
   "pygments_lexer": "ipython3",
   "version": "3.11.11"
  },
  "orig_nbformat": 4
 },
 "nbformat": 4,
 "nbformat_minor": 2
}
