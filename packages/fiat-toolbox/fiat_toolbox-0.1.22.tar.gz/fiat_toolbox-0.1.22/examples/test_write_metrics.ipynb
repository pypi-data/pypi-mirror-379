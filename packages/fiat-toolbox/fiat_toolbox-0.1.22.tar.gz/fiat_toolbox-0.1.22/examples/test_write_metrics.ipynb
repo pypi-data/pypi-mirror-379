{
 "cells": [
  {
   "attachments": {},
   "cell_type": "markdown",
   "metadata": {},
   "source": [
    "## Metrics writer examples\n",
    "In this notebook, you'll find some example code of how to use the use the metrics reader. This class reads the metrics file created by the metrics writer and returns this as a dictionary"
   ]
  },
  {
   "attachments": {},
   "cell_type": "markdown",
   "metadata": {},
   "source": [
    "**Step 1**: Import the fiat_toolbox folder. If the environment includes an installation of this folder, this step can be skipped. The latter van easily be done by running `pip install -e .`"
   ]
  },
  {
   "cell_type": "code",
   "execution_count": null,
   "metadata": {},
   "outputs": [],
   "source": [
    "import sys\n",
    "\n",
    "sys.path.append(\"../\")"
   ]
  },
  {
   "attachments": {},
   "cell_type": "markdown",
   "metadata": {},
   "source": [
    "**Step 2**: Load the MetricsFileWriter class"
   ]
  },
  {
   "cell_type": "code",
   "execution_count": null,
   "metadata": {},
   "outputs": [],
   "source": [
    "import pandas as pd\n",
    "\n",
    "from fiat_toolbox.metrics_writer.fiat_write_metrics_file import MetricsFileWriter"
   ]
  },
  {
   "attachments": {},
   "cell_type": "markdown",
   "metadata": {},
   "source": [
    "**Step 3**: Initialize the metrics writer with the config path"
   ]
  },
  {
   "cell_type": "code",
   "execution_count": null,
   "metadata": {},
   "outputs": [],
   "source": [
    "config_path = \"../tests/metrics_writer/config/test_metrics_config.toml\"\n",
    "writer = MetricsFileWriter(config_path)"
   ]
  },
  {
   "attachments": {},
   "cell_type": "markdown",
   "metadata": {},
   "source": [
    "**Step 4**: Create a pandas dataframe from the metrics data. This is normally the Delft-FIAT output path"
   ]
  },
  {
   "cell_type": "code",
   "execution_count": null,
   "metadata": {},
   "outputs": [],
   "source": [
    "metrics_path = \"../tests/metrics_writer/data/#PLACE_YOUR_FILE_PATH_HERE#\"\n",
    "df_results = pd.read_csv(metrics_path, delimiter=\";\").head(10)"
   ]
  },
  {
   "cell_type": "code",
   "execution_count": null,
   "metadata": {},
   "outputs": [],
   "source": [
    "df_results.keys()"
   ]
  },
  {
   "attachments": {},
   "cell_type": "markdown",
   "metadata": {},
   "source": [
    "**Step 5**: Parse the metrics and write them to the specified output path"
   ]
  },
  {
   "cell_type": "code",
   "execution_count": null,
   "metadata": {},
   "outputs": [],
   "source": [
    "output_path = \"../tests/metrics_writer/data/temp_metrics.csv\"\n",
    "writer.parse_metrics_to_file(df_results, output_path, None)"
   ]
  }
 ],
 "metadata": {
  "kernelspec": {
   "display_name": "fiat_toolbox",
   "language": "python",
   "name": "python3"
  },
  "language_info": {
   "codemirror_mode": {
    "name": "ipython",
    "version": 3
   },
   "file_extension": ".py",
   "mimetype": "text/x-python",
   "name": "python",
   "nbconvert_exporter": "python",
   "pygments_lexer": "ipython3",
   "version": "3.11.11"
  },
  "orig_nbformat": 4
 },
 "nbformat": 4,
 "nbformat_minor": 2
}
