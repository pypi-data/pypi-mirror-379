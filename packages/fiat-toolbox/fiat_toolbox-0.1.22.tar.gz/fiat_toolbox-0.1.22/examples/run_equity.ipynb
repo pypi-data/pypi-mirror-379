{
 "cells": [
  {
   "cell_type": "code",
   "execution_count": null,
   "metadata": {},
   "outputs": [],
   "source": [
    "import seaborn as sns\n",
    "\n",
    "from fiat_toolbox.equity.equity import Equity"
   ]
  },
  {
   "cell_type": "markdown",
   "metadata": {},
   "source": [
    "Use example for US where a FIAT calculation has already been run (aggregated_damage.csv) and data from census at a block level containing total population and income per capita are saved (population_income_data.csv)"
   ]
  },
  {
   "cell_type": "code",
   "execution_count": null,
   "metadata": {},
   "outputs": [],
   "source": [
    "# Input data\n",
    "fiat_data = \"../tests/equity/data/aggregated_damage_gen.csv\"\n",
    "census_data = \"../tests/equity/data/population_income_data.csv\"\n",
    "aggregation_label = \"Census_Bg\"\n",
    "percapitaincome_label = \"PerCapitaIncomeBG\"\n",
    "totalpopulation_label = \"TotalPopulationBG\""
   ]
  },
  {
   "cell_type": "markdown",
   "metadata": {},
   "source": [
    "We can then create an Equity object which will take care of merging the data"
   ]
  },
  {
   "cell_type": "code",
   "execution_count": null,
   "metadata": {},
   "outputs": [],
   "source": [
    "equity = Equity(\n",
    "    census_data,\n",
    "    fiat_data,\n",
    "    aggregation_label,\n",
    "    percapitaincome_label,\n",
    "    totalpopulation_label,\n",
    ")\n",
    "equity.df"
   ]
  },
  {
   "cell_type": "markdown",
   "metadata": {},
   "source": [
    "We can then do an equity calculation using a gamma value"
   ]
  },
  {
   "cell_type": "code",
   "execution_count": null,
   "metadata": {},
   "outputs": [],
   "source": [
    "gamma = 1.2  # elasticity\n",
    "df_equity = equity.equity_calculation(gamma)\n",
    "df_equity"
   ]
  },
  {
   "cell_type": "markdown",
   "metadata": {},
   "source": [
    "We can then even check the difference between the standard EAD calculation and the equity weighted approach."
   ]
  },
  {
   "cell_type": "code",
   "execution_count": null,
   "metadata": {},
   "outputs": [],
   "source": [
    "ranking = equity.rank_ewced()\n",
    "ranking"
   ]
  },
  {
   "cell_type": "code",
   "execution_count": null,
   "metadata": {},
   "outputs": [],
   "source": [
    "sns.scatterplot(equity.df, x=\"EW\", y=\"rank_diff_EWCEAD\")"
   ]
  },
  {
   "cell_type": "markdown",
   "metadata": {},
   "source": [
    "Or calculate a simple socioeconomic resilience index"
   ]
  },
  {
   "cell_type": "code",
   "execution_count": null,
   "metadata": {},
   "outputs": [],
   "source": [
    "sri = equity.calculate_resilience_index()\n",
    "sri"
   ]
  }
 ],
 "metadata": {
  "kernelspec": {
   "display_name": "fiat_toolbox",
   "language": "python",
   "name": "python3"
  },
  "language_info": {
   "codemirror_mode": {
    "name": "ipython",
    "version": 3
   },
   "file_extension": ".py",
   "mimetype": "text/x-python",
   "name": "python",
   "nbconvert_exporter": "python",
   "pygments_lexer": "ipython3",
   "version": "3.11.11"
  },
  "orig_nbformat": 4
 },
 "nbformat": 4,
 "nbformat_minor": 2
}
