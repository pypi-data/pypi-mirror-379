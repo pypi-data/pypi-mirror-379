{
 "cells": [
  {
   "cell_type": "markdown",
   "id": "c020a116",
   "metadata": {
    "papermill": {
     "duration": 0.002952,
     "end_time": "2025-09-22T04:06:25.076118",
     "exception": false,
     "start_time": "2025-09-22T04:06:25.073166",
     "status": "completed"
    },
    "tags": []
   },
   "source": [
    "# Ariel data challenge model training\n",
    "\n",
    "## 1. Notebook set up\n",
    "\n",
    "### 1.1. Imports & environment"
   ]
  },
  {
   "cell_type": "code",
   "execution_count": 1,
   "id": "fd6e4dd9",
   "metadata": {
    "execution": {
     "iopub.execute_input": "2025-09-22T04:06:25.082325Z",
     "iopub.status.busy": "2025-09-22T04:06:25.082038Z",
     "iopub.status.idle": "2025-09-22T04:06:40.621650Z",
     "shell.execute_reply": "2025-09-22T04:06:40.620806Z"
    },
    "papermill": {
     "duration": 15.544331,
     "end_time": "2025-09-22T04:06:40.623113",
     "exception": false,
     "start_time": "2025-09-22T04:06:25.078782",
     "status": "completed"
    },
    "tags": []
   },
   "outputs": [
    {
     "name": "stderr",
     "output_type": "stream",
     "text": [
      "2025-09-22 04:06:26.601763: E external/local_xla/xla/stream_executor/cuda/cuda_fft.cc:477] Unable to register cuFFT factory: Attempting to register factory for plugin cuFFT when one has already been registered\n",
      "WARNING: All log messages before absl::InitializeLog() is called are written to STDERR\n",
      "E0000 00:00:1758513986.796501      31 cuda_dnn.cc:8310] Unable to register cuDNN factory: Attempting to register factory for plugin cuDNN when one has already been registered\n",
      "E0000 00:00:1758513986.849608      31 cuda_blas.cc:1418] Unable to register cuBLAS factory: Attempting to register factory for plugin cuBLAS when one has already been registered\n"
     ]
    }
   ],
   "source": [
    "# Standard library imports\n",
    "import json\n",
    "import os\n",
    "import time\n",
    "from pathlib import Path\n",
    "\n",
    "# Third party imports\n",
    "from kaggle_secrets import UserSecretsClient\n",
    "import matplotlib.pyplot as plt\n",
    "import tensorflow as tf\n",
    "\n",
    "# Project imports\n",
    "from ariel_data_preprocessing.data_generator_functions import make_training_datasets\n",
    "\n",
    "# Set Kaggle credentials for model upload\n",
    "user_secrets = UserSecretsClient()\n",
    "os.environ['KAGGLE_USERNAME'] = user_secrets.get_secret('KAGGLE_USERNAME')\n",
    "os.environ['KAGGLE_KEY'] = user_secrets.get_secret('KAGGLE_KEY')"
   ]
  },
  {
   "cell_type": "markdown",
   "id": "e00494de",
   "metadata": {
    "papermill": {
     "duration": 0.002507,
     "end_time": "2025-09-22T04:06:40.628534",
     "exception": false,
     "start_time": "2025-09-22T04:06:40.626027",
     "status": "completed"
    },
    "tags": []
   },
   "source": [
    "### 1.2. Model hyperparameters"
   ]
  },
  {
   "cell_type": "code",
   "execution_count": 2,
   "id": "07aa7173",
   "metadata": {
    "execution": {
     "iopub.execute_input": "2025-09-22T04:06:40.634752Z",
     "iopub.status.busy": "2025-09-22T04:06:40.634259Z",
     "iopub.status.idle": "2025-09-22T04:06:40.639504Z",
     "shell.execute_reply": "2025-09-22T04:06:40.638946Z"
    },
    "papermill": {
     "duration": 0.009633,
     "end_time": "2025-09-22T04:06:40.640764",
     "exception": false,
     "start_time": "2025-09-22T04:06:40.631131",
     "status": "completed"
    },
    "tags": []
   },
   "outputs": [],
   "source": [
    "wavelengths = 283\n",
    "sample_size = 372\n",
    "batch_size = 4\n",
    "steps = 431\n",
    "learning_rate = 0.0007103203515277739\n",
    "l_one = 0.9381346432258663\n",
    "l_two = 0.36282682418942663\n",
    "cnn_layers = 3\n",
    "first_filter_set = 73\n",
    "second_filter_set = 34\n",
    "third_filter_set = 48\n",
    "first_filter_size = 2\n",
    "second_filter_size = 5\n",
    "third_filter_size = 3\n",
    "dense_units = 104\n",
    "beta_one = 0.72\n",
    "beta_two = 0.93\n",
    "amsgrad = True\n",
    "weight_decay = 0.016\n",
    "use_ema = True\n",
    "\n",
    "epochs = 2000\n",
    "total_ksteps = int((epochs * steps) / 1000)"
   ]
  },
  {
   "cell_type": "markdown",
   "id": "9fec0c45",
   "metadata": {
    "papermill": {
     "duration": 0.002127,
     "end_time": "2025-09-22T04:06:40.645322",
     "exception": false,
     "start_time": "2025-09-22T04:06:40.643195",
     "status": "completed"
    },
    "tags": []
   },
   "source": [
    "## 2. Initalize data generator"
   ]
  },
  {
   "cell_type": "code",
   "execution_count": 3,
   "id": "98f69761",
   "metadata": {
    "execution": {
     "iopub.execute_input": "2025-09-22T04:06:40.651487Z",
     "iopub.status.busy": "2025-09-22T04:06:40.650982Z",
     "iopub.status.idle": "2025-09-22T04:06:41.986173Z",
     "shell.execute_reply": "2025-09-22T04:06:41.985279Z"
    },
    "papermill": {
     "duration": 1.339534,
     "end_time": "2025-09-22T04:06:41.987485",
     "exception": false,
     "start_time": "2025-09-22T04:06:40.647951",
     "status": "completed"
    },
    "tags": []
   },
   "outputs": [
    {
     "name": "stderr",
     "output_type": "stream",
     "text": [
      "I0000 00:00:1758514001.908614      31 gpu_device.cc:2022] Created device /job:localhost/replica:0/task:0/device:GPU:0 with 15513 MB memory:  -> device: 0, name: Tesla P100-PCIE-16GB, pci bus id: 0000:00:04.0, compute capability: 6.0\n"
     ]
    }
   ],
   "source": [
    "training_dataset, _, _ = make_training_datasets(\n",
    "    data_file='/kaggle/input/ariel-training-data/train.h5',\n",
    "    sample_size=sample_size,\n",
    "    validation=False\n",
    ")"
   ]
  },
  {
   "cell_type": "markdown",
   "id": "fde09c3f",
   "metadata": {
    "papermill": {
     "duration": 0.002452,
     "end_time": "2025-09-22T04:06:41.992725",
     "exception": false,
     "start_time": "2025-09-22T04:06:41.990273",
     "status": "completed"
    },
    "tags": []
   },
   "source": [
    "## 3. CNN\n",
    "\n",
    "### 3.1. Model definition"
   ]
  },
  {
   "cell_type": "code",
   "execution_count": 4,
   "id": "15de5f14",
   "metadata": {
    "execution": {
     "iopub.execute_input": "2025-09-22T04:06:41.998883Z",
     "iopub.status.busy": "2025-09-22T04:06:41.998572Z",
     "iopub.status.idle": "2025-09-22T04:06:42.064752Z",
     "shell.execute_reply": "2025-09-22T04:06:42.064086Z"
    },
    "papermill": {
     "duration": 0.071109,
     "end_time": "2025-09-22T04:06:42.066295",
     "exception": false,
     "start_time": "2025-09-22T04:06:41.995186",
     "status": "completed"
    },
    "tags": []
   },
   "outputs": [],
   "source": [
    "def compile_model(\n",
    "        sample_size: int,\n",
    "        wavelengths: int,\n",
    "        learning_rate: float,\n",
    "        l1: float,\n",
    "        l2: float,\n",
    "        first_filter_set: int,\n",
    "        second_filter_set: int,\n",
    "        third_filter_set: int,\n",
    "        first_filter_size: int,\n",
    "        second_filter_size: int,\n",
    "        third_filter_size: int,\n",
    "        dense_units: int,\n",
    "        beta_one: float,\n",
    "        beta_two: float,\n",
    "        amsgrad: bool,\n",
    "        weight_decay: float,\n",
    "        use_ema: bool\n",
    ") -> tf.keras.Model:\n",
    "\n",
    "    '''Builds the convolutional neural network regression model'''\n",
    "\n",
    "    # Set-up the L1L2 for the dense layers\n",
    "    regularizer = tf.keras.regularizers.L1L2(l1=l1, l2=l2)\n",
    "\n",
    "    # Define the model layers in order\n",
    "    model = tf.keras.Sequential([\n",
    "        tf.keras.layers.Input((sample_size,wavelengths,1)),\n",
    "        tf.keras.layers.Conv2D(\n",
    "            first_filter_set,\n",
    "            first_filter_size,\n",
    "            padding='same',\n",
    "            activation='relu',\n",
    "        ),\n",
    "        tf.keras.layers.MaxPooling2D(),\n",
    "        tf.keras.layers.Conv2D(\n",
    "            second_filter_set,\n",
    "            second_filter_size,\n",
    "            padding='same',\n",
    "            activation='relu',\n",
    "        ),\n",
    "        tf.keras.layers.MaxPooling2D(),\n",
    "        tf.keras.layers.Conv2D(\n",
    "            third_filter_set,\n",
    "            third_filter_size,\n",
    "            padding='same',\n",
    "            activation='relu',\n",
    "        ),\n",
    "        tf.keras.layers.MaxPooling2D(),\n",
    "        tf.keras.layers.Flatten(),\n",
    "        tf.keras.layers.Dense(\n",
    "            dense_units,\n",
    "            kernel_regularizer=regularizer,\n",
    "            activation='relu',\n",
    "        ),\n",
    "        tf.keras.layers.Dense(wavelengths, activation='linear')\n",
    "    ])\n",
    "\n",
    "    # Define the optimizer\n",
    "    optimizer = tf.keras.optimizers.Adam(\n",
    "        learning_rate=learning_rate,\n",
    "        beta_1=beta_one,\n",
    "        beta_2=beta_two,\n",
    "        amsgrad=amsgrad,\n",
    "        weight_decay=weight_decay,\n",
    "        use_ema=use_ema\n",
    "    )\n",
    "\n",
    "    # Compile the model\n",
    "    model.compile(\n",
    "        optimizer=optimizer,\n",
    "        loss=tf.keras.losses.MeanSquaredError(name='MSE'),\n",
    "        metrics=[\n",
    "            tf.keras.metrics.RootMeanSquaredError(name='RMSE')\n",
    "        ]\n",
    "    )\n",
    "\n",
    "    return model"
   ]
  },
  {
   "cell_type": "code",
   "execution_count": 5,
   "id": "4345421c",
   "metadata": {
    "execution": {
     "iopub.execute_input": "2025-09-22T04:06:42.072512Z",
     "iopub.status.busy": "2025-09-22T04:06:42.072240Z",
     "iopub.status.idle": "2025-09-22T04:06:43.388761Z",
     "shell.execute_reply": "2025-09-22T04:06:43.387966Z"
    },
    "papermill": {
     "duration": 1.320918,
     "end_time": "2025-09-22T04:06:43.389912",
     "exception": false,
     "start_time": "2025-09-22T04:06:42.068994",
     "status": "completed"
    },
    "tags": []
   },
   "outputs": [
    {
     "data": {
      "text/html": [
       "<pre style=\"white-space:pre;overflow-x:auto;line-height:normal;font-family:Menlo,'DejaVu Sans Mono',consolas,'Courier New',monospace\"><span style=\"font-weight: bold\">Model: \"sequential\"</span>\n",
       "</pre>\n"
      ],
      "text/plain": [
       "\u001b[1mModel: \"sequential\"\u001b[0m\n"
      ]
     },
     "metadata": {},
     "output_type": "display_data"
    },
    {
     "data": {
      "text/html": [
       "<pre style=\"white-space:pre;overflow-x:auto;line-height:normal;font-family:Menlo,'DejaVu Sans Mono',consolas,'Courier New',monospace\">┏━━━━━━━━━━━━━━━━━━━━━━━━━━━━━━━━━┳━━━━━━━━━━━━━━━━━━━━━━━━┳━━━━━━━━━━━━━━━┓\n",
       "┃<span style=\"font-weight: bold\"> Layer (type)                    </span>┃<span style=\"font-weight: bold\"> Output Shape           </span>┃<span style=\"font-weight: bold\">       Param # </span>┃\n",
       "┡━━━━━━━━━━━━━━━━━━━━━━━━━━━━━━━━━╇━━━━━━━━━━━━━━━━━━━━━━━━╇━━━━━━━━━━━━━━━┩\n",
       "│ conv2d (<span style=\"color: #0087ff; text-decoration-color: #0087ff\">Conv2D</span>)                 │ (<span style=\"color: #00d7ff; text-decoration-color: #00d7ff\">None</span>, <span style=\"color: #00af00; text-decoration-color: #00af00\">372</span>, <span style=\"color: #00af00; text-decoration-color: #00af00\">283</span>, <span style=\"color: #00af00; text-decoration-color: #00af00\">73</span>)   │           <span style=\"color: #00af00; text-decoration-color: #00af00\">365</span> │\n",
       "├─────────────────────────────────┼────────────────────────┼───────────────┤\n",
       "│ max_pooling2d (<span style=\"color: #0087ff; text-decoration-color: #0087ff\">MaxPooling2D</span>)    │ (<span style=\"color: #00d7ff; text-decoration-color: #00d7ff\">None</span>, <span style=\"color: #00af00; text-decoration-color: #00af00\">186</span>, <span style=\"color: #00af00; text-decoration-color: #00af00\">141</span>, <span style=\"color: #00af00; text-decoration-color: #00af00\">73</span>)   │             <span style=\"color: #00af00; text-decoration-color: #00af00\">0</span> │\n",
       "├─────────────────────────────────┼────────────────────────┼───────────────┤\n",
       "│ conv2d_1 (<span style=\"color: #0087ff; text-decoration-color: #0087ff\">Conv2D</span>)               │ (<span style=\"color: #00d7ff; text-decoration-color: #00d7ff\">None</span>, <span style=\"color: #00af00; text-decoration-color: #00af00\">186</span>, <span style=\"color: #00af00; text-decoration-color: #00af00\">141</span>, <span style=\"color: #00af00; text-decoration-color: #00af00\">34</span>)   │        <span style=\"color: #00af00; text-decoration-color: #00af00\">62,084</span> │\n",
       "├─────────────────────────────────┼────────────────────────┼───────────────┤\n",
       "│ max_pooling2d_1 (<span style=\"color: #0087ff; text-decoration-color: #0087ff\">MaxPooling2D</span>)  │ (<span style=\"color: #00d7ff; text-decoration-color: #00d7ff\">None</span>, <span style=\"color: #00af00; text-decoration-color: #00af00\">93</span>, <span style=\"color: #00af00; text-decoration-color: #00af00\">70</span>, <span style=\"color: #00af00; text-decoration-color: #00af00\">34</span>)     │             <span style=\"color: #00af00; text-decoration-color: #00af00\">0</span> │\n",
       "├─────────────────────────────────┼────────────────────────┼───────────────┤\n",
       "│ conv2d_2 (<span style=\"color: #0087ff; text-decoration-color: #0087ff\">Conv2D</span>)               │ (<span style=\"color: #00d7ff; text-decoration-color: #00d7ff\">None</span>, <span style=\"color: #00af00; text-decoration-color: #00af00\">93</span>, <span style=\"color: #00af00; text-decoration-color: #00af00\">70</span>, <span style=\"color: #00af00; text-decoration-color: #00af00\">48</span>)     │        <span style=\"color: #00af00; text-decoration-color: #00af00\">14,736</span> │\n",
       "├─────────────────────────────────┼────────────────────────┼───────────────┤\n",
       "│ max_pooling2d_2 (<span style=\"color: #0087ff; text-decoration-color: #0087ff\">MaxPooling2D</span>)  │ (<span style=\"color: #00d7ff; text-decoration-color: #00d7ff\">None</span>, <span style=\"color: #00af00; text-decoration-color: #00af00\">46</span>, <span style=\"color: #00af00; text-decoration-color: #00af00\">35</span>, <span style=\"color: #00af00; text-decoration-color: #00af00\">48</span>)     │             <span style=\"color: #00af00; text-decoration-color: #00af00\">0</span> │\n",
       "├─────────────────────────────────┼────────────────────────┼───────────────┤\n",
       "│ flatten (<span style=\"color: #0087ff; text-decoration-color: #0087ff\">Flatten</span>)               │ (<span style=\"color: #00d7ff; text-decoration-color: #00d7ff\">None</span>, <span style=\"color: #00af00; text-decoration-color: #00af00\">77280</span>)          │             <span style=\"color: #00af00; text-decoration-color: #00af00\">0</span> │\n",
       "├─────────────────────────────────┼────────────────────────┼───────────────┤\n",
       "│ dense (<span style=\"color: #0087ff; text-decoration-color: #0087ff\">Dense</span>)                   │ (<span style=\"color: #00d7ff; text-decoration-color: #00d7ff\">None</span>, <span style=\"color: #00af00; text-decoration-color: #00af00\">104</span>)            │     <span style=\"color: #00af00; text-decoration-color: #00af00\">8,037,224</span> │\n",
       "├─────────────────────────────────┼────────────────────────┼───────────────┤\n",
       "│ dense_1 (<span style=\"color: #0087ff; text-decoration-color: #0087ff\">Dense</span>)                 │ (<span style=\"color: #00d7ff; text-decoration-color: #00d7ff\">None</span>, <span style=\"color: #00af00; text-decoration-color: #00af00\">283</span>)            │        <span style=\"color: #00af00; text-decoration-color: #00af00\">29,715</span> │\n",
       "└─────────────────────────────────┴────────────────────────┴───────────────┘\n",
       "</pre>\n"
      ],
      "text/plain": [
       "┏━━━━━━━━━━━━━━━━━━━━━━━━━━━━━━━━━┳━━━━━━━━━━━━━━━━━━━━━━━━┳━━━━━━━━━━━━━━━┓\n",
       "┃\u001b[1m \u001b[0m\u001b[1mLayer (type)                   \u001b[0m\u001b[1m \u001b[0m┃\u001b[1m \u001b[0m\u001b[1mOutput Shape          \u001b[0m\u001b[1m \u001b[0m┃\u001b[1m \u001b[0m\u001b[1m      Param #\u001b[0m\u001b[1m \u001b[0m┃\n",
       "┡━━━━━━━━━━━━━━━━━━━━━━━━━━━━━━━━━╇━━━━━━━━━━━━━━━━━━━━━━━━╇━━━━━━━━━━━━━━━┩\n",
       "│ conv2d (\u001b[38;5;33mConv2D\u001b[0m)                 │ (\u001b[38;5;45mNone\u001b[0m, \u001b[38;5;34m372\u001b[0m, \u001b[38;5;34m283\u001b[0m, \u001b[38;5;34m73\u001b[0m)   │           \u001b[38;5;34m365\u001b[0m │\n",
       "├─────────────────────────────────┼────────────────────────┼───────────────┤\n",
       "│ max_pooling2d (\u001b[38;5;33mMaxPooling2D\u001b[0m)    │ (\u001b[38;5;45mNone\u001b[0m, \u001b[38;5;34m186\u001b[0m, \u001b[38;5;34m141\u001b[0m, \u001b[38;5;34m73\u001b[0m)   │             \u001b[38;5;34m0\u001b[0m │\n",
       "├─────────────────────────────────┼────────────────────────┼───────────────┤\n",
       "│ conv2d_1 (\u001b[38;5;33mConv2D\u001b[0m)               │ (\u001b[38;5;45mNone\u001b[0m, \u001b[38;5;34m186\u001b[0m, \u001b[38;5;34m141\u001b[0m, \u001b[38;5;34m34\u001b[0m)   │        \u001b[38;5;34m62,084\u001b[0m │\n",
       "├─────────────────────────────────┼────────────────────────┼───────────────┤\n",
       "│ max_pooling2d_1 (\u001b[38;5;33mMaxPooling2D\u001b[0m)  │ (\u001b[38;5;45mNone\u001b[0m, \u001b[38;5;34m93\u001b[0m, \u001b[38;5;34m70\u001b[0m, \u001b[38;5;34m34\u001b[0m)     │             \u001b[38;5;34m0\u001b[0m │\n",
       "├─────────────────────────────────┼────────────────────────┼───────────────┤\n",
       "│ conv2d_2 (\u001b[38;5;33mConv2D\u001b[0m)               │ (\u001b[38;5;45mNone\u001b[0m, \u001b[38;5;34m93\u001b[0m, \u001b[38;5;34m70\u001b[0m, \u001b[38;5;34m48\u001b[0m)     │        \u001b[38;5;34m14,736\u001b[0m │\n",
       "├─────────────────────────────────┼────────────────────────┼───────────────┤\n",
       "│ max_pooling2d_2 (\u001b[38;5;33mMaxPooling2D\u001b[0m)  │ (\u001b[38;5;45mNone\u001b[0m, \u001b[38;5;34m46\u001b[0m, \u001b[38;5;34m35\u001b[0m, \u001b[38;5;34m48\u001b[0m)     │             \u001b[38;5;34m0\u001b[0m │\n",
       "├─────────────────────────────────┼────────────────────────┼───────────────┤\n",
       "│ flatten (\u001b[38;5;33mFlatten\u001b[0m)               │ (\u001b[38;5;45mNone\u001b[0m, \u001b[38;5;34m77280\u001b[0m)          │             \u001b[38;5;34m0\u001b[0m │\n",
       "├─────────────────────────────────┼────────────────────────┼───────────────┤\n",
       "│ dense (\u001b[38;5;33mDense\u001b[0m)                   │ (\u001b[38;5;45mNone\u001b[0m, \u001b[38;5;34m104\u001b[0m)            │     \u001b[38;5;34m8,037,224\u001b[0m │\n",
       "├─────────────────────────────────┼────────────────────────┼───────────────┤\n",
       "│ dense_1 (\u001b[38;5;33mDense\u001b[0m)                 │ (\u001b[38;5;45mNone\u001b[0m, \u001b[38;5;34m283\u001b[0m)            │        \u001b[38;5;34m29,715\u001b[0m │\n",
       "└─────────────────────────────────┴────────────────────────┴───────────────┘\n"
      ]
     },
     "metadata": {},
     "output_type": "display_data"
    },
    {
     "data": {
      "text/html": [
       "<pre style=\"white-space:pre;overflow-x:auto;line-height:normal;font-family:Menlo,'DejaVu Sans Mono',consolas,'Courier New',monospace\"><span style=\"font-weight: bold\"> Total params: </span><span style=\"color: #00af00; text-decoration-color: #00af00\">8,144,124</span> (31.07 MB)\n",
       "</pre>\n"
      ],
      "text/plain": [
       "\u001b[1m Total params: \u001b[0m\u001b[38;5;34m8,144,124\u001b[0m (31.07 MB)\n"
      ]
     },
     "metadata": {},
     "output_type": "display_data"
    },
    {
     "data": {
      "text/html": [
       "<pre style=\"white-space:pre;overflow-x:auto;line-height:normal;font-family:Menlo,'DejaVu Sans Mono',consolas,'Courier New',monospace\"><span style=\"font-weight: bold\"> Trainable params: </span><span style=\"color: #00af00; text-decoration-color: #00af00\">8,144,124</span> (31.07 MB)\n",
       "</pre>\n"
      ],
      "text/plain": [
       "\u001b[1m Trainable params: \u001b[0m\u001b[38;5;34m8,144,124\u001b[0m (31.07 MB)\n"
      ]
     },
     "metadata": {},
     "output_type": "display_data"
    },
    {
     "data": {
      "text/html": [
       "<pre style=\"white-space:pre;overflow-x:auto;line-height:normal;font-family:Menlo,'DejaVu Sans Mono',consolas,'Courier New',monospace\"><span style=\"font-weight: bold\"> Non-trainable params: </span><span style=\"color: #00af00; text-decoration-color: #00af00\">0</span> (0.00 B)\n",
       "</pre>\n"
      ],
      "text/plain": [
       "\u001b[1m Non-trainable params: \u001b[0m\u001b[38;5;34m0\u001b[0m (0.00 B)\n"
      ]
     },
     "metadata": {},
     "output_type": "display_data"
    }
   ],
   "source": [
    "model = compile_model(\n",
    "    sample_size=sample_size,\n",
    "    wavelengths=wavelengths,\n",
    "    learning_rate=learning_rate,\n",
    "    l1=l_one,\n",
    "    l2=l_two,\n",
    "    first_filter_set=first_filter_set,\n",
    "    second_filter_set=second_filter_set,\n",
    "    third_filter_set=third_filter_set,\n",
    "    first_filter_size=first_filter_size,\n",
    "    second_filter_size=second_filter_size,\n",
    "    third_filter_size=third_filter_size,\n",
    "    dense_units=dense_units,\n",
    "    beta_one=beta_one,\n",
    "    beta_two=beta_two,\n",
    "    amsgrad=amsgrad,\n",
    "    weight_decay=weight_decay,\n",
    "    use_ema=use_ema,\n",
    ")\n",
    "\n",
    "model.summary()"
   ]
  },
  {
   "cell_type": "markdown",
   "id": "68e62a36",
   "metadata": {
    "papermill": {
     "duration": 0.002962,
     "end_time": "2025-09-22T04:06:43.396319",
     "exception": false,
     "start_time": "2025-09-22T04:06:43.393357",
     "status": "completed"
    },
    "tags": []
   },
   "source": [
    "### 3.2. Model training"
   ]
  },
  {
   "cell_type": "code",
   "execution_count": 6,
   "id": "faba16a4",
   "metadata": {
    "execution": {
     "iopub.execute_input": "2025-09-22T04:06:43.403933Z",
     "iopub.status.busy": "2025-09-22T04:06:43.403299Z",
     "iopub.status.idle": "2025-09-22T09:02:57.378649Z",
     "shell.execute_reply": "2025-09-22T09:02:57.377928Z"
    },
    "papermill": {
     "duration": 17773.984811,
     "end_time": "2025-09-22T09:02:57.384276",
     "exception": false,
     "start_time": "2025-09-22T04:06:43.399465",
     "status": "completed"
    },
    "tags": []
   },
   "outputs": [
    {
     "name": "stdout",
     "output_type": "stream",
     "text": [
      "Training model for 862 ksteps\n"
     ]
    },
    {
     "name": "stderr",
     "output_type": "stream",
     "text": [
      "WARNING: All log messages before absl::InitializeLog() is called are written to STDERR\n",
      "I0000 00:00:1758514007.342603      69 service.cc:148] XLA service 0x7b0b34010500 initialized for platform CUDA (this does not guarantee that XLA will be used). Devices:\n",
      "I0000 00:00:1758514007.343445      69 service.cc:156]   StreamExecutor device (0): Tesla P100-PCIE-16GB, Compute Capability 6.0\n",
      "I0000 00:00:1758514007.722822      69 cuda_dnn.cc:529] Loaded cuDNN version 90300\n",
      "I0000 00:00:1758514011.448512      69 device_compiler.h:188] Compiled cluster using XLA!  This line is logged at most once for the lifetime of the process.\n"
     ]
    },
    {
     "name": "stdout",
     "output_type": "stream",
     "text": [
      "Training complete in 296.2 minutes\n"
     ]
    }
   ],
   "source": [
    "print(f'Training model for {total_ksteps} ksteps')\n",
    "start_time = time.time()\n",
    "\n",
    "training_results = model.fit(\n",
    "    training_dataset.batch(batch_size),\n",
    "    epochs=epochs,\n",
    "    steps_per_epoch=steps,\n",
    "    verbose=0\n",
    ")\n",
    "\n",
    "print(f'Training complete in {(time.time() - start_time)/60:.1f} minutes')"
   ]
  },
  {
   "cell_type": "code",
   "execution_count": 7,
   "id": "2f83a012",
   "metadata": {
    "execution": {
     "iopub.execute_input": "2025-09-22T09:02:57.391675Z",
     "iopub.status.busy": "2025-09-22T09:02:57.391473Z",
     "iopub.status.idle": "2025-09-22T09:02:58.042889Z",
     "shell.execute_reply": "2025-09-22T09:02:58.042165Z"
    },
    "papermill": {
     "duration": 0.656502,
     "end_time": "2025-09-22T09:02:58.044076",
     "exception": false,
     "start_time": "2025-09-22T09:02:57.387574",
     "status": "completed"
    },
    "tags": []
   },
   "outputs": [
    {
     "data": {
      "image/png": "[encoded data removed]",
      "text/plain": [
       "<Figure size 1000x400 with 2 Axes>"
      ]
     },
     "metadata": {},
     "output_type": "display_data"
    }
   ],
   "source": [
    "# Set-up a 1x2 figure for accuracy and binary cross-entropy\n",
    "fig, axs=plt.subplots(1,2, figsize=(10,4))\n",
    "\n",
    "# Add the main title\n",
    "fig.suptitle('CNN training curves', size='large')\n",
    "\n",
    "# Plot training loss\n",
    "axs[0].set_title('Training loss (mean squared error)')\n",
    "axs[0].plot(training_results.history['loss'])\n",
    "axs[0].set_xlabel('Epoch')\n",
    "axs[0].set_ylabel('MSE')\n",
    "\n",
    "# Plot training RMSE\n",
    "axs[1].set_title('Root mean squared error')\n",
    "axs[1].plot(training_results.history['RMSE'])\n",
    "axs[1].set_xlabel('Epoch')\n",
    "axs[1].set_ylabel('RMSE')\n",
    "axs[1].set_yscale('log')\n",
    "\n",
    "# Show the plot\n",
    "fig.tight_layout()"
   ]
  },
  {
   "cell_type": "markdown",
   "id": "74497af0",
   "metadata": {
    "papermill": {
     "duration": 0.003566,
     "end_time": "2025-09-22T09:02:58.051896",
     "exception": false,
     "start_time": "2025-09-22T09:02:58.048330",
     "status": "completed"
    },
    "tags": []
   },
   "source": [
    "### 3.3. Save/upload the model"
   ]
  },
  {
   "cell_type": "code",
   "execution_count": 8,
   "id": "d5734217",
   "metadata": {
    "execution": {
     "iopub.execute_input": "2025-09-22T09:02:58.060547Z",
     "iopub.status.busy": "2025-09-22T09:02:58.059817Z",
     "iopub.status.idle": "2025-09-22T09:02:58.773209Z",
     "shell.execute_reply": "2025-09-22T09:02:58.772572Z"
    },
    "papermill": {
     "duration": 0.719063,
     "end_time": "2025-09-22T09:02:58.774603",
     "exception": false,
     "start_time": "2025-09-22T09:02:58.055540",
     "status": "completed"
    },
    "tags": []
   },
   "outputs": [],
   "source": [
    "Path('/kaggle/working/model').mkdir(parents=True, exist_ok=True)\n",
    "model_save_file = f'/kaggle/working/model/ariel-cnn-8.1M-{total_ksteps}ksteps.keras'\n",
    "model.save(model_save_file)"
   ]
  },
  {
   "cell_type": "code",
   "execution_count": 9,
   "id": "0726a39c",
   "metadata": {
    "execution": {
     "iopub.execute_input": "2025-09-22T09:02:58.783534Z",
     "iopub.status.busy": "2025-09-22T09:02:58.783331Z",
     "iopub.status.idle": "2025-09-22T09:03:02.954630Z",
     "shell.execute_reply": "2025-09-22T09:03:02.953863Z"
    },
    "papermill": {
     "duration": 4.177131,
     "end_time": "2025-09-22T09:03:02.955946",
     "exception": false,
     "start_time": "2025-09-22T09:02:58.778815",
     "status": "completed"
    },
    "tags": []
   },
   "outputs": [
    {
     "name": "stdout",
     "output_type": "stream",
     "text": [
      "Downloaded metadata to ./model/dataset-metadata.json\r\n",
      "Starting upload for file ariel-cnn-8.1M-862ksteps.keras\r\n",
      "100%|████████████████████████████████████████| 155M/155M [00:02<00:00, 78.2MB/s]\r\n",
      "Upload successful: ariel-cnn-8.1M-862ksteps.keras (155MB)\r\n",
      "Dataset version is being created. Please check progress at https://www.kaggle.com/datasets/gperdrizet/ariel-cnn\r\n"
     ]
    }
   ],
   "source": [
    "!kaggle datasets metadata gperdrizet/ariel-cnn -p ./model\n",
    "\n",
    "with open('model/dataset-metadata.json', 'r') as f:\n",
    "    data = json.loads(json.load(f))\n",
    "\n",
    "data['id'] = 'gperdrizet/ariel-cnn'\n",
    "\n",
    "with open('model/dataset-metadata.json', \"w\") as f:\n",
    "    json.dump(data, f)\n",
    "\n",
    "!kaggle datasets version -p ./model/ -m \"Updated ariel CNN\""
   ]
  }
 ],
 "metadata": {
  "kaggle": {
   "accelerator": "gpu",
   "dataSources": [
    {
     "databundleVersionId": 13093295,
     "sourceId": 101849,
     "sourceType": "competition"
    },
    {
     "databundleVersionId": 13816864,
     "datasetId": 8318221,
     "sourceId": 13130692,
     "sourceType": "datasetVersion"
    }
   ],
   "dockerImageVersionId": 31089,
   "isGpuEnabled": true,
   "isInternetEnabled": true,
   "language": "python",
   "sourceType": "notebook"
  },
  "kernelspec": {
   "display_name": "Python 3",
   "language": "python",
   "name": "python3"
  },
  "language_info": {
   "codemirror_mode": {
    "name": "ipython",
    "version": 3
   },
   "file_extension": ".py",
   "mimetype": "text/x-python",
   "name": "python",
   "nbconvert_exporter": "python",
   "pygments_lexer": "ipython3",
   "version": "3.11.13"
  },
  "papermill": {
   "default_parameters": {},
   "duration": 17805.282926,
   "end_time": "2025-09-22T09:03:06.219181",
   "environment_variables": {},
   "exception": null,
   "input_path": "__notebook__.ipynb",
   "output_path": "__notebook__.ipynb",
   "parameters": {},
   "start_time": "2025-09-22T04:06:20.936255",
   "version": "2.6.0"
  }
 },
 "nbformat": 4,
 "nbformat_minor": 5
}
