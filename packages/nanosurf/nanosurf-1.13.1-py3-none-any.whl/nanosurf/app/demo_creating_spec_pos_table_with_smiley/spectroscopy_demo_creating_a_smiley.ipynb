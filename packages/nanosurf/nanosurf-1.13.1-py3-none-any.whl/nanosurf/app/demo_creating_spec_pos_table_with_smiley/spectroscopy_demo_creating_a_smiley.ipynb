{
 "cells": [
  {
   "cell_type": "markdown",
   "metadata": {},
   "source": [
    "Nanosurf library spectroscopy demo\n",
    "==========================================================================================\n",
    "\n",
    "These notebook demonstrates how to use the spectroscopy position table to define arbitrary spectroscopy patterns.\n",
    "\n",
    "The result of the calculation is shown in the Spectroscopy panel in the main software GUI.\n"
   ]
  },
  {
   "cell_type": "markdown",
   "metadata": {},
   "source": [
    "\n",
    "* Please start now your Nanosurf AFM Software. \n",
    "\n",
    "* When it is fully started open the spectroscopy. \n",
    "\n",
    "* You should see an empty scan area in the top left chart.\n",
    "\n",
    "* Now execute the code below:"
   ]
  },
  {
   "cell_type": "code",
   "execution_count": 2,
   "metadata": {},
   "outputs": [
    {
     "name": "stdout",
     "output_type": "stream",
     "text": [
      "Connected to running app: CX\n",
      "Done\n"
     ]
    }
   ],
   "source": [
    "import math\n",
    "import nanosurf as nsf\n",
    "\n",
    "def create_smiley(spm: nsf.Spm, smiley_radius: float, number_of_points_for_head: int):\n",
    "    \"\"\" This function defines spectroscopy coordinates looking like a smiley.\n",
    "\n",
    "        Parameters\n",
    "        ----------\n",
    "        spm_controller: \n",
    "            controllers scripting interface object\n",
    "        smiley_radius: float\n",
    "            radius of the calculated smiley in [m]\n",
    "        number_of_points_for_head: int\n",
    "            defines the resolution or number of spec-points calculated for the circle which defines the head \n",
    "    \"\"\"\n",
    "    PI = math.pi\n",
    "    step = 2*math.pi/number_of_points_for_head # degrees\n",
    "\n",
    "    # get access to spectroscopy functions\n",
    "    spec = spm.application.Spec\n",
    "    spec.ClearPositionList()\n",
    "\n",
    "    # draw head circle\n",
    "    for i in range(number_of_points_for_head): \n",
    "        x = smiley_radius*math.cos(i*step)\n",
    "        y = smiley_radius*math.sin(i*step)\n",
    "        spec.AddPosition(x, y, 0)\n",
    "    \n",
    "    # draw eyes\n",
    "    spec.AddPosition((smiley_radius/3), (smiley_radius/3), 0)\n",
    "    spec.AddPosition((-smiley_radius/3), (smiley_radius/3), 0)\n",
    "\n",
    "    # draw mouth\n",
    "    number_of_points_for_mouth = math.trunc(number_of_points_for_head/6.0)\n",
    "    for i in range(0,number_of_points_for_mouth+1):\n",
    "        x = 0.75*smiley_radius*math.cos(PI*1.5-i*step)\n",
    "        y = 0.75*smiley_radius*math.sin(PI*1.5-i*step)+0.1*smiley_radius\n",
    "        spec.AddPosition(x, y, 0)\n",
    "    for i in range(1,number_of_points_for_mouth+1):\n",
    "        x = 0.75*smiley_radius*math.cos(PI*1.5+i*step)\n",
    "        y = 0.75*smiley_radius*math.sin(PI*1.5+i*step)+0.1*smiley_radius\n",
    "        spec.AddPosition(x, y, 0)\n",
    "\n",
    "# Connecting to a running Nanosurf Control software...\n",
    "spm = nsf.SPM()  \n",
    "if spm.is_connected():\n",
    "    if spm.is_scripting_enabled():\n",
    "\n",
    "        create_smiley(spm, smiley_radius=30.0e-6, number_of_points_for_head=24)    \n",
    "\n",
    "        # now the spectroscopy can be started to 'plot' the smiley\n",
    "        # this can by done by the user in the applications GUI or by\n",
    "        # spec.Start() here\n",
    "    else:\n",
    "        print(\"Sorry scripting is not activated on this controller.\")\n",
    "del spm\n",
    "print(\"Done\")\n",
    "\n"
   ]
  },
  {
   "cell_type": "markdown",
   "metadata": {},
   "source": [
    "If everything went well, you should see the smiley in yor preview section in the spectroscopy panel by now.\n"
   ]
  }
 ],
 "metadata": {
  "kernelspec": {
   "display_name": "Python 3 (ipykernel)",
   "language": "python",
   "name": "python3"
  },
  "language_info": {
   "codemirror_mode": {
    "name": "ipython",
    "version": 3
   },
   "file_extension": ".py",
   "mimetype": "text/x-python",
   "name": "python",
   "nbconvert_exporter": "python",
   "pygments_lexer": "ipython3",
   "version": "3.9.10"
  }
 },
 "nbformat": 4,
 "nbformat_minor": 2
}
