{
 "cells": [
  {
   "attachments": {},
   "cell_type": "markdown",
   "metadata": {},
   "source": [
    "Schwarz et al.(1996): \"Quantitative analysis of lateral force microscopy experiments\""
   ]
  },
  {
   "cell_type": "code",
   "execution_count": 1,
   "metadata": {},
   "outputs": [],
   "source": [
    "import nanosurf as nsf\n",
    "from nanosurf.lib.spm.scanhead.drive_afm import DriveMotorID\n",
    "from nanosurf.lib.spm.scanhead.studio_motor_control import StudioMotorControl\n",
    "\n",
    "import matplotlib.pyplot as plt\n",
    "import numpy as np\n",
    "import time"
   ]
  },
  {
   "cell_type": "code",
   "execution_count": null,
   "metadata": {},
   "outputs": [],
   "source": [
    "# In case Studio should be used connect to Studio\n",
    "print(\"Connecting to Nanosurf controller\")\n",
    "ok = False\n",
    "studio = nsf.Studio()\n",
    "if studio.connect():\n",
    "    ok = True\n",
    "    print(f\"Available sessions: {studio.main.session.list()}\")\n",
    "    print(f\"Connected with session '{studio.session_id}'\")\n",
    "else:\n",
    "    print(\"Error: Could not connect to controller. Check if software is started\")"
   ]
  },
  {
   "cell_type": "code",
   "execution_count": null,
   "metadata": {},
   "outputs": [],
   "source": [
    "# Delete Studio session\n",
    "del studio\n",
    "print(\"Disconnected from Nanosurf controller\")"
   ]
  },
  {
   "cell_type": "code",
   "execution_count": null,
   "metadata": {},
   "outputs": [],
   "source": [
    "#setup shortcuts for workflows and signals in Studio\n",
    "drive_motors = DriveMotorID()\n",
    "motor_control = StudioMotorControl()\n",
    "\n",
    "wf_laser_align = studio.spm.workflow.laser_align\n",
    "wf_frequency_sweep = studio.spm.workflow.frequency_sweep\n",
    "lu_deflection_in = studio.spm.lu.analog_hi_res_in.deflection\n",
    "lu_lateral_in = studio.spm.lu.analog_hi_res_in.lateral\n",
    "lu_sum_in = studio.spm.lu.analog_hi_res_in.detector_sum\n",
    "lu_signal_analyzer = studio.spm.lu.signal_analyzer.inst1\n",
    "core_laser = studio.spm.core.laser_align_drive_impl"
   ]
  },
  {
   "cell_type": "code",
   "execution_count": 4,
   "metadata": {},
   "outputs": [],
   "source": [
    "# Start a Laser Auto Alignment first\n",
    "wf_laser_align.start_auto_align()"
   ]
  },
  {
   "cell_type": "code",
   "execution_count": null,
   "metadata": {},
   "outputs": [],
   "source": [
    "# Test detector motor movement\n",
    "read_out_x = 0.0\n",
    "read_out_y = 0.00001\n",
    "pte_x = 0.0\n",
    "pte_y = 0.0\n",
    "target_positions = [read_out_x, read_out_y]\n",
    "motor_control.do_move_relative([drive_motors.PHOTODIODE_X, drive_motors.PHOTODIODE_Y], target_positions)"
   ]
  },
  {
   "cell_type": "code",
   "execution_count": null,
   "metadata": {},
   "outputs": [],
   "source": [
    "# Read detector signals\n",
    "deflection_value = lu_deflection_in.attribute.current_input_value.value\n",
    "lateral_value = lu_lateral_in.attribute.current_input_value.value\n",
    "sum_value = lu_sum_in.attribute.current_input_value.value\n",
    "print(deflection_value)\n",
    "print(lateral_value)\n",
    "print(sum_value)"
   ]
  },
  {
   "cell_type": "code",
   "execution_count": 5,
   "metadata": {},
   "outputs": [],
   "source": [
    "### variable and parameter initialization ###\n",
    "deflection_arr = []\n",
    "lateral_arr = []\n",
    "sum_arr = []\n",
    "position_arr_x= []\n",
    "position_arr_y= []\n",
    "deflection_value = 0\n",
    "lateral_value = 0"
   ]
  },
  {
   "cell_type": "code",
   "execution_count": 7,
   "metadata": {},
   "outputs": [],
   "source": [
    "### lateral calibration settings ###\n",
    "# calibration settings\n",
    "step_size = 0.000001\n",
    "calibration_range = 2.5 # [V], set to 5 for full range\n",
    "calibration_factor_A = 0\n",
    "\n",
    "# cantilever properties\n",
    "canti_youngs_modulus = 130E9 # [N/m^2] Si\n",
    "canti_torsional_modulus = 80E9 # [N/m^2]\n",
    "canti_length = 225 # [um]\n",
    "canti_width = 28 # [um]\n",
    "canti_thickness = 3 # [um]\n",
    "canti_tip_length = 17 # [um]\n",
    "canti_normal_deflection_sensitivity = 160.06 # [nm/V]\n",
    "canti_normal_spring_constant = 2.85 # [N/m]\n",
    "\n",
    "# unit conversion\n",
    "canti_length = canti_length*1E-6 # [m]\n",
    "canti_width = canti_width*1E-6 # [m]\n",
    "canti_thickness = canti_thickness*1E-6 # [m]\n",
    "canti_tip_length = canti_tip_length*1E-6 # [m]\n",
    "canti_S_ver = 1/(canti_normal_deflection_sensitivity*1E-9) # [V/m]\n",
    "canti_c_ver = (2*canti_length*canti_S_ver)/3"
   ]
  },
  {
   "cell_type": "code",
   "execution_count": null,
   "metadata": {},
   "outputs": [],
   "source": [
    "### Start data acquisition for lateral calibration ###\n",
    "\n",
    "minimal_sum_value = 0.23\n",
    "attr_detector_auto_adjustment_status = studio.spm.lu.sensor_control.instance.attribute.detector_auto_adjustment_status\n",
    "\n",
    "# Center Detector\n",
    "sum_value = lu_sum_in.attribute.current_input_value.value\n",
    "if sum_value > minimal_sum_value:\n",
    "   core_laser.center_detector()\n",
    "\n",
    "while attr_detector_auto_adjustment_status.value == attr_detector_auto_adjustment_status.ValueEnum.running:\n",
    "    time.sleep(0.3)\n",
    "    print('Centering detector...')\n",
    "\n",
    "# Move to lower deflection limit\n",
    "while (deflection_value >= -1*calibration_range):\n",
    "    motor_control.do_move_relative([drive_motors.PHOTODIODE_Y], -0.00001)\n",
    "    time.sleep(0.1)\n",
    "    deflection_value = lu_deflection_in.attribute.current_input_value.value\n",
    "    print('Moving to lower limit Y...') \n",
    "\n",
    "# Move along y axis and acquire deflection values until it hits the end of the detector\n",
    "i = 0\n",
    "while (deflection_value <= calibration_range):\n",
    "    deflection_value = lu_deflection_in.attribute.current_input_value.value\n",
    "    deflection_arr.append(deflection_value)\n",
    "    position_value = i*step_size\n",
    "    position_arr_y.append(position_value)\n",
    "    motor_control.do_move_relative([drive_motors.PHOTODIODE_Y], step_size)\n",
    "    i=i+1\n",
    "    time.sleep(0.3)\n",
    "    print('Measuring vertical...')\n",
    "\n",
    "# Center Detector again\n",
    "sum_value = lu_sum_in.attribute.current_input_value.value\n",
    "if sum_value > minimal_sum_value:\n",
    "   core_laser.center_detector()\n",
    "\n",
    "while attr_detector_auto_adjustment_status.value == attr_detector_auto_adjustment_status.ValueEnum.running:\n",
    "    time.sleep(0.3)\n",
    "    print('Centering detector...')\n",
    "\n",
    "# Move to lower lateral limit\n",
    "while (lateral_value >= -1*calibration_range):\n",
    "    motor_control.do_move_relative([drive_motors.PHOTODIODE_X], -0.00001)\n",
    "    time.sleep(0.3)\n",
    "    lateral_value = lu_lateral_in.attribute.current_input_value.value\n",
    "    print('Moving to lower limit X...')\n",
    "\n",
    "# Move along x axis and acquire lateral values until it hits the end of the detector\n",
    "i = 0\n",
    "while (lateral_value <= calibration_range):\n",
    "    lateral_value = lu_lateral_in.attribute.current_input_value.value\n",
    "    lateral_arr.append(lateral_value)\n",
    "    position_value = i*step_size\n",
    "    position_arr_x.append(position_value)\n",
    "    motor_control.do_move_relative([drive_motors.PHOTODIODE_X], step_size)\n",
    "    i=i+1\n",
    "    time.sleep(0.3)\n",
    "    print('Measuring horizontal...')\n",
    "\n",
    "# Center Detector finally\n",
    "sum_value = lu_sum_in.attribute.current_input_value.value\n",
    "if sum_value > minimal_sum_value:\n",
    "   core_laser.center_detector()\n",
    "\n",
    "while attr_detector_auto_adjustment_status.value == attr_detector_auto_adjustment_status.ValueEnum.running:\n",
    "    time.sleep(0.1)\n",
    "    print('Centering detector...')"
   ]
  },
  {
   "cell_type": "code",
   "execution_count": 10,
   "metadata": {},
   "outputs": [
    {
     "data": {
      "image/png": "[encoded data removed]",
      "text/plain": [
       "<Figure size 432x288 with 1 Axes>"
      ]
     },
     "metadata": {
      "needs_background": "light"
     },
     "output_type": "display_data"
    },
    {
     "data": {
      "image/png": "[encoded data removed]",
      "text/plain": [
       "<Figure size 432x288 with 1 Axes>"
      ]
     },
     "metadata": {
      "needs_background": "light"
     },
     "output_type": "display_data"
    },
    {
     "name": "stdout",
     "output_type": "stream",
     "text": [
      "Vertical slope m_ver 3.46e+04\n",
      "Lateral slope m_lat = 3.99e+04\n",
      "Lateral angular sensitivity c_lat = 1.08e+03 V/rad\n",
      "Lateral angular sensitivity 1/c_lat = 0.000927 rad/V\n",
      "Calibration Factor A = 71 N/V multiply with U_lateral to get F_lateral (N)\n"
     ]
    }
   ],
   "source": [
    "### Data analysis ###\n",
    "# Plot vertical curve\n",
    "plt.title('Vertical Calibration curve')\n",
    "plt.xlabel('Vertical Position (a.u.)')\n",
    "plt.ylabel('Deflection Signal (V)')\n",
    "\n",
    "# Create a polynomial function from the coefficients\n",
    "m_ver, intercept_ver = np.polyfit(position_arr_y[0:len(deflection_arr)], deflection_arr, 1)\n",
    "poly = np.poly1d([m_ver, intercept_ver])\n",
    "\n",
    "# Generate x values for the plot\n",
    "x = np.linspace(np.array(position_arr_y).min(), np.array(position_arr_y).max(), 100)\n",
    "\n",
    "# Calculate y values for the plot\n",
    "y = poly(x)\n",
    "\n",
    "# create plot\n",
    "plt.text(x=x.min(),y=y.max(),s=f'Vertical Slope: {m_ver}')\n",
    "plt.plot(position_arr_y[0:len(deflection_arr)], deflection_arr, 'b.', x, y, 'r-')\n",
    "plt.show()\n",
    "\n",
    "# Plot lateral curve\n",
    "plt.title('Lateral Calibration Curve')\n",
    "plt.xlabel('Lateral Position (a.u.)')\n",
    "plt.ylabel('Lateral Signal (V)')\n",
    "# Create a polynomial function from the coefficients\n",
    "m_lat, intercept_lat = np.polyfit(position_arr_x[0:len(lateral_arr)], lateral_arr, 1)\n",
    "poly = np.poly1d([m_lat, intercept_lat])\n",
    "\n",
    "# Generate x values for the plot\n",
    "x = np.linspace(np.array(position_arr_x).min(), np.array(position_arr_x).max(), 100)\n",
    "\n",
    "# Calculate y values for the plot\n",
    "y = poly(x)\n",
    "\n",
    "# create second plot\n",
    "plt.text(x=x.min(),y=y.max(),s=f'Lateral Slope: {m_lat}')\n",
    "plt.plot(position_arr_x[0:len(lateral_arr)], lateral_arr, 'b.', x, y, 'r-')\n",
    "plt.show()\n",
    "\n",
    "# Calculate calibration factor A [V/N] from obtained data\n",
    "canti_m = m_lat/m_ver\n",
    "calibration_factor_A = (canti_torsional_modulus*canti_width**3)/(4*canti_length**2*canti_tip_length*canti_m*canti_S_ver)\n",
    "canti_c_lat = canti_m*canti_c_ver\n",
    "print(f'Vertical slope m_ver {m_ver:.3g}')\n",
    "print(f'Lateral slope m_lat = {m_lat:.3g}')\n",
    "print(f'Lateral angular sensitivity c_lat = {canti_c_lat:.3g} V/rad')\n",
    "print(f'Lateral angular sensitivity 1/c_lat = {1/canti_c_lat:.3g} rad/V')\n",
    "print(f'Calibration Factor A = {calibration_factor_A:.3g} N/V multiply with U_lateral to get F_lateral (N)')"
   ]
  }
 ],
 "metadata": {
  "kernelspec": {
   "display_name": "Python 3",
   "language": "python",
   "name": "python3"
  },
  "language_info": {
   "codemirror_mode": {
    "name": "ipython",
    "version": 3
   },
   "file_extension": ".py",
   "mimetype": "text/x-python",
   "name": "python",
   "nbconvert_exporter": "python",
   "pygments_lexer": "ipython3",
   "version": "3.10.4"
  },
  "orig_nbformat": 4,
  "vscode": {
   "interpreter": {
    "hash": "0a8ce86bb1c29dad2b80b0cbd0f24ccffbb14a47f0e45907572c50fc9fbf2cda"
   }
  }
 },
 "nbformat": 4,
 "nbformat_minor": 2
}
