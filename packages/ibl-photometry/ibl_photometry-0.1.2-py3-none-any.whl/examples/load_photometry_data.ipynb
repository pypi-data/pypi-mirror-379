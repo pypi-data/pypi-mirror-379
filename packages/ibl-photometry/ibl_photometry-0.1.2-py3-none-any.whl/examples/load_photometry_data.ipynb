{
 "cells": [
  {
   "cell_type": "code",
   "execution_count": 1,
   "metadata": {},
   "outputs": [],
   "source": [
    "# just here\n",
    "%load_ext autoreload\n",
    "%autoreload 2"
   ]
  },
  {
   "cell_type": "code",
   "execution_count": null,
   "metadata": {},
   "outputs": [],
   "source": [
    "# imports\n",
    "import iblphotometry.io as ffio"
   ]
  },
  {
   "cell_type": "code",
   "execution_count": 4,
   "metadata": {},
   "outputs": [],
   "source": [
    "# ONE instantiation\n",
    "from one.api import ONE\n",
    "\n",
    "one = ONE(base_url='https://alyx.internationalbrainlab.org', mode='remote')\n",
    "\n",
    "lab = 'cortexlab'  # for carolinas dataset or 'wittenlab' for alejandros dataset\n",
    "eids = one.search(dataset='photometry.signal.pqt', lab=lab)\n",
    "eid = eids[2]"
   ]
  },
  {
   "cell_type": "markdown",
   "metadata": {},
   "source": [
    "### loading the raw neurophotometrics output from disk\n",
    "as it is stored on disk. This directly loads into the final data format, which is a python `dict`, the keys are the individual acquisition channel names, and their corresponding values are `pd.DataFrames` that have the timestamps for the frames as index, and as columns the names of the ROIs as selected in the user interface"
   ]
  },
  {
   "cell_type": "code",
   "execution_count": 6,
   "metadata": {},
   "outputs": [
    {
     "data": {
      "text/plain": [
       "{'GCaMP':                   G0        G1        G2        G3        G4\n",
       " times                                                       \n",
       " 227.248224  0.009192  0.009263  0.004893  0.005485  0.014840\n",
       " 227.281536  0.009219  0.009292  0.004903  0.005487  0.014874\n",
       " 227.314880  0.009220  0.009299  0.004895  0.005498  0.014895\n",
       " 227.348224  0.009204  0.009299  0.004899  0.005490  0.014878\n",
       " 227.381536  0.009216  0.009290  0.004895  0.005486  0.014858\n",
       " ...              ...       ...       ...       ...       ...\n",
       " 260.613664  0.004811  0.004186  0.003971  0.004169  0.004815\n",
       " 260.647008  0.004809  0.004181  0.003974  0.004171  0.004814\n",
       " 260.680352  0.004811  0.004188  0.003974  0.004170  0.004816\n",
       " 260.713664  0.004813  0.004184  0.003972  0.004172  0.004824\n",
       " 260.747008  0.004817  0.004183  0.003972  0.004172  0.004817\n",
       " \n",
       " [1006 rows x 5 columns],\n",
       " 'Isosbestic':                   G0        G1        G2        G3        G4\n",
       " times                                                       \n",
       " 227.264896  0.012630  0.012728  0.005468  0.006574  0.020279\n",
       " 227.298208  0.012637  0.012719  0.005465  0.006566  0.020292\n",
       " 227.331552  0.012632  0.012718  0.005470  0.006586  0.020278\n",
       " 227.364896  0.012633  0.012736  0.005463  0.006582  0.020276\n",
       " 227.398208  0.012631  0.012726  0.005465  0.006573  0.020281\n",
       " ...              ...       ...       ...       ...       ...\n",
       " 260.630336  0.005922  0.004558  0.004082  0.004502  0.005653\n",
       " 260.663680  0.005932  0.004554  0.004086  0.004501  0.005657\n",
       " 260.697024  0.005921  0.004559  0.004083  0.004502  0.005652\n",
       " 260.730336  0.005930  0.004556  0.004085  0.004499  0.005646\n",
       " 260.763680  0.005926  0.004564  0.004088  0.004506  0.005656\n",
       " \n",
       " [1006 rows x 5 columns]}"
      ]
     },
     "execution_count": 6,
     "metadata": {},
     "output_type": "execute_result"
    }
   ],
   "source": [
    "# raw_neurophotometris = one.load_dataset(eid, '_neurophotometrics_fpData.raw')\n",
    "raw_photometry = ffio.from_raw_neurophotometrics_file('raw_photometry.csv')\n",
    "raw_photometry"
   ]
  },
  {
   "cell_type": "markdown",
   "metadata": {},
   "source": [
    "### loading raw neurophotometrics data via one from alyx\n",
    "the data is stored in alyx in an intermediate format in the form of `photometry.signal.pqt`. This format is, like the raw neurophotometrics files shown above, still time multiplexed with different acquisition channels recorded in series, but the time vector is now aligned to the task events.|"
   ]
  },
  {
   "cell_type": "code",
   "execution_count": 7,
   "metadata": {},
   "outputs": [
    {
     "data": {
      "text/html": [
       "<div>\n",
       "<style scoped>\n",
       "    .dataframe tbody tr th:only-of-type {\n",
       "        vertical-align: middle;\n",
       "    }\n",
       "\n",
       "    .dataframe tbody tr th {\n",
       "        vertical-align: top;\n",
       "    }\n",
       "\n",
       "    .dataframe thead th {\n",
       "        text-align: right;\n",
       "    }\n",
       "</style>\n",
       "<table border=\"1\" class=\"dataframe\">\n",
       "  <thead>\n",
       "    <tr style=\"text-align: right;\">\n",
       "      <th></th>\n",
       "      <th>G0</th>\n",
       "      <th>G4</th>\n",
       "      <th>times</th>\n",
       "      <th>valid</th>\n",
       "      <th>wavelength</th>\n",
       "      <th>name</th>\n",
       "      <th>color</th>\n",
       "    </tr>\n",
       "  </thead>\n",
       "  <tbody>\n",
       "    <tr>\n",
       "      <th>0</th>\n",
       "      <td>0.009152</td>\n",
       "      <td>0.016492</td>\n",
       "      <td>-370.181357</td>\n",
       "      <td>False</td>\n",
       "      <td>NaN</td>\n",
       "      <td></td>\n",
       "      <td></td>\n",
       "    </tr>\n",
       "    <tr>\n",
       "      <th>1</th>\n",
       "      <td>0.011645</td>\n",
       "      <td>0.019462</td>\n",
       "      <td>-370.164717</td>\n",
       "      <td>False</td>\n",
       "      <td>470.0</td>\n",
       "      <td>GCaMP</td>\n",
       "      <td>Blue</td>\n",
       "    </tr>\n",
       "    <tr>\n",
       "      <th>2</th>\n",
       "      <td>0.011773</td>\n",
       "      <td>0.019487</td>\n",
       "      <td>-370.148046</td>\n",
       "      <td>False</td>\n",
       "      <td>415.0</td>\n",
       "      <td>Isosbestic</td>\n",
       "      <td>Violet</td>\n",
       "    </tr>\n",
       "    <tr>\n",
       "      <th>3</th>\n",
       "      <td>0.011657</td>\n",
       "      <td>0.019477</td>\n",
       "      <td>-370.131374</td>\n",
       "      <td>False</td>\n",
       "      <td>470.0</td>\n",
       "      <td>GCaMP</td>\n",
       "      <td>Blue</td>\n",
       "    </tr>\n",
       "    <tr>\n",
       "      <th>4</th>\n",
       "      <td>0.010041</td>\n",
       "      <td>0.017752</td>\n",
       "      <td>-370.114734</td>\n",
       "      <td>False</td>\n",
       "      <td>415.0</td>\n",
       "      <td>Isosbestic</td>\n",
       "      <td>Violet</td>\n",
       "    </tr>\n",
       "    <tr>\n",
       "      <th>...</th>\n",
       "      <td>...</td>\n",
       "      <td>...</td>\n",
       "      <td>...</td>\n",
       "      <td>...</td>\n",
       "      <td>...</td>\n",
       "      <td>...</td>\n",
       "      <td>...</td>\n",
       "    </tr>\n",
       "    <tr>\n",
       "      <th>187984</th>\n",
       "      <td>0.012575</td>\n",
       "      <td>0.020662</td>\n",
       "      <td>2762.724377</td>\n",
       "      <td>False</td>\n",
       "      <td>415.0</td>\n",
       "      <td>Isosbestic</td>\n",
       "      <td>Violet</td>\n",
       "    </tr>\n",
       "    <tr>\n",
       "      <th>187985</th>\n",
       "      <td>0.005855</td>\n",
       "      <td>0.009810</td>\n",
       "      <td>2762.741048</td>\n",
       "      <td>False</td>\n",
       "      <td>470.0</td>\n",
       "      <td>GCaMP</td>\n",
       "      <td>Blue</td>\n",
       "    </tr>\n",
       "    <tr>\n",
       "      <th>187986</th>\n",
       "      <td>0.012590</td>\n",
       "      <td>0.020651</td>\n",
       "      <td>2762.757720</td>\n",
       "      <td>False</td>\n",
       "      <td>415.0</td>\n",
       "      <td>Isosbestic</td>\n",
       "      <td>Violet</td>\n",
       "    </tr>\n",
       "    <tr>\n",
       "      <th>187987</th>\n",
       "      <td>0.005837</td>\n",
       "      <td>0.009800</td>\n",
       "      <td>2762.774392</td>\n",
       "      <td>False</td>\n",
       "      <td>470.0</td>\n",
       "      <td>GCaMP</td>\n",
       "      <td>Blue</td>\n",
       "    </tr>\n",
       "    <tr>\n",
       "      <th>187988</th>\n",
       "      <td>0.012588</td>\n",
       "      <td>0.020645</td>\n",
       "      <td>2762.791032</td>\n",
       "      <td>False</td>\n",
       "      <td>415.0</td>\n",
       "      <td>Isosbestic</td>\n",
       "      <td>Violet</td>\n",
       "    </tr>\n",
       "  </tbody>\n",
       "</table>\n",
       "<p>187989 rows × 7 columns</p>\n",
       "</div>"
      ],
      "text/plain": [
       "              G0        G4        times  valid  wavelength        name   color\n",
       "0       0.009152  0.016492  -370.181357  False         NaN                    \n",
       "1       0.011645  0.019462  -370.164717  False       470.0       GCaMP    Blue\n",
       "2       0.011773  0.019487  -370.148046  False       415.0  Isosbestic  Violet\n",
       "3       0.011657  0.019477  -370.131374  False       470.0       GCaMP    Blue\n",
       "4       0.010041  0.017752  -370.114734  False       415.0  Isosbestic  Violet\n",
       "...          ...       ...          ...    ...         ...         ...     ...\n",
       "187984  0.012575  0.020662  2762.724377  False       415.0  Isosbestic  Violet\n",
       "187985  0.005855  0.009810  2762.741048  False       470.0       GCaMP    Blue\n",
       "187986  0.012590  0.020651  2762.757720  False       415.0  Isosbestic  Violet\n",
       "187987  0.005837  0.009800  2762.774392  False       470.0       GCaMP    Blue\n",
       "187988  0.012588  0.020645  2762.791032  False       415.0  Isosbestic  Violet\n",
       "\n",
       "[187989 rows x 7 columns]"
      ]
     },
     "execution_count": 7,
     "metadata": {},
     "output_type": "execute_result"
    }
   ],
   "source": [
    "raw_signal = one.load_dataset(eid, dataset='photometry.signal')\n",
    "raw_signal"
   ]
  },
  {
   "cell_type": "markdown",
   "metadata": {},
   "source": [
    "For analysis purposes, this data representation can be split into the individual acquisition channels into the same format as shown above for reading the raw data, a `dict` of `pd.dataframes`"
   ]
  },
  {
   "cell_type": "code",
   "execution_count": 9,
   "metadata": {},
   "outputs": [
    {
     "data": {
      "text/plain": [
       "{'GCaMP':                     G0        G4\n",
       " times                           \n",
       " -370.164717   0.011645  0.019462\n",
       " -370.131374   0.011657  0.019477\n",
       " -370.098063   0.011656  0.019509\n",
       " -370.064719   0.011674  0.019500\n",
       " -370.031408   0.011659  0.019485\n",
       " ...                ...       ...\n",
       "  2762.641050  0.005847  0.009813\n",
       "  2762.674394  0.005803  0.009814\n",
       "  2762.707705  0.005834  0.009803\n",
       "  2762.741048  0.005855  0.009810\n",
       "  2762.774392  0.005837  0.009800\n",
       " \n",
       " [93994 rows x 2 columns],\n",
       " 'Isosbestic':                     G0        G4\n",
       " times                           \n",
       " -370.148046   0.011773  0.019487\n",
       " -370.114734   0.010041  0.017752\n",
       " -370.081391   0.011781  0.019512\n",
       " -370.048048   0.011775  0.019507\n",
       " -370.014736   0.011785  0.019465\n",
       " ...                ...       ...\n",
       "  2762.657722  0.012615  0.020670\n",
       "  2762.691033  0.012602  0.020660\n",
       "  2762.724377  0.012575  0.020662\n",
       "  2762.757720  0.012590  0.020651\n",
       "  2762.791032  0.012588  0.020645\n",
       " \n",
       " [93994 rows x 2 columns]}"
      ]
     },
     "execution_count": 9,
     "metadata": {},
     "output_type": "execute_result"
    }
   ],
   "source": [
    "ffio.from_ibl_dataframe(raw_signal)"
   ]
  },
  {
   "cell_type": "markdown",
   "metadata": {},
   "source": [
    "so far, the column names of the data are not mapped to the brain regions where the fibers are implanted. When retrieving data from alyx, the locations have been registered"
   ]
  },
  {
   "cell_type": "code",
   "execution_count": 11,
   "metadata": {},
   "outputs": [
    {
     "data": {
      "text/plain": [
       "{'GCaMP':                     SI       PPT\n",
       " times                           \n",
       " -370.164717   0.011645  0.019462\n",
       " -370.131374   0.011657  0.019477\n",
       " -370.098063   0.011656  0.019509\n",
       " -370.064719   0.011674  0.019500\n",
       " -370.031408   0.011659  0.019485\n",
       " ...                ...       ...\n",
       "  2762.641050  0.005847  0.009813\n",
       "  2762.674394  0.005803  0.009814\n",
       "  2762.707705  0.005834  0.009803\n",
       "  2762.741048  0.005855  0.009810\n",
       "  2762.774392  0.005837  0.009800\n",
       " \n",
       " [93994 rows x 2 columns],\n",
       " 'Isosbestic':                     SI       PPT\n",
       " times                           \n",
       " -370.148046   0.011773  0.019487\n",
       " -370.114734   0.010041  0.017752\n",
       " -370.081391   0.011781  0.019512\n",
       " -370.048048   0.011775  0.019507\n",
       " -370.014736   0.011785  0.019465\n",
       " ...                ...       ...\n",
       "  2762.657722  0.012615  0.020670\n",
       "  2762.691033  0.012602  0.020660\n",
       "  2762.724377  0.012575  0.020662\n",
       "  2762.757720  0.012590  0.020651\n",
       "  2762.791032  0.012588  0.020645\n",
       " \n",
       " [93994 rows x 2 columns]}"
      ]
     },
     "execution_count": 11,
     "metadata": {},
     "output_type": "execute_result"
    }
   ],
   "source": [
    "raw_photometry_df = one.load_dataset(eid, dataset='photometry.signal')\n",
    "locations_df = one.load_dataset(eid, dataset='photometryROI.locations')\n",
    "\n",
    "ffio.from_ibl_dataframes(raw_photometry_df, locations_df)"
   ]
  },
  {
   "cell_type": "markdown",
   "metadata": {},
   "source": [
    "equivalently, the same can be achieved from stored files from disk:"
   ]
  },
  {
   "cell_type": "code",
   "execution_count": 12,
   "metadata": {},
   "outputs": [
    {
     "data": {
      "text/plain": [
       "{'GCaMP':                     SI       PPT\n",
       " times                           \n",
       " -370.164717   0.011645  0.019462\n",
       " -370.131374   0.011657  0.019477\n",
       " -370.098063   0.011656  0.019509\n",
       " -370.064719   0.011674  0.019500\n",
       " -370.031408   0.011659  0.019485\n",
       " ...                ...       ...\n",
       "  2762.641050  0.005847  0.009813\n",
       "  2762.674394  0.005803  0.009814\n",
       "  2762.707705  0.005834  0.009803\n",
       "  2762.741048  0.005855  0.009810\n",
       "  2762.774392  0.005837  0.009800\n",
       " \n",
       " [93994 rows x 2 columns],\n",
       " 'Isosbestic':                     SI       PPT\n",
       " times                           \n",
       " -370.148046   0.011773  0.019487\n",
       " -370.114734   0.010041  0.017752\n",
       " -370.081391   0.011781  0.019512\n",
       " -370.048048   0.011775  0.019507\n",
       " -370.014736   0.011785  0.019465\n",
       " ...                ...       ...\n",
       "  2762.657722  0.012615  0.020670\n",
       "  2762.691033  0.012602  0.020660\n",
       "  2762.724377  0.012575  0.020662\n",
       "  2762.757720  0.012590  0.020651\n",
       "  2762.791032  0.012588  0.020645\n",
       " \n",
       " [93994 rows x 2 columns]}"
      ]
     },
     "execution_count": 12,
     "metadata": {},
     "output_type": "execute_result"
    }
   ],
   "source": [
    "raw_photometry_df = one.load_dataset(\n",
    "    eid, dataset='photometry.signal', download_only=True\n",
    ")\n",
    "signal_pqt_path = one.eid2path(eid) / 'alf/photometry/photometry.signal.pqt'\n",
    "locations_df = one.load_dataset(\n",
    "    eid, dataset='photometryROI.locations', download_only=True\n",
    ")\n",
    "locations_pqt_path = one.eid2path(eid) / 'alf/photometry/photometryROI.locations.pqt'\n",
    "\n",
    "ffio.from_ibl_pqt(signal_pqt_path, locations_pqt_path)"
   ]
  }
 ],
 "metadata": {
  "kernelspec": {
   "display_name": "ibl",
   "language": "python",
   "name": "python3"
  },
  "language_info": {
   "codemirror_mode": {
    "name": "ipython",
    "version": 3
   },
   "file_extension": ".py",
   "mimetype": "text/x-python",
   "name": "python",
   "nbconvert_exporter": "python",
   "pygments_lexer": "ipython3",
   "version": "3.12.7"
  }
 },
 "nbformat": 4,
 "nbformat_minor": 2
}
