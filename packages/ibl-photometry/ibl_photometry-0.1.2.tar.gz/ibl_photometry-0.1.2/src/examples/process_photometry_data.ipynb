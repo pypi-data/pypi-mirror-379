{
 "cells": [
  {
   "cell_type": "code",
   "execution_count": 1,
   "metadata": {},
   "outputs": [],
   "source": [
    "# just here\n",
    "%load_ext autoreload\n",
    "%autoreload 2"
   ]
  },
  {
   "cell_type": "code",
   "execution_count": null,
   "metadata": {},
   "outputs": [],
   "source": [
    "# imports\n",
    "import matplotlib.pyplot as plt\n",
    "import iblphotometry.io as ffio"
   ]
  },
  {
   "cell_type": "code",
   "execution_count": null,
   "metadata": {},
   "outputs": [],
   "source": [
    "# ONE instantiation\n",
    "from one.api import ONE\n",
    "\n",
    "one = ONE(base_url='https://alyx.internationalbrainlab.org', mode='remote')\n",
    "\n",
    "# an example eid\n",
    "lab = 'wittenlab'\n",
    "eids = one.search(dataset='photometry.signal.pqt', lab=lab)\n",
    "eid = eids[26]"
   ]
  },
  {
   "cell_type": "code",
   "execution_count": 12,
   "metadata": {},
   "outputs": [
    {
     "data": {
      "text/plain": [
       "{'GCaMP':                    DMS       DLS      NAcc\n",
       " times                                     \n",
       " -26.104571    0.003983  0.006191  0.003983\n",
       " -26.084607    0.003922  0.004078  0.003922\n",
       " -26.064644    0.004022  0.005881  0.003977\n",
       " -26.044680    0.004055  0.005767  0.003976\n",
       " -26.024717    0.004078  0.005803  0.003976\n",
       " ...                ...       ...       ...\n",
       "  3877.629817  0.003965  0.005286  0.003927\n",
       "  3877.649819  0.003958  0.005281  0.003944\n",
       "  3877.669853  0.003970  0.005352  0.003936\n",
       "  3877.689887  0.003962  0.005330  0.003934\n",
       "  3877.709921  0.003968  0.005397  0.003939\n",
       " \n",
       " [195198 rows x 3 columns]}"
      ]
     },
     "execution_count": 12,
     "metadata": {},
     "output_type": "execute_result"
    }
   ],
   "source": [
    "# loading data\n",
    "raw_photometry_df = one.load_dataset(eid, dataset='photometry.signal')\n",
    "locations_df = one.load_dataset(eid, dataset='photometryROI.locations')\n",
    "trials = one.load_dataset(eid, '*trials.table')\n",
    "raw_dfs = ffio.from_ibl_dataframes(raw_photometry_df, locations_df)\n",
    "raw_dfs"
   ]
  },
  {
   "cell_type": "markdown",
   "metadata": {},
   "source": [
    "from this data representation, running an processing pipeline is simple "
   ]
  },
  {
   "cell_type": "code",
   "execution_count": 13,
   "metadata": {},
   "outputs": [
    {
     "data": {
      "text/html": [
       "<div>\n",
       "<style scoped>\n",
       "    .dataframe tbody tr th:only-of-type {\n",
       "        vertical-align: middle;\n",
       "    }\n",
       "\n",
       "    .dataframe tbody tr th {\n",
       "        vertical-align: top;\n",
       "    }\n",
       "\n",
       "    .dataframe thead th {\n",
       "        text-align: right;\n",
       "    }\n",
       "</style>\n",
       "<table border=\"1\" class=\"dataframe\">\n",
       "  <thead>\n",
       "    <tr style=\"text-align: right;\">\n",
       "      <th></th>\n",
       "      <th>DMS</th>\n",
       "      <th>DLS</th>\n",
       "      <th>NAcc</th>\n",
       "    </tr>\n",
       "  </thead>\n",
       "  <tbody>\n",
       "    <tr>\n",
       "      <th>-9.994494</th>\n",
       "      <td>0.502134</td>\n",
       "      <td>0.472474</td>\n",
       "      <td>0.072365</td>\n",
       "    </tr>\n",
       "    <tr>\n",
       "      <th>-9.974530</th>\n",
       "      <td>-0.270563</td>\n",
       "      <td>0.416623</td>\n",
       "      <td>0.282271</td>\n",
       "    </tr>\n",
       "    <tr>\n",
       "      <th>-9.954567</th>\n",
       "      <td>-0.054550</td>\n",
       "      <td>0.349578</td>\n",
       "      <td>0.406404</td>\n",
       "    </tr>\n",
       "    <tr>\n",
       "      <th>-9.934604</th>\n",
       "      <td>-0.870414</td>\n",
       "      <td>0.247359</td>\n",
       "      <td>0.034610</td>\n",
       "    </tr>\n",
       "    <tr>\n",
       "      <th>-9.914640</th>\n",
       "      <td>-0.998413</td>\n",
       "      <td>0.149933</td>\n",
       "      <td>0.044276</td>\n",
       "    </tr>\n",
       "    <tr>\n",
       "      <th>...</th>\n",
       "      <td>...</td>\n",
       "      <td>...</td>\n",
       "      <td>...</td>\n",
       "    </tr>\n",
       "    <tr>\n",
       "      <th>3877.629817</th>\n",
       "      <td>-0.307573</td>\n",
       "      <td>-0.209454</td>\n",
       "      <td>-0.947464</td>\n",
       "    </tr>\n",
       "    <tr>\n",
       "      <th>3877.649819</th>\n",
       "      <td>-0.449528</td>\n",
       "      <td>-0.220531</td>\n",
       "      <td>0.437115</td>\n",
       "    </tr>\n",
       "    <tr>\n",
       "      <th>3877.669853</th>\n",
       "      <td>-0.218852</td>\n",
       "      <td>-0.074683</td>\n",
       "      <td>-0.255174</td>\n",
       "    </tr>\n",
       "    <tr>\n",
       "      <th>3877.689887</th>\n",
       "      <td>-0.378551</td>\n",
       "      <td>-0.118991</td>\n",
       "      <td>-0.409016</td>\n",
       "    </tr>\n",
       "    <tr>\n",
       "      <th>3877.709921</th>\n",
       "      <td>-0.254340</td>\n",
       "      <td>0.017626</td>\n",
       "      <td>-0.024411</td>\n",
       "    </tr>\n",
       "  </tbody>\n",
       "</table>\n",
       "<p>194391 rows × 3 columns</p>\n",
       "</div>"
      ],
      "text/plain": [
       "                   DMS       DLS      NAcc\n",
       "-9.994494     0.502134  0.472474  0.072365\n",
       "-9.974530    -0.270563  0.416623  0.282271\n",
       "-9.954567    -0.054550  0.349578  0.406404\n",
       "-9.934604    -0.870414  0.247359  0.034610\n",
       "-9.914640    -0.998413  0.149933  0.044276\n",
       "...                ...       ...       ...\n",
       " 3877.629817 -0.307573 -0.209454 -0.947464\n",
       " 3877.649819 -0.449528 -0.220531  0.437115\n",
       " 3877.669853 -0.218852 -0.074683 -0.255174\n",
       " 3877.689887 -0.378551 -0.118991 -0.409016\n",
       " 3877.709921 -0.254340  0.017626 -0.024411\n",
       "\n",
       "[194391 rows x 3 columns]"
      ]
     },
     "execution_count": 13,
     "metadata": {},
     "output_type": "execute_result"
    }
   ],
   "source": [
    "from iblphotometry import pipelines\n",
    "\n",
    "# a single band pipelines\n",
    "pipeline = pipelines.sliding_mad_pipeline\n",
    "\n",
    "# getting the data for the GCaMP channel\n",
    "raw_df = raw_dfs['GCaMP']\n",
    "\n",
    "# restricting the photometry data to the time of the task +- 10 seconds\n",
    "t_start = trials['intervals_0'].iloc[0] - 10\n",
    "t_stop = trials['intervals_1'].iloc[-1] + 10\n",
    "raw_df = raw_df.loc[t_start:t_stop]\n",
    "\n",
    "df_processed = pipelines.run_pipeline(pipeline, raw_df)\n",
    "df_processed"
   ]
  },
  {
   "cell_type": "markdown",
   "metadata": {},
   "source": [
    "Pipelines are lists of tuples, where each tuple defines a `callable` pipeline function and a `dict` of its arguments. Each function is executed one after another, and the output of a function is fed into the next. This makes pipelines very modular they can be constructed with a lot of flexibility:"
   ]
  },
  {
   "cell_type": "code",
   "execution_count": 19,
   "metadata": {},
   "outputs": [
    {
     "data": {
      "text/html": [
       "<div>\n",
       "<style scoped>\n",
       "    .dataframe tbody tr th:only-of-type {\n",
       "        vertical-align: middle;\n",
       "    }\n",
       "\n",
       "    .dataframe tbody tr th {\n",
       "        vertical-align: top;\n",
       "    }\n",
       "\n",
       "    .dataframe thead th {\n",
       "        text-align: right;\n",
       "    }\n",
       "</style>\n",
       "<table border=\"1\" class=\"dataframe\">\n",
       "  <thead>\n",
       "    <tr style=\"text-align: right;\">\n",
       "      <th></th>\n",
       "      <th>DMS</th>\n",
       "      <th>DLS</th>\n",
       "      <th>NAcc</th>\n",
       "    </tr>\n",
       "  </thead>\n",
       "  <tbody>\n",
       "    <tr>\n",
       "      <th>-9.994494</th>\n",
       "      <td>0.588976</td>\n",
       "      <td>0.461625</td>\n",
       "      <td>-0.300992</td>\n",
       "    </tr>\n",
       "    <tr>\n",
       "      <th>-9.974530</th>\n",
       "      <td>-0.501257</td>\n",
       "      <td>0.408888</td>\n",
       "      <td>0.213176</td>\n",
       "    </tr>\n",
       "    <tr>\n",
       "      <th>-9.954567</th>\n",
       "      <td>-0.196467</td>\n",
       "      <td>0.345582</td>\n",
       "      <td>0.517156</td>\n",
       "    </tr>\n",
       "    <tr>\n",
       "      <th>-9.934604</th>\n",
       "      <td>-1.347421</td>\n",
       "      <td>0.249063</td>\n",
       "      <td>-0.393311</td>\n",
       "    </tr>\n",
       "    <tr>\n",
       "      <th>-9.914640</th>\n",
       "      <td>-1.527899</td>\n",
       "      <td>0.157071</td>\n",
       "      <td>-0.369591</td>\n",
       "    </tr>\n",
       "    <tr>\n",
       "      <th>...</th>\n",
       "      <td>...</td>\n",
       "      <td>...</td>\n",
       "      <td>...</td>\n",
       "    </tr>\n",
       "    <tr>\n",
       "      <th>3877.629817</th>\n",
       "      <td>-0.258024</td>\n",
       "      <td>-0.168823</td>\n",
       "      <td>-0.202499</td>\n",
       "    </tr>\n",
       "    <tr>\n",
       "      <th>3877.649819</th>\n",
       "      <td>-0.384000</td>\n",
       "      <td>-0.178980</td>\n",
       "      <td>0.231208</td>\n",
       "    </tr>\n",
       "    <tr>\n",
       "      <th>3877.669853</th>\n",
       "      <td>-0.179288</td>\n",
       "      <td>-0.045244</td>\n",
       "      <td>0.014355</td>\n",
       "    </tr>\n",
       "    <tr>\n",
       "      <th>3877.689887</th>\n",
       "      <td>-0.321012</td>\n",
       "      <td>-0.085873</td>\n",
       "      <td>-0.033835</td>\n",
       "    </tr>\n",
       "    <tr>\n",
       "      <th>3877.709921</th>\n",
       "      <td>-0.210782</td>\n",
       "      <td>0.039399</td>\n",
       "      <td>0.086639</td>\n",
       "    </tr>\n",
       "  </tbody>\n",
       "</table>\n",
       "<p>194391 rows × 3 columns</p>\n",
       "</div>"
      ],
      "text/plain": [
       "                   DMS       DLS      NAcc\n",
       "-9.994494     0.588976  0.461625 -0.300992\n",
       "-9.974530    -0.501257  0.408888  0.213176\n",
       "-9.954567    -0.196467  0.345582  0.517156\n",
       "-9.934604    -1.347421  0.249063 -0.393311\n",
       "-9.914640    -1.527899  0.157071 -0.369591\n",
       "...                ...       ...       ...\n",
       " 3877.629817 -0.258024 -0.168823 -0.202499\n",
       " 3877.649819 -0.384000 -0.178980  0.231208\n",
       " 3877.669853 -0.179288 -0.045244  0.014355\n",
       " 3877.689887 -0.321012 -0.085873 -0.033835\n",
       " 3877.709921 -0.210782  0.039399  0.086639\n",
       "\n",
       "[194391 rows x 3 columns]"
      ]
     },
     "execution_count": 19,
     "metadata": {},
     "output_type": "execute_result"
    }
   ],
   "source": [
    "from iblphotometry import processing as fpp\n",
    "\n",
    "pipeline = (\n",
    "    (fpp.remove_spikes, dict(sd=5)),\n",
    "    (\n",
    "        fpp.lowpass_bleachcorrect,\n",
    "        dict(),\n",
    "    ),  # if an empty dict is passed, the default values will be used\n",
    "    (fpp.zscore, dict(mode='median')),\n",
    ")\n",
    "\n",
    "df_processed = pipelines.run_pipeline(pipeline, raw_df)\n",
    "df_processed"
   ]
  },
  {
   "cell_type": "code",
   "execution_count": 18,
   "metadata": {},
   "outputs": [
    {
     "data": {
      "image/png": "[encoded data removed]",
      "text/plain": [
       "<Figure size 640x480 with 3 Axes>"
      ]
     },
     "metadata": {},
     "output_type": "display_data"
    }
   ],
   "source": [
    "t_start = trials['intervals_0'].iloc[0] + 250\n",
    "t_stop = t_start + 480\n",
    "cols = df_processed.columns\n",
    "fig, axes = plt.subplots(nrows=len(cols))\n",
    "for i, col in enumerate(cols):\n",
    "    axes[i].plot(df_processed[col].loc[t_start:t_stop], label=col, alpha=0.8, lw=1)\n",
    "    axes[i].legend()"
   ]
  }
 ],
 "metadata": {
  "kernelspec": {
   "display_name": "ibl",
   "language": "python",
   "name": "python3"
  },
  "language_info": {
   "codemirror_mode": {
    "name": "ipython",
    "version": 3
   },
   "file_extension": ".py",
   "mimetype": "text/x-python",
   "name": "python",
   "nbconvert_exporter": "python",
   "pygments_lexer": "ipython3",
   "version": "3.12.7"
  }
 },
 "nbformat": 4,
 "nbformat_minor": 2
}
