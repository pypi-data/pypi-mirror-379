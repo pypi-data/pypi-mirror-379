{
 "cells": [
  {
   "cell_type": "markdown",
   "id": "9ad5f259",
   "metadata": {},
   "source": [
    "# Providing Data - Level 1\n",
    "## How to tell Hyrax what data to give to a model.\n",
    "\n",
    "Every model needs data. It learns from data during training, \n",
    "and it makes predictions from data during inference.\n",
    "In Hyrax, that flow of information happens through two main pieces: \n",
    "a ``HyraxDataset`` and a ``DataProvider``.\n",
    "A ``HyraxDataset`` is the code that knows how to read specific data from disk.\n",
    "A ``DataProvider`` is the part we actually ask for data — it calls on one or more datasets,\n",
    "retrieves the fields we need, and hands everything back as a clean, well-structured Python dictionary.\n",
    "\n",
    "In this guide, we’ll take our very first steps with data in Hyrax. Here’s what we’ll do:\n",
    "- Learn how to use a DataProvider to tell Hyrax what data a model should see.\n",
    "- Look inside the DataProvider to understand what the data looks like once it’s ready.\n",
    "\n",
    "To keep things simple, we’ll practice with a built-in Dataset called ``HyraxRandomDataset``.\n",
    "Think of it as “practice data” that stands in for the real thing.\n",
    "\n",
    "As always, our first move will be to create an instance of the Hyrax class."
   ]
  },
  {
   "cell_type": "code",
   "execution_count": 9,
   "id": "e20e33fa",
   "metadata": {},
   "outputs": [
    {
     "name": "stderr",
     "output_type": "stream",
     "text": [
      "[2025-09-15 15:38:05,894 hyrax:INFO] Runtime Config read from: /Users/drew/code/hyrax/src/hyrax/hyrax_default_config.toml\n"
     ]
    }
   ],
   "source": [
    "from hyrax import Hyrax\n",
    "\n",
    "h = Hyrax()"
   ]
  },
  {
   "cell_type": "markdown",
   "id": "72cfea63",
   "metadata": {},
   "source": [
    "Next we'll try to tell Hyrax that we want to use the ``HyraxRandomDataset`` as the source for our data provider."
   ]
  },
  {
   "cell_type": "code",
   "execution_count": 10,
   "id": "129366f5",
   "metadata": {},
   "outputs": [
    {
     "name": "stderr",
     "output_type": "stream",
     "text": [
      "[2025-09-15 15:38:07,037 hyrax.data_sets.data_provider:INFO] No fields were specified for 'data'. The request will be modified to select all by default. You can specify `fields` in `model_inputs`.\n",
      "[2025-09-15 15:38:07,301 hyrax.prepare:INFO] Finished Prepare\n"
     ]
    },
    {
     "data": {
      "text/plain": [
       "{'data': {'image': array([[[0.08925092, 0.773956  , 0.6545715 , 0.43887842, 0.43301523],\n",
       "          [0.8585979 , 0.08594561, 0.697368  , 0.20146948, 0.09417731],\n",
       "          [0.52647895, 0.9756223 , 0.73575234, 0.7611397 , 0.71747726],\n",
       "          [0.78606427, 0.51322657, 0.12811363, 0.8397482 , 0.45038593],\n",
       "          [0.5003519 , 0.370798  , 0.1825496 , 0.92676497, 0.78156745]],\n",
       "  \n",
       "         [[0.6438651 , 0.40241432, 0.8227616 , 0.5454291 , 0.44341415],\n",
       "          [0.45045954, 0.22723871, 0.09213591, 0.55458474, 0.8878898 ],\n",
       "          [0.0638172 , 0.85829127, 0.8276311 , 0.27675968, 0.6316644 ],\n",
       "          [0.16522902, 0.7580877 , 0.70052296, 0.35452592, 0.06791997],\n",
       "          [0.970698  , 0.44568747, 0.89312106, 0.677919  , 0.7783835 ]]],\n",
       "        dtype=float32),\n",
       "  'label': np.int64(0),\n",
       "  'meta_field_1': np.float64(50.0),\n",
       "  'meta_field_2': np.float64(33.333333333333336),\n",
       "  'object_id': '19'}}"
      ]
     },
     "execution_count": 10,
     "metadata": {},
     "output_type": "execute_result"
    }
   ],
   "source": [
    "h.config[\"model_inputs\"] = {\n",
    "    \"data\": {\n",
    "        \"dataset_class\": \"HyraxRandomDataset\",\n",
    "    },\n",
    "}\n",
    "\n",
    "# Prepare the model_inputs\n",
    "d = h.prepare()\n",
    "\n",
    "# Print a sample of the data\n",
    "d.sample_data()"
   ]
  },
  {
   "cell_type": "markdown",
   "id": "a16736fe",
   "metadata": {},
   "source": [
    "Hooray — success! 🎉 We just told Hyrax which Dataset to use, called ``h.prepare()`` to set it up,\n",
    "and printed out a sample of the data.\n",
    "The configuration we used is called ``model_inputs``, because it defines what will be sent into the model.\n",
    "(And yes, the name is plural — models can take more than one input, but we’ll save that for he next notebook.)\n",
    "\n",
    "What we’ve created here is the simplest possible setup: it tells Hyrax to use ``HyraxRandomDataset``\n",
    "as the source of data for both training and inference. That’s all we need to get started.\n",
    "\n",
    "Before we move on, there are two details worth highlighting:\n",
    "- The dictionary key (\"data\") is up to you. You can name it whatever you like, as long as each key is unique.\n",
    "- The value of \"dataset_class\" is the Dataset you want Hyrax to use. Here we picked ``HyraxRandomDataset``, but you could swap in any class."
   ]
  },
  {
   "cell_type": "markdown",
   "id": "bac24d6a",
   "metadata": {},
   "source": [
    "## If you only want _some_ fields\n",
    "\n",
    "In the minimal setup, Hyrax grabs all the fields that a Dataset can provide.\n",
    "That’s handy for a quick demo, but in real projects you usually don’t want everything at once.\n",
    "For example, you might only need images and labels, while ignoring extra metadata.\n",
    "\n",
    "Fortunately, you’re in control. The ``DataProvider`` can show you exactly which fields are available,\n",
    "and the ``model_inputs`` configuration lets you pick and choose the ones you actually want."
   ]
  },
  {
   "cell_type": "code",
   "execution_count": 11,
   "id": "77ad080e",
   "metadata": {},
   "outputs": [
    {
     "data": {
      "text/plain": [
       "{'data': ['image', 'label', 'meta_field_1', 'meta_field_2', 'object_id']}"
      ]
     },
     "execution_count": 11,
     "metadata": {},
     "output_type": "execute_result"
    }
   ],
   "source": [
    "d.fields()"
   ]
  },
  {
   "cell_type": "code",
   "execution_count": 12,
   "id": "9d516dae",
   "metadata": {},
   "outputs": [
    {
     "name": "stderr",
     "output_type": "stream",
     "text": [
      "[2025-09-15 15:49:15,867 hyrax.prepare:INFO] Finished Prepare\n"
     ]
    },
    {
     "data": {
      "text/plain": [
       "{'data': {'image': array([[[0.08925092, 0.773956  , 0.6545715 , 0.43887842, 0.43301523],\n",
       "          [0.8585979 , 0.08594561, 0.697368  , 0.20146948, 0.09417731],\n",
       "          [0.52647895, 0.9756223 , 0.73575234, 0.7611397 , 0.71747726],\n",
       "          [0.78606427, 0.51322657, 0.12811363, 0.8397482 , 0.45038593],\n",
       "          [0.5003519 , 0.370798  , 0.1825496 , 0.92676497, 0.78156745]],\n",
       "  \n",
       "         [[0.6438651 , 0.40241432, 0.8227616 , 0.5454291 , 0.44341415],\n",
       "          [0.45045954, 0.22723871, 0.09213591, 0.55458474, 0.8878898 ],\n",
       "          [0.0638172 , 0.85829127, 0.8276311 , 0.27675968, 0.6316644 ],\n",
       "          [0.16522902, 0.7580877 , 0.70052296, 0.35452592, 0.06791997],\n",
       "          [0.970698  , 0.44568747, 0.89312106, 0.677919  , 0.7783835 ]]],\n",
       "        dtype=float32),\n",
       "  'meta_field_2': np.float64(33.333333333333336)}}"
      ]
     },
     "execution_count": 12,
     "metadata": {},
     "output_type": "execute_result"
    }
   ],
   "source": [
    "h.config[\"model_inputs\"] = {\n",
    "    \"data\": {\n",
    "        \"dataset_class\": \"HyraxRandomDataset\",\n",
    "        \"fields\": [\"image\", \"meta_field_2\"],  # <- Request only specific fields.\n",
    "    },\n",
    "}\n",
    "\n",
    "# Prepare the model_inputs\n",
    "d = h.prepare()\n",
    "\n",
    "# Print a sample of the data\n",
    "d.sample_data()"
   ]
  },
  {
   "cell_type": "markdown",
   "id": "7aec8a26",
   "metadata": {},
   "source": [
    "Huzzah! 🎉 We just looked at all the fields that ``HyraxRandomDataset`` provides,\n",
    "and then updated ``model_inputs`` to request only \"image\" and \"meta_field_2\".\n",
    "Now our ``DataProvider`` returns exactly the fields we want — no extras."
   ]
  },
  {
   "cell_type": "markdown",
   "id": "d44bef84",
   "metadata": {},
   "source": [
    "## Examine some of the data\n",
    "Now that our ``DataProvider`` is set up to return only the fields we care about,\n",
    "let’s take a closer look at the data itself.\n",
    "\n",
    "We’ve already seen the ``DataProvider.sample_data()`` function, which returns the first sample it can find.\n",
    "Because Hyrax retrieves data by index, it’s also easy to explore different parts\n",
    "of the dataset by sampling at random indices.\n",
    "This helps you get a feel for the form and structure of the data before feeding it into a model."
   ]
  },
  {
   "cell_type": "code",
   "execution_count": 13,
   "id": "ba66ba7b",
   "metadata": {},
   "outputs": [
    {
     "data": {
      "text/plain": [
       "{'data': {'image': array([[[0.6162841 , 0.77899635, 0.73904294, 0.13455218, 0.8260549 ],\n",
       "          [0.536068  , 0.3230834 , 0.51422286, 0.96698344, 0.85757214],\n",
       "          [0.83369845, 0.4627993 , 0.7841378 , 0.38508946, 0.68616545],\n",
       "          [0.63956326, 0.24979866, 0.26646328, 0.06113309, 0.13976836],\n",
       "          [0.4336186 , 0.47787726, 0.16512072, 0.4168893 , 0.6041775 ]],\n",
       "  \n",
       "         [[0.23256993, 0.33823687, 0.3675118 , 0.5050539 , 0.36639243],\n",
       "          [0.7369446 , 0.32749552, 0.43389672, 0.37946403, 0.18291575],\n",
       "          [0.68574333, 0.23544616, 0.29687643, 0.7927519 , 0.9488579 ],\n",
       "          [0.6708431 , 0.916348  , 0.8541906 , 0.48091042, 0.77029014],\n",
       "          [0.32836115, 0.46049702, 0.5354348 , 0.96049297, 0.84856045]]],\n",
       "        dtype=float32),\n",
       "  'meta_field_2': np.float64(29.333333333333332)}}"
      ]
     },
     "execution_count": 13,
     "metadata": {},
     "output_type": "execute_result"
    }
   ],
   "source": [
    "d[12]"
   ]
  },
  {
   "cell_type": "markdown",
   "id": "40690a17",
   "metadata": {},
   "source": [
    "No big surprise — the output here looks very similar to what we saw with ``d.sample_data()``.\n",
    "Remember, the data is returned as a nested dictionary, with the top-level key matching the friendly name, \"data\".\n",
    "\n",
    "You can use any integer index up to the size of the dataset, but how do we figure out that size?\n",
    "Simple: just use Python’s ``len(...)`` function!\n",
    "This lets us see exactly how many samples are available."
   ]
  },
  {
   "cell_type": "code",
   "execution_count": 14,
   "id": "c1ffb5f0",
   "metadata": {},
   "outputs": [
    {
     "data": {
      "text/plain": [
       "100"
      ]
     },
     "execution_count": 14,
     "metadata": {},
     "output_type": "execute_result"
    }
   ],
   "source": [
    "len(d)"
   ]
  },
  {
   "cell_type": "markdown",
   "id": "eced5315",
   "metadata": {},
   "source": [
    "## Persisting the configuration\n",
    "\n",
    "In Hyrax, all configurations — including ``model_inputs`` — are saved to the configuration .toml file,\n",
    "along with any results. This makes it easy to reuse or share your setup later.\n",
    "\n",
    "For our example, the saved configuration would look like this:\n",
    "\n",
    ".. code-block:: toml\n",
    "\n",
    "    [model_inputs]\n",
    "    [model_inputs.data]\n",
    "    dataset_class: 'HyraxRandomDataset'\n",
    "    fields: ['image', 'meta_field_2']\n",
    "\n",
    "This ensures that Hyrax remembers exactly which Dataset and fields you want for future runs."
   ]
  }
 ],
 "metadata": {
  "kernelspec": {
   "display_name": "hyrax",
   "language": "python",
   "name": "python3"
  },
  "language_info": {
   "codemirror_mode": {
    "name": "ipython",
    "version": 3
   },
   "file_extension": ".py",
   "mimetype": "text/x-python",
   "name": "python",
   "nbconvert_exporter": "python",
   "pygments_lexer": "ipython3",
   "version": "3.12.9"
  }
 },
 "nbformat": 4,
 "nbformat_minor": 5
}
