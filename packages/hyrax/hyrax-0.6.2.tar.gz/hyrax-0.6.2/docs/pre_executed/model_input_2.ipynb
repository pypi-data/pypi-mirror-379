{
 "cells": [
  {
   "cell_type": "markdown",
   "id": "5872c787",
   "metadata": {},
   "source": [
    "# Providing Data - Level 2\n",
    "## Fine grained control over requested data\n",
    "\n",
    "In this notebook we'll explore more parameters that you can use in ``model_inputs`` to control the data that is provided to your model.\n",
    "\n",
    "To start with lets continue to use HyraxRandomDataset to show:\n",
    "- `dataset_config` and how to work with that.\n",
    "- `primary_id_field` and how that is required by `infer` for writing the InferenceDataset.\n",
    "\n",
    "Then shift to using the HyraxCifar dataset so that we can introduce:\n",
    "- `data_location`\n",
    "- `fields`"
   ]
  },
  {
   "cell_type": "markdown",
   "id": "28d6891e",
   "metadata": {},
   "source": []
  }
 ],
 "metadata": {
  "language_info": {
   "name": "python"
  }
 },
 "nbformat": 4,
 "nbformat_minor": 5
}
