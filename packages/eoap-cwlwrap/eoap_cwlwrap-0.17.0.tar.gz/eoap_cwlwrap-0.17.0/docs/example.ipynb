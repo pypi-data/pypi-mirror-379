{
 "cells": [
  {
   "cell_type": "markdown",
   "id": "6b6e9ed6",
   "metadata": {},
   "source": [
    "# A simple example: Pattern 1 - single input, single output\n",
    "\n",
    "The CWL includes:\n",
    "\n",
    "- input parameter of type `Directory`;\n",
    "- output parameter of type `Directory`.\n",
    "\n",
    "# Building the Worflow"
   ]
  },
  {
   "cell_type": "code",
   "execution_count": null,
   "id": "df7706ae",
   "metadata": {},
   "outputs": [],
   "source": [
    "from cwl_loader import dump_cwl\n",
    "from eoap_cwlwrap import wrap_locations\n",
    "\n",
    "base_url = 'https://raw.githubusercontent.com/eoap/application-package-patterns/refs/heads/main'\n",
    "workflow_id = 'pattern-1'\n",
    "\n",
    "stage_in_cwl = f\"{base_url}/templates/stage-in.cwl\"\n",
    "workflows_cwl = f\"{base_url}/cwl-workflow/{workflow_id}.cwl\"\n",
    "stage_out_cwl = f\"{base_url}/templates/stage-out.cwl\"\n",
    "\n",
    "main_workflow = wrap_locations(\n",
    "    directory_stage_in=stage_in_cwl,\n",
    "    workflows=workflows_cwl,\n",
    "    workflow_id=workflow_id,\n",
    "    stage_out=stage_out_cwl\n",
    ")"
   ]
  },
  {
   "cell_type": "markdown",
   "id": "9fbd3856",
   "metadata": {},
   "source": [
    "## Check the generated CWL Document"
   ]
  },
  {
   "cell_type": "code",
   "execution_count": null,
   "id": "ad175b72",
   "metadata": {},
   "outputs": [],
   "source": [
    "import sys\n",
    "\n",
    "dump_cwl(main_workflow, sys.stderr)"
   ]
  }
 ],
 "metadata": {
  "kernelspec": {
   "display_name": ".venv",
   "language": "python",
   "name": "python3"
  },
  "language_info": {
   "codemirror_mode": {
    "name": "ipython",
    "version": 3
   },
   "file_extension": ".py",
   "mimetype": "text/x-python",
   "name": "python",
   "nbconvert_exporter": "python",
   "pygments_lexer": "ipython3",
   "version": "3.13.5"
  }
 },
 "nbformat": 4,
 "nbformat_minor": 5
}
