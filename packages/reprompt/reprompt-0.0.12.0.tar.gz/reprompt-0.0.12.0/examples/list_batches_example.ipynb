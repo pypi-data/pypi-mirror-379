{
 "cells": [
  {
   "cell_type": "markdown",
   "metadata": {},
   "source": [
    "# Reprompt SDK\n",
    "This notebook demonstrates how to use the Reprompt SDK to list all batches and identify failed ones."
   ]
  },
  {
   "cell_type": "code",
   "execution_count": 1,
   "metadata": {},
   "outputs": [
    {
     "name": "stdout",
     "output_type": "stream",
     "text": [
      "Obtaining file:///Users/lukasmartinelli/Repositories/reprompt\n",
      "  Installing build dependencies ... \u001b[?25ldone\n",
      "\u001b[?25h  Checking if build backend supports build_editable ... \u001b[?25ldone\n",
      "\u001b[?25h  Getting requirements to build editable ... \u001b[?25ldone\n",
      "\u001b[?25h  Preparing editable metadata (pyproject.toml) ... \u001b[?25ldone\n",
      "\u001b[?25hRequirement already satisfied: httpx>=0.27.0 in /Users/lukasmartinelli/Repositories/reprompt/.venv/lib/python3.12/site-packages (from reprompt==0.0.9.0) (0.28.1)\n",
      "Requirement already satisfied: pydantic>=2.0.0 in /Users/lukasmartinelli/Repositories/reprompt/.venv/lib/python3.12/site-packages (from reprompt==0.0.9.0) (2.11.7)\n",
      "Requirement already satisfied: typer>=0.12 in /Users/lukasmartinelli/Repositories/reprompt/.venv/lib/python3.12/site-packages (from reprompt==0.0.9.0) (0.16.1)\n",
      "Requirement already satisfied: rich>=13.7 in /Users/lukasmartinelli/Repositories/reprompt/.venv/lib/python3.12/site-packages (from reprompt==0.0.9.0) (14.1.0)\n",
      "Requirement already satisfied: anyio in /Users/lukasmartinelli/Repositories/reprompt/.venv/lib/python3.12/site-packages (from httpx>=0.27.0->reprompt==0.0.9.0) (4.10.0)\n",
      "Requirement already satisfied: certifi in /Users/lukasmartinelli/Repositories/reprompt/.venv/lib/python3.12/site-packages (from httpx>=0.27.0->reprompt==0.0.9.0) (2025.8.3)\n",
      "Requirement already satisfied: httpcore==1.* in /Users/lukasmartinelli/Repositories/reprompt/.venv/lib/python3.12/site-packages (from httpx>=0.27.0->reprompt==0.0.9.0) (1.0.9)\n",
      "Requirement already satisfied: idna in /Users/lukasmartinelli/Repositories/reprompt/.venv/lib/python3.12/site-packages (from httpx>=0.27.0->reprompt==0.0.9.0) (3.10)\n",
      "Requirement already satisfied: h11>=0.16 in /Users/lukasmartinelli/Repositories/reprompt/.venv/lib/python3.12/site-packages (from httpcore==1.*->httpx>=0.27.0->reprompt==0.0.9.0) (0.16.0)\n",
      "Requirement already satisfied: annotated-types>=0.6.0 in /Users/lukasmartinelli/Repositories/reprompt/.venv/lib/python3.12/site-packages (from pydantic>=2.0.0->reprompt==0.0.9.0) (0.7.0)\n",
      "Requirement already satisfied: pydantic-core==2.33.2 in /Users/lukasmartinelli/Repositories/reprompt/.venv/lib/python3.12/site-packages (from pydantic>=2.0.0->reprompt==0.0.9.0) (2.33.2)\n",
      "Requirement already satisfied: typing-extensions>=4.12.2 in /Users/lukasmartinelli/Repositories/reprompt/.venv/lib/python3.12/site-packages (from pydantic>=2.0.0->reprompt==0.0.9.0) (4.14.1)\n",
      "Requirement already satisfied: typing-inspection>=0.4.0 in /Users/lukasmartinelli/Repositories/reprompt/.venv/lib/python3.12/site-packages (from pydantic>=2.0.0->reprompt==0.0.9.0) (0.4.1)\n",
      "Requirement already satisfied: markdown-it-py>=2.2.0 in /Users/lukasmartinelli/Repositories/reprompt/.venv/lib/python3.12/site-packages (from rich>=13.7->reprompt==0.0.9.0) (4.0.0)\n",
      "Requirement already satisfied: pygments<3.0.0,>=2.13.0 in /Users/lukasmartinelli/Repositories/reprompt/.venv/lib/python3.12/site-packages (from rich>=13.7->reprompt==0.0.9.0) (2.19.2)\n",
      "Requirement already satisfied: click>=8.0.0 in /Users/lukasmartinelli/Repositories/reprompt/.venv/lib/python3.12/site-packages (from typer>=0.12->reprompt==0.0.9.0) (8.2.1)\n",
      "Requirement already satisfied: shellingham>=1.3.0 in /Users/lukasmartinelli/Repositories/reprompt/.venv/lib/python3.12/site-packages (from typer>=0.12->reprompt==0.0.9.0) (1.5.4)\n",
      "Requirement already satisfied: mdurl~=0.1 in /Users/lukasmartinelli/Repositories/reprompt/.venv/lib/python3.12/site-packages (from markdown-it-py>=2.2.0->rich>=13.7->reprompt==0.0.9.0) (0.1.2)\n",
      "Requirement already satisfied: sniffio>=1.1 in /Users/lukasmartinelli/Repositories/reprompt/.venv/lib/python3.12/site-packages (from anyio->httpx>=0.27.0->reprompt==0.0.9.0) (1.3.1)\n",
      "Building wheels for collected packages: reprompt\n",
      "  Building editable for reprompt (pyproject.toml) ... \u001b[?25ldone\n",
      "\u001b[?25h  Created wheel for reprompt: filename=reprompt-0.0.9.0-py3-none-any.whl size=4033 sha256=fa748813cd3e2af6b618b8b217a8c73c8df1aac1fb3ceba7312e07389824290b\n",
      "  Stored in directory: /private/var/folders/hx/5rvtdl9d499c5z1_fb75nqx40000gn/T/pip-ephem-wheel-cache-ocjk2bu4/wheels/7b/6c/c5/65a98a3ae06ed35383aaa03db9ec410458073d8ef109493b4d\n",
      "Successfully built reprompt\n",
      "Installing collected packages: reprompt\n",
      "  Attempting uninstall: reprompt\n",
      "    Found existing installation: reprompt 0.0.9.0\n",
      "    Uninstalling reprompt-0.0.9.0:\n",
      "      Successfully uninstalled reprompt-0.0.9.0\n",
      "Successfully installed reprompt-0.0.9.0\n",
      "\n",
      "\u001b[1m[\u001b[0m\u001b[34;49mnotice\u001b[0m\u001b[1;39;49m]\u001b[0m\u001b[39;49m A new release of pip is available: \u001b[0m\u001b[31;49m25.0.1\u001b[0m\u001b[39;49m -> \u001b[0m\u001b[32;49m25.2\u001b[0m\n",
      "\u001b[1m[\u001b[0m\u001b[34;49mnotice\u001b[0m\u001b[1;39;49m]\u001b[0m\u001b[39;49m To update, run: \u001b[0m\u001b[32;49mpip install --upgrade pip\u001b[0m\n"
     ]
    }
   ],
   "source": [
    "# Install reprompt if not already installed\n",
    "!pip install -e ../"
   ]
  },
  {
   "cell_type": "markdown",
   "metadata": {},
   "source": [
    "Create a RepromptClient instance with your credentials."
   ]
  },
  {
   "cell_type": "code",
   "execution_count": 2,
   "metadata": {},
   "outputs": [],
   "source": [
    "import os\n",
    "from reprompt import RepromptClient\n",
    "\n",
    "api_key = os.getenv(\"REPROMPT_API_KEY\")\n",
    "org_slug = os.getenv(\"REPROMPT_ORG_SLUG\")\n",
    "\n",
    "client = RepromptClient(api_key=api_key, org_slug=org_slug)"
   ]
  },
  {
   "cell_type": "code",
   "execution_count": null,
   "metadata": {},
   "outputs": [],
   "source": [
    "e2e_jobs_df = client.batches.list_batches(query=\"E2E\").get_jobs().to_df()\n",
    "e2e_jobs_df"
   ]
  },
  {
   "cell_type": "code",
   "execution_count": 4,
   "metadata": {},
   "outputs": [],
   "source": [
    "e2e_jobs_df.to_csv(\"e2e_jobs_df.csv\")"
   ]
  },
  {
   "cell_type": "code",
   "execution_count": null,
   "metadata": {},
   "outputs": [],
   "source": [
    "import logging\n",
    "logging.getLogger(\"httpx\").setLevel(logging.WARNING)\n",
    "\n",
    "\n",
    "batches = client.batches.list_batches()\n",
    "for b in batches:\n",
    "    #print(b)\n",
    "    if b.status_counts['failed'] > 0:\n",
    "        for job in client.jobs.get_jobs_by_batch_id(b.id):\n",
    "            if job.status == 'failed':\n",
    "                print(\"Found failed job\", job.place_id, job.inputs.name)"
   ]
  },
  {
   "cell_type": "code",
   "execution_count": null,
   "metadata": {},
   "outputs": [],
   "source": []
  },
  {
   "cell_type": "code",
   "execution_count": null,
   "metadata": {},
   "outputs": [],
   "source": [
    "batches_fully_enumerated = list(client.batches.list_batches(query=\"E2E\", page_size=100))\n",
    "for b in batches_fully_enumerated[:3]:\n",
    "    batch_details = client.batches.get_batch(b.id)\n",
    "    # batch_details is a dict, not an object\n",
    "    if 'jobs' in batch_details and 'completed' in batch_details['jobs']:\n",
    "        for place_id in batch_details['jobs']['completed'][:2]:\n",
    "            job_details = client.jobs.get_job(place_id)\n",
    "            print(job_details)"
   ]
  },
  {
   "cell_type": "code",
   "execution_count": null,
   "metadata": {},
   "outputs": [],
   "source": [
    "client.batches.list_batches(query=\"E2E\", page_size=100).to_df()"
   ]
  },
  {
   "cell_type": "code",
   "execution_count": null,
   "metadata": {},
   "outputs": [],
   "source": []
  }
 ],
 "metadata": {
  "kernelspec": {
   "display_name": ".venv",
   "language": "python",
   "name": "python3"
  },
  "language_info": {
   "codemirror_mode": {
    "name": "ipython",
    "version": 3
   },
   "file_extension": ".py",
   "mimetype": "text/x-python",
   "name": "python",
   "nbconvert_exporter": "python",
   "pygments_lexer": "ipython3",
   "version": "3.12.10"
  }
 },
 "nbformat": 4,
 "nbformat_minor": 4
}
