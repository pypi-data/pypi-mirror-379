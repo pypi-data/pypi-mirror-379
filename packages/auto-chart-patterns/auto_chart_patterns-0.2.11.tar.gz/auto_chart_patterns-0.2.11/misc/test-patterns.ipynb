{
 "cells": [
  {
   "cell_type": "code",
   "execution_count": 1,
   "metadata": {},
   "outputs": [],
   "source": [
    "import logging\n",
    "\n",
    "logging.basicConfig(level=logging.DEBUG)"
   ]
  },
  {
   "cell_type": "markdown",
   "metadata": {},
   "source": [
    "### Load data"
   ]
  },
  {
   "cell_type": "code",
   "execution_count": 1,
   "metadata": {},
   "outputs": [],
   "source": [
    "import sys\n",
    "from pathlib import Path\n",
    "\n",
    "# Add project root to Python path\n",
    "project_root = str(Path.cwd().parent)  # Assumes notebook is in integration/ directory\n",
    "if project_root not in sys.path:\n",
    "    sys.path.append(project_root)\n",
    "\n",
    "import datetime\n",
    "from tests.integration.helpers import get_data_for_ticker\n",
    "\n",
    "prices = get_data_for_ticker(\"SHIBUSDT\", start_date=datetime.datetime(2024, 1, 1), end_date=datetime.datetime(2024, 11, 25))"
   ]
  },
  {
   "cell_type": "markdown",
   "metadata": {},
   "source": [
    "### Calculate Zigzag"
   ]
  },
  {
   "cell_type": "code",
   "execution_count": 2,
   "metadata": {},
   "outputs": [
    {
     "name": "stdout",
     "output_type": "stream",
     "text": [
      "Pivot: time=2024-10-31 00:00:00, index=280, price=1.771e-05, direction=-1\n",
      "Pivot: time=2024-10-29 00:00:00, index=278, price=1.983e-05, direction=2\n",
      "Pivot: time=2024-10-25 00:00:00, index=274, price=1.583e-05, direction=-2\n",
      "Pivot: time=2024-10-19 00:00:00, index=268, price=1.955e-05, direction=2\n",
      "Pivot: time=2024-10-10 00:00:00, index=259, price=1.605e-05, direction=-1\n",
      "Pivot: time=2024-10-06 00:00:00, index=255, price=1.885e-05, direction=1\n",
      "Pivot: time=2024-10-03 00:00:00, index=252, price=1.548e-05, direction=-1\n",
      "Pivot: time=2024-09-27 00:00:00, index=246, price=2.169e-05, direction=2\n",
      "Pivot: time=2024-09-18 00:00:00, index=237, price=1.296e-05, direction=-1\n",
      "Pivot: time=2024-09-13 00:00:00, index=232, price=1.411e-05, direction=2\n",
      "Pivot: time=2024-09-11 00:00:00, index=230, price=1.293e-05, direction=-1\n",
      "Pivot: time=2024-09-09 00:00:00, index=228, price=1.376e-05, direction=1\n",
      "Pivot: time=2024-09-06 00:00:00, index=225, price=1.231e-05, direction=-2\n",
      "Pivot: time=2024-08-24 00:00:00, index=212, price=1.612e-05, direction=2\n",
      "Pivot: time=2024-08-16 00:00:00, index=204, price=1.289e-05, direction=-1\n",
      "Pivot: time=2024-08-11 00:00:00, index=199, price=1.468e-05, direction=1\n",
      "Pivot: time=2024-08-05 00:00:00, index=193, price=1.078e-05, direction=-2\n",
      "Pivot: time=2024-07-06 00:00:00, index=187, price=1.754e-05, direction=1\n",
      "Pivot: time=2024-07-05 00:00:00, index=186, price=1.266e-05, direction=-2\n",
      "Pivot: time=2024-07-01 00:00:00, index=182, price=1.76e-05, direction=1\n",
      "Pivot: time=2024-06-30 00:00:00, index=181, price=1.662e-05, direction=-1\n",
      "Pivot: time=2024-06-25 00:00:00, index=176, price=1.824e-05, direction=1\n",
      "Pivot: time=2024-06-24 00:00:00, index=175, price=1.632e-05, direction=-2\n",
      "Pivot: time=2024-06-05 00:00:00, index=156, price=2.633e-05, direction=1\n",
      "Pivot: time=2024-06-04 00:00:00, index=155, price=2.282e-05, direction=-2\n",
      "Pivot: time=2024-05-29 00:00:00, index=149, price=2.945e-05, direction=2\n",
      "Pivot: time=2024-05-23 00:00:00, index=143, price=2.339e-05, direction=-2\n",
      "Pivot: time=2024-05-22 00:00:00, index=142, price=2.686e-05, direction=2\n",
      "Pivot: time=2024-05-20 00:00:00, index=140, price=2.351e-05, direction=-1\n",
      "Pivot: time=2024-05-16 00:00:00, index=136, price=2.588e-05, direction=1\n",
      "Pivot: time=2024-05-13 00:00:00, index=133, price=2.156e-05, direction=-1\n",
      "Pivot: time=2024-05-04 00:00:00, index=124, price=2.632e-05, direction=1\n",
      "Pivot: time=2024-05-01 00:00:00, index=121, price=2.057e-05, direction=-1\n",
      "Pivot: time=2024-04-21 00:00:00, index=111, price=2.82e-05, direction=1\n",
      "Pivot: time=2024-04-13 00:00:00, index=103, price=1.83e-05, direction=-2\n",
      "Pivot: time=2024-04-08 00:00:00, index=98, price=2.954e-05, direction=1\n",
      "Pivot: time=2024-04-03 00:00:00, index=93, price=2.55e-05, direction=-1\n",
      "Pivot: time=2024-03-28 00:00:00, index=87, price=3.285e-05, direction=1\n",
      "Pivot: time=2024-03-20 00:00:00, index=79, price=2.366e-05, direction=-2\n",
      "Pivot: time=2024-03-14 00:00:00, index=73, price=3.487e-05, direction=1\n",
      "Pivot: time=2024-03-12 00:00:00, index=71, price=2.999e-05, direction=-1\n",
      "Pivot: time=2024-03-05 00:00:00, index=64, price=4.567e-05, direction=2\n",
      "Pivot: time=2024-02-21 00:00:00, index=51, price=9.3e-06, direction=-2\n",
      "Pivot: time=2024-02-20 00:00:00, index=50, price=9.97e-06, direction=1\n",
      "Pivot: time=2024-02-17 00:00:00, index=47, price=9.41e-06, direction=-1\n",
      "Pivot: time=2024-02-15 00:00:00, index=45, price=1.005e-05, direction=2\n",
      "Pivot: time=2024-02-05 00:00:00, index=35, price=8.78e-06, direction=-2\n",
      "Pivot: time=2024-02-03 00:00:00, index=33, price=9.16e-06, direction=1\n",
      "Pivot: time=2024-02-01 00:00:00, index=31, price=8.79e-06, direction=-1\n",
      "Pivot: time=2024-01-30 00:00:00, index=29, price=9.46e-06, direction=1\n",
      "Pivot: time=2024-01-23 00:00:00, index=22, price=8.43e-06, direction=-2\n",
      "Pivot: time=2024-01-20 00:00:00, index=19, price=9.86e-06, direction=1\n",
      "Pivot: time=2024-01-19 00:00:00, index=18, price=8.79e-06, direction=-1\n",
      "Pivot: time=2024-01-11 00:00:00, index=10, price=1.05e-05, direction=1\n",
      "Pivot: time=2024-01-03 00:00:00, index=2, price=8.27e-06, direction=-1\n",
      "Pivot: time=2024-01-02 00:00:00, index=1, price=1.092e-05, direction=1\n"
     ]
    }
   ],
   "source": [
    "from auto_chart_patterns.zigzag import Zigzag\n",
    "\n",
    "zigzag = Zigzag(backcandles=2, forwardcandles=2, pivot_limit=100, offset=0)\n",
    "zigzag.calculate(prices)\n",
    "\n",
    "for pivot in zigzag.zigzag_pivots:\n",
    "    print(f\"Pivot: time={pivot.point.time}, index={pivot.point.index}, price={pivot.point.price}, direction={pivot.direction}\")\n"
   ]
  },
  {
   "cell_type": "markdown",
   "metadata": {},
   "source": [
    "### Find Reversal Patterns"
   ]
  },
  {
   "cell_type": "code",
   "execution_count": 3,
   "metadata": {},
   "outputs": [
    {
     "name": "stdout",
     "output_type": "stream",
     "text": [
      "Double Bottoms: 246 - 268\n",
      "Triple Bottoms: 212 - 246\n",
      "Double Bottoms: 156 - 182\n",
      "Double Tops: 121 - 140\n",
      "Double Bottoms: 45 - 64\n",
      "Double Tops: 35 - 51\n",
      "Double Bottoms: 29 - 45\n"
     ]
    }
   ],
   "source": [
    "from auto_chart_patterns.reversal_patterns import find_reversal_patterns, ReversalPatternProperties\n",
    "\n",
    "scan_props = ReversalPatternProperties(min_periods_lapsed=8, flat_ratio=0.1)\n",
    "patterns = []\n",
    "for i in range(0, len(zigzag.zigzag_pivots)):\n",
    "    find_reversal_patterns(zigzag, i, scan_props, patterns)\n",
    "\n",
    "for pattern in patterns:\n",
    "    print(f\"{pattern.pattern_name}: {pattern.pivots[0].point.index} - {pattern.pivots[-1].point.index}\")"
   ]
  },
  {
   "cell_type": "markdown",
   "metadata": {},
   "source": [
    "### Find RSI Divergences"
   ]
  },
  {
   "cell_type": "code",
   "execution_count": 4,
   "metadata": {},
   "outputs": [
    {
     "name": "stdout",
     "output_type": "stream",
     "text": [
      "Hidden Bearish: 98 - 112\n",
      "Hidden Bearish: 173 - 178\n",
      "Hidden Bearish: 178 - 183\n",
      "Bearish: 269 - 278\n",
      "Bullish: 128 - 132\n",
      "Hidden Bullish: 146 - 154\n",
      "Bullish: 185 - 195\n",
      "Bullish: 199 - 204\n",
      "Bullish: 220 - 225\n",
      "Hidden Bullish: 230 - 235\n",
      "Hidden Bullish: 242 - 252\n"
     ]
    }
   ],
   "source": [
    "from auto_chart_patterns.rsi_div_patterns import find_rsi_divergences, RsiDivergenceProperties\n",
    "\n",
    "scan_props = RsiDivergenceProperties(min_periods_lapsed=5, min_change_pct=0.005)\n",
    "patterns = []\n",
    "find_rsi_divergences(backcandles=2, forwardcandles=2, properties=scan_props, patterns=patterns, df=prices)\n",
    "\n",
    "for pattern in patterns:\n",
    "    print(f\"{pattern.pattern_name}: {pattern.pivots[0].point.index} - {pattern.pivots[-1].point.index}\")"
   ]
  }
 ],
 "metadata": {
  "kernelspec": {
   "display_name": ".venv",
   "language": "python",
   "name": "python3"
  },
  "language_info": {
   "codemirror_mode": {
    "name": "ipython",
    "version": 3
   },
   "file_extension": ".py",
   "mimetype": "text/x-python",
   "name": "python",
   "nbconvert_exporter": "python",
   "pygments_lexer": "ipython3",
   "version": "3.10.15"
  }
 },
 "nbformat": 4,
 "nbformat_minor": 2
}
