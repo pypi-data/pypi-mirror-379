{
 "cells": [
  {
   "cell_type": "code",
   "execution_count": 1,
   "metadata": {},
   "outputs": [],
   "source": [
    "import sys\n",
    "from pathlib import Path\n",
    "\n",
    "# Add project root to Python path\n",
    "project_root = str(Path.cwd().parent)  # Assumes notebook is in integration/ directory\n",
    "if project_root not in sys.path:\n",
    "    sys.path.append(project_root)\n",
    "\n",
    "import json\n",
    "from typing import List\n",
    "from src.auto_chart_patterns.chart_pattern import ChartPattern\n",
    "from src.auto_chart_patterns.trendline_patterns import find_trend_lines\n",
    "from src.auto_chart_patterns.reversal_patterns import find_reversal_patterns\n",
    "from src.auto_chart_patterns.rsi_div_patterns import find_rsi_divergences\n",
    "from src.auto_chart_patterns.flag_pennant_patterns import find_flags_and_pennants\n",
    "from tests.integration.helpers import get_data_for_ticker, PATTERN_CATEGORIES, START_DATE, END_DATE\n",
    "\n",
    "ticker_list = [\"BTCUSDT\", \"SOLUSDT\", \"ETHUSDT\", \"AVAXUSDT\", \"DOGEUSDT\", \"SHIBUSDT\"]\n",
    "def build_test_cases(ticker: str, category: int, find_patterns_func, zigzag, default_properties):\n",
    "    prices = get_data_for_ticker(ticker, start_date=START_DATE,\n",
    "                                 end_date=END_DATE)\n",
    "    patterns: List[ChartPattern] = []\n",
    "    if category == 4:\n",
    "        find_patterns_func(zigzag.backcandles, zigzag.forwardcandles,\n",
    "                          default_properties, patterns, prices)\n",
    "    else:\n",
    "        zigzag.calculate(prices)\n",
    "        for i in range(0, len(zigzag.zigzag_pivots)):\n",
    "            find_patterns_func(zigzag, i, default_properties, patterns)\n",
    "\n",
    "    with open(f'../tests/integration/fixtures/{PATTERN_CATEGORIES[category]}/'\n",
    "              f'{ticker}_{PATTERN_CATEGORIES[category]}_patterns.json', 'w') as f:\n",
    "        # format json\n",
    "        json.dump([pattern.dict() for pattern in patterns], f, indent=4)\n"
   ]
  },
  {
   "cell_type": "markdown",
   "metadata": {},
   "source": [
    "## Flags & pennants"
   ]
  },
  {
   "cell_type": "code",
   "execution_count": 2,
   "metadata": {},
   "outputs": [],
   "source": [
    "from tests.integration.helpers import zigzag_fp, scan_properties_fp\n",
    "\n",
    "for ticker in ticker_list:\n",
    "    build_test_cases(ticker, 1, find_flags_and_pennants,\n",
    "                    zigzag_fp, scan_properties_fp)\n"
   ]
  },
  {
   "cell_type": "markdown",
   "metadata": {},
   "source": [
    "## Trend lines"
   ]
  },
  {
   "cell_type": "code",
   "execution_count": 3,
   "metadata": {},
   "outputs": [
    {
     "name": "stderr",
     "output_type": "stream",
     "text": [
      "Warning: pivots exceeded limit 50, popping pivot 1\n"
     ]
    }
   ],
   "source": [
    "from tests.integration.helpers import zigzag_tl, scan_properties_tl\n",
    "\n",
    "for ticker in ticker_list:\n",
    "    build_test_cases(ticker, 2, find_trend_lines,\n",
    "                    zigzag_tl, scan_properties_tl)\n"
   ]
  },
  {
   "cell_type": "markdown",
   "metadata": {},
   "source": [
    "## Reversal patterns"
   ]
  },
  {
   "cell_type": "code",
   "execution_count": 4,
   "metadata": {},
   "outputs": [],
   "source": [
    "from tests.integration.helpers import zigzag_rp, scan_properties_rp\n",
    "\n",
    "for ticker in ticker_list:\n",
    "    build_test_cases(ticker, 3, find_reversal_patterns,\n",
    "                    zigzag_rp, scan_properties_rp)\n"
   ]
  },
  {
   "cell_type": "markdown",
   "metadata": {},
   "source": [
    "## RSI divergences"
   ]
  },
  {
   "cell_type": "code",
   "execution_count": 2,
   "metadata": {},
   "outputs": [],
   "source": [
    "from tests.integration.helpers import zigzag_rsi, scan_properties_rsi\n",
    "\n",
    "for ticker in ticker_list:\n",
    "    build_test_cases(ticker, 4, find_rsi_divergences,\n",
    "                    zigzag_rsi, scan_properties_rsi)\n"
   ]
  }
 ],
 "metadata": {
  "kernelspec": {
   "display_name": ".venv",
   "language": "python",
   "name": "python3"
  },
  "language_info": {
   "codemirror_mode": {
    "name": "ipython",
    "version": 3
   },
   "file_extension": ".py",
   "mimetype": "text/x-python",
   "name": "python",
   "nbconvert_exporter": "python",
   "pygments_lexer": "ipython3",
   "version": "3.10.15"
  }
 },
 "nbformat": 4,
 "nbformat_minor": 2
}
