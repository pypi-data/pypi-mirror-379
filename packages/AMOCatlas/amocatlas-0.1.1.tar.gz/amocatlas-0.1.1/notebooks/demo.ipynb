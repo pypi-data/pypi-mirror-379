{
 "cells": [
  {
   "cell_type": "markdown",
   "id": "c6a29764-f39c-431c-8e77-fbc6bfe20f01",
   "metadata": {},
   "source": [
    "# AMOCarray demo\n",
    "\n",
    "The purpose of this notebook is to demonstrate the functionality of `AMOCarray`.\n",
    "\n",
    "The demo is organised to show\n",
    "\n",
    "- Step 1: Loading and plotting a sample dataset\n",
    "\n",
    "- Step 2: Exploring the dataset attributes and variables.\n",
    "\n",
    "Note that when you submit a pull request, you should `clear all outputs` from your python notebook for a cleaner merge.\n"
   ]
  },
  {
   "cell_type": "code",
   "execution_count": null,
   "id": "6a1920f3",
   "metadata": {},
   "outputs": [],
   "source": "import pathlib\nimport sys\n\nscript_dir = pathlib.Path().parent.absolute()\nparent_dir = script_dir.parents[0]\nsys.path.append(str(parent_dir))\n\nimport importlib\n\nimport xarray as xr\nimport os\nfrom amocatlas import readers, plotters, standardise, utilities"
  },
  {
   "cell_type": "code",
   "execution_count": null,
   "id": "1e070d18",
   "metadata": {},
   "outputs": [],
   "source": [
    "# Specify the path for writing datafiles\n",
    "data_path = os.path.join(parent_dir, \"data\")"
   ]
  },
  {
   "cell_type": "markdown",
   "id": "9414445e",
   "metadata": {},
   "source": [
    "### Load RAPID 26°N"
   ]
  },
  {
   "cell_type": "code",
   "execution_count": null,
   "id": "fd849c48",
   "metadata": {},
   "outputs": [],
   "source": [
    "# Load data from data/moc_transports (Quick start)\n",
    "ds_rapid = readers.load_sample_dataset()\n",
    "ds_rapid = standardise.standardise_rapid(ds_rapid, ds_rapid.attrs[\"source_file\"])\n",
    "\n",
    "# Load data from data/moc_transports (Full dataset)\n",
    "datasetsRAPID = readers.load_dataset(\"rapid\", transport_only=True)\n",
    "standardRAPID = [\n",
    "    standardise.standardise_rapid(ds, ds.attrs[\"source_file\"]) for ds in datasetsRAPID\n",
    "]\n",
    "\n"
   ]
  },
  {
   "cell_type": "code",
   "execution_count": null,
   "id": "fb527153",
   "metadata": {},
   "outputs": [],
   "source": [
    "# Plot RAPID timeseries\n",
    "\n",
    "plotters.plot_amoc_timeseries(\n",
    "    data=[standardRAPID[0]],\n",
    "    varnames=[\"moc_mar_hc10\"],\n",
    "    labels=[\"\"],\n",
    "    resample_monthly=True,\n",
    "    plot_raw=True,\n",
    "    title=\"RAPID 26°N\"\n",
    ")"
   ]
  },
  {
   "cell_type": "markdown",
   "id": "17f61d98",
   "metadata": {},
   "source": [
    "### Load MOVE 16°N"
   ]
  },
  {
   "cell_type": "code",
   "execution_count": null,
   "id": "60f5279f",
   "metadata": {},
   "outputs": [],
   "source": [
    "datasetsMOVE = readers.load_dataset(\"move\")\n",
    "standardMOVE = [\n",
    "    standardise.standardise_move(ds, ds.attrs[\"source_file\"]) for ds in datasetsMOVE\n",
    "]"
   ]
  },
  {
   "cell_type": "code",
   "execution_count": null,
   "id": "ba068f37",
   "metadata": {},
   "outputs": [],
   "source": [
    "# Plot MOVE timeseries\n",
    "\n",
    "plotters.plot_amoc_timeseries(\n",
    "    data=[standardMOVE[0]],\n",
    "    varnames=[\"TRANSPORT_TOTAL\"],\n",
    "    labels=[\"\"],\n",
    "    colors=[\"darkgreen\"],\n",
    "    resample_monthly=True,\n",
    "    plot_raw=True,\n",
    "    title=\"MOVE 16°N - NADW Transport\"\n",
    ")"
   ]
  },
  {
   "cell_type": "markdown",
   "id": "1b8e3db0",
   "metadata": {},
   "source": [
    "### Load OSNAP"
   ]
  },
  {
   "cell_type": "code",
   "execution_count": null,
   "id": "63837cc1",
   "metadata": {},
   "outputs": [],
   "source": [
    "datasetsOSNAP = readers.load_dataset(\"osnap\", transport_only = True)\n",
    "standardOSNAP = [\n",
    "    standardise.standardise_osnap(ds, ds.attrs[\"source_file\"]) for ds in datasetsOSNAP\n",
    "]\n"
   ]
  },
  {
   "cell_type": "code",
   "execution_count": null,
   "id": "5ac5ceee",
   "metadata": {},
   "outputs": [],
   "source": [
    "# Plot OSNAP timeseries\n",
    "\n",
    "plotters.plot_amoc_timeseries(\n",
    "    data=[standardOSNAP[0]],\n",
    "    varnames=[\"MOC_ALL\"],\n",
    "    labels=[\"\"],\n",
    "    colors=[\"darkblue\"],\n",
    "    resample_monthly=True,\n",
    "    plot_raw=True,\n",
    "    title=\"OSNAP\"\n",
    ")"
   ]
  },
  {
   "cell_type": "markdown",
   "id": "b5d72da3",
   "metadata": {},
   "source": [
    "### Load SAMBA 34.5°S"
   ]
  },
  {
   "cell_type": "code",
   "execution_count": null,
   "id": "76614b06",
   "metadata": {},
   "outputs": [],
   "source": [
    "datasetsSAMBA = readers.load_dataset(\"SAMBA\")\n",
    "standardSAMBA = [\n",
    "    standardise.standardise_samba(ds, ds.attrs[\"source_file\"]) for ds in datasetsSAMBA\n",
    "]"
   ]
  },
  {
   "cell_type": "code",
   "execution_count": null,
   "id": "f4544673",
   "metadata": {},
   "outputs": [],
   "source": [
    "# Plot SAMBA timeseries\n",
    "\n",
    "plotters.plot_amoc_timeseries(\n",
    "    data=[standardSAMBA[0], standardSAMBA[1]],\n",
    "    varnames=[\"UPPER_TRANSPORT\", \"MOC\"],\n",
    "    labels=[\"Kersale et al. 2020\", \"Meinen et al. 2018\"],\n",
    "    colors=[\"grey\", \"blue\"],\n",
    "    title=\"SAMBA 34.5°S\",\n",
    "    time_limits=(\"2000-01-01\", \"2022-12-31\"),\n",
    "    ylim=(-25, 25),\n",
    "    resample_monthly=True,\n",
    "    plot_raw=False # Raw data is a little spiky\n",
    ")"
   ]
  },
  {
   "cell_type": "markdown",
   "id": "5957a0a5",
   "metadata": {},
   "source": [
    "###  Load FW2015"
   ]
  },
  {
   "cell_type": "code",
   "execution_count": null,
   "id": "d527adc4",
   "metadata": {},
   "outputs": [],
   "source": [
    "datasetsfw2015 = readers.load_dataset(\"fw2015\")\n",
    "standardfw2015 = [\n",
    "    standardise.standardise_fw2015(ds, ds.attrs[\"source_file\"]) for ds in datasetsfw2015\n",
    "]\n",
    "plotters.show_variables(standardfw2015[0])"
   ]
  },
  {
   "cell_type": "code",
   "execution_count": null,
   "id": "f27335fe",
   "metadata": {},
   "outputs": [],
   "source": [
    "# Plot timeseries\n",
    "\n",
    "plotters.plot_amoc_timeseries(\n",
    "    data=[standardfw2015[0]],\n",
    "    varnames=[\"MOC_PROXY\"],\n",
    "    labels=[\"\"],\n",
    "    colors=[\"darkblue\"],\n",
    "    resample_monthly=True,\n",
    "    plot_raw=True,\n",
    "    title=\"FW2015\"\n",
    ")"
   ]
  },
  {
   "cell_type": "markdown",
   "id": "7b95e8a6",
   "metadata": {},
   "source": [
    "### LOAD MOCHA 26.5°N"
   ]
  },
  {
   "cell_type": "code",
   "execution_count": null,
   "id": "baa812b5",
   "metadata": {},
   "outputs": [],
   "source": [
    "datasetsMOCHA = readers.load_dataset(\"mocha\")\n",
    "standardMOCHA = [\n",
    "    standardise.standardise_mocha(ds, ds.attrs[\"source_file\"]) for ds in datasetsMOCHA\n",
    "]\n",
    "\n",
    "plotters.show_variables(standardMOCHA[0])"
   ]
  },
  {
   "cell_type": "code",
   "execution_count": null,
   "id": "8fede698",
   "metadata": {},
   "outputs": [],
   "source": [
    "# Plot timeseries\n",
    "\n",
    "fig, ax = plotters.plot_amoc_timeseries(\n",
    "    data=[standardMOCHA[0],standardMOCHA[0],standardMOCHA[0]],\n",
    "    varnames=[\"Q_ot\",\"Q_gyre\",\"Q_sum\"],\n",
    "    labels=[\"Overturning\",\"Gyre\",\"Sum\"],\n",
    "    colors=[\"red\",\"darkblue\",\"black\"],\n",
    "    resample_monthly=True,\n",
    "    plot_raw=False,\n",
    "    title=\"MOCHA\"\n",
    ")\n",
    "ax.legend(loc=\"lower right\")\n"
   ]
  },
  {
   "cell_type": "markdown",
   "id": "5693569b-7862-4ea4-97d4-ba5a41af7f23",
   "metadata": {},
   "source": [
    "### LOAD 41°N"
   ]
  },
  {
   "cell_type": "code",
   "execution_count": null,
   "id": "d73650fd-679f-4caa-96ec-b2a609b6cc0a",
   "metadata": {},
   "outputs": [],
   "source": [
    "datasets41n = readers.load_dataset(\"41n\", transport_only=False)\n",
    "standard41n = [\n",
    "    standardise.standardise_41n(ds, ds.attrs[\"source_file\"]) for ds in datasets41n\n",
    "]"
   ]
  },
  {
   "cell_type": "code",
   "execution_count": null,
   "id": "c43f98ee-3b2a-4c31-a8ea-58ec5cbf9696",
   "metadata": {},
   "outputs": [],
   "source": [
    "plotters.plot_amoc_timeseries(\n",
    "    data=[standard41n[0]],\n",
    "    varnames=[\"MOT\"],\n",
    "    labels=[\"\"],\n",
    "    resample_monthly=True,\n",
    "    plot_raw=False,\n",
    "    colors=[\"darkblue\"],\n",
    "    title=\"41N\"\n",
    ")"
   ]
  },
  {
   "cell_type": "markdown",
   "id": "6ea6b75d-801f-4d06-ace2-408862671840",
   "metadata": {},
   "source": [
    "### LOAD DSO"
   ]
  },
  {
   "cell_type": "code",
   "execution_count": null,
   "id": "f8c28cb2-b129-4593-a026-99049307a433",
   "metadata": {},
   "outputs": [],
   "source": [
    "datasetsDSO = readers.load_dataset(\"DSO\", transport_only=False)\n",
    "standardDSO = [\n",
    "    standardise.standardise_dso(ds, ds.attrs[\"source_file\"]) for ds in datasetsDSO\n",
    "]"
   ]
  },
  {
   "cell_type": "code",
   "execution_count": null,
   "id": "6df3c200-1ef4-45a9-87b7-a2fed73492d0",
   "metadata": {},
   "outputs": [],
   "source": [
    "plotters.plot_amoc_timeseries(\n",
    "    data=[standardDSO[0]],\n",
    "    varnames=[\"DSO\"],\n",
    "    labels=[\"\"],\n",
    "    resample_monthly=True,\n",
    "    plot_raw=True,\n",
    "    colors=[\"yellow\"],\n",
    "    title=\"DSO\"\n",
    ")"
   ]
  },
  {
   "cell_type": "markdown",
   "id": "f1124d71",
   "metadata": {},
   "source": [
    "### Monthly Anomalies Overview"
   ]
  },
  {
   "cell_type": "code",
   "execution_count": null,
   "id": "44a138bc",
   "metadata": {},
   "outputs": [],
   "source": [
    "plotters.plot_monthly_anomalies(\n",
    "    osnap_data=standardOSNAP[0][\"MOC_ALL\"],\n",
    "    rapid_data=standardRAPID[0][\"moc_mar_hc10\"],\n",
    "    move_data=-standardMOVE[0][\"TRANSPORT_TOTAL\"],\n",
    "    samba_data=standardSAMBA[1][\"MOC\"],\n",
    "    fw2015_data=standardfw2015[0][\"MOC_PROXY\"],\n",
    "    fortyone_data = standard41n[0][\"MOT\"],\n",
    "    dso_data = standardDSO[0][\"DSO\"],\n",
    "    osnap_label=\"OSNAP\",\n",
    "    rapid_label=\"RAPID 26°N\",\n",
    "    move_label=\"MOVE 16°N\",\n",
    "    samba_label=\"SAMBA 34.5°S\",\n",
    "    fw2015_label=\"FW2015\",\n",
    "    fortyone_label = \"41°N\",\n",
    "    dso_label = \"DS Overflow Transport\"\n",
    ")"
   ]
  },
  {
   "cell_type": "markdown",
   "id": "121b9513",
   "metadata": {},
   "source": [
    "## Other components\n",
    "\n",
    "It is also possible to manipulate (filter) and plot other components of the AMOC."
   ]
  },
  {
   "cell_type": "code",
   "execution_count": null,
   "id": "ca68f7a3",
   "metadata": {},
   "outputs": [],
   "source": [
    "clim = standardRAPID[0].groupby(\"TIME.month\").mean(\"TIME\")\n",
    "tmp = standardRAPID[0].groupby(\"TIME.month\") - clim\n",
    "filtRAPID = tmp.rolling(TIME = 500, center = True).mean()\n",
    "\n",
    "fig,ax = plotters.plot_amoc_timeseries(\n",
    "    data=[filtRAPID],\n",
    "    varnames=[\"t_ld10\"],\n",
    "    labels=[\"\"],\n",
    "    resample_monthly=True,\n",
    "    plot_raw=True,\n",
    "    title=\"RAPID 26°N - t_ld10\"\n",
    ")\n",
    "ax.set_ylim(2, -2)\n",
    "\n",
    "fig.show()\n"
   ]
  }
 ],
 "metadata": {
  "kernelspec": {
   "display_name": "venv",
   "language": "python",
   "name": "python3"
  },
  "language_info": {
   "codemirror_mode": {
    "name": "ipython",
    "version": 3
   },
   "file_extension": ".py",
   "mimetype": "text/x-python",
   "name": "python",
   "nbconvert_exporter": "python",
   "pygments_lexer": "ipython3",
   "version": "3.11.7"
  }
 },
 "nbformat": 4,
 "nbformat_minor": 5
}