{
 "cells": [
  {
   "cell_type": "markdown",
   "id": "0",
   "metadata": {
    "tags": [],
    "user_expressions": []
   },
   "source": [
    "# Binning with multi-dimensional bins\n",
    "\n",
    "```{warning}\n",
    "This post is a proof-of-concept for discussion. Expect APIs to change to enable this use case.\n",
    "```\n",
    "\n",
    "Here we explore a binning problem where the bins are multidimensional\n",
    "([xhistogram issue](https://github.com/xgcm/xhistogram/issues/28))\n",
    "\n",
    "> One of such multi-dim bin applications is the ranked probability score rps we\n",
    "> use in `xskillscore.rps`, where we want to know how many forecasts fell into\n",
    "> which bins. Bins are often defined as terciles of the forecast distribution\n",
    "> and the bins for these terciles\n",
    "> (`forecast_with_lon_lat_time_dims.quantile(q=[.33,.66],dim='time')`) depend on\n",
    "> `lon` and `lat`.\n"
   ]
  },
  {
   "cell_type": "code",
   "execution_count": null,
   "id": "1",
   "metadata": {
    "tags": []
   },
   "outputs": [],
   "source": [
    "import math\n",
    "\n",
    "import numpy as np\n",
    "import pandas as pd\n",
    "import xarray as xr\n",
    "\n",
    "import flox\n",
    "import flox.xarray"
   ]
  },
  {
   "cell_type": "markdown",
   "id": "2",
   "metadata": {
    "user_expressions": []
   },
   "source": [
    "## Create test data\n"
   ]
  },
  {
   "cell_type": "markdown",
   "id": "3",
   "metadata": {
    "user_expressions": []
   },
   "source": [
    "Data to be reduced\n"
   ]
  },
  {
   "cell_type": "code",
   "execution_count": null,
   "id": "4",
   "metadata": {
    "tags": []
   },
   "outputs": [],
   "source": [
    "array = xr.DataArray(\n",
    "    np.array([[1, 2, 3], [4, 5, 6], [7, 8, 9], [10, 11, 12]]),\n",
    "    dims=(\"space\", \"time\"),\n",
    "    name=\"array\",\n",
    ")\n",
    "array"
   ]
  },
  {
   "cell_type": "markdown",
   "id": "5",
   "metadata": {
    "user_expressions": []
   },
   "source": [
    "Array to group by\n"
   ]
  },
  {
   "cell_type": "code",
   "execution_count": null,
   "id": "6",
   "metadata": {
    "tags": []
   },
   "outputs": [],
   "source": [
    "by = xr.DataArray(\n",
    "    np.array([[1, 2, 3], [3, 4, 5], [5, 6, 7], [6, 7, 9]]),\n",
    "    dims=(\"space\", \"time\"),\n",
    "    name=\"by\",\n",
    ")\n",
    "by"
   ]
  },
  {
   "cell_type": "markdown",
   "id": "7",
   "metadata": {
    "tags": [],
    "user_expressions": []
   },
   "source": [
    "Multidimensional bins:\n"
   ]
  },
  {
   "cell_type": "code",
   "execution_count": null,
   "id": "8",
   "metadata": {
    "tags": []
   },
   "outputs": [],
   "source": [
    "bins = by + 0.5\n",
    "bins = xr.DataArray(\n",
    "    np.concatenate([bins, bins[:, [-1]] + 1], axis=-1)[:, :-1].T,\n",
    "    dims=(\"time\", \"nbins\"),\n",
    "    name=\"bins\",\n",
    ")\n",
    "bins"
   ]
  },
  {
   "cell_type": "markdown",
   "id": "9",
   "metadata": {
    "user_expressions": []
   },
   "source": [
    "## Concept\n",
    "\n",
    "The key idea is that GroupBy is two steps:\n",
    "\n",
    "1. Factorize (a.k.a \"digitize\") : convert the `by` data to a set of integer\n",
    "   codes representing the bins.\n",
    "2. Apply the reduction.\n",
    "\n",
    "We treat multi-dimensional binning as a slightly complicated factorization\n",
    "problem. Assume that bins are a function of `time`. So we\n",
    "\n",
    "1. generate a set of appropriate integer codes by:\n",
    "   1. Loop over \"time\" and factorize the data appropriately.\n",
    "   2. Add an offset to these codes so that \"bin 0\" for `time=0` is different\n",
    "      from \"bin 0\" for `time=1`\n",
    "2. apply the groupby reduction to the \"offset codes\"\n",
    "3. reshape the output to the right shape\n",
    "\n",
    "We will work at the xarray level, so its easy to keep track of the different\n",
    "dimensions.\n",
    "\n",
    "### Factorizing\n",
    "\n",
    "The core `factorize_` function (which wraps `pd.cut`) only handles 1D bins, so\n",
    "we use `xr.apply_ufunc` to vectorize it for us.\n"
   ]
  },
  {
   "cell_type": "code",
   "execution_count": null,
   "id": "10",
   "metadata": {
    "tags": []
   },
   "outputs": [],
   "source": [
    "factorize_loop_dim = \"time\""
   ]
  },
  {
   "cell_type": "code",
   "execution_count": null,
   "id": "11",
   "metadata": {
    "tags": []
   },
   "outputs": [],
   "source": [
    "def factorize_nd_bins_core(by, bins):\n",
    "    group_idx, *_, props = flox.core.factorize_(\n",
    "        (by,),\n",
    "        axes=(-1,),\n",
    "        expected_groups=(pd.IntervalIndex.from_breaks(bins),),\n",
    "    )\n",
    "    # Use -1 as the NaN sentinel value\n",
    "    group_idx[props.nanmask] = -1\n",
    "    return group_idx\n",
    "\n",
    "\n",
    "codes = xr.apply_ufunc(\n",
    "    factorize_nd_bins_core,\n",
    "    by,\n",
    "    bins,\n",
    "    # TODO: avoid hardcoded dim names\n",
    "    input_core_dims=[[\"space\"], [\"nbins\"]],\n",
    "    output_core_dims=[[\"space\"]],\n",
    "    vectorize=True,\n",
    ")\n",
    "codes"
   ]
  },
  {
   "cell_type": "markdown",
   "id": "12",
   "metadata": {
    "user_expressions": []
   },
   "source": [
    "### Offset the codes\n",
    "\n",
    "These are integer codes appropriate for a single timestep.\n",
    "\n",
    "We now add an offset that changes in time, to make sure \"bin 0\" for `time=0` is\n",
    "different from \"bin 0\" for `time=1` (taken from\n",
    "[this StackOverflow thread](https://stackoverflow.com/questions/46256279/bin-elements-per-row-vectorized-2d-bincount-for-numpy)).\n"
   ]
  },
  {
   "cell_type": "code",
   "execution_count": null,
   "id": "13",
   "metadata": {
    "tags": []
   },
   "outputs": [],
   "source": [
    "N = math.prod([codes.sizes[d] for d in codes.dims if d != factorize_loop_dim])\n",
    "offset = xr.DataArray(np.arange(codes.sizes[factorize_loop_dim]), dims=factorize_loop_dim)\n",
    "# TODO: think about N-1 here\n",
    "offset_codes = (codes + offset * (N - 1)).rename(by.name)\n",
    "offset_codes.data[codes == -1] = -1\n",
    "offset_codes"
   ]
  },
  {
   "cell_type": "markdown",
   "id": "14",
   "metadata": {
    "user_expressions": []
   },
   "source": [
    "### Reduce\n",
    "\n",
    "Now that we have appropriate codes, let's apply the reduction\n"
   ]
  },
  {
   "cell_type": "code",
   "execution_count": null,
   "id": "15",
   "metadata": {
    "tags": []
   },
   "outputs": [],
   "source": [
    "interim = flox.xarray.xarray_reduce(\n",
    "    array,\n",
    "    offset_codes,\n",
    "    func=\"sum\",\n",
    "    # We use RangeIndex to indicate that `-1` code can be safely ignored\n",
    "    # (it indicates values outside the bins)\n",
    "    # TODO: Avoid hardcoding 9 = sizes[\"time\"] x (sizes[\"nbins\"] - 1)\n",
    "    expected_groups=pd.RangeIndex(9),\n",
    ")\n",
    "interim"
   ]
  },
  {
   "cell_type": "markdown",
   "id": "16",
   "metadata": {
    "user_expressions": []
   },
   "source": [
    "## Make final result\n",
    "\n",
    "Now reshape that 1D result appropriately.\n"
   ]
  },
  {
   "cell_type": "code",
   "execution_count": null,
   "id": "17",
   "metadata": {
    "tags": []
   },
   "outputs": [],
   "source": [
    "final = (\n",
    "    interim.coarsen(by=3)\n",
    "    # bin_number dimension is last, this makes sense since it is the core dimension\n",
    "    # and we vectorize over the loop dims.\n",
    "    # So the first (Nbins-1) elements are for the first index of the loop dim\n",
    "    .construct({\"by\": (factorize_loop_dim, \"bin_number\")})\n",
    "    .transpose(..., factorize_loop_dim)\n",
    "    .drop_vars(\"by\")\n",
    ")\n",
    "final"
   ]
  },
  {
   "cell_type": "markdown",
   "id": "18",
   "metadata": {
    "user_expressions": []
   },
   "source": [
    "I think this is the expected answer.\n"
   ]
  },
  {
   "cell_type": "code",
   "execution_count": null,
   "id": "19",
   "metadata": {
    "tags": []
   },
   "outputs": [],
   "source": [
    "array.isel(space=slice(1, None)).rename({\"space\": \"bin_number\"}).identical(final)"
   ]
  },
  {
   "cell_type": "markdown",
   "id": "20",
   "metadata": {
    "tags": [],
    "user_expressions": []
   },
   "source": [
    "## TODO\n",
    "\n",
    "This could be extended to:\n",
    "\n",
    "1. handle multiple `factorize_loop_dim`\n",
    "2. avoid hard coded dimension names in the `apply_ufunc` call for factorizing\n",
    "3. avoid hard coded number of output elements in the `xarray_reduce` call.\n",
    "4. Somehow propagate the bin edges to the final output.\n"
   ]
  }
 ],
 "metadata": {
  "language_info": {
   "codemirror_mode": {
    "name": "ipython",
    "version": 3
   },
   "file_extension": ".py",
   "mimetype": "text/x-python",
   "name": "python",
   "nbconvert_exporter": "python",
   "pygments_lexer": "ipython3"
  }
 },
 "nbformat": 4,
 "nbformat_minor": 5
}
