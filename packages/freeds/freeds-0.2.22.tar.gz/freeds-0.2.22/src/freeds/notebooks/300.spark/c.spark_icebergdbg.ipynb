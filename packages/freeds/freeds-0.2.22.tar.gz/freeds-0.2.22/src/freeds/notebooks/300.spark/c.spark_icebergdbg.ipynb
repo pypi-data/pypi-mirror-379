{
 "cells": [
  {
   "cell_type": "code",
   "execution_count": null,
   "id": "96b0cb63",
   "metadata": {},
   "outputs": [
    {
     "name": "stdout",
     "output_type": "stream",
     "text": [
      "3.5.6\n",
      "Available catalogs:\n",
      "CatalogMetadata(name='freeds_cat', description=None)\n",
      "CatalogMetadata(name='spark_catalog', description=None)\n"
     ]
    },
    {
     "data": {
      "text/plain": [
       "DataFrame[]"
      ]
     },
     "execution_count": 3,
     "metadata": {},
     "output_type": "execute_result"
    }
   ],
   "source": [
    "from pyspark.sql import SparkSession\n",
    "import pyspark\n",
    "import glob\n",
    "print (pyspark.__version__)\n",
    "\n",
    "\n",
    "# --- Secrets/configs ---\n",
    "s3_cfg = {\n",
    "    \"endpoint\": \"http://s3-minio:9900\",\n",
    "    \"access_key\": \"kbmB5u0xCQs97d0vJxjx\",\n",
    "    \"secret_key\": \"Tjq8PW7h0GU7rhiMrNMRrvCfpOhfIgvV8dwEhyIJ\",\n",
    "    \"warehouse\": \"s3a://dwh/warehouse/\"\n",
    "}\n",
    "\n",
    "jdbc_cfg = {\n",
    "    \"uri\": \"jdbc:postgresql://postgres:5432/iceberg\",\n",
    "    \"user\": \"jdbc_cat\",\n",
    "    \"password\": \"muppgpt\"\n",
    "}\n",
    "jars = \",\".join(glob.glob(\"/opt/freeds/spark/jars/*.jar\"))\n",
    "\n",
    "# --- Spark session setup ---\n",
    "spark = (\n",
    "    SparkSession.builder\n",
    "    .appName(\"IcebergJDBCTest\")\n",
    "    # .master(\"spark://spark-master:7077\")\n",
    "\n",
    "    # Extra jars (Iceberg + Hadoop + Postgres)\n",
    "    .config(\"spark.driver.extraClassPath\", \"/opt/freeds/spark/jars/*\")\n",
    "    .config(\"spark.executor.extraClassPath\", \"/opt/freeds/spark/jars/*\")\n",
    "    .config(\"spark.jars\", jars)\n",
    "    # Iceberg extensions\n",
    "    .config(\"spark.sql.extensions\", \"org.apache.iceberg.spark.extensions.IcebergSparkSessionExtensions\")\n",
    "\n",
    "    # JDBC catalog\n",
    "    .config(\"spark.sql.catalog.freeds_cat\", \"org.apache.iceberg.spark.SparkCatalog\")\n",
    "    .config(\"spark.sql.catalog.freeds_cat.type\", \"jdbc\")\n",
    "    .config(\"spark.sql.catalog.freeds_cat.uri\", jdbc_cfg[\"uri\"])\n",
    "    .config(\"spark.sql.catalog.freeds_cat.warehouse\", s3_cfg[\"warehouse\"])\n",
    "    .config(\"spark.sql.catalog.freeds_cat.jdbc.user\", jdbc_cfg[\"user\"])\n",
    "    .config(\"spark.sql.catalog.freeds_cat.jdbc.password\", jdbc_cfg[\"password\"])\n",
    "\n",
    "    # S3 (MinIO) access\n",
    "    .config(\"spark.hadoop.fs.s3a.endpoint\", s3_cfg[\"endpoint\"])\n",
    "    .config(\"spark.hadoop.fs.s3a.access.key\", s3_cfg[\"access_key\"])\n",
    "    .config(\"spark.hadoop.fs.s3a.secret.key\", s3_cfg[\"secret_key\"])\n",
    "    .config(\"spark.hadoop.fs.s3a.path.style.access\", \"true\")\n",
    "    .getOrCreate()\n",
    ")\n",
    "# Print all Spark configuration settings\n",
    "# for item in spark.sparkContext.getConf().getAll():\n",
    "#     print(item)\n",
    "\n",
    "spark.sql(\"CREATE SCHEMA IF NOT EXISTS freeds_cat.jaffle_kafe\")\n",
    "\n",
    "# --- Test Spark session ---\n",
    "print(\"Available catalogs:\")\n",
    "for cat in spark.catalog.listCatalogs():\n",
    "     print(cat)\n",
    "\n",
    "# Example: create a table using Iceberg\n",
    "spark.sql(\"\"\"\n",
    "CREATE TABLE IF NOT EXISTS freeds_cat.iceberg_db.test_table (\n",
    "    id INT,\n",
    "    name STRING\n",
    ") USING ICEBERG\n",
    "\"\"\")\n"
   ]
  }
 ],
 "metadata": {
  "kernelspec": {
   "display_name": "FREEDS",
   "language": "python",
   "name": "freeds"
  },
  "language_info": {
   "codemirror_mode": {
    "name": "ipython",
    "version": 3
   },
   "file_extension": ".py",
   "mimetype": "text/x-python",
   "name": "python",
   "nbconvert_exporter": "python",
   "pygments_lexer": "ipython3",
   "version": "3.11.13"
  }
 },
 "nbformat": 4,
 "nbformat_minor": 5
}
