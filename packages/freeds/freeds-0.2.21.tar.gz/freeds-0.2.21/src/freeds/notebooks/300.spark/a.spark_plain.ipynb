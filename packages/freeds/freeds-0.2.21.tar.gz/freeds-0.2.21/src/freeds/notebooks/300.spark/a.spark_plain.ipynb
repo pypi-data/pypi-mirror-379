{
 "cells": [
  {
   "cell_type": "markdown",
   "id": "0",
   "metadata": {},
   "source": [
    "Self check template. (this cell can and should be removed in selfcheck ntoebooks )\n"
   ]
  },
  {
   "cell_type": "code",
   "execution_count": 1,
   "id": "1",
   "metadata": {},
   "outputs": [],
   "source": [
    "# edit the strings to describe the check\n",
    "result = {\n",
    "    \"area\": \"spark\",\n",
    "    \"description\": \"Check that spark can run and print on the cluster.\",\n",
    "    \"passed\": False,\n",
    "    \"message\": \"\",\n",
    "    \"plugin\": \"spark\",\n",
    "}"
   ]
  },
  {
   "cell_type": "code",
   "execution_count": 3,
   "id": "2",
   "metadata": {},
   "outputs": [
    {
     "name": "stdout",
     "output_type": "stream",
     "text": [
      ":: loading settings :: url = jar:file:/opt/spark/jars/ivy-2.5.1.jar!/org/apache/ivy/core/settings/ivysettings.xml\n"
     ]
    },
    {
     "name": "stderr",
     "output_type": "stream",
     "text": [
      "Ivy Default Cache set to: /home/spark/.ivy2/cache\n",
      "The jars for the packages stored in: /home/spark/.ivy2/jars\n",
      "io.delta#delta-spark_2.12 added as a dependency\n",
      ":: resolving dependencies :: org.apache.spark#spark-submit-parent-35de6bea-37ef-4e5c-b863-0ee1c948e5e1;1.0\n",
      "\tconfs: [default]\n",
      "\tfound io.delta#delta-spark_2.12;3.3.0 in central\n",
      "\tfound io.delta#delta-storage;3.3.0 in central\n",
      "\tfound org.antlr#antlr4-runtime;4.9.3 in central\n",
      "downloading https://repo1.maven.org/maven2/io/delta/delta-spark_2.12/3.3.0/delta-spark_2.12-3.3.0.jar ...\n",
      "\t[SUCCESSFUL ] io.delta#delta-spark_2.12;3.3.0!delta-spark_2.12.jar (359ms)\n",
      "downloading https://repo1.maven.org/maven2/io/delta/delta-storage/3.3.0/delta-storage-3.3.0.jar ...\n",
      "\t[SUCCESSFUL ] io.delta#delta-storage;3.3.0!delta-storage.jar (16ms)\n",
      "downloading https://repo1.maven.org/maven2/org/antlr/antlr4-runtime/4.9.3/antlr4-runtime-4.9.3.jar ...\n",
      "\t[SUCCESSFUL ] org.antlr#antlr4-runtime;4.9.3!antlr4-runtime.jar (25ms)\n",
      ":: resolution report :: resolve 1327ms :: artifacts dl 403ms\n",
      "\t:: modules in use:\n",
      "\tio.delta#delta-spark_2.12;3.3.0 from central in [default]\n",
      "\tio.delta#delta-storage;3.3.0 from central in [default]\n",
      "\torg.antlr#antlr4-runtime;4.9.3 from central in [default]\n",
      "\t---------------------------------------------------------------------\n",
      "\t|                  |            modules            ||   artifacts   |\n",
      "\t|       conf       | number| search|dwnlded|evicted|| number|dwnlded|\n",
      "\t---------------------------------------------------------------------\n",
      "\t|      default     |   3   |   3   |   3   |   0   ||   3   |   3   |\n",
      "\t---------------------------------------------------------------------\n",
      ":: retrieving :: org.apache.spark#spark-submit-parent-35de6bea-37ef-4e5c-b863-0ee1c948e5e1\n",
      "\tconfs: [default]\n",
      "\t3 artifacts copied, 0 already retrieved (7313kB/7ms)\n",
      "25/08/31 15:55:39 WARN NativeCodeLoader: Unable to load native-hadoop library for your platform... using builtin-java classes where applicable\n",
      "Setting default log level to \"WARN\".\n",
      "To adjust logging level use sc.setLogLevel(newLevel). For SparkR, use setLogLevel(newLevel).\n"
     ]
    },
    {
     "name": "stdout",
     "output_type": "stream",
     "text": [
      "+---+\n",
      "| id|\n",
      "+---+\n",
      "|  0|\n",
      "|  2|\n",
      "|  4|\n",
      "|  6|\n",
      "|  8|\n",
      "+---+\n",
      "only showing top 5 rows\n",
      "\n"
     ]
    }
   ],
   "source": [
    "from pyspark.sql.functions import col\n",
    "\n",
    "from freeds.spark import get_spark_session\n",
    "\n",
    "try:\n",
    "    spark = get_spark_session(\"self-check\")\n",
    "    data = spark.range(100)\n",
    "    # Filter even numbers\n",
    "    even_numbers = data.filter(col(\"id\") % 2 == 0)\n",
    "    even_numbers.show(5)\n",
    "    spark.stop()\n",
    "    result[\"message\"] = \"Executed spark cell ok.\"\n",
    "    result[\"passed\"] = True\n",
    "except Exception as ex:\n",
    "    result[\"message\"] = str(ex)\n",
    "    result[\"passed\"] = False"
   ]
  },
  {
   "cell_type": "code",
   "execution_count": 3,
   "id": "3",
   "metadata": {},
   "outputs": [
    {
     "name": "stdout",
     "output_type": "stream",
     "text": [
      "{\n",
      "    \"area\": \"spark\",\n",
      "    \"description\": \"Check that spark can run and print on the cluster.\",\n",
      "    \"passed\": false,\n",
      "    \"message\": \"Config 's3' not found in config nor secrets. Looked in /opt/tfds/config/s3.yaml.\",\n",
      "    \"plugin\": \"spark\"\n",
      "}\n"
     ]
    }
   ],
   "source": [
    "import json\n",
    "\n",
    "print(json.dumps(result, indent=4))"
   ]
  }
 ],
 "metadata": {
  "kernelspec": {
   "display_name": "FREEDS",
   "language": "python",
   "name": "freeds"
  }
 },
 "nbformat": 4,
 "nbformat_minor": 5
}
