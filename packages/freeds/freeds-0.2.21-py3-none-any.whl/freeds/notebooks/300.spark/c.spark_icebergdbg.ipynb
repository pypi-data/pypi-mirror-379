{
 "cells": [
  {
   "cell_type": "code",
   "execution_count": null,
   "id": "96b0cb63",
   "metadata": {},
   "outputs": [
    {
     "name": "stdout",
     "output_type": "stream",
     "text": [
      "3.5.6\n"
     ]
    },
    {
     "name": "stderr",
     "output_type": "stream",
     "text": [
      "25/09/24 18:14:17 WARN NativeCodeLoader: Unable to load native-hadoop library for your platform... using builtin-java classes where applicable\n",
      "Setting default log level to \"WARN\".\n",
      "To adjust logging level use sc.setLogLevel(newLevel). For SparkR, use setLogLevel(newLevel).\n",
      "25/09/24 18:14:20 WARN MetricsConfig: Cannot locate configuration: tried hadoop-metrics2-s3a-file-system.properties,hadoop-metrics2.properties\n",
      "log4j:WARN No appenders could be found for logger (com.amazonaws.AmazonWebServiceClient).\n",
      "log4j:WARN Please initialize the log4j system properly.\n",
      "log4j:WARN See http://logging.apache.org/log4j/1.2/faq.html#noconfig for more info.\n"
     ]
    },
    {
     "ename": "IllegalArgumentException",
     "evalue": "Cannot create catalog freeds_cat, both type and catalog-impl are set: type=jdbc, catalog-impl=org.apache.iceberg.jdbc.JdbcCatalog",
     "output_type": "error",
     "traceback": [
      "\u001b[31m---------------------------------------------------------------------------\u001b[39m",
      "\u001b[31mIllegalArgumentException\u001b[39m                  Traceback (most recent call last)",
      "\u001b[36mCell\u001b[39m\u001b[36m \u001b[39m\u001b[32mIn[1]\u001b[39m\u001b[32m, line 56\u001b[39m\n\u001b[32m     23\u001b[39m spark = (\n\u001b[32m     24\u001b[39m     SparkSession.builder\n\u001b[32m     25\u001b[39m     .appName(\u001b[33m\"\u001b[39m\u001b[33mIcebergJDBCTest\u001b[39m\u001b[33m\"\u001b[39m)\n\u001b[32m   (...)\u001b[39m\u001b[32m     50\u001b[39m     .getOrCreate()\n\u001b[32m     51\u001b[39m )\n\u001b[32m     52\u001b[39m \u001b[38;5;66;03m# Print all Spark configuration settings\u001b[39;00m\n\u001b[32m     53\u001b[39m \u001b[38;5;66;03m# for item in spark.sparkContext.getConf().getAll():\u001b[39;00m\n\u001b[32m     54\u001b[39m \u001b[38;5;66;03m#     print(item)\u001b[39;00m\n\u001b[32m---> \u001b[39m\u001b[32m56\u001b[39m \u001b[43mspark\u001b[49m\u001b[43m.\u001b[49m\u001b[43msql\u001b[49m\u001b[43m(\u001b[49m\u001b[33;43m\"\u001b[39;49m\u001b[33;43mCREATE SCHEMA IF NOT EXISTS freeds_cat.jaffle_kafe\u001b[39;49m\u001b[33;43m\"\u001b[39;49m\u001b[43m)\u001b[49m\n\u001b[32m     58\u001b[39m \u001b[38;5;66;03m# --- Test Spark session ---\u001b[39;00m\n\u001b[32m     59\u001b[39m \u001b[38;5;28mprint\u001b[39m(\u001b[33m\"\u001b[39m\u001b[33mAvailable catalogs:\u001b[39m\u001b[33m\"\u001b[39m)\n",
      "\u001b[36mFile \u001b[39m\u001b[32m/usr/local/lib/python3.11/dist-packages/pyspark/sql/session.py:1631\u001b[39m, in \u001b[36mSparkSession.sql\u001b[39m\u001b[34m(self, sqlQuery, args, **kwargs)\u001b[39m\n\u001b[32m   1627\u001b[39m         \u001b[38;5;28;01massert\u001b[39;00m \u001b[38;5;28mself\u001b[39m._jvm \u001b[38;5;129;01mis\u001b[39;00m \u001b[38;5;129;01mnot\u001b[39;00m \u001b[38;5;28;01mNone\u001b[39;00m\n\u001b[32m   1628\u001b[39m         litArgs = \u001b[38;5;28mself\u001b[39m._jvm.PythonUtils.toArray(\n\u001b[32m   1629\u001b[39m             [_to_java_column(lit(v)) \u001b[38;5;28;01mfor\u001b[39;00m v \u001b[38;5;129;01min\u001b[39;00m (args \u001b[38;5;129;01mor\u001b[39;00m [])]\n\u001b[32m   1630\u001b[39m         )\n\u001b[32m-> \u001b[39m\u001b[32m1631\u001b[39m     \u001b[38;5;28;01mreturn\u001b[39;00m DataFrame(\u001b[38;5;28;43mself\u001b[39;49m\u001b[43m.\u001b[49m\u001b[43m_jsparkSession\u001b[49m\u001b[43m.\u001b[49m\u001b[43msql\u001b[49m\u001b[43m(\u001b[49m\u001b[43msqlQuery\u001b[49m\u001b[43m,\u001b[49m\u001b[43m \u001b[49m\u001b[43mlitArgs\u001b[49m\u001b[43m)\u001b[49m, \u001b[38;5;28mself\u001b[39m)\n\u001b[32m   1632\u001b[39m \u001b[38;5;28;01mfinally\u001b[39;00m:\n\u001b[32m   1633\u001b[39m     \u001b[38;5;28;01mif\u001b[39;00m \u001b[38;5;28mlen\u001b[39m(kwargs) > \u001b[32m0\u001b[39m:\n",
      "\u001b[36mFile \u001b[39m\u001b[32m/usr/local/lib/python3.11/dist-packages/py4j/java_gateway.py:1322\u001b[39m, in \u001b[36mJavaMember.__call__\u001b[39m\u001b[34m(self, *args)\u001b[39m\n\u001b[32m   1316\u001b[39m command = proto.CALL_COMMAND_NAME +\\\n\u001b[32m   1317\u001b[39m     \u001b[38;5;28mself\u001b[39m.command_header +\\\n\u001b[32m   1318\u001b[39m     args_command +\\\n\u001b[32m   1319\u001b[39m     proto.END_COMMAND_PART\n\u001b[32m   1321\u001b[39m answer = \u001b[38;5;28mself\u001b[39m.gateway_client.send_command(command)\n\u001b[32m-> \u001b[39m\u001b[32m1322\u001b[39m return_value = \u001b[43mget_return_value\u001b[49m\u001b[43m(\u001b[49m\n\u001b[32m   1323\u001b[39m \u001b[43m    \u001b[49m\u001b[43manswer\u001b[49m\u001b[43m,\u001b[49m\u001b[43m \u001b[49m\u001b[38;5;28;43mself\u001b[39;49m\u001b[43m.\u001b[49m\u001b[43mgateway_client\u001b[49m\u001b[43m,\u001b[49m\u001b[43m \u001b[49m\u001b[38;5;28;43mself\u001b[39;49m\u001b[43m.\u001b[49m\u001b[43mtarget_id\u001b[49m\u001b[43m,\u001b[49m\u001b[43m \u001b[49m\u001b[38;5;28;43mself\u001b[39;49m\u001b[43m.\u001b[49m\u001b[43mname\u001b[49m\u001b[43m)\u001b[49m\n\u001b[32m   1325\u001b[39m \u001b[38;5;28;01mfor\u001b[39;00m temp_arg \u001b[38;5;129;01min\u001b[39;00m temp_args:\n\u001b[32m   1326\u001b[39m     \u001b[38;5;28;01mif\u001b[39;00m \u001b[38;5;28mhasattr\u001b[39m(temp_arg, \u001b[33m\"\u001b[39m\u001b[33m_detach\u001b[39m\u001b[33m\"\u001b[39m):\n",
      "\u001b[36mFile \u001b[39m\u001b[32m/usr/local/lib/python3.11/dist-packages/pyspark/errors/exceptions/captured.py:185\u001b[39m, in \u001b[36mcapture_sql_exception.<locals>.deco\u001b[39m\u001b[34m(*a, **kw)\u001b[39m\n\u001b[32m    181\u001b[39m converted = convert_exception(e.java_exception)\n\u001b[32m    182\u001b[39m \u001b[38;5;28;01mif\u001b[39;00m \u001b[38;5;129;01mnot\u001b[39;00m \u001b[38;5;28misinstance\u001b[39m(converted, UnknownException):\n\u001b[32m    183\u001b[39m     \u001b[38;5;66;03m# Hide where the exception came from that shows a non-Pythonic\u001b[39;00m\n\u001b[32m    184\u001b[39m     \u001b[38;5;66;03m# JVM exception message.\u001b[39;00m\n\u001b[32m--> \u001b[39m\u001b[32m185\u001b[39m     \u001b[38;5;28;01mraise\u001b[39;00m converted \u001b[38;5;28;01mfrom\u001b[39;00m\u001b[38;5;250m \u001b[39m\u001b[38;5;28;01mNone\u001b[39;00m\n\u001b[32m    186\u001b[39m \u001b[38;5;28;01melse\u001b[39;00m:\n\u001b[32m    187\u001b[39m     \u001b[38;5;28;01mraise\u001b[39;00m\n",
      "\u001b[31mIllegalArgumentException\u001b[39m: Cannot create catalog freeds_cat, both type and catalog-impl are set: type=jdbc, catalog-impl=org.apache.iceberg.jdbc.JdbcCatalog"
     ]
    }
   ],
   "source": [
    "from pyspark.sql import SparkSession\n",
    "import pyspark\n",
    "import glob\n",
    "print (pyspark.__version__)\n",
    "\n",
    "\n",
    "# --- Secrets/configs ---\n",
    "s3_cfg = {\n",
    "    \"endpoint\": \"http://s3-minio:9900\",\n",
    "    \"access_key\": \"kbmB5u0xCQs97d0vJxjx\",\n",
    "    \"secret_key\": \"Tjq8PW7h0GU7rhiMrNMRrvCfpOhfIgvV8dwEhyIJ\",\n",
    "    \"warehouse\": \"s3a://dwh/warehouse/\"\n",
    "}\n",
    "\n",
    "jdbc_cfg = {\n",
    "    \"uri\": \"jdbc:postgresql://postgres:5432/iceberg\",\n",
    "    \"user\": \"jdbc_cat\",\n",
    "    \"password\": \"muppgpt\"\n",
    "}\n",
    "jars = \",\".join(glob.glob(\"/opt/freeds/spark/jars/*.jar\"))\n",
    "\n",
    "# --- Spark session setup ---\n",
    "spark = (\n",
    "    SparkSession.builder\n",
    "    .appName(\"IcebergJDBCTest\")\n",
    "    # .master(\"spark://spark-master:7077\")\n",
    "\n",
    "    # Extra jars (Iceberg + Hadoop + Postgres)\n",
    "    .config(\"spark.driver.extraClassPath\", \"/opt/freeds/spark/jars/*\")\n",
    "    .config(\"spark.executor.extraClassPath\", \"/opt/freeds/spark/jars/*\")\n",
    "    .config(\"spark.jars\", jars)\n",
    "    # Iceberg extensions\n",
    "    .config(\"spark.sql.extensions\", \"org.apache.iceberg.spark.extensions.IcebergSparkSessionExtensions\")\n",
    "\n",
    "    # JDBC catalog\n",
    "    .config(\"spark.sql.catalog.freeds_cat\", \"org.apache.iceberg.spark.SparkCatalog\")\n",
    "    .config(\"spark.sql.catalog.freeds_cat.type\", \"jdbc\")\n",
    "    .config(\"spark.sql.catalog.freeds_cat.uri\", jdbc_cfg[\"uri\"])\n",
    "    .config(\"spark.sql.catalog.freeds_cat.warehouse\", s3_cfg[\"warehouse\"])\n",
    "    .config(\"spark.sql.catalog.freeds_cat.jdbc.user\", jdbc_cfg[\"user\"])\n",
    "    .config(\"spark.sql.catalog.freeds_cat.jdbc.password\", jdbc_cfg[\"password\"])\n",
    "\n",
    "    # S3 (MinIO) access\n",
    "    .config(\"spark.hadoop.fs.s3a.endpoint\", s3_cfg[\"endpoint\"])\n",
    "    .config(\"spark.hadoop.fs.s3a.access.key\", s3_cfg[\"access_key\"])\n",
    "    .config(\"spark.hadoop.fs.s3a.secret.key\", s3_cfg[\"secret_key\"])\n",
    "    .config(\"spark.hadoop.fs.s3a.path.style.access\", \"true\")\n",
    "    .master(\"local[*]\")\n",
    "    .getOrCreate()\n",
    ")\n",
    "# Print all Spark configuration settings\n",
    "# for item in spark.sparkContext.getConf().getAll():\n",
    "#     print(item)\n",
    "\n",
    "spark.sql(\"CREATE SCHEMA IF NOT EXISTS freeds_cat.jaffle_kafe\")\n",
    "\n",
    "# --- Test Spark session ---\n",
    "print(\"Available catalogs:\")\n",
    "for cat in spark.catalog.listCatalogs():\n",
    "     print(cat)\n",
    "\n",
    "# Example: create a database in the JDBC catalog\n",
    "# spark.sql(\"CREATE SCHEMA IF NOT EXISTS freeds_cat.iceberg_db\")\n",
    "\n",
    "# Example: create a table using Iceberg\n",
    "# spark.sql(\"\"\"\n",
    "# CREATE TABLE IF NOT EXISTS freeds_cat.iceberg_db.test_table (\n",
    "#     id INT,\n",
    "#     name STRING\n",
    "# ) USING ICEBERG\n",
    "# \"\"\")\n"
   ]
  }
 ],
 "metadata": {
  "kernelspec": {
   "display_name": "FREEDS",
   "language": "python",
   "name": "freeds"
  },
  "language_info": {
   "codemirror_mode": {
    "name": "ipython",
    "version": 3
   },
   "file_extension": ".py",
   "mimetype": "text/x-python",
   "name": "python",
   "nbconvert_exporter": "python",
   "pygments_lexer": "ipython3",
   "version": "3.11.13"
  }
 },
 "nbformat": 4,
 "nbformat_minor": 5
}
