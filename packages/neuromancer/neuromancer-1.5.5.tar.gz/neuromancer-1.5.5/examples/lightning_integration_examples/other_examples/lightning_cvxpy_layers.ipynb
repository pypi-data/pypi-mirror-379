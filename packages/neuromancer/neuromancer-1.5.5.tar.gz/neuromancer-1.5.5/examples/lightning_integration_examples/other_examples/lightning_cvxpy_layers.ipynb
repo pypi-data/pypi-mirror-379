{
 "cells": [
  {
   "cell_type": "markdown",
   "metadata": {
    "id": "34qVD_ntSKLF"
   },
   "source": [
    "# Cvxpylayers + Neuromancer + Lightning\n",
    "\n",
    "This notebook is equivalent to parametric_programing/Part_5_cvxpy_layers.ipynb. In this version we showcase the use of **PyTorch-Lightning** to simplify the user workflow. \n",
    "\n",
    "This example demonstrates integration of Cvxpylayers into Neuromancer.\n",
    "We will demonstrate this capability on learning to optimize\n",
    "for [parametric nonlinear programming problem (pNLP)](https://en.wikipedia.org/wiki/Parametric_programming) defined as:\n",
    "\n",
    "$$\n",
    "\\begin{align}\n",
    "&\\text{minimize } &&  f(x, \\theta) \\\\\n",
    "&\\text{subject to} && g(x, \\theta) \\le 0\n",
    "\\end{align}\n",
    "$$\n",
    "\n",
    "with  parameters $\\theta$ and decision variables $x$.\n",
    "\n",
    "\n",
    "### Cvxpy Layes References\n",
    "[1] [Agrawal, A. and Amos, B. and Barratt, S. and Boyd, S. and Diamond, S. and Kolter, Z., Differentiable Convex Optimization Layers, NeurIPS 2019](https://arxiv.org/abs/1910.12430)  \n",
    "[2] https://github.com/cvxgrp/cvxpylayers/tree/master  \n",
    "[3] https://locuslab.github.io/2019-10-28-cvxpylayers/  \n",
    "\n",
    "### Learning to Optimize References\n",
    "[1] [F. Fioretto, et al., Predicting AC Optimal Power Flows: Combining Deep Learning and Lagrangian Dual Methods, 2019](https://arxiv.org/abs/1909.10461)  \n",
    "[2] [S. Gould, et al., Deep Declarative Networks: A New Hope, 2020](https://arxiv.org/abs/1909.04866)  \n",
    "[3] [P. Donti, et al., DC3: A learning method for optimization with hard constraints, 2021](https://arxiv.org/abs/2104.12225)  \n",
    "[4] [J. Kotary, et al., End-to-End Constrained Optimization Learning: A Survey, 2021](https://arxiv.org/abs/2103.16378)  \n",
    "[5] [M. Li, et al., Learning to Solve Optimization Problems with Hard Linear Constraints, 2022](https://arxiv.org/abs/2208.10611)  \n",
    "[6] [R. Sambharya, et al., End-to-End Learning to Warm-Start for Real-Time Quadratic Optimization, 2022](https://arxiv.org/abs/2212.08260)  \n",
    "[7] [Parametric programming in Neuromancer](https://github.com/pnnl/neuromancer/tree/master/examples/parametric_programming)"
   ]
  },
  {
   "cell_type": "markdown",
   "metadata": {
    "id": "OCn3zpaIqgMc"
   },
   "source": [
    "## NeuroMANCER and Dependencies"
   ]
  },
  {
   "cell_type": "markdown",
   "metadata": {
    "id": "Qzy5Wot5k2Gf"
   },
   "source": [
    "### Install (Colab only)\n",
    "Skip this step when running locally."
   ]
  },
  {
   "cell_type": "code",
   "execution_count": 1,
   "metadata": {
    "colab": {
     "base_uri": "https://localhost:8080/",
     "height": 1000
    },
    "id": "X_3EvkSz0Fnz",
    "outputId": "23c06f6b-ab48-4763-c43c-40a325cacf87"
   },
   "outputs": [
    {
     "name": "stdout",
     "output_type": "stream",
     "text": [
      "Collecting neuromancer[examples]@ git+https://github.com/pnnl/neuromancer.git@master\n",
      "  Cloning https://github.com/pnnl/neuromancer.git (to revision master) to /tmp/pip-install-53vktbvg/neuromancer_65ef9f1060f0401cb2ec971b8342f147\n",
      "  Running command git clone --filter=blob:none --quiet https://github.com/pnnl/neuromancer.git /tmp/pip-install-53vktbvg/neuromancer_65ef9f1060f0401cb2ec971b8342f147\n",
      "  Resolved https://github.com/pnnl/neuromancer.git to commit e0f02e592ce32584a03fba52d422aad4bbb4276d\n",
      "  Installing build dependencies ... \u001b[?25ldone\n",
      "\u001b[?25h  Getting requirements to build wheel ... \u001b[?25ldone\n",
      "\u001b[?25h  Installing backend dependencies ... \u001b[?25ldone\n",
      "\u001b[?25h  Preparing metadata (pyproject.toml) ... \u001b[?25ldone\n",
      "\u001b[?25hRequirement already satisfied: dill in /home/birm560/miniconda3/envs/neuromancer3/lib/python3.10/site-packages (from neuromancer[examples]@ git+https://github.com/pnnl/neuromancer.git@master) (0.3.7)\n",
      "Requirement already satisfied: graphviz in /home/birm560/miniconda3/envs/neuromancer3/lib/python3.10/site-packages (from neuromancer[examples]@ git+https://github.com/pnnl/neuromancer.git@master) (0.20.1)\n",
      "Requirement already satisfied: matplotlib in /home/birm560/miniconda3/envs/neuromancer3/lib/python3.10/site-packages (from neuromancer[examples]@ git+https://github.com/pnnl/neuromancer.git@master) (3.8.2)\n",
      "Requirement already satisfied: mlflow==2.5.0 in /home/birm560/miniconda3/envs/neuromancer3/lib/python3.10/site-packages (from neuromancer[examples]@ git+https://github.com/pnnl/neuromancer.git@master) (2.5.0)\n",
      "Requirement already satisfied: networkx==3.0.0 in /home/birm560/miniconda3/envs/neuromancer3/lib/python3.10/site-packages (from neuromancer[examples]@ git+https://github.com/pnnl/neuromancer.git@master) (3.0)\n",
      "Requirement already satisfied: numpy<1.24.0 in /home/birm560/miniconda3/envs/neuromancer3/lib/python3.10/site-packages (from neuromancer[examples]@ git+https://github.com/pnnl/neuromancer.git@master) (1.23.5)\n",
      "Requirement already satisfied: pandas in /home/birm560/miniconda3/envs/neuromancer3/lib/python3.10/site-packages (from neuromancer[examples]@ git+https://github.com/pnnl/neuromancer.git@master) (2.1.3)\n",
      "Requirement already satisfied: plum-dispatch==1.7.3 in /home/birm560/miniconda3/envs/neuromancer3/lib/python3.10/site-packages (from neuromancer[examples]@ git+https://github.com/pnnl/neuromancer.git@master) (1.7.3)\n",
      "Requirement already satisfied: scikit-learn in /home/birm560/miniconda3/envs/neuromancer3/lib/python3.10/site-packages (from neuromancer[examples]@ git+https://github.com/pnnl/neuromancer.git@master) (1.3.2)\n",
      "Requirement already satisfied: scipy in /home/birm560/miniconda3/envs/neuromancer3/lib/python3.10/site-packages (from neuromancer[examples]@ git+https://github.com/pnnl/neuromancer.git@master) (1.11.4)\n",
      "Requirement already satisfied: six in /home/birm560/miniconda3/envs/neuromancer3/lib/python3.10/site-packages (from neuromancer[examples]@ git+https://github.com/pnnl/neuromancer.git@master) (1.16.0)\n",
      "Requirement already satisfied: pydot==1.4.2 in /home/birm560/miniconda3/envs/neuromancer3/lib/python3.10/site-packages (from neuromancer[examples]@ git+https://github.com/pnnl/neuromancer.git@master) (1.4.2)\n",
      "Requirement already satisfied: pyts in /home/birm560/miniconda3/envs/neuromancer3/lib/python3.10/site-packages (from neuromancer[examples]@ git+https://github.com/pnnl/neuromancer.git@master) (0.13.0)\n",
      "Requirement already satisfied: torch in /home/birm560/miniconda3/envs/neuromancer3/lib/python3.10/site-packages (from neuromancer[examples]@ git+https://github.com/pnnl/neuromancer.git@master) (2.0.0)\n",
      "Requirement already satisfied: torchdiffeq in /home/birm560/miniconda3/envs/neuromancer3/lib/python3.10/site-packages (from neuromancer[examples]@ git+https://github.com/pnnl/neuromancer.git@master) (0.2.3)\n",
      "Requirement already satisfied: toml in /home/birm560/miniconda3/envs/neuromancer3/lib/python3.10/site-packages (from neuromancer[examples]@ git+https://github.com/pnnl/neuromancer.git@master) (0.10.2)\n",
      "Requirement already satisfied: casadi in /home/birm560/miniconda3/envs/neuromancer3/lib/python3.10/site-packages (from neuromancer[examples]@ git+https://github.com/pnnl/neuromancer.git@master) (3.6.4)\n",
      "Requirement already satisfied: cvxpy in /home/birm560/miniconda3/envs/neuromancer3/lib/python3.10/site-packages (from neuromancer[examples]@ git+https://github.com/pnnl/neuromancer.git@master) (1.4.1)\n",
      "Requirement already satisfied: imageio in /home/birm560/miniconda3/envs/neuromancer3/lib/python3.10/site-packages (from neuromancer[examples]@ git+https://github.com/pnnl/neuromancer.git@master) (2.33.0)\n",
      "Requirement already satisfied: cvxpylayers in /home/birm560/miniconda3/envs/neuromancer3/lib/python3.10/site-packages (from neuromancer[examples]@ git+https://github.com/pnnl/neuromancer.git@master) (0.1.6)\n",
      "Requirement already satisfied: click<9,>=7.0 in /home/birm560/miniconda3/envs/neuromancer3/lib/python3.10/site-packages (from mlflow==2.5.0->neuromancer[examples]@ git+https://github.com/pnnl/neuromancer.git@master) (8.1.7)\n",
      "Requirement already satisfied: cloudpickle<3 in /home/birm560/miniconda3/envs/neuromancer3/lib/python3.10/site-packages (from mlflow==2.5.0->neuromancer[examples]@ git+https://github.com/pnnl/neuromancer.git@master) (2.2.1)\n",
      "Requirement already satisfied: databricks-cli<1,>=0.8.7 in /home/birm560/miniconda3/envs/neuromancer3/lib/python3.10/site-packages (from mlflow==2.5.0->neuromancer[examples]@ git+https://github.com/pnnl/neuromancer.git@master) (0.18.0)\n",
      "Requirement already satisfied: entrypoints<1 in /home/birm560/miniconda3/envs/neuromancer3/lib/python3.10/site-packages (from mlflow==2.5.0->neuromancer[examples]@ git+https://github.com/pnnl/neuromancer.git@master) (0.4)\n",
      "Requirement already satisfied: gitpython<4,>=2.1.0 in /home/birm560/miniconda3/envs/neuromancer3/lib/python3.10/site-packages (from mlflow==2.5.0->neuromancer[examples]@ git+https://github.com/pnnl/neuromancer.git@master) (3.1.40)\n",
      "Requirement already satisfied: pyyaml<7,>=5.1 in /home/birm560/miniconda3/envs/neuromancer3/lib/python3.10/site-packages (from mlflow==2.5.0->neuromancer[examples]@ git+https://github.com/pnnl/neuromancer.git@master) (6.0.1)\n",
      "Requirement already satisfied: protobuf<5,>=3.12.0 in /home/birm560/miniconda3/envs/neuromancer3/lib/python3.10/site-packages (from mlflow==2.5.0->neuromancer[examples]@ git+https://github.com/pnnl/neuromancer.git@master) (4.23.4)\n",
      "Requirement already satisfied: pytz<2024 in /home/birm560/miniconda3/envs/neuromancer3/lib/python3.10/site-packages (from mlflow==2.5.0->neuromancer[examples]@ git+https://github.com/pnnl/neuromancer.git@master) (2023.3.post1)\n",
      "Requirement already satisfied: requests<3,>=2.17.3 in /home/birm560/miniconda3/envs/neuromancer3/lib/python3.10/site-packages (from mlflow==2.5.0->neuromancer[examples]@ git+https://github.com/pnnl/neuromancer.git@master) (2.31.0)\n",
      "Requirement already satisfied: packaging<24 in /home/birm560/miniconda3/envs/neuromancer3/lib/python3.10/site-packages (from mlflow==2.5.0->neuromancer[examples]@ git+https://github.com/pnnl/neuromancer.git@master) (23.2)\n",
      "Requirement already satisfied: importlib-metadata!=4.7.0,<7,>=3.7.0 in /home/birm560/miniconda3/envs/neuromancer3/lib/python3.10/site-packages (from mlflow==2.5.0->neuromancer[examples]@ git+https://github.com/pnnl/neuromancer.git@master) (6.11.0)\n",
      "Requirement already satisfied: sqlparse<1,>=0.4.0 in /home/birm560/miniconda3/envs/neuromancer3/lib/python3.10/site-packages (from mlflow==2.5.0->neuromancer[examples]@ git+https://github.com/pnnl/neuromancer.git@master) (0.4.4)\n",
      "Requirement already satisfied: alembic!=1.10.0,<2 in /home/birm560/miniconda3/envs/neuromancer3/lib/python3.10/site-packages (from mlflow==2.5.0->neuromancer[examples]@ git+https://github.com/pnnl/neuromancer.git@master) (1.13.0)\n",
      "Requirement already satisfied: docker<7,>=4.0.0 in /home/birm560/miniconda3/envs/neuromancer3/lib/python3.10/site-packages (from mlflow==2.5.0->neuromancer[examples]@ git+https://github.com/pnnl/neuromancer.git@master) (6.1.3)\n",
      "Requirement already satisfied: Flask<3 in /home/birm560/miniconda3/envs/neuromancer3/lib/python3.10/site-packages (from mlflow==2.5.0->neuromancer[examples]@ git+https://github.com/pnnl/neuromancer.git@master) (2.3.3)\n",
      "Requirement already satisfied: querystring-parser<2 in /home/birm560/miniconda3/envs/neuromancer3/lib/python3.10/site-packages (from mlflow==2.5.0->neuromancer[examples]@ git+https://github.com/pnnl/neuromancer.git@master) (1.2.4)\n",
      "Requirement already satisfied: sqlalchemy<3,>=1.4.0 in /home/birm560/miniconda3/envs/neuromancer3/lib/python3.10/site-packages (from mlflow==2.5.0->neuromancer[examples]@ git+https://github.com/pnnl/neuromancer.git@master) (2.0.23)\n",
      "Requirement already satisfied: pyarrow<13,>=4.0.0 in /home/birm560/miniconda3/envs/neuromancer3/lib/python3.10/site-packages (from mlflow==2.5.0->neuromancer[examples]@ git+https://github.com/pnnl/neuromancer.git@master) (12.0.1)\n",
      "Requirement already satisfied: markdown<4,>=3.3 in /home/birm560/miniconda3/envs/neuromancer3/lib/python3.10/site-packages (from mlflow==2.5.0->neuromancer[examples]@ git+https://github.com/pnnl/neuromancer.git@master) (3.5.1)\n",
      "Requirement already satisfied: gunicorn<21 in /home/birm560/miniconda3/envs/neuromancer3/lib/python3.10/site-packages (from mlflow==2.5.0->neuromancer[examples]@ git+https://github.com/pnnl/neuromancer.git@master) (20.1.0)\n",
      "Requirement already satisfied: Jinja2<4,>=2.11 in /home/birm560/miniconda3/envs/neuromancer3/lib/python3.10/site-packages (from mlflow==2.5.0->neuromancer[examples]@ git+https://github.com/pnnl/neuromancer.git@master) (3.1.2)\n",
      "Requirement already satisfied: pyparsing>=2.1.4 in /home/birm560/miniconda3/envs/neuromancer3/lib/python3.10/site-packages (from pydot==1.4.2->neuromancer[examples]@ git+https://github.com/pnnl/neuromancer.git@master) (3.1.1)\n",
      "Requirement already satisfied: contourpy>=1.0.1 in /home/birm560/miniconda3/envs/neuromancer3/lib/python3.10/site-packages (from matplotlib->neuromancer[examples]@ git+https://github.com/pnnl/neuromancer.git@master) (1.2.0)\n",
      "Requirement already satisfied: cycler>=0.10 in /home/birm560/miniconda3/envs/neuromancer3/lib/python3.10/site-packages (from matplotlib->neuromancer[examples]@ git+https://github.com/pnnl/neuromancer.git@master) (0.12.1)\n",
      "Requirement already satisfied: fonttools>=4.22.0 in /home/birm560/miniconda3/envs/neuromancer3/lib/python3.10/site-packages (from matplotlib->neuromancer[examples]@ git+https://github.com/pnnl/neuromancer.git@master) (4.46.0)\n",
      "Requirement already satisfied: kiwisolver>=1.3.1 in /home/birm560/miniconda3/envs/neuromancer3/lib/python3.10/site-packages (from matplotlib->neuromancer[examples]@ git+https://github.com/pnnl/neuromancer.git@master) (1.4.5)\n",
      "Requirement already satisfied: pillow>=8 in /home/birm560/miniconda3/envs/neuromancer3/lib/python3.10/site-packages (from matplotlib->neuromancer[examples]@ git+https://github.com/pnnl/neuromancer.git@master) (10.1.0)\n",
      "Requirement already satisfied: python-dateutil>=2.7 in /home/birm560/miniconda3/envs/neuromancer3/lib/python3.10/site-packages (from matplotlib->neuromancer[examples]@ git+https://github.com/pnnl/neuromancer.git@master) (2.8.2)\n",
      "Requirement already satisfied: tzdata>=2022.1 in /home/birm560/miniconda3/envs/neuromancer3/lib/python3.10/site-packages (from pandas->neuromancer[examples]@ git+https://github.com/pnnl/neuromancer.git@master) (2023.3)\n",
      "Requirement already satisfied: joblib>=1.1.1 in /home/birm560/miniconda3/envs/neuromancer3/lib/python3.10/site-packages (from scikit-learn->neuromancer[examples]@ git+https://github.com/pnnl/neuromancer.git@master) (1.3.2)\n",
      "Requirement already satisfied: threadpoolctl>=2.0.0 in /home/birm560/miniconda3/envs/neuromancer3/lib/python3.10/site-packages (from scikit-learn->neuromancer[examples]@ git+https://github.com/pnnl/neuromancer.git@master) (3.2.0)\n",
      "Requirement already satisfied: osqp>=0.6.2 in /home/birm560/miniconda3/envs/neuromancer3/lib/python3.10/site-packages (from cvxpy->neuromancer[examples]@ git+https://github.com/pnnl/neuromancer.git@master) (0.6.3)\n",
      "Requirement already satisfied: ecos>=2 in /home/birm560/miniconda3/envs/neuromancer3/lib/python3.10/site-packages (from cvxpy->neuromancer[examples]@ git+https://github.com/pnnl/neuromancer.git@master) (2.0.12)\n",
      "Requirement already satisfied: clarabel>=0.5.0 in /home/birm560/miniconda3/envs/neuromancer3/lib/python3.10/site-packages (from cvxpy->neuromancer[examples]@ git+https://github.com/pnnl/neuromancer.git@master) (0.6.0)\n",
      "Requirement already satisfied: scs>=3.0 in /home/birm560/miniconda3/envs/neuromancer3/lib/python3.10/site-packages (from cvxpy->neuromancer[examples]@ git+https://github.com/pnnl/neuromancer.git@master) (3.2.4.post1)\n",
      "Requirement already satisfied: pybind11 in /home/birm560/miniconda3/envs/neuromancer3/lib/python3.10/site-packages (from cvxpy->neuromancer[examples]@ git+https://github.com/pnnl/neuromancer.git@master) (2.11.1)\n",
      "Requirement already satisfied: diffcp>=1.0.13 in /home/birm560/miniconda3/envs/neuromancer3/lib/python3.10/site-packages (from cvxpylayers->neuromancer[examples]@ git+https://github.com/pnnl/neuromancer.git@master) (1.0.23)\n",
      "Requirement already satisfied: numba>=0.55.2 in /home/birm560/miniconda3/envs/neuromancer3/lib/python3.10/site-packages (from pyts->neuromancer[examples]@ git+https://github.com/pnnl/neuromancer.git@master) (0.58.1)\n",
      "Requirement already satisfied: filelock in /home/birm560/miniconda3/envs/neuromancer3/lib/python3.10/site-packages (from torch->neuromancer[examples]@ git+https://github.com/pnnl/neuromancer.git@master) (3.13.1)\n",
      "Requirement already satisfied: typing-extensions in /home/birm560/miniconda3/envs/neuromancer3/lib/python3.10/site-packages (from torch->neuromancer[examples]@ git+https://github.com/pnnl/neuromancer.git@master) (4.8.0)\n",
      "Requirement already satisfied: sympy in /home/birm560/miniconda3/envs/neuromancer3/lib/python3.10/site-packages (from torch->neuromancer[examples]@ git+https://github.com/pnnl/neuromancer.git@master) (1.12)\n",
      "Requirement already satisfied: nvidia-cuda-nvrtc-cu11==11.7.99 in /home/birm560/miniconda3/envs/neuromancer3/lib/python3.10/site-packages (from torch->neuromancer[examples]@ git+https://github.com/pnnl/neuromancer.git@master) (11.7.99)\n",
      "Requirement already satisfied: nvidia-cuda-runtime-cu11==11.7.99 in /home/birm560/miniconda3/envs/neuromancer3/lib/python3.10/site-packages (from torch->neuromancer[examples]@ git+https://github.com/pnnl/neuromancer.git@master) (11.7.99)\n",
      "Requirement already satisfied: nvidia-cuda-cupti-cu11==11.7.101 in /home/birm560/miniconda3/envs/neuromancer3/lib/python3.10/site-packages (from torch->neuromancer[examples]@ git+https://github.com/pnnl/neuromancer.git@master) (11.7.101)\n",
      "Requirement already satisfied: nvidia-cudnn-cu11==8.5.0.96 in /home/birm560/miniconda3/envs/neuromancer3/lib/python3.10/site-packages (from torch->neuromancer[examples]@ git+https://github.com/pnnl/neuromancer.git@master) (8.5.0.96)\n",
      "Requirement already satisfied: nvidia-cublas-cu11==11.10.3.66 in /home/birm560/miniconda3/envs/neuromancer3/lib/python3.10/site-packages (from torch->neuromancer[examples]@ git+https://github.com/pnnl/neuromancer.git@master) (11.10.3.66)\n",
      "Requirement already satisfied: nvidia-cufft-cu11==10.9.0.58 in /home/birm560/miniconda3/envs/neuromancer3/lib/python3.10/site-packages (from torch->neuromancer[examples]@ git+https://github.com/pnnl/neuromancer.git@master) (10.9.0.58)\n",
      "Requirement already satisfied: nvidia-curand-cu11==10.2.10.91 in /home/birm560/miniconda3/envs/neuromancer3/lib/python3.10/site-packages (from torch->neuromancer[examples]@ git+https://github.com/pnnl/neuromancer.git@master) (10.2.10.91)\n",
      "Requirement already satisfied: nvidia-cusolver-cu11==11.4.0.1 in /home/birm560/miniconda3/envs/neuromancer3/lib/python3.10/site-packages (from torch->neuromancer[examples]@ git+https://github.com/pnnl/neuromancer.git@master) (11.4.0.1)\n",
      "Requirement already satisfied: nvidia-cusparse-cu11==11.7.4.91 in /home/birm560/miniconda3/envs/neuromancer3/lib/python3.10/site-packages (from torch->neuromancer[examples]@ git+https://github.com/pnnl/neuromancer.git@master) (11.7.4.91)\n",
      "Requirement already satisfied: nvidia-nccl-cu11==2.14.3 in /home/birm560/miniconda3/envs/neuromancer3/lib/python3.10/site-packages (from torch->neuromancer[examples]@ git+https://github.com/pnnl/neuromancer.git@master) (2.14.3)\n",
      "Requirement already satisfied: nvidia-nvtx-cu11==11.7.91 in /home/birm560/miniconda3/envs/neuromancer3/lib/python3.10/site-packages (from torch->neuromancer[examples]@ git+https://github.com/pnnl/neuromancer.git@master) (11.7.91)\n",
      "Requirement already satisfied: triton==2.0.0 in /home/birm560/miniconda3/envs/neuromancer3/lib/python3.10/site-packages (from torch->neuromancer[examples]@ git+https://github.com/pnnl/neuromancer.git@master) (2.0.0)\n",
      "Requirement already satisfied: setuptools in /home/birm560/miniconda3/envs/neuromancer3/lib/python3.10/site-packages (from nvidia-cublas-cu11==11.10.3.66->torch->neuromancer[examples]@ git+https://github.com/pnnl/neuromancer.git@master) (68.2.2)\n",
      "Requirement already satisfied: wheel in /home/birm560/miniconda3/envs/neuromancer3/lib/python3.10/site-packages (from nvidia-cublas-cu11==11.10.3.66->torch->neuromancer[examples]@ git+https://github.com/pnnl/neuromancer.git@master) (0.42.0)\n",
      "Requirement already satisfied: cmake in /home/birm560/miniconda3/envs/neuromancer3/lib/python3.10/site-packages (from triton==2.0.0->torch->neuromancer[examples]@ git+https://github.com/pnnl/neuromancer.git@master) (3.27.9)\n",
      "Requirement already satisfied: lit in /home/birm560/miniconda3/envs/neuromancer3/lib/python3.10/site-packages (from triton==2.0.0->torch->neuromancer[examples]@ git+https://github.com/pnnl/neuromancer.git@master) (17.0.6)\n",
      "Requirement already satisfied: Mako in /home/birm560/miniconda3/envs/neuromancer3/lib/python3.10/site-packages (from alembic!=1.10.0,<2->mlflow==2.5.0->neuromancer[examples]@ git+https://github.com/pnnl/neuromancer.git@master) (1.3.0)\n",
      "Requirement already satisfied: pyjwt>=1.7.0 in /home/birm560/miniconda3/envs/neuromancer3/lib/python3.10/site-packages (from databricks-cli<1,>=0.8.7->mlflow==2.5.0->neuromancer[examples]@ git+https://github.com/pnnl/neuromancer.git@master) (2.8.0)\n",
      "Requirement already satisfied: oauthlib>=3.1.0 in /home/birm560/miniconda3/envs/neuromancer3/lib/python3.10/site-packages (from databricks-cli<1,>=0.8.7->mlflow==2.5.0->neuromancer[examples]@ git+https://github.com/pnnl/neuromancer.git@master) (3.2.2)\n",
      "Requirement already satisfied: tabulate>=0.7.7 in /home/birm560/miniconda3/envs/neuromancer3/lib/python3.10/site-packages (from databricks-cli<1,>=0.8.7->mlflow==2.5.0->neuromancer[examples]@ git+https://github.com/pnnl/neuromancer.git@master) (0.9.0)\n",
      "Requirement already satisfied: urllib3<3,>=1.26.7 in /home/birm560/miniconda3/envs/neuromancer3/lib/python3.10/site-packages (from databricks-cli<1,>=0.8.7->mlflow==2.5.0->neuromancer[examples]@ git+https://github.com/pnnl/neuromancer.git@master) (2.1.0)\n",
      "Requirement already satisfied: websocket-client>=0.32.0 in /home/birm560/miniconda3/envs/neuromancer3/lib/python3.10/site-packages (from docker<7,>=4.0.0->mlflow==2.5.0->neuromancer[examples]@ git+https://github.com/pnnl/neuromancer.git@master) (1.7.0)\n",
      "Requirement already satisfied: Werkzeug>=2.3.7 in /home/birm560/miniconda3/envs/neuromancer3/lib/python3.10/site-packages (from Flask<3->mlflow==2.5.0->neuromancer[examples]@ git+https://github.com/pnnl/neuromancer.git@master) (3.0.1)\n",
      "Requirement already satisfied: itsdangerous>=2.1.2 in /home/birm560/miniconda3/envs/neuromancer3/lib/python3.10/site-packages (from Flask<3->mlflow==2.5.0->neuromancer[examples]@ git+https://github.com/pnnl/neuromancer.git@master) (2.1.2)\n",
      "Requirement already satisfied: blinker>=1.6.2 in /home/birm560/miniconda3/envs/neuromancer3/lib/python3.10/site-packages (from Flask<3->mlflow==2.5.0->neuromancer[examples]@ git+https://github.com/pnnl/neuromancer.git@master) (1.7.0)\n",
      "Requirement already satisfied: gitdb<5,>=4.0.1 in /home/birm560/miniconda3/envs/neuromancer3/lib/python3.10/site-packages (from gitpython<4,>=2.1.0->mlflow==2.5.0->neuromancer[examples]@ git+https://github.com/pnnl/neuromancer.git@master) (4.0.11)\n",
      "Requirement already satisfied: zipp>=0.5 in /home/birm560/miniconda3/envs/neuromancer3/lib/python3.10/site-packages (from importlib-metadata!=4.7.0,<7,>=3.7.0->mlflow==2.5.0->neuromancer[examples]@ git+https://github.com/pnnl/neuromancer.git@master) (3.17.0)\n",
      "Requirement already satisfied: MarkupSafe>=2.0 in /home/birm560/miniconda3/envs/neuromancer3/lib/python3.10/site-packages (from Jinja2<4,>=2.11->mlflow==2.5.0->neuromancer[examples]@ git+https://github.com/pnnl/neuromancer.git@master) (2.1.3)\n",
      "Requirement already satisfied: llvmlite<0.42,>=0.41.0dev0 in /home/birm560/miniconda3/envs/neuromancer3/lib/python3.10/site-packages (from numba>=0.55.2->pyts->neuromancer[examples]@ git+https://github.com/pnnl/neuromancer.git@master) (0.41.1)\n",
      "Requirement already satisfied: qdldl in /home/birm560/miniconda3/envs/neuromancer3/lib/python3.10/site-packages (from osqp>=0.6.2->cvxpy->neuromancer[examples]@ git+https://github.com/pnnl/neuromancer.git@master) (0.1.7.post0)\n",
      "Requirement already satisfied: charset-normalizer<4,>=2 in /home/birm560/miniconda3/envs/neuromancer3/lib/python3.10/site-packages (from requests<3,>=2.17.3->mlflow==2.5.0->neuromancer[examples]@ git+https://github.com/pnnl/neuromancer.git@master) (3.3.2)\n",
      "Requirement already satisfied: idna<4,>=2.5 in /home/birm560/miniconda3/envs/neuromancer3/lib/python3.10/site-packages (from requests<3,>=2.17.3->mlflow==2.5.0->neuromancer[examples]@ git+https://github.com/pnnl/neuromancer.git@master) (3.6)\n",
      "Requirement already satisfied: certifi>=2017.4.17 in /home/birm560/miniconda3/envs/neuromancer3/lib/python3.10/site-packages (from requests<3,>=2.17.3->mlflow==2.5.0->neuromancer[examples]@ git+https://github.com/pnnl/neuromancer.git@master) (2023.11.17)\n",
      "Requirement already satisfied: greenlet!=0.4.17 in /home/birm560/miniconda3/envs/neuromancer3/lib/python3.10/site-packages (from sqlalchemy<3,>=1.4.0->mlflow==2.5.0->neuromancer[examples]@ git+https://github.com/pnnl/neuromancer.git@master) (3.0.1)\n",
      "Requirement already satisfied: mpmath>=0.19 in /home/birm560/miniconda3/envs/neuromancer3/lib/python3.10/site-packages (from sympy->torch->neuromancer[examples]@ git+https://github.com/pnnl/neuromancer.git@master) (1.3.0)\n",
      "Requirement already satisfied: smmap<6,>=3.0.1 in /home/birm560/miniconda3/envs/neuromancer3/lib/python3.10/site-packages (from gitdb<5,>=4.0.1->gitpython<4,>=2.1.0->mlflow==2.5.0->neuromancer[examples]@ git+https://github.com/pnnl/neuromancer.git@master) (5.0.1)\n",
      "Building wheels for collected packages: neuromancer\n",
      "  Building wheel for neuromancer (pyproject.toml) ... \u001b[?25ldone\n",
      "\u001b[?25h  Created wheel for neuromancer: filename=neuromancer-1.4.2-py3-none-any.whl size=153920 sha256=6b6ea703a02095068498e2871644edbf895e203fa32d9e06f74c131b00c2f9f2\n",
      "  Stored in directory: /tmp/pip-ephem-wheel-cache-nqxsquma/wheels/88/db/69/58e642f880e17cca6125cfc7a8bcc17b296381c19d2b6598d1\n",
      "Successfully built neuromancer\n",
      "Installing collected packages: neuromancer\n",
      "  Attempting uninstall: neuromancer\n",
      "    Found existing installation: neuromancer 1.4.2\n",
      "    Uninstalling neuromancer-1.4.2:\n",
      "^C\n",
      "\u001b[31mERROR: Operation cancelled by user\u001b[0m\u001b[31m\n",
      "\u001b[0mRequirement already satisfied: lightning in /home/birm560/miniconda3/envs/neuromancer3/lib/python3.10/site-packages (2.1.2)\n",
      "Requirement already satisfied: PyYAML<8.0,>=5.4 in /home/birm560/miniconda3/envs/neuromancer3/lib/python3.10/site-packages (from lightning) (6.0.1)\n",
      "Requirement already satisfied: fsspec<2025.0,>2021.06.0 in /home/birm560/miniconda3/envs/neuromancer3/lib/python3.10/site-packages (from fsspec[http]<2025.0,>2021.06.0->lightning) (2023.12.1)\n",
      "Requirement already satisfied: lightning-utilities<2.0,>=0.8.0 in /home/birm560/miniconda3/envs/neuromancer3/lib/python3.10/site-packages (from lightning) (0.10.0)\n",
      "Requirement already satisfied: numpy<3.0,>=1.17.2 in /home/birm560/miniconda3/envs/neuromancer3/lib/python3.10/site-packages (from lightning) (1.23.5)\n",
      "Requirement already satisfied: packaging<25.0,>=20.0 in /home/birm560/miniconda3/envs/neuromancer3/lib/python3.10/site-packages (from lightning) (23.2)\n",
      "Requirement already satisfied: torch<4.0,>=1.12.0 in /home/birm560/miniconda3/envs/neuromancer3/lib/python3.10/site-packages (from lightning) (2.0.0)\n",
      "Requirement already satisfied: torchmetrics<3.0,>=0.7.0 in /home/birm560/miniconda3/envs/neuromancer3/lib/python3.10/site-packages (from lightning) (1.2.1)\n",
      "Requirement already satisfied: tqdm<6.0,>=4.57.0 in /home/birm560/miniconda3/envs/neuromancer3/lib/python3.10/site-packages (from lightning) (4.66.1)\n",
      "Requirement already satisfied: typing-extensions<6.0,>=4.0.0 in /home/birm560/miniconda3/envs/neuromancer3/lib/python3.10/site-packages (from lightning) (4.8.0)\n",
      "Requirement already satisfied: pytorch-lightning in /home/birm560/miniconda3/envs/neuromancer3/lib/python3.10/site-packages (from lightning) (2.1.2)\n",
      "Requirement already satisfied: requests in /home/birm560/miniconda3/envs/neuromancer3/lib/python3.10/site-packages (from fsspec[http]<2025.0,>2021.06.0->lightning) (2.31.0)\n",
      "Requirement already satisfied: aiohttp!=4.0.0a0,!=4.0.0a1 in /home/birm560/miniconda3/envs/neuromancer3/lib/python3.10/site-packages (from fsspec[http]<2025.0,>2021.06.0->lightning) (3.9.1)\n",
      "Requirement already satisfied: setuptools in /home/birm560/miniconda3/envs/neuromancer3/lib/python3.10/site-packages (from lightning-utilities<2.0,>=0.8.0->lightning) (68.2.2)\n",
      "Requirement already satisfied: filelock in /home/birm560/miniconda3/envs/neuromancer3/lib/python3.10/site-packages (from torch<4.0,>=1.12.0->lightning) (3.13.1)\n",
      "Requirement already satisfied: sympy in /home/birm560/miniconda3/envs/neuromancer3/lib/python3.10/site-packages (from torch<4.0,>=1.12.0->lightning) (1.12)\n",
      "Requirement already satisfied: networkx in /home/birm560/miniconda3/envs/neuromancer3/lib/python3.10/site-packages (from torch<4.0,>=1.12.0->lightning) (3.0)\n",
      "Requirement already satisfied: jinja2 in /home/birm560/miniconda3/envs/neuromancer3/lib/python3.10/site-packages (from torch<4.0,>=1.12.0->lightning) (3.1.2)\n",
      "Requirement already satisfied: nvidia-cuda-nvrtc-cu11==11.7.99 in /home/birm560/miniconda3/envs/neuromancer3/lib/python3.10/site-packages (from torch<4.0,>=1.12.0->lightning) (11.7.99)\n",
      "Requirement already satisfied: nvidia-cuda-runtime-cu11==11.7.99 in /home/birm560/miniconda3/envs/neuromancer3/lib/python3.10/site-packages (from torch<4.0,>=1.12.0->lightning) (11.7.99)\n",
      "Requirement already satisfied: nvidia-cuda-cupti-cu11==11.7.101 in /home/birm560/miniconda3/envs/neuromancer3/lib/python3.10/site-packages (from torch<4.0,>=1.12.0->lightning) (11.7.101)\n",
      "Requirement already satisfied: nvidia-cudnn-cu11==8.5.0.96 in /home/birm560/miniconda3/envs/neuromancer3/lib/python3.10/site-packages (from torch<4.0,>=1.12.0->lightning) (8.5.0.96)\n",
      "Requirement already satisfied: nvidia-cublas-cu11==11.10.3.66 in /home/birm560/miniconda3/envs/neuromancer3/lib/python3.10/site-packages (from torch<4.0,>=1.12.0->lightning) (11.10.3.66)\n",
      "Requirement already satisfied: nvidia-cufft-cu11==10.9.0.58 in /home/birm560/miniconda3/envs/neuromancer3/lib/python3.10/site-packages (from torch<4.0,>=1.12.0->lightning) (10.9.0.58)\n",
      "Requirement already satisfied: nvidia-curand-cu11==10.2.10.91 in /home/birm560/miniconda3/envs/neuromancer3/lib/python3.10/site-packages (from torch<4.0,>=1.12.0->lightning) (10.2.10.91)\n",
      "Requirement already satisfied: nvidia-cusolver-cu11==11.4.0.1 in /home/birm560/miniconda3/envs/neuromancer3/lib/python3.10/site-packages (from torch<4.0,>=1.12.0->lightning) (11.4.0.1)\n",
      "Requirement already satisfied: nvidia-cusparse-cu11==11.7.4.91 in /home/birm560/miniconda3/envs/neuromancer3/lib/python3.10/site-packages (from torch<4.0,>=1.12.0->lightning) (11.7.4.91)\n",
      "Requirement already satisfied: nvidia-nccl-cu11==2.14.3 in /home/birm560/miniconda3/envs/neuromancer3/lib/python3.10/site-packages (from torch<4.0,>=1.12.0->lightning) (2.14.3)\n",
      "Requirement already satisfied: nvidia-nvtx-cu11==11.7.91 in /home/birm560/miniconda3/envs/neuromancer3/lib/python3.10/site-packages (from torch<4.0,>=1.12.0->lightning) (11.7.91)\n",
      "Requirement already satisfied: triton==2.0.0 in /home/birm560/miniconda3/envs/neuromancer3/lib/python3.10/site-packages (from torch<4.0,>=1.12.0->lightning) (2.0.0)\n",
      "Requirement already satisfied: wheel in /home/birm560/miniconda3/envs/neuromancer3/lib/python3.10/site-packages (from nvidia-cublas-cu11==11.10.3.66->torch<4.0,>=1.12.0->lightning) (0.42.0)\n",
      "Requirement already satisfied: cmake in /home/birm560/miniconda3/envs/neuromancer3/lib/python3.10/site-packages (from triton==2.0.0->torch<4.0,>=1.12.0->lightning) (3.27.9)\n",
      "Requirement already satisfied: lit in /home/birm560/miniconda3/envs/neuromancer3/lib/python3.10/site-packages (from triton==2.0.0->torch<4.0,>=1.12.0->lightning) (17.0.6)\n",
      "Requirement already satisfied: attrs>=17.3.0 in /home/birm560/miniconda3/envs/neuromancer3/lib/python3.10/site-packages (from aiohttp!=4.0.0a0,!=4.0.0a1->fsspec[http]<2025.0,>2021.06.0->lightning) (23.1.0)\n",
      "Requirement already satisfied: multidict<7.0,>=4.5 in /home/birm560/miniconda3/envs/neuromancer3/lib/python3.10/site-packages (from aiohttp!=4.0.0a0,!=4.0.0a1->fsspec[http]<2025.0,>2021.06.0->lightning) (6.0.4)\n",
      "Requirement already satisfied: yarl<2.0,>=1.0 in /home/birm560/miniconda3/envs/neuromancer3/lib/python3.10/site-packages (from aiohttp!=4.0.0a0,!=4.0.0a1->fsspec[http]<2025.0,>2021.06.0->lightning) (1.9.4)\n",
      "Requirement already satisfied: frozenlist>=1.1.1 in /home/birm560/miniconda3/envs/neuromancer3/lib/python3.10/site-packages (from aiohttp!=4.0.0a0,!=4.0.0a1->fsspec[http]<2025.0,>2021.06.0->lightning) (1.4.0)\n",
      "Requirement already satisfied: aiosignal>=1.1.2 in /home/birm560/miniconda3/envs/neuromancer3/lib/python3.10/site-packages (from aiohttp!=4.0.0a0,!=4.0.0a1->fsspec[http]<2025.0,>2021.06.0->lightning) (1.3.1)\n",
      "Requirement already satisfied: async-timeout<5.0,>=4.0 in /home/birm560/miniconda3/envs/neuromancer3/lib/python3.10/site-packages (from aiohttp!=4.0.0a0,!=4.0.0a1->fsspec[http]<2025.0,>2021.06.0->lightning) (4.0.3)\n",
      "Requirement already satisfied: MarkupSafe>=2.0 in /home/birm560/miniconda3/envs/neuromancer3/lib/python3.10/site-packages (from jinja2->torch<4.0,>=1.12.0->lightning) (2.1.3)\n",
      "Requirement already satisfied: charset-normalizer<4,>=2 in /home/birm560/miniconda3/envs/neuromancer3/lib/python3.10/site-packages (from requests->fsspec[http]<2025.0,>2021.06.0->lightning) (3.3.2)\n",
      "Requirement already satisfied: idna<4,>=2.5 in /home/birm560/miniconda3/envs/neuromancer3/lib/python3.10/site-packages (from requests->fsspec[http]<2025.0,>2021.06.0->lightning) (3.6)\n",
      "Requirement already satisfied: urllib3<3,>=1.21.1 in /home/birm560/miniconda3/envs/neuromancer3/lib/python3.10/site-packages (from requests->fsspec[http]<2025.0,>2021.06.0->lightning) (2.1.0)\n",
      "Requirement already satisfied: certifi>=2017.4.17 in /home/birm560/miniconda3/envs/neuromancer3/lib/python3.10/site-packages (from requests->fsspec[http]<2025.0,>2021.06.0->lightning) (2023.11.17)\n",
      "Requirement already satisfied: mpmath>=0.19 in /home/birm560/miniconda3/envs/neuromancer3/lib/python3.10/site-packages (from sympy->torch<4.0,>=1.12.0->lightning) (1.3.0)\n"
     ]
    }
   ],
   "source": [
    "!pip install \"neuromancer[examples] @ git+https://github.com/pnnl/neuromancer.git@master\"\n",
    "!pip install lightning "
   ]
  },
  {
   "cell_type": "markdown",
   "metadata": {},
   "source": [
    "## Imports\n",
    "\n",
    "(The user might need to install PyTorch Lightning). If so, please run \n",
    "\n",
    "```\n",
    "pip install lightning\n",
    "```"
   ]
  },
  {
   "cell_type": "markdown",
   "metadata": {
    "id": "LWyvndXlz0Fv"
   },
   "source": [
    "### Import"
   ]
  },
  {
   "cell_type": "code",
   "execution_count": 6,
   "metadata": {
    "id": "KbP0n-4evRqt"
   },
   "outputs": [],
   "source": [
    "import torch\n",
    "import torch.nn as nn\n",
    "import numpy as np\n",
    "import cvxpy\n",
    "import lightning.pytorch as pl\n",
    "from cvxpylayers.torch import CvxpyLayer\n",
    "\n",
    "# plotting\n",
    "import matplotlib.pyplot as plt\n",
    "import matplotlib.patheffects as patheffects\n",
    "\n",
    "# neuromancer\n",
    "from neuromancer.trainer import Trainer, LitTrainer\n",
    "from neuromancer.problem import Problem\n",
    "from neuromancer.constraint import variable\n",
    "from neuromancer.dataset import DictDataset\n",
    "from neuromancer.loss import PenaltyLoss\n",
    "from neuromancer.modules import blocks\n",
    "from neuromancer.system import Node\n",
    "\n"
   ]
  },
  {
   "cell_type": "markdown",
   "metadata": {},
   "source": [
    "# Problem Formulation\n",
    "\n",
    "Specifically we will focus on solving the [Rosenbrock problem](https://en.wikipedia.org/wiki/Rosenbrock_function):\n",
    "\n",
    "$$\n",
    "\\begin{align}\n",
    "&\\text{minimize } &&  (1-x_1)^2 + p(x_2-x_1^2)^2\\\\\n",
    "&\\text{subject to} && Ax \\le b\n",
    "\\end{align}\n",
    "$$\n",
    "\n",
    "with parameters $p, b$ and decision variables $x= [x_1, x_2]$.\n",
    "\n",
    "In this tutorial, we will use neuromancer to train the neural network to minimize the nonlinear objective function,\n",
    "and cvxpy layers to project the solution onto feasible region."
   ]
  },
  {
   "cell_type": "code",
   "execution_count": 7,
   "metadata": {},
   "outputs": [],
   "source": [
    "nx = 2              #  number of decision variables\n",
    "n_con = 4           #  number of constraints\n",
    "n_p = 1             #  number of objective parameters\n",
    "\n",
    "# generate fixed parameters of the inequality constraints: Ax <= b\n",
    "torch.manual_seed(7)\n",
    "A = torch.FloatTensor(n_con, nx).uniform_(-4, 4)\n",
    "x0 = torch.full([nx], 0.5)       # controls center of the polytope\n",
    "s0 = torch.full([n_con], 0.2)    # controls offset from the center of the polytope\n",
    "b0 = A.mv(x0) + s0"
   ]
  },
  {
   "cell_type": "markdown",
   "metadata": {
    "id": "_WH7o7Wu1epw"
   },
   "source": [
    "## Dataset\n",
    "\n",
    "We constructy the dataset by sampling the parametric space."
   ]
  },
  {
   "cell_type": "code",
   "execution_count": 8,
   "metadata": {
    "id": "_r6p2p6myHAh"
   },
   "outputs": [],
   "source": [
    "data_seed = 408  # random seed used for simulated data\n",
    "np.random.seed(data_seed)\n",
    "torch.manual_seed(data_seed);"
   ]
  },
  {
   "cell_type": "markdown",
   "metadata": {
    "id": "JZ9qrw0tlJhs"
   },
   "source": [
    "Randomly sample parameters from a uniform distribution: $0.5\\le p\\le2.0$;  $0.2\\le a\\le1.2$"
   ]
  },
  {
   "cell_type": "code",
   "execution_count": 9,
   "metadata": {
    "id": "Nu58M-8JyHy6"
   },
   "outputs": [],
   "source": [
    "nsim = 1000  # number of datapoints: increase sample density for more robust results\n",
    "# create dictionaries with sampled datapoints with uniform distribution\n",
    "p_low, p_high = 0.2, 5.0,\n",
    "b_low, b_high = 0.0, 1.0,\n",
    "\n",
    "def data_setup_function(nsim, p_low, p_high, b_low, b_high): \n",
    "    # we sample objective and constraints parameters\n",
    "    samples_train = {\"p\": torch.FloatTensor(nsim, n_p).uniform_(p_low, p_high),\n",
    "                    \"b_param\": torch.FloatTensor(nsim, n_con).uniform_(b_low, b_high)}\n",
    "    samples_dev = {\"p\": torch.FloatTensor(nsim, n_p).uniform_(p_low, p_high),\n",
    "                \"b_param\": torch.FloatTensor(nsim, n_con).uniform_(b_low, b_high)}\n",
    "    samples_test = {\"p\": torch.FloatTensor(nsim, n_p).uniform_(p_low, p_high),\n",
    "                    \"b_param\": torch.FloatTensor(nsim, n_con).uniform_(b_low, b_high)}\n",
    "    # create named dictionary datasets\n",
    "    train_data = DictDataset(samples_train, name='train')\n",
    "    dev_data = DictDataset(samples_dev, name='dev')\n",
    "    test_data = DictDataset(samples_test, name='test')\n",
    "    batch_size = 32\n",
    "\n",
    "    return train_data, dev_data, test_data, batch_size"
   ]
  },
  {
   "cell_type": "markdown",
   "metadata": {
    "id": "Y2htUaWMDjsk"
   },
   "source": [
    "## Primal Solution Map Architecture\n",
    "\n",
    "A neural network mapping problem parameters onto primal decision variables:  \n",
    "$$x = \\pi(\\theta)$$"
   ]
  },
  {
   "cell_type": "code",
   "execution_count": 10,
   "metadata": {
    "id": "Ta_I_pjyyLzf"
   },
   "outputs": [],
   "source": [
    "# define neural architecture for the trainable solution map\n",
    "# mapping problem parameters to decitionv ariables\n",
    "func = blocks.MLP(insize=n_con+n_p, outsize=nx,\n",
    "                bias=True,\n",
    "                linear_map=torch.nn.Linear,\n",
    "                nonlin=nn.ReLU,\n",
    "                hsizes=[80] * 4)\n",
    "# wrap neural net into symbolic representation of the solution map via the Node class:\n",
    "# sol_map(p, bparam) -> xy\n",
    "sol_map = Node(func, ['p', 'b_param'], ['xy'], name='map')"
   ]
  },
  {
   "cell_type": "markdown",
   "metadata": {
    "id": "Lxj77EFj7EO-"
   },
   "source": [
    "## Objective in NeuroMANCER\n",
    "\n",
    "\n",
    "We want to minimize the objective:\n",
    "$$\n",
    "\\begin{align}\n",
    "&\\text{minimize } &&  (1-x_1)^2 + p(x_2-x_1^2)^2\n",
    "\\end{align}\n",
    "$$\n",
    "\n",
    "with $x = [x_1, x_2]$ being decision variables and $p$ being problem parameter."
   ]
  },
  {
   "cell_type": "code",
   "execution_count": 11,
   "metadata": {
    "id": "bcoVjphjyPp9"
   },
   "outputs": [],
   "source": [
    "# define decision variables\n",
    "xy = variable(\"xy\")\n",
    "x = variable(\"xy\")[:, [0]]\n",
    "y = variable(\"xy\")[:, [1]]\n",
    "# problem parameters sampled in the dataset\n",
    "p = variable('p')\n",
    "b_param = variable('b_param')\n",
    "\n",
    "# objective function\n",
    "f = (1-x)**2 + p*(y-x**2)**2\n",
    "nm_obj = f.minimize(weight=10.0, name='obj')"
   ]
  },
  {
   "cell_type": "markdown",
   "metadata": {},
   "source": [
    "## Cvxpy projection layer\n",
    "\n",
    "We will use cvxpy layer to implement the projection onto the polytopic constraints:\n",
    "\n",
    "$$\n",
    "\\begin{align}\n",
    "& \\hat{x}  = \\text{argmin}_x && ||x -  \\hat{x}  ||_2^2 \\\\\n",
    "&\\text{subject to} && A \\hat{x} \\le b\n",
    "\\end{align}\n",
    "$$\n",
    "\n",
    "with $x$ being solution obtained from the neural network $x = \\pi(\\theta)$, and $\\hat{x}$ being projected solution onto the feasible set satisfying $A \\hat{x} \\le b$. Here the problem constraints are parametrized by $b$ and solution from neural network $x$. Hence we can compactly represent this projection operator as:  \n",
    "\n",
    "$$\\hat{x} = \\text{proj}_{A x \\le b}(x, b) $$\n",
    "\n",
    "Cvxpy layers allow us to use this projection operator as a differentiable layer in our end-to-end solver pipeline.\n",
    "\n",
    "\n",
    "<img src=\"./figs/cvxpylayers_overview.png\" width=\"600\">  "
   ]
  },
  {
   "cell_type": "code",
   "execution_count": 12,
   "metadata": {},
   "outputs": [],
   "source": [
    "# constants, parameters, and variables\n",
    "A_cvxpy = A.detach().numpy()\n",
    "b0_cvxpy = b0.detach().numpy()\n",
    "b_cvxpy = cvxpy.Parameter(n_con)\n",
    "xy_net = cvxpy.Parameter(nx)      # primal decision from neural net\n",
    "xy_cvxpy = cvxpy.Variable(nx)     # cvxpy decision variable\n",
    "\n",
    "# projection problem formulation\n",
    "cvxpy_obj = cvxpy.Minimize(1.0 * cvxpy.sum_squares(xy_net - xy_cvxpy))\n",
    "cvxpy_cons = [xy_cvxpy@A_cvxpy.T <= b0_cvxpy + b_cvxpy]\n",
    "cvxpy_prob = cvxpy.Problem(cvxpy_obj, cvxpy_cons)\n",
    "\n",
    "# cvxpy layer\n",
    "cvxpy_layer = CvxpyLayer(cvxpy_prob,\n",
    "                   parameters=[b_cvxpy, xy_net],\n",
    "                   variables=[xy_cvxpy])\n",
    "\n",
    "# symbolic wrapper: sol_map(bparam, xy) -> xy\n",
    "project = Node(cvxpy_layer, ['b_param', 'xy'], ['xy_cvx'], name='proj')"
   ]
  },
  {
   "cell_type": "markdown",
   "metadata": {},
   "source": [
    "Note that in the above code, we did not need to wrap A_cvxpy, b0_cvxpy etc within a LightningModule class"
   ]
  },
  {
   "cell_type": "markdown",
   "metadata": {},
   "source": [
    "## Self-supervised loss\n",
    "\n",
    "We can use the correction form the cvxpylayer as a supervisory signal for the neural network alongside with the objective minimization loss function term. This extra term can be used as a guide for the neural network to satisfy constraints of the problem by following the projected solution. The larger the weigthing factor of this loss function term the closer the neural network will be to feasible region on its own without the subsequent projection."
   ]
  },
  {
   "cell_type": "code",
   "execution_count": 13,
   "metadata": {},
   "outputs": [],
   "source": [
    "# corrected variable by the cvxpy layer\n",
    "xy_cvx = variable(\"xy_cvx\")\n",
    "# cvxpy-supervised loss for the neural net\n",
    "residual = torch.abs(xy - xy_cvx)\n",
    "cvxp_loss = 1.*(residual == 0)"
   ]
  },
  {
   "cell_type": "markdown",
   "metadata": {},
   "source": [
    "## Construct differentiable parametric optimization problem \n",
    "\n",
    "Here we put all the pieces together and construct differentiable parametric constrained optimization problem with neural network and cvxpy projection layer as solvers."
   ]
  },
  {
   "cell_type": "code",
   "execution_count": 14,
   "metadata": {
    "colab": {
     "base_uri": "https://localhost:8080/",
     "height": 496
    },
    "id": "n7VPa9Wc8JRB",
    "outputId": "0da17c45-6370-4f46-f626-bd5686b94bfc"
   },
   "outputs": [],
   "source": [
    "# constrained optimization problem construction\n",
    "objectives = [nm_obj, cvxp_loss]\n",
    "constraints = []\n",
    "nodes = [sol_map, project]\n",
    "\n",
    "# create penalty method loss function\n",
    "loss = PenaltyLoss(objectives, constraints)\n",
    "# construct constrained optimization problem\n",
    "problem = Problem(nodes, loss)\n",
    "# plot computational graph\n",
    "# problem.show()"
   ]
  },
  {
   "cell_type": "markdown",
   "metadata": {
    "id": "icWSMeG28SKc"
   },
   "source": [
    "## Parametric Problem Solution in NeuroMANCER\n",
    "\n",
    "Here we will use stochastic gradient descent to optimize the neural network $x = \\pi({\\theta})$ to solve a distribution of sampled problem instances."
   ]
  },
  {
   "cell_type": "code",
   "execution_count": 15,
   "metadata": {
    "id": "rk1bRczByUvl"
   },
   "outputs": [
    {
     "name": "stderr",
     "output_type": "stream",
     "text": [
      "GPU available: True (cuda), used: True\n",
      "TPU available: False, using: 0 TPU cores\n",
      "IPU available: False, using: 0 IPUs\n",
      "HPU available: False, using: 0 HPUs\n",
      "You are using a CUDA device ('NVIDIA RTX A6000') that has Tensor Cores. To properly utilize them, you should set `torch.set_float32_matmul_precision('medium' | 'high')` which will trade-off precision for performance. For more details, read https://pytorch.org/docs/stable/generated/torch.set_float32_matmul_precision.html#torch.set_float32_matmul_precision\n",
      "/home/birm560/miniconda3/envs/neuromancer3/lib/python3.10/site-packages/lightning/pytorch/callbacks/model_checkpoint.py:639: Checkpoint directory ./ exists and is not empty.\n",
      "LOCAL_RANK: 0 - CUDA_VISIBLE_DEVICES: [0,1,2,3,4,5,6,7]\n",
      "\n",
      "  | Name    | Type    | Params\n",
      "------------------------------------\n",
      "0 | problem | Problem | 20.1 K\n",
      "------------------------------------\n",
      "20.1 K    Trainable params\n",
      "0         Non-trainable params\n",
      "20.1 K    Total params\n",
      "0.080     Total estimated model params size (MB)\n"
     ]
    },
    {
     "name": "stdout",
     "output_type": "stream",
     "text": [
      "Sanity Checking DataLoader 0:   0%|          | 0/2 [00:00<?, ?it/s]"
     ]
    },
    {
     "name": "stderr",
     "output_type": "stream",
     "text": [
      "/home/birm560/miniconda3/envs/neuromancer3/lib/python3.10/site-packages/lightning/pytorch/trainer/connectors/data_connector.py:441: The 'val_dataloader' does not have many workers which may be a bottleneck. Consider increasing the value of the `num_workers` argument` to `num_workers=159` in the `DataLoader` to improve performance.\n"
     ]
    },
    {
     "name": "stdout",
     "output_type": "stream",
     "text": [
      "Sanity Checking DataLoader 0:  50%|█████     | 1/2 [00:05<00:05,  0.18it/s]"
     ]
    },
    {
     "name": "stderr",
     "output_type": "stream",
     "text": [
      "/home/birm560/neuromancer/src/neuromancer/constraint.py:169: UserWarning: Using a target size (torch.Size([])) that is different to the input size (torch.Size([32, 2])). This will likely lead to incorrect results due to broadcasting. Please ensure they have the same size.\n",
      "  loss = F.l1_loss(left, right)\n",
      "/home/birm560/miniconda3/envs/neuromancer3/lib/python3.10/site-packages/lightning/pytorch/utilities/data.py:77: Trying to infer the `batch_size` from an ambiguous collection. The batch size we found is 32. To avoid any miscalculations, use `self.log(..., batch_size=batch_size)`.\n"
     ]
    },
    {
     "name": "stdout",
     "output_type": "stream",
     "text": [
      "                                                                           "
     ]
    },
    {
     "name": "stderr",
     "output_type": "stream",
     "text": [
      "/home/birm560/miniconda3/envs/neuromancer3/lib/python3.10/site-packages/lightning/pytorch/trainer/connectors/data_connector.py:441: The 'train_dataloader' does not have many workers which may be a bottleneck. Consider increasing the value of the `num_workers` argument` to `num_workers=159` in the `DataLoader` to improve performance.\n",
      "/home/birm560/miniconda3/envs/neuromancer3/lib/python3.10/site-packages/lightning/pytorch/loops/fit_loop.py:293: The number of training batches (32) is smaller than the logging interval Trainer(log_every_n_steps=50). Set a lower value for log_every_n_steps if you want to see logs for the training epoch.\n"
     ]
    },
    {
     "name": "stdout",
     "output_type": "stream",
     "text": [
      "Epoch 0: 100%|██████████| 32/32 [00:12<00:00,  2.53it/s, v_num=24, train_loss_step=0.539]"
     ]
    },
    {
     "name": "stderr",
     "output_type": "stream",
     "text": [
      "/home/birm560/neuromancer/src/neuromancer/constraint.py:169: UserWarning: Using a target size (torch.Size([])) that is different to the input size (torch.Size([8, 2])). This will likely lead to incorrect results due to broadcasting. Please ensure they have the same size.\n",
      "  loss = F.l1_loss(left, right)\n",
      "/home/birm560/miniconda3/envs/neuromancer3/lib/python3.10/site-packages/lightning/pytorch/utilities/data.py:77: Trying to infer the `batch_size` from an ambiguous collection. The batch size we found is 8. To avoid any miscalculations, use `self.log(..., batch_size=batch_size)`.\n"
     ]
    },
    {
     "name": "stdout",
     "output_type": "stream",
     "text": [
      "Epoch 0: 100%|██████████| 32/32 [00:21<00:00,  1.48it/s, v_num=24, train_loss_step=0.539, dev_loss=0.614, train_loss_epoch=2.680]epoch: 0  : 2.6311771869659424\n"
     ]
    },
    {
     "name": "stderr",
     "output_type": "stream",
     "text": [
      "Epoch 0, global step 32: 'dev_loss' reached 0.61403 (best 0.61403), saving model to './epoch=0-step=32.ckpt' as top 1\n"
     ]
    },
    {
     "name": "stdout",
     "output_type": "stream",
     "text": [
      "Epoch 1: 100%|██████████| 32/32 [00:21<00:00,  1.46it/s, v_num=24, train_loss_step=0.423, dev_loss=0.590, train_loss_epoch=0.789]epoch: 1  : 0.7808655500411987\n"
     ]
    },
    {
     "name": "stderr",
     "output_type": "stream",
     "text": [
      "Epoch 1, global step 64: 'dev_loss' reached 0.59040 (best 0.59040), saving model to './epoch=1-step=64.ckpt' as top 1\n"
     ]
    },
    {
     "name": "stdout",
     "output_type": "stream",
     "text": [
      "Epoch 2: 100%|██████████| 32/32 [00:21<00:00,  1.47it/s, v_num=24, train_loss_step=0.555, dev_loss=0.646, train_loss_epoch=0.618]"
     ]
    },
    {
     "name": "stderr",
     "output_type": "stream",
     "text": [
      "Epoch 2, global step 96: 'dev_loss' was not in top 1\n"
     ]
    },
    {
     "name": "stdout",
     "output_type": "stream",
     "text": [
      "epoch: 2  : 0.6163569688796997\n",
      "Epoch 3: 100%|██████████| 32/32 [00:22<00:00,  1.40it/s, v_num=24, train_loss_step=0.220, dev_loss=0.256, train_loss_epoch=0.552]epoch: 3  : 0.5445245504379272\n"
     ]
    },
    {
     "name": "stderr",
     "output_type": "stream",
     "text": [
      "Epoch 3, global step 128: 'dev_loss' reached 0.25570 (best 0.25570), saving model to './epoch=3-step=128-v1.ckpt' as top 1\n"
     ]
    },
    {
     "name": "stdout",
     "output_type": "stream",
     "text": [
      "Epoch 4: 100%|██████████| 32/32 [00:23<00:00,  1.39it/s, v_num=24, train_loss_step=0.221, dev_loss=0.303, train_loss_epoch=0.483]"
     ]
    },
    {
     "name": "stderr",
     "output_type": "stream",
     "text": [
      "Epoch 4, global step 160: 'dev_loss' was not in top 1\n"
     ]
    },
    {
     "name": "stdout",
     "output_type": "stream",
     "text": [
      "epoch: 4  : 0.47689807415008545\n"
     ]
    },
    {
     "name": "stderr",
     "output_type": "stream",
     "text": [
      "`Trainer.fit` stopped: `max_epochs=5` reached.\n"
     ]
    },
    {
     "name": "stdout",
     "output_type": "stream",
     "text": [
      "Epoch 4: 100%|██████████| 32/32 [00:23<00:00,  1.36it/s, v_num=24, train_loss_step=0.221, dev_loss=0.303, train_loss_epoch=0.483]\n"
     ]
    }
   ],
   "source": [
    "lit_trainer = LitTrainer(epochs=5, patience=10, accelerator='gpu', devices=[1])\n",
    "lit_trainer.fit(problem, data_setup_function, nsim=nsim, p_low=p_low, p_high=p_high, b_low=b_low, b_high=b_high)\n"
   ]
  },
  {
   "cell_type": "markdown",
   "metadata": {
    "id": "0hhUw4PVBWmb"
   },
   "source": [
    "## Plot the solution"
   ]
  },
  {
   "cell_type": "code",
   "execution_count": 16,
   "metadata": {
    "colab": {
     "base_uri": "https://localhost:8080/",
     "height": 281
    },
    "id": "kvYCfjq6zxxC",
    "outputId": "322e5b72-b93d-4d9e-a913-8703aad67d1a"
   },
   "outputs": [],
   "source": [
    "def plot_pNLP(p, b_param, savedir=None):\n",
    "    # sample primal solution domain\n",
    "    x1 = np.arange(-0.5, 1.5, 0.02)\n",
    "    y1 = np.arange(-0.5, 1.5, 0.02)\n",
    "    xx, yy = np.meshgrid(x1, y1)\n",
    "    xy_samples = np.stack([xx.flatten(), yy.flatten()])\n",
    "\n",
    "    # eval constraints Ax - b <= 0\n",
    "    A_np = A.detach().numpy()\n",
    "    b = b0 + b_param\n",
    "    b_np = b.detach().numpy()\n",
    "    C_samples = np.subtract(np.matmul(A_np, xy_samples).T, b_np).T\n",
    "    C_samples = C_samples.reshape(n_con, x1.shape[0], y1.shape[0])\n",
    "\n",
    "    # eval objective\n",
    "    p_np = p.detach().numpy()\n",
    "    J = (1 - xx) ** 2 + p_np * (yy - xx ** 2) ** 2\n",
    "\n",
    "    # plot objective and constraints\n",
    "    fig, ax = plt.subplots(1, 1)\n",
    "    cp = ax.contourf(xx, yy, J,\n",
    "                     levels=[0, 0.05, 0.2, 0.5, 1.0, 2.0, 4.0, 6.0, 8.0, 16],\n",
    "                     alpha=0.6)\n",
    "    fig.colorbar(cp)\n",
    "    ax.set_title('Rosenbrock problem')\n",
    "    for k in range(n_con):\n",
    "        cg1 = ax.contour(xx, yy, -C_samples[k], [0],\n",
    "                         colors='mediumblue', alpha=0.7)\n",
    "        plt.setp(cg1.collections,\n",
    "                 path_effects=[patheffects.withTickedStroke()], alpha=0.7)\n",
    "\n",
    "    # Solution to pNLP via Neuromancer\n",
    "    datapoint = {'p': p, 'b_param': b_param,\n",
    "                 'name': 'test'}\n",
    "    # evaluate neuromancer model\n",
    "    model_out = problem.step(datapoint)\n",
    "    # neural net solution\n",
    "    x_nm_net = model_out[\"xy\"][0].detach().numpy()\n",
    "    y_nm_net = model_out[\"xy\"][1].detach().numpy()\n",
    "    # cvxpy projected solution\n",
    "    x_nm_cvx = model_out[\"xy_cvx\"][0].detach().numpy()\n",
    "    y_nm_cvx = model_out[\"xy_cvx\"][1].detach().numpy()\n",
    "\n",
    "    # plot optimal solutions CasADi vs Neuromancer\n",
    "    ax.plot(x_nm_net, y_nm_net, 'r*', fillstyle='none',\n",
    "            markersize=16, label='net')\n",
    "    ax.plot(x_nm_cvx, y_nm_cvx, 'g*', fillstyle='none',\n",
    "            markersize=14, label='cvxpy')\n",
    "    # plot projection step\n",
    "    ax.plot([x_nm_net, x_nm_cvx],\n",
    "            [y_nm_net, y_nm_cvx], '--', c='orange')\n",
    "    plt.legend(bbox_to_anchor=(1.0, 0.15))\n",
    "\n",
    "    if savedir is not None:\n",
    "        if not os.path.exists(savedir):\n",
    "            os.mkdir(savedir)\n",
    "        figure_path = os.path.join(savedir, f'pNLP_p={p}_bsum={b_np}.png')\n",
    "        plt.savefig(figure_path)\n",
    "        return figure_path\n",
    "    else:\n",
    "        plt.show(block=True)\n"
   ]
  },
  {
   "cell_type": "code",
   "execution_count": 17,
   "metadata": {
    "id": "yD5kAnjy4CUL"
   },
   "outputs": [
    {
     "name": "stderr",
     "output_type": "stream",
     "text": [
      "/tmp/ipykernel_229275/2558518230.py:29: MatplotlibDeprecationWarning: The collections attribute was deprecated in Matplotlib 3.8 and will be removed two minor releases later.\n",
      "  plt.setp(cg1.collections,\n"
     ]
    },
    {
     "data": {
      "image/png": "[encoded data removed]",
      "text/plain": [
       "<Figure size 640x480 with 2 Axes>"
      ]
     },
     "metadata": {},
     "output_type": "display_data"
    }
   ],
   "source": [
    "# sample random scenario\n",
    "p = torch.FloatTensor(n_p).uniform_(p_low, p_high)\n",
    "b_param = torch.rand(n_con)\n",
    "# plot single random scenario\n",
    "plot_pNLP(p, b_param)"
   ]
  },
  {
   "cell_type": "code",
   "execution_count": null,
   "metadata": {},
   "outputs": [],
   "source": []
  },
  {
   "cell_type": "code",
   "execution_count": null,
   "metadata": {},
   "outputs": [],
   "source": []
  }
 ],
 "metadata": {
  "colab": {
   "provenance": []
  },
  "kernelspec": {
   "display_name": "neuromancer3",
   "language": "python",
   "name": "python3"
  },
  "language_info": {
   "codemirror_mode": {
    "name": "ipython",
    "version": 3
   },
   "file_extension": ".py",
   "mimetype": "text/x-python",
   "name": "python",
   "nbconvert_exporter": "python",
   "pygments_lexer": "ipython3",
   "version": "3.10.4"
  }
 },
 "nbformat": 4,
 "nbformat_minor": 1
}
