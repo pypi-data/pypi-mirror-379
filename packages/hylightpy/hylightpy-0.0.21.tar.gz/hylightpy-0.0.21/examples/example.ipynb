{
 "cells": [
  {
   "cell_type": "markdown",
   "id": "dd5da9be-109b-416f-9cad-788b7e02d18e",
   "metadata": {},
   "source": [
    "# Hylight"
   ]
  },
  {
   "cell_type": "code",
   "execution_count": 1,
   "id": "b7c682f1-baf2-471f-8c05-5767cbefe3e2",
   "metadata": {},
   "outputs": [],
   "source": [
    "import hylightpy"
   ]
  },
  {
   "cell_type": "code",
   "execution_count": 2,
   "id": "c7778f2a-ae71-43c3-970a-826e32096608",
   "metadata": {},
   "outputs": [],
   "source": [
    "from matplotlib import pyplot as plt\n",
    "import numpy as np"
   ]
  },
  {
   "cell_type": "code",
   "execution_count": 3,
   "id": "b1610fd6-fdab-4b0b-93db-f722966760a9",
   "metadata": {},
   "outputs": [
    {
     "data": {
      "text/plain": [
       "'0.0.20'"
      ]
     },
     "execution_count": 3,
     "metadata": {},
     "output_type": "execute_result"
    }
   ],
   "source": [
    "hylightpy.__version__"
   ]
  },
  {
   "cell_type": "code",
   "execution_count": 5,
   "id": "4e896a07-a7f7-4ea7-8c2b-73182aa5a5f1",
   "metadata": {
    "jupyter": {
     "source_hidden": true
    }
   },
   "outputs": [
    {
     "data": {
      "text/html": [
       "<style>\n",
       "@keyframes scroll {\n",
       "  0%   { transform: translateX(100%); }\n",
       "  100% { transform: translateX(-100%); }\n",
       "}\n",
       ".scrolling-text {\n",
       "  white-space: nowrap;\n",
       "  display: inline-block;\n",
       "  animation: scroll 6s linear infinite;\n",
       "  font-weight: bold;\n",
       "  color: green;\n",
       "  font-family: \"DejaVu Sans Mono\", \"Courier New\", monospace; /* Force block character font */\n",
       "}\n",
       ".wrapper {\n",
       "  overflow: hidden;\n",
       "  width: 60%;\n",
       "}\n",
       "</style>\n",
       "\n",
       "<div class=\"wrapper\">\n",
       "  <div class=\"scrolling-text\">\n",
       "    ░▒▓█▓▒░░▒▓█▓▒░▒▓█▓▒░░▒▓█▓▒░▒▓█▓▒░░░░░░░░▒▓█▓▒░░▒▓██████▓▒░░▒▓█▓▒░░▒▓█▓▒░▒▓████████▓▒░\n",
       "  </div>\n",
       "</div>\n",
       "\n",
       "<div class=\"wrapper\">\n",
       "  <div class=\"scrolling-text\">\n",
       "    ░▒▓█▓▒░░▒▓█▓▒░▒▓█▓▒░░▒▓█▓▒░▒▓█▓▒░░░░░░░░▒▓█▓▒░▒▓█▓▒░░▒▓█▓▒░▒▓█▓▒░░▒▓█▓▒░░░░░▒▓█▓▒░░░░\n",
       "  </div>\n",
       "</div>\n",
       "\n",
       "<div class=\"wrapper\">\n",
       "  <div class=\"scrolling-text\">\n",
       "    ░▒▓█▓▒░░▒▓█▓▒░▒▓█▓▒░░▒▓█▓▒░▒▓█▓▒░░░░░░░░▒▓█▓▒░▒▓█▓▒░░░░░░░░▒▓█▓▒░░▒▓█▓▒░░░░░▒▓█▓▒░░░░\n",
       "  </div>\n",
       "</div>\n",
       "\n",
       "<div class=\"wrapper\">\n",
       "  <div class=\"scrolling-text\">\n",
       "    ░▒▓████████▓▒░░▒▓██████▓▒░░▒▓█▓▒░░░░░░░░▒▓█▓▒░▒▓█▓▒▒▓███▓▒░▒▓████████▓▒░░░░░▒▓█▓▒░░░░\n",
       "  </div>\n",
       "</div>\n",
       "\n",
       "<div class=\"wrapper\">\n",
       "  <div class=\"scrolling-text\">\n",
       "    ░▒▓█▓▒░░▒▓█▓▒░░░░░▒▓█▓▒░░░░▒▓█▓▒░░░░░░░░▒▓█▓▒░▒▓█▓▒░░▒▓█▓▒░▒▓█▓▒░░▒▓█▓▒░░░░░▒▓█▓▒░░░░\n",
       "  </div>\n",
       "</div>\n",
       "\n",
       "<div class=\"wrapper\">\n",
       "  <div class=\"scrolling-text\">\n",
       "    ░▒▓█▓▒░░▒▓█▓▒░░░░░▒▓█▓▒░░░░▒▓█▓▒░░░░░░░░▒▓█▓▒░▒▓█▓▒░░▒▓█▓▒░▒▓█▓▒░░▒▓█▓▒░░░░░▒▓█▓▒░░░░\n",
       "  </div>\n",
       "</div>\n",
       "\n",
       "<div class=\"wrapper\">\n",
       "  <div class=\"scrolling-text\">\n",
       "    ░▒▓█▓▒░░▒▓█▓▒░░░░░▒▓█▓▒░░░░▒▓████████▓▒░▒▓█▓▒░░▒▓██████▓▒░░▒▓█▓▒░░▒▓█▓▒░░░░░▒▓█▓▒░░░░\n",
       "  </div>\n",
       "</div>\n"
      ],
      "text/plain": [
       "<IPython.core.display.HTML object>"
      ]
     },
     "metadata": {},
     "output_type": "display_data"
    }
   ],
   "source": [
    "%%html\n",
    "<style>\n",
    "@keyframes scroll {\n",
    "  0%   { transform: translateX(100%); }\n",
    "  100% { transform: translateX(-100%); }\n",
    "}\n",
    ".scrolling-text {\n",
    "  white-space: nowrap;\n",
    "  display: inline-block;\n",
    "  animation: scroll 6s linear infinite;\n",
    "  font-weight: bold;\n",
    "  color: green;\n",
    "  font-family: \"DejaVu Sans Mono\", \"Courier New\", monospace; /* Force block character font */\n",
    "}\n",
    ".wrapper {\n",
    "  overflow: hidden;\n",
    "  width: 60%;\n",
    "}\n",
    "</style>\n",
    "\n",
    "<div class=\"wrapper\">\n",
    "  <div class=\"scrolling-text\">\n",
    "    ░▒▓█▓▒░░▒▓█▓▒░▒▓█▓▒░░▒▓█▓▒░▒▓█▓▒░░░░░░░░▒▓█▓▒░░▒▓██████▓▒░░▒▓█▓▒░░▒▓█▓▒░▒▓████████▓▒░\n",
    "  </div>\n",
    "</div>\n",
    "\n",
    "<div class=\"wrapper\">\n",
    "  <div class=\"scrolling-text\">\n",
    "    ░▒▓█▓▒░░▒▓█▓▒░▒▓█▓▒░░▒▓█▓▒░▒▓█▓▒░░░░░░░░▒▓█▓▒░▒▓█▓▒░░▒▓█▓▒░▒▓█▓▒░░▒▓█▓▒░░░░░▒▓█▓▒░░░░\n",
    "  </div>\n",
    "</div>\n",
    "\n",
    "<div class=\"wrapper\">\n",
    "  <div class=\"scrolling-text\">\n",
    "    ░▒▓█▓▒░░▒▓█▓▒░▒▓█▓▒░░▒▓█▓▒░▒▓█▓▒░░░░░░░░▒▓█▓▒░▒▓█▓▒░░░░░░░░▒▓█▓▒░░▒▓█▓▒░░░░░▒▓█▓▒░░░░\n",
    "  </div>\n",
    "</div>\n",
    "\n",
    "<div class=\"wrapper\">\n",
    "  <div class=\"scrolling-text\">\n",
    "    ░▒▓████████▓▒░░▒▓██████▓▒░░▒▓█▓▒░░░░░░░░▒▓█▓▒░▒▓█▓▒▒▓███▓▒░▒▓████████▓▒░░░░░▒▓█▓▒░░░░\n",
    "  </div>\n",
    "</div>\n",
    "\n",
    "<div class=\"wrapper\">\n",
    "  <div class=\"scrolling-text\">\n",
    "    ░▒▓█▓▒░░▒▓█▓▒░░░░░▒▓█▓▒░░░░▒▓█▓▒░░░░░░░░▒▓█▓▒░▒▓█▓▒░░▒▓█▓▒░▒▓█▓▒░░▒▓█▓▒░░░░░▒▓█▓▒░░░░\n",
    "  </div>\n",
    "</div>\n",
    "\n",
    "<div class=\"wrapper\">\n",
    "  <div class=\"scrolling-text\">\n",
    "    ░▒▓█▓▒░░▒▓█▓▒░░░░░▒▓█▓▒░░░░▒▓█▓▒░░░░░░░░▒▓█▓▒░▒▓█▓▒░░▒▓█▓▒░▒▓█▓▒░░▒▓█▓▒░░░░░▒▓█▓▒░░░░\n",
    "  </div>\n",
    "</div>\n",
    "\n",
    "<div class=\"wrapper\">\n",
    "  <div class=\"scrolling-text\">\n",
    "    ░▒▓█▓▒░░▒▓█▓▒░░░░░▒▓█▓▒░░░░▒▓████████▓▒░▒▓█▓▒░░▒▓██████▓▒░░▒▓█▓▒░░▒▓█▓▒░░░░░▒▓█▓▒░░░░\n",
    "  </div>\n",
    "</div>"
   ]
  },
  {
   "cell_type": "markdown",
   "id": "4e240b4a-bfdc-4187-83dd-0daa86919d11",
   "metadata": {},
   "source": [
    "In this example, we restrict the hydrogen atom to have 50 levels; the maximum number of levels that is implemented in HyLight is $n_{\\rm max}=150$. Using more levels gives more accurate results, but the initialisation procedure takes longer and the class becomes bigger.\n",
    "\n",
    "**Note: Initialising an HI atom with 100 levels takes 16 GB RAM and 1000 seconds.**\n",
    "\n",
    "**Note: Initialising an HI atom with 10 levels takes 10 GB RAM and 10 seconds.**\n",
    "\n",
    "We impose Case B (on-the-spot) recombinations, and enable both\n",
    "radiative recombinations and collisional excitations from the ground state.\n",
    "\n",
    "Creating the class creates a cache directory in your working directory (you can\n",
    "specify a different cache directory). This directory is used to store the cascade matrix elements so that they don't need to computed everytime the class is invoked."
   ]
  },
  {
   "cell_type": "code",
   "execution_count": 6,
   "id": "2cc62ef3-326e-48df-83d8-f249765ffaf6",
   "metadata": {},
   "outputs": [
    {
     "name": "stdout",
     "output_type": "stream",
     "text": [
      " ░▒▓█▓▒░░▒▓█▓▒░▒▓█▓▒░░▒▓█▓▒░▒▓█▓▒░      ░▒▓█▓▒░░▒▓██████▓▒░░▒▓█▓▒░░▒▓█▓▒░▒▓████████▓▒░ \n",
      " ░▒▓█▓▒░░▒▓█▓▒░▒▓█▓▒░░▒▓█▓▒░▒▓█▓▒░      ░▒▓█▓▒░▒▓█▓▒░░▒▓█▓▒░▒▓█▓▒░░▒▓█▓▒░  ░▒▓█▓▒░     \n",
      " ░▒▓█▓▒░░▒▓█▓▒░▒▓█▓▒░░▒▓█▓▒░▒▓█▓▒░      ░▒▓█▓▒░▒▓█▓▒░      ░▒▓█▓▒░░▒▓█▓▒░  ░▒▓█▓▒░     \n",
      " ░▒▓████████▓▒░░▒▓██████▓▒░░▒▓█▓▒░      ░▒▓█▓▒░▒▓█▓▒▒▓███▓▒░▒▓████████▓▒░  ░▒▓█▓▒░     \n",
      " ░▒▓█▓▒░░▒▓█▓▒░  ░▒▓█▓▒░   ░▒▓█▓▒░      ░▒▓█▓▒░▒▓█▓▒░░▒▓█▓▒░▒▓█▓▒░░▒▓█▓▒░  ░▒▓█▓▒░     \n",
      " ░▒▓█▓▒░░▒▓█▓▒░  ░▒▓█▓▒░   ░▒▓█▓▒░      ░▒▓█▓▒░▒▓█▓▒░░▒▓█▓▒░▒▓█▓▒░░▒▓█▓▒░  ░▒▓█▓▒░     \n",
      " ░▒▓█▓▒░░▒▓█▓▒░  ░▒▓█▓▒░   ░▒▓████████▓▒░▒▓█▓▒░░▒▓██████▓▒░░▒▓█▓▒░░▒▓█▓▒░  ░▒▓█▓▒░     \n",
      "Folder './cache/' already exists.\n",
      "Reading Einstein coefficients from file /cosma/apps/dp004/dc-liu3/venv-python3.12.4/lib/python3.12/site-packages/hylightpy/data/Einstein_As_150.txt\n",
      " ... Read numerical data in time 0.38\n",
      " ... Einstein dictionary pickled to file Einstein_As.pickle\n",
      " ... Imposing caseB (no Lyman-transitions) \n",
      "Recombination rates read and fitted\n",
      "Collisional Excitaion Rates read and fitted\n",
      " ... Cascade matrix: P copied in time 4.21 s\n",
      " ... Cascade matrix: probability matrix computed in time 0.15\n",
      " ... Cascade matrix: transpose of probability matrix computed in time 1.01\n",
      " ... Cascade matrix: matrix initialized (eq. 4.10) in time 0.58\n",
      " ...    Computed level = 50 in time 2.79, len = 49\n",
      " ...    Computed level = 49 in time 2.57, len = 48\n",
      " ...    Computed level = 48 in time 2.32, len = 47\n",
      " ...    Computed level = 47 in time 2.10, len = 46\n",
      " ...    Computed level = 46 in time 1.89, len = 45\n",
      " ...    Computed level = 45 in time 1.78, len = 44\n",
      " ...    Computed level = 44 in time 1.60, len = 43\n",
      " ...    Computed level = 43 in time 1.44, len = 42\n",
      " ...    Computed level = 42 in time 1.31, len = 41\n",
      " ...    Computed level = 41 in time 1.19, len = 40\n",
      " ...    Computed level = 40 in time 1.11, len = 39\n",
      " ...    Computed level = 39 in time 0.98, len = 38\n",
      " ...    Computed level = 38 in time 0.89, len = 37\n",
      " ...    Computed level = 37 in time 0.80, len = 36\n",
      " ...    Computed level = 36 in time 0.73, len = 35\n",
      " ...    Computed level = 35 in time 0.66, len = 34\n",
      " ...    Computed level = 34 in time 0.59, len = 33\n",
      " ...    Computed level = 33 in time 0.53, len = 32\n",
      " ...    Computed level = 32 in time 0.47, len = 31\n",
      " ...    Computed level = 31 in time 0.42, len = 30\n",
      " ...    Computed level = 30 in time 0.37, len = 29\n",
      " ...    Computed level = 29 in time 0.33, len = 28\n",
      " ...    Computed level = 28 in time 0.29, len = 27\n",
      " ...    Computed level = 27 in time 0.25, len = 26\n",
      " ...    Computed level = 26 in time 0.22, len = 25\n",
      " ...    Computed level = 25 in time 0.19, len = 24\n",
      " ...    Computed level = 24 in time 0.16, len = 23\n",
      " ...    Computed level = 23 in time 0.14, len = 22\n",
      " ...    Computed level = 22 in time 0.12, len = 21\n",
      " ...    Computed level = 21 in time 0.10, len = 20\n",
      " ...    Computed level = 20 in time 0.08, len = 19\n",
      " ...    Computed level = 19 in time 0.07, len = 18\n",
      " ...    Computed level = 18 in time 0.06, len = 17\n",
      " ...    Computed level = 17 in time 0.05, len = 16\n",
      " ...    Computed level = 16 in time 0.04, len = 15\n",
      " ...    Computed level = 15 in time 0.03, len = 14\n",
      " ...    Computed level = 14 in time 0.02, len = 13\n",
      " ...    Computed level = 13 in time 0.02, len = 12\n",
      " ...    Computed level = 12 in time 0.01, len = 11\n",
      " ...    Computed level = 11 in time 0.01, len = 10\n",
      " ...    Computed level = 10 in time 0.01, len = 9\n",
      " ...    Computed level = 9 in time 0.01, len = 8\n",
      " ...    Computed level = 8 in time 0.00, len = 7\n",
      " ...    Computed level = 7 in time 0.00, len = 6\n",
      " ...    Computed level = 6 in time 0.00, len = 5\n",
      " ...    Computed level = 5 in time 0.00, len = 4\n",
      " ...    Computed level = 4 in time 0.00, len = 3\n",
      " ...    Computed level = 3 in time 0.00, len = 2\n",
      " ...    Computed level = 2 in time 0.00, len = 1\n",
      " ...    Computed level = 1 in time 0.00, len = 0\n",
      " ... Cascade matrix: calculation finished in time 28.75s\n",
      "Cascade matric elements pickled to file  CascadeC_50_B.pickle\n",
      "Cascade matrix class initialized \n",
      "Class initialized\n"
     ]
    }
   ],
   "source": [
    "HI = hylightpy.HIAtom(nmax = 50, verbose=True, caseB=True,\n",
    "                        recom=True, coll=False, cache_path='./cache/')\n",
    "\n",
    "print(\"Class initialized\")"
   ]
  },
  {
   "cell_type": "markdown",
   "id": "f343ad57-57e5-4699-8b3a-e3169f37cccd",
   "metadata": {},
   "source": [
    "Note that in Case~B, the Lyman transitions are optically thick, hence we force the Einstein $A$ values of the Lyman transitions to be zero.\n",
    "\n",
    "We storeed the Einstein $A$ coefficients in the class. They can be viewed using the following line, where we use the ($n$,$l$) to denote the atomic states."
   ]
  },
  {
   "cell_type": "markdown",
   "id": "dfa3f457-a1ea-4b78-b798-8bb2ee47e9b0",
   "metadata": {},
   "source": [
    "## Line emissivity"
   ]
  },
  {
   "cell_type": "markdown",
   "id": "378fb8a9-38bc-4038-bf59-7ac0e04d3ec9",
   "metadata": {},
   "source": [
    "We specify the electron density, $n_e$, neutral hydrogen density, $n_{\\rm HI}$, proton density, $n_{\\rm HII}$, and the temperature of the gas.\n",
    "\n",
    "The we specify the upper and lower transition of interest. For example for H$\\beta$, $n_{\\rm upper}=4$ and $n_{\\rm lower}=2$. The $n$'s are the principle quantum number. When we compute the {\\it level} population, we additionally need to specify $l$, the angular momentum quantum number.\n",
    "\n",
    "In the following example, we set $n_e$ and $n_{\\rm HII}$ to 100 cm$^{-3}$ and the $n_{\\rm HI}$ to 10$^{-5}$ cm$^{-3}$. As an example, we calculate the 3$\\to$ 2 transition (Balmer $\\alpha$) at 10$^4$ K.\n",
    "\n",
    "We utilise the unyt package to specify input and output units"
   ]
  },
  {
   "cell_type": "code",
   "execution_count": 9,
   "id": "b5826d5e-65db-4aaa-81b3-2bd611f61b96",
   "metadata": {},
   "outputs": [],
   "source": [
    "import unyt"
   ]
  },
  {
   "cell_type": "code",
   "execution_count": 10,
   "id": "4cdaed55-edab-46e2-ae37-8c7d79c2a5e1",
   "metadata": {},
   "outputs": [
    {
     "name": "stdout",
     "output_type": "stream",
     "text": [
      "Gas properties: n_e=1.00e+02 cm**(-3), nHII=1.00e+02 cm**(-3), n_HI=1.00e-05 cm**(-3), T=1.00e+04 K\n"
     ]
    }
   ],
   "source": [
    "# set the parameters for the gas\n",
    "ne     = unyt.array.unyt_array([1e2], 'cm**(-3)')\n",
    "nHII   = unyt.array.unyt_array([1e2], 'cm**(-3)')\n",
    "nHI    = unyt.array.unyt_array([1e-5], 'cm**(-3)')\n",
    "temp   = unyt.array.unyt_array([1e4], 'K')\n",
    "nupper = 3\n",
    "nlower = 2\n",
    "print(r\"Gas properties: n_e={0:1.2e}, nHII={1:1.2e}, n_HI={2:1.2e}, T={3:1.2e}\".format(ne[0], nHII[0], nHI[0], temp[0]))"
   ]
  },
  {
   "cell_type": "code",
   "execution_count": 11,
   "id": "45e4edcc-00a1-4c43-8a71-345ad021fa62",
   "metadata": {},
   "outputs": [
    {
     "name": "stdout",
     "output_type": "stream",
     "text": [
      "Emissivity in the n=3 to n=2 line is 3.451e-21 erg/(cm**3*s)\n"
     ]
    }
   ],
   "source": [
    "# Compute the total line emissivity\n",
    "eps = HI.get_emissivity(ne=ne, nHII=nHII, nHI=nHI, temp=temp, nupper=nupper, nlower=nlower)\n",
    "print(\"Emissivity in the n={0:1d} to n={1:1d} line is {2:1.3e}\".format(nupper, nlower, eps[0]))"
   ]
  },
  {
   "cell_type": "markdown",
   "id": "d603dcd0-a192-418d-9f40-c9292b38d81a",
   "metadata": {},
   "source": [
    "To check the line emissivity, we can verify the result by calculating the level population first and then obtain the line emissivity from the level popualtion. "
   ]
  },
  {
   "cell_type": "code",
   "execution_count": 12,
   "id": "a1f90058-9d4d-4e42-bf17-8c2b5c094418",
   "metadata": {},
   "outputs": [
    {
     "name": "stdout",
     "output_type": "stream",
     "text": [
      "Level population of 3p state is 1.64e-17 cm**(-3)\n"
     ]
    }
   ],
   "source": [
    "levelpop = HI.compute_level_pop(nHII=nHII,\n",
    "                                ne=ne,\n",
    "                                nHI=nHI,\n",
    "                                temp=temp,\n",
    "                                n=3, l=1)\n",
    "\n",
    "print('Level population of 3p state is {0:1.2e}'.format(levelpop[0]))"
   ]
  },
  {
   "cell_type": "code",
   "execution_count": 13,
   "id": "f860c0c6-f432-4ce1-bfd9-459696c9678b",
   "metadata": {},
   "outputs": [
    {
     "name": "stdout",
     "output_type": "stream",
     "text": [
      "Emissivity in the n=3 to n=2 line is 3.451e-21 erg/cm**3\n"
     ]
    }
   ],
   "source": [
    "# deterine the level population of the the upper level\n",
    "nup = {}\n",
    "for i, lupper in enumerate(np.arange(0, nupper, 1)):\n",
    "  nup[i] = HI.compute_level_pop(ne=ne, nHII=nHII, nHI=nHI, temp=temp, n=nupper, l=i)\n",
    "\n",
    "# and use this, together with teh Einsteiun coefficient, to again compute the emissivity\n",
    "emis = 0\n",
    "hnu = (HI.Eion).in_units('erg') * (1./nlower**2 - 1./nupper**2)\n",
    "for i, lupper in enumerate(np.arange(0, nupper, 1)):\n",
    "  for j, llower in enumerate(np.arange(0, nlower, 1)):\n",
    "    emis += nup[i] * HI.A[(nupper, lupper)][(nlower, llower)] * hnu\n",
    "    #print(lupper, llower, HI.A[(nupper, lupper)][(nlower, llower)], emis)\n",
    "\n",
    "print(\"Emissivity in the n={0:1d} to n={1:1d} line is {2:1.3e}\".format(nupper, nlower, emis[0]))"
   ]
  },
  {
   "cell_type": "markdown",
   "id": "9fa1c42e-f472-4ae9-81e0-6092259a273d",
   "metadata": {},
   "source": [
    "They agree !!!"
   ]
  },
  {
   "cell_type": "markdown",
   "id": "7c0f98e8-87b9-40af-b1b1-1d74ea5c7c6f",
   "metadata": {},
   "source": [
    "## Temperature dependence of line emissivity"
   ]
  },
  {
   "cell_type": "markdown",
   "id": "85e46a12-762d-495a-80d6-f6f3e4a45799",
   "metadata": {},
   "source": [
    "In the following plot, we plot the H$\\alpha$ emissivity (scaled by $n_e n_p$) as a function of temperature. The temperature dependence in this case comes largely from the weak dependence of recombination coeffcient on temperature."
   ]
  },
  {
   "cell_type": "code",
   "execution_count": 14,
   "id": "2bd3b4a1-7067-4631-961f-ff1541b8ecc0",
   "metadata": {},
   "outputs": [],
   "source": [
    "ne   = [1e2, 1e2, 1e2, 1e2, 1e2, 1e2] * unyt.unyt_array(1, 'cm**(-3)')\n",
    "nHII = [1e2, 1e2, 1e2, 1e2, 1e2, 1e2] * unyt.unyt_array(1, 'cm**(-3)')\n",
    "nHI  = [1e-5, 1e-5, 1e-5, 1e-5, 1e-5, 1e-5] * unyt.unyt_array(1, 'cm**(-3)')\n",
    "temp = [1e2, 10**(2.5), 1e3, 10**(3.5), 1e4, 10**(4.5)] * unyt.unyt_array(1, 'K')\n",
    "\n",
    "eps_32 = np.zeros(len(ne))\n",
    "eps_32 = HI.get_emissivity(ne=ne, nHII=nHII,\n",
    "                           nHI=nHI,\n",
    "                           temp=temp,\n",
    "                           nupper=3, nlower=2)\n",
    "\n",
    "eps_scaling = eps_32 / (ne * nHII)"
   ]
  },
  {
   "cell_type": "code",
   "execution_count": 15,
   "id": "cdf402dc-1c27-484d-aaae-881ac03a941f",
   "metadata": {},
   "outputs": [
    {
     "data": {
      "image/png": "[encoded data removed]",
      "text/plain": [
       "<Figure size 400x400 with 1 Axes>"
      ]
     },
     "metadata": {},
     "output_type": "display_data"
    }
   ],
   "source": [
    "fig, ax = plt.subplots(1, 1, figsize=(4, 4))\n",
    "\n",
    "ax.plot(np.log10(temp.value), np.log10(eps_scaling), color='#FF1F5B', marker='o', linestyle='-', markersize=2)\n",
    "\n",
    "ax.set_yscale('linear')\n",
    "ax.set_xscale('linear')\n",
    "ax.set_xlabel(r'log $T$ [K]')\n",
    "ax.set_ylabel(r'log $\\frac{\\epsilon}{n_e n_p}$')\n",
    "ax.set_xlim(1, 5)\n",
    "ax.tick_params(axis=\"y\",direction=\"in\")\n",
    "ax.tick_params(axis=\"x\",direction=\"in\")"
   ]
  },
  {
   "cell_type": "markdown",
   "id": "38379103-66b6-43ca-a2e4-bce934e07a45",
   "metadata": {},
   "source": [
    "Similarly, for H$\\beta$, we have"
   ]
  },
  {
   "cell_type": "code",
   "execution_count": 17,
   "id": "612cf7c3-303a-47ca-ad27-5c76754a97c5",
   "metadata": {},
   "outputs": [
    {
     "data": {
      "image/png": "[encoded data removed]",
      "text/plain": [
       "<Figure size 400x400 with 1 Axes>"
      ]
     },
     "metadata": {},
     "output_type": "display_data"
    }
   ],
   "source": [
    "ne   = [1e2, 1e2, 1e2, 1e2, 1e2, 1e2] * unyt.unyt_array(1, 'cm**(-3)')\n",
    "nHII = [1e2, 1e2, 1e2, 1e2, 1e2, 1e2] * unyt.unyt_array(1, 'cm**(-3)')\n",
    "nHI  = [1e-5, 1e-5, 1e-5, 1e-5, 1e-5, 1e-5] * unyt.unyt_array(1, 'cm**(-3)')\n",
    "temp = [1e2, 10**(2.5), 1e3, 10**(3.5), 1e4, 10**(4.5)] * unyt.unyt_array(1, 'K')\n",
    "\n",
    "eps_42 = np.zeros(len(ne))\n",
    "eps_42 = HI.get_emissivity(ne=ne, nHII=nHII,\n",
    "                           nHI=nHI,\n",
    "                           temp=temp,\n",
    "                           nupper=4, nlower=2)\n",
    "\n",
    "eps_scaling = eps_42 / (ne * nHII)\n",
    "\n",
    "fig, ax = plt.subplots(1, 1, figsize=(4, 4))\n",
    "\n",
    "ax.plot(np.log10(temp.value), np.log10(eps_scaling), color='#FF1F5B', marker='o', linestyle='-', markersize=2)\n",
    "\n",
    "ax.set_yscale('linear')\n",
    "ax.set_xscale('linear')\n",
    "ax.set_xlabel(r'log $T$ [K]')\n",
    "ax.set_ylabel(r'log $\\frac{\\epsilon}{n_e n_p}$')\n",
    "ax.set_xlim(1, 5)\n",
    "ax.tick_params(axis=\"y\",direction=\"in\")\n",
    "ax.tick_params(axis=\"x\",direction=\"in\")"
   ]
  },
  {
   "cell_type": "code",
   "execution_count": null,
   "id": "fbd568b1-0ca9-4d15-a553-ce0f5171fa0b",
   "metadata": {},
   "outputs": [],
   "source": []
  },
  {
   "cell_type": "code",
   "execution_count": null,
   "id": "21e3aab4-0d54-4e66-83c8-3e51187db757",
   "metadata": {},
   "outputs": [],
   "source": []
  },
  {
   "cell_type": "markdown",
   "id": "3da8410b-8f4b-43e9-a447-6b45a7f0cf3d",
   "metadata": {},
   "source": [
    "The emissivity actually scales nicely with $n_e n_p$ (see Liu et al. 2025). See the following example. For a given temperature, we vary the density of hydrogen gas and assume the gas is fully ionised ($n_e \\approx n_p$). "
   ]
  },
  {
   "cell_type": "code",
   "execution_count": 34,
   "id": "4f39031d-9445-49a6-ab82-b801f38db231",
   "metadata": {},
   "outputs": [],
   "source": [
    "ne   = [1e-1, 1e0, 1e1, 1e2, 1e3] * unyt.unyt_array(1, 'cm**(-3)')\n",
    "nHII = [1e-1, 1e0, 1e1, 1e2, 1e3] * unyt.unyt_array(1, 'cm**(-3)')\n",
    "nHI  = [1e-5, 1e-5, 1e-5, 1e-5, 1e-5] * unyt.unyt_array(1, 'cm**(-3)')\n",
    "temp = [1e4, 1e4, 1e4, 1e4, 1e4] * unyt.unyt_array(1, 'K')\n",
    "\n",
    "eps  = np.zeros(len(ne))\n",
    "eps  = HI.get_emissivity(ne=ne, nHII=nHII,\n",
    "                         nHI=nHI,\n",
    "                         temp=temp,\n",
    "                         nupper=3, nlower=2)\n",
    "\n",
    "eps_scaling = eps / (ne * nHII)"
   ]
  },
  {
   "cell_type": "code",
   "execution_count": 36,
   "id": "9586f951-325d-4871-b49d-0d492ef6b3ab",
   "metadata": {},
   "outputs": [
    {
     "data": {
      "image/png": "[encoded data removed]",
      "text/plain": [
       "<Figure size 400x400 with 1 Axes>"
      ]
     },
     "metadata": {},
     "output_type": "display_data"
    }
   ],
   "source": [
    "fig, ax = plt.subplots(1, 1, figsize=(4, 4))\n",
    "\n",
    "ax.plot(np.log10(ne.value), np.log10(eps_scaling), color='#FF1F5B', marker='o', linestyle='-', markersize=2)\n",
    "\n",
    "ax.set_yscale('linear')\n",
    "ax.set_xscale('linear')\n",
    "ax.set_xlabel(r'log $T$ [K]')\n",
    "ax.set_ylabel(r'log $\\frac{\\epsilon}{n_e n_p}$')\n",
    "ax.set_xlim(-1.5, 3.5)\n",
    "ax.tick_params(axis=\"y\",direction=\"in\")\n",
    "ax.tick_params(axis=\"x\",direction=\"in\")"
   ]
  },
  {
   "cell_type": "markdown",
   "id": "a30969c8-b1d2-4425-83e1-527ba8140172",
   "metadata": {},
   "source": [
    "### Temperature dependence of the level population"
   ]
  },
  {
   "cell_type": "markdown",
   "id": "08f243d6-2326-4737-8d9a-a52170f62291",
   "metadata": {},
   "source": [
    "We demonstrate the temperature dependence of level popualtion 3$s$ in the following example. "
   ]
  },
  {
   "cell_type": "code",
   "execution_count": 18,
   "id": "af656c70-933d-44dc-9b76-8e325ac501d4",
   "metadata": {},
   "outputs": [
    {
     "name": "stderr",
     "output_type": "stream",
     "text": [
      "/tmp/ipykernel_2557541/3466169637.py:6: DeprecationWarning: Conversion of an array with ndim > 0 to a scalar is deprecated, and will error in future. Ensure you extract a single element from your array before performing this operation. (Deprecated NumPy 1.25.)\n",
      "  levelpop[i] = HI.compute_level_pop(ne=unyt.array.unyt_array([1e2], 'cm**(-3)'),\n"
     ]
    }
   ],
   "source": [
    "n = 3\n",
    "l = 0\n",
    "logT_list = [1, 1.5, 2, 2.5, 3, 3.5, 4, 4.5, 5]\n",
    "levelpop = np.zeros_like(logT_list, dtype=float)\n",
    "for i, logT in enumerate(logT_list):\n",
    "    levelpop[i] = HI.compute_level_pop(ne=unyt.array.unyt_array([1e2], 'cm**(-3)'), \n",
    "                                       nHI=unyt.array.unyt_array([1e2], 'cm**(-3)'),\n",
    "                                       nHII=unyt.array.unyt_array([1e2], 'cm**(-3)'), \n",
    "                                       temp=unyt.array.unyt_array([10**logT], 'K'), \n",
    "                                       n=3, l=0)"
   ]
  },
  {
   "cell_type": "code",
   "execution_count": 19,
   "id": "f7c93e77-3789-4aef-b8f9-e102d49aebdb",
   "metadata": {},
   "outputs": [
    {
     "data": {
      "image/png": "[encoded data removed]",
      "text/plain": [
       "<Figure size 400x400 with 1 Axes>"
      ]
     },
     "metadata": {},
     "output_type": "display_data"
    }
   ],
   "source": [
    "fig, ax = plt.subplots(1, 1, figsize=(4, 4))\n",
    "\n",
    "ax.plot(logT_list, np.log10(levelpop), color='#FF1F5B', marker='o', linestyle='-', markersize=2)\n",
    "\n",
    "ax.set_yscale('linear')\n",
    "ax.set_xscale('linear')\n",
    "ax.set_xlabel(r'log $T$ [K]')\n",
    "ax.set_ylabel(r'log $n_{3s}$ [cm$^{-3}$]')\n",
    "ax.set_xlim(1, 5)\n",
    "ax.tick_params(axis=\"y\",direction=\"in\")\n",
    "ax.tick_params(axis=\"x\",direction=\"in\")"
   ]
  },
  {
   "cell_type": "markdown",
   "id": "d5687179-8a57-4883-8361-f06110bb5e89",
   "metadata": {},
   "source": [
    "## Recombination rate coefficients"
   ]
  },
  {
   "cell_type": "code",
   "execution_count": 20,
   "id": "43e9895b-d3a9-4fee-af6c-375e84b97d76",
   "metadata": {},
   "outputs": [],
   "source": [
    "import importlib"
   ]
  },
  {
   "cell_type": "code",
   "execution_count": 21,
   "id": "08089c93-a108-4fad-90b7-27912b4129e0",
   "metadata": {},
   "outputs": [],
   "source": [
    "fpath = importlib.resources.files('hylightpy.data').joinpath('h_iso_recomb_HI_150.dat')\n",
    "recom_dict = HI.read_recombination_rates(fname=fpath)"
   ]
  },
  {
   "cell_type": "code",
   "execution_count": 22,
   "id": "bc76374c-fcb4-40e9-a049-40b7b6bcd49e",
   "metadata": {},
   "outputs": [],
   "source": [
    "logTs = recom_dict['LogTs']\n",
    "alpha_nl = recom_dict['recom_data']"
   ]
  },
  {
   "cell_type": "markdown",
   "id": "eb399d23-81ea-4ab0-a5ad-fa48195ce3a8",
   "metadata": {},
   "source": [
    "### Temperature-dependence of the total recombination rate coefficent"
   ]
  },
  {
   "cell_type": "code",
   "execution_count": 48,
   "id": "f59df942-54cf-41f2-bf02-bbf3afd4e446",
   "metadata": {},
   "outputs": [
    {
     "data": {
      "image/png": "[encoded data removed]",
      "text/plain": [
       "<Figure size 333.333x300 with 1 Axes>"
      ]
     },
     "metadata": {},
     "output_type": "display_data"
    }
   ],
   "source": [
    "fig, ax = plt.subplots(1, 1, figsize=(10/3, 3))\n",
    "\n",
    "# index 0 gives the total recombination rate\n",
    "ax.plot(logTs, alpha_nl.iloc[0, 2: 43], color='k', linestyle='-', marker='>')\n",
    "\n",
    "\n",
    "ax.set_yscale('linear')\n",
    "ax.set_xscale('linear')\n",
    "ax.set_xlabel(r'log $T$ [K]')\n",
    "ax.set_ylabel(r'log $\\alpha$ [cm$^{3} \\, s^{-1}$]')\n",
    "ax.set_xlim(1, 7)\n",
    "ax.set_ylim(-16, -10)\n",
    "ax.tick_params(axis=\"y\",direction=\"in\")\n",
    "ax.tick_params(axis=\"x\",direction=\"in\")"
   ]
  },
  {
   "cell_type": "markdown",
   "id": "dfd78732-e853-4071-8b83-cb341bc4e6c9",
   "metadata": {},
   "source": [
    "### Temperature-dependence of the recombination rate coefficent of a specific state"
   ]
  },
  {
   "cell_type": "markdown",
   "id": "ad4107a7-8e5d-446c-85e4-8298a18084d2",
   "metadata": {},
   "source": [
    "The followng function calculates the index of a specific level in the recombination table. "
   ]
  },
  {
   "cell_type": "code",
   "execution_count": 49,
   "id": "b518a411-8f15-4753-87be-3db5f59e66c2",
   "metadata": {},
   "outputs": [],
   "source": [
    "def get_l_level_index(n=1, l=0):\n",
    "    assert type(n) == int and type(l) == int, 'n and l must be intergers.'\n",
    "    assert n >= 1, 'Princuple quantum number can not be smaller than 1.'\n",
    "    assert l < n and l >= 0, 'Angular momentum must be positive and smalled than principle quantum number.'\n",
    "    \n",
    "    il = 0\n",
    "    for j in np.arange(1, n):\n",
    "        il = il + j \n",
    "    il = il + l + 1 # count the l level at current n level, l start from 0\n",
    "    \n",
    "    return il"
   ]
  },
  {
   "cell_type": "markdown",
   "id": "0da13f25-b5de-448b-a1e7-a2ae8d0e90c2",
   "metadata": {},
   "source": [
    "For example, for level 3$s$, the index is 4:"
   ]
  },
  {
   "cell_type": "code",
   "execution_count": 50,
   "id": "1fcf88e9-74d7-45d6-94a1-e04803f999c4",
   "metadata": {},
   "outputs": [
    {
     "data": {
      "text/plain": [
       "np.int64(4)"
      ]
     },
     "execution_count": 50,
     "metadata": {},
     "output_type": "execute_result"
    }
   ],
   "source": [
    "get_l_level_index(n=3, l=0)"
   ]
  },
  {
   "cell_type": "markdown",
   "id": "e615b9d2-dcf5-43c8-b05d-bb484a490f8a",
   "metadata": {},
   "source": [
    "Hence, the temperature-dependence of the recombination rate coefficient $\\alpha_{3,0}$ looks like:"
   ]
  },
  {
   "cell_type": "code",
   "execution_count": 51,
   "id": "02255e01-4673-457f-acc0-cf56e982d891",
   "metadata": {},
   "outputs": [
    {
     "data": {
      "image/png": "[encoded data removed]",
      "text/plain": [
       "<Figure size 333.333x300 with 1 Axes>"
      ]
     },
     "metadata": {},
     "output_type": "display_data"
    }
   ],
   "source": [
    "fig, ax = plt.subplots(1, 1, figsize=(10/3, 3))\n",
    "\n",
    "# index 4 gives alpha_{3s}\n",
    "ax.plot(logTs, alpha_nl.iloc[4, 2: 43], color='blue', linestyle='-', marker='>')\n",
    "\n",
    "\n",
    "ax.set_yscale('linear')\n",
    "ax.set_xscale('linear')\n",
    "ax.set_xlabel(r'log $T$ [K]')\n",
    "ax.set_ylabel(r'log $\\alpha_{3s}$ [cm$^{3} \\, s^{-1}$]')\n",
    "ax.set_xlim(1, 7)\n",
    "ax.set_ylim(-16, -10)\n",
    "ax.tick_params(axis=\"y\",direction=\"in\")\n",
    "ax.tick_params(axis=\"x\",direction=\"in\")"
   ]
  },
  {
   "cell_type": "code",
   "execution_count": null,
   "id": "b4ad865c-4681-41c2-9091-2f1a448923b2",
   "metadata": {},
   "outputs": [],
   "source": []
  }
 ],
 "metadata": {
  "kernelspec": {
   "display_name": "Python 3.12.4 virtual environment",
   "language": "python",
   "name": "python3.12.4-env"
  },
  "language_info": {
   "codemirror_mode": {
    "name": "ipython",
    "version": 3
   },
   "file_extension": ".py",
   "mimetype": "text/x-python",
   "name": "python",
   "nbconvert_exporter": "python",
   "pygments_lexer": "ipython3",
   "version": "3.12.4"
  }
 },
 "nbformat": 4,
 "nbformat_minor": 5
}
