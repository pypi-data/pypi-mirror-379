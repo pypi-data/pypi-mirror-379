{
 "cells": [
  {
   "cell_type": "markdown",
   "id": "a9ac2491-124b-4032-8a58-70b9613841c8",
   "metadata": {},
   "source": [
    "# Sample quality control"
   ]
  },
  {
   "cell_type": "code",
   "execution_count": 1,
   "id": "5ed7cef2-9031-47e1-8d51-6191baba5cd2",
   "metadata": {},
   "outputs": [],
   "source": [
    "from pylluminator.samples import Samples\n",
    "from pylluminator.utils import set_logger\n",
    "from pylluminator.annotations import Channel\n",
    "from pylluminator.quality_control import *\n",
    "\n",
    "import matplotlib.pyplot as plt\n",
    "import pandas as pd\n",
    "\n",
    "set_logger('WARNING')  # set the verbosity level, can be DEBUG, INFO, WARNING, ERROR"
   ]
  },
  {
   "cell_type": "markdown",
   "id": "3a036692-253f-40db-b5c0-dab9007db71b",
   "metadata": {},
   "source": [
    "## Load pylluminator Samples\n",
    "\n",
    "We assume that you have already processed the .idat files according to your preferences and saved them. If not, please refer to notebook `1 - Read data and get beta values` before going any further."
   ]
  },
  {
   "cell_type": "code",
   "execution_count": 2,
   "id": "0170564a-0d57-4cd5-8c5e-5d779dd1bb78",
   "metadata": {},
   "outputs": [
    {
     "data": {
      "text/plain": [
       "Samples object with 6 samples: PREC_500_3, LNCAP_500_1, LNCAP_500_3, PREC_500_1, LNCAP_500_2, PREC_500_2\n",
       "EPICv2 array - genome version hg38\n",
       "937,688 probes"
      ]
     },
     "execution_count": 2,
     "metadata": {},
     "output_type": "execute_result"
    }
   ],
   "source": [
    "my_samples = Samples.load('preprocessed_samples')\n",
    "my_samples"
   ]
  },
  {
   "cell_type": "markdown",
   "id": "361773da-c388-4f3b-84de-f1a83e073b55",
   "metadata": {},
   "source": [
    "## Chose a sample and print QCs"
   ]
  },
  {
   "cell_type": "code",
   "execution_count": 3,
   "id": "00eb6ccd-4987-4d84-ae25-c8c010d512a4",
   "metadata": {},
   "outputs": [
    {
     "name": "stdout",
     "output_type": "stream",
     "text": [
      "\n",
      "===================================================================\n",
      "|  Detection - mask not applied\n",
      "===================================================================\n",
      "\n",
      "N. Probes w/ Missing Raw Intensity                      2\n",
      "% Probes w/ Missing Raw Intensity                       0.00 %\n",
      "N. Probes w/ Detection Success                          868,970\n",
      "% Detection Success                                     92.67 %\n",
      "\n",
      "N. cg probes                                            933,252\n",
      "N. Probes w/ Detection Success cg                       865,590\n",
      "% Detection Success cg                                  92.75 %\n",
      "\n",
      "N. ch probes                                            2,914\n",
      "N. Probes w/ Detection Success ch                       2,556\n",
      "% Detection Success ch                                  87.71 %\n",
      "\n",
      "N. snp probes                                           65\n",
      "N. Probes w/ Detection Success snp                      65\n",
      "% Detection Success snp                                 100.00 %\n",
      "\n",
      "===================================================================\n",
      "|  Signal intensity - mask not applied\n",
      "===================================================================\n",
      "\n",
      "Mean in-band signal intensity                           2493.53\n",
      "Mean in-band signal intensity (M+U)                     4983.86\n",
      "Mean in-band type II signal intensity                   2369.25\n",
      "Mean in-band type I Red signal intensity                3291.97\n",
      "Mean in-band type I Green signal intensity              3252.37\n",
      "Mean out-of-band type I Red signal intensity            224.91\n",
      "Mean out-of-band type I Green signal intensity          253.78\n",
      "Number of NAs in Methylated signal                      4,610\n",
      "Number of NAs in Unmethylated signal                    4,600\n",
      "Number of NAs in Type 1 Red signal                      1,498\n",
      "Number of NAs in Type 1 Green signal                    932\n",
      "Number of NAs in Type 2 signal                          6,780\n",
      "-- note : these NA values don't count probes that don't appear in .idat files; these are only counted in the `Detection - missing raw intensity` QC line\n",
      "\n",
      "===================================================================\n",
      "|  Number of probes - mask not applied\n",
      "===================================================================\n",
      "\n",
      "Total :                                                 937,688\n",
      "Type II :                                               809,393\n",
      "Type I Green :                                          45,146\n",
      "Type I Red :                                            83,149\n",
      "CG :                                                    933,252\n",
      "CH :                                                    2,914\n",
      "SNP :                                                   65\n",
      "\n",
      "===================================================================\n",
      "|  LNCAP_500_3 Type I color channel - mask not applied\n",
      "===================================================================\n",
      "\n",
      "Green to Green :                                        45,127\n",
      "Green to Red :                                          19\n",
      "Red to Red :                                            82,675\n",
      "Red to Green :                                          474\n",
      "\n",
      "===================================================================\n",
      "|  Dye bias - mask not applied\n",
      "===================================================================\n",
      "\n",
      "Median Inf type I red channel intensity                 6539.15\n",
      "Median Inf type I green channel intensity               6442.99\n",
      "Median of top 20 Inf type I red channel intensity       29925.84\n",
      "Median of top 20 Inf type I green channel intensity     22177.29\n",
      "Ratio of Red-to-green median intensities                1.01\n",
      "Ratio of top vs global Red-to-green median intensities  1.33\n",
      "\n",
      "===================================================================\n",
      "|  Betas - mask not applied\n",
      "===================================================================\n",
      "\n",
      "Mean                                                    0.53\n",
      "Median                                                  0.62\n",
      "Unmethylated fraction (beta values < 0.3)               36.76 %\n",
      "Methylated fraction (beta values > 0.7)                 45.94 %\n",
      "Number of NAs                                           103,010\n",
      "Fraction of NAs                                         10.99 %\n",
      "------ cg probes ------\n",
      "Mean                                                    0.54\n",
      "Median                                                  0.62\n",
      "Unmethylated fraction (beta values < 0.3)               36.54 %\n",
      "Methylated fraction (beta values > 0.7)                 46.09 %\n",
      "Number of NAs                                           101,788\n",
      "Fraction of NAs                                         10.91 %\n",
      "------ ch probes ------\n",
      "Mean                                                    0.04\n",
      "Median                                                  0.03\n",
      "Unmethylated fraction (beta values < 0.3)               99.87 %\n",
      "Methylated fraction (beta values > 0.7)                 0.00 %\n",
      "Number of NAs                                           522\n",
      "Fraction of NAs                                         17.91 %\n",
      "------ snp probes ------\n",
      "Mean                                                    0.48\n",
      "Median                                                  0.51\n",
      "Unmethylated fraction (beta values < 0.3)               36.92 %\n",
      "Methylated fraction (beta values > 0.7)                 32.31 %\n",
      "Number of NAs                                           0\n",
      "Fraction of NAs                                         0.00 %\n"
     ]
    }
   ],
   "source": [
    "sample_name = 'LNCAP_500_3'\n",
    "detection_stats(my_samples, sample_name)\n",
    "intensity_stats(my_samples, sample_name)\n",
    "nb_probes_stats(my_samples, sample_name)\n",
    "type1_color_channels_stats(my_samples, sample_name)\n",
    "dye_bias_stats(my_samples, sample_name)\n",
    "betas_stats(my_samples, sample_name)"
   ]
  },
  {
   "cell_type": "markdown",
   "id": "fc19e3c4-e208-4b65-a45a-e100bb3f1256",
   "metadata": {},
   "source": [
    "## Plot the number of beads per probe"
   ]
  },
  {
   "cell_type": "markdown",
   "id": "312542d6-00b4-49a2-8d22-f2738d43378e",
   "metadata": {},
   "source": [
    "This will work only if you have kept the .idat data when reading the samples (parameter `keep_idat=True`)"
   ]
  },
  {
   "cell_type": "code",
   "execution_count": 4,
   "id": "aad3e01b-35fe-46c0-9e9b-6ab72f3ed9d5",
   "metadata": {},
   "outputs": [
    {
     "data": {
      "text/plain": [
       "Text(0, 0.5, 'Probes count')"
      ]
     },
     "execution_count": 4,
     "metadata": {},
     "output_type": "execute_result"
    },
    {
     "data": {
      "image/png": "[encoded data removed]",
      "text/plain": [
       "<Figure size 1000x700 with 1 Axes>"
      ]
     },
     "metadata": {},
     "output_type": "display_data"
    }
   ],
   "source": [
    "count_beads = my_samples.idata[sample_name][Channel.RED].groupby('n_beads').count()\n",
    "\n",
    "# don't display the (very) long tail of the graph, stop at the last bin that contains at least 5 probes\n",
    "five_probes_min = count_beads[count_beads.mean_value > 5]\n",
    "max_more_than_five_probe = five_probes_min.index.max()\n",
    "\n",
    "# plot\n",
    "plt.figure(figsize=(10, 7))\n",
    "plt.bar(five_probes_min.index, five_probes_min['std_dev'])\n",
    "plt.xlabel('Number of detected beads per probe')\n",
    "plt.ylabel('Probes count')"
   ]
  }
 ],
 "metadata": {
  "kernelspec": {
   "display_name": "pylluminator",
   "language": "python",
   "name": "python3"
  },
  "language_info": {
   "codemirror_mode": {
    "name": "ipython",
    "version": 3
   },
   "file_extension": ".py",
   "mimetype": "text/x-python",
   "name": "python",
   "nbconvert_exporter": "python",
   "pygments_lexer": "ipython3",
   "version": "3.13.7"
  }
 },
 "nbformat": 4,
 "nbformat_minor": 5
}
