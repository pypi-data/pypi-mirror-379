{
 "cells": [
  {
   "cell_type": "markdown",
   "id": "8358e29c",
   "metadata": {},
   "source": [
    "# Examples\n",
    "\n",
    "The following examples show how to use the loader APIs:"
   ]
  },
  {
   "cell_type": "markdown",
   "id": "49492847",
   "metadata": {},
   "source": [
    "## 1.1 Parsing a Workflow\n",
    "\n",
    "This sample shows how to read a CWL document from a remote public URL:"
   ]
  },
  {
   "cell_type": "code",
   "execution_count": null,
   "id": "f5976049",
   "metadata": {},
   "outputs": [],
   "source": [
    "from cwl_loader import load_cwl_from_location\n",
    "\n",
    "cwl_document = load_cwl_from_location('https://github.com/eoap/zarr-cloud-native-format/releases/download/0.3.0/app-water-bodies.0.3.0.cwl')"
   ]
  },
  {
   "cell_type": "markdown",
   "id": "3acc5f44",
   "metadata": {},
   "source": [
    "## 1.2 Serializing\n",
    "\n",
    "This sample shows how to write a CWL document to a stream (string, file, ...):"
   ]
  },
  {
   "cell_type": "code",
   "execution_count": null,
   "id": "0c16376b",
   "metadata": {},
   "outputs": [],
   "source": [
    "from cwl_loader import dump_cwl\n",
    "import sys\n",
    "\n",
    "dump_cwl(process=cwl_document, stream=sys.stderr)"
   ]
  },
  {
   "cell_type": "markdown",
   "id": "54cbfb50",
   "metadata": {},
   "source": [
    "## 1.3 Obtaining a dictionary\n",
    "\n",
    "Probably users need a plain dictionary to add it inside another document, just invoke: "
   ]
  },
  {
   "cell_type": "code",
   "execution_count": null,
   "id": "d35b9a9a",
   "metadata": {},
   "outputs": [],
   "source": [
    "document_dict = dump_cwl(process=cwl_document)\n",
    "\n",
    "import yaml\n",
    "yaml.dump(\n",
    "    document_dict,\n",
    "    stream=sys.stdout,\n",
    "    sort_keys=False\n",
    ")"
   ]
  },
  {
   "cell_type": "markdown",
   "id": "8158ae83",
   "metadata": {},
   "source": [
    "## 2.1 Parsing a CommandLineTool\n",
    "\n",
    "This sample shows how to read a CWL document from a remote public URL:"
   ]
  },
  {
   "cell_type": "code",
   "execution_count": null,
   "id": "ad407a1e",
   "metadata": {},
   "outputs": [],
   "source": [
    "cwl_document = load_cwl_from_location('https://raw.githubusercontent.com/eoap/application-package-patterns/refs/heads/main/templates/stage-in-file.cwl')"
   ]
  },
  {
   "cell_type": "markdown",
   "id": "1b336fba",
   "metadata": {},
   "source": [
    "## 2.2 Serializing\n",
    "\n",
    "This sample shows how to write a CWL document to a stream (string, file, ...):"
   ]
  },
  {
   "cell_type": "code",
   "execution_count": null,
   "id": "169b3318",
   "metadata": {},
   "outputs": [],
   "source": [
    "dump_cwl(process=cwl_document, stream=sys.stderr)"
   ]
  },
  {
   "cell_type": "markdown",
   "id": "8f1be80d",
   "metadata": {},
   "source": [
    "## 3. Parsing existing data structures\n",
    "\n",
    "Users can load CWL Worflow(s) even from existing dictionaries:"
   ]
  },
  {
   "cell_type": "code",
   "execution_count": null,
   "id": "bdbe72e7",
   "metadata": {},
   "outputs": [],
   "source": [
    "from cwl_loader import load_cwl_from_yaml\n",
    "\n",
    "cwl_document = load_cwl_from_yaml(raw_process={\n",
    "  \"cwlVersion\": \"v1.2\", \n",
    "  \"inputs\": {\n",
    "    \"api_endpoint\": {\n",
    "      \"doc\": \"STAC API endpoint for Landsat-9 data\", \n",
    "      \"type\": \"https://raw.githubusercontent.com/eoap/schemas/main/experimental/api-endpoint.yaml#APIEndpoint\", \n",
    "      \"label\": \"STAC API endpoint\"\n",
    "    }, \n",
    "    \"search_request\": {\n",
    "      \"doc\": \"STAC API settings for Landsat-9 data\", \n",
    "      \"type\": \"https://raw.githubusercontent.com/eoap/schemas/main/experimental/discovery.yaml#STACSearchSettings\", \n",
    "      \"label\": \"STAC API settings\"\n",
    "    }\n",
    "  }, \n",
    "  \"requirements\": [\n",
    "    {\n",
    "      \"class\": \"InlineJavascriptRequirement\"\n",
    "    }, \n",
    "    {\n",
    "      \"class\": \"NetworkAccess\", \n",
    "      \"networkAccess\": True\n",
    "    }, \n",
    "    {\n",
    "      \"class\": \"SchemaDefRequirement\", \n",
    "      \"types\": [\n",
    "        {\n",
    "          \"$import\": \"https://raw.githubusercontent.com/eoap/schemas/main/string_format.yaml\"\n",
    "        }, \n",
    "        {\n",
    "          \"$import\": \"https://raw.githubusercontent.com/eoap/schemas/main/geojson.yaml\"\n",
    "        }, \n",
    "        {\n",
    "          \"$import\": \"https://raw.githubusercontent.com/eoap/schemas/main/experimental/api-endpoint.yaml\"\n",
    "        }, \n",
    "        {\n",
    "          \"$import\": \"https://raw.githubusercontent.com/eoap/schemas/main/experimental/discovery.yaml\"\n",
    "        }\n",
    "      ]\n",
    "    }\n",
    "  ], \n",
    "  \"doc\": \"This tool uses the STAC Client to search for STAC items\\n\", \n",
    "  \"class\": \"CommandLineTool\", \n",
    "  \"baseCommand\": [\n",
    "    \"stac-client\"\n",
    "  ], \n",
    "  \"label\": \"STAC Client Tool\", \n",
    "  \"arguments\": [\n",
    "    \"search\", \n",
    "    \"$(inputs.api_endpoint.url.value)\", \n",
    "    \"${ const args = []; const collections = inputs.search_request.collections; args.push('--collections', collections.join(\\\",\\\")); return args; }\", \n",
    "    \"${ const args = []; const bbox = inputs.search_request?.bbox; if (Array.isArray(bbox) && bbox.length >= 4) { args.push('--bbox', ...bbox.map(String)); } return args; }\", \n",
    "    \"${ const args = []; const limit = inputs.search_request?.limit; args.push(\\\"--limit\\\", (limit ?? 10).toString()); return args; }\", \n",
    "    \"${ const maxItems = 5; return ['--max-items', maxItems.toString()]; }\", \n",
    "    \"${ const args = []; const filter = inputs.search_request?.filter; const filterLang = inputs.search_request?.['filter-lang']; if (filterLang) { args.push('--filter-lang', filterLang); } if (filter) { args.push('--filter', JSON.stringify(filter)); } return args; }\", \n",
    "    \"${ const datetime = inputs.search_request?.datetime; const datetimeInterval = inputs.search_request?.datetime_interval; if (datetime) { return ['--datetime', datetime]; } else if (datetimeInterval) { const start = datetimeInterval.start?.value || '..'; const end = datetimeInterval.end?.value || '..'; return ['--datetime', `${start}/${end}`]; } return []; }\", \n",
    "    \"${ const ids = inputs.search_request?.ids; const args = []; if (Array.isArray(ids) && ids.length > 0) { args.push('--ids', ...ids.map(String)); } return args; }\", \n",
    "    \"${ const intersects = inputs.search_request?.intersects; if (intersects) { return ['--intersects', JSON.stringify(intersects)]; } return []; }\", \n",
    "    \"--save\", \n",
    "    \"discovery-output.json\"\n",
    "  ], \n",
    "  \"outputs\": {\n",
    "    \"search_output\": {\n",
    "      \"outputBinding\": {\n",
    "        \"glob\": \"discovery-output.json\"\n",
    "      }, \n",
    "      \"type\": \"File\"\n",
    "    }\n",
    "  }, \n",
    "  \"id\": \"stac-client\", \n",
    "  \"hints\": [\n",
    "    {\n",
    "      \"dockerPull\": \"docker.io/library/stac-client\", \n",
    "      \"class\": \"DockerRequirement\"\n",
    "    }\n",
    "  ]\n",
    "})\n",
    "\n",
    "dump_cwl(process=cwl_document, stream=sys.stderr)"
   ]
  },
  {
   "cell_type": "markdown",
   "id": "101feaa6",
   "metadata": {},
   "source": [
    "## 4. Parsing conditional Workflow"
   ]
  },
  {
   "cell_type": "code",
   "execution_count": null,
   "id": "7ba74cbd",
   "metadata": {},
   "outputs": [],
   "source": [
    "cwl_document = load_cwl_from_location('https://raw.githubusercontent.com/eoap/how-to/refs/heads/main/cwl-workflows/conditional-workflows.cwl')\n",
    "dump_cwl(process=cwl_document, stream=sys.stderr)"
   ]
  }
 ],
 "metadata": {
  "kernelspec": {
   "display_name": ".venv",
   "language": "python",
   "name": "python3"
  },
  "language_info": {
   "codemirror_mode": {
    "name": "ipython",
    "version": 3
   },
   "file_extension": ".py",
   "mimetype": "text/x-python",
   "name": "python",
   "nbconvert_exporter": "python",
   "pygments_lexer": "ipython3",
   "version": "3.13.7"
  }
 },
 "nbformat": 4,
 "nbformat_minor": 5
}
