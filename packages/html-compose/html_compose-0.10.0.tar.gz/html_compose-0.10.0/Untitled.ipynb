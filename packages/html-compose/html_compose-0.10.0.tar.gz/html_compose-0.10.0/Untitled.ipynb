{
 "cells": [
  {
   "cell_type": "code",
   "execution_count": null,
   "id": "1b9fdb8d-6678-4291-aa37-27f7ee8edb3b",
   "metadata": {},
   "outputs": [
    {
     "data": {
      "text/html": [
       "<object>&lt;!DOCTYPE html&gt;\n",
       "&lt;html lang=&#34;en&#34;&gt;&lt;head&gt;&lt;meta content=&#34;width=device-width, initial-scale=1.0&#34; name=&#34;viewport&#34;/&gt;&lt;title&gt;Welcome&lt;/title&gt;&lt;link href=&#34;https://cdn.jsdelivr.net/npm/@picocss/pico@2/css/pico.min.css&#34; rel=&#34;stylesheet&#34;/&gt;&lt;/head&gt;&lt;body&gt;&lt;body&gt;&lt;article&gt;&lt;p&gt;Welcome to the internet &lt;strong&gt;wanderer&lt;/strong&gt;!&lt;/p&gt;&lt;br/&gt;&lt;p&gt;Have you checked out this cool thing called a &lt;a href=&#34;https://google.com&#34;&gt;search engine&lt;/a&gt;?&lt;/p&gt;&lt;/article&gt;&lt;/body&gt;&lt;/body&gt;&lt;/html&gt;</object>"
      ],
      "text/plain": [
       "<IPython.core.display.HTML object>"
      ]
     },
     "execution_count": 4,
     "metadata": {},
     "output_type": "execute_result"
    }
   ],
   "source": [
    "import html_compose as h\n",
    "import html_compose.elements as el\n",
    "from html_compose import a, article, body, br, p, strong\n",
    "from html_compose.notebook import render\n",
    "\n",
    "\n",
    "def state_component(username):\n",
    "    return body()[\n",
    "        article()[\n",
    "            p()[\"Welcome to the internet \", strong()[username], \"!\"],\n",
    "            br(),\n",
    "            p()[\n",
    "                \"Have you checked out this cool thing called a \",\n",
    "                a(href=\"https://google.com\")[\"search engine\"],\n",
    "                \"?\",\n",
    "            ],\n",
    "            el.button[\"Click me!\"],\n",
    "        ]\n",
    "    ]\n",
    "\n",
    "\n",
    "def demo_one():\n",
    "    return h.HTML5Document(\n",
    "        title=\"Welcome\",\n",
    "        lang=\"en\",\n",
    "        head=[\n",
    "            el.link(\n",
    "                rel=\"stylesheet\",\n",
    "                href=\"https://cdn.jsdelivr.net/npm/@picocss/pico@2/css/pico.min.css\",\n",
    "            )\n",
    "        ],\n",
    "        body=[state_component(\"wanderer\")],\n",
    "    )\n",
    "\n",
    "\n",
    "render(demo_one())"
   ]
  },
  {
   "cell_type": "code",
   "execution_count": null,
   "id": "9931c746-4c51-403b-a956-e5ea090ea015",
   "metadata": {},
   "outputs": [],
   "source": []
  }
 ],
 "metadata": {
  "kernelspec": {
   "display_name": ".venv",
   "language": "python",
   "name": "python3"
  },
  "language_info": {
   "codemirror_mode": {
    "name": "ipython",
    "version": 3
   },
   "file_extension": ".py",
   "mimetype": "text/x-python",
   "name": "python",
   "nbconvert_exporter": "python",
   "pygments_lexer": "ipython3",
   "version": "3.10.15"
  }
 },
 "nbformat": 4,
 "nbformat_minor": 5
}
