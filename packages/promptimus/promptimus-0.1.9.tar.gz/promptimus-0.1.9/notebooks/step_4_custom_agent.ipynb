{
 "cells": [
  {
   "cell_type": "code",
   "execution_count": 1,
   "id": "3281d38b-046c-4a8e-ae6b-589feaf7224c",
   "metadata": {},
   "outputs": [],
   "source": [
    "%load_ext rich"
   ]
  },
  {
   "cell_type": "markdown",
   "id": "a46f4c75-9318-442a-a859-d2a9535a9178",
   "metadata": {},
   "source": [
    "# Custom agent\n"
   ]
  },
  {
   "cell_type": "code",
   "execution_count": 2,
   "id": "9c5c25da-3907-4cb2-ac96-bdd3bae11b2a",
   "metadata": {},
   "outputs": [],
   "source": [
    "import math\n",
    "\n",
    "from pydantic import ValidationError\n",
    "\n",
    "import promptimus as pm"
   ]
  },
  {
   "cell_type": "code",
   "execution_count": 3,
   "id": "8f4dc2a4-ef3d-43df-934d-812bd28ea529",
   "metadata": {},
   "outputs": [],
   "source": [
    "ollama = pm.llms.OpenAILike(\n",
    "    model_name=\"gemma3:12b\", base_url=\"http://lilan:11434/v1\", api_key=\"DUMMY\"\n",
    ")"
   ]
  },
  {
   "cell_type": "markdown",
   "id": "51cccd77-7117-42d2-937f-4512f25aea38",
   "metadata": {},
   "source": [
    "## Tools in the Custom Agent\n",
    "\n",
    "Tools are modular functions that allow the agent to perform specific calculations or tasks beyond its built-in reasoning capabilities. Each tool is designed to handle a well-defined operation, such as mathematical computations, data transformations, or API interactions. When the agent encounters a query that requires external computation, it selects the appropriate tool, provides structured input, and waits for the tool's response before proceeding."
   ]
  },
  {
   "cell_type": "code",
   "execution_count": 4,
   "id": "95d21283-32ec-4434-aaf3-0c571fdb456d",
   "metadata": {},
   "outputs": [],
   "source": [
    "# you may decorate your function to create a tool\n",
    "@pm.modules.Tool.decorate\n",
    "def power(a: float, b: float) -> float:\n",
    "    \"\"\"Calcuates the `a` in the pover of `b`\"\"\"\n",
    "    return a**b\n",
    "\n",
    "\n",
    "def factorial(a: int) -> int:\n",
    "    \"\"\"Calcuates the factorial (!) of `a`\"\"\"\n",
    "    return math.factorial(a)\n",
    "\n",
    "\n",
    "def multiply(a: float, b: float) -> float:\n",
    "    \"\"\"Multiplies `a` and `b`\"\"\"\n",
    "    return a * b"
   ]
  },
  {
   "cell_type": "code",
   "execution_count": 5,
   "id": "7b271f12-366b-4d7a-a264-06968cf33d5a",
   "metadata": {},
   "outputs": [
    {
     "name": "stdout",
     "output_type": "stream",
     "text": [
      "description = \"\"\"\n",
      "## `power` tool.\n",
      "Calcuates the `a` in the pover of `b`\n",
      "\n",
      "Parameters:\n",
      "- `a`: float\n",
      "- `b`: float\n",
      "\"\"\"\n",
      "\n",
      "\n"
     ]
    }
   ],
   "source": [
    "# a description for LLM is generated from function docstrings and type hints\n",
    "print(power.describe())"
   ]
  },
  {
   "cell_type": "code",
   "execution_count": 6,
   "id": "acfa3a61-4dc7-48ab-99a7-69f3431fd049",
   "metadata": {},
   "outputs": [
    {
     "data": {
      "text/html": [
       "<pre style=\"white-space:pre;overflow-x:auto;line-height:normal;font-family:Menlo,'DejaVu Sans Mono',consolas,'Courier New',monospace\"></pre>\n"
      ],
      "text/plain": []
     },
     "metadata": {},
     "output_type": "display_data"
    },
    {
     "data": {
      "text/plain": [
       "\u001b[1;36m256.0\u001b[0m"
      ]
     },
     "execution_count": 6,
     "metadata": {},
     "output_type": "execute_result"
    }
   ],
   "source": [
    "# a tool can be called the same as an original function\n",
    "power(2, 8)"
   ]
  },
  {
   "cell_type": "code",
   "execution_count": 7,
   "id": "9472a50d-d5bf-497f-a775-0fab4603397b",
   "metadata": {},
   "outputs": [
    {
     "data": {
      "text/html": [
       "<pre style=\"white-space:pre;overflow-x:auto;line-height:normal;font-family:Menlo,'DejaVu Sans Mono',consolas,'Courier New',monospace\"></pre>\n"
      ],
      "text/plain": []
     },
     "metadata": {},
     "output_type": "display_data"
    },
    {
     "data": {
      "text/plain": [
       "\u001b[1;36m256.0\u001b[0m"
      ]
     },
     "execution_count": 7,
     "metadata": {},
     "output_type": "execute_result"
    }
   ],
   "source": [
    "# or it can accept a json string in async forward method\n",
    "await power.forward(\"\"\"{\"a\": 2, \"b\": 8}\"\"\")"
   ]
  },
  {
   "cell_type": "code",
   "execution_count": 8,
   "id": "017d5590-f674-4055-aa65-ce122a0c878b",
   "metadata": {},
   "outputs": [
    {
     "name": "stdout",
     "output_type": "stream",
     "text": [
      "2 validation errors for power\n",
      "b\n",
      "  Missing required argument [type=missing_argument, input_value=ArgsKwargs((), {'a': 2, 'c': 8}), input_type=ArgsKwargs]\n",
      "    For further information visit https://errors.pydantic.dev/2.10/v/missing_argument\n",
      "c\n",
      "  Unexpected keyword argument [type=unexpected_keyword_argument, input_value=8, input_type=int]\n",
      "    For further information visit https://errors.pydantic.dev/2.10/v/unexpected_keyword_argument\n"
     ]
    }
   ],
   "source": [
    "# in case of invalid json input the tool will raise pydantic error with clear explanations\n",
    "try:\n",
    "    await power.forward(\"\"\"{\"a\": 2, \"c\": 8}\"\"\")\n",
    "except ValidationError as e:\n",
    "    print(e)"
   ]
  },
  {
   "cell_type": "markdown",
   "id": "ae157f90-9078-401a-b139-673f30e950f6",
   "metadata": {},
   "source": [
    "## Tool Calling Agent\n",
    "\n",
    "The Tool Calling Agent is a specialized module that inherits from the core module system, allowing it to manage interactions between an LLM and external tools effectively. It facilitates the selection and execution of tools, ensuring that inputs are validated and requests are properly formatted. In cases where argument parsing errors occur, the agent uses Pydantic error messages to reprompt the model with refined instructions, guiding it to make valid tool calls. This process helps the agent improve its ability to handle complex tool interactions by providing structured feedback.\n",
    "\n",
    "Additionally, the agent clears extraneous output, such as hallucinations or irrelevant responses, during the parsing step. This ensures the agent’s memory remains clean, valid, and focused on the most relevant information. The agent aggregates the memory module, which stores only the last N messages, maintaining a concise record of recent interactions. "
   ]
  },
  {
   "cell_type": "code",
   "execution_count": 9,
   "id": "ffd61ac0-0160-4b13-95f1-9000a429f248",
   "metadata": {},
   "outputs": [],
   "source": [
    "tool_calling = pm.modules.ToolCallingAgent(\n",
    "    [power, multiply, factorial], observation_role=pm.MessageRole.USER\n",
    ").with_llm(ollama)"
   ]
  },
  {
   "cell_type": "code",
   "execution_count": 10,
   "id": "e8b126bb-04a7-4051-a3ac-71451788a049",
   "metadata": {},
   "outputs": [
    {
     "name": "stdout",
     "output_type": "stream",
     "text": [
      "\n",
      "\n",
      "[tools.power]\n",
      "description = \"\"\"\n",
      "## `power` tool.\n",
      "Calcuates the `a` in the pover of `b`\n",
      "\n",
      "Parameters:\n",
      "- `a`: float\n",
      "- `b`: float\n",
      "\"\"\"\n",
      "\n",
      "\n",
      "[tools.multiply]\n",
      "description = \"\"\"\n",
      "## `multiply` tool.\n",
      "Multiplies `a` and `b`\n",
      "\n",
      "Parameters:\n",
      "- `a`: float\n",
      "- `b`: float\n",
      "\"\"\"\n",
      "\n",
      "\n",
      "[tools.factorial]\n",
      "description = \"\"\"\n",
      "## `factorial` tool.\n",
      "Calcuates the factorial (!) of `a`\n",
      "\n",
      "Parameters:\n",
      "- `a`: int\n",
      "\"\"\"\n",
      "\n",
      "\n",
      "\n",
      "[predictor.prompt]\n",
      "prompt = \"\"\"\n",
      "You are designed to assist with a wide range of tasks—from answering questions and providing summaries to performing detailed analyses—by utilizing a variety of external tools. Follow these strict instructions to ensure correct tool usage and response formatting:\n",
      "\n",
      "---\n",
      "\n",
      "## Tools\n",
      "\n",
      "- **Tool Access:**  \n",
      "  You have access to multiple tools: \n",
      "\n",
      "  {tool_desc}\n",
      "\n",
      "- **Execution Protocol:**  \n",
      "  - **One Step at a Time:** In each response, you must either make a single tool call or provide a direct answer to the user.\n",
      "  - **No Fabrication:** You are strictly forbidden from generating any `Observation:` lines or simulating tool outputs. Do not assume, infer, or create tool responses—always wait for the actual output from the external tool.\n",
      "\n",
      "---\n",
      "\n",
      "## Output Format\n",
      "\n",
      "When processing a user's query, follow this structured format:\n",
      "\n",
      "1. **Initial Response (Tool Call or Direct Answer):**  \n",
      "   - **Thought:** Start every response with a clear thought outlining your reasoning.  \n",
      "   - **Tool Call:**  \n",
      "     If you decide that a tool is needed, include:\n",
      "     - **Action:** The tool's name (choose one from {tool_names}).\n",
      "     - **Action Input:** The tool input in valid JSON format representing the keyword arguments (for example: `{{\"input\": \"hello world\", \"num_beams\": 5}}`).\n",
      "\n",
      "   **Example:**\n",
      "   ```\n",
      "   Thought: I need to use a tool to help me answer the question.\n",
      "   Action: tool_name\n",
      "   Action Input: {{\"input\": \"hello world\", \"num_beams\": 5}}\n",
      "   ```\n",
      "\n",
      "2. **Waiting for the Tool Response:**  \n",
      "   - **Do Not Simulate:** Never generate an `Observation:` line or assume the tool's output. After making a tool call, wait for the external tool to return the actual observation.\n",
      "\n",
      "3. **Final Answer (When Sufficient Information is Obtained):**  \n",
      "   When you have enough information to answer the question without additional tool calls, respond using one of these formats:\n",
      "\n",
      "   **Successful Answer:**\n",
      "   ```\n",
      "   Thought: I can answer without using any more tools.\n",
      "   Answer: [your answer here]\n",
      "   ```\n",
      "\n",
      "   **Unable to Answer:**\n",
      "   ```\n",
      "   Thought: I cannot answer the question with the provided tools.\n",
      "   Answer: Sorry, I cannot answer your query.\n",
      "   ```\n",
      "\n",
      "---\n",
      "\n",
      "### Important Reminders\n",
      "\n",
      "- **Always Start with a Thought:** Begin every response with a \"Thought:\" to describe your reasoning process.\n",
      "- **Valid JSON Required:** Ensure that the Action Input is formatted in valid JSON (e.g., do not use single quotes or improper brackets).\n",
      "- **Strict No-Observation Rule:** Under no circumstances should you generate or simulate an `Observation:` line. Only the external tool should produce that.\n",
      "\n",
      "By following these guidelines, you will ensure clear, consistent, and tool-dependent interactions.\n",
      "\"\"\"\n",
      "\n",
      "role = \"\"\"\n",
      "system\n",
      "\"\"\"\n",
      "\n",
      "\n"
     ]
    }
   ],
   "source": [
    "# all tool descriptions are serialized recursively\n",
    "print(tool_calling.describe())"
   ]
  },
  {
   "cell_type": "code",
   "execution_count": 11,
   "id": "724d908e-2529-435b-8f95-c6f38dcc3c29",
   "metadata": {},
   "outputs": [
    {
     "data": {
      "text/html": [
       "<pre style=\"white-space:pre;overflow-x:auto;line-height:normal;font-family:Menlo,'DejaVu Sans Mono',consolas,'Courier New',monospace\"></pre>\n"
      ],
      "text/plain": []
     },
     "metadata": {},
     "output_type": "display_data"
    },
    {
     "data": {
      "text/plain": [
       "\u001b[1;35mMessage\u001b[0m\u001b[1m(\u001b[0m\u001b[33mrole\u001b[0m=\u001b[1m<\u001b[0m\u001b[1;95mMessageRole.ASSISTANT:\u001b[0m\u001b[39m \u001b[0m\u001b[32m'assistant'\u001b[0m\u001b[1m>\u001b[0m, \u001b[33mcontent\u001b[0m=\u001b[32m'256.0'\u001b[0m, \u001b[33mtool_calls\u001b[0m=\u001b[3;35mNone\u001b[0m, \u001b[33mtool_call_id\u001b[0m=\u001b[3;35mNone\u001b[0m\u001b[1m)\u001b[0m"
      ]
     },
     "execution_count": 11,
     "metadata": {},
     "output_type": "execute_result"
    }
   ],
   "source": [
    "await tool_calling.forward(\"What is 2 in power of 8?\")"
   ]
  },
  {
   "cell_type": "code",
   "execution_count": 12,
   "id": "eed332a7-c219-4a15-9847-46eeb7aac7c5",
   "metadata": {},
   "outputs": [
    {
     "data": {
      "text/html": [
       "<pre style=\"white-space:pre;overflow-x:auto;line-height:normal;font-family:Menlo,'DejaVu Sans Mono',consolas,'Courier New',monospace\"></pre>\n"
      ],
      "text/plain": []
     },
     "metadata": {},
     "output_type": "display_data"
    },
    {
     "data": {
      "text/plain": [
       "\n",
       "\u001b[1m[\u001b[0m\n",
       "    \u001b[1;35mMessage\u001b[0m\u001b[1m(\u001b[0m\n",
       "        \u001b[33mrole\u001b[0m=\u001b[1m<\u001b[0m\u001b[1;95mMessageRole.USER:\u001b[0m\u001b[39m \u001b[0m\u001b[32m'user'\u001b[0m\u001b[39m>,\u001b[0m\n",
       "\u001b[39m        \u001b[0m\u001b[33mcontent\u001b[0m\u001b[39m=\u001b[0m\u001b[32m'What is 2 in power of 8?'\u001b[0m\u001b[39m,\u001b[0m\n",
       "\u001b[39m        \u001b[0m\u001b[33mtool_calls\u001b[0m\u001b[39m=\u001b[0m\u001b[3;35mNone\u001b[0m\u001b[39m,\u001b[0m\n",
       "\u001b[39m        \u001b[0m\u001b[33mtool_call_id\u001b[0m\u001b[39m=\u001b[0m\u001b[3;35mNone\u001b[0m\n",
       "\u001b[39m    \u001b[0m\u001b[1;39m)\u001b[0m\u001b[39m,\u001b[0m\n",
       "\u001b[39m    \u001b[0m\u001b[1;35mMessage\u001b[0m\u001b[1;39m(\u001b[0m\n",
       "\u001b[39m        \u001b[0m\u001b[33mrole\u001b[0m\u001b[39m=<MessageRole.ASSISTANT: \u001b[0m\u001b[32m'assistant'\u001b[0m\u001b[39m>,\u001b[0m\n",
       "\u001b[39m        \u001b[0m\u001b[33mcontent\u001b[0m\u001b[39m=\u001b[0m\u001b[32m'Thought:I need to calculate 2 to the power of 8. I will use the power tool for this.\\nAction:power\\nAction Input: \u001b[0m\u001b[32m{\u001b[0m\u001b[32m\"a\": 2.0, \"b\": 8.0\u001b[0m\u001b[32m}\u001b[0m\u001b[32m'\u001b[0m\u001b[39m,\u001b[0m\n",
       "\u001b[39m        \u001b[0m\u001b[33mtool_calls\u001b[0m\u001b[39m=\u001b[0m\u001b[3;35mNone\u001b[0m\u001b[39m,\u001b[0m\n",
       "\u001b[39m        \u001b[0m\u001b[33mtool_call_id\u001b[0m\u001b[39m=\u001b[0m\u001b[3;35mNone\u001b[0m\n",
       "\u001b[39m    \u001b[0m\u001b[1;39m)\u001b[0m\u001b[39m,\u001b[0m\n",
       "\u001b[39m    \u001b[0m\u001b[1;35mMessage\u001b[0m\u001b[1;39m(\u001b[0m\n",
       "\u001b[39m        \u001b[0m\u001b[33mrole\u001b[0m\u001b[39m=<MessageRole.USER: \u001b[0m\u001b[32m'user'\u001b[0m\u001b[39m>,\u001b[0m\n",
       "\u001b[39m        \u001b[0m\u001b[33mcontent\u001b[0m\u001b[39m=\u001b[0m\u001b[32m'Observation: 256.0'\u001b[0m\u001b[39m,\u001b[0m\n",
       "\u001b[39m        \u001b[0m\u001b[33mtool_calls\u001b[0m\u001b[39m=\u001b[0m\u001b[3;35mNone\u001b[0m\u001b[39m,\u001b[0m\n",
       "\u001b[39m        \u001b[0m\u001b[33mtool_call_id\u001b[0m\u001b[39m=\u001b[0m\u001b[3;35mNone\u001b[0m\n",
       "\u001b[39m    \u001b[0m\u001b[1;39m)\u001b[0m\u001b[39m,\u001b[0m\n",
       "\u001b[39m    \u001b[0m\u001b[1;35mMessage\u001b[0m\u001b[1;39m(\u001b[0m\n",
       "\u001b[39m        \u001b[0m\u001b[33mrole\u001b[0m\u001b[39m=<MessageRole.ASSISTANT: \u001b[0m\u001b[32m'assistant'\u001b[0m\u001b[1m>\u001b[0m,\n",
       "        \u001b[33mcontent\u001b[0m=\u001b[32m'Thought:I can answer without using any more tools.\\nAnswer:256.0'\u001b[0m,\n",
       "        \u001b[33mtool_calls\u001b[0m=\u001b[3;35mNone\u001b[0m,\n",
       "        \u001b[33mtool_call_id\u001b[0m=\u001b[3;35mNone\u001b[0m\n",
       "    \u001b[1m)\u001b[0m\n",
       "\u001b[1m]\u001b[0m"
      ]
     },
     "execution_count": 12,
     "metadata": {},
     "output_type": "execute_result"
    }
   ],
   "source": [
    "tool_calling.predictor.memory.as_list()"
   ]
  },
  {
   "cell_type": "code",
   "execution_count": 13,
   "id": "1e5a01bb-3edc-4a26-8bc9-b5ca2209775c",
   "metadata": {},
   "outputs": [
    {
     "data": {
      "text/html": [
       "<pre style=\"white-space:pre;overflow-x:auto;line-height:normal;font-family:Menlo,'DejaVu Sans Mono',consolas,'Courier New',monospace\"></pre>\n"
      ],
      "text/plain": []
     },
     "metadata": {},
     "output_type": "display_data"
    },
    {
     "data": {
      "text/plain": [
       "\n",
       "\u001b[1;35mMessage\u001b[0m\u001b[1m(\u001b[0m\n",
       "    \u001b[33mrole\u001b[0m=\u001b[1m<\u001b[0m\u001b[1;95mMessageRole.ASSISTANT:\u001b[0m\u001b[39m \u001b[0m\u001b[32m'assistant'\u001b[0m\u001b[1m>\u001b[0m,\n",
       "    \u001b[33mcontent\u001b[0m=\u001b[32m'The factorial of \u001b[0m\u001b[32m(\u001b[0m\u001b[32m2 in power of 3\u001b[0m\u001b[32m)\u001b[0m\u001b[32m is 40320.'\u001b[0m,\n",
       "    \u001b[33mtool_calls\u001b[0m=\u001b[3;35mNone\u001b[0m,\n",
       "    \u001b[33mtool_call_id\u001b[0m=\u001b[3;35mNone\u001b[0m\n",
       "\u001b[1m)\u001b[0m"
      ]
     },
     "execution_count": 13,
     "metadata": {},
     "output_type": "execute_result"
    }
   ],
   "source": [
    "tool_calling.predictor.memory.reset()\n",
    "await tool_calling.forward(\"What is a factorial of (2 in power of 3)?\")"
   ]
  },
  {
   "cell_type": "code",
   "execution_count": 14,
   "id": "0b49319f-0812-4361-bff9-109613670637",
   "metadata": {},
   "outputs": [
    {
     "data": {
      "text/html": [
       "<pre style=\"white-space:pre;overflow-x:auto;line-height:normal;font-family:Menlo,'DejaVu Sans Mono',consolas,'Courier New',monospace\"></pre>\n"
      ],
      "text/plain": []
     },
     "metadata": {},
     "output_type": "display_data"
    },
    {
     "data": {
      "text/plain": [
       "\n",
       "\u001b[1m[\u001b[0m\n",
       "    \u001b[1;35mMessage\u001b[0m\u001b[1m(\u001b[0m\n",
       "        \u001b[33mrole\u001b[0m=\u001b[1m<\u001b[0m\u001b[1;95mMessageRole.USER:\u001b[0m\u001b[39m \u001b[0m\u001b[32m'user'\u001b[0m\u001b[39m>,\u001b[0m\n",
       "\u001b[39m        \u001b[0m\u001b[33mcontent\u001b[0m\u001b[39m=\u001b[0m\u001b[32m'What is a factorial of \u001b[0m\u001b[32m(\u001b[0m\u001b[32m2 in power of 3\u001b[0m\u001b[32m)\u001b[0m\u001b[32m?'\u001b[0m\u001b[39m,\u001b[0m\n",
       "\u001b[39m        \u001b[0m\u001b[33mtool_calls\u001b[0m\u001b[39m=\u001b[0m\u001b[3;35mNone\u001b[0m\u001b[39m,\u001b[0m\n",
       "\u001b[39m        \u001b[0m\u001b[33mtool_call_id\u001b[0m\u001b[39m=\u001b[0m\u001b[3;35mNone\u001b[0m\n",
       "\u001b[39m    \u001b[0m\u001b[1;39m)\u001b[0m\u001b[39m,\u001b[0m\n",
       "\u001b[39m    \u001b[0m\u001b[1;35mMessage\u001b[0m\u001b[1;39m(\u001b[0m\n",
       "\u001b[39m        \u001b[0m\u001b[33mrole\u001b[0m\u001b[39m=<MessageRole.ASSISTANT: \u001b[0m\u001b[32m'assistant'\u001b[0m\u001b[39m>,\u001b[0m\n",
       "\u001b[39m        \u001b[0m\u001b[33mcontent\u001b[0m\u001b[39m=\u001b[0m\u001b[32m'Thought:I need to first calculate 2 to the power of 3, then calculate the factorial of that result. To do this I will first use the `power` tool and then the `factorial` tool.\\nAction:power\\nAction Input: \u001b[0m\u001b[32m{\u001b[0m\u001b[32m\"a\": 2, \"b\": 3\u001b[0m\u001b[32m}\u001b[0m\u001b[32m'\u001b[0m\u001b[39m,\u001b[0m\n",
       "\u001b[39m        \u001b[0m\u001b[33mtool_calls\u001b[0m\u001b[39m=\u001b[0m\u001b[3;35mNone\u001b[0m\u001b[39m,\u001b[0m\n",
       "\u001b[39m        \u001b[0m\u001b[33mtool_call_id\u001b[0m\u001b[39m=\u001b[0m\u001b[3;35mNone\u001b[0m\n",
       "\u001b[39m    \u001b[0m\u001b[1;39m)\u001b[0m\u001b[39m,\u001b[0m\n",
       "\u001b[39m    \u001b[0m\u001b[1;35mMessage\u001b[0m\u001b[1;39m(\u001b[0m\n",
       "\u001b[39m        \u001b[0m\u001b[33mrole\u001b[0m\u001b[39m=<MessageRole.USER: \u001b[0m\u001b[32m'user'\u001b[0m\u001b[39m>,\u001b[0m\n",
       "\u001b[39m        \u001b[0m\u001b[33mcontent\u001b[0m\u001b[39m=\u001b[0m\u001b[32m'Observation: 8.0'\u001b[0m\u001b[39m,\u001b[0m\n",
       "\u001b[39m        \u001b[0m\u001b[33mtool_calls\u001b[0m\u001b[39m=\u001b[0m\u001b[3;35mNone\u001b[0m\u001b[39m,\u001b[0m\n",
       "\u001b[39m        \u001b[0m\u001b[33mtool_call_id\u001b[0m\u001b[39m=\u001b[0m\u001b[3;35mNone\u001b[0m\n",
       "\u001b[39m    \u001b[0m\u001b[1;39m)\u001b[0m\u001b[39m,\u001b[0m\n",
       "\u001b[39m    \u001b[0m\u001b[1;35mMessage\u001b[0m\u001b[1;39m(\u001b[0m\n",
       "\u001b[39m        \u001b[0m\u001b[33mrole\u001b[0m\u001b[39m=<MessageRole.ASSISTANT: \u001b[0m\u001b[32m'assistant'\u001b[0m\u001b[39m>,\u001b[0m\n",
       "\u001b[39m        \u001b[0m\u001b[33mcontent\u001b[0m\u001b[39m=\u001b[0m\u001b[32m'Thought:Now that I have the result of 2 to the power of 3, which is 8, I need to calculate the factorial of 8. I will use the `factorial` tool for this.\\nAction:factorial\\nAction Input: \u001b[0m\u001b[32m{\u001b[0m\u001b[32m\"a\": 8\u001b[0m\u001b[32m}\u001b[0m\u001b[32m'\u001b[0m\u001b[39m,\u001b[0m\n",
       "\u001b[39m        \u001b[0m\u001b[33mtool_calls\u001b[0m\u001b[39m=\u001b[0m\u001b[3;35mNone\u001b[0m\u001b[39m,\u001b[0m\n",
       "\u001b[39m        \u001b[0m\u001b[33mtool_call_id\u001b[0m\u001b[39m=\u001b[0m\u001b[3;35mNone\u001b[0m\n",
       "\u001b[39m    \u001b[0m\u001b[1;39m)\u001b[0m\u001b[39m,\u001b[0m\n",
       "\u001b[39m    \u001b[0m\u001b[1;35mMessage\u001b[0m\u001b[1;39m(\u001b[0m\n",
       "\u001b[39m        \u001b[0m\u001b[33mrole\u001b[0m\u001b[39m=<MessageRole.USER: \u001b[0m\u001b[32m'user'\u001b[0m\u001b[39m>,\u001b[0m\n",
       "\u001b[39m        \u001b[0m\u001b[33mcontent\u001b[0m\u001b[39m=\u001b[0m\u001b[32m'Observation: 40320'\u001b[0m\u001b[39m,\u001b[0m\n",
       "\u001b[39m        \u001b[0m\u001b[33mtool_calls\u001b[0m\u001b[39m=\u001b[0m\u001b[3;35mNone\u001b[0m\u001b[39m,\u001b[0m\n",
       "\u001b[39m        \u001b[0m\u001b[33mtool_call_id\u001b[0m\u001b[39m=\u001b[0m\u001b[3;35mNone\u001b[0m\n",
       "\u001b[39m    \u001b[0m\u001b[1;39m)\u001b[0m\u001b[39m,\u001b[0m\n",
       "\u001b[39m    \u001b[0m\u001b[1;35mMessage\u001b[0m\u001b[1;39m(\u001b[0m\n",
       "\u001b[39m        \u001b[0m\u001b[33mrole\u001b[0m\u001b[39m=<MessageRole.ASSISTANT: \u001b[0m\u001b[32m'assistant'\u001b[0m\u001b[1m>\u001b[0m,\n",
       "        \u001b[33mcontent\u001b[0m=\u001b[32m'Thought:I can answer without using any more tools.\\nAnswer:The factorial of \u001b[0m\u001b[32m(\u001b[0m\u001b[32m2 in power of 3\u001b[0m\u001b[32m)\u001b[0m\u001b[32m is 40320.'\u001b[0m,\n",
       "        \u001b[33mtool_calls\u001b[0m=\u001b[3;35mNone\u001b[0m,\n",
       "        \u001b[33mtool_call_id\u001b[0m=\u001b[3;35mNone\u001b[0m\n",
       "    \u001b[1m)\u001b[0m\n",
       "\u001b[1m]\u001b[0m"
      ]
     },
     "execution_count": 14,
     "metadata": {},
     "output_type": "execute_result"
    }
   ],
   "source": [
    "tool_calling.predictor.memory.as_list()"
   ]
  },
  {
   "cell_type": "code",
   "execution_count": 15,
   "id": "31f70b89-c4e2-4129-a9b8-49d947f7c544",
   "metadata": {},
   "outputs": [
    {
     "data": {
      "text/html": [
       "<pre style=\"white-space:pre;overflow-x:auto;line-height:normal;font-family:Menlo,'DejaVu Sans Mono',consolas,'Courier New',monospace\"></pre>\n"
      ],
      "text/plain": []
     },
     "metadata": {},
     "output_type": "display_data"
    },
    {
     "data": {
      "text/plain": [
       "\u001b[1;35mMessage\u001b[0m\u001b[1m(\u001b[0m\u001b[33mrole\u001b[0m=\u001b[1m<\u001b[0m\u001b[1;95mMessageRole.ASSISTANT:\u001b[0m\u001b[39m \u001b[0m\u001b[32m'assistant'\u001b[0m\u001b[1m>\u001b[0m, \u001b[33mcontent\u001b[0m=\u001b[32m'12.0'\u001b[0m, \u001b[33mtool_calls\u001b[0m=\u001b[3;35mNone\u001b[0m, \u001b[33mtool_call_id\u001b[0m=\u001b[3;35mNone\u001b[0m\u001b[1m)\u001b[0m"
      ]
     },
     "execution_count": 15,
     "metadata": {},
     "output_type": "execute_result"
    }
   ],
   "source": [
    "tool_calling.predictor.memory.reset()\n",
    "await tool_calling.forward(\"What is twice the factorial of 3?\")"
   ]
  },
  {
   "cell_type": "code",
   "execution_count": 16,
   "id": "bf7bfcd9-255a-4bfa-9877-ee6be3372699",
   "metadata": {},
   "outputs": [
    {
     "data": {
      "text/html": [
       "<pre style=\"white-space:pre;overflow-x:auto;line-height:normal;font-family:Menlo,'DejaVu Sans Mono',consolas,'Courier New',monospace\"></pre>\n"
      ],
      "text/plain": []
     },
     "metadata": {},
     "output_type": "display_data"
    },
    {
     "data": {
      "text/plain": [
       "\n",
       "\u001b[1m[\u001b[0m\n",
       "    \u001b[1;35mMessage\u001b[0m\u001b[1m(\u001b[0m\n",
       "        \u001b[33mrole\u001b[0m=\u001b[1m<\u001b[0m\u001b[1;95mMessageRole.USER:\u001b[0m\u001b[39m \u001b[0m\u001b[32m'user'\u001b[0m\u001b[39m>,\u001b[0m\n",
       "\u001b[39m        \u001b[0m\u001b[33mcontent\u001b[0m\u001b[39m=\u001b[0m\u001b[32m'What is twice the factorial of 3?'\u001b[0m\u001b[39m,\u001b[0m\n",
       "\u001b[39m        \u001b[0m\u001b[33mtool_calls\u001b[0m\u001b[39m=\u001b[0m\u001b[3;35mNone\u001b[0m\u001b[39m,\u001b[0m\n",
       "\u001b[39m        \u001b[0m\u001b[33mtool_call_id\u001b[0m\u001b[39m=\u001b[0m\u001b[3;35mNone\u001b[0m\n",
       "\u001b[39m    \u001b[0m\u001b[1;39m)\u001b[0m\u001b[39m,\u001b[0m\n",
       "\u001b[39m    \u001b[0m\u001b[1;35mMessage\u001b[0m\u001b[1;39m(\u001b[0m\n",
       "\u001b[39m        \u001b[0m\u001b[33mrole\u001b[0m\u001b[39m=<MessageRole.ASSISTANT: \u001b[0m\u001b[32m'assistant'\u001b[0m\u001b[39m>,\u001b[0m\n",
       "\u001b[39m        \u001b[0m\u001b[33mcontent\u001b[0m\u001b[39m=\u001b[0m\u001b[32m'Thought:I need to calculate the factorial of 3 first, then multiply the result by 2. I will use the `factorial` tool for the factorial calculation and the `multiply` tool for the multiplication.\\nAction:factorial\\nAction Input: \u001b[0m\u001b[32m{\u001b[0m\u001b[32m\"a\": 3\u001b[0m\u001b[32m}\u001b[0m\u001b[32m'\u001b[0m\u001b[39m,\u001b[0m\n",
       "\u001b[39m        \u001b[0m\u001b[33mtool_calls\u001b[0m\u001b[39m=\u001b[0m\u001b[3;35mNone\u001b[0m\u001b[39m,\u001b[0m\n",
       "\u001b[39m        \u001b[0m\u001b[33mtool_call_id\u001b[0m\u001b[39m=\u001b[0m\u001b[3;35mNone\u001b[0m\n",
       "\u001b[39m    \u001b[0m\u001b[1;39m)\u001b[0m\u001b[39m,\u001b[0m\n",
       "\u001b[39m    \u001b[0m\u001b[1;35mMessage\u001b[0m\u001b[1;39m(\u001b[0m\n",
       "\u001b[39m        \u001b[0m\u001b[33mrole\u001b[0m\u001b[39m=<MessageRole.USER: \u001b[0m\u001b[32m'user'\u001b[0m\u001b[39m>,\u001b[0m\n",
       "\u001b[39m        \u001b[0m\u001b[33mcontent\u001b[0m\u001b[39m=\u001b[0m\u001b[32m'Observation: 6'\u001b[0m\u001b[39m,\u001b[0m\n",
       "\u001b[39m        \u001b[0m\u001b[33mtool_calls\u001b[0m\u001b[39m=\u001b[0m\u001b[3;35mNone\u001b[0m\u001b[39m,\u001b[0m\n",
       "\u001b[39m        \u001b[0m\u001b[33mtool_call_id\u001b[0m\u001b[39m=\u001b[0m\u001b[3;35mNone\u001b[0m\n",
       "\u001b[39m    \u001b[0m\u001b[1;39m)\u001b[0m\u001b[39m,\u001b[0m\n",
       "\u001b[39m    \u001b[0m\u001b[1;35mMessage\u001b[0m\u001b[1;39m(\u001b[0m\n",
       "\u001b[39m        \u001b[0m\u001b[33mrole\u001b[0m\u001b[39m=<MessageRole.ASSISTANT: \u001b[0m\u001b[32m'assistant'\u001b[0m\u001b[39m>,\u001b[0m\n",
       "\u001b[39m        \u001b[0m\u001b[33mcontent\u001b[0m\u001b[39m=\u001b[0m\u001b[32m'Thought:I have the factorial of 3, which is 6. Now I need to multiply that by 2.\\nAction:multiply\\nAction Input: \u001b[0m\u001b[32m{\u001b[0m\u001b[32m\"a\": 6.0, \"b\": 2.0\u001b[0m\u001b[32m}\u001b[0m\u001b[32m'\u001b[0m\u001b[39m,\u001b[0m\n",
       "\u001b[39m        \u001b[0m\u001b[33mtool_calls\u001b[0m\u001b[39m=\u001b[0m\u001b[3;35mNone\u001b[0m\u001b[39m,\u001b[0m\n",
       "\u001b[39m        \u001b[0m\u001b[33mtool_call_id\u001b[0m\u001b[39m=\u001b[0m\u001b[3;35mNone\u001b[0m\n",
       "\u001b[39m    \u001b[0m\u001b[1;39m)\u001b[0m\u001b[39m,\u001b[0m\n",
       "\u001b[39m    \u001b[0m\u001b[1;35mMessage\u001b[0m\u001b[1;39m(\u001b[0m\n",
       "\u001b[39m        \u001b[0m\u001b[33mrole\u001b[0m\u001b[39m=<MessageRole.USER: \u001b[0m\u001b[32m'user'\u001b[0m\u001b[39m>,\u001b[0m\n",
       "\u001b[39m        \u001b[0m\u001b[33mcontent\u001b[0m\u001b[39m=\u001b[0m\u001b[32m'Observation: 12.0'\u001b[0m\u001b[39m,\u001b[0m\n",
       "\u001b[39m        \u001b[0m\u001b[33mtool_calls\u001b[0m\u001b[39m=\u001b[0m\u001b[3;35mNone\u001b[0m\u001b[39m,\u001b[0m\n",
       "\u001b[39m        \u001b[0m\u001b[33mtool_call_id\u001b[0m\u001b[39m=\u001b[0m\u001b[3;35mNone\u001b[0m\n",
       "\u001b[39m    \u001b[0m\u001b[1;39m)\u001b[0m\u001b[39m,\u001b[0m\n",
       "\u001b[39m    \u001b[0m\u001b[1;35mMessage\u001b[0m\u001b[1;39m(\u001b[0m\n",
       "\u001b[39m        \u001b[0m\u001b[33mrole\u001b[0m\u001b[39m=<MessageRole.ASSISTANT: \u001b[0m\u001b[32m'assistant'\u001b[0m\u001b[1m>\u001b[0m,\n",
       "        \u001b[33mcontent\u001b[0m=\u001b[32m'Thought:I can answer without using any more tools.\\nAnswer:12.0'\u001b[0m,\n",
       "        \u001b[33mtool_calls\u001b[0m=\u001b[3;35mNone\u001b[0m,\n",
       "        \u001b[33mtool_call_id\u001b[0m=\u001b[3;35mNone\u001b[0m\n",
       "    \u001b[1m)\u001b[0m\n",
       "\u001b[1m]\u001b[0m"
      ]
     },
     "execution_count": 16,
     "metadata": {},
     "output_type": "execute_result"
    }
   ],
   "source": [
    "tool_calling.predictor.memory.as_list()"
   ]
  },
  {
   "cell_type": "markdown",
   "id": "7578e4de-c79c-4925-a00f-3e0b749d4425",
   "metadata": {},
   "source": [
    "## Function calling by OpenAI\n",
    "\n",
    "To utilze native function calling by OpenAI without ReACT loop use the dedicated `OpenaiToolCallingAgent`"
   ]
  },
  {
   "cell_type": "code",
   "execution_count": 17,
   "id": "5f8a805b-134e-4392-94a8-d68ef2a3cbcd",
   "metadata": {},
   "outputs": [],
   "source": [
    "openai = pm.llms.OpenAILike(\n",
    "    model_name=\"gpt-4.1-nano\",\n",
    ")\n",
    "\n",
    "tool_calling = pm.modules.OpenaiToolCallingAgent(\n",
    "    \"Utilize your tools step by step, to act as a calculator.\",\n",
    "    [power, multiply, factorial],\n",
    ").with_llm(openai)"
   ]
  },
  {
   "cell_type": "code",
   "execution_count": 18,
   "id": "fb37a86e-e18e-43b5-873e-a5936cbdcffd",
   "metadata": {},
   "outputs": [
    {
     "name": "stdout",
     "output_type": "stream",
     "text": [
      "\n",
      "\n",
      "[tools.power]\n",
      "description = \"\"\"\n",
      "## `power` tool.\n",
      "Calcuates the `a` in the pover of `b`\n",
      "\n",
      "Parameters:\n",
      "- `a`: float\n",
      "- `b`: float\n",
      "\"\"\"\n",
      "\n",
      "\n",
      "[tools.multiply]\n",
      "description = \"\"\"\n",
      "## `multiply` tool.\n",
      "Multiplies `a` and `b`\n",
      "\n",
      "Parameters:\n",
      "- `a`: float\n",
      "- `b`: float\n",
      "\"\"\"\n",
      "\n",
      "\n",
      "[tools.factorial]\n",
      "description = \"\"\"\n",
      "## `factorial` tool.\n",
      "Calcuates the factorial (!) of `a`\n",
      "\n",
      "Parameters:\n",
      "- `a`: int\n",
      "\"\"\"\n",
      "\n",
      "\n",
      "\n",
      "[predictor.prompt]\n",
      "prompt = \"\"\"\n",
      "Utilize your tools step by step, to act as a calculator.\n",
      "\"\"\"\n",
      "\n",
      "role = \"\"\"\n",
      "system\n",
      "\"\"\"\n",
      "\n",
      "\n"
     ]
    }
   ],
   "source": [
    "# all tool descriptions are serialized recursively\n",
    "print(tool_calling.describe())"
   ]
  },
  {
   "cell_type": "code",
   "execution_count": 19,
   "id": "e1e77c6a-a42b-4231-ba08-83e8b6eb4a1d",
   "metadata": {},
   "outputs": [
    {
     "name": "stderr",
     "output_type": "stream",
     "text": [
      "/home/ailadin/projects/promptimus/.venv/lib/python3.12/site-packages/pydantic/json_schema.py:2279: PydanticJsonSchemaWarning: Default value <class 'inspect._empty'> is not JSON serializable; excluding default from JSON schema [non-serializable-default]\n",
      "  warnings.warn(message, PydanticJsonSchemaWarning)\n"
     ]
    },
    {
     "data": {
      "text/html": [
       "<pre style=\"white-space:pre;overflow-x:auto;line-height:normal;font-family:Menlo,'DejaVu Sans Mono',consolas,'Courier New',monospace\"></pre>\n"
      ],
      "text/plain": []
     },
     "metadata": {},
     "output_type": "display_data"
    },
    {
     "data": {
      "text/plain": [
       "\n",
       "\u001b[1;35mMessage\u001b[0m\u001b[1m(\u001b[0m\n",
       "    \u001b[33mrole\u001b[0m=\u001b[1m<\u001b[0m\u001b[1;95mMessageRole.ASSISTANT:\u001b[0m\u001b[39m \u001b[0m\u001b[32m'assistant'\u001b[0m\u001b[1m>\u001b[0m,\n",
       "    \u001b[33mcontent\u001b[0m=\u001b[32m'2 in power of 8 is 256.'\u001b[0m,\n",
       "    \u001b[33mtool_calls\u001b[0m=\u001b[3;35mNone\u001b[0m,\n",
       "    \u001b[33mtool_call_id\u001b[0m=\u001b[3;35mNone\u001b[0m\n",
       "\u001b[1m)\u001b[0m"
      ]
     },
     "execution_count": 19,
     "metadata": {},
     "output_type": "execute_result"
    }
   ],
   "source": [
    "await tool_calling.forward(\"What is 2 in power of 8?\")"
   ]
  },
  {
   "cell_type": "code",
   "execution_count": 20,
   "id": "9a8957e9-56f4-4a65-8141-95bb71839488",
   "metadata": {},
   "outputs": [
    {
     "data": {
      "text/html": [
       "<pre style=\"white-space:pre;overflow-x:auto;line-height:normal;font-family:Menlo,'DejaVu Sans Mono',consolas,'Courier New',monospace\"></pre>\n"
      ],
      "text/plain": []
     },
     "metadata": {},
     "output_type": "display_data"
    },
    {
     "data": {
      "text/plain": [
       "\n",
       "\u001b[1m[\u001b[0m\n",
       "    \u001b[1;35mMessage\u001b[0m\u001b[1m(\u001b[0m\n",
       "        \u001b[33mrole\u001b[0m=\u001b[1m<\u001b[0m\u001b[1;95mMessageRole.USER:\u001b[0m\u001b[39m \u001b[0m\u001b[32m'user'\u001b[0m\u001b[39m>,\u001b[0m\n",
       "\u001b[39m        \u001b[0m\u001b[33mcontent\u001b[0m\u001b[39m=\u001b[0m\u001b[32m'What is 2 in power of 8?'\u001b[0m\u001b[39m,\u001b[0m\n",
       "\u001b[39m        \u001b[0m\u001b[33mtool_calls\u001b[0m\u001b[39m=\u001b[0m\u001b[3;35mNone\u001b[0m\u001b[39m,\u001b[0m\n",
       "\u001b[39m        \u001b[0m\u001b[33mtool_call_id\u001b[0m\u001b[39m=\u001b[0m\u001b[3;35mNone\u001b[0m\n",
       "\u001b[39m    \u001b[0m\u001b[1;39m)\u001b[0m\u001b[39m,\u001b[0m\n",
       "\u001b[39m    \u001b[0m\u001b[1;35mMessage\u001b[0m\u001b[1;39m(\u001b[0m\n",
       "\u001b[39m        \u001b[0m\u001b[33mrole\u001b[0m\u001b[39m=<MessageRole.ASSISTANT: \u001b[0m\u001b[32m'assistant'\u001b[0m\u001b[39m>,\u001b[0m\n",
       "\u001b[39m        \u001b[0m\u001b[33mcontent\u001b[0m\u001b[39m=\u001b[0m\u001b[32m''\u001b[0m\u001b[39m,\u001b[0m\n",
       "\u001b[39m        \u001b[0m\u001b[33mtool_calls\u001b[0m\u001b[39m=\u001b[0m\u001b[1;39m[\u001b[0m\n",
       "\u001b[39m            \u001b[0m\u001b[1;35mToolRequest\u001b[0m\u001b[1;39m(\u001b[0m\n",
       "\u001b[39m                \u001b[0m\u001b[33mid\u001b[0m\u001b[39m=\u001b[0m\u001b[32m'call_X1yyNgOPIxcBNaTv3BQcZ8BR'\u001b[0m\u001b[39m,\u001b[0m\n",
       "\u001b[39m                \u001b[0m\u001b[33mtype\u001b[0m\u001b[39m=\u001b[0m\u001b[32m'function'\u001b[0m\u001b[39m,\u001b[0m\n",
       "\u001b[39m                \u001b[0m\u001b[33mfunction\u001b[0m\u001b[39m=\u001b[0m\u001b[1;35mToolFunction\u001b[0m\u001b[1;39m(\u001b[0m\u001b[33mname\u001b[0m\u001b[39m=\u001b[0m\u001b[32m'power'\u001b[0m\u001b[39m, \u001b[0m\u001b[33marguments\u001b[0m\u001b[39m=\u001b[0m\u001b[32m'\u001b[0m\u001b[32m{\u001b[0m\u001b[32m\"a\":2,\"b\":8\u001b[0m\u001b[32m}\u001b[0m\u001b[32m'\u001b[0m\u001b[1;39m)\u001b[0m\n",
       "\u001b[39m            \u001b[0m\u001b[1;39m)\u001b[0m\n",
       "\u001b[39m        \u001b[0m\u001b[1;39m]\u001b[0m\u001b[39m,\u001b[0m\n",
       "\u001b[39m        \u001b[0m\u001b[33mtool_call_id\u001b[0m\u001b[39m=\u001b[0m\u001b[3;35mNone\u001b[0m\n",
       "\u001b[39m    \u001b[0m\u001b[1;39m)\u001b[0m\u001b[39m,\u001b[0m\n",
       "\u001b[39m    \u001b[0m\u001b[1;35mMessage\u001b[0m\u001b[1;39m(\u001b[0m\n",
       "\u001b[39m        \u001b[0m\u001b[33mrole\u001b[0m\u001b[39m=<MessageRole.TOOL: \u001b[0m\u001b[32m'tool'\u001b[0m\u001b[39m>,\u001b[0m\n",
       "\u001b[39m        \u001b[0m\u001b[33mcontent\u001b[0m\u001b[39m=\u001b[0m\u001b[32m'256.0'\u001b[0m\u001b[39m,\u001b[0m\n",
       "\u001b[39m        \u001b[0m\u001b[33mtool_calls\u001b[0m\u001b[39m=\u001b[0m\u001b[3;35mNone\u001b[0m\u001b[39m,\u001b[0m\n",
       "\u001b[39m        \u001b[0m\u001b[33mtool_call_id\u001b[0m\u001b[39m=\u001b[0m\u001b[32m'call_X1yyNgOPIxcBNaTv3BQcZ8BR'\u001b[0m\n",
       "\u001b[39m    \u001b[0m\u001b[1;39m)\u001b[0m\u001b[39m,\u001b[0m\n",
       "\u001b[39m    \u001b[0m\u001b[1;35mMessage\u001b[0m\u001b[1;39m(\u001b[0m\n",
       "\u001b[39m        \u001b[0m\u001b[33mrole\u001b[0m\u001b[39m=<MessageRole.ASSISTANT: \u001b[0m\u001b[32m'assistant'\u001b[0m\u001b[1m>\u001b[0m,\n",
       "        \u001b[33mcontent\u001b[0m=\u001b[32m'2 in power of 8 is 256.'\u001b[0m,\n",
       "        \u001b[33mtool_calls\u001b[0m=\u001b[3;35mNone\u001b[0m,\n",
       "        \u001b[33mtool_call_id\u001b[0m=\u001b[3;35mNone\u001b[0m\n",
       "    \u001b[1m)\u001b[0m\n",
       "\u001b[1m]\u001b[0m"
      ]
     },
     "execution_count": 20,
     "metadata": {},
     "output_type": "execute_result"
    }
   ],
   "source": [
    "tool_calling.predictor.memory.as_list()"
   ]
  },
  {
   "cell_type": "code",
   "execution_count": 21,
   "id": "4eaafe24-20e9-45d7-9066-43fb70053591",
   "metadata": {},
   "outputs": [
    {
     "data": {
      "text/html": [
       "<pre style=\"white-space:pre;overflow-x:auto;line-height:normal;font-family:Menlo,'DejaVu Sans Mono',consolas,'Courier New',monospace\"></pre>\n"
      ],
      "text/plain": []
     },
     "metadata": {},
     "output_type": "display_data"
    },
    {
     "data": {
      "text/plain": [
       "\n",
       "\u001b[1;35mMessage\u001b[0m\u001b[1m(\u001b[0m\n",
       "    \u001b[33mrole\u001b[0m=\u001b[1m<\u001b[0m\u001b[1;95mMessageRole.ASSISTANT:\u001b[0m\u001b[39m \u001b[0m\u001b[32m'assistant'\u001b[0m\u001b[1m>\u001b[0m,\n",
       "    \u001b[33mcontent\u001b[0m=\u001b[32m'The value of 2 raised to the power of 3 is 8, and the factorial of 3 is 6.'\u001b[0m,\n",
       "    \u001b[33mtool_calls\u001b[0m=\u001b[3;35mNone\u001b[0m,\n",
       "    \u001b[33mtool_call_id\u001b[0m=\u001b[3;35mNone\u001b[0m\n",
       "\u001b[1m)\u001b[0m"
      ]
     },
     "execution_count": 21,
     "metadata": {},
     "output_type": "execute_result"
    }
   ],
   "source": [
    "tool_calling.predictor.memory.reset()\n",
    "await tool_calling.forward(\"What is a factorial of (2 in power of 3)?\")"
   ]
  },
  {
   "cell_type": "code",
   "execution_count": 22,
   "id": "1f4a43ad-01f1-4a7f-bd79-6f1d7416dbc9",
   "metadata": {},
   "outputs": [
    {
     "data": {
      "text/html": [
       "<pre style=\"white-space:pre;overflow-x:auto;line-height:normal;font-family:Menlo,'DejaVu Sans Mono',consolas,'Courier New',monospace\"></pre>\n"
      ],
      "text/plain": []
     },
     "metadata": {},
     "output_type": "display_data"
    },
    {
     "data": {
      "text/plain": [
       "\n",
       "\u001b[1m[\u001b[0m\n",
       "    \u001b[1;35mMessage\u001b[0m\u001b[1m(\u001b[0m\n",
       "        \u001b[33mrole\u001b[0m=\u001b[1m<\u001b[0m\u001b[1;95mMessageRole.USER:\u001b[0m\u001b[39m \u001b[0m\u001b[32m'user'\u001b[0m\u001b[39m>,\u001b[0m\n",
       "\u001b[39m        \u001b[0m\u001b[33mcontent\u001b[0m\u001b[39m=\u001b[0m\u001b[32m'What is a factorial of \u001b[0m\u001b[32m(\u001b[0m\u001b[32m2 in power of 3\u001b[0m\u001b[32m)\u001b[0m\u001b[32m?'\u001b[0m\u001b[39m,\u001b[0m\n",
       "\u001b[39m        \u001b[0m\u001b[33mtool_calls\u001b[0m\u001b[39m=\u001b[0m\u001b[3;35mNone\u001b[0m\u001b[39m,\u001b[0m\n",
       "\u001b[39m        \u001b[0m\u001b[33mtool_call_id\u001b[0m\u001b[39m=\u001b[0m\u001b[3;35mNone\u001b[0m\n",
       "\u001b[39m    \u001b[0m\u001b[1;39m)\u001b[0m\u001b[39m,\u001b[0m\n",
       "\u001b[39m    \u001b[0m\u001b[1;35mMessage\u001b[0m\u001b[1;39m(\u001b[0m\n",
       "\u001b[39m        \u001b[0m\u001b[33mrole\u001b[0m\u001b[39m=<MessageRole.ASSISTANT: \u001b[0m\u001b[32m'assistant'\u001b[0m\u001b[39m>,\u001b[0m\n",
       "\u001b[39m        \u001b[0m\u001b[33mcontent\u001b[0m\u001b[39m=\u001b[0m\u001b[32m''\u001b[0m\u001b[39m,\u001b[0m\n",
       "\u001b[39m        \u001b[0m\u001b[33mtool_calls\u001b[0m\u001b[39m=\u001b[0m\u001b[1;39m[\u001b[0m\n",
       "\u001b[39m            \u001b[0m\u001b[1;35mToolRequest\u001b[0m\u001b[1;39m(\u001b[0m\n",
       "\u001b[39m                \u001b[0m\u001b[33mid\u001b[0m\u001b[39m=\u001b[0m\u001b[32m'call_GHFWIYJ4JhJBldGvKrao9SRA'\u001b[0m\u001b[39m,\u001b[0m\n",
       "\u001b[39m                \u001b[0m\u001b[33mtype\u001b[0m\u001b[39m=\u001b[0m\u001b[32m'function'\u001b[0m\u001b[39m,\u001b[0m\n",
       "\u001b[39m                \u001b[0m\u001b[33mfunction\u001b[0m\u001b[39m=\u001b[0m\u001b[1;35mToolFunction\u001b[0m\u001b[1;39m(\u001b[0m\u001b[33mname\u001b[0m\u001b[39m=\u001b[0m\u001b[32m'power'\u001b[0m\u001b[39m, \u001b[0m\u001b[33marguments\u001b[0m\u001b[39m=\u001b[0m\u001b[32m'\u001b[0m\u001b[32m{\u001b[0m\u001b[32m\"a\": 2, \"b\": 3\u001b[0m\u001b[32m}\u001b[0m\u001b[32m'\u001b[0m\u001b[1;39m)\u001b[0m\n",
       "\u001b[39m            \u001b[0m\u001b[1;39m)\u001b[0m\u001b[39m,\u001b[0m\n",
       "\u001b[39m            \u001b[0m\u001b[1;35mToolRequest\u001b[0m\u001b[1;39m(\u001b[0m\n",
       "\u001b[39m                \u001b[0m\u001b[33mid\u001b[0m\u001b[39m=\u001b[0m\u001b[32m'call_UxlFyx3hWjLaO6k0IlsLMpGN'\u001b[0m\u001b[39m,\u001b[0m\n",
       "\u001b[39m                \u001b[0m\u001b[33mtype\u001b[0m\u001b[39m=\u001b[0m\u001b[32m'function'\u001b[0m\u001b[39m,\u001b[0m\n",
       "\u001b[39m                \u001b[0m\u001b[33mfunction\u001b[0m\u001b[39m=\u001b[0m\u001b[1;35mToolFunction\u001b[0m\u001b[1;39m(\u001b[0m\u001b[33mname\u001b[0m\u001b[39m=\u001b[0m\u001b[32m'factorial'\u001b[0m\u001b[39m, \u001b[0m\u001b[33marguments\u001b[0m\u001b[39m=\u001b[0m\u001b[32m'\u001b[0m\u001b[32m{\u001b[0m\u001b[32m\"a\": 3\u001b[0m\u001b[32m}\u001b[0m\u001b[32m'\u001b[0m\u001b[1;39m)\u001b[0m\n",
       "\u001b[39m            \u001b[0m\u001b[1;39m)\u001b[0m\n",
       "\u001b[39m        \u001b[0m\u001b[1;39m]\u001b[0m\u001b[39m,\u001b[0m\n",
       "\u001b[39m        \u001b[0m\u001b[33mtool_call_id\u001b[0m\u001b[39m=\u001b[0m\u001b[3;35mNone\u001b[0m\n",
       "\u001b[39m    \u001b[0m\u001b[1;39m)\u001b[0m\u001b[39m,\u001b[0m\n",
       "\u001b[39m    \u001b[0m\u001b[1;35mMessage\u001b[0m\u001b[1;39m(\u001b[0m\n",
       "\u001b[39m        \u001b[0m\u001b[33mrole\u001b[0m\u001b[39m=<MessageRole.TOOL: \u001b[0m\u001b[32m'tool'\u001b[0m\u001b[39m>,\u001b[0m\n",
       "\u001b[39m        \u001b[0m\u001b[33mcontent\u001b[0m\u001b[39m=\u001b[0m\u001b[32m'8.0'\u001b[0m\u001b[39m,\u001b[0m\n",
       "\u001b[39m        \u001b[0m\u001b[33mtool_calls\u001b[0m\u001b[39m=\u001b[0m\u001b[3;35mNone\u001b[0m\u001b[39m,\u001b[0m\n",
       "\u001b[39m        \u001b[0m\u001b[33mtool_call_id\u001b[0m\u001b[39m=\u001b[0m\u001b[32m'call_GHFWIYJ4JhJBldGvKrao9SRA'\u001b[0m\n",
       "\u001b[39m    \u001b[0m\u001b[1;39m)\u001b[0m\u001b[39m,\u001b[0m\n",
       "\u001b[39m    \u001b[0m\u001b[1;35mMessage\u001b[0m\u001b[1;39m(\u001b[0m\n",
       "\u001b[39m        \u001b[0m\u001b[33mrole\u001b[0m\u001b[39m=<MessageRole.TOOL: \u001b[0m\u001b[32m'tool'\u001b[0m\u001b[39m>,\u001b[0m\n",
       "\u001b[39m        \u001b[0m\u001b[33mcontent\u001b[0m\u001b[39m=\u001b[0m\u001b[32m'6'\u001b[0m\u001b[39m,\u001b[0m\n",
       "\u001b[39m        \u001b[0m\u001b[33mtool_calls\u001b[0m\u001b[39m=\u001b[0m\u001b[3;35mNone\u001b[0m\u001b[39m,\u001b[0m\n",
       "\u001b[39m        \u001b[0m\u001b[33mtool_call_id\u001b[0m\u001b[39m=\u001b[0m\u001b[32m'call_UxlFyx3hWjLaO6k0IlsLMpGN'\u001b[0m\n",
       "\u001b[39m    \u001b[0m\u001b[1;39m)\u001b[0m\u001b[39m,\u001b[0m\n",
       "\u001b[39m    \u001b[0m\u001b[1;35mMessage\u001b[0m\u001b[1;39m(\u001b[0m\n",
       "\u001b[39m        \u001b[0m\u001b[33mrole\u001b[0m\u001b[39m=<MessageRole.ASSISTANT: \u001b[0m\u001b[32m'assistant'\u001b[0m\u001b[1m>\u001b[0m,\n",
       "        \u001b[33mcontent\u001b[0m=\u001b[32m'The value of 2 raised to the power of 3 is 8, and the factorial of 3 is 6.'\u001b[0m,\n",
       "        \u001b[33mtool_calls\u001b[0m=\u001b[3;35mNone\u001b[0m,\n",
       "        \u001b[33mtool_call_id\u001b[0m=\u001b[3;35mNone\u001b[0m\n",
       "    \u001b[1m)\u001b[0m\n",
       "\u001b[1m]\u001b[0m"
      ]
     },
     "execution_count": 22,
     "metadata": {},
     "output_type": "execute_result"
    }
   ],
   "source": [
    "tool_calling.predictor.memory.as_list()"
   ]
  },
  {
   "cell_type": "code",
   "execution_count": 23,
   "id": "68d60a22-fe5c-4e00-a663-96e7a040f267",
   "metadata": {},
   "outputs": [
    {
     "data": {
      "text/html": [
       "<pre style=\"white-space:pre;overflow-x:auto;line-height:normal;font-family:Menlo,'DejaVu Sans Mono',consolas,'Courier New',monospace\"></pre>\n"
      ],
      "text/plain": []
     },
     "metadata": {},
     "output_type": "display_data"
    },
    {
     "data": {
      "text/plain": [
       "\n",
       "\u001b[1;35mMessage\u001b[0m\u001b[1m(\u001b[0m\n",
       "    \u001b[33mrole\u001b[0m=\u001b[1m<\u001b[0m\u001b[1;95mMessageRole.ASSISTANT:\u001b[0m\u001b[39m \u001b[0m\u001b[32m'assistant'\u001b[0m\u001b[1m>\u001b[0m,\n",
       "    \u001b[33mcontent\u001b[0m=\u001b[32m'Twice the factorial of 3 is 12.'\u001b[0m,\n",
       "    \u001b[33mtool_calls\u001b[0m=\u001b[3;35mNone\u001b[0m,\n",
       "    \u001b[33mtool_call_id\u001b[0m=\u001b[3;35mNone\u001b[0m\n",
       "\u001b[1m)\u001b[0m"
      ]
     },
     "execution_count": 23,
     "metadata": {},
     "output_type": "execute_result"
    }
   ],
   "source": [
    "tool_calling.predictor.memory.reset()\n",
    "await tool_calling.forward(\"What is twice the factorial of 3?\")"
   ]
  },
  {
   "cell_type": "code",
   "execution_count": 24,
   "id": "395e8e6a-2c75-49fe-9f44-f5d34c21bf18",
   "metadata": {},
   "outputs": [
    {
     "data": {
      "text/html": [
       "<pre style=\"white-space:pre;overflow-x:auto;line-height:normal;font-family:Menlo,'DejaVu Sans Mono',consolas,'Courier New',monospace\"></pre>\n"
      ],
      "text/plain": []
     },
     "metadata": {},
     "output_type": "display_data"
    },
    {
     "data": {
      "text/plain": [
       "\n",
       "\u001b[1m[\u001b[0m\n",
       "    \u001b[1;35mMessage\u001b[0m\u001b[1m(\u001b[0m\n",
       "        \u001b[33mrole\u001b[0m=\u001b[1m<\u001b[0m\u001b[1;95mMessageRole.USER:\u001b[0m\u001b[39m \u001b[0m\u001b[32m'user'\u001b[0m\u001b[39m>,\u001b[0m\n",
       "\u001b[39m        \u001b[0m\u001b[33mcontent\u001b[0m\u001b[39m=\u001b[0m\u001b[32m'What is twice the factorial of 3?'\u001b[0m\u001b[39m,\u001b[0m\n",
       "\u001b[39m        \u001b[0m\u001b[33mtool_calls\u001b[0m\u001b[39m=\u001b[0m\u001b[3;35mNone\u001b[0m\u001b[39m,\u001b[0m\n",
       "\u001b[39m        \u001b[0m\u001b[33mtool_call_id\u001b[0m\u001b[39m=\u001b[0m\u001b[3;35mNone\u001b[0m\n",
       "\u001b[39m    \u001b[0m\u001b[1;39m)\u001b[0m\u001b[39m,\u001b[0m\n",
       "\u001b[39m    \u001b[0m\u001b[1;35mMessage\u001b[0m\u001b[1;39m(\u001b[0m\n",
       "\u001b[39m        \u001b[0m\u001b[33mrole\u001b[0m\u001b[39m=<MessageRole.ASSISTANT: \u001b[0m\u001b[32m'assistant'\u001b[0m\u001b[39m>,\u001b[0m\n",
       "\u001b[39m        \u001b[0m\u001b[33mcontent\u001b[0m\u001b[39m=\u001b[0m\u001b[32m''\u001b[0m\u001b[39m,\u001b[0m\n",
       "\u001b[39m        \u001b[0m\u001b[33mtool_calls\u001b[0m\u001b[39m=\u001b[0m\u001b[1;39m[\u001b[0m\n",
       "\u001b[39m            \u001b[0m\u001b[1;35mToolRequest\u001b[0m\u001b[1;39m(\u001b[0m\n",
       "\u001b[39m                \u001b[0m\u001b[33mid\u001b[0m\u001b[39m=\u001b[0m\u001b[32m'call_v0n3FvrrmTuFrVC7tVp9PXhh'\u001b[0m\u001b[39m,\u001b[0m\n",
       "\u001b[39m                \u001b[0m\u001b[33mtype\u001b[0m\u001b[39m=\u001b[0m\u001b[32m'function'\u001b[0m\u001b[39m,\u001b[0m\n",
       "\u001b[39m                \u001b[0m\u001b[33mfunction\u001b[0m\u001b[39m=\u001b[0m\u001b[1;35mToolFunction\u001b[0m\u001b[1;39m(\u001b[0m\u001b[33mname\u001b[0m\u001b[39m=\u001b[0m\u001b[32m'factorial'\u001b[0m\u001b[39m, \u001b[0m\u001b[33marguments\u001b[0m\u001b[39m=\u001b[0m\u001b[32m'\u001b[0m\u001b[32m{\u001b[0m\u001b[32m\"a\":3\u001b[0m\u001b[32m}\u001b[0m\u001b[32m'\u001b[0m\u001b[1;39m)\u001b[0m\n",
       "\u001b[39m            \u001b[0m\u001b[1;39m)\u001b[0m\n",
       "\u001b[39m        \u001b[0m\u001b[1;39m]\u001b[0m\u001b[39m,\u001b[0m\n",
       "\u001b[39m        \u001b[0m\u001b[33mtool_call_id\u001b[0m\u001b[39m=\u001b[0m\u001b[3;35mNone\u001b[0m\n",
       "\u001b[39m    \u001b[0m\u001b[1;39m)\u001b[0m\u001b[39m,\u001b[0m\n",
       "\u001b[39m    \u001b[0m\u001b[1;35mMessage\u001b[0m\u001b[1;39m(\u001b[0m\n",
       "\u001b[39m        \u001b[0m\u001b[33mrole\u001b[0m\u001b[39m=<MessageRole.TOOL: \u001b[0m\u001b[32m'tool'\u001b[0m\u001b[39m>,\u001b[0m\n",
       "\u001b[39m        \u001b[0m\u001b[33mcontent\u001b[0m\u001b[39m=\u001b[0m\u001b[32m'6'\u001b[0m\u001b[39m,\u001b[0m\n",
       "\u001b[39m        \u001b[0m\u001b[33mtool_calls\u001b[0m\u001b[39m=\u001b[0m\u001b[3;35mNone\u001b[0m\u001b[39m,\u001b[0m\n",
       "\u001b[39m        \u001b[0m\u001b[33mtool_call_id\u001b[0m\u001b[39m=\u001b[0m\u001b[32m'call_v0n3FvrrmTuFrVC7tVp9PXhh'\u001b[0m\n",
       "\u001b[39m    \u001b[0m\u001b[1;39m)\u001b[0m\u001b[39m,\u001b[0m\n",
       "\u001b[39m    \u001b[0m\u001b[1;35mMessage\u001b[0m\u001b[1;39m(\u001b[0m\n",
       "\u001b[39m        \u001b[0m\u001b[33mrole\u001b[0m\u001b[39m=<MessageRole.ASSISTANT: \u001b[0m\u001b[32m'assistant'\u001b[0m\u001b[39m>,\u001b[0m\n",
       "\u001b[39m        \u001b[0m\u001b[33mcontent\u001b[0m\u001b[39m=\u001b[0m\u001b[32m''\u001b[0m\u001b[39m,\u001b[0m\n",
       "\u001b[39m        \u001b[0m\u001b[33mtool_calls\u001b[0m\u001b[39m=\u001b[0m\u001b[1;39m[\u001b[0m\n",
       "\u001b[39m            \u001b[0m\u001b[1;35mToolRequest\u001b[0m\u001b[1;39m(\u001b[0m\n",
       "\u001b[39m                \u001b[0m\u001b[33mid\u001b[0m\u001b[39m=\u001b[0m\u001b[32m'call_Srj1E4HyC0hxgtWV8ORj7eUL'\u001b[0m\u001b[39m,\u001b[0m\n",
       "\u001b[39m                \u001b[0m\u001b[33mtype\u001b[0m\u001b[39m=\u001b[0m\u001b[32m'function'\u001b[0m\u001b[39m,\u001b[0m\n",
       "\u001b[39m                \u001b[0m\u001b[33mfunction\u001b[0m\u001b[39m=\u001b[0m\u001b[1;35mToolFunction\u001b[0m\u001b[1;39m(\u001b[0m\u001b[33mname\u001b[0m\u001b[39m=\u001b[0m\u001b[32m'multiply'\u001b[0m\u001b[39m, \u001b[0m\u001b[33marguments\u001b[0m\u001b[39m=\u001b[0m\u001b[32m'\u001b[0m\u001b[32m{\u001b[0m\u001b[32m\"a\":2,\"b\":6\u001b[0m\u001b[32m}\u001b[0m\u001b[32m'\u001b[0m\u001b[1;39m)\u001b[0m\n",
       "\u001b[39m            \u001b[0m\u001b[1;39m)\u001b[0m\n",
       "\u001b[39m        \u001b[0m\u001b[1;39m]\u001b[0m\u001b[39m,\u001b[0m\n",
       "\u001b[39m        \u001b[0m\u001b[33mtool_call_id\u001b[0m\u001b[39m=\u001b[0m\u001b[3;35mNone\u001b[0m\n",
       "\u001b[39m    \u001b[0m\u001b[1;39m)\u001b[0m\u001b[39m,\u001b[0m\n",
       "\u001b[39m    \u001b[0m\u001b[1;35mMessage\u001b[0m\u001b[1;39m(\u001b[0m\n",
       "\u001b[39m        \u001b[0m\u001b[33mrole\u001b[0m\u001b[39m=<MessageRole.TOOL: \u001b[0m\u001b[32m'tool'\u001b[0m\u001b[39m>,\u001b[0m\n",
       "\u001b[39m        \u001b[0m\u001b[33mcontent\u001b[0m\u001b[39m=\u001b[0m\u001b[32m'12.0'\u001b[0m\u001b[39m,\u001b[0m\n",
       "\u001b[39m        \u001b[0m\u001b[33mtool_calls\u001b[0m\u001b[39m=\u001b[0m\u001b[3;35mNone\u001b[0m\u001b[39m,\u001b[0m\n",
       "\u001b[39m        \u001b[0m\u001b[33mtool_call_id\u001b[0m\u001b[39m=\u001b[0m\u001b[32m'call_Srj1E4HyC0hxgtWV8ORj7eUL'\u001b[0m\n",
       "\u001b[39m    \u001b[0m\u001b[1;39m)\u001b[0m\u001b[39m,\u001b[0m\n",
       "\u001b[39m    \u001b[0m\u001b[1;35mMessage\u001b[0m\u001b[1;39m(\u001b[0m\n",
       "\u001b[39m        \u001b[0m\u001b[33mrole\u001b[0m\u001b[39m=<MessageRole.ASSISTANT: \u001b[0m\u001b[32m'assistant'\u001b[0m\u001b[1m>\u001b[0m,\n",
       "        \u001b[33mcontent\u001b[0m=\u001b[32m'Twice the factorial of 3 is 12.'\u001b[0m,\n",
       "        \u001b[33mtool_calls\u001b[0m=\u001b[3;35mNone\u001b[0m,\n",
       "        \u001b[33mtool_call_id\u001b[0m=\u001b[3;35mNone\u001b[0m\n",
       "    \u001b[1m)\u001b[0m\n",
       "\u001b[1m]\u001b[0m"
      ]
     },
     "execution_count": 24,
     "metadata": {},
     "output_type": "execute_result"
    }
   ],
   "source": [
    "tool_calling.predictor.memory.as_list()"
   ]
  }
 ],
 "metadata": {
  "kernelspec": {
   "display_name": "promptimus",
   "language": "python",
   "name": "promptimus"
  },
  "language_info": {
   "codemirror_mode": {
    "name": "ipython",
    "version": 3
   },
   "file_extension": ".py",
   "mimetype": "text/x-python",
   "name": "python",
   "nbconvert_exporter": "python",
   "pygments_lexer": "ipython3",
   "version": "3.12.8"
  }
 },
 "nbformat": 4,
 "nbformat_minor": 5
}
