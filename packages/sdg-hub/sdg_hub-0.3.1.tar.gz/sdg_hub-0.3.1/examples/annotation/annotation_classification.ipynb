{
 "cells": [
  {
   "cell_type": "code",
   "execution_count": 1,
   "metadata": {},
   "outputs": [],
   "source": [
    "%load_ext autoreload\n",
    "%autoreload 2"
   ]
  },
  {
   "cell_type": "code",
   "execution_count": 2,
   "metadata": {},
   "outputs": [],
   "source": [
    "# Third Party\n",
    "from datasets import load_dataset\n",
    "from openai import OpenAI\n",
    "from rich import print\n",
    "from rich.panel import Panel\n",
    "from sklearn.metrics import classification_report\n",
    "\n",
    "# First Party\n",
    "from sdg_hub import Flow, FlowMetadata, BlockRegistry\n",
    "\n",
    "import nest_asyncio\n",
    "nest_asyncio.apply()"
   ]
  },
  {
   "cell_type": "markdown",
   "metadata": {},
   "source": [
    "# Classifying news articles\n",
    "\n",
    "\n",
    "In this tutorial, you’ll learn how to create your own custom data generation flow using SDG Hub. This notebook will walk you through all the essential pieces to make your own flow using `sdg_hub` for any use-case using the fundamental components of sdg_hub: `Blocks` and `Flows`\n",
    "\n",
    "As an example use-case, we will pick news classification. Classification is a fundamental task in machine learning, where the goal is to assign predefined categories to input data. To address the classic machine learning use-case of news or text classification, we will use sdg_hub and leverage a language model to **classify news articles** with topic labels — specifically using the [AG News dataset](https://huggingface.co/datasets/fancyzhx/ag_news) from Hugging Face.\n",
    "\n",
    "We’ll go step by step through a progressively improving flow. Each stage builds on the previous one, giving you a practical sense of how you can evolve your flow from using simple heuristics to highly customized and reliable data generation, using different inference paradigms such as self assessment.\n",
    "\n",
    "### 🔍 Understand the Task\n",
    "Before we write any prompts or code, we’ll take time to understand what we want the model to do. For this exercise, the task is **text classification** — assigning one of 4 possible categories (e.g., \"World\", \"Sports\", \"Sci/Tech\", \"Business\") to a given news article\n",
    "\n",
    "### 🛠️ Build a Basic Annotation Flow and learn the `sdg_hub` way\n",
    "We’ll start by creating a minimal flow that simply prompts the model to generate topic labels on the unlabeled data. This will use default prompts, simply populating the prompt with the text and asking the model to generate one of the 4 possible labels, with no examples.\n",
    "\n",
    "### 🎯 Improve with Assessment and Iteration\n",
    "Next, we’ll refine the flow by adding an assessment step. Iterations and self verification on a task often lead to better performance\n",
    "\n",
    "Let’s get started by loading a sample of the dataset"
   ]
  },
  {
   "cell_type": "code",
   "execution_count": 3,
   "metadata": {},
   "outputs": [
    {
     "name": "stderr",
     "output_type": "stream",
     "text": [
      "Generating train split: 100%|██████████| 120000/120000 [00:00<00:00, 1376144.19 examples/s]\n",
      "Generating test split: 100%|██████████| 7600/7600 [00:00<00:00, 1013858.03 examples/s]\n",
      "Map: 100%|██████████| 500/500 [00:00<00:00, 18679.21 examples/s]\n",
      "Map: 100%|██████████| 100/100 [00:00<00:00, 13883.37 examples/s]\n"
     ]
    }
   ],
   "source": [
    "dataset = load_dataset(\"fancyzhx/ag_news\")\n",
    "\n",
    "train_data = dataset[\"train\"].shuffle(seed=42).select(range(500))\n",
    "test_data = dataset[\"test\"].shuffle(seed=42).select(range(100))\n",
    "\n",
    "# map the labels to the category names\n",
    "label_map = train_data.features['label'].names\n",
    "\n",
    "train_data = train_data.map(lambda x: {\"category\": label_map[x[\"label\"]]})\n",
    "test_data = test_data.map(lambda x: {\"category\": label_map[x[\"label\"]]})"
   ]
  },
  {
   "cell_type": "code",
   "execution_count": 4,
   "metadata": {},
   "outputs": [
    {
     "data": {
      "text/html": [
       "<pre style=\"white-space:pre;overflow-x:auto;line-height:normal;font-family:Menlo,'DejaVu Sans Mono',consolas,'Courier New',monospace\">╭──────────────────────────────────────────────── Category: World ────────────────────────────────────────────────╮\n",
       "│ Bangladesh paralysed by strikes Opposition activists have brought many towns and cities in Bangladesh to a      │\n",
       "│ halt, the day after 18 people died in explosions at a political rally.                                          │\n",
       "╰─────────────────────────────────────────────────────────────────────────────────────────────────────────────────╯\n",
       "</pre>\n"
      ],
      "text/plain": [
       "╭──────────────────────────────────────────────── Category: World ────────────────────────────────────────────────╮\n",
       "│ Bangladesh paralysed by strikes Opposition activists have brought many towns and cities in Bangladesh to a      │\n",
       "│ halt, the day after 18 people died in explosions at a political rally.                                          │\n",
       "╰─────────────────────────────────────────────────────────────────────────────────────────────────────────────────╯\n"
      ]
     },
     "metadata": {},
     "output_type": "display_data"
    },
    {
     "data": {
      "text/html": [
       "<pre style=\"white-space:pre;overflow-x:auto;line-height:normal;font-family:Menlo,'DejaVu Sans Mono',consolas,'Courier New',monospace\">╭─────────────────────────────────────────────── Category: Sports ────────────────────────────────────────────────╮\n",
       "│ Desiring Stability Redskins coach Joe Gibbs expects few major personnel changes in the offseason and wants to   │\n",
       "│ instill a culture of stability in Washington.                                                                   │\n",
       "╰─────────────────────────────────────────────────────────────────────────────────────────────────────────────────╯\n",
       "</pre>\n"
      ],
      "text/plain": [
       "╭─────────────────────────────────────────────── Category: Sports ────────────────────────────────────────────────╮\n",
       "│ Desiring Stability Redskins coach Joe Gibbs expects few major personnel changes in the offseason and wants to   │\n",
       "│ instill a culture of stability in Washington.                                                                   │\n",
       "╰─────────────────────────────────────────────────────────────────────────────────────────────────────────────────╯\n"
      ]
     },
     "metadata": {},
     "output_type": "display_data"
    },
    {
     "data": {
      "text/html": [
       "<pre style=\"white-space:pre;overflow-x:auto;line-height:normal;font-family:Menlo,'DejaVu Sans Mono',consolas,'Courier New',monospace\">╭────────────────────────────────────────────── Category: Sci/Tech ───────────────────────────────────────────────╮\n",
       "│ U2 pitches for Apple New iTunes ads airing during baseball games Tuesday will feature the advertising-shy Irish │\n",
       "│ rockers.                                                                                                        │\n",
       "╰─────────────────────────────────────────────────────────────────────────────────────────────────────────────────╯\n",
       "</pre>\n"
      ],
      "text/plain": [
       "╭────────────────────────────────────────────── Category: Sci/Tech ───────────────────────────────────────────────╮\n",
       "│ U2 pitches for Apple New iTunes ads airing during baseball games Tuesday will feature the advertising-shy Irish │\n",
       "│ rockers.                                                                                                        │\n",
       "╰─────────────────────────────────────────────────────────────────────────────────────────────────────────────────╯\n"
      ]
     },
     "metadata": {},
     "output_type": "display_data"
    },
    {
     "data": {
      "text/html": [
       "<pre style=\"white-space:pre;overflow-x:auto;line-height:normal;font-family:Menlo,'DejaVu Sans Mono',consolas,'Courier New',monospace\">╭────────────────────────────────────────────── Category: Business ───────────────────────────────────────────────╮\n",
       "│ Economy builds steam in KC Fed district The economy continued to strengthen in September and early October in   │\n",
       "│ the Great Plains and Rocky Mountain regions covered by the Tenth Federal Reserve District, the Federal Reserve  │\n",
       "│ Bank of Kansas City said Wednesday.                                                                             │\n",
       "╰─────────────────────────────────────────────────────────────────────────────────────────────────────────────────╯\n",
       "</pre>\n"
      ],
      "text/plain": [
       "╭────────────────────────────────────────────── Category: Business ───────────────────────────────────────────────╮\n",
       "│ Economy builds steam in KC Fed district The economy continued to strengthen in September and early October in   │\n",
       "│ the Great Plains and Rocky Mountain regions covered by the Tenth Federal Reserve District, the Federal Reserve  │\n",
       "│ Bank of Kansas City said Wednesday.                                                                             │\n",
       "╰─────────────────────────────────────────────────────────────────────────────────────────────────────────────────╯\n"
      ]
     },
     "metadata": {},
     "output_type": "display_data"
    }
   ],
   "source": [
    "# Group examples by category\n",
    "examples_by_category = {}\n",
    "for item in train_data:\n",
    "    category = item['category']\n",
    "    if category not in examples_by_category:\n",
    "        examples_by_category[category] = []\n",
    "    examples_by_category[category].append(item['text'])\n",
    "\n",
    "# Print one example from each category in a panel\n",
    "for category, examples in examples_by_category.items():\n",
    "    print(Panel(examples[0], title=f\"Category: {category}\", expand=False))\n"
   ]
  },
  {
   "cell_type": "markdown",
   "metadata": {},
   "source": [
    "## Simple Data Annotation Pipeline\n",
    "\n",
    "In this section, we’ll create our **first working flow** to perform classification using a language model. The goal is to understand the building blocks of `sdg_hub` and how we can employ them to get a language model to classify a given text.\n",
    "\n",
    "### Recap: How `sdg_hub` Works\n",
    "\n",
    "```mermaid\n",
    "flowchart LR\n",
    "    A[Flow] --> B[Blocks] --> C[Prompts]\n",
    "    C --> D[Generated Data]\n",
    "```"
   ]
  },
  {
   "cell_type": "markdown",
   "metadata": {},
   "source": [
    "# Building a Simple Classification Flow\n",
    "\n",
    "### Discover Blocks for us to use\n",
    "\n"
   ]
  },
  {
   "cell_type": "code",
   "execution_count": 5,
   "metadata": {},
   "outputs": [
    {
     "data": {
      "text/html": [
       "<pre style=\"white-space:pre;overflow-x:auto;line-height:normal;font-family:Menlo,'DejaVu Sans Mono',consolas,'Courier New',monospace\"><span style=\"font-style: italic\">                                                 Available Blocks                                                  </span>\n",
       "┏━━━━━━━━━━━━━━━━━━━━━━━━━━━━━━┳━━━━━━━━━━━━┳━━━━━━━━━━━━━━━━━━━━━━━━━━━━━━━━━━━━━━━━━━━━━━━━━━━━━━━━━━━━━━━━━━━━━┓\n",
       "┃<span style=\"color: #800080; text-decoration-color: #800080; font-weight: bold\"> Block Name                   </span>┃<span style=\"color: #800080; text-decoration-color: #800080; font-weight: bold\"> Category   </span>┃<span style=\"color: #800080; text-decoration-color: #800080; font-weight: bold\"> Description                                                         </span>┃\n",
       "┡━━━━━━━━━━━━━━━━━━━━━━━━━━━━━━╇━━━━━━━━━━━━╇━━━━━━━━━━━━━━━━━━━━━━━━━━━━━━━━━━━━━━━━━━━━━━━━━━━━━━━━━━━━━━━━━━━━━┩\n",
       "│<span style=\"color: #008080; text-decoration-color: #008080\"> CombineColumnsBlock          </span>│<span style=\"color: #008000; text-decoration-color: #008000\"> deprecated </span>│<span style=\"color: #c0c0c0; text-decoration-color: #c0c0c0\"> DEPRECATED: Use TextConcatBlock instead. Combines multiple columns  </span>│\n",
       "│<span style=\"color: #008080; text-decoration-color: #008080\">                              </span>│<span style=\"color: #008000; text-decoration-color: #008000\">            </span>│<span style=\"color: #c0c0c0; text-decoration-color: #c0c0c0\"> into a single column using a separator                              </span>│\n",
       "│<span style=\"color: #008080; text-decoration-color: #008080\"> DuplicateColumns             </span>│<span style=\"color: #008000; text-decoration-color: #008000\"> deprecated </span>│<span style=\"color: #c0c0c0; text-decoration-color: #c0c0c0\"> DEPRECATED: Use DuplicateColumnsBlock instead. Duplicates existing  </span>│\n",
       "│<span style=\"color: #008080; text-decoration-color: #008080\">                              </span>│<span style=\"color: #008000; text-decoration-color: #008000\">            </span>│<span style=\"color: #c0c0c0; text-decoration-color: #c0c0c0\"> columns with new names according to a mapping dictionary            </span>│\n",
       "│<span style=\"color: #008080; text-decoration-color: #008080\"> FilterByValueBlock           </span>│<span style=\"color: #008000; text-decoration-color: #008000\"> deprecated </span>│<span style=\"color: #c0c0c0; text-decoration-color: #c0c0c0\"> DEPRECATED: Use ColumnValueFilterBlock instead. Filters datasets    </span>│\n",
       "│<span style=\"color: #008080; text-decoration-color: #008080\">                              </span>│<span style=\"color: #008000; text-decoration-color: #008000\">            </span>│<span style=\"color: #c0c0c0; text-decoration-color: #c0c0c0\"> based on column values using various comparison operations          </span>│\n",
       "│<span style=\"color: #008080; text-decoration-color: #008080\"> FlattenColumnsBlock          </span>│<span style=\"color: #008000; text-decoration-color: #008000\"> deprecated </span>│<span style=\"color: #c0c0c0; text-decoration-color: #c0c0c0\"> DEPRECATED: Use MeltColumnsBlock instead. Transforms wide dataset   </span>│\n",
       "│<span style=\"color: #008080; text-decoration-color: #008080\">                              </span>│<span style=\"color: #008000; text-decoration-color: #008000\">            </span>│<span style=\"color: #c0c0c0; text-decoration-color: #c0c0c0\"> format into long format by melting columns into rows                </span>│\n",
       "│<span style=\"color: #008080; text-decoration-color: #008080\"> LLMBlock                     </span>│<span style=\"color: #008000; text-decoration-color: #008000\"> deprecated </span>│<span style=\"color: #c0c0c0; text-decoration-color: #c0c0c0\"> DEPRECATED: Use the new modular approach with PromptBuilderBlock,   </span>│\n",
       "│<span style=\"color: #008080; text-decoration-color: #008080\">                              </span>│<span style=\"color: #008000; text-decoration-color: #008000\">            </span>│<span style=\"color: #c0c0c0; text-decoration-color: #c0c0c0\"> LLMChatBlock, and TextParserBlock instead                           </span>│\n",
       "│<span style=\"color: #008080; text-decoration-color: #008080\"> RenameColumns                </span>│<span style=\"color: #008000; text-decoration-color: #008000\"> deprecated </span>│<span style=\"color: #c0c0c0; text-decoration-color: #c0c0c0\"> DEPRECATED: Use RenameColumnsBlock instead. Renames columns in a    </span>│\n",
       "│<span style=\"color: #008080; text-decoration-color: #008080\">                              </span>│<span style=\"color: #008000; text-decoration-color: #008000\">            </span>│<span style=\"color: #c0c0c0; text-decoration-color: #c0c0c0\"> dataset according to a mapping dictionary                           </span>│\n",
       "│<span style=\"color: #008080; text-decoration-color: #008080\"> SamplePopulatorBlock         </span>│<span style=\"color: #008000; text-decoration-color: #008000\"> deprecated </span>│<span style=\"color: #c0c0c0; text-decoration-color: #c0c0c0\"> DEPRECATED: Use a router block instead. Populates dataset with data </span>│\n",
       "│<span style=\"color: #008080; text-decoration-color: #008080\">                              </span>│<span style=\"color: #008000; text-decoration-color: #008000\">            </span>│<span style=\"color: #c0c0c0; text-decoration-color: #c0c0c0\"> from configuration files                                            </span>│\n",
       "│<span style=\"color: #008080; text-decoration-color: #008080\"> SelectorBlock                </span>│<span style=\"color: #008000; text-decoration-color: #008000\"> deprecated </span>│<span style=\"color: #c0c0c0; text-decoration-color: #c0c0c0\"> DEPRECATED: Use IndexBasedMapperBlock instead. Selects and maps     </span>│\n",
       "│<span style=\"color: #008080; text-decoration-color: #008080\">                              </span>│<span style=\"color: #008000; text-decoration-color: #008000\">            </span>│<span style=\"color: #c0c0c0; text-decoration-color: #c0c0c0\"> values from one column to another                                   </span>│\n",
       "│<span style=\"color: #008080; text-decoration-color: #008080\"> SetToMajorityValue           </span>│<span style=\"color: #008000; text-decoration-color: #008000\"> deprecated </span>│<span style=\"color: #c0c0c0; text-decoration-color: #c0c0c0\"> DEPRECATED: Use UniformColumnValueSetter with                       </span>│\n",
       "│<span style=\"color: #008080; text-decoration-color: #008080\">                              </span>│<span style=\"color: #008000; text-decoration-color: #008000\">            </span>│<span style=\"color: #c0c0c0; text-decoration-color: #c0c0c0\"> reduction_strategy='mode' instead. Sets all values in a column to   </span>│\n",
       "│<span style=\"color: #008080; text-decoration-color: #008080\">                              </span>│<span style=\"color: #008000; text-decoration-color: #008000\">            </span>│<span style=\"color: #c0c0c0; text-decoration-color: #c0c0c0\"> the most frequent value                                             </span>│\n",
       "│<span style=\"color: #008080; text-decoration-color: #008080\"> EvaluateFaithfulnessBlock    </span>│<span style=\"color: #008000; text-decoration-color: #008000\"> evaluation </span>│<span style=\"color: #c0c0c0; text-decoration-color: #c0c0c0\"> Composite block for faithfulness evaluation of question-answer      </span>│\n",
       "│<span style=\"color: #008080; text-decoration-color: #008080\">                              </span>│<span style=\"color: #008000; text-decoration-color: #008000\">            </span>│<span style=\"color: #c0c0c0; text-decoration-color: #c0c0c0\"> pairs                                                               </span>│\n",
       "│<span style=\"color: #008080; text-decoration-color: #008080\"> EvaluateRelevancyBlock       </span>│<span style=\"color: #008000; text-decoration-color: #008000\"> evaluation </span>│<span style=\"color: #c0c0c0; text-decoration-color: #c0c0c0\"> Composite block for relevancy evaluation of question-answer pairs   </span>│\n",
       "│<span style=\"color: #008080; text-decoration-color: #008080\"> VerifyQuestionBlock          </span>│<span style=\"color: #008000; text-decoration-color: #008000\"> evaluation </span>│<span style=\"color: #c0c0c0; text-decoration-color: #c0c0c0\"> Composite block for question verification and quality assessment    </span>│\n",
       "│<span style=\"color: #008080; text-decoration-color: #008080\"> ColumnValueFilterBlock       </span>│<span style=\"color: #008000; text-decoration-color: #008000\"> filtering  </span>│<span style=\"color: #c0c0c0; text-decoration-color: #c0c0c0\"> Filters datasets based on column values using various comparison    </span>│\n",
       "│<span style=\"color: #008080; text-decoration-color: #008080\">                              </span>│<span style=\"color: #008000; text-decoration-color: #008000\">            </span>│<span style=\"color: #c0c0c0; text-decoration-color: #c0c0c0\"> operations                                                          </span>│\n",
       "│<span style=\"color: #008080; text-decoration-color: #008080\"> LLMChatBlock                 </span>│<span style=\"color: #008000; text-decoration-color: #008000\"> llm        </span>│<span style=\"color: #c0c0c0; text-decoration-color: #c0c0c0\"> Unified LLM chat block supporting 100+ providers via LiteLLM        </span>│\n",
       "│<span style=\"color: #008080; text-decoration-color: #008080\"> LLMChatWithParsingRetryBlock </span>│<span style=\"color: #008000; text-decoration-color: #008000\"> llm        </span>│<span style=\"color: #c0c0c0; text-decoration-color: #c0c0c0\"> Composite block combining LLM chat and text parsing with automatic  </span>│\n",
       "│<span style=\"color: #008080; text-decoration-color: #008080\">                              </span>│<span style=\"color: #008000; text-decoration-color: #008000\">            </span>│<span style=\"color: #c0c0c0; text-decoration-color: #c0c0c0\"> retry on parsing failures                                           </span>│\n",
       "│<span style=\"color: #008080; text-decoration-color: #008080\"> PromptBuilderBlock           </span>│<span style=\"color: #008000; text-decoration-color: #008000\"> llm        </span>│<span style=\"color: #c0c0c0; text-decoration-color: #c0c0c0\"> Formats prompts into structured chat messages or plain text using   </span>│\n",
       "│<span style=\"color: #008080; text-decoration-color: #008080\">                              </span>│<span style=\"color: #008000; text-decoration-color: #008000\">            </span>│<span style=\"color: #c0c0c0; text-decoration-color: #c0c0c0\"> Jinja templates                                                     </span>│\n",
       "│<span style=\"color: #008080; text-decoration-color: #008080\"> TextParserBlock              </span>│<span style=\"color: #008000; text-decoration-color: #008000\"> llm        </span>│<span style=\"color: #c0c0c0; text-decoration-color: #c0c0c0\"> Parses and post-processes LLM outputs using tags or regex patterns  </span>│\n",
       "│<span style=\"color: #008080; text-decoration-color: #008080\"> DuplicateColumnsBlock        </span>│<span style=\"color: #008000; text-decoration-color: #008000\"> transform  </span>│<span style=\"color: #c0c0c0; text-decoration-color: #c0c0c0\"> Duplicates existing columns with new names according to a mapping   </span>│\n",
       "│<span style=\"color: #008080; text-decoration-color: #008080\">                              </span>│<span style=\"color: #008000; text-decoration-color: #008000\">            </span>│<span style=\"color: #c0c0c0; text-decoration-color: #c0c0c0\"> specification                                                       </span>│\n",
       "│<span style=\"color: #008080; text-decoration-color: #008080\"> IndexBasedMapperBlock        </span>│<span style=\"color: #008000; text-decoration-color: #008000\"> transform  </span>│<span style=\"color: #c0c0c0; text-decoration-color: #c0c0c0\"> Maps values from source columns to output columns based on choice   </span>│\n",
       "│<span style=\"color: #008080; text-decoration-color: #008080\">                              </span>│<span style=\"color: #008000; text-decoration-color: #008000\">            </span>│<span style=\"color: #c0c0c0; text-decoration-color: #c0c0c0\"> columns using shared mapping                                        </span>│\n",
       "│<span style=\"color: #008080; text-decoration-color: #008080\"> MeltColumnsBlock             </span>│<span style=\"color: #008000; text-decoration-color: #008000\"> transform  </span>│<span style=\"color: #c0c0c0; text-decoration-color: #c0c0c0\"> Transforms wide dataset format into long format by melting columns  </span>│\n",
       "│<span style=\"color: #008080; text-decoration-color: #008080\">                              </span>│<span style=\"color: #008000; text-decoration-color: #008000\">            </span>│<span style=\"color: #c0c0c0; text-decoration-color: #c0c0c0\"> into rows                                                           </span>│\n",
       "│<span style=\"color: #008080; text-decoration-color: #008080\"> RenameColumnsBlock           </span>│<span style=\"color: #008000; text-decoration-color: #008000\"> transform  </span>│<span style=\"color: #c0c0c0; text-decoration-color: #c0c0c0\"> Renames columns in a dataset according to a mapping specification   </span>│\n",
       "│<span style=\"color: #008080; text-decoration-color: #008080\"> TextConcatBlock              </span>│<span style=\"color: #008000; text-decoration-color: #008000\"> transform  </span>│<span style=\"color: #c0c0c0; text-decoration-color: #c0c0c0\"> Combines multiple columns into a single column using a specified    </span>│\n",
       "│<span style=\"color: #008080; text-decoration-color: #008080\">                              </span>│<span style=\"color: #008000; text-decoration-color: #008000\">            </span>│<span style=\"color: #c0c0c0; text-decoration-color: #c0c0c0\"> separator                                                           </span>│\n",
       "│<span style=\"color: #008080; text-decoration-color: #008080\"> UniformColumnValueSetter     </span>│<span style=\"color: #008000; text-decoration-color: #008000\"> transform  </span>│<span style=\"color: #c0c0c0; text-decoration-color: #c0c0c0\"> Replaces all values in a column with a single summary statistic     </span>│\n",
       "│<span style=\"color: #008080; text-decoration-color: #008080\">                              </span>│<span style=\"color: #008000; text-decoration-color: #008000\">            </span>│<span style=\"color: #c0c0c0; text-decoration-color: #c0c0c0\"> (e.g., mode, mean, median)                                          </span>│\n",
       "└──────────────────────────────┴────────────┴─────────────────────────────────────────────────────────────────────┘\n",
       "</pre>\n"
      ],
      "text/plain": [
       "\u001b[3m                                                 Available Blocks                                                  \u001b[0m\n",
       "┏━━━━━━━━━━━━━━━━━━━━━━━━━━━━━━┳━━━━━━━━━━━━┳━━━━━━━━━━━━━━━━━━━━━━━━━━━━━━━━━━━━━━━━━━━━━━━━━━━━━━━━━━━━━━━━━━━━━┓\n",
       "┃\u001b[1;35m \u001b[0m\u001b[1;35mBlock Name                  \u001b[0m\u001b[1;35m \u001b[0m┃\u001b[1;35m \u001b[0m\u001b[1;35mCategory  \u001b[0m\u001b[1;35m \u001b[0m┃\u001b[1;35m \u001b[0m\u001b[1;35mDescription                                                        \u001b[0m\u001b[1;35m \u001b[0m┃\n",
       "┡━━━━━━━━━━━━━━━━━━━━━━━━━━━━━━╇━━━━━━━━━━━━╇━━━━━━━━━━━━━━━━━━━━━━━━━━━━━━━━━━━━━━━━━━━━━━━━━━━━━━━━━━━━━━━━━━━━━┩\n",
       "│\u001b[36m \u001b[0m\u001b[36mCombineColumnsBlock         \u001b[0m\u001b[36m \u001b[0m│\u001b[32m \u001b[0m\u001b[32mdeprecated\u001b[0m\u001b[32m \u001b[0m│\u001b[37m \u001b[0m\u001b[37mDEPRECATED: Use TextConcatBlock instead. Combines multiple columns \u001b[0m\u001b[37m \u001b[0m│\n",
       "│\u001b[36m                              \u001b[0m│\u001b[32m            \u001b[0m│\u001b[37m \u001b[0m\u001b[37minto a single column using a separator                             \u001b[0m\u001b[37m \u001b[0m│\n",
       "│\u001b[36m \u001b[0m\u001b[36mDuplicateColumns            \u001b[0m\u001b[36m \u001b[0m│\u001b[32m \u001b[0m\u001b[32mdeprecated\u001b[0m\u001b[32m \u001b[0m│\u001b[37m \u001b[0m\u001b[37mDEPRECATED: Use DuplicateColumnsBlock instead. Duplicates existing \u001b[0m\u001b[37m \u001b[0m│\n",
       "│\u001b[36m                              \u001b[0m│\u001b[32m            \u001b[0m│\u001b[37m \u001b[0m\u001b[37mcolumns with new names according to a mapping dictionary           \u001b[0m\u001b[37m \u001b[0m│\n",
       "│\u001b[36m \u001b[0m\u001b[36mFilterByValueBlock          \u001b[0m\u001b[36m \u001b[0m│\u001b[32m \u001b[0m\u001b[32mdeprecated\u001b[0m\u001b[32m \u001b[0m│\u001b[37m \u001b[0m\u001b[37mDEPRECATED: Use ColumnValueFilterBlock instead. Filters datasets   \u001b[0m\u001b[37m \u001b[0m│\n",
       "│\u001b[36m                              \u001b[0m│\u001b[32m            \u001b[0m│\u001b[37m \u001b[0m\u001b[37mbased on column values using various comparison operations         \u001b[0m\u001b[37m \u001b[0m│\n",
       "│\u001b[36m \u001b[0m\u001b[36mFlattenColumnsBlock         \u001b[0m\u001b[36m \u001b[0m│\u001b[32m \u001b[0m\u001b[32mdeprecated\u001b[0m\u001b[32m \u001b[0m│\u001b[37m \u001b[0m\u001b[37mDEPRECATED: Use MeltColumnsBlock instead. Transforms wide dataset  \u001b[0m\u001b[37m \u001b[0m│\n",
       "│\u001b[36m                              \u001b[0m│\u001b[32m            \u001b[0m│\u001b[37m \u001b[0m\u001b[37mformat into long format by melting columns into rows               \u001b[0m\u001b[37m \u001b[0m│\n",
       "│\u001b[36m \u001b[0m\u001b[36mLLMBlock                    \u001b[0m\u001b[36m \u001b[0m│\u001b[32m \u001b[0m\u001b[32mdeprecated\u001b[0m\u001b[32m \u001b[0m│\u001b[37m \u001b[0m\u001b[37mDEPRECATED: Use the new modular approach with PromptBuilderBlock,  \u001b[0m\u001b[37m \u001b[0m│\n",
       "│\u001b[36m                              \u001b[0m│\u001b[32m            \u001b[0m│\u001b[37m \u001b[0m\u001b[37mLLMChatBlock, and TextParserBlock instead                          \u001b[0m\u001b[37m \u001b[0m│\n",
       "│\u001b[36m \u001b[0m\u001b[36mRenameColumns               \u001b[0m\u001b[36m \u001b[0m│\u001b[32m \u001b[0m\u001b[32mdeprecated\u001b[0m\u001b[32m \u001b[0m│\u001b[37m \u001b[0m\u001b[37mDEPRECATED: Use RenameColumnsBlock instead. Renames columns in a   \u001b[0m\u001b[37m \u001b[0m│\n",
       "│\u001b[36m                              \u001b[0m│\u001b[32m            \u001b[0m│\u001b[37m \u001b[0m\u001b[37mdataset according to a mapping dictionary                          \u001b[0m\u001b[37m \u001b[0m│\n",
       "│\u001b[36m \u001b[0m\u001b[36mSamplePopulatorBlock        \u001b[0m\u001b[36m \u001b[0m│\u001b[32m \u001b[0m\u001b[32mdeprecated\u001b[0m\u001b[32m \u001b[0m│\u001b[37m \u001b[0m\u001b[37mDEPRECATED: Use a router block instead. Populates dataset with data\u001b[0m\u001b[37m \u001b[0m│\n",
       "│\u001b[36m                              \u001b[0m│\u001b[32m            \u001b[0m│\u001b[37m \u001b[0m\u001b[37mfrom configuration files                                           \u001b[0m\u001b[37m \u001b[0m│\n",
       "│\u001b[36m \u001b[0m\u001b[36mSelectorBlock               \u001b[0m\u001b[36m \u001b[0m│\u001b[32m \u001b[0m\u001b[32mdeprecated\u001b[0m\u001b[32m \u001b[0m│\u001b[37m \u001b[0m\u001b[37mDEPRECATED: Use IndexBasedMapperBlock instead. Selects and maps    \u001b[0m\u001b[37m \u001b[0m│\n",
       "│\u001b[36m                              \u001b[0m│\u001b[32m            \u001b[0m│\u001b[37m \u001b[0m\u001b[37mvalues from one column to another                                  \u001b[0m\u001b[37m \u001b[0m│\n",
       "│\u001b[36m \u001b[0m\u001b[36mSetToMajorityValue          \u001b[0m\u001b[36m \u001b[0m│\u001b[32m \u001b[0m\u001b[32mdeprecated\u001b[0m\u001b[32m \u001b[0m│\u001b[37m \u001b[0m\u001b[37mDEPRECATED: Use UniformColumnValueSetter with                      \u001b[0m\u001b[37m \u001b[0m│\n",
       "│\u001b[36m                              \u001b[0m│\u001b[32m            \u001b[0m│\u001b[37m \u001b[0m\u001b[37mreduction_strategy='mode' instead. Sets all values in a column to  \u001b[0m\u001b[37m \u001b[0m│\n",
       "│\u001b[36m                              \u001b[0m│\u001b[32m            \u001b[0m│\u001b[37m \u001b[0m\u001b[37mthe most frequent value                                            \u001b[0m\u001b[37m \u001b[0m│\n",
       "│\u001b[36m \u001b[0m\u001b[36mEvaluateFaithfulnessBlock   \u001b[0m\u001b[36m \u001b[0m│\u001b[32m \u001b[0m\u001b[32mevaluation\u001b[0m\u001b[32m \u001b[0m│\u001b[37m \u001b[0m\u001b[37mComposite block for faithfulness evaluation of question-answer     \u001b[0m\u001b[37m \u001b[0m│\n",
       "│\u001b[36m                              \u001b[0m│\u001b[32m            \u001b[0m│\u001b[37m \u001b[0m\u001b[37mpairs                                                              \u001b[0m\u001b[37m \u001b[0m│\n",
       "│\u001b[36m \u001b[0m\u001b[36mEvaluateRelevancyBlock      \u001b[0m\u001b[36m \u001b[0m│\u001b[32m \u001b[0m\u001b[32mevaluation\u001b[0m\u001b[32m \u001b[0m│\u001b[37m \u001b[0m\u001b[37mComposite block for relevancy evaluation of question-answer pairs  \u001b[0m\u001b[37m \u001b[0m│\n",
       "│\u001b[36m \u001b[0m\u001b[36mVerifyQuestionBlock         \u001b[0m\u001b[36m \u001b[0m│\u001b[32m \u001b[0m\u001b[32mevaluation\u001b[0m\u001b[32m \u001b[0m│\u001b[37m \u001b[0m\u001b[37mComposite block for question verification and quality assessment   \u001b[0m\u001b[37m \u001b[0m│\n",
       "│\u001b[36m \u001b[0m\u001b[36mColumnValueFilterBlock      \u001b[0m\u001b[36m \u001b[0m│\u001b[32m \u001b[0m\u001b[32mfiltering \u001b[0m\u001b[32m \u001b[0m│\u001b[37m \u001b[0m\u001b[37mFilters datasets based on column values using various comparison   \u001b[0m\u001b[37m \u001b[0m│\n",
       "│\u001b[36m                              \u001b[0m│\u001b[32m            \u001b[0m│\u001b[37m \u001b[0m\u001b[37moperations                                                         \u001b[0m\u001b[37m \u001b[0m│\n",
       "│\u001b[36m \u001b[0m\u001b[36mLLMChatBlock                \u001b[0m\u001b[36m \u001b[0m│\u001b[32m \u001b[0m\u001b[32mllm       \u001b[0m\u001b[32m \u001b[0m│\u001b[37m \u001b[0m\u001b[37mUnified LLM chat block supporting 100+ providers via LiteLLM       \u001b[0m\u001b[37m \u001b[0m│\n",
       "│\u001b[36m \u001b[0m\u001b[36mLLMChatWithParsingRetryBlock\u001b[0m\u001b[36m \u001b[0m│\u001b[32m \u001b[0m\u001b[32mllm       \u001b[0m\u001b[32m \u001b[0m│\u001b[37m \u001b[0m\u001b[37mComposite block combining LLM chat and text parsing with automatic \u001b[0m\u001b[37m \u001b[0m│\n",
       "│\u001b[36m                              \u001b[0m│\u001b[32m            \u001b[0m│\u001b[37m \u001b[0m\u001b[37mretry on parsing failures                                          \u001b[0m\u001b[37m \u001b[0m│\n",
       "│\u001b[36m \u001b[0m\u001b[36mPromptBuilderBlock          \u001b[0m\u001b[36m \u001b[0m│\u001b[32m \u001b[0m\u001b[32mllm       \u001b[0m\u001b[32m \u001b[0m│\u001b[37m \u001b[0m\u001b[37mFormats prompts into structured chat messages or plain text using  \u001b[0m\u001b[37m \u001b[0m│\n",
       "│\u001b[36m                              \u001b[0m│\u001b[32m            \u001b[0m│\u001b[37m \u001b[0m\u001b[37mJinja templates                                                    \u001b[0m\u001b[37m \u001b[0m│\n",
       "│\u001b[36m \u001b[0m\u001b[36mTextParserBlock             \u001b[0m\u001b[36m \u001b[0m│\u001b[32m \u001b[0m\u001b[32mllm       \u001b[0m\u001b[32m \u001b[0m│\u001b[37m \u001b[0m\u001b[37mParses and post-processes LLM outputs using tags or regex patterns \u001b[0m\u001b[37m \u001b[0m│\n",
       "│\u001b[36m \u001b[0m\u001b[36mDuplicateColumnsBlock       \u001b[0m\u001b[36m \u001b[0m│\u001b[32m \u001b[0m\u001b[32mtransform \u001b[0m\u001b[32m \u001b[0m│\u001b[37m \u001b[0m\u001b[37mDuplicates existing columns with new names according to a mapping  \u001b[0m\u001b[37m \u001b[0m│\n",
       "│\u001b[36m                              \u001b[0m│\u001b[32m            \u001b[0m│\u001b[37m \u001b[0m\u001b[37mspecification                                                      \u001b[0m\u001b[37m \u001b[0m│\n",
       "│\u001b[36m \u001b[0m\u001b[36mIndexBasedMapperBlock       \u001b[0m\u001b[36m \u001b[0m│\u001b[32m \u001b[0m\u001b[32mtransform \u001b[0m\u001b[32m \u001b[0m│\u001b[37m \u001b[0m\u001b[37mMaps values from source columns to output columns based on choice  \u001b[0m\u001b[37m \u001b[0m│\n",
       "│\u001b[36m                              \u001b[0m│\u001b[32m            \u001b[0m│\u001b[37m \u001b[0m\u001b[37mcolumns using shared mapping                                       \u001b[0m\u001b[37m \u001b[0m│\n",
       "│\u001b[36m \u001b[0m\u001b[36mMeltColumnsBlock            \u001b[0m\u001b[36m \u001b[0m│\u001b[32m \u001b[0m\u001b[32mtransform \u001b[0m\u001b[32m \u001b[0m│\u001b[37m \u001b[0m\u001b[37mTransforms wide dataset format into long format by melting columns \u001b[0m\u001b[37m \u001b[0m│\n",
       "│\u001b[36m                              \u001b[0m│\u001b[32m            \u001b[0m│\u001b[37m \u001b[0m\u001b[37minto rows                                                          \u001b[0m\u001b[37m \u001b[0m│\n",
       "│\u001b[36m \u001b[0m\u001b[36mRenameColumnsBlock          \u001b[0m\u001b[36m \u001b[0m│\u001b[32m \u001b[0m\u001b[32mtransform \u001b[0m\u001b[32m \u001b[0m│\u001b[37m \u001b[0m\u001b[37mRenames columns in a dataset according to a mapping specification  \u001b[0m\u001b[37m \u001b[0m│\n",
       "│\u001b[36m \u001b[0m\u001b[36mTextConcatBlock             \u001b[0m\u001b[36m \u001b[0m│\u001b[32m \u001b[0m\u001b[32mtransform \u001b[0m\u001b[32m \u001b[0m│\u001b[37m \u001b[0m\u001b[37mCombines multiple columns into a single column using a specified   \u001b[0m\u001b[37m \u001b[0m│\n",
       "│\u001b[36m                              \u001b[0m│\u001b[32m            \u001b[0m│\u001b[37m \u001b[0m\u001b[37mseparator                                                          \u001b[0m\u001b[37m \u001b[0m│\n",
       "│\u001b[36m \u001b[0m\u001b[36mUniformColumnValueSetter    \u001b[0m\u001b[36m \u001b[0m│\u001b[32m \u001b[0m\u001b[32mtransform \u001b[0m\u001b[32m \u001b[0m│\u001b[37m \u001b[0m\u001b[37mReplaces all values in a column with a single summary statistic    \u001b[0m\u001b[37m \u001b[0m│\n",
       "│\u001b[36m                              \u001b[0m│\u001b[32m            \u001b[0m│\u001b[37m \u001b[0m\u001b[37m(e.g., mode, mean, median)                                         \u001b[0m\u001b[37m \u001b[0m│\n",
       "└──────────────────────────────┴────────────┴─────────────────────────────────────────────────────────────────────┘\n"
      ]
     },
     "metadata": {},
     "output_type": "display_data"
    },
    {
     "data": {
      "text/html": [
       "<pre style=\"white-space:pre;overflow-x:auto;line-height:normal;font-family:Menlo,'DejaVu Sans Mono',consolas,'Courier New',monospace\">\n",
       "<span style=\"font-weight: bold\">Summary:</span> <span style=\"color: #008080; text-decoration-color: #008080; font-weight: bold\">23</span> blocks across <span style=\"color: #008080; text-decoration-color: #008080; font-weight: bold\">5</span> categories\n",
       "</pre>\n"
      ],
      "text/plain": [
       "\n",
       "\u001b[1mSummary:\u001b[0m \u001b[1;36m23\u001b[0m blocks across \u001b[1;36m5\u001b[0m categories\n"
      ]
     },
     "metadata": {},
     "output_type": "display_data"
    }
   ],
   "source": [
    "BlockRegistry.discover_blocks()"
   ]
  },
  {
   "cell_type": "markdown",
   "metadata": {},
   "source": [
    "It seems all the functionality we are interested in, such as building a prompt, chatting with an llm and parsing its output are under the `llm` category in sdg_hub. Lets start there."
   ]
  },
  {
   "cell_type": "code",
   "execution_count": 7,
   "metadata": {},
   "outputs": [],
   "source": [
    "from sdg_hub.core.blocks.llm import PromptBuilderBlock, LLMChatBlock, TextParserBlock"
   ]
  },
  {
   "cell_type": "markdown",
   "metadata": {},
   "source": [
    "### Creating the required blocks\n",
    "\n",
    "To get started, we'll construct the simplest possible flow for text classification using SDG Hub. We will focus on 3 main blocks that will often appear as a triplet while using `sdg_hub`\n",
    "\n",
    "1. **Prompt Builder Block**: Converts each input text into a prompt formatted for the LLM. The important input argument to keep in mind for  `PromptBuilderblock` is the `prompt_config_path` which is where the prompt template is saved. Any prompt engineering we would want to do would be done in such a prompt template.\n",
    "2. **LLM Chat Block**: Sends the prompt to the language model and receives its response (the predicted label).\n",
    "3. **Text Parser Block**: Extracts the final label from the LLM's output.\n",
    "\n",
    "This setup results in a single LLM interaction per sample, forming a minimal classification pipeline.\n",
    "\n",
    "We are going to be using the simple prompt that can be found in `news_articles_classification_prompt.yaml`"
   ]
  },
  {
   "cell_type": "code",
   "execution_count": 8,
   "metadata": {},
   "outputs": [],
   "source": [
    "promptbuilderblock_1 = PromptBuilderBlock(block_name='annotation_prompt_builder', input_cols=['text'], output_cols=['annotation_prompt'], prompt_config_path=\"news_classification_prompt.yaml\", format_as_messages=True)\n",
    "llmchatblock_1 = LLMChatBlock(block_name='annotation_llm_chat_block', input_cols=['annotation_prompt'], output_cols=['raw_output'], temperature=0.0, max_tokens=5, extra_body={'guided_choice': ['World', 'Sports', 'Business', 'Sci/Tech']}, async_mode=True)\n",
    "textparserblock_1 = TextParserBlock(block_name='annotation_text_parser_block', input_cols=['raw_output'], output_cols=['output'], start_tags=[''], end_tags=[''])"
   ]
  },
  {
   "cell_type": "markdown",
   "metadata": {},
   "source": [
    "### Designing the `Flow`\n",
    "\n",
    "The `Flow` class is at the heart of SDG Hub. Simply put, a `Flow` is a chain of `Blocks` that get executed sequentially. Here, we will simply chain our PromptBuilder -> LLMChatBlock -> TextParser, in that order:\n",
    "\n",
    "```mermaid\n",
    "flowchart LR\n",
    "    subgraph Flow\n",
    "        direction LR\n",
    "        A[PromptBuilderBlock] --> B[LLMChatBlock] --> C[TextParserBlock]\n",
    "    end\n",
    "```\n",
    "\n"
   ]
  },
  {
   "cell_type": "code",
   "execution_count": 9,
   "metadata": {},
   "outputs": [],
   "source": [
    "flow = Flow(blocks=[promptbuilderblock_1, llmchatblock_1, textparserblock_1], metadata=FlowMetadata(name=\"annotation_flow\", description=\"A flow for news article classification\", author=\"sdg_hub\"))"
   ]
  },
  {
   "cell_type": "markdown",
   "metadata": {},
   "source": [
    "### Set the model configs for the `Flow`\n",
    "\n",
    "In SDG Hub, model details such as the API base URL, the API Key (if any) and the model name are set at a Flow level using the `set_model_config` method as shown. The `model` parameter accepts a string in the format of \"`provider`/`model_name`\". Here our `provider` is 'hosted_vllm' as we are using a locally hosted model through vllm, and the model name is \"meta-llama/Llama-3.3-70B-Instruct\"\n",
    "\n",
    "We must set the `api_base` parameter and point it to where the model endpoint can be found, in this case, `http://localhost:8000/v1`"
   ]
  },
  {
   "cell_type": "code",
   "execution_count": null,
   "metadata": {},
   "outputs": [],
   "source": [
    "flow.set_model_config(model=\"hosted_vllm/meta-llama/Llama-3.3-70B-Instruct\", api_base=\"http://localhost:8000/v1\", api_key=\"\")"
   ]
  },
  {
   "cell_type": "markdown",
   "metadata": {},
   "source": [
    "### Time to generate!\n",
    "\n",
    "In sdg_hub, the way to generate data is very simple. we simply use the `generate` method from `Flow`. At its simplest form, all the `generate` method needs is the input dataset to operate on. Additionally, we can pass runtime parameters for each block as well, if we wish to override any of the block specific model configs."
   ]
  },
  {
   "cell_type": "code",
   "execution_count": null,
   "metadata": {},
   "outputs": [],
   "source": [
    "generated_data = flow.generate(test_data)"
   ]
  },
  {
   "cell_type": "markdown",
   "metadata": {},
   "source": [
    "### Evaluation\n",
    "\n",
    "Now that we’ve generated synthetic labels using our simple classification flow, it’s time to evaluate how well the model performed. The goal of this section is to compare the predicted labels against the **true labels** from the dataset using standard classification metrics (precision, recall, f-1 score and classification accuracy)\n",
    "\n",
    "We’ll use `sklearn.metrics.classification_report`, which provides precision, recall, F1-score, and support for each class.\n"
   ]
  },
  {
   "cell_type": "code",
   "execution_count": 12,
   "metadata": {},
   "outputs": [
    {
     "data": {
      "text/html": [
       "<pre style=\"white-space:pre;overflow-x:auto;line-height:normal;font-family:Menlo,'DejaVu Sans Mono',consolas,'Courier New',monospace\">              precision    recall  f1-score   support\n",
       "\n",
       "    Business       <span style=\"color: #008080; text-decoration-color: #008080; font-weight: bold\">0.47</span>      <span style=\"color: #008080; text-decoration-color: #008080; font-weight: bold\">1.00</span>      <span style=\"color: #008080; text-decoration-color: #008080; font-weight: bold\">0.64</span>        <span style=\"color: #008080; text-decoration-color: #008080; font-weight: bold\">32</span>\n",
       "    Sci/Tech       <span style=\"color: #008080; text-decoration-color: #008080; font-weight: bold\">1.00</span>      <span style=\"color: #008080; text-decoration-color: #008080; font-weight: bold\">0.05</span>      <span style=\"color: #008080; text-decoration-color: #008080; font-weight: bold\">0.10</span>        <span style=\"color: #008080; text-decoration-color: #008080; font-weight: bold\">19</span>\n",
       "      Sports       <span style=\"color: #008080; text-decoration-color: #008080; font-weight: bold\">0.93</span>      <span style=\"color: #008080; text-decoration-color: #008080; font-weight: bold\">1.00</span>      <span style=\"color: #008080; text-decoration-color: #008080; font-weight: bold\">0.96</span>        <span style=\"color: #008080; text-decoration-color: #008080; font-weight: bold\">27</span>\n",
       "       World       <span style=\"color: #008080; text-decoration-color: #008080; font-weight: bold\">1.00</span>      <span style=\"color: #008080; text-decoration-color: #008080; font-weight: bold\">0.09</span>      <span style=\"color: #008080; text-decoration-color: #008080; font-weight: bold\">0.17</span>        <span style=\"color: #008080; text-decoration-color: #008080; font-weight: bold\">22</span>\n",
       "\n",
       "    accuracy                           <span style=\"color: #008080; text-decoration-color: #008080; font-weight: bold\">0.62</span>       <span style=\"color: #008080; text-decoration-color: #008080; font-weight: bold\">100</span>\n",
       "   macro avg       <span style=\"color: #008080; text-decoration-color: #008080; font-weight: bold\">0.85</span>      <span style=\"color: #008080; text-decoration-color: #008080; font-weight: bold\">0.54</span>      <span style=\"color: #008080; text-decoration-color: #008080; font-weight: bold\">0.47</span>       <span style=\"color: #008080; text-decoration-color: #008080; font-weight: bold\">100</span>\n",
       "weighted avg       <span style=\"color: #008080; text-decoration-color: #008080; font-weight: bold\">0.81</span>      <span style=\"color: #008080; text-decoration-color: #008080; font-weight: bold\">0.62</span>      <span style=\"color: #008080; text-decoration-color: #008080; font-weight: bold\">0.52</span>       <span style=\"color: #008080; text-decoration-color: #008080; font-weight: bold\">100</span>\n",
       "\n",
       "</pre>\n"
      ],
      "text/plain": [
       "              precision    recall  f1-score   support\n",
       "\n",
       "    Business       \u001b[1;36m0.47\u001b[0m      \u001b[1;36m1.00\u001b[0m      \u001b[1;36m0.64\u001b[0m        \u001b[1;36m32\u001b[0m\n",
       "    Sci/Tech       \u001b[1;36m1.00\u001b[0m      \u001b[1;36m0.05\u001b[0m      \u001b[1;36m0.10\u001b[0m        \u001b[1;36m19\u001b[0m\n",
       "      Sports       \u001b[1;36m0.93\u001b[0m      \u001b[1;36m1.00\u001b[0m      \u001b[1;36m0.96\u001b[0m        \u001b[1;36m27\u001b[0m\n",
       "       World       \u001b[1;36m1.00\u001b[0m      \u001b[1;36m0.09\u001b[0m      \u001b[1;36m0.17\u001b[0m        \u001b[1;36m22\u001b[0m\n",
       "\n",
       "    accuracy                           \u001b[1;36m0.62\u001b[0m       \u001b[1;36m100\u001b[0m\n",
       "   macro avg       \u001b[1;36m0.85\u001b[0m      \u001b[1;36m0.54\u001b[0m      \u001b[1;36m0.47\u001b[0m       \u001b[1;36m100\u001b[0m\n",
       "weighted avg       \u001b[1;36m0.81\u001b[0m      \u001b[1;36m0.62\u001b[0m      \u001b[1;36m0.52\u001b[0m       \u001b[1;36m100\u001b[0m\n",
       "\n"
      ]
     },
     "metadata": {},
     "output_type": "display_data"
    }
   ],
   "source": [
    "print(classification_report(generated_data[\"category\"], generated_data[\"output\"]))"
   ]
  },
  {
   "cell_type": "markdown",
   "metadata": {},
   "source": [
    "## Introducing an Assessment step\n",
    "\n",
    "Our initial flow used a one step approach — the model was given the task, a fixed label set, and some input text. While this baseline gives us a useful starting point, it has clear limitations:\n",
    "\n",
    "- The model may rely on generic heuristics or surface patterns that don’t generalize well.\n",
    "- It can confuse similar categories (e.g., \"World\" vs. \"Business\") without knowing how they're typically used.\n",
    "- Without guidance, the model may underperform on edge cases or ambiguous queries.\n",
    "\n",
    "\n",
    "### What is Assessment\n",
    "\n",
    "With an assessment step, we will call to the same LLM, but this time, we provide the LLM with its own previous categorization label, and the original text. We will prompt the LLM to think about the original prediction, and give it context about challening cases\n",
    "In this manner, we can elicit critical judgement from the model about its own prior classification decision. This type of additional context can be useful in the next iteration.\n",
    "\n",
    "\n",
    "### What We’ll Do Next\n",
    "\n",
    "We’ll now enhance our flow by introducing another chain of `PromptBuilder` -> `LLMChatBlock` -> `TextParserBlock` whose purpose is to pass the (original text +  prediction) to the LLM and obtain a verification or assessment of the prediction.\n",
    "\n",
    "\n",
    "```mermaid\n",
    "flowchart LR\n",
    " subgraph Flow1[Initial Classification]\n",
    " direction LR\n",
    " A[PromptBuilderBlock] --> B[LLMChatBlock] --> C[TextParserBlock]\n",
    " end\n",
    " subgraph Flow2[Assessment]\n",
    " direction LR\n",
    " D[PromptBuilderBlock_Assessment] --> E[LLMChatBlock_Assessment] --> F[TextParserBlock_Assessment]\n",
    " end\n",
    " \n",
    " C --> D\n",
    "```\n",
    "\n",
    "\n",
    "We will investigate if this catches any of the mis-classifications, and get an idea of how well our verification prompting works!"
   ]
  },
  {
   "cell_type": "code",
   "execution_count": null,
   "metadata": {},
   "outputs": [],
   "source": [
    "promptbuilderblock_assessment = PromptBuilderBlock(block_name='verifier_prompt_builder', input_cols=['text', 'output'], output_cols=['assessment_prompt'], prompt_config_path=\"news_classification_assessment_prompt.yaml\", format_as_messages=True)\n",
    "llmchatblock_assessment = LLMChatBlock(block_name='verifier_llm_chat_block', input_cols=['assessment_prompt'], output_cols=['raw_assessment_output'], async_mode=True)\n",
    "textparserblock_assessment = TextParserBlock(block_name='verifier_text_parser_block', input_cols=['raw_assessment_output'], output_cols=['assessment_output'], start_tags=[''], end_tags=[''])\n",
    "\n",
    "flow = Flow(blocks=[promptbuilderblock_1, llmchatblock_1, textparserblock_1, promptbuilderblock_assessment, llmchatblock_assessment, textparserblock_assessment], metadata=FlowMetadata(name=\"annotation_flow\", description=\"A flow for news article classification\", author=\"sdg_hub\"))\n",
    "flow.set_model_config(model=\"hosted_vllm/meta-llama/Llama-3.3-70B-Instruct\", api_base=\"http://localhost:8000/v1\", api_key=\"\")\n",
    "\n",
    "generated_data = flow.generate(test_data)"
   ]
  },
  {
   "cell_type": "code",
   "execution_count": 16,
   "metadata": {},
   "outputs": [
    {
     "data": {
      "text/html": [
       "<pre style=\"white-space:pre;overflow-x:auto;line-height:normal;font-family:Menlo,'DejaVu Sans Mono',consolas,'Courier New',monospace\">╭────────────────────────────────────────────────── Assessment ───────────────────────────────────────────────────╮\n",
       "│ Assessment: The predicted category of \"Business\" for this news article seems incorrect. The article is a review │\n",
       "│ of a video game, \"Half-Life 2\", and discusses its technical aspects, graphics, and science fiction story. This  │\n",
       "│ content aligns more closely with the Sci/Tech category, which includes tech news, technology innovations, and   │\n",
       "│ product launches.                                                                                               │\n",
       "│                                                                                                                 │\n",
       "│ The mention of Valve Corp., a video game development company, and the discussion of the game's technical        │\n",
       "│ features, such as graphics and original science fiction story, are strong indicators that this article belongs  │\n",
       "│ to the Sci/Tech category. The article does not discuss corporate earnings, market movements, or general         │\n",
       "│ economic indicators, which are typical topics of the Business category.                                         │\n",
       "│                                                                                                                 │\n",
       "│ Therefore, this could be a case of misclassification, and the correct category for this news article should be  │\n",
       "│ Sci/Tech.                                                                                                       │\n",
       "╰─────────────────────────────────────────────────────────────────────────────────────────────────────────────────╯\n",
       "</pre>\n"
      ],
      "text/plain": [
       "╭────────────────────────────────────────────────── Assessment ───────────────────────────────────────────────────╮\n",
       "│ Assessment: The predicted category of \"Business\" for this news article seems incorrect. The article is a review │\n",
       "│ of a video game, \"Half-Life 2\", and discusses its technical aspects, graphics, and science fiction story. This  │\n",
       "│ content aligns more closely with the Sci/Tech category, which includes tech news, technology innovations, and   │\n",
       "│ product launches.                                                                                               │\n",
       "│                                                                                                                 │\n",
       "│ The mention of Valve Corp., a video game development company, and the discussion of the game's technical        │\n",
       "│ features, such as graphics and original science fiction story, are strong indicators that this article belongs  │\n",
       "│ to the Sci/Tech category. The article does not discuss corporate earnings, market movements, or general         │\n",
       "│ economic indicators, which are typical topics of the Business category.                                         │\n",
       "│                                                                                                                 │\n",
       "│ Therefore, this could be a case of misclassification, and the correct category for this news article should be  │\n",
       "│ Sci/Tech.                                                                                                       │\n",
       "╰─────────────────────────────────────────────────────────────────────────────────────────────────────────────────╯\n"
      ]
     },
     "metadata": {},
     "output_type": "display_data"
    },
    {
     "data": {
      "text/html": [
       "<pre style=\"white-space:pre;overflow-x:auto;line-height:normal;font-family:Menlo,'DejaVu Sans Mono',consolas,'Courier New',monospace\">╭────────────────────────────────────────────── Ground truth label ───────────────────────────────────────────────╮\n",
       "│ Sci/Tech                                                                                                        │\n",
       "╰─────────────────────────────────────────────────────────────────────────────────────────────────────────────────╯\n",
       "</pre>\n"
      ],
      "text/plain": [
       "╭────────────────────────────────────────────── Ground truth label ───────────────────────────────────────────────╮\n",
       "│ Sci/Tech                                                                                                        │\n",
       "╰─────────────────────────────────────────────────────────────────────────────────────────────────────────────────╯\n"
      ]
     },
     "metadata": {},
     "output_type": "display_data"
    }
   ],
   "source": [
    "generated_data_pd = generated_data.to_pandas()\n",
    "mislabeled_samples = generated_data_pd[generated_data_pd[\"category\"] != generated_data_pd[\"output\"]]\n",
    "\n",
    "print(Panel(mislabeled_samples.iloc[0]['assessment_output'], title=\"Assessment\"))\n",
    "print(Panel(str(mislabeled_samples.iloc[0]['category']), title=\"Ground truth label\"))"
   ]
  },
  {
   "cell_type": "markdown",
   "metadata": {},
   "source": [
    "Great! Now we can see that the assessment step is working good, especially on the misclassified samples as shown above. The above is a hard example which has slipped past our original classification flow, but was caught by our assessment step's critical judgement."
   ]
  },
  {
   "cell_type": "markdown",
   "metadata": {},
   "source": [
    "### Revising the Classifications\n",
    "\n",
    "We will now create our final revision step, which will take the results of the initial prediction and the assessment steps and pass it onto the LLM once again for a revised attempt at classifying the same input text. The flow can be imagined like so:\n",
    "\n",
    "```mermaid\n",
    "flowchart LR\n",
    " subgraph Flow1[Initial Classification]\n",
    " direction LR\n",
    " A[PromptBuilderBlock] --> B[LLMChatBlock] --> C[TextParserBlock]\n",
    " end\n",
    " subgraph Flow2[Assessment]\n",
    " direction LR\n",
    " D[PromptBuilderBlock_Assessment] --> E[LLMChatBlock_Assessment] --> F[TextParserBlock_Assessment]\n",
    " end\n",
    " subgraph Flow3[Revised Classification]\n",
    " direction LR\n",
    " G[PromptBuilderBlock_Revision] --> H[LLMChatBlock_Revision] --> I[TextParserBlock_Revision]\n",
    " end\n",
    " \n",
    " C --> D\n",
    " F --> G\n",
    "```"
   ]
  },
  {
   "cell_type": "code",
   "execution_count": null,
   "metadata": {},
   "outputs": [],
   "source": [
    "promptbuilderblock_revision = PromptBuilderBlock(block_name='revised_prompt_builder', input_cols=['text', 'output', 'assessment_output'], output_cols=['revised_prompt'], prompt_config_path=\"revise_news_classification_prompt.yaml\", format_as_messages=True)\n",
    "llmchatblock_revision = LLMChatBlock(block_name='revised_llm_chat_block', input_cols=['revised_prompt'], output_cols=['raw_revised_output'], temperature=0.0, max_tokens=5, extra_body={'guided_choice': ['World', 'Sports', 'Business', 'Sci/Tech']}, async_mode=True)\n",
    "textparserblock_revision = TextParserBlock(block_name='revised_text_parser_block', input_cols=['raw_revised_output'], output_cols=['revised_output'], start_tags=[''], end_tags=[''])\n",
    "\n",
    "flow = Flow(blocks=[promptbuilderblock_1, llmchatblock_1, textparserblock_1, promptbuilderblock_assessment, llmchatblock_assessment, textparserblock_assessment, promptbuilderblock_revision, llmchatblock_revision, textparserblock_revision], metadata=FlowMetadata(name=\"news_classification_flow\", description=\"A flow for news article classification with assessment and revision\", author=\"sdg_hub\"))\n",
    "flow.set_model_config(model=\"hosted_vllm/meta-llama/Llama-3.3-70B-Instruct\", api_base=\"http://localhost:8000/v1\", api_key=\"\")"
   ]
  },
  {
   "cell_type": "code",
   "execution_count": null,
   "metadata": {},
   "outputs": [],
   "source": [
    "generated_data = flow.generate(test_data)"
   ]
  },
  {
   "cell_type": "code",
   "execution_count": 19,
   "metadata": {},
   "outputs": [
    {
     "data": {
      "text/html": [
       "<pre style=\"white-space:pre;overflow-x:auto;line-height:normal;font-family:Menlo,'DejaVu Sans Mono',consolas,'Courier New',monospace\">              precision    recall  f1-score   support\n",
       "\n",
       "    Business       <span style=\"color: #008080; text-decoration-color: #008080; font-weight: bold\">0.87</span>      <span style=\"color: #008080; text-decoration-color: #008080; font-weight: bold\">0.84</span>      <span style=\"color: #008080; text-decoration-color: #008080; font-weight: bold\">0.86</span>        <span style=\"color: #008080; text-decoration-color: #008080; font-weight: bold\">32</span>\n",
       "    Sci/Tech       <span style=\"color: #008080; text-decoration-color: #008080; font-weight: bold\">0.73</span>      <span style=\"color: #008080; text-decoration-color: #008080; font-weight: bold\">0.84</span>      <span style=\"color: #008080; text-decoration-color: #008080; font-weight: bold\">0.78</span>        <span style=\"color: #008080; text-decoration-color: #008080; font-weight: bold\">19</span>\n",
       "      Sports       <span style=\"color: #008080; text-decoration-color: #008080; font-weight: bold\">0.93</span>      <span style=\"color: #008080; text-decoration-color: #008080; font-weight: bold\">1.00</span>      <span style=\"color: #008080; text-decoration-color: #008080; font-weight: bold\">0.96</span>        <span style=\"color: #008080; text-decoration-color: #008080; font-weight: bold\">27</span>\n",
       "       World       <span style=\"color: #008080; text-decoration-color: #008080; font-weight: bold\">0.94</span>      <span style=\"color: #008080; text-decoration-color: #008080; font-weight: bold\">0.77</span>      <span style=\"color: #008080; text-decoration-color: #008080; font-weight: bold\">0.85</span>        <span style=\"color: #008080; text-decoration-color: #008080; font-weight: bold\">22</span>\n",
       "\n",
       "    accuracy                           <span style=\"color: #008080; text-decoration-color: #008080; font-weight: bold\">0.87</span>       <span style=\"color: #008080; text-decoration-color: #008080; font-weight: bold\">100</span>\n",
       "   macro avg       <span style=\"color: #008080; text-decoration-color: #008080; font-weight: bold\">0.87</span>      <span style=\"color: #008080; text-decoration-color: #008080; font-weight: bold\">0.86</span>      <span style=\"color: #008080; text-decoration-color: #008080; font-weight: bold\">0.86</span>       <span style=\"color: #008080; text-decoration-color: #008080; font-weight: bold\">100</span>\n",
       "weighted avg       <span style=\"color: #008080; text-decoration-color: #008080; font-weight: bold\">0.88</span>      <span style=\"color: #008080; text-decoration-color: #008080; font-weight: bold\">0.87</span>      <span style=\"color: #008080; text-decoration-color: #008080; font-weight: bold\">0.87</span>       <span style=\"color: #008080; text-decoration-color: #008080; font-weight: bold\">100</span>\n",
       "\n",
       "</pre>\n"
      ],
      "text/plain": [
       "              precision    recall  f1-score   support\n",
       "\n",
       "    Business       \u001b[1;36m0.87\u001b[0m      \u001b[1;36m0.84\u001b[0m      \u001b[1;36m0.86\u001b[0m        \u001b[1;36m32\u001b[0m\n",
       "    Sci/Tech       \u001b[1;36m0.73\u001b[0m      \u001b[1;36m0.84\u001b[0m      \u001b[1;36m0.78\u001b[0m        \u001b[1;36m19\u001b[0m\n",
       "      Sports       \u001b[1;36m0.93\u001b[0m      \u001b[1;36m1.00\u001b[0m      \u001b[1;36m0.96\u001b[0m        \u001b[1;36m27\u001b[0m\n",
       "       World       \u001b[1;36m0.94\u001b[0m      \u001b[1;36m0.77\u001b[0m      \u001b[1;36m0.85\u001b[0m        \u001b[1;36m22\u001b[0m\n",
       "\n",
       "    accuracy                           \u001b[1;36m0.87\u001b[0m       \u001b[1;36m100\u001b[0m\n",
       "   macro avg       \u001b[1;36m0.87\u001b[0m      \u001b[1;36m0.86\u001b[0m      \u001b[1;36m0.86\u001b[0m       \u001b[1;36m100\u001b[0m\n",
       "weighted avg       \u001b[1;36m0.88\u001b[0m      \u001b[1;36m0.87\u001b[0m      \u001b[1;36m0.87\u001b[0m       \u001b[1;36m100\u001b[0m\n",
       "\n"
      ]
     },
     "metadata": {},
     "output_type": "display_data"
    }
   ],
   "source": [
    "print(classification_report(generated_data[\"category\"], generated_data[\"revised_output\"]))"
   ]
  },
  {
   "cell_type": "markdown",
   "metadata": {},
   "source": [
    "🔥 We improved the results drastically! Let us take a look at the number of mislabeled samples before and after the assessment + revision steps\n"
   ]
  },
  {
   "cell_type": "code",
   "execution_count": 20,
   "metadata": {},
   "outputs": [
    {
     "data": {
      "text/html": [
       "<pre style=\"white-space:pre;overflow-x:auto;line-height:normal;font-family:Menlo,'DejaVu Sans Mono',consolas,'Courier New',monospace\">Number of mislabeled samples <span style=\"font-weight: bold\">(</span>original output<span style=\"font-weight: bold\">)</span>: <span style=\"color: #008080; text-decoration-color: #008080; font-weight: bold\">38</span>\n",
       "</pre>\n"
      ],
      "text/plain": [
       "Number of mislabeled samples \u001b[1m(\u001b[0moriginal output\u001b[1m)\u001b[0m: \u001b[1;36m38\u001b[0m\n"
      ]
     },
     "metadata": {},
     "output_type": "display_data"
    },
    {
     "data": {
      "text/html": [
       "<pre style=\"white-space:pre;overflow-x:auto;line-height:normal;font-family:Menlo,'DejaVu Sans Mono',consolas,'Courier New',monospace\">Number of mislabeled samples <span style=\"font-weight: bold\">(</span>revised output<span style=\"font-weight: bold\">)</span>: <span style=\"color: #008080; text-decoration-color: #008080; font-weight: bold\">13</span>\n",
       "</pre>\n"
      ],
      "text/plain": [
       "Number of mislabeled samples \u001b[1m(\u001b[0mrevised output\u001b[1m)\u001b[0m: \u001b[1;36m13\u001b[0m\n"
      ]
     },
     "metadata": {},
     "output_type": "display_data"
    }
   ],
   "source": [
    "generated_data_pd = generated_data.to_pandas()\n",
    "num_mislabeled_output = (generated_data_pd[\"category\"] != generated_data_pd[\"output\"]).sum()\n",
    "num_mislabeled_revised = (generated_data_pd[\"category\"] != generated_data_pd[\"revised_output\"]).sum()\n",
    "print(f\"Number of mislabeled samples (original output): {num_mislabeled_output}\")\n",
    "print(f\"Number of mislabeled samples (revised output): {num_mislabeled_revised}\")\n"
   ]
  },
  {
   "cell_type": "markdown",
   "metadata": {},
   "source": [
    "Great, we whave now improved the classification accuracy of our system by augmenting our naive classification flow by adding an assessment followed by a revision step\n"
   ]
  },
  {
   "cell_type": "markdown",
   "metadata": {},
   "source": [
    "### Export the flow to yaml form\n"
   ]
  },
  {
   "cell_type": "code",
   "execution_count": 18,
   "metadata": {},
   "outputs": [],
   "source": [
    "flow.to_yaml(\"news_classification_flow.yaml\")"
   ]
  },
  {
   "cell_type": "markdown",
   "metadata": {},
   "source": [
    "## ✅ Summary: What You’ve Learned\n",
    "\n",
    "In this tutorial, you learned how to create your own flow for a custom use-case using `sdg_hub`, using the fundamental components: `Flow` and `Block`. You also learned how to create and structure the prompts. You learned how to design an assessment or a judgement step in order to improve the performance of the overall system. You started from scratch and evolved it into a robust, high-accuracy system.\n",
    "\n",
    "## 🚀 What’s Next?\n",
    "\n",
    "* Prompt Engineer! -  You can add examples for classifications directly in the classification steps and see how this improves the performance. In-context examples are extremely effective at aligning the model's outputs to the task at hand\n",
    "* Try it out on your own data!"
   ]
  }
 ],
 "metadata": {
  "kernelspec": {
   "display_name": "venv",
   "language": "python",
   "name": "python3"
  },
  "language_info": {
   "codemirror_mode": {
    "name": "ipython",
    "version": 3
   },
   "file_extension": ".py",
   "mimetype": "text/x-python",
   "name": "python",
   "nbconvert_exporter": "python",
   "pygments_lexer": "ipython3",
   "version": "3.11.11"
  }
 },
 "nbformat": 4,
 "nbformat_minor": 2
}
