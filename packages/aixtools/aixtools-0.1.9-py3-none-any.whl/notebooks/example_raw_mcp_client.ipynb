{
 "cells": [
  {
   "cell_type": "markdown",
   "id": "57d36f62",
   "metadata": {},
   "source": [
    "# Example \"Raw MCP Client\"\n",
    "\n",
    "Run the server using the script:\n",
    "\n",
    "```bash\n",
    "./scripts/run_faulty_mcp_server.sh\n",
    "``` "
   ]
  },
  {
   "cell_type": "code",
   "execution_count": null,
   "id": "cad32e85",
   "metadata": {},
   "outputs": [],
   "source": [
    "from fastmcp import Client\n",
    "import rich\n",
    "\n",
    "client = Client(\"http://localhost:9999/mcp/\")"
   ]
  },
  {
   "cell_type": "code",
   "execution_count": null,
   "id": "e372fc6a",
   "metadata": {},
   "outputs": [],
   "source": [
    "async with client:\n",
    "    # Basic server interaction\n",
    "    await client.ping()\n",
    "    \n",
    "    # # List available operations\n",
    "    # tools = await client.list_tools()\n",
    "    # rich.print(tools)\n",
    "    # \n",
    "    # # Execute 'add' tool\n",
    "    # result = await client.call_tool(\"add\", {\"a\": 7, \"b\": 3})\n",
    "    # rich.print(result)\n",
    "\n",
    "    # Execute 'add' tool\n",
    "    result = await client.call_tool(\"throw_404_exception\", {})\n",
    "    rich.print(result)\n"
   ]
  },
  {
   "cell_type": "code",
   "execution_count": null,
   "id": "a8a743e2",
   "metadata": {},
   "outputs": [],
   "source": []
  }
 ],
 "metadata": {
  "kernelspec": {
   "display_name": ".venv",
   "language": "python",
   "name": "python3"
  },
  "language_info": {
   "codemirror_mode": {
    "name": "ipython",
    "version": 3
   },
   "file_extension": ".py",
   "mimetype": "text/x-python",
   "name": "python",
   "nbconvert_exporter": "python",
   "pygments_lexer": "ipython3",
   "version": "3.12.2"
  }
 },
 "nbformat": 4,
 "nbformat_minor": 5
}
