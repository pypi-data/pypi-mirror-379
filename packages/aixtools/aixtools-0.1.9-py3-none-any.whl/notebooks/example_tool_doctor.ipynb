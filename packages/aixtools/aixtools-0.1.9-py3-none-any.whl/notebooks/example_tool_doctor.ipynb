{
 "cells": [
  {
   "cell_type": "markdown",
   "id": "dab47237",
   "metadata": {},
   "source": [
    "# Tool doctor example"
   ]
  },
  {
   "cell_type": "code",
   "execution_count": null,
   "id": "9735e38c",
   "metadata": {},
   "outputs": [],
   "source": [
    "# Example 1: A reasonably well-defined tool\n",
    "from aixtools.tools.doctor import tool_doctor\n",
    "\n",
    "\n",
    "def add(a: int, b: int) -> int:\n",
    "    \"\"\" Add two numbers \"\"\"\n",
    "    return a + b\n",
    "\n",
    "# Example 2: A poorly defined tool\n",
    "def z(a: int, b: int) -> int:\n",
    "    \"\"\" performs some arithmentic with two parameters \"\"\"\n",
    "    return a + b\n"
   ]
  },
  {
   "cell_type": "code",
   "execution_count": null,
   "id": "e50d48d6",
   "metadata": {},
   "outputs": [],
   "source": [
    "# Call tool doctor\n",
    "ret = await tool_doctor([add, z])"
   ]
  }
 ],
 "metadata": {
  "kernelspec": {
   "display_name": ".venv",
   "language": "python",
   "name": "python3"
  },
  "language_info": {
   "codemirror_mode": {
    "name": "ipython",
    "version": 3
   },
   "file_extension": ".py",
   "mimetype": "text/x-python",
   "name": "python",
   "nbconvert_exporter": "python",
   "pygments_lexer": "ipython3",
   "version": "3.12.2"
  }
 },
 "nbformat": 4,
 "nbformat_minor": 5
}
