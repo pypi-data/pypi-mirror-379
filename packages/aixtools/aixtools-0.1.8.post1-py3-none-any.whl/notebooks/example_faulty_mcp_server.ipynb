{
 "cells": [
  {
   "cell_type": "markdown",
   "id": "57d36f62",
   "metadata": {},
   "source": [
    "# Example \"Faulty MCP Server\"\n",
    "\n",
    "Run the server using the script:\n",
    "\n",
    "```bash\n",
    "./scripts/run_faulty_mcp_server.sh\n",
    "``` "
   ]
  },
  {
   "cell_type": "code",
   "execution_count": null,
   "id": "ebf6d915",
   "metadata": {},
   "outputs": [],
   "source": [
    "from aixtools.agents.agent import get_agent, run_agent\n",
    "from pydantic_ai.mcp import MCPServerStreamableHTTP"
   ]
  },
  {
   "cell_type": "code",
   "execution_count": null,
   "id": "97d1e607",
   "metadata": {},
   "outputs": [],
   "source": [
    "server = MCPServerStreamableHTTP(\"http://localhost:9999/mcp/\")\n",
    "agent = get_agent(mcp_servers=[server])"
   ]
  },
  {
   "cell_type": "code",
   "execution_count": null,
   "id": "fc560d25",
   "metadata": {},
   "outputs": [],
   "source": [
    "async with agent:\n",
    "    # ret = await run_agent(agent, \"What is the add of 40123456789 and 2123456789?\", verbose=True, debug=True)\n",
    "    # ret = await run_agent(agent, \"Invoke the always_error tool\", verbose=True, debug=True)\n",
    "    ret = await run_agent(agent, \"Invoke the throw_404_exception tool\", verbose=True, debug=True)"
   ]
  }
 ],
 "metadata": {
  "kernelspec": {
   "display_name": ".venv",
   "language": "python",
   "name": "python3"
  },
  "language_info": {
   "codemirror_mode": {
    "name": "ipython",
    "version": 3
   },
   "file_extension": ".py",
   "mimetype": "text/x-python",
   "name": "python",
   "nbconvert_exporter": "python",
   "pygments_lexer": "ipython3",
   "version": "3.12.2"
  }
 },
 "nbformat": 4,
 "nbformat_minor": 5
}
