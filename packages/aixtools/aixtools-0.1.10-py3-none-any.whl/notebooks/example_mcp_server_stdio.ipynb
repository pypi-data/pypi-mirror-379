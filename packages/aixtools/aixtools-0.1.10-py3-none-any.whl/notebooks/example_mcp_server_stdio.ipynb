{
 "cells": [
  {
   "cell_type": "markdown",
   "id": "57d36f62",
   "metadata": {},
   "source": [
    "# Example MCP Server STDIO"
   ]
  },
  {
   "cell_type": "code",
   "execution_count": null,
   "id": "ebf6d915",
   "metadata": {},
   "outputs": [],
   "source": [
    "from aixtools.agents.agent import get_agent, run_agent\n",
    "from aixtools.utils.config import PROJECT_DIR\n",
    "from pydantic_ai.mcp import MCPServerStdio"
   ]
  },
  {
   "cell_type": "code",
   "execution_count": null,
   "id": "97d1e607",
   "metadata": {},
   "outputs": [],
   "source": [
    "mcp_path = PROJECT_DIR /'aixtools' / 'mcp' / 'example_server.py'\n",
    "server = MCPServerStdio(command='fastmcp', args=['run', str(mcp_path)])\n",
    "agent = get_agent(mcp_servers=[server])"
   ]
  },
  {
   "cell_type": "code",
   "execution_count": null,
   "id": "fc560d25",
   "metadata": {},
   "outputs": [],
   "source": [
    "async with agent:\n",
    "    ret = await run_agent(agent, \"What is the add of 40123456789 and 2123456789?\", verbose=True, debug=True)"
   ]
  },
  {
   "cell_type": "code",
   "execution_count": null,
   "id": "cad32e85",
   "metadata": {},
   "outputs": [],
   "source": []
  }
 ],
 "metadata": {
  "kernelspec": {
   "display_name": ".venv",
   "language": "python",
   "name": "python3"
  },
  "language_info": {
   "codemirror_mode": {
    "name": "ipython",
    "version": 3
   },
   "file_extension": ".py",
   "mimetype": "text/x-python",
   "name": "python",
   "nbconvert_exporter": "python",
   "pygments_lexer": "ipython3",
   "version": "3.12.2"
  }
 },
 "nbformat": 4,
 "nbformat_minor": 5
}
