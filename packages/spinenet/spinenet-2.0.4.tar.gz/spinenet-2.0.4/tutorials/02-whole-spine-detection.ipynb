{
 "cells": [
  {
   "cell_type": "markdown",
   "metadata": {},
   "source": [
    "# 02. Whole Spine Detection\n",
    "\n",
    "This tutorial shows an example of using SpineNet to detect vertebral bodies in a STIR whole spine sagittal scan. Note that the provided IVD grading model will not work for this example as it is trained on T2 lumbar IVDs, however these detections and the existing code could be used to train a new model for such examples, provided one has a suitable training dataset. We aim to release a tutorial demonstrating how to finetune/retrain the grading model soon. \n",
    "\n",
    "### Load in SpineNet \n",
    "\n",
    "Note that if you have not already downloaded SpineNet's weights from tutorial `01-quickstart.ipynb`, you will need to do this before running this notebook via `spinenet.download_weights(verbose=True, force=False)`.\n"
   ]
  },
  {
   "cell_type": "code",
   "metadata": {
    "ExecuteTime": {
     "end_time": "2025-09-12T08:24:41.769688Z",
     "start_time": "2025-09-12T08:22:53.066940Z"
    }
   },
   "source": [
    "import sys\n",
    "import os\n",
    "from pathlib import Path\n",
    "sys.path.insert(0, str(Path(os.getcwd()).parent)) # Add parent directory to path. This shouldn't be needed if SpineNet is pip-installed\n",
    "\n",
    "import spinenet\n",
    "from spinenet import SpineNet, download_example_scan\n",
    "from spinenet.io import load_dicoms_from_folder\n",
    "\n",
    "spinenet.download_weights(verbose=True, force=True)\n",
    "\n",
    "\n",
    "# load in spinenet. Replace device with 'cpu' if you are not using a CUDA-enabled machine.\n",
    "spnt = SpineNet(device='cpu', verbose=True)\n"
   ],
   "outputs": [
    {
     "name": "stdout",
     "output_type": "stream",
     "text": [
      "Downloading weights...\n",
      "--------------------------------------------------------------------------------\n",
      "Downloading weights...\n",
      "Note: By downloading these weights and/or adapting SpineNet's source code, you agree to the licence which can be found here: https://github.com/rwindsor1/SpineNet/blob/main/LICENCE.md\n",
      "SpineNet is not a diagnostics tool nor a medical device. It should only be used for research.\n",
      "--------------------------------------------------------------------------------\n",
      "Downloading /Users/mmonzon/Code/SpineNet/spinenet/weights/grading/ckpt1.pt from https://www.robots.ox.ac.uk/~vgg/research/spinenet/weights/grading/ckpt1.pt...\n"
     ]
    },
    {
     "name": "stderr",
     "output_type": "stream",
     "text": [
      "/Users/mmonzon/Code/SpineNet/spinenet/weights/grading/ckpt1.pt: 100%|██████████| 242M/242M [00:32<00:00, 7.71MiB/s] \n"
     ]
    },
    {
     "name": "stdout",
     "output_type": "stream",
     "text": [
      "Downloading /Users/mmonzon/Code/SpineNet/spinenet/weights/appearance/ckpt187.pt from https://www.robots.ox.ac.uk/~vgg/research/spinenet/weights/appearance/ckpt187.pt...\n"
     ]
    },
    {
     "name": "stderr",
     "output_type": "stream",
     "text": [
      "/Users/mmonzon/Code/SpineNet/spinenet/weights/appearance/ckpt187.pt: 100%|██████████| 7.40M/7.40M [00:01<00:00, 7.52MiB/s]\n"
     ]
    },
    {
     "name": "stdout",
     "output_type": "stream",
     "text": [
      "Downloading /Users/mmonzon/Code/SpineNet/spinenet/weights/detect-vfr/ckpt435.pt from https://www.robots.ox.ac.uk/~vgg/research/spinenet/weights/detect-vfr/ckpt435.pt...\n"
     ]
    },
    {
     "name": "stderr",
     "output_type": "stream",
     "text": [
      "/Users/mmonzon/Code/SpineNet/spinenet/weights/detect-vfr/ckpt435.pt: 100%|██████████| 532M/532M [01:12<00:00, 7.73MiB/s] \n"
     ]
    },
    {
     "name": "stdout",
     "output_type": "stream",
     "text": [
      "Downloading /Users/mmonzon/Code/SpineNet/spinenet/weights/context/ckpt16.pt from https://www.robots.ox.ac.uk/~vgg/research/spinenet/weights/context/ckpt16.pt...\n"
     ]
    },
    {
     "name": "stderr",
     "output_type": "stream",
     "text": [
      "/Users/mmonzon/Code/SpineNet/spinenet/weights/context/ckpt16.pt: 100%|██████████| 1.96M/1.96M [00:00<00:00, 7.06MiB/s]\n"
     ]
    },
    {
     "name": "stdout",
     "output_type": "stream",
     "text": [
      "Loading Detection Model...\n",
      "==> Loading model trained for 436 epochs...\n",
      "Loading Appearance Model...\n",
      "==> Loading model trained for 188 epochs...\n",
      "Loading Context Model...\n",
      "==> Loading model trained for 17 epochs...\n",
      "Loading Grading Model...\n",
      "==> Loading model trained for 2 epochs...\n"
     ]
    }
   ],
   "execution_count": 10
  },
  {
   "cell_type": "markdown",
   "metadata": {},
   "source": [
    "## Load Example Scan"
   ]
  },
  {
   "cell_type": "code",
   "metadata": {
    "ExecuteTime": {
     "end_time": "2025-09-12T09:29:16.544744Z",
     "start_time": "2025-09-12T09:29:16.238132Z"
    }
   },
   "source": [
    "# download example scans to 'example_scans' folder in current directory\n",
    "scan_name = 't2_lumbar_scan_1'\n",
    "example_scan_folder = './example_scans'\n",
    "os.makedirs(example_scan_folder, exist_ok=True)\n",
    "download_example_scan(scan_name, file_path=example_scan_folder)\n",
    "example_scan_folder = f'{example_scan_folder}/{scan_name}'\n",
    "\n",
    "# metadata to be overwritten in the scan - useful if certain important values are missing from some/all dicom files\n",
    "# in this case, slice thickness and image orientation are missing from the dicom files and so we add false values\n",
    "# of 2mm and a sagittal orientation code ([0,1,0,0,0,1]). \n",
    "# Do not overwrite this metadata if it already exists in the dicom files being used.\n",
    "# NOTE: the PixelSpacing metadata for this scan is also wrong (it would make the whole scan 17cm wide!), so we inject\n",
    "# more credible values to the model\n",
    "overwrite_dict = {'SliceThickness': [2], 'ImageOrientationPatient': [0, 1, 0, 0, 0, -1], \"PixelSpacing\": [1.5, 1.5]}\n",
    "\n",
    "\n",
    "# loads in a dicom from the example scan folder.\n",
    "# if set, the `require_extensions` flag requires that files end with `.dcm`\n",
    "scan = load_dicoms_from_folder(example_scan_folder, require_extensions=False, metadata_overwrites=overwrite_dict)\n"
   ],
   "outputs": [
    {
     "name": "stdout",
     "output_type": "stream",
     "text": [
      "Downloading ./example_scans/temp_file.zip from https://www.robots.ox.ac.uk/~vgg/research/spinenet/example_scans/t2_lumbar_scan_1.zip...\n"
     ]
    },
    {
     "name": "stderr",
     "output_type": "stream",
     "text": [
      "./example_scans/temp_file.zip: 100%|██████████| 2.29M/2.29M [00:00<00:00, 15.4MiB/s]\n"
     ]
    }
   ],
   "execution_count": 12
  },
  {
   "cell_type": "markdown",
   "metadata": {},
   "source": [
    "### Detect Vertebrae + Show Results"
   ]
  },
  {
   "cell_type": "code",
   "metadata": {
    "ExecuteTime": {
     "end_time": "2025-09-17T07:58:43.992019Z",
     "start_time": "2025-09-17T07:58:43.866399Z"
    }
   },
   "source": [
    "\n",
    "# detect and identify vertebrae in scan. Note that pixel spacing information is required \n",
    "# so SpineNet knows what size to split patches into.\n",
    "vert_dicts = spnt.detect_vb(scan.volume, scan.pixel_spacing)\n",
    "\n",
    "# now show results\n",
    "import numpy as np\n",
    "import matplotlib.pyplot as plt\n",
    "from matplotlib.patches import Polygon\n",
    "# plot mid sagittal slice and detected vertebrae\n",
    "plt.figure(figsize=(10,10))\n",
    "plt.imshow(scan.volume[:,:,scan.volume.shape[-1]//2], cmap='gray')\n",
    "for idx, vert_dict in enumerate(vert_dicts):\n",
    "    # if scan.volume.shape[-1]//2 in vert_dict['slice_nos']:\n",
    "    poly = np.array(vert_dict['average_polygon'])\n",
    "    plt.gca().add_patch(Polygon(poly, fc='none', ec='y'))\n",
    "    plt.text(np.mean(poly[:,0]), np.mean(poly[:,1]), vert_dict['predicted_label'], color='y',fontsize=20, va='center', ha='center')\n",
    "\n",
    "plt.axis('off')\n",
    "plt.title('Detected Vertebrae (Mid Sagittal Slice)')\n",
    "plt.show()"
   ],
   "outputs": [
    {
     "ename": "NameError",
     "evalue": "name 'spnt' is not defined",
     "output_type": "error",
     "traceback": [
      "\u001B[31m---------------------------------------------------------------------------\u001B[39m",
      "\u001B[31mNameError\u001B[39m                                 Traceback (most recent call last)",
      "\u001B[36mCell\u001B[39m\u001B[36m \u001B[39m\u001B[32mIn[1]\u001B[39m\u001B[32m, line 3\u001B[39m\n\u001B[32m      1\u001B[39m \u001B[38;5;66;03m# detect and identify vertebrae in scan. Note that pixel spacing information is required \u001B[39;00m\n\u001B[32m      2\u001B[39m \u001B[38;5;66;03m# so SpineNet knows what size to split patches into.\u001B[39;00m\n\u001B[32m----> \u001B[39m\u001B[32m3\u001B[39m vert_dicts = \u001B[43mspnt\u001B[49m.detect_vb(scan.volume, scan.pixel_spacing)\n\u001B[32m      5\u001B[39m \u001B[38;5;66;03m# now show results\u001B[39;00m\n\u001B[32m      6\u001B[39m \u001B[38;5;28;01mimport\u001B[39;00m\u001B[38;5;250m \u001B[39m\u001B[34;01mnumpy\u001B[39;00m\u001B[38;5;250m \u001B[39m\u001B[38;5;28;01mas\u001B[39;00m\u001B[38;5;250m \u001B[39m\u001B[34;01mnp\u001B[39;00m\n",
      "\u001B[31mNameError\u001B[39m: name 'spnt' is not defined"
     ]
    }
   ],
   "execution_count": 1
  },
  {
   "cell_type": "markdown",
   "metadata": {},
   "source": [
    "## Save Vertebra Detection Results\n",
    "\n",
    "Finally, save the results as a json file"
   ]
  },
  {
   "cell_type": "code",
   "execution_count": 5,
   "metadata": {},
   "outputs": [],
   "source": [
    "results_folder = './results'\n",
    "os.makedirs(results_folder, exist_ok=True)\n",
    "\n",
    "from spinenet.io import save_vert_dicts_to_csv\n",
    "\n",
    "save_vert_dicts_to_csv(vert_dicts, f'{results_folder}/{scan_name}_vert_dicts.csv')\n"
   ]
  }
 ],
 "metadata": {
  "kernelspec": {
   "display_name": "Python 3.9.12 ('default_env')",
   "language": "python",
   "name": "python3"
  },
  "language_info": {
   "codemirror_mode": {
    "name": "ipython",
    "version": 3
   },
   "file_extension": ".py",
   "mimetype": "text/x-python",
   "name": "python",
   "nbconvert_exporter": "python",
   "pygments_lexer": "ipython3",
   "version": "3.9.13"
  },
  "orig_nbformat": 4,
  "vscode": {
   "interpreter": {
    "hash": "23df70d482b35e79876ee24f72a1adf1a99bbd330d7b589c7509f8cde77b70e2"
   }
  }
 },
 "nbformat": 4,
 "nbformat_minor": 2
}
