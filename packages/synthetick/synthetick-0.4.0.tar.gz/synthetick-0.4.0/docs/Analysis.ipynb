{
 "cells": [
  {
   "cell_type": "markdown",
   "id": "296928cc-1a32-46fb-a598-fc1994c21709",
   "metadata": {},
   "source": [
    "# Tick Density Analysis"
   ]
  },
  {
   "cell_type": "markdown",
   "id": "eb8a225f-e11c-4b63-a722-5b959efa3ec1",
   "metadata": {},
   "source": [
    "This notebook presents the analysis of two instruments to understand the behavior from the point of view of the tick frequency."
   ]
  },
  {
   "cell_type": "code",
   "execution_count": 33,
   "id": "e972dad1-a09f-4fb8-961e-abaf3f0beddb",
   "metadata": {
    "execution": {
     "iopub.execute_input": "2024-05-30T13:53:43.161342Z",
     "iopub.status.busy": "2024-05-30T13:53:43.159794Z",
     "iopub.status.idle": "2024-05-30T13:53:43.163837Z",
     "shell.execute_reply": "2024-05-30T13:53:43.163549Z",
     "shell.execute_reply.started": "2024-05-30T13:53:43.161324Z"
    }
   },
   "outputs": [],
   "source": [
    "import pandas as pd\n",
    "import matplotlib.pyplot as plt\n",
    "%matplotlib inline"
   ]
  },
  {
   "cell_type": "code",
   "execution_count": 34,
   "id": "18153625-bab7-4378-9d19-964faf6ac34f",
   "metadata": {
    "execution": {
     "iopub.execute_input": "2024-05-30T13:53:43.504680Z",
     "iopub.status.busy": "2024-05-30T13:53:43.504518Z",
     "iopub.status.idle": "2024-05-30T13:53:43.507442Z",
     "shell.execute_reply": "2024-05-30T13:53:43.506967Z",
     "shell.execute_reply.started": "2024-05-30T13:53:43.504669Z"
    }
   },
   "outputs": [],
   "source": [
    "import glob"
   ]
  },
  {
   "cell_type": "code",
   "execution_count": 35,
   "id": "6ee8a21d-280b-4f42-8264-bed294a061c4",
   "metadata": {
    "execution": {
     "iopub.execute_input": "2024-05-30T13:53:43.892643Z",
     "iopub.status.busy": "2024-05-30T13:53:43.892107Z",
     "iopub.status.idle": "2024-05-30T13:53:43.897037Z",
     "shell.execute_reply": "2024-05-30T13:53:43.896495Z",
     "shell.execute_reply.started": "2024-05-30T13:53:43.892600Z"
    }
   },
   "outputs": [],
   "source": [
    "data_sets = glob.glob(\"*.csv\")"
   ]
  },
  {
   "cell_type": "code",
   "execution_count": null,
   "id": "de998baf-7da3-4d1a-b87c-32e4996c9ea9",
   "metadata": {
    "execution": {
     "iopub.execute_input": "2024-05-30T13:56:46.041602Z",
     "iopub.status.busy": "2024-05-30T13:56:46.041277Z"
    }
   },
   "outputs": [],
   "source": [
    "\n",
    "for file_name in data_sets:\n",
    "\n",
    "    symbol = file_name[:6]\n",
    "    df = pd.read_csv(file_name, \n",
    "                     parse_dates=True, \n",
    "                     header=0,\n",
    "                     names=[\"date-time\", \"ask\", \"bid\", \"ask-volume\", \"bid-volume\"],\n",
    "                     index_col=[\"date-time\"])\n",
    "    ticks_per_second = df.resample(\"S\").count()\n",
    "    \n",
    "    fig, ax = plt.subplots(1,3, figsize=(7,3))\n",
    "    ticks_per_second[\"ask\"].hist(bins=50, ax=ax[0])\n",
    "    ax[0].set_title(f\"Ticks per second {symbol}\")\n",
    "    ax[0].set_xlabel(\"ticks/second\")\n",
    "    ax[0].set_ylabel(\"periods\")\n",
    "    \n",
    "    ax_object = ticks_per_second[\"ask\"].plot.box(ax=ax[1])\n",
    "    ax[1].set_title(f\"box plot {symbol}\")\n",
    "\n",
    "    ticks_per_second[\"ask\"].plot(ax=ax[2], kind=\"bar\")"
   ]
  },
  {
   "cell_type": "code",
   "execution_count": null,
   "id": "2234bf0a-4f32-4b49-a08f-c4213f7609f2",
   "metadata": {},
   "outputs": [],
   "source": []
  }
 ],
 "metadata": {
  "kernelspec": {
   "display_name": "Python 3 (ipykernel)",
   "language": "python",
   "name": "python3"
  },
  "language_info": {
   "codemirror_mode": {
    "name": "ipython",
    "version": 3
   },
   "file_extension": ".py",
   "mimetype": "text/x-python",
   "name": "python",
   "nbconvert_exporter": "python",
   "pygments_lexer": "ipython3",
   "version": "3.11.6"
  }
 },
 "nbformat": 4,
 "nbformat_minor": 5
}
