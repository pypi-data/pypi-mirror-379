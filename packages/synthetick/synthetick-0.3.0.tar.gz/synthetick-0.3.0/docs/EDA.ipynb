{
 "cells": [
  {
   "cell_type": "code",
   "execution_count": 22,
   "id": "aea7f4fd-ad63-4056-832a-28179ba5ac75",
   "metadata": {
    "execution": {
     "iopub.execute_input": "2024-08-01T23:31:19.863490Z",
     "iopub.status.busy": "2024-08-01T23:31:19.863259Z",
     "iopub.status.idle": "2024-08-01T23:31:19.866089Z",
     "shell.execute_reply": "2024-08-01T23:31:19.865591Z",
     "shell.execute_reply.started": "2024-08-01T23:31:19.863477Z"
    }
   },
   "outputs": [],
   "source": [
    "import pandas as pd"
   ]
  },
  {
   "cell_type": "markdown",
   "id": "1b75b9fb-15ce-42c8-9f47-26d4d77b33ba",
   "metadata": {},
   "source": [
    "## Fixed Amount of Ticks Emitted"
   ]
  },
  {
   "cell_type": "code",
   "execution_count": 23,
   "id": "962459cc-4f09-404b-8e3e-740d1281a86c",
   "metadata": {
    "execution": {
     "iopub.execute_input": "2024-08-01T23:31:20.266618Z",
     "iopub.status.busy": "2024-08-01T23:31:20.266102Z",
     "iopub.status.idle": "2024-08-01T23:31:20.274040Z",
     "shell.execute_reply": "2024-08-01T23:31:20.272936Z",
     "shell.execute_reply.started": "2024-08-01T23:31:20.266574Z"
    }
   },
   "outputs": [],
   "source": [
    "df = pd.read_csv(\"../test_tick_emit_1000.csv\", parse_dates=True)\n",
    "df[\"date-time\"] = pd.to_datetime(df[\"date-time\"])"
   ]
  },
  {
   "cell_type": "code",
   "execution_count": 24,
   "id": "6012c5d0-f53f-465f-b63d-87426d8262d5",
   "metadata": {
    "execution": {
     "iopub.execute_input": "2024-08-01T23:31:22.229331Z",
     "iopub.status.busy": "2024-08-01T23:31:22.228800Z",
     "iopub.status.idle": "2024-08-01T23:31:22.244078Z",
     "shell.execute_reply": "2024-08-01T23:31:22.243225Z",
     "shell.execute_reply.started": "2024-08-01T23:31:22.229288Z"
    }
   },
   "outputs": [
    {
     "data": {
      "text/html": [
       "<div>\n",
       "<style scoped>\n",
       "    .dataframe tbody tr th:only-of-type {\n",
       "        vertical-align: middle;\n",
       "    }\n",
       "\n",
       "    .dataframe tbody tr th {\n",
       "        vertical-align: top;\n",
       "    }\n",
       "\n",
       "    .dataframe thead th {\n",
       "        text-align: right;\n",
       "    }\n",
       "</style>\n",
       "<table border=\"1\" class=\"dataframe\">\n",
       "  <thead>\n",
       "    <tr style=\"text-align: right;\">\n",
       "      <th></th>\n",
       "      <th>Unnamed: 0</th>\n",
       "      <th>date-time</th>\n",
       "      <th>bid</th>\n",
       "      <th>ask</th>\n",
       "      <th>price-change</th>\n",
       "      <th>spread</th>\n",
       "    </tr>\n",
       "  </thead>\n",
       "  <tbody>\n",
       "    <tr>\n",
       "      <th>0</th>\n",
       "      <td>0</td>\n",
       "      <td>2024-08-01 20:30:49.889188</td>\n",
       "      <td>1.13000</td>\n",
       "      <td>1.13023</td>\n",
       "      <td>0.00000</td>\n",
       "      <td>0.00023</td>\n",
       "    </tr>\n",
       "    <tr>\n",
       "      <th>1</th>\n",
       "      <td>1</td>\n",
       "      <td>2024-08-01 20:30:49.899366</td>\n",
       "      <td>1.13042</td>\n",
       "      <td>1.13064</td>\n",
       "      <td>0.00042</td>\n",
       "      <td>0.00022</td>\n",
       "    </tr>\n",
       "    <tr>\n",
       "      <th>2</th>\n",
       "      <td>2</td>\n",
       "      <td>2024-08-01 20:30:49.911803</td>\n",
       "      <td>1.13103</td>\n",
       "      <td>1.13134</td>\n",
       "      <td>0.00061</td>\n",
       "      <td>0.00031</td>\n",
       "    </tr>\n",
       "    <tr>\n",
       "      <th>3</th>\n",
       "      <td>3</td>\n",
       "      <td>2024-08-01 20:30:49.920951</td>\n",
       "      <td>1.13152</td>\n",
       "      <td>1.13177</td>\n",
       "      <td>0.00049</td>\n",
       "      <td>0.00025</td>\n",
       "    </tr>\n",
       "    <tr>\n",
       "      <th>4</th>\n",
       "      <td>4</td>\n",
       "      <td>2024-08-01 20:30:49.931985</td>\n",
       "      <td>1.13023</td>\n",
       "      <td>1.13041</td>\n",
       "      <td>-0.00129</td>\n",
       "      <td>0.00018</td>\n",
       "    </tr>\n",
       "  </tbody>\n",
       "</table>\n",
       "</div>"
      ],
      "text/plain": [
       "   Unnamed: 0                  date-time      bid      ask  price-change  \\\n",
       "0           0 2024-08-01 20:30:49.889188  1.13000  1.13023       0.00000   \n",
       "1           1 2024-08-01 20:30:49.899366  1.13042  1.13064       0.00042   \n",
       "2           2 2024-08-01 20:30:49.911803  1.13103  1.13134       0.00061   \n",
       "3           3 2024-08-01 20:30:49.920951  1.13152  1.13177       0.00049   \n",
       "4           4 2024-08-01 20:30:49.931985  1.13023  1.13041      -0.00129   \n",
       "\n",
       "    spread  \n",
       "0  0.00023  \n",
       "1  0.00022  \n",
       "2  0.00031  \n",
       "3  0.00025  \n",
       "4  0.00018  "
      ]
     },
     "execution_count": 24,
     "metadata": {},
     "output_type": "execute_result"
    }
   ],
   "source": [
    "df.head()"
   ]
  },
  {
   "cell_type": "code",
   "execution_count": 25,
   "id": "06279788-296b-4398-a4a7-ce0262befd98",
   "metadata": {
    "execution": {
     "iopub.execute_input": "2024-08-01T23:31:23.771032Z",
     "iopub.status.busy": "2024-08-01T23:31:23.770876Z",
     "iopub.status.idle": "2024-08-01T23:31:23.784154Z",
     "shell.execute_reply": "2024-08-01T23:31:23.783591Z",
     "shell.execute_reply.started": "2024-08-01T23:31:23.771020Z"
    }
   },
   "outputs": [
    {
     "data": {
      "text/html": [
       "<div>\n",
       "<style scoped>\n",
       "    .dataframe tbody tr th:only-of-type {\n",
       "        vertical-align: middle;\n",
       "    }\n",
       "\n",
       "    .dataframe tbody tr th {\n",
       "        vertical-align: top;\n",
       "    }\n",
       "\n",
       "    .dataframe thead th {\n",
       "        text-align: right;\n",
       "    }\n",
       "</style>\n",
       "<table border=\"1\" class=\"dataframe\">\n",
       "  <thead>\n",
       "    <tr style=\"text-align: right;\">\n",
       "      <th></th>\n",
       "      <th>Unnamed: 0</th>\n",
       "      <th>date-time</th>\n",
       "      <th>bid</th>\n",
       "      <th>ask</th>\n",
       "      <th>price-change</th>\n",
       "      <th>spread</th>\n",
       "    </tr>\n",
       "  </thead>\n",
       "  <tbody>\n",
       "    <tr>\n",
       "      <th>count</th>\n",
       "      <td>1000.000000</td>\n",
       "      <td>1000</td>\n",
       "      <td>1000.000000</td>\n",
       "      <td>1000.000000</td>\n",
       "      <td>1000.000000</td>\n",
       "      <td>1000.000000</td>\n",
       "    </tr>\n",
       "    <tr>\n",
       "      <th>mean</th>\n",
       "      <td>499.500000</td>\n",
       "      <td>2024-08-01 20:30:55.209041408</td>\n",
       "      <td>1.176585</td>\n",
       "      <td>1.176885</td>\n",
       "      <td>0.000100</td>\n",
       "      <td>0.000301</td>\n",
       "    </tr>\n",
       "    <tr>\n",
       "      <th>min</th>\n",
       "      <td>0.000000</td>\n",
       "      <td>2024-08-01 20:30:49.889188</td>\n",
       "      <td>1.126700</td>\n",
       "      <td>1.126990</td>\n",
       "      <td>-0.001380</td>\n",
       "      <td>0.000100</td>\n",
       "    </tr>\n",
       "    <tr>\n",
       "      <th>25%</th>\n",
       "      <td>249.750000</td>\n",
       "      <td>2024-08-01 20:30:52.576288768</td>\n",
       "      <td>1.148270</td>\n",
       "      <td>1.148497</td>\n",
       "      <td>-0.000240</td>\n",
       "      <td>0.000200</td>\n",
       "    </tr>\n",
       "    <tr>\n",
       "      <th>50%</th>\n",
       "      <td>499.500000</td>\n",
       "      <td>2024-08-01 20:30:55.250766848</td>\n",
       "      <td>1.178940</td>\n",
       "      <td>1.179280</td>\n",
       "      <td>0.000080</td>\n",
       "      <td>0.000300</td>\n",
       "    </tr>\n",
       "    <tr>\n",
       "      <th>75%</th>\n",
       "      <td>749.250000</td>\n",
       "      <td>2024-08-01 20:30:57.844604672</td>\n",
       "      <td>1.200435</td>\n",
       "      <td>1.200713</td>\n",
       "      <td>0.000450</td>\n",
       "      <td>0.000400</td>\n",
       "    </tr>\n",
       "    <tr>\n",
       "      <th>max</th>\n",
       "      <td>999.000000</td>\n",
       "      <td>2024-08-01 20:31:00.451292</td>\n",
       "      <td>1.229770</td>\n",
       "      <td>1.230190</td>\n",
       "      <td>0.001560</td>\n",
       "      <td>0.000500</td>\n",
       "    </tr>\n",
       "    <tr>\n",
       "      <th>std</th>\n",
       "      <td>288.819436</td>\n",
       "      <td>NaN</td>\n",
       "      <td>0.030034</td>\n",
       "      <td>0.030031</td>\n",
       "      <td>0.000498</td>\n",
       "      <td>0.000116</td>\n",
       "    </tr>\n",
       "  </tbody>\n",
       "</table>\n",
       "</div>"
      ],
      "text/plain": [
       "        Unnamed: 0                      date-time          bid          ask  \\\n",
       "count  1000.000000                           1000  1000.000000  1000.000000   \n",
       "mean    499.500000  2024-08-01 20:30:55.209041408     1.176585     1.176885   \n",
       "min       0.000000     2024-08-01 20:30:49.889188     1.126700     1.126990   \n",
       "25%     249.750000  2024-08-01 20:30:52.576288768     1.148270     1.148497   \n",
       "50%     499.500000  2024-08-01 20:30:55.250766848     1.178940     1.179280   \n",
       "75%     749.250000  2024-08-01 20:30:57.844604672     1.200435     1.200713   \n",
       "max     999.000000     2024-08-01 20:31:00.451292     1.229770     1.230190   \n",
       "std     288.819436                            NaN     0.030034     0.030031   \n",
       "\n",
       "       price-change       spread  \n",
       "count   1000.000000  1000.000000  \n",
       "mean       0.000100     0.000301  \n",
       "min       -0.001380     0.000100  \n",
       "25%       -0.000240     0.000200  \n",
       "50%        0.000080     0.000300  \n",
       "75%        0.000450     0.000400  \n",
       "max        0.001560     0.000500  \n",
       "std        0.000498     0.000116  "
      ]
     },
     "execution_count": 25,
     "metadata": {},
     "output_type": "execute_result"
    }
   ],
   "source": [
    "df.describe()"
   ]
  },
  {
   "cell_type": "code",
   "execution_count": 26,
   "id": "81f352c1-15a2-4cf3-b709-1f7a72e365a1",
   "metadata": {
    "execution": {
     "iopub.execute_input": "2024-08-01T23:31:28.426887Z",
     "iopub.status.busy": "2024-08-01T23:31:28.426087Z",
     "iopub.status.idle": "2024-08-01T23:31:28.430909Z",
     "shell.execute_reply": "2024-08-01T23:31:28.430511Z",
     "shell.execute_reply.started": "2024-08-01T23:31:28.426807Z"
    }
   },
   "outputs": [],
   "source": [
    "df[\"date-time\"] = df[\"date-time\"].dt.round(\"1s\")"
   ]
  },
  {
   "cell_type": "code",
   "execution_count": 28,
   "id": "210980d1-7fa6-43bb-927b-efffb56aea07",
   "metadata": {
    "execution": {
     "iopub.execute_input": "2024-08-01T23:31:53.463371Z",
     "iopub.status.busy": "2024-08-01T23:31:53.463061Z",
     "iopub.status.idle": "2024-08-01T23:31:54.007745Z",
     "shell.execute_reply": "2024-08-01T23:31:54.007336Z",
     "shell.execute_reply.started": "2024-08-01T23:31:53.463356Z"
    }
   },
   "outputs": [
    {
     "data": {
      "text/plain": [
       "<Axes: xlabel='date-time'>"
      ]
     },
     "execution_count": 28,
     "metadata": {},
     "output_type": "execute_result"
    },
    {
     "data": {
      "image/png": "[encoded data removed]",
      "text/plain": [
       "<Figure size 640x480 with 1 Axes>"
      ]
     },
     "metadata": {},
     "output_type": "display_data"
    }
   ],
   "source": [
    "df[[\"date-time\", \"bid\"]].groupby(by=\"date-time\").count().plot(kind=\"bar\")"
   ]
  },
  {
   "cell_type": "markdown",
   "id": "caededa2-3c65-4318-b021-ddc2e75b3f6f",
   "metadata": {},
   "source": [
    "## Emit for a period of time"
   ]
  },
  {
   "cell_type": "code",
   "execution_count": 30,
   "id": "ed055174-0da9-4ae8-8cd7-851d401c27c8",
   "metadata": {
    "execution": {
     "iopub.execute_input": "2024-08-01T23:37:16.848018Z",
     "iopub.status.busy": "2024-08-01T23:37:16.847459Z",
     "iopub.status.idle": "2024-08-01T23:37:16.852814Z",
     "shell.execute_reply": "2024-08-01T23:37:16.852474Z",
     "shell.execute_reply.started": "2024-08-01T23:37:16.847951Z"
    }
   },
   "outputs": [],
   "source": [
    "df = pd.read_csv(\"../test_tick_emit_20_seconds.csv\", parse_dates=True)"
   ]
  },
  {
   "cell_type": "code",
   "execution_count": 32,
   "id": "3368950f-fa82-44d8-a281-98adfdeb477d",
   "metadata": {
    "execution": {
     "iopub.execute_input": "2024-08-01T23:37:27.688213Z",
     "iopub.status.busy": "2024-08-01T23:37:27.687986Z",
     "iopub.status.idle": "2024-08-01T23:37:27.695267Z",
     "shell.execute_reply": "2024-08-01T23:37:27.694720Z",
     "shell.execute_reply.started": "2024-08-01T23:37:27.688193Z"
    }
   },
   "outputs": [
    {
     "data": {
      "text/html": [
       "<div>\n",
       "<style scoped>\n",
       "    .dataframe tbody tr th:only-of-type {\n",
       "        vertical-align: middle;\n",
       "    }\n",
       "\n",
       "    .dataframe tbody tr th {\n",
       "        vertical-align: top;\n",
       "    }\n",
       "\n",
       "    .dataframe thead th {\n",
       "        text-align: right;\n",
       "    }\n",
       "</style>\n",
       "<table border=\"1\" class=\"dataframe\">\n",
       "  <thead>\n",
       "    <tr style=\"text-align: right;\">\n",
       "      <th></th>\n",
       "      <th>Unnamed: 0</th>\n",
       "      <th>date-time</th>\n",
       "      <th>bid</th>\n",
       "      <th>ask</th>\n",
       "      <th>price-change</th>\n",
       "      <th>spread</th>\n",
       "    </tr>\n",
       "  </thead>\n",
       "  <tbody>\n",
       "    <tr>\n",
       "      <th>0</th>\n",
       "      <td>0</td>\n",
       "      <td>2024-08-01 20:31:00.472813</td>\n",
       "      <td>1.13000</td>\n",
       "      <td>1.13015</td>\n",
       "      <td>0.00000</td>\n",
       "      <td>0.00015</td>\n",
       "    </tr>\n",
       "    <tr>\n",
       "      <th>1</th>\n",
       "      <td>1</td>\n",
       "      <td>2024-08-01 20:31:00.483353</td>\n",
       "      <td>1.13041</td>\n",
       "      <td>1.13058</td>\n",
       "      <td>0.00041</td>\n",
       "      <td>0.00017</td>\n",
       "    </tr>\n",
       "    <tr>\n",
       "      <th>2</th>\n",
       "      <td>2</td>\n",
       "      <td>2024-08-01 20:31:00.494162</td>\n",
       "      <td>1.12970</td>\n",
       "      <td>1.12982</td>\n",
       "      <td>-0.00071</td>\n",
       "      <td>0.00012</td>\n",
       "    </tr>\n",
       "    <tr>\n",
       "      <th>3</th>\n",
       "      <td>3</td>\n",
       "      <td>2024-08-01 20:31:00.505784</td>\n",
       "      <td>1.13024</td>\n",
       "      <td>1.13037</td>\n",
       "      <td>0.00054</td>\n",
       "      <td>0.00013</td>\n",
       "    </tr>\n",
       "    <tr>\n",
       "      <th>4</th>\n",
       "      <td>4</td>\n",
       "      <td>2024-08-01 20:31:00.517407</td>\n",
       "      <td>1.12986</td>\n",
       "      <td>1.13017</td>\n",
       "      <td>-0.00038</td>\n",
       "      <td>0.00031</td>\n",
       "    </tr>\n",
       "  </tbody>\n",
       "</table>\n",
       "</div>"
      ],
      "text/plain": [
       "   Unnamed: 0                   date-time      bid      ask  price-change  \\\n",
       "0           0  2024-08-01 20:31:00.472813  1.13000  1.13015       0.00000   \n",
       "1           1  2024-08-01 20:31:00.483353  1.13041  1.13058       0.00041   \n",
       "2           2  2024-08-01 20:31:00.494162  1.12970  1.12982      -0.00071   \n",
       "3           3  2024-08-01 20:31:00.505784  1.13024  1.13037       0.00054   \n",
       "4           4  2024-08-01 20:31:00.517407  1.12986  1.13017      -0.00038   \n",
       "\n",
       "    spread  \n",
       "0  0.00015  \n",
       "1  0.00017  \n",
       "2  0.00012  \n",
       "3  0.00013  \n",
       "4  0.00031  "
      ]
     },
     "execution_count": 32,
     "metadata": {},
     "output_type": "execute_result"
    }
   ],
   "source": [
    "df.head()"
   ]
  },
  {
   "cell_type": "code",
   "execution_count": 33,
   "id": "9404cd49-cc58-4c16-89eb-9c515c7df4ce",
   "metadata": {
    "execution": {
     "iopub.execute_input": "2024-08-01T23:37:57.567861Z",
     "iopub.status.busy": "2024-08-01T23:37:57.567410Z",
     "iopub.status.idle": "2024-08-01T23:37:57.579140Z",
     "shell.execute_reply": "2024-08-01T23:37:57.578734Z",
     "shell.execute_reply.started": "2024-08-01T23:37:57.567820Z"
    }
   },
   "outputs": [
    {
     "data": {
      "text/html": [
       "<div>\n",
       "<style scoped>\n",
       "    .dataframe tbody tr th:only-of-type {\n",
       "        vertical-align: middle;\n",
       "    }\n",
       "\n",
       "    .dataframe tbody tr th {\n",
       "        vertical-align: top;\n",
       "    }\n",
       "\n",
       "    .dataframe thead th {\n",
       "        text-align: right;\n",
       "    }\n",
       "</style>\n",
       "<table border=\"1\" class=\"dataframe\">\n",
       "  <thead>\n",
       "    <tr style=\"text-align: right;\">\n",
       "      <th></th>\n",
       "      <th>Unnamed: 0</th>\n",
       "      <th>bid</th>\n",
       "      <th>ask</th>\n",
       "      <th>price-change</th>\n",
       "      <th>spread</th>\n",
       "    </tr>\n",
       "  </thead>\n",
       "  <tbody>\n",
       "    <tr>\n",
       "      <th>count</th>\n",
       "      <td>948.000000</td>\n",
       "      <td>948.000000</td>\n",
       "      <td>948.000000</td>\n",
       "      <td>948.000000</td>\n",
       "      <td>948.000000</td>\n",
       "    </tr>\n",
       "    <tr>\n",
       "      <th>mean</th>\n",
       "      <td>473.500000</td>\n",
       "      <td>1.186533</td>\n",
       "      <td>1.186831</td>\n",
       "      <td>0.000106</td>\n",
       "      <td>0.000298</td>\n",
       "    </tr>\n",
       "    <tr>\n",
       "      <th>std</th>\n",
       "      <td>273.808327</td>\n",
       "      <td>0.030041</td>\n",
       "      <td>0.030042</td>\n",
       "      <td>0.000493</td>\n",
       "      <td>0.000115</td>\n",
       "    </tr>\n",
       "    <tr>\n",
       "      <th>min</th>\n",
       "      <td>0.000000</td>\n",
       "      <td>1.128620</td>\n",
       "      <td>1.128900</td>\n",
       "      <td>-0.001320</td>\n",
       "      <td>0.000100</td>\n",
       "    </tr>\n",
       "    <tr>\n",
       "      <th>25%</th>\n",
       "      <td>236.750000</td>\n",
       "      <td>1.161690</td>\n",
       "      <td>1.161965</td>\n",
       "      <td>-0.000230</td>\n",
       "      <td>0.000200</td>\n",
       "    </tr>\n",
       "    <tr>\n",
       "      <th>50%</th>\n",
       "      <td>473.500000</td>\n",
       "      <td>1.190560</td>\n",
       "      <td>1.190835</td>\n",
       "      <td>0.000115</td>\n",
       "      <td>0.000300</td>\n",
       "    </tr>\n",
       "    <tr>\n",
       "      <th>75%</th>\n",
       "      <td>710.250000</td>\n",
       "      <td>1.210542</td>\n",
       "      <td>1.210797</td>\n",
       "      <td>0.000410</td>\n",
       "      <td>0.000400</td>\n",
       "    </tr>\n",
       "    <tr>\n",
       "      <th>max</th>\n",
       "      <td>947.000000</td>\n",
       "      <td>1.230210</td>\n",
       "      <td>1.230490</td>\n",
       "      <td>0.001970</td>\n",
       "      <td>0.000500</td>\n",
       "    </tr>\n",
       "  </tbody>\n",
       "</table>\n",
       "</div>"
      ],
      "text/plain": [
       "       Unnamed: 0         bid         ask  price-change      spread\n",
       "count  948.000000  948.000000  948.000000    948.000000  948.000000\n",
       "mean   473.500000    1.186533    1.186831      0.000106    0.000298\n",
       "std    273.808327    0.030041    0.030042      0.000493    0.000115\n",
       "min      0.000000    1.128620    1.128900     -0.001320    0.000100\n",
       "25%    236.750000    1.161690    1.161965     -0.000230    0.000200\n",
       "50%    473.500000    1.190560    1.190835      0.000115    0.000300\n",
       "75%    710.250000    1.210542    1.210797      0.000410    0.000400\n",
       "max    947.000000    1.230210    1.230490      0.001970    0.000500"
      ]
     },
     "execution_count": 33,
     "metadata": {},
     "output_type": "execute_result"
    }
   ],
   "source": [
    "df.describe()"
   ]
  },
  {
   "cell_type": "code",
   "execution_count": 36,
   "id": "bc8ab5f0-6534-4d5e-8a7d-32b4304ba381",
   "metadata": {
    "execution": {
     "iopub.execute_input": "2024-08-01T23:38:46.346642Z",
     "iopub.status.busy": "2024-08-01T23:38:46.345444Z",
     "iopub.status.idle": "2024-08-01T23:38:46.350914Z",
     "shell.execute_reply": "2024-08-01T23:38:46.350462Z",
     "shell.execute_reply.started": "2024-08-01T23:38:46.346619Z"
    }
   },
   "outputs": [],
   "source": [
    "df[\"date-time\"] = pd.to_datetime(df[\"date-time\"])\n",
    "df[\"date-time\"] = df[\"date-time\"].dt.round(\"1s\")"
   ]
  },
  {
   "cell_type": "code",
   "execution_count": 37,
   "id": "f927f95e-eea0-47da-b4cb-ba79a06caa8b",
   "metadata": {
    "execution": {
     "iopub.execute_input": "2024-08-01T23:39:00.033210Z",
     "iopub.status.busy": "2024-08-01T23:39:00.032875Z",
     "iopub.status.idle": "2024-08-01T23:39:00.144219Z",
     "shell.execute_reply": "2024-08-01T23:39:00.143729Z",
     "shell.execute_reply.started": "2024-08-01T23:39:00.033194Z"
    }
   },
   "outputs": [
    {
     "data": {
      "text/plain": [
       "<Axes: xlabel='date-time'>"
      ]
     },
     "execution_count": 37,
     "metadata": {},
     "output_type": "execute_result"
    },
    {
     "data": {
      "image/png": "[encoded data removed]",
      "text/plain": [
       "<Figure size 640x480 with 1 Axes>"
      ]
     },
     "metadata": {},
     "output_type": "display_data"
    }
   ],
   "source": [
    "df[[\"date-time\", \"bid\"]].groupby(by=\"date-time\").count().plot(kind=\"bar\")"
   ]
  },
  {
   "cell_type": "code",
   "execution_count": 41,
   "id": "b92cc173-566f-43eb-aa4c-3d6dd4a263b2",
   "metadata": {
    "execution": {
     "iopub.execute_input": "2024-08-01T23:40:28.162697Z",
     "iopub.status.busy": "2024-08-01T23:40:28.162188Z",
     "iopub.status.idle": "2024-08-01T23:40:28.167092Z",
     "shell.execute_reply": "2024-08-01T23:40:28.166783Z",
     "shell.execute_reply.started": "2024-08-01T23:40:28.162650Z"
    }
   },
   "outputs": [
    {
     "data": {
      "text/plain": [
       "Timedelta('0 days 00:00:10')"
      ]
     },
     "execution_count": 41,
     "metadata": {},
     "output_type": "execute_result"
    }
   ],
   "source": [
    "df.iloc[-1][\"date-time\"] - df.iloc[0][\"date-time\"] "
   ]
  },
  {
   "cell_type": "code",
   "execution_count": null,
   "id": "b7884b08-6771-4240-894b-9d8fd366831c",
   "metadata": {},
   "outputs": [],
   "source": []
  }
 ],
 "metadata": {
  "kernelspec": {
   "display_name": "Python 3 (ipykernel)",
   "language": "python",
   "name": "python3"
  },
  "language_info": {
   "codemirror_mode": {
    "name": "ipython",
    "version": 3
   },
   "file_extension": ".py",
   "mimetype": "text/x-python",
   "name": "python",
   "nbconvert_exporter": "python",
   "pygments_lexer": "ipython3",
   "version": "3.11.6"
  }
 },
 "nbformat": 4,
 "nbformat_minor": 5
}
