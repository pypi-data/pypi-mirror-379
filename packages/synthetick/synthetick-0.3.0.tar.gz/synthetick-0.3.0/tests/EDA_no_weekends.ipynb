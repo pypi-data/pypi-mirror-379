{
 "cells": [
  {
   "cell_type": "code",
   "execution_count": 25,
   "id": "3e74f77b-13e7-4039-b233-fda87cd2d0b7",
   "metadata": {},
   "outputs": [],
   "source": [
    "import pandas as pd"
   ]
  },
  {
   "cell_type": "code",
   "execution_count": 26,
   "id": "687e7a4d-aa1b-4717-af82-886e88f5eb87",
   "metadata": {},
   "outputs": [],
   "source": [
    "df = pd.read_csv(\"test_tick_happy_path_no_weekend.csv\")\n",
    "df[\"date-time\"] = pd.to_datetime(df[\"date-time\"])\n",
    "df.set_index(\"date-time\", inplace=True)"
   ]
  },
  {
   "cell_type": "code",
   "execution_count": 27,
   "id": "727f5d32-ff58-4165-a794-b4273fdb1e2a",
   "metadata": {},
   "outputs": [
    {
     "data": {
      "text/plain": [
       "Index([0, 1, 2, 3, 4], dtype='int32', name='date-time')"
      ]
     },
     "execution_count": 27,
     "metadata": {},
     "output_type": "execute_result"
    }
   ],
   "source": [
    "df.index.weekday.unique()"
   ]
  },
  {
   "cell_type": "code",
   "execution_count": 28,
   "id": "902a2cb3-d9cb-4538-8e61-210e36094baf",
   "metadata": {},
   "outputs": [],
   "source": [
    "df_ohlc = df[\"bid\"].resample(\"1H\").ohlc()"
   ]
  },
  {
   "cell_type": "code",
   "execution_count": 31,
   "id": "2f785003-8019-4b75-9ac1-8a97cc6d5e24",
   "metadata": {},
   "outputs": [
    {
     "data": {
      "text/plain": [
       "Index([0, 1, 2, 3, 4, 5, 6], dtype='int32', name='date-time')"
      ]
     },
     "execution_count": 31,
     "metadata": {},
     "output_type": "execute_result"
    }
   ],
   "source": [
    "df_ohlc.index.weekday.unique()"
   ]
  },
  {
   "cell_type": "code",
   "execution_count": 35,
   "id": "d3a18e55-1c2a-4270-8d0e-57adfdc3fae7",
   "metadata": {},
   "outputs": [],
   "source": [
    "weekdays_filter = (df_ohlc.index.weekday == 5) | (df_ohlc.index.weekday == 6)"
   ]
  },
  {
   "cell_type": "code",
   "execution_count": 37,
   "id": "44bef2b1-8bfd-453a-bc39-f954539efb5a",
   "metadata": {},
   "outputs": [
    {
     "data": {
      "text/html": [
       "<div>\n",
       "<style scoped>\n",
       "    .dataframe tbody tr th:only-of-type {\n",
       "        vertical-align: middle;\n",
       "    }\n",
       "\n",
       "    .dataframe tbody tr th {\n",
       "        vertical-align: top;\n",
       "    }\n",
       "\n",
       "    .dataframe thead th {\n",
       "        text-align: right;\n",
       "    }\n",
       "</style>\n",
       "<table border=\"1\" class=\"dataframe\">\n",
       "  <thead>\n",
       "    <tr style=\"text-align: right;\">\n",
       "      <th></th>\n",
       "      <th>open</th>\n",
       "      <th>high</th>\n",
       "      <th>low</th>\n",
       "      <th>close</th>\n",
       "    </tr>\n",
       "    <tr>\n",
       "      <th>date-time</th>\n",
       "      <th></th>\n",
       "      <th></th>\n",
       "      <th></th>\n",
       "      <th></th>\n",
       "    </tr>\n",
       "  </thead>\n",
       "  <tbody>\n",
       "    <tr>\n",
       "      <th>2023-01-07 00:00:00</th>\n",
       "      <td>NaN</td>\n",
       "      <td>NaN</td>\n",
       "      <td>NaN</td>\n",
       "      <td>NaN</td>\n",
       "    </tr>\n",
       "    <tr>\n",
       "      <th>2023-01-07 01:00:00</th>\n",
       "      <td>NaN</td>\n",
       "      <td>NaN</td>\n",
       "      <td>NaN</td>\n",
       "      <td>NaN</td>\n",
       "    </tr>\n",
       "    <tr>\n",
       "      <th>2023-01-07 02:00:00</th>\n",
       "      <td>NaN</td>\n",
       "      <td>NaN</td>\n",
       "      <td>NaN</td>\n",
       "      <td>NaN</td>\n",
       "    </tr>\n",
       "    <tr>\n",
       "      <th>2023-01-07 03:00:00</th>\n",
       "      <td>NaN</td>\n",
       "      <td>NaN</td>\n",
       "      <td>NaN</td>\n",
       "      <td>NaN</td>\n",
       "    </tr>\n",
       "    <tr>\n",
       "      <th>2023-01-07 04:00:00</th>\n",
       "      <td>NaN</td>\n",
       "      <td>NaN</td>\n",
       "      <td>NaN</td>\n",
       "      <td>NaN</td>\n",
       "    </tr>\n",
       "    <tr>\n",
       "      <th>...</th>\n",
       "      <td>...</td>\n",
       "      <td>...</td>\n",
       "      <td>...</td>\n",
       "      <td>...</td>\n",
       "    </tr>\n",
       "    <tr>\n",
       "      <th>2023-01-29 19:00:00</th>\n",
       "      <td>NaN</td>\n",
       "      <td>NaN</td>\n",
       "      <td>NaN</td>\n",
       "      <td>NaN</td>\n",
       "    </tr>\n",
       "    <tr>\n",
       "      <th>2023-01-29 20:00:00</th>\n",
       "      <td>NaN</td>\n",
       "      <td>NaN</td>\n",
       "      <td>NaN</td>\n",
       "      <td>NaN</td>\n",
       "    </tr>\n",
       "    <tr>\n",
       "      <th>2023-01-29 21:00:00</th>\n",
       "      <td>NaN</td>\n",
       "      <td>NaN</td>\n",
       "      <td>NaN</td>\n",
       "      <td>NaN</td>\n",
       "    </tr>\n",
       "    <tr>\n",
       "      <th>2023-01-29 22:00:00</th>\n",
       "      <td>NaN</td>\n",
       "      <td>NaN</td>\n",
       "      <td>NaN</td>\n",
       "      <td>NaN</td>\n",
       "    </tr>\n",
       "    <tr>\n",
       "      <th>2023-01-29 23:00:00</th>\n",
       "      <td>NaN</td>\n",
       "      <td>NaN</td>\n",
       "      <td>NaN</td>\n",
       "      <td>NaN</td>\n",
       "    </tr>\n",
       "  </tbody>\n",
       "</table>\n",
       "<p>192 rows × 4 columns</p>\n",
       "</div>"
      ],
      "text/plain": [
       "                     open  high  low  close\n",
       "date-time                                  \n",
       "2023-01-07 00:00:00   NaN   NaN  NaN    NaN\n",
       "2023-01-07 01:00:00   NaN   NaN  NaN    NaN\n",
       "2023-01-07 02:00:00   NaN   NaN  NaN    NaN\n",
       "2023-01-07 03:00:00   NaN   NaN  NaN    NaN\n",
       "2023-01-07 04:00:00   NaN   NaN  NaN    NaN\n",
       "...                   ...   ...  ...    ...\n",
       "2023-01-29 19:00:00   NaN   NaN  NaN    NaN\n",
       "2023-01-29 20:00:00   NaN   NaN  NaN    NaN\n",
       "2023-01-29 21:00:00   NaN   NaN  NaN    NaN\n",
       "2023-01-29 22:00:00   NaN   NaN  NaN    NaN\n",
       "2023-01-29 23:00:00   NaN   NaN  NaN    NaN\n",
       "\n",
       "[192 rows x 4 columns]"
      ]
     },
     "execution_count": 37,
     "metadata": {},
     "output_type": "execute_result"
    }
   ],
   "source": [
    "df_ohlc[weekdays_filter]"
   ]
  },
  {
   "cell_type": "code",
   "execution_count": null,
   "id": "71601931-f3c4-4eee-b539-efeaa789e214",
   "metadata": {},
   "outputs": [],
   "source": []
  }
 ],
 "metadata": {
  "kernelspec": {
   "display_name": "Python 3 (ipykernel)",
   "language": "python",
   "name": "python3"
  },
  "language_info": {
   "codemirror_mode": {
    "name": "ipython",
    "version": 3
   },
   "file_extension": ".py",
   "mimetype": "text/x-python",
   "name": "python",
   "nbconvert_exporter": "python",
   "pygments_lexer": "ipython3",
   "version": "3.10.12"
  }
 },
 "nbformat": 4,
 "nbformat_minor": 5
}
