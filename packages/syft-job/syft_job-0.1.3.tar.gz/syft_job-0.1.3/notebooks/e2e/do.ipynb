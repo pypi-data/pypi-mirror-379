{
 "cells": [
  {
   "cell_type": "code",
   "execution_count": null,
   "id": "d98a787a",
   "metadata": {},
   "outputs": [],
   "source": [
    "import syft_client as sc"
   ]
  },
  {
   "cell_type": "code",
   "execution_count": null,
   "id": "5b0cc93b",
   "metadata": {},
   "outputs": [],
   "source": [
    "client_email = input(\"Enter your email: \")\n",
    "do_client = sc.login(client_email, verbose=False)"
   ]
  },
  {
   "cell_type": "code",
   "execution_count": null,
   "id": "c20cb4d9",
   "metadata": {},
   "outputs": [],
   "source": [
    "do_client.jobs"
   ]
  },
  {
   "cell_type": "code",
   "execution_count": null,
   "id": "ef2ca264",
   "metadata": {},
   "outputs": [],
   "source": [
    "do_client.jobs[-1]"
   ]
  },
  {
   "cell_type": "code",
   "execution_count": null,
   "id": "1a7412b8",
   "metadata": {},
   "outputs": [],
   "source": [
    "# You can either approve a job and get it executed by the bash job runner\n",
    "# do_client.jobs[0].approve()"
   ]
  },
  {
   "cell_type": "code",
   "execution_count": null,
   "id": "75b04f9b",
   "metadata": {},
   "outputs": [],
   "source": [
    "import tempfile\n",
    "from pathlib import Path\n",
    "\n",
    "# Create a temporary directory\n",
    "tmpdir = tempfile.TemporaryDirectory()\n",
    "\n",
    "# Create a Path object for results.txt inside the temp dir\n",
    "file_path = Path(tmpdir.name) / \"results.txt\"\n",
    "\n",
    "# Write \"Final result\" into the file\n",
    "file_path.write_text(\"Final result\")"
   ]
  },
  {
   "cell_type": "code",
   "execution_count": null,
   "id": "f358f9f5",
   "metadata": {},
   "outputs": [],
   "source": [
    "do_client.jobs[-1].accept_by_depositing_result(file_path)"
   ]
  },
  {
   "cell_type": "code",
   "execution_count": null,
   "id": "6d5ca379",
   "metadata": {},
   "outputs": [],
   "source": [
    "do_client.jobs[-1]"
   ]
  },
  {
   "cell_type": "code",
   "execution_count": null,
   "id": "0d6f6915",
   "metadata": {},
   "outputs": [],
   "source": []
  }
 ],
 "metadata": {
  "kernelspec": {
   "display_name": "syft-job",
   "language": "python",
   "name": "python3"
  },
  "language_info": {
   "codemirror_mode": {
    "name": "ipython",
    "version": 3
   },
   "file_extension": ".py",
   "mimetype": "text/x-python",
   "name": "python",
   "nbconvert_exporter": "python",
   "pygments_lexer": "ipython3",
   "version": "3.12.8"
  }
 },
 "nbformat": 4,
 "nbformat_minor": 5
}
