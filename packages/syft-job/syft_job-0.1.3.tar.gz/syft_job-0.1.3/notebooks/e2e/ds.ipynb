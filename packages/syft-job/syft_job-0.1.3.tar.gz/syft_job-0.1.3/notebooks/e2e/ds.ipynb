{
 "cells": [
  {
   "cell_type": "code",
   "execution_count": null,
   "id": "d7f4d745",
   "metadata": {},
   "outputs": [],
   "source": [
    "import syft_client as sc"
   ]
  },
  {
   "cell_type": "code",
   "execution_count": null,
   "id": "10e38827",
   "metadata": {},
   "outputs": [],
   "source": [
    "client_email = input(\"Enter your email: \")\n",
    "ds_client = sc.login(client_email, verbose=False)"
   ]
  },
  {
   "cell_type": "code",
   "execution_count": null,
   "id": "dd95a529",
   "metadata": {},
   "outputs": [],
   "source": [
    "# TODO: functionality yet to be added\n",
    "# ds_client.add_friend(input(\"Enter Friend email:    \"))\n",
    "# ds_client.friends"
   ]
  },
  {
   "cell_type": "code",
   "execution_count": null,
   "id": "a960b230",
   "metadata": {},
   "outputs": [],
   "source": [
    "SAMPLE_BASH_SCRIPT = \"\"\"\n",
    "#!/bin/bash\n",
    "\n",
    "# Colors\n",
    "RED='\\033[0;31m'\n",
    "GREEN='\\033[0;32m'\n",
    "YELLOW='\\033[1;33m'\n",
    "CYAN='\\033[0;36m'\n",
    "NC='\\033[0m' # No Color\n",
    "\n",
    "# Clear the screen\n",
    "clear\n",
    "\n",
    "# Print header with border\n",
    "echo -e \"${CYAN}==============================${NC}\"\n",
    "echo -e \"${GREEN}     🌟 Current Date 🌟     ${NC}\"\n",
    "echo -e \"${CYAN}==============================${NC}\"\n",
    "\n",
    "# Animate dots\n",
    "for i in {1..3}; do\n",
    "  echo -n \".\"\n",
    "  sleep 0.3\n",
    "done\n",
    "echo \"\"\n",
    "\n",
    "# Print date in yellow\n",
    "echo -e \"${YELLOW}$(date)${NC}\"\n",
    "\n",
    "# Footer\n",
    "echo -e \"${CYAN}==============================${NC}\"\n",
    "\"\"\""
   ]
  },
  {
   "cell_type": "code",
   "execution_count": null,
   "id": "c1474445",
   "metadata": {},
   "outputs": [],
   "source": [
    "from uuid import uuid4\n",
    "\n",
    "# Generate unique job ID and name\n",
    "RANDOM_ID = str(uuid4())[0:8]\n",
    "JOB_NAME = f\"Test Job - {RANDOM_ID}\""
   ]
  },
  {
   "cell_type": "code",
   "execution_count": null,
   "id": "9ec88ffe",
   "metadata": {},
   "outputs": [],
   "source": [
    "do_email = input(\"Enter email of the Data Owner: \")"
   ]
  },
  {
   "cell_type": "code",
   "execution_count": null,
   "id": "8fba75f4",
   "metadata": {},
   "outputs": [],
   "source": [
    "ds_client.submit_bash_job(user=do_email, job_name=JOB_NAME, script=SAMPLE_BASH_SCRIPT)"
   ]
  },
  {
   "cell_type": "markdown",
   "id": "adbbb811",
   "metadata": {},
   "source": [
    "## Switch to DO Notebook"
   ]
  },
  {
   "cell_type": "code",
   "execution_count": null,
   "id": "4c97e56d",
   "metadata": {},
   "outputs": [],
   "source": [
    "import syft_job as sj\n",
    "\n",
    "do_client = sj.get_client(ds_client.folder, do_email)"
   ]
  },
  {
   "cell_type": "code",
   "execution_count": null,
   "id": "18ecac62",
   "metadata": {},
   "outputs": [],
   "source": [
    "do_client.jobs"
   ]
  },
  {
   "cell_type": "code",
   "execution_count": null,
   "id": "f225346f",
   "metadata": {},
   "outputs": [],
   "source": [
    "do_client.jobs[-1]"
   ]
  },
  {
   "cell_type": "code",
   "execution_count": null,
   "id": "32de5290",
   "metadata": {},
   "outputs": [],
   "source": [
    "do_client.jobs[-1].stdout"
   ]
  },
  {
   "cell_type": "code",
   "execution_count": null,
   "id": "6a586ee1",
   "metadata": {},
   "outputs": [],
   "source": [
    "do_client.jobs[-1].output_paths"
   ]
  },
  {
   "cell_type": "code",
   "execution_count": null,
   "id": "2aa8c151",
   "metadata": {},
   "outputs": [],
   "source": []
  }
 ],
 "metadata": {
  "kernelspec": {
   "display_name": "syft-job",
   "language": "python",
   "name": "python3"
  },
  "language_info": {
   "codemirror_mode": {
    "name": "ipython",
    "version": 3
   },
   "file_extension": ".py",
   "mimetype": "text/x-python",
   "name": "python",
   "nbconvert_exporter": "python",
   "pygments_lexer": "ipython3",
   "version": "3.12.8"
  }
 },
 "nbformat": 4,
 "nbformat_minor": 5
}
