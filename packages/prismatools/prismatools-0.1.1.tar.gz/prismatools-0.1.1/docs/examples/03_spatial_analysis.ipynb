{
 "cells": [
  {
   "cell_type": "markdown",
   "id": "0",
   "metadata": {},
   "source": [
    "[![Open In Colab](https://colab.research.google.com/assets/colab-badge.svg)](https://colab.research.google.com/github/gthlor/prismatools/blob/main/docs/examples/03_spatial_analysis.ipynb)\n",
    "\n",
    "# Performing spatial analysis on PRISMA L2D data with **prismatools**\n",
    "\n",
    "This notebook demonstrates how to perform spatial analysis on [PRISMA](https://www.asi.it/en/earth-science/prisma/) hyperspectral L2D data with **prismatools**. For more information about PRISMA, please visit the links below:\n",
    "\n",
    "- https://www.asi.it/en/earth-science/prisma/\n",
    "- <https://en.wikipedia.org/wiki/PRISMA_(spacecraft)>\n",
    "\n",
    "Note:\n",
    "- **Register and obtain the PRISMA datasets from the [ASI PRISMA portal](https://prisma.asi.it/)**\n",
    "- Once you have downloaded a dataset, replace the filepath which we will use in this notebook."
   ]
  },
  {
   "cell_type": "code",
   "execution_count": null,
   "id": "1",
   "metadata": {},
   "outputs": [],
   "source": [
    "from prismatools import read_prismaL2D\n",
    "from prismatools.spatial import band_math, pca_image"
   ]
  },
  {
   "cell_type": "code",
   "execution_count": null,
   "id": "2",
   "metadata": {},
   "outputs": [],
   "source": [
    "file = \"/path/to/prisma.he5\"  # example: r\"..\\..\\data\\PRS_L2D_STD_20240429095823_20240429095827_0001.he5\""
   ]
  },
  {
   "cell_type": "markdown",
   "id": "3",
   "metadata": {},
   "source": [
    "#### 01. Index computation (band math)"
   ]
  },
  {
   "cell_type": "markdown",
   "id": "4",
   "metadata": {},
   "source": [
    "Read the PRISMA dataset"
   ]
  },
  {
   "cell_type": "code",
   "execution_count": null,
   "id": "5",
   "metadata": {},
   "outputs": [],
   "source": [
    "# ds = read_prismaL2D(file_path=file)\n",
    "# print(ds)"
   ]
  },
  {
   "cell_type": "markdown",
   "id": "6",
   "metadata": {},
   "source": [
    "Compute NDVI"
   ]
  },
  {
   "cell_type": "code",
   "execution_count": null,
   "id": "7",
   "metadata": {},
   "outputs": [],
   "source": [
    "# wavelength_dict = {'red': 660, 'nir': 840}\n",
    "\n",
    "# expressions =  {'NDVI' :'(nir - red) / (nir + red)'}\n",
    "\n",
    "# constants = {}\n",
    "\n",
    "# result = band_math(ds, expressions, wavelength_dict, constants, inplace=True)\n",
    "\n",
    "# print(result)\n",
    "# result.NDVI.plot(cmap='YlGn')"
   ]
  },
  {
   "cell_type": "markdown",
   "id": "8",
   "metadata": {},
   "source": [
    "Compute multiple VIs"
   ]
  },
  {
   "cell_type": "code",
   "execution_count": null,
   "id": "9",
   "metadata": {},
   "outputs": [],
   "source": [
    "# wavelength_dict = {'red': 660, 'green': 560, 'blue': 480, 'nir': 840}\n",
    "\n",
    "# expressions = {\n",
    "#      'NDVI' : '(nir - red) / (nir + red)',\n",
    "#      'GNDVI': '(nir - green) / (nir + green)',\n",
    "#      'EVI'  : '2.5 * (nir - red) / (nir + 6 * red - 7.5 * blue + 1)', # constant might be provided directly in the expression\n",
    "#      'SAVI' : '((nir - red) * (1 + L)) / (nir + red + L)'\n",
    "#  }\n",
    "# # or in dictionary\n",
    "# constants = {\n",
    "#     'L': 0.5,\n",
    "#     }\n",
    "\n",
    "# result = band_math(ds, expressions, wavelength_dict, constants, inplace=True)\n",
    "# print(result)"
   ]
  },
  {
   "cell_type": "code",
   "execution_count": null,
   "id": "10",
   "metadata": {},
   "outputs": [],
   "source": [
    "# # plotting\n",
    "# result[\"SAVI\"].plot(cmap='YlGn', vmin=0, vmax=1)\n",
    "\n",
    "# # exporting\n",
    "# indices = [v for v in result.data_vars if v != 'reflectance']\n",
    "# for index in indices:\n",
    "#     output_path = fr\"C:\\Users\\loren\\Desktop\\prismatools\\out_test\\{index}.tif\"\n",
    "#     result[index].rio.to_raster(output_path)"
   ]
  },
  {
   "cell_type": "markdown",
   "id": "11",
   "metadata": {},
   "source": [
    "#### 02. Performing Principal Component Analysis (PCA)"
   ]
  },
  {
   "cell_type": "markdown",
   "id": "12",
   "metadata": {},
   "source": [
    "- From GeoTiff file (from path)"
   ]
  },
  {
   "cell_type": "code",
   "execution_count": null,
   "id": "13",
   "metadata": {},
   "outputs": [],
   "source": [
    "input_file = \"path/to/TIFF_image.tif\"  # replace with actual path\n",
    "output_file = \"path/to/out_TIFF_image.tif\"  # replace with actual path"
   ]
  },
  {
   "cell_type": "code",
   "execution_count": null,
   "id": "14",
   "metadata": {},
   "outputs": [],
   "source": [
    "# n_components = 10\n",
    "\n",
    "# ds_pca, expl_var = pca_image(input_file, output_file, n_components=n_components)\n",
    "# print(ds_pca)\n",
    "# print(expl_var)"
   ]
  },
  {
   "cell_type": "code",
   "execution_count": null,
   "id": "15",
   "metadata": {},
   "outputs": [],
   "source": [
    "# ds_pca[\"pca\"].sel(pc=2).plot(x=\"x\", y=\"y\")"
   ]
  },
  {
   "cell_type": "markdown",
   "id": "16",
   "metadata": {},
   "source": [
    "- From xarray.Dataset"
   ]
  },
  {
   "cell_type": "code",
   "execution_count": null,
   "id": "17",
   "metadata": {},
   "outputs": [],
   "source": [
    "# n_components = 10\n",
    "\n",
    "# ds_pca, expl_var = pca_image(ds, output_file, n_components=n_components)\n",
    "# print(ds_pca)\n",
    "# print(expl_var)"
   ]
  }
 ],
 "metadata": {
  "kernelspec": {
   "display_name": "prismatool",
   "language": "python",
   "name": "python3"
  },
  "language_info": {
   "codemirror_mode": {
    "name": "ipython",
    "version": 3
   },
   "file_extension": ".py",
   "mimetype": "text/x-python",
   "name": "python",
   "nbconvert_exporter": "python",
   "pygments_lexer": "ipython3",
   "version": "3.12.7"
  }
 },
 "nbformat": 4,
 "nbformat_minor": 5
}
