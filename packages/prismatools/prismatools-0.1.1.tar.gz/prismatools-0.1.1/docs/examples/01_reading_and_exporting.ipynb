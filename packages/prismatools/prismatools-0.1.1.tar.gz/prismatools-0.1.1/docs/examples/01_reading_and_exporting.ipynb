{
 "cells": [
  {
   "cell_type": "markdown",
   "metadata": {},
   "source": [
    "[![Open In Colab](https://colab.research.google.com/assets/colab-badge.svg)](https://colab.research.google.com/github/gthlor/prismatools/blob/main/docs/examples/01_reading_and_exporting.ipynb)\n",
    "\n",
    "# Reading and Exporting PRISMA Cube L2 data with **prismatools**\n",
    "\n",
    "This notebook demonstrates how to read and write [PRISMA](https://www.asi.it/en/earth-science/prisma/) hyperspectral and panchromatic data with **prismatools**. For more information about PRISMA, please visit the links below:\n",
    "- https://www.asi.it/en/earth-science/prisma/\n",
    "- https://en.wikipedia.org/wiki/PRISMA_(spacecraft)"
   ]
  },
  {
   "cell_type": "code",
   "execution_count": null,
   "metadata": {},
   "outputs": [],
   "source": [
    "# install required packages\n",
    "\n",
    "# !pip install prismatools"
   ]
  },
  {
   "cell_type": "code",
   "execution_count": null,
   "metadata": {},
   "outputs": [],
   "source": [
    "from prismatools.prisma import (\n",
    "    read_prismaL2D,\n",
    "    write_prismaL2D,\n",
    "    extract_prisma,\n",
    "    write_prismaL2BC,\n",
    ")"
   ]
  },
  {
   "cell_type": "markdown",
   "metadata": {},
   "source": [
    "**Register and obtain the PRISMA datasets from the [ASI PRISMA portal](https://prisma.asi.it/)**\n",
    "\n",
    "Once you have downloaded a dataset, replace the filepath which we will use in this notebook."
   ]
  },
  {
   "cell_type": "code",
   "execution_count": null,
   "metadata": {},
   "outputs": [],
   "source": [
    "file = \"/path/to/prisma.he5\"  # example: r\"..\\..\\data\\PRS_L2D_STD_20240429095823_20240429095827_0001.he5\""
   ]
  },
  {
   "cell_type": "markdown",
   "metadata": {},
   "source": [
    "#### 01. Read PRISMA hyperspectral and panchromatic data as xarray.Dataset"
   ]
  },
  {
   "cell_type": "code",
   "execution_count": null,
   "metadata": {},
   "outputs": [],
   "source": [
    "# # Reads hyperspectral cube from a file path\n",
    "# ds = read_prismaL2D(file)\n",
    "# ds"
   ]
  },
  {
   "cell_type": "code",
   "execution_count": null,
   "metadata": {},
   "outputs": [],
   "source": [
    "# # Reads a hyperspectral cube from a file path and selects only the bands corresponding to the specified wavelengths\n",
    "# ds_sel = read_prismaL2D(file, wavelengths=[490, 560, 670, 1300, 2200], method=\"nearest\")\n",
    "# ds_sel"
   ]
  },
  {
   "cell_type": "code",
   "execution_count": null,
   "metadata": {},
   "outputs": [],
   "source": [
    "# # Reads panchromatic data from a file path\n",
    "# ds_pan = read_prismaL2D(file, panchromatic=True)\n",
    "# ds_pan"
   ]
  },
  {
   "cell_type": "code",
   "execution_count": null,
   "metadata": {},
   "outputs": [],
   "source": [
    "# # Extracts data from PRISMA dataset\n",
    "# res = extract_prisma(dataset=ds, lat=41.4468, lon=15.4646)\n",
    "# res.values"
   ]
  },
  {
   "cell_type": "code",
   "execution_count": null,
   "metadata": {},
   "outputs": [],
   "source": [
    "# extracted_values = []\n",
    "# points = [\n",
    "#     [41.4468, 15.4646],\n",
    "#     [41.4500, 15.4700],\n",
    "#     [41.4400, 15.4600]\n",
    "# ]\n",
    "\n",
    "# for lat, lon in points:\n",
    "#     res = extract_prisma(ds, lat=lat, lon=lon)\n",
    "#     extracted_values.append(res.values)\n",
    "\n",
    "# extracted_values[0]"
   ]
  },
  {
   "cell_type": "markdown",
   "metadata": {},
   "source": [
    "#### 02. Write PRISMA hyperspectral and panchromatic data as georeferenced image"
   ]
  },
  {
   "cell_type": "code",
   "execution_count": null,
   "metadata": {},
   "outputs": [],
   "source": [
    "out_path = \"path/to/outfile.tif\"  # example: r'..\\..\\..\\out_test\\your_output.tif'"
   ]
  },
  {
   "cell_type": "code",
   "execution_count": null,
   "metadata": {},
   "outputs": [],
   "source": [
    "# # case1a: write Panchromatic data from path (panchromatic=True)\n",
    "# write_prismaL2D(file, output=out_path+\"\\img_pan.tif\", panchromatic=True)\n",
    "\n",
    "# # case1b: write Hyperspectral data from path (panchromatic=False)\n",
    "# write_prismaL2D(file, output=out_path+\"\\img_cube.tif\")"
   ]
  },
  {
   "cell_type": "code",
   "execution_count": null,
   "metadata": {},
   "outputs": [],
   "source": [
    "# # case2a: write Panchromatic data from xarray.Dataset\n",
    "# write_prismaL2D(ds_pan, output=out_path+\"\\img_pan_ds.tif\") # no need to set \"panchromatic=True\", just provide xr.Dataset with panchromatic data\n",
    "\n",
    "# # case2b: write Hyperspectral data from xarray.Dataset\n",
    "# write_prismaL2D(ds, output=out_path+\"\\img_cube_ds.tif\")"
   ]
  },
  {
   "cell_type": "code",
   "execution_count": null,
   "metadata": {},
   "outputs": [],
   "source": [
    "# # case3: chose other output formats, e.g. ENVI format\n",
    "# # panchromatic\n",
    "# write_prismaL2D(file, output=out_path+\"\\img_pan_ds.dat\", panchromatic=False)\n",
    "# # hyperspectral\n",
    "# write_prismaL2D(file, output=out_path+\"\\img_cube_ds.dat\", panchromatic=True)"
   ]
  },
  {
   "cell_type": "markdown",
   "metadata": {},
   "source": [
    "#### 03. Write PRISMA L2B and L2C data\n",
    "\n",
    "In addition to PRISMA L2D (surface reflectance) data, you can also work with [L2B and L2C products](https://www.asi.it/wp-content/uploads/2021/02/PRISMA-Mission-Status-v1f-1.pdf), which might be useful depending on your application."
   ]
  },
  {
   "cell_type": "markdown",
   "metadata": {},
   "source": [
    "- L2B data"
   ]
  },
  {
   "cell_type": "code",
   "execution_count": null,
   "metadata": {},
   "outputs": [],
   "source": [
    "# path to L2B data\n",
    "file = \"/path/to/prismaL2B.he5\"  # example: r\"..\\..\\data\\PRS_L2B_STD_20240429095823_20240429095827_0001.he5\""
   ]
  },
  {
   "cell_type": "code",
   "execution_count": null,
   "metadata": {},
   "outputs": [],
   "source": [
    "# # hyperspectral\n",
    "# write_prismaL2BC(file, output=out_path+'\\imgCube_L2B_hyp.tif', product_type='PRS_L2B', panchromatic=False)\n",
    "\n",
    "# write_prismaL2BC(file,\n",
    "#                  output=out_path+'\\imgCube_L2B_hyp_sel.tif',\n",
    "#                  product_type='PRS_L2B',\n",
    "#                  wavelengths=[650, 550, 450, 900],\n",
    "#                  method='nearest',\n",
    "#                  panchromatic=False)\n",
    "\n",
    "# # panchromatic\n",
    "# write_prismaL2BC(file, output=out_path+'\\imgCube_L2B_pan.tif', product_type='PRS_L2B', panchromatic=True)"
   ]
  },
  {
   "cell_type": "markdown",
   "metadata": {},
   "source": [
    "- L2C data"
   ]
  },
  {
   "cell_type": "code",
   "execution_count": null,
   "metadata": {},
   "outputs": [],
   "source": [
    "# path to L2C data\n",
    "file = \"/path/to/prismaL2C.he5\"  # example: r\"..\\..\\data\\PRS_L2C_STD_20240429095823_20240429095827_0001.he5\""
   ]
  },
  {
   "cell_type": "code",
   "execution_count": null,
   "metadata": {},
   "outputs": [],
   "source": [
    "# # hyperspectral\n",
    "# write_prismaL2BC(file, output=out_path+'\\imgCube_L2C_hyp.tif', product_type='PRS_L2C', panchromatic=False)\n",
    "\n",
    "# write_prismaL2BC(file,\n",
    "#                  output=out_path+'\\imgCube_L2C_hyp_sel.tif',\n",
    "#                  product_type='PRS_L2C',\n",
    "#                  wavelengths=[650, 550, 450, 900],\n",
    "#                  method='nearest',\n",
    "#                  panchromatic=False)\n",
    "\n",
    "# # panchromatic\n",
    "# write_prismaL2BC(file, output=out_path+'\\imgCube_L2C_pan.tif', product_type='PRS_L2C', panchromatic=True)"
   ]
  }
 ],
 "metadata": {
  "kernelspec": {
   "display_name": "prismatool",
   "language": "python",
   "name": "python3"
  },
  "language_info": {
   "codemirror_mode": {
    "name": "ipython",
    "version": 3
   },
   "file_extension": ".py",
   "mimetype": "text/x-python",
   "name": "python",
   "nbconvert_exporter": "python",
   "pygments_lexer": "ipython3",
   "version": "3.12.7"
  }
 },
 "nbformat": 4,
 "nbformat_minor": 2
}
