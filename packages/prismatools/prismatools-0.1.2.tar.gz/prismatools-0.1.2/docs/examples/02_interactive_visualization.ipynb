{
 "cells": [
  {
   "cell_type": "markdown",
   "id": "0",
   "metadata": {},
   "source": [
    "[![Open In Colab](https://colab.research.google.com/assets/colab-badge.svg)](https://colab.research.google.com/github/gthlor/prismatools/blob/main/docs/examples/02_visualize_prisma.ipynb)\n",
    "\n",
    "# Visualizing PRISMA L2D data interactively with **prismatools**\n",
    "\n",
    "This notebook demonstrates how to visualize [PRISMA](https://www.asi.it/en/earth-science/prisma/) hyperspectral L2D data interactively with **prismatools**. For more information about PRISMA, please visit the links below:\n",
    "\n",
    "- https://www.asi.it/en/earth-science/prisma/\n",
    "- <https://en.wikipedia.org/wiki/PRISMA_(spacecraft)>\n",
    "\n",
    "Note:\n",
    "- **Register and obtain the PRISMA datasets from the [ASI PRISMA portal](https://prisma.asi.it/)**\n",
    "- Once you have downloaded a dataset, replace the filepath which we will use in this notebook."
   ]
  },
  {
   "cell_type": "code",
   "execution_count": null,
   "id": "1",
   "metadata": {},
   "outputs": [],
   "source": [
    "# %pip install prismatools"
   ]
  },
  {
   "cell_type": "code",
   "execution_count": null,
   "id": "2",
   "metadata": {},
   "outputs": [],
   "source": [
    "import prismatools"
   ]
  },
  {
   "cell_type": "code",
   "execution_count": null,
   "id": "3",
   "metadata": {},
   "outputs": [],
   "source": [
    "file = \"/path/to/prisma.he5\"  # example: r\"..\\..\\data\\PRS_L2D_STD_20240429095823_20240429095827_0001.he5\""
   ]
  },
  {
   "cell_type": "markdown",
   "id": "4",
   "metadata": {},
   "source": [
    "Read the PRISMA data as an `xarray.Dataset` object."
   ]
  },
  {
   "cell_type": "code",
   "execution_count": null,
   "id": "5",
   "metadata": {},
   "outputs": [],
   "source": [
    "# ds = prismatools.read_prismaL2D(file_path=file)\n",
    "# ds"
   ]
  },
  {
   "cell_type": "markdown",
   "id": "6",
   "metadata": {},
   "source": [
    "Create an interactive map."
   ]
  },
  {
   "cell_type": "code",
   "execution_count": null,
   "id": "7",
   "metadata": {},
   "outputs": [],
   "source": [
    "# m = prismatools.Map()\n",
    "# m"
   ]
  },
  {
   "cell_type": "markdown",
   "id": "8",
   "metadata": {},
   "source": [
    "Add the PRISMA data to the map."
   ]
  },
  {
   "cell_type": "code",
   "execution_count": null,
   "id": "9",
   "metadata": {},
   "outputs": [],
   "source": [
    "# m.add_prisma(ds, wavelengths=[650.0, 550.0, 450.0], vmin=0, vmax=0.2)\n",
    "# m.add(\"spectral\")\n",
    "# m"
   ]
  },
  {
   "cell_type": "code",
   "execution_count": null,
   "id": "10",
   "metadata": {},
   "outputs": [],
   "source": [
    "# m.add_prisma(ds, wavelengths=[650.0, 550.0, 450.0], vmin=0, vmax=0.2)\n",
    "# m.add('spectral')"
   ]
  }
 ],
 "metadata": {
  "kernelspec": {
   "display_name": "prismatool",
   "language": "python",
   "name": "python3"
  },
  "language_info": {
   "codemirror_mode": {
    "name": "ipython",
    "version": 3
   },
   "file_extension": ".py",
   "mimetype": "text/x-python",
   "name": "python",
   "nbconvert_exporter": "python",
   "pygments_lexer": "ipython3",
   "version": "3.12.7"
  }
 },
 "nbformat": 4,
 "nbformat_minor": 5
}
