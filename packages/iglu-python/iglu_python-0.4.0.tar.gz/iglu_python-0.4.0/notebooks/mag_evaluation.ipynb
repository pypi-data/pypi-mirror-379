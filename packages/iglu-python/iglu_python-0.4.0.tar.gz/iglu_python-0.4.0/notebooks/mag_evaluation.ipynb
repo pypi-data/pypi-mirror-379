{
 "cells": [
  {
   "cell_type": "markdown",
   "metadata": {},
   "source": [
    "# Evaluation of hourly MAG (Mean Absolute Glucose) results\n",
    "\n",
    "Tested for sequence:\n",
    "```\n",
    "    series_data = pd.Series([150, 160, 170, 180, 190, 200, 210, 220],\n",
    "        index=pd.date_range(start=\"2020-01-01 10:00:00\", periods=8, freq=\"5min\"))\n",
    "\n",
    "    with n = 20 min\n",
    "```\n"
   ]
  },
  {
   "cell_type": "code",
   "execution_count": 1,
   "metadata": {},
   "outputs": [],
   "source": [
    "%reload_ext autoreload\n",
    "%autoreload 2\n"
   ]
  },
  {
   "cell_type": "markdown",
   "metadata": {},
   "source": [
    "# IGLU/IGLU-PY results\n",
    "\n",
    "**NOTE:** IGLU reports AUC in mg.h/dL\n"
   ]
  },
  {
   "cell_type": "code",
   "execution_count": 3,
   "metadata": {},
   "outputs": [],
   "source": [
    "import sys\n",
    "from importlib.metadata import version\n",
    "\n",
    "import iglu_py\n",
    "import pandas as pd\n",
    "import rpy2.robjects as ro\n"
   ]
  },
  {
   "cell_type": "code",
   "execution_count": 4,
   "metadata": {},
   "outputs": [
    {
     "name": "stdout",
     "output_type": "stream",
     "text": [
      "Python version: 3.11.10 (main, Oct  3 2024, 02:26:51) [Clang 14.0.6 ]\n",
      "R version: [1] \"R version 4.4.3 (2025-02-28)\"\n",
      "\n",
      "iglu version: [1] ‘4.3.0’\n",
      "\n",
      "iglu_py version: 1.1.1\n",
      "rpy2 version: 3.6.0\n"
     ]
    }
   ],
   "source": [
    "# Print versions for future references\n",
    "print(f\"Python version: {sys.version}\")\n",
    "print(f\"R version: {ro.r('R.version.string')}\")\n",
    "iglu_version = str(ro.r('packageVersion(\"iglu\")'))\n",
    "print(f\"iglu version: {iglu_version}\")\n",
    "print(f\"iglu_py version: {version('iglu-py')}\")\n",
    "print(f\"rpy2 version: {version('rpy2')}\")"
   ]
  },
  {
   "cell_type": "markdown",
   "metadata": {},
   "source": [
    "## Test on synthetic data\n",
    "\n",
    "- Samples - every 5 min\n",
    "- duration - 1h\n",
    "- values [80,120] repeated for sampling duration\n",
    "\n",
    "Expected hourly AUC = 100 mg.h/dL"
   ]
  },
  {
   "cell_type": "code",
   "execution_count": 6,
   "metadata": {},
   "outputs": [
    {
     "data": {
      "text/html": [
       "<div>\n",
       "<style scoped>\n",
       "    .dataframe tbody tr th:only-of-type {\n",
       "        vertical-align: middle;\n",
       "    }\n",
       "\n",
       "    .dataframe tbody tr th {\n",
       "        vertical-align: top;\n",
       "    }\n",
       "\n",
       "    .dataframe thead th {\n",
       "        text-align: right;\n",
       "    }\n",
       "</style>\n",
       "<table border=\"1\" class=\"dataframe\">\n",
       "  <thead>\n",
       "    <tr style=\"text-align: right;\">\n",
       "      <th></th>\n",
       "      <th>id</th>\n",
       "      <th>MAG</th>\n",
       "    </tr>\n",
       "  </thead>\n",
       "  <tbody>\n",
       "    <tr>\n",
       "      <th>1</th>\n",
       "      <td>subject1</td>\n",
       "      <td>120.0</td>\n",
       "    </tr>\n",
       "  </tbody>\n",
       "</table>\n",
       "</div>"
      ],
      "text/plain": [
       "         id    MAG\n",
       "1  subject1  120.0"
      ]
     },
     "execution_count": 6,
     "metadata": {},
     "output_type": "execute_result"
    }
   ],
   "source": [
    "#hours = 1\n",
    "dt0 = 5\n",
    "samples = 8\n",
    "times = pd.date_range(start=\"2020-01-01 10:00:00\", periods=samples, freq=f\"{dt0}min\")\n",
    "glucose_values = [150, 160, 170, 180, 190, 200, 210, 220]\n",
    "n = 20\n",
    "\n",
    "syntheticdata = pd.DataFrame({\n",
    "    'id': ['subject1'] * samples,\n",
    "    'time': times,\n",
    "    'gl': glucose_values\n",
    "})\n",
    "\n",
    "synthetic_iglu_mag_results  = iglu_py.mag(syntheticdata,n=20)\n",
    "synthetic_iglu_mag_results"
   ]
  },
  {
   "cell_type": "markdown",
   "metadata": {},
   "source": [
    "# Conclusion\n",
    "\n",
    "Both IGLU-R and IGLU-PYTHON return the same result"
   ]
  }
 ],
 "metadata": {
  "kernelspec": {
   "display_name": ".venv",
   "language": "python",
   "name": "python3"
  },
  "language_info": {
   "codemirror_mode": {
    "name": "ipython",
    "version": 3
   },
   "file_extension": ".py",
   "mimetype": "text/x-python",
   "name": "python",
   "nbconvert_exporter": "python",
   "pygments_lexer": "ipython3",
   "version": "3.11.10"
  }
 },
 "nbformat": 4,
 "nbformat_minor": 2
}
