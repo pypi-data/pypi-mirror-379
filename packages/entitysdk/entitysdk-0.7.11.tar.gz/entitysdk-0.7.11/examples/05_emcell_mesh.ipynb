{
 "cells": [
  {
   "cell_type": "code",
   "execution_count": 24,
   "id": "c27a2580-0100-406d-8d3e-3fa4b6d28f57",
   "metadata": {},
   "outputs": [],
   "source": [
    "import obi_auth\n",
    "from entitysdk import Client\n",
    "from obi_auth import get_token\n",
    "from obi_notebook import get_projects"
   ]
  },
  {
   "cell_type": "markdown",
   "id": "b914d46e-6ec8-42f6-bab4-a19960474ff3",
   "metadata": {},
   "source": [
    "# initialize token and project environment"
   ]
  },
  {
   "cell_type": "code",
   "execution_count": 25,
   "id": "41951493-dd21-4483-99e2-3b53ea9cb6a4",
   "metadata": {},
   "outputs": [
    {
     "data": {
      "application/vnd.jupyter.widget-view+json": {
       "model_id": "bf30a255200f48ce9d942ef4c7962ef3",
       "version_major": 2,
       "version_minor": 0
      },
      "text/plain": [
       "Dropdown(description='Select:', options=(('Understanding SSCx', {'id': 'f373e771-3a2f-4f45-ab59-0955efd7b1f4',…"
      ]
     },
     "metadata": {},
     "output_type": "display_data"
    }
   ],
   "source": [
    "token = get_token(environment=\"staging\", auth_mode=\"daf\")\n",
    "project_context = get_projects.get_projects(token, env=\"staging\")"
   ]
  },
  {
   "cell_type": "markdown",
   "id": "59abe72f-7f83-4fc1-9086-55706ffb4ece",
   "metadata": {},
   "source": [
    "# get Client object."
   ]
  },
  {
   "cell_type": "code",
   "execution_count": 26,
   "id": "f007168f-d6bf-4d70-a816-e9ce0938a965",
   "metadata": {},
   "outputs": [],
   "source": [
    "client = Client(environment=\"staging\", project_context=project_context, token_manager=token)"
   ]
  },
  {
   "cell_type": "markdown",
   "id": "74e14fbd-2bd1-4353-8733-d252bdb0d6db",
   "metadata": {},
   "source": [
    "# create an EMDenseReconstructionDataset"
   ]
  },
  {
   "cell_type": "code",
   "execution_count": 29,
   "id": "85a0c2f2-153e-48c9-9108-a70dd5ff3228",
   "metadata": {},
   "outputs": [],
   "source": [
    "from entitysdk.models import EMDenseReconstructionDataset,BrainRegion,Subject\n",
    "\n",
    "brain_region = client.search_entity(entity_type=BrainRegion, query={\"annotation_value\": 68}).one()\n",
    "subject = client.search_entity(entity_type=Subject).first()\n",
    "\n",
    "em_dense_dataset = EMDenseReconstructionDataset(\n",
    "      brain_region= brain_region,\n",
    "      subject=subject,\n",
    "      **{\n",
    "     'name': 'this is an example',\n",
    "     'description': 'this is a test dataset',\n",
    "     'fixation': None,\n",
    "     'staining_type': None,\n",
    "     'slicing_thickness': 40.0,\n",
    "     'tissue_shrinkage': None,\n",
    "     'microscope_type': None,\n",
    "     'detector': None,\n",
    "     'slicing_direction': None,\n",
    "     'landmarks': None,\n",
    "     'voltage': None,\n",
    "     'current': None,\n",
    "     'dose': None,\n",
    "     'temperature': None,\n",
    "     'volume_resolution_x_nm': 4.0,\n",
    "     'volume_resolution_y_nm': 4.0,\n",
    "     'volume_resolution_z_nm': 40.0,\n",
    "     'release_url': 'http://microns-explorer.org',\n",
    "     'cave_client_url': 'https://global.daf-apis.com',\n",
    "     'cave_datastack': 'minnie65_public',\n",
    "     'precomputed_mesh_url': 'precomputed://gs://iarpa_microns/minnie/minnie65/seg_m1300/',\n",
    "     'cell_identifying_property': 'pt_root_id'})\n",
    "em_dense_reconstruction = client.register_entity(entity=em_dense_dataset, project_context=project_context)"
   ]
  },
  {
   "cell_type": "code",
   "execution_count": 30,
   "id": "4d84409c-7007-42fa-b165-d15103830fe6",
   "metadata": {},
   "outputs": [],
   "source": [
    "em_dense_reconstruction = client.search_entity(entity_type=EMDenseReconstructionDataset, query={'name':'this is an example'} ).one()"
   ]
  },
  {
   "cell_type": "markdown",
   "id": "f59d7ad2-5392-412a-a653-e6c8bbcc4360",
   "metadata": {},
   "source": [
    "# create an EMCellMesh"
   ]
  },
  {
   "cell_type": "code",
   "execution_count": 31,
   "id": "74993e03-3996-442a-8249-c5799a402283",
   "metadata": {},
   "outputs": [],
   "source": [
    "from entitysdk.models import EMCellMesh, EMCellMeshGenerationMethod, EMCellMeshType\n",
    "em_mesh = EMCellMesh(\n",
    "    generation_method=EMCellMeshGenerationMethod.marching_cubes,\n",
    "    mesh_type=EMCellMeshType.dynamic,\n",
    "    brain_region=brain_region,\n",
    "    subject=subject,\n",
    "    em_dense_reconstruction_dataset=em_dense_reconstruction,\n",
    "    **{\"release_version\": 1512,\n",
    "    \"dense_reconstruction_cell_id\": 12,\n",
    "    \"level_of_detail\": 1,\n",
    "    })\n",
    "em_mesh_registered = client.register_entity(entity=em_mesh, project_context=project_context)"
   ]
  },
  {
   "cell_type": "code",
   "execution_count": 32,
   "id": "cbd40f00-7a9b-4329-a193-4e0dfa43188e",
   "metadata": {},
   "outputs": [],
   "source": [
    "em_mesh_registered = client.search_entity(entity_type=EMCellMesh, query={'release_version':1512} ).one()"
   ]
  },
  {
   "cell_type": "markdown",
   "id": "e9b43270-2e02-45f5-809a-88dbfc1fafef",
   "metadata": {},
   "source": [
    "# uploading an .obj file"
   ]
  },
  {
   "cell_type": "code",
   "execution_count": 33,
   "id": "55da1866-dfea-445b-9afd-cea189276af6",
   "metadata": {},
   "outputs": [],
   "source": [
    "asset_obj = client.upload_file(\n",
    "        entity_id=em_mesh_registered.id,\n",
    "        entity_type=EMCellMesh,\n",
    "        file_path=\"90.obj\",\n",
    "        file_content_type=\"application/obj\",\n",
    "        asset_label=\"cell_surface_mesh\",\n",
    "        project_context=project_context,\n",
    "    )"
   ]
  }
 ],
 "metadata": {
  "kernelspec": {
   "display_name": "Python 3 (ipykernel)",
   "language": "python",
   "name": "python3"
  },
  "language_info": {
   "codemirror_mode": {
    "name": "ipython",
    "version": 3
   },
   "file_extension": ".py",
   "mimetype": "text/x-python",
   "name": "python",
   "nbconvert_exporter": "python",
   "pygments_lexer": "ipython3",
   "version": "3.12.8"
  }
 },
 "nbformat": 4,
 "nbformat_minor": 5
}
