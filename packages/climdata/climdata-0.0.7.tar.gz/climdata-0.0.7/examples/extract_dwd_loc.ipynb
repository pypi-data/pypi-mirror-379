{
 "cells": [
  {
   "cell_type": "code",
   "execution_count": 3,
   "id": "4032798e",
   "metadata": {},
   "outputs": [
    {
     "data": {
      "text/html": [
       "\n",
       "            <style>\n",
       "                .geemap-dark {\n",
       "                    --jp-widgets-color: white;\n",
       "                    --jp-widgets-label-color: white;\n",
       "                    --jp-ui-font-color1: white;\n",
       "                    --jp-layout-color2: #454545;\n",
       "                    background-color: #383838;\n",
       "                }\n",
       "\n",
       "                .geemap-dark .jupyter-button {\n",
       "                    --jp-layout-color3: #383838;\n",
       "                }\n",
       "\n",
       "                .geemap-colab {\n",
       "                    background-color: var(--colab-primary-surface-color, white);\n",
       "                }\n",
       "\n",
       "                .geemap-colab .jupyter-button {\n",
       "                    --jp-layout-color3: var(--colab-primary-surface-color, white);\n",
       "                }\n",
       "            </style>\n",
       "            "
      ],
      "text/plain": [
       "<IPython.core.display.HTML object>"
      ]
     },
     "metadata": {},
     "output_type": "display_data"
    }
   ],
   "source": [
    "import climdata\n",
    "from hydra import initialize, compose\n",
    "import xclim\n",
    "import datetime"
   ]
  },
  {
   "cell_type": "code",
   "execution_count": null,
   "id": "22f55e1f",
   "metadata": {},
   "outputs": [],
   "source": [
    "mirror = climdata.ERA5(base_path=\"./zarr_tas_data\")\n",
    "\n",
    "# split the years into train, validation, and test\n",
    "years = list(range(2025, 2025+1))\n",
    "# Set the variables to download for 34 var dataset\n",
    "date_range = (\n",
    "    datetime.date(2000, 1, 1),\n",
    "    datetime.date(2000, 1, 3),\n",
    ")\n",
    "\n",
    "mirror.download(\"2m_temperature\",date_range)"
   ]
  },
  {
   "cell_type": "code",
   "execution_count": null,
   "id": "a7eb7742",
   "metadata": {},
   "outputs": [
    {
     "data": {
      "text/html": [
       "\n",
       "            <style>\n",
       "                .geemap-dark {\n",
       "                    --jp-widgets-color: white;\n",
       "                    --jp-widgets-label-color: white;\n",
       "                    --jp-ui-font-color1: white;\n",
       "                    --jp-layout-color2: #454545;\n",
       "                    background-color: #383838;\n",
       "                }\n",
       "\n",
       "                .geemap-dark .jupyter-button {\n",
       "                    --jp-layout-color3: #383838;\n",
       "                }\n",
       "\n",
       "                .geemap-colab {\n",
       "                    background-color: var(--colab-primary-surface-color, white);\n",
       "                }\n",
       "\n",
       "                .geemap-colab .jupyter-button {\n",
       "                    --jp-layout-color3: var(--colab-primary-surface-color, white);\n",
       "                }\n",
       "            </style>\n",
       "            "
      ],
      "text/plain": [
       "<IPython.core.display.HTML object>"
      ]
     },
     "metadata": {},
     "output_type": "display_data"
    }
   ],
   "source": [
    "with initialize(config_path=\"../climdata/conf\", version_base=None):\n",
    "    cfg = compose(config_name=\"config\",\n",
    "                  overrides=[\n",
    "                      \"dataset=mswx\",\n",
    "                      \"weather.parameter=tasmax\",\n",
    "                      \"time_range.start_date=2000-06-01\",\n",
    "                      \"time_range.end_date=2000-06-30\",\n",
    "                      ])\n",
    "cfg.mappings[cfg.dataset].params['google_service_account'] = \"/home/muduchuru/.climdata_conf/service.json\""
   ]
  },
  {
   "cell_type": "code",
   "execution_count": 14,
   "id": "6ebf9f67",
   "metadata": {},
   "outputs": [
    {
     "data": {
      "text/html": [
       "\n",
       "            <style>\n",
       "                .geemap-dark {\n",
       "                    --jp-widgets-color: white;\n",
       "                    --jp-widgets-label-color: white;\n",
       "                    --jp-ui-font-color1: white;\n",
       "                    --jp-layout-color2: #454545;\n",
       "                    background-color: #383838;\n",
       "                }\n",
       "\n",
       "                .geemap-dark .jupyter-button {\n",
       "                    --jp-layout-color3: #383838;\n",
       "                }\n",
       "\n",
       "                .geemap-colab {\n",
       "                    background-color: var(--colab-primary-surface-color, white);\n",
       "                }\n",
       "\n",
       "                .geemap-colab .jupyter-button {\n",
       "                    --jp-layout-color3: var(--colab-primary-surface-color, white);\n",
       "                }\n",
       "            </style>\n",
       "            "
      ],
      "text/plain": [
       "<IPython.core.display.HTML object>"
      ]
     },
     "metadata": {},
     "output_type": "display_data"
    },
    {
     "name": "stdout",
     "output_type": "stream",
     "text": [
      "📂 0 exist, 30 missing — fetching from Drive...\n",
      "⬇️ Downloading 2025181.nc ...\n",
      "   → Download 100% complete\n",
      "⬇️ Downloading 2025180.nc ...\n",
      "   → Download 100% complete\n",
      "⬇️ Downloading 2025179.nc ...\n",
      "   → Download 100% complete\n",
      "⬇️ Downloading 2025178.nc ...\n",
      "   → Download 100% complete\n",
      "⬇️ Downloading 2025177.nc ...\n",
      "   → Download 100% complete\n",
      "⬇️ Downloading 2025176.nc ...\n",
      "   → Download 100% complete\n",
      "⬇️ Downloading 2025175.nc ...\n",
      "   → Download 100% complete\n",
      "⬇️ Downloading 2025174.nc ...\n",
      "   → Download 100% complete\n",
      "⬇️ Downloading 2025173.nc ...\n",
      "   → Download 100% complete\n",
      "⬇️ Downloading 2025172.nc ...\n",
      "   → Download 100% complete\n",
      "⬇️ Downloading 2025171.nc ...\n",
      "   → Download 100% complete\n",
      "⬇️ Downloading 2025170.nc ...\n",
      "   → Download 100% complete\n",
      "⬇️ Downloading 2025169.nc ...\n",
      "   → Download 100% complete\n",
      "⬇️ Downloading 2025168.nc ...\n",
      "   → Download 100% complete\n",
      "⬇️ Downloading 2025167.nc ...\n",
      "   → Download 100% complete\n",
      "⬇️ Downloading 2025166.nc ...\n",
      "   → Download 100% complete\n",
      "⬇️ Downloading 2025165.nc ...\n",
      "   → Download 100% complete\n",
      "⬇️ Downloading 2025164.nc ...\n",
      "   → Download 100% complete\n",
      "⬇️ Downloading 2025163.nc ...\n",
      "   → Download 100% complete\n",
      "⬇️ Downloading 2025162.nc ...\n",
      "   → Download 100% complete\n",
      "⬇️ Downloading 2025161.nc ...\n",
      "   → Download 100% complete\n",
      "⬇️ Downloading 2025160.nc ...\n",
      "   → Download 100% complete\n",
      "⬇️ Downloading 2025159.nc ...\n",
      "   → Download 100% complete\n",
      "⬇️ Downloading 2025158.nc ...\n",
      "   → Download 100% complete\n",
      "⬇️ Downloading 2025157.nc ...\n",
      "   → Download 100% complete\n",
      "⬇️ Downloading 2025156.nc ...\n",
      "   → Download 100% complete\n",
      "⬇️ Downloading 2025155.nc ...\n",
      "   → Download 100% complete\n",
      "⬇️ Downloading 2025154.nc ...\n",
      "   → Download 100% complete\n",
      "⬇️ Downloading 2025153.nc ...\n",
      "   → Download 100% complete\n",
      "⬇️ Downloading 2025152.nc ...\n",
      "   → Download 100% complete\n"
     ]
    }
   ],
   "source": [
    "mswx_ob = climdata.MSWX(cfg)\n",
    "files = mswx_ob.fetch()\n",
    "dset = mswx_ob.load()\n",
    "dset_subset = mswx_ob.extract(point=(52,20))\n",
    "dset_subset = dset_subset.compute()\n",
    "dset_subset = xclim.core.units.convert_units_to(dset_subset,cfg.mappings['info'][cfg.weather.parameter].units)\n",
    "\n",
    "df = mswx_ob.to_dataframe(dset_subset)\n",
    "df = mswx_ob.format(df)"
   ]
  },
  {
   "cell_type": "code",
   "execution_count": null,
   "id": "0b7b8b16",
   "metadata": {},
   "outputs": [],
   "source": [
    "# initialize\n",
    "mswx_ob = climdata.MSWX(cfg)\n",
    "\n",
    "# fetch + load\n",
    "files = mswx_ob.fetch()\n",
    "dset = mswx_ob.load()\n",
    "\n",
    "dset_subset = mswx_ob.extract(box=(\n",
    "    14.0, 49.0, 24.0, 55.0\n",
    "    ))\n",
    "dset_subset = dset_subset.compute()\n",
    "\n",
    "# convert to dataframe\n",
    "df = mswx_ob.to_dataframe(dset_subset)\n",
    "\n",
    "# format dataframe\n",
    "formatted = mswx_ob.format(df)"
   ]
  },
  {
   "cell_type": "code",
   "execution_count": null,
   "id": "46860644",
   "metadata": {},
   "outputs": [],
   "source": [
    "formatted"
   ]
  },
  {
   "cell_type": "code",
   "execution_count": null,
   "id": "cfe88f29",
   "metadata": {},
   "outputs": [
    {
     "data": {
      "text/html": [
       "\n",
       "            <style>\n",
       "                .geemap-dark {\n",
       "                    --jp-widgets-color: white;\n",
       "                    --jp-widgets-label-color: white;\n",
       "                    --jp-ui-font-color1: white;\n",
       "                    --jp-layout-color2: #454545;\n",
       "                    background-color: #383838;\n",
       "                }\n",
       "\n",
       "                .geemap-dark .jupyter-button {\n",
       "                    --jp-layout-color3: #383838;\n",
       "                }\n",
       "\n",
       "                .geemap-colab {\n",
       "                    background-color: var(--colab-primary-surface-color, white);\n",
       "                }\n",
       "\n",
       "                .geemap-colab .jupyter-button {\n",
       "                    --jp-layout-color3: var(--colab-primary-surface-color, white);\n",
       "                }\n",
       "            </style>\n",
       "            "
      ],
      "text/plain": [
       "<IPython.core.display.HTML object>"
      ]
     },
     "metadata": {},
     "output_type": "display_data"
    }
   ],
   "source": [
    "import argparse\n",
    "import climdata\n",
    "from hydra import initialize, compose\n",
    "import pandas as pd\n",
    "from climdata import CMIP\n",
    "\n",
    "with initialize(config_path=\"../climdata/conf\", version_base=None):\n",
    "    cfg = compose(\n",
    "        config_name=\"config\",\n",
    "        overrides=[\n",
    "            f\"weather.parameter={variables[0]}\",  # Just for bounds/region\n",
    "            f\"region={region}\",\n",
    "        ],\n",
    "    )\n",
    "\n",
    "cmip = climdata.CMIP(\n",
    "    experiment_id = \"historical\",\n",
    "    source_id = \"MIROC6\",\n",
    "    table_id = \"day\",\n",
    "    variables = [\"tasmax\", \"tasmin\", \"pr\"],\n",
    "    region_bounds = cfg.bounds[cfg.region]\n",
    "    )\n",
    "cmip.fetch()      # gets file lists\n",
    "cmip.load()       # loads and merges datasets\n",
    "cmip.extract(point = (52,15))\n",
    "ds = cmip._subset_time(cfg.time_range.start_date, cfg.time_range.end_date)\n",
    "cmip.save_netcdf(\"cmip_loc.nc\")"
   ]
  },
  {
   "cell_type": "code",
   "execution_count": null,
   "id": "8a29e214",
   "metadata": {},
   "outputs": [
    {
     "data": {
      "text/html": [
       "\n",
       "            <style>\n",
       "                .geemap-dark {\n",
       "                    --jp-widgets-color: white;\n",
       "                    --jp-widgets-label-color: white;\n",
       "                    --jp-ui-font-color1: white;\n",
       "                    --jp-layout-color2: #454545;\n",
       "                    background-color: #383838;\n",
       "                }\n",
       "\n",
       "                .geemap-dark .jupyter-button {\n",
       "                    --jp-layout-color3: #383838;\n",
       "                }\n",
       "\n",
       "                .geemap-colab {\n",
       "                    background-color: var(--colab-primary-surface-color, white);\n",
       "                }\n",
       "\n",
       "                .geemap-colab .jupyter-button {\n",
       "                    --jp-layout-color3: var(--colab-primary-surface-color, white);\n",
       "                }\n",
       "            </style>\n",
       "            "
      ],
      "text/plain": [
       "<IPython.core.display.HTML object>"
      ]
     },
     "metadata": {},
     "output_type": "display_data"
    },
    {
     "name": "stdout",
     "output_type": "stream",
     "text": [
      "Saved NetCDF to cmip_box.nc\n"
     ]
    }
   ],
   "source": [
    "import argparse\n",
    "import climdata\n",
    "from hydra import initialize, compose\n",
    "import pandas as pd\n",
    "from climdata import CMIP\n",
    "\n",
    "region=\"europe\"\n",
    "\n",
    "with initialize(config_path=\"../climdata/conf\", version_base=None):\n",
    "    cfg = compose(\n",
    "        config_name=\"config\",\n",
    "        overrides=[\n",
    "            f\"weather.parameter={variables[0]}\",  # Just for bounds/region\n",
    "            f\"region={region}\",\n",
    "        ],\n",
    "    )\n",
    "\n",
    "cmip = climdata.CMIP(\n",
    "    experiment_id = \"historical\",\n",
    "    source_id = \"MIROC6\",\n",
    "    table_id = \"day\",\n",
    "    variables = [\"tasmax\", \"tasmin\", \"pr\"],\n",
    "    region_bounds = cfg.bounds[cfg.region]\n",
    "    )\n",
    "cmip.fetch()      # gets file lists\n",
    "cmip.load()       # loads and merges datasets\n",
    "\n",
    "cmip.extract(box = cmip.region_bounds)\n",
    "ds = cmip._subset_time(cfg.time_range.start_date, cfg.time_range.end_date)\n",
    "cmip.save_netcdf(\"cmip_box.nc\")"
   ]
  },
  {
   "cell_type": "code",
   "execution_count": 20,
   "id": "dcf86cc2",
   "metadata": {},
   "outputs": [
    {
     "data": {
      "text/html": [
       "\n",
       "            <style>\n",
       "                .geemap-dark {\n",
       "                    --jp-widgets-color: white;\n",
       "                    --jp-widgets-label-color: white;\n",
       "                    --jp-ui-font-color1: white;\n",
       "                    --jp-layout-color2: #454545;\n",
       "                    background-color: #383838;\n",
       "                }\n",
       "\n",
       "                .geemap-dark .jupyter-button {\n",
       "                    --jp-layout-color3: #383838;\n",
       "                }\n",
       "\n",
       "                .geemap-colab {\n",
       "                    background-color: var(--colab-primary-surface-color, white);\n",
       "                }\n",
       "\n",
       "                .geemap-colab .jupyter-button {\n",
       "                    --jp-layout-color3: var(--colab-primary-surface-color, white);\n",
       "                }\n",
       "            </style>\n",
       "            "
      ],
      "text/plain": [
       "<IPython.core.display.HTML object>"
      ]
     },
     "metadata": {},
     "output_type": "display_data"
    },
    {
     "data": {
      "text/plain": [
       "'CMIP/MIROC/MIROC6/historical/r4i1p1f1/day/europe/'"
      ]
     },
     "execution_count": 20,
     "metadata": {},
     "output_type": "execute_result"
    }
   ],
   "source": [
    "\"/\".join(cmip.col_subsets[0].df.zstore[0].split('/')[4:-4]+[region])+'/'"
   ]
  },
  {
   "cell_type": "markdown",
   "id": "d0b5a84f",
   "metadata": {},
   "source": [
    "\n",
    "\n",
    "**Usage Example:**\n"
   ]
  },
  {
   "cell_type": "code",
   "execution_count": null,
   "id": "fc2f2a85",
   "metadata": {},
   "outputs": [],
   "source": [
    "ds = cmip.load()\n",
    "ds_time = cmip.subset_time(\"2000-01-01\", \"2005-12-31\")"
   ]
  },
  {
   "cell_type": "markdown",
   "id": "d254a1ee",
   "metadata": {},
   "source": [
    "\n",
    "\n",
    "You can combine this with `_subset()` for both spatial and temporal subsetting.  \n",
    "Let me know if you want a combined function!"
   ]
  },
  {
   "cell_type": "code",
   "execution_count": null,
   "id": "da13620c",
   "metadata": {},
   "outputs": [],
   "source": []
  }
 ],
 "metadata": {
  "kernelspec": {
   "display_name": "sdba",
   "language": "python",
   "name": "python3"
  },
  "language_info": {
   "codemirror_mode": {
    "name": "ipython",
    "version": 3
   },
   "file_extension": ".py",
   "mimetype": "text/x-python",
   "name": "python",
   "nbconvert_exporter": "python",
   "pygments_lexer": "ipython3",
   "version": "3.10.17"
  }
 },
 "nbformat": 4,
 "nbformat_minor": 5
}
