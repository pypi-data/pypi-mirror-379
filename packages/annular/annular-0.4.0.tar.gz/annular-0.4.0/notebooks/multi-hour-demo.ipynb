{
  "cells": [
    {
      "cell_type": "code",
      "execution_count": null,
      "id": "3cf19508-f733-4890-b57a-4e94ae5df30b",
      "metadata": {},
      "outputs": [],
      "source": [
        "import matplotlib.pyplot as plt\n",
        "import pandas as pd\n",
        "from pyprojroot import here"
      ]
    },
    {
      "cell_type": "code",
      "execution_count": null,
      "id": "a1ef5e50-da18-47b3-8b6a-c807eb4e1ec5",
      "metadata": {},
      "outputs": [],
      "source": [
        "forecast = pd.read_csv(here(\"input/multi_hour_demo/forecast-prices.csv\"), index_col=0)"
      ]
    },
    {
      "cell_type": "code",
      "execution_count": null,
      "id": "11b63051-0c2e-4f5b-ac35-fc7f7a0ccae2",
      "metadata": {},
      "outputs": [],
      "source": [
        "wind_power = pd.read_csv(here(\"input/multi_hour_demo/loads_generators_timeseries.csv\"), index_col=0)\n",
        "wind_power[\"Wind\"] = wind_power[\"Wind\"] * 50"
      ]
    },
    {
      "cell_type": "code",
      "execution_count": null,
      "id": "e131d317-deef-4607-8279-9dd883344b25",
      "metadata": {},
      "outputs": [],
      "source": [
        "fig, ax = plt.subplots()\n",
        "forecast.plot(ax=ax, color=\"C0\", legend=None)\n",
        "handles1, labels1 = ax.get_legend_handles_labels()\n",
        "for i in range(0, 121, 24):\n",
        "    ax.axvline(i, linewidth=0.2, color=\"black\")\n",
        "ax.set_ylabel(\"\u20ac\")\n",
        "\n",
        "ax2 = ax.twinx()\n",
        "wind_power.plot(ax=ax2, color=\"C1\", legend=None)\n",
        "handles2, labels2 = ax2.get_legend_handles_labels()\n",
        "ax.legend(handles1 + handles2, labels1 + labels2, loc=0)\n",
        "ax2.set_ylabel(\"Wind capacity (KWh)\")\n",
        "fig.savefig(\"availability_and_forecast.png\")"
      ]
    },
    {
      "cell_type": "code",
      "execution_count": null,
      "id": "abdb3b22-efac-4086-b99b-7e5b8127d17b",
      "metadata": {},
      "outputs": [],
      "source": [
        "results_folder = here(\"results/multi_hour_demo_20250416T_142354Z\")"
      ]
    },
    {
      "cell_type": "code",
      "execution_count": null,
      "id": "75b7f832-a804-45af-9ce1-3a480cfb544e",
      "metadata": {},
      "outputs": [],
      "source": [
        "dispatch = pd.read_csv(results_folder / \"satellite_multi_hour_satellite_results/dispatch.csv\", index_col=0)"
      ]
    },
    {
      "cell_type": "code",
      "execution_count": null,
      "id": "66a95bc8-2f34-4685-8fe1-4cfce8c4c6e2",
      "metadata": {},
      "outputs": [],
      "source": [
        "bids = pd.read_csv(results_folder / \"satellite_multi_hour_satellite_results/bids.csv\", index_col=0)"
      ]
    },
    {
      "cell_type": "code",
      "execution_count": null,
      "id": "dfa33a6a-58df-4b3c-b638-cd6177ded797",
      "metadata": {},
      "outputs": [],
      "source": [
        "bids[\"dispatch\"] = 0\n",
        "for idx, x in dispatch.iterrows():\n",
        "    bids.at[idx, \"dispatch\"] = x[\"demand\"]"
      ]
    },
    {
      "cell_type": "code",
      "execution_count": null,
      "id": "43cd8f2c-6570-4c5e-8c81-6bee0a353e17",
      "metadata": {},
      "outputs": [],
      "source": [
        "fig, ax = plt.subplots()\n",
        "bids[[\"quantity\", \"dispatch\"]].plot(ax=ax, legend=None)\n",
        "handles1, labels1 = ax.get_legend_handles_labels()\n",
        "for i in range(0, 121, 24):\n",
        "    ax.axvline(i, linewidth=0.2, color=\"black\")\n",
        "ax.set_ylabel(\"Q (KWh)\")\n",
        "\n",
        "ax2 = ax.twinx()\n",
        "bids[[\"bid-price\"]].plot(ax=ax2, color=\"C2\", legend=None)\n",
        "handles2, labels2 = ax2.get_legend_handles_labels()\n",
        "ax.legend(handles1 + handles2, [\"bid quantity\", \"dispatch\"] + labels2, loc=9)\n",
        "ax2.set_ylabel(\"\u20ac\")\n",
        "fig.savefig(\"bids_and_dispatch.png\")"
      ]
    },
    {
      "cell_type": "code",
      "execution_count": null,
      "id": "dfff5772-c4cb-4bf6-92d9-3c00998ad5b7",
      "metadata": {},
      "outputs": [],
      "source": []
    }
  ],
  "metadata": {
    "kernelspec": {
      "display_name": "Python 3 (ipykernel)",
      "language": "python",
      "name": "python3"
    },
    "language_info": {
      "codemirror_mode": {
        "name": "ipython",
        "version": 3
      },
      "file_extension": ".py",
      "mimetype": "text/x-python",
      "name": "python",
      "nbconvert_exporter": "python",
      "pygments_lexer": "ipython3",
      "version": "3.11.9"
    }
  },
  "nbformat": 4,
  "nbformat_minor": 5
}
