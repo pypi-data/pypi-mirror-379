{
  "cells": [
    {
      "cell_type": "markdown",
      "id": "eb76936c-9dfd-45d3-b1c8-0ff09ad3047c",
      "metadata": {},
      "source": [
        "# Context\n",
        "\n",
        "Our bidding strategies run multiple optimization models during a single bidding time period, for instance for different expected prices. At the moment, this is done from scratch each time, but often only a few things from an optimization model change.\n",
        "\n",
        "This notebook contains some explorations for persistent solvers\n",
        "1. Example of using persistent solver when updating constraints on a model, and time it.\n",
        "2. Example for model with updating time-indexed parameters in the objective function, as is done in the `OptimizerBiddingStrategy`.\n"
      ]
    },
    {
      "cell_type": "markdown",
      "id": "a04d792d-bd13-45e7-9f9b-818e9d0dc7f9",
      "metadata": {},
      "source": [
        "## 1. Simple model"
      ]
    },
    {
      "cell_type": "code",
      "execution_count": 1,
      "id": "fbc028db-48b9-4eb6-9466-8825754d22e4",
      "metadata": {},
      "outputs": [],
      "source": [
        "import pyomo.environ as pyo"
      ]
    },
    {
      "cell_type": "code",
      "execution_count": 2,
      "id": "3a28418a-ad05-4328-9340-f9294fc0e637",
      "metadata": {},
      "outputs": [],
      "source": [
        "def create_model():\n",
        "    \"\"\"Create simple model.\"\"\"\n",
        "    m = pyo.ConcreteModel()\n",
        "    m.x = pyo.Var()\n",
        "    m.y = pyo.Var()\n",
        "    m.obj = pyo.Objective(expr=m.x**2 + m.y**2)\n",
        "    m.c = pyo.Constraint(expr=m.y >= -2 * m.x + 5)\n",
        "    return m"
      ]
    },
    {
      "cell_type": "code",
      "execution_count": 3,
      "id": "38bcd2e4-26ef-4e2b-bda6-335394211e4d",
      "metadata": {},
      "outputs": [],
      "source": [
        "def solve_model(model, solver=\"gurobi\", show_result=True):\n",
        "    \"\"\"Solve simple model.\"\"\"\n",
        "    opt = pyo.SolverFactory(solver)\n",
        "    if solver == \"gurobi_persistent\":\n",
        "        save_results = False  # in this case, unclear what's better\n",
        "        opt.set_instance(model)\n",
        "        _ = opt.solve(save_results=save_results)\n",
        "        model.c2 = pyo.Constraint(expr=m.y >= m.x)\n",
        "        opt.add_constraint(m.c2)\n",
        "        _ = opt.solve(save_results=save_results)\n",
        "        opt.remove_constraint(m.c2)\n",
        "        del m.c2\n",
        "    else:\n",
        "        _ = opt.solve(model)\n",
        "        model.c2 = pyo.Constraint(expr=m.y >= m.x)\n",
        "        _ = opt.solve(model)\n",
        "        del m.c2\n",
        "\n",
        "    if show_result:\n",
        "        print(pyo.value(m.obj))"
      ]
    },
    {
      "cell_type": "markdown",
      "id": "91a940bc-269c-43a7-850c-2826f0df17ca",
      "metadata": {},
      "source": [
        "First, verify we get the same results"
      ]
    },
    {
      "cell_type": "code",
      "execution_count": 4,
      "id": "ae914929-7b20-4eb9-ac5f-ffe4c338b64b",
      "metadata": {},
      "outputs": [
        {
          "name": "stdout",
          "output_type": "stream",
          "text": [
            "Set parameter WLSAccessID\n",
            "Set parameter WLSSecret\n",
            "Set parameter LicenseID to value 2684518\n",
            "Academic license 2684518 - for non-commercial use only - registered to f.___@tudelft.nl\n",
            "5.555555556979119\n"
          ]
        }
      ],
      "source": [
        "m = create_model()\n",
        "res = solve_model(m, \"gurobi_persistent\")\n",
        "res"
      ]
    },
    {
      "cell_type": "code",
      "execution_count": 5,
      "id": "d3c251f0-d9cb-4f8e-824f-bf00d66d6416",
      "metadata": {},
      "outputs": [
        {
          "name": "stdout",
          "output_type": "stream",
          "text": [
            "5.555555556979119\n"
          ]
        }
      ],
      "source": [
        "m = create_model()\n",
        "res = solve_model(m, \"gurobi\")"
      ]
    },
    {
      "cell_type": "markdown",
      "id": "54e85b9e-b001-491a-aa56-b2a3d4e3f41c",
      "metadata": {},
      "source": [
        "Now, compare the timing"
      ]
    },
    {
      "cell_type": "code",
      "execution_count": 6,
      "id": "2b4c37bd-2de5-40ad-9d20-5155402e57a3",
      "metadata": {},
      "outputs": [
        {
          "name": "stdout",
          "output_type": "stream",
          "text": [
            "11.5 ms \u00b1 1.19 ms per loop (mean \u00b1 std. dev. of 7 runs, 100 loops each)\n"
          ]
        }
      ],
      "source": [
        "m = create_model()\n",
        "%timeit res = solve_model(m, \"gurobi_persistent\", show_result=False)"
      ]
    },
    {
      "cell_type": "code",
      "execution_count": 7,
      "id": "626b8743-ea8e-49d5-ae30-87626fd1da30",
      "metadata": {},
      "outputs": [
        {
          "name": "stdout",
          "output_type": "stream",
          "text": [
            "22.2 ms \u00b1 2.48 ms per loop (mean \u00b1 std. dev. of 7 runs, 10 loops each)\n"
          ]
        }
      ],
      "source": [
        "m = create_model()\n",
        "%timeit res = solve_model(m, \"gurobi\", show_result=False)"
      ]
    },
    {
      "cell_type": "markdown",
      "id": "ac95d180-f9a9-4179-8fa4-7c627f1bb29f",
      "metadata": {},
      "source": [
        "To generalize, we need to understand how we can modify different parts of a model\n",
        "\n",
        "\n",
        "## 2. Docs\n",
        "- [`GurobiPersistent`](https://pyomo.readthedocs.io/en/stable/reference/topical/solvers/gurobi_persistent.html#gurobipersistent)\n",
        "- [`AbstractScalarVar`](https://pyomo.readthedocs.io/en/stable/api/pyomo.core.base.var.AbstractScalarVar.html#pyomo.core.base.var.AbstractScalarVar)\n",
        "- Persistent Solver explanation: [link](https://pyomo.readthedocs.io/en/stable/explanation/solvers/persistent.html#persistent-solvers)\n",
        "\n",
        "### From the Docs\n",
        "- \"Note that users are responsible for notifying the persistent solver interfaces when changes are made to the corresponding pyomo model.\"\n",
        "- `GurobiPersistent` accepts only a ConcreteModel, not an abstract model (!)\n",
        "- Key methods on the class\n",
        "    - `add_block`, `remove_block`\n",
        "    - `add_column`, -- **no method to remove columns**\n",
        "    - `add_constraint`, `remove_constraint`\n",
        "    - `add_var`, `remove_var`, `update_var`\n",
        "    - `set_objective`\n",
        "- It's necessary to first remove the component from the optimizer, then update the component in pyomo, and then add it back\n",
        "\n",
        "\n",
        "For instance, constraints should be changed as follows\n",
        "\n",
        "```python\n",
        "m = pyo.ConcreteModel()\n",
        "m.x = pyo.Var()\n",
        "m.y = pyo.Var()\n",
        "m.c = pyo.Constraint(expr=m.y >= -2*m.x + 5)\n",
        "opt = pyo.SolverFactory('gurobi_persistent')\n",
        "opt.set_instance(m)\n",
        "\n",
        "opt.remove_constraint(m.c)\n",
        "del m.c\n",
        "m.c = pyo.Constraint(expr=m.y <= m.x)\n",
        "opt.add_constraint(m.c)\n",
        "\n",
        "```\n",
        "\n",
        "\n",
        "An exception to this rule are variables, which we can update directly with the solver\n",
        "```python\n",
        "m = pyo.ConcreteModel()\n",
        "m.x = pyo.Var()\n",
        "m.y = pyo.Var()\n",
        "m.c = pyo.Constraint(expr=m.y >= -2*m.x + 5)\n",
        "opt = pyo.SolverFactory('gurobi_persistent')\n",
        "opt.set_instance(m)\n",
        "\n",
        "m.x.setlb(1.0) # first, update in pyomo - I understand this \n",
        "opt.update_var(m.x)\n",
        "```\n",
        "\n",
        "#### Indexed variables and constraints\n",
        "\n",
        "To add and remove indexed variables and constraints, we need to iterate over their values:\n",
        "```python\n",
        "for v in indexed_var.values():\n",
        "    opt.add_var(v)\n",
        "    opt.remove_var(v)\n",
        "for v in indexed_con.values():\n",
        "    opt.add_constraint(v)\n",
        "    opt.remove_constraint(v)\n",
        "```\n",
        "\n",
        "\n"
      ]
    },
    {
      "cell_type": "markdown",
      "id": "b5282184-ab91-4feb-8e57-bbbf604c0f2e",
      "metadata": {},
      "source": [
        "## 2. Time-indexed parameters to objective function, similar to OptimizerBiddingStrategy"
      ]
    },
    {
      "cell_type": "code",
      "execution_count": 8,
      "id": "92ce6c5d-8761-445b-801f-000efb37e7c2",
      "metadata": {},
      "outputs": [],
      "source": [
        "parameters = {\"first\": {1: 0.5, 2: 3.4}, \"second\": {1: 5, 2: 3.4}}"
      ]
    },
    {
      "cell_type": "code",
      "execution_count": null,
      "id": "15ff6b14-3e53-44ee-8c6d-f93bfeab65dd",
      "metadata": {},
      "outputs": [],
      "source": []
    },
    {
      "cell_type": "code",
      "execution_count": 9,
      "id": "fa03bea7-07f4-4e89-8a32-5aa8fc283740",
      "metadata": {},
      "outputs": [],
      "source": [
        "def create_model(params_obj_fct):\n",
        "    \"\"\"Create a model with time index.\"\"\"\n",
        "    model = pyo.ConcreteModel()\n",
        "    model.time = pyo.Set(initialize=[1, 2])\n",
        "    model.x = pyo.Var(model.time)\n",
        "\n",
        "    @model.Param(model.time, domain=pyo.Any, mutable=True)\n",
        "    def obj_params(model, t):\n",
        "        return params_obj_fct[t]\n",
        "\n",
        "    @model.Objective()\n",
        "    def obj(model):\n",
        "        return sum(model.obj_params[t] * model.x[t] ** 2 for t in model.time)\n",
        "\n",
        "    @model.Constraint()\n",
        "    def c(model):\n",
        "        return model.x[2] >= -2 * model.x[1] + 5\n",
        "\n",
        "    return model\n",
        "\n",
        "\n",
        "def update_model(model, params_obj_fct):\n",
        "    \"\"\"Update parameters of obj fct in existing model.\"\"\"\n",
        "    del model.obj_params\n",
        "    del model.obj\n",
        "\n",
        "    @model.Param(model.time, domain=pyo.Any, mutable=True)\n",
        "    def obj_params(model, t):\n",
        "        return params_obj_fct[t]\n",
        "\n",
        "    @model.Objective()\n",
        "    def obj(model):\n",
        "        return sum(model.obj_params[t] * model.x[t] ** 2 for t in model.time)\n",
        "\n",
        "    return model"
      ]
    },
    {
      "cell_type": "code",
      "execution_count": 10,
      "id": "0d635379-c51f-498b-8029-905e6b3ca741",
      "metadata": {},
      "outputs": [],
      "source": [
        "def solve_and_update(params, show_results=True):\n",
        "    \"\"\"Create a model, solve, change parameters, solve again.\"\"\"\n",
        "    model = create_model(params[\"first\"])\n",
        "    opt = pyo.SolverFactory(\"gurobi\")\n",
        "    opt.solve(model)\n",
        "    if show_results:\n",
        "        print(pyo.value(model.obj))\n",
        "    model = create_model(params[\"second\"])\n",
        "    opt.solve(model)\n",
        "    if show_results:\n",
        "        print(pyo.value(model.obj))"
      ]
    },
    {
      "cell_type": "code",
      "execution_count": 11,
      "id": "45ddd588-1c29-4158-9522-52f492e139a9",
      "metadata": {},
      "outputs": [
        {
          "name": "stdout",
          "output_type": "stream",
          "text": [
            "3.0141843971849\n",
            "22.84946236650336\n"
          ]
        }
      ],
      "source": [
        "solve_and_update(parameters)"
      ]
    },
    {
      "cell_type": "code",
      "execution_count": 12,
      "id": "046f73e0-4b64-4d4f-8b25-e1d1dc7ec184",
      "metadata": {},
      "outputs": [
        {
          "name": "stdout",
          "output_type": "stream",
          "text": [
            "20.5 ms \u00b1 797 \u03bcs per loop (mean \u00b1 std. dev. of 7 runs, 10 loops each)\n"
          ]
        }
      ],
      "source": [
        "%timeit solve_and_update(parameters, False)"
      ]
    },
    {
      "cell_type": "markdown",
      "id": "aeebba30-fe13-4317-9bbe-7821b622f4d3",
      "metadata": {},
      "source": [
        "### Using a persistent solver"
      ]
    },
    {
      "cell_type": "code",
      "execution_count": 13,
      "id": "882ad651-6f08-4f65-89c9-89a70b048f75",
      "metadata": {},
      "outputs": [],
      "source": [
        "def solve_persist_and_update(params, show_results=True):\n",
        "    \"\"\"Create model, solve, change parameters only in solver, solve again.\"\"\"\n",
        "    model = create_model(parameters[\"first\"])\n",
        "    opt = pyo.SolverFactory(\"gurobi_persistent\")\n",
        "    opt.set_instance(model)\n",
        "    _ = opt.solve(save_results=False)\n",
        "    if show_results:\n",
        "        print(pyo.value(model.obj))\n",
        "\n",
        "    model = update_model(model, parameters[\"second\"])\n",
        "    opt.set_objective(model.obj)\n",
        "    _ = opt.solve(save_results=False)\n",
        "    if show_results:\n",
        "        print(pyo.value(model.obj))"
      ]
    },
    {
      "cell_type": "code",
      "execution_count": 14,
      "id": "e3182441-039d-4084-bbb1-1f991823bbbe",
      "metadata": {},
      "outputs": [
        {
          "name": "stdout",
          "output_type": "stream",
          "text": [
            "3.0141843971849\n",
            "22.84946236650336\n"
          ]
        }
      ],
      "source": [
        "solve_persist_and_update(parameters)"
      ]
    },
    {
      "cell_type": "code",
      "execution_count": 15,
      "id": "682a1c72-27a7-4a1a-b151-e8160d0eca26",
      "metadata": {},
      "outputs": [
        {
          "name": "stdout",
          "output_type": "stream",
          "text": [
            "13 ms \u00b1 1.32 ms per loop (mean \u00b1 std. dev. of 7 runs, 100 loops each)\n"
          ]
        }
      ],
      "source": [
        "%timeit solve_persist_and_update(parameters, False)"
      ]
    }
  ],
  "metadata": {
    "kernelspec": {
      "display_name": "Python 3 (ipykernel)",
      "language": "python",
      "name": "python3"
    },
    "language_info": {
      "codemirror_mode": {
        "name": "ipython",
        "version": 3
      },
      "file_extension": ".py",
      "mimetype": "text/x-python",
      "name": "python",
      "nbconvert_exporter": "python",
      "pygments_lexer": "ipython3",
      "version": "3.11.9"
    }
  },
  "nbformat": 4,
  "nbformat_minor": 5
}
