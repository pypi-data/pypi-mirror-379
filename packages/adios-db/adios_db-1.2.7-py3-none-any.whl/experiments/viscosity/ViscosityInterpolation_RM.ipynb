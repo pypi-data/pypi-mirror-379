{
 "cells": [
  {
   "cell_type": "markdown",
   "id": "b0580a4d",
   "metadata": {},
   "source": [
    "# Viscosity Interpolation\n",
    "\n",
    "Some tests, examples of viscosity interpolation\n",
    "\n",
    "As a rule, visoscity varies exponentially with temperature, so that's how we onterpolatie it\n",
    "\n",
    "But something seemed wrong with some dat from LSFOs\n",
    "\n",
    "Here's a check, using the KinematicViscosity Object from adios_db.computation\n",
    "\n",
    "## Conclusion so far:\n",
    "\n",
    "The fit to an exponential works well for crude oils -- which is what we determined way back when.\n",
    "\n",
    "However -- it works really poorly for at least some ULSFOs -- maybe other distilled products as well.\n",
    "\n",
    "## Solution?\n",
    "\n",
    "First step is to check the residuals, and at least issue a warning.\n",
    "\n",
    "Next step is to come up with a better interolatio method -- we could do piecwise (linear or exponential), but thatmight extrapolate really badly. That may not be SO bad for environmental conditions -- not a huge temp range --  but not great for labeling and the like.\n",
    "\n",
    "I tried using only the outside two pooints -- not good.\n",
    "\n",
    "Could a 3 parameter exponential fit work? IN theory, it should't -- viscosity should tend to zero at infinite temperature, but maybe it wold work OK locally -- at least it would exactly fit three points :-)\n",
    "\n",
    "Hmm -- piecewise exponential, with the extrapolation using a the fit to the end points?\n",
    "\n",
    "\n"
   ]
  },
  {
   "cell_type": "code",
   "execution_count": 1,
   "id": "1c1318f1",
   "metadata": {},
   "outputs": [],
   "source": [
    "from pathlib import Path\n",
    "import numpy as np\n",
    "import matplotlib.pyplot  as plt\n",
    "import matplotlib\n",
    "import adios_db.scripting as ads\n",
    "import adios_db.computation.physical_properties as pp\n",
    "import csv\n",
    "import nucos"
   ]
  },
  {
   "cell_type": "code",
   "execution_count": 2,
   "id": "385ab3f5",
   "metadata": {},
   "outputs": [],
   "source": [
    "# Here's an LSFO with dynamic viscosity data:\n",
    "EXAMPLE_DATA_DIR = Path(r\"C:\\Users\\rintaro.moriyasu\\Oil Databases\\noaa-oil-data\\data\\oil\")\n",
    "\n",
    "with open(\"viscosity_data.csv\") as infile:\n",
    "    reader = csv.reader(infile)\n",
    "    next(reader)\n",
    "    oil_ids = [row[2].strip() for row in reader]\n",
    "\n",
    "json_files = [EXAMPLE_DATA_DIR/id[:2]/(id+\".json\") for id in oil_ids]\n",
    "#json_files = [EXAMPLE_DATA_DIR/\"EC\"/\"EC00519.json\"]\n",
    "#print(json_files)"
   ]
  },
  {
   "cell_type": "code",
   "execution_count": 3,
   "id": "1fb9b9fc",
   "metadata": {},
   "outputs": [],
   "source": [
    "oils = [ads.Oil.from_file(filename) for filename in json_files]"
   ]
  },
  {
   "cell_type": "code",
   "execution_count": 4,
   "id": "929aae4b",
   "metadata": {},
   "outputs": [
    {
     "name": "stdout",
     "output_type": "stream",
     "text": [
      "Skipping AD00813\n",
      "Skipping because no list\n",
      "Skipping because res > 0.02\n",
      "Skipping AD01266\n",
      "Skipping because bad oil\n",
      "Skipping because res > 0.02\n",
      "Skipping because res > 0.02\n",
      "Skipping because res > 0.02\n",
      "Skipping because res > 0.02\n",
      "Skipping because res > 0.02\n",
      "Skipping because res > 0.02\n",
      "Skipping because res > 0.02\n",
      "Skipping because res > 0.02\n",
      "Skipping AD01483\n",
      "Skipping because bad oil\n",
      "Skipping because res > 0.02\n",
      "Skipping because no list\n",
      "Skipping because res > 0.02\n",
      "Skipping because res > 0.02\n",
      "Skipping because res > 0.02\n",
      "Skipping AD02078\n",
      "Skipping because bad oil\n",
      "Skipping AD02082\n",
      "Skipping because bad oil\n",
      "Skipping AD02132\n",
      "Skipping because bad oil\n",
      "Skipping AD02151\n",
      "Skipping because bad oil\n",
      "Skipping AD02206\n",
      "Skipping because bad oil\n",
      "Skipping because res > 0.02\n",
      "Skipping because res > 0.02\n",
      "Skipping AD02270\n",
      "Skipping because bad oil\n",
      "Skipping because res > 0.02\n",
      "Skipping because res > 0.02\n",
      "Skipping because res > 0.02\n",
      "Skipping because no list\n",
      "Skipping because res > 0.02\n",
      "Skipping because len(visc) < 3\n",
      "Skipping because res > 0.02\n",
      "Skipping because res > 0.02\n",
      "Error in convert(), obj: DynamicViscosity(value=2170.0, unit='mPa.s', standard_deviation='ESTS 12.05/1.0/M', unit_type='dynamicviscosity')\n",
      "Error in convert(), obj: DynamicViscosity(value=24000.0, unit='mPa.s', standard_deviation='ESTS 12.05/1.0/M', unit_type='dynamicviscosity')\n",
      "Skipping because len(visc) < 3\n",
      "Skipping because res > 0.02\n",
      "Skipping because len(visc) < 3\n",
      "Skipping because len(visc) < 3\n",
      "Skipping because len(visc) < 3\n",
      "Skipping because len(visc) < 3\n",
      "Skipping because len(visc) < 3\n",
      "Skipping because len(visc) < 3\n",
      "Skipping NO00119\n",
      "Skipping because no list\n",
      "Skipping because no list\n",
      "Skipping because no list\n",
      "Skipping NO00122\n",
      "Skipping because no list\n",
      "Skipping NO00123\n",
      "Skipping because bad oil\n",
      "Skipping because res > 0.02\n",
      "Records w/ Bad Residuals = 23\n"
     ]
    }
   ],
   "source": [
    "residuals = {}\n",
    "no_list = ['AD00813', 'NO00119', 'NO00120','NO00121','NO00122', 'AD02582', 'AD01485' ]\n",
    "matplotlib.rcParams['figure.max_open_warning'] = 240\n",
    "counter = 0\n",
    "for oil in oils[:]:\n",
    "    validation = oil.validate()\n",
    "    bad_oil = False\n",
    "    for message in validation:\n",
    "        if message.startswith(\"E062\"):\n",
    "            print(\"Skipping\", oil.oil_id)\n",
    "            bad_oil = True\n",
    "            break\n",
    "    if oil.oil_id in no_list:\n",
    "        print(\"Skipping because no list\")\n",
    "        continue\n",
    "    if bad_oil:\n",
    "        print(\"Skipping because bad oil\")\n",
    "        continue\n",
    "    \n",
    "        \n",
    "    oil_name = oil.metadata.name\n",
    "    #print(oil_name)\n",
    "    KV = pp.KinematicViscosity(oil)\n",
    "\n",
    "    visc = KV.kviscs\n",
    "    if len(visc) < 3:\n",
    "        print(\"Skipping because len(visc) < 3\")\n",
    "        continue\n",
    "    \n",
    "    if KV.residuals[0] > 0.02:\n",
    "        print(\"Skipping because res > 0.02\")\n",
    "        counter += 1\n",
    "        continue\n",
    "    temps = np.array(KV.temps)\n",
    "    visc2 = KV.at_temp(temps)\n",
    "    residuals[oil.oil_id] = KV.residuals[0]\n",
    "    temps_c = nucos.convert(\"K\", \"C\", temps)\n",
    "    temps3 = np.linspace(min(temps), max(temps))\n",
    "    temps3_c = nucos.convert(\"K\", \"C\", temps3)\n",
    "    visc3 = KV.at_temp(temps3)\n",
    "#     fig, ax = plt.subplots()\n",
    "#     ax.set_title(oil_name +\" \" + oil.oil_id)\n",
    "#     ax.plot(temps_c, visc, 'o')\n",
    "#     ax.plot(temps_c, visc2, 'x')\n",
    "#     ax.plot(temps3_c, visc3)\n",
    "#     ax.set_xlabel(\"Temp in C\")\n",
    "#     ax.set_ylabel(\"Viscosity\")\n",
    "#     ax.legend([\"original points\", \"re-computed\", \"interpolator\"])\n",
    "#     ax.text(min(temps3_c),min(visc3) , f\"Residual: {KV.residuals}\")\n",
    "print(\"Records w/ Bad Residuals =\", counter)"
   ]
  },
  {
   "cell_type": "code",
   "execution_count": 5,
   "id": "02063440",
   "metadata": {},
   "outputs": [
    {
     "data": {
      "text/plain": [
       "(array([126.,  19.,  10.,   4.,   5.,   3.,   5.,   2.,   2.,   3.,   2.,\n",
       "          0.,   0.,   3.,   0.,   6.,   1.,   0.,   2.,   7.]),\n",
       " array([6.82957823e-08, 9.76343414e-04, 1.95261853e-03, 2.92889365e-03,\n",
       "        3.90516877e-03, 4.88144389e-03, 5.85771901e-03, 6.83399412e-03,\n",
       "        7.81026924e-03, 8.78654436e-03, 9.76281948e-03, 1.07390946e-02,\n",
       "        1.17153697e-02, 1.26916448e-02, 1.36679200e-02, 1.46441951e-02,\n",
       "        1.56204702e-02, 1.65967453e-02, 1.75730204e-02, 1.85492955e-02,\n",
       "        1.95255707e-02]),\n",
       " <BarContainer object of 20 artists>)"
      ]
     },
     "execution_count": 5,
     "metadata": {},
     "output_type": "execute_result"
    },
    {
     "data": {
      "image/png": "[encoded data removed]",
      "text/plain": [
       "<Figure size 640x480 with 1 Axes>"
      ]
     },
     "metadata": {},
     "output_type": "display_data"
    }
   ],
   "source": [
    "res = list(residuals.values())\n",
    "fig, ax = plt.subplots()\n",
    "ax.hist(res, bins = 20)\n",
    "#     ax.set_title(oil_name +\" \" + oil.oil_id)\n",
    "#     ax.plot(temps, visc, 'o')\n",
    "#     ax.plot(temps, visc2, 'x')\n",
    "#     ax.plot(temps3, visc3)\n",
    "#     ax.legend([\"original points\", \"re-computed\", \"interpolator\"])\n",
    "#     ax.text(min(temps3),min(visc3) , f\"Residual: {KV.residuals}\")"
   ]
  },
  {
   "cell_type": "code",
   "execution_count": 6,
   "id": "d1f1c3b6",
   "metadata": {},
   "outputs": [
    {
     "data": {
      "text/plain": [
       "'AD01863'"
      ]
     },
     "execution_count": 6,
     "metadata": {},
     "output_type": "execute_result"
    }
   ],
   "source": [
    "max(res)\n",
    "res_reversed = {res:id for id, res in residuals.items()}\n",
    "res_reversed[max(res)]\n",
    "res_reversed[min(res)]"
   ]
  },
  {
   "cell_type": "code",
   "execution_count": 7,
   "id": "715f8c12",
   "metadata": {},
   "outputs": [],
   "source": [
    "matplotlib.rcParams['figure.max_open_warning'] = 240"
   ]
  },
  {
   "cell_type": "code",
   "execution_count": 8,
   "id": "16ca6e18",
   "metadata": {},
   "outputs": [
    {
     "data": {
      "text/plain": [
       "200"
      ]
     },
     "execution_count": 8,
     "metadata": {},
     "output_type": "execute_result"
    }
   ],
   "source": [
    "len(res)"
   ]
  },
  {
   "cell_type": "code",
   "execution_count": null,
   "id": "8b122d3a",
   "metadata": {},
   "outputs": [],
   "source": []
  }
 ],
 "metadata": {
  "kernelspec": {
   "display_name": "Python 3 (ipykernel)",
   "language": "python",
   "name": "python3"
  },
  "language_info": {
   "codemirror_mode": {
    "name": "ipython",
    "version": 3
   },
   "file_extension": ".py",
   "mimetype": "text/x-python",
   "name": "python",
   "nbconvert_exporter": "python",
   "pygments_lexer": "ipython3",
   "version": "3.12.3"
  }
 },
 "nbformat": 4,
 "nbformat_minor": 5
}
