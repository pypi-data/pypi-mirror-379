{
 "cells": [
  {
   "cell_type": "code",
   "execution_count": null,
   "metadata": {
    "collapsed": true
   },
   "outputs": [],
   "source": [
    "import httpx"
   ]
  },
  {
   "cell_type": "code",
   "execution_count": null,
   "outputs": [],
   "source": [
    "def authenticate(username: str, password: str):\n",
    "    session = httpx.Client()\n",
    "    AUTH_URL = 'https://passport.moex.com/authenticate'\n",
    "    response = session.get(AUTH_URL, auth=(username, password))\n",
    "    if response.status_code == 200:\n",
    "        AUTH_CERT = response.cookies.get('MicexPassportCert')\n",
    "        return AUTH_CERT\n",
    "    else:\n",
    "        return None"
   ],
   "metadata": {
    "collapsed": false,
    "pycharm": {
     "name": "#%%\n"
    }
   }
  },
  {
   "cell_type": "code",
   "execution_count": null,
   "outputs": [],
   "source": [
    "def make_authenticated_request(url: str, cert: str):\n",
    "    if cert is None:\n",
    "        raise Exception(\"Unauthorized\")\n",
    "\n",
    "    session = httpx.Client()\n",
    "    headers = {'Cookie': f'MicexPassportCert={cert}', 'Cache-Control': 'no-cache'}\n",
    "    response = session.get(url, headers=headers)\n",
    "\n",
    "    return response"
   ],
   "metadata": {
    "collapsed": false,
    "pycharm": {
     "name": "#%%\n"
    }
   }
  },
  {
   "cell_type": "code",
   "execution_count": null,
   "outputs": [],
   "source": [
    "username = '<email>'\n",
    "password = '<password>'\n",
    "\n",
    "url = 'https://iss.moex.com/iss/datashop/algopack/eq/tradestats'\n",
    "cert = authenticate(username=username, password=password)\n",
    "output = make_authenticated_request(url=url, cert=cert)\n",
    "\n",
    "print(output)"
   ],
   "metadata": {
    "collapsed": false,
    "pycharm": {
     "name": "#%%\n"
    }
   }
  }
 ],
 "metadata": {
  "kernelspec": {
   "display_name": "Python 3",
   "language": "python",
   "name": "python3"
  },
  "language_info": {
   "codemirror_mode": {
    "name": "ipython",
    "version": 2
   },
   "file_extension": ".py",
   "mimetype": "text/x-python",
   "name": "python",
   "nbconvert_exporter": "python",
   "pygments_lexer": "ipython2",
   "version": "2.7.6"
  }
 },
 "nbformat": 4,
 "nbformat_minor": 0
}