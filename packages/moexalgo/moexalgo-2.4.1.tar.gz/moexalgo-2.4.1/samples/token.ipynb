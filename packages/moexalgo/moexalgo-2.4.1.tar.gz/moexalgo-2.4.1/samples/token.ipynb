{
 "cells": [
  {
   "cell_type": "code",
   "id": "initial_id",
   "metadata": {
    "collapsed": true,
    "ExecuteTime": {
     "end_time": "2024-10-21T12:21:14.120694Z",
     "start_time": "2024-10-21T12:21:13.708630Z"
    }
   },
   "source": [
    "from moexalgo import session, Market, Ticker, CandlePeriod\n",
    "session.TOKEN = '<APIKEY>'"
   ],
   "outputs": [],
   "execution_count": 1
  },
  {
   "metadata": {},
   "cell_type": "code",
   "source": [
    "eq = Market('EQ')\n",
    "eq.tradestats(date='2024-10-03')"
   ],
   "id": "dd978c03cd58efcf",
   "outputs": [],
   "execution_count": null
  },
  {
   "cell_type": "code",
   "execution_count": 2,
   "outputs": [],
   "source": [],
   "metadata": {
    "collapsed": false,
    "pycharm": {
     "name": "#%%\n"
    }
   },
   "id": "94ab9d6132280639"
  }
 ],
 "metadata": {
  "kernelspec": {
   "display_name": "Python 3",
   "language": "python",
   "name": "python3"
  },
  "language_info": {
   "codemirror_mode": {
    "name": "ipython",
    "version": 2
   },
   "file_extension": ".py",
   "mimetype": "text/x-python",
   "name": "python",
   "nbconvert_exporter": "python",
   "pygments_lexer": "ipython2",
   "version": "2.7.6"
  }
 },
 "nbformat": 4,
 "nbformat_minor": 5
}