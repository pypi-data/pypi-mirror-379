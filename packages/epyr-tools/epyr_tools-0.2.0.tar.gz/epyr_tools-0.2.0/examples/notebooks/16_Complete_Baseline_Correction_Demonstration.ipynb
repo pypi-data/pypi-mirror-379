{
 "cells": [
  {
   "cell_type": "markdown",
   "id": "notebook-title",
   "metadata": {},
   "source": [
    "# Complete Baseline Correction Guide for EPR Data\n",
    "\n",
    "This comprehensive notebook demonstrates all baseline correction methods available in EPyR Tools using **real EPR data**.\n",
    "\n",
    "## Table of Contents\n",
    "1. [Introduction & Setup](#introduction)\n",
    "2. [Basic Polynomial Baseline Correction](#polynomial)\n",
    "3. [Stretched Exponential Correction (T2 Data)](#stretched)\n",
    "4. [Bi-exponential Correction](#bi-exponential)\n",
    "5. [Automatic Model Selection](#automatic)\n",
    "6. [Interactive Region Selection](#interactive)\n",
    "7. [2D Baseline Correction](#2d-correction)\n",
    "8. [Best Practices & Tips](#best-practices)\n",
    "\n",
    "---"
   ]
  },
  {
   "cell_type": "markdown",
   "id": "introduction",
   "metadata": {},
   "source": [
    "## 1. Introduction & Setup {#introduction}\n",
    "\n",
    "EPyR Tools provides a comprehensive suite of baseline correction methods specifically designed for EPR spectroscopy data:\n",
    "\n",
    "- **Polynomial correction**: For smooth baseline drifts\n",
    "- **Stretched exponential**: For T2 relaxation and echo decay measurements\n",
    "- **Bi-exponential**: For complex decay patterns with multiple components\n",
    "- **Automatic selection**: Intelligent model selection using statistical criteria\n",
    "- **Interactive selection**: Manual region selection with matplotlib widgets\n"
   ]
  },
  {
   "cell_type": "code",
   "execution_count": null,
   "id": "setup",
   "metadata": {},
   "outputs": [],
   "source": "import epyr\nimport epyr.baseline_correction as bc  # Import baseline correction functions\nimport numpy as np\nimport matplotlib.pyplot as plt\nfrom pathlib import Path\nimport warnings\n\n# Configure plotting\nplt.style.use('default')\nplt.rcParams['figure.figsize'] = (10, 6)\nplt.rcParams['font.size'] = 10\n\n# Suppress minor warnings for cleaner output\nwarnings.filterwarnings('ignore', category=UserWarning)\n\nprint(f\"EPyR Tools version: {epyr.__version__}\")\nprint(\"Available data files:\")\ndata_dir = Path(\"../data\")\nfor f in sorted(data_dir.glob(\"*.DSC\")):\n    print(f\"  📁 {f.name}\")"
  },
  {
   "cell_type": "markdown",
   "id": "polynomial",
   "metadata": {},
   "source": [
    "## 2. Basic Polynomial Baseline Correction {#polynomial}\n",
    "\n",
    "Polynomial correction is ideal for **continuous wave (CW) EPR spectra** with smooth baseline drifts."
   ]
  },
  {
   "cell_type": "code",
   "execution_count": null,
   "id": "polynomial-demo",
   "metadata": {},
   "outputs": [],
   "source": "    # Apply polynomial baseline correction (order 3)\n    print(\"\\n🔧 Applying 3rd-order polynomial baseline correction...\")\n    corrected_cw, baseline_cw = bc.baseline_polynomial_1d(\n        x_cw, y_cw, params_cw, \n        order=3,\n        exclude_center=True,     # Exclude center region containing signal\n        center_fraction=0.4      # Exclude middle 40% of data\n    )"
  },
  {
   "cell_type": "markdown",
   "id": "stretched",
   "metadata": {},
   "source": [
    "## 3. Stretched Exponential Correction (T2 Data) {#stretched}\n",
    "\n",
    "Stretched exponential correction is perfect for **T2 relaxation measurements** and echo decay data.\n",
    "\n",
    "The stretched exponential function is: **f(t) = A × exp(-(t/τ)^β) + offset**\n",
    "\n",
    "- **β = 1**: Pure exponential decay\n",
    "- **β < 1**: Sub-exponential (slower than exponential)\n",
    "- **β > 1**: Super-exponential (faster than exponential)"
   ]
  },
  {
   "cell_type": "code",
   "execution_count": null,
   "id": "stretched-demo",
   "metadata": {},
   "outputs": [],
   "source": "    # Apply stretched exponential correction\n    print(\"\\n🔧 Applying stretched exponential baseline correction...\")\n    corrected_t2, baseline_t2 = bc.baseline_stretched_exponential_1d(\n        x_t2, y_t2, params_t2,\n        beta_range=(0.01, 5.0),  # Full range for stretching parameter\n        use_real_part=True,      # Fit real part of complex data\n        exclude_initial=5,       # Skip first 5 points (potential artifacts)\n        exclude_final=20         # Skip last 20 points\n    )"
  },
  {
   "cell_type": "markdown",
   "id": "bi-exponential",
   "metadata": {},
   "source": [
    "## 4. Bi-exponential Correction {#bi-exponential}\n",
    "\n",
    "Bi-exponential correction handles **complex decay patterns** with fast and slow components.\n",
    "\n",
    "The bi-exponential function is: **f(t) = A₁×exp(-t/τ₁) + A₂×exp(-t/τ₂) + offset**\n",
    "\n",
    "This is useful for systems with multiple relaxation pathways."
   ]
  },
  {
   "cell_type": "code",
   "execution_count": null,
   "id": "bi-exponential-demo",
   "metadata": {},
   "outputs": [],
   "source": "    # Apply bi-exponential correction\n    print(\"\\n🔧 Applying bi-exponential baseline correction...\")\n    corrected_bi, baseline_bi = bc.baseline_bi_exponential_1d(\n        x_bi, y_bi, params_bi,\n        tau_ratio_min=2.5,     # Ensure components are sufficiently different\n        use_real_part=True,\n        exclude_initial=5,\n        exclude_final=20\n    )"
  },
  {
   "cell_type": "markdown",
   "id": "automatic",
   "metadata": {},
   "source": [
    "## 5. Automatic Model Selection {#automatic}\n",
    "\n",
    "The **automatic baseline selection** intelligently chooses the best model (polynomial, stretched exponential, or bi-exponential) using statistical criteria:\n",
    "\n",
    "- **AIC** (Akaike Information Criterion): Balances fit quality vs complexity\n",
    "- **BIC** (Bayesian Information Criterion): More conservative, penalizes complexity more\n",
    "- **R²** (Coefficient of determination): Measures fraction of variance explained\n",
    "\n",
    "This is perfect when you're unsure which baseline model to use!"
   ]
  },
  {
   "cell_type": "code",
   "execution_count": null,
   "id": "automatic-demo",
   "metadata": {},
   "outputs": [],
   "source": "        # Run automatic model selection\n        corrected, baseline, info = bc.baseline_auto_1d(\n            x, y, params,\n            use_real_part=True,\n            exclude_initial=5,\n            exclude_final=20,\n            verbose=False\n        )"
  },
  {
   "cell_type": "markdown",
   "id": "interactive",
   "metadata": {},
   "source": [
    "## 6. Interactive Region Selection {#interactive}\n",
    "\n",
    "Interactive region selection allows you to **manually specify** which parts of your data to use for baseline fitting.\n",
    "\n",
    "**Note**: Interactive selection works best in **local Jupyter installations**. In online environments, you may need to use manual region specification."
   ]
  },
  {
   "cell_type": "code",
   "execution_count": null,
   "id": "interactive-demo",
   "metadata": {},
   "outputs": [],
   "source": "    # Apply correction with manual regions\n    corrected_manual, baseline_manual = bc.baseline_polynomial_1d(\n        x_demo, y_demo, params_demo,\n        order=2,\n        manual_regions=baseline_regions,\n        region_mode='include',  # Use ONLY these regions for fitting\n        exclude_center=False    # Don't auto-exclude center since we specify regions manually\n    )"
  },
  {
   "cell_type": "markdown",
   "id": "2d-correction",
   "metadata": {},
   "source": [
    "## 7. 2D Baseline Correction {#2d-correction}\n",
    "\n",
    "For **2D EPR datasets** (like Rabi oscillation measurements), EPyR Tools provides specialized 2D baseline correction.\n",
    "\n",
    "2D correction fits: **f(x,y) = Σᵢⱼ aᵢⱼ × xⁱ × yʲ**"
   ]
  },
  {
   "cell_type": "code",
   "execution_count": null,
   "id": "2d-demo",
   "metadata": {},
   "outputs": [],
   "source": "    # Apply 2D baseline correction\n    print(\"\\n🔧 Applying 2D polynomial baseline correction...\")\n    corrected_2d, baseline_2d = bc.baseline_polynomial_2d(\n        x_2d, y_2d, params_2d,\n        order=(2, 2),  # 2nd order along both axes (tuple format)\n        exclude_center=True,\n        center_fraction=0.3\n    )"
  },
  {
   "cell_type": "markdown",
   "id": "best-practices",
   "metadata": {},
   "source": [
    "## 8. Best Practices & Tips {#best-practices}\n",
    "\n",
    "### 🎯 **Choosing the Right Method**\n",
    "\n",
    "| **Data Type** | **Recommended Method** | **Why** |\n",
    "|---------------|------------------------|----------|\n",
    "| **CW EPR spectra** | `baseline_polynomial_1d()` | Smooth baseline drifts |\n",
    "| **T2 relaxation** | `baseline_stretched_exponential_1d()` | Natural exponential decay |\n",
    "| **Complex decay** | `baseline_bi_exponential_1d()` | Multiple decay components |\n",
    "| **Unknown baseline** | `baseline_auto_1d()` | Automatic model selection |\n",
    "| **2D datasets** | `baseline_polynomial_2d()` | Surface fitting |\n",
    "\n",
    "### 🔧 **Parameter Optimization**"
   ]
  },
  {
   "cell_type": "code",
   "execution_count": null,
   "id": "best-practices-code",
   "metadata": {},
   "outputs": [],
   "source": "print(\"2. 🧪 METHOD SELECTION:\")\nprint(\"   • CW EPR → bc.baseline_polynomial_1d(order=2-4)\")\nprint(\"   • T2 data → bc.baseline_stretched_exponential_1d()\")\nprint(\"   • Complex decay → bc.baseline_bi_exponential_1d()\")\nprint(\"   • Unsure → bc.baseline_auto_1d() for automatic selection\")\nprint(\"\")\n\nprint(\"3. 🎛️  PARAMETER TUNING:\")\nprint(\"   • Polynomial order: Start with 2-3, increase if needed\")\nprint(\"   • Beta range: (0.01, 5.0) covers most physical cases\")\nprint(\"   • Tau ratio: ≥2.5 for bi-exponential component separation\")\nprint(\"\")\n\nprint(\"4. 🎨 VISUALIZATION:\")\nprint(\"   • Always plot original + baseline + corrected data\")\nprint(\"   • Use semi-log plots for exponential analysis\")\nprint(\"   • Check R² values (>0.95 typically good)\")\nprint(\"\")\n\nprint(\"5. ⚠️  COMMON PITFALLS:\")\nprint(\"   • Don't over-fit: high-order polynomials can remove signal\")\nprint(\"   • Exclude signal regions when fitting baseline\")\nprint(\"   • For complex data, choose real part vs magnitude carefully\")\nprint(\"   • Interactive selection may not work in all Jupyter environments\")\n\n# Example of good practice workflow\nprint(\"\\n📝 RECOMMENDED WORKFLOW:\")\nprint(\"\"\"\n# 1. Load and examine data\nx, y, params, filepath = epyr.eprload(\"data.DSC\")\nplt.plot(x, np.real(y))\nplt.show()\"\"\")"
  },
  {
   "cell_type": "markdown",
   "id": "conclusion",
   "metadata": {},
   "source": [
    "---\n",
    "\n",
    "## 🎉 **Conclusion**\n",
    "\n",
    "This notebook demonstrated the **complete baseline correction suite** in EPyR Tools using real EPR data:\n",
    "\n",
    "1. **✅ Polynomial correction** for CW EPR spectra\n",
    "2. **✅ Stretched exponential correction** for T2 relaxation data  \n",
    "3. **✅ Bi-exponential correction** for complex decay patterns\n",
    "4. **✅ Automatic model selection** using statistical criteria\n",
    "5. **✅ Interactive and manual region selection**\n",
    "6. **✅ 2D baseline correction** for advanced datasets\n",
    "7. **✅ Best practices and workflow recommendations**\n",
    "\n",
    "### **📚 Next Steps**\n",
    "\n",
    "- Try these methods on your own EPR data\n",
    "- Experiment with different parameter settings\n",
    "- Use `baseline_auto_1d()` when unsure which method to choose\n",
    "- Check the [EPyR documentation](https://epyr-tools.readthedocs.io) for more advanced features\n",
    "\n",
    "### **🆘 Getting Help**\n",
    "\n",
    "- `help(epyr.baseline_auto_1d)` - Function documentation\n",
    "- `epyr.baseline_correction.jupyter_help()` - Interactive help\n",
    "- Check the examples in `/examples/scripts/` for more demos\n",
    "\n",
    "**Happy EPR data analysis! 🧲📊**"
   ]
  }
 ],
 "metadata": {
  "kernelspec": {
   "display_name": "Python 3 (ipykernel)",
   "language": "python",
   "name": "python3"
  },
  "language_info": {
   "codemirror_mode": {
    "name": "ipython",
    "version": 3
   },
   "file_extension": ".py",
   "mimetype": "text/x-python",
   "name": "python",
   "nbconvert_exporter": "python",
   "pygments_lexer": "ipython3",
   "version": "3.9.7"
  }
 },
 "nbformat": 4,
 "nbformat_minor": 5
}