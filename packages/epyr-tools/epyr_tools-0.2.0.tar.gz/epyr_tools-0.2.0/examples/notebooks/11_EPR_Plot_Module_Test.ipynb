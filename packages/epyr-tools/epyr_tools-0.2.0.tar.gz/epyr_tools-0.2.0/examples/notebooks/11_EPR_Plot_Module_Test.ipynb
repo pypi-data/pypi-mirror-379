{
 "cells": [
  {
   "cell_type": "markdown",
   "metadata": {},
   "source": [
    "# Test du Module EPR Plot\n",
    "\n",
    "Ce notebook teste le nouveau module `eprplot` qui fournit des fonctions simples pour tracer les données EPR obtenues avec `eprload()`.\n",
    "\n",
    "## Fonctions disponibles:\n",
    "- `epyr.plot_1d()` - Tracer les spectres EPR 1D\n",
    "- `epyr.plot_2d_map()` - Tracer les données 2D sous forme de carte colorée\n",
    "- `epyr.plot_2d_waterfall()` - Tracer les données 2D sous forme de cascade\n"
   ]
  },
  {
   "cell_type": "code",
   "execution_count": null,
   "metadata": {},
   "outputs": [],
   "source": "# DIAGNOSTIC - Exécutez cette cellule en premier\nimport sys\nprint(\"Python executable:\", sys.executable)\nprint(\"Python path (premiers 3):\")\nfor p in sys.path[:3]:\n    print(\" \", p)\n\n# Nettoyage complet des modules\nmodules_to_remove = [k for k in sys.modules.keys() if k.startswith('epyr')]\nfor module in modules_to_remove:\n    print(f\"Suppression du cache: {module}\")\n    del sys.modules[module]\n\n# Import frais\ntry:\n    import epyr\n    print(f\"\\n✅ EPyR v{epyr.__version__} importé\")\n    print(f\"   Localisation: {epyr.__file__}\")\n    \n    # Test des fonctions\n    functions = ['plot_1d', 'plot_2d_map', 'plot_2d_waterfall']\n    for func in functions:\n        status = \"✅\" if hasattr(epyr, func) else \"❌\"\n        print(f\"   {func}: {status}\")\n    \n    # Si ça ne marche pas, import explicite\n    if not hasattr(epyr, 'plot_1d'):\n        print(\"⚠️ Import explicite nécessaire...\")\n        from epyr.eprplot import plot_1d, plot_2d_map, plot_2d_waterfall\n        # Ajouter manuellement au namespace\n        epyr.plot_1d = plot_1d\n        epyr.plot_2d_map = plot_2d_map  \n        epyr.plot_2d_waterfall = plot_2d_waterfall\n        print(\"✅ Fonctions ajoutées manuellement\")\n        \nexcept Exception as e:\n    print(f\"❌ Erreur: {e}\")\n    import traceback\n    traceback.print_exc()"
  },
  {
   "cell_type": "code",
   "source": "# Imports pour le reste du notebook\nimport numpy as np\nimport matplotlib.pyplot as plt\n\nprint(\"✅ Imports NumPy et Matplotlib réussis\")\nprint(\"✅ Fonctions EPR plot disponibles - vous pouvez continuer!\")",
   "metadata": {},
   "execution_count": null,
   "outputs": []
  },
  {
   "cell_type": "markdown",
   "metadata": {},
   "source": [
    "## 1. Test avec données synthétiques 1D\n",
    "\n",
    "Créons un spectre EPR 1D synthétique pour tester la fonction `plot_1d`."
   ]
  },
  {
   "cell_type": "code",
   "execution_count": null,
   "metadata": {},
   "outputs": [],
   "source": [
    "# Création de données 1D synthétiques\n",
    "print(\"🔬 Génération de données EPR 1D synthétiques...\")\n",
    "\n",
    "# Axe du champ magnétique\n",
    "field_1d = np.linspace(3300, 3400, 1000)  # Champ en Gauss\n",
    "\n",
    "# Signal EPR (raie Lorentzienne avec bruit)\n",
    "center = 3350  # Centre de la raie\n",
    "linewidth = 8  # Largeur de raie\n",
    "amplitude = 100\n",
    "\n",
    "# Raie Lorentzienne\n",
    "signal_1d = amplitude * linewidth**2 / ((field_1d - center)**2 + linewidth**2)\n",
    "\n",
    "# Ajout de bruit\n",
    "noise = np.random.normal(0, 2, len(field_1d))\n",
    "signal_1d += noise\n",
    "\n",
    "# Paramètres comme retournés par eprload\n",
    "params_1d = {\n",
    "    'XAXIS_NAME': 'Champ Magnétique',\n",
    "    'XAXIS_UNIT': 'G',\n",
    "    'MWFQ': 9.5e9  # 9.5 GHz\n",
    "}\n",
    "\n",
    "print(f\"✅ Données 1D générées: {len(signal_1d)} points\")\n",
    "print(f\"📏 Gamme de champ: {field_1d.min():.0f} - {field_1d.max():.0f} G\")"
   ]
  },
  {
   "cell_type": "code",
   "execution_count": null,
   "metadata": {},
   "outputs": [],
   "source": [
    "# Test de plot_1d\n",
    "print(\"📊 Test de epyr.plot_1d()...\")\n",
    "\n",
    "fig, ax = epyr.plot_1d(\n",
    "    field_1d, \n",
    "    signal_1d, \n",
    "    params_1d, \n",
    "    title=\"Spectre EPR 1D Synthétique\"\n",
    ")\n",
    "\n",
    "plt.show()\n",
    "print(\"✅ Tracé 1D réussi!\")"
   ]
  },
  {
   "cell_type": "markdown",
   "metadata": {},
   "source": [
    "## 2. Test avec données complexes 1D\n",
    "\n",
    "Testons avec des données complexes (comme en EPR pulsée)."
   ]
  },
  {
   "cell_type": "code",
   "execution_count": null,
   "metadata": {},
   "outputs": [],
   "source": [
    "# Données complexes 1D\n",
    "print(\"🔬 Génération de données complexes 1D...\")\n",
    "\n",
    "# Signal complexe (partie réelle + imaginaire)\n",
    "real_part = amplitude * linewidth**2 / ((field_1d - center)**2 + linewidth**2)\n",
    "imag_part = amplitude * linewidth * (field_1d - center) / ((field_1d - center)**2 + linewidth**2)\n",
    "\n",
    "complex_signal_1d = real_part + 1j * imag_part\n",
    "# Ajout de bruit complexe\n",
    "complex_noise = np.random.normal(0, 1, len(field_1d)) + 1j * np.random.normal(0, 1, len(field_1d))\n",
    "complex_signal_1d += 0.5 * complex_noise\n",
    "\n",
    "print(f\"✅ Données complexes générées: {complex_signal_1d.dtype}\")"
   ]
  },
  {
   "cell_type": "code",
   "execution_count": null,
   "metadata": {},
   "outputs": [],
   "source": [
    "# Test avec données complexes\n",
    "print(\"📊 Test de epyr.plot_1d() avec données complexes...\")\n",
    "\n",
    "fig, ax = epyr.plot_1d(\n",
    "    field_1d,\n",
    "    complex_signal_1d,\n",
    "    params_1d,\n",
    "    title=\"Spectre EPR 1D Complexe\"\n",
    ")\n",
    "\n",
    "plt.show()\n",
    "print(\"✅ Tracé de données complexes réussi!\")"
   ]
  },
  {
   "cell_type": "markdown",
   "metadata": {},
   "source": [
    "## 3. Test avec données synthétiques 2D\n",
    "\n",
    "Créons des données 2D pour tester les fonctions `plot_2d_map` et `plot_2d_waterfall`."
   ]
  },
  {
   "cell_type": "code",
   "execution_count": null,
   "metadata": {},
   "outputs": [],
   "source": [
    "# Création de données 2D synthétiques (balayage angulaire)\n",
    "print(\"🔬 Génération de données EPR 2D synthétiques...\")\n",
    "\n",
    "# Axes\n",
    "field_2d = np.linspace(3300, 3400, 200)  # Champ magnétique\n",
    "angle_2d = np.linspace(0, 180, 30)       # Angle de rotation\n",
    "\n",
    "# Matrice 2D\n",
    "signal_2d = np.zeros((len(angle_2d), len(field_2d)))\n",
    "\n",
    "# Création d'un signal avec dépendance angulaire\n",
    "for i, angle in enumerate(angle_2d):\n",
    "    # Facteur g dépendant de l'angle\n",
    "    g_factor = 2.0 + 0.1 * np.cos(np.radians(angle))\n",
    "    resonance_field = 3350 / g_factor * 2.0  # Position de résonance\n",
    "    linewidth = 10 + 3 * np.sin(np.radians(angle))  # Largeur dépendante de l'angle\n",
    "    \n",
    "    # Signal Lorentzien\n",
    "    signal = 100 * linewidth**2 / ((field_2d - resonance_field)**2 + linewidth**2)\n",
    "    \n",
    "    # Ajout de bruit\n",
    "    noise = np.random.normal(0, 2, len(field_2d))\n",
    "    signal_2d[i, :] = signal + noise\n",
    "\n",
    "# Structure de données comme retournée par eprload\n",
    "x_2d = [field_2d, angle_2d]  # Liste des axes\n",
    "params_2d = {\n",
    "    'XAXIS_NAME': 'Champ Magnétique',\n",
    "    'YAXIS_NAME': 'Angle de Rotation',\n",
    "    'XAXIS_UNIT': 'G',\n",
    "    'YAXIS_UNIT': 'deg',\n",
    "    'MWFQ': 9.5e9\n",
    "}\n",
    "\n",
    "print(f\"✅ Données 2D générées: {signal_2d.shape}\")\n",
    "print(f\"📏 Champ: {field_2d.min():.0f} - {field_2d.max():.0f} G\")\n",
    "print(f\"🔄 Angle: {angle_2d.min():.0f} - {angle_2d.max():.0f} deg\")"
   ]
  },
  {
   "cell_type": "code",
   "execution_count": null,
   "metadata": {},
   "outputs": [],
   "source": [
    "# Test de plot_2d_map\n",
    "print(\"🗺️ Test de epyr.plot_2d_map()...\")\n",
    "\n",
    "fig, ax = epyr.plot_2d_map(\n",
    "    x_2d,\n",
    "    signal_2d,\n",
    "    params_2d,\n",
    "    title=\"Carte 2D - Balayage Angulaire EPR\",\n",
    "    cmap=\"plasma\"\n",
    ")\n",
    "\n",
    "plt.show()\n",
    "print(\"✅ Carte 2D tracée avec succès!\")"
   ]
  },
  {
   "cell_type": "code",
   "execution_count": null,
   "metadata": {},
   "outputs": [],
   "source": [
    "# Test de plot_2d_waterfall\n",
    "print(\"🌊 Test de epyr.plot_2d_waterfall()...\")\n",
    "\n",
    "fig, ax = epyr.plot_2d_waterfall(\n",
    "    x_2d,\n",
    "    signal_2d,\n",
    "    params_2d,\n",
    "    title=\"Tracé en Cascade - Balayage Angulaire EPR\",\n",
    "    offset_factor=0.4\n",
    ")\n",
    "\n",
    "plt.show()\n",
    "print(\"✅ Tracé en cascade réussi!\")"
   ]
  },
  {
   "cell_type": "markdown",
   "metadata": {},
   "source": [
    "## 4. Test avec données EPR réelles\n",
    "\n",
    "Testons avec de vraies données EPR si elles sont disponibles."
   ]
  },
  {
   "cell_type": "code",
   "execution_count": null,
   "metadata": {},
   "outputs": [],
   "source": [
    "# Test avec données réelles\n",
    "print(\"📂 Test avec données EPR réelles...\")\n",
    "\n",
    "# Liste des fichiers de test\n",
    "test_files = [\n",
    "    \"../data/Rabi2D_GdCaWO4_13dB_3057G.DSC\",\n",
    "    \"../data/Rabi2D_GdCaWO4_6dB_3770G_2.DSC\", \n",
    "    \"../data/2014_03_19_MgO_300K_111_fullrotation33dB.par\"\n",
    "]\n",
    "\n",
    "real_data_found = False\n",
    "\n",
    "for file_path in test_files:\n",
    "    try:\n",
    "        print(f\"\\n📁 Tentative de chargement: {file_path}\")\n",
    "        \n",
    "        # Charger les données\n",
    "        x, y, params, filepath = epyr.eprload(file_path, plot_if_possible=False)\n",
    "        \n",
    "        if y is not None:\n",
    "            print(f\"✅ Données chargées: {y.shape}\")\n",
    "            print(f\"📊 Type: {'Complexe' if np.iscomplexobj(y) else 'Réel'}\")\n",
    "            \n",
    "            if y.ndim == 1:\n",
    "                print(\"📊 Tracé des données 1D...\")\n",
    "                fig, ax = epyr.plot_1d(x, y, params, title=f\"Données 1D: {filepath.split('/')[-1]}\")\n",
    "                plt.show()\n",
    "                \n",
    "            elif y.ndim == 2:\n",
    "                print(\"🗺️ Tracé de la carte 2D...\")\n",
    "                fig1, ax1 = epyr.plot_2d_map(\n",
    "                    x, y, params, \n",
    "                    title=f\"Carte 2D: {filepath.split('/')[-1]}\"\n",
    "                )\n",
    "                plt.show()\n",
    "                \n",
    "                print(\"🌊 Tracé en cascade 2D...\")\n",
    "                fig2, ax2 = epyr.plot_2d_waterfall(\n",
    "                    x, y, params,\n",
    "                    title=f\"Cascade 2D: {filepath.split('/')[-1]}\",\n",
    "                    max_traces=25  # Limiter pour la performance\n",
    "                )\n",
    "                plt.show()\n",
    "            \n",
    "            real_data_found = True\n",
    "            break  # Arrêter après le premier fichier trouvé\n",
    "        else:\n",
    "            print(f\"❌ Impossible de charger {file_path}\")\n",
    "            \n",
    "    except Exception as e:\n",
    "        print(f\"❌ Erreur avec {file_path}: {e}\")\n",
    "\n",
    "if not real_data_found:\n",
    "    print(\"⚠️ Aucune donnée EPR réelle trouvée. Les tests synthétiques sont suffisants.\")"
   ]
  },
  {
   "cell_type": "markdown",
   "metadata": {},
   "source": [
    "## 5. Test de robustesse\n",
    "\n",
    "Testons la robustesse des fonctions avec des cas limites."
   ]
  },
  {
   "cell_type": "code",
   "execution_count": null,
   "metadata": {},
   "outputs": [],
   "source": [
    "# Test avec axes manquants\n",
    "print(\"🧪 Test de robustesse - axes manquants...\")\n",
    "\n",
    "# Test 1D sans axe x\n",
    "try:\n",
    "    fig, ax = epyr.plot_1d(None, signal_1d, params_1d, title=\"1D sans axe X\")\n",
    "    plt.show()\n",
    "    print(\"✅ Gestion des axes manquants OK\")\n",
    "except Exception as e:\n",
    "    print(f\"❌ Erreur: {e}\")\n",
    "\n",
    "# Test 2D sans paramètres\n",
    "try:\n",
    "    fig, ax = epyr.plot_2d_map([field_2d], signal_2d, None, title=\"2D sans paramètres\")\n",
    "    plt.show()\n",
    "    print(\"✅ Gestion des paramètres manquants OK\")\n",
    "except Exception as e:\n",
    "    print(f\"❌ Erreur: {e}\")\n",
    "\n",
    "print(\"\\n🎉 Tests de robustesse terminés!\")"
   ]
  },
  {
   "cell_type": "markdown",
   "metadata": {},
   "source": [
    "## Résumé\n",
    "\n",
    "Ce notebook a testé avec succès le nouveau module `eprplot` avec:\n",
    "\n",
    "✅ **Données 1D** (réelles et complexes)  \n",
    "✅ **Données 2D** (carte colorée et cascade)  \n",
    "✅ **Données EPR réelles** (si disponibles)  \n",
    "✅ **Tests de robustesse** (gestion des cas limites)  \n",
    "\n",
    "### Usage simple:\n",
    "\n",
    "```python\n",
    "import epyr\n",
    "\n",
    "# Charger des données\n",
    "x, y, params, filepath = epyr.eprload(\"votre_fichier.dsc\")\n",
    "\n",
    "# Tracer selon le type de données\n",
    "if y.ndim == 1:\n",
    "    epyr.plot_1d(x, y, params)\n",
    "elif y.ndim == 2:\n",
    "    epyr.plot_2d_map(x, y, params)\n",
    "    epyr.plot_2d_waterfall(x, y, params)\n",
    "```\n",
    "\n",
    "Le module `eprplot` est maintenant prêt pour utilisation dans vos analyses EPR! 🎉"
   ]
  }
 ],
 "metadata": {
  "kernelspec": {
   "display_name": "Python 3",
   "language": "python",
   "name": "python3"
  },
  "language_info": {
   "codemirror_mode": {
    "name": "ipython",
    "version": 3
   },
   "file_extension": ".py",
   "mimetype": "text/x-python",
   "name": "python",
   "nbconvert_exporter": "python",
   "pygments_lexer": "ipython3",
   "version": "3.10.0"
  }
 },
 "nbformat": 4,
 "nbformat_minor": 4
}