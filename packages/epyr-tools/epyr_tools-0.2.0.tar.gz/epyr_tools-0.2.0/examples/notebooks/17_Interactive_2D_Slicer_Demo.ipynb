{
 "cells": [
  {
   "cell_type": "markdown",
   "id": "1",
   "metadata": {},
   "source": [
    "# Interactive 2D EPR Viewer - plot_2d_slicer\n",
    "\n",
    "This notebook demonstrates the use of the `plot_2d_slicer` function to interactively visualize 2D EPR data slice by slice.\n",
    "\n",
    "## Features\n",
    "- **Interactive navigation** with slider\n",
    "- **Two directions**: horizontal or vertical slices\n",
    "- **Overview** with position indicator\n",
    "- **Automatic adjustment** of Y-scale\n",
    "- **Compatible** with eprload()\n"
   ]
  },
  {
   "cell_type": "code",
   "execution_count": null,
   "id": "2",
   "metadata": {},
   "outputs": [],
   "source": [
    "# IMPORTANT: Enable interactive mode for widgets\n",
    "%matplotlib widget\n",
    "\n",
    "import epyr\n",
    "import numpy as np\n",
    "import matplotlib.pyplot as plt"
   ]
  },
  {
   "cell_type": "markdown",
   "id": "3",
   "metadata": {},
   "source": [
    "## 1. Loading 2D Data\n",
    "\n",
    "We use 2D Rabi data as an example."
   ]
  },
  {
   "cell_type": "code",
   "execution_count": null,
   "id": "4",
   "metadata": {},
   "outputs": [],
   "source": [
    "# Load 2D EPR data\n",
    "x, y, params, path = epyr.eprload('../data/Rabi2D_GdCaWO4_13dB_3057G.DTA')\n",
    "\n",
    "print(f\"📂 File loaded: {path.split('/')[-1]}\")\n",
    "print(f\"📊 Data dimensions: {y.shape}\")\n",
    "print(f\"🔍 x data type: {type(x)}\")\n",
    "\n",
    "if isinstance(x, list):\n",
    "    print(f\"   X-axis: {x[0].shape} - {params.get('XAXIS_NAME', 'Unknown')} ({params.get('XAXIS_UNIT', 'a.u.')})\")\n",
    "    if len(x) > 1:\n",
    "        print(f\"   Y-axis: {x[1].shape} - {params.get('YAXIS_NAME', 'Unknown')} ({params.get('YAXIS_UNIT', 'a.u.')})\")\n",
    "\n",
    "print(f\"\\n✅ Data ready for interactive 2D visualization!\")"
   ]
  },
  {
   "cell_type": "markdown",
   "id": "5",
   "metadata": {},
   "source": [
    "## 2. Horizontal Slices (Y-axis Navigation)\n",
    "\n",
    "Visualization with horizontal slices - navigation in the Y direction."
   ]
  },
  {
   "cell_type": "code",
   "execution_count": null,
   "id": "6",
   "metadata": {},
   "outputs": [],
   "source": [
    "# Horizontal slices - navigate in Y direction\n",
    "slicer_h = epyr.plot_2d_slicer(\n",
    "    x, y, params,\n",
    "    title=\"2D Rabi Data - Horizontal Slices\",\n",
    "    slice_direction='horizontal'\n",
    ")"
   ]
  },
  {
   "cell_type": "markdown",
   "id": "7",
   "metadata": {},
   "source": [
    "## 3. Vertical Slices (X-axis Navigation)\n",
    "\n",
    "Visualization with vertical slices - navigation in the X direction."
   ]
  },
  {
   "cell_type": "code",
   "execution_count": null,
   "id": "8",
   "metadata": {},
   "outputs": [],
   "source": [
    "# Vertical slices - navigate in X direction\n",
    "slicer_v = epyr.plot_2d_slicer(\n",
    "    x, y, params,\n",
    "    title=\"2D Rabi Data - Vertical Slices\",\n",
    "    slice_direction='vertical'\n",
    ")"
   ]
  },
  {
   "cell_type": "markdown",
   "id": "9",
   "metadata": {},
   "source": [
    "## 4. Comparison with Standard 2D Visualization Methods\n",
    "\n",
    "Let's compare with other available 2D visualization methods."
   ]
  },
  {
   "cell_type": "code",
   "execution_count": null,
   "id": "10",
   "metadata": {},
   "outputs": [],
   "source": [
    "# Overview with standard methods\n",
    "fig, axes = plt.subplots(1, 2, figsize=(15, 6))\n",
    "\n",
    "# 2D color map\n",
    "epyr.plot_2d_map(x, y, params, title=\"Overview - 2D Map\", ax=axes[0])\n",
    "\n",
    "# Waterfall plot\n",
    "epyr.plot_2d_waterfall(x, y, params, title=\"Overview - Waterfall\", max_traces=20, ax=axes[1])\n",
    "\n",
    "plt.tight_layout()\n",
    "plt.show()"
   ]
  },
  {
   "cell_type": "markdown",
   "id": "11",
   "metadata": {},
   "source": [
    "## 5. Test with Other 2D Data\n",
    "\n",
    "Let's test with another 2D data file if available."
   ]
  },
  {
   "cell_type": "code",
   "execution_count": null,
   "id": "12",
   "metadata": {},
   "outputs": [],
   "source": [
    "# Test with another 2D file\n",
    "try:\n",
    "    x2, y2, params2, path2 = epyr.eprload('../data/Rabi2D_GdCaWO4_6dB_3770G_2.DTA')\n",
    "    \n",
    "    if y2.ndim == 2:\n",
    "        print(f\"📂 Second file: {path2.split('/')[-1]}\")\n",
    "        print(f\"📊 Dimensions: {y2.shape}\")\n",
    "        \n",
    "        # Visualize with slicer\n",
    "        slicer_2 = epyr.plot_2d_slicer(\n",
    "            x2, y2, params2,\n",
    "            title=\"Second Dataset - Horizontal Slicer\",\n",
    "            slice_direction='horizontal'\n",
    "        )\n",
    "    else:\n",
    "        print(f\"⚠️ This file contains 1D data: {y2.shape}\")\n",
    "        \n",
    "except Exception as e:\n",
    "    print(f\"ℹ️ No other 2D file available or error: {e}\")"
   ]
  },
  {
   "cell_type": "markdown",
   "id": "13",
   "metadata": {},
   "source": [
    "## 6. Advanced Usage\n",
    "\n",
    "The function returns a dictionary with matplotlib objects for advanced manipulation."
   ]
  },
  {
   "cell_type": "code",
   "execution_count": null,
   "id": "14",
   "metadata": {},
   "outputs": [],
   "source": [
    "# Advanced usage example\n",
    "slicer_advanced = epyr.plot_2d_slicer(x, y, params, slice_direction='horizontal')\n",
    "\n",
    "print(\"🔧 Available objects for manipulation:\")\n",
    "for key in slicer_advanced.keys():\n",
    "    print(f\"   - {key}: {type(slicer_advanced[key])}\")\n",
    "\n",
    "# Example: change line color\n",
    "slicer_advanced['line'].set_color('red')\n",
    "slicer_advanced['line'].set_linewidth(3)\n",
    "slicer_advanced['figure'].canvas.draw_idle()\n",
    "\n",
    "print(\"\\n✅ Line changed to red with width 3\")"
   ]
  },
  {
   "cell_type": "markdown",
   "id": "15",
   "metadata": {},
   "source": [
    "## 7. Usage Guide\n",
    "\n",
    "### Instructions for using the interactive 2D viewer:\n",
    "\n",
    "1. **Enable interactive mode**: `%matplotlib widget` in Jupyter\n",
    "2. **Load data**: `x, y, params, _ = epyr.eprload(\"file.DTA\")`\n",
    "3. **Launch slicer**: `epyr.plot_2d_slicer(x, y, params)`\n",
    "\n",
    "### Available parameters:\n",
    "- **slice_direction**: `'horizontal'` (default) or `'vertical'`\n",
    "- **title**: Custom title for the plot\n",
    "\n",
    "### Navigation:\n",
    "- **Slider**: Navigate between slices with the slider at the bottom\n",
    "- **Overview**: Red line indicates current position\n",
    "- **Auto-scaling**: Y-axis adjusts automatically for each slice\n",
    "\n",
    "### Compatibility:\n",
    "- ✅ Jupyter Lab with `%matplotlib widget`\n",
    "- ✅ Jupyter Notebook with `%matplotlib notebook` or `%matplotlib widget`\n",
    "- ✅ Python scripts with `plt.ion()` and `plt.show()`\n"
   ]
  },
  {
   "cell_type": "code",
   "execution_count": null,
   "id": "16",
   "metadata": {},
   "outputs": [],
   "source": [
    "print(\"🎉 Demonstration complete!\")\n",
    "print(\"\\n💡 Tips:\")\n",
    "print(\"   - Use 'horizontal' to navigate in the Y-axis\")\n",
    "print(\"   - Use 'vertical' to navigate in the X-axis\")\n",
    "print(\"   - The slicer works with all types of 2D EPR data\")\n",
    "print(\"   - The function returns matplotlib objects for advanced customization\")"
   ]
  }
 ],
 "metadata": {
  "kernelspec": {
   "display_name": "Python 3",
   "language": "python",
   "name": "python3"
  },
  "language_info": {
   "codemirror_mode": {
    "name": "ipython",
    "version": 3
   },
   "file_extension": ".py",
   "mimetype": "text/x-python",
   "name": "python",
   "nbconvert_exporter": "python",
   "pygments_lexer": "ipython3",
   "version": "3.9.7"
  }
 },
 "nbformat": 4,
 "nbformat_minor": 5
}