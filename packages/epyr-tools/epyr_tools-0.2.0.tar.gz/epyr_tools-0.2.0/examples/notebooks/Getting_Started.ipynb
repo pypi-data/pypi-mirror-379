{
 "cells": [
  {
   "cell_type": "markdown",
   "metadata": {},
   "source": [
    "# EPyR Tools - Getting Started\n",
    "\n",
    "Welcome to EPyR Tools! This notebook demonstrates how to load and visualize EPR data from Bruker spectrometers.\n",
    "\n",
    "## What you'll learn:\n",
    "- Loading BES3T (.dsc/.dta) and ESP (.par/.spc) files\n",
    "- Handling 1D and 2D EPR data \n",
    "- Basic visualization and parameter extraction\n",
    "- Simple data export"
   ]
  },
  {
   "cell_type": "code",
   "execution_count": null,
   "metadata": {},
   "outputs": [],
   "source": "# Import required libraries\nimport sys\nimport numpy as np\nimport matplotlib.pyplot as plt\nfrom pathlib import Path\n\n# Add EPyR Tools to Python path (for notebook usage)\n# This ensures the notebook can find epyr whether installed or not\ncurrent_dir = Path().resolve()\nepyr_root = current_dir.parent.parent  # Go up two levels from notebooks to project root\n\n# Add both the project root and epyr package to path\nif str(epyr_root) not in sys.path:\n    sys.path.insert(0, str(epyr_root))\n    \nprint(f\\\"Looking for EPyR Tools in: {epyr_root}\\\")\\nprint(f\\\"EPyR package should be at: {epyr_root / 'epyr'}\\\")\\n\\n# Check if epyr directory exists\\nepyr_package_dir = epyr_root / 'epyr'\\nif epyr_package_dir.exists():\\n    print(f\\\"✅ EPyR package directory found\\\")\\nelse:\\n    print(f\\\"❌ EPyR package directory not found\\\")\\n    print(f\\\"Please make sure you're running this notebook from examples/notebooks/\\\")\\n\\n# Import EPyR Tools\\ntry:\\n    import epyr\\n    print(\\\"\\\\n✅ EPyR Tools loaded successfully!\\\")\\n    print(f\\\"Version: {epyr.__version__}\\\")\\nexcept ImportError as e:\\n    print(f\\\"\\\\n❌ Failed to import EPyR Tools: {e}\\\")\\n    print(\\\"\\\\nTroubleshooting:\\\")\\n    print(\\\"1. Make sure you're in the examples/notebooks/ directory\\\")\\n    print(\\\"2. Try: pip install -e . (from project root)\\\")\\n    print(\\\"3. Check that epyr/ directory exists in project root\\\")\""
  },
  {
   "cell_type": "markdown",
   "metadata": {},
   "source": [
    "## 1. Find Available Data Files"
   ]
  },
  {
   "cell_type": "code",
   "execution_count": null,
   "metadata": {},
   "outputs": [],
   "source": "# Look for sample data files in the consolidated data directory\ndata_dir = Path(\\\"../data\\\")\n\nprint(f\\\"Looking for data files in: {data_dir.resolve()}\\\")\\n\\n# Find all EPR files in the single data directory\\nbes3t_files = list(data_dir.glob(\\\"*.DSC\\\")) + list(data_dir.glob(\\\"*.dsc\\\"))\\nesp_files = list(data_dir.glob(\\\"*.par\\\"))\\n\\nprint(f\\\"\\\\nFound {len(bes3t_files)} BES3T files and {len(esp_files)} ESP files\\\")\\n\\nprint(\\\"\\\\nAvailable files:\\\")\\nall_files = [(f, \\\"BES3T\\\") for f in bes3t_files] + [(f, \\\"ESP\\\") for f in esp_files]\\n\\nfor i, (file_path, file_type) in enumerate(all_files):\\n    file_size = file_path.stat().st_size / 1024  # KB\\n    print(f\\\"{i+1}. [{file_type}] {file_path.name} ({file_size:.1f} KB)\\\")\\n    \\nif not all_files:\\n    print(\\\"❌ No EPR files found!\\\")\\n    print(f\\\"Please add your .DSC/.DTA or .PAR/.SPC files to: {data_dir.resolve()}\\\")\""
  },
  {
   "cell_type": "markdown",
   "metadata": {},
   "source": [
    "## 2. Load a 1D EPR Spectrum (BES3T format)"
   ]
  },
  {
   "cell_type": "code",
   "execution_count": null,
   "metadata": {},
   "outputs": [],
   "source": "# Load the 1D BES3T file\nfile_1d = data_dir / \\\"130406SB_CaWO4_Er_CW_5K_20.DSC\\\"\\n\\nif file_1d.exists():\\n    print(f\\\"Loading 1D file: {file_1d.name}\\\")\\n    \\n    # Load the data\\n    x1, y1, params1, filepath1 = epyr.eprload(str(file_1d), plot_if_possible=False)\\n    \\n    if x1 is not None and y1 is not None:\\n        print(f\\\"✅ Loaded successfully!\\\")\\n        print(f\\\"Data points: {len(x1)}\\\")\\n        print(f\\\"Field range: {x1.min():.1f} - {x1.max():.1f} G\\\")\\n        print(f\\\"Signal range: {y1.min():.2e} - {y1.max():.2e}\\\")\\n        \\n        # Show some key parameters\\n        print(f\\\"\\\\nKey parameters:\\\")\\n        key_params = ['MWFQ', 'MWPW', 'HCF', 'HSW', 'RES', 'AVGS']\\n        for param in key_params:\\n            if param in params1:\\n                print(f\\\"  {param}: {params1[param]}\\\")\\n    else:\\n        print(\\\"❌ Failed to load data from file\\\")\\nelse:\\n    print(\\\"❌ 1D file not found\\\")\\n    print(f\\\"Expected file: {file_1d}\\\")\\n    print(\\\"Available files:\\\", [f.name for f in bes3t_files])\""
  },
  {
   "cell_type": "code",
   "execution_count": null,
   "metadata": {},
   "outputs": [],
   "source": [
    "# Plot the 1D spectrum\n",
    "if 'x1' in locals():\n",
    "    plt.figure(figsize=(12, 6))\n",
    "    plt.plot(x1, y1, 'b-', linewidth=1.5)\n",
    "    plt.xlabel('Magnetic Field (G)')\n",
    "    plt.ylabel('EPR Signal (a.u.)')\n",
    "    plt.title(f'1D EPR Spectrum: {file_1d.stem}')\n",
    "    plt.grid(True, alpha=0.3)\n",
    "    \n",
    "    # Add info box\n",
    "    info_text = f\"Points: {len(x1)}\\nRange: {x1.max()-x1.min():.0f} G\"\n",
    "    plt.text(0.02, 0.98, info_text, transform=plt.gca().transAxes,\n",
    "             verticalalignment='top', bbox=dict(boxstyle='round', facecolor='white', alpha=0.8))\n",
    "    \n",
    "    plt.tight_layout()\n",
    "    plt.show()\n",
    "    \n",
    "    print(f\"📊 1D spectrum plotted successfully!\")"
   ]
  },
  {
   "cell_type": "markdown",
   "metadata": {},
   "source": [
    "## 3. Load a 2D EPR Dataset (BES3T format)"
   ]
  },
  {
   "cell_type": "code",
   "execution_count": null,
   "metadata": {},
   "outputs": [],
   "source": "# Load the 2D BES3T file (Rabi experiment)\\nfile_2d = data_dir / \\\"Rabi2D_GdCaWO4_13dB_3057G.DSC\\\"\\n\\nif file_2d.exists():\\n    print(f\\\"Loading 2D file: {file_2d.name}\\\")\\n    \\n    # Load the data\\n    x2_axes, y2, params2, filepath2 = epyr.eprload(str(file_2d), plot_if_possible=False)\\n    \\n    if x2_axes is not None and y2 is not None:\\n        print(f\\\"✅ Loaded successfully!\\\")\\n        print(f\\\"Data type: x_axes is {type(x2_axes)} with {len(x2_axes)} axes\\\")\\n        print(f\\\"Data shape: {y2.shape}\\\")\\n        print(f\\\"This is a {y2.shape[0]} x {y2.shape[1]} 2D dataset\\\")\\n        \\n        # Extract axes - x2_axes is a list of [x_axis, y_axis]\\n        if len(x2_axes) >= 2:\\n            x_axis = x2_axes[0]  # First dimension (e.g., field)\\n            y_axis = x2_axes[1]  # Second dimension (e.g., time, power, etc.)\\n            \\n            print(f\\\"X-axis (dim 1): {len(x_axis) if hasattr(x_axis, '__len__') else 'scalar'} points\\\")\\n            print(f\\\"Y-axis (dim 2): {len(y_axis) if hasattr(y_axis, '__len__') else 'scalar'} points\\\")\\n            \\n            # Show some key parameters\\n            print(f\\\"\\\\nKey parameters:\\\")\\n            key_params = ['MWFQ', 'MWPW', 'HCF', 'HSW']\\n            for param in key_params:\\n                if param in params2:\\n                    print(f\\\"  {param}: {params2[param]}\\\")\\n    else:\\n        print(\\\"❌ Failed to load data from file\\\")\\nelse:\\n    print(\\\"❌ 2D file not found\\\")\\n    print(f\\\"Expected file: {file_2d}\\\")\\n    print(\\\"Available files:\\\", [f.name for f in bes3t_files])\""
  },
  {
   "cell_type": "code",
   "execution_count": null,
   "metadata": {},
   "outputs": [],
   "source": "# Plot the 2D data\nif 'x2_axes' in locals() and len(x2_axes) >= 2:\n    \n    # Handle complex data by taking magnitude\n    if np.iscomplexobj(y2):\n        y2_plot = np.abs(y2)  # Use magnitude for complex data\n        data_info = \"(Complex data - showing magnitude)\"\n    else:\n        y2_plot = y2\n        data_info = \"(Real data)\"\n    \n    # Create figure with subplots\n    fig, (ax1, ax2) = plt.subplots(1, 2, figsize=(15, 6))\n    \n    # Plot 1: 2D color map\n    im = ax1.imshow(y2_plot, aspect='auto', origin='lower', cmap='viridis')\n    ax1.set_xlabel('Field Points')\n    ax1.set_ylabel('Time/Parameter Points')\n    ax1.set_title(f'2D EPR Data {data_info}')\n    plt.colorbar(im, ax=ax1, label='Signal (a.u.)')\n    \n    # Plot 2: Few representative slices\n    n_slices = min(5, y2_plot.shape[0])\n    for i in range(n_slices):\n        if hasattr(x_axis, '__len__'):\n            ax2.plot(x_axis, y2_plot[i, :], alpha=0.7, label=f'Slice {i+1}')\n        else:\n            ax2.plot(y2_plot[i, :], alpha=0.7, label=f'Slice {i+1}')\n    \n    ax2.set_xlabel('Field (G)' if hasattr(x_axis, '__len__') else 'Points')\n    ax2.set_ylabel('EPR Signal (a.u.)')\n    ax2.set_title('Representative Spectra')\n    ax2.legend()\n    ax2.grid(True, alpha=0.3)\n    \n    plt.tight_layout()\n    plt.show()\n    \n    print(f\"📊 2D dataset plotted successfully!\")\n    print(f\"Data type: {'Complex' if np.iscomplexobj(y2) else 'Real'}\")\n    print(f\"Showing {n_slices} representative slices from {y2_plot.shape[0]} total\")"
  },
  {
   "cell_type": "markdown",
   "metadata": {},
   "source": [
    "## 4. Simple Data Analysis"
   ]
  },
  {
   "cell_type": "code",
   "execution_count": null,
   "metadata": {},
   "outputs": [],
   "source": "# Basic analysis on 1D data\nif 'x1' in locals():\n    print(\"📈 1D Spectrum Analysis:\")\n    print(f\"  Mean signal: {np.mean(y1):.2e}\")\n    print(f\"  Signal std: {np.std(y1):.2e}\")\n    print(f\"  Peak-to-peak: {np.ptp(y1):.2e}\")\n    print(f\"  Signal-to-noise ratio: {np.ptp(y1)/np.std(y1):.1f}\")\n    \n    # Find approximate center\n    center_idx = np.argmax(np.abs(y1))\n    center_field = x1[center_idx]\n    print(f\"  Strongest signal at: {center_field:.1f} G\")\n\n# Basic analysis on 2D data  \nif 'y2' in locals():\n    print(f\"\\\\n📊 2D Dataset Analysis:\")\n    print(f\"  Data shape: {y2.shape[0]} spectra x {y2.shape[1]} points\")\n    print(f\"  Total data points: {y2.size:,}\")\n    print(f\"  Data type: {'Complex' if np.iscomplexobj(y2) else 'Real'}\")\n    \n    # Use magnitude for complex data in analysis\n    y2_analysis = np.abs(y2) if np.iscomplexobj(y2) else y2\n    print(f\"  Overall signal range: {y2_analysis.min():.2e} to {y2_analysis.max():.2e}\")\n    print(f\"  Mean signal: {np.mean(y2_analysis):.2e}\")"
  },
  {
   "cell_type": "markdown",
   "metadata": {},
   "source": [
    "## 5. Export Data to Common Formats"
   ]
  },
  {
   "cell_type": "code",
   "execution_count": null,
   "metadata": {},
   "outputs": [],
   "source": "# Create output directory\noutput_dir = Path(\"../data/processed\")\noutput_dir.mkdir(exist_ok=True)\n\n# Export 1D data\nif 'x1' in locals():\n    print(\"💾 Exporting 1D data...\")\n    \n    # Export to CSV\n    csv_file = output_dir / \"spectrum_1D.csv\"\n    with open(csv_file, 'w') as f:\n        f.write(\"# EPyR Tools Export - 1D EPR Spectrum\\\\n\")\n        f.write(f\"# File: {file_1d.name}\\\\n\")\n        f.write(f\"# Points: {len(x1)}\\\\n\")\n        f.write(\"field_gauss,intensity_au\\\\n\")\n        for xi, yi in zip(x1, y1):\n            f.write(f\"{xi:.4f},{yi:.6e}\\\\n\")\n    print(f\"  ✅ CSV saved: {csv_file.name}\")\n    \n    # Export to simple text\n    txt_file = output_dir / \"spectrum_1D.txt\"\n    np.savetxt(txt_file, np.column_stack([x1, y1]), \n               header=\"Field(G) Intensity(a.u.)\", fmt=\"%.4f %.6e\")\n    print(f\"  ✅ TXT saved: {txt_file.name}\")\n\n# Export 2D data summary\nif 'y2' in locals():\n    print(f\"\\\\n💾 Exporting 2D data summary...\")\n    \n    # Use magnitude for complex data export\n    y2_export = np.abs(y2) if np.iscomplexobj(y2) else y2\n    \n    # Export first few spectra\n    for i in range(min(3, y2_export.shape[0])):\n        csv_file = output_dir / f\"spectrum_2D_slice_{i+1}.csv\"\n        with open(csv_file, 'w') as f:\n            f.write(f\"# EPyR Tools Export - 2D EPR Spectrum Slice {i+1}\\\\n\")\n            f.write(f\"# File: {file_2d.name}\\\\n\")\n            f.write(f\"# Data type: {'Complex (exported as magnitude)' if np.iscomplexobj(y2) else 'Real'}\\\\n\")\n            f.write(f\"# Generated by EPyR Tools v0.1.2\\\\n\")\n            f.write(\"index,intensity_au\\\\n\")\n            for j, yi in enumerate(y2_export[i, :]):\n                f.write(f\"{j},{yi:.6e}\\\\n\")\n        print(f\"  ✅ Slice {i+1} saved: {csv_file.name}\")\n    \n    # Save full 2D data as numpy format for later use\n    npz_file = output_dir / \"spectrum_2D_full.npz\"\n    np.savez(npz_file, \n             data=y2_export, \n             original_complex=np.iscomplexobj(y2),\n             shape=y2.shape)\n    print(f\"  ✅ Full 2D data saved: {npz_file.name}\")\n\nprint(f\"\\\\n📁 All exports saved to: {output_dir}\")"
  },
  {
   "cell_type": "markdown",
   "metadata": {},
   "source": [
    "## Summary\n",
    "\n",
    "🎉 **Congratulations!** You've successfully:\n",
    "\n",
    "✅ Loaded 1D EPR data (BES3T format)  \n",
    "✅ Loaded 2D EPR data (multi-dimensional measurements)  \n",
    "✅ Visualized both data types  \n",
    "✅ Performed basic analysis  \n",
    "✅ Exported data to common formats  \n",
    "\n",
    "## Next Steps\n",
    "\n",
    "- **Baseline Correction**: Remove drift and artifacts\n",
    "- **Peak Analysis**: Find and fit EPR lines\n",
    "- **Quantitative Analysis**: Calculate g-factors and concentrations\n",
    "- **Batch Processing**: Handle multiple files automatically\n",
    "\n",
    "## Need Help?\n",
    "\n",
    "- Check the EPyR Tools documentation\n",
    "- Look at example scripts in `examples/scripts/`\n",
    "- Visit the GitHub repository for updates"
   ]
  }
 ],
 "metadata": {
  "kernelspec": {
   "display_name": "Python 3",
   "language": "python",
   "name": "python3"
  },
  "language_info": {
   "codemirror_mode": {
    "name": "ipython",
    "version": 3
   },
   "file_extension": ".py",
   "mimetype": "text/x-python",
   "name": "python",
   "nbconvert_exporter": "python",
   "pygments_lexer": "ipython3",
   "version": "3.8.0"
  }
 },
 "nbformat": 4,
 "nbformat_minor": 4
}
