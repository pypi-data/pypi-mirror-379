{
  "nbformat": 4,
  "nbformat_minor": 0,
  "metadata": {
    "colab": {
      "provenance": []
    },
    "kernelspec": {
      "name": "python3",
      "display_name": "Python 3"
    },
    "language_info": {
      "name": "python"
    }
  },
  "cells": [
    {
      "cell_type": "markdown",
      "source": [
        "# Install"
      ],
      "metadata": {
        "id": "QlZbTGLc-KHC"
      }
    },
    {
      "cell_type": "code",
      "execution_count": null,
      "metadata": {
        "id": "OZavd9LVUOh_"
      },
      "outputs": [],
      "source": [
        "!python3 --version"
      ]
    },
    {
      "cell_type": "code",
      "source": [
        "!pip3 install uv"
      ],
      "metadata": {
        "id": "azk50aBAUUhX"
      },
      "execution_count": null,
      "outputs": []
    },
    {
      "cell_type": "code",
      "source": [
        "!uv pip install --system kara-kanji-sync"
      ],
      "metadata": {
        "id": "UqHN1bZHUgbh"
      },
      "execution_count": null,
      "outputs": []
    },
    {
      "cell_type": "markdown",
      "source": [
        "# Inputs"
      ],
      "metadata": {
        "id": "gTGRJ8fQ-hSR"
      }
    },
    {
      "cell_type": "code",
      "source": [
        "# @title ASS File (upload)\n",
        "# @markdown Run this cell to **upload your ass file** using the form below.\n",
        "#\n",
        "# @markdown **Note**: If the upload fails, try using a different browser or upload the file manually in the Files section on the left sidebar.\n",
        "\n",
        "from google.colab import files\n",
        "\n",
        "upload = files.upload()\n",
        "for file in upload:\n",
        "    song_filename = file\n",
        "    break"
      ],
      "metadata": {
        "id": "7vsiov0uTrId",
        "cellView": "form"
      },
      "execution_count": null,
      "outputs": []
    },
    {
      "cell_type": "code",
      "source": [
        "# @markdown **If you uploaded the file manually, enter the song filename here.**\n",
        "\n",
        "song_filename_override = \"\" # @param {type:\"string\"}\n",
        "song_filename = song_filename_override or song_filename"
      ],
      "metadata": {
        "id": "hvnjGvdaWJuP"
      },
      "execution_count": null,
      "outputs": []
    },
    {
      "cell_type": "code",
      "source": [
        "# @title Video resolution\n",
        "# @markdown Input the vertical resolution of the video (1080, 720, 480 etc)\n",
        "\n",
        "resolution = 1080 # @param {type:\"string\"}"
      ],
      "metadata": {
        "id": "Qtxnky6dtB7I",
        "cellView": "form"
      },
      "execution_count": null,
      "outputs": []
    },
    {
      "cell_type": "code",
      "source": [
        "# @title Lyrics input\n",
        "# @markdown Run this cell to **paste the lyrics** using the cell below.\n",
        "#\n",
        "# @markdown Then ajust it to match those from ASS file. They must have the same number of lines.\n",
        "\n",
        "from IPython.display import display\n",
        "from IPython.core.display import HTML\n",
        "from ipywidgets import Layout, Textarea, HBox\n",
        "from kara_kanji_sync import KanjiSyncer\n",
        "import pysubs2\n",
        "import logging\n",
        "\n",
        "logging.basicConfig(level=logging.INFO, force=True)\n",
        "for handler in logging.root.handlers:\n",
        "    handler.addFilter(logging.Filter('kara_kanji_sync'))\n",
        "\n",
        "subs = pysubs2.load(song_filename)\n",
        "\n",
        "kanji_syncer = KanjiSyncer()\n",
        "kanji_syncer.subtitles_file = subs\n",
        "a = kanji_syncer.make_subtitles_lines()\n",
        "lines = \"\\n\".join([line.plaintext for line in kanji_syncer.subtitle_lines])\n",
        "height = len(kanji_syncer.subtitle_lines) * 20\n",
        "line_numbers = \"\\n\".join(str(i) for i in range(1, len(kanji_syncer.subtitle_lines) + 1))\n",
        "lyrics_area = Textarea(layout=Layout(width=\"20em\", height=f\"{height}px\"))\n",
        "number_area = Textarea(layout=Layout(width=\"3em\", height=f\"{height}px\"),\n",
        "                       value=line_numbers, disabled=True)\n",
        "subs_lyrics_output = Textarea(\n",
        "    layout=Layout(width=\"40em\", height=f\"{height}px\"),\n",
        "    value=lines,\n",
        "    disabled=True,\n",
        "    style=dict(font_size='40px')\n",
        ")\n",
        "display(HTML(\"<style>textarea, input {font-family: Yu Gothic;}</style>\"))\n",
        "display(HBox([lyrics_area, number_area, subs_lyrics_output]))"
      ],
      "metadata": {
        "id": "3rCwHRn_agtz",
        "cellView": "form"
      },
      "execution_count": null,
      "outputs": []
    },
    {
      "cell_type": "code",
      "source": [
        "# @title Lyrics check\n",
        "# @markdown Run this cell to have a preliminary check of the matching.\n",
        "\n",
        "kanji_syncer.lyrics = lyrics_area.value.splitlines()\n",
        "kanji_syncer.make_matches_and_groups()\n",
        "\n",
        "non_matching_lines = [match_index for match_index, matches in enumerate(kanji_syncer.all_matches)\n",
        "if not matches]\n",
        "if not non_matching_lines:\n",
        "  print(\"All lines seems to match :)\")\n",
        "else:\n",
        "  for non_matches_index in non_matching_lines:\n",
        "    print(f\"Matching issue on line {str(non_matches_index + 1)}\")\n",
        "  print(\"You should modify your input above and rerun this cell to fix the matching issues.\")"
      ],
      "metadata": {
        "id": "wbaE51PxY_d2",
        "cellView": "form"
      },
      "execution_count": null,
      "outputs": []
    },
    {
      "cell_type": "markdown",
      "source": [
        "# Run"
      ],
      "metadata": {
        "id": "Gir9HhY_Y7sS"
      }
    },
    {
      "cell_type": "code",
      "source": [
        "# @title Generate\n",
        "# @markdown Run this cell to generate the result.\n",
        "kanji_syncer.resolution = resolution\n",
        "kanji_file = kanji_syncer.sync_subs()\n"
      ],
      "metadata": {
        "id": "pxj6G8haaaHm",
        "cellView": "form"
      },
      "execution_count": null,
      "outputs": []
    },
    {
      "cell_type": "code",
      "source": [
        "# @title Save and download karaoke file\n",
        "# @markdown Run this cell to download the file.\n",
        "from pathlib import Path\n",
        "from google.colab import files\n",
        "\n",
        "song_path = Path(song_filename)\n",
        "\n",
        "subs_path = song_path.with_suffix('.jpn.ass')\n",
        "kanji_file.save(subs_path)\n",
        "files.download(subs_path)"
      ],
      "metadata": {
        "cellView": "form",
        "id": "AbxRz85geA8E"
      },
      "execution_count": null,
      "outputs": []
    },
    {
      "cell_type": "markdown",
      "source": [
        "After downloading the ASS file, there are some steps to follow to display the karaoke correctly.\n",
        "\n",
        "\n",
        "1.   Open the ASS file.\n",
        "2.   Add the video.\n",
        "3.   Click on \"Automation\" -> \"Apply karaoke template\"\n",
        "\n",
        "\n",
        "\n",
        "\n",
        "\n"
      ],
      "metadata": {
        "id": "zvCG0-gUhRyU"
      }
    },
    {
      "cell_type": "code",
      "source": [],
      "metadata": {
        "id": "8WAQLlg6havN"
      },
      "execution_count": null,
      "outputs": []
    }
  ]
}