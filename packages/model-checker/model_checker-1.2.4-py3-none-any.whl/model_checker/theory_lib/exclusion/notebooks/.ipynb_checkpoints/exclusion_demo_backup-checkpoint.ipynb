{
 "cells": [
  {
   "cell_type": "markdown",
   "metadata": {},
   "source": [
    "# Exclusion Theory Demo\n",
    "\n",
    "Welcome to the Exclusion Theory demonstration notebook! This notebook provides an interactive introduction to the Exclusion Theory implementation in ModelChecker.\n",
    "\n",
    "## Overview\n",
    "\n",
    "The Exclusion Theory implements unilateral semantics for counterfactuals and related operators. It was developed by Lucas Champollion and Paul Bernard and provides an alternative approach to counterfactual semantics using witness-based exclusion semantics.\n",
    "\n",
    "### Key Features:\n",
    "- **Unilateral operators**: conjunction, disjunction, uninegation\n",
    "- **Witness-based exclusion semantics**: Alternative approach to counterfactual semantics\n",
    "- **Compact implementation**: Simple single-file architecture\n",
    "- **Focus on exclusion**: Specialized semantics for exclusion counterfactuals\n",
    "\n",
    "### Authors:\n",
    "- **Primary Authors**: Lucas Champollion & Paul Bernard\n",
    "- **Implementation Authors**: Miguel Buitrago and Benjamin Brast-McKie\n",
    "- **Key Paper**: Bernard & Champollion \"Exclusion Counterfactuals\""
   ]
  },
  {
   "cell_type": "markdown",
   "metadata": {},
   "source": [
    "## Setup and Imports\n",
    "\n",
    "Let's start by importing the necessary modules and setting up the exclusion theory:"
   ]
  },
  {
   "cell_type": "code",
   "execution_count": null,
   "metadata": {},
   "outputs": [],
   "source": [
    "# Import the model checker and exclusion theory\n",
    "from model_checker.theory_lib import exclusion\n",
    "from model_checker.jupyter.interactive import check_formula, find_countermodel, ModelExplorer\n",
    "from model_checker import BuildExample\n",
    "\n",
    "# Set up the exclusion theory\n",
    "exclusion_theory = {\n",
    "    'semantics': exclusion.WitnessSemantics,\n",
    "    'proposition': exclusion.WitnessProposition,\n",
    "    'model': exclusion.WitnessStructure,\n",
    "    'operators': exclusion.witness_operators\n",
    "}\n",
    "\n",
    "print(\"Exclusion theory loaded successfully!\")\n",
    "print(f\"Available operators: {list(exclusion_theory['operators'].operator_dictionary.keys())}\")"
   ]
  },
  {
   "cell_type": "markdown",
   "metadata": {},
   "source": [
    "## 1. Theory Introduction\n",
    "\n",
    "### Exclusion Semantics Basics\n",
    "\n",
    "The Exclusion Theory provides a witness-based approach to counterfactual semantics. Unlike traditional possible world semantics, exclusion semantics focuses on witness sets and exclusion relations.\n",
    "\n",
    "#### Core Concepts:\n",
    "\n",
    "1. **Witnesses**: States or situations that make propositions true\n",
    "2. **Exclusion**: A relation between propositions based on incompatibility\n",
    "3. **Unilateral Operators**: Operators that work with single-sided truth conditions\n",
    "4. **Fusion**: Combining witness sets under certain conditions\n",
    "\n",
    "Let's explore these concepts through examples:"
   ]
  },
  {
   "cell_type": "code",
   "execution_count": null,
   "metadata": {},
   "outputs": [],
   "source": [
    "# Basic settings for exclusion theory examples\n",
    "basic_settings = {\n",
    "    'N': 3,\n",
    "    'max_time': 5,\n",
    "    'non_empty': True,\n",
    "    'fusion_closure': True\n",
    "}\n",
    "\n",
    "print(\"Basic settings for exclusion theory:\")\n",
    "for key, value in basic_settings.items():\n",
    "    print(f\"  {key}: {value}\")"
   ]
  },
  {
   "cell_type": "markdown",
   "metadata": {},
   "source": [
    "## 2. Basic Examples\n",
    "\n",
    "Let's start with simple examples to understand how exclusion semantics works:"
   ]
  },
  {
   "cell_type": "markdown",
   "metadata": {},
   "source": [
    "### Example 1: Simple Propositions\n",
    "\n",
    "Let's check the validity of basic propositional formulas in exclusion semantics:"
   ]
  },
  {
   "cell_type": "code",
   "execution_count": null,
   "metadata": {},
   "outputs": [],
   "source": [
    "# Check a simple tautology\n",
    "result1 = check_formula(\"p \\\\vee \\\\neg p\", theory_name=\"exclusion\")\n",
    "display(result1)"
   ]
  },
  {
   "cell_type": "code",
   "execution_count": null,
   "metadata": {},
   "outputs": [],
   "source": [
    "# Check if a contradiction is invalid\n",
    "result2 = find_countermodel(\"p \\\\wedge \\\\neg p\", theory_name=\"exclusion\")\n",
    "display(result2)"
   ]
  },
  {
   "cell_type": "markdown",
   "metadata": {},
   "source": [
    "### Example 2: Unilateral Conjunction\n",
    "\n",
    "Exclusion theory includes unilateral conjunction, which behaves differently from classical conjunction:"
   ]
  },
  {
   "cell_type": "code",
   "execution_count": null,
   "metadata": {},
   "outputs": [],
   "source": [
    "# Test unilateral conjunction properties\n",
    "result3 = check_formula(\"p \\\\uconj q\", theory_name=\"exclusion\", premises=[\"p\", \"q\"])\n",
    "display(result3)"
   ]
  },
  {
   "cell_type": "code",
   "execution_count": null,
   "metadata": {},
   "outputs": [],
   "source": [
    "# Find a countermodel for unilateral conjunction failure\n",
    "result4 = find_countermodel(\"p \\\\uconj q\", theory_name=\"exclusion\", premises=[\"p\"])\n",
    "display(result4)"
   ]
  },
  {
   "cell_type": "markdown",
   "metadata": {},
   "source": [
    "### Example 3: Exclusion Relations\n",
    "\n",
    "Let's explore how exclusion relations work:"
   ]
  },
  {
   "cell_type": "code",
   "execution_count": null,
   "metadata": {},
   "outputs": [],
   "source": [
    "# Test exclusion between propositions\n",
    "result5 = find_countermodel(\"p \\\\wedge q\", theory_name=\"exclusion\", \n",
    "                           premises=[\"p \\\\excl q\"])\n",
    "display(result5)"
   ]
  },
  {
   "cell_type": "markdown",
   "metadata": {},
   "source": [
    "## 3. Advanced Features\n",
    "\n",
    "Now let's explore more advanced features of exclusion semantics:"
   ]
  },
  {
   "cell_type": "markdown",
   "metadata": {},
   "source": [
    "### Witness Sets and Fusion\n",
    "\n",
    "The exclusion theory uses witness sets with fusion operations. Let's examine how this affects logical reasoning:"
   ]
  },
  {
   "cell_type": "code",
   "execution_count": null,
   "metadata": {},
   "outputs": [],
   "source": [
    "# Create a more complex example with witness constraints\n",
    "complex_example = [\n",
    "    [\"p \\\\vee q\", \"\\\\neg (p \\\\wedge q)\"],  # premises\n",
    "    [\"p \\\\excl q\"],  # conclusions\n",
    "    {'N': 3, 'max_time': 5, 'non_empty': True, 'expectation': False}\n",
    "]\n",
    "\n",
    "# Build and analyze the example\n",
    "model = BuildExample(\"complex_exclusion\", exclusion_theory, complex_example)\n",
    "is_valid = model.check_result()\n",
    "\n",
    "print(f\"Complex exclusion example is {'valid' if is_valid else 'invalid'}\")\n",
    "if not is_valid:\n",
    "    print(\"Countermodel found - examining witness structure:\")\n",
    "    model.model_structure.print_all()"
   ]
  },
  {
   "cell_type": "markdown",
   "metadata": {},
   "source": [
    "### Interactive Model Explorer\n",
    "\n",
    "Let's use the interactive model explorer to examine exclusion semantics:"
   ]
  },
  {
   "cell_type": "code",
   "execution_count": null,
   "metadata": {},
   "outputs": [],
   "source": [
    "# Create an interactive explorer for exclusion theory\n",
    "explorer = ModelExplorer(theory_name=\"exclusion\")\n",
    "\n",
    "# Set up an interesting example\n",
    "explorer.set_formula(\"p \\\\uconj (q \\\\vee r)\")\n",
    "explorer.set_premises([\"p\", \"q \\\\excl r\"])\n",
    "\n",
    "# Display the explorer\n",
    "explorer.display()"
   ]
  },
  {
   "cell_type": "markdown",
   "metadata": {},
   "source": [
    "## 4. Comparison with Classical Logic\n",
    "\n",
    "Let's compare how exclusion semantics differs from classical logic:"
   ]
  },
  {
   "cell_type": "markdown",
   "metadata": {},
   "source": [
    "### Comparison Table\n",
    "\n",
    "| Principle | Classical Logic | Exclusion Logic |\n",
    "|-----------|----------------|------------------|\n",
    "| Law of Excluded Middle | Always valid | Context-dependent |\n",
    "| Conjunction Commutativity | Always valid | Restricted |\n",
    "| Disjunction Properties | Standard | Unilateral variants |\n",
    "| Negation | Classical | Uninegation available |"
   ]
  },
  {
   "cell_type": "code",
   "execution_count": null,
   "metadata": {},
   "outputs": [],
   "source": [
    "# Test classical vs exclusion behavior\n",
    "classical_formulas = [\n",
    "    \"p \\\\vee \\\\neg p\",  # Law of excluded middle\n",
    "    \"(p \\\\wedge q) \\\\equiv (q \\\\wedge p)\",  # Conjunction commutativity\n",
    "    \"\\\\neg \\\\neg p \\\\equiv p\",  # Double negation\n",
    "]\n",
    "\n",
    "print(\"Testing classical principles in exclusion semantics:\")\n",
    "for i, formula in enumerate(classical_formulas, 1):\n",
    "    try:\n",
    "        result = check_formula(formula, theory_name=\"exclusion\")\n",
    "        print(f\"\\n{i}. {formula}\")\n",
    "        display(result)\n",
    "    except Exception as e:\n",
    "        print(f\"\\n{i}. {formula}: Error - {e}\")"
   ]
  },
  {
   "cell_type": "markdown",
   "metadata": {},
   "source": [
    "## 5. Interactive Exercises\n",
    "\n",
    "Try these exercises to deepen your understanding of exclusion semantics:"
   ]
  },
  {
   "cell_type": "markdown",
   "metadata": {},
   "source": [
    "### Exercise 1: Witness Set Analysis\n",
    "\n",
    "Modify the formula below and observe how witness sets change:"
   ]
  },
  {
   "cell_type": "code",
   "execution_count": null,
   "metadata": {},
   "outputs": [],
   "source": [
    "# Exercise 1: Modify this formula and run the cell\n",
    "exercise_formula = \"p \\\\uconj q\"  # Try changing this\n",
    "exercise_premises = [\"p\"]  # Try adding or changing premises\n",
    "\n",
    "result = find_countermodel(exercise_formula, theory_name=\"exclusion\", \n",
    "                          premises=exercise_premises)\n",
    "display(result)"
   ]
  },
  {
   "cell_type": "markdown",
   "metadata": {},
   "source": [
    "### Exercise 2: Exclusion Relationships\n",
    "\n",
    "Explore different exclusion relationships:"
   ]
  },
  {
   "cell_type": "code",
   "execution_count": null,
   "metadata": {},
   "outputs": [],
   "source": [
    "# Exercise 2: Test exclusion patterns\n",
    "exclusion_patterns = [\n",
    "    (\"p \\\\excl q\", [\"p\", \"q\"]),  # Basic exclusion\n",
    "    (\"(p \\\\vee q) \\\\wedge \\\\neg (p \\\\wedge q)\", []),  # Exclusive or pattern\n",
    "    (\"p \\\\excl (q \\\\vee r)\", [\"p\", \"q\"]),  # Exclusion with disjunction\n",
    "]\n",
    "\n",
    "for formula, premises in exclusion_patterns:\n",
    "    print(f\"\\nTesting: {formula}\")\n",
    "    print(f\"Premises: {premises}\")\n",
    "    result = check_formula(formula, theory_name=\"exclusion\", premises=premises)\n",
    "    display(result)"
   ]
  },
  {
   "cell_type": "markdown",
   "metadata": {},
   "source": [
    "### Exercise 3: Build Your Own Model\n",
    "\n",
    "Create your own exclusion semantics example:"
   ]
  },
  {
   "cell_type": "code",
   "execution_count": null,
   "metadata": {},
   "outputs": [],
   "source": [
    "# Exercise 3: Create your own example\n",
    "# Fill in the premises, conclusions, and settings\n",
    "\n",
    "my_premises = [\"p \\\\uconj q\"]  # Add your premises here\n",
    "my_conclusions = [\"p\"]  # Add your conclusions here\n",
    "my_settings = {\n",
    "    'N': 3,\n",
    "    'max_time': 5,\n",
    "    'non_empty': True,\n",
    "    'expectation': False  # Change to True if you expect it to be valid\n",
    "}\n",
    "\n",
    "my_example = [my_premises, my_conclusions, my_settings]\n",
    "my_model = BuildExample(\"my_exclusion_example\", exclusion_theory, my_example)\n",
    "\n",
    "result = my_model.check_result()\n",
    "print(f\"Your example is {'valid' if result else 'invalid'}\")\n",
    "\n",
    "if not result:\n",
    "    print(\"\\nCountermodel found:\")\n",
    "    my_model.model_structure.print_all()\n",
    "else:\n",
    "    print(\"\\nNo countermodel found - the argument is valid!\")"
   ]
  },
  {
   "cell_type": "markdown",
   "metadata": {},
   "source": [
    "## 6. Summary and Further Reading\n",
    "\n",
    "### What We've Learned:\n",
    "\n",
    "1. **Exclusion Semantics Fundamentals**: Witness-based approach to truth conditions\n",
    "2. **Unilateral Operators**: How operators work with single-sided truth conditions\n",
    "3. **Exclusion Relations**: Incompatibility relations between propositions\n",
    "4. **Practical Applications**: Using ModelChecker for exclusion semantics reasoning\n",
    "\n",
    "### Key Differences from Classical Logic:\n",
    "\n",
    "- Focus on witness sets rather than truth values\n",
    "- Unilateral operators with specialized behavior\n",
    "- Exclusion relations as primitive semantic concept\n",
    "- Alternative approach to counterfactual reasoning\n",
    "\n",
    "### Further Reading:\n",
    "\n",
    "- Bernard & Champollion \"Exclusion Counterfactuals\" (primary paper)\n",
    "- ModelChecker documentation: [Exclusion Theory README](../README.md)\n",
    "- Theory comparison notebooks in other theory directories\n",
    "\n",
    "### Next Steps:\n",
    "\n",
    "1. Explore the [Logos Theory notebook](../../logos/notebooks/logos_demo.ipynb) for comparison\n",
    "2. Try implementing your own exclusion semantics examples\n",
    "3. Experiment with different operator combinations\n",
    "4. Study the source code in `exclusion/` directory for implementation details"
   ]
  },
  {
   "cell_type": "markdown",
   "metadata": {},
   "source": [
    "---\n",
    "\n",
    "*This notebook was created as part of the ModelChecker project. For questions or contributions, please visit the [project repository](https://github.com/benbrastmckie/ModelChecker).*"
   ]
  }
 ],
 "metadata": {
  "kernelspec": {
   "display_name": "Python 3 (ipykernel)",
   "language": "python",
   "name": "python3"
  },
  "language_info": {
   "codemirror_mode": {
    "name": "ipython",
    "version": 3
   },
   "file_extension": ".py",
   "mimetype": "text/x-python",
   "name": "python",
   "nbconvert_exporter": "python",
   "pygments_lexer": "ipython3",
   "version": "3.12.0"
  }
 },
 "nbformat": 4,
 "nbformat_minor": 4
}