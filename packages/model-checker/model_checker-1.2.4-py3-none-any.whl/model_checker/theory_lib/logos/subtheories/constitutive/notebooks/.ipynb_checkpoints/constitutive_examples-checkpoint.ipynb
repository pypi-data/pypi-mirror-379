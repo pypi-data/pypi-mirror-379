{
 "cells": [
  {
   "cell_type": "markdown",
   "metadata": {},
   "source": [
    "# Constitutive Operators Examples\n",
    "\n",
    "This notebook demonstrates constitutive operators (\u2261, \u2291, \u2264) in the Logos theory.\n",
    "Examples use LaTeX notation: `\\\\equiv` for \u2261, `\\\\sqsubseteq` for \u2291, `\\\\leq` for \u2264.\n",
    "\n",
    "## Setup"
   ]
  },
  {
   "cell_type": "code",
   "execution_count": null,
   "metadata": {},
   "outputs": [],
   "source": [
    "# Import required modules\n",
    "from model_checker.jupyter import create_build_example, build_and_check\n",
    "from model_checker.theory_lib import logos\n",
    "\n",
    "# Load constitutive operators\n",
    "const_theory = logos.get_theory(['constitutive'])\n",
    "print(\"Loaded constitutive theory\")\n",
    "print(\"Operators: \\\\equiv (identity), \\\\sqsubseteq (essence), \\\\leq (ground)\")"
   ]
  },
  {
   "cell_type": "markdown",
   "metadata": {},
   "source": [
    "## Identity Examples"
   ]
  },
  {
   "cell_type": "code",
   "execution_count": null,
   "metadata": {},
   "outputs": [],
   "source": [
    "# CONST_TH_1: Identity is reflexive (A \u2261 A)\n",
    "CONST_TH_1_example = [\n",
    "    [],                    # no premises\n",
    "    ['(A \\\\equiv A)'],    # A is identical to A\n",
    "    {\n",
    "        'N': 3,\n",
    "        'contingent': True,\n",
    "        'non_empty': True,\n",
    "        'max_time': 2,\n",
    "        'expectation': False,  # Expect validity\n",
    "    }\n",
    "]\n",
    "\n",
    "model = create_build_example('CONST_TH_1', const_theory, CONST_TH_1_example)\n",
    "result = model.check_result()\n",
    "print(f\"Identity reflexivity: {'Valid' if result else 'Invalid (unexpected!)'}\")"
   ]
  },
  {
   "cell_type": "code",
   "execution_count": null,
   "metadata": {},
   "outputs": [],
   "source": [
    "# CONST_TH_2: Identity is symmetric (A \u2261 B \u22a8 B \u2261 A)\n",
    "CONST_TH_2_example = [\n",
    "    ['(A \\\\equiv B)'],           # premise\n",
    "    ['(B \\\\equiv A)'],           # conclusion\n",
    "    {\n",
    "        'N': 3,\n",
    "        'contingent': True,\n",
    "        'non_empty': True,\n",
    "        'max_time': 2,\n",
    "        'expectation': False,\n",
    "    }\n",
    "]\n",
    "\n",
    "model = create_build_example('CONST_TH_2', const_theory, CONST_TH_2_example)\n",
    "result = model.check_result()\n",
    "print(f\"Identity symmetry: {'Valid' if result else 'Invalid (unexpected!)'}\")"
   ]
  },
  {
   "cell_type": "markdown",
   "metadata": {},
   "source": [
    "## Essence Examples"
   ]
  },
  {
   "cell_type": "code",
   "execution_count": null,
   "metadata": {},
   "outputs": [],
   "source": [
    "# Test essence operator (\u2291)\n",
    "essence_example = [\n",
    "    ['(A \\\\sqsubseteq B)'],      # A is part of the essence of B\n",
    "    ['(A \\\\leq B)'],             # A grounds B\n",
    "    {\n",
    "        'N': 4,\n",
    "        'contingent': True,\n",
    "        'non_empty': True,\n",
    "        'max_time': 3,\n",
    "        'expectation': True,  # Check if this holds\n",
    "    }\n",
    "]\n",
    "\n",
    "model = create_build_example('essence_test', const_theory, essence_example)\n",
    "result = model.check_result()\n",
    "print(f\"Essence implies ground: {'Invalid' if not result else 'Valid'}\")"
   ]
  },
  {
   "cell_type": "markdown",
   "metadata": {},
   "source": [
    "## Interactive Testing"
   ]
  },
  {
   "cell_type": "code",
   "execution_count": null,
   "metadata": {},
   "outputs": [],
   "source": [
    "# Test your own constitutive formulas\n",
    "my_example = [\n",
    "    ['(A \\\\equiv B)', '(B \\\\equiv C)'],  # transitivity of identity?\n",
    "    ['(A \\\\equiv C)'],\n",
    "    {'N': 4, 'max_time': 5, 'expectation': False}\n",
    "]\n",
    "\n",
    "model, sat = build_and_check('identity_transitivity', const_theory, my_example, verbose=True)"
   ]
  }
 ],
 "metadata": {
  "kernelspec": {
   "display_name": "Python 3",
   "language": "python",
   "name": "python3"
  }
 },
 "nbformat": 4,
 "nbformat_minor": 4
}