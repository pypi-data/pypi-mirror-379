{
 "cells": [
  {
   "cell_type": "markdown",
   "id": "ae4f2116",
   "metadata": {},
   "source": [
    "## Configuring an Observatory\n",
    "\n",
    "You can customize the observatory by defining and passing `Camera`, `Telescope`, and `Site` objects:"
   ]
  },
  {
   "cell_type": "code",
   "execution_count": null,
   "id": "5d1d6f92",
   "metadata": {},
   "outputs": [],
   "source": [
    "import datetime\n",
    "\n",
    "import cabaret\n",
    "\n",
    "pixel_defects = {\n",
    "    \"cold\": {\"type\": \"constant\", \"value\": 0, \"rate\": 0.1, \"seed\": 1},\n",
    "    \"qe\": {\"type\": \"quantum_efficiency_map\", \"quantum_efficiency_std\": 0.25},\n",
    "    \"telegraphic\": {\"type\": \"telegraphic\", \"value\": 0, \"rate\": 0.05, \"dim\": 0},\n",
    "    \"smear\": {\"type\": \"readout_smear\", \"readout_time\": 5, \"dim\": 0},\n",
    "}\n",
    "\n",
    "observatory = cabaret.Observatory(\n",
    "    name=\"MyObservatory\",\n",
    "    camera=cabaret.Camera(\n",
    "        name=\"MyCamera\",\n",
    "        height=1024,\n",
    "        width=1024,\n",
    "        read_noise=10,\n",
    "        gain=1,\n",
    "        pixel_defects=pixel_defects,\n",
    "    ),\n",
    "    focuser=cabaret.Focuser(\n",
    "        best_position=10_000, position=10_100, scale=100, max_seeing_multiplier=5.0\n",
    "    ),\n",
    "    site=cabaret.Site(sky_background=21.0, seeing=1.5),\n",
    "    telescope=cabaret.Telescope(diameter=1.0, focal_length=8.0),\n",
    ")\n",
    "image = observatory.generate_image(\n",
    "    ra=12.33230,\n",
    "    dec=30.4343,\n",
    "    exp_time=15,\n",
    "    dateobs=datetime.datetime.now(datetime.UTC),\n",
    ")"
   ]
  },
  {
   "cell_type": "markdown",
   "id": "24168f1a",
   "metadata": {},
   "source": [
    "To display the image (requires `matplotlib`):"
   ]
  },
  {
   "cell_type": "code",
   "execution_count": null,
   "id": "feff851c",
   "metadata": {},
   "outputs": [],
   "source": [
    "from cabaret.plot import plot_image\n",
    "\n",
    "_ = plot_image(image)"
   ]
  },
  {
   "cell_type": "markdown",
   "id": "4569121a",
   "metadata": {},
   "source": [
    "### Save and load observatory configuration\n",
    "\n",
    "Note that you can safe and load observatory configurations from yaml files using\n",
    "\n",
    "```python\n",
    "observatory.save_to_yaml(\"path/to/config_file.yaml\")\n",
    "observatory.load_from_yaml(\"path/to/config_file.yaml\")\n",
    "```"
   ]
  },
  {
   "cell_type": "markdown",
   "id": "27e8b946",
   "metadata": {},
   "source": [
    "## Generate images from a list of sources\n",
    "\n",
    "You can simulate observations using `cabaret.Sources`, by specifying their positions and fluxes directly. This approach is particularly useful for testing environments, since it does not rely on querying external catalogs or internet access. By defining your own source lists, you have full control over the simulated field and can easily test how your observatory configuration responds to different source distributions."
   ]
  },
  {
   "cell_type": "code",
   "execution_count": null,
   "id": "4570876c",
   "metadata": {},
   "outputs": [],
   "source": [
    "import numpy as np\n",
    "\n",
    "# Generate arrays of ra, dec, and fluxes\n",
    "ra_eyes = [10.62, 10.6225, 10.625, 10.6275, 10.63] + [\n",
    "    10.65,\n",
    "    10.6525,\n",
    "    10.655,\n",
    "    10.6575,\n",
    "    10.66,\n",
    "]\n",
    "dec_eyes = [10.695, 10.7, 10.705, 10.7, 10.695] + [10.695, 10.7, 10.705, 10.7, 10.695]\n",
    "fluxes_eyes = [1e5] * len(ra_eyes)\n",
    "theta = np.linspace(-np.pi / 3, np.pi / 3, 20)\n",
    "ra_mouth = 10.64 + 0.015 * np.sin(theta)\n",
    "dec_mouth = 10.68 + 0 * np.cos(theta)\n",
    "fluxes_mouth = [8e4] * len(ra_mouth)\n",
    "\n",
    "ra = ra_eyes + list(ra_mouth)\n",
    "dec = dec_eyes + list(dec_mouth)\n",
    "fluxes = fluxes_eyes + list(fluxes_mouth)\n",
    "\n",
    "sources = cabaret.Sources.from_arrays(ra=ra, dec=dec, fluxes=fluxes)\n",
    "\n",
    "image = cabaret.Observatory(\n",
    "    camera=cabaret.Camera(\n",
    "        pixel_defects={\n",
    "            \"smear\": {\"type\": \"readout_smear\", \"readout_time\": 5, \"dim\": 0},\n",
    "        }\n",
    "    )\n",
    ").generate_image(\n",
    "    ra=sources.ra.deg.mean(),\n",
    "    dec=sources.dec.deg.mean(),\n",
    "    exp_time=20,\n",
    "    seed=0,\n",
    "    sources=sources,\n",
    ")\n",
    "_ = plot_image(image)"
   ]
  }
 ],
 "metadata": {
  "language_info": {
   "name": "python"
  }
 },
 "nbformat": 4,
 "nbformat_minor": 5
}
