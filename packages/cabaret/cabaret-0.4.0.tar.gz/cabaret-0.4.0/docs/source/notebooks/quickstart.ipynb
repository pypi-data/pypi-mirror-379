{
 "cells": [
  {
   "cell_type": "markdown",
   "id": "c51e6723",
   "metadata": {},
   "source": [
    "# Quickstart\n",
    "\n",
    "This quickstart shows how to generate a synthetic astronomical image using **cabaret** and display it."
   ]
  },
  {
   "cell_type": "markdown",
   "id": "2ed15511",
   "metadata": {},
   "source": [
    "First, create an image by specifying the sky coordinates and exposure time."
   ]
  },
  {
   "cell_type": "code",
   "execution_count": null,
   "id": "13f57e9c",
   "metadata": {},
   "outputs": [],
   "source": [
    "import cabaret\n",
    "\n",
    "image = cabaret.Observatory().generate_image(\n",
    "    ra=12.33230,  # right ascension in degrees\n",
    "    dec=30.4343,  # declination in degrees\n",
    "    exp_time=10,  # exposure time in seconds\n",
    ")"
   ]
  },
  {
   "cell_type": "markdown",
   "id": "3dd6cb9c",
   "metadata": {},
   "source": [
    "We can display the image using the convenience function `plot_image` (requires `matplotlib`):"
   ]
  },
  {
   "cell_type": "code",
   "execution_count": null,
   "id": "5c3d860d",
   "metadata": {},
   "outputs": [],
   "source": [
    "from cabaret.plot import plot_image\n",
    "\n",
    "_ = plot_image(image, title=\"Basic simulated image\")"
   ]
  },
  {
   "cell_type": "markdown",
   "id": "f27cc893",
   "metadata": {},
   "source": [
    "You have generated your first synthetic astronomical image with **cabaret**!\n",
    "Look at the tutorials to learn how to customize observatory settings and simulate more complex scenarios."
   ]
  }
 ],
 "metadata": {
  "language_info": {
   "name": "python"
  }
 },
 "nbformat": 4,
 "nbformat_minor": 5
}
