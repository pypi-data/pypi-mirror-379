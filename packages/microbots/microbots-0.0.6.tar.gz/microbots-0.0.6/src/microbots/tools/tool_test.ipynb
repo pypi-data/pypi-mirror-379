{
 "cells": [
  {
   "cell_type": "code",
   "execution_count": 10,
   "id": "09b8ac33",
   "metadata": {},
   "outputs": [
    {
     "name": "stdout",
     "output_type": "stream",
     "text": [
      "Tool(name='browser-use', description='A command-line AI web browser', usage_instructions_to_llm='# The `browser` command is a command-line AI web browser that allows you to fetch information from the Internet.\\n# It uses the Playwright library to automate browser actions and the OpenAI API to process your commands.\\n\\n# Basic usage:\\n#   browser <query>\\n# Example:\\n#   browser \"What is the capital of France?\"\\n#   browser \"Get me the latest release of Curl\"\\n\\n# End of instructions.\\n', install_commands=['pip install browser-use==0.5.4 playwright', 'playwright install --with-deps', 'playwright install chromium --install-deps --no-shell'], env_variables=['AZURE_OPENAI_API_KEY', 'AZURE_OPENAI_ENDPOINT', 'AZURE_OPENAI_API_VERSION'], files_to_copy={'src': 'browser-use/browser.py', 'dest': '/sbin/browser', 'permissions': 7}, verify_commands=None, setup_commands=None, uninstall_commands=['playwright uninstall chromium', 'pip uninstall -y browser-use playwright'])\n"
     ]
    }
   ],
   "source": [
    "from tool import Tool, parse_tool_definition\n",
    "from pathlib import Path\n",
    "import json\n",
    "\n",
    "tool_path = Path(\"browser-use.yaml\")\n",
    "tool = parse_tool_definition(tool_path)\n",
    "\n",
    "# print(json.dumps(tool, indent=2))\n",
    "print(tool)"
   ]
  }
 ],
 "metadata": {
  "kernelspec": {
   "display_name": ".venv",
   "language": "python",
   "name": "python3"
  },
  "language_info": {
   "codemirror_mode": {
    "name": "ipython",
    "version": 3
   },
   "file_extension": ".py",
   "mimetype": "text/x-python",
   "name": "python",
   "nbconvert_exporter": "python",
   "pygments_lexer": "ipython3",
   "version": "3.12.3"
  }
 },
 "nbformat": 4,
 "nbformat_minor": 5
}
