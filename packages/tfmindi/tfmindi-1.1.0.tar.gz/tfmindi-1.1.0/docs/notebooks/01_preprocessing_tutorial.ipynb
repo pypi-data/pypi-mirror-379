{
 "cells": [
  {
   "cell_type": "markdown",
   "id": "7fb27b941602401d91542211134fc71a",
   "metadata": {},
   "source": [
    "# Preprocessing\n",
    "\n",
    "This tutorial covers the preprocessing steps of TF-MInDi:\n",
    "- Loading motif collections and annotations\n",
    "- Extracting seqlets from contribution scores\n",
    "- Calculating motif similarities\n",
    "- Creating and saving tfmindi's custom {class}anndata.Anndata objects"
   ]
  },
  {
   "cell_type": "markdown",
   "id": "bfe87f02",
   "metadata": {},
   "source": [
    "## Data Requirements\n",
    "\n",
    "To get started with `tfmindi`, we need three types of data:\n",
    "- a motif database of known transcription factor motifs\n",
    "- one hot encoded sequences for genomic regions of interest\n",
    "- attribution scores representing nucleotide importances for these same regions from a trained neural network.  \n",
    "\n",
    "`tfmindi` provides functionality to fetch SCENIC+ motif collections if you don't have your own available.  \n",
    "Getting attribution scores and one-hot encoded regions is outside the scope of `tfmindi`. We recommend using CREsted for this (i.e. with [this function](https://crested.readthedocs.io/en/latest/api/tools/_autosummary/crested.tl.contribution_scores_specific.html)), yet any tool that can do this works fine (such as [tangermeme](https://tangermeme.readthedocs.io/en/latest/tutorials/Tutorial_A3_Deep_LIFT_SHAP.html)). So long as you can load these into python as numpy arrays."
   ]
  },
  {
   "cell_type": "markdown",
   "id": "6f605759",
   "metadata": {},
   "source": [
    "## Fetching motif collections and annotations\n",
    "\n",
    "On top of the contribution scores and sequences, we'll need motif collections to calculate similarity scores using {func}`~tfmindi.pp.calculate_motif_similarity` with the extracted seqlets.  \n",
    "TF-MInDi provides functionality to fetch and load some of the default SCENIC+ motif databases.  \n",
    "We can also fetch some motif annotations and motif-to-dbd mappings to visualize the seqlets later. "
   ]
  },
  {
   "cell_type": "code",
   "execution_count": 1,
   "id": "eab0db71",
   "metadata": {},
   "outputs": [],
   "source": [
    "import tfmindi as tm\n",
    "\n",
    "import os\n",
    "import re\n",
    "import numpy as np\n",
    "from tqdm import tqdm\n",
    "\n",
    "DATA_DIR = \"../../../../data/tfmindi/\"  # change to your project's data directory"
   ]
  },
  {
   "cell_type": "code",
   "execution_count": 2,
   "id": "909d9a14",
   "metadata": {},
   "outputs": [],
   "source": [
    "# fetch collection and annotations\n",
    "motif_collection_dir = tm.fetch_motif_collection()\n",
    "motif_annotations_file = tm.fetch_motif_annotations()\n",
    "\n",
    "# to speed up all analyses, we can choose to only load a sampled subset of motifs. We have selected some and stored those names in a .txt file.\n",
    "motif_samples_path = DATA_DIR + \"sampled_motifs.txt\"\n",
    "with open(motif_samples_path) as f:\n",
    "    motif_names = [line.strip() for line in f.readlines()]\n",
    "\n",
    "# load them as dictionary of PPM matrices\n",
    "motif_collection = tm.load_motif_collection(motif_collection_dir, motif_names=motif_names)\n",
    "motif_annotations = tm.load_motif_annotations(motif_annotations_file)\n",
    "\n",
    "# load motif to dna-binding domain (DBD) mapping\n",
    "motif_to_db = tm.load_motif_to_dbd(motif_annotations)"
   ]
  },
  {
   "cell_type": "markdown",
   "id": "e5289005",
   "metadata": {},
   "source": [
    "## Extracting seqlets using tangermeme\n",
    "\n",
    "We use `tangermeme` to extract seqlets (spans of nucleotides with high importance scores) from our nucleotide level contribution scores per cell type coming from a CREsted model.  \n",
    "We calculated these scores for cell-type specific enhancer regions only so we will be able to link each region back to a specific cell type, but this is not required to run `tfmindi`.  \n",
    "\n",
    "To extract seqlets, we use the {func}`~tfmindi.pp.extract_seqlets` function, which wraps `tangermeme`s [recursive_seqlets](https://tangermeme.readthedocs.io/en/latest/tutorials/Tutorial_A4_Seqlets.html#Recursive-Seqlets) functionality.  \n",
    "The resulting seqlets will be scaled to a range of [-1,1] and sign corrected so the average contribution values are always positive. \n",
    "\n",
    "The expected input shape of the contribution scores and one hot-encoded regions is (N, 4, W).  "
   ]
  },
  {
   "cell_type": "code",
   "execution_count": 3,
   "id": "46e4e4cb",
   "metadata": {},
   "outputs": [
    {
     "name": "stderr",
     "output_type": "stream",
     "text": [
      "100%|██████████| 19/19 [00:10<00:00,  1.89it/s]\n"
     ]
    }
   ],
   "source": [
    "# extract_seqlets expects the inputs to be in shape (n, 4, region_width), so we concatenate the cell type specific contributions\n",
    "CONTRIB_FOLDER = DATA_DIR + \"modisco_results_ft_2000/\"\n",
    "\n",
    "contrib_list = []\n",
    "oh_list = []\n",
    "classes_list = []\n",
    "\n",
    "# getting cell type names from file names (optional, not required to run tfmindi)\n",
    "class_names = [\n",
    "    re.match(r\"(.+?)_oh\\.npz$\", f).group(1)  # type: ignore\n",
    "    for f in os.listdir(CONTRIB_FOLDER)\n",
    "    if f.endswith(\"_oh.npz\")\n",
    "]\n",
    "\n",
    "for i, c in enumerate(tqdm(class_names)):\n",
    "    contrib_list.append(np.load(os.path.join(CONTRIB_FOLDER, f\"{c}_contrib.npz\"))[\"arr_0\"])\n",
    "    oh_list.append(np.load(os.path.join(CONTRIB_FOLDER, f\"{c}_oh.npz\"))[\"arr_0\"])\n",
    "    classes_list.append(np.repeat(c, oh_list[i].shape[0]))\n",
    "\n",
    "oh = np.concatenate(oh_list)\n",
    "contrib = np.concatenate(contrib_list)\n",
    "classes = np.concatenate(classes_list)  # not required to run tfmindi, but useful for interpretation later\n",
    "region_id_to_ct_map = {\n",
    "    i: str(c) for i, c in enumerate(classes)\n",
    "}  # not required to run tfmindi, but useful for interpretation later"
   ]
  },
  {
   "cell_type": "code",
   "execution_count": 4,
   "id": "2c84c5cb",
   "metadata": {},
   "outputs": [
    {
     "name": "stderr",
     "output_type": "stream",
     "text": [
      "Processing seqlets: 100%|██████████| 679653/679653 [00:15<00:00, 42894.67it/s]\n"
     ]
    }
   ],
   "source": [
    "# extract seqlets from the contributions and one-hot encoded sequences\n",
    "seqlets_df, seqlets_matrices = tm.pp.extract_seqlets(\n",
    "    contrib=contrib,\n",
    "    oh=oh,\n",
    "    threshold=0.05,  # importance threshold for seqlet extraction. Lower = fewer seqlets.\n",
    "    additional_flanks=3,  # flanking bases to include around seqlet\n",
    ")"
   ]
  },
  {
   "cell_type": "code",
   "execution_count": 5,
   "id": "f947ad74",
   "metadata": {},
   "outputs": [
    {
     "data": {
      "text/plain": [
       "679653"
      ]
     },
     "execution_count": 5,
     "metadata": {},
     "output_type": "execute_result"
    }
   ],
   "source": [
    "len(seqlets_matrices)"
   ]
  },
  {
   "cell_type": "code",
   "execution_count": 6,
   "id": "2d901862",
   "metadata": {},
   "outputs": [
    {
     "data": {
      "text/html": [
       "<div>\n",
       "<style scoped>\n",
       "    .dataframe tbody tr th:only-of-type {\n",
       "        vertical-align: middle;\n",
       "    }\n",
       "\n",
       "    .dataframe tbody tr th {\n",
       "        vertical-align: top;\n",
       "    }\n",
       "\n",
       "    .dataframe thead th {\n",
       "        text-align: right;\n",
       "    }\n",
       "</style>\n",
       "<table border=\"1\" class=\"dataframe\">\n",
       "  <thead>\n",
       "    <tr style=\"text-align: right;\">\n",
       "      <th></th>\n",
       "      <th>example_idx</th>\n",
       "      <th>start</th>\n",
       "      <th>end</th>\n",
       "      <th>attribution</th>\n",
       "      <th>p-value</th>\n",
       "    </tr>\n",
       "  </thead>\n",
       "  <tbody>\n",
       "    <tr>\n",
       "      <th>0</th>\n",
       "      <td>18770</td>\n",
       "      <td>1052</td>\n",
       "      <td>1065</td>\n",
       "      <td>22.867273</td>\n",
       "      <td>2.963802e-15</td>\n",
       "    </tr>\n",
       "    <tr>\n",
       "      <th>1</th>\n",
       "      <td>19895</td>\n",
       "      <td>1103</td>\n",
       "      <td>1134</td>\n",
       "      <td>42.865262</td>\n",
       "      <td>2.971223e-15</td>\n",
       "    </tr>\n",
       "    <tr>\n",
       "      <th>2</th>\n",
       "      <td>19813</td>\n",
       "      <td>1045</td>\n",
       "      <td>1059</td>\n",
       "      <td>13.644972</td>\n",
       "      <td>4.303625e-15</td>\n",
       "    </tr>\n",
       "  </tbody>\n",
       "</table>\n",
       "</div>"
      ],
      "text/plain": [
       "   example_idx  start   end  attribution       p-value\n",
       "0        18770   1052  1065    22.867273  2.963802e-15\n",
       "1        19895   1103  1134    42.865262  2.971223e-15\n",
       "2        19813   1045  1059    13.644972  4.303625e-15"
      ]
     },
     "execution_count": 6,
     "metadata": {},
     "output_type": "execute_result"
    }
   ],
   "source": [
    "seqlets_df.head(3)  # information on seqlet position and significance"
   ]
  },
  {
   "cell_type": "code",
   "execution_count": 7,
   "id": "059e17b9",
   "metadata": {},
   "outputs": [
    {
     "data": {
      "text/plain": [
       "(4, 13)"
      ]
     },
     "execution_count": 7,
     "metadata": {},
     "output_type": "execute_result"
    }
   ],
   "source": [
    "seqlets_matrices[0].shape  # seqlets_matrices is a list with len(seqlets), that contains the scaled matrix per seqlet"
   ]
  },
  {
   "cell_type": "markdown",
   "id": "c2f8a166",
   "metadata": {},
   "source": [
    "## Calculating motif similarity\n",
    "\n",
    "Next, we calculate similarity scores using {func}`~tfmindi.pp.calculate_motif_similarity` between the extracted seqlets and the SCENIC+ motif collection by using `memelite`'s TomTom implementation.  \n",
    "The resulting similarity matrix will be log-transformed and negated before performing clustering.  "
   ]
  },
  {
   "cell_type": "code",
   "execution_count": 8,
   "id": "31be2a35",
   "metadata": {},
   "outputs": [
    {
     "name": "stderr",
     "output_type": "stream",
     "text": [
      "Processing chunks:   0%|          | 0/14 [00:00<?, ?it/s]"
     ]
    },
    {
     "name": "stderr",
     "output_type": "stream",
     "text": [
      "Processing chunks: 100%|██████████| 14/14 [29:45<00:00, 127.52s/it]\n"
     ]
    }
   ],
   "source": [
    "sim_matrix = tm.pp.calculate_motif_similarity(\n",
    "    seqlets_matrices,\n",
    "    motif_collection,\n",
    "    chunk_size=50000,  # you can supply a seqlet chunk_size if you have memory constraints\n",
    "    n_nearest=100,  # you can limit the number of nearest motif similarities to store per seqlet to reduce memory usage\n",
    ")"
   ]
  },
  {
   "cell_type": "code",
   "execution_count": 9,
   "id": "a5b8493c",
   "metadata": {},
   "outputs": [
    {
     "name": "stdout",
     "output_type": "stream",
     "text": [
      "(679653, 3989)\n"
     ]
    }
   ],
   "source": [
    "print(sim_matrix.shape)  # (n_seqlets, n_motifs)"
   ]
  },
  {
   "cell_type": "markdown",
   "id": "010a98e7",
   "metadata": {},
   "source": [
    "We can store the data objects we have processed so far together in a single Anndata object.  \n",
    "This anndata object will become the input for all our `tfmindi.tl` tooling and `tfmindi.pl` plotting functions.  \n",
    "The motif annotations etc are not mandatory but can be used to create visualisations later.  "
   ]
  },
  {
   "cell_type": "code",
   "execution_count": 10,
   "id": "c44a5d23",
   "metadata": {},
   "outputs": [
    {
     "data": {
      "text/plain": [
       "AnnData object with n_obs × n_vars = 679653 × 3989\n",
       "    obs: 'example_idx', 'start', 'end', 'attribution', 'p-value', 'seqlet_matrix', 'seqlet_oh', 'example_oh_idx', 'example_contrib_idx'\n",
       "    var: 'motif_ppm', 'Direct_annot', 'Motif_similarity_annot', 'Orthology_annot', 'Motif_similarity_and_Orthology_annot', 'dbd'\n",
       "    uns: 'unique_examples'"
      ]
     },
     "execution_count": 10,
     "metadata": {},
     "output_type": "execute_result"
    }
   ],
   "source": [
    "adata = tm.pp.create_seqlet_adata(\n",
    "    sim_matrix,  # mandatory\n",
    "    seqlets_df,  # mandatory\n",
    "    seqlet_matrices=seqlets_matrices,\n",
    "    oh_sequences=oh,\n",
    "    contrib_scores=contrib,\n",
    "    motif_collection=motif_collection,\n",
    "    motif_annotations=motif_annotations,\n",
    "    motif_to_dbd=motif_to_db,\n",
    ")\n",
    "adata"
   ]
  },
  {
   "cell_type": "code",
   "execution_count": 11,
   "id": "23bea11c",
   "metadata": {},
   "outputs": [],
   "source": [
    "# optional: let's also add a \"cell_type\" column to the adata.obs based on our classes and example_idx (the region's idx)\n",
    "adata.obs[\"cell_type\"] = adata.obs[\"example_idx\"].map(region_id_to_ct_map).astype(\"category\")"
   ]
  },
  {
   "cell_type": "code",
   "execution_count": 12,
   "id": "1fa4461b",
   "metadata": {},
   "outputs": [
    {
     "data": {
      "text/html": [
       "<div>\n",
       "<style scoped>\n",
       "    .dataframe tbody tr th:only-of-type {\n",
       "        vertical-align: middle;\n",
       "    }\n",
       "\n",
       "    .dataframe tbody tr th {\n",
       "        vertical-align: top;\n",
       "    }\n",
       "\n",
       "    .dataframe thead th {\n",
       "        text-align: right;\n",
       "    }\n",
       "</style>\n",
       "<table border=\"1\" class=\"dataframe\">\n",
       "  <thead>\n",
       "    <tr style=\"text-align: right;\">\n",
       "      <th></th>\n",
       "      <th>example_idx</th>\n",
       "      <th>start</th>\n",
       "      <th>end</th>\n",
       "      <th>attribution</th>\n",
       "      <th>p-value</th>\n",
       "      <th>seqlet_matrix</th>\n",
       "      <th>seqlet_oh</th>\n",
       "      <th>example_oh_idx</th>\n",
       "      <th>example_contrib_idx</th>\n",
       "      <th>cell_type</th>\n",
       "    </tr>\n",
       "  </thead>\n",
       "  <tbody>\n",
       "    <tr>\n",
       "      <th>0</th>\n",
       "      <td>18770</td>\n",
       "      <td>1052</td>\n",
       "      <td>1065</td>\n",
       "      <td>22.867273</td>\n",
       "      <td>2.963802e-15</td>\n",
       "      <td>[[-0.38142416, -0.21325767, 0.56363165, -0.447...</td>\n",
       "      <td>[[0.0, 0.0, 1.0, 0.0, 0.0, 0.0, 0.0, 0.0, 1.0,...</td>\n",
       "      <td>0</td>\n",
       "      <td>0</td>\n",
       "      <td>Oligo</td>\n",
       "    </tr>\n",
       "    <tr>\n",
       "      <th>1</th>\n",
       "      <td>19895</td>\n",
       "      <td>1103</td>\n",
       "      <td>1134</td>\n",
       "      <td>42.865262</td>\n",
       "      <td>2.971223e-15</td>\n",
       "      <td>[[0.9126998, 0.572017, 0.33544934, 0.30004725,...</td>\n",
       "      <td>[[1.0, 1.0, 0.0, 0.0, 0.0, 0.0, 0.0, 0.0, 0.0,...</td>\n",
       "      <td>1</td>\n",
       "      <td>1</td>\n",
       "      <td>Oligo</td>\n",
       "    </tr>\n",
       "    <tr>\n",
       "      <th>2</th>\n",
       "      <td>19813</td>\n",
       "      <td>1045</td>\n",
       "      <td>1059</td>\n",
       "      <td>13.644972</td>\n",
       "      <td>4.303625e-15</td>\n",
       "      <td>[[0.18059267, -0.007956118, -0.34745765, -0.09...</td>\n",
       "      <td>[[0.0, 0.0, 0.0, 0.0, 1.0, 0.0, 0.0, 0.0, 0.0,...</td>\n",
       "      <td>2</td>\n",
       "      <td>2</td>\n",
       "      <td>Oligo</td>\n",
       "    </tr>\n",
       "  </tbody>\n",
       "</table>\n",
       "</div>"
      ],
      "text/plain": [
       "   example_idx  start   end  attribution       p-value  \\\n",
       "0        18770   1052  1065    22.867273  2.963802e-15   \n",
       "1        19895   1103  1134    42.865262  2.971223e-15   \n",
       "2        19813   1045  1059    13.644972  4.303625e-15   \n",
       "\n",
       "                                       seqlet_matrix  \\\n",
       "0  [[-0.38142416, -0.21325767, 0.56363165, -0.447...   \n",
       "1  [[0.9126998, 0.572017, 0.33544934, 0.30004725,...   \n",
       "2  [[0.18059267, -0.007956118, -0.34745765, -0.09...   \n",
       "\n",
       "                                           seqlet_oh  example_oh_idx  \\\n",
       "0  [[0.0, 0.0, 1.0, 0.0, 0.0, 0.0, 0.0, 0.0, 1.0,...               0   \n",
       "1  [[1.0, 1.0, 0.0, 0.0, 0.0, 0.0, 0.0, 0.0, 0.0,...               1   \n",
       "2  [[0.0, 0.0, 0.0, 0.0, 1.0, 0.0, 0.0, 0.0, 0.0,...               2   \n",
       "\n",
       "   example_contrib_idx cell_type  \n",
       "0                    0     Oligo  \n",
       "1                    1     Oligo  \n",
       "2                    2     Oligo  "
      ]
     },
     "execution_count": 12,
     "metadata": {},
     "output_type": "execute_result"
    }
   ],
   "source": [
    "adata.obs.head(3)"
   ]
  },
  {
   "cell_type": "code",
   "execution_count": 13,
   "id": "94952235",
   "metadata": {},
   "outputs": [
    {
     "data": {
      "text/html": [
       "<div>\n",
       "<style scoped>\n",
       "    .dataframe tbody tr th:only-of-type {\n",
       "        vertical-align: middle;\n",
       "    }\n",
       "\n",
       "    .dataframe tbody tr th {\n",
       "        vertical-align: top;\n",
       "    }\n",
       "\n",
       "    .dataframe thead th {\n",
       "        text-align: right;\n",
       "    }\n",
       "</style>\n",
       "<table border=\"1\" class=\"dataframe\">\n",
       "  <thead>\n",
       "    <tr style=\"text-align: right;\">\n",
       "      <th></th>\n",
       "      <th>motif_ppm</th>\n",
       "      <th>Direct_annot</th>\n",
       "      <th>Motif_similarity_annot</th>\n",
       "      <th>Orthology_annot</th>\n",
       "      <th>Motif_similarity_and_Orthology_annot</th>\n",
       "      <th>dbd</th>\n",
       "    </tr>\n",
       "  </thead>\n",
       "  <tbody>\n",
       "    <tr>\n",
       "      <th>hocomoco__CENPB_HUMAN.H11MO.0.D</th>\n",
       "      <td>[[0.04821992, 0.1383506, 0.012167643, 0.000450...</td>\n",
       "      <td>CENPB</td>\n",
       "      <td>NaN</td>\n",
       "      <td>NaN</td>\n",
       "      <td>NaN</td>\n",
       "      <td>CENPB</td>\n",
       "    </tr>\n",
       "    <tr>\n",
       "      <th>hocomoco__CPEB1_HUMAN.H11MO.0.D</th>\n",
       "      <td>[[0.1636162, 0.0005546312, 0.0049916804, 0.000...</td>\n",
       "      <td>CPEB1</td>\n",
       "      <td>ZNF362, ZNF287</td>\n",
       "      <td>NaN</td>\n",
       "      <td>NaN</td>\n",
       "      <td>C2H2 ZF</td>\n",
       "    </tr>\n",
       "    <tr>\n",
       "      <th>neph__UW.Motif.0049</th>\n",
       "      <td>[[0.870051, 0.059264, 0.038039, 0.069257, 0.94...</td>\n",
       "      <td>NaN</td>\n",
       "      <td>POU2F1, E2F1, POU2F2, YY1, PAX4</td>\n",
       "      <td>NaN</td>\n",
       "      <td>NANOGP8, SOX2, NANOG</td>\n",
       "      <td>Homeodomain</td>\n",
       "    </tr>\n",
       "  </tbody>\n",
       "</table>\n",
       "</div>"
      ],
      "text/plain": [
       "                                                                         motif_ppm  \\\n",
       "hocomoco__CENPB_HUMAN.H11MO.0.D  [[0.04821992, 0.1383506, 0.012167643, 0.000450...   \n",
       "hocomoco__CPEB1_HUMAN.H11MO.0.D  [[0.1636162, 0.0005546312, 0.0049916804, 0.000...   \n",
       "neph__UW.Motif.0049              [[0.870051, 0.059264, 0.038039, 0.069257, 0.94...   \n",
       "\n",
       "                                Direct_annot           Motif_similarity_annot  \\\n",
       "hocomoco__CENPB_HUMAN.H11MO.0.D        CENPB                              NaN   \n",
       "hocomoco__CPEB1_HUMAN.H11MO.0.D        CPEB1                   ZNF362, ZNF287   \n",
       "neph__UW.Motif.0049                      NaN  POU2F1, E2F1, POU2F2, YY1, PAX4   \n",
       "\n",
       "                                Orthology_annot  \\\n",
       "hocomoco__CENPB_HUMAN.H11MO.0.D             NaN   \n",
       "hocomoco__CPEB1_HUMAN.H11MO.0.D             NaN   \n",
       "neph__UW.Motif.0049                         NaN   \n",
       "\n",
       "                                Motif_similarity_and_Orthology_annot  \\\n",
       "hocomoco__CENPB_HUMAN.H11MO.0.D                                  NaN   \n",
       "hocomoco__CPEB1_HUMAN.H11MO.0.D                                  NaN   \n",
       "neph__UW.Motif.0049                             NANOGP8, SOX2, NANOG   \n",
       "\n",
       "                                         dbd  \n",
       "hocomoco__CENPB_HUMAN.H11MO.0.D        CENPB  \n",
       "hocomoco__CPEB1_HUMAN.H11MO.0.D      C2H2 ZF  \n",
       "neph__UW.Motif.0049              Homeodomain  "
      ]
     },
     "execution_count": 13,
     "metadata": {},
     "output_type": "execute_result"
    }
   ],
   "source": [
    "adata.var.head(3)"
   ]
  },
  {
   "cell_type": "markdown",
   "id": "f63a3c4e",
   "metadata": {},
   "source": [
    "## Saving our preprocesssed data\n",
    "\n",
    "Let's save our anndata so we don't have to run these analyses again.  \n",
    "We can't use standard Anndata functionality for this, since we're storing numpy arrays in both our .obs and .var. This is a logical way to structure our data, but is not allowed by Anndata when saving and loading.  \n",
    "Therefore, we have our own I/O functions that are simple wrappers around Anndata's functions (wherein the numpy arrays are moved to and back from .uns, which does allow for arrays).  \n",
    "You can save and load anndatas with {func}`~tfmindi.save_h5ad` and {func}`~tfmindi.load_h5ad`.\n",
    "Be aware that these files can become large."
   ]
  },
  {
   "cell_type": "code",
   "execution_count": 14,
   "id": "2c0d4326",
   "metadata": {},
   "outputs": [],
   "source": [
    "tm.save_h5ad(adata, DATA_DIR + \"seqlets.h5ad\")"
   ]
  }
 ],
 "metadata": {
  "kernelspec": {
   "display_name": "docs",
   "language": "python",
   "name": "python3"
  },
  "language_info": {
   "codemirror_mode": {
    "name": "ipython",
    "version": 3
   },
   "file_extension": ".py",
   "mimetype": "text/x-python",
   "name": "python",
   "nbconvert_exporter": "python",
   "pygments_lexer": "ipython3",
   "version": "3.12.4"
  }
 },
 "nbformat": 4,
 "nbformat_minor": 5
}
