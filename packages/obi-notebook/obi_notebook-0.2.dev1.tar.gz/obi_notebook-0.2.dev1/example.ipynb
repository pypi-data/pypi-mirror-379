{
 "cells": [
  {
   "cell_type": "code",
   "execution_count": null,
   "id": "7eb47475-67c6-499a-a2b4-19f8a64974d0",
   "metadata": {},
   "outputs": [],
   "source": [
    "import obi_auth\n",
    "\n",
    "from obi_notebook import get_entities, get_projects\n",
    "\n",
    "environment_str = \"staging\""
   ]
  },
  {
   "cell_type": "markdown",
   "id": "4d984b92-cadd-4b07-9813-b2333272610f",
   "metadata": {},
   "source": [
    "get authentication token for production"
   ]
  },
  {
   "cell_type": "code",
   "execution_count": null,
   "id": "323cb45c-91e3-451f-8a80-374e61433d31",
   "metadata": {},
   "outputs": [],
   "source": [
    "token = obi_auth.get_token(environment=environment_str)"
   ]
  },
  {
   "cell_type": "markdown",
   "id": "b60e8643-3ad5-4619-a052-5bd8b64713fd",
   "metadata": {},
   "source": [
    "a widget to select project to use"
   ]
  },
  {
   "cell_type": "code",
   "execution_count": null,
   "id": "77c47560-1163-4466-83fc-43abc6e0801a",
   "metadata": {},
   "outputs": [],
   "source": [
    "project_context = get_projects.get_projects(token, env=\"staging\")"
   ]
  },
  {
   "cell_type": "code",
   "execution_count": null,
   "id": "d538dcac-1bdc-496b-8840-a7b32ea842ed",
   "metadata": {},
   "outputs": [],
   "source": [
    "project_context"
   ]
  },
  {
   "cell_type": "code",
   "execution_count": null,
   "id": "93029f77-d71f-40f4-8c4d-9f23d2b650bc",
   "metadata": {},
   "outputs": [],
   "source": [
    "circuit_ids = []\n",
    "circuit_ids = get_entities.get_entities(\n",
    "    \"circuit\",\n",
    "    token,\n",
    "    circuit_ids,\n",
    "    return_entities=False,\n",
    "    multi_select=True,\n",
    "    show_pages=True,\n",
    "    project_context=project_context,\n",
    "    page_size=10,\n",
    "    default_scale=\"small\",\n",
    "    exclude_scales=[\"single\"],\n",
    "    add_columns=[\"subject.name\"],\n",
    "    env=environment_str,\n",
    ")"
   ]
  },
  {
   "cell_type": "code",
   "execution_count": null,
   "id": "da699ed4-39fd-4602-b54d-58a0b58c2539",
   "metadata": {},
   "outputs": [],
   "source": [
    "circuit_ids"
   ]
  },
  {
   "cell_type": "code",
   "execution_count": null,
   "id": "a5f5445d-a61a-4fbe-962f-51e701434771",
   "metadata": {},
   "outputs": [],
   "source": [
    "morph_ids = []\n",
    "morph_ids = get_entities.get_entities(\n",
    "    \"reconstruction-morphology\",\n",
    "    token,\n",
    "    morph_ids,\n",
    "    return_entities=False,\n",
    "    multi_select=True,\n",
    "    show_pages=True,\n",
    "    project_context=project_context,\n",
    "    page_size=100,\n",
    "    add_columns=[\"mtypes\"],\n",
    "    env=environment_str,\n",
    ")"
   ]
  },
  {
   "cell_type": "code",
   "execution_count": null,
   "id": "2c9d28c4",
   "metadata": {},
   "outputs": [],
   "source": [
    "morph_ids"
   ]
  },
  {
   "cell_type": "code",
   "execution_count": null,
   "id": "90757b52",
   "metadata": {},
   "outputs": [],
   "source": [
    "cell_mesh_ids = []\n",
    "circuit_ids = get_entities.get_entities(\n",
    "    \"em-cell-mesh\",\n",
    "    token,\n",
    "    cell_mesh_ids,\n",
    "    return_entities=False,\n",
    "    multi_select=True,\n",
    "    show_pages=True,\n",
    "    project_context=project_context,\n",
    "    page_size=10,\n",
    "    env=environment_str,\n",
    "    add_columns=[\"dense_reconstruction_cell_id\", \"subject.name\"],\n",
    ")"
   ]
  },
  {
   "cell_type": "code",
   "execution_count": null,
   "id": "6964ebe2",
   "metadata": {},
   "outputs": [],
   "source": [
    "cell_mesh_ids"
   ]
  }
 ],
 "metadata": {
  "kernelspec": {
   "display_name": ".venv (3.13.1)",
   "language": "python",
   "name": "python3"
  },
  "language_info": {
   "codemirror_mode": {
    "name": "ipython",
    "version": 3
   },
   "file_extension": ".py",
   "mimetype": "text/x-python",
   "name": "python",
   "nbconvert_exporter": "python",
   "pygments_lexer": "ipython3",
   "version": "3.13.1"
  }
 },
 "nbformat": 4,
 "nbformat_minor": 5
}
