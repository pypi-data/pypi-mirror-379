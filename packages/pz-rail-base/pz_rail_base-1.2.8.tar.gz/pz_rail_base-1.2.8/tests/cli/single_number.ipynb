{
 "cells": [
  {
   "cell_type": "code",
   "execution_count": null,
   "id": "c1ac1968-e884-4e49-b5ec-75d9c277bdca",
   "metadata": {
    "tags": []
   },
   "outputs": [],
   "source": [
    "import numpy as np"
   ]
  },
  {
   "cell_type": "code",
   "execution_count": null,
   "id": "f44b8a2c-1170-4f04-b8b8-f2d6fec303b8",
   "metadata": {
    "tags": []
   },
   "outputs": [],
   "source": [
    "num = np.random.random()\n",
    "print(f\"your random number is {num}\")"
   ]
  },
  {
   "cell_type": "code",
   "execution_count": null,
   "id": "681047ca-33fd-4074-acaa-e0419799b178",
   "metadata": {},
   "outputs": [],
   "source": []
  }
 ],
 "metadata": {
  "kernelspec": {
   "display_name": "Python 3 (ipykernel)",
   "language": "python",
   "name": "python3"
  },
  "language_info": {
   "codemirror_mode": {
    "name": "ipython",
    "version": 3
   },
   "file_extension": ".py",
   "mimetype": "text/x-python",
   "name": "python",
   "nbconvert_exporter": "python",
   "pygments_lexer": "ipython3",
   "version": "3.10.12"
  }
 },
 "nbformat": 4,
 "nbformat_minor": 5
}
