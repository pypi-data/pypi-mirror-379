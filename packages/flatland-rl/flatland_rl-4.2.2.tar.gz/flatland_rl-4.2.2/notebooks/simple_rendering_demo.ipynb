{
 "cells": [
  {
   "cell_type": "markdown",
   "metadata": {},
   "source": [
    "# Plot the Env and some trees"
   ]
  },
  {
   "cell_type": "code",
   "execution_count": 1,
   "metadata": {},
   "outputs": [],
   "source": [
    "%load_ext autoreload\n",
    "%autoreload 2"
   ]
  },
  {
   "cell_type": "code",
   "execution_count": 2,
   "metadata": {},
   "outputs": [],
   "source": [
    "import random\n",
    "import time\n",
    "import sys"
   ]
  },
  {
   "cell_type": "code",
   "execution_count": 3,
   "metadata": {},
   "outputs": [],
   "source": [
    "# in case you need to tweak your PYTHONPATH...\n",
    "sys.path.append(\"../flatland\")"
   ]
  },
  {
   "cell_type": "code",
   "execution_count": 4,
   "metadata": {},
   "outputs": [],
   "source": [
    "import flatland.core.env\n",
    "from flatland.utils.rendertools import RenderTool, AgentRenderVariant\n",
    "from flatland.envs.rail_env import RailEnv\n",
    "from flatland.envs.rail_generators import sparse_rail_generator\n",
    "from flatland.envs.line_generators import sparse_line_generator\n",
    "from flatland.envs.observations import TreeObsForRailEnv\n",
    "from flatland.envs.predictions import ShortestPathPredictorForRailEnv"
   ]
  },
  {
   "cell_type": "markdown",
   "metadata": {},
   "source": [
    "# Generate"
   ]
  },
  {
   "cell_type": "markdown",
   "metadata": {},
   "source": [
    "## Rendering - notebook integration\n",
    "\n",
    "Helpful methods"
   ]
  },
  {
   "cell_type": "code",
   "execution_count": 5,
   "metadata": {},
   "outputs": [],
   "source": [
    "from IPython.display import HTML, display, clear_output\n",
    "import ipywidgets as ipw\n",
    "from io import BytesIO\n",
    "import PIL\n",
    "from matplotlib import pyplot as plt\n",
    "from matplotlib.animation import FuncAnimation\n",
    "import time      \n",
    "  \n",
    "def create_rendering_area():\n",
    "    rendering_area = ipw.Image()\n",
    "    display(rendering_area)\n",
    "    return rendering_area\n",
    "\n",
    "def render_env_to_image(flatland_renderer):\n",
    "    flatland_renderer.render_env(show=False, show_observations=False)\n",
    "    image = flatland_renderer.get_image()\n",
    "    return image\n",
    "\n",
    "def render_env(flatland_renderer, rendering_area : ipw.Image):\n",
    "    pil_image = PIL.Image.fromarray(render_env_to_image(flatland_renderer))\n",
    "    if rendering_area is None:\n",
    "        clear_output(wait=False)\n",
    "        display(pil_image)\n",
    "        return\n",
    "\n",
    "    # convert numpy to PIL to png-format bytes  \n",
    "    with BytesIO() as fOut:\n",
    "        pil_image.save(fOut, format=\"png\")\n",
    "        byPng = fOut.getvalue()\n",
    "\n",
    "    # set the png bytes as the image value; \n",
    "    # this updates the image in the browser.\n",
    "    rendering_area.value=byPng"
   ]
  },
  {
   "cell_type": "markdown",
   "metadata": {},
   "source": [
    "### Create a render area - this is the object on which Flatland is visualised."
   ]
  },
  {
   "cell_type": "code",
   "execution_count": 6,
   "metadata": {},
   "outputs": [
    {
     "data": {
      "application/vnd.jupyter.widget-view+json": {
       "model_id": "daabd4a0e77b40d69e5a56f7a3e1f206",
       "version_major": 2,
       "version_minor": 0
      },
      "text/plain": [
       "Image(value=b'')"
      ]
     },
     "metadata": {},
     "output_type": "display_data"
    }
   ],
   "source": [
    "rendering_area = create_rendering_area()"
   ]
  },
  {
   "cell_type": "markdown",
   "metadata": {},
   "source": [
    "# Create Flatland and RenderTool "
   ]
  },
  {
   "cell_type": "code",
   "execution_count": 7,
   "metadata": {},
   "outputs": [],
   "source": [
    "nAgents = 3\n",
    "n_cities = 2\n",
    "max_rails_between_cities = 2\n",
    "max_rails_in_city = 4\n",
    "seed = 0\n",
    "env = RailEnv(\n",
    "        width=20,\n",
    "        height=30,\n",
    "        rail_generator=sparse_rail_generator(\n",
    "            max_num_cities=n_cities,\n",
    "            seed=seed,\n",
    "            grid_mode=True,\n",
    "            max_rails_between_cities=max_rails_between_cities,\n",
    "            max_rail_pairs_in_city=max_rails_in_city\n",
    "        ),\n",
    "        line_generator=sparse_line_generator(),\n",
    "        number_of_agents=nAgents,\n",
    "        obs_builder_object=TreeObsForRailEnv(max_depth=3, predictor=ShortestPathPredictorForRailEnv())\n",
    "    )\n",
    "\n",
    "init_observation, _ = env.reset()"
   ]
  },
  {
   "cell_type": "code",
   "execution_count": 8,
   "metadata": {},
   "outputs": [],
   "source": [
    "env_renderer = RenderTool(env, gl=\"PILSVG\",\n",
    "                                  agent_render_variant=AgentRenderVariant.AGENT_SHOWS_OPTIONS_AND_BOX,\n",
    "                                  show_debug=True,\n",
    "                                  screen_height=750,\n",
    "                                  screen_width=750)\n",
    "\n",
    "render_env(env_renderer, rendering_area)"
   ]
  }
 ],
 "metadata": {
  "hide_input": false,
  "kernelspec": {
   "display_name": "Python 3 (ipykernel)",
   "language": "python",
   "name": "python3"
  },
  "language_info": {
   "codemirror_mode": {
    "name": "ipython",
    "version": 3
   },
   "file_extension": ".py",
   "mimetype": "text/x-python",
   "name": "python",
   "nbconvert_exporter": "python",
   "pygments_lexer": "ipython3",
   "version": "3.7.16"
  },
  "latex_envs": {
   "LaTeX_envs_menu_present": true,
   "autoclose": false,
   "autocomplete": true,
   "bibliofile": "biblio.bib",
   "cite_by": "apalike",
   "current_citInitial": 1,
   "eqLabelWithNumbers": true,
   "eqNumInitial": 1,
   "hotkeys": {
    "equation": "Ctrl-E",
    "itemize": "Ctrl-I"
   },
   "labels_anchors": false,
   "latex_user_defs": false,
   "report_style_numbering": false,
   "user_envs_cfg": false
  },
  "toc": {
   "base_numbering": 1,
   "nav_menu": {},
   "number_sections": true,
   "sideBar": false,
   "skip_h1_title": false,
   "title_cell": "Table of Contents",
   "title_sidebar": "Contents",
   "toc_cell": false,
   "toc_position": {
    "height": "269.162px",
    "left": "1447.99px",
    "top": "102.25px",
    "width": "264.972px"
   },
   "toc_section_display": true,
   "toc_window_display": true
  },
  "varInspector": {
   "cols": {
    "lenName": 16,
    "lenType": 16,
    "lenVar": 40
   },
   "kernels_config": {
    "python": {
     "delete_cmd_postfix": "",
     "delete_cmd_prefix": "del ",
     "library": "var_list.py",
     "varRefreshCmd": "print(var_dic_list())"
    },
    "r": {
     "delete_cmd_postfix": ") ",
     "delete_cmd_prefix": "rm(",
     "library": "var_list.r",
     "varRefreshCmd": "cat(var_dic_list()) "
    }
   },
   "position": {
    "height": "899.077px",
    "left": "1199.28px",
    "right": "20px",
    "top": "106.997px",
    "width": "549.318px"
   },
   "types_to_exclude": [
    "module",
    "function",
    "builtin_function_or_method",
    "instance",
    "_Feature"
   ],
   "window_display": false
  }
 },
 "nbformat": 4,
 "nbformat_minor": 2
}
