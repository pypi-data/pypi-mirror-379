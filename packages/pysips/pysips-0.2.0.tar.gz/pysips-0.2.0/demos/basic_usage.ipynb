{
 "cells": [
  {
   "cell_type": "markdown",
   "id": "52da8f4f",
   "metadata": {},
   "source": [
    "# PySIPS Usage Example\n",
    "\n",
    "### Start by generating some data: $ y= x^2 + \\text{noise} $"
   ]
  },
  {
   "cell_type": "code",
   "execution_count": null,
   "id": "7aa382c2",
   "metadata": {},
   "outputs": [],
   "source": [
    "import numpy as np\n",
    "import matplotlib.pyplot as plt\n",
    "\n",
    "np.random.seed(42)\n",
    "X = np.linspace(-3, 3, 100).reshape(-1, 1)\n",
    "y = X[:, 0]**2 + np.random.normal(0, 0.1, size=X.shape[0])"
   ]
  },
  {
   "cell_type": "markdown",
   "id": "171c6e3c",
   "metadata": {},
   "source": [
    "Do a train/test split"
   ]
  },
  {
   "cell_type": "code",
   "execution_count": null,
   "id": "acbf08b6",
   "metadata": {},
   "outputs": [],
   "source": [
    "from sklearn.model_selection import train_test_split\n",
    "\n",
    "X_train, X_test, y_train, y_test = train_test_split(X, y, test_size=0.2, random_state=42)\n",
    "\n",
    "plt.plot(X_train, y_train, '.', label=\"Train Data\")\n",
    "plt.plot(X_test, y_test, '.', label=\"Test Data\")\n",
    "plt.xlabel(\"x\")\n",
    "plt.ylabel(\"y\")\n",
    "plt.legend()"
   ]
  },
  {
   "cell_type": "markdown",
   "id": "f6ce5181",
   "metadata": {},
   "source": [
    "### Fitting with PySIPS\n",
    "\n",
    "Start by creating the regressor "
   ]
  },
  {
   "cell_type": "code",
   "execution_count": null,
   "id": "8a56251b",
   "metadata": {},
   "outputs": [],
   "source": [
    "from pysips import PysipsRegressor\n",
    "\n",
    "regressor = PysipsRegressor(\n",
    "    # the mathematical operations that can be used in equations\n",
    "    operators=['+', '-', '*'],  \n",
    "    \n",
    "    # a complexity limit for equations\n",
    "    max_complexity=12,  \n",
    "\n",
    "    # the number of equations that will represent the model posterior \n",
    "    # similar to a population size in a genetic algorithm\n",
    "    # computation times increase with this value, effectiveness does too\n",
    "    num_particles=100, \n",
    "\n",
    "    # length of MCMC chains between SMC target distributions\n",
    "    # computation times increase with this value\n",
    "    # effectiveness also increases (but may saturate at larger values)\n",
    "    num_mcmc_samples=20,\n",
    "\n",
    "    # to control randomness\n",
    "    random_state=42,\n",
    "\n",
    "    # setting a time limit\n",
    "    max_time=25,\n",
    ")"
   ]
  },
  {
   "cell_type": "markdown",
   "id": "7f3cd12a",
   "metadata": {},
   "source": [
    "Fit the regressor to the training data"
   ]
  },
  {
   "cell_type": "code",
   "execution_count": null,
   "id": "00d70dd6",
   "metadata": {},
   "outputs": [],
   "source": [
    "regressor.fit(X_train, y_train)"
   ]
  },
  {
   "cell_type": "markdown",
   "id": "b658cf7e",
   "metadata": {},
   "source": [
    "See how good the fit is"
   ]
  },
  {
   "cell_type": "code",
   "execution_count": null,
   "id": "7b135247",
   "metadata": {},
   "outputs": [],
   "source": [
    "from sklearn.metrics import r2_score\n",
    "\n",
    "expression = regressor.get_expression()\n",
    "y_pred = regressor.predict(X_test)\n",
    "print(f\"Discovered expression: {expression}\")\n",
    "print(f\"R² score: {r2_score(y_test, y_pred):.4f}\")"
   ]
  },
  {
   "cell_type": "markdown",
   "id": "3f9bec7f",
   "metadata": {},
   "source": [
    "Plot the expression"
   ]
  },
  {
   "cell_type": "code",
   "execution_count": null,
   "id": "5b648176",
   "metadata": {},
   "outputs": [],
   "source": [
    "plt.plot(X_train, y_train, '.', label=\"Train Data\")\n",
    "plt.plot(X_test, y_test, '.', label=\"Test Data\")\n",
    "plt.plot(X, regressor.predict(X), '-', label=expression)\n",
    "plt.xlabel(\"x\")\n",
    "plt.ylabel(\"y\")\n",
    "plt.legend()"
   ]
  },
  {
   "cell_type": "code",
   "execution_count": null,
   "id": "5abf044d",
   "metadata": {},
   "outputs": [],
   "source": []
  }
 ],
 "metadata": {
  "kernelspec": {
   "display_name": "pysips_dev",
   "language": "python",
   "name": "python3"
  },
  "language_info": {
   "codemirror_mode": {
    "name": "ipython",
    "version": 3
   },
   "file_extension": ".py",
   "mimetype": "text/x-python",
   "name": "python",
   "nbconvert_exporter": "python",
   "pygments_lexer": "ipython3",
   "version": "3.13.5"
  }
 },
 "nbformat": 4,
 "nbformat_minor": 5
}
