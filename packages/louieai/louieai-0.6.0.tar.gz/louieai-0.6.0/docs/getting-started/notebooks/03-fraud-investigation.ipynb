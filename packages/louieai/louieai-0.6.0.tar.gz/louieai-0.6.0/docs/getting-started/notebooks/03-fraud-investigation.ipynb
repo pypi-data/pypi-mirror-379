{
 "cells": [
  {
   "cell_type": "markdown",
   "metadata": {},
   "source": [
    "# Fraud Investigation with LouieAI Agents\n",
    "\n",
    "Detect and investigate fraud patterns using specialized agents for graph analysis and anomaly detection.\n",
    "\n",
    "**Topics covered:**\n",
    "- Transaction data analysis\n",
    "- Network analysis for fraud rings\n",
    "- Statistical anomaly detection\n",
    "- Interactive investigation dashboards\n",
    "- Risk assessment and scoring"
   ]
  },
  {
   "cell_type": "markdown",
   "metadata": {},
   "source": [
    "## Setup and Authentication"
   ]
  },
  {
   "cell_type": "code",
   "execution_count": 1,
   "metadata": {
    "execution": {
     "iopub.execute_input": "2025-08-20T23:44:32.437672Z",
     "iopub.status.busy": "2025-08-20T23:44:32.437291Z",
     "iopub.status.idle": "2025-08-20T23:44:32.691429Z",
     "shell.execute_reply": "2025-08-20T23:44:32.691015Z"
    }
   },
   "outputs": [
    {
     "name": "stdout",
     "output_type": "stream",
     "text": [
      "🔒 Running fraud detection demonstration\n"
     ]
    }
   ],
   "source": [
    "from datetime import datetime, timedelta\n",
    "\n",
    "import numpy as np\n",
    "import pandas as pd\n",
    "\n",
    "# For this demonstration, we'll use locally generated data\n",
    "# To use with LouieAI, ensure you have proper credentials set\n",
    "print(\"🔒 Running fraud detection demonstration\")\n",
    "DEMO_MODE = True"
   ]
  },
  {
   "cell_type": "markdown",
   "metadata": {},
   "source": [
    "## Generate Transaction Data with Fraud Patterns"
   ]
  },
  {
   "cell_type": "code",
   "execution_count": 2,
   "metadata": {
    "execution": {
     "iopub.execute_input": "2025-08-20T23:44:32.720776Z",
     "iopub.status.busy": "2025-08-20T23:44:32.720533Z",
     "iopub.status.idle": "2025-08-20T23:44:32.749104Z",
     "shell.execute_reply": "2025-08-20T23:44:32.748840Z"
    }
   },
   "outputs": [
    {
     "name": "stdout",
     "output_type": "stream",
     "text": [
      "✅ Generated 500 transactions with 28 suspicious patterns\n",
      "\n",
      "Sample data:\n"
     ]
    },
    {
     "data": {
      "text/html": [
       "<div>\n",
       "<style scoped>\n",
       "    .dataframe tbody tr th:only-of-type {\n",
       "        vertical-align: middle;\n",
       "    }\n",
       "\n",
       "    .dataframe tbody tr th {\n",
       "        vertical-align: top;\n",
       "    }\n",
       "\n",
       "    .dataframe thead th {\n",
       "        text-align: right;\n",
       "    }\n",
       "</style>\n",
       "<table border=\"1\" class=\"dataframe\">\n",
       "  <thead>\n",
       "    <tr style=\"text-align: right;\">\n",
       "      <th></th>\n",
       "      <th>transaction_id</th>\n",
       "      <th>user_id</th>\n",
       "      <th>amount</th>\n",
       "      <th>merchant</th>\n",
       "      <th>timestamp</th>\n",
       "      <th>is_suspicious</th>\n",
       "    </tr>\n",
       "  </thead>\n",
       "  <tbody>\n",
       "    <tr>\n",
       "      <th>0</th>\n",
       "      <td>T0001</td>\n",
       "      <td>USER_087</td>\n",
       "      <td>6.25</td>\n",
       "      <td>Restaurant</td>\n",
       "      <td>2024-01-01 00:02:00</td>\n",
       "      <td>False</td>\n",
       "    </tr>\n",
       "    <tr>\n",
       "      <th>1</th>\n",
       "      <td>T0002</td>\n",
       "      <td>USER_024</td>\n",
       "      <td>53.43</td>\n",
       "      <td>Online_Shop</td>\n",
       "      <td>2024-01-01 00:07:00</td>\n",
       "      <td>False</td>\n",
       "    </tr>\n",
       "    <tr>\n",
       "      <th>2</th>\n",
       "      <td>T0003</td>\n",
       "      <td>USER_064</td>\n",
       "      <td>0.01</td>\n",
       "      <td>Online_Casino</td>\n",
       "      <td>2024-01-01 00:19:00</td>\n",
       "      <td>True</td>\n",
       "    </tr>\n",
       "    <tr>\n",
       "      <th>3</th>\n",
       "      <td>T0004</td>\n",
       "      <td>USER_042</td>\n",
       "      <td>34.24</td>\n",
       "      <td>Restaurant</td>\n",
       "      <td>2024-01-01 00:27:00</td>\n",
       "      <td>False</td>\n",
       "    </tr>\n",
       "    <tr>\n",
       "      <th>4</th>\n",
       "      <td>T0005</td>\n",
       "      <td>USER_064</td>\n",
       "      <td>17.43</td>\n",
       "      <td>Online_Shop</td>\n",
       "      <td>2024-01-01 00:43:00</td>\n",
       "      <td>False</td>\n",
       "    </tr>\n",
       "  </tbody>\n",
       "</table>\n",
       "</div>"
      ],
      "text/plain": [
       "  transaction_id   user_id  amount       merchant           timestamp  \\\n",
       "0          T0001  USER_087    6.25     Restaurant 2024-01-01 00:02:00   \n",
       "1          T0002  USER_024   53.43    Online_Shop 2024-01-01 00:07:00   \n",
       "2          T0003  USER_064    0.01  Online_Casino 2024-01-01 00:19:00   \n",
       "3          T0004  USER_042   34.24     Restaurant 2024-01-01 00:27:00   \n",
       "4          T0005  USER_064   17.43    Online_Shop 2024-01-01 00:43:00   \n",
       "\n",
       "   is_suspicious  \n",
       "0          False  \n",
       "1          False  \n",
       "2           True  \n",
       "3          False  \n",
       "4          False  "
      ]
     },
     "execution_count": 2,
     "metadata": {},
     "output_type": "execute_result"
    }
   ],
   "source": [
    "# Generate sample transaction data with embedded fraud patterns\n",
    "np.random.seed(42)\n",
    "base_time = datetime(2024, 1, 1)\n",
    "\n",
    "# Create normal and fraudulent transactions\n",
    "transactions = []\n",
    "for i in range(500):\n",
    "    is_fraud = np.random.random() < 0.05  # 5% fraud rate\n",
    "\n",
    "    if is_fraud:\n",
    "        # Fraudulent patterns\n",
    "        amount = np.random.choice(\n",
    "            [\n",
    "                np.random.uniform(5000, 10000),  # Unusually high\n",
    "                0.01,  # Testing transaction\n",
    "                999.99,  # Just under reporting limit\n",
    "            ]\n",
    "        )\n",
    "        merchant = np.random.choice([\"ATM_Foreign\", \"Online_Casino\", \"Wire_Transfer\"])\n",
    "        velocity = np.random.randint(1, 10)  # Multiple rapid transactions\n",
    "    else:\n",
    "        # Normal patterns\n",
    "        amount = np.random.lognormal(3.5, 1.5)\n",
    "        merchant = np.random.choice(\n",
    "            [\"Grocery_Store\", \"Gas_Station\", \"Restaurant\", \"Online_Shop\"]\n",
    "        )\n",
    "        velocity = 1\n",
    "\n",
    "    user_id = f\"USER_{np.random.randint(1, 101):03d}\"\n",
    "    timestamp = base_time + timedelta(minutes=i * 10 + np.random.randint(-5, 5))\n",
    "\n",
    "    transactions.append(\n",
    "        {\n",
    "            \"transaction_id\": f\"T{i + 1:04d}\",\n",
    "            \"user_id\": user_id,\n",
    "            \"amount\": round(amount, 2),\n",
    "            \"merchant\": merchant,\n",
    "            \"timestamp\": timestamp,\n",
    "            \"is_suspicious\": is_fraud,\n",
    "        }\n",
    "    )\n",
    "\n",
    "transactions_df = pd.DataFrame(transactions)\n",
    "print(\n",
    "    f\"✅ Generated {len(transactions_df)} transactions with {transactions_df['is_suspicious'].sum()} suspicious patterns\"\n",
    ")\n",
    "print(\"\\nSample data:\")\n",
    "transactions_df.head()"
   ]
  },
  {
   "cell_type": "markdown",
   "metadata": {},
   "source": [
    "## Basic Statistical Analysis"
   ]
  },
  {
   "cell_type": "code",
   "execution_count": 3,
   "metadata": {
    "execution": {
     "iopub.execute_input": "2025-08-20T23:44:32.750355Z",
     "iopub.status.busy": "2025-08-20T23:44:32.750255Z",
     "iopub.status.idle": "2025-08-20T23:44:32.757135Z",
     "shell.execute_reply": "2025-08-20T23:44:32.756862Z"
    }
   },
   "outputs": [
    {
     "name": "stdout",
     "output_type": "stream",
     "text": [
      "🔍 Top users with suspicious activity:\n",
      "         amount                            is_suspicious\n",
      "          count      sum     mean      std           sum\n",
      "user_id                                                 \n",
      "USER_081      4  7350.98  1837.74  3520.41             2\n",
      "USER_062      5  1222.61   244.52   425.04             2\n",
      "USER_019      6  1621.20   270.20   387.46             1\n",
      "USER_022      3   135.60    45.20    74.52             1\n",
      "USER_023      6  9433.40  1572.23  3249.14             1\n",
      "USER_025      7  1883.85   269.12   606.36             1\n",
      "USER_031      1     0.01     0.01      NaN             1\n",
      "USER_038      8   204.72    25.59    40.79             1\n",
      "USER_006      5    83.78    16.76    23.97             1\n",
      "USER_018      2  8116.36  4058.18  5627.92             1\n"
     ]
    }
   ],
   "source": [
    "# Analyze transaction patterns\n",
    "if DEMO_MODE:\n",
    "    # Local analysis\n",
    "    stats = (\n",
    "        transactions_df.groupby(\"user_id\")\n",
    "        .agg({\"amount\": [\"count\", \"sum\", \"mean\", \"std\"], \"is_suspicious\": \"sum\"})\n",
    "        .round(2)\n",
    "    )\n",
    "\n",
    "    # Find top suspicious users\n",
    "    suspicious_users = (\n",
    "        stats[stats[(\"is_suspicious\", \"sum\")] > 0]\n",
    "        .sort_values((\"is_suspicious\", \"sum\"), ascending=False)\n",
    "        .head(10)\n",
    "    )\n",
    "\n",
    "    print(\"🔍 Top users with suspicious activity:\")\n",
    "    print(suspicious_users)\n",
    "else:\n",
    "    # Use LouieAI for analysis\n",
    "    lui(\"Analyze transaction patterns and identify suspicious users\", transactions_df)\n",
    "    if lui.df is not None:\n",
    "        print(f\"Analysis complete: {lui.df.shape}\")"
   ]
  },
  {
   "cell_type": "markdown",
   "metadata": {},
   "source": [
    "## Anomaly Detection with Z-Scores"
   ]
  },
  {
   "cell_type": "code",
   "execution_count": 4,
   "metadata": {
    "execution": {
     "iopub.execute_input": "2025-08-20T23:44:32.758216Z",
     "iopub.status.busy": "2025-08-20T23:44:32.758115Z",
     "iopub.status.idle": "2025-08-20T23:44:32.765601Z",
     "shell.execute_reply": "2025-08-20T23:44:32.765275Z"
    }
   },
   "outputs": [
    {
     "name": "stdout",
     "output_type": "stream",
     "text": [
      "🚨 Found 7 outlier transactions\n",
      "\n",
      "Top 10 anomalous transactions:\n"
     ]
    },
    {
     "data": {
      "text/html": [
       "<div>\n",
       "<style scoped>\n",
       "    .dataframe tbody tr th:only-of-type {\n",
       "        vertical-align: middle;\n",
       "    }\n",
       "\n",
       "    .dataframe tbody tr th {\n",
       "        vertical-align: top;\n",
       "    }\n",
       "\n",
       "    .dataframe thead th {\n",
       "        text-align: right;\n",
       "    }\n",
       "</style>\n",
       "<table border=\"1\" class=\"dataframe\">\n",
       "  <thead>\n",
       "    <tr style=\"text-align: right;\">\n",
       "      <th></th>\n",
       "      <th>transaction_id</th>\n",
       "      <th>user_id</th>\n",
       "      <th>amount</th>\n",
       "      <th>amount_zscore</th>\n",
       "      <th>merchant</th>\n",
       "    </tr>\n",
       "  </thead>\n",
       "  <tbody>\n",
       "    <tr>\n",
       "      <th>106</th>\n",
       "      <td>T0107</td>\n",
       "      <td>USER_080</td>\n",
       "      <td>9849.39</td>\n",
       "      <td>9.792456</td>\n",
       "      <td>Wire_Transfer</td>\n",
       "    </tr>\n",
       "    <tr>\n",
       "      <th>206</th>\n",
       "      <td>T0207</td>\n",
       "      <td>USER_098</td>\n",
       "      <td>9153.27</td>\n",
       "      <td>9.083782</td>\n",
       "      <td>Online_Casino</td>\n",
       "    </tr>\n",
       "    <tr>\n",
       "      <th>21</th>\n",
       "      <td>T0022</td>\n",
       "      <td>USER_023</td>\n",
       "      <td>8182.05</td>\n",
       "      <td>8.095047</td>\n",
       "      <td>Online_Casino</td>\n",
       "    </tr>\n",
       "    <tr>\n",
       "      <th>63</th>\n",
       "      <td>T0064</td>\n",
       "      <td>USER_087</td>\n",
       "      <td>8139.47</td>\n",
       "      <td>8.051699</td>\n",
       "      <td>Online_Casino</td>\n",
       "    </tr>\n",
       "    <tr>\n",
       "      <th>5</th>\n",
       "      <td>T0006</td>\n",
       "      <td>USER_018</td>\n",
       "      <td>8037.72</td>\n",
       "      <td>7.948114</td>\n",
       "      <td>ATM_Foreign</td>\n",
       "    </tr>\n",
       "    <tr>\n",
       "      <th>14</th>\n",
       "      <td>T0015</td>\n",
       "      <td>USER_081</td>\n",
       "      <td>7117.01</td>\n",
       "      <td>7.010800</td>\n",
       "      <td>Wire_Transfer</td>\n",
       "    </tr>\n",
       "    <tr>\n",
       "      <th>32</th>\n",
       "      <td>T0033</td>\n",
       "      <td>USER_053</td>\n",
       "      <td>6725.36</td>\n",
       "      <td>6.612087</td>\n",
       "      <td>Wire_Transfer</td>\n",
       "    </tr>\n",
       "  </tbody>\n",
       "</table>\n",
       "</div>"
      ],
      "text/plain": [
       "    transaction_id   user_id   amount  amount_zscore       merchant\n",
       "106          T0107  USER_080  9849.39       9.792456  Wire_Transfer\n",
       "206          T0207  USER_098  9153.27       9.083782  Online_Casino\n",
       "21           T0022  USER_023  8182.05       8.095047  Online_Casino\n",
       "63           T0064  USER_087  8139.47       8.051699  Online_Casino\n",
       "5            T0006  USER_018  8037.72       7.948114    ATM_Foreign\n",
       "14           T0015  USER_081  7117.01       7.010800  Wire_Transfer\n",
       "32           T0033  USER_053  6725.36       6.612087  Wire_Transfer"
      ]
     },
     "execution_count": 4,
     "metadata": {},
     "output_type": "execute_result"
    }
   ],
   "source": [
    "# Calculate Z-scores for anomaly detection without scipy\n",
    "# Z-score = (value - mean) / std_dev\n",
    "mean_amount = transactions_df[\"amount\"].mean()\n",
    "std_amount = transactions_df[\"amount\"].std()\n",
    "\n",
    "# Calculate Z-scores for amounts\n",
    "transactions_df[\"amount_zscore\"] = np.abs(\n",
    "    (transactions_df[\"amount\"] - mean_amount) / std_amount\n",
    ")\n",
    "\n",
    "# Flag outliers (Z-score > 3)\n",
    "transactions_df[\"is_outlier\"] = transactions_df[\"amount_zscore\"] > 3\n",
    "\n",
    "# Show top anomalies\n",
    "anomalies = (\n",
    "    transactions_df[transactions_df[\"is_outlier\"]]\n",
    "    .sort_values(\"amount_zscore\", ascending=False)\n",
    "    .head(10)\n",
    ")\n",
    "\n",
    "print(f\"🚨 Found {transactions_df['is_outlier'].sum()} outlier transactions\")\n",
    "print(\"\\nTop 10 anomalous transactions:\")\n",
    "anomalies[[\"transaction_id\", \"user_id\", \"amount\", \"amount_zscore\", \"merchant\"]]"
   ]
  },
  {
   "cell_type": "markdown",
   "metadata": {},
   "source": [
    "## Velocity Analysis"
   ]
  },
  {
   "cell_type": "code",
   "execution_count": 5,
   "metadata": {
    "execution": {
     "iopub.execute_input": "2025-08-20T23:44:32.767030Z",
     "iopub.status.busy": "2025-08-20T23:44:32.766876Z",
     "iopub.status.idle": "2025-08-20T23:44:32.859983Z",
     "shell.execute_reply": "2025-08-20T23:44:32.859506Z"
    }
   },
   "outputs": [
    {
     "name": "stdout",
     "output_type": "stream",
     "text": [
      "⚡ Users with rapid transaction patterns:\n",
      "    user_id  rapid_transactions  total_rapid_amount\n",
      "0  USER_036                   1              547.65\n"
     ]
    }
   ],
   "source": [
    "# Detect rapid-fire transactions (velocity attacks)\n",
    "transactions_df[\"timestamp\"] = pd.to_datetime(transactions_df[\"timestamp\"])\n",
    "\n",
    "# Calculate time between transactions for each user\n",
    "velocity_check = []\n",
    "for user in transactions_df[\"user_id\"].unique():\n",
    "    user_trans = transactions_df[transactions_df[\"user_id\"] == user].sort_values(\n",
    "        \"timestamp\"\n",
    "    )\n",
    "    if len(user_trans) > 1:\n",
    "        user_trans[\"time_diff\"] = (\n",
    "            user_trans[\"timestamp\"].diff().dt.total_seconds() / 60\n",
    "        )  # in minutes\n",
    "        rapid = user_trans[user_trans[\"time_diff\"] < 5]  # Less than 5 minutes\n",
    "        if len(rapid) > 0:\n",
    "            velocity_check.append(\n",
    "                {\n",
    "                    \"user_id\": user,\n",
    "                    \"rapid_transactions\": len(rapid),\n",
    "                    \"total_rapid_amount\": rapid[\"amount\"].sum(),\n",
    "                }\n",
    "            )\n",
    "\n",
    "if velocity_check:\n",
    "    velocity_df = (\n",
    "        pd.DataFrame(velocity_check)\n",
    "        .sort_values(\"rapid_transactions\", ascending=False)\n",
    "        .head(5)\n",
    "    )\n",
    "    print(\"⚡ Users with rapid transaction patterns:\")\n",
    "    print(velocity_df)\n",
    "else:\n",
    "    print(\"No rapid transaction patterns detected\")"
   ]
  },
  {
   "cell_type": "markdown",
   "metadata": {},
   "source": [
    "## Fraud Ring Detection"
   ]
  },
  {
   "cell_type": "code",
   "execution_count": 6,
   "metadata": {
    "execution": {
     "iopub.execute_input": "2025-08-20T23:44:32.861249Z",
     "iopub.status.busy": "2025-08-20T23:44:32.861144Z",
     "iopub.status.idle": "2025-08-20T23:44:32.865992Z",
     "shell.execute_reply": "2025-08-20T23:44:32.865715Z"
    }
   },
   "outputs": [
    {
     "name": "stdout",
     "output_type": "stream",
     "text": [
      "🕸️ Potential fraud rings detected:\n",
      "        merchant  connected_users  \\\n",
      "1    ATM_Foreign               12   \n",
      "0  Online_Casino                9   \n",
      "2  Wire_Transfer                7   \n",
      "\n",
      "                                              users  \n",
      "1  USER_018, USER_006, USER_057, USER_093, USER_038  \n",
      "0  USER_064, USER_023, USER_087, USER_050, USER_084  \n",
      "2  USER_081, USER_053, USER_069, USER_080, USER_062  \n"
     ]
    }
   ],
   "source": [
    "# Identify potential fraud rings (users sharing suspicious merchants)\n",
    "fraud_merchants = transactions_df[transactions_df[\"is_suspicious\"]][\"merchant\"].unique()\n",
    "fraud_connections = []\n",
    "\n",
    "for merchant in fraud_merchants:\n",
    "    users_at_merchant = transactions_df[transactions_df[\"merchant\"] == merchant][\n",
    "        \"user_id\"\n",
    "    ].unique()\n",
    "\n",
    "    if len(users_at_merchant) > 1:\n",
    "        fraud_connections.append(\n",
    "            {\n",
    "                \"merchant\": merchant,\n",
    "                \"connected_users\": len(users_at_merchant),\n",
    "                \"users\": \", \".join(users_at_merchant[:5]),  # Show first 5\n",
    "            }\n",
    "        )\n",
    "\n",
    "if fraud_connections:\n",
    "    connections_df = pd.DataFrame(fraud_connections).sort_values(\n",
    "        \"connected_users\", ascending=False\n",
    "    )\n",
    "    print(\"🕸️ Potential fraud rings detected:\")\n",
    "    print(connections_df)\n",
    "else:\n",
    "    print(\"No fraud rings detected\")"
   ]
  },
  {
   "cell_type": "markdown",
   "metadata": {},
   "source": [
    "## Risk Scoring"
   ]
  },
  {
   "cell_type": "code",
   "execution_count": 7,
   "metadata": {
    "execution": {
     "iopub.execute_input": "2025-08-20T23:44:32.868061Z",
     "iopub.status.busy": "2025-08-20T23:44:32.867957Z",
     "iopub.status.idle": "2025-08-20T23:44:32.908426Z",
     "shell.execute_reply": "2025-08-20T23:44:32.908061Z"
    }
   },
   "outputs": [
    {
     "name": "stdout",
     "output_type": "stream",
     "text": [
      "📊 User Risk Assessment (Top 10):\n",
      "     user_id  risk_score  suspicious_transactions  outliers  \\\n",
      "6   USER_081          90                        2         1   \n",
      "0   USER_087          60                        1         1   \n",
      "8   USER_023          60                        1         1   \n",
      "2   USER_018          60                        1         1   \n",
      "5   USER_062          60                        2         0   \n",
      "3   USER_053          60                        1         1   \n",
      "13  USER_098          60                        1         1   \n",
      "11  USER_080          60                        1         1   \n",
      "1   USER_064          30                        1         0   \n",
      "4   USER_006          30                        1         0   \n",
      "\n",
      "    high_value_transactions  \n",
      "6                         1  \n",
      "0                         1  \n",
      "8                         1  \n",
      "2                         1  \n",
      "5                         0  \n",
      "3                         1  \n",
      "13                        1  \n",
      "11                        1  \n",
      "1                         0  \n",
      "4                         0  \n",
      "\n",
      "✅ Fraud investigation complete! Analyzed 500 transactions\n"
     ]
    }
   ],
   "source": [
    "# Calculate comprehensive risk scores\n",
    "risk_scores = []\n",
    "\n",
    "for user in transactions_df[\"user_id\"].unique():\n",
    "    user_trans = transactions_df[transactions_df[\"user_id\"] == user]\n",
    "\n",
    "    # Risk factors\n",
    "    suspicious_count = user_trans[\"is_suspicious\"].sum()\n",
    "    outlier_count = (\n",
    "        user_trans[\"is_outlier\"].sum() if \"is_outlier\" in user_trans.columns else 0\n",
    "    )\n",
    "    high_amounts = (user_trans[\"amount\"] > 5000).sum()\n",
    "    unique_merchants = user_trans[\"merchant\"].nunique()\n",
    "\n",
    "    # Calculate risk score (0-100)\n",
    "    risk_score = min(\n",
    "        100,\n",
    "        suspicious_count * 30\n",
    "        + outlier_count * 20\n",
    "        + high_amounts * 10\n",
    "        + max(0, unique_merchants - 10) * 5,\n",
    "    )\n",
    "\n",
    "    if risk_score > 0:\n",
    "        risk_scores.append(\n",
    "            {\n",
    "                \"user_id\": user,\n",
    "                \"risk_score\": risk_score,\n",
    "                \"suspicious_transactions\": suspicious_count,\n",
    "                \"outliers\": outlier_count,\n",
    "                \"high_value_transactions\": high_amounts,\n",
    "            }\n",
    "        )\n",
    "\n",
    "if risk_scores:\n",
    "    risk_df = (\n",
    "        pd.DataFrame(risk_scores).sort_values(\"risk_score\", ascending=False).head(10)\n",
    "    )\n",
    "    print(\"📊 User Risk Assessment (Top 10):\")\n",
    "    print(risk_df)\n",
    "    print(\n",
    "        f\"\\n✅ Fraud investigation complete! Analyzed {len(transactions_df)} transactions\"\n",
    "    )\n",
    "else:\n",
    "    print(\"✅ No high-risk users identified\")"
   ]
  },
  {
   "cell_type": "markdown",
   "metadata": {},
   "source": [
    "## Summary\n",
    "\n",
    "### Investigation Results:\n",
    "- **Total Transactions**: 500 records analyzed\n",
    "- **Suspicious Patterns**: ~5% of transactions flagged\n",
    "- **Detection Methods**:\n",
    "  - Statistical anomaly detection (Z-scores)\n",
    "  - Velocity analysis (rapid transactions)\n",
    "  - Network analysis (shared merchants)\n",
    "  - Comprehensive risk scoring\n",
    "\n",
    "### Next Steps:\n",
    "1. Review high-risk users for manual investigation\n",
    "2. Set up real-time monitoring for flagged patterns\n",
    "3. Adjust detection thresholds based on false positive rates\n",
    "4. Implement automated blocking for confirmed fraud patterns"
   ]
  }
 ],
 "metadata": {
  "kernelspec": {
   "display_name": "Python 3",
   "language": "python",
   "name": "python3"
  },
  "language_info": {
   "codemirror_mode": {
    "name": "ipython",
    "version": 3
   },
   "file_extension": ".py",
   "mimetype": "text/x-python",
   "name": "python",
   "nbconvert_exporter": "python",
   "pygments_lexer": "ipython3",
   "version": "3.12.11"
  }
 },
 "nbformat": 4,
 "nbformat_minor": 4
}
