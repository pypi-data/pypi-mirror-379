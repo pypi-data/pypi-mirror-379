{
 "cells": [
  {
   "cell_type": "markdown",
   "metadata": {},
   "source": [
    "# Data Science with LouieAI Agents\n",
    "\n",
    "Quick data science workflow showcasing specialized agents for analysis and visualization."
   ]
  },
  {
   "cell_type": "code",
   "execution_count": 1,
   "metadata": {
    "execution": {
     "iopub.execute_input": "2025-08-20T23:56:55.929563Z",
     "iopub.status.busy": "2025-08-20T23:56:55.929159Z",
     "iopub.status.idle": "2025-08-20T23:56:56.186870Z",
     "shell.execute_reply": "2025-08-20T23:56:56.186496Z"
    }
   },
   "outputs": [
    {
     "name": "stdout",
     "output_type": "stream",
     "text": [
      "📊 Sample sales dataset created\n",
      "Shape: (100, 5)\n",
      "\n",
      "First 5 rows:\n"
     ]
    },
    {
     "data": {
      "text/html": [
       "<div>\n",
       "<style scoped>\n",
       "    .dataframe tbody tr th:only-of-type {\n",
       "        vertical-align: middle;\n",
       "    }\n",
       "\n",
       "    .dataframe tbody tr th {\n",
       "        vertical-align: top;\n",
       "    }\n",
       "\n",
       "    .dataframe thead th {\n",
       "        text-align: right;\n",
       "    }\n",
       "</style>\n",
       "<table border=\"1\" class=\"dataframe\">\n",
       "  <thead>\n",
       "    <tr style=\"text-align: right;\">\n",
       "      <th></th>\n",
       "      <th>date</th>\n",
       "      <th>product</th>\n",
       "      <th>region</th>\n",
       "      <th>revenue</th>\n",
       "      <th>units_sold</th>\n",
       "    </tr>\n",
       "  </thead>\n",
       "  <tbody>\n",
       "    <tr>\n",
       "      <th>0</th>\n",
       "      <td>2024-01-01</td>\n",
       "      <td>Gizmo</td>\n",
       "      <td>West</td>\n",
       "      <td>906.48</td>\n",
       "      <td>33</td>\n",
       "    </tr>\n",
       "    <tr>\n",
       "      <th>1</th>\n",
       "      <td>2024-01-02</td>\n",
       "      <td>Widget</td>\n",
       "      <td>West</td>\n",
       "      <td>386.20</td>\n",
       "      <td>48</td>\n",
       "    </tr>\n",
       "    <tr>\n",
       "      <th>2</th>\n",
       "      <td>2024-01-03</td>\n",
       "      <td>Gizmo</td>\n",
       "      <td>West</td>\n",
       "      <td>199.05</td>\n",
       "      <td>12</td>\n",
       "    </tr>\n",
       "    <tr>\n",
       "      <th>3</th>\n",
       "      <td>2024-01-04</td>\n",
       "      <td>Gizmo</td>\n",
       "      <td>East</td>\n",
       "      <td>305.14</td>\n",
       "      <td>22</td>\n",
       "    </tr>\n",
       "    <tr>\n",
       "      <th>4</th>\n",
       "      <td>2024-01-05</td>\n",
       "      <td>Widget</td>\n",
       "      <td>East</td>\n",
       "      <td>484.40</td>\n",
       "      <td>22</td>\n",
       "    </tr>\n",
       "  </tbody>\n",
       "</table>\n",
       "</div>"
      ],
      "text/plain": [
       "        date product region  revenue  units_sold\n",
       "0 2024-01-01   Gizmo   West   906.48          33\n",
       "1 2024-01-02  Widget   West   386.20          48\n",
       "2 2024-01-03   Gizmo   West   199.05          12\n",
       "3 2024-01-04   Gizmo   East   305.14          22\n",
       "4 2024-01-05  Widget   East   484.40          22"
      ]
     },
     "execution_count": 1,
     "metadata": {},
     "output_type": "execute_result"
    }
   ],
   "source": [
    "import numpy as np\n",
    "import pandas as pd\n",
    "\n",
    "# For demonstration, generate sample data\n",
    "np.random.seed(42)\n",
    "demo_data = pd.DataFrame(\n",
    "    {\n",
    "        \"date\": pd.date_range(\"2024-01-01\", periods=100, freq=\"D\"),\n",
    "        \"product\": np.random.choice([\"Widget\", \"Gadget\", \"Gizmo\"], 100),\n",
    "        \"region\": np.random.choice([\"North\", \"South\", \"East\", \"West\"], 100),\n",
    "        \"revenue\": np.random.uniform(100, 1000, 100).round(2),\n",
    "        \"units_sold\": np.random.randint(1, 50, 100),\n",
    "    }\n",
    ")\n",
    "\n",
    "print(\"📊 Sample sales dataset created\")\n",
    "print(f\"Shape: {demo_data.shape}\")\n",
    "print(\"\\nFirst 5 rows:\")\n",
    "demo_data.head()"
   ]
  },
  {
   "cell_type": "markdown",
   "metadata": {},
   "source": [
    "## Analysis with CodeAgent\n",
    "\n",
    "Now let's analyze the data patterns. If you uploaded your own data above, the agents will work with your data:"
   ]
  },
  {
   "cell_type": "code",
   "execution_count": 2,
   "metadata": {
    "execution": {
     "iopub.execute_input": "2025-08-20T23:56:56.212646Z",
     "iopub.status.busy": "2025-08-20T23:56:56.212394Z",
     "iopub.status.idle": "2025-08-20T23:56:56.221436Z",
     "shell.execute_reply": "2025-08-20T23:56:56.220710Z"
    }
   },
   "outputs": [
    {
     "name": "stdout",
     "output_type": "stream",
     "text": [
      "✅ Created sales data with 100 rows\n",
      "\n",
      "Sample of the data:\n"
     ]
    },
    {
     "data": {
      "text/html": [
       "<div>\n",
       "<style scoped>\n",
       "    .dataframe tbody tr th:only-of-type {\n",
       "        vertical-align: middle;\n",
       "    }\n",
       "\n",
       "    .dataframe tbody tr th {\n",
       "        vertical-align: top;\n",
       "    }\n",
       "\n",
       "    .dataframe thead th {\n",
       "        text-align: right;\n",
       "    }\n",
       "</style>\n",
       "<table border=\"1\" class=\"dataframe\">\n",
       "  <thead>\n",
       "    <tr style=\"text-align: right;\">\n",
       "      <th></th>\n",
       "      <th>date</th>\n",
       "      <th>product</th>\n",
       "      <th>region</th>\n",
       "      <th>revenue</th>\n",
       "      <th>units_sold</th>\n",
       "    </tr>\n",
       "  </thead>\n",
       "  <tbody>\n",
       "    <tr>\n",
       "      <th>0</th>\n",
       "      <td>2024-01-01</td>\n",
       "      <td>Widget</td>\n",
       "      <td>North</td>\n",
       "      <td>726.55</td>\n",
       "      <td>42</td>\n",
       "    </tr>\n",
       "    <tr>\n",
       "      <th>1</th>\n",
       "      <td>2024-01-02</td>\n",
       "      <td>Widget</td>\n",
       "      <td>East</td>\n",
       "      <td>550.32</td>\n",
       "      <td>13</td>\n",
       "    </tr>\n",
       "    <tr>\n",
       "      <th>2</th>\n",
       "      <td>2024-01-03</td>\n",
       "      <td>Widget</td>\n",
       "      <td>East</td>\n",
       "      <td>744.46</td>\n",
       "      <td>9</td>\n",
       "    </tr>\n",
       "    <tr>\n",
       "      <th>3</th>\n",
       "      <td>2024-01-04</td>\n",
       "      <td>Gizmo</td>\n",
       "      <td>North</td>\n",
       "      <td>573.36</td>\n",
       "      <td>1</td>\n",
       "    </tr>\n",
       "    <tr>\n",
       "      <th>4</th>\n",
       "      <td>2024-01-05</td>\n",
       "      <td>Gizmo</td>\n",
       "      <td>West</td>\n",
       "      <td>101.26</td>\n",
       "      <td>31</td>\n",
       "    </tr>\n",
       "  </tbody>\n",
       "</table>\n",
       "</div>"
      ],
      "text/plain": [
       "        date product region  revenue  units_sold\n",
       "0 2024-01-01  Widget  North   726.55          42\n",
       "1 2024-01-02  Widget   East   550.32          13\n",
       "2 2024-01-03  Widget   East   744.46           9\n",
       "3 2024-01-04   Gizmo  North   573.36           1\n",
       "4 2024-01-05   Gizmo   West   101.26          31"
      ]
     },
     "execution_count": 2,
     "metadata": {},
     "output_type": "execute_result"
    }
   ],
   "source": [
    "# Generate larger dataset with patterns\n",
    "np.random.seed(100)\n",
    "sales_data = pd.DataFrame(\n",
    "    {\n",
    "        \"date\": pd.date_range(\"2024-01-01\", periods=100, freq=\"D\"),\n",
    "        \"product\": np.random.choice([\"Widget\", \"Gadget\", \"Gizmo\"], 100),\n",
    "        \"region\": np.random.choice([\"North\", \"South\", \"East\", \"West\"], 100),\n",
    "        \"revenue\": np.random.uniform(100, 1000, 100).round(2),\n",
    "        \"units_sold\": np.random.randint(1, 50, 100),\n",
    "    }\n",
    ")\n",
    "\n",
    "print(\"✅ Created sales data with 100 rows\")\n",
    "print(\"\\nSample of the data:\")\n",
    "sales_data.head()"
   ]
  },
  {
   "cell_type": "markdown",
   "metadata": {},
   "source": [
    "## Analysis with CodeAgent\n",
    "\n",
    "Let's analyze the data patterns:"
   ]
  },
  {
   "cell_type": "code",
   "execution_count": 3,
   "metadata": {
    "execution": {
     "iopub.execute_input": "2025-08-20T23:56:56.223119Z",
     "iopub.status.busy": "2025-08-20T23:56:56.223016Z",
     "iopub.status.idle": "2025-08-20T23:56:56.228991Z",
     "shell.execute_reply": "2025-08-20T23:56:56.228700Z"
    }
   },
   "outputs": [
    {
     "name": "stdout",
     "output_type": "stream",
     "text": [
      "📈 Revenue Statistics by Region:\n",
      "        revenue_count  revenue_sum  revenue_mean  revenue_std  units_sold_sum  \\\n",
      "region                                                                          \n",
      "East               30     17259.35        575.31       297.01             706   \n",
      "North              25     14520.83        580.83       195.50             603   \n",
      "South              26     13039.49        501.52       238.95             603   \n",
      "West               19     11945.79        628.73       269.07             509   \n",
      "\n",
      "        units_sold_mean  \n",
      "region                   \n",
      "East              23.53  \n",
      "North             24.12  \n",
      "South             23.19  \n",
      "West              26.79  \n"
     ]
    }
   ],
   "source": [
    "# Statistical analysis - Calculate revenue statistics by region\n",
    "summary_stats = (\n",
    "    sales_data.groupby(\"region\")\n",
    "    .agg({\"revenue\": [\"count\", \"sum\", \"mean\", \"std\"], \"units_sold\": [\"sum\", \"mean\"]})\n",
    "    .round(2)\n",
    ")\n",
    "\n",
    "# Flatten column names\n",
    "summary_stats.columns = [\"_\".join(col).strip() for col in summary_stats.columns.values]\n",
    "\n",
    "print(\"📈 Revenue Statistics by Region:\")\n",
    "print(summary_stats)"
   ]
  },
  {
   "cell_type": "markdown",
   "metadata": {},
   "source": [
    "## Visualization with PerspectiveAgent"
   ]
  },
  {
   "cell_type": "code",
   "execution_count": 4,
   "metadata": {
    "execution": {
     "iopub.execute_input": "2025-08-20T23:56:56.230129Z",
     "iopub.status.busy": "2025-08-20T23:56:56.230025Z",
     "iopub.status.idle": "2025-08-20T23:56:56.232748Z",
     "shell.execute_reply": "2025-08-20T23:56:56.232474Z"
    }
   },
   "outputs": [
    {
     "name": "stdout",
     "output_type": "stream",
     "text": [
      "📊 Revenue by Region (for visualization):\n",
      "East       █████████████████ $17,259.35\n",
      "North      ██████████████ $14,520.83\n",
      "South      █████████████ $13,039.49\n",
      "West       ███████████ $11,945.79\n",
      "\n",
      "💡 In a real environment, this would render as an interactive chart\n"
     ]
    }
   ],
   "source": [
    "# Create visualization data - revenue by region\n",
    "viz_data = sales_data.groupby(\"region\")[\"revenue\"].sum().sort_values(ascending=False)\n",
    "\n",
    "print(\"📊 Revenue by Region (for visualization):\")\n",
    "for region, revenue in viz_data.items():\n",
    "    bar_length = int(revenue / 1000)  # Scale for display\n",
    "    print(f\"{region:10} {'█' * bar_length} ${revenue:,.2f}\")\n",
    "\n",
    "print(\"\\n💡 In a real environment, this would render as an interactive chart\")"
   ]
  },
  {
   "cell_type": "markdown",
   "metadata": {},
   "source": [
    "## Graph Analysis\n",
    "\n",
    "Build relationships for deeper insights:"
   ]
  },
  {
   "cell_type": "code",
   "execution_count": 5,
   "metadata": {
    "execution": {
     "iopub.execute_input": "2025-08-20T23:56:56.233813Z",
     "iopub.status.busy": "2025-08-20T23:56:56.233712Z",
     "iopub.status.idle": "2025-08-20T23:56:56.240140Z",
     "shell.execute_reply": "2025-08-20T23:56:56.239848Z"
    }
   },
   "outputs": [
    {
     "name": "stdout",
     "output_type": "stream",
     "text": [
      "🔗 Top Product-Region Connections:\n",
      "product region  revenue  units_sold\n",
      " Widget   East  6902.77         316\n",
      "  Gizmo   East  6125.41         220\n",
      "  Gizmo  South  5843.43         319\n",
      "  Gizmo  North  5823.47         176\n",
      " Gadget   West  5347.37         160\n",
      "\n",
      "📈 These relationships show the strongest sales patterns\n"
     ]
    }
   ],
   "source": [
    "# Build product-region relationship analysis\n",
    "product_region = (\n",
    "    sales_data.groupby([\"product\", \"region\"])\n",
    "    .agg({\"revenue\": \"sum\", \"units_sold\": \"sum\"})\n",
    "    .reset_index()\n",
    ")\n",
    "\n",
    "# Find top connections\n",
    "top_connections = product_region.nlargest(5, \"revenue\")\n",
    "\n",
    "print(\"🔗 Top Product-Region Connections:\")\n",
    "print(top_connections.to_string(index=False))\n",
    "print(\"\\n📈 These relationships show the strongest sales patterns\")"
   ]
  },
  {
   "cell_type": "markdown",
   "metadata": {},
   "source": [
    "## Agent Composition\n",
    "\n",
    "Combine multiple agents for complex workflows:"
   ]
  },
  {
   "cell_type": "code",
   "execution_count": 6,
   "metadata": {
    "execution": {
     "iopub.execute_input": "2025-08-20T23:56:56.241156Z",
     "iopub.status.busy": "2025-08-20T23:56:56.241054Z",
     "iopub.status.idle": "2025-08-20T23:56:56.246959Z",
     "shell.execute_reply": "2025-08-20T23:56:56.246681Z"
    }
   },
   "outputs": [
    {
     "name": "stdout",
     "output_type": "stream",
     "text": [
      "🏆 Top 3 Products by Revenue:\n",
      "  Gizmo: $21,669.48\n",
      "  Widget: $17,601.77\n",
      "  Gadget: $17,494.21\n",
      "\n",
      "📈 Revenue Forecast (Next Month):\n",
      "  product  current_avg  forecast_next_month\n",
      "0   Gizmo       575.98               604.77\n",
      "1  Widget       544.16               571.37\n",
      "2  Gadget       624.79               656.03\n",
      "\n",
      "✅ Complete data science workflow using multiple analysis steps!\n"
     ]
    }
   ],
   "source": [
    "# Multi-step analysis workflow\n",
    "# Step 1: Find top products\n",
    "top_products = sales_data.groupby(\"product\")[\"revenue\"].sum().nlargest(3)\n",
    "print(\"🏆 Top 3 Products by Revenue:\")\n",
    "for product, revenue in top_products.items():\n",
    "    print(f\"  {product}: ${revenue:,.2f}\")\n",
    "\n",
    "# Step 2: Create forecast (simplified linear trend)\n",
    "forecast_data = []\n",
    "for product in top_products.index:\n",
    "    product_data = sales_data[sales_data[\"product\"] == product].copy()\n",
    "    product_data = product_data.sort_values(\"date\")\n",
    "\n",
    "    # Simple moving average forecast\n",
    "    last_30_days = product_data.tail(30)[\"revenue\"].mean()\n",
    "    forecast_data.append(\n",
    "        {\n",
    "            \"product\": product,\n",
    "            \"current_avg\": last_30_days,\n",
    "            \"forecast_next_month\": last_30_days * 1.05,  # 5% growth assumption\n",
    "        }\n",
    "    )\n",
    "\n",
    "forecast_df = pd.DataFrame(forecast_data)\n",
    "print(\"\\n📈 Revenue Forecast (Next Month):\")\n",
    "print(forecast_df.round(2))\n",
    "\n",
    "print(\"\\n✅ Complete data science workflow using multiple analysis steps!\")"
   ]
  }
 ],
 "metadata": {
  "kernelspec": {
   "display_name": "Python 3",
   "language": "python",
   "name": "python3"
  },
  "language_info": {
   "codemirror_mode": {
    "name": "ipython",
    "version": 3
   },
   "file_extension": ".py",
   "mimetype": "text/x-python",
   "name": "python",
   "nbconvert_exporter": "python",
   "pygments_lexer": "ipython3",
   "version": "3.12.11"
  }
 },
 "nbformat": 4,
 "nbformat_minor": 4
}
