{
 "cells": [
  {
   "cell_type": "markdown",
   "id": "1e9db8de",
   "metadata": {},
   "source": [
    "# Getting Started with LouieAI Notebook Interface\n",
    "\n",
    "This notebook demonstrates the basic usage of the LouieAI notebook-friendly API (`lui`).\n",
    "\n",
    "## Authentication Requirements\n",
    "\n",
    "LouieAI uses PyGraphistry for authentication. Before running this notebook, you need:\n",
    "\n",
    "1. **PyGraphistry Account**: Sign up for free at [hub.graphistry.com](https://hub.graphistry.com)\n",
    "2. **Set Credentials**: Use one of these methods:\n",
    "\n",
    "   ```bash\n",
    "   # Option 1: Environment variables (recommended for notebooks)\n",
    "   export GRAPHISTRY_USERNAME=\"your_username\"\n",
    "   export GRAPHISTRY_PASSWORD=\"your_password\"\n",
    "   ```\n",
    "   \n",
    "   ```python\n",
    "   # Option 2: Authenticate in code\n",
    "   import graphistry\n",
    "   graphistry.register(api=3, server=\"hub.graphistry.com\", \n",
    "                      username=\"your_username\", password=\"your_password\")\n",
    "   ```\n",
    "\n",
    "## Setup\n",
    "\n",
    "First, make sure you have LouieAI installed and your credentials configured."
   ]
  },
  {
   "cell_type": "code",
   "execution_count": 1,
   "id": "fdb0cef5",
   "metadata": {
    "execution": {
     "iopub.execute_input": "2025-08-21T16:18:57.129857Z",
     "iopub.status.busy": "2025-08-21T16:18:57.129501Z",
     "iopub.status.idle": "2025-08-21T16:18:58.185009Z",
     "shell.execute_reply": "2025-08-21T16:18:58.184644Z"
    }
   },
   "outputs": [
    {
     "name": "stdout",
     "output_type": "stream",
     "text": [
      "✅ Authenticated with Graphistry\n",
      "✅ Connected to: http://localhost:8000\n"
     ]
    },
    {
     "data": {
      "text/html": [
       "<div style='border: 1px solid #ddd; padding: 10px; border-radius: 5px; margin-bottom: 10px;'>\n",
       "<h4 style='margin-top: 0;'>🤖 LouieAI Session</h4>\n",
       "<hr style='margin: 10px 0;'>\n",
       "<p style='margin: 5px 0; font-size: 0.9em;'>⚪ <b>Session:</b> Not started (use <code>lui('your query')</code>)</p>\n",
       "<p style='margin: 5px 0; font-size: 0.9em;'>📚 <b>History:</b> 0 responses\n",
       "</p>\n",
       "<p style='margin: 5px 0; font-size: 0.9em;'>🔍 <b>Traces:</b> Disabled (use <code>lui.traces = True</code> to enable)</p>\n",
       "<details><summary><b>Quick Help</b> (click to expand)</summary>\n",
       "<pre style='margin: 10px 0; padding: 10px; background: #f5f5f5;'>\n",
       "# Make a query\n",
       "\n",
       "lui('Show me sales data from last week')\n",
       "\n",
       "\n",
       "# Control visibility\n",
       "\n",
       "lui('query', share_mode='Private')       # Default: only you\n",
       "\n",
       "lui('query', share_mode='Organization')  # Share within org\n",
       "\n",
       "lui('query', share_mode='Public')        # Share publicly\n",
       "\n",
       "\n",
       "# Access results\n",
       "\n",
       "df = lui.df          # Latest dataframe\n",
       "\n",
       "text = lui.text      # Latest text response\n",
       "\n",
       "all_dfs = lui.dfs    # All dataframes\n",
       "\n",
       "\n",
       "# History\n",
       "\n",
       "lui[-1].df           # Previous response's dataframe\n",
       "\n",
       "\n",
       "# Traces (AI reasoning)\n",
       "\n",
       "lui.traces = True    # Enable for session\n",
       "\n",
       "lui('query', traces=True)  # Enable for one query\n",
       "</pre>\n",
       "</details>\n",
       "</div>"
      ],
      "text/plain": [
       "<LouieAI Notebook Interface | Session: Not started | History: 0 responses | Traces: Disabled>"
      ]
     },
     "execution_count": 1,
     "metadata": {},
     "output_type": "execute_result"
    }
   ],
   "source": [
    "import os\n",
    "\n",
    "import graphistry\n",
    "\n",
    "from louieai import louie\n",
    "\n",
    "# Authenticate with credentials from environment variables\n",
    "# Set these before running:\n",
    "# export GRAPHISTRY_USERNAME=\"your_username\"\n",
    "# export GRAPHISTRY_PASSWORD=\"your_password\"\n",
    "# export GRAPHISTRY_SERVER=\"your_server\"\n",
    "# export LOUIE_SERVER=\"your_louie_server\"\n",
    "\n",
    "g = graphistry.register(\n",
    "    api=3,\n",
    "    server=os.environ.get(\"GRAPHISTRY_SERVER\", \"hub.graphistry.com\"),\n",
    "    username=os.environ.get(\"GRAPHISTRY_USERNAME\"),\n",
    "    password=os.environ.get(\"GRAPHISTRY_PASSWORD\"),\n",
    ")\n",
    "print(\"✅ Authenticated with Graphistry\")\n",
    "\n",
    "# Create the Louie interface\n",
    "LOUIE_SERVER = os.environ.get(\"LOUIE_SERVER\", \"https://den.louie.ai\")\n",
    "lui = louie(g, server_url=LOUIE_SERVER)\n",
    "print(f\"✅ Connected to: {LOUIE_SERVER}\")\n",
    "\n",
    "# Display status\n",
    "lui"
   ]
  },
  {
   "cell_type": "markdown",
   "id": "feb998d0",
   "metadata": {},
   "source": [
    "## Basic Queries\n",
    "\n",
    "The `lui` interface accepts natural language queries and returns AI-generated responses. Let's verify it works with a simple arithmetic question:"
   ]
  },
  {
   "cell_type": "code",
   "execution_count": 2,
   "id": "2b2e6f64",
   "metadata": {
    "execution": {
     "iopub.execute_input": "2025-08-21T16:18:58.186323Z",
     "iopub.status.busy": "2025-08-21T16:18:58.186154Z",
     "iopub.status.idle": "2025-08-21T16:19:31.890402Z",
     "shell.execute_reply": "2025-08-21T16:19:31.889341Z"
    }
   },
   "outputs": [
    {
     "data": {
      "text/html": [
       "<div style='border: 1px solid #ddd; padding: 15px; border-radius: 5px;'><h4 style='margin-top: 0;'>🤖 LouieAI Response</h4><div style='font-size: 0.8em; color: #666; margin-bottom: 10px;'>Thread: <code>D_NX8yJBHIrMpAHHSY8pTw</code> | Time: 33.7s</div><div style='margin-top: 10px;'><div id='B_wqf5n8vJ'>The question is a simple arithmetic problem asking for the sum of 2 and 2.</div></div></div>"
      ],
      "text/plain": [
       "<IPython.core.display.HTML object>"
      ]
     },
     "metadata": {},
     "output_type": "display_data"
    },
    {
     "name": "stdout",
     "output_type": "stream",
     "text": [
      "Answer: The question is a simple arithmetic problem asking for the sum of 2 and 2.\n"
     ]
    }
   ],
   "source": [
    "# Ask a simple arithmetic question\n",
    "lui(\"2 + 2 = ?\")\n",
    "print(f\"Answer: {lui.text}\")"
   ]
  },
  {
   "cell_type": "code",
   "execution_count": 3,
   "id": "ilgtv6udru",
   "metadata": {
    "execution": {
     "iopub.execute_input": "2025-08-21T16:19:31.893661Z",
     "iopub.status.busy": "2025-08-21T16:19:31.893313Z",
     "iopub.status.idle": "2025-08-21T16:19:31.897260Z",
     "shell.execute_reply": "2025-08-21T16:19:31.896716Z"
    }
   },
   "outputs": [],
   "source": [
    "# Validation: check the response\n",
    "if \"4\" in str(lui.text):\n",
    "    print(\"✅ Basic query working correctly!\")"
   ]
  },
  {
   "cell_type": "markdown",
   "id": "8191d818",
   "metadata": {},
   "source": [
    "## Working with Data\n",
    "\n",
    "LouieAI can generate and analyze data. Let's create a sample dataset:"
   ]
  },
  {
   "cell_type": "code",
   "execution_count": 4,
   "id": "480a9a58",
   "metadata": {
    "execution": {
     "iopub.execute_input": "2025-08-21T16:19:31.898205Z",
     "iopub.status.busy": "2025-08-21T16:19:31.898092Z",
     "iopub.status.idle": "2025-08-21T16:19:35.591727Z",
     "shell.execute_reply": "2025-08-21T16:19:35.591379Z"
    }
   },
   "outputs": [
    {
     "name": "stdout",
     "output_type": "stream",
     "text": [
      "Text response: DataFrame with 3 rows and 3 columns. Columns: name, age, city\n",
      "DataFrame ID: B_KT2IcA3d\n",
      "\n",
      "DataFrame returned:\n"
     ]
    },
    {
     "data": {
      "text/html": [
       "<div>\n",
       "<style scoped>\n",
       "    .dataframe tbody tr th:only-of-type {\n",
       "        vertical-align: middle;\n",
       "    }\n",
       "\n",
       "    .dataframe tbody tr th {\n",
       "        vertical-align: top;\n",
       "    }\n",
       "\n",
       "    .dataframe thead th {\n",
       "        text-align: right;\n",
       "    }\n",
       "</style>\n",
       "<table border=\"1\" class=\"dataframe\">\n",
       "  <thead>\n",
       "    <tr style=\"text-align: right;\">\n",
       "      <th></th>\n",
       "      <th>name</th>\n",
       "      <th>age</th>\n",
       "      <th>city</th>\n",
       "    </tr>\n",
       "  </thead>\n",
       "  <tbody>\n",
       "    <tr>\n",
       "      <th>0</th>\n",
       "      <td>Alice</td>\n",
       "      <td>25</td>\n",
       "      <td>New York</td>\n",
       "    </tr>\n",
       "    <tr>\n",
       "      <th>1</th>\n",
       "      <td>Bob</td>\n",
       "      <td>30</td>\n",
       "      <td>Los Angeles</td>\n",
       "    </tr>\n",
       "    <tr>\n",
       "      <th>2</th>\n",
       "      <td>Charlie</td>\n",
       "      <td>35</td>\n",
       "      <td>Chicago</td>\n",
       "    </tr>\n",
       "  </tbody>\n",
       "</table>\n",
       "</div>"
      ],
      "text/plain": [
       "      name  age         city\n",
       "0    Alice   25     New York\n",
       "1      Bob   30  Los Angeles\n",
       "2  Charlie   35      Chicago"
      ]
     },
     "metadata": {},
     "output_type": "display_data"
    }
   ],
   "source": [
    "# Create a sample DataFrame\n",
    "import pandas as pd\n",
    "from IPython.display import display\n",
    "\n",
    "sample_df = pd.DataFrame(\n",
    "    {\n",
    "        \"name\": [\"Alice\", \"Bob\", \"Charlie\"],\n",
    "        \"age\": [25, 30, 35],\n",
    "        \"city\": [\"New York\", \"Los Angeles\", \"Chicago\"],\n",
    "    }\n",
    ")\n",
    "\n",
    "# Upload to LouieAI for analysis\n",
    "lui(\"Describe this data\", sample_df)\n",
    "\n",
    "# Display the response\n",
    "print(f\"Text response: {lui.text}\")\n",
    "print(f\"DataFrame ID: {lui.df_id}\")\n",
    "\n",
    "# Show the DataFrame using native display\n",
    "if lui.df is not None:\n",
    "    print(\"\\nDataFrame returned:\")\n",
    "    display(lui.df)  # Native Jupyter display"
   ]
  },
  {
   "cell_type": "markdown",
   "id": "ba207adc",
   "metadata": {},
   "source": [
    "## Analyzing Data  \n",
    "\n",
    "Once you have data, you can ask LouieAI to perform calculations and analysis using its code agent:"
   ]
  },
  {
   "cell_type": "code",
   "execution_count": 5,
   "id": "c178e715",
   "metadata": {
    "execution": {
     "iopub.execute_input": "2025-08-21T16:19:35.592947Z",
     "iopub.status.busy": "2025-08-21T16:19:35.592842Z",
     "iopub.status.idle": "2025-08-21T16:19:39.197263Z",
     "shell.execute_reply": "2025-08-21T16:19:39.196870Z"
    }
   },
   "outputs": [
    {
     "name": "stdout",
     "output_type": "stream",
     "text": [
      "📊 Age Analysis:\n",
      "LouieAI response: The average age is 30.0\n"
     ]
    }
   ],
   "source": [
    "# Analyze the DataFrame - calculate average age using LouieAI\n",
    "# Note: The server should calculate the average (30) when using the 'average' keyword\n",
    "if lui.df is not None:\n",
    "    # Ask LouieAI to calculate the average age - use 'average' keyword\n",
    "    lui(\"Calculate the average of the age column\", lui.df)\n",
    "\n",
    "    print(\"📊 Age Analysis:\")\n",
    "    print(f\"LouieAI response: {lui.text}\")\n",
    "else:\n",
    "    print(\"No DataFrame available for analysis\")"
   ]
  },
  {
   "cell_type": "code",
   "execution_count": 6,
   "id": "rycs9xoji0a",
   "metadata": {
    "execution": {
     "iopub.execute_input": "2025-08-21T16:19:39.198494Z",
     "iopub.status.busy": "2025-08-21T16:19:39.198371Z",
     "iopub.status.idle": "2025-08-21T16:19:39.200573Z",
     "shell.execute_reply": "2025-08-21T16:19:39.200304Z"
    }
   },
   "outputs": [
    {
     "name": "stdout",
     "output_type": "stream",
     "text": [
      "✅ Average age calculation completed!\n"
     ]
    }
   ],
   "source": [
    "# Validation: Check if the age calculation was performed\n",
    "if lui.text and \"30\" in str(lui.text):\n",
    "    print(\"✅ Average age calculation completed!\")\n",
    "else:\n",
    "    print(\"Age analysis in progress...\")"
   ]
  },
  {
   "cell_type": "markdown",
   "id": "9d497178",
   "metadata": {},
   "source": [
    "## Beyond DataFrames\n",
    "\n",
    "LouieAI can also analyze images, PDFs, Excel files, and more!\n",
    "\n",
    "For comprehensive examples of uploading different file types, see the **[Data Upload Guide](02-data-upload.ipynb)**:\n",
    "- Image analysis (PNG, JPEG, etc.)\n",
    "- Document processing (PDF, Word, PowerPoint)\n",
    "- Excel file handling\n",
    "- Advanced upload options"
   ]
  },
  {
   "cell_type": "code",
   "execution_count": 7,
   "id": "aeteko0now4",
   "metadata": {
    "execution": {
     "iopub.execute_input": "2025-08-21T16:19:39.201602Z",
     "iopub.status.busy": "2025-08-21T16:19:39.201481Z",
     "iopub.status.idle": "2025-08-21T16:19:42.834847Z",
     "shell.execute_reply": "2025-08-21T16:19:42.834503Z"
    }
   },
   "outputs": [
    {
     "name": "stdout",
     "output_type": "stream",
     "text": [
      "Product inventory:\n",
      "    product  price  quantity\n",
      "0  Widget A  10.99       100\n",
      "1  Widget B  15.49        75\n",
      "2  Widget C   8.99       150\n"
     ]
    },
    {
     "name": "stdout",
     "output_type": "stream",
     "text": [
      "\n",
      "📤 LouieAI Response: The total calculated value is $3609.25\n",
      "\n",
      "DataFrame ID: B_Ch4dXSk8\n"
     ]
    }
   ],
   "source": [
    "# Create a products DataFrame for inventory analysis\n",
    "import pandas as pd\n",
    "\n",
    "products_df = pd.DataFrame(\n",
    "    {\n",
    "        \"product\": [\"Widget A\", \"Widget B\", \"Widget C\"],\n",
    "        \"price\": [10.99, 15.49, 8.99],\n",
    "        \"quantity\": [100, 75, 150],\n",
    "    }\n",
    ")\n",
    "\n",
    "print(\"Product inventory:\")\n",
    "print(products_df)\n",
    "\n",
    "# Upload and analyze with LouieAI\n",
    "# Server should calculate total as price * quantity\n",
    "lui(\n",
    "    \"Calculate the total inventory value (sum of price * quantity for each product)\",\n",
    "    products_df,\n",
    ")\n",
    "\n",
    "# Show the response\n",
    "print(f\"\\n📤 LouieAI Response: {lui.text}\")\n",
    "\n",
    "# Show the DataFrame that was uploaded\n",
    "if lui.df is not None:\n",
    "    print(f\"\\nDataFrame ID: {lui.df_id}\")"
   ]
  },
  {
   "cell_type": "code",
   "execution_count": 8,
   "id": "olxwul23dwq",
   "metadata": {
    "execution": {
     "iopub.execute_input": "2025-08-21T16:19:42.836093Z",
     "iopub.status.busy": "2025-08-21T16:19:42.835951Z",
     "iopub.status.idle": "2025-08-21T16:19:42.839109Z",
     "shell.execute_reply": "2025-08-21T16:19:42.838840Z"
    }
   },
   "outputs": [
    {
     "name": "stdout",
     "output_type": "stream",
     "text": [
      "✅ Inventory calculation received from LouieAI!\n"
     ]
    }
   ],
   "source": [
    "# Validation: Check if LouieAI returned the inventory calculation\n",
    "if lui.df is not None:\n",
    "    print(\"✅ Inventory calculation received from LouieAI!\")\n",
    "else:\n",
    "    print(\"Waiting for LouieAI response...\")"
   ]
  },
  {
   "cell_type": "markdown",
   "id": "1e27f7f0",
   "metadata": {},
   "source": [
    "## Uploading Your Own Data\n",
    "\n",
    "LouieAI can analyze DataFrames you create or load from files:"
   ]
  },
  {
   "cell_type": "code",
   "execution_count": 9,
   "id": "df0bd045",
   "metadata": {
    "execution": {
     "iopub.execute_input": "2025-08-21T16:19:42.840271Z",
     "iopub.status.busy": "2025-08-21T16:19:42.840153Z",
     "iopub.status.idle": "2025-08-21T16:19:42.848304Z",
     "shell.execute_reply": "2025-08-21T16:19:42.848067Z"
    }
   },
   "outputs": [
    {
     "name": "stdout",
     "output_type": "stream",
     "text": [
      "Sample of your data:\n"
     ]
    },
    {
     "data": {
      "text/html": [
       "<div>\n",
       "<style scoped>\n",
       "    .dataframe tbody tr th:only-of-type {\n",
       "        vertical-align: middle;\n",
       "    }\n",
       "\n",
       "    .dataframe tbody tr th {\n",
       "        vertical-align: top;\n",
       "    }\n",
       "\n",
       "    .dataframe thead th {\n",
       "        text-align: right;\n",
       "    }\n",
       "</style>\n",
       "<table border=\"1\" class=\"dataframe\">\n",
       "  <thead>\n",
       "    <tr style=\"text-align: right;\">\n",
       "      <th></th>\n",
       "      <th>date</th>\n",
       "      <th>sales</th>\n",
       "      <th>visitors</th>\n",
       "      <th>region</th>\n",
       "    </tr>\n",
       "  </thead>\n",
       "  <tbody>\n",
       "    <tr>\n",
       "      <th>0</th>\n",
       "      <td>2024-01-01</td>\n",
       "      <td>99.094253</td>\n",
       "      <td>104</td>\n",
       "      <td>East</td>\n",
       "    </tr>\n",
       "    <tr>\n",
       "      <th>1</th>\n",
       "      <td>2024-01-02</td>\n",
       "      <td>98.690385</td>\n",
       "      <td>80</td>\n",
       "      <td>East</td>\n",
       "    </tr>\n",
       "    <tr>\n",
       "      <th>2</th>\n",
       "      <td>2024-01-03</td>\n",
       "      <td>101.031939</td>\n",
       "      <td>85</td>\n",
       "      <td>South</td>\n",
       "    </tr>\n",
       "    <tr>\n",
       "      <th>3</th>\n",
       "      <td>2024-01-04</td>\n",
       "      <td>100.059336</td>\n",
       "      <td>184</td>\n",
       "      <td>North</td>\n",
       "    </tr>\n",
       "    <tr>\n",
       "      <th>4</th>\n",
       "      <td>2024-01-05</td>\n",
       "      <td>101.043540</td>\n",
       "      <td>183</td>\n",
       "      <td>South</td>\n",
       "    </tr>\n",
       "  </tbody>\n",
       "</table>\n",
       "</div>"
      ],
      "text/plain": [
       "        date       sales  visitors region\n",
       "0 2024-01-01   99.094253       104   East\n",
       "1 2024-01-02   98.690385        80   East\n",
       "2 2024-01-03  101.031939        85  South\n",
       "3 2024-01-04  100.059336       184  North\n",
       "4 2024-01-05  101.043540       183  South"
      ]
     },
     "execution_count": 9,
     "metadata": {},
     "output_type": "execute_result"
    }
   ],
   "source": [
    "import numpy as np\n",
    "import pandas as pd\n",
    "\n",
    "# Create your own DataFrame (or load from CSV/Excel)\n",
    "my_data = pd.DataFrame(\n",
    "    {\n",
    "        \"date\": pd.date_range(\"2024-01-01\", periods=30, freq=\"D\"),\n",
    "        \"sales\": np.random.randn(30).cumsum() + 100,\n",
    "        \"visitors\": np.random.randint(50, 200, 30),\n",
    "        \"region\": np.random.choice([\"North\", \"South\", \"East\", \"West\"], 30),\n",
    "    }\n",
    ")\n",
    "\n",
    "print(\"Sample of your data:\")\n",
    "my_data.head()"
   ]
  },
  {
   "cell_type": "code",
   "execution_count": 10,
   "id": "3bed216e",
   "metadata": {
    "execution": {
     "iopub.execute_input": "2025-08-21T16:19:42.849179Z",
     "iopub.status.busy": "2025-08-21T16:19:42.849087Z",
     "iopub.status.idle": "2025-08-21T16:19:50.242628Z",
     "shell.execute_reply": "2025-08-21T16:19:50.242185Z"
    }
   },
   "outputs": [
    {
     "name": "stdout",
     "output_type": "stream",
     "text": [
      "📊 Sales Analysis:\n",
      "LouieAI response: The total sum of sales is 3060.75\n"
     ]
    },
    {
     "name": "stdout",
     "output_type": "stream",
     "text": [
      "\n",
      "📊 Region Analysis:\n",
      "LouieAI response: There are 4 unique values in the region column\n"
     ]
    }
   ],
   "source": [
    "# Upload and analyze your DataFrame with LouieAI\n",
    "lui(\"Calculate the total sum of the sales column\", my_data)\n",
    "\n",
    "print(\"📊 Sales Analysis:\")\n",
    "print(f\"LouieAI response: {lui.text}\")\n",
    "\n",
    "# Ask a follow-up question - use 'unique' keyword for unique count\n",
    "lui(\"Count unique values in the region column\", my_data)\n",
    "\n",
    "print(\"\\n📊 Region Analysis:\")\n",
    "print(f\"LouieAI response: {lui.text}\")"
   ]
  },
  {
   "cell_type": "code",
   "execution_count": 11,
   "id": "hvqefwh8ju9",
   "metadata": {
    "execution": {
     "iopub.execute_input": "2025-08-21T16:19:50.243942Z",
     "iopub.status.busy": "2025-08-21T16:19:50.243815Z",
     "iopub.status.idle": "2025-08-21T16:19:50.247417Z",
     "shell.execute_reply": "2025-08-21T16:19:50.247145Z"
    }
   },
   "outputs": [
    {
     "name": "stdout",
     "output_type": "stream",
     "text": [
      "✅ Region analysis received from LouieAI!\n"
     ]
    }
   ],
   "source": [
    "# Validation: Check that LouieAI processed the regions query\n",
    "if lui.text:\n",
    "    print(\"✅ Region analysis received from LouieAI!\")\n",
    "else:\n",
    "    print(\"Waiting for LouieAI response...\")"
   ]
  },
  {
   "cell_type": "markdown",
   "id": "15885e22",
   "metadata": {},
   "source": [
    "## Session History\n",
    "\n",
    "The `lui` interface maintains a history of your interactions:"
   ]
  },
  {
   "cell_type": "code",
   "execution_count": 12,
   "id": "676f2a36",
   "metadata": {
    "execution": {
     "iopub.execute_input": "2025-08-21T16:19:50.249435Z",
     "iopub.status.busy": "2025-08-21T16:19:50.249115Z",
     "iopub.status.idle": "2025-08-21T16:19:50.253562Z",
     "shell.execute_reply": "2025-08-21T16:19:50.252799Z"
    }
   },
   "outputs": [
    {
     "name": "stdout",
     "output_type": "stream",
     "text": [
      "Total interactions: 6\n"
     ]
    }
   ],
   "source": [
    "# Access previous responses by index\n",
    "# lui[-1]  # Last response\n",
    "# lui[-2]  # Second to last response\n",
    "\n",
    "# Check the number of interactions\n",
    "print(f\"Total interactions: {len(lui._history)}\")"
   ]
  },
  {
   "cell_type": "markdown",
   "id": "8050f3dc",
   "metadata": {},
   "source": [
    "## Enabling Traces\n",
    "\n",
    "For complex queries, you might want to see the AI's reasoning process:"
   ]
  },
  {
   "cell_type": "code",
   "execution_count": 13,
   "id": "a72cbbd2",
   "metadata": {
    "execution": {
     "iopub.execute_input": "2025-08-21T16:19:50.256861Z",
     "iopub.status.busy": "2025-08-21T16:19:50.256553Z",
     "iopub.status.idle": "2025-08-21T16:19:56.006331Z",
     "shell.execute_reply": "2025-08-21T16:19:56.005554Z"
    }
   },
   "outputs": [
    {
     "data": {
      "text/html": [
       "<div style='border: 1px solid #ddd; padding: 15px; border-radius: 5px;'><h4 style='margin-top: 0;'>🤖 LouieAI Response</h4><div style='font-size: 0.8em; color: #666; margin-bottom: 10px;'>Thread: <code>D_NX8yJBHIrMpAHHSY8pTw</code> | Time: 5.7s</div><div style='margin-top: 10px;'><div id='B_PP2V5Nw7'><div style='color: #0066cc; font-family: monospace; font-size: 0.9em;'>i Splunk connection successfully established.</div></div><div id='B_dBf8WplN'><div style='color: #0066cc; font-family: monospace; font-size: 0.9em;'>i LouieAgent::runner</div></div><div id='B_wq0ubPQV'><div style='color: #666; font-family: monospace; font-size: 0.9em;'>🐛 Input text:::What is 100 + 50? Please respond with just the number.</div></div><div id='B_TPifiOmA'><div style='color: #666; font-family: monospace; font-size: 0.9em;'>🐛 Reading chat history. (is_prepared: True)</div></div><div id='B_u0EUqv3p'><div style='color: #666; font-family: monospace; font-size: 0.9em;'>🐛 LouieAgent predict with tools: ['GraphAgent', 'CodeAgent', 'TableAIAgent', 'FirecrawlAgent', 'NotebookAgent', 'DatabricksAgent', 'SplunkAgent', 'MermaidAgent', 'PerspectiveAgent', 'OpenSearchAgent', 'KeplerAgent', 'SpannerAgent', 'SpannerPassthroughAgent', 'KustoAgent', 'KustoPassthroughAgent', 'PostgresAgent', 'PostgresPassthroughAgent', 'Done', 'Chat'] has_recipes: True has_examples: True</div></div><div id='B_tALpwGpc'>150</div><div id='B_zlwRTVFc'><div style='color: #0066cc; font-family: monospace; font-size: 0.9em;'>i Louie output text: 150</div></div></div></div>"
      ],
      "text/plain": [
       "<IPython.core.display.HTML object>"
      ]
     },
     "metadata": {},
     "output_type": "display_data"
    },
    {
     "name": "stdout",
     "output_type": "stream",
     "text": [
      "Answer with traces: 150\n"
     ]
    }
   ],
   "source": [
    "# Enable traces to see reasoning steps\n",
    "lui.traces = True\n",
    "\n",
    "# Now queries will show reasoning steps\n",
    "lui(\"What is 100 + 50? Please respond with just the number.\")\n",
    "print(f\"Answer with traces: {lui.text}\")\n",
    "\n",
    "# Disable traces\n",
    "lui.traces = False"
   ]
  },
  {
   "cell_type": "code",
   "execution_count": 14,
   "id": "izjsoem7xjj",
   "metadata": {
    "execution": {
     "iopub.execute_input": "2025-08-21T16:19:56.009801Z",
     "iopub.status.busy": "2025-08-21T16:19:56.009458Z",
     "iopub.status.idle": "2025-08-21T16:20:02.612260Z",
     "shell.execute_reply": "2025-08-21T16:20:02.611554Z"
    }
   },
   "outputs": [
    {
     "data": {
      "text/html": [
       "<div style='border: 1px solid #ddd; padding: 15px; border-radius: 5px;'><h4 style='margin-top: 0;'>🤖 LouieAI Response</h4><div style='font-size: 0.8em; color: #666; margin-bottom: 10px;'>Thread: <code>D_NX8yJBHIrMpAHHSY8pTw</code> | Time: 6.6s</div><div style='margin-top: 10px;'><div id='B_Rp61e4Rf'><div style='color: #0066cc; font-family: monospace; font-size: 0.9em;'>i Splunk connection successfully established.</div></div><div id='B_E1pmazR6'><div style='color: #0066cc; font-family: monospace; font-size: 0.9em;'>i LouieAgent::runner</div></div><div id='B_AhetBKJR'><div style='color: #666; font-family: monospace; font-size: 0.9em;'>🐛 Input text:::The sum of integers from 1 to 10 equals?</div></div><div id='B_kXPj5vm5'><div style='color: #666; font-family: monospace; font-size: 0.9em;'>🐛 Reading chat history. (is_prepared: True)</div></div><div id='B_2XMw8YCG'><div style='color: #666; font-family: monospace; font-size: 0.9em;'>🐛 LouieAgent predict with tools: ['GraphAgent', 'CodeAgent', 'TableAIAgent', 'FirecrawlAgent', 'NotebookAgent', 'DatabricksAgent', 'SplunkAgent', 'MermaidAgent', 'PerspectiveAgent', 'OpenSearchAgent', 'KeplerAgent', 'SpannerAgent', 'SpannerPassthroughAgent', 'KustoAgent', 'KustoPassthroughAgent', 'PostgresAgent', 'PostgresPassthroughAgent', 'Done', 'Chat'] has_recipes: True has_examples: True</div></div><div id='B_kq03GWXg'>The sum of integers from 1 to 10 can be calculated using the formula for the sum of an arithmetic series: \\(\\text{Sum} = \\frac{n}{2} \\times (\\text{first term} + \\text{last term})\\), where \\(n\\) is the number of terms. In this case, \\(n = 10\\), the first term is 1, and the last term is 10.<br><br>Calculation: \\(\\text{Sum} = \\frac{10}{2} \\times (1 + 10) = 5 \\times 11 =</div><div id='B_Ck1hEehL'><div style='color: #0066cc; font-family: monospace; font-size: 0.9em;'>i Louie output text: 55</div></div></div></div>"
      ],
      "text/plain": [
       "<IPython.core.display.HTML object>"
      ]
     },
     "metadata": {},
     "output_type": "display_data"
    },
    {
     "name": "stdout",
     "output_type": "stream",
     "text": [
      "Sum calculation: The sum of integers from 1 to 10 can be calculated using the formula for the sum of an arithmetic series: \\(\\text{Sum} = \\frac{n}{2} \\times (\\text{first term} + \\text{last term})\\), where \\(n\\) is the number of terms. In this case, \\(n = 10\\), the first term is 1, and the last term is 10.\n",
      "\n",
      "Calculation: \\(\\text{Sum} = \\frac{10}{2} \\times (1 + 10) = 5 \\times 11 =\n"
     ]
    }
   ],
   "source": [
    "# Or enable traces for just one query\n",
    "lui(\"The sum of integers from 1 to 10 equals?\", traces=True)\n",
    "print(f\"Sum calculation: {lui.text}\")\n",
    "\n",
    "# Validation: The sum of 1 to 10 is 55\n",
    "if \"55\" in str(lui.text):\n",
    "    print(\"✅ Sum formula working!\")"
   ]
  },
  {
   "cell_type": "markdown",
   "id": "2b3dd3c0",
   "metadata": {},
   "source": [
    "## Error Handling\n",
    "\n",
    "The interface handles errors gracefully:"
   ]
  },
  {
   "cell_type": "code",
   "execution_count": 15,
   "id": "2563848c",
   "metadata": {
    "execution": {
     "iopub.execute_input": "2025-08-21T16:20:02.613326Z",
     "iopub.status.busy": "2025-08-21T16:20:02.613205Z",
     "iopub.status.idle": "2025-08-21T16:20:02.616327Z",
     "shell.execute_reply": "2025-08-21T16:20:02.615516Z"
    }
   },
   "outputs": [
    {
     "name": "stdout",
     "output_type": "stream",
     "text": [
      "No errors in last operation\n"
     ]
    }
   ],
   "source": [
    "# Check if the last operation had errors\n",
    "if lui.has_errors:\n",
    "    print(\"Last operation had errors:\", lui.errors)\n",
    "else:\n",
    "    print(\"No errors in last operation\")"
   ]
  },
  {
   "cell_type": "markdown",
   "id": "ba2d1e2a",
   "metadata": {},
   "source": [
    "## Tips and Tricks\n",
    "\n",
    "Here are some helpful patterns for using the notebook interface:\n",
    "\n",
    "1. **Use clear prompts**: Be specific about what you want to analyze\n",
    "2. **Check outputs**: Always verify `lui.df` and `lui.text` after queries\n",
    "3. **Enable traces for debugging**: Use `traces=True` when troubleshooting\n",
    "4. **Leverage history**: Access previous results with `lui[-1]`, `lui[-2]`, etc.\n",
    "5. **Upload various formats**: DataFrames, images, PDFs all work seamlessly"
   ]
  }
 ],
 "metadata": {
  "language_info": {
   "codemirror_mode": {
    "name": "ipython",
    "version": 3
   },
   "file_extension": ".py",
   "mimetype": "text/x-python",
   "name": "python",
   "nbconvert_exporter": "python",
   "pygments_lexer": "ipython3",
   "version": "3.12.11"
  }
 },
 "nbformat": 4,
 "nbformat_minor": 5
}
