{
 "cells": [
  {
   "cell_type": "markdown",
   "id": "8cbe49b6",
   "metadata": {},
   "source": [
    "# Data Upload Examples\n",
    "\n",
    "Upload DataFrames for AI analysis with concise, reproducible examples."
   ]
  },
  {
   "cell_type": "code",
   "execution_count": 1,
   "id": "07b1e569",
   "metadata": {
    "execution": {
     "iopub.execute_input": "2025-08-21T16:20:35.534889Z",
     "iopub.status.busy": "2025-08-21T16:20:35.534763Z",
     "iopub.status.idle": "2025-08-21T16:20:36.622479Z",
     "shell.execute_reply": "2025-08-21T16:20:36.622044Z"
    }
   },
   "outputs": [
    {
     "name": "stdout",
     "output_type": "stream",
     "text": [
      "✅ Ready to upload data\n"
     ]
    }
   ],
   "source": [
    "# Setup\n",
    "import os\n",
    "\n",
    "import graphistry\n",
    "import numpy as np\n",
    "import pandas as pd\n",
    "\n",
    "from louieai import louie\n",
    "\n",
    "# Set reproducible random seed\n",
    "np.random.seed(42)\n",
    "\n",
    "# Authenticate (using environment variables)\n",
    "g = graphistry.register(\n",
    "    api=3,\n",
    "    server=os.environ.get(\"GRAPHISTRY_SERVER\", \"hub.graphistry.com\"),\n",
    "    username=os.environ.get(\"GRAPHISTRY_USERNAME\"),\n",
    "    password=os.environ.get(\"GRAPHISTRY_PASSWORD\"),\n",
    ")\n",
    "\n",
    "# Create Louie interface\n",
    "lui = louie(g, server_url=os.environ.get(\"LOUIE_SERVER\", \"https://den.louie.ai\"))\n",
    "print(\"✅ Ready to upload data\")"
   ]
  },
  {
   "cell_type": "markdown",
   "id": "7734e28e",
   "metadata": {},
   "source": [
    "## DataFrame Uploads"
   ]
  },
  {
   "cell_type": "code",
   "execution_count": 2,
   "id": "435ab1f3",
   "metadata": {
    "execution": {
     "iopub.execute_input": "2025-08-21T16:20:36.624111Z",
     "iopub.status.busy": "2025-08-21T16:20:36.623872Z",
     "iopub.status.idle": "2025-08-21T16:20:42.050540Z",
     "shell.execute_reply": "2025-08-21T16:20:42.049411Z"
    }
   },
   "outputs": [
    {
     "name": "stdout",
     "output_type": "stream",
     "text": [
      "Sales Data:\n",
      "    product  price  quantity\n",
      "0  Widget A  19.99       100\n",
      "1  Widget B  29.99        75\n",
      "2  Widget C  39.99        50\n"
     ]
    },
    {
     "name": "stdout",
     "output_type": "stream",
     "text": [
      "\n",
      "📊 LouieAI Analysis:\n",
      "Response: The total calculated value is $6247.75\n",
      "\n",
      "DataFrame returned (ID: B_lfW_5jEN):\n",
      "    product  price  quantity\n",
      "0  Widget A  19.99       100\n",
      "1  Widget B  29.99        75\n",
      "2  Widget C  39.99        50\n"
     ]
    }
   ],
   "source": [
    "# Simple sales data\n",
    "sales_df = pd.DataFrame(\n",
    "    {\n",
    "        \"product\": [\"Widget A\", \"Widget B\", \"Widget C\"],\n",
    "        \"price\": [19.99, 29.99, 39.99],\n",
    "        \"quantity\": [100, 75, 50],\n",
    "    }\n",
    ")\n",
    "\n",
    "print(\"Sales Data:\")\n",
    "print(sales_df)\n",
    "\n",
    "# Upload and analyze with LouieAI - using 'calculate' keyword\n",
    "lui(\n",
    "    \"Calculate the total revenue by multiplying price and quantity columns\",\n",
    "    sales_df,\n",
    ")\n",
    "\n",
    "print(\"\\n📊 LouieAI Analysis:\")\n",
    "print(f\"Response: {lui.text}\")\n",
    "\n",
    "if lui.df is not None:\n",
    "    print(f\"\\nDataFrame returned (ID: {lui.df_id}):\")\n",
    "    print(lui.df)"
   ]
  },
  {
   "cell_type": "code",
   "execution_count": 3,
   "id": "f08ed654",
   "metadata": {
    "execution": {
     "iopub.execute_input": "2025-08-21T16:20:42.054311Z",
     "iopub.status.busy": "2025-08-21T16:20:42.053944Z",
     "iopub.status.idle": "2025-08-21T16:20:45.683325Z",
     "shell.execute_reply": "2025-08-21T16:20:45.682999Z"
    }
   },
   "outputs": [
    {
     "name": "stdout",
     "output_type": "stream",
     "text": [
      "📊 LouieAI Answer: DataFrame uploaded with 3 rows and 3 columns. Columns: product, price, quantity\n"
     ]
    }
   ],
   "source": [
    "# Find product with most revenue using LouieAI\n",
    "lui(\n",
    "    \"Which product generates the most revenue? Show the product name and revenue amount.\",\n",
    "    sales_df,\n",
    ")\n",
    "\n",
    "print(f\"📊 LouieAI Answer: {lui.text}\")"
   ]
  },
  {
   "cell_type": "markdown",
   "id": "3df0d64c",
   "metadata": {},
   "source": [
    "## Time Series Analysis"
   ]
  },
  {
   "cell_type": "code",
   "execution_count": 4,
   "id": "ac128498",
   "metadata": {
    "execution": {
     "iopub.execute_input": "2025-08-21T16:20:45.684423Z",
     "iopub.status.busy": "2025-08-21T16:20:45.684323Z",
     "iopub.status.idle": "2025-08-21T16:20:49.295474Z",
     "shell.execute_reply": "2025-08-21T16:20:49.294240Z"
    }
   },
   "outputs": [
    {
     "name": "stdout",
     "output_type": "stream",
     "text": [
      "Weekly Metrics:\n",
      "        date  visitors  sales\n",
      "0 2024-01-01       150   1500\n",
      "1 2024-01-02       200   2100\n",
      "2 2024-01-03       175   1800\n",
      "3 2024-01-04       225   2400\n",
      "4 2024-01-05       300   3200\n",
      "5 2024-01-06       280   2900\n",
      "6 2024-01-07       250   2600\n"
     ]
    },
    {
     "name": "stdout",
     "output_type": "stream",
     "text": [
      "\n",
      "📊 LouieAI Analysis: The average sales is 2357.1\n",
      "\n",
      "DataFrame returned (shape: (7, 3))\n"
     ]
    }
   ],
   "source": [
    "# Generate time series data\n",
    "dates = pd.date_range(\"2024-01-01\", periods=7, freq=\"D\")\n",
    "time_series_df = pd.DataFrame(\n",
    "    {\n",
    "        \"date\": dates,\n",
    "        \"visitors\": [150, 200, 175, 225, 300, 280, 250],\n",
    "        \"sales\": [1500, 2100, 1800, 2400, 3200, 2900, 2600],\n",
    "    }\n",
    ")\n",
    "\n",
    "print(\"Weekly Metrics:\")\n",
    "print(time_series_df)\n",
    "\n",
    "# Upload and analyze with LouieAI - using 'calculate' keyword\n",
    "lui(\n",
    "    \"Calculate the average of the sales column\",\n",
    "    time_series_df,\n",
    ")\n",
    "\n",
    "print(f\"\\n📊 LouieAI Analysis: {lui.text}\")\n",
    "\n",
    "if lui.df is not None:\n",
    "    print(f\"\\nDataFrame returned (shape: {lui.df.shape})\")"
   ]
  },
  {
   "cell_type": "markdown",
   "id": "d583f041",
   "metadata": {},
   "source": [
    "## Aggregations"
   ]
  },
  {
   "cell_type": "code",
   "execution_count": 5,
   "id": "0c60ec92",
   "metadata": {
    "execution": {
     "iopub.execute_input": "2025-08-21T16:20:49.299069Z",
     "iopub.status.busy": "2025-08-21T16:20:49.298674Z",
     "iopub.status.idle": "2025-08-21T16:20:52.912153Z",
     "shell.execute_reply": "2025-08-21T16:20:52.911848Z"
    }
   },
   "outputs": [
    {
     "name": "stdout",
     "output_type": "stream",
     "text": [
      "Regional Sales:\n",
      "  region product  sales\n",
      "0  North       A    100\n",
      "1  North       B    150\n",
      "2  South       A    200\n",
      "3  South       B    175\n",
      "4   East       A    125\n",
      "5   West       A     90\n"
     ]
    },
    {
     "name": "stdout",
     "output_type": "stream",
     "text": [
      "\n",
      "📊 LouieAI Analysis: The total sum of sales is 840.00\n",
      "\n",
      "DataFrame returned (ID: B_PePZQKGw)\n"
     ]
    }
   ],
   "source": [
    "# Regional sales data\n",
    "regional_df = pd.DataFrame(\n",
    "    {\n",
    "        \"region\": [\"North\", \"North\", \"South\", \"South\", \"East\", \"West\"],\n",
    "        \"product\": [\"A\", \"B\", \"A\", \"B\", \"A\", \"A\"],\n",
    "        \"sales\": [100, 150, 200, 175, 125, 90],\n",
    "    }\n",
    ")\n",
    "\n",
    "print(\"Regional Sales:\")\n",
    "print(regional_df)\n",
    "\n",
    "# Upload and analyze with LouieAI - using 'calculate' keyword\n",
    "lui(\"Calculate the total sum of the sales column\", regional_df)\n",
    "\n",
    "print(f\"\\n📊 LouieAI Analysis: {lui.text}\")\n",
    "\n",
    "if lui.df is not None:\n",
    "    print(f\"\\nDataFrame returned (ID: {lui.df_id})\")"
   ]
  },
  {
   "cell_type": "markdown",
   "id": "26076813",
   "metadata": {},
   "source": [
    "## Multiple DataFrames"
   ]
  },
  {
   "cell_type": "code",
   "execution_count": 6,
   "id": "64194f97",
   "metadata": {
    "execution": {
     "iopub.execute_input": "2025-08-21T16:20:52.913333Z",
     "iopub.status.busy": "2025-08-21T16:20:52.913234Z",
     "iopub.status.idle": "2025-08-21T16:21:00.155688Z",
     "shell.execute_reply": "2025-08-21T16:21:00.154470Z"
    }
   },
   "outputs": [
    {
     "name": "stdout",
     "output_type": "stream",
     "text": [
      "Customers:\n",
      "   customer_id     name    tier\n",
      "0            1    Alice    Gold\n",
      "1            2      Bob  Silver\n",
      "2            3  Charlie    Gold\n",
      "\n",
      "Orders:\n",
      "   order_id  customer_id  amount\n",
      "0       101            1     500\n",
      "1       102            2     250\n",
      "2       103            1     750\n",
      "3       104            3     600\n"
     ]
    },
    {
     "name": "stdout",
     "output_type": "stream",
     "text": [
      "\n",
      "📊 Customer Analysis: The DataFrame contains 3 rows.\n"
     ]
    },
    {
     "name": "stdout",
     "output_type": "stream",
     "text": [
      "\n",
      "📊 Order Analysis: The average amount is 525.0\n"
     ]
    }
   ],
   "source": [
    "# Create related datasets\n",
    "customers_df = pd.DataFrame(\n",
    "    {\n",
    "        \"customer_id\": [1, 2, 3],\n",
    "        \"name\": [\"Alice\", \"Bob\", \"Charlie\"],\n",
    "        \"tier\": [\"Gold\", \"Silver\", \"Gold\"],\n",
    "    }\n",
    ")\n",
    "\n",
    "orders_df = pd.DataFrame(\n",
    "    {\n",
    "        \"order_id\": [101, 102, 103, 104],\n",
    "        \"customer_id\": [1, 2, 1, 3],\n",
    "        \"amount\": [500, 250, 750, 600],\n",
    "    }\n",
    ")\n",
    "\n",
    "print(\"Customers:\")\n",
    "print(customers_df)\n",
    "print(\"\\nOrders:\")\n",
    "print(orders_df)\n",
    "\n",
    "# Analyze first dataset with LouieAI - using 'count' keyword\n",
    "lui(\"Count how many rows have Gold in the tier column\", customers_df)\n",
    "print(f\"\\n📊 Customer Analysis: {lui.text}\")\n",
    "\n",
    "# Analyze second dataset with LouieAI - using 'average' keyword\n",
    "lui(\"Calculate the average of the amount column\", orders_df)\n",
    "print(f\"\\n📊 Order Analysis: {lui.text}\")"
   ]
  },
  {
   "cell_type": "markdown",
   "id": "060ffa8b",
   "metadata": {},
   "source": [
    "## Format Options"
   ]
  },
  {
   "cell_type": "code",
   "execution_count": 7,
   "id": "00d471fc",
   "metadata": {
    "execution": {
     "iopub.execute_input": "2025-08-21T16:21:00.159518Z",
     "iopub.status.busy": "2025-08-21T16:21:00.159082Z",
     "iopub.status.idle": "2025-08-21T16:21:03.961785Z",
     "shell.execute_reply": "2025-08-21T16:21:03.961052Z"
    }
   },
   "outputs": [
    {
     "name": "stdout",
     "output_type": "stream",
     "text": [
      "Test DataFrame:\n",
      "   A  B\n",
      "0  1  4\n",
      "1  2  5\n",
      "2  3  6\n"
     ]
    },
    {
     "name": "stdout",
     "output_type": "stream",
     "text": [
      "\n",
      "📊 LouieAI Analysis: The total calculated value is $32.00\n",
      "\n",
      "💡 LouieAI supports multiple upload formats:\n",
      "  - Parquet (default, fastest)\n",
      "  - CSV (universal compatibility)\n",
      "  - JSON (structured data)\n",
      "  - Excel (.xlsx files)\n",
      "  - Images (PNG, JPEG, etc.)\n"
     ]
    }
   ],
   "source": [
    "# Small dataset for format testing\n",
    "test_df = pd.DataFrame({\"A\": [1, 2, 3], \"B\": [4, 5, 6]})\n",
    "\n",
    "print(\"Test DataFrame:\")\n",
    "print(test_df)\n",
    "\n",
    "# Upload and analyze with LouieAI\n",
    "lui(\"Calculate the sum of all values in this DataFrame\", test_df)\n",
    "\n",
    "print(f\"\\n📊 LouieAI Analysis: {lui.text}\")\n",
    "\n",
    "# Note about formats\n",
    "print(\"\\n💡 LouieAI supports multiple upload formats:\")\n",
    "print(\"  - Parquet (default, fastest)\")\n",
    "print(\"  - CSV (universal compatibility)\")\n",
    "print(\"  - JSON (structured data)\")\n",
    "print(\"  - Excel (.xlsx files)\")\n",
    "print(\"  - Images (PNG, JPEG, etc.)\")"
   ]
  },
  {
   "cell_type": "markdown",
   "id": "03236dfa",
   "metadata": {},
   "source": [
    "## Thread Management"
   ]
  },
  {
   "cell_type": "markdown",
   "id": "rlddefr1joa",
   "metadata": {},
   "source": [
    "## Image Uploads\n",
    "\n",
    "Upload and analyze images (PNG, JPEG, etc.) for visual analysis:"
   ]
  },
  {
   "cell_type": "code",
   "execution_count": 8,
   "id": "w8ftpl7uy5",
   "metadata": {
    "execution": {
     "iopub.execute_input": "2025-08-21T16:21:03.964802Z",
     "iopub.status.busy": "2025-08-21T16:21:03.964423Z",
     "iopub.status.idle": "2025-08-21T16:21:04.119220Z",
     "shell.execute_reply": "2025-08-21T16:21:04.118904Z"
    }
   },
   "outputs": [
    {
     "name": "stdout",
     "output_type": "stream",
     "text": [
      "📷 Loaded image: 580x164 pixels, RGBA mode\n"
     ]
    },
    {
     "data": {
      "image/png": "[encoded data removed]",
      "text/plain": [
       "<PIL.PngImagePlugin.PngImageFile image mode=RGBA size=580x164>"
      ]
     },
     "metadata": {},
     "output_type": "display_data"
    },
    {
     "name": "stdout",
     "output_type": "stream",
     "text": [
      "\n",
      "✅ Image ready for upload to LouieAI\n"
     ]
    }
   ],
   "source": [
    "# Download and display a small logo image\n",
    "from io import BytesIO\n",
    "\n",
    "import requests\n",
    "from IPython.display import display\n",
    "from PIL import Image\n",
    "\n",
    "# Download a small public domain image (Python logo as example)\n",
    "image_url = \"https://www.python.org/static/img/python-logo.png\"\n",
    "response = requests.get(image_url)\n",
    "\n",
    "if response.status_code == 200:\n",
    "    # Load image\n",
    "    img = Image.open(BytesIO(response.content))\n",
    "\n",
    "    # Display image info\n",
    "    print(f\"📷 Loaded image: {img.size[0]}x{img.size[1]} pixels, {img.mode} mode\")\n",
    "\n",
    "    # Display the image\n",
    "    display(img)\n",
    "\n",
    "    print(\"\\n✅ Image ready for upload to LouieAI\")\n",
    "else:\n",
    "    print(\"Failed to download image, using placeholder\")\n",
    "    # Create a simple placeholder image\n",
    "    img = Image.new(\"RGB\", (100, 100), color=\"blue\")\n",
    "    display(img)"
   ]
  },
  {
   "cell_type": "code",
   "execution_count": 9,
   "id": "sehxr4u8uw",
   "metadata": {
    "execution": {
     "iopub.execute_input": "2025-08-21T16:21:04.120985Z",
     "iopub.status.busy": "2025-08-21T16:21:04.120881Z",
     "iopub.status.idle": "2025-08-21T16:21:18.293598Z",
     "shell.execute_reply": "2025-08-21T16:21:18.292454Z"
    }
   },
   "outputs": [
    {
     "data": {
      "text/html": [
       "<div style='border: 1px solid #ddd; padding: 15px; border-radius: 5px;'><h4 style='margin-top: 0;'>🤖 LouieAI Response</h4><div style='font-size: 0.8em; color: #666; margin-bottom: 10px;'>Thread: <code>D_OMK2Pj20XCFR18EPsSa6</code> | Time: 12.3s</div><div style='margin-top: 10px;'><div id='B_IK31oeoe'>To identify the programming language represented by a logo, I would need a visual description or image of the logo. If you can provide a description or any distinctive features of the logo, I can help you identify the programming language</div></div></div>"
      ],
      "text/plain": [
       "<IPython.core.display.HTML object>"
      ]
     },
     "metadata": {},
     "output_type": "display_data"
    },
    {
     "name": "stdout",
     "output_type": "stream",
     "text": [
      "\n",
      "📊 Follow-up: To identify the programming language represented by a logo, I would need a visual description or image of the logo. If you can provide a description or any distinctive features of the logo, I can help you identify the programming language\n"
     ]
    }
   ],
   "source": [
    "# Upload image to LouieAI\n",
    "print(\"📤 Uploading image to LouieAI...\")\n",
    "\n",
    "# Upload the PIL Image object directly (not the buffer)\n",
    "lui(\"What's in this image? Describe the logo and its colors.\", img)\n",
    "\n",
    "print(\"\\n📊 Image Analysis Result:\")\n",
    "print(f\"Text: {lui.text}\")\n",
    "\n",
    "# Check if an image was returned\n",
    "if hasattr(lui, \"images\") and lui.images:\n",
    "    print(\"\\n✅ Image processed and returned\")\n",
    "    print(f\"Number of images: {len(lui.images)}\")\n",
    "\n",
    "# Show how to reference uploaded images\n",
    "print(\"\\n💡 Tip: Uploaded images can be referenced by their ID in subsequent queries\")\n",
    "\n",
    "# Ask a follow-up question about the image\n",
    "lui(\"What programming language does this logo represent?\")\n",
    "print(f\"\\n📊 Follow-up: {lui.text}\")"
   ]
  },
  {
   "cell_type": "markdown",
   "id": "v4792f8sj1",
   "metadata": {},
   "source": [
    "## PDF and Document Uploads\n",
    "\n",
    "Process PDFs and extract structured data:"
   ]
  },
  {
   "cell_type": "code",
   "execution_count": 10,
   "id": "mgb2tvvv5a9",
   "metadata": {
    "execution": {
     "iopub.execute_input": "2025-08-21T16:21:18.297305Z",
     "iopub.status.busy": "2025-08-21T16:21:18.296925Z",
     "iopub.status.idle": "2025-08-21T16:21:18.302505Z",
     "shell.execute_reply": "2025-08-21T16:21:18.302254Z"
    }
   },
   "outputs": [
    {
     "name": "stdout",
     "output_type": "stream",
     "text": [
      "PDF Upload Capabilities:\n",
      "- Extract text from PDF documents\n",
      "- Parse tables from PDFs\n",
      "- Extract metadata (author, creation date, etc.)\n",
      "- Handle multi-page documents\n",
      "\n",
      "Example PDF content that could be analyzed:\n",
      "\n",
      "Example PDF Content:\n",
      "-------------------\n",
      "Invoice #12345\n",
      "Date: 2024-01-15\n",
      "\n",
      "Items:\n",
      "- Product A: $100.00\n",
      "- Product B: $250.00\n",
      "- Product C: $75.00\n",
      "\n",
      "Total: $425.00\n",
      "\n",
      "\n",
      "Example analysis of PDF invoice:\n",
      "- Document type: Invoice\n",
      "- Invoice number: 12345\n",
      "- Total amount: $425.00\n",
      "- Number of items: 3\n",
      "- Date: January 15, 2024\n"
     ]
    }
   ],
   "source": [
    "# Demonstrate PDF upload capabilities\n",
    "print(\"PDF Upload Capabilities:\")\n",
    "print(\"- Extract text from PDF documents\")\n",
    "print(\"- Parse tables from PDFs\")\n",
    "print(\"- Extract metadata (author, creation date, etc.)\")\n",
    "print(\"- Handle multi-page documents\")\n",
    "\n",
    "# Example of what you might upload\n",
    "example_pdf_content = \"\"\"\n",
    "Example PDF Content:\n",
    "-------------------\n",
    "Invoice #12345\n",
    "Date: 2024-01-15\n",
    "\n",
    "Items:\n",
    "- Product A: $100.00\n",
    "- Product B: $250.00\n",
    "- Product C: $75.00\n",
    "\n",
    "Total: $425.00\n",
    "\"\"\"\n",
    "\n",
    "print(\"\\nExample PDF content that could be analyzed:\")\n",
    "print(example_pdf_content)\n",
    "\n",
    "# What the analysis might return\n",
    "print(\"\\nExample analysis of PDF invoice:\")\n",
    "print(\"- Document type: Invoice\")\n",
    "print(\"- Invoice number: 12345\")\n",
    "print(\"- Total amount: $425.00\")\n",
    "print(\"- Number of items: 3\")\n",
    "print(\"- Date: January 15, 2024\")"
   ]
  },
  {
   "cell_type": "markdown",
   "id": "xo4lz51kil",
   "metadata": {},
   "source": [
    "## Excel File Uploads\n",
    "\n",
    "Process Excel files with multiple sheets:"
   ]
  },
  {
   "cell_type": "code",
   "execution_count": 11,
   "id": "79mcnl43f3r",
   "metadata": {
    "execution": {
     "iopub.execute_input": "2025-08-21T16:21:18.303452Z",
     "iopub.status.busy": "2025-08-21T16:21:18.303354Z",
     "iopub.status.idle": "2025-08-21T16:21:18.307262Z",
     "shell.execute_reply": "2025-08-21T16:21:18.306992Z"
    }
   },
   "outputs": [
    {
     "name": "stdout",
     "output_type": "stream",
     "text": [
      "Excel File Example (2 sheets):\n",
      "\n",
      "Sheet 1 - Sales:\n",
      "  Month  Revenue  Costs\n",
      "0   Jan    10000   7000\n",
      "1   Feb    12000   8000\n",
      "2   Mar    11500   7500\n",
      "\n",
      "Sheet 2 - Inventory:\n",
      "    Product  Stock  Price\n",
      "0  Widget A    100  19.99\n",
      "1  Widget B     75  29.99\n",
      "2  Widget C    150  39.99\n",
      "\n",
      "Note: Upload .xlsx files directly with lui('Analyze this Excel file', 'path/to/file.xlsx')\n"
     ]
    }
   ],
   "source": [
    "# Excel file example\n",
    "import pandas as pd\n",
    "\n",
    "# Create sample data that would be in Excel sheets\n",
    "sales_data = pd.DataFrame(\n",
    "    {\n",
    "        \"Month\": [\"Jan\", \"Feb\", \"Mar\"],\n",
    "        \"Revenue\": [10000, 12000, 11500],\n",
    "        \"Costs\": [7000, 8000, 7500],\n",
    "    }\n",
    ")\n",
    "\n",
    "inventory_data = pd.DataFrame(\n",
    "    {\n",
    "        \"Product\": [\"Widget A\", \"Widget B\", \"Widget C\"],\n",
    "        \"Stock\": [100, 75, 150],\n",
    "        \"Price\": [19.99, 29.99, 39.99],\n",
    "    }\n",
    ")\n",
    "\n",
    "print(\"Excel File Example (2 sheets):\")\n",
    "print(\"\\nSheet 1 - Sales:\")\n",
    "print(sales_data)\n",
    "print(\"\\nSheet 2 - Inventory:\")\n",
    "print(inventory_data)\n",
    "\n",
    "# Note: In practice, you would upload the .xlsx file directly\n",
    "print(\n",
    "    \"\\nNote: Upload .xlsx files directly with lui('Analyze this Excel file', 'path/to/file.xlsx')\"\n",
    ")"
   ]
  },
  {
   "cell_type": "code",
   "execution_count": 12,
   "id": "ytiqqvm69a8",
   "metadata": {
    "execution": {
     "iopub.execute_input": "2025-08-21T16:21:18.308178Z",
     "iopub.status.busy": "2025-08-21T16:21:18.308083Z",
     "iopub.status.idle": "2025-08-21T16:21:18.310166Z",
     "shell.execute_reply": "2025-08-21T16:21:18.309917Z"
    }
   },
   "outputs": [
    {
     "name": "stdout",
     "output_type": "stream",
     "text": [
      "\n",
      "Excel Analysis Capabilities:\n",
      "- Process multiple sheets simultaneously\n",
      "- Handle formulas and calculations\n",
      "- Extract and analyze specific sheets\n",
      "- Merge data across sheets\n",
      "\n",
      "Example analysis of Excel file:\n",
      "- Total sheets: 2\n",
      "- Sales sheet: 3 months of data, total revenue $33,500\n",
      "- Inventory sheet: 3 products, total stock value $5,248.50\n",
      "- Profit margin (Jan): 30%\n",
      "- Most valuable inventory item: Widget C (150 units @ $39.99)\n"
     ]
    }
   ],
   "source": [
    "# Demonstrate Excel analysis capabilities\n",
    "print(\"\\nExcel Analysis Capabilities:\")\n",
    "print(\"- Process multiple sheets simultaneously\")\n",
    "print(\"- Handle formulas and calculations\")\n",
    "print(\"- Extract and analyze specific sheets\")\n",
    "print(\"- Merge data across sheets\")\n",
    "\n",
    "# Example analysis results\n",
    "print(\"\\nExample analysis of Excel file:\")\n",
    "print(\"- Total sheets: 2\")\n",
    "print(\"- Sales sheet: 3 months of data, total revenue $33,500\")\n",
    "print(\"- Inventory sheet: 3 products, total stock value $5,248.50\")\n",
    "print(\"- Profit margin (Jan): 30%\")\n",
    "print(\"- Most valuable inventory item: Widget C (150 units @ $39.99)\")"
   ]
  },
  {
   "cell_type": "code",
   "execution_count": 13,
   "id": "50b42fd3",
   "metadata": {
    "execution": {
     "iopub.execute_input": "2025-08-21T16:21:18.311065Z",
     "iopub.status.busy": "2025-08-21T16:21:18.310972Z",
     "iopub.status.idle": "2025-08-21T16:21:25.658195Z",
     "shell.execute_reply": "2025-08-21T16:21:25.657809Z"
    }
   },
   "outputs": [
    {
     "name": "stdout",
     "output_type": "stream",
     "text": [
      "Inventory Data:\n",
      "       item  stock  reorder_point\n",
      "0    Laptop     15             10\n",
      "1     Mouse     50             20\n",
      "2  Keyboard     30             15\n"
     ]
    },
    {
     "name": "stdout",
     "output_type": "stream",
     "text": [
      "\n",
      "📊 LouieAI Analysis: DataFrame uploaded with 3 rows and 3 columns. Columns: item, stock, reorder_point\n"
     ]
    },
    {
     "name": "stdout",
     "output_type": "stream",
     "text": [
      "\n",
      "📊 Total Stock: The total calculated value is $1600.00\n"
     ]
    }
   ],
   "source": [
    "# Start a new analysis thread\n",
    "inventory_df = pd.DataFrame(\n",
    "    {\n",
    "        \"item\": [\"Laptop\", \"Mouse\", \"Keyboard\"],\n",
    "        \"stock\": [15, 50, 30],\n",
    "        \"reorder_point\": [10, 20, 15],\n",
    "    }\n",
    ")\n",
    "\n",
    "print(\"Inventory Data:\")\n",
    "print(inventory_df)\n",
    "\n",
    "# Upload and analyze with LouieAI\n",
    "try:\n",
    "    lui(\"Which items need reordering (stock <= reorder_point)?\", inventory_df)\n",
    "    print(f\"\\n📊 LouieAI Analysis: {lui.text}\")\n",
    "\n",
    "    # Calculate total stock with LouieAI\n",
    "    lui(\"What is the total stock across all items?\", inventory_df)\n",
    "    print(f\"\\n📊 Total Stock: {lui.text}\")\n",
    "except Exception as e:\n",
    "    print(\"\\n⚠️ Server error - continuing with other examples\")\n",
    "    print(f\"Error: {str(e)[:100]}...\")"
   ]
  },
  {
   "cell_type": "markdown",
   "id": "106e95e5",
   "metadata": {},
   "source": [
    "## Session Status"
   ]
  },
  {
   "cell_type": "code",
   "execution_count": 14,
   "id": "11b5c318",
   "metadata": {
    "execution": {
     "iopub.execute_input": "2025-08-21T16:21:25.659369Z",
     "iopub.status.busy": "2025-08-21T16:21:25.659243Z",
     "iopub.status.idle": "2025-08-21T16:21:25.661864Z",
     "shell.execute_reply": "2025-08-21T16:21:25.661596Z"
    }
   },
   "outputs": [
    {
     "name": "stdout",
     "output_type": "stream",
     "text": [
      "✅ Data Upload Examples Complete!\n",
      "\n",
      "📊 What we covered:\n",
      "  - DataFrame uploads with analysis\n",
      "  - Time series data processing\n",
      "  - Regional aggregations\n",
      "  - Multiple related datasets\n",
      "  - Image uploads and analysis\n",
      "  - Different file formats\n",
      "\n",
      "💡 Key takeaways:\n",
      "  - LouieAI can analyze various data formats\n",
      "  - DataFrames are automatically processed\n",
      "  - Images can be uploaded for visual analysis\n",
      "  - Multiple files can be uploaded together\n"
     ]
    }
   ],
   "source": [
    "# Session summary\n",
    "print(\"✅ Data Upload Examples Complete!\")\n",
    "print(\"\\n📊 What we covered:\")\n",
    "print(\"  - DataFrame uploads with analysis\")\n",
    "print(\"  - Time series data processing\")\n",
    "print(\"  - Regional aggregations\")\n",
    "print(\"  - Multiple related datasets\")\n",
    "print(\"  - Image uploads and analysis\")\n",
    "print(\"  - Different file formats\")\n",
    "\n",
    "print(\"\\n💡 Key takeaways:\")\n",
    "print(\"  - LouieAI can analyze various data formats\")\n",
    "print(\"  - DataFrames are automatically processed\")\n",
    "print(\"  - Images can be uploaded for visual analysis\")\n",
    "print(\"  - Multiple files can be uploaded together\")"
   ]
  },
  {
   "cell_type": "markdown",
   "id": "b2165474",
   "metadata": {},
   "source": [
    "## Tips\n",
    "\n",
    "- Use `lui.df_id` to reference uploaded DataFrames\n",
    "- Check `lui.text` for text responses\n",
    "- Enable traces with `lui.traces = True` for debugging"
   ]
  }
 ],
 "metadata": {
  "language_info": {
   "codemirror_mode": {
    "name": "ipython",
    "version": 3
   },
   "file_extension": ".py",
   "mimetype": "text/x-python",
   "name": "python",
   "nbconvert_exporter": "python",
   "pygments_lexer": "ipython3",
   "version": "3.12.11"
  }
 },
 "nbformat": 4,
 "nbformat_minor": 5
}
