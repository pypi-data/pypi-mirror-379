{
 "cells": [
  {
   "cell_type": "markdown",
   "id": "header",
   "metadata": {},
   "source": [
    "# LouieAI Error Handling\n",
    "\n",
    "This notebook demonstrates error handling patterns specific to the LouieAI `lui` interface."
   ]
  },
  {
   "cell_type": "markdown",
   "id": "setup-header",
   "metadata": {},
   "source": [
    "## Setup"
   ]
  },
  {
   "cell_type": "code",
   "execution_count": 1,
   "id": "setup",
   "metadata": {
    "execution": {
     "iopub.execute_input": "2025-08-21T05:24:23.891363Z",
     "iopub.status.busy": "2025-08-21T05:24:23.891169Z",
     "iopub.status.idle": "2025-08-21T05:24:24.921406Z",
     "shell.execute_reply": "2025-08-21T05:24:24.921015Z"
    }
   },
   "outputs": [
    {
     "name": "stdout",
     "output_type": "stream",
     "text": [
      "✅ LouieAI ready\n"
     ]
    }
   ],
   "source": [
    "import os\n",
    "\n",
    "import graphistry\n",
    "import pandas as pd\n",
    "\n",
    "from louieai import louie\n",
    "\n",
    "# Authenticate\n",
    "g = graphistry.register(\n",
    "    api=3,\n",
    "    server=os.environ.get(\"GRAPHISTRY_SERVER\", \"hub.graphistry.com\"),\n",
    "    username=os.environ.get(\"GRAPHISTRY_USERNAME\"),\n",
    "    password=os.environ.get(\"GRAPHISTRY_PASSWORD\"),\n",
    ")\n",
    "\n",
    "# Create LouieAI interface\n",
    "lui = louie(g, server_url=os.environ.get(\"LOUIE_SERVER\", \"https://den.louie.ai\"))\n",
    "print(\"✅ LouieAI ready\")"
   ]
  },
  {
   "cell_type": "markdown",
   "id": "missing-data-header",
   "metadata": {},
   "source": [
    "## Handling Missing Data"
   ]
  },
  {
   "cell_type": "code",
   "execution_count": 2,
   "id": "missing-data",
   "metadata": {
    "execution": {
     "iopub.execute_input": "2025-08-21T05:24:24.922779Z",
     "iopub.status.busy": "2025-08-21T05:24:24.922595Z",
     "iopub.status.idle": "2025-08-21T05:24:32.463764Z",
     "shell.execute_reply": "2025-08-21T05:24:32.462592Z"
    }
   },
   "outputs": [
    {
     "data": {
      "text/html": [
       "<div style='border: 1px solid #ddd; padding: 15px; border-radius: 5px;'><h4 style='margin-top: 0;'>🤖 LouieAI Response</h4><div style='font-size: 0.8em; color: #666; margin-bottom: 10px;'>Thread: <code>D_xsOfLperiNkIYgT_O5bK</code> | Time: 7.5s</div><div style='margin-top: 10px;'><div id='B_FxUadxpb'>The question is a simple arithmetic problem.<br></div></div></div>"
      ],
      "text/plain": [
       "<IPython.core.display.HTML object>"
      ]
     },
     "metadata": {},
     "output_type": "display_data"
    },
    {
     "name": "stdout",
     "output_type": "stream",
     "text": [
      "No DataFrame returned (text-only response)\n",
      "Text response: The question is a simple arithmetic problem.\n",
      "\n"
     ]
    }
   ],
   "source": [
    "# Safe pattern for checking if data exists\n",
    "lui(\"What is 2+2?\")  # Text-only response, no DataFrame\n",
    "\n",
    "# Always check if DataFrame exists before using it\n",
    "if lui.df is not None:\n",
    "    print(f\"DataFrame shape: {lui.df.shape}\")\n",
    "    print(lui.df.head())\n",
    "else:\n",
    "    print(\"No DataFrame returned (text-only response)\")\n",
    "    print(f\"Text response: {lui.text}\")"
   ]
  },
  {
   "cell_type": "markdown",
   "id": "errors-header",
   "metadata": {},
   "source": [
    "## Checking for Errors"
   ]
  },
  {
   "cell_type": "code",
   "execution_count": 3,
   "id": "check-errors",
   "metadata": {
    "execution": {
     "iopub.execute_input": "2025-08-21T05:24:32.467342Z",
     "iopub.status.busy": "2025-08-21T05:24:32.466885Z",
     "iopub.status.idle": "2025-08-21T05:24:32.469591Z",
     "shell.execute_reply": "2025-08-21T05:24:32.469248Z"
    }
   },
   "outputs": [
    {
     "name": "stdout",
     "output_type": "stream",
     "text": [
      "✅ No errors in last query\n"
     ]
    }
   ],
   "source": [
    "# Check if the last query had errors\n",
    "if lui.has_errors:\n",
    "    print(\"⚠️ Last query had errors:\")\n",
    "    for error in lui.errors:\n",
    "        print(f\"  - {error}\")\n",
    "else:\n",
    "    print(\"✅ No errors in last query\")"
   ]
  },
  {
   "cell_type": "markdown",
   "id": "history-header",
   "metadata": {},
   "source": [
    "## Using History for Recovery"
   ]
  },
  {
   "cell_type": "code",
   "execution_count": 4,
   "id": "history-recovery",
   "metadata": {
    "execution": {
     "iopub.execute_input": "2025-08-21T05:24:32.470530Z",
     "iopub.status.busy": "2025-08-21T05:24:32.470434Z",
     "iopub.status.idle": "2025-08-21T05:24:45.036506Z",
     "shell.execute_reply": "2025-08-21T05:24:45.035805Z"
    }
   },
   "outputs": [
    {
     "data": {
      "text/html": [
       "<div style='border: 1px solid #ddd; padding: 15px; border-radius: 5px;'><h4 style='margin-top: 0;'>🤖 LouieAI Response</h4><div style='font-size: 0.8em; color: #666; margin-bottom: 10px;'>Thread: <code>D_xsOfLperiNkIYgT_O5bK</code> | Time: 8.6s</div><div style='margin-top: 10px;'><div id='B_GgM1OS8o'>To provide the current weather, I need to access a reliable source of weather data. However, I don't have direct access to real-time weather data through my available tools. I can guide you on how to find this information or suggest using a weather API or website.<br><br>I don't have direct access to real-time weather data, but you can easily check today's weather using a weather website or app like Weather.com, AccuWeather, or a weather API. If you need help with accessing or using a weather API</div></div></div>"
      ],
      "text/plain": [
       "<IPython.core.display.HTML object>"
      ]
     },
     "metadata": {},
     "output_type": "display_data"
    },
    {
     "name": "stdout",
     "output_type": "stream",
     "text": [
      "Using DataFrame with shape: (3, 1)\n"
     ]
    }
   ],
   "source": [
    "# Make several queries\n",
    "lui(\"Create a DataFrame with sales data\", pd.DataFrame({\"sales\": [100, 200, 300]}))\n",
    "lui(\"What is the weather today?\")  # No DataFrame\n",
    "\n",
    "# Access previous responses\n",
    "current_df = lui.df  # May be None\n",
    "previous_df = lui[-2].df if len(lui._history) >= 2 else None\n",
    "\n",
    "# Use the most recent DataFrame available\n",
    "df = current_df if current_df is not None else previous_df\n",
    "if df is not None:\n",
    "    print(f\"Using DataFrame with shape: {df.shape}\")\n",
    "else:\n",
    "    print(\"No DataFrame available in recent history\")"
   ]
  },
  {
   "cell_type": "markdown",
   "id": "retry-header",
   "metadata": {},
   "source": [
    "## Retry Pattern"
   ]
  },
  {
   "cell_type": "code",
   "execution_count": 5,
   "id": "retry-pattern",
   "metadata": {
    "execution": {
     "iopub.execute_input": "2025-08-21T05:24:45.039088Z",
     "iopub.status.busy": "2025-08-21T05:24:45.038779Z",
     "iopub.status.idle": "2025-08-21T05:24:48.660214Z",
     "shell.execute_reply": "2025-08-21T05:24:48.659812Z"
    }
   },
   "outputs": [
    {
     "name": "stdout",
     "output_type": "stream",
     "text": [
      "✅ Success on attempt 1\n"
     ]
    }
   ],
   "source": [
    "def query_with_retry(prompt, data=None, max_retries=3):\n",
    "    \"\"\"Query LouieAI with automatic retry on failure.\"\"\"\n",
    "    for attempt in range(max_retries):\n",
    "        try:\n",
    "            lui(prompt, data)\n",
    "\n",
    "            if not lui.has_errors:\n",
    "                print(f\"✅ Success on attempt {attempt + 1}\")\n",
    "                return lui.text, lui.df\n",
    "\n",
    "            print(f\"⚠️ Attempt {attempt + 1} had errors, retrying...\")\n",
    "\n",
    "        except Exception as e:\n",
    "            if attempt < max_retries - 1:\n",
    "                print(f\"Attempt {attempt + 1} failed: {e}\")\n",
    "                continue\n",
    "            else:\n",
    "                raise\n",
    "\n",
    "    return None, None\n",
    "\n",
    "\n",
    "# Example usage\n",
    "text, df = query_with_retry(\"Analyze this data\", pd.DataFrame({\"value\": [1, 2, 3]}))"
   ]
  },
  {
   "cell_type": "markdown",
   "id": "traces-header",
   "metadata": {},
   "source": [
    "## Using Traces for Debugging"
   ]
  },
  {
   "cell_type": "code",
   "execution_count": 6,
   "id": "traces-debug",
   "metadata": {
    "execution": {
     "iopub.execute_input": "2025-08-21T05:24:48.662368Z",
     "iopub.status.busy": "2025-08-21T05:24:48.662114Z",
     "iopub.status.idle": "2025-08-21T05:24:57.453785Z",
     "shell.execute_reply": "2025-08-21T05:24:57.453526Z"
    }
   },
   "outputs": [
    {
     "data": {
      "text/html": [
       "<div style='border: 1px solid #ddd; padding: 15px; border-radius: 5px;'><h4 style='margin-top: 0;'>🤖 LouieAI Response</h4><div style='font-size: 0.8em; color: #666; margin-bottom: 10px;'>Thread: <code>D_xsOfLperiNkIYgT_O5bK</code> | Time: 8.8s</div><div style='margin-top: 10px;'><div id='B_RfB16f_i'><div style='color: #0066cc; font-family: monospace; font-size: 0.9em;'>i Splunk connection successfully established.</div></div><div id='B_eqLgzc9k'><div style='color: #0066cc; font-family: monospace; font-size: 0.9em;'>i LouieAgent::runner</div></div><div id='B_201dH4Vw'><div style='color: #666; font-family: monospace; font-size: 0.9em;'>🐛 Input text:::Calculate the average of [10, 20, 30, 40, 50]</div></div><div id='B_elsJ93p0'><div style='color: #666; font-family: monospace; font-size: 0.9em;'>🐛 Reading chat history. (is_prepared: True)</div></div><div id='B_BvbCts_D'><div style='color: #666; font-family: monospace; font-size: 0.9em;'>🐛 LouieAgent predict with tools: ['GraphAgent', 'CodeAgent', 'TableAIAgent', 'FirecrawlAgent', 'NotebookAgent', 'DatabricksAgent', 'MermaidAgent', 'PerspectiveAgent', 'OpenSearchAgent', 'KeplerAgent', 'SpannerAgent', 'SpannerPassthroughAgent', 'KustoAgent', 'KustoPassthroughAgent', 'PostgresAgent', 'PostgresPassthroughAgent', 'Done', 'Chat'] has_recipes: True has_examples: True</div></div><div id='B_2WkT0NPA'>To calculate the average of a list of numbers, I need to sum the numbers and then divide by the count of the numbers.<br><br>Plan:<br>1. Sum the numbers: 10 + 20 + 30 + 40 + 50.<br>2. Count the numbers: There are 5 numbers.<br>3. Divide the sum by the count to get the average.<br><br>Calculation:<br>1. Sum = 10 + 20 + 30 + 40 + 50 = 150<br>2. Count = 5<br>3. Average = Sum / Count = 150 / 5 = 30<br><br>The average of [10, 20, 30</div><div id='B_fKSbnUZG'><div style='color: #0066cc; font-family: monospace; font-size: 0.9em;'>i Louie output text: The average of [10, 20, 30, 40, 50] is 30.</div></div></div></div>"
      ],
      "text/plain": [
       "<IPython.core.display.HTML object>"
      ]
     },
     "metadata": {},
     "output_type": "display_data"
    },
    {
     "name": "stdout",
     "output_type": "stream",
     "text": [
      "Result: To calculate the average of a list of numbers, I need to sum the numbers and then divide by the count of the numbers.\n",
      "\n",
      "Plan:\n",
      "1. Sum the numbers: 10 + 20 + 30 + 40 + 50.\n",
      "2. Count the numbers: There are 5 numbers.\n",
      "3. Divide the sum by the count to get the average.\n",
      "\n",
      "Calculation:\n",
      "1. Sum = 10 + 20 + 30 + 40 + 50 = 150\n",
      "2. Count = 5\n",
      "3. Average = Sum / Count = 150 / 5 = 30\n",
      "\n",
      "The average of [10, 20, 30\n"
     ]
    }
   ],
   "source": [
    "# Enable traces to see reasoning steps\n",
    "lui.traces = True\n",
    "\n",
    "# Make a query - will show detailed reasoning\n",
    "lui(\"Calculate the average of [10, 20, 30, 40, 50]\")\n",
    "\n",
    "print(f\"Result: {lui.text}\")\n",
    "\n",
    "# Disable traces for normal operation\n",
    "lui.traces = False"
   ]
  },
  {
   "cell_type": "markdown",
   "id": "batch-header",
   "metadata": {},
   "source": [
    "## Batch Processing with Error Tracking"
   ]
  },
  {
   "cell_type": "code",
   "execution_count": 7,
   "id": "batch-processing",
   "metadata": {
    "execution": {
     "iopub.execute_input": "2025-08-21T05:24:57.454902Z",
     "iopub.status.busy": "2025-08-21T05:24:57.454804Z",
     "iopub.status.idle": "2025-08-21T05:25:12.310400Z",
     "shell.execute_reply": "2025-08-21T05:25:12.309261Z"
    }
   },
   "outputs": [
    {
     "name": "stdout",
     "output_type": "stream",
     "text": [
      "\n",
      "📊 Batch Summary:\n",
      "Successful: 4\n",
      "Failed: 0\n"
     ]
    }
   ],
   "source": [
    "# Process multiple DataFrames with error tracking\n",
    "datasets = [\n",
    "    pd.DataFrame({\"Q1\": [100, 150, 200]}),\n",
    "    pd.DataFrame({\"Q2\": [120, 160, 210]}),\n",
    "    pd.DataFrame({\"Q3\": [130, 170, 220]}),\n",
    "    pd.DataFrame({\"Q4\": [140, 180, 230]}),\n",
    "]\n",
    "\n",
    "results = []\n",
    "errors = []\n",
    "\n",
    "for i, df in enumerate(datasets, 1):\n",
    "    try:\n",
    "        lui(f\"Calculate the total for quarter Q{i}\", df)\n",
    "\n",
    "        if lui.df is not None:\n",
    "            results.append({\"quarter\": f\"Q{i}\", \"response\": lui.text, \"data\": lui.df})\n",
    "        else:\n",
    "            errors.append({\"quarter\": f\"Q{i}\", \"error\": \"No DataFrame returned\"})\n",
    "\n",
    "    except Exception as e:\n",
    "        errors.append({\"quarter\": f\"Q{i}\", \"error\": str(e)})\n",
    "\n",
    "print(\"\\n📊 Batch Summary:\")\n",
    "print(f\"Successful: {len(results)}\")\n",
    "print(f\"Failed: {len(errors)}\")"
   ]
  },
  {
   "cell_type": "markdown",
   "id": "safe-patterns-header",
   "metadata": {},
   "source": [
    "## Safe Access Patterns"
   ]
  },
  {
   "cell_type": "code",
   "execution_count": 8,
   "id": "safe-patterns",
   "metadata": {
    "execution": {
     "iopub.execute_input": "2025-08-21T05:25:12.314249Z",
     "iopub.status.busy": "2025-08-21T05:25:12.314031Z",
     "iopub.status.idle": "2025-08-21T05:25:43.174417Z",
     "shell.execute_reply": "2025-08-21T05:25:43.173833Z"
    }
   },
   "outputs": [
    {
     "data": {
      "text/html": [
       "<div style='border: 1px solid #ddd; padding: 15px; border-radius: 5px;'><h4 style='margin-top: 0;'>🤖 LouieAI Response</h4><div style='font-size: 0.8em; color: #666; margin-bottom: 10px;'>Thread: <code>D_xsOfLperiNkIYgT_O5bK</code> | Time: 28.5s</div><div style='margin-top: 10px;'><div id='B_eWgBADVS'>To generate sample data, I can use the CodeAgent to create a sample dataset using a library like Faker or by manually specifying the data structure. This will allow us to create realistic sample data for testing or analysis purposes.<br><br>Plan:<br>1. Decide on the type of sample data needed (e.g., user data, transaction data).<br>2. Use the CodeAgent to generate the sample data using a suitable library or method.<br>3. Ensure the data is realistic and useful for the intended purpose.<br><br>CodeAgent<br>Generate a sample dataset using the Faker library. Create a dataframe with columns for 'Name', 'Email', 'Address', and 'Phone Number', and populate it with 100 rows of realistic data.<br>I successfully generated a sample dataset using the Faker library. The dataset contains 100 rows with columns for 'Name', 'Email', 'Address', and 'Phone Number', ensuring realistic and varied data entries. The resulting dataframe has been saved as an artifact named 'sample_data', ready for further use or analysis. If you need any more data or</div><div id='B_nde6V2wq'><div style='color: gray;'>[CallElement] Generate a sample dataset using the Faker library. Create a dataframe with columns for 'Name', 'Email', 'Address', and 'Phone Number', and populate it with 100 rows of realistic data.\n",
       "</div></div><div id='B_pLSEGOvE'>```python<br>import pandas as pd<br>from faker import Faker<br><br># Initialize the Faker library<br>fake = Faker()<br><br># Generate sample data<br>data = {<br>    'Name': [fake.name() for _ in range(100)],<br>    'Email': [fake.email() for _ in range(100)],<br>    'Address': [fake.address() for _ in range(100)],<br>    'Phone Number': [fake.phone_number() for _ in range(100)]<br>}<br><br># Create a DataFrame from the generated data<br>sample_df = pd.DataFrame(data)<br><br># Save the generated DataFrame as an artifact<br>save_artifact(sample_df, 'sample_data')<br><br># Print a success message<br>print('Successfully generated a sample dataframe with 100</div><div id='B_crQe5JNI'><div style='background: #f0f0f0; padding: 5px; margin: 5px 0;'>📊 DataFrame: B_crQe5JNI (shape: 100 x 4)</div></div><div id='B_pW6igYe5'>Successfully generated a sample dataframe with 100 rows, containing columns for 'Name', 'Email', 'Address', and 'Phone Number'. The dataset was created using the Faker library, ensuring realistic and varied data entries. This process was executed efficiently, with the entire operation completed in approximately 0.3 seconds. The resulting dataframe has been saved as an artifact named 'sample_data', ready for further use or analysis.</div></div></div>"
      ],
      "text/plain": [
       "<IPython.core.display.HTML object>"
      ]
     },
     "metadata": {},
     "output_type": "display_data"
    },
    {
     "name": "stdout",
     "output_type": "stream",
     "text": [
      "Query results: {'text': \"Successfully generated a sample dataframe with 100 rows, containing columns for 'Name', 'Email', 'Address', and 'Phone Number'. The dataset was created using the Faker library, ensuring realistic and varied data entries. This process was executed efficiently, with the entire operation completed in approximately 0.3 seconds. The resulting dataframe has been saved as an artifact named 'sample_data', ready for further use or analysis.\", 'has_dataframe': False, 'has_errors': False}\n"
     ]
    },
    {
     "name": "stderr",
     "output_type": "stream",
     "text": [
      "/home/lmeyerov/Work/louie-py/src/louieai/auth.py:209: RuntimeWarning: Failed to fetch dataframe B_crQe5JNI from thread D_xsOfLperiNkIYgT_O5bK. URL: http://localhost:8000/api/dthread/D_xsOfLperiNkIYgT_O5bK/df/block/B_crQe5JNI/arrow. Error: HTTPStatusError: Client error '404 Not Found' for url 'http://localhost:8000/api/dthread/D_xsOfLperiNkIYgT_O5bK/df/block/B_crQe5JNI/arrow'\n",
      "For more information check: https://developer.mozilla.org/en-US/docs/Web/HTTP/Status/404\n",
      "  return func(self, *args, **kwargs)\n"
     ]
    }
   ],
   "source": [
    "# Pattern 1: Defensive checking\n",
    "def get_dataframe_safely():\n",
    "    \"\"\"Get DataFrame with fallback to empty.\"\"\"\n",
    "    return lui.df if lui.df is not None else pd.DataFrame()\n",
    "\n",
    "\n",
    "# Pattern 2: Check multiple attributes\n",
    "def get_all_results():\n",
    "    \"\"\"Get all available results from last query.\"\"\"\n",
    "    results = {\n",
    "        \"text\": lui.text,\n",
    "        \"has_dataframe\": lui.df is not None,\n",
    "        \"has_errors\": lui.has_errors,\n",
    "    }\n",
    "\n",
    "    if lui.df is not None:\n",
    "        results[\"df_shape\"] = lui.df.shape\n",
    "        results[\"df_id\"] = lui.df_id\n",
    "\n",
    "    return results\n",
    "\n",
    "\n",
    "# Example usage\n",
    "lui(\"Generate sample data\")\n",
    "results = get_all_results()\n",
    "print(\"Query results:\", results)"
   ]
  },
  {
   "cell_type": "markdown",
   "id": "summary-header",
   "metadata": {},
   "source": [
    "## Summary\n",
    "\n",
    "Key error handling patterns for LouieAI:\n",
    "\n",
    "1. **Always check `lui.df is not None`** before using DataFrames\n",
    "2. **Use `lui.has_errors`** to check for query errors\n",
    "3. **Access history with `lui[-1]`, `lui[-2]`** for recovery\n",
    "4. **Enable `lui.traces = True`** for debugging\n",
    "5. **Implement retry logic** for critical queries\n",
    "6. **Use defensive patterns** with fallbacks to empty DataFrames"
   ]
  }
 ],
 "metadata": {
  "kernelspec": {
   "display_name": "Python 3",
   "language": "python",
   "name": "python3"
  },
  "language_info": {
   "codemirror_mode": {
    "name": "ipython",
    "version": 3
   },
   "file_extension": ".py",
   "mimetype": "text/x-python",
   "name": "python",
   "nbconvert_exporter": "python",
   "pygments_lexer": "ipython3",
   "version": "3.12.11"
  }
 },
 "nbformat": 4,
 "nbformat_minor": 5
}
