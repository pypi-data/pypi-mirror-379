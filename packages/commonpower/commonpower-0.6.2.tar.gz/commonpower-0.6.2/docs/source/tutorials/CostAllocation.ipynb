{
 "cells": [
  {
   "cell_type": "markdown",
   "metadata": {},
   "source": [
    "# Cost Allocation\n",
    "\n",
    "This tutorial explores cost allocation in energy communities, and is based on the paper [1]. \\\n",
    "We allocate cost ex-post and centrally wish to base the payment of each community member on the cost their participation caused. \\\n",
    "A community controller computes optimal dispatch within the community. \\\n",
    "It is modeled as a self-contained algorithmic entity that the EC members democratically administrate.\n",
    "\n",
    "A well-known approach from the literature allocates the Shapley value as payment for each member. \\\n",
    "This is implemented in CommonPower with ```NativeShapleySimulator``` and ```CostAllocator```.\n",
    "\n",
    "The work in [1] demonstrates that this has unfavorable implications for members providing flexibility (e.g. due to storage capacity). \\\n",
    "This is because cost arising from inaccurate forecasts of the community controller will always at least in part be assigned to these members since forecasts do not matter without flexibility. \\\n",
    "The authors show that fair allocation under such imperfect knowledge can be represented with a number of conditions that represent a Pareto front. \\\n",
    "The proposed approach centrally computes members' Shapley values under perfect knowledge and then adjusts their payments via a multi-objective optimal program, guaranteeing a Pareto optimal allocation. \\\n",
    "This is implemented in CommonPower with ```UncertaintyAwareShapleySimulator``` and ```POIKAllocator``` (Pareto optimal imperfect knowedge).\n",
    "\n",
    "\n",
    "[1] [M. Eichelbeck and M. Althoff, \"Fair Cost Allocation in Energy Communities under Forecast Uncertainty,\"\n",
    "    in IEEE Open Access Journal of Power and Energy, 2024, doi: 10.1109/OAJPE.2024.3520418.](https://doi.org/10.1109/OAJPE.2024.3520418)"
   ]
  },
  {
   "cell_type": "code",
   "execution_count": 1,
   "metadata": {},
   "outputs": [],
   "source": [
    "%load_ext autoreload\n",
    "%autoreload 2"
   ]
  },
  {
   "cell_type": "code",
   "execution_count": 2,
   "metadata": {},
   "outputs": [],
   "source": [
    "import pathlib\n",
    "\n",
    "from datetime import timedelta, datetime\n",
    "import matplotlib.pyplot as plt\n",
    "\n",
    "from commonpower.core import System\n",
    "from commonpower.models.components import *\n",
    "from commonpower.models.buses import *\n",
    "from commonpower.models.powerflow import *\n",
    "from commonpower.data_forecasting import *\n",
    "from commonpower.control.controllers import *\n",
    "from commonpower.control.runners import *\n",
    "from commonpower.modeling.param_initialization import *\n",
    "\n",
    "from commonpower.extensions.cost_allocation import *\n"
   ]
  },
  {
   "cell_type": "markdown",
   "metadata": {},
   "source": [
    "## System Setup\n",
    "\n",
    "Our example is based on a system with 3 typical households:\n",
    "1. Prosumer with Load and PV generation.\n",
    "2. Storage provider with Load and ESS.\n",
    "3. Consumer with Load. \n",
    "\n",
    "Their load and generation profiles are based on the [SimBench](https://simbench.de/de/datensaetze/) dataset \"1-LV-rural2--1-sw\". \n",
    "\n",
    "CommonPower provides the ```EnergyCommunity``` node that all members are added to. \\\n",
    "Since the energy community trades the joint power of all members, it is assigned its own price data provider. \\\n",
    "For simplitiy, we model perfectly known fixed rates. \n",
    "\n",
    "We simulate 3 days with a controller sample time of 1h."
   ]
  },
  {
   "cell_type": "code",
   "execution_count": 3,
   "metadata": {},
   "outputs": [],
   "source": [
    "# Parameters\n",
    "horizon = timedelta(hours=24 * 3)\n",
    "frequency = timedelta(hours=1)\n",
    "sim_steps = 24 * 3\n",
    "start_datetime = datetime(2016, 6, 25)"
   ]
  },
  {
   "cell_type": "code",
   "execution_count": 4,
   "metadata": {},
   "outputs": [],
   "source": [
    "def spawn_data_sources(\n",
    "    forecaster_class: Forecaster.__class__ = PerfectKnowledgeForecaster,\n",
    "    **forecaster_kwargs\n",
    "):\n",
    "\n",
    "    # path to data profiles\n",
    "    current_path = pathlib.Path().absolute()\n",
    "    data_path = current_path / 'data'\n",
    "    data_path = data_path.resolve()\n",
    "\n",
    "    load_data = CSVDataSource(data_path  / '1-LV-rural2--1-sw' / 'LoadProfile.csv',\n",
    "        delimiter=\";\", \n",
    "        datetime_format=\"%d.%m.%Y %H:%M\", \n",
    "        rename_dict={\"time\": \"t\", \"H0-A_pload\": \"p\", \"H0-A_qload\": \"q\"},\n",
    "        auto_drop=True, \n",
    "        resample=frequency).apply_to_column(\"p\", lambda x: 2*x).apply_to_column(\"q\", lambda x: 0.0)\n",
    "\n",
    "    price_data = ConstantDataSource({\n",
    "        \"psis\": 0.08,  # the household gets payed 0.08 for each kWh transferred to the external grid\n",
    "        \"psib\": 0.34  # the houshold pays 0.34 for each imported kWh\n",
    "        }, date_range=load_data.get_date_range()\n",
    "    )\n",
    "    \n",
    "    pv_data = CSVDataSource(data_path / '1-LV-rural2--1-sw' / 'RESProfile.csv', \n",
    "        delimiter=\";\", \n",
    "        datetime_format=\"%d.%m.%Y %H:%M\", \n",
    "        rename_dict={\"time\": \"t\", \"PV3\": \"p\"},\n",
    "        auto_drop=True, \n",
    "        resample=frequency).apply_to_column(\"p\", lambda x: -15*x)\n",
    "\n",
    "    load_dp = DataProvider(load_data, forecaster_class(frequency=frequency, horizon=horizon, **forecaster_kwargs))\n",
    "    price_dp = DataProvider(price_data, PerfectKnowledgeForecaster(frequency=frequency, horizon=horizon))\n",
    "    pv_dp = DataProvider(pv_data, forecaster_class(frequency=frequency, horizon=horizon, **forecaster_kwargs))\n",
    "    \n",
    "    return (\n",
    "        load_dp, price_dp, pv_dp        \n",
    "    )"
   ]
  },
  {
   "cell_type": "code",
   "execution_count": 5,
   "metadata": {},
   "outputs": [],
   "source": [
    "def spawn_sys(\n",
    "    forecaster_class: Forecaster.__class__ = PerfectKnowledgeForecaster,\n",
    "    **forecast_kwargs\n",
    ") -> tuple[DeploymentRunner, OptimalController]:\n",
    "    \n",
    "    (load_dp, price_dp, pv_dp) = spawn_data_sources(forecaster_class, **forecast_kwargs)\n",
    "\n",
    "    household1 = RTPricedBus(\"Household1\").add_data_provider(price_dp)\n",
    "    household2 = RTPricedBus(\"Household2\").add_data_provider(price_dp)\n",
    "    household3 = RTPricedBus(\"Household3\").add_data_provider(price_dp)\n",
    "\n",
    "    load1 = Load(\"Load\").add_data_provider(load_dp)\n",
    "    load2 = Load(\"Load\").add_data_provider(load_dp)\n",
    "    load3 = Load(\"Load\").add_data_provider(load_dp)\n",
    "    \n",
    "    # pv generator\n",
    "    pv = RenewableGen(\"PV\").add_data_provider(pv_dp)\n",
    "    \n",
    "    capacity_ess = 15  # kWh\n",
    "    ess = ESSLinear(\"ESS\", {\n",
    "        'rho': 0.001,  # charging/discharging 1 kWh incurs a cost of wear of 0.001\n",
    "        'p': [-3, 3],  # active power limits\n",
    "        'q': [0, 0],  # reactive power limits\n",
    "        'etac': 0.98,  # charging efficiency\n",
    "        'etad': 0.98,  # discharging efficiency\n",
    "        'etas': 0.99,  # self-discharge (after one time step 99% of the soc is left)\n",
    "        'soc': [0.1 * capacity_ess, 0.9 * capacity_ess],  # soc limits\n",
    "        \"soc_init\": ConstantInitializer(0.5 * capacity_ess)  # initial soc at the start of simulation\n",
    "    })\n",
    "\n",
    "    # external grid connection\n",
    "    ext_grid = ExternalGrid(\"ExternalGrid\")\n",
    "    \n",
    "    # add components to households\n",
    "    household1.add_node(load1).add_node(pv)  # prosumer\n",
    "    household2.add_node(load2).add_node(ess)  # storage provider\n",
    "    household3.add_node(load3)  # consumer\n",
    "    \n",
    "    # create energy community and configure grand coalition\n",
    "    community = EnergyCommunity(\"Community\").add_data_provider(price_dp)\n",
    "    community.add_node(household1).add_node(household2).add_node(household3)\n",
    "    \n",
    "    sys = System(power_flow_model=PowerBalanceModel()).add_node(community).add_node(ext_grid)\n",
    "\n",
    "    # Show the system set-up\n",
    "    sys.pprint()\n",
    "    \n",
    "    return sys"
   ]
  },
  {
   "cell_type": "markdown",
   "metadata": {},
   "source": [
    "The impact of imperfect knowledge centrally depends on the used forecaster. "
   ]
  },
  {
   "cell_type": "code",
   "execution_count": 6,
   "metadata": {},
   "outputs": [
    {
     "name": "stdout",
     "output_type": "stream",
     "text": [
      "\n",
      "SYSTEM OVERVIEW \n",
      " \n",
      "Nodes: \n",
      "    (EnergyCommunity): Community  \n",
      "       (RTPricedBus): Household1  \n",
      "          (Load): Load  \n",
      "          (RenewableGen): PV  \n",
      "       (RTPricedBus): Household2  \n",
      "          (Load): Load  \n",
      "          (ESSLinear): ESS  \n",
      "       (RTPricedBus): Household3  \n",
      "          (Load): Load  \n",
      "    (ExternalGrid): ExternalGrid  \n",
      "\n",
      "Lines: \n",
      "\n"
     ]
    }
   ],
   "source": [
    "sys = spawn_sys(PersistenceForecaster, look_back=timedelta(weeks=1))"
   ]
  },
  {
   "cell_type": "markdown",
   "metadata": {},
   "source": [
    "## Simulation\n",
    "\n",
    "The Shapley simulation can take a long time since the number of possible sub-coalition increases combinatorically with the number of members. \\\n",
    "For large systems, we use sampling to limit the computational load. \\\n",
    "For our example system, we have to compute the dispatch trajectory over 7 different system setups (coalitions)."
   ]
  },
  {
   "cell_type": "code",
   "execution_count": 7,
   "metadata": {},
   "outputs": [
    {
     "name": "stderr",
     "output_type": "stream",
     "text": [
      "100%|██████████| 72/72 [00:42<00:00,  1.69it/s]\n",
      "100%|██████████| 72/72 [00:47<00:00,  1.53it/s]\n",
      "100%|██████████| 72/72 [00:44<00:00,  1.62it/s]\n",
      "100%|██████████| 72/72 [00:43<00:00,  1.65it/s]\n",
      "100%|██████████| 72/72 [00:54<00:00,  1.32it/s]\n",
      "100%|██████████| 72/72 [00:55<00:00,  1.29it/s]\n",
      "100%|██████████| 72/72 [00:54<00:00,  1.32it/s]\n"
     ]
    }
   ],
   "source": [
    "native_simulator = NativeShapleySimulator(\n",
    "    sys=sys,\n",
    "    community_controller=OptimalController(\"ec_manager\"),\n",
    "    horizon=horizon,\n",
    "    dt=frequency,\n",
    ")\n",
    "sim_result = native_simulator.simulate(\n",
    "    sim_steps, start_datetime\n",
    ")"
   ]
  },
  {
   "cell_type": "code",
   "execution_count": 8,
   "metadata": {},
   "outputs": [
    {
     "name": "stderr",
     "output_type": "stream",
     "text": [
      "100%|██████████| 72/72 [00:43<00:00,  1.67it/s]\n",
      "100%|██████████| 72/72 [00:37<00:00,  1.93it/s]\n",
      "100%|██████████| 72/72 [00:42<00:00,  1.68it/s]\n",
      "100%|██████████| 72/72 [00:38<00:00,  1.89it/s]\n",
      "100%|██████████| 72/72 [00:41<00:00,  1.72it/s]\n",
      "100%|██████████| 72/72 [00:53<00:00,  1.35it/s]\n",
      "100%|██████████| 72/72 [00:55<00:00,  1.30it/s]\n",
      "100%|██████████| 72/72 [00:55<00:00,  1.31it/s]\n"
     ]
    }
   ],
   "source": [
    "uncertainy_aware_simulator = UncertaintyAwareShapleySimulator(\n",
    "    sys=sys,\n",
    "    community_controller=OptimalController(\"ec_manager\"),\n",
    "    horizon=horizon,\n",
    "    dt=frequency,\n",
    ")\n",
    "uncertainty_aware_sim_result = uncertainy_aware_simulator.simulate(\n",
    "    sim_steps, start_datetime\n",
    ")"
   ]
  },
  {
   "cell_type": "markdown",
   "metadata": {},
   "source": [
    "## Allocation"
   ]
  },
  {
   "cell_type": "markdown",
   "metadata": {},
   "source": [
    "The cost of ignorance (CoI) is the difference between the realized cost and the cost under perfect knowledge. \\\n",
    "The CoI is what the Pareto Optimal Allocation redistributes in addition to the perfect knowledge Shapley payments. \\\n",
    "For the POIK allocation we choose an objective function weight of 0.8, which puts a the focus on the minimization of worst-case regret (difference between imperfect knowledge payment and stand-alone perfect knowledge cost). \\\n",
    "Please refer to [1] for more details."
   ]
  },
  {
   "cell_type": "code",
   "execution_count": 9,
   "metadata": {},
   "outputs": [
    {
     "data": {
      "text/plain": [
       "0.6384681547587316"
      ]
     },
     "execution_count": 9,
     "metadata": {},
     "output_type": "execute_result"
    }
   ],
   "source": [
    "coi = uncertainty_aware_sim_result.realized_cost - sum(uncertainty_aware_sim_result.shapleys)\n",
    "coi"
   ]
  },
  {
   "cell_type": "code",
   "execution_count": 10,
   "metadata": {},
   "outputs": [
    {
     "data": {
      "text/plain": [
       "[-6.511463033330798, 1.3205114967599825, 1.9274928916761644]"
      ]
     },
     "execution_count": 10,
     "metadata": {},
     "output_type": "execute_result"
    }
   ],
   "source": [
    "native_allocation = CostAllocator(sim_result).allocate()\n",
    "native_allocation"
   ]
  },
  {
   "cell_type": "code",
   "execution_count": 11,
   "metadata": {},
   "outputs": [
    {
     "data": {
      "text/plain": [
       "([-5.80540137372167, 0.5596107051600283, 1.982332023666992],\n",
       " [0.4166666660030984, 0.4166666660030984, 0.1666666679938033],\n",
       " [-1.988202213721669, -1.0293024729332225, -0.4375379063330085])"
      ]
     },
     "execution_count": 11,
     "metadata": {},
     "output_type": "execute_result"
    }
   ],
   "source": [
    "poik_allocator = POIKCostAllocator(uncertainty_aware_sim_result)\n",
    "poik_allocation, poik_coi_shares, poik_regrets = poik_allocator.allocate(mu=0.8)\n",
    "poik_allocation, poik_coi_shares, poik_regrets"
   ]
  },
  {
   "cell_type": "markdown",
   "metadata": {},
   "source": [
    "Above, we can see the difference in allocation:\n",
    "The POIK allocation assigns 41% of the CoI to the prosumer and storage provider, respectively. This is because their regret is lower than the regret of the consumer and the allocation attempts to minimize the worst regret across all members. The fact that all their regrets are negative means that all members benefit from being part of the energy community. \\\n",
    "Overall, the storage provider has a significantly lower payment compared to the native allocation, underlining its skewness against flexibility-providing members under imperfect knowledge.\n",
    "\n",
    "Below, we use the sweep functinality of the ```POIKAllocator``` to generate the Pareto front of fair allocations. \\\n",
    "On the x-axis we plot the normalized objective function representing the minimum deviation (2-norm) from the perfect knowlege allocation. \\\n",
    "On the y-axis we plot the normalized objective function representing the minimum worst-case regret."
   ]
  },
  {
   "cell_type": "code",
   "execution_count": 12,
   "metadata": {},
   "outputs": [],
   "source": [
    "num_points = 100\n",
    "sweep_results, pareto_front = poik_allocator.sweep(p=2, mu=[x/num_points for x in range(0, num_points+1, 1)])"
   ]
  },
  {
   "cell_type": "code",
   "execution_count": 13,
   "metadata": {},
   "outputs": [
    {
     "data": {
      "image/png": "[encoded data removed]",
      "text/plain": [
       "<Figure size 640x480 with 1 Axes>"
      ]
     },
     "metadata": {},
     "output_type": "display_data"
    }
   ],
   "source": [
    "plt.plot([x[0] for x in pareto_front], [x[1] for x in pareto_front])\n",
    "plt.xlabel('$J^D(\\gamma)$')\n",
    "plt.ylabel('$J^R(z)$')\n",
    "plt.show()"
   ]
  },
  {
   "cell_type": "code",
   "execution_count": null,
   "metadata": {},
   "outputs": [],
   "source": []
  }
 ],
 "metadata": {
  "kernelspec": {
   "display_name": ".venv",
   "language": "python",
   "name": "python3"
  },
  "language_info": {
   "codemirror_mode": {
    "name": "ipython",
    "version": 3
   },
   "file_extension": ".py",
   "mimetype": "text/x-python",
   "name": "python",
   "nbconvert_exporter": "python",
   "pygments_lexer": "ipython3",
   "version": "3.10.4"
  },
  "orig_nbformat": 4
 },
 "nbformat": 4,
 "nbformat_minor": 2
}
