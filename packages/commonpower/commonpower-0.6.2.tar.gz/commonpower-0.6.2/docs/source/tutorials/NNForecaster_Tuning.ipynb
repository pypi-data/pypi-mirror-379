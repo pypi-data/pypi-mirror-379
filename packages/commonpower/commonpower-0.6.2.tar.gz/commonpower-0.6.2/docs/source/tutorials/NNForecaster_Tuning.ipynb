{
 "cells": [
  {
   "cell_type": "markdown",
   "metadata": {},
   "source": [
    "# NNForecaster Training and Tuning\n",
    "\n",
    "This tutorial shows how to utilize the built-in forecaster training and tuning functionalities of CommonPower."
   ]
  },
  {
   "cell_type": "code",
   "execution_count": 1,
   "metadata": {},
   "outputs": [],
   "source": [
    "%load_ext autoreload\n",
    "%autoreload 2"
   ]
  },
  {
   "cell_type": "code",
   "execution_count": 2,
   "metadata": {},
   "outputs": [],
   "source": [
    "from datetime import timedelta\n",
    "import pathlib\n",
    "from ray import tune as ray_tune, train as ray_train\n",
    "\n",
    "from ray.tune.schedulers import AsyncHyperBandScheduler\n",
    "from ray.tune.stopper import TrialPlateauStopper, CombinedStopper, MaximumIterationStopper\n",
    "from ray.tune.search.hyperopt import HyperOptSearch\n",
    "from ray.air.integrations.wandb import WandbLoggerCallback\n",
    "from sklearn.preprocessing import MinMaxScaler\n",
    "\n",
    "from commonpower.data_forecasting.nn_forecasting.config import ParameterSpace, TrainConfig\n",
    "from commonpower.data_forecasting.nn_forecasting.eval_metrics import RootMeanSquaredError, MeanAbsolutePercentageError, MeanAbsoluteError\n",
    "from commonpower.data_forecasting.nn_forecasting.nn_forecasting import NNForecaster\n",
    "from commonpower.data_forecasting.data_sources import CSVDataSource\n",
    "from commonpower.data_forecasting.nn_forecasting.data_splitting import SimpleFractionalSplit, DatePeriodFractionalSplit\n",
    "from commonpower.data_forecasting.nn_forecasting.dataset_wrappers import NStepAhead\n",
    "from commonpower.data_forecasting.nn_forecasting.models import *\n",
    "from commonpower.data_forecasting.nn_forecasting.transform import SklearnScalerTransform\n",
    "\n",
    "from commonpower.data_forecasting.nn_forecasting.nn_tuner import tune\n"
   ]
  },
  {
   "cell_type": "code",
   "execution_count": 3,
   "metadata": {},
   "outputs": [],
   "source": [
    "experiments_dir = pathlib.Path().absolute()\n",
    "data_path = (experiments_dir / 'data').resolve()\n",
    "results_dir = (experiments_dir / 'results').resolve()\n",
    "tuner_dir = (experiments_dir / 'tuner').resolve()"
   ]
  },
  {
   "cell_type": "code",
   "execution_count": 4,
   "metadata": {},
   "outputs": [],
   "source": [
    "horizon = timedelta(hours=24)\n",
    "frequency = timedelta(minutes=60)\n",
    "look_back = timedelta(hours=24)"
   ]
  },
  {
   "cell_type": "code",
   "execution_count": 5,
   "metadata": {},
   "outputs": [],
   "source": [
    "data_source = CSVDataSource(\n",
    "    data_path / '1-LV-rural2--1-sw' / 'LoadProfile.csv',\n",
    "    delimiter=\";\",\n",
    "    datetime_format=\"%d.%m.%Y %H:%M\",\n",
    "    rename_dict={\"time\": \"t\", \"H0-A_pload\": \"p\"},\n",
    "    auto_drop=True,\n",
    "    resample=frequency)"
   ]
  },
  {
   "cell_type": "markdown",
   "metadata": {},
   "source": [
    "## Configure and Tune"
   ]
  },
  {
   "cell_type": "code",
   "execution_count": null,
   "metadata": {},
   "outputs": [],
   "source": [
    "train_config = TrainConfig(\n",
    "    forecaster=NNForecaster(\n",
    "        targets=[\"p\"],\n",
    "        model_class=SimpleMLP, \n",
    "        frequency=frequency,\n",
    "        feature_transform=SklearnScalerTransform(MinMaxScaler()),\n",
    "        target_transform=SklearnScalerTransform(MinMaxScaler()),\n",
    "    ),\n",
    "    data_source=data_source,\n",
    "    dataset_wrapper_class=NStepAhead,\n",
    "    dataset_split_class=DatePeriodFractionalSplit,\n",
    "    parameter_space=ParameterSpace(\n",
    "        model={\n",
    "            \"hidden_dims\": ray_tune.choice([[64, 256, 512, 512, 256, 64]]),\n",
    "            \"n_features\": 1,\n",
    "            \"n_targets\": 1,\n",
    "            \"n_lookback\": ray_tune.choice([24]),\n",
    "            \"n_ahead\": ray_tune.choice([6]),\n",
    "            \"dropout_p\": ray_tune.choice([0.5]),\n",
    "        },\n",
    "        optimizer={\n",
    "            \"lr\": 1e-3\n",
    "        },\n",
    "        data_loader={\n",
    "            \"batch_size\": ray_tune.choice([128]),\n",
    "        },\n",
    "        dataset_wrapper={},\n",
    "        dataset_split={\n",
    "            \"train_fraction\": 0.8,\n",
    "            \"val_fraction\": 0.2\n",
    "        },\n",
    "    ),\n",
    "    eval_metrics=[RootMeanSquaredError(), MeanAbsoluteError(), MeanAbsolutePercentageError()],\n",
    "    device='cpu'\n",
    ")"
   ]
  },
  {
   "cell_type": "code",
   "execution_count": 7,
   "metadata": {},
   "outputs": [],
   "source": [
    "run_config = ray_train.RunConfig(\n",
    "    stop=CombinedStopper(\n",
    "        MaximumIterationStopper(max_iter=1000),\n",
    "        #TrialPlateauStopper(metric=RootMeanSquaredError().name, std=0.0001, num_results=5, grace_period=5),\n",
    "    ),\n",
    "    callbacks=[WandbLoggerCallback(project=\"commonpower_forecaster_tuning\", mode=\"online\", config=train_config.model_dump())],\n",
    "    checkpoint_config=ray_train.CheckpointConfig(\n",
    "        num_to_keep=10,\n",
    "        checkpoint_score_attribute=RootMeanSquaredError().name,\n",
    "        checkpoint_score_order=\"min\"\n",
    "    ),\n",
    "    storage_path=tuner_dir,\n",
    ")\n",
    "\n",
    "tune_config = ray_tune.TuneConfig(\n",
    "    metric=RootMeanSquaredError().name,\n",
    "    mode='min',\n",
    "    scheduler=None, #AsyncHyperBandScheduler(grace_period=500),\n",
    "    num_samples=4,\n",
    "    max_concurrent_trials=16,\n",
    "    trial_dirname_creator=lambda trial: f\"{trial.trial_id}\",\n",
    ")"
   ]
  },
  {
   "cell_type": "code",
   "execution_count": null,
   "metadata": {},
   "outputs": [],
   "source": [
    "tuned_forecaster, result_checkpoint = tune(\n",
    "    train_config,\n",
    "    tune_config,\n",
    "    run_config,\n",
    "    results_dir\n",
    ")"
   ]
  },
  {
   "cell_type": "markdown",
   "metadata": {},
   "source": [
    "## Load from checkpoint and use"
   ]
  },
  {
   "cell_type": "code",
   "execution_count": 9,
   "metadata": {},
   "outputs": [],
   "source": [
    "from commonpower.data_forecasting.base import DataProvider\n",
    "\n",
    "forecaster = NNForecaster(\n",
    "        targets=[\"p\"],\n",
    "        model_class=SimpleMLP, \n",
    "        frequency=frequency,\n",
    "        horizon=horizon,\n",
    "        feature_transform=SklearnScalerTransform.from_checkpoint(result_checkpoint, \"feature\", scaler=MinMaxScaler()),\n",
    "        target_transform=SklearnScalerTransform.from_checkpoint(result_checkpoint, \"target\", scaler=MinMaxScaler()),\n",
    ").with_model(SimpleMLP.from_checkpoint(result_checkpoint))\n",
    "\n",
    "data_provider = DataProvider(\n",
    "    data_source=data_source,\n",
    "    forecaster=forecaster,\n",
    ")"
   ]
  },
  {
   "cell_type": "code",
   "execution_count": null,
   "metadata": {},
   "outputs": [],
   "source": [
    "import pandas as pd \n",
    "import matplotlib.pyplot as plt\n",
    "from datetime import datetime\n",
    "\n",
    "timestamps = pd.date_range(start=datetime(2016, 6, 29, 6), periods=int(horizon / frequency) + 1, freq=frequency)\n",
    "\n",
    "true_data = data_source(timestamps[0], timestamps[-1])\n",
    "forecast = data_provider.observe(timestamps[0])[\"p\"]\n",
    "\n",
    "plt.plot(true_data, label=\"true data\")\n",
    "plt.plot(forecast, label=\"forecast\")\n",
    "plt.xticks(range(len(true_data)), timestamps.strftime('%H:%M'), rotation=90)\n",
    "plt.xlabel(\"time step\")\n",
    "plt.ylabel(\"active power [kW]\")\n",
    "plt.legend()\n",
    "plt.show()"
   ]
  },
  {
   "cell_type": "code",
   "execution_count": null,
   "metadata": {},
   "outputs": [],
   "source": []
  }
 ],
 "metadata": {
  "kernelspec": {
   "display_name": ".venv",
   "language": "python",
   "name": "python3"
  },
  "language_info": {
   "codemirror_mode": {
    "name": "ipython",
    "version": 3
   },
   "file_extension": ".py",
   "mimetype": "text/x-python",
   "name": "python",
   "nbconvert_exporter": "python",
   "pygments_lexer": "ipython3",
   "version": "3.10.14"
  }
 },
 "nbformat": 4,
 "nbformat_minor": 2
}
