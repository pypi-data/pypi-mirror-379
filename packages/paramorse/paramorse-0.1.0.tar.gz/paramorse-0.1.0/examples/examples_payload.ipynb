{
 "cells": [
  {
   "cell_type": "markdown",
   "id": "16080c4d",
   "metadata": {},
   "source": [
    "# Payload examples\n",
    "\n",
    "This notebook contains `paramorse.core.payload` examples of the `paramorse` package.     \n",
    "See the [Examples README](README.md) for more info (including how to run Jupyter this notebook).\n",
    "\n",
    "Refer to the [ParaMorse maps](../docs/paramorse_maps.md) for the mappings between text symbols, Morse code marks, and paralanguage."
   ]
  },
  {
   "cell_type": "code",
   "execution_count": 1,
   "id": "0b3eeca3",
   "metadata": {},
   "outputs": [],
   "source": [
    "# notebook setup\n",
    "\n",
    "# import beta of public api\n",
    "import paramorse as pm\n",
    "\n",
    "# additional functionality\n",
    "# from paramorse.utils.render import pm_pprint\n",
    "# from paramorse.utils.render import display_md_table\n",
    "from paramorse.utils.render import print_md_table_str\n",
    "import paramorse.core.payload as pm_payload\n"
   ]
  },
  {
   "cell_type": "markdown",
   "id": "7d244010",
   "metadata": {},
   "source": [
    "## Build payload\n",
    "\n",
    "The `build_payload` function can take a variety of payload forms."
   ]
  },
  {
   "cell_type": "markdown",
   "id": "4bcec7a2",
   "metadata": {},
   "source": [
    "### Symbol start"
   ]
  },
  {
   "cell_type": "code",
   "execution_count": 2,
   "id": "c8273d60",
   "metadata": {},
   "outputs": [
    {
     "name": "stdout",
     "output_type": "stream",
     "text": [
      "| Item          | Value                                                             |\n",
      "| ------------- | ----------------------------------------------------------------- |\n",
      "| sym           | I am                                                              |\n",
      "| sym_list      | ['I', 'am']                                                       |\n",
      "| dd            | .. / .- --                                                        |\n",
      "| dd_list       | ['..', '/', '.-', '--']                                           |\n",
      "| dd_flat       | ['.', '.', ' ', '/', ' ', '.', '-', ' ', '-', '-', ' ']           |\n",
      "| dd_nest       | [['.', '.'], ['/'], ['.', '-'], ['-', '-']]                       |\n",
      "| para          | um um alright um uh okay uh uh                                    |\n",
      "| para_list     | ['um um', 'alright', 'um uh', 'okay', 'uh uh']                    |\n",
      "| para_flat     | ['um', 'um', 'alright', 'um', 'uh', 'okay', 'uh', 'uh']           |\n",
      "| para_flat_rs  | ['um ', 'um ', 'alright ', 'um ', 'uh ', 'okay ', 'uh ', 'uh ']   |\n",
      "| para_nest     | [['um', 'um'], ['alright'], ['um', 'uh'], ['okay'], ['uh', 'uh']] |\n",
      "| pay_format    | string                                                            |\n",
      "| pay_kind      | sym                                                               |\n"
     ]
    }
   ],
   "source": [
    "my_payload = \"I am\"\n",
    "payload_dict = pm_payload.build_payload(my_payload)\n",
    "\n",
    "# pretty print:\n",
    "# pm_pprint(payload_dict)\n",
    "# markdown table for rendering:\n",
    "# display(pm.md_table(list(payload_dict.items())))\n",
    "# raw markdown string:\n",
    "print_md_table_str(list(payload_dict.items()))"
   ]
  },
  {
   "cell_type": "markdown",
   "id": "1f451bf3",
   "metadata": {},
   "source": [
    "### Paralanguage start"
   ]
  },
  {
   "cell_type": "code",
   "execution_count": 3,
   "id": "42322c57",
   "metadata": {},
   "outputs": [
    {
     "name": "stdout",
     "output_type": "stream",
     "text": [
      "| Item          | Value                                               |\n",
      "| ------------- | --------------------------------------------------- |\n",
      "| sym           | HI                                                  |\n",
      "| sym_list      | ['HI']                                              |\n",
      "| dd            | .... ..                                             |\n",
      "| dd_list       | ['....', '..']                                      |\n",
      "| dd_flat       | ['.', '.', '.', '.', ' ', '.', '.', ' ']            |\n",
      "| dd_nest       | [['.', '.', '.', '.'], ['.', '.']]                  |\n",
      "| para          | um um um um okay um um                              |\n",
      "| para_list     | ['um', 'um', 'um', 'um', 'okay', 'um', 'um']        |\n",
      "| para_flat     | ['um', 'um', 'um', 'um', 'okay', 'um', 'um']        |\n",
      "| para_flat_rs  | ['um ', 'um ', 'um ', 'um ', 'okay ', 'um ', 'um '] |\n",
      "| para_nest     | [['um', 'um', 'um', 'um'], ['okay'], ['um', 'um']]  |\n",
      "| pay_format    | string                                              |\n",
      "| pay_kind      | para                                                |\n"
     ]
    }
   ],
   "source": [
    "my_payload = \"um um um um okay um um\"\n",
    "payload_dict = pm_payload.build_payload(my_payload)\n",
    "print_md_table_str(list(payload_dict.items()))"
   ]
  },
  {
   "cell_type": "markdown",
   "id": "baf75683",
   "metadata": {},
   "source": [
    "### Morse code marks start"
   ]
  },
  {
   "cell_type": "code",
   "execution_count": 4,
   "id": "a79cff37",
   "metadata": {},
   "outputs": [
    {
     "name": "stdout",
     "output_type": "stream",
     "text": [
      "| Item          | Value                                                  |\n",
      "| ------------- | ------------------------------------------------------ |\n",
      "| sym           | H A                                                    |\n",
      "| sym_list      | ['H', 'A']                                             |\n",
      "| dd            | .... / .-                                              |\n",
      "| dd_list       | ['....', '/', '.-']                                    |\n",
      "| dd_flat       | ['.', '.', '.', '.', ' ', '/', ' ', '.', '-', ' ']     |\n",
      "| dd_nest       | [['.', '.', '.', '.'], ['/'], ['.', '-']]              |\n",
      "| para          | um um um um alright um uh                              |\n",
      "| para_list     | ['um', 'um', 'um', 'um', 'alright', 'um', 'uh']        |\n",
      "| para_flat     | ['um', 'um', 'um', 'um', 'alright', 'um', 'uh']        |\n",
      "| para_flat_rs  | ['um ', 'um ', 'um ', 'um ', 'alright ', 'um ', 'uh '] |\n",
      "| para_nest     | [['um', 'um', 'um', 'um'], ['alright'], ['um', 'uh']]  |\n",
      "| pay_format    | string                                                 |\n",
      "| pay_kind      | dd                                                     |\n"
     ]
    }
   ],
   "source": [
    "my_payload = \".... / .-\"\n",
    "payload_dict = pm_payload.build_payload(my_payload)\n",
    "print_md_table_str(list(payload_dict.items()))"
   ]
  }
 ],
 "metadata": {
  "kernelspec": {
   "display_name": "paramorse_env_3129_01",
   "language": "python",
   "name": "python3"
  },
  "language_info": {
   "codemirror_mode": {
    "name": "ipython",
    "version": 3
   },
   "file_extension": ".py",
   "mimetype": "text/x-python",
   "name": "python",
   "nbconvert_exporter": "python",
   "pygments_lexer": "ipython3",
   "version": "3.12.9"
  }
 },
 "nbformat": 4,
 "nbformat_minor": 5
}
