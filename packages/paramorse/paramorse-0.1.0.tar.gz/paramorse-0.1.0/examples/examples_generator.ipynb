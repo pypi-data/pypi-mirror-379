{
 "cells": [
  {
   "cell_type": "markdown",
   "id": "16080c4d",
   "metadata": {},
   "source": [
    "# Generator examples\n",
    "\n",
    "This notebook contains `paramorse.core.generator` examples of the `paramorse` package.     \n",
    "See the [Examples README](README.md) for more info (including how to run Jupyter this notebook).\n",
    "\n",
    "Refer to the [ParaMorse maps](../docs/paramorse_maps.md) for the mappings between text symbols, Morse code marks, and paralanguage."
   ]
  }
 ],
 "metadata": {
  "kernelspec": {
   "display_name": "paramorse_env_3129_01",
   "language": "python",
   "name": "python3"
  },
  "language_info": {
   "codemirror_mode": {
    "name": "ipython",
    "version": 3
   },
   "file_extension": ".py",
   "mimetype": "text/x-python",
   "name": "python",
   "nbconvert_exporter": "python",
   "pygments_lexer": "ipython3",
   "version": "3.12.9"
  }
 },
 "nbformat": 4,
 "nbformat_minor": 5
}
