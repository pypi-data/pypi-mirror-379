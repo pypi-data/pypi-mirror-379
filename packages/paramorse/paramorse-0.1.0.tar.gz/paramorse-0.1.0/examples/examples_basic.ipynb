{
 "cells": [
  {
   "cell_type": "markdown",
   "id": "f6af3ccf",
   "metadata": {},
   "source": [
    "# Basic examples\n",
    "\n",
    "This notebook contains basic examples of the `paramorse` package.  \n",
    "See the [Examples README](README.md) for more info (including how to run Jupyter this notebook).\n",
    "\n",
    "Refer to the [ParaMorse maps](../docs/paramorse_maps.md) for the mappings between text symbols, Morse code marks, and paralanguage."
   ]
  },
  {
   "cell_type": "markdown",
   "id": "a4280907",
   "metadata": {},
   "source": [
    "## Notebook setup"
   ]
  },
  {
   "cell_type": "code",
   "execution_count": 1,
   "id": "146570df",
   "metadata": {},
   "outputs": [],
   "source": [
    "# notebook setup\n",
    "import json\n",
    "\n",
    "# import beta of public api\n",
    "import paramorse as pm\n",
    "\n",
    "# additional functionality\n",
    "from paramorse.utils.render import display_md_table\n",
    "from paramorse.utils.render import trunc_str"
   ]
  },
  {
   "cell_type": "markdown",
   "id": "4beccf48",
   "metadata": {},
   "source": [
    "## Repo README example"
   ]
  },
  {
   "cell_type": "code",
   "execution_count": 2,
   "id": "e386ea9c",
   "metadata": {},
   "outputs": [
    {
     "data": {
      "text/markdown": [
       "| Item | Value |\n",
       "| :--- | :--- |\n",
       "| cover | Should you go in there? Yes certainly, unless you are listening very carefully to what it is I am saying. |\n",
       "| payload | no |\n",
       "| package | Should you go in uh there? Yes certainly, unless you um are listening okay very carefully to uh what uh it is uh I am <br>saying. |\n",
       "| payload (dec) | NO |"
      ],
      "text/plain": [
       "<IPython.core.display.Markdown object>"
      ]
     },
     "metadata": {},
     "output_type": "display_data"
    }
   ],
   "source": [
    "# transform input text\n",
    "cover = (\n",
    "  \"Should you go in there? Yes certainly, unless you are \"\n",
    "  \"listening very carefully to what it is I am saying.\"\n",
    ")\n",
    "payload = \"no\"\n",
    "package = pm.encode(cover, payload)\n",
    "\n",
    "# decode to get back payload\n",
    "decoded_payload = pm.decode(package=package)\n",
    "\n",
    "rows = [\n",
    "    ['cover', cover],\n",
    "    ['payload', payload],\n",
    "    ['package', package],\n",
    "    ['payload (dec)', decoded_payload],\n",
    "]\n",
    "\n",
    "# these are the defaults for pm.md_table(...)\n",
    "# so included only in this first example\n",
    "columns = [\"Item\", \"Value\"]\n",
    "col_min_widths = [13, 13]\n",
    "justify = [\"left\", \"left\"]\n",
    "\n",
    "display_md_table(rows, columns, justify, col_min_widths)\n",
    "\n"
   ]
  },
  {
   "cell_type": "markdown",
   "id": "e423b9ba",
   "metadata": {},
   "source": [
    "## More encode/decode examples \n",
    "\n",
    "The `encode` and `decode` functions provide a simple to execute transformation from base to variant (and back).  \n",
    "From the `paramorse.core.transform` module, we have:\n",
    "\n",
    "```python\n",
    "# transform.py\n",
    "\n",
    "def encode(\n",
    "        cover: str,\n",
    "        payload: str,\n",
    "        config: dict | None=None,\n",
    "        output_path: str | None=None,\n",
    "    ) -> str:\n",
    "    ...\n",
    "\n",
    "def decode(\n",
    "        package: str,\n",
    "        config: dict | None=None,\n",
    "        output_path: str | None=None,\n",
    "    ) -> str:\n",
    "    ...\n",
    "\n",
    "```"
   ]
  },
  {
   "cell_type": "markdown",
   "id": "c7b2b884",
   "metadata": {},
   "source": [
    "### Repo README example with updated config"
   ]
  },
  {
   "cell_type": "code",
   "execution_count": 3,
   "id": "dbcf1c3b",
   "metadata": {},
   "outputs": [
    {
     "data": {
      "text/markdown": [
       "| Item | Value |\n",
       "| :--- | :--- |\n",
       "| dot_token | eh |\n",
       "| dash_token | mhm |\n",
       "| letter_separator | hrm |"
      ],
      "text/plain": [
       "<IPython.core.display.Markdown object>"
      ]
     },
     "metadata": {},
     "output_type": "display_data"
    },
    {
     "data": {
      "text/markdown": [
       "| Item | Value |\n",
       "| :--- | :--- |\n",
       "| cover | Should you go there? Yes certainly, unless you are listening very carefully to what it is I am saying. |\n",
       "| payload | no |\n",
       "| package | Should you mhm go there? Yes certainly, unless you eh are listening very hrm carefully to what it is mhm I mhm am <br>saying. mhm  |\n",
       "| payload (dec) | NO |"
      ],
      "text/plain": [
       "<IPython.core.display.Markdown object>"
      ]
     },
     "metadata": {},
     "output_type": "display_data"
    }
   ],
   "source": [
    "# set new paralanguage tokens\n",
    "config = {\n",
    "    \"dot_token\": \"eh\",\n",
    "    \"dash_token\": \"mhm\",\n",
    "    \"letter_separator\": \"hrm\",\n",
    "}\n",
    "\n",
    "# transform input text\n",
    "cover = (\n",
    "  \"Should you go there? Yes certainly, unless you are \"\n",
    "  \"listening very carefully to what it is I am saying.\"\n",
    ")\n",
    "\n",
    "payload = \"no\"\n",
    "\n",
    "package = pm.encode(cover, payload, config)\n",
    "\n",
    "# decode to get back payload\n",
    "decoded_payload = pm.decode(package, config)\n",
    "\n",
    "rows = [\n",
    "    # ['config', config],\n",
    "    ['cover', cover],\n",
    "    ['payload', payload],\n",
    "    ['package', package],\n",
    "    ['payload (dec)', decoded_payload],\n",
    "]\n",
    "\n",
    "display_md_table(list(config.items()))\n",
    "\n",
    "display_md_table(rows)\n"
   ]
  },
  {
   "cell_type": "markdown",
   "id": "1756a662",
   "metadata": {},
   "source": [
    "### Example with multi-word payload"
   ]
  },
  {
   "cell_type": "code",
   "execution_count": 4,
   "id": "22631a53",
   "metadata": {},
   "outputs": [
    {
     "data": {
      "text/markdown": [
       "| Item | Value |\n",
       "| :--- | :--- |\n",
       "| dot_token | uh |\n",
       "| dash_token | um |\n",
       "| letter_separator | okay |\n",
       "| word_separator | alright |"
      ],
      "text/plain": [
       "<IPython.core.display.Markdown object>"
      ]
     },
     "metadata": {},
     "output_type": "display_data"
    },
    {
     "data": {
      "text/markdown": [
       "| Item | Value |\n",
       "| :--- | :--- |\n",
       "| cover | In English, what is an example conjugation of the verb to be in the present tense? |\n",
       "| payload | i am |\n",
       "| package | uh In English, what is uh an alright example conjugation of the uh verb um to okay be in the um present um tense? |\n",
       "| payload (dec) | I AM |"
      ],
      "text/plain": [
       "<IPython.core.display.Markdown object>"
      ]
     },
     "metadata": {},
     "output_type": "display_data"
    }
   ],
   "source": [
    "config = {\n",
    "    # these are all default\n",
    "    \"dot_token\": \"uh\",\n",
    "    \"dash_token\": \"um\",\n",
    "    \"letter_separator\": \"okay\",\n",
    "    \"word_separator\": \"alright\",\n",
    "} \n",
    "\n",
    "cover = (\n",
    "    \"In English, what is an example conjugation of the verb to be in the present tense?\"\n",
    ")\n",
    "\n",
    "payload = \"i am\"\n",
    "\n",
    "package = pm.encode(cover, payload, config)\n",
    "\n",
    "decoded_payload = pm.decode(package, config)\n",
    "\n",
    "rows = [\n",
    "    # ['config', config],\n",
    "    ['cover', cover],\n",
    "    ['payload', payload],\n",
    "    ['package', package],\n",
    "    ['payload (dec)', decoded_payload],\n",
    "]\n",
    "\n",
    "display_md_table(list(config.items()))\n",
    "\n",
    "display_md_table(rows)\n"
   ]
  },
  {
   "cell_type": "code",
   "execution_count": 5,
   "id": "129018d2",
   "metadata": {},
   "outputs": [
    {
     "data": {
      "text/markdown": [
       "| Item | Value |\n",
       "| :--- | :--- |\n",
       "| dot_token | eh |\n",
       "| dash_token | mhm |\n",
       "| letter_separator | hrm |\n",
       "| word_separator | huh |"
      ],
      "text/plain": [
       "<IPython.core.display.Markdown object>"
      ]
     },
     "metadata": {},
     "output_type": "display_data"
    },
    {
     "data": {
      "text/markdown": [
       "| Item | Value |\n",
       "| :--- | :--- |\n",
       "| cover | In English, what is an example conjugation of the verb to be in the present tense? |\n",
       "| payload | i am |\n",
       "| package | In eh English, eh what is huh an eh example conjugation of mhm the hrm verb to mhm be mhm in the present tense? |\n",
       "| payload (dec) | I AM |"
      ],
      "text/plain": [
       "<IPython.core.display.Markdown object>"
      ]
     },
     "metadata": {},
     "output_type": "display_data"
    }
   ],
   "source": [
    "config = {\n",
    "    # none of these are default\n",
    "    \"dot_token\": \"eh\",\n",
    "    \"dash_token\": \"mhm\",\n",
    "    \"letter_separator\": \"hrm\",\n",
    "    \"word_separator\": \"huh\",\n",
    "} \n",
    "\n",
    "cover = (\n",
    "    \"In English, what is an example conjugation of the verb to be in the present tense?\"\n",
    ")\n",
    "\n",
    "payload = \"i am\"\n",
    "\n",
    "package = pm.encode(cover, payload, config)\n",
    "\n",
    "decoded_payload = pm.decode(package, config)\n",
    "\n",
    "rows = [\n",
    "    # ['config', config],\n",
    "    ['cover', cover],\n",
    "    ['payload', payload],\n",
    "    ['package', package],\n",
    "    ['payload (dec)', decoded_payload],\n",
    "]\n",
    "\n",
    "display_md_table(list(config.items()))\n",
    "\n",
    "display_md_table(rows)"
   ]
  },
  {
   "cell_type": "markdown",
   "id": "c892b9df",
   "metadata": {},
   "source": [
    "### Example saving enc/dec outputs"
   ]
  },
  {
   "cell_type": "code",
   "execution_count": 6,
   "id": "572cc60f",
   "metadata": {},
   "outputs": [
    {
     "data": {
      "text/markdown": [
       "| Item | Value |\n",
       "| :--- | :--- |\n",
       "| dot_token | eh |\n",
       "| dash_token | mhm |\n",
       "| letter_separator | hrm |\n",
       "| word_separator | huh |"
      ],
      "text/plain": [
       "<IPython.core.display.Markdown object>"
      ]
     },
     "metadata": {},
     "output_type": "display_data"
    },
    {
     "data": {
      "text/markdown": [
       "| Item | Value |\n",
       "| :--- | :--- |\n",
       "| cover | In English, what is an example conjugation of the verb to be in the present tense? |\n",
       "| payload | i am |\n",
       "| package | um In English, um what is an example alright conjugation of the um verb to uh be in okay the uh present tense? uh  |\n",
       "| payload (dec) | I AM |\n",
       "| encode output path | data/examples_basic/tobe_encode.txt |\n",
       "| decode output path | data/examples_basic/tobe_decode.json |"
      ],
      "text/plain": [
       "<IPython.core.display.Markdown object>"
      ]
     },
     "metadata": {},
     "output_type": "display_data"
    }
   ],
   "source": [
    "cover = (\n",
    "  \"In English, what is an example conjugation of the verb to be in the present tense?\"\n",
    ")\n",
    "\n",
    "payload = \"i am\"\n",
    "\n",
    "encode_output_path = \"data/examples_basic/tobe_encode.txt\"\n",
    "package = pm.encode(cover, payload, output_path=encode_output_path)\n",
    "\n",
    "decode_output_path = \"data/examples_basic/tobe_decode.json\"\n",
    "decoded_payload = pm.decode(package, output_path=decode_output_path)\n",
    "\n",
    "rows = [\n",
    "    # ['config', config],\n",
    "    ['cover', cover],\n",
    "    ['payload', payload],\n",
    "    ['package', package],\n",
    "    ['payload (dec)', decoded_payload],\n",
    "    ['encode output path', encode_output_path],\n",
    "    ['decode output path', decode_output_path],\n",
    "]\n",
    "\n",
    "display_md_table(list(config.items()))\n",
    "\n",
    "display_md_table(rows)"
   ]
  },
  {
   "cell_type": "markdown",
   "id": "e0bf15aa",
   "metadata": {},
   "source": [
    "#### Review encode data"
   ]
  },
  {
   "cell_type": "code",
   "execution_count": 7,
   "id": "cb309615",
   "metadata": {},
   "outputs": [
    {
     "data": {
      "text/markdown": [
       "| Item | Value |\n",
       "| :--- | :--- |\n",
       "| encode_data | um In English, um what is an example alright conjugation of the um verb to uh be in okay the uh present tense? uh  |"
      ],
      "text/plain": [
       "<IPython.core.display.Markdown object>"
      ]
     },
     "metadata": {},
     "output_type": "display_data"
    }
   ],
   "source": [
    "with open('data/examples_basic/tobe_encode.txt', 'r', encoding = 'utf8') as file:\n",
    "        encode_data = file.read()\n",
    "\n",
    "rows = [['encode_data', encode_data]]\n",
    "\n",
    "display_md_table(rows)"
   ]
  },
  {
   "cell_type": "code",
   "execution_count": 8,
   "id": "cb216fe4",
   "metadata": {},
   "outputs": [
    {
     "data": {
      "text/markdown": [
       "| Item | Value |\n",
       "| :--- | :--- |\n",
       "| variant_cfg_input | None |\n",
       "| variant_cfg | {'dot_token': 'um', 'dash_token': 'uh', 'letter_separator':  ... |"
      ],
      "text/plain": [
       "<IPython.core.display.Markdown object>"
      ]
     },
     "metadata": {},
     "output_type": "display_data"
    }
   ],
   "source": [
    "with open('data/examples_basic/tobe_encode_meta.json', 'r') as file:\n",
    "    encode_metadata = json.load(file)\n",
    "\n",
    "rows = []\n",
    "for key, value in encode_metadata.items():\n",
    "    row = [key, trunc_str(str(value), 60)]\n",
    "    rows.append(row)\n",
    "\n",
    "display_md_table(rows)"
   ]
  },
  {
   "cell_type": "code",
   "execution_count": 9,
   "id": "c2ffaa42",
   "metadata": {},
   "outputs": [
    {
     "name": "stdout",
     "output_type": "stream",
     "text": [
      "encode_metadata['variant_cfg']:\n"
     ]
    },
    {
     "data": {
      "text/markdown": [
       "| Item | Value |\n",
       "| :--- | :--- |\n",
       "| dot_token | um |\n",
       "| dash_token | uh |\n",
       "| letter_separator | okay |\n",
       "| word_separator | alright |\n",
       "| word_sep_overwrite | True |\n",
       "| allow_adjacent | False |\n",
       "| dd_para_map | {'.': 'um', '-': 'uh', ' ': 'okay', '/': 'alright'} |\n",
       "| symbol_to_dd | {'A': '.-', 'B': '-...', 'C': '-.-.', 'D': '-..', 'E': '.',  ... |\n",
       "| dd_to_symbol | {'.-': 'A', '-...': 'B', '-.-.': 'C', '-..': 'D', '.': 'E',  ... |\n",
       "| symbol_to_para | {'A': ['um', 'uh'], 'B': ['uh', 'um', 'um', 'um'], 'C': ['uh ... |\n",
       "| spacy_model | en_core_web_sm |\n",
       "| language | en-US |"
      ],
      "text/plain": [
       "<IPython.core.display.Markdown object>"
      ]
     },
     "metadata": {},
     "output_type": "display_data"
    }
   ],
   "source": [
    "print(f\"encode_metadata['variant_cfg']:\")\n",
    "\n",
    "_max_char_per_value = 60\n",
    "\n",
    "rows = []\n",
    "for key, value  in encode_metadata['variant_cfg'].items():\n",
    "    if len(str(value)) > _max_char_per_value:\n",
    "        value_print = str(value)[0:_max_char_per_value] + \" ...\"\n",
    "    else:\n",
    "        value_print = value \n",
    "    row = [key, value_print]\n",
    "    rows.append(row)\n",
    "\n",
    "display_md_table(rows)"
   ]
  },
  {
   "cell_type": "code",
   "execution_count": 10,
   "id": "63642623",
   "metadata": {},
   "outputs": [
    {
     "name": "stdout",
     "output_type": "stream",
     "text": [
      "encode_metadata['variant_cfg']['symbol_to_para']:\n"
     ]
    },
    {
     "data": {
      "text/markdown": [
       "| Item | Value |\n",
       "| :--- | :--- |\n",
       "| A | ['um', 'uh'] |\n",
       "| B | ['uh', 'um', 'um', 'um'] |\n",
       "| C | ['uh', 'um', 'uh', 'um'] |\n",
       "| D | ['uh', 'um', 'um'] |\n",
       "| E | ['um'] |\n",
       "| F | ['um', 'um', 'uh', 'um'] |\n",
       "| G | ['uh', 'uh', 'um'] |\n",
       "| H | ['um', 'um', 'um', 'um'] |\n",
       "| I | ['um', 'um'] |\n",
       "| J | ['um', 'uh', 'uh', 'uh'] |\n",
       "| K | ['uh', 'um', 'uh'] |\n",
       "| ... | ... |"
      ],
      "text/plain": [
       "<IPython.core.display.Markdown object>"
      ]
     },
     "metadata": {},
     "output_type": "display_data"
    }
   ],
   "source": [
    "print(f\"encode_metadata['variant_cfg']['symbol_to_para']:\")\n",
    "\n",
    "_max_char_per_value = 60\n",
    "\n",
    "rows = []\n",
    "stop_key = \"K\"\n",
    "for key, value  in encode_metadata['variant_cfg']['symbol_to_para'].items():\n",
    "    if len(str(value)) > _max_char_per_value:\n",
    "        value_print = str(value)[0:_max_char_per_value] + \" ...\"\n",
    "    else:\n",
    "        value_print = value \n",
    "    row = [key, value_print]\n",
    "    rows.append(row)\n",
    "    if key == stop_key:\n",
    "        rows.append([\"...\", \"...\"])\n",
    "        break\n",
    "\n",
    "\n",
    "display_md_table(rows)"
   ]
  },
  {
   "cell_type": "markdown",
   "id": "8a1bbb2e",
   "metadata": {},
   "source": [
    "#### Review decode data"
   ]
  },
  {
   "cell_type": "code",
   "execution_count": 11,
   "id": "01e3130d",
   "metadata": {},
   "outputs": [
    {
     "data": {
      "text/markdown": [
       "| Item | Value |\n",
       "| :--- | :--- |\n",
       "| pay_para | ['um', 'um', 'alright', 'um', 'uh', 'okay', 'uh', 'uh'] |\n",
       "| pay_text | I AM |\n",
       "| pay_morse | `.. / .- --` |"
      ],
      "text/plain": [
       "<IPython.core.display.Markdown object>"
      ]
     },
     "metadata": {},
     "output_type": "display_data"
    }
   ],
   "source": [
    "with open('data/examples_basic/tobe_decode.json', 'r') as file:\n",
    "    decode_data = json.load(file)\n",
    "\n",
    "_max_char_per_value = 60\n",
    "rows = []\n",
    "for key, value  in decode_data.items():\n",
    "    if len(str(value)) > _max_char_per_value:\n",
    "        value_print = str(value)[0:_max_char_per_value] + \" ...\"\n",
    "    else:\n",
    "        value_print = value \n",
    "    if key == 'pay_morse':\n",
    "        value_print = '`' + value_print + '`'\n",
    "    row = [key, value_print]\n",
    "    rows.append(row)\n",
    "\n",
    "display_md_table(rows)"
   ]
  },
  {
   "cell_type": "code",
   "execution_count": 12,
   "id": "ce43171f",
   "metadata": {},
   "outputs": [
    {
     "data": {
      "text/markdown": [
       "| Item | Value |\n",
       "| :--- | :--- |\n",
       "| variant_cfg_input | None |\n",
       "| variant_cfg | {'dot_token': 'um', 'dash_token': 'uh', 'letter_separator':  ... |"
      ],
      "text/plain": [
       "<IPython.core.display.Markdown object>"
      ]
     },
     "metadata": {},
     "output_type": "display_data"
    }
   ],
   "source": [
    "with open('data/examples_basic/tobe_decode_meta.json', 'r') as file:\n",
    "    decode_metadata = json.load(file)\n",
    "\n",
    "rows = []\n",
    "for key, value in decode_metadata.items():\n",
    "    row = [key, trunc_str(str(value), 60)]\n",
    "    rows.append(row)\n",
    "\n",
    "display_md_table(rows)"
   ]
  }
 ],
 "metadata": {
  "kernelspec": {
   "display_name": "paramorse_env_3129_01",
   "language": "python",
   "name": "python3"
  },
  "language_info": {
   "codemirror_mode": {
    "name": "ipython",
    "version": 3
   },
   "file_extension": ".py",
   "mimetype": "text/x-python",
   "name": "python",
   "nbconvert_exporter": "python",
   "pygments_lexer": "ipython3",
   "version": "3.12.9"
  }
 },
 "nbformat": 4,
 "nbformat_minor": 5
}
