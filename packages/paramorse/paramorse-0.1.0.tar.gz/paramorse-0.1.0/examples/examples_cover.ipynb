{
 "cells": [
  {
   "cell_type": "markdown",
   "id": "16080c4d",
   "metadata": {},
   "source": [
    "# Cover examples\n",
    "\n",
    "This notebook contains `paramorse.core.cover` examples of the `paramorse` package.   \n",
    "See the [Examples README](README.md) for more info (including how to run Jupyter this notebook).\n",
    "\n",
    "Refer to the [ParaMorse maps](../docs/paramorse_maps.md) for the mappings between text symbols, Morse code marks, and paralanguage."
   ]
  },
  {
   "cell_type": "code",
   "execution_count": 1,
   "id": "0b3eeca3",
   "metadata": {},
   "outputs": [],
   "source": [
    "# notebook setup\n",
    "\n",
    "# import beta of public api\n",
    "import paramorse as pm\n",
    "\n",
    "# additional functionality\n",
    "# from paramorse.utils.render import pm_pprint\n",
    "# from paramorse.utils.render import display_md_table\n",
    "from paramorse.utils.render import print_md_table_str\n",
    "import paramorse.core.cover as pm_cover"
   ]
  },
  {
   "cell_type": "markdown",
   "id": "7d244010",
   "metadata": {},
   "source": [
    "## Build cover\n",
    "\n",
    "The `build_cover` function can take a `str` and will output a varieties of tokenizations necessary for ParaMorse encoding and decoding."
   ]
  },
  {
   "cell_type": "code",
   "execution_count": 2,
   "id": "42c6db74",
   "metadata": {},
   "outputs": [
    {
     "name": "stdout",
     "output_type": "stream",
     "text": [
      "| Item                      | Value                                                     |\n",
      "| ------------------------- | --------------------------------------------------------- |\n",
      "| cover_text                | hi there, how's it going?                                 |\n",
      "| cover_parse_sdoc          | hi there, how's it going?                                 |\n",
      "| cover_parse_stoks         | [hi, there, ,, how, 's, it, going, ?]                     |\n",
      "| cover_parse_list          | ['hi', 'there', ',', 'how', \"'s\", 'it', 'going', '?']     |\n",
      "| cover_parse_list_ws       | ['hi ', 'there', ', ', 'how', \"'s \", 'it ', 'going', '?'] |\n",
      "| cover_parse_cap           | [1, 1, 0, 1, 0, 1, 1, 0]                                  |\n",
      "| cover_list                | ['hi ', 'there, ', \"how's \", 'it ', 'going?']             |\n",
      "| cover_tokens              | ['hi ', 'there, ', \"how's \", 'it ', 'going?']             |\n",
      "| cover_tokens_cap          | [1, 1, 1, 1, 1]                                           |\n",
      "| cover_tokens_stok_subsets | [[0], [1, 2], [3, 4], [5], [6, 7]]                        |\n"
     ]
    }
   ],
   "source": [
    "my_cover = \"hi there, how's it going?\"\n",
    "cover_dict = pm_cover.build_cover(my_cover)\n",
    "\n",
    "# print dict\n",
    "# pm_pprint(cover_dict)\n",
    "# table view\n",
    "# display(md_table(list(cover_dict.items())))\n",
    "# monospace output\n",
    "print_md_table_str(list(cover_dict.items()))\n"
   ]
  }
 ],
 "metadata": {
  "kernelspec": {
   "display_name": "paramorse_env_3129_01",
   "language": "python",
   "name": "python3"
  },
  "language_info": {
   "codemirror_mode": {
    "name": "ipython",
    "version": 3
   },
   "file_extension": ".py",
   "mimetype": "text/x-python",
   "name": "python",
   "nbconvert_exporter": "python",
   "pygments_lexer": "ipython3",
   "version": "3.12.9"
  }
 },
 "nbformat": 4,
 "nbformat_minor": 5
}
