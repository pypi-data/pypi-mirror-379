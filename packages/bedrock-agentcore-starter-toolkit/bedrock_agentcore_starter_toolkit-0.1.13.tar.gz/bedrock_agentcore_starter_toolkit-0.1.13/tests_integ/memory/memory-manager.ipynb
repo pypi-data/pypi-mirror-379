{
 "cells": [
  {
   "cell_type": "code",
   "execution_count": 1,
   "metadata": {},
   "outputs": [],
   "source": [
    "from bedrock_agentcore_starter_toolkit.operations.memory.manager import Memory, MemoryManager"
   ]
  },
  {
   "cell_type": "code",
   "execution_count": 2,
   "metadata": {},
   "outputs": [
    {
     "name": "stderr",
     "output_type": "stream",
     "text": [
      "✅ MemoryManager initialized for region: us-east-1\n"
     ]
    },
    {
     "name": "stdout",
     "output_type": "stream",
     "text": [
      "\n",
      "========================= CONTROL PLANE DEMO =========================\n",
      "🔍 DEBUG: Starting control plane operations...\n"
     ]
    },
    {
     "name": "stderr",
     "output_type": "stream",
     "text": [
      "Memory already exists. Using existing memory ID: DemoLongTermMemory-9t9zeCFzmr\n",
      "🔎 Retrieving memory resource with ID: DemoLongTermMemory-9t9zeCFzmr...\n",
      "  ✅ Found memory: DemoLongTermMemory-9t9zeCFzmr\n"
     ]
    },
    {
     "name": "stdout",
     "output_type": "stream",
     "text": [
      "🔍 DEBUG: Short-term memory created successfully\n"
     ]
    },
    {
     "data": {
      "text/plain": [
       "{'arn': 'arn:aws:bedrock-agentcore:us-east-1:328307993871:memory/DemoLongTermMemory-9t9zeCFzmr', 'id': 'DemoLongTermMemory-9t9zeCFzmr', 'name': 'DemoLongTermMemory', 'description': 'A memory for long-lived conversations.', 'eventExpiryDuration': 90, 'status': 'ACTIVE', 'createdAt': datetime.datetime(2025, 9, 18, 19, 3, 35, 654000, tzinfo=tzlocal()), 'updatedAt': datetime.datetime(2025, 9, 18, 19, 3, 35, 840000, tzinfo=tzlocal()), 'strategies': [{'strategyId': 'fact_extractor-srMyD87TfT', 'name': 'fact_extractor', 'description': 'Extracts and stores factual information', 'type': 'SEMANTIC', 'namespaces': ['support/user/{sessionId}/{actorId}/facts'], 'createdAt': datetime.datetime(2025, 9, 18, 19, 3, 35, 654000, tzinfo=tzlocal()), 'updatedAt': datetime.datetime(2025, 9, 18, 19, 3, 35, 840000, tzinfo=tzlocal()), 'status': 'ACTIVE'}]}"
      ]
     },
     "execution_count": 2,
     "metadata": {},
     "output_type": "execute_result"
    }
   ],
   "source": [
    "print(\"\\n\" + \"=\" * 25 + \" CONTROL PLANE DEMO \" + \"=\" * 25)\n",
    "\n",
    "manager = MemoryManager(region_name=\"us-east-1\")\n",
    "\n",
    "print(\"🔍 DEBUG: Starting control plane operations...\")\n",
    "\n",
    "memory: Memory = manager.get_or_create_memory(\n",
    "    name=\"DemoLongTermMemory\", description=\"A temporary memory for short-lived conversations.\"\n",
    ")\n",
    "print(\"🔍 DEBUG: Short-term memory created successfully\")\n",
    "memory"
   ]
  },
  {
   "cell_type": "code",
   "execution_count": 3,
   "metadata": {},
   "outputs": [],
   "source": [
    "# MEMORY_ID = \"DemoLongTermMemory-uJZDq62oUz\""
   ]
  },
  {
   "cell_type": "code",
   "execution_count": 4,
   "metadata": {},
   "outputs": [
    {
     "name": "stdout",
     "output_type": "stream",
     "text": [
      "🔍 DEBUG: Memory found : {'arn': 'arn:aws:bedrock-agentcore:us-east-1:328307993871:memory/DemoLongTermMemory-9t9zeCFzmr', 'id': 'DemoLongTermMemory-9t9zeCFzmr', 'status': 'ACTIVE', 'createdAt': datetime.datetime(2025, 9, 18, 19, 3, 35, 654000, tzinfo=tzlocal()), 'updatedAt': datetime.datetime(2025, 9, 18, 19, 3, 35, 840000, tzinfo=tzlocal()), 'memoryId': 'DemoLongTermMemory-9t9zeCFzmr'}\n"
     ]
    }
   ],
   "source": [
    "# List all memories\n",
    "for memory_summary in manager.list_memories():\n",
    "    print(f\"🔍 DEBUG: Memory found : {memory_summary}\")"
   ]
  },
  {
   "cell_type": "code",
   "execution_count": 5,
   "metadata": {},
   "outputs": [],
   "source": [
    "# Get all the memory strategies available\n",
    "strategies = manager.get_memory_strategies(memory_id=memory.id)"
   ]
  },
  {
   "cell_type": "code",
   "execution_count": 6,
   "metadata": {},
   "outputs": [
    {
     "name": "stderr",
     "output_type": "stream",
     "text": [
      "Updated memory strategies for: DemoLongTermMemory-9t9zeCFzmr\n",
      "Waiting for memory DemoLongTermMemory-9t9zeCFzmr to return to ACTIVE state and strategies to reach terminal states...\n",
      "Memory DemoLongTermMemory-9t9zeCFzmr is ACTIVE and all strategies are in terminal states (took 0 seconds)\n"
     ]
    },
    {
     "name": "stdout",
     "output_type": "stream",
     "text": [
      "🔍 DEBUG: Summary strategy added successfully\n"
     ]
    }
   ],
   "source": [
    "if \"SummaryStrategy\" not in [stragegy.name for stragegy in strategies]:\n",
    "    manager.add_summary_strategy_and_wait(\n",
    "        memory_id=memory.id,\n",
    "        name=\"SummaryStrategy\",\n",
    "        namespaces=[\"support/user/{actorId}/{sessionId}\"],\n",
    "    )\n",
    "    print(\"🔍 DEBUG: Summary strategy added successfully\")\n",
    "else:\n",
    "    print(\"🔍 DEBUG: Summary strategy already exists - skipping update\")"
   ]
  },
  {
   "cell_type": "code",
   "execution_count": 7,
   "metadata": {},
   "outputs": [
    {
     "data": {
      "text/plain": [
       "'A memory for long-lived conversations.'"
      ]
     },
     "execution_count": 7,
     "metadata": {},
     "output_type": "execute_result"
    }
   ],
   "source": [
    "# Using direct access capability to show memory fields\n",
    "memory.description"
   ]
  },
  {
   "cell_type": "code",
   "execution_count": 8,
   "metadata": {},
   "outputs": [
    {
     "name": "stderr",
     "output_type": "stream",
     "text": [
      "🔎 Retrieving memory resource with ID: DemoLongTermMemory-9t9zeCFzmr...\n",
      "  ✅ Found memory: DemoLongTermMemory-9t9zeCFzmr\n"
     ]
    }
   ],
   "source": [
    "# Fetch the memory again to see the updated strategies\n",
    "get_response = manager.get_memory(memory_id=memory.id)"
   ]
  },
  {
   "cell_type": "code",
   "execution_count": 9,
   "metadata": {},
   "outputs": [
    {
     "data": {
      "text/plain": [
       "'ACTIVE'"
      ]
     },
     "execution_count": 9,
     "metadata": {},
     "output_type": "execute_result"
    }
   ],
   "source": [
    "get_response.status"
   ]
  },
  {
   "cell_type": "code",
   "execution_count": 10,
   "metadata": {},
   "outputs": [
    {
     "data": {
      "text/plain": [
       "{'strategyId': 'SummaryStrategy-MyxOdo9AGm', 'name': 'SummaryStrategy', 'type': 'SUMMARIZATION', 'namespaces': ['support/user/{actorId}/{sessionId}'], 'createdAt': datetime.datetime(2025, 9, 22, 17, 28, 15, 587000, tzinfo=tzlocal()), 'updatedAt': datetime.datetime(2025, 9, 22, 17, 28, 15, 587000, tzinfo=tzlocal()), 'status': 'ACTIVE'}"
      ]
     },
     "execution_count": 10,
     "metadata": {},
     "output_type": "execute_result"
    }
   ],
   "source": [
    "strategy = manager.get_memory_strategies(memory_id=memory.id)[0]\n",
    "strategy"
   ]
  },
  {
   "cell_type": "code",
   "execution_count": 11,
   "metadata": {},
   "outputs": [
    {
     "name": "stderr",
     "output_type": "stream",
     "text": [
      "Updated memory strategies for: DemoLongTermMemory-9t9zeCFzmr\n"
     ]
    },
    {
     "data": {
      "text/plain": [
       "[{'arn': 'arn:aws:bedrock-agentcore:us-east-1:328307993871:memory/DemoLongTermMemory-9t9zeCFzmr', 'id': 'DemoLongTermMemory-9t9zeCFzmr', 'status': 'ACTIVE', 'createdAt': datetime.datetime(2025, 9, 18, 19, 3, 35, 654000, tzinfo=tzlocal()), 'updatedAt': datetime.datetime(2025, 9, 22, 17, 28, 16, 359000, tzinfo=tzlocal()), 'memoryId': 'DemoLongTermMemory-9t9zeCFzmr'}]"
      ]
     },
     "execution_count": 11,
     "metadata": {},
     "output_type": "execute_result"
    }
   ],
   "source": [
    "manager.delete_strategy(memory_id=memory.id, strategy_id=strategy[\"strategyId\"])\n",
    "manager.list_memories()"
   ]
  },
  {
   "cell_type": "code",
   "execution_count": 12,
   "metadata": {},
   "outputs": [
    {
     "data": {
      "text/plain": [
       "[{'strategyId': 'fact_extractor-srMyD87TfT', 'name': 'fact_extractor', 'description': 'Extracts and stores factual information', 'type': 'SEMANTIC', 'namespaces': ['support/user/{sessionId}/{actorId}/facts'], 'createdAt': datetime.datetime(2025, 9, 18, 19, 3, 35, 654000, tzinfo=tzlocal()), 'updatedAt': datetime.datetime(2025, 9, 18, 19, 3, 35, 840000, tzinfo=tzlocal()), 'status': 'ACTIVE'}]"
      ]
     },
     "execution_count": 12,
     "metadata": {},
     "output_type": "execute_result"
    }
   ],
   "source": [
    "manager.get_memory_strategies(memory_id=memory.id)"
   ]
  },
  {
   "cell_type": "code",
   "execution_count": 13,
   "metadata": {},
   "outputs": [],
   "source": [
    "# try:\n",
    "#     manager.delete_memory(memory_id=memory.id)\n",
    "# except Exception as e:\n",
    "#     print(f\"🔍 DEBUG: Error deleting memory: {e}\")\n",
    "#     pass"
   ]
  },
  {
   "cell_type": "code",
   "execution_count": 14,
   "metadata": {},
   "outputs": [
    {
     "name": "stderr",
     "output_type": "stream",
     "text": [
      "🔎 Retrieving memory resource with ID: DemoLongTermMemory-9t9zeCFzmr...\n",
      "  ✅ Found memory: DemoLongTermMemory-9t9zeCFzmr\n"
     ]
    },
    {
     "name": "stdout",
     "output_type": "stream",
     "text": [
      "🔍 DEBUG: Memory found with status: ACTIVE\n"
     ]
    }
   ],
   "source": [
    "try:\n",
    "    memory = manager.get_memory(memory_id=memory.id)\n",
    "    print(f\"🔍 DEBUG: Memory found with status: {memory.status}\")\n",
    "except Exception as e:\n",
    "    print(f\"🔍 DEBUG: Memory deletion confirmed. Error: {e}\")"
   ]
  }
 ],
 "metadata": {
  "kernelspec": {
   "display_name": "data_science",
   "language": "python",
   "name": "python3"
  },
  "language_info": {
   "codemirror_mode": {
    "name": "ipython",
    "version": 3
   },
   "file_extension": ".py",
   "mimetype": "text/x-python",
   "name": "python",
   "nbconvert_exporter": "python",
   "pygments_lexer": "ipython3",
   "version": "3.11.9"
  }
 },
 "nbformat": 4,
 "nbformat_minor": 4
}
