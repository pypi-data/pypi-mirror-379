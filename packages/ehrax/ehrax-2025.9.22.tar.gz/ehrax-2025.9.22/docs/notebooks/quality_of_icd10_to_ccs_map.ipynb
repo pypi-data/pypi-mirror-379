{
 "cells": [
  {
   "cell_type": "code",
   "execution_count": 1,
   "id": "7f9ea9db0b7e1006",
   "metadata": {
    "ExecuteTime": {
     "end_time": "2025-08-14T14:54:35.247192Z",
     "start_time": "2025-08-14T14:54:34.473134Z"
    }
   },
   "outputs": [
    {
     "name": "stdout",
     "output_type": "stream",
     "text": [
      "Requirement already satisfied: python-dotenv in /home/asem/anaconda3/envs/ICE-NODE/lib/python3.12/site-packages (1.1.1)\r\n",
      "Note: you may need to restart the kernel to use updated packages.\n"
     ]
    }
   ],
   "source": [
    "# If you wish to environment variables contained in a `.env` file.\n",
    "# Comment these lines if you do not need so.\n",
    "%pip install python-dotenv\n",
    "%load_ext dotenv\n",
    "%dotenv"
   ]
  },
  {
   "cell_type": "code",
   "execution_count": 2,
   "id": "525da1a09b24fbe1",
   "metadata": {
    "ExecuteTime": {
     "end_time": "2025-08-14T14:54:35.463957Z",
     "start_time": "2025-08-14T14:54:35.257142Z"
    }
   },
   "outputs": [
    {
     "name": "stdout",
     "output_type": "stream",
     "text": [
      " 20M \u001b[0m\u001b[01;31madmissions.csv.gz\u001b[0m\r\n",
      "2.5M \u001b[01;31mADMISSIONS.csv.gz\u001b[0m\r\n",
      " 33M \u001b[01;31mdiagnoses_icd.csv.gz\u001b[0m\r\n",
      "4.5M \u001b[01;31mDIAGNOSES_ICD.csv.gz\u001b[0m\r\n",
      "856K \u001b[01;31md_icd_diagnoses.csv.gz\u001b[0m\r\n",
      "280K \u001b[01;31mD_ICD_DIAGNOSES.csv.gz\u001b[0m\r\n",
      "2.8M \u001b[01;31mpatients.csv.gz\u001b[0m\r\n",
      "560K \u001b[01;31mPATIENTS.csv.gz\u001b[0m\r\n",
      "4.0K README.txt\r\n"
     ]
    }
   ],
   "source": [
    "import os\n",
    "\n",
    "\n",
    "# Either add the path here replacing `None` or through the environment variable ICEDYN_DATA\n",
    "ICEDYN_DATA = None\n",
    "ICEDYN_DATA = ICEDYN_DATA or os.environ.get(\"ICEDYN_DATA\")\n",
    "%ls -hs {ICEDYN_DATA} | grep -E \"(csv|txt)\""
   ]
  },
  {
   "cell_type": "code",
   "execution_count": 3,
   "id": "d30fa7557b2bb5f4",
   "metadata": {
    "ExecuteTime": {
     "end_time": "2025-08-14T14:54:41.405085Z",
     "start_time": "2025-08-14T14:54:40.283667Z"
    }
   },
   "outputs": [
    {
     "name": "stderr",
     "output_type": "stream",
     "text": [
      "DEBUG:2025-08-14 15:54:40,449:jax._src.path:37: etils.epath was not found. Using pathlib for file I/O.\n"
     ]
    }
   ],
   "source": [
    "import logging\n",
    "import os\n",
    "import shutil\n",
    "\n",
    "\n",
    "# We write the low-level log into the file data_proc.log in the current directory.\n",
    "if os.path.isdir(\"logs\"):\n",
    "    shutil.rmtree(\"logs\")\n",
    "os.makedirs(\"logs\")\n",
    "logging.basicConfig(\n",
    "    format=\"%(asctime)s,%(msecs)03d %(levelname)-8s [%(filename)s:%(lineno)d] %(message)s\",\n",
    "    datefmt=\"%Y-%m-%dT%H:%M:%S\",\n",
    "    encoding=\"utf-8\",\n",
    "    level=logging.DEBUG,\n",
    "    filename=\"logs/data_proc.log\",\n",
    "    filemode=\"w\",\n",
    ")\n",
    "\n",
    "import ehrax as rx\n",
    "from ehrax.example_datasets import study_mimic_dx_summary as rxd"
   ]
  },
  {
   "cell_type": "code",
   "execution_count": 4,
   "id": "283643fabef44e21",
   "metadata": {
    "ExecuteTime": {
     "end_time": "2025-08-08T19:36:08.624583Z",
     "start_time": "2025-08-08T19:33:10.246143Z"
    }
   },
   "outputs": [
    {
     "name": "stdout",
     "output_type": "stream",
     "text": [
      "CPU times: user 2min 50s, sys: 7.51 s, total: 2min 58s\n",
      "Wall time: 2min 58s\n"
     ]
    }
   ],
   "source": [
    "%%time\n",
    "m3_dataset_init, m3_schemes = rxd.mimiciii_from_paths(\n",
    "    patients=f\"{ICEDYN_DATA}/PATIENTS.csv.gz\",\n",
    "    admissions=f\"{ICEDYN_DATA}/ADMISSIONS.csv.gz\",\n",
    "    diagnoses_icd=f\"{ICEDYN_DATA}/DIAGNOSES_ICD.csv.gz\",\n",
    "    d_icd_diagnoses=f\"{ICEDYN_DATA}/D_ICD_DIAGNOSES.csv.gz\",\n",
    ")\n",
    "\n",
    "m4_dataset_init, m4_schemes = rxd.mimiciv_from_paths(\n",
    "    patients=f\"{ICEDYN_DATA}/patients.csv.gz\",\n",
    "    admissions=f\"{ICEDYN_DATA}/admissions.csv.gz\",\n",
    "    diagnoses_icd=f\"{ICEDYN_DATA}/diagnoses_icd.csv.gz\",\n",
    "    d_icd_diagnoses=f\"{ICEDYN_DATA}/d_icd_diagnoses.csv.gz\",\n",
    ")"
   ]
  },
  {
   "cell_type": "code",
   "execution_count": 5,
   "id": "df57a71eeb890229",
   "metadata": {
    "ExecuteTime": {
     "end_time": "2025-08-08T19:38:14.671720Z",
     "start_time": "2025-08-08T19:36:09.647672Z"
    }
   },
   "outputs": [
    {
     "data": {
      "application/vnd.jupyter.widget-view+json": {
       "model_id": "def212db79f34158923a737323c5e0f8",
       "version_major": 2,
       "version_minor": 0
      },
      "text/plain": [
       "Transforming Dataset:   0%|          | 0/9 [00:00<?, ?transformations/s]"
      ]
     },
     "metadata": {},
     "output_type": "display_data"
    },
    {
     "data": {
      "application/vnd.jupyter.widget-view+json": {
       "model_id": "8539c00f12874544b98dfbbf0e58a45b",
       "version_major": 2,
       "version_minor": 0
      },
      "text/plain": [
       "Transforming Dataset:   0%|          | 0/9 [00:00<?, ?transformations/s]"
      ]
     },
     "metadata": {},
     "output_type": "display_data"
    },
    {
     "name": "stdout",
     "output_type": "stream",
     "text": [
      "CPU times: user 2min 4s, sys: 887 ms, total: 2min 5s\n",
      "Wall time: 2min 5s\n"
     ]
    }
   ],
   "source": [
    "%%time\n",
    "\n",
    "# Combine both coding schemes managers into one manager\n",
    "mimic_schemes = m3_schemes + m4_schemes\n",
    "dataset_pipeline = rxd.default_dataset_pipeline()\n",
    "m3_dataset = m3_dataset_init.execute_pipeline(dataset_pipeline, mimic_schemes)\n",
    "m4_dataset = m4_dataset_init.execute_pipeline(dataset_pipeline, mimic_schemes)"
   ]
  },
  {
   "cell_type": "code",
   "execution_count": 6,
   "id": "8fa85de456b549ac",
   "metadata": {
    "ExecuteTime": {
     "end_time": "2025-08-08T19:40:11.679730Z",
     "start_time": "2025-08-08T19:38:16.121633Z"
    }
   },
   "outputs": [
    {
     "data": {
      "application/vnd.jupyter.widget-view+json": {
       "model_id": "885c46ee3f414d329dd45fc83ae202e0",
       "version_major": 2,
       "version_minor": 0
      },
      "text/plain": [
       "Transforming Dataset:   0%|          | 0/9 [00:00<?, ?transformations/s]"
      ]
     },
     "metadata": {},
     "output_type": "display_data"
    },
    {
     "data": {
      "application/vnd.jupyter.widget-view+json": {
       "model_id": "51c93a54697e425397f41d98472da294",
       "version_major": 2,
       "version_minor": 0
      },
      "text/plain": [
       "Transforming Dataset:   0%|          | 0/9 [00:00<?, ?transformations/s]"
      ]
     },
     "metadata": {},
     "output_type": "display_data"
    },
    {
     "name": "stdout",
     "output_type": "stream",
     "text": [
      "CPU times: user 1min 55s, sys: 390 ms, total: 1min 55s\n",
      "Wall time: 1min 55s\n"
     ]
    }
   ],
   "source": [
    "%%time\n",
    "m3_dataset = m3_dataset_init.execute_pipeline(dataset_pipeline, mimic_schemes)\n",
    "m4_dataset = m4_dataset_init.execute_pipeline(dataset_pipeline, mimic_schemes)"
   ]
  },
  {
   "cell_type": "code",
   "execution_count": 13,
   "id": "bea93388cdd00394",
   "metadata": {
    "ExecuteTime": {
     "end_time": "2025-08-08T19:51:33.110910Z",
     "start_time": "2025-08-08T19:51:33.106228Z"
    }
   },
   "outputs": [],
   "source": [
    "m3_hist_stats = m3_dataset.stats(mimic_schemes).target_hist\n",
    "m4_hist_stats = m4_dataset.stats(mimic_schemes).target_hist"
   ]
  },
  {
   "cell_type": "code",
   "execution_count": 35,
   "id": "69045c33f5c3c43f",
   "metadata": {
    "ExecuteTime": {
     "end_time": "2025-08-08T21:39:01.832131Z",
     "start_time": "2025-08-08T21:38:44.787579Z"
    }
   },
   "outputs": [],
   "source": [
    "import pandas as pd\n",
    "\n",
    "\n",
    "m0 = mimic_schemes.map[(\"icd10cm\", \"dx_ccs\")]\n",
    "m1 = mimic_schemes.map[(\"icd9cm\", \"dx_ccs\")]\n",
    "m2 = mimic_schemes.make_chained_map((\"icd10cm\", \"icd9cm\", \"dx_ccs\"))\n",
    "dx_ccs_quality = pd.DataFrame(\n",
    "    [(len(m.domain), len(m.range)) for m in (m0, m1, m2)],\n",
    "    index=[\"icd10cm->dx_ccs\", \"icd9cm->dx_ccs\", \"icd10cm->icd9cm->dx_ccs\"],\n",
    "    columns=[\"domain\", \"range\"],\n",
    ")"
   ]
  },
  {
   "cell_type": "code",
   "execution_count": 36,
   "id": "c4924a6aa3c6a422",
   "metadata": {
    "ExecuteTime": {
     "end_time": "2025-08-08T21:39:19.595196Z",
     "start_time": "2025-08-08T21:39:05.722056Z"
    }
   },
   "outputs": [],
   "source": [
    "m0 = mimic_schemes.map[(\"icd10cm\", \"dx_flat_ccs\")]\n",
    "m1 = mimic_schemes.map[(\"icd9cm\", \"dx_flat_ccs\")]\n",
    "m2 = mimic_schemes.make_chained_map((\"icd10cm\", \"icd9cm\", \"dx_flat_ccs\"))\n",
    "dx_flat_ccs_quality = pd.DataFrame(\n",
    "    [(len(m.domain), len(m.range)) for m in (m0, m1, m2)],\n",
    "    index=[\"icd10cm->dx_flat_ccs\", \"icd9cm->dx_flat_ccs\", \"icd10cm->icd9cm->dx_flat_ccs\"],\n",
    "    columns=[\"domain\", \"range\"],\n",
    ")"
   ]
  },
  {
   "cell_type": "code",
   "execution_count": 37,
   "id": "2d3f32da58bd5b7",
   "metadata": {
    "ExecuteTime": {
     "end_time": "2025-08-08T21:39:38.975457Z",
     "start_time": "2025-08-08T21:39:38.961617Z"
    }
   },
   "outputs": [
    {
     "data": {
      "text/html": [
       "<div>\n",
       "<style scoped>\n",
       "    .dataframe tbody tr th:only-of-type {\n",
       "        vertical-align: middle;\n",
       "    }\n",
       "\n",
       "    .dataframe tbody tr th {\n",
       "        vertical-align: top;\n",
       "    }\n",
       "\n",
       "    .dataframe thead th {\n",
       "        text-align: right;\n",
       "    }\n",
       "</style>\n",
       "<table border=\"1\" class=\"dataframe\">\n",
       "  <thead>\n",
       "    <tr style=\"text-align: right;\">\n",
       "      <th></th>\n",
       "      <th>domain</th>\n",
       "      <th>range</th>\n",
       "    </tr>\n",
       "  </thead>\n",
       "  <tbody>\n",
       "    <tr>\n",
       "      <th>icd10cm-&gt;dx_ccs</th>\n",
       "      <td>71844</td>\n",
       "      <td>283</td>\n",
       "    </tr>\n",
       "    <tr>\n",
       "      <th>icd9cm-&gt;dx_ccs</th>\n",
       "      <td>15045</td>\n",
       "      <td>589</td>\n",
       "    </tr>\n",
       "    <tr>\n",
       "      <th>icd10cm-&gt;icd9cm-&gt;dx_ccs</th>\n",
       "      <td>70678</td>\n",
       "      <td>588</td>\n",
       "    </tr>\n",
       "  </tbody>\n",
       "</table>\n",
       "</div>"
      ],
      "text/plain": [
       "                         domain  range\n",
       "icd10cm->dx_ccs           71844    283\n",
       "icd9cm->dx_ccs            15045    589\n",
       "icd10cm->icd9cm->dx_ccs   70678    588"
      ]
     },
     "execution_count": 37,
     "metadata": {},
     "output_type": "execute_result"
    }
   ],
   "source": [
    "dx_ccs_quality"
   ]
  },
  {
   "cell_type": "code",
   "execution_count": 38,
   "id": "63a200fea42ba0e7",
   "metadata": {
    "ExecuteTime": {
     "end_time": "2025-08-08T21:39:43.145493Z",
     "start_time": "2025-08-08T21:39:43.137822Z"
    }
   },
   "outputs": [
    {
     "data": {
      "text/html": [
       "<div>\n",
       "<style scoped>\n",
       "    .dataframe tbody tr th:only-of-type {\n",
       "        vertical-align: middle;\n",
       "    }\n",
       "\n",
       "    .dataframe tbody tr th {\n",
       "        vertical-align: top;\n",
       "    }\n",
       "\n",
       "    .dataframe thead th {\n",
       "        text-align: right;\n",
       "    }\n",
       "</style>\n",
       "<table border=\"1\" class=\"dataframe\">\n",
       "  <thead>\n",
       "    <tr style=\"text-align: right;\">\n",
       "      <th></th>\n",
       "      <th>domain</th>\n",
       "      <th>range</th>\n",
       "    </tr>\n",
       "  </thead>\n",
       "  <tbody>\n",
       "    <tr>\n",
       "      <th>icd10cm-&gt;dx_flat_ccs</th>\n",
       "      <td>71844</td>\n",
       "      <td>283</td>\n",
       "    </tr>\n",
       "    <tr>\n",
       "      <th>icd9cm-&gt;dx_flat_ccs</th>\n",
       "      <td>15045</td>\n",
       "      <td>283</td>\n",
       "    </tr>\n",
       "    <tr>\n",
       "      <th>icd10cm-&gt;icd9cm-&gt;dx_flat_ccs</th>\n",
       "      <td>70678</td>\n",
       "      <td>283</td>\n",
       "    </tr>\n",
       "  </tbody>\n",
       "</table>\n",
       "</div>"
      ],
      "text/plain": [
       "                              domain  range\n",
       "icd10cm->dx_flat_ccs           71844    283\n",
       "icd9cm->dx_flat_ccs            15045    283\n",
       "icd10cm->icd9cm->dx_flat_ccs   70678    283"
      ]
     },
     "execution_count": 38,
     "metadata": {},
     "output_type": "execute_result"
    }
   ],
   "source": [
    "dx_flat_ccs_quality"
   ]
  },
  {
   "cell_type": "code",
   "execution_count": 40,
   "id": "d8e4c43f8d3e7141",
   "metadata": {
    "ExecuteTime": {
     "end_time": "2025-08-08T21:53:20.206276Z",
     "start_time": "2025-08-08T21:51:16.775012Z"
    }
   },
   "outputs": [],
   "source": [
    "from scipy.stats import entropy\n",
    "\n",
    "\n",
    "m3_dx_hist0, m3_dx_n0 = m3_hist_stats.dx_discharge(\"dx_ccs\")\n",
    "m4_dx_hist0, m4_dx_n0 = m4_hist_stats.dx_discharge(\"dx_ccs\")\n",
    "m4_dx_hist1, m4_dx_n1 = m4_hist_stats.dx_discharge((\"icd9cm\", \"dx_ccs\"))\n",
    "m4_dx_hist2, m4_dx_n2 = m4_hist_stats.dx_discharge((\"icd10cm\", \"dx_ccs\"))\n",
    "\n",
    "m3_dx_p0 = m3_dx_hist0 / m3_dx_n0\n",
    "m4_dx_p0 = m4_dx_hist0 / m4_dx_n0\n",
    "m4_dx_p1 = m4_dx_hist1 / m4_dx_n1\n",
    "m4_dx_p2 = m4_dx_hist2 / m4_dx_n2\n",
    "\n",
    "m3_dx_e0 = entropy(m3_dx_p0)\n",
    "m4_dx_e0 = entropy(m4_dx_p0)\n",
    "m4_dx_e1 = entropy(m4_dx_p1)\n",
    "m4_dx_e2 = entropy(m4_dx_p2)\n",
    "\n",
    "dx_e = pd.Series(\n",
    "    [m3_dx_e0, m4_dx_e0, m4_dx_e1, m4_dx_e2],\n",
    "    index=[\"m3:mix->dx_ccs\", \"m4:mix->dx_ccs\", \"m4:mix->icd9cm->dx_ccs\", \"m4:mix->icd10cm->dx_ccs\"],\n",
    ")"
   ]
  },
  {
   "cell_type": "code",
   "execution_count": 39,
   "id": "709c980c105a2034",
   "metadata": {
    "ExecuteTime": {
     "end_time": "2025-08-08T21:51:12.856298Z",
     "start_time": "2025-08-08T21:47:16.778546Z"
    }
   },
   "outputs": [],
   "source": [
    "m3_o_hist0, m3_o_n0 = m3_hist_stats.outcome(\"dx_flat_ccs_v1\")\n",
    "m4_o_hist0, m4_o_n0 = m4_hist_stats.outcome(\"dx_flat_ccs_v1\")\n",
    "m4_o_hist1, m4_o_n1 = m4_hist_stats.outcome((\"icd9cm\", \"dx_flat_ccs_v1\"))\n",
    "m4_o_hist2, m4_o_n2 = m4_hist_stats.outcome((\"icd10cm\", \"dx_flat_ccs_v1\"))\n",
    "\n",
    "m3_o_p0 = m3_o_hist0 / m3_o_n0\n",
    "m4_o_p0 = m4_o_hist0 / m4_o_n0\n",
    "m4_o_p1 = m4_o_hist1 / m4_o_n1\n",
    "m4_o_p2 = m4_o_hist2 / m4_o_n2\n",
    "\n",
    "m3_o_e0 = entropy(m3_o_p0)\n",
    "m4_o_e0 = entropy(m4_o_p0)\n",
    "m4_o_e1 = entropy(m4_o_p1)\n",
    "m4_o_e2 = entropy(m4_o_p2)\n",
    "\n",
    "o_e = pd.Series(\n",
    "    [m3_o_e0, m4_o_e0, m4_o_e1, m4_o_e2],\n",
    "    index=[\"m3:mix->outcome\", \"m4:mix->outcome\", \"m4:mix->icd9cm->outcome\", \"m4:mix->icd10cm->outcome\"],\n",
    ")"
   ]
  },
  {
   "cell_type": "code",
   "execution_count": 41,
   "id": "4c0ea6b3aa453023",
   "metadata": {
    "ExecuteTime": {
     "end_time": "2025-08-08T21:53:23.355202Z",
     "start_time": "2025-08-08T21:53:23.345960Z"
    }
   },
   "outputs": [
    {
     "data": {
      "text/plain": [
       "m3:mix->dx_ccs             5.161669\n",
       "m4:mix->dx_ccs             5.237830\n",
       "m4:mix->icd9cm->dx_ccs     5.218789\n",
       "m4:mix->icd10cm->dx_ccs    2.434947\n",
       "dtype: float64"
      ]
     },
     "execution_count": 41,
     "metadata": {},
     "output_type": "execute_result"
    }
   ],
   "source": [
    "dx_e"
   ]
  },
  {
   "cell_type": "code",
   "execution_count": 42,
   "id": "8a4f5f94e1bfe492",
   "metadata": {
    "ExecuteTime": {
     "end_time": "2025-08-08T21:53:27.620030Z",
     "start_time": "2025-08-08T21:53:27.614695Z"
    }
   },
   "outputs": [
    {
     "data": {
      "text/plain": [
       "m3:mix->outcome             4.533171\n",
       "m4:mix->outcome             4.663448\n",
       "m4:mix->icd9cm->outcome     4.654050\n",
       "m4:mix->icd10cm->outcome    4.643892\n",
       "dtype: float64"
      ]
     },
     "execution_count": 42,
     "metadata": {},
     "output_type": "execute_result"
    }
   ],
   "source": [
    "o_e"
   ]
  },
  {
   "cell_type": "code",
   "execution_count": null,
   "id": "3cd821d8c8ab9be9",
   "metadata": {},
   "outputs": [],
   "source": [
    "# Conclusion.\n",
    "# from M3 to dx_ccs / dx_flat_ccs (use direct maps of AHRQ)\n",
    "# from M4 to dx_ccs (use chained map for ICD10: ICD10CM->ICD9CM->dx_ccs).\n",
    "# from M4 to dx_flat_ccs (use direct map of AHRQ)."
   ]
  },
  {
   "cell_type": "code",
   "execution_count": 7,
   "id": "404f46b92607dbaa",
   "metadata": {
    "ExecuteTime": {
     "end_time": "2025-08-08T19:41:43.507760Z",
     "start_time": "2025-08-08T19:40:13.140383Z"
    }
   },
   "outputs": [],
   "source": [
    "# effective mapping between mixed_scheme (icd9cm, icd10cm) to dx_flat_ccs directly\n",
    "# through the tables from AHRQ: (`icd9cm` -> `dx_flat_ccs`) \\union ('icd10cm` -> `dx_flat_ccs`)\n",
    "m_stats0 = rx.Dataset.two_stats(m3_dataset, m4_dataset, coding_schemes_manager=mimic_schemes)\n",
    "p_tests0 = m_stats0.target_p_tests.outcome(\"dx_flat_ccs_v1\", \"admission\")\n",
    "p_summary0 = m_stats0.summerise_p_tests(p_tests0)"
   ]
  },
  {
   "cell_type": "code",
   "execution_count": 8,
   "id": "f425939f05e15246",
   "metadata": {
    "ExecuteTime": {
     "end_time": "2025-08-08T19:45:05.963270Z",
     "start_time": "2025-08-08T19:41:45.470707Z"
    }
   },
   "outputs": [],
   "source": [
    "# effective mapping between mixed_scheme (icd9cm, icd10cm) to dx_flat_ccs through\n",
    "# (`icd9cm` -> `dx_flat_ccs`) \\union (`icd10cm` -> `icd9cm` -> `dx_flat_ccs`)\n",
    "m_stats1 = rx.Dataset.two_stats(m3_dataset, m4_dataset, coding_schemes_manager=mimic_schemes)\n",
    "p_tests1 = m_stats1.target_p_tests.outcome((\"icd9cm\", \"dx_flat_ccs_v1\"), \"admission\")\n",
    "p_summary1 = m_stats1.summerise_p_tests(p_tests1)"
   ]
  },
  {
   "cell_type": "code",
   "execution_count": 9,
   "id": "5f21ef46e6decc6c",
   "metadata": {
    "ExecuteTime": {
     "end_time": "2025-08-08T19:45:08.554738Z",
     "start_time": "2025-08-08T19:45:08.543319Z"
    }
   },
   "outputs": [
    {
     "data": {
      "text/html": [
       "<div>\n",
       "<style scoped>\n",
       "    .dataframe tbody tr th:only-of-type {\n",
       "        vertical-align: middle;\n",
       "    }\n",
       "\n",
       "    .dataframe tbody tr th {\n",
       "        vertical-align: top;\n",
       "    }\n",
       "\n",
       "    .dataframe thead th {\n",
       "        text-align: right;\n",
       "    }\n",
       "</style>\n",
       "<table border=\"1\" class=\"dataframe\">\n",
       "  <thead>\n",
       "    <tr style=\"text-align: right;\">\n",
       "      <th></th>\n",
       "      <th>0</th>\n",
       "      <th>1</th>\n",
       "    </tr>\n",
       "  </thead>\n",
       "  <tbody>\n",
       "    <tr>\n",
       "      <th>total</th>\n",
       "      <td>241</td>\n",
       "      <td>241</td>\n",
       "    </tr>\n",
       "    <tr>\n",
       "      <th>divergent</th>\n",
       "      <td>168</td>\n",
       "      <td>172</td>\n",
       "    </tr>\n",
       "    <tr>\n",
       "      <th>convergent</th>\n",
       "      <td>39</td>\n",
       "      <td>35</td>\n",
       "    </tr>\n",
       "    <tr>\n",
       "      <th>skip_test</th>\n",
       "      <td>34</td>\n",
       "      <td>34</td>\n",
       "    </tr>\n",
       "  </tbody>\n",
       "</table>\n",
       "</div>"
      ],
      "text/plain": [
       "              0    1\n",
       "total       241  241\n",
       "divergent   168  172\n",
       "convergent   39   35\n",
       "skip_test    34   34"
      ]
     },
     "execution_count": 9,
     "metadata": {},
     "output_type": "execute_result"
    }
   ],
   "source": [
    "import pandas as pd\n",
    "\n",
    "\n",
    "pd.concat([p_summary0, p_summary1], axis=1)"
   ]
  },
  {
   "cell_type": "code",
   "execution_count": null,
   "id": "6ba745dfdf5b6dc3",
   "metadata": {},
   "outputs": [],
   "source": []
  }
 ],
 "metadata": {
  "kernelspec": {
   "display_name": "Python 3",
   "language": "python",
   "name": "python3"
  },
  "language_info": {
   "codemirror_mode": {
    "name": "ipython",
    "version": 2
   },
   "file_extension": ".py",
   "mimetype": "text/x-python",
   "name": "python",
   "nbconvert_exporter": "python",
   "pygments_lexer": "ipython2",
   "version": "2.7.6"
  }
 },
 "nbformat": 4,
 "nbformat_minor": 5
}
