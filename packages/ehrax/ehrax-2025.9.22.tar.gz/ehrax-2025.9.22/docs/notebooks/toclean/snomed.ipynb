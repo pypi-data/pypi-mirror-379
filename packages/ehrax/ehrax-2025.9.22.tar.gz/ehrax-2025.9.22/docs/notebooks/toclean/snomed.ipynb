{
 "cells": [
  {
   "cell_type": "code",
   "execution_count": 1,
   "id": "a67c72e846002457",
   "metadata": {
    "ExecuteTime": {
     "end_time": "2025-08-14T14:55:06.116625Z",
     "start_time": "2025-08-14T14:55:06.111449Z"
    }
   },
   "outputs": [],
   "source": [
    "%load_ext dotenv\n",
    "%dotenv"
   ]
  },
  {
   "cell_type": "code",
   "execution_count": 2,
   "id": "6368366579ad3cc1",
   "metadata": {
    "ExecuteTime": {
     "end_time": "2025-08-14T14:55:06.426880Z",
     "start_time": "2025-08-14T14:55:06.419088Z"
    }
   },
   "outputs": [],
   "source": [
    "import os\n",
    "\n",
    "\n",
    "SNOMEDCT_DIR = os.environ.get(\"SNOMEDCT\")"
   ]
  },
  {
   "cell_type": "code",
   "execution_count": 3,
   "id": "3920efdf5f4a03d0",
   "metadata": {
    "ExecuteTime": {
     "end_time": "2025-08-14T14:56:52.376563Z",
     "start_time": "2025-08-14T14:55:07.277521Z"
    }
   },
   "outputs": [],
   "source": [
    "from ehrax.example_schemes.snomed import SNOMEDCT\n",
    "\n",
    "\n",
    "snomed = SNOMEDCT.from_gb_monolith_dir(\"snomed-ct\", SNOMEDCT_DIR)"
   ]
  },
  {
   "cell_type": "code",
   "execution_count": 4,
   "id": "568eaaa62ae6b7cc",
   "metadata": {
    "ExecuteTime": {
     "end_time": "2025-08-13T15:19:03.420619Z",
     "start_time": "2025-08-13T15:18:18.956487Z"
    }
   },
   "outputs": [],
   "source": [
    "# snomed.save(f\"{SNOMEDCT_DIR}/snomed.h5\")\n",
    "# snomed = SNOMEDCT.load(f\"{SNOMEDCT_DIR}/snomed.h5\")"
   ]
  },
  {
   "cell_type": "code",
   "execution_count": 4,
   "id": "5f171a9a54578422",
   "metadata": {
    "ExecuteTime": {
     "end_time": "2025-08-14T14:56:58.437726Z",
     "start_time": "2025-08-14T14:56:52.377435Z"
    }
   },
   "outputs": [],
   "source": [
    "df = snomed.as_dataframe()"
   ]
  },
  {
   "cell_type": "code",
   "execution_count": 5,
   "id": "203b94f7214ccd07",
   "metadata": {
    "ExecuteTime": {
     "end_time": "2025-08-14T14:56:58.448963Z",
     "start_time": "2025-08-14T14:56:58.439101Z"
    }
   },
   "outputs": [
    {
     "data": {
      "text/html": [
       "<div>\n",
       "<style scoped>\n",
       "    .dataframe tbody tr th:only-of-type {\n",
       "        vertical-align: middle;\n",
       "    }\n",
       "\n",
       "    .dataframe tbody tr th {\n",
       "        vertical-align: top;\n",
       "    }\n",
       "\n",
       "    .dataframe thead th {\n",
       "        text-align: right;\n",
       "    }\n",
       "</style>\n",
       "<table border=\"1\" class=\"dataframe\">\n",
       "  <thead>\n",
       "    <tr style=\"text-align: right;\">\n",
       "      <th></th>\n",
       "      <th>code</th>\n",
       "      <th>desc</th>\n",
       "      <th>inheres_in</th>\n",
       "      <th>property</th>\n",
       "      <th>units</th>\n",
       "      <th>characetrizes</th>\n",
       "      <th>direct_site</th>\n",
       "      <th>inherent_location</th>\n",
       "    </tr>\n",
       "  </thead>\n",
       "  <tbody>\n",
       "    <tr>\n",
       "      <th>S-100000000</th>\n",
       "      <td>S-100000000</td>\n",
       "      <td>BITTER-3 (substance)</td>\n",
       "      <td>NaN</td>\n",
       "      <td>NaN</td>\n",
       "      <td>NaN</td>\n",
       "      <td>NaN</td>\n",
       "      <td>NaN</td>\n",
       "      <td>NaN</td>\n",
       "    </tr>\n",
       "    <tr>\n",
       "      <th>S-10000006</th>\n",
       "      <td>S-10000006</td>\n",
       "      <td>Radiating chest pain (finding)</td>\n",
       "      <td>NaN</td>\n",
       "      <td>NaN</td>\n",
       "      <td>NaN</td>\n",
       "      <td>NaN</td>\n",
       "      <td>NaN</td>\n",
       "      <td>NaN</td>\n",
       "    </tr>\n",
       "    <tr>\n",
       "      <th>S-1000001000000103</th>\n",
       "      <td>S-1000001000000103</td>\n",
       "      <td>Urine tryptophan:creatinine ratio (observable ...</td>\n",
       "      <td>NaN</td>\n",
       "      <td>NaN</td>\n",
       "      <td>NaN</td>\n",
       "      <td>NaN</td>\n",
       "      <td>NaN</td>\n",
       "      <td>NaN</td>\n",
       "    </tr>\n",
       "    <tr>\n",
       "      <th>S-1000001000004108</th>\n",
       "      <td>S-1000001000004108</td>\n",
       "      <td>Mismatch repair endonuclease PMS2 (substance)</td>\n",
       "      <td>NaN</td>\n",
       "      <td>NaN</td>\n",
       "      <td>NaN</td>\n",
       "      <td>NaN</td>\n",
       "      <td>NaN</td>\n",
       "      <td>NaN</td>\n",
       "    </tr>\n",
       "    <tr>\n",
       "      <th>S-10000011000001109</th>\n",
       "      <td>S-10000011000001109</td>\n",
       "      <td>Nu-Hope belt left small 6460C 70cm-78cm length...</td>\n",
       "      <td>NaN</td>\n",
       "      <td>NaN</td>\n",
       "      <td>NaN</td>\n",
       "      <td>NaN</td>\n",
       "      <td>NaN</td>\n",
       "      <td>NaN</td>\n",
       "    </tr>\n",
       "    <tr>\n",
       "      <th>...</th>\n",
       "      <td>...</td>\n",
       "      <td>...</td>\n",
       "      <td>...</td>\n",
       "      <td>...</td>\n",
       "      <td>...</td>\n",
       "      <td>...</td>\n",
       "      <td>...</td>\n",
       "      <td>...</td>\n",
       "    </tr>\n",
       "    <tr>\n",
       "      <th>S-999981000000107</th>\n",
       "      <td>S-999981000000107</td>\n",
       "      <td>Urine valine:creatinine ratio (observable entity)</td>\n",
       "      <td>NaN</td>\n",
       "      <td>NaN</td>\n",
       "      <td>NaN</td>\n",
       "      <td>NaN</td>\n",
       "      <td>NaN</td>\n",
       "      <td>NaN</td>\n",
       "    </tr>\n",
       "    <tr>\n",
       "      <th>S-9999811000001102</th>\n",
       "      <td>S-9999811000001102</td>\n",
       "      <td>Nu-Hope belt right large 6457 90cm-100cm lengt...</td>\n",
       "      <td>NaN</td>\n",
       "      <td>NaN</td>\n",
       "      <td>NaN</td>\n",
       "      <td>NaN</td>\n",
       "      <td>NaN</td>\n",
       "      <td>NaN</td>\n",
       "    </tr>\n",
       "    <tr>\n",
       "      <th>S-99999003</th>\n",
       "      <td>S-99999003</td>\n",
       "      <td>BISMUSAL SUSPENSION (substance)</td>\n",
       "      <td>NaN</td>\n",
       "      <td>NaN</td>\n",
       "      <td>NaN</td>\n",
       "      <td>NaN</td>\n",
       "      <td>NaN</td>\n",
       "      <td>NaN</td>\n",
       "    </tr>\n",
       "    <tr>\n",
       "      <th>S-999991000000109</th>\n",
       "      <td>S-999991000000109</td>\n",
       "      <td>Urine tyrosine:creatinine ratio (observable en...</td>\n",
       "      <td>NaN</td>\n",
       "      <td>NaN</td>\n",
       "      <td>NaN</td>\n",
       "      <td>NaN</td>\n",
       "      <td>NaN</td>\n",
       "      <td>NaN</td>\n",
       "    </tr>\n",
       "    <tr>\n",
       "      <th>S-9999911000001107</th>\n",
       "      <td>S-9999911000001107</td>\n",
       "      <td>Nu-Hope belt left small 6460C 70cm-78cm length...</td>\n",
       "      <td>NaN</td>\n",
       "      <td>NaN</td>\n",
       "      <td>NaN</td>\n",
       "      <td>NaN</td>\n",
       "      <td>NaN</td>\n",
       "      <td>NaN</td>\n",
       "    </tr>\n",
       "  </tbody>\n",
       "</table>\n",
       "<p>914566 rows × 8 columns</p>\n",
       "</div>"
      ],
      "text/plain": [
       "                                    code  \\\n",
       "S-100000000                  S-100000000   \n",
       "S-10000006                    S-10000006   \n",
       "S-1000001000000103    S-1000001000000103   \n",
       "S-1000001000004108    S-1000001000004108   \n",
       "S-10000011000001109  S-10000011000001109   \n",
       "...                                  ...   \n",
       "S-999981000000107      S-999981000000107   \n",
       "S-9999811000001102    S-9999811000001102   \n",
       "S-99999003                    S-99999003   \n",
       "S-999991000000109      S-999991000000109   \n",
       "S-9999911000001107    S-9999911000001107   \n",
       "\n",
       "                                                                  desc  \\\n",
       "S-100000000                                       BITTER-3 (substance)   \n",
       "S-10000006                              Radiating chest pain (finding)   \n",
       "S-1000001000000103   Urine tryptophan:creatinine ratio (observable ...   \n",
       "S-1000001000004108       Mismatch repair endonuclease PMS2 (substance)   \n",
       "S-10000011000001109  Nu-Hope belt left small 6460C 70cm-78cm length...   \n",
       "...                                                                ...   \n",
       "S-999981000000107    Urine valine:creatinine ratio (observable entity)   \n",
       "S-9999811000001102   Nu-Hope belt right large 6457 90cm-100cm lengt...   \n",
       "S-99999003                             BISMUSAL SUSPENSION (substance)   \n",
       "S-999991000000109    Urine tyrosine:creatinine ratio (observable en...   \n",
       "S-9999911000001107   Nu-Hope belt left small 6460C 70cm-78cm length...   \n",
       "\n",
       "                    inheres_in property units characetrizes direct_site  \\\n",
       "S-100000000                NaN      NaN   NaN           NaN         NaN   \n",
       "S-10000006                 NaN      NaN   NaN           NaN         NaN   \n",
       "S-1000001000000103         NaN      NaN   NaN           NaN         NaN   \n",
       "S-1000001000004108         NaN      NaN   NaN           NaN         NaN   \n",
       "S-10000011000001109        NaN      NaN   NaN           NaN         NaN   \n",
       "...                        ...      ...   ...           ...         ...   \n",
       "S-999981000000107          NaN      NaN   NaN           NaN         NaN   \n",
       "S-9999811000001102         NaN      NaN   NaN           NaN         NaN   \n",
       "S-99999003                 NaN      NaN   NaN           NaN         NaN   \n",
       "S-999991000000109          NaN      NaN   NaN           NaN         NaN   \n",
       "S-9999911000001107         NaN      NaN   NaN           NaN         NaN   \n",
       "\n",
       "                    inherent_location  \n",
       "S-100000000                       NaN  \n",
       "S-10000006                        NaN  \n",
       "S-1000001000000103                NaN  \n",
       "S-1000001000004108                NaN  \n",
       "S-10000011000001109               NaN  \n",
       "...                               ...  \n",
       "S-999981000000107                 NaN  \n",
       "S-9999811000001102                NaN  \n",
       "S-99999003                        NaN  \n",
       "S-999991000000109                 NaN  \n",
       "S-9999911000001107                NaN  \n",
       "\n",
       "[914566 rows x 8 columns]"
      ]
     },
     "execution_count": 5,
     "metadata": {},
     "output_type": "execute_result"
    }
   ],
   "source": [
    "df"
   ]
  },
  {
   "cell_type": "code",
   "execution_count": 6,
   "id": "e81540437beb635e",
   "metadata": {
    "ExecuteTime": {
     "end_time": "2025-08-14T14:57:05.518336Z",
     "start_time": "2025-08-14T14:56:58.450091Z"
    }
   },
   "outputs": [],
   "source": [
    "import importlib\n",
    "\n",
    "import ehrax\n",
    "from ehrax.example_schemes.snomed import SNOMEDCTGBMonolith\n",
    "\n",
    "\n",
    "importlib.reload(ehrax.example_schemes.snomed)\n",
    "refset = SNOMEDCTGBMonolith.process_refset(\n",
    "    f\"{SNOMEDCT_DIR}/Snapshot/Refset/Content/der2_Refset_SimpleMONOSnapshot_GB_20250730.txt\"\n",
    ")"
   ]
  },
  {
   "cell_type": "code",
   "execution_count": 7,
   "id": "fa6f196fd7057dd3",
   "metadata": {
    "ExecuteTime": {
     "end_time": "2025-08-14T14:57:15.455282Z",
     "start_time": "2025-08-14T14:57:05.519131Z"
    }
   },
   "outputs": [],
   "source": [
    "member2set = refset.groupby(\"member\")[\"refset\"].apply(frozenset).to_dict()\n",
    "set2member = refset.groupby(\"refset\")[\"member\"].apply(frozenset).to_dict()"
   ]
  },
  {
   "cell_type": "code",
   "execution_count": 8,
   "id": "ace0366dc0692de7",
   "metadata": {
    "ExecuteTime": {
     "end_time": "2025-08-14T14:57:15.609142Z",
     "start_time": "2025-08-14T14:57:15.607096Z"
    }
   },
   "outputs": [],
   "source": [
    "kms_refset1 = set2member[\"S-1853551000000106\"]\n",
    "kms_refset2 = set2member[\"S-999002881000000100\"]\n",
    "kms_refset = kms_refset1 | kms_refset2"
   ]
  },
  {
   "cell_type": "code",
   "execution_count": 39,
   "id": "8ee6d50a268779df",
   "metadata": {
    "ExecuteTime": {
     "end_time": "2025-08-13T16:46:49.582882Z",
     "start_time": "2025-08-13T16:46:49.140838Z"
    }
   },
   "outputs": [],
   "source": []
  },
  {
   "cell_type": "code",
   "execution_count": 9,
   "id": "e55a98a8c32fcace",
   "metadata": {
    "ExecuteTime": {
     "end_time": "2025-08-14T14:57:15.834112Z",
     "start_time": "2025-08-14T14:57:15.648957Z"
    }
   },
   "outputs": [],
   "source": [
    "import pandas as pd\n",
    "\n",
    "\n",
    "# quant = pd.read_csv('quantitative.csv')\n",
    "# maybe_quant = pd.read_csv('maybe_quantitative.csv')\n",
    "kms_snomed_events = pd.read_csv(\"kms_snomed_events.csv\", dtype={\"SNOMED_Concept_ID\": str})\n",
    "kms_snomed_events.loc[:, \"SNOMED_Concept_ID\"] = \"S-\" + kms_snomed_events.loc[:, \"SNOMED_Concept_ID\"]\n",
    "kms_counts = kms_snomed_events.groupby(\"SNOMED_Concept_ID\")[\"Count_SNOMED_ID\"].sum()"
   ]
  },
  {
   "cell_type": "code",
   "execution_count": 24,
   "id": "5082d3d73cd1d097",
   "metadata": {
    "ExecuteTime": {
     "end_time": "2025-08-14T15:11:13.498317Z",
     "start_time": "2025-08-14T15:11:13.461449Z"
    }
   },
   "outputs": [
    {
     "data": {
      "text/plain": [
       "set()"
      ]
     },
     "execution_count": 24,
     "metadata": {},
     "output_type": "execute_result"
    }
   ],
   "source": [
    "lan_snomed_codes = \"\"\"1018251000000107\n",
    "1031101000000102\n",
    "1000881000000102\n",
    "1000821000000103\n",
    "1000621000000104\n",
    "997611000000101\n",
    "997491000000108\n",
    "1017411000000108\n",
    "80274001\n",
    "1011481000000105\n",
    "1011491000000107\n",
    "857971000000104\n",
    "996231000000108\n",
    "1020291000000106\n",
    "80274001\n",
    "1011481000000105\n",
    "1011491000000107\n",
    "857971000000104\n",
    "996231000000108\n",
    "1020291000000106\n",
    "993381000000106\n",
    "993381000000106\n",
    "165626000\n",
    "390943009\n",
    "1019431000000105\n",
    "999791000000106\n",
    "1000811000000109\n",
    "1000651000000109\n",
    "1000701000000101\n",
    "1005691000000109\n",
    "1005671000000105\n",
    "1022191000000100\n",
    "1005681000000107\n",
    "1030411000000101\n",
    "1015681000000109\n",
    "1000951000000103\n",
    "1019301000000109\n",
    "852511000000103\n",
    "852471000000107\n",
    "1001211000000100\n",
    "1031181000000107\n",
    "193881000000100\n",
    "997741000000108\n",
    "1000661000000107\n",
    "1000691000000101\n",
    "1000671000000100\n",
    "997191000000102\n",
    "166479009\n",
    "1001371000000100\n",
    "1000731000000107\n",
    "1022651000000100\n",
    "1015261000000102\n",
    "1001271000000105\n",
    "102680009\n",
    "1005691000000109\n",
    "998431000000108\n",
    "1012131000000106\n",
    "1026401000000103\n",
    "1023491000000104\n",
    "165581004\n",
    "1026761000000106\n",
    "997591000000109\n",
    "997581000000107\n",
    "999691000000104\n",
    "1022541000000102\n",
    "165509000\n",
    "767002\n",
    "1022541000000102\n",
    "1022431000000105\n",
    "1019351000000105\n",
    "165631003\n",
    "165623008\n",
    "993391000000108\n",
    "165645009\n",
    "993411000000108\n",
    "165650003\n",
    "1016971000000106\n",
    "1022791000000101\n",
    "1023161000000104\n",
    "1023191000000105\n",
    "1023211000000109\n",
    "997151000000105\n",
    "1010521000000102\n",
    "997161000000108\n",
    "1000861000000106\n",
    "1001091000000103\n",
    "1022551000000104\n",
    "1022511000000103\n",
    "1022561000000101\n",
    "1022291000000105\n",
    "1022291000000105\n",
    "1022291000000105\n",
    "1004401000000101\n",
    "992081000000101\n",
    "997011000000105\n",
    "997021000000104\n",
    "997031000000102\n",
    "1030791000000100\n",
    "1000381000000105\n",
    "396152005\n",
    "1005491000000107\n",
    "1003821000000106\n",
    "1019221000000107\n",
    "1022471000000107\n",
    "1022491000000106\n",
    "1015471000000105\n",
    "1015481000000107\n",
    "1015491000000109\n",
    "1015501000000103\n",
    "1015561000000104\n",
    "1015451000000101\n",
    "1026701000000107\n",
    "1000461000000109\n",
    "999651000000107\n",
    "935051000000108\n",
    "1001231000000108\n",
    "103228002\n",
    "431314004\n",
    "431314004\n",
    "373638005\n",
    "866701000000100\n",
    "1017311000000104\n",
    "866661000000106\n",
    "866681000000102\n",
    "866721000000109\n",
    "927981000000106\"\"\"\n",
    "lan_snomed_codes = [f\"S-{c.strip()}\" for c in lan_snomed_codes.split(\"\\n\")]\n",
    "# snomed.desc['S-935051000000000']\n",
    "set(lan_snomed_codes) - set(kms_counts.index)"
   ]
  },
  {
   "cell_type": "code",
   "execution_count": null,
   "id": "93417a24706b235",
   "metadata": {},
   "outputs": [],
   "source": []
  },
  {
   "cell_type": "code",
   "execution_count": 100,
   "id": "703b823476ecac28",
   "metadata": {
    "ExecuteTime": {
     "end_time": "2025-08-13T17:43:55.846993Z",
     "start_time": "2025-08-13T17:43:55.221355Z"
    }
   },
   "outputs": [
    {
     "name": "stderr",
     "output_type": "stream",
     "text": [
      "/tmp/ipykernel_240082/576332354.py:5: FutureWarning: Downcasting object dtype arrays on .fillna, .ffill, .bfill is deprecated and will change in a future version. Call result.infer_objects(copy=False) instead. To opt-in to the future behavior, set `pd.set_option('future.no_silent_downcasting', True)`\n",
      "  kms_counts > kms_counts.quantile(0.9)).fillna(False), )\n"
     ]
    }
   ],
   "source": [
    "secondary_obs = snomed.as_dataframe(sorted(kms_refset))\n",
    "secondary_obs = secondary_obs.loc[:, [\"code\", \"desc\", \"inheres_in\", \"property\", \"direct_site\"]]\n",
    "secondary_obs = secondary_obs.assign(\n",
    "    count_at_pc_kms=secondary_obs.code.map(kms_counts).fillna(0),\n",
    "    top_10_pc_kms=secondary_obs.code.map(kms_counts > kms_counts.quantile(0.9)).fillna(False),\n",
    ")\n",
    "secondary_obs = secondary_obs.set_index([\"inheres_in\", \"property\", \"direct_site\", \"code\"], drop=True).sort_index()"
   ]
  },
  {
   "cell_type": "code",
   "execution_count": null,
   "id": "49293411ab53fb1",
   "metadata": {},
   "outputs": [],
   "source": []
  },
  {
   "cell_type": "code",
   "execution_count": 103,
   "id": "bf6cbcdab8ef95e8",
   "metadata": {
    "ExecuteTime": {
     "end_time": "2025-08-13T17:57:46.777421Z",
     "start_time": "2025-08-13T17:57:46.687086Z"
    }
   },
   "outputs": [],
   "source": [
    "proximal_ci_keywords = list(\n",
    "    sorted(\n",
    "        {\n",
    "            \"lipoprotein\",\n",
    "            \"lymphocyte\",\n",
    "            \"haemoglobin\",\n",
    "            \"basophill\",\n",
    "            \"corpuscular\",\n",
    "            \"platelet\",\n",
    "            \"thrombocyte\",\n",
    "            \"reticulocyte\",\n",
    "            \"reactive\",\n",
    "            \"sphered\",\n",
    "            \"monocyte\",\n",
    "            \"neutrophill\",\n",
    "            \"nucleated red\",\n",
    "            \"phosphate\",\n",
    "            \"pulse\",\n",
    "            \"red blood cell\",\n",
    "            \"erythrocyte\",\n",
    "            \"rheumatoid\",\n",
    "            \"shbg\",\n",
    "            \"binding globulin\",\n",
    "            \"systolic\",\n",
    "            \"bilirubin\",\n",
    "            \"total protein\",\n",
    "            \"triglycerides\",\n",
    "            \"urate\",\n",
    "            \"urea\",\n",
    "            \"vitamin d\",\n",
    "            \"white blood cell\",\n",
    "            \"leukocyte\",\n",
    "            \"alanine\",\n",
    "            \"albumin\",\n",
    "            \"alkaline\",\n",
    "            \"apolipoprotein\",\n",
    "            \"aspartate\",\n",
    "            \"aminotransferase\",\n",
    "            \"basophill\",\n",
    "            \"reactive\",\n",
    "            \"calcium\",\n",
    "            \"cholesterol\",\n",
    "            \"creatinine\",\n",
    "            \"cystatin\",\n",
    "            \"diastolic\",\n",
    "            \"eosinophill\",\n",
    "            \"eosinophill\",\n",
    "            \"glutamyltransferase\",\n",
    "            \"glucose\",\n",
    "            \"pressure\",\n",
    "            \"glycated haemoglobin\",\n",
    "            \"hba1c\",\n",
    "            \"hdl\",\n",
    "            \"haematocrit\",\n",
    "            \"igf\",\n",
    "            \"ldl\",\n",
    "            \"low density\",\n",
    "        }\n",
    "    )\n",
    ")\n",
    "keyword_hits = [\n",
    "    tuple(i for i, d in zip(secondary_obs.index, secondary_obs.desc) if k in d.lower()) for k in proximal_ci_keywords\n",
    "]\n",
    "hit_indices = list(set().union(*keyword_hits))\n",
    "secondary_obs = secondary_obs.assign(in_literature=secondary_obs.index.isin(hit_indices))\n",
    "secondary_obs = secondary_obs.assign(aa_manual_exclude=False)"
   ]
  },
  {
   "cell_type": "code",
   "execution_count": 104,
   "id": "d1394572300c5872",
   "metadata": {
    "ExecuteTime": {
     "end_time": "2025-08-13T17:57:51.201548Z",
     "start_time": "2025-08-13T17:57:48.418381Z"
    }
   },
   "outputs": [],
   "source": [
    "secondary_obs.to_excel(\"secondary_obs.xlsx\")"
   ]
  },
  {
   "cell_type": "code",
   "execution_count": 98,
   "id": "a1cf56af31599f50",
   "metadata": {
    "ExecuteTime": {
     "end_time": "2025-08-13T17:40:59.100850Z",
     "start_time": "2025-08-13T17:40:57.648464Z"
    }
   },
   "outputs": [
    {
     "name": "stdout",
     "output_type": "stream",
     "text": [
      "Collecting openpyxl\r\n",
      "  Downloading openpyxl-3.1.5-py2.py3-none-any.whl.metadata (2.5 kB)\r\n",
      "Collecting et-xmlfile (from openpyxl)\r\n",
      "  Downloading et_xmlfile-2.0.0-py3-none-any.whl.metadata (2.7 kB)\r\n",
      "Downloading openpyxl-3.1.5-py2.py3-none-any.whl (250 kB)\r\n",
      "Downloading et_xmlfile-2.0.0-py3-none-any.whl (18 kB)\r\n",
      "Installing collected packages: et-xmlfile, openpyxl\r\n",
      "\u001b[2K   \u001b[38;2;114;156;31m━━━━━━━━━━━━━━━━━━━━━━━━━━━━━━━━━━━━━━━━\u001b[0m \u001b[32m2/2\u001b[0m [openpyxl]\r\n",
      "\u001b[1A\u001b[2KSuccessfully installed et-xmlfile-2.0.0 openpyxl-3.1.5\r\n"
     ]
    }
   ],
   "source": [
    "!pip install openpyxl"
   ]
  }
 ],
 "metadata": {
  "kernelspec": {
   "display_name": "Python 3",
   "language": "python",
   "name": "python3"
  },
  "language_info": {
   "codemirror_mode": {
    "name": "ipython",
    "version": 2
   },
   "file_extension": ".py",
   "mimetype": "text/x-python",
   "name": "python",
   "nbconvert_exporter": "python",
   "pygments_lexer": "ipython2",
   "version": "2.7.6"
  }
 },
 "nbformat": 4,
 "nbformat_minor": 5
}
