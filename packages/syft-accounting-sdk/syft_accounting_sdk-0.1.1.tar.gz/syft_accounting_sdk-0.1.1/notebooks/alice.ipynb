{
 "cells": [
  {
   "cell_type": "code",
   "execution_count": null,
   "id": "4abed047-1966-4a16-88ce-9b1d15df4474",
   "metadata": {},
   "outputs": [],
   "source": [
    "%load_ext autoreload\n",
    "%autoreload 2\n",
    "from syft_accounting_sdk import UserClient"
   ]
  },
  {
   "cell_type": "code",
   "execution_count": null,
   "id": "4e2f5567",
   "metadata": {},
   "outputs": [],
   "source": [
    "UserClient.create_user(\n",
    "    url='http://localhost:8080',\n",
    "    email='alice@openmined.org',\n",
    "    password='alice-pass'\n",
    ")"
   ]
  },
  {
   "cell_type": "code",
   "execution_count": null,
   "id": "21dfcd7f",
   "metadata": {},
   "outputs": [],
   "source": [
    "alice = UserClient(\n",
    "    url='http://localhost:8080',\n",
    "    email='alice@openmined.org',\n",
    "    password='alice-pass'\n",
    ")"
   ]
  },
  {
   "cell_type": "code",
   "execution_count": null,
   "id": "377e1785",
   "metadata": {},
   "outputs": [],
   "source": [
    "alice.get_user_info()"
   ]
  },
  {
   "cell_type": "code",
   "execution_count": null,
   "id": "c7bc2a6b",
   "metadata": {},
   "outputs": [],
   "source": [
    "alice.create_transaction_token(recipientEmail='bob@openmined.org')"
   ]
  },
  {
   "cell_type": "code",
   "execution_count": null,
   "id": "8a4a65aa",
   "metadata": {},
   "outputs": [],
   "source": [
    "alice.get_user_info()"
   ]
  },
  {
   "cell_type": "code",
   "execution_count": null,
   "id": "2c1119fe",
   "metadata": {},
   "outputs": [],
   "source": []
  }
 ],
 "metadata": {
  "kernelspec": {
   "display_name": ".venv",
   "language": "python",
   "name": "python3"
  },
  "language_info": {
   "codemirror_mode": {
    "name": "ipython",
    "version": 3
   },
   "file_extension": ".py",
   "mimetype": "text/x-python",
   "name": "python",
   "nbconvert_exporter": "python",
   "pygments_lexer": "ipython3",
   "version": "3.12.7"
  }
 },
 "nbformat": 4,
 "nbformat_minor": 5
}
