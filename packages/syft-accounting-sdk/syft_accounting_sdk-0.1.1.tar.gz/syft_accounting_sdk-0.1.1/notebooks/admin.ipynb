{
 "cells": [
  {
   "cell_type": "code",
   "execution_count": null,
   "id": "4abed047-1966-4a16-88ce-9b1d15df4474",
   "metadata": {},
   "outputs": [],
   "source": [
    "from syft_accounting_sdk import AdminClient\n",
    "from dotenv import dotenv_values\n",
    "config = dotenv_values('.env')"
   ]
  },
  {
   "cell_type": "code",
   "execution_count": null,
   "id": "b455306e",
   "metadata": {},
   "outputs": [],
   "source": [
    "admin = AdminClient(\n",
    "    url='http://localhost:3000',\n",
    "    key=config['ADMIN_API_KEY']\n",
    ")"
   ]
  },
  {
   "cell_type": "code",
   "execution_count": null,
   "id": "d0036fa0",
   "metadata": {},
   "outputs": [],
   "source": [
    "alice, _ = admin.create_user(\n",
    "    email=\"alice@openmined.org\",\n",
    "    password='alice-pass'\n",
    ")\n",
    "alice"
   ]
  },
  {
   "cell_type": "code",
   "execution_count": null,
   "id": "7a82474c",
   "metadata": {},
   "outputs": [],
   "source": [
    "bob, _ = admin.create_user(\n",
    "    email=\"bob@openmined.org\",\n",
    "    password='bob-pass'\n",
    ")\n",
    "bob"
   ]
  },
  {
   "cell_type": "code",
   "execution_count": null,
   "id": "509e1ac6",
   "metadata": {},
   "outputs": [],
   "source": [
    "alice = admin.add_balance(email=alice.email, amount=100)\n",
    "alice"
   ]
  },
  {
   "cell_type": "code",
   "execution_count": null,
   "id": "12d1904b",
   "metadata": {},
   "outputs": [],
   "source": [
    "bob= admin.add_balance(email=bob.email, amount=100)\n",
    "bob"
   ]
  },
  {
   "cell_type": "code",
   "execution_count": null,
   "id": "da10d541",
   "metadata": {},
   "outputs": [],
   "source": [
    "admin.get_all_users(format='dict')"
   ]
  },
  {
   "cell_type": "code",
   "execution_count": null,
   "id": "21dfcd7f",
   "metadata": {},
   "outputs": [],
   "source": []
  }
 ],
 "metadata": {
  "kernelspec": {
   "display_name": ".venv",
   "language": "python",
   "name": "python3"
  },
  "language_info": {
   "codemirror_mode": {
    "name": "ipython",
    "version": 3
   },
   "file_extension": ".py",
   "mimetype": "text/x-python",
   "name": "python",
   "nbconvert_exporter": "python",
   "pygments_lexer": "ipython3",
   "version": "3.12.7"
  }
 },
 "nbformat": 4,
 "nbformat_minor": 5
}
