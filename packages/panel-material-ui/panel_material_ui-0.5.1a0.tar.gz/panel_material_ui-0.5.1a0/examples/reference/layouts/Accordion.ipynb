{
 "cells": [
  {
   "cell_type": "code",
   "execution_count": null,
   "id": "9bc8584c-6f36-4de9-8f1b-1a3f44daa6b1",
   "metadata": {},
   "outputs": [],
   "source": [
    "import panel as pn\n",
    "import panel_material_ui as pmui\n",
    "\n",
    "pn.extension()"
   ]
  },
  {
   "cell_type": "markdown",
   "id": "077aa4a0-6539-4f98-adf0-14f15b92eb13",
   "metadata": {},
   "source": [
    "The `Accordion` component creates expandable/collapsible sections. The labels for each section may be defined explicitly as part of a tuple, and otherwise default to the name parameter of the card’s contents. Like Column and Row, Tabs has a list-like API that allows interactively updating and modifying the cards using methods append, extend, clear, insert, pop, remove and `__setitem__` (to replace the contents).\n",
    "\n",
    "## Parameters:\n",
    "\n",
    "### Core\n",
    "\n",
    "* **`active`** (`list[int]`): List of indexes of currently expanded sections.\n",
    "* **`disabled`** (`list[int]`): List of indexes of disabled sections.\n",
    "* **`toggle`** (`boolean`): If True, only one section can be expanded at a time.\n",
    "\n",
    "### Style\n",
    "\n",
    "* **`active_header_background`** (`str`): The text color of the header when the Card is expanded.\n",
    "* **`active_header_color`** (`str`): The background color of the header when the Card is expanded.\n",
    "* **`disable_gutters`** (`boolean`): Whether to disable margins between expanded sections.\n",
    "* **`elevation`** (`int`): The elevation level of the card surface.\n",
    "* **`header_background`** (`str`): The background color of the header.\n",
    "* **`header_color`** (`str`): The color of the header text.\n",
    "* **`raised`** (`boolean`): Whether the card appears elevated above the background.\n",
    "* **`square`** (`boolean`): Whether to disable rounded corners.\n",
    "* **`title_variant`** (`str`): The text variant of the header title (default=\"h3\").\n",
    "* **`variant`** (`Literal[\"filled\", \"outlined\"]`): Whether to show an outline instead of elevation.\n",
    "\n",
    "---"
   ]
  },
  {
   "cell_type": "markdown",
   "id": "6023dd0f-f936-475a-ad05-96d1e193833e",
   "metadata": {},
   "source": [
    "### Basic Usage\n",
    "\n",
    "The `Accordion` renders a list of items into a stack of collapsible cards. The labels can be provided as tuples and whether a card is expanded is controlled via the `active parameter:"
   ]
  },
  {
   "cell_type": "code",
   "execution_count": null,
   "id": "0d944baf-ee56-4a59-8422-9914b66f193d",
   "metadata": {},
   "outputs": [],
   "source": [
    "pmui.Accordion(\n",
    "    ('Title 1', 'My content'),\n",
    "    ('Title 2', 'My secondary content'),\n",
    "    active=[1]\n",
    ")"
   ]
  },
  {
   "cell_type": "markdown",
   "id": "1f24d6eb-fa8e-4979-abd6-f204ce515cd8",
   "metadata": {},
   "source": [
    "### Objects & Headers\n",
    "\n",
    "An Accordion layout can either be instantiated as empty and populated after the fact, or by using a list of objects provided on instantiation as positional arguments.\n",
    "\n",
    "If the objects are not already Panel components they will each be converted to one using the pn.panel conversion method. \n",
    "\n",
    "Unlike other panel types, Accordion also accepts tuples to specify the title of each tab; if no name is supplied explicitly the name of the underlying object will be used:"
   ]
  },
  {
   "cell_type": "code",
   "execution_count": null,
   "id": "507993f6-cb1a-4209-acad-0d259d57ee44",
   "metadata": {},
   "outputs": [],
   "source": [
    "from bokeh.plotting import figure\n",
    "\n",
    "p1 = figure(width=300, height=300, name='Scatter', margin=5)\n",
    "p1.scatter([0, 1, 2, 3, 4, 5, 6], [0, 1, 2, 3, 2, 1, 0])\n",
    "\n",
    "p2 = figure(width=300, height=300, name='Line', margin=5)\n",
    "p2.line([0, 1, 2, 3, 4, 5, 6], [0, 1, 2, 3, 2, 1, 0])\n",
    "\n",
    "accordion = pmui.Accordion(('Scatter', p1), p2, margin=10)\n",
    "accordion"
   ]
  },
  {
   "cell_type": "markdown",
   "id": "2b757475-035f-4802-8cea-51775b2af845",
   "metadata": {},
   "source": [
    "The contents of the Accordion.objects list should never be modified individually, because Panel cannot detect when items in that list have changed internally, and will thus fail to update any already-rendered views of those objects (and their card titles!). Instead, use the provided methods for adding and removing items from the list. The only change that is safe to make directly to Accordion.objects is to replace the list of objects entirely. As a simple example of using the methods, we might add an additional widget to the Accordion using the append method:"
   ]
  },
  {
   "cell_type": "code",
   "execution_count": null,
   "id": "f07adfd7-0e88-4a12-b043-9e40ccd18f41",
   "metadata": {},
   "outputs": [],
   "source": [
    "p3 = figure(width=300, height=300, name='Square', margin=5)\n",
    "p3.scatter([0, 1, 2, 3, 4, 5, 6], [0, 1, 2, 3, 2, 1, 0], marker='square', size=10)\n",
    "\n",
    "accordion.append(('Square', p3))"
   ]
  },
  {
   "cell_type": "markdown",
   "id": "048c772d-4b7e-42cc-ac8d-8bcb1d410ef5",
   "metadata": {},
   "source": [
    "On a live server or in a notebook the accordion displayed above will dynamically expand to include the new card. To see the effect in a statically rendered page, we will display the accordion a second time:"
   ]
  },
  {
   "cell_type": "code",
   "execution_count": null,
   "id": "2fbb0df9-6fb3-4f45-8e69-db3af4876402",
   "metadata": {},
   "outputs": [],
   "source": [
    "accordion"
   ]
  },
  {
   "cell_type": "markdown",
   "id": "a735d685-84c3-4975-9d4d-4ff42c7c73ef",
   "metadata": {},
   "source": [
    "#### HTML & Component Titles\n",
    "\n",
    "The titles of each card may also contain HTML or render Panel components:"
   ]
  },
  {
   "cell_type": "code",
   "execution_count": null,
   "id": "eb97b91b-436f-405a-a144-fcc8ee46c223",
   "metadata": {},
   "outputs": [],
   "source": [
    "component_title = pmui.Row(\n",
    "    pmui.IconButton(icon='show_chart', size='small', margin=(10, 0)),\n",
    "    '#### Line'\n",
    ")\n",
    "\n",
    "line = figure(width=300, height=300, name='Line')\n",
    "line.line([0, 1, 2, 3, 4, 5, 6], [0, 1, 2, 3, 2, 1, 0])\n",
    "\n",
    "html_title = \"\"\"\n",
    "<p style=\"display: inline-flex; align-items: center;\">\n",
    "  <span class=\"material-icons\" style=\"font-size: 1.2em; padding-right: 1em;\">square</span>\n",
    "  <span>Square</span>\n",
    "</p>\"\"\"\n",
    "\n",
    "square = figure(width=300, height=300, name='Square')\n",
    "square.scatter([0, 1, 2, 3, 4, 5, 6], [0, 1, 2, 3, 2, 1, 0], marker='square', size=10)\n",
    "\n",
    "pmui.Accordion(\n",
    "    (component_title, line),\n",
    "    (html_title, square)\n",
    ").show()"
   ]
  },
  {
   "cell_type": "markdown",
   "id": "6a1d49a5-e875-4e79-b910-700dbfc68ece",
   "metadata": {},
   "source": [
    "### `active`\n",
    "\n",
    "In addition to being able to modify the objects using methods we can also get and set the currently active cards as a list of integers, which will update any rendered views of the object:"
   ]
  },
  {
   "cell_type": "code",
   "execution_count": null,
   "id": "677ff6f0-c453-4ec9-bd3b-96d89c1bdaa1",
   "metadata": {},
   "outputs": [],
   "source": [
    "pmui.Accordion(p1, p2, p3, active=[0, 2], margin=10)"
   ]
  },
  {
   "cell_type": "markdown",
   "id": "d7253e11-33bd-42f5-bb68-86c3fccc044c",
   "metadata": {},
   "source": [
    "### `disabled`"
   ]
  },
  {
   "cell_type": "markdown",
   "id": "32ea0f8b-7de2-4bd4-bc02-b0b4355e1993",
   "metadata": {},
   "source": [
    "The `disabled` parameter also contains indexes but instead controls which section can't be expanded."
   ]
  },
  {
   "cell_type": "code",
   "execution_count": null,
   "id": "3fe96227-f51a-47d4-aaa6-222bf07a4a11",
   "metadata": {},
   "outputs": [],
   "source": [
    "pmui.Accordion(\n",
    "    'Foo', 'Bar', 'Baz', disabled=[2]\n",
    ")"
   ]
  },
  {
   "cell_type": "markdown",
   "id": "b7712caf-5b9a-4394-bfb5-c30ee698ef32",
   "metadata": {},
   "source": [
    "### `toggle`"
   ]
  },
  {
   "cell_type": "markdown",
   "id": "7d30e062-5c32-4f71-a245-4923d774886c",
   "metadata": {},
   "source": [
    "When toggle is enabled only one card can be active at the same time, i.e., expanding one card will collapse the other active cards (much like a Tabs layout)."
   ]
  },
  {
   "cell_type": "code",
   "execution_count": null,
   "id": "df5db7d5-f4c6-40d3-ab55-ae542326ee97",
   "metadata": {},
   "outputs": [],
   "source": [
    "accordion.clone(toggle=True, active=[0])"
   ]
  }
 ],
 "metadata": {
  "kernelspec": {
   "display_name": "Python 3 (ipykernel)",
   "language": "python",
   "name": "python3"
  },
  "language_info": {
   "codemirror_mode": {
    "name": "ipython",
    "version": 3
   },
   "file_extension": ".py",
   "mimetype": "text/x-python",
   "name": "python",
   "nbconvert_exporter": "python",
   "pygments_lexer": "ipython3",
   "version": "3.12.2"
  }
 },
 "nbformat": 4,
 "nbformat_minor": 5
}
