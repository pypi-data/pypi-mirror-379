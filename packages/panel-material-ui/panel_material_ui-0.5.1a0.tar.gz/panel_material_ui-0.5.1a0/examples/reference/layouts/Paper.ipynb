{
 "cells": [
  {
   "cell_type": "code",
   "execution_count": null,
   "id": "130bcfb7-7724-4bdf-b1a3-be71ca6c308d",
   "metadata": {},
   "outputs": [],
   "source": [
    "import panel as pn\n",
    "import panel_material_ui as pmui\n",
    "from panel_material_ui import Paper\n",
    "\n",
    "pn.extension()"
   ]
  },
  {
   "cell_type": "markdown",
   "id": "4a1a6ab3-7dcf-4823-99ba-80da587840d0",
   "metadata": {},
   "source": [
    "The `Paper` component provides a surface to display content with optional elevation effects.\n",
    "\n",
    "## Parameters:\n",
    "For details on other options for customizing the component see the layout and styling how-to guides.\n",
    "\n",
    "### Core\n",
    "\n",
    "* **`direction`** (`Literal[\"row\", \"column\", \"column-reverse\", \"row-reverse\"]`): Direction the grid flows in.\n",
    "\n",
    "### Display\n",
    "\n",
    "* **`elevation`** (`int`): The elevation level of the card surface.\n",
    "* **`raised`** (`boolean`): Whether the card appears elevated above the background.\n",
    "* **`square`** (`boolean`): Whether to disable rounded corners.\n",
    "* **`variant`** (`Literal[\"filled\", \"outlined\"]`): Whether to show an outline instead of elevation.\n",
    "\n",
    "---"
   ]
  },
  {
   "cell_type": "code",
   "execution_count": null,
   "id": "39aa86fc-a98f-4678-bd24-e3e71d52c1f2",
   "metadata": {},
   "outputs": [],
   "source": [
    "size_opts = dict(width=200, height=200, margin=20)\n",
    "\n",
    "pmui.Row(\n",
    "    Paper(elevation=0, **size_opts),\n",
    "    Paper(**size_opts),\n",
    "    Paper(elevation=3, **size_opts),\n",
    "    styles={'background-color': '#f0f0f0'}\n",
    ")"
   ]
  },
  {
   "cell_type": "markdown",
   "id": "c519109d-7572-41e2-b4c6-d4b5cbd96306",
   "metadata": {},
   "source": [
    "### Elevation\n",
    "\n",
    "Use the elevation prop to establish hierarchy through the use of shadows. The Paper component's default elevation level is 1. The prop accepts values from 0 to 24. The higher the number, the further away the Paper appears to be from its background.\n",
    "\n",
    "In dark mode, increasing the elevation also makes the background color lighter. This is done by applying a semi-transparent gradient with the background-image CSS property."
   ]
  },
  {
   "cell_type": "code",
   "execution_count": null,
   "id": "9aab3bc7-a2dd-425a-802c-11eefbd94679",
   "metadata": {},
   "outputs": [],
   "source": [
    "size_opts = dict(width=100, height=100, margin=10)\n",
    "\n",
    "pn.GridBox(\n",
    "    *(Paper(f'elevation={e}', elevation=e, **size_opts) for e in (0, 1, 2, 3, 4, 8, 16, 24)),\n",
    "    ncols=4, margin=20\n",
    ")"
   ]
  },
  {
   "cell_type": "markdown",
   "id": "ad209cfe-c0f0-44d5-9dca-689baadcee6d",
   "metadata": {},
   "source": [
    "### Variants\n",
    "\n",
    "Set the variant prop to \"outlined\" for a flat, outlined Paper with no shadows:"
   ]
  },
  {
   "cell_type": "code",
   "execution_count": null,
   "id": "bde68d7b-eab1-4549-b097-781fd22efbdc",
   "metadata": {},
   "outputs": [],
   "source": [
    "pmui.Row(\n",
    "    Paper(variant='outlined', **size_opts),\n",
    "    Paper(variant='elevation', **size_opts),\n",
    "    margin=20, styles={'background-color': '#f0f0f0'}\n",
    ")"
   ]
  }
 ],
 "metadata": {
  "kernelspec": {
   "display_name": "Python 3 (ipykernel)",
   "language": "python",
   "name": "python3"
  },
  "language_info": {
   "codemirror_mode": {
    "name": "ipython",
    "version": 3
   },
   "file_extension": ".py",
   "mimetype": "text/x-python",
   "name": "python",
   "nbconvert_exporter": "python",
   "pygments_lexer": "ipython3",
   "version": "3.12.2"
  }
 },
 "nbformat": 4,
 "nbformat_minor": 5
}
