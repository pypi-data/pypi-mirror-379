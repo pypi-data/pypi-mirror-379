{
 "cells": [
  {
   "cell_type": "code",
   "execution_count": null,
   "id": "669c608a-2c75-43b0-8be2-93f9ed501652",
   "metadata": {},
   "outputs": [],
   "source": [
    "import panel as pn\n",
    "import panel_material_ui as pmui\n",
    "from panel_material_ui import Grid, Paper\n",
    "\n",
    "pn.extension()"
   ]
  },
  {
   "cell_type": "markdown",
   "id": "c34b768e-b7d5-4704-8da6-77d626ed70b4",
   "metadata": {},
   "source": [
    "The `Grid` component provides a responsively sized layout grid that adapts to screen size and orientation, ensuring consistency across layouts.\n",
    "\n",
    "#### Parameters:\n",
    "\n",
    "For details on other options for customizing the component see the [customization guides](https://panel-material-ui.holoviz.org/customization/index.html).\n",
    "\n",
    "##### Core\n",
    "\n",
    "* **`columns`** (`int | dict`): The number of columns to display in the grid, either as a fixed integer or per breakpoint ('xs', 'm', 'lg').\n",
    "* **`column_spacing`** (`int`): The spacing between the columns in the grid. Overrides the `spacing` parameter.\n",
    "* **`container`** (`boolean`): Declares whether the `Grid` is the outer container or an item within the grid.\n",
    "* **`direction`** (`Literal[\"row\", \"column\", \"column-reverse\", \"row-reverse\"]`): Direction the grid flows in.\n",
    "* **`row_spacing`** (`int`): The spacing between the rows in the grid. Overrides the `spacing` parameter.\n",
    "* **`size`** (`int | dict | Literal['grow']`):  The size of the grid. Overrides the `columns` parameter.\n",
    "* **`spacing`** (`int | dict`): The spacing between the columns and rows in the grid.\n",
    "___"
   ]
  },
  {
   "cell_type": "markdown",
   "id": "5afa8d26-a309-486d-a141-80772e9d727a",
   "metadata": {},
   "source": [
    "In order to create a grid layout, you need a container. Use the container prop to create a grid container that wraps the grid items (the Grid is always an item).\n",
    "\n",
    "Column widths are integer values between 1 and 12. For example, an item with size={6} occupies half of the grid container's width."
   ]
  },
  {
   "cell_type": "code",
   "execution_count": null,
   "id": "d62ed8b4-440a-40c8-a022-c568ac9ff99d",
   "metadata": {},
   "outputs": [],
   "source": [
    "item = lambda content: Paper(content, elevation=5, height=100, sizing_mode=\"stretch_width\")\n",
    "\n",
    "Grid(\n",
    "    Grid(item('Foo'), size=8),\n",
    "    Grid(item('Bar'), size=4),\n",
    "    Grid(item('Baz'), size=4),\n",
    "    Grid(item('Qux'), size=8),\n",
    "    container=True, spacing=2, margin=10\n",
    ")"
   ]
  },
  {
   "cell_type": "markdown",
   "id": "ab6d6e95-99d8-4546-9b2a-bea3ac1220df",
   "metadata": {},
   "source": [
    "### Breakpoints\n",
    "\n",
    "Items may have multiple widths defined, causing the layout to change at the defined breakpoint. Width values apply to all wider breakpoints, and larger breakpoints override those given to smaller breakpoints.\n",
    "\n",
    "For example, a component with `size={ 'xs': 12, 'sm': 6 }` occupies the entire viewport width when the viewport is less than 600 pixels wide. When the viewport grows beyond this size, the component occupies half of the total width—six columns rather than 12."
   ]
  },
  {
   "cell_type": "code",
   "execution_count": null,
   "id": "65195b2b-f69a-424b-8b23-0745e00f0c4a",
   "metadata": {},
   "outputs": [],
   "source": [
    "Grid(\n",
    "    Grid(item('Foo'), size={\"md\": 8, \"xs\": 12}),\n",
    "    Grid(item('Bar'), size={\"md\": 4, \"xs\": 12}),\n",
    "    Grid(item('Baz'), size={\"md\": 4, \"xs\": 12}),\n",
    "    Grid(item('Qux'), size={\"md\": 8, \"xs\": 12}),\n",
    "    container=True, column_spacing=2, margin=10\n",
    ")"
   ]
  },
  {
   "cell_type": "markdown",
   "id": "78002d56-bdba-46f3-bd58-e7af534f0a80",
   "metadata": {},
   "source": [
    "### Spacing\n",
    "\n",
    "Use the spacing prop to control the space between children. The spacing value can be any positive number (including decimals) or a string. The prop is converted into a CSS property using the theme.spacing() helper.\n",
    "\n",
    "The following demo illustrates the use of the spacing prop:"
   ]
  },
  {
   "cell_type": "code",
   "execution_count": null,
   "id": "e0836050-acb1-414b-a765-7a0f6873b105",
   "metadata": {},
   "outputs": [],
   "source": [
    "spacing = pmui.RadioBoxGroup(options=[0.5, 1, 2, 4, 8], value=2, inline=True, label='Spacing')\n",
    "\n",
    "spacing_grid = Grid(\n",
    "    Grid(item('Foo'), size=2),\n",
    "    Grid(item('Bar'), size=2),\n",
    "    Grid(item('Baz'), size=2),\n",
    "    container=True, spacing=spacing, margin=10\n",
    ")\n",
    "\n",
    "pmui.Column(spacing_grid, spacing)"
   ]
  },
  {
   "cell_type": "markdown",
   "id": "ce084fbf-db9c-4956-b2cf-f73a735afabf",
   "metadata": {},
   "source": [
    "### Auto-layout\n",
    "\n",
    "The auto-layout feature gives equal space to all items present. When you set the width of one item, the others will automatically resize to match it."
   ]
  },
  {
   "cell_type": "code",
   "execution_count": null,
   "id": "021e5039-932a-4f41-9a24-2fb4ab8679a5",
   "metadata": {},
   "outputs": [],
   "source": [
    "Grid(\n",
    "    Grid(item('Foo'), size='grow'),\n",
    "    Grid(item('Bar'), size=2),\n",
    "    Grid(item('Baz'), size='grow'),\n",
    "    container=True, spacing=2, margin=10\n",
    ")"
   ]
  }
 ],
 "metadata": {
  "kernelspec": {
   "display_name": "Python 3 (ipykernel)",
   "language": "python",
   "name": "python3"
  },
  "language_info": {
   "codemirror_mode": {
    "name": "ipython",
    "version": 3
   },
   "file_extension": ".py",
   "mimetype": "text/x-python",
   "name": "python",
   "nbconvert_exporter": "python",
   "pygments_lexer": "ipython3",
   "version": "3.12.2"
  }
 },
 "nbformat": 4,
 "nbformat_minor": 5
}
