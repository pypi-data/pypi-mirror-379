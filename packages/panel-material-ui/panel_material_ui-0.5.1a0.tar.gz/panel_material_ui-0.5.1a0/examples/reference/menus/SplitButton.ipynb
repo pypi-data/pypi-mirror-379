{
 "cells": [
  {
   "cell_type": "code",
   "execution_count": null,
   "id": "55e7b392-14c0-4411-bfcf-a46e7e117368",
   "metadata": {},
   "outputs": [],
   "source": [
    "import panel as pn\n",
    "import panel_material_ui as pmui\n",
    "\n",
    "pn.extension()"
   ]
  },
  {
   "cell_type": "markdown",
   "id": "a1183801-6081-4061-8795-d7fd8e5e8f38",
   "metadata": {},
   "source": [
    "The `SplitButton` component belongs to the `Menu` family of components. Menu components provide a structured way for users to navigate or choose between a series of defined actions. The `SplitButton` supports two distinct modes:\n",
    "\n",
    "- **`split`**: In `split` mode, the main button performs a default action, while the dropdown allows users to trigger related but independent actions.\n",
    "- **`select`**: In `select` mode, users select an option from the menu, and the main button triggers the selected action.\n",
    "\n",
    "Each item in the `SplitButton` is defined by a dictionary with a required `label` key:\n",
    "\n",
    "#### Item Structure\n",
    "\n",
    "Each item dictionary can include the following keys:\n",
    "\n",
    "- **`label`** (`str`, required): The text displayed for the menu item.\n",
    "- **`icon`** (`str`, optional): An icon to display next to the label.\n",
    "- **`icon_size`** (`str`, optional): The size of the icon to display next to the label, e.g. `\"12px\"` or `\"1em\"`.\n",
    "- **`href`** (`str`, optional): A URL to link to. If provided, the menu item becomes a link.\n",
    "- **`target`** (`str`, optional): Specifies where to open the linked document (e.g., `_blank`).\n",
    "\n",
    "These dictionaries are passed to the component via the `items` parameter as a list. When an item is selected, it is available on the `value` parameter.\n",
    "\n",
    "Only the allowed keys are synced with the frontend, but you can store additional information in the item dictionaries for your own use.\n",
    "\n",
    "#### Parameters\n",
    "\n",
    "##### Core\n",
    "\n",
    "* **`active`** (`int`): The index of the currently selected item.\n",
    "* **`clicks`** (`int`): The number of times the button or a menu item has been clicked.\n",
    "* **`disabled`** (`bool`): Whether the button is clickable.\n",
    "* **`items`** (`list`): The menu items to select from.\n",
    "* **`mode`** (`Literal[\"split\", \"select\"]`): Switches the button behavior between split and select modes.\n",
    "* **`value`** (`dict`): The currently selected item.\n",
    "\n",
    "##### Display\n",
    "\n",
    "* **`color`** (`str`): The color variant of the button, which must be one of `'default'` (white), `'primary'` (blue), `'success'` (green), `'info'` (yellow), `'light'` (light), or `'danger'` (red).\n",
    "* **`icon`** (`str`): An icon to display to the left of the button label. Either an SVG or an icon name from [Material UI Icons](https://mui.com/material-ui/material-icons).\n",
    "* **`icon_size`** (`str`): The size of the icons, e.g., `\"12px\"` or `\"1em\"`.\n",
    "* **`label`** (`str`): The title of the widget.\n",
    "* **`variant`** (`str`): The button style, either `'solid'`, `'outlined'`, or `'text'`.\n",
    "\n",
    "##### Styling\n",
    "\n",
    "- **`sx`** (`dict`): Component-level styling API.\n",
    "- **`theme_config`** (`dict`): Theming API.\n",
    "\n",
    "#### Methods\n",
    "\n",
    "- **`on_click`**: Registers a callback to be executed when the `SplitButton` is clicked.\n",
    "\n",
    "---"
   ]
  },
  {
   "cell_type": "markdown",
   "id": "eb713227-f7d0-4d6f-9f5c-247455dc804e",
   "metadata": {},
   "source": [
    "## Basic Example"
   ]
  },
  {
   "cell_type": "code",
   "execution_count": null,
   "id": "d566a9d3-6345-4d27-a731-35e77361252a",
   "metadata": {},
   "outputs": [],
   "source": [
    "pmui.SplitButton(items=[\n",
    "    {'label': 'New'},\n",
    "    {'label': 'Save'},\n",
    "], label='Save', margin=(5, 5, 150, 5))"
   ]
  },
  {
   "cell_type": "markdown",
   "id": "6cccba94-b316-4d37-bbce-81b59d19c086",
   "metadata": {},
   "source": [
    "## Split Mode\n",
    "\n",
    "In the default `split` mode, the `SplitButton` allows users to trigger actions either by clicking the main button (for a default action) or by selecting a menu item from the dropdown. This is useful when you want to offer a primary action alongside related alternatives."
   ]
  },
  {
   "cell_type": "code",
   "execution_count": null,
   "id": "d726ec8d-8a40-48c7-8ab0-1e272497980c",
   "metadata": {},
   "outputs": [],
   "source": [
    "split_button = pmui.SplitButton(items=[\n",
    "    {'label': 'New'},\n",
    "    {'label': 'Save'},\n",
    "], label='Save')\n",
    "\n",
    "log = pmui.Column(min_height=100)\n",
    "\n",
    "def handle_action(event, log=log):\n",
    "    log.insert(0, f\"Event: {event}, Clicks: {split_button.clicks}, Active: {split_button.active}\")\n",
    "    log[:]=log[:3]\n",
    "\n",
    "split_button.on_click(handle_action)\n",
    "\n",
    "pmui.Column(split_button, log)"
   ]
  },
  {
   "cell_type": "markdown",
   "id": "3de060c0-5d21-4120-8e3c-a3a957b58ea4",
   "metadata": {},
   "source": [
    "In this mode, clicking the main button or a menu item both trigger the `on_click` event and update the `clicks` parameter.\n",
    "\n",
    "The `on_click` handler receives the `label` when the main button is clicked, and the full item dictionary when a menu item is selected."
   ]
  },
  {
   "cell_type": "markdown",
   "id": "778872cc-2293-4885-9ca2-23f01a48b15f",
   "metadata": {},
   "source": [
    "### Select mode"
   ]
  },
  {
   "cell_type": "markdown",
   "id": "aece27ec-55dc-4581-9b71-3da762d3272a",
   "metadata": {},
   "source": [
    "In `select` mode, only clicking the main button triggers an event. Selecting a menu item simply changes the default action for the button, but does not immediately trigger an event. This is useful when you want users to choose an action and then confirm it by clicking the button."
   ]
  },
  {
   "cell_type": "code",
   "execution_count": null,
   "id": "9768bb25-373d-4eb2-9252-43e6bfb51ba2",
   "metadata": {},
   "outputs": [],
   "source": [
    "select_button = pmui.SplitButton(items=[\n",
    "    {'label': 'Create a merge commit'},\n",
    "    {'label': 'Squash and merge'},\n",
    "    {'label': 'Rebase and merge'},\n",
    "], mode='select', width=250)\n",
    "\n",
    "log = pmui.Column(min_height=125, max_height=300)\n",
    "\n",
    "def handle_action(event, log=log):\n",
    "    log.insert(0, f\"Event: {event}, Clicks: {select_button.clicks}, Active: {select_button.active}\")\n",
    "    log[:] = log[:3]\n",
    "\n",
    "select_button.on_click(handle_action)\n",
    "\n",
    "pmui.Column(select_button, log)"
   ]
  },
  {
   "cell_type": "markdown",
   "id": "0a25ad30-79e8-46e4-8417-3a016465f635",
   "metadata": {},
   "source": [
    "In this mode, only clicking the main button triggers the `on_click` event and updates the `clicks` parameter.\n",
    "\n",
    "The `on_click` handler receives the currently selected item when the button is clicked."
   ]
  },
  {
   "cell_type": "markdown",
   "id": "946eb6f5-1883-4288-99f6-210dcce0756a",
   "metadata": {},
   "source": [
    "### Item href, target, and icon\n",
    "\n",
    "You can add links and icons to menu items to make them more informative or interactive. For example, you can direct users to external documentation or indicate the purpose of each action visually."
   ]
  },
  {
   "cell_type": "code",
   "execution_count": null,
   "id": "024596ed-aba7-4534-8f17-1c9d08bdd853",
   "metadata": {},
   "outputs": [],
   "source": [
    "pmui.SplitButton(\n",
    "    items=[\n",
    "        {'label': 'Panel Docs', 'href': 'https://panel.holoviz.org', 'icon': 'link', 'target': '_blank'},\n",
    "        {'label': 'Material UI', 'href': 'https://mui.com', 'icon': 'web', 'target': '_blank'},\n",
    "    ],\n",
    "    label='Links',\n",
    "    icon='link',\n",
    "    margin=(5, 5, 150, 5), mode=\"split\"\n",
    ")"
   ]
  },
  {
   "cell_type": "markdown",
   "id": "e8be96b6-abb7-43c2-b38a-a8e45e31d24e",
   "metadata": {},
   "source": [
    "### Icon and Icon Size\n",
    "\n",
    "You can set the icon for the SplitButton and the size of all icons including the items:"
   ]
  },
  {
   "cell_type": "code",
   "execution_count": null,
   "id": "bee015c0-5975-458d-a4b0-c4fd6f1324a1",
   "metadata": {},
   "outputs": [],
   "source": [
    "pmui.SplitButton(\n",
    "    items=[\n",
    "        {'label': 'Small', 'icon': 'add', 'icon_size': '0.8em'},\n",
    "        {'label': 'Medium', 'icon': 'add', 'icon_size': '1em'},\n",
    "        {'label': 'Large', 'icon': 'add', 'icon_size': '1.5em'},\n",
    "    ],\n",
    "    label='Star',\n",
    "    icon='star',\n",
    "    icon_size='2em',\n",
    "    margin=(5, 5, 150, 5)\n",
    ")"
   ]
  },
  {
   "cell_type": "markdown",
   "id": "66273dbd-7658-434b-88c8-7364a0d716a7",
   "metadata": {},
   "source": [
    "### Display Options\n",
    "\n",
    "#### `color`"
   ]
  },
  {
   "cell_type": "code",
   "execution_count": null,
   "id": "759c18d6-02eb-415f-8077-755a98d31083",
   "metadata": {},
   "outputs": [],
   "source": [
    "pn.GridBox(*(\n",
    "    split_button.clone(color=color, label=color, width=200)\n",
    "    for color in pmui.SplitButton.param.color.objects\n",
    "), ncols=2)"
   ]
  },
  {
   "cell_type": "markdown",
   "id": "1d0a38fa-342b-4ae8-b345-96696f5d200c",
   "metadata": {},
   "source": [
    "### `size`"
   ]
  },
  {
   "cell_type": "code",
   "execution_count": null,
   "id": "1a72e99f-9221-4cb9-aed5-312d955db2ba",
   "metadata": {},
   "outputs": [],
   "source": [
    "pn.Row(*(\n",
    "    split_button.clone(size=size, label=size, width=200)\n",
    "    for size in pmui.SplitButton.param.size.objects\n",
    "))"
   ]
  },
  {
   "cell_type": "markdown",
   "id": "005ccc52-76db-46a7-b859-640218d945c1",
   "metadata": {},
   "source": [
    "#### `variant`"
   ]
  },
  {
   "cell_type": "code",
   "execution_count": null,
   "id": "5d00de31-3f51-49cc-9af6-fbb05f506667",
   "metadata": {},
   "outputs": [],
   "source": [
    "pn.Row(*(\n",
    "    split_button.clone(variant=variant, label=variant)\n",
    "    for variant in pmui.SplitButton.param.variant.objects\n",
    "))"
   ]
  },
  {
   "cell_type": "markdown",
   "id": "8abd523f-1841-4be3-b5c2-2d579368cc33",
   "metadata": {},
   "source": [
    "### Disabled and Loading"
   ]
  },
  {
   "cell_type": "code",
   "execution_count": null,
   "id": "58820194-5217-4b3d-be3c-34e86317d22a",
   "metadata": {},
   "outputs": [],
   "source": [
    "pmui.Row(\n",
    "    pmui.SplitButton(label='Disabled', items=[{'label': 'A'}], disabled=True),\n",
    "    pmui.SplitButton(label='Loading', items=[{'label': 'A'}], loading=True),\n",
    "    height=150\n",
    ")"
   ]
  },
  {
   "cell_type": "markdown",
   "id": "6493c72f-e0c0-48b8-b1b6-6852befc8f16",
   "metadata": {},
   "source": [
    "### Description Tooltip\n",
    "\n",
    "You can add a tooltip to the SplitButton using the `description` parameter:"
   ]
  },
  {
   "cell_type": "code",
   "execution_count": null,
   "id": "76286c71-f77a-444f-827c-d4464ea6f6e1",
   "metadata": {},
   "outputs": [],
   "source": [
    "pmui.SplitButton(\n",
    "    label='With Tooltip',\n",
    "    items=[{'label': 'A'}, {'label': 'B'}],\n",
    "    description='This SplitButton has a tooltip!',\n",
    "    margin=(5, 5, 150, 5)\n",
    ")"
   ]
  },
  {
   "cell_type": "markdown",
   "id": "d858f0b4-f424-446a-a82b-6392bddded23",
   "metadata": {},
   "source": [
    "### API Reference\n",
    "\n",
    "#### Parameters\n",
    "\n",
    "The `SplitButton` menu exposes a number of options which can be changed from both Python and Javascript. Try out the effect of these parameters interactively:"
   ]
  },
  {
   "cell_type": "code",
   "execution_count": null,
   "id": "1340443d-854b-4849-a116-9ca8cd7a39a3",
   "metadata": {},
   "outputs": [],
   "source": [
    "pmui.SplitButton(items=[\n",
    "    {'label': 'Download .parquet'},\n",
    "    {'label': 'Download .xlsx'},\n",
    "], label='Download .csv').api(jslink=True)"
   ]
  },
  {
   "cell_type": "markdown",
   "id": "e31c9f3c-412f-4a3e-8958-4a3c01d99e5c",
   "metadata": {},
   "source": [
    "### References\n",
    "\n",
    "**Panel Documentation:**\n",
    "\n",
    "- [How-to guides on interactivity](https://panel.holoviz.org/how_to/interactivity/index.html) - Learn how to add interactivity to your applications using widgets\n",
    "- [Setting up callbacks and links](https://panel.holoviz.org/how_to/links/index.html) - Connect parameters between components and create reactive interfaces\n",
    "- [Declarative UIs with Param](https://panel.holoviz.org/how_to/param/index.html) - Build parameter-driven applications\n",
    "\n",
    "**Material UI:**\n",
    "\n",
    "- [Material UI Split Button Reference](https://mui.com/material-ui/react-button-group/#split-button)"
   ]
  }
 ],
 "metadata": {
  "kernelspec": {
   "display_name": "Python 3 (ipykernel)",
   "language": "python",
   "name": "python3"
  },
  "language_info": {
   "codemirror_mode": {
    "name": "ipython",
    "version": 3
   },
   "file_extension": ".py",
   "mimetype": "text/x-python",
   "name": "python",
   "nbconvert_exporter": "python",
   "pygments_lexer": "ipython3",
   "version": "3.12.2"
  }
 },
 "nbformat": 4,
 "nbformat_minor": 5
}
