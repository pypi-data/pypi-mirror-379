{
 "cells": [
  {
   "cell_type": "code",
   "execution_count": null,
   "metadata": {},
   "outputs": [],
   "source": [
    "import datetime as dt\n",
    "\n",
    "import panel as pn\n",
    "import panel_material_ui as pmui\n",
    "\n",
    "pn.extension()"
   ]
  },
  {
   "cell_type": "markdown",
   "metadata": {},
   "source": [
    "The `DateRangeSlider` widget allows selecting a date range using a slider with two handles.\n",
    "\n",
    "Discover more on using widgets to add interactivity to your applications in the [how-to guides on interactivity](https://panel.holoviz.org/how_to/interactivity/index.html). Alternatively, learn [how to set up callbacks and (JS-)links between parameters](https://panel.holoviz.org/how_to/links/index.html) or [how to use them as part of declarative UIs with Param](https://panel.holoviz.org/how_to/param/index.html).\n",
    "\n",
    "#### Parameters:\n",
    "\n",
    "For details on other options for customizing the component see the [customization guides](https://panel-material-ui.holoviz.org/customization/index.html).\n",
    "\n",
    "##### Core\n",
    "\n",
    "* **`disabled`** (boolean): Whether the widget is editable\n",
    "* **`start`** (datetime): The range's lower bound\n",
    "* **`end`** (datetime): The range's upper bound\n",
    "* **`step`** (int): Step in days\n",
    "* **`value`** (tuple): Tuple of upper and lower bounds of the selected range expressed as datetime types\n",
    "* **`value_throttled`** (tuple): Tuple of upper and lower bounds of the selected range expressed as datetime types throttled until mouseup\n",
    "\n",
    "##### Display\n",
    "\n",
    "* **`bar_color`** (color): Color of the slider bar as a hexadecimal RGB value\n",
    "* **`direction`** (str): Whether the slider should go from left to right ('ltr') or right to left ('rtl')\n",
    "* **`format`** (str): The datetime format\n",
    "* **`label`** (str): The title of the widget\n",
    "* **`orientation`** (str): Whether the slider should be displayed in a 'horizontal' or 'vertical' orientation.\n",
    "* **`tooltips`** (boolean): Whether to display tooltips on the slider handle\n",
    "\n",
    "##### Styling\n",
    "\n",
    "- **`sx`** (dict): Component level styling API.\n",
    "- **`theme_config`** (dict): Theming API.\n",
    "\n",
    "##### Aliases\n",
    "\n",
    "For compatibility with Panel certain parameters are allowed as aliases:\n",
    "\n",
    "- **`name`**: Alias for `label`\n",
    "\n",
    "___"
   ]
  },
  {
   "cell_type": "markdown",
   "metadata": {},
   "source": [
    "The slider start and end can be adjusted by dragging the handles and whole range can be shifted by dragging the selected range."
   ]
  },
  {
   "cell_type": "code",
   "execution_count": null,
   "metadata": {},
   "outputs": [],
   "source": [
    "date_range_slider = pmui.DateRangeSlider(\n",
    "    label='Date Range Slider',\n",
    "    start=dt.datetime(2017, 1, 1), end=dt.datetime(2019, 1, 1),\n",
    "    value=(dt.datetime(2017, 1, 1), dt.datetime(2018, 1, 10)),\n",
    "    step=2\n",
    ")\n",
    "\n",
    "date_range_slider"
   ]
  },
  {
   "cell_type": "markdown",
   "metadata": {},
   "source": [
    "``DateRangeSlider.value`` returns a tuple of datetime values that can be read out and set like other widgets:"
   ]
  },
  {
   "cell_type": "code",
   "execution_count": null,
   "metadata": {},
   "outputs": [],
   "source": [
    "date_range_slider.value"
   ]
  },
  {
   "cell_type": "markdown",
   "metadata": {},
   "source": [
    "### Label\n",
    "\n",
    "You may remove the `label`/ `name` by not setting it."
   ]
  },
  {
   "cell_type": "code",
   "execution_count": null,
   "metadata": {},
   "outputs": [],
   "source": [
    "pmui.DateRangeSlider(\n",
    "    start=dt.datetime(2017, 1, 1), end=dt.datetime(2019, 1, 1),\n",
    "    value=(dt.datetime(2017, 1, 1), dt.datetime(2018, 1, 10)),\n",
    ")"
   ]
  },
  {
   "cell_type": "markdown",
   "metadata": {},
   "source": [
    "### Show Value\n",
    "\n",
    "You may remove the value label by setting `show_value=False`."
   ]
  },
  {
   "cell_type": "code",
   "execution_count": null,
   "metadata": {},
   "outputs": [],
   "source": [
    "pmui.DateRangeSlider(\n",
    "    start=dt.datetime(2017, 1, 1), end=dt.datetime(2019, 1, 1),\n",
    "    value=(dt.datetime(2017, 1, 1), dt.datetime(2018, 1, 10)),\n",
    "    show_value=False, label='DateRangeSlider'\n",
    ")"
   ]
  },
  {
   "cell_type": "markdown",
   "metadata": {},
   "source": [
    "### Disabled\n",
    "\n",
    "The widget can be disabled with `disabled=True`."
   ]
  },
  {
   "cell_type": "code",
   "execution_count": null,
   "metadata": {},
   "outputs": [],
   "source": [
    "pmui.DateRangeSlider(\n",
    "    label='Date Range Slider (disabled)', disabled=True,\n",
    "    start=dt.datetime(2017, 1, 1), end=dt.datetime(2019, 1, 1),\n",
    "    value=(dt.datetime(2017, 1, 1), dt.datetime(2018, 1, 10))\n",
    ")"
   ]
  },
  {
   "cell_type": "markdown",
   "metadata": {},
   "source": [
    "### Color\n",
    "\n",
    "You can specify a `color`."
   ]
  },
  {
   "cell_type": "code",
   "execution_count": null,
   "metadata": {},
   "outputs": [],
   "source": [
    "pmui.FlexBox(*(\n",
    "    pmui.DateRangeSlider(\n",
    "        label=f'Date Range Slider ({color})', color=color,\n",
    "        start=dt.datetime(2017, 1, 1), end=dt.datetime(2019, 1, 1),\n",
    "        value=(dt.datetime(2017, 1, 1), dt.datetime(2018, 1, 10)),\n",
    "    )\n",
    "    for color in pmui.DateRangeSlider.param.color.objects\n",
    "))"
   ]
  },
  {
   "cell_type": "markdown",
   "metadata": {},
   "source": [
    "### Sizes\n",
    "\n",
    "For smaller slider, use the parameter `size=\"small\"`."
   ]
  },
  {
   "cell_type": "code",
   "execution_count": null,
   "metadata": {},
   "outputs": [],
   "source": [
    "pmui.Row(\n",
    "    pmui.DateRangeSlider(\n",
    "        label='Date Range Slider', size=\"small\",\n",
    "        start=dt.datetime(2017, 1, 1), end=dt.datetime(2019, 1, 1),\n",
    "        value=(dt.datetime(2017, 1, 1), dt.datetime(2018, 1, 10))\n",
    "    ),\n",
    "    pmui.DateRangeSlider(\n",
    "        label='Date Range Slider', size=\"medium\",\n",
    "        start=dt.datetime(2017, 1, 1), end=dt.datetime(2019, 1, 1),\n",
    "        value=(dt.datetime(2017, 1, 1), dt.datetime(2018, 1, 10))\n",
    "    ),\n",
    ")"
   ]
  },
  {
   "cell_type": "markdown",
   "metadata": {},
   "source": [
    "### Custom Marks\n",
    "\n",
    "You can have custom marks by providing a rich list to the `marks` parameter. Note that unlike continuous sliders the `value` of the marks should be the integer index of the option."
   ]
  },
  {
   "cell_type": "code",
   "execution_count": null,
   "metadata": {},
   "outputs": [],
   "source": [
    "marks = [\n",
    "  {\n",
    "    \"value\": dt.datetime(2017, 1, 1),\n",
    "    \"label\": \"01/01\",\n",
    "  },\n",
    "  {\n",
    "    \"value\": dt.datetime(2017, 3, 1),\n",
    "    \"label\": \"03/01\",\n",
    "  },\n",
    "  {\n",
    "    \"value\": dt.datetime(2017, 5, 1),\n",
    "    \"label\": \"05/01\",\n",
    "  },\n",
    "  {\n",
    "    \"value\": dt.datetime(2017, 12, 1),\n",
    "    \"label\": \"12/01\",\n",
    "  }  \n",
    "]\n",
    "\n",
    "pmui.DateRangeSlider(\n",
    "    marks=marks, start=dt.datetime(2017, 1, 1), end=dt.datetime(2018, 1, 1),\n",
    "    value=(dt.datetime(2017, 1, 1), dt.datetime(2018, 1, 10))\n",
    ")"
   ]
  },
  {
   "cell_type": "markdown",
   "metadata": {},
   "source": [
    "### Tooltip always visible\n",
    "\n",
    "You can force the thumb label to be always visible with `tooltips=True`."
   ]
  },
  {
   "cell_type": "code",
   "execution_count": null,
   "metadata": {},
   "outputs": [],
   "source": [
    "pmui.DateRangeSlider(\n",
    "    label='Date', tooltips=True,\n",
    "    start=dt.datetime(2017, 1, 1), end=dt.datetime(2019, 1, 1),\n",
    "    value=(dt.datetime(2017, 1, 1), dt.datetime(2018, 1, 10)),\n",
    ")"
   ]
  },
  {
   "cell_type": "markdown",
   "metadata": {},
   "source": [
    "### Tracks\n",
    "\n",
    "The *track* can be inverted or removed with `track=\"inverted\"` and `track=False` respectively:"
   ]
  },
  {
   "cell_type": "code",
   "execution_count": null,
   "metadata": {},
   "outputs": [],
   "source": [
    "pmui.Row(\n",
    "    pmui.DateRangeSlider(\n",
    "        label='Date Range Slider', track=False,\n",
    "        start=dt.datetime(2017, 1, 1), end=dt.datetime(2019, 1, 1),\n",
    "        value=(dt.datetime(2017, 1, 1), dt.datetime(2018, 1, 10)),\n",
    "    ),\n",
    "    pmui.DateRangeSlider(\n",
    "        label='Date Range Slider', track=\"inverted\",\n",
    "        start=dt.datetime(2017, 1, 1), end=dt.datetime(2019, 1, 1),\n",
    "        value=(dt.datetime(2017, 1, 1), dt.datetime(2018, 1, 10)),\n",
    "    )\n",
    ")"
   ]
  },
  {
   "cell_type": "markdown",
   "metadata": {},
   "source": [
    "### Vertical Sliders\n",
    "\n",
    "The `orientation` of a slider may be \"vertical\":"
   ]
  },
  {
   "cell_type": "code",
   "execution_count": null,
   "metadata": {},
   "outputs": [],
   "source": [
    "pmui.DateRangeSlider(\n",
    "    label='Date Range Slider', orientation=\"vertical\",\n",
    "    start=dt.datetime(2017, 1, 1), end=dt.datetime(2019, 1, 1),\n",
    "    value=(dt.datetime(2017, 1, 1), dt.datetime(2018, 1, 10))\n",
    ")"
   ]
  },
  {
   "cell_type": "markdown",
   "metadata": {},
   "source": [
    "### Controls\n",
    "\n",
    "The `DateRangeSlider` widget exposes a number of options which can be changed from both Python and Javascript. Try out the effect of these parameters interactively:"
   ]
  },
  {
   "cell_type": "code",
   "execution_count": null,
   "metadata": {},
   "outputs": [],
   "source": [
    "pmui.Row(date_range_slider.api(jslink=True), date_range_slider)"
   ]
  },
  {
   "cell_type": "markdown",
   "metadata": {},
   "source": [
    "### References\n",
    "\n",
    "Discover more on using widgets to add interactivity to your applications in the [how-to guides on interactivity](https://panel.holoviz.org/how_to/interactivity/index.html).\n",
    "\n",
    "Learn [how to set up callbacks and (JS-)links between parameters](https://panel.holoviz.org/how_to/links/index.html) or [how to use them as part of declarative UIs with Param](https://panel.holoviz.org/how_to/param/index.html).\n",
    "\n",
    "See also the Material UI `DateRangeSlider` [Reference](https://mui.com/material-ui/react-slider/) and [API](https://mui.com/material-ui/api/slider/) documentation for inspiration."
   ]
  }
 ],
 "metadata": {
  "kernelspec": {
   "display_name": "Python 3 (ipykernel)",
   "language": "python",
   "name": "python3"
  },
  "language_info": {
   "codemirror_mode": {
    "name": "ipython",
    "version": 3
   },
   "file_extension": ".py",
   "mimetype": "text/x-python",
   "name": "python",
   "nbconvert_exporter": "python",
   "pygments_lexer": "ipython3",
   "version": "3.12.2"
  }
 },
 "nbformat": 4,
 "nbformat_minor": 4
}
