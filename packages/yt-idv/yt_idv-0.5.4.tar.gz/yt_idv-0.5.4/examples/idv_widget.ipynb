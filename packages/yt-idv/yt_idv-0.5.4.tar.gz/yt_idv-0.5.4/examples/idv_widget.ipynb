{
 "cells": [
  {
   "cell_type": "code",
   "execution_count": 1,
   "metadata": {},
   "outputs": [],
   "source": [
    "import yt\n",
    "\n",
    "import yt_idv"
   ]
  },
  {
   "cell_type": "code",
   "execution_count": 2,
   "metadata": {},
   "outputs": [
    {
     "name": "stderr",
     "output_type": "stream",
     "text": [
      "yt : [INFO     ] 2020-11-09 14:57:46,442 Files located at /home/mjturk/data/testing-data/IsolatedGalaxy.tar.gz.untar/IsolatedGalaxy/galaxy0030/galaxy0030\n",
      "yt : [INFO     ] 2020-11-09 14:57:46,443 Default to loading galaxy0030/galaxy0030 for IsolatedGalaxy dataset\n",
      "yt : [INFO     ] 2020-11-09 14:57:46,495 Parameters: current_time              = 0.0060000200028298\n",
      "yt : [INFO     ] 2020-11-09 14:57:46,496 Parameters: domain_dimensions         = [32 32 32]\n",
      "yt : [INFO     ] 2020-11-09 14:57:46,496 Parameters: domain_left_edge          = [0. 0. 0.]\n",
      "yt : [INFO     ] 2020-11-09 14:57:46,496 Parameters: domain_right_edge         = [1. 1. 1.]\n",
      "yt : [INFO     ] 2020-11-09 14:57:46,497 Parameters: cosmological_simulation   = 0.0\n",
      "Parsing Hierarchy : 100%|██████████| 173/173 [00:00<00:00, 15104.70it/s]\n",
      "yt : [INFO     ] 2020-11-09 14:57:46,519 Gathering a field list (this may take a moment.)\n"
     ]
    }
   ],
   "source": [
    "ds = yt.load_sample(\"IsolatedGalaxy\")\n",
    "dd = ds.all_data()"
   ]
  },
  {
   "cell_type": "code",
   "execution_count": 3,
   "metadata": {},
   "outputs": [
    {
     "name": "stderr",
     "output_type": "stream",
     "text": [
      "/home/mjturk/conda-py3/envs/py38/lib/python3.8/_collections_abc.py:666: MatplotlibDeprecationWarning: The global colormaps dictionary is no longer considered public API.\n",
      "  self[key]\n"
     ]
    },
    {
     "data": {
      "application/vnd.jupyter.widget-view+json": {
       "model_id": "bc76911a28d346a28fd020924801d224",
       "version_major": 2,
       "version_minor": 0
      },
      "text/plain": [
       "Image(value=b'\\x89PNG\\r\\n\\x1a\\n\\x00\\x00\\x00\\rIHDR\\x00\\x00\\x01\\x90\\x00\\x00\\x01\\x90\\x08\\x06\\x00\\x00\\x00\\x80\\xbf6…"
      ]
     },
     "metadata": {},
     "output_type": "display_data"
    }
   ],
   "source": [
    "rc = yt_idv.render_context(\"egl\", width=400, height=400)\n",
    "rc.add_scene(dd, \"density\", no_ghost=True)\n",
    "rc.run()\n",
    "rc.add_image()"
   ]
  }
 ],
 "metadata": {
  "kernelspec": {
   "display_name": "py38",
   "language": "python",
   "name": "py38"
  },
  "language_info": {
   "codemirror_mode": {
    "name": "ipython",
    "version": 3
   },
   "file_extension": ".py",
   "mimetype": "text/x-python",
   "name": "python",
   "nbconvert_exporter": "python",
   "pygments_lexer": "ipython3",
   "version": "3.8.6"
  }
 },
 "nbformat": 4,
 "nbformat_minor": 4
}
