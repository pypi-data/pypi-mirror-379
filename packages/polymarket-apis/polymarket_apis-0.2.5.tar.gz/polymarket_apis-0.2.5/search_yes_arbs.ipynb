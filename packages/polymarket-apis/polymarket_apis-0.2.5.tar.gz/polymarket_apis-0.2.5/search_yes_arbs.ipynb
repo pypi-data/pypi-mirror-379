{
 "cells": [
  {
   "cell_type": "code",
   "execution_count": 2,
   "id": "initial_id",
   "metadata": {
    "ExecuteTime": {
     "end_time": "2025-09-18T12:36:09.436492Z",
     "start_time": "2025-09-18T12:36:09.432138Z"
    },
    "collapsed": true
   },
   "outputs": [],
   "source": [
    "import os\n",
    "from math import ceil\n",
    "from dotenv import load_dotenv\n",
    "\n",
    "load_dotenv(\"keys.env\")\n",
    "import polars as pl\n",
    "\n",
    "from polymarket_apis.clients.clob_client import PolymarketClobClient\n",
    "from polymarket_apis.types.gamma_types import Event\n",
    "# from poly_trader.helpers import get_all_order_books_async, get_tops_by_event, simplify_event"
   ]
  },
  {
   "cell_type": "code",
   "execution_count": 3,
   "id": "2c2a4f3ce954d564",
   "metadata": {
    "ExecuteTime": {
     "end_time": "2025-09-18T12:36:10.495971Z",
     "start_time": "2025-09-18T12:36:10.059051Z"
    }
   },
   "outputs": [],
   "source": [
    "clob = PolymarketClobClient(private_key=os.getenv(\"PRIVATE_KEY\"), proxy_address=os.getenv(\"PROXY_ADDRESS\"))"
   ]
  },
  {
   "cell_type": "code",
   "execution_count": 4,
   "id": "d6eab59b35f77c4b",
   "metadata": {
    "ExecuteTime": {
     "end_time": "2025-09-18T12:38:22.775428Z",
     "start_time": "2025-09-18T12:37:19.831041Z"
    }
   },
   "outputs": [
    {
     "ename": "AttributeError",
     "evalue": "'datetime.datetime' object has no attribute 'endswith'",
     "output_type": "error",
     "traceback": [
      "\u001b[31m---------------------------------------------------------------------------\u001b[39m",
      "\u001b[31mAttributeError\u001b[39m                            Traceback (most recent call last)",
      "\u001b[36mCell\u001b[39m\u001b[36m \u001b[39m\u001b[32mIn[4]\u001b[39m\u001b[32m, line 3\u001b[39m\n\u001b[32m      1\u001b[39m neg_risk_events_df = pl.read_parquet(\u001b[33m\"\u001b[39m\u001b[33mdata/neg_risk_events.parquet\u001b[39m\u001b[33m\"\u001b[39m)\n\u001b[32m      2\u001b[39m events_df = neg_risk_events_df.filter(pl.col(\u001b[33m\"\u001b[39m\u001b[33mnegRiskAugmented\u001b[39m\u001b[33m\"\u001b[39m) == \u001b[38;5;28;01mFalse\u001b[39;00m)\n\u001b[32m----> \u001b[39m\u001b[32m3\u001b[39m events = [\u001b[43mEvent\u001b[49m\u001b[43m(\u001b[49m\u001b[43m*\u001b[49m\u001b[43m*\u001b[49m\u001b[43mevent\u001b[49m\u001b[43m)\u001b[49m \u001b[38;5;28;01mfor\u001b[39;00m event \u001b[38;5;129;01min\u001b[39;00m events_df.to_dicts()]\n",
      "    \u001b[31m[... skipping hidden 1 frame]\u001b[39m\n",
      "\u001b[36mFile \u001b[39m\u001b[32m~/gemini-cli/polymarket-apis/src/polymarket_apis/types/common.py:16\u001b[39m, in \u001b[36mparse_timestamp\u001b[39m\u001b[34m(v)\u001b[39m\n\u001b[32m     14\u001b[39m \u001b[38;5;28;01mdef\u001b[39;00m\u001b[38;5;250m \u001b[39m\u001b[34mparse_timestamp\u001b[39m(v: \u001b[38;5;28mstr\u001b[39m) -> datetime:\n\u001b[32m     15\u001b[39m     \u001b[38;5;66;03m# Normalize '+00' to '+0000' for timezone\u001b[39;00m\n\u001b[32m---> \u001b[39m\u001b[32m16\u001b[39m     \u001b[38;5;28;01mif\u001b[39;00m \u001b[43mv\u001b[49m\u001b[43m.\u001b[49m\u001b[43mendswith\u001b[49m(\u001b[33m\"\u001b[39m\u001b[33m+00\u001b[39m\u001b[33m\"\u001b[39m):\n\u001b[32m     17\u001b[39m         v = v[:-\u001b[32m3\u001b[39m] + \u001b[33m\"\u001b[39m\u001b[33m+0000\u001b[39m\u001b[33m\"\u001b[39m\n\u001b[32m     19\u001b[39m     \u001b[38;5;66;03m# Pad fractional seconds to 6 digits if present\u001b[39;00m\n",
      "\u001b[31mAttributeError\u001b[39m: 'datetime.datetime' object has no attribute 'endswith'"
     ]
    }
   ],
   "source": [
    "neg_risk_events_df = pl.read_parquet(\"data/neg_risk_events.parquet\")\n",
    "events_df = neg_risk_events_df.filter(pl.col(\"negRiskAugmented\") == False)\n",
    "events = [Event(**event) for event in events_df.to_dicts()]"
   ]
  },
  {
   "cell_type": "code",
   "execution_count": 5,
   "id": "ab98a4c3e16930e8",
   "metadata": {
    "ExecuteTime": {
     "end_time": "2025-09-18T12:38:58.446680Z",
     "start_time": "2025-09-18T12:38:35.097433Z"
    }
   },
   "outputs": [
    {
     "ename": "AttributeError",
     "evalue": "'datetime.datetime' object has no attribute 'endswith'",
     "output_type": "error",
     "traceback": [
      "\u001b[31m---------------------------------------------------------------------------\u001b[39m",
      "\u001b[31mAttributeError\u001b[39m                            Traceback (most recent call last)",
      "\u001b[36mCell\u001b[39m\u001b[36m \u001b[39m\u001b[32mIn[5]\u001b[39m\u001b[32m, line 1\u001b[39m\n\u001b[32m----> \u001b[39m\u001b[32m1\u001b[39m a = \u001b[43mEvent\u001b[49m\u001b[43m(\u001b[49m\u001b[43m*\u001b[49m\u001b[43m*\u001b[49m\u001b[43mneg_risk_events_df\u001b[49m\u001b[43m.\u001b[49m\u001b[43mto_dicts\u001b[49m\u001b[43m(\u001b[49m\u001b[43m)\u001b[49m\u001b[43m[\u001b[49m\u001b[32;43m0\u001b[39;49m\u001b[43m]\u001b[49m\u001b[43m)\u001b[49m\n",
      "    \u001b[31m[... skipping hidden 1 frame]\u001b[39m\n",
      "\u001b[36mFile \u001b[39m\u001b[32m~/gemini-cli/polymarket-apis/src/polymarket_apis/types/common.py:16\u001b[39m, in \u001b[36mparse_timestamp\u001b[39m\u001b[34m(v)\u001b[39m\n\u001b[32m     14\u001b[39m \u001b[38;5;28;01mdef\u001b[39;00m\u001b[38;5;250m \u001b[39m\u001b[34mparse_timestamp\u001b[39m(v: \u001b[38;5;28mstr\u001b[39m) -> datetime:\n\u001b[32m     15\u001b[39m     \u001b[38;5;66;03m# Normalize '+00' to '+0000' for timezone\u001b[39;00m\n\u001b[32m---> \u001b[39m\u001b[32m16\u001b[39m     \u001b[38;5;28;01mif\u001b[39;00m \u001b[43mv\u001b[49m\u001b[43m.\u001b[49m\u001b[43mendswith\u001b[49m(\u001b[33m\"\u001b[39m\u001b[33m+00\u001b[39m\u001b[33m\"\u001b[39m):\n\u001b[32m     17\u001b[39m         v = v[:-\u001b[32m3\u001b[39m] + \u001b[33m\"\u001b[39m\u001b[33m+0000\u001b[39m\u001b[33m\"\u001b[39m\n\u001b[32m     19\u001b[39m     \u001b[38;5;66;03m# Pad fractional seconds to 6 digits if present\u001b[39;00m\n",
      "\u001b[31mAttributeError\u001b[39m: 'datetime.datetime' object has no attribute 'endswith'"
     ]
    }
   ],
   "source": [
    "a = Event(**neg_risk_events_df.to_dicts()[0])"
   ]
  },
  {
   "cell_type": "code",
   "execution_count": 25,
   "id": "471bbcf1cfab6a9b",
   "metadata": {
    "ExecuteTime": {
     "end_time": "2025-09-18T12:12:12.403820Z",
     "start_time": "2025-09-12T10:13:08.564846Z"
    }
   },
   "outputs": [],
   "source": [
    "simple_events = [simplify_event(event) for event in events]\n",
    "yes_tokens = [market.token_ids[0] for event in simple_events for market in event.markets]\n",
    "no_tokens = [market.token_ids[1] for event in simple_events for market in event.markets]\n",
    "yes_books = await get_all_order_books_async(clob=clob, token_ids=yes_tokens, batch_size=ceil(len(yes_tokens) / 3))\n",
    "yes_books_dict = {book.token_id: book for book in yes_books}\n",
    "tops_by_event = get_tops_by_event(simple_events, yes_books_dict)"
   ]
  },
  {
   "cell_type": "code",
   "execution_count": 26,
   "id": "42dffd7e1e89bf58",
   "metadata": {
    "ExecuteTime": {
     "end_time": "2025-09-18T12:12:12.404305Z",
     "start_time": "2025-09-12T10:13:08.861795Z"
    }
   },
   "outputs": [
    {
     "name": "stdout",
     "output_type": "stream",
     "text": [
      "[0.964, 6.36, 0.988, 7.39, 'will-bitcoin-activate-op-ctv-or-op-cat-in-2025']\n"
     ]
    }
   ],
   "source": [
    "    # Calculate sums and find smallest sizes for each event\n",
    "result_list = []\n",
    "for event_slug, event_data in tops_by_event.items():\n",
    "    sum_bids = round(sum(market['top']['bid']['price'] for market in event_data['tops']),3)\n",
    "    sum_asks = round(sum(market['top']['ask']['price'] for market in event_data['tops']),3)\n",
    "\n",
    "    if 0.1 < sum_asks < 1:\n",
    "        bid_sizes = [market['top']['bid']['size'] for market in event_data['tops']]\n",
    "        ask_sizes = [market['top']['ask']['size'] for market in event_data['tops']]\n",
    "\n",
    "        smallest_bid_size = min(bid_sizes) if bid_sizes else 0\n",
    "        smallest_ask_size = min(ask_sizes) if ask_sizes else 0\n",
    "\n",
    "        result_list.append([\n",
    "            sum_bids,\n",
    "            smallest_bid_size,\n",
    "            sum_asks,\n",
    "            smallest_ask_size,\n",
    "            event_slug,\n",
    "        ])\n",
    "\n",
    "for result in result_list:\n",
    "    print(result)"
   ]
  },
  {
   "cell_type": "code",
   "execution_count": 27,
   "id": "6c81ad4b709e1ffd",
   "metadata": {
    "ExecuteTime": {
     "end_time": "2025-09-18T12:12:12.404496Z",
     "start_time": "2025-09-12T10:13:08.910819Z"
    }
   },
   "outputs": [],
   "source": [
    "slugs = [item[4] for item in result_list]\n",
    "yes_arbs_list_df = neg_risk_events_df.filter(pl.col(\"slug\").is_in(slugs))\n",
    "yes_arbs_list_df.write_parquet(\"data/yes_arbs_list.parquet\")"
   ]
  },
  {
   "cell_type": "code",
   "execution_count": 28,
   "id": "fc982f729136ee61",
   "metadata": {
    "ExecuteTime": {
     "end_time": "2025-09-18T12:12:12.404747Z",
     "start_time": "2025-09-12T10:13:09.008007Z"
    }
   },
   "outputs": [],
   "source": [
    "# token_id_to_find = \"6427519506286419532134012763551211259629796084507143468688888941057296525505\"\n",
    "#\n",
    "# matching_event = next(\n",
    "#     (event for event in simple_events if any(market.token_ids and market.token_ids[0] == token_id_to_find for market in event.markets)),\n",
    "#     None\n",
    "# )\n",
    "#\n",
    "# if matching_event:\n",
    "#     print(f\"Found event: {matching_event}\")\n",
    "# else:\n",
    "#     print(\"No matching event found.\")"
   ]
  },
  {
   "cell_type": "code",
   "execution_count": null,
   "id": "f3e5ad63c37247dd",
   "metadata": {
    "ExecuteTime": {
     "end_time": "2025-09-18T12:12:12.422263Z",
     "start_time": "2025-09-12T10:13:09.057752Z"
    }
   },
   "outputs": [],
   "source": []
  },
  {
   "cell_type": "code",
   "execution_count": null,
   "id": "5d914bc044ec2956",
   "metadata": {
    "ExecuteTime": {
     "end_time": "2025-09-18T12:12:12.422872Z",
     "start_time": "2025-09-12T10:13:09.108236Z"
    }
   },
   "outputs": [],
   "source": []
  },
  {
   "cell_type": "code",
   "execution_count": null,
   "id": "31df401d65512254",
   "metadata": {
    "ExecuteTime": {
     "end_time": "2025-09-18T12:12:12.423339Z",
     "start_time": "2025-09-12T10:13:09.112406Z"
    }
   },
   "outputs": [],
   "source": []
  }
 ],
 "metadata": {
  "kernelspec": {
   "display_name": ".venv",
   "language": "python",
   "name": "python3"
  },
  "language_info": {
   "codemirror_mode": {
    "name": "ipython",
    "version": 3
   },
   "file_extension": ".py",
   "mimetype": "text/x-python",
   "name": "python",
   "nbconvert_exporter": "python",
   "pygments_lexer": "ipython3",
   "version": "3.12.8"
  }
 },
 "nbformat": 4,
 "nbformat_minor": 5
}
