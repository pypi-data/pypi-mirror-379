{
 "cells": [
  {
   "cell_type": "code",
   "execution_count": 1,
   "id": "78ca0a55bfd077a",
   "metadata": {
    "ExecuteTime": {
     "end_time": "2025-07-09T13:34:31.899132Z",
     "start_time": "2025-07-09T13:34:31.008131Z"
    }
   },
   "outputs": [],
   "source": [
    "from polymarket_apis.clients.web3_client import PolymarketWeb3Client\n",
    "\n",
    "web3 = PolymarketWeb3Client(private_key=\"0x8b19ac470e550aa10b5895688a307c5f41cdbf63d38222ab38958d377d2476d6\")"
   ]
  },
  {
   "cell_type": "code",
   "execution_count": 8,
   "id": "4046329b71e7364b",
   "metadata": {
    "ExecuteTime": {
     "end_time": "2025-07-09T13:35:43.971548Z",
     "start_time": "2025-07-09T13:35:43.969194Z"
    }
   },
   "outputs": [
    {
     "data": {
      "text/plain": [
       "'0x0ac159599F979AF1F5A5Af328dBded9a2d5b516d'"
      ]
     },
     "execution_count": 8,
     "metadata": {},
     "output_type": "execute_result"
    }
   ],
   "source": [
    "web3.account.address"
   ]
  },
  {
   "cell_type": "code",
   "execution_count": 9,
   "id": "cdd599dd015eeb8e",
   "metadata": {
    "ExecuteTime": {
     "end_time": "2025-07-09T13:36:51.608496Z",
     "start_time": "2025-07-09T13:36:51.329293Z"
    }
   },
   "outputs": [
    {
     "data": {
      "text/plain": [
       "'0xAdc9Ad2490520BFBAd377a0BEf277e1543F0D5CD'"
      ]
     },
     "execution_count": 9,
     "metadata": {},
     "output_type": "execute_result"
    }
   ],
   "source": [
    "web3.exchange.functions.getPolyProxyWalletAddress(\"0x0ac159599F979AF1F5A5Af328dBded9a2d5b516d\").call()"
   ]
  },
  {
   "cell_type": "code",
   "execution_count": null,
   "id": "53e0912b17ed4825",
   "metadata": {},
   "outputs": [],
   "source": []
  }
 ],
 "metadata": {
  "kernelspec": {
   "display_name": "Python 3",
   "language": "python",
   "name": "python3"
  },
  "language_info": {
   "codemirror_mode": {
    "name": "ipython",
    "version": 2
   },
   "file_extension": ".py",
   "mimetype": "text/x-python",
   "name": "python",
   "nbconvert_exporter": "python",
   "pygments_lexer": "ipython2",
   "version": "2.7.6"
  }
 },
 "nbformat": 4,
 "nbformat_minor": 5
}
